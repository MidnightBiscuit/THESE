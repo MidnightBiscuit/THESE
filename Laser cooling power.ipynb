{
 "cells": [
  {
   "cell_type": "code",
   "execution_count": 1,
   "id": "df62cfff",
   "metadata": {},
   "outputs": [
    {
     "name": "stdout",
     "output_type": "stream",
     "text": [
      "Using matplotlib backend: TkAgg\n",
      "Populating the interactive namespace from numpy and matplotlib\n"
     ]
    }
   ],
   "source": [
    "%pylab"
   ]
  },
  {
   "cell_type": "code",
   "execution_count": 2,
   "id": "4ac79ffe",
   "metadata": {},
   "outputs": [],
   "source": [
    "# Constantes de la physique\n",
    "# ABSOLUMENT RECHARGER APRÈS AVOIR EXECUTÉ LES CASES D'IMPORT AU DESSUS\n",
    "\n",
    "C_e = 1.602e-19        # Coulomb\n",
    "kb = 1.38064852*1e-23  # Boltzman\n",
    "m_Ca = 40.078*1.66054e-27 # masse Ca 40.078\n",
    "m_GM = 1e6*1.66054e-27 # la masse de la GMol\n",
    "eps0 = 8.854187*1e-12  # permittivité électrique du vide\n",
    "\n",
    "c_light = 299792458\n",
    "h_pl = 6.62607015*1e-34\n",
    "h_pl_bar = h_pl/2/pi\n",
    "lam_397 = 396.84620*1e-9\n",
    "k=(2*pi)/lam_397\n",
    "gamma_SP = 21.57*1e6\n",
    "tau = 1/gamma_SP\n",
    "\n",
    "Omega = 2.0e6*2*pi\n",
    "tau_RF = 1/(Omega/(2*pi))"
   ]
  },
  {
   "cell_type": "code",
   "execution_count": 3,
   "id": "602fca9f",
   "metadata": {},
   "outputs": [
    {
     "data": {
      "text/plain": [
       "5e-07"
      ]
     },
     "execution_count": 3,
     "metadata": {},
     "output_type": "execute_result"
    }
   ],
   "source": [
    "tau_RF"
   ]
  },
  {
   "cell_type": "code",
   "execution_count": 6,
   "id": "ed6aea7c",
   "metadata": {},
   "outputs": [],
   "source": [
    "Temp = linspace(0,1000,10000)\n",
    "dT_dt = -1/tau*sqrt(m_Ca*Temp/kb)*h_pl_bar*k/m_Ca\n",
    "figure('dT_dt',clear='True')\n",
    "plot(Temp,dT_dt*tau_RF)\n",
    "ylabel('T [K]')\n",
    "ylabel('G [K/period]')\n",
    "tight_layout()"
   ]
  }
 ],
 "metadata": {
  "kernelspec": {
   "display_name": "Python 3 (ipykernel)",
   "language": "python",
   "name": "python3"
  },
  "language_info": {
   "codemirror_mode": {
    "name": "ipython",
    "version": 3
   },
   "file_extension": ".py",
   "mimetype": "text/x-python",
   "name": "python",
   "nbconvert_exporter": "python",
   "pygments_lexer": "ipython3",
   "version": "3.10.4"
  }
 },
 "nbformat": 4,
 "nbformat_minor": 5
}
