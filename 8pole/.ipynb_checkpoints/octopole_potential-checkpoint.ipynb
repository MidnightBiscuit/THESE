{
 "cells": [
  {
   "cell_type": "markdown",
   "metadata": {},
   "source": [
    "@author: Adrien"
   ]
  },
  {
   "cell_type": "code",
   "execution_count": 2,
   "metadata": {},
   "outputs": [
    {
     "name": "stdout",
     "output_type": "stream",
     "text": [
      "2022-04-20T15:23:15+02:00\n",
      "\n",
      "CPython 3.6.7\n",
      "IPython 6.4.0\n",
      "\n",
      "compiler   : GCC 7.3.0\n",
      "system     : Linux\n",
      "release    : 4.15.0-175-generic\n",
      "machine    : x86_64\n",
      "processor  : x86_64\n",
      "CPU cores  : 8\n",
      "interpreter: 64bit\n"
     ]
    }
   ],
   "source": [
    "%load_ext watermark\n",
    "%watermark"
   ]
  },
  {
   "cell_type": "markdown",
   "metadata": {},
   "source": [
    "# Imports"
   ]
  },
  {
   "cell_type": "code",
   "execution_count": 3,
   "metadata": {},
   "outputs": [],
   "source": [
    "import numpy\n",
    "import matplotlib\n",
    "from matplotlib import pylab, mlab, pyplot\n",
    "from mpl_toolkits.mplot3d import Axes3D\n",
    "np = numpy\n",
    "plt = pyplot\n",
    "\n",
    "from pylab import *\n",
    "from numpy import *"
   ]
  },
  {
   "cell_type": "code",
   "execution_count": 4,
   "metadata": {},
   "outputs": [],
   "source": [
    "%matplotlib qt\n",
    "matplotlib.rcParams['figure.figsize'] = [10.5,7]\n",
    "matplotlib.rcParams.update({'font.size': 25})"
   ]
  },
  {
   "cell_type": "code",
   "execution_count": 48,
   "metadata": {},
   "outputs": [],
   "source": [
    "%run /home/adrian/Documents/Programmes/Python/GiantMol/Functions/turbo_colormap.py"
   ]
  },
  {
   "cell_type": "code",
   "execution_count": 186,
   "metadata": {},
   "outputs": [],
   "source": [
    "# Constantes de la physique\n",
    "# ABSOLUMENT RECHARGER APRÈS AVOIR EXECUTÉ LES CASES D'IMPORT AU DESSUS\n",
    "\n",
    "C_e = 1.602e-19        # Coulomb\n",
    "kb = 1.38064852*1e-23  # Boltzman\n",
    "eps0 = 8.854187*1e-12  # permittivité électrique du vide\n",
    "hbar = 1.0545718e-34\n",
    "c = 299792458\n",
    "\n",
    "r0 = 6e-3\n",
    "r = linspace(-r0,r0,1000)\n",
    "k_pole = 4"
   ]
  },
  {
   "cell_type": "code",
   "execution_count": 201,
   "metadata": {},
   "outputs": [],
   "source": [
    "def octo_pseudopot_rad(r,k,factor,r0,Vrf):\n",
    "    return (k**2)/4*factor*(r/r0)**(2*k-2)*Vrf**2 # Marylise p13 eq 1.42"
   ]
  },
  {
   "cell_type": "code",
   "execution_count": 214,
   "metadata": {},
   "outputs": [],
   "source": [
    "m_GM = 1e6*1.66054e-27 # la masse de la GMol\n",
    "\n",
    "factor = C_e**2/(m_GM*r0**2*Omega**2)\n",
    "\n",
    "Omega = 2*pi*1e4\n",
    "Vrf = 10\n",
    "V4rad = octo_pseudopot_rad(r,4,factor,r0,Vrf)"
   ]
  },
  {
   "cell_type": "code",
   "execution_count": 215,
   "metadata": {},
   "outputs": [],
   "source": [
    "# Plot the pseudopot\n",
    "\n",
    "fig = plt.figure('Pseudopot',clear='True')\n",
    "ax = fig.add_subplot(111)\n",
    "ax.plot(r*1e3, V4rad/C_e, '-',color='xkcd:red')\n",
    "# ax.plot((nu/k)**2*m_Ca/2/kb, pfl3, '-',color='xkcd:black',label=r'$\\delta = \\Gamma$')\n",
    "\n",
    "ax.hlines(1.5*kb*373.15/C_e,-r0*1e3,r0*1e3,\n",
    "          color='k',linestyle=':',lw = 3, \n",
    "         label='373.15 K')\n",
    "\n",
    "ax.set_xlabel(r'r [mm]')\n",
    "ax.set_ylabel(r'$V_4$ [eV]')\n",
    "# ax.set_xlim(-0.05,1.55)\n",
    "# ax.set_ylim(-0.05,0.55)\n",
    "ax.grid()\n",
    "ax.legend(fontsize=12)\n",
    "plt.tight_layout()"
   ]
  },
  {
   "cell_type": "markdown",
   "metadata": {},
   "source": [
    "# Study the mass"
   ]
  },
  {
   "cell_type": "code",
   "execution_count": 249,
   "metadata": {},
   "outputs": [],
   "source": [
    "cm = pylab.get_cmap('turbo')   # colormap par défaut color=cm(k/len(array))\n",
    "\n",
    "Omega = 2*pi*2e3\n",
    "Vrf = 350/2\n",
    "m_GM = [1e2,1e3,1e4,1e5,1e6,1e7,1e8,1e9,1e10] #Da\n",
    "\n",
    "V4rad = []\n",
    "\n",
    "for k,l in enumerate(m_GM):\n",
    "    factor = C_e**2/(l*1.66054e-27*r0**2*Omega**2)\n",
    "    V4rad.append(octo_pseudopot_rad(r,4,factor,r0,Vrf)) # r,k,factor,r0,Vrf\n",
    "\n",
    "# Plot the pseudopot\n",
    "fig = plt.figure('Pseudopot all masses',clear='True')\n",
    "ax = fig.add_subplot(111)\n",
    "for k,l in enumerate(V4rad):\n",
    "    ax.plot(r*1e3, l/C_e,\n",
    "            '-',color=cm(k/len(m_GM)),\n",
    "           label=f'{m_GM[k]:.0e}')\n",
    "\n",
    "ax.hlines(1.5*kb*373.15/C_e,-r0*1e3,r0*1e3,\n",
    "          color='k',linestyle=':',lw = 3) # ,label='373.15 K'\n",
    "\n",
    "ax.text(0, 1.5*kb*373.15/C_e*1.15, '373.15 K', ha='center',fontsize=12)\n",
    "ax.text(0.95, 0.9, f'$V_0 = ${Vrf} V\\n$f_{{RF}} = ${Omega/2/pi/1000:03.0f} kHz',\n",
    "        ha='left',fontsize=12,\n",
    "        bbox=dict(boxstyle='round', fc='w'))\n",
    "\n",
    "ax.set_xlabel(r'r [mm]')\n",
    "ax.set_ylabel(r'$\\Psi_{k=4}^\\star$ [eV]')\n",
    "ax.set_xlim(-0.5,6.2)\n",
    "ax.set_ylim(-0.05,1)\n",
    "ax.grid()\n",
    "ax.legend(title='M [Da]',fontsize=12,loc=2)\n",
    "plt.tight_layout()"
   ]
  },
  {
   "cell_type": "code",
   "execution_count": 226,
   "metadata": {},
   "outputs": [],
   "source": [
    "cm = pylab.get_cmap('turbo')   # colormap par défaut color=cm(k/len(array))\n",
    "\n",
    "Omega = 2*pi*1e4\n",
    "Vrf = 100\n",
    "m_GM = [1e2,1e3,1e4,1e5,1e6,1e7,1e8] #Da\n",
    "\n",
    "V4rad = []\n",
    "\n",
    "for k,l in enumerate(m_GM):\n",
    "    factor = C_e**2/(l*1.66054e-27*r0**2*Omega**2)\n",
    "    V4rad.append(octo_pseudopot_rad(r,4,factor,r0,Vrf)) # r,k,factor,r0,Vrf\n",
    "\n",
    "# Plot the pseudopot\n",
    "fig = plt.figure('Pseudopot all masses',clear='True')\n",
    "ax = fig.add_subplot(111)\n",
    "for k,l in enumerate(V4rad):\n",
    "    ax.plot(r*1e3, l/C_e,\n",
    "            '-',color=cm(k/len(m_GM)),\n",
    "           label=f'{m_GM[k]:.0e}')\n",
    "\n",
    "ax.hlines(1.5*kb*373.15/C_e,-r0*1e3,r0*1e3,\n",
    "          color='k',linestyle=':',lw = 3) # ,label='373.15 K'\n",
    "\n",
    "ax.text(0, 1.5*kb*373.15/C_e*1.15, '373.15 K', ha='center',fontsize=12)\n",
    "ax.text(0.95, 0.9, f'$V_0 = ${Vrf} V\\n$f_{{RF}} = ${Omega/2/pi/1000:03.0f} kHz',\n",
    "        ha='left',fontsize=12,\n",
    "        bbox=dict(boxstyle='round', fc='w'))\n",
    "\n",
    "ax.set_xlabel(r'r [mm]')\n",
    "ax.set_ylabel(r'$\\Psi_{k=4}^\\star$ [eV]')\n",
    "ax.set_xlim(-0.5,6.2)\n",
    "ax.set_ylim(-0.05,1)\n",
    "ax.grid()\n",
    "ax.legend(title='M [Da]',fontsize=12,loc=0)\n",
    "plt.tight_layout()"
   ]
  }
 ],
 "metadata": {
  "kernelspec": {
   "display_name": "Python 3 (ipykernel)",
   "language": "python",
   "name": "python3"
  },
  "language_info": {
   "codemirror_mode": {
    "name": "ipython",
    "version": 3
   },
   "file_extension": ".py",
   "mimetype": "text/x-python",
   "name": "python",
   "nbconvert_exporter": "python",
   "pygments_lexer": "ipython3",
   "version": "3.10.4"
  }
 },
 "nbformat": 4,
 "nbformat_minor": 2
}
