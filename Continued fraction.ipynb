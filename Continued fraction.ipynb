{
 "cells": [
  {
   "cell_type": "code",
   "execution_count": null,
   "metadata": {},
   "outputs": [],
   "source": [
    "%load_ext watermark\n",
    "%watermark"
   ]
  },
  {
   "cell_type": "code",
   "execution_count": null,
   "metadata": {},
   "outputs": [],
   "source": [
    "# %pylab\n",
    "\n",
    "import numpy\n",
    "import matplotlib\n",
    "from matplotlib import pylab, mlab, pyplot\n",
    "from mpl_toolkits.mplot3d import Axes3D\n",
    "np = numpy\n",
    "plt = pyplot\n",
    "\n",
    "from pylab import *\n",
    "from numpy import *"
   ]
  },
  {
   "cell_type": "code",
   "execution_count": 2,
   "metadata": {},
   "outputs": [
    {
     "name": "stdout",
     "output_type": "stream",
     "text": [
      "Using matplotlib backend: TkAgg\n"
     ]
    }
   ],
   "source": [
    "%matplotlib\n",
    "matplotlib.rcParams.update({'font.size': 25})"
   ]
  },
  {
   "cell_type": "code",
   "execution_count": null,
   "metadata": {},
   "outputs": [],
   "source": [
    "def beta_continue(n,a,q,beta_guess): # foireux\n",
    "    C1 = 0\n",
    "    C2 = 0\n",
    "    for k in range(n,0,-1):\n",
    "        C1 = q**2/((beta_guess+2*n)**2 - a - C1)\n",
    "        C2 = q**2/((beta_guess-2*n)**2 - a - C2)\n",
    "        \n",
    "    return a + C1 + C2"
   ]
  },
  {
   "cell_type": "code",
   "execution_count": 3,
   "metadata": {},
   "outputs": [],
   "source": [
    "def beta_continue_alamano(a,q,beta_guess): # a l'air ok\n",
    "    C1 = q**2/( (beta_guess+2)**2 - a - q**2/( (beta_guess+4)**2 - a - q**2/( (beta_guess+6)**2 - a - q**2/( (beta_guess+8)**2 - a - q**2/( (beta_guess+10)**2 - a ) ) ) ) )\n",
    "    C2 = q**2/( (beta_guess-2)**2 - a - q**2/( (beta_guess-4)**2 - a - q**2/( (beta_guess-6)**2 - a - q**2/( (beta_guess-8)**2 - a - q**2/( (beta_guess-10)**2 - a  ) ) ) ) )\n",
    "    return a + C1 + C2"
   ]
  },
  {
   "cell_type": "code",
   "execution_count": 4,
   "metadata": {},
   "outputs": [
    {
     "name": "stdout",
     "output_type": "stream",
     "text": [
      "$\\kappa_{simion}$ = 0.270471\n"
     ]
    }
   ],
   "source": [
    "# Constantes de la physique\n",
    "# ABSOLUMENT RECHARGER APRÈS AVOIR EXECUTÉ LES CASES D'IMPORT AU DESSUS\n",
    "\n",
    "C_e = 1.602e-19        # Coulomb\n",
    "kb = 1.38064852*1e-23  # Boltzman\n",
    "m_Ca = 40.078*1.66054e-27 # masse Ca 40.078\n",
    "m_GM = 1e6*1.66054e-27 # la masse de la GMol\n",
    "eps0 = 8.854187*1e-12  # permittivité électrique du vide\n",
    "\n",
    "r0 = 2.5e-3 # 2.5e-3   # rayon piège Ca+\n",
    "d0 = 4e-3/2            # longueur piège Ca+\n",
    "\n",
    "Omega = 2.00e6*2*pi # 2.047e6\n",
    "\n",
    "bk = 4 # nombre de barreaux par groupe (2 -> 4-pole , 4 -> 8-pole ...)\n",
    "\n",
    "mkappa = 0.23  # écrantage piège réel GiantMol\n",
    "wzLC = (2*pi*90806.9982303)**2\n",
    "kappa_simion = m_Ca*d0**2*wzLC/(2*C_e)\n",
    "print('%s = %f' % ('$\\kappa_{simion}$',kappa_simion) )\n",
    "\n",
    "zeta = kappa_simion*r0**2/d0**2"
   ]
  },
  {
   "cell_type": "code",
   "execution_count": 5,
   "metadata": {},
   "outputs": [
    {
     "name": "stdout",
     "output_type": "stream",
     "text": [
      "non adiab 0.46224946254501875\n",
      "adiab     0.4242640687119285\n",
      "non adiab 462.2494625450187\n",
      "adiab     424.26406871192853\n"
     ]
    }
   ],
   "source": [
    "beta_guess = 0.402\n",
    "a = 0\n",
    "q = 0.60\n",
    "for k in range(15):\n",
    "    beta_guess = beta_continue_alamano(a,q,beta_guess)\n",
    "    beta_guess = sqrt(beta_guess)\n",
    "#     print(beta_guess)\n",
    "print('non adiab',beta_guess)\n",
    "print('adiab    ',sqrt(a+q**2/2))\n",
    "\n",
    "print('non adiab',0.5*beta_guess*Omega/1000/2/pi)\n",
    "print('adiab    ',0.5*sqrt(a+q**2/2)*Omega/1000/2/pi)"
   ]
  },
  {
   "cell_type": "code",
   "execution_count": 6,
   "metadata": {},
   "outputs": [],
   "source": [
    "N_ions = 1024\n",
    "\n",
    "# for k,l in enumerate(list(points_and_coord)):\n",
    "my_udc = 2\n",
    "my_urf = 64.61\n",
    "q = 4 * C_e * my_urf / (m_Ca*r0**2*Omega**2)\n",
    "# omegaz = sqrt( 2 * C_e * my_udc / (m_Ca*d0**2) )\n",
    "# omegax_2.append(Omega**2 / 4 *  q**2/2)\n",
    "# beta2 = q**2/(2-q**2) - 7*q**4/(32*4) + 29*q**6/(64*4*9)\n",
    "# omegax_2bis.append(0.25*Omega**2 * beta2 )\n",
    "# omegar_2 = Omega**2 / 4 * ( q**2/2 - 0.5*(omegaz/Omega)**2 )"
   ]
  },
  {
   "cell_type": "code",
   "execution_count": 7,
   "metadata": {},
   "outputs": [],
   "source": [
    "a_u = 0\n",
    "q_u = q"
   ]
  },
  {
   "cell_type": "code",
   "execution_count": 22,
   "metadata": {},
   "outputs": [],
   "source": [
    "def f_beta(a,q,beta_guess):\n",
    "    return q**2/( (beta_guess+2)**2 - a - q**2/( (beta_guess+4)**2 - a - q**2/( (beta_guess+6)**2 - a - q**2/( (beta_guess+8)**2 - a - q**2/( (beta_guess+10)**2 - a ) ) ) ) )\n",
    "\n",
    "def beta_continue_alamano(a,q,beta_guess): #a l'air ok\n",
    "    return a + f_beta(a,q,beta_guess) + f_beta(a,q,-beta_guess)"
   ]
  },
  {
   "cell_type": "code",
   "execution_count": 8,
   "metadata": {},
   "outputs": [
    {
     "name": "stdout",
     "output_type": "stream",
     "text": [
      "non adiab 0.46224946254501875\n",
      "adiab     0.4242640687119285\n",
      "non adiab 462.2494625450187\n",
      "adiab     424.26406871192853\n"
     ]
    }
   ],
   "source": [
    "beta_guess = 0.402\n",
    "a = 0\n",
    "q = 0.60\n",
    "for k in range(15):\n",
    "    beta_guess = beta_continue_alamano(a,q,beta_guess)\n",
    "    beta_guess = sqrt(beta_guess)\n",
    "#     print(beta_guess)\n",
    "print('non adiab',beta_guess)\n",
    "print('adiab    ',sqrt(a+q**2/2))\n",
    "\n",
    "print('non adiab',0.5*beta_guess*Omega/1000/2/pi)\n",
    "print('adiab    ',0.5*sqrt(a+q**2/2)*Omega/1000/2/pi)"
   ]
  },
  {
   "cell_type": "code",
   "execution_count": 9,
   "metadata": {
    "scrolled": true
   },
   "outputs": [],
   "source": [
    "# beta adiabatique\n",
    "q = linspace(0,1,10)\n",
    "beta_adia = sqrt(a+q**2/2)"
   ]
  },
  {
   "cell_type": "code",
   "execution_count": 18,
   "metadata": {
    "scrolled": true
   },
   "outputs": [
    {
     "name": "stdout",
     "output_type": "stream",
     "text": [
      "  q      beta non-a  beta a\n",
      "> 0.00 -> 0.000  ~  0.000\n",
      "> 0.10 -> 0.071  ~  0.071\n",
      "> 0.20 -> 0.143  ~  0.141\n",
      "> 0.30 -> 0.216  ~  0.212\n",
      "> 0.40 -> 0.293  ~  0.283\n",
      "> 0.50 -> 0.374  ~  0.354\n",
      "> 0.60 -> 0.462  ~  0.424\n",
      "> 0.70 -> 0.563  ~  0.495\n",
      "> 0.80 -> 0.689  ~  0.566\n",
      "> 0.90 -> 0.912  ~  0.636\n",
      "> 1.00 -> nan  ~  0.707\n",
      "\n",
      "|    q   |     Urf     |    beta    |      fx      |     Udc     |\n",
      "|:--------:|:-------------:|:------------:|:--------------:|:-------------:|\n",
      "| 0.00 |   0.000 | 0.000 |      0.000 | 000.000 |\n",
      "| 0.10 |  10.250 | 0.071 |  70849.553 | 000.609 |\n",
      "| 0.20 |  20.500 | 0.143 | 142551.327 | 002.464 |\n",
      "| 0.30 |  30.751 | 0.216 | 216059.135 | 005.661 |\n",
      "| 0.40 |  41.001 | 0.293 | 292566.211 | 010.380 |\n",
      "| 0.50 |  51.251 | 0.374 | 373744.122 | 016.940 |\n",
      "| 0.60 |  61.501 | 0.462 | 462249.463 | 025.913 |\n",
      "| 0.70 |  71.751 | 0.563 | 563066.161 | 038.449 |\n",
      "| 0.80 |  82.002 | 0.689 | 688563.739 | 057.498 |\n",
      "| 0.90 |  92.252 | 0.912 | 911952.404 | 100.857 |\n",
      "| 1.00 | 102.502 | nan |        nan | 0000nan |\n"
     ]
    },
    {
     "name": "stderr",
     "output_type": "stream",
     "text": [
      "/tmp/ipykernel_9226/1436104007.py:10: RuntimeWarning: invalid value encountered in sqrt\n",
      "  beta_nonadia[j] = sqrt(beta_nonadia[j])\n"
     ]
    }
   ],
   "source": [
    "# beta non adiabatique\n",
    "a = 0\n",
    "q = linspace(0,1,11)\n",
    "beta_adia = sqrt(a+q**2/2)\n",
    "beta_nonadia = np.zeros((len(beta_adia)))\n",
    "print('  q ', '    beta non-a', ' beta a')\n",
    "for j,k in enumerate(q):\n",
    "    for l in range(15):\n",
    "        beta_nonadia[j] = beta_continue_alamano(a,k,beta_nonadia[j])\n",
    "        beta_nonadia[j] = sqrt(beta_nonadia[j])\n",
    "    print('>',f'{k:.02f}','->',f'{beta_nonadia[j]:.03f}',' ~ ',f'{beta_adia[j]:.03f}')\n",
    "print('')\n",
    "\n",
    "print('|    q   |     Urf     |    beta    |      fx      |     Udc     |')\n",
    "print('|:--------:|:-------------:|:------------:|:--------------:|:-------------:|')\n",
    "omega_nonadia = np.zeros((len(beta_adia)))    \n",
    "Udc_for_sphere = np.zeros((len(beta_adia)))\n",
    "for i,j in enumerate(beta_nonadia):\n",
    "    omega_nonadia[i]  = 0.5*Omega*j\n",
    "    Udc_for_sphere[i] = m_Ca*d0**2/(2*kappa_simion*C_e)*omega_nonadia[i]**2\n",
    "    Urf = q[i]*m_Ca*r0**2*Omega**2/(4*C_e)\n",
    "    print(f'| {q[i]:.02f} | {Urf:7.03f} | {j:.03f} | {omega_nonadia[i]/2/np.pi:10.03f} | {Udc_for_sphere[i]:07.03f} |')"
   ]
  },
  {
   "cell_type": "code",
   "execution_count": 28,
   "metadata": {},
   "outputs": [
    {
     "ename": "KeyboardInterrupt",
     "evalue": "",
     "output_type": "error",
     "traceback": [
      "\u001b[0;31m---------------------------------------------------------------------------\u001b[0m",
      "\u001b[0;31mKeyboardInterrupt\u001b[0m                         Traceback (most recent call last)",
      "\u001b[0;32m/tmp/ipykernel_9226/2854479159.py\u001b[0m in \u001b[0;36m<module>\u001b[0;34m\u001b[0m\n\u001b[1;32m      6\u001b[0m \u001b[0;32mfor\u001b[0m \u001b[0mj\u001b[0m\u001b[0;34m,\u001b[0m\u001b[0mk\u001b[0m \u001b[0;32min\u001b[0m \u001b[0menumerate\u001b[0m\u001b[0;34m(\u001b[0m\u001b[0mq\u001b[0m\u001b[0;34m)\u001b[0m\u001b[0;34m:\u001b[0m\u001b[0;34m\u001b[0m\u001b[0;34m\u001b[0m\u001b[0m\n\u001b[1;32m      7\u001b[0m     \u001b[0;32mfor\u001b[0m \u001b[0ml\u001b[0m \u001b[0;32min\u001b[0m \u001b[0mrange\u001b[0m\u001b[0;34m(\u001b[0m\u001b[0;36m750\u001b[0m\u001b[0;34m)\u001b[0m\u001b[0;34m:\u001b[0m\u001b[0;34m\u001b[0m\u001b[0;34m\u001b[0m\u001b[0m\n\u001b[0;32m----> 8\u001b[0;31m         \u001b[0mbeta_nonadia\u001b[0m\u001b[0;34m[\u001b[0m\u001b[0mj\u001b[0m\u001b[0;34m]\u001b[0m \u001b[0;34m=\u001b[0m \u001b[0mbeta_continue_alamano\u001b[0m\u001b[0;34m(\u001b[0m\u001b[0ma\u001b[0m\u001b[0;34m,\u001b[0m\u001b[0mk\u001b[0m\u001b[0;34m,\u001b[0m\u001b[0mbeta_nonadia\u001b[0m\u001b[0;34m[\u001b[0m\u001b[0mj\u001b[0m\u001b[0;34m]\u001b[0m\u001b[0;34m)\u001b[0m\u001b[0;34m\u001b[0m\u001b[0;34m\u001b[0m\u001b[0m\n\u001b[0m\u001b[1;32m      9\u001b[0m         \u001b[0mbeta_nonadia\u001b[0m\u001b[0;34m[\u001b[0m\u001b[0mj\u001b[0m\u001b[0;34m]\u001b[0m \u001b[0;34m=\u001b[0m \u001b[0msqrt\u001b[0m\u001b[0;34m(\u001b[0m\u001b[0mbeta_nonadia\u001b[0m\u001b[0;34m[\u001b[0m\u001b[0mj\u001b[0m\u001b[0;34m]\u001b[0m\u001b[0;34m)\u001b[0m\u001b[0;34m\u001b[0m\u001b[0;34m\u001b[0m\u001b[0m\n\u001b[1;32m     10\u001b[0m \u001b[0;34m\u001b[0m\u001b[0m\n",
      "\u001b[0;32m/tmp/ipykernel_9226/3280956095.py\u001b[0m in \u001b[0;36mbeta_continue_alamano\u001b[0;34m(a, q, beta_guess)\u001b[0m\n\u001b[1;32m      3\u001b[0m \u001b[0;34m\u001b[0m\u001b[0m\n\u001b[1;32m      4\u001b[0m \u001b[0;32mdef\u001b[0m \u001b[0mbeta_continue_alamano\u001b[0m\u001b[0;34m(\u001b[0m\u001b[0ma\u001b[0m\u001b[0;34m,\u001b[0m\u001b[0mq\u001b[0m\u001b[0;34m,\u001b[0m\u001b[0mbeta_guess\u001b[0m\u001b[0;34m)\u001b[0m\u001b[0;34m:\u001b[0m \u001b[0;31m#a l'air ok\u001b[0m\u001b[0;34m\u001b[0m\u001b[0;34m\u001b[0m\u001b[0m\n\u001b[0;32m----> 5\u001b[0;31m     \u001b[0;32mreturn\u001b[0m \u001b[0ma\u001b[0m \u001b[0;34m+\u001b[0m \u001b[0mf_beta\u001b[0m\u001b[0;34m(\u001b[0m\u001b[0ma\u001b[0m\u001b[0;34m,\u001b[0m\u001b[0mq\u001b[0m\u001b[0;34m,\u001b[0m\u001b[0mbeta_guess\u001b[0m\u001b[0;34m)\u001b[0m \u001b[0;34m+\u001b[0m \u001b[0mf_beta\u001b[0m\u001b[0;34m(\u001b[0m\u001b[0ma\u001b[0m\u001b[0;34m,\u001b[0m\u001b[0mq\u001b[0m\u001b[0;34m,\u001b[0m\u001b[0;34m-\u001b[0m\u001b[0mbeta_guess\u001b[0m\u001b[0;34m)\u001b[0m\u001b[0;34m\u001b[0m\u001b[0;34m\u001b[0m\u001b[0m\n\u001b[0m",
      "\u001b[0;31mKeyboardInterrupt\u001b[0m: "
     ]
    }
   ],
   "source": [
    "a = 0.02\n",
    "q = linspace(0,0.908,1000)\n",
    "beta_adia = sqrt(a+q**2/2)\n",
    "beta_nonadia = np.zeros((len(beta_adia)))\n",
    "\n",
    "for j,k in enumerate(q):\n",
    "    for l in range(750):\n",
    "        beta_nonadia[j] = beta_continue_alamano(a,k,beta_nonadia[j])\n",
    "        beta_nonadia[j] = sqrt(beta_nonadia[j])\n",
    "\n",
    "fname = 'compare_betas'\n",
    "fig = plt.figure(fname,clear=True)\n",
    "ax1 = fig.add_subplot(121)\n",
    "ax2 = fig.add_subplot(122)\n",
    "# title(all_subdir[0][myslashpos[slashcond-1]:-15]+'__E0='+str(E0_GMol)+'eV',fontsize=25)\n",
    "\n",
    "ax1.plot(q,beta_adia,ls='--',label=r'$\\beta_a$')\n",
    "ax1.plot(q,beta_nonadia,ls=':',label=r'$\\beta$')\n",
    "\n",
    "ax1.set_xlabel('$q_u$')\n",
    "# ax1.set_ylabel(r'$\\beta$')\n",
    "ax1.grid()\n",
    "ax1.legend()\n",
    "ax1.xaxis.set_major_locator(matplotlib.ticker.MultipleLocator(base=0.2))\n",
    "ax1.yaxis.set_major_locator(matplotlib.ticker.MultipleLocator(base=0.2))\n",
    "\n",
    "ax2.plot(q,beta_nonadia/beta_adia,label=r'$\\beta/\\beta_a$',color='xkcd:rouge')\n",
    "\n",
    "ax2.set_xlabel('$q_u$')\n",
    "# ax1.set_ylabel(r'$\\beta$')\n",
    "ax2.grid()\n",
    "ax2.legend()\n",
    "ax2.xaxis.set_major_locator(matplotlib.ticker.MultipleLocator(base=0.2))\n",
    "ax2.yaxis.set_major_locator(matplotlib.ticker.MultipleLocator(base=0.1))\n",
    "\n",
    "fig.set_size_inches(14,6)\n",
    "\n",
    "fig.tight_layout()\n",
    "# subplots_adjust(hspace=0.05, bottom=0.163, top = 0.94,left=0.10,right=1.02)\n",
    "savefig(fname+'.png',dpi=300)"
   ]
  }
 ],
 "metadata": {
  "kernelspec": {
   "display_name": "Python 3 (ipykernel)",
   "language": "python",
   "name": "python3"
  },
  "language_info": {
   "codemirror_mode": {
    "name": "ipython",
    "version": 3
   },
   "file_extension": ".py",
   "mimetype": "text/x-python",
   "name": "python",
   "nbconvert_exporter": "python",
   "pygments_lexer": "ipython3",
   "version": "3.10.4"
  }
 },
 "nbformat": 4,
 "nbformat_minor": 2
}
