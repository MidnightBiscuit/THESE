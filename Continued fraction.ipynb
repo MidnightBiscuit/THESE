{
 "cells": [
  {
   "cell_type": "code",
   "execution_count": 1,
   "metadata": {},
   "outputs": [],
   "source": [
    "# %pylab\n",
    "\n",
    "import numpy\n",
    "import matplotlib\n",
    "from matplotlib import pylab, mlab, pyplot\n",
    "from mpl_toolkits.mplot3d import Axes3D\n",
    "np = numpy\n",
    "plt = pyplot\n",
    "\n",
    "from pylab import *\n",
    "from numpy import *"
   ]
  },
  {
   "cell_type": "code",
   "execution_count": 21,
   "metadata": {},
   "outputs": [],
   "source": [
    "def beta_continue(n,a,q,beta_guess): # foireux\n",
    "    C1 = 0\n",
    "    C2 = 0\n",
    "    for k in range(n,0,-1):\n",
    "        C1 = q**2/((beta_guess+2*n)**2 - a - C1)\n",
    "        C2 = q**2/((beta_guess-2*n)**2 - a - C2)\n",
    "        \n",
    "    return a + C1 + C2"
   ]
  },
  {
   "cell_type": "code",
   "execution_count": 243,
   "metadata": {},
   "outputs": [],
   "source": [
    "def beta_continue_alamano(a,q,beta_guess): #a l'air ok\n",
    "    C1 = q**2/( (beta_guess+2)**2 - a - q**2/( (beta_guess+4)**2 - a - q**2/( (beta_guess+6)**2 - a - q**2/( (beta_guess+8)**2 - a - q**2/( (beta_guess+10)**2 - a ) ) ) ) )\n",
    "    C2 = q**2/( (beta_guess-2)**2 - a - q**2/( (beta_guess-4)**2 - a - q**2/( (beta_guess-6)**2 - a - q**2/( (beta_guess-8)**2 - a - q**2/( (beta_guess-10)**2 - a  ) ) ) ) )\n",
    "    return a + C1 + C2"
   ]
  },
  {
   "cell_type": "code",
   "execution_count": 272,
   "metadata": {},
   "outputs": [
    {
     "name": "stdout",
     "output_type": "stream",
     "text": [
      "non adiab 1.4096842905306817\n",
      "adiab     1.418731828077456\n",
      "non adiab 1409.6842905306817\n",
      "adiab     1418.7318280774557\n"
     ]
    }
   ],
   "source": [
    "beta_guess = 0.402\n",
    "a = 2\n",
    "q = 0.16\n",
    "for k in range(15):\n",
    "    beta_guess = beta_continue_alamano(a,q,beta_guess)\n",
    "    beta_guess = sqrt(beta_guess)\n",
    "#     print(beta_guess)\n",
    "print('non adiab',beta_guess)\n",
    "print('adiab    ',sqrt(a+q**2/2))\n",
    "\n",
    "print('non adiab',0.5*beta_guess*Omega/1000/2/pi)\n",
    "print('adiab    ',0.5*sqrt(a+q**2/2)*Omega/1000/2/pi)"
   ]
  },
  {
   "cell_type": "code",
   "execution_count": 164,
   "metadata": {},
   "outputs": [
    {
     "name": "stdout",
     "output_type": "stream",
     "text": [
      "0.7403033783520424\n",
      "0.5656854249492381\n"
     ]
    }
   ],
   "source": [
    "beta_guess = 0.5\n",
    "delta_beta = 10\n",
    "a = 0\n",
    "q = 0.8\n",
    "while abs(delta_beta) > 0.0001:\n",
    "    delta_beta = beta_guess**2 - beta_continue(1,a,q,beta_guess) # 0.908 vs 0.9505\n",
    "    if delta_beta < 0:\n",
    "        beta_guess = beta_guess*1.1\n",
    "    else:\n",
    "        beta_guess = beta_guess*0.9\n",
    "    \n",
    "print(beta_guess)\n",
    "print(sqrt(a+q**2/2))"
   ]
  },
  {
   "cell_type": "code",
   "execution_count": 212,
   "metadata": {},
   "outputs": [
    {
     "name": "stdout",
     "output_type": "stream",
     "text": [
      "0.07700000000000001\n",
      "0.07071067811865477\n"
     ]
    }
   ],
   "source": [
    "beta_guess = 0.07\n",
    "delta_beta = 10\n",
    "a = 0\n",
    "q = 0.1\n",
    "while abs(delta_beta) > 0.005:\n",
    "    delta_beta = beta_guess**2 - beta_continue_alamano(a,q,beta_guess) # 0.908 vs 0.9505\n",
    "    if delta_beta < 0:\n",
    "        beta_guess = beta_guess*1.1\n",
    "    else:\n",
    "        beta_guess = beta_guess*0.9\n",
    "    \n",
    "print(beta_guess)\n",
    "print(sqrt(a+q**2/2))"
   ]
  },
  {
   "cell_type": "code",
   "execution_count": 2,
   "metadata": {},
   "outputs": [
    {
     "name": "stdout",
     "output_type": "stream",
     "text": [
      "$\\kappa_{simion}$ = 0.270471\n"
     ]
    }
   ],
   "source": [
    "# Constantes de la physique\n",
    "# ABSOLUMENT RECHARGER APRÈS AVOIR EXECUTÉ LES CASES D'IMPORT AU DESSUS\n",
    "\n",
    "C_e = 1.602e-19        # Coulomb\n",
    "kb = 1.38064852*1e-23  # Boltzman\n",
    "m_Ca = 40.078*1.66054e-27 # masse Ca 40.078\n",
    "m_GM = 1e6*1.66054e-27 # la masse de la GMol\n",
    "eps0 = 8.854187*1e-12  # permittivité électrique du vide\n",
    "\n",
    "r0 = 2.5e-3 # 2.5e-3   # rayon piège Ca+\n",
    "d0 = 4e-3/2            # longueur piège Ca+\n",
    "\n",
    "Omega = 2.00e6*2*pi # 2.047e6\n",
    "\n",
    "bk = 4 # nombre de barreaux par groupe (2 -> 4-pole , 4 -> 8-pole ...)\n",
    "\n",
    "mkappa = 0.23  # écrantage piège réel GiantMol\n",
    "wzLC = (2*pi*90806.9982303)**2\n",
    "kappa_simion = m_Ca*d0**2*wzLC/(2*C_e)\n",
    "print('%s = %f' % ('$\\kappa_{simion}$',kappa_simion) )\n",
    "\n",
    "zeta = kappa_simion*r0**2/d0**2"
   ]
  },
  {
   "cell_type": "code",
   "execution_count": 3,
   "metadata": {},
   "outputs": [],
   "source": [
    "N_ions = 1024\n",
    "\n",
    "# for k,l in enumerate(list(points_and_coord)):\n",
    "my_udc = 2\n",
    "my_urf = 64.61\n",
    "q = 4 * C_e * my_urf / (m_Ca*r0**2*Omega**2)\n",
    "# omegaz = sqrt( 2 * C_e * my_udc / (m_Ca*d0**2) )\n",
    "# omegax_2.append(Omega**2 / 4 *  q**2/2)\n",
    "# beta2 = q**2/(2-q**2) - 7*q**4/(32*4) + 29*q**6/(64*4*9)\n",
    "# omegax_2bis.append(0.25*Omega**2 * beta2 )\n",
    "# omegar_2 = Omega**2 / 4 * ( q**2/2 - 0.5*(omegaz/Omega)**2 )"
   ]
  },
  {
   "cell_type": "code",
   "execution_count": 4,
   "metadata": {},
   "outputs": [],
   "source": [
    "a_u = 0\n",
    "q_u = q"
   ]
  },
  {
   "cell_type": "code",
   "execution_count": null,
   "metadata": {},
   "outputs": [],
   "source": []
  }
 ],
 "metadata": {
  "kernelspec": {
   "display_name": "Python 3",
   "language": "python",
   "name": "python3"
  },
  "language_info": {
   "codemirror_mode": {
    "name": "ipython",
    "version": 3
   },
   "file_extension": ".py",
   "mimetype": "text/x-python",
   "name": "python",
   "nbconvert_exporter": "python",
   "pygments_lexer": "ipython3",
   "version": "3.6.7"
  }
 },
 "nbformat": 4,
 "nbformat_minor": 2
}
