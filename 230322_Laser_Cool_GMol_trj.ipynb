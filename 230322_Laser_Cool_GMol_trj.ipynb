{
 "cells": [
  {
   "cell_type": "code",
   "execution_count": 1,
   "id": "ad249cbd",
   "metadata": {},
   "outputs": [
    {
     "name": "stdout",
     "output_type": "stream",
     "text": [
      "Using matplotlib backend: TkAgg\n"
     ]
    }
   ],
   "source": [
    "# %pylab\n",
    "\n",
    "import numpy\n",
    "import matplotlib\n",
    "from matplotlib import pyplot\n",
    "np = numpy\n",
    "plt = pyplot\n",
    "from pylab import *\n",
    "from numpy import *\n",
    "from scipy.optimize import curve_fit\n",
    "%matplotlib"
   ]
  },
  {
   "cell_type": "code",
   "execution_count": null,
   "id": "a79df82f",
   "metadata": {},
   "outputs": [],
   "source": []
  },
  {
   "cell_type": "code",
   "execution_count": 2,
   "id": "a19ffd21",
   "metadata": {},
   "outputs": [
    {
     "data": {
      "text/html": [
       "<style>.container { width:95% !important; }</style>"
      ],
      "text/plain": [
       "<IPython.core.display.HTML object>"
      ]
     },
     "metadata": {},
     "output_type": "display_data"
    }
   ],
   "source": [
    "from IPython.display import display, HTML\n",
    "display(HTML(\"<style>.container { width:95% !important; }</style>\"))"
   ]
  },
  {
   "cell_type": "code",
   "execution_count": 3,
   "id": "92dd43c2",
   "metadata": {},
   "outputs": [],
   "source": [
    "matplotlib.rcParams['figure.figsize'] = [10.5,7]\n",
    "matplotlib.rcParams.update({'font.size': 25})"
   ]
  },
  {
   "cell_type": "code",
   "execution_count": 4,
   "id": "f155ec07",
   "metadata": {},
   "outputs": [],
   "source": [
    "%run my_functions"
   ]
  },
  {
   "cell_type": "markdown",
   "id": "9a2f5a00",
   "metadata": {},
   "source": [
    "# Load data file names\n",
    "I load the file names of data. You have to write the data directory in `file_path` then the program sorts the file names into several categories, according to the their SimuType, and their nature.\n",
    "\n",
    "### SimuType\n",
    "- `Langevin` is the first initialisation of the cloud with the Langevin program.\n",
    "- `SimuTypeQ` is the first part with velocity-Verlet. Introduces laser cooling and in a second time a ramp on the RF voltage.\n",
    "- `SimuType4` is the second part. Introduces the Giant Molecule with the proper kinetic energy. Laser cooling and trapping parameters remains constant. Giant Molecule evacuated at the end of `SimuType4`.\n",
    "- `SimuType2` is the third part. Laser cooling and trapping parameters remains constant.\n",
    "\n",
    "### Nature of files\n",
    "- `xva` contain a snapshot of the cloud : positions, velocities and accelerations of each ion at a given time, at the end of each SimuType, under the format `.bin`. For `SimuType4`, files with `xva` and `.dat` extension contain information about the Giant Molecule.\n",
    "- `Temp` contain temperature of cloud as a function of time, under the form of a `.dat`.\n",
    "- `trj` contain trajectory as a function of time : `trj` alone is for one or many Ca+ ions, `trjGMol` is the trajectory of the GMol."
   ]
  },
  {
   "cell_type": "code",
   "execution_count": 87,
   "id": "374f3293",
   "metadata": {},
   "outputs": [
    {
     "name": "stdout",
     "output_type": "stream",
     "text": [
      "['Langevin_cooling.info'\n",
      " 'Temp_3D_Harmo_N01024_T***uK_F0.15D-19Kg_sRFG.bin'\n",
      " 'xva_3D_Harmo_N01024_T***uK_F0.15D-19Kg_sRFG.bin']\n",
      "['Temp_SimuTypeQ_N01024_Vrf0061_Udc0.2631D+01V_D1.0_S1.0RFG.dat'\n",
      " 'xva_SimuTypeQ_N01024_Vrf0061_Udc0.2631D+01V_D1.0_S1.0RFG.bin'\n",
      " 'xva_SimuTypeQ_N01024_Vrf0061_Udc0.2631D+01V_D1.0_S1.0RFG.info']\n",
      "['xva_SimuType4_01_N01024_Vrf0061_Udc0.2631D+01V_D1.0_S1.0RFG_Q01_x0_0.000E+00_50eV.bin'\n",
      " 'xva_SimuType4_01_N01024_Vrf0061_Udc0.2631D+01V_D1.0_S1.0RFG_Q01_x0_0.000E+00_50eV.dat'\n",
      " 'xva_SimuType4_01_N01024_Vrf0061_Udc0.2631D+01V_D1.0_S1.0RFG_Q01_x0_0.000E+00_50eV.info'\n",
      " 'xva_SimuType4_01_N01024_Vrf0061_Udc0.2631D+01V_D1.0_S1.0RFG_Q01_x0_1.000E-04_50eV.bin'\n",
      " 'xva_SimuType4_01_N01024_Vrf0061_Udc0.2631D+01V_D1.0_S1.0RFG_Q01_x0_1.000E-04_50eV.dat'\n",
      " 'xva_SimuType4_01_N01024_Vrf0061_Udc0.2631D+01V_D1.0_S1.0RFG_Q01_x0_1.000E-04_50eV.info'\n",
      " 'xva_SimuType4_01_N01024_Vrf0061_Udc0.2631D+01V_D1.0_S1.0RFG_Q01_x0_1.000E-05_50eV.bin'\n",
      " 'xva_SimuType4_01_N01024_Vrf0061_Udc0.2631D+01V_D1.0_S1.0RFG_Q01_x0_1.000E-05_50eV.dat'\n",
      " 'xva_SimuType4_01_N01024_Vrf0061_Udc0.2631D+01V_D1.0_S1.0RFG_Q01_x0_1.000E-05_50eV.info'\n",
      " 'xva_SimuType4_01_N01024_Vrf0061_Udc0.2631D+01V_D1.0_S1.0RFG_Q01_x0_1.000E-06_50eV.bin'\n",
      " 'xva_SimuType4_01_N01024_Vrf0061_Udc0.2631D+01V_D1.0_S1.0RFG_Q01_x0_1.000E-06_50eV.dat'\n",
      " 'xva_SimuType4_01_N01024_Vrf0061_Udc0.2631D+01V_D1.0_S1.0RFG_Q01_x0_1.000E-06_50eV.info'\n",
      " 'xva_SimuType4_01_N01024_Vrf0061_Udc0.2631D+01V_D1.0_S1.0RFG_Q01_x0_5.000E-05_50eV.bin'\n",
      " 'xva_SimuType4_01_N01024_Vrf0061_Udc0.2631D+01V_D1.0_S1.0RFG_Q01_x0_5.000E-05_50eV.dat'\n",
      " 'xva_SimuType4_01_N01024_Vrf0061_Udc0.2631D+01V_D1.0_S1.0RFG_Q01_x0_5.000E-05_50eV.info'\n",
      " 'xva_SimuType4_01_N01024_Vrf0061_Udc0.2631D+01V_D1.0_S1.0RFG_Q01_x0_5.000E-06_50eV.bin'\n",
      " 'xva_SimuType4_01_N01024_Vrf0061_Udc0.2631D+01V_D1.0_S1.0RFG_Q01_x0_5.000E-06_50eV.dat'\n",
      " 'xva_SimuType4_01_N01024_Vrf0061_Udc0.2631D+01V_D1.0_S1.0RFG_Q01_x0_5.000E-06_50eV.info']\n",
      "['trj_SimuType4_01_N01024_Vrf0061_Udc0.2631D+01V_D1.0_S1.0RFG_Q01_x0_0.000E+00_50eV_GMol.bin'\n",
      " 'trj_SimuType4_01_N01024_Vrf0061_Udc0.2631D+01V_D1.0_S1.0RFG_Q01_x0_1.000E-04_50eV_GMol.bin'\n",
      " 'trj_SimuType4_01_N01024_Vrf0061_Udc0.2631D+01V_D1.0_S1.0RFG_Q01_x0_1.000E-05_50eV_GMol.bin'\n",
      " 'trj_SimuType4_01_N01024_Vrf0061_Udc0.2631D+01V_D1.0_S1.0RFG_Q01_x0_1.000E-06_50eV_GMol.bin'\n",
      " 'trj_SimuType4_01_N01024_Vrf0061_Udc0.2631D+01V_D1.0_S1.0RFG_Q01_x0_5.000E-05_50eV_GMol.bin'\n",
      " 'trj_SimuType4_01_N01024_Vrf0061_Udc0.2631D+01V_D1.0_S1.0RFG_Q01_x0_5.000E-06_50eV_GMol.bin']\n",
      "['xva_SimuType2_01_N01024_Vrf0061_Udc0.2631D+01V_D1.0_S1.0RFG_Q01_x0_0.000E+00_50eV.bin'\n",
      " 'xva_SimuType2_01_N01024_Vrf0061_Udc0.2631D+01V_D1.0_S1.0RFG_Q01_x0_0.000E+00_50eV.info'\n",
      " 'xva_SimuType2_01_N01024_Vrf0061_Udc0.2631D+01V_D1.0_S1.0RFG_Q01_x0_1.000E-04_50eV.bin'\n",
      " 'xva_SimuType2_01_N01024_Vrf0061_Udc0.2631D+01V_D1.0_S1.0RFG_Q01_x0_1.000E-04_50eV.info'\n",
      " 'xva_SimuType2_01_N01024_Vrf0061_Udc0.2631D+01V_D1.0_S1.0RFG_Q01_x0_1.000E-05_50eV.bin'\n",
      " 'xva_SimuType2_01_N01024_Vrf0061_Udc0.2631D+01V_D1.0_S1.0RFG_Q01_x0_1.000E-05_50eV.info'\n",
      " 'xva_SimuType2_01_N01024_Vrf0061_Udc0.2631D+01V_D1.0_S1.0RFG_Q01_x0_1.000E-06_50eV.bin'\n",
      " 'xva_SimuType2_01_N01024_Vrf0061_Udc0.2631D+01V_D1.0_S1.0RFG_Q01_x0_1.000E-06_50eV.info'\n",
      " 'xva_SimuType2_01_N01024_Vrf0061_Udc0.2631D+01V_D1.0_S1.0RFG_Q01_x0_5.000E-05_50eV.bin'\n",
      " 'xva_SimuType2_01_N01024_Vrf0061_Udc0.2631D+01V_D1.0_S1.0RFG_Q01_x0_5.000E-05_50eV.info'\n",
      " 'xva_SimuType2_01_N01024_Vrf0061_Udc0.2631D+01V_D1.0_S1.0RFG_Q01_x0_5.000E-06_50eV.bin'\n",
      " 'xva_SimuType2_01_N01024_Vrf0061_Udc0.2631D+01V_D1.0_S1.0RFG_Q01_x0_5.000E-06_50eV.info']\n",
      "['Temp_SimuType4_01_N01024_Vrf0061_Udc0.2631D+01V_D1.0_S1.0RFG_Q01_x0_0.000E+00_50eV.dat'\n",
      " 'Temp_SimuType4_01_N01024_Vrf0061_Udc0.2631D+01V_D1.0_S1.0RFG_Q01_x0_1.000E-04_50eV.dat'\n",
      " 'Temp_SimuType4_01_N01024_Vrf0061_Udc0.2631D+01V_D1.0_S1.0RFG_Q01_x0_1.000E-05_50eV.dat'\n",
      " 'Temp_SimuType4_01_N01024_Vrf0061_Udc0.2631D+01V_D1.0_S1.0RFG_Q01_x0_1.000E-06_50eV.dat'\n",
      " 'Temp_SimuType4_01_N01024_Vrf0061_Udc0.2631D+01V_D1.0_S1.0RFG_Q01_x0_5.000E-05_50eV.dat'\n",
      " 'Temp_SimuType4_01_N01024_Vrf0061_Udc0.2631D+01V_D1.0_S1.0RFG_Q01_x0_5.000E-06_50eV.dat']\n",
      "['Temp_SimuType2_01_N01024_Vrf0061_Udc0.2631D+01V_D1.0_S1.0RFG_Q01_x0_0.000E+00_50eV.dat'\n",
      " 'Temp_SimuType2_01_N01024_Vrf0061_Udc0.2631D+01V_D1.0_S1.0RFG_Q01_x0_1.000E-04_50eV.dat'\n",
      " 'Temp_SimuType2_01_N01024_Vrf0061_Udc0.2631D+01V_D1.0_S1.0RFG_Q01_x0_1.000E-05_50eV.dat'\n",
      " 'Temp_SimuType2_01_N01024_Vrf0061_Udc0.2631D+01V_D1.0_S1.0RFG_Q01_x0_1.000E-06_50eV.dat'\n",
      " 'Temp_SimuType2_01_N01024_Vrf0061_Udc0.2631D+01V_D1.0_S1.0RFG_Q01_x0_5.000E-05_50eV.dat'\n",
      " 'Temp_SimuType2_01_N01024_Vrf0061_Udc0.2631D+01V_D1.0_S1.0RFG_Q01_x0_5.000E-06_50eV.dat']\n"
     ]
    }
   ],
   "source": [
    "# for i,j in enumerate(os.walk(file_path)):\n",
    "#     print(i,j)\n",
    "file_path = '/home/adrien/RemoteFS/Rivendel/Simulations/20230322'+'/DC10_RF10'+'/Try00'\n",
    "# print(os.listdir(file_path))\n",
    "\n",
    "file_name_Lan = sort([x for x in os.listdir(file_path) if 'Langevin' in x or '3D' in x])\n",
    "print(file_name_Lan)\n",
    "file_name_SimuTypeQ = sort([x for x in os.listdir(file_path) if 'SimuTypeQ' in x])\n",
    "print(file_name_SimuTypeQ)\n",
    "file_name_SimuType4_xva = sort([x for x in os.listdir(file_path) if 'SimuType4' in x and 'xva' in x])\n",
    "print(file_name_SimuType4_xva)\n",
    "file_name_SimuType4_trjGMol = sort([x for x in os.listdir(file_path) if 'SimuType4' in x and 'trj' in x and 'GMol' in x])\n",
    "print(file_name_SimuType4_trjGMol)\n",
    "file_name_SimuType2_xva = sort([x for x in os.listdir(file_path) if 'SimuType2' in x and 'xva' in x])\n",
    "print(file_name_SimuType2_xva)\n",
    "\n",
    "file_name_SimuType4_Temp = sort([x for x in os.listdir(file_path) if 'SimuType4' in x and 'Temp' in x])\n",
    "print(file_name_SimuType4_Temp)\n",
    "file_name_SimuType2_Temp = sort([x for x in os.listdir(file_path) if 'SimuType2' in x and 'Temp' in x])\n",
    "print(file_name_SimuType2_Temp)"
   ]
  },
  {
   "cell_type": "markdown",
   "id": "5d2b86f5",
   "metadata": {},
   "source": [
    "# Reading snapshots"
   ]
  },
  {
   "cell_type": "code",
   "execution_count": 216,
   "id": "04699cfa",
   "metadata": {},
   "outputs": [
    {
     "name": "stdout",
     "output_type": "stream",
     "text": [
      "x0_0.000E+00\n"
     ]
    }
   ],
   "source": [
    "x0 = 0e-6 # [0, 1e-6, 5e-6, 10e-6, 50e-6, 100e-6]\n",
    "str_x0 = f'x0_{x0:.3E}'\n",
    "print(str_x0)\n",
    "xva_Langevin  = load_xva_init_bin_Lan(file_path+'/'+sort(file_name_Lan)[2].strip('.bin'),1)[5]\n",
    "xva_SimuTypeQ = load_xyz_init_bin_DP(file_path+'/'+sort(file_name_SimuTypeQ)[1].strip('.bin'))[0]\n",
    "xva_SimuType4 = load_xyz_init_bin_DP(file_path+'/'+sort([x for x in file_name_SimuType4_xva if str_x0 in x])[0].strip('.bin'))[0]\n",
    "xva_SimuType2 = load_xyz_init_bin_DP(file_path+'/'+sort([x for x in file_name_SimuType2_xva if str_x0 in x])[0].strip('.bin'))[0]"
   ]
  },
  {
   "cell_type": "code",
   "execution_count": 218,
   "id": "cda1d01d",
   "metadata": {},
   "outputs": [],
   "source": [
    "to_plot = xva_SimuType4\n",
    "figure('xva'); clf()\n",
    "# title(fig_title)\n",
    "subplot(211,aspect=1.0)\n",
    "plot(to_plot [0,:]*1e3,to_plot [1,:]*1e3,'8',color='xkcd:purplish blue')\n",
    "xlabel('x[µm]')\n",
    "ylabel('y[µm]')\n",
    "grid()\n",
    "# xlim(-1000,1000)\n",
    "# ylim(-1000,1000)\n",
    "\n",
    "# subplot(212,aspect=1.0)\n",
    "subplot(212)\n",
    "plot(to_plot [2,:]*1e3,to_plot [0,:]*1e3,'8',color='xkcd:purplish blue')\n",
    "xlabel('z[µm]')\n",
    "ylabel('x[µm]')\n",
    "grid()\n",
    "# xlim(-1000,1000)\n",
    "# ylim(-1000,1000)\n",
    "\n",
    "tight_layout()\n",
    "savefig('xva_4.png',dpi=300)"
   ]
  },
  {
   "cell_type": "code",
   "execution_count": 345,
   "id": "879321d0",
   "metadata": {},
   "outputs": [
    {
     "data": {
      "text/plain": [
       "497.9277379746295"
      ]
     },
     "execution_count": 345,
     "metadata": {},
     "output_type": "execute_result"
    }
   ],
   "source": [
    "max(to_plot [2,:]*1e3) - min(to_plot [2,:]*1e3)"
   ]
  },
  {
   "cell_type": "markdown",
   "id": "299ff247",
   "metadata": {},
   "source": [
    "# Reading temperature"
   ]
  },
  {
   "cell_type": "code",
   "execution_count": 77,
   "id": "3695426c",
   "metadata": {},
   "outputs": [
    {
     "name": "stdout",
     "output_type": "stream",
     "text": [
      "[4] [4] [8] [8] [8] [55440]\n",
      "N_ions 1024\n",
      "j_save 990\n",
      "dt_j_save_next 5e-07\n",
      "eta 1.5e-20\n",
      "Temp [0.001]\n",
      "[5.05000000e-07 7.34632700e-05 1.42830264e-05 3.07188526e-05\n",
      " 1.19546147e+02 4.23126514e+01 2.36321204e+02]\n",
      "Temp_SimuTypeQ_N01024_Vrf0061_Udc0.2631D+01V_D1.0_S1.0RFG.dat\n"
     ]
    }
   ],
   "source": [
    "Temp_Langevin  = load_Temp_init_bin_Lan(file_path+'/'+sort(file_name_Lan)[1].strip('.bin'),1)[5]\n",
    "Temp_SimuTypeQ = load_T_and_PM_simu(file_path+'/'+sort(file_name_SimuTypeQ)[0].strip('.dat'))\n",
    "Temp_SimuType4 = load_T_and_PM_simu(file_path+'/'+sort([x for x in file_name_SimuType4_Temp if str_x0 in x])[0].strip('.dat'))\n",
    "Temp_SimuType2 = load_T_and_PM_simu(file_path+'/'+sort([x for x in file_name_SimuType2_Temp if str_x0 in x])[0].strip('.dat'))\n",
    "print(sort(file_name_SimuTypeQ)[0])"
   ]
  },
  {
   "cell_type": "code",
   "execution_count": 33,
   "id": "5295f81f",
   "metadata": {},
   "outputs": [],
   "source": [
    "figure('Temperature_Lan',clear='True')\n",
    "# subplot(211)\n",
    "semilogy(Temp_Langevin[:,0]*1e3,mean(Temp_Langevin[:,4:7],axis=1))\n",
    "grid()\n",
    "xlabel('t [ms]')\n",
    "ylabel('T [K]')\n",
    "tight_layout()"
   ]
  },
  {
   "cell_type": "code",
   "execution_count": 201,
   "id": "0abfc116",
   "metadata": {},
   "outputs": [],
   "source": [
    "figure('Temperature',clear='True')\n",
    "# subplot(211)\n",
    "semilogy(Temp_Langevin[:,0]*1e3,mean(Temp_Langevin[:,4:7],axis=1))\n",
    "semilogy(Temp_SimuTypeQ[0]*1e3,mean(Temp_SimuTypeQ[2],axis=1))\n",
    "semilogy(Temp_SimuType4[0]*1e3,mean(Temp_SimuType4[2],axis=1))\n",
    "semilogy(Temp_SimuType2[0]*1e3,mean(Temp_SimuType2[2],axis=1))\n",
    "grid()\n",
    "xlabel('t [ms]')\n",
    "ylabel('T [K]')\n",
    "tight_layout()"
   ]
  },
  {
   "cell_type": "code",
   "execution_count": 122,
   "id": "2bd60e5a",
   "metadata": {},
   "outputs": [
    {
     "data": {
      "text/plain": [
       "array(['Temp_SimuType4_01_N01024_Vrf0061_Udc0.2631D+01V_D1.0_S1.0RFG_Q01_x0_0.000E+00_50eV.dat',\n",
       "       'Temp_SimuType4_01_N01024_Vrf0061_Udc0.2631D+01V_D1.0_S1.0RFG_Q01_x0_1.000E-04_50eV.dat',\n",
       "       'Temp_SimuType4_01_N01024_Vrf0061_Udc0.2631D+01V_D1.0_S1.0RFG_Q01_x0_1.000E-05_50eV.dat',\n",
       "       'Temp_SimuType4_01_N01024_Vrf0061_Udc0.2631D+01V_D1.0_S1.0RFG_Q01_x0_1.000E-06_50eV.dat',\n",
       "       'Temp_SimuType4_01_N01024_Vrf0061_Udc0.2631D+01V_D1.0_S1.0RFG_Q01_x0_5.000E-05_50eV.dat',\n",
       "       'Temp_SimuType4_01_N01024_Vrf0061_Udc0.2631D+01V_D1.0_S1.0RFG_Q01_x0_5.000E-06_50eV.dat'],\n",
       "      dtype='<U86')"
      ]
     },
     "execution_count": 122,
     "metadata": {},
     "output_type": "execute_result"
    }
   ],
   "source": [
    "file_name_SimuType4_Temp"
   ]
  },
  {
   "cell_type": "code",
   "execution_count": 221,
   "id": "c852cc60",
   "metadata": {},
   "outputs": [
    {
     "name": "stdout",
     "output_type": "stream",
     "text": [
      "[4] [4] [8] [8] [8] [55440]\n",
      "N_ions 1024\n",
      "j_save 990\n",
      "dt_j_save_next 5e-07\n",
      "eta 1.5e-20\n",
      "Temp [0.001]\n",
      "[5.05000000e-07 7.34632700e-05 1.42830264e-05 3.07188526e-05\n",
      " 1.19546147e+02 4.23126514e+01 2.36321204e+02]\n",
      "0 0.000E+00\n",
      "1 1.000E-06\n",
      "2 5.000E-06\n",
      "3 1.000E-05\n",
      "4 5.000E-05\n",
      "5 1.000E-04\n"
     ]
    }
   ],
   "source": [
    "# En boucle\n",
    "\n",
    "x0_list = [0, 1e-6, 5e-6, 10e-6, 50e-6, 100e-6]\n",
    "my_dash = ['-','--',(0, (5, 10, 1, 10)),(0,(1,1)),':',(0,(1,10))]\n",
    "\n",
    "figure('Temperature_loop',clear='True')\n",
    "\n",
    "Temp_Langevin  = load_Temp_init_bin_Lan(file_path+'/'+sort(file_name_Lan)[1].strip('.bin'),1)[5]\n",
    "Temp_SimuTypeQ = load_T_and_PM_simu(file_path+'/'+sort(file_name_SimuTypeQ)[0].strip('.dat'))\n",
    "semilogy(Temp_Langevin[:,0]*1e3,mean(Temp_Langevin[:,4:7],axis=1))\n",
    "semilogy(Temp_SimuTypeQ[0]*1e3,mean(Temp_SimuTypeQ[2],axis=1))\n",
    "\n",
    "for i,j in enumerate(x0_list):\n",
    "    str_x0 = f'{j:.3E}'\n",
    "    print(i,str_x0)\n",
    "    Temp_SimuType4 = load_T_and_PM_simu(file_path+'/'+sort([x for x in file_name_SimuType4_Temp if str_x0 in x])[0].strip('.dat'))\n",
    "    Temp_SimuType2 = load_T_and_PM_simu(file_path+'/'+sort([x for x in file_name_SimuType2_Temp if str_x0 in x])[0].strip('.dat'))\n",
    "    # subplot(211)\n",
    "\n",
    "    semilogy(Temp_SimuType4[0]*1e3,mean(Temp_SimuType4[2],axis=1),color='C2',ls=my_dash[i],label=x0_list[i]*1e6)\n",
    "    semilogy(Temp_SimuType2[0]*1e3,mean(Temp_SimuType2[2],axis=1),color='C3',ls=my_dash[i])\n",
    "grid()\n",
    "legend(title='$x_0$ [µm]',fontsize=15,ncol=2)\n",
    "xlabel('t [ms]')\n",
    "ylabel('T [K]')\n",
    "xlim(8.35,9.2)\n",
    "# ylim(2e-4,2e2)\n",
    "tight_layout()\n",
    "savefig('x0var_zoom.png',dpi=300)"
   ]
  },
  {
   "cell_type": "markdown",
   "id": "91125d22",
   "metadata": {},
   "source": [
    "# Reading GMol trajectory"
   ]
  },
  {
   "cell_type": "code",
   "execution_count": 111,
   "id": "57cfc105",
   "metadata": {},
   "outputs": [],
   "source": [
    "def load_trj_GMol(str_load):\n",
    "    fid = open(str_load+'.bin', 'rb')\n",
    "    \n",
    "    junk = fromfile(fid, int32,1)        # Read record start tag\n",
    "    j_save_temp  = fromfile(fid, int32,1);\n",
    "    junk = fromfile(fid, int32,1)        # Read record stop tag\n",
    "\n",
    "    junk = fromfile(fid, int32,1)        # Read record start tag\n",
    "    steps  = fromfile(fid, int32,1);\n",
    "    junk = fromfile(fid, int32,1)        # Read record stop tag\n",
    "    \n",
    "    junk = fromfile(fid, int32,1)        # Read record start tag\n",
    "    print(junk)\n",
    "    jmax  = fromfile(fid, int32,1);\n",
    "    junk = fromfile(fid, int32,1)        # Read record stop tag\n",
    "    print(junk)\n",
    "    \n",
    "    junk = fromfile(fid, int32,1)        # Read record start \n",
    "    print(junk)\n",
    "    t_act_gmol  = fromfile(fid, float64, jmax[0]+2);\n",
    "    junk = fromfile(fid, int32,1)        # Read record stop tag\n",
    "    print(junk)\n",
    "    \n",
    "    junk = fromfile(fid, int32,1)        # Read record start tag\n",
    "    print(junk)\n",
    "    trj_gmol  = fromfile(fid, float64, (jmax[0]+2)*6);\n",
    "    junk = fromfile(fid, int32,1)        # Read record stop tag\n",
    "    print(junk)\n",
    "    \n",
    "    junk = fromfile(fid, int32,1)        # Read record start tag\n",
    "    print(junk)\n",
    "    Ep_gmol  = fromfile(fid, float64, jmax[0]+2);\n",
    "    junk = fromfile(fid, int32,1)        # Read record stop tag\n",
    "    print(junk)\n",
    "\n",
    "    fid.close\n",
    "\n",
    "    return j_save_temp, steps, jmax, t_act_gmol, trj_gmol, Ep_gmol"
   ]
  },
  {
   "cell_type": "code",
   "execution_count": 141,
   "id": "3dd18cda",
   "metadata": {},
   "outputs": [
    {
     "name": "stdout",
     "output_type": "stream",
     "text": [
      "trj_SimuType4_01_N01024_Vrf0061_Udc0.2631D+01V_D1.0_S1.0RFG_Q01_x0_0.000E+00_50eV_GMol\n",
      "trj_SimuType4_01_N01024_Vrf0061_Udc0.2631D+01V_D1.0_S1.0RFG_Q01_x0_1.000E-06_50eV_GMol\n",
      "trj_SimuType4_01_N01024_Vrf0061_Udc0.2631D+01V_D1.0_S1.0RFG_Q01_x0_5.000E-06_50eV_GMol\n",
      "trj_SimuType4_01_N01024_Vrf0061_Udc0.2631D+01V_D1.0_S1.0RFG_Q01_x0_1.000E-05_50eV_GMol\n",
      "trj_SimuType4_01_N01024_Vrf0061_Udc0.2631D+01V_D1.0_S1.0RFG_Q01_x0_5.000E-05_50eV_GMol\n",
      "trj_SimuType4_01_N01024_Vrf0061_Udc0.2631D+01V_D1.0_S1.0RFG_Q01_x0_1.000E-04_50eV_GMol\n"
     ]
    }
   ],
   "source": [
    "for i,j in enumerate(x0_list):\n",
    "#     file_name_SimuType4_trjGMol\n",
    "    str_x0 = f'{j:.3E}'\n",
    "    tmp = [x for x in file_name_SimuType4_trjGMol if str_x0 in x][0].strip('.bin')\n",
    "    print(tmp)"
   ]
  },
  {
   "cell_type": "code",
   "execution_count": 144,
   "id": "c1223770",
   "metadata": {
    "scrolled": true
   },
   "outputs": [
    {
     "name": "stdout",
     "output_type": "stream",
     "text": [
      "/home/adrien/RemoteFS/Rivendel/Simulations/20230322/DC10_RF10/Try00/trj_SimuType4_01_N01024_Vrf0061_Udc0.2631D+01V_D1.0_S1.0RFG_Q01_x0_0.000E+00_50eV_GMol\n",
      "[4]\n",
      "[4]\n",
      "[800816]\n",
      "[800816]\n",
      "[4804896]\n",
      "[4804896]\n",
      "[800816]\n",
      "[800816]\n",
      "/home/adrien/RemoteFS/Rivendel/Simulations/20230322/DC10_RF10/Try00/trj_SimuType4_01_N01024_Vrf0061_Udc0.2631D+01V_D1.0_S1.0RFG_Q01_x0_1.000E-06_50eV_GMol\n",
      "[4]\n",
      "[4]\n",
      "[800816]\n",
      "[800816]\n",
      "[4804896]\n",
      "[4804896]\n",
      "[800816]\n",
      "[800816]\n",
      "/home/adrien/RemoteFS/Rivendel/Simulations/20230322/DC10_RF10/Try00/trj_SimuType4_01_N01024_Vrf0061_Udc0.2631D+01V_D1.0_S1.0RFG_Q01_x0_5.000E-06_50eV_GMol\n",
      "[4]\n",
      "[4]\n",
      "[800816]\n",
      "[800816]\n",
      "[4804896]\n",
      "[4804896]\n",
      "[800816]\n",
      "[800816]\n",
      "/home/adrien/RemoteFS/Rivendel/Simulations/20230322/DC10_RF10/Try00/trj_SimuType4_01_N01024_Vrf0061_Udc0.2631D+01V_D1.0_S1.0RFG_Q01_x0_1.000E-05_50eV_GMol\n",
      "[4]\n",
      "[4]\n",
      "[800816]\n",
      "[800816]\n",
      "[4804896]\n",
      "[4804896]\n",
      "[800816]\n",
      "[800816]\n",
      "/home/adrien/RemoteFS/Rivendel/Simulations/20230322/DC10_RF10/Try00/trj_SimuType4_01_N01024_Vrf0061_Udc0.2631D+01V_D1.0_S1.0RFG_Q01_x0_5.000E-05_50eV_GMol\n",
      "[4]\n",
      "[4]\n",
      "[800816]\n",
      "[800816]\n",
      "[4804896]\n",
      "[4804896]\n",
      "[800816]\n",
      "[800816]\n",
      "/home/adrien/RemoteFS/Rivendel/Simulations/20230322/DC10_RF10/Try00/trj_SimuType4_01_N01024_Vrf0061_Udc0.2631D+01V_D1.0_S1.0RFG_Q01_x0_1.000E-04_50eV_GMol\n",
      "[4]\n",
      "[4]\n",
      "[800816]\n",
      "[800816]\n",
      "[4804896]\n",
      "[4804896]\n",
      "[800816]\n",
      "[800816]\n"
     ]
    }
   ],
   "source": [
    "time_gmol = []\n",
    "trj_gmol = []\n",
    "steps_gmol = []\n",
    "\n",
    "for i,j in enumerate(x0_list):\n",
    "#     file_name_SimuType4_trjGMol\n",
    "    str_x0 = f'{j:.3E}'\n",
    "    tmp = [x for x in file_name_SimuType4_trjGMol if str_x0 in x][0].strip('.bin')\n",
    "    str_load = f'{file_path}/{tmp}'\n",
    "\n",
    "    print(str_load)\n",
    "    # steps, t_act_gmol, Ep_gmol, trj_gmol = load_trj_GMol(str_load)\n",
    "    j_save_temp, steps, jmax, t_act_gmol, trj_gmol_tmp, Ep_gmol = load_trj_GMol(str_load)\n",
    "    trj_gmol.append( reshape(trj_gmol_tmp,(6,(jmax[0]+2)),order='F') )\n",
    "    time_gmol.append( t_act_gmol )\n",
    "    steps_gmol.append( steps[0] )"
   ]
  },
  {
   "cell_type": "code",
   "execution_count": 206,
   "id": "7ca45293",
   "metadata": {},
   "outputs": [],
   "source": [
    "figname = 'GMol_trajectory_xz'\n",
    "fig = plt.figure(figname,clear='True')\n",
    "# fig.set_size_inches(11.69,8.27)\n",
    "ax = fig.add_subplot(111)\n",
    "# subplot(211)\n",
    "# to_plot = xva_SimuTypeQ\n",
    "# ax.plot(to_plot[2,:]*1e3,to_plot[0,:]*1e6,'8',color='xkcd:purplish blue')\n",
    "\n",
    "for k in range(len(file_name_SimuType4_trjGMol)):\n",
    "    ax.plot(trj_gmol[k][2][:steps_gmol[k]]*1e6,trj_gmol[k][0][:steps_gmol[k]]*1e9-x0_list[k]*1e9, # -x0_list[k]*1e9\n",
    "         '+',label=x0_list[k]*1e6)\n",
    "    \n",
    "ax.grid()\n",
    "ax.set_xlabel('z [µm]')\n",
    "ax.set_ylabel('x-$x_0$ [nm]')\n",
    "# xlim(-255,-181)\n",
    "ylim(-72,72)\n",
    "ax.legend(title='$x_0$ [µm]',fontsize=15,ncol=2)\n",
    "tight_layout()\n",
    "# plt.savefig(figname+'_zoom.png',dpi=300)"
   ]
  },
  {
   "cell_type": "code",
   "execution_count": 176,
   "id": "d76b3f97",
   "metadata": {},
   "outputs": [],
   "source": [
    "figname = 'GMol_trajectory_yz'\n",
    "fig = plt.figure(figname,clear='True')\n",
    "fig.set_size_inches(11.69,8.27)\n",
    "ax = fig.add_subplot(111)\n",
    "for k in range(len(file_name_SimuType4_trjGMol)):\n",
    "    ax.plot(trj_gmol[k][2][:steps_gmol[k]]*1e6,trj_gmol[k][1][:steps_gmol[k]]*1e9, # -x0_list[k]*1e9\n",
    "         '+',label=x0_list[k]*1e6)\n",
    "ax.grid()\n",
    "ax.set_xlabel('z [µm]')\n",
    "ax.set_ylabel('y [nm]')\n",
    "# xlim(-255,-181)\n",
    "# ylim(-72,72)\n",
    "ax.legend(title='$x_0$ [µm]',fontsize=15,ncol=2)\n",
    "tight_layout()\n",
    "plt.savefig(figname+'.png',dpi=300)"
   ]
  },
  {
   "cell_type": "code",
   "execution_count": 177,
   "id": "2773851a",
   "metadata": {},
   "outputs": [],
   "source": [
    "figname = 'GMol_trajectory_xy'\n",
    "fig = plt.figure(figname,clear='True')\n",
    "fig.set_size_inches(11.69,8.27)\n",
    "ax = fig.add_subplot(111)\n",
    "for k in range(len(file_name_SimuType4_trjGMol)):\n",
    "    ax.plot(trj_gmol[k][0][:steps_gmol[k]]*1e9,trj_gmol[k][1][:steps_gmol[k]]*1e9, # -x0_list[k]*1e9\n",
    "         '+',label=x0_list[k]*1e6)\n",
    "ax.grid()\n",
    "ax.set_xlabel('x [nm]')\n",
    "ax.set_ylabel('y [nm]')\n",
    "# xlim(-255,-181)\n",
    "# ylim(-72,72)\n",
    "ax.legend(title='$x_0$ [µm]',fontsize=15,ncol=2)\n",
    "tight_layout()\n",
    "plt.savefig(figname+'.png',dpi=300)"
   ]
  },
  {
   "cell_type": "code",
   "execution_count": 186,
   "id": "c2ef65de",
   "metadata": {},
   "outputs": [],
   "source": [
    "figname = 'GMol_velocity_z'\n",
    "fig = plt.figure(figname,clear='True')\n",
    "fig.set_size_inches(11.69,8.27)\n",
    "ax = fig.add_subplot(111)\n",
    "# subplot(211)\n",
    "for k in range(len(file_name_SimuType4_trjGMol)):\n",
    "    ax.plot(trj_gmol[k][2][:steps_gmol[k]]*1e6,trj_gmol[k][5][:steps_gmol[k]],\n",
    "         '',label=x0_list[k]*1e6)\n",
    "ax.grid()\n",
    "ax.set_xlabel('z [µm]')\n",
    "ax.set_ylabel('$v_z$ [m/s]')\n",
    "ax.legend(title='$x_0$ [µm]',fontsize=15,ncol=2)\n",
    "ax.set_xlim(-500,500)\n",
    "ax.set_ylim(98.16,98.22)\n",
    "tight_layout()\n",
    "plt.savefig(figname+'zoom_.png',dpi=300)"
   ]
  },
  {
   "cell_type": "code",
   "execution_count": null,
   "id": "bbdf9376",
   "metadata": {},
   "outputs": [],
   "source": [
    "sqrt(2*(50*C_e))"
   ]
  },
  {
   "cell_type": "code",
   "execution_count": 411,
   "id": "c9125256",
   "metadata": {},
   "outputs": [
    {
     "name": "stdout",
     "output_type": "stream",
     "text": [
      "0.015000000000000568\n",
      "-15.268338789319102\n",
      "0.10469999999999402\n",
      "-106.4447813645586\n",
      "0.23000000000000398\n",
      "-233.45772337704318\n",
      "0.51400000000001\n",
      "-520.0330117286001\n"
     ]
    }
   ],
   "source": [
    "m_GM = 1e6*1.66054e-27\n",
    "C_e = 1.602e-19 \n",
    "\n",
    "E_i = 0.5*m_GM*(98.208)**2 / C_e\n",
    "E_f = 0.5*m_GM*(98.193)**2 / C_e\n",
    "deltaE = E_f - E_i\n",
    "print(98.208-98.193)\n",
    "print(deltaE*1e3)\n",
    "\n",
    "E_i = 0.5*m_GM*(98.1347)**2 / C_e\n",
    "E_f = 0.5*m_GM*(98.03)**2 / C_e\n",
    "deltaE = E_f - E_i\n",
    "print(98.1347-98.03)\n",
    "print(deltaE*1e3)\n",
    "\n",
    "E_i = 0.5*m_GM*(98.04)**2 / C_e\n",
    "E_f = 0.5*m_GM*(97.81)**2 / C_e\n",
    "deltaE = E_f - E_i\n",
    "print(98.04-97.81)\n",
    "print(deltaE*1e3)\n",
    "\n",
    "\n",
    "E_i = 0.5*m_GM*(97.864)**2 / C_e\n",
    "E_f = 0.5*m_GM*(97.350)**2 / C_e\n",
    "deltaE = E_f - E_i\n",
    "print(97.864-97.350)\n",
    "print(deltaE*1e3)\n",
    "\n",
    "Q_list = [1,5,10,20]\n",
    "Delta_E_list = [-15.268338789319102,-106.4447813645586,-233.45772337704318,-520.0330117286001]"
   ]
  },
  {
   "cell_type": "code",
   "execution_count": 412,
   "id": "6dc92063",
   "metadata": {},
   "outputs": [],
   "source": [
    "def my_lin_fit(x,a,b):\n",
    "    return a*x+b    "
   ]
  },
  {
   "cell_type": "code",
   "execution_count": 413,
   "id": "b5f0c9e8",
   "metadata": {},
   "outputs": [],
   "source": [
    "popt,pcov = curve_fit(my_lin_fit,\n",
    "                      Q_list,\n",
    "                      Delta_E_list)\n",
    "\n",
    "figname = 'delta_E_vs_Q'\n",
    "figure(figname,clear=True)\n",
    "plot(Q_list,Delta_E_list,\n",
    "     marker='P',ls='')\n",
    "plot(linspace(0,20,50),my_lin_fit(linspace(0,20,50),*popt),label='lin. fit')\n",
    "grid()\n",
    "xlabel('Q')\n",
    "ylabel('$\\Delta E$ [eV]')\n",
    "legend()\n",
    "tight_layout()\n",
    "savefig(figname+'.png',dpi=300)"
   ]
  }
 ],
 "metadata": {
  "kernelspec": {
   "display_name": "Python 3 (ipykernel)",
   "language": "python",
   "name": "python3"
  },
  "language_info": {
   "codemirror_mode": {
    "name": "ipython",
    "version": 3
   },
   "file_extension": ".py",
   "mimetype": "text/x-python",
   "name": "python",
   "nbconvert_exporter": "python",
   "pygments_lexer": "ipython3",
   "version": "3.10.6"
  }
 },
 "nbformat": 4,
 "nbformat_minor": 5
}
