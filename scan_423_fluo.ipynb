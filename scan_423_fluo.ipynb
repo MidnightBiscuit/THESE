{
 "cells": [
  {
   "cell_type": "code",
   "execution_count": 1,
   "metadata": {},
   "outputs": [],
   "source": [
    "# %pylab\n",
    "\n",
    "import numpy\n",
    "import matplotlib\n",
    "from matplotlib import pylab, mlab, pyplot\n",
    "from mpl_toolkits.mplot3d import Axes3D\n",
    "np = numpy\n",
    "plt = pyplot\n",
    "\n",
    "from pylab import *\n",
    "from numpy import *"
   ]
  },
  {
   "cell_type": "code",
   "execution_count": 2,
   "metadata": {},
   "outputs": [
    {
     "name": "stdout",
     "output_type": "stream",
     "text": [
      "Using matplotlib backend: TkAgg\n"
     ]
    }
   ],
   "source": [
    "from scipy.optimize import curve_fit\n",
    "import tkinter as tk\n",
    "from tkinter import filedialog\n",
    "\n",
    "matplotlib.rcParams['figure.figsize'] = [10.5,7]\n",
    "matplotlib.rcParams.update({'font.size': 25})\n",
    "%matplotlib"
   ]
  },
  {
   "cell_type": "code",
   "execution_count": 3,
   "metadata": {},
   "outputs": [],
   "source": [
    "def gaussian(x, A, mu, sig):\n",
    "    return A*exp(-power(x - mu, 2.) / (2 * power(sig, 2.)))"
   ]
  },
  {
   "cell_type": "code",
   "execution_count": 178,
   "metadata": {},
   "outputs": [],
   "source": [
    "# Constantes de la physique\n",
    "# ABSOLUMENT RECHARGER APRÈS AVOIR EXECUTÉ LES CASES D'IMPORT AU DESSUS\n",
    "\n",
    "C_e = 1.602e-19        # Coulomb\n",
    "kb = 1.38064852*1e-23  # Boltzman\n",
    "m_Ca = 40.078*1.66054e-27 # masse Ca 40.078\n",
    "m_GM = 1e6*1.66054e-27 # la masse de la GMol\n",
    "eps0 = 8.854187*1e-12  # permittivité électrique du vide"
   ]
  },
  {
   "cell_type": "code",
   "execution_count": 5,
   "metadata": {},
   "outputs": [
    {
     "name": "stdout",
     "output_type": "stream",
     "text": [
      "('/home/adrien/Documents/Mesures/Neutres/221026/221026_Fluo_neutre_DL423_000.dat', '/home/adrien/Documents/Mesures/Neutres/221026/221026_Fluo_neutre_DL423_001.dat', '/home/adrien/Documents/Mesures/Neutres/221026/221026_Fluo_neutre_DL423_002.dat')\n"
     ]
    }
   ],
   "source": [
    "# sélection des fichiers (Python 3)\n",
    "import tkinter as tk\n",
    "from tkinter import filedialog\n",
    "\n",
    "root = tk.Tk()\n",
    "root.withdraw()\n",
    "\n",
    "file_path = filedialog.askopenfilename(initialdir = '/home/adrian/Documents/Mesures',multiple=True)\n",
    "print(file_path)\n",
    "\n",
    "# ('/home/adrian/Documents/Mesures/GiantMol_Ions/20180606/fluo_temp_scan866__000_000.dat',\n",
    "# '/home/adrian/Documents/Mesures/GiantMol_Ions/20180606/fluo_temp_scan866__000_001.dat',\n",
    "# '/home/adrian/Documents/Mesures/GiantMol_Ions/20180606/fluo_temp_scan866__000_002.dat')\n",
    "\n",
    "# ('/home/adrian/Documents/Mesures/laser_scan/20210416/fluo_dip_re_000.dat', '/home/adrian/Documents/Mesures/laser_scan/20210416/fluo_dip_re_001.dat')"
   ]
  },
  {
   "cell_type": "code",
   "execution_count": 174,
   "metadata": {},
   "outputs": [],
   "source": [
    "# Array rectangle\n",
    "# Allocation à l'avance\n",
    "\n",
    "filename=file_path\n",
    "m = loadtxt(file_path[0],usecols=(2),delimiter='\\t',skiprows=0,unpack=True).size\n",
    "n = len(file_path)\n",
    "shape = (m, n)\n",
    "\n",
    "TIME = zeros(shape)\n",
    "PM = zeros(shape)\n",
    "CH2 = zeros(shape)\n",
    "\n",
    "for k in range(0,len(filename)):\n",
    "    TIME[:,k], PM[:,k] = loadtxt(file_path[k],usecols=(0,1),delimiter='\\t',skiprows=0,unpack=True)"
   ]
  },
  {
   "cell_type": "code",
   "execution_count": 175,
   "metadata": {},
   "outputs": [
    {
     "name": "stdout",
     "output_type": "stream",
     "text": [
      "[151 114 101]\n"
     ]
    }
   ],
   "source": [
    "fond = mean(PM[-100:,:]) # amin(PM,axis=0)\n",
    "# fond = mean(PM[-100:,:],axis=0)\n",
    "PM = PM - fond\n",
    "fmax = array([709.08070, 0, 299792458/1.0002818/422.67113e-9 *1e-12]) # 709.08070\n",
    "fmin = array([709.07780, 0, 299792458/1.0002818/422.67282e-9 *1e-12]) # 709.07780\n",
    "ftrans = 709.07800\n",
    "FREQ = (TIME/amax(TIME,axis=0)*(fmax-fmin)+fmin - ftrans) # \n",
    "max_FREQ = argmax(PM,axis=0)\n",
    "print(max_FREQ)"
   ]
  },
  {
   "cell_type": "code",
   "execution_count": 176,
   "metadata": {},
   "outputs": [
    {
     "name": "stdout",
     "output_type": "stream",
     "text": [
      "/home/adrien/Documents/Mesures/Neutres/221026/221026_Fluo_neutre_DL423_002.dat\n"
     ]
    }
   ],
   "source": [
    "# plot for simple scan\n",
    "\n",
    "to_plot = 2\n",
    "print(file_path[to_plot])\n",
    "fig = figure('Fluo_neutres',clear='True')\n",
    "ax = fig.add_subplot(1, 1, 1)\n",
    "\n",
    "ax.plot(FREQ[:,to_plot]*1e6,PM[:,to_plot],'+',color='xkcd:prussian blue',label='423 fluo.') # TIME[:,to_plot]\n",
    "\n",
    "xfit = linspace(0,1500,1000)\n",
    "pstart = [25000,650,200]\n",
    "popt, pcov = curve_fit(gaussian,\n",
    "                       FREQ[max_FREQ[to_plot]-50:max_FREQ[to_plot]+50,to_plot]*1e6,\n",
    "                       PM[max_FREQ[to_plot]-50:max_FREQ[to_plot]+50,to_plot],p0=pstart)\n",
    "ax.plot(xfit,gaussian(xfit,*popt))\n",
    "\n",
    "# ax.xaxis.set_major_locator(matplotlib.ticker.MultipleLocator(base=0.2))\n",
    "ax.yaxis.set_major_locator(matplotlib.ticker.MultipleLocator(base=5000))\n",
    "\n",
    "# xlabel(r't [ms]')\n",
    "xlabel(r'$\\Delta f_{423}$ [MHz]')\n",
    "ylabel('fluo. [cts/5ms]')\n",
    "ax.legend(fontsize=18)\n",
    "\n",
    "grid()\n",
    "tight_layout()"
   ]
  },
  {
   "cell_type": "code",
   "execution_count": 196,
   "metadata": {},
   "outputs": [
    {
     "name": "stdout",
     "output_type": "stream",
     "text": [
      "260.42912114290027 10.14266779589865\n"
     ]
    }
   ],
   "source": [
    "FWHM = 2*sqrt(2*log(2))*popt[2]*1e-6\n",
    "Temperature = 300*40.078*(299792458/1.7/2230*FWHM/ftrans)**2\n",
    "print(FWHM*1e6,Temperature)\n",
    "# Ce calcul ne prend pas en compte la vitesse moyenne du jet de neutres"
   ]
  }
 ],
 "metadata": {
  "kernelspec": {
   "display_name": "Python 3 (ipykernel)",
   "language": "python",
   "name": "python3"
  },
  "language_info": {
   "codemirror_mode": {
    "name": "ipython",
    "version": 3
   },
   "file_extension": ".py",
   "mimetype": "text/x-python",
   "name": "python",
   "nbconvert_exporter": "python",
   "pygments_lexer": "ipython3",
   "version": "3.10.6"
  }
 },
 "nbformat": 4,
 "nbformat_minor": 2
}
