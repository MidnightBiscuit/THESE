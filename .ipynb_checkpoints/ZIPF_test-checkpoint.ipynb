{
 "cells": [
  {
   "cell_type": "code",
   "execution_count": 1,
   "metadata": {},
   "outputs": [],
   "source": [
    "# %pylab\n",
    "\n",
    "import numpy\n",
    "import matplotlib\n",
    "from matplotlib import pylab, mlab, pyplot\n",
    "from mpl_toolkits.mplot3d import Axes3D\n",
    "np = numpy\n",
    "plt = pyplot\n",
    "\n",
    "from pylab import *\n",
    "from numpy import *\n",
    "\n",
    "%matplotlib qt"
   ]
  },
  {
   "cell_type": "code",
   "execution_count": null,
   "metadata": {},
   "outputs": [],
   "source": []
  },
  {
   "cell_type": "code",
   "execution_count": 121,
   "metadata": {},
   "outputs": [],
   "source": [
    "cashback = [5.64,3.66,19.55,0,4.59,13.72,1.87,2.81,19.24,7.85,10.45,10.63,11.07,4.16,8.64,8.95,16.65,5.67,6.25,5.36,\n",
    "            2.62,15.21,6.69,4.94,4.89,16.3,15.91,12.02,10.13,1.91,1.17,3.06,12.06,6.12,2.68,6.63,15.57,23.3,7.31,9.96,\n",
    "            4.72,2.58,23.14,1.52,6.18,3.68,12.6,6.46,15.76,16.86,10.04,0,10.62,3.49,0]\n",
    "indiv_numbers = []\n",
    "for i,j in enumerate(cashback):\n",
    "#     print(j)\n",
    "    for k in re.sub('[^0-9]', '',str(j)):\n",
    "#         print(k)\n",
    "        indiv_cashback.append(int(k))"
   ]
  },
  {
   "cell_type": "code",
   "execution_count": 122,
   "metadata": {},
   "outputs": [],
   "source": [
    "my_bins = [0,1,2,3,4,5,6,7,8,9]\n",
    "my_hist = hist(indiv_cashback,bins=my_bins)\n",
    "\n",
    "fig, ax = plt.subplots(num='coucou',clear='True')\n",
    "ax.hist(indiv_cashback,bins=my_bins,log=True,edgecolor='k')\n",
    "ax.plot(add(my_bins[:-1],+0.5),list(histogram(indiv_cashback,bins=9)[0]))\n",
    "ax.set_xscale(\"log\")\n",
    "ax.grid()"
   ]
  },
  {
   "cell_type": "code",
   "execution_count": 123,
   "metadata": {},
   "outputs": [
    {
     "data": {
      "text/plain": [
       "(array([13., 35., 19., 14., 14., 18., 31., 10., 23.]),\n",
       " array([0, 1, 2, 3, 4, 5, 6, 7, 8, 9]),\n",
       " <a list of 9 Patch objects>)"
      ]
     },
     "execution_count": 123,
     "metadata": {},
     "output_type": "execute_result"
    }
   ],
   "source": [
    "my_hist"
   ]
  },
  {
   "cell_type": "code",
   "execution_count": null,
   "metadata": {},
   "outputs": [],
   "source": [
    "# A faire avec les visiteurs, vues, ventes. Le montant est biaisé il y a des tarifs souvent en xx.x9 ou pire xx.99."
   ]
  }
 ],
 "metadata": {
  "kernelspec": {
   "display_name": "Python 3",
   "language": "python",
   "name": "python3"
  },
  "language_info": {
   "codemirror_mode": {
    "name": "ipython",
    "version": 3
   },
   "file_extension": ".py",
   "mimetype": "text/x-python",
   "name": "python",
   "nbconvert_exporter": "python",
   "pygments_lexer": "ipython3",
   "version": "3.7.6"
  }
 },
 "nbformat": 4,
 "nbformat_minor": 4
}
