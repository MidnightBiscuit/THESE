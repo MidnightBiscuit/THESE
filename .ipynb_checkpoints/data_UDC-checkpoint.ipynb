{
 "cells": [
  {
   "cell_type": "code",
   "execution_count": 1,
   "metadata": {},
   "outputs": [],
   "source": [
    "import numpy\n",
    "import matplotlib\n",
    "from matplotlib import pylab, mlab, pyplot\n",
    "from mpl_toolkits.mplot3d import Axes3D\n",
    "np = numpy\n",
    "plt = pyplot\n",
    "\n",
    "from pylab import *\n",
    "from numpy import *"
   ]
  },
  {
   "cell_type": "code",
   "execution_count": 2,
   "metadata": {},
   "outputs": [],
   "source": [
    "from matplotlib import cm\n",
    "from scipy.optimize import curve_fit\n",
    "from scipy.signal import argrelextrema"
   ]
  },
  {
   "cell_type": "code",
   "execution_count": 3,
   "metadata": {},
   "outputs": [],
   "source": [
    "%matplotlib qt\n",
    "matplotlib.rcParams['figure.figsize'] = [10.5,7]\n",
    "matplotlib.rcParams.update({'font.size': 20})"
   ]
  },
  {
   "cell_type": "code",
   "execution_count": 4,
   "metadata": {},
   "outputs": [],
   "source": [
    "# pas top pour avoir cov avec barre erreur\n",
    "def lin_fit(y1,y2,deg):\n",
    "    p=polyfit(y1,y2,deg) # obtention coefficients fit\n",
    "    return poly1d(p) # génération fonction"
   ]
  },
  {
   "cell_type": "code",
   "execution_count": 5,
   "metadata": {},
   "outputs": [],
   "source": [
    "# # Mathieu Barre erreur\n",
    "# # on peut lui donner barre erreur pour calcul variance\n",
    "# def function_(x,a,b) :\n",
    "#     return cos(a*x+b)*rand(1)*x\n",
    "# x=arange(0,10,0.1)\n",
    "# A = rand(1)\n",
    "# B=0.2*rand(1)\n",
    "# to_fit = function_(x,A,B) # pts xp\n",
    "# fit_ , pcov = curve_fit(function_,x,to_fit,p0=[A,B]) # le fit\n",
    "# ERR_fit = np.sqrt(np.diag(pcov)) # 1sigma variance\n",
    "# figure('function_').clf()\n",
    "# plt.plot(x,to_fit,label='data')\n",
    "# plt.errorbar(x,function_(x,fit_[0],fit_[1]),yerr=ERR_fit[0],label='FIT')\n",
    "# plt.legend()"
   ]
  },
  {
   "cell_type": "markdown",
   "metadata": {},
   "source": [
    "# Extraction de données"
   ]
  },
  {
   "cell_type": "code",
   "execution_count": 6,
   "metadata": {},
   "outputs": [
    {
     "name": "stdout",
     "output_type": "stream",
     "text": [
      "('/home/adrian/Documents/Mesures/GiantMol_Ions/20180503/vardc/tickle_150-3vpp_2100mv_167k_367k_000.dat', '/home/adrian/Documents/Mesures/GiantMol_Ions/20180503/vardc/tickle_150-3vpp_2300mv_167k_367k_001.dat', '/home/adrian/Documents/Mesures/GiantMol_Ions/20180503/vardc/tickle_150-3vpp_2500mv_167k_367k_001.dat', '/home/adrian/Documents/Mesures/GiantMol_Ions/20180503/vardc/tickle_150-3vpp_2700mv_167k_367k_000.dat', '/home/adrian/Documents/Mesures/GiantMol_Ions/20180503/vardc/tickle_150-3vpp_2900mv_167k_367k_000.dat', '/home/adrian/Documents/Mesures/GiantMol_Ions/20180503/vardc/tickle_150-3vpp_3100mv_167k_367k_001.dat', '/home/adrian/Documents/Mesures/GiantMol_Ions/20180503/vardc/tickle_150-3vpp_3300mv_167k_367k_001.dat', '/home/adrian/Documents/Mesures/GiantMol_Ions/20180503/vardc/tickle_150-3vpp_3500mv_167k_367k_001.dat')\n"
     ]
    }
   ],
   "source": [
    "# sélection des fichiers (Python 3)\n",
    "import tkinter as tk\n",
    "from tkinter import filedialog\n",
    "\n",
    "root = tk.Tk()\n",
    "root.withdraw()\n",
    "\n",
    "file_path = filedialog.askopenfilename(initialdir = '/home/adrian/Documents/Mesures',multiple=True)\n",
    "print(file_path)\n",
    "# /home/adrian/Documents/Mesures/20180503/"
   ]
  },
  {
   "cell_type": "code",
   "execution_count": 22,
   "metadata": {},
   "outputs": [],
   "source": [
    "filename=file_path\n",
    "# Temps, PM, Tension Pzt bleu\n",
    "TP = zeros((len(filename),999))\n",
    "PM = zeros((len(filename),999),int)\n",
    "VB = zeros((len(filename),999))\n",
    "for k in range(0,len(filename),1):\n",
    "    TP[:][k],PM[:][k],VB[:][k] = loadtxt('%s' %filename[k],usecols=(0,1,3),unpack=True)"
   ]
  },
  {
   "cell_type": "code",
   "execution_count": 19,
   "metadata": {},
   "outputs": [
    {
     "name": "stdout",
     "output_type": "stream",
     "text": [
      "20180503/vardc/tickle_150-3vpp_2100mv_167k_367k_00\n",
      "20180503/vardc/tickle_150-3vpp_2300mv_167k_367k_00\n",
      "20180503/vardc/tickle_150-3vpp_2500mv_167k_367k_00\n",
      "20180503/vardc/tickle_150-3vpp_2700mv_167k_367k_00\n",
      "20180503/vardc/tickle_150-3vpp_2900mv_167k_367k_00\n",
      "20180503/vardc/tickle_150-3vpp_3100mv_167k_367k_00\n",
      "20180503/vardc/tickle_150-3vpp_3300mv_167k_367k_00\n",
      "20180503/vardc/tickle_150-3vpp_3500mv_167k_367k_00\n",
      "7k_\n"
     ]
    }
   ],
   "source": [
    "for k in range(0,len(file_path)):\n",
    "    print(file_path[k][45:95])\n",
    "print(file_path[1][90:93])"
   ]
  },
  {
   "cell_type": "code",
   "execution_count": null,
   "metadata": {},
   "outputs": [],
   "source": []
  },
  {
   "cell_type": "code",
   "execution_count": 52,
   "metadata": {
    "scrolled": true
   },
   "outputs": [
    {
     "ename": "ValueError",
     "evalue": "could not broadcast input array from shape (2) into shape (18)",
     "output_type": "error",
     "traceback": [
      "\u001b[0;31m---------------------------------------------------------------------------\u001b[0m",
      "\u001b[0;31mValueError\u001b[0m                                Traceback (most recent call last)",
      "\u001b[0;32m<ipython-input-52-340d496b17dd>\u001b[0m in \u001b[0;36m<module>\u001b[0;34m()\u001b[0m\n\u001b[1;32m      7\u001b[0m \u001b[0;32mfor\u001b[0m \u001b[0mk\u001b[0m \u001b[0;32min\u001b[0m \u001b[0mrange\u001b[0m\u001b[0;34m(\u001b[0m\u001b[0;36m0\u001b[0m\u001b[0;34m,\u001b[0m\u001b[0mlen\u001b[0m\u001b[0;34m(\u001b[0m\u001b[0mfile_path\u001b[0m\u001b[0;34m)\u001b[0m\u001b[0;34m)\u001b[0m\u001b[0;34m:\u001b[0m\u001b[0;34m\u001b[0m\u001b[0;34m\u001b[0m\u001b[0m\n\u001b[1;32m      8\u001b[0m     \u001b[0mlongueur\u001b[0m \u001b[0;34m=\u001b[0m \u001b[0mlen\u001b[0m\u001b[0;34m(\u001b[0m\u001b[0mnp\u001b[0m\u001b[0;34m.\u001b[0m\u001b[0marray\u001b[0m\u001b[0;34m(\u001b[0m\u001b[0margrelextrema\u001b[0m\u001b[0;34m(\u001b[0m\u001b[0mPM\u001b[0m\u001b[0;34m[\u001b[0m\u001b[0mk\u001b[0m\u001b[0;34m]\u001b[0m\u001b[0;34m,\u001b[0m\u001b[0mless\u001b[0m\u001b[0;34m,\u001b[0m\u001b[0morder\u001b[0m\u001b[0;34m=\u001b[0m\u001b[0;36m25\u001b[0m\u001b[0;34m,\u001b[0m\u001b[0maxis\u001b[0m\u001b[0;34m=\u001b[0m\u001b[0;36m0\u001b[0m\u001b[0;34m)\u001b[0m\u001b[0;34m[\u001b[0m\u001b[0;36m0\u001b[0m\u001b[0;34m]\u001b[0m\u001b[0;34m)\u001b[0m\u001b[0;34m)\u001b[0m\u001b[0;34m\u001b[0m\u001b[0;34m\u001b[0m\u001b[0m\n\u001b[0;32m----> 9\u001b[0;31m     \u001b[0mtoto\u001b[0m\u001b[0;34m[\u001b[0m\u001b[0mk\u001b[0m\u001b[0;34m,\u001b[0m\u001b[0;34m:\u001b[0m\u001b[0mlongueur\u001b[0m\u001b[0;34m]\u001b[0m \u001b[0;34m=\u001b[0m \u001b[0mnp\u001b[0m\u001b[0;34m.\u001b[0m\u001b[0marray\u001b[0m\u001b[0;34m(\u001b[0m\u001b[0margrelextrema\u001b[0m\u001b[0;34m(\u001b[0m\u001b[0mPM\u001b[0m\u001b[0;34m[\u001b[0m\u001b[0mk\u001b[0m\u001b[0;34m]\u001b[0m\u001b[0;34m[\u001b[0m\u001b[0mmin_lim\u001b[0m\u001b[0;34m:\u001b[0m\u001b[0mmax_lim\u001b[0m\u001b[0;34m]\u001b[0m\u001b[0;34m,\u001b[0m\u001b[0mless\u001b[0m\u001b[0;34m,\u001b[0m\u001b[0morder\u001b[0m\u001b[0;34m=\u001b[0m\u001b[0;36m25\u001b[0m\u001b[0;34m,\u001b[0m\u001b[0maxis\u001b[0m\u001b[0;34m=\u001b[0m\u001b[0;36m0\u001b[0m\u001b[0;34m)\u001b[0m\u001b[0;34m[\u001b[0m\u001b[0;36m0\u001b[0m\u001b[0;34m]\u001b[0m\u001b[0;34m)\u001b[0m\u001b[0;34m*\u001b[0m\u001b[0;36m0.2\u001b[0m\u001b[0;34m+\u001b[0m\u001b[0;36m167\u001b[0m\u001b[0;34m\u001b[0m\u001b[0;34m\u001b[0m\u001b[0m\n\u001b[0m\u001b[1;32m     10\u001b[0m \u001b[0;34m\u001b[0m\u001b[0m\n\u001b[1;32m     11\u001b[0m \u001b[0;31m# test_min = toto*0.1+167\u001b[0m\u001b[0;34m\u001b[0m\u001b[0;34m\u001b[0m\u001b[0;34m\u001b[0m\u001b[0m\n",
      "\u001b[0;31mValueError\u001b[0m: could not broadcast input array from shape (2) into shape (18)"
     ]
    }
   ],
   "source": [
    "# MARCHE TRES TRES TRES TRES TRES BIEN !!!!!\n",
    "cm = pylab.get_cmap('jet')\n",
    "freq=linspace(167,367,len(PM[0]))\n",
    "toto = zeros((len(file_path),25))\n",
    "min_lim = 210\n",
    "max_lim = 320\n",
    "for k in range(0,len(file_path)):\n",
    "    longueur = len(np.array(argrelextrema(PM[k],less,order=25,axis=0)[0]))\n",
    "    toto[k,:longueur] = np.array(argrelextrema(PM[k][min_lim:max_lim],less,order=25,axis=0)[0])*0.2+167\n",
    "\n",
    "# test_min = toto*0.1+167"
   ]
  },
  {
   "cell_type": "code",
   "execution_count": 50,
   "metadata": {},
   "outputs": [],
   "source": [
    "# true_min=[]\n",
    "# for k in range(0,len(file_path)):\n",
    "#     temp_min=[]\n",
    "#     for l in range(0,3):\n",
    "#         idx = argmin(asarray(test_min[0])[:])\n",
    "#         temp_min.append(idx)\n",
    "#         delete(test_min,idx)\n",
    "#     true_min.append(temp_min)\n",
    "# print(true_min)\n",
    "figure('Plot tickle blabl')\n",
    "clf()\n",
    "\n",
    "for to_plot in range(0,len(file_path)):\n",
    "    subplot(4,2,to_plot+1)\n",
    "    \n",
    "    title('UDC = '+ file_path[to_plot][82:89] + ' V ')\n",
    "#     title('UDC = '+ file_path[to_plot][65:73] + ' V : ' + file_path[to_plot][90:93])\n",
    "\n",
    "    plot(freq[0:len(PM[to_plot])],PM[to_plot],color = cm(1.*to_plot/len(file_path)))\n",
    "    plt.vlines(x=trim_zeros(toto[to_plot,:]),ymin = 0,ymax = 12000,\n",
    "               linestyle = ':',color = cm(1.*k/len(file_path)))\n",
    "\n",
    "    for k in range(0,2*len(file_path)):\n",
    "        long = trim_zeros(toto[to_plot,:])\n",
    "        plt.text(toto[to_plot,k],10000,k,fontsize=10,ha='center')\n",
    "    \n",
    "    grid()\n",
    "    \n",
    "tight_layout()"
   ]
  },
  {
   "cell_type": "code",
   "execution_count": 11,
   "metadata": {},
   "outputs": [
    {
     "data": {
      "text/plain": [
       "('/home/adrian/Documents/Mesures/GiantMol_Ions/20180503/tickle_120-8vpp_2500mv_167k_367k_000.dat',\n",
       " '/home/adrian/Documents/Mesures/GiantMol_Ions/20180503/tickle_129-8vpp_2500mv_167k_367k_000.dat',\n",
       " '/home/adrian/Documents/Mesures/GiantMol_Ions/20180503/tickle_129-9vpp_2500mv_167k_367k_000.dat',\n",
       " '/home/adrian/Documents/Mesures/GiantMol_Ions/20180503/tickle_139-8vpp_2500mv_167k_367k_000.dat',\n",
       " '/home/adrian/Documents/Mesures/GiantMol_Ions/20180503/tickle_149-7vpp_2500mv_167k_367k_000.dat',\n",
       " '/home/adrian/Documents/Mesures/GiantMol_Ions/20180503/tickle_160-3vpp_2500mv_167k_367k_000.dat',\n",
       " '/home/adrian/Documents/Mesures/GiantMol_Ions/20180503/tickle_170-3vpp_2500mv_167k_367k_000.dat',\n",
       " '/home/adrian/Documents/Mesures/GiantMol_Ions/20180503/tickle_180-3vpp_2500mv_167k_367k_000.dat',\n",
       " '/home/adrian/Documents/Mesures/GiantMol_Ions/20180503/tickle_190-3vpp_2500mv_167k_367k_000.dat',\n",
       " '/home/adrian/Documents/Mesures/GiantMol_Ions/20180503/tickle_190-3vpp_2500mv_167k_367k_001.dat')"
      ]
     },
     "execution_count": 11,
     "metadata": {},
     "output_type": "execute_result"
    }
   ],
   "source": [
    "file_path"
   ]
  },
  {
   "cell_type": "code",
   "execution_count": 85,
   "metadata": {},
   "outputs": [
    {
     "data": {
      "text/plain": [
       "[[279.1, 307.5, 328.3],\n",
       " [284.8, 305.9, 330.0],\n",
       " [291.5, 303.4, 329.0],\n",
       " [294.5, 301, 330],\n",
       " [299.9, 299.9, 331.1],\n",
       " [294.9, 304.5, 333.7],\n",
       " [290.3, 310.6, 335.4],\n",
       " [285.2, 314.9, 338.1]]"
      ]
     },
     "execution_count": 85,
     "metadata": {},
     "output_type": "execute_result"
    }
   ],
   "source": [
    "to_delete=[[0,1,2,3,4,5,6,8,9,12,13,14,15,16],\n",
    "[0,1,2,3,4,5,8,10,11,12,13,14,15,16,17,18],\n",
    "[0,1,2,3,4,5,6,7,10,11,13,14,15,16,17,18],\n",
    "[0,1,2,3,4,5,6,7,9,11,12,13,14,15,16],\n",
    "[0,1,2,3,4,5,6,7,11,12,13,14,15],\n",
    "[0,1,2,3,4,5,6,7,8,12,13,14,15,16],\n",
    "[0,1,2,3,4,5,6,9,11,12,13,14,15],\n",
    "[0,1,2,3,4,5,8,10,11,12,13,14,15,16]]\n",
    "\n",
    "true_test_min=[]\n",
    "for k in range(0,len(file_path)):\n",
    "    true_test_min.append(list(delete(trim_zeros(test_min[k]-207)+207,to_delete[k])))\n",
    "\n",
    "true_test_min[3] = [294.5,301,330]\n",
    "true_test_min[4] = [299.9,299.9,331.1]\n",
    "true_test_min"
   ]
  },
  {
   "cell_type": "code",
   "execution_count": 86,
   "metadata": {},
   "outputs": [
    {
     "data": {
      "text/plain": [
       "[[279.1, 307.5, 328.3],\n",
       " [284.8, 305.9, 330.0],\n",
       " [291.5, 303.4, 329.0],\n",
       " [294.5, 301, 330],\n",
       " [299.9, 299.9, 331.1],\n",
       " [294.9, 304.5, 333.7],\n",
       " [290.3, 310.6, 335.4],\n",
       " [285.2, 314.9, 338.1]]"
      ]
     },
     "execution_count": 86,
     "metadata": {},
     "output_type": "execute_result"
    }
   ],
   "source": [
    "true_test_min"
   ]
  },
  {
   "cell_type": "code",
   "execution_count": 147,
   "metadata": {},
   "outputs": [
    {
     "data": {
      "text/plain": [
       "314.9"
      ]
     },
     "execution_count": 147,
     "metadata": {},
     "output_type": "execute_result"
    }
   ],
   "source": [
    "lines = zeros((3,8),dtype = int)\n",
    "lines [0,:] = [2,2,2,2,2,2,2,2] # wz\n",
    "lines [1,:] = [1,1,1,1,0,0,0,0] # wx\n",
    "lines [2,:] = [0,0,0,0,1,1,1,1] # wy\n",
    "\n",
    "w = zeros((3,8))\n",
    "for k in range(0,3):\n",
    "    for l in range(0,8):\n",
    "        w[k,l] = asarray(true_test_min)[l,lines[k,l]]\n",
    "\n",
    "asarray(true_test_min)[l,lines[k,l]]"
   ]
  },
  {
   "cell_type": "code",
   "execution_count": 12,
   "metadata": {},
   "outputs": [
    {
     "name": "stderr",
     "output_type": "stream",
     "text": [
      "/home/adrian/.local/lib/python3.6/site-packages/ipykernel_launcher.py:4: DeprecationWarning: object of type <class 'float'> cannot be safely interpreted as an integer.\n",
      "  after removing the cwd from sys.path.\n"
     ]
    },
    {
     "ename": "NameError",
     "evalue": "name 'w' is not defined",
     "output_type": "error",
     "traceback": [
      "\u001b[0;31m---------------------------------------------------------------------------\u001b[0m",
      "\u001b[0;31mNameError\u001b[0m                                 Traceback (most recent call last)",
      "\u001b[0;32m<ipython-input-12-5b73e77a260d>\u001b[0m in \u001b[0;36m<module>\u001b[0;34m()\u001b[0m\n\u001b[1;32m     21\u001b[0m \u001b[0;34m\u001b[0m\u001b[0m\n\u001b[1;32m     22\u001b[0m \u001b[0;32mfor\u001b[0m \u001b[0mk\u001b[0m \u001b[0;32min\u001b[0m \u001b[0mrange\u001b[0m\u001b[0;34m(\u001b[0m\u001b[0;36m0\u001b[0m\u001b[0;34m,\u001b[0m\u001b[0;36m3\u001b[0m\u001b[0;34m)\u001b[0m\u001b[0;34m:\u001b[0m\u001b[0;34m\u001b[0m\u001b[0;34m\u001b[0m\u001b[0m\n\u001b[0;32m---> 23\u001b[0;31m     errorbar(UDC,w[k],yerr=dy,fmt='x',mew='3',ms='12',color=cm(1.*k/3),\n\u001b[0m\u001b[1;32m     24\u001b[0m              ecolor='black',elinewidth=2,capsize=0)\n\u001b[1;32m     25\u001b[0m     \u001b[0mtemp_fit_w\u001b[0m \u001b[0;34m=\u001b[0m \u001b[0mlin_fit\u001b[0m\u001b[0;34m(\u001b[0m\u001b[0mUDC\u001b[0m\u001b[0;34m,\u001b[0m\u001b[0mw\u001b[0m\u001b[0;34m[\u001b[0m\u001b[0mk\u001b[0m\u001b[0;34m]\u001b[0m\u001b[0;34m,\u001b[0m\u001b[0;36m1\u001b[0m\u001b[0;34m)\u001b[0m\u001b[0;34m\u001b[0m\u001b[0;34m\u001b[0m\u001b[0m\n",
      "\u001b[0;31mNameError\u001b[0m: name 'w' is not defined"
     ]
    }
   ],
   "source": [
    "cm = pylab.get_cmap('hsv')\n",
    "fit_w = zeros((3,2))\n",
    "temp_fit_w = []\n",
    "span = linspace(-1.28,0.3,1e4)\n",
    "\n",
    "# plot one curve\n",
    "UDC = [0,0.2,0.4,0.5,0.6,0.8,1,1.2]\n",
    "UDC = multiply(UDC,-1)\n",
    "\n",
    "figure('Interpol')\n",
    "clf()\n",
    "\n",
    "# plot(UDC,true_test_min,'+',mew='2',ms='7')\n",
    "grid()\n",
    "\n",
    "tight_layout()\n",
    "xlabel(r'$U_{DC}$ (V)')\n",
    "ylabel('f (kHz)')\n",
    "\n",
    "dy=5\n",
    "\n",
    "for k in range(0,3):\n",
    "    errorbar(UDC,w[k],yerr=dy,fmt='x',mew='3',ms='12',color=cm(1.*k/3),\n",
    "             ecolor='black',elinewidth=2,capsize=0)\n",
    "    temp_fit_w = lin_fit(UDC,w[k],1)\n",
    "    plot(span,temp_fit_w(span),linestyle='--',color=cm(1.*k/4),label='Lin. fit.')\n",
    "    fit_w[k] = temp_fit_w\n",
    "    \n",
    "legend([r'Lin. fit. $\\omega_z$',r'Lin. fit. $\\omega_y$',r'Lin. fit. $\\omega_x$',r'$\\omega_z$',r'$\\omega_y$',r'$\\omega_x$'],ncol=2,loc='best')"
   ]
  },
  {
   "cell_type": "code",
   "execution_count": 129,
   "metadata": {},
   "outputs": [
    {
     "data": {
      "text/plain": [
       "array([ 19.10852713, 309.73875969])"
      ]
     },
     "execution_count": 129,
     "metadata": {},
     "output_type": "execute_result"
    }
   ],
   "source": [
    "fit_w[1]"
   ]
  },
  {
   "cell_type": "code",
   "execution_count": 89,
   "metadata": {},
   "outputs": [],
   "source": [
    "# choose only good minimum\n",
    "\n",
    "# test_min[to_plot] = delete(test_min[to_plot],(0,1,2,3,5))\n",
    "# figure('Plot tickle seul').clf()\n",
    "# plot(freq[0:len(PM[to_plot])],PM[to_plot],color = cm(1.*to_plot/len(file_path)))\n",
    "# plt.vlines(x=test_min[to_plot],ymin=0,ymax=80000,linestyle=':',color = cm(1.*k/len(file_path)))\n",
    "# xlabel('Frequency (kHz)')\n",
    "# ylabel('Fluorescence (counts)')\n",
    "# grid()\n",
    "# plt.tight_layout()"
   ]
  },
  {
   "cell_type": "code",
   "execution_count": 90,
   "metadata": {},
   "outputs": [
    {
     "name": "stdout",
     "output_type": "stream",
     "text": [
      "[164.15, 165.0, 164.5, 165.0, 149.95, 147.45, 145.15, 142.6]\n"
     ]
    },
    {
     "data": {
      "text/plain": [
       "array([[279.1 , 307.5 , 328.3 , 164.15],\n",
       "       [284.8 , 305.9 , 330.  , 165.  ],\n",
       "       [291.5 , 303.4 , 329.  , 164.5 ],\n",
       "       [294.5 , 301.  , 330.  , 165.  ],\n",
       "       [299.9 , 299.9 , 331.1 , 149.95],\n",
       "       [294.9 , 304.5 , 333.7 , 147.45],\n",
       "       [290.3 , 310.6 , 335.4 , 145.15],\n",
       "       [285.2 , 314.9 , 338.1 , 142.6 ]])"
      ]
     },
     "execution_count": 90,
     "metadata": {},
     "output_type": "execute_result"
    }
   ],
   "source": [
    "save_min=true_test_min\n",
    "lz=[2,2,2,2,0,0,0,0]\n",
    "wz=[]\n",
    "for k in range(0,len(file_path)):\n",
    "    wz.append(save_min[k][lz[k]]/2)\n",
    "print(wz)\n",
    "save_min=np.column_stack((save_min,wz))\n",
    "save_min"
   ]
  },
  {
   "cell_type": "code",
   "execution_count": 91,
   "metadata": {},
   "outputs": [
    {
     "name": "stderr",
     "output_type": "stream",
     "text": [
      "/home/adrian/.local/lib/python3.6/site-packages/ipykernel_launcher.py:9: DeprecationWarning: object of type <class 'float'> cannot be safely interpreted as an integer.\n",
      "  if __name__ == '__main__':\n"
     ]
    },
    {
     "name": "stdout",
     "output_type": "stream",
     "text": [
      " \n",
      "2.01 x + 219.6\n",
      " \n",
      "2.334 x + 229.1\n",
      " \n",
      "-3.044 x + 428.8\n",
      " \n",
      "-1.522 x + 214.4\n"
     ]
    }
   ],
   "source": [
    "URF=divide([120.8,129.9,139.8,147.7,160.3,170.3,180.3,190.3],4)\n",
    "lines=[[0,0,0,0,1,1,1,1], # 30 175\n",
    "       [1,1,1,1,2,2,2,2], # 30 200\n",
    "       [2,2,2,2,0,0,0,0], # 30 250 2wz\n",
    "       [3,3,3,3,3,3,3,3]] # wz\n",
    "lines=asmatrix(lines)\n",
    "\n",
    "cm2 = pylab.get_cmap('brg')\n",
    "span=linspace(29,48,1e4)\n",
    "\n",
    "fig=figure('tickle minimum')\n",
    "ax = fig.add_subplot(1, 1, 1)\n",
    "\n",
    "dy=[1,1,5,2.5]\n",
    "for k in range(0,len(file_path)): # URF\n",
    "    for l in range(0,4):\n",
    "#         plot(URF[k],asmatrix(save_min[k]),'+',color=cm(1.*k/len(file_path)),mew=2,ms=8,label='_nolegend_')\n",
    "        errorbar(URF[k],asmatrix(save_min[k,lines[l,k]]),yerr=dy[l],fmt='x',mew=1,ms=6,color='black',ecolor=cm2(1.*l/4),elinewidth=2,capsize=5,label='_nolegend_')\n",
    "#         plot(URF,wz,'+',color=cm(1.*k/len(file_path)),mew=2,ms=8)\n",
    "#         toto[k,l]=save_min.item(k,lines.item(l,k))\n",
    "#         print(save_min[k],URF[k])\n",
    "\n",
    "# plt.errorbar(URF, y, yerr=dy, fmt='o', color='black',\n",
    "#              ecolor='lightgray', elinewidth=3, capsize=0);\n",
    "    \n",
    "R=[[],[],[],[]]\n",
    "lstyle=['--', '--', ':', ':','-', '--', '-.', ':']\n",
    "for l in range(0,4):\n",
    "    lefit=[]\n",
    "    for k in range(0,len(file_path)):\n",
    "        lefit.append(save_min[k].item(lines.item(l,k)))\n",
    "    poly_fit=lin_fit(URF,lefit,1)\n",
    "    plot(span,poly_fit(span),linestyle=lstyle[l],color=cm2(1.*l/4))\n",
    "    print(poly_fit)\n",
    "    R[l]=corrcoef(URF,lefit)\n",
    "\n",
    "# font = {'family': 'sans-serif',\n",
    "#         'weight': 'normal',\n",
    "#         'size': 20,\n",
    "#         }\n",
    "# props = dict(facecolor='white', alpha=1)\n",
    "# xpos=[43.5,43.5,43.5,43.5]\n",
    "# ypos=[282,340,247,145]\n",
    "# for k in range(0,4,1):\n",
    "#     plt.text(xpos[k],ypos[k],'R = {:.4f}'.format(R[k].item(0,1)),\n",
    "#              fontdict=font,color=cm2(1.*k/4),bbox=props)\n",
    "\n",
    "ax.xaxis.set_major_locator(matplotlib.ticker.MultipleLocator(base=2.5))\n",
    "ax.yaxis.set_major_locator(matplotlib.ticker.MultipleLocator(base=25)) \n",
    "    \n",
    "legend(['$\\omega_x$','$\\omega_y$','$2\\omega_z$','$\\omega_z$'])\n",
    "    \n",
    "xlabel('$U_{RF}$')\n",
    "ylabel('Tickle frequency response (kHz)')\n",
    "grid()\n",
    "tight_layout()"
   ]
  },
  {
   "cell_type": "code",
   "execution_count": null,
   "metadata": {},
   "outputs": [],
   "source": [
    "e=1.602e-19\n",
    "m=40.078*1.66054e-27 # 40.078\n",
    "\n",
    "r0=2.5e-3 # 2.5e-3\n",
    "d0=4e-3/2\n",
    "\n",
    "Omega=2.047e6*2*pi # 2.047e6"
   ]
  },
  {
   "cell_type": "code",
   "execution_count": null,
   "metadata": {},
   "outputs": [],
   "source": [
    "Udc=0\n",
    "kappa=0.22481324\n",
    "zeta=kappa*r0**2/d0**2\n",
    "Vend=2.5"
   ]
  },
  {
   "cell_type": "code",
   "execution_count": null,
   "metadata": {},
   "outputs": [],
   "source": [
    "dw=r0**(-1)*sqrt((e/m)*(Udc-zeta*Vend+0.5*e/(m*r0**2*Omega**2)*URF**2))\n",
    "print('dw')\n",
    "for k in range(0,len(dw)):\n",
    "    print('{:.1f}'.format(dw[k]/1000/(2*pi)),'kHz')\n",
    "    \n",
    "dw2=Omega*0.5*sqrt(4*e/(m*r0**2*Omega**2)*(Udc-zeta*Vend)+2*(e/(m*r0**2*Omega**2))**2*URF**2)\n",
    "print('dw2')\n",
    "for k in range(0,len(dw2)):\n",
    "    print('{:.1f}'.format(dw2[k]/1000/(2*pi)),'kHz')\n",
    "\n",
    "    \n",
    "ax=4*e/(m*r0**2*Omega**2)*(Udc-Vend)\n",
    "q=2*e*URF/(m*r0**2*Omega**2)\n",
    "dw3=Omega*0.5*sqrt(ax+q**2/2)\n",
    "print('dw2')\n",
    "for k in range(0,len(dw2)):\n",
    "    print('{:.1f}'.format(dw3[k]/1000/(2*pi)),'kHz')"
   ]
  },
  {
   "cell_type": "code",
   "execution_count": null,
   "metadata": {},
   "outputs": [],
   "source": [
    "w=[]\n",
    "for k in range(0,len(file_path)): # URF\n",
    "    temp=[]\n",
    "    for l in range(0,4):\n",
    "#         plot(URF[k],asmatrix(save_min[k]),'+',color=cm(1.*k/len(file_path)),mew=2,ms=8,label='_nolegend_')\n",
    "        temp.append(save_min[k,lines[l,k]])\n",
    "    w.append(temp)\n",
    "w=asmatrix(w)\n",
    "dwmes=zeros(8)\n",
    "for k in range(0,8):\n",
    "    dwmes[k]=w[k,1]-w[k,0]\n",
    "print('dwmes',dwmes,'kHz')"
   ]
  },
  {
   "cell_type": "code",
   "execution_count": null,
   "metadata": {},
   "outputs": [],
   "source": [
    "-zeta*Vend,0.5*e/(m*r0**2*Omega**2)*URF"
   ]
  },
  {
   "cell_type": "code",
   "execution_count": null,
   "metadata": {},
   "outputs": [],
   "source": []
  }
 ],
 "metadata": {
  "kernelspec": {
   "display_name": "Python 3",
   "language": "python",
   "name": "python3"
  },
  "language_info": {
   "codemirror_mode": {
    "name": "ipython",
    "version": 3
   },
   "file_extension": ".py",
   "mimetype": "text/x-python",
   "name": "python",
   "nbconvert_exporter": "python",
   "pygments_lexer": "ipython3",
   "version": "3.6.7"
  }
 },
 "nbformat": 4,
 "nbformat_minor": 1
}
