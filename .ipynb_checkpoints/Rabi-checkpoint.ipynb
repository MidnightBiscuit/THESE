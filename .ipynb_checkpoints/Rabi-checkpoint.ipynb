{
 "cells": [
  {
   "cell_type": "code",
   "execution_count": 1,
   "metadata": {},
   "outputs": [],
   "source": [
    "# %pylab\n",
    "\n",
    "import numpy\n",
    "import matplotlib\n",
    "from matplotlib import pylab, mlab, pyplot\n",
    "from mpl_toolkits.mplot3d import Axes3D\n",
    "np = numpy\n",
    "plt = pyplot\n",
    "\n",
    "from pylab import *\n",
    "from numpy import *"
   ]
  },
  {
   "cell_type": "code",
   "execution_count": 2,
   "metadata": {},
   "outputs": [],
   "source": [
    "import os\n",
    "from os import listdir\n",
    "from os.path import isfile, join\n",
    "\n",
    "import tkinter as tk\n",
    "from tkinter import filedialog\n",
    "%matplotlib qt\n",
    "\n",
    "from pathlib import Path"
   ]
  },
  {
   "cell_type": "code",
   "execution_count": 3,
   "metadata": {},
   "outputs": [],
   "source": [
    "from pathlib import Path\n",
    "from matplotlib import gridspec\n",
    "from mpl_toolkits.axes_grid1.inset_locator import zoomed_inset_axes\n",
    "from mpl_toolkits.axes_grid1.inset_locator import mark_inset\n",
    "from scipy.signal import savgol_filter"
   ]
  },
  {
   "cell_type": "code",
   "execution_count": 6,
   "metadata": {},
   "outputs": [
    {
     "name": "stdout",
     "output_type": "stream",
     "text": [
      "0.1767354101888944\n"
     ]
    }
   ],
   "source": [
    "# Laser parameters\n",
    "k = 15826663 # m^-1\n",
    "Gam = 21570000.0 *2*pi\n",
    "delta = Gam\n",
    "lam = 397e-9 # m\n",
    "I = 170 # W/m²\n",
    "\n",
    "T = (-Gam/k)**2*m_Ca/(2*kb)\n",
    "print(T)"
   ]
  },
  {
   "cell_type": "code",
   "execution_count": 5,
   "metadata": {},
   "outputs": [
    {
     "name": "stdout",
     "output_type": "stream",
     "text": [
      "$\\kappa_{simion}$ = 0.270471\n"
     ]
    }
   ],
   "source": [
    "# Constantes de la physique\n",
    "# ABSOLUMENT RECHARGER APRÈS AVOIR EXECUTÉ LES CASES D'IMPORT AU DESSUS\n",
    "\n",
    "C_e = 1.602e-19        # Coulomb\n",
    "kb = 1.38064852*1e-23  # Boltzman\n",
    "m_Ca = 40.078*1.66054e-27 # masse Ca 40.078\n",
    "m_GM = 1e6*1.66054e-27 # la masse de la GMol\n",
    "eps0 = 8.854187*1e-12  # permittivité électrique du vide\n",
    "\n",
    "r0 = 2.5e-3 # 2.5e-3   # rayon piège Ca+\n",
    "d0 = 4e-3/2            # longueur piège Ca+\n",
    "\n",
    "Omega = 2.05e6*2*pi # 2.047e6\n",
    "\n",
    "bk = 4 # nombre de barreaux par groupe (2 -> 4-pole , 4 -> 8-pole ...)\n",
    "\n",
    "mkappa = 0.23          # écrantage piège réel GiantMol\n",
    "wzLC = (2*pi*90806.9982303)**2\n",
    "kappa_simion = m_Ca*d0**2*wzLC/(2*C_e)\n",
    "print('%s = %f' % ('$\\kappa_{simion}$',kappa_simion) )\n",
    "\n",
    "zeta = kappa_simion*r0**2/d0**2"
   ]
  },
  {
   "cell_type": "code",
   "execution_count": 43,
   "metadata": {},
   "outputs": [],
   "source": [
    "h = 6.626070e-34\n",
    "hbar = h/2/pi\n",
    "c    = 299792458\n",
    "gamma_t = 21.57*1e6"
   ]
  },
  {
   "cell_type": "code",
   "execution_count": 62,
   "metadata": {},
   "outputs": [],
   "source": [
    "lambda_397 = 793.69975 / 2\n",
    "Pl = 10e-3\n",
    "w  = 100e-6\n",
    "v = 2230 * sqrt(5e-3/300*1/40)\n",
    "DeltaL = -100e2\n",
    "k = - 2*pi / lambda_397\n",
    "\n",
    "gamma = linspace(0,3e-34,1000)\n",
    "Omega_R = 3*lambda_397**3*gamma/(4*pi*hbar*c) * (Pl/pi/w**2)\n",
    "\n",
    "P_e = 0.5 * Omega_R**2/2 / (Omega_R**2/2 + (DeltaL-v*k)**2 + gamma**2/4)"
   ]
  },
  {
   "cell_type": "code",
   "execution_count": 63,
   "metadata": {},
   "outputs": [
    {
     "data": {
      "text/plain": [
       "[<matplotlib.lines.Line2D at 0x7f82c7bd9828>]"
      ]
     },
     "execution_count": 63,
     "metadata": {},
     "output_type": "execute_result"
    }
   ],
   "source": [
    "figure('coucou').clf()\n",
    "plot(gamma,P_e)"
   ]
  },
  {
   "cell_type": "code",
   "execution_count": 110,
   "metadata": {},
   "outputs": [
    {
     "name": "stdout",
     "output_type": "stream",
     "text": [
      "=== I sat ===\n",
      "71.79272459910686 W/m²\n",
      "7.1792724599106865 mW/cm²\n",
      "0.07179272459910686 mW/mm²\n",
      "=== XP params ===\n",
      "18.624415551096522 mW/mm²\n",
      "detuning -13624.045409731285 MHz\n",
      "0.0001625661345647613 259.4192608665561\n"
     ]
    }
   ],
   "source": [
    "# sat intensity\n",
    "I_sat = pi*h*c*gamma_t/3/(lambda_397*1e-9)**3\n",
    "print('=== I sat ===')\n",
    "print(I_sat,'W/m²')\n",
    "print(I_sat*1000/1e4,'mW/cm²')\n",
    "print(I_sat*1000/1e6,'mW/mm²')\n",
    "\n",
    "print('=== XP params ===')\n",
    "lambda_397 = 793.69975 / 2\n",
    "k = -2*pi/(lambda_397*1e-9)\n",
    "v = 2230 * sqrt(5e-3/300*1/40)\n",
    "Pl = 10 # mW\n",
    "rx = 0.633 # mm\n",
    "ry = 0.270\n",
    "I = Pl/(rx*ry*pi) # mW/mm² ellipse surface\n",
    "print(I,'mW/mm²')\n",
    "DeltaL = ( c/(1.000293*lambda_397*1e-9) - 755.222766*1e12 - k*v )\n",
    "print('detuning',DeltaL*1e-6,'MHz')\n",
    "s_0 = I/(I_sat*1000/1e6)\n",
    "s = s_0/(1+(2*DeltaL/gamma_t)**2)\n",
    "\n",
    "print(s,s_0)"
   ]
  },
  {
   "cell_type": "code",
   "execution_count": 82,
   "metadata": {},
   "outputs": [
    {
     "data": {
      "text/plain": [
       "755209096373694.2"
      ]
     },
     "execution_count": 82,
     "metadata": {},
     "output_type": "execute_result"
    }
   ],
   "source": [
    "c/(1.000293*lambda_397*1e-9)+k*v"
   ]
  },
  {
   "cell_type": "code",
   "execution_count": null,
   "metadata": {},
   "outputs": [],
   "source": []
  },
  {
   "cell_type": "code",
   "execution_count": 117,
   "metadata": {},
   "outputs": [
    {
     "name": "stdout",
     "output_type": "stream",
     "text": [
      "644.1379286927881 726.8318194729969 788.9046246352933\n",
      "203.69429819723368 229.8444025418995 249.47354704877094\n"
     ]
    }
   ],
   "source": [
    "# Plot temperature Langevin + md laser  ALL SimuType  ALL TEMP MEAN\n",
    "matplotlib.rcParams.update({'font.size': 25})\n",
    "\n",
    "#fig_name = file_name[-9:]\n",
    "figname = 'MB-distribution'\n",
    "fig1 = plt.figure(num=figname,clear='True')\n",
    "fig1.set_size_inches(11.69,8.27)\n",
    "# set height ratios for sublots\n",
    "ax1 = fig1.add_subplot(111)\n",
    "# the fisrt subplot\n",
    "\n",
    "my_color = ['xkcd:rouge','xkcd:blue']\n",
    "vmax = 2000\n",
    "vpoints = 2000\n",
    "my_T = [1000,100]\n",
    "\n",
    "MB_prob_norm = max(sqrt(2/pi)*(m_Ca/kb/my_T[1])**(3/2)*v**2*exp(-m_Ca*v**2/(2*kb*my_T[1])))\n",
    "\n",
    "for i,T in enumerate(my_T):\n",
    "    \n",
    "    v = linspace(0,vmax,vpoints)\n",
    "    MB_prob = sqrt(2/pi)*(m_Ca/kb/T)**(3/2)*v**2*exp(-m_Ca*v**2/(2*kb*T))\n",
    "    MB_prob = MB_prob / MB_prob_norm\n",
    "\n",
    "    v_p   = sqrt(2*kb*T/m_Ca)\n",
    "    v_avg = 2/sqrt(pi)*v_p\n",
    "    v_rms = sqrt(3/2)*v_p\n",
    "\n",
    "    print(v_p,v_avg,v_rms)\n",
    "\n",
    "    ax1.plot(v,MB_prob,color=my_color[i],lw=2.5,label=f'T={T} K')\n",
    "\n",
    "    ax1.vlines(v_p,0,max(MB_prob))\n",
    "    ax1.vlines(v_avg,0,MB_prob[int(v_avg/vmax*vpoints)])\n",
    "    ax1.vlines(v_rms,0,MB_prob[int(v_rms/vmax*vpoints)])\n",
    "\n",
    "    ax1.annotate('$v_p$', xy=(v_p,max(MB_prob)*1.002), xycoords='data',\n",
    "    size=25, ha='right', va='bottom', color='xkcd:black')\n",
    "\n",
    "    ax1.annotate(r'$\\langle v \\rangle$', xy=(v_avg*0.97,MB_prob[int(v_avg/vmax*vpoints)]*1.002), xycoords='data',\n",
    "    size=25, ha='left', va='bottom', color='xkcd:black')\n",
    "\n",
    "    ax1.annotate('$v_{RMS}$', xy=(v_rms*1.025,MB_prob[int(v_rms/vmax*vpoints)]*0.96), xycoords='data',\n",
    "    size=25, ha='left', va='bottom', color='xkcd:black')\n",
    "\n",
    "# ax2 = plt.subplot(gs[1], sharex = ax1)\n",
    "ax1.grid()\n",
    "ax1.set_xlabel('v [m/s]')\n",
    "ax1.set_ylabel('n')\n",
    "ax1.set_ylim(-0.02,1.065)\n",
    "ax1.legend()\n",
    "plt.tight_layout()\n",
    "# subplots_adjust(hspace=0.0,bottom=0.11,left=0.12,right=0.98,top=0.97)\n",
    "# savefig(fname = figname+'_'+re.sub('/','_',dirname_hc[31:-1])+'.png',dpi=300)\n",
    "savefig(figname+'.png',dpi=300)"
   ]
  }
 ],
 "metadata": {
  "kernelspec": {
   "display_name": "Python 3",
   "language": "python",
   "name": "python3"
  },
  "language_info": {
   "codemirror_mode": {
    "name": "ipython",
    "version": 3
   },
   "file_extension": ".py",
   "mimetype": "text/x-python",
   "name": "python",
   "nbconvert_exporter": "python",
   "pygments_lexer": "ipython3",
   "version": "3.7.6"
  }
 },
 "nbformat": 4,
 "nbformat_minor": 2
}
