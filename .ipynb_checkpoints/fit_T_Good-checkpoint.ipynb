{
 "cells": [
  {
   "cell_type": "code",
   "execution_count": 1,
   "metadata": {},
   "outputs": [
    {
     "name": "stdout",
     "output_type": "stream",
     "text": [
      "Using matplotlib backend: Qt5Agg\n",
      "Populating the interactive namespace from numpy and matplotlib\n"
     ]
    }
   ],
   "source": [
    "%pylab"
   ]
  },
  {
   "cell_type": "code",
   "execution_count": 2,
   "metadata": {},
   "outputs": [],
   "source": [
    "from scipy.optimize import curve_fit"
   ]
  },
  {
   "cell_type": "code",
   "execution_count": 3,
   "metadata": {},
   "outputs": [],
   "source": [
    "data = load('Temperature_DC05V_RF64V.npz')\n",
    "time = data['time']\n",
    "Temp = data['temperature']\n",
    "i = argmin(abs(time-0.002))"
   ]
  },
  {
   "cell_type": "code",
   "execution_count": 4,
   "metadata": {},
   "outputs": [],
   "source": [
    "figure(1); clf();\n",
    "semilogy(time[i:], Temp[i:])\n",
    "grid()"
   ]
  },
  {
   "cell_type": "code",
   "execution_count": 5,
   "metadata": {},
   "outputs": [],
   "source": [
    "x0 = (time[i:]-time[i])*1e3\n",
    "y0 = log10(Temp[i:])\n",
    "imax = argmax(diff(y0))"
   ]
  },
  {
   "cell_type": "code",
   "execution_count": 9,
   "metadata": {},
   "outputs": [
    {
     "name": "stderr",
     "output_type": "stream",
     "text": [
      "<ipython-input-9-c49b7730026a>:2: RuntimeWarning: invalid value encountered in power\n",
      "  return A*(x0-t0) / (D+C*(x0-t0)**2)**(1/E) + B\n"
     ]
    }
   ],
   "source": [
    "def func(x0, A, B, C, D, t0,E):\n",
    "    return A*(x0-t0) / (D+C*(x0-t0)**2)**(1/E) + B\n",
    "\n",
    "t0 = x0[imax]\n",
    "A  = 1\n",
    "B  = 0\n",
    "C  = 1\n",
    "D  = 1\n",
    "E  = 2.5\n",
    "G  = 0.5\n",
    "p0 = array([A, B, C, D, t0,E])\n",
    "popt, pcov = curve_fit(func, x0, y0, p0)\n",
    "y1 = func(x0,popt[0], popt[1], popt[2], popt[3], popt[4], popt[5])\n",
    "Temp_fit = 10**(y1)"
   ]
  },
  {
   "cell_type": "code",
   "execution_count": 10,
   "metadata": {},
   "outputs": [],
   "source": [
    "figure(2); clf();\n",
    "subplot(311)\n",
    "plot(x0,y0)\n",
    "plot(x0,y1,label='x/(1+x^2)')\n",
    "grid()\n",
    "\n",
    "subplot(212)\n",
    "plot(x0,Temp[i:])\n",
    "plot(x0,Temp_fit,label='x/(1+x^2)')\n",
    "grid()\n"
   ]
  },
  {
   "cell_type": "code",
   "execution_count": 16,
   "metadata": {},
   "outputs": [],
   "source": [
    "dt = (x0[1] - x0[0])*1e-3 # Because I had put x0 in ms\n",
    "heating_rate = diff(Temp_fit) / dt\n",
    "\n",
    "figure(2); clf();\n",
    "semilogy(x0[:-1],heating_rate,label='x/(1+x^2)')\n",
    "xlabel('time[ms]')\n",
    "ylabel('Heating Rate [K/s]')\n",
    "grid()\n"
   ]
  },
  {
   "cell_type": "code",
   "execution_count": 20,
   "metadata": {},
   "outputs": [
    {
     "data": {
      "text/plain": [
       "Text(0, 0.5, 'Heating Rate [K/s]')"
      ]
     },
     "execution_count": 20,
     "metadata": {},
     "output_type": "execute_result"
    }
   ],
   "source": [
    "figure(2); clf();\n",
    "subplot(211)\n",
    "semilogy(x0,Temp[i:], label='Data')\n",
    "semilogy(x0,Temp_fit , label='Fit')\n",
    "grid()\n",
    "xlabel('time[ms]')\n",
    "ylabel('Temperature[K]')\n",
    "\n",
    "subplot(212)\n",
    "semilogy(x0[:-1],heating_rate,label='x/(1+x^2)')\n",
    "grid()\n",
    "xlabel('time[ms]')\n",
    "ylabel('Heating Rate [K/s]')\n"
   ]
  },
  {
   "cell_type": "code",
   "execution_count": 21,
   "metadata": {},
   "outputs": [],
   "source": [
    "savefig('Heating_Rate_from_Fit.png')"
   ]
  },
  {
   "cell_type": "code",
   "execution_count": null,
   "metadata": {},
   "outputs": [],
   "source": []
  }
 ],
 "metadata": {
  "kernelspec": {
   "display_name": "Python 3",
   "language": "python",
   "name": "python3"
  },
  "language_info": {
   "codemirror_mode": {
    "name": "ipython",
    "version": 3
   },
   "file_extension": ".py",
   "mimetype": "text/x-python",
   "name": "python",
   "nbconvert_exporter": "python",
   "pygments_lexer": "ipython3",
   "version": "3.6.7"
  }
 },
 "nbformat": 4,
 "nbformat_minor": 5
}
