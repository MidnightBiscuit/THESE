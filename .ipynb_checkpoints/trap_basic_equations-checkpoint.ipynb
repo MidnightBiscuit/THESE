{
 "cells": [
  {
   "cell_type": "code",
   "execution_count": 1,
   "metadata": {},
   "outputs": [
    {
     "name": "stdout",
     "output_type": "stream",
     "text": [
      "Using matplotlib backend: TkAgg\n",
      "Populating the interactive namespace from numpy and matplotlib\n"
     ]
    }
   ],
   "source": [
    "%pylab\n",
    "from scipy.constants import hbar, pi\n",
    "from scipy.constants import elementary_charge as qe\n",
    "from scipy.constants import Boltzmann as kB\n",
    "amu = 1.66e-27"
   ]
  },
  {
   "cell_type": "code",
   "execution_count": 2,
   "metadata": {},
   "outputs": [
    {
     "data": {
      "text/plain": [
       "0.00019654335983329373"
      ]
     },
     "execution_count": 2,
     "metadata": {},
     "output_type": "execute_result"
    }
   ],
   "source": [
    "my_q = 0.908\n",
    "1 - my_q -1/8*my_q**2 + 1/64 * my_q**3 - 1/1536 * my_q**4"
   ]
  },
  {
   "cell_type": "code",
   "execution_count": 3,
   "metadata": {},
   "outputs": [
    {
     "data": {
      "text/plain": [
       "[-5.27463975070622,\n",
       " 0.908165118514779,\n",
       " 14.1832373160957 - 10.9310344869916*I,\n",
       " 14.1832373160957 + 10.9310344869916*I]"
      ]
     },
     "execution_count": 3,
     "metadata": {},
     "output_type": "execute_result"
    }
   ],
   "source": [
    "from sympy.solvers import solve\n",
    "from sympy import Symbol\n",
    "\n",
    "x = Symbol('x')\n",
    "solve(-1/1536*x**4 + 1/64*x**3 - 1/8 * x**2 -x + 1, x)"
   ]
  },
  {
   "cell_type": "code",
   "execution_count": 20,
   "metadata": {},
   "outputs": [
    {
     "name": "stdout",
     "output_type": "stream",
     "text": [
      "q_m 0.394323842371384\n",
      "wr2 3061889386794.6943 325535515128.0366\n",
      "278493.3827095135\n",
      "alpha = wz2 / wr2=  0.10631850926163598\n",
      "19.811399951802002\n",
      "0.007853596994465965\n"
     ]
    }
   ],
   "source": [
    "mass   = 40*amu\n",
    "charge = 1*qe\n",
    "Vrf    = 42.43\n",
    "r0     = 2.865e-3/1.14511\n",
    "Omega  = 2*pi*2.05e6 \n",
    "\n",
    "q_mathieu = 4*charge*Vrf / (mass * r0**2 *Omega**2)\n",
    "print('q_m', q_mathieu)\n",
    "\n",
    "# wz2 = 2*pi*Udc/(mass*z0**2)\n",
    "wz0 = 2*pi*90806.9982303 #when 1V applied\n",
    "Udc = 1\n",
    "wz2 = Udc * wz0**2\n",
    "\n",
    "wr2 = 2*charge**2 * Vrf**2 / (mass**2 *r0**4 * Omega**2) - 0.5*wz2\n",
    "print('wr2',wr2, wz2)\n",
    "print(sqrt(wr2)/2/pi)\n",
    "print('alpha = wz2 / wr2= ', wz2/wr2)\n",
    "\n",
    "Udc_max = (2*2*charge**2 * Vrf**2 / (mass**2 *r0**4 * Omega**2) )/wz0**2 \n",
    "print(Udc_max)\n",
    "\n",
    "kappa = 0.27\n",
    "z0 = 2e-3\n",
    "a_z = 8*kappa*charge*Udc/mass/z0**2/Omega**2\n",
    "print(a_z)"
   ]
  }
 ],
 "metadata": {
  "kernelspec": {
   "display_name": "Python 3 (ipykernel)",
   "language": "python",
   "name": "python3"
  },
  "language_info": {
   "codemirror_mode": {
    "name": "ipython",
    "version": 3
   },
   "file_extension": ".py",
   "mimetype": "text/x-python",
   "name": "python",
   "nbconvert_exporter": "python",
   "pygments_lexer": "ipython3",
   "version": "3.10.6"
  }
 },
 "nbformat": 4,
 "nbformat_minor": 4
}
