{
 "cells": [
  {
   "cell_type": "code",
   "execution_count": 1,
   "metadata": {},
   "outputs": [],
   "source": [
    "#######################################################\n",
    "#          FROM Edouard REGENSTREIF thesis            #\n",
    "#### Adrien 28 mars 2023 ##############################"
   ]
  },
  {
   "cell_type": "code",
   "execution_count": 2,
   "metadata": {},
   "outputs": [
    {
     "name": "stdout",
     "output_type": "stream",
     "text": [
      "Using matplotlib backend: TkAgg\n"
     ]
    }
   ],
   "source": [
    "# %pylab\n",
    "\n",
    "import numpy\n",
    "import matplotlib\n",
    "from matplotlib import pylab, mlab, pyplot\n",
    "from mpl_toolkits.mplot3d import Axes3D\n",
    "np = numpy\n",
    "plt = pyplot\n",
    "\n",
    "from pylab import *\n",
    "from numpy import *\n",
    "\n",
    "%matplotlib"
   ]
  },
  {
   "cell_type": "code",
   "execution_count": 3,
   "metadata": {},
   "outputs": [
    {
     "name": "stdout",
     "output_type": "stream",
     "text": [
      "$\\kappa_{simion}$ = 0.270471\n"
     ]
    }
   ],
   "source": [
    "# Constantes de la physique\n",
    "# ABSOLUMENT RECHARGER APRÈS AVOIR EXECUTÉ LES CASES D'IMPORT AU DESSUS\n",
    "\n",
    "C_e = 1.602e-19        # Coulomb\n",
    "kb = 1.38064852*1e-23  # Boltzman\n",
    "m_Ca = 40.078*1.66054e-27 # masse Ca 40.078\n",
    "m_GM = 1e6*1.66054e-27 # la masse de la GMol\n",
    "eps0 = 8.854187*1e-12  # permittivité électrique du vide\n",
    "\n",
    "\n",
    "r0 = 2.5e-3 # 2.5e-3   # rayon piège Ca+\n",
    "d0 = 4e-3/2            # longueur piège Ca+\n",
    "Omega = 2.045e6*2*pi # 2.047e6\n",
    "bk = 4 # nombre de barreaux par groupe (2 -> 4-pole , 4 -> 8-pole ...)\n",
    "\n",
    "mkappa = 0.23          # écrantage piège réel GiantMol\n",
    "wzLC = (2*pi*90806.9982303)**2\n",
    "kappa_simion = m_Ca*d0**2*wzLC/(2*C_e)\n",
    "print('%s = %f' % ('$\\kappa_{simion}$',kappa_simion) )\n",
    "\n",
    "zeta = kappa_simion*r0**2/d0**2"
   ]
  },
  {
   "cell_type": "code",
   "execution_count": 142,
   "metadata": {},
   "outputs": [
    {
     "name": "stdout",
     "output_type": "stream",
     "text": [
      "1.0 1.0 1.0\n"
     ]
    }
   ],
   "source": [
    "# lens system\n",
    "R1 = 2*1e-3\n",
    "R2 = 2*1e-3\n",
    "z0 = 1*R1 # 10.5*2*1e-3\n",
    "V1 = 0\n",
    "V2 = 1\n",
    "\n",
    "mu = z0/R1\n",
    "eta = z0/R2\n",
    "\n",
    "print(mu,eta,R2/R1)"
   ]
  },
  {
   "cell_type": "code",
   "execution_count": 143,
   "metadata": {},
   "outputs": [],
   "source": [
    "z = linspace(-z0*1.2,z0*1.2,1000)\n",
    "a = 2*(1/mu + np.arctan(eta))\n",
    "b = -( 1 + z/z0 )*np.arctan( eta*(1+z/z0) )\n",
    "c = -( 1 - z/z0 )*np.arctan( eta*(1-z/z0) )\n",
    "d = 2*z/z0*np.arctan(mu*z/z0)\n",
    "phi = V1 + ( 0.5*(V2 - V1)/(1/mu + np.arctan(mu)) ) * (a+b+c+d)\n",
    "factor = ( 0.5/(1/mu + np.arctan(mu)) ) * (a+b+c+d)"
   ]
  },
  {
   "cell_type": "code",
   "execution_count": 144,
   "metadata": {},
   "outputs": [],
   "source": [
    "fig, ax = plt.subplots(num='einzel_pot',clear='True')\n",
    "ax.plot(z/z0,phi)\n",
    "# ax.plot(z/z0,factor,color='g')\n",
    "ax.grid()\n",
    "tight_layout()\n",
    "# ax.vlines(0,-Mk*DL,+Mk*DL)\n",
    "# ax.clabel(CS, inline=True, fontsize=10)\n",
    "# ax.set_title('Simplest default with labels')"
   ]
  }
 ],
 "metadata": {
  "kernelspec": {
   "display_name": "Python 3 (ipykernel)",
   "language": "python",
   "name": "python3"
  },
  "language_info": {
   "codemirror_mode": {
    "name": "ipython",
    "version": 3
   },
   "file_extension": ".py",
   "mimetype": "text/x-python",
   "name": "python",
   "nbconvert_exporter": "python",
   "pygments_lexer": "ipython3",
   "version": "3.10.6"
  }
 },
 "nbformat": 4,
 "nbformat_minor": 4
}
