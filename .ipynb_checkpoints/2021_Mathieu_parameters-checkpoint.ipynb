{
 "cells": [
  {
   "cell_type": "code",
   "execution_count": 1,
   "metadata": {},
   "outputs": [
    {
     "name": "stdout",
     "output_type": "stream",
     "text": [
      "Last updated: 2022-02-18T16:00:25.615209+01:00\n",
      "\n",
      "Python implementation: CPython\n",
      "Python version       : 3.7.6\n",
      "IPython version      : 7.12.0\n",
      "\n",
      "Compiler    : MSC v.1916 64 bit (AMD64)\n",
      "OS          : Windows\n",
      "Release     : 10\n",
      "Machine     : AMD64\n",
      "Processor   : AMD64 Family 23 Model 8 Stepping 2, AuthenticAMD\n",
      "CPU cores   : 12\n",
      "Architecture: 64bit\n",
      "\n"
     ]
    }
   ],
   "source": [
    "%load_ext watermark\n",
    "%watermark"
   ]
  },
  {
   "cell_type": "code",
   "execution_count": 1,
   "metadata": {},
   "outputs": [],
   "source": [
    "# %pylab\n",
    "\n",
    "import numpy\n",
    "import matplotlib\n",
    "from matplotlib import pylab, mlab, pyplot\n",
    "from mpl_toolkits.mplot3d import Axes3D\n",
    "np = numpy\n",
    "plt = pyplot\n",
    "\n",
    "from pylab import *\n",
    "from numpy import *\n",
    "\n",
    "%matplotlib qt"
   ]
  },
  {
   "cell_type": "code",
   "execution_count": 2,
   "metadata": {},
   "outputs": [],
   "source": [
    "import scipy.fftpack\n",
    "from scipy.signal import gaussian"
   ]
  },
  {
   "cell_type": "code",
   "execution_count": 3,
   "metadata": {},
   "outputs": [
    {
     "name": "stderr",
     "output_type": "stream",
     "text": [
      "ERROR:root:File `'fct_RF_heating.py'` not found.\n"
     ]
    }
   ],
   "source": [
    "%run fct_RF_heating\n",
    "%matplotlib qt"
   ]
  },
  {
   "cell_type": "markdown",
   "metadata": {},
   "source": [
    "# GiantMol"
   ]
  },
  {
   "cell_type": "code",
   "execution_count": 4,
   "metadata": {},
   "outputs": [
    {
     "name": "stdout",
     "output_type": "stream",
     "text": [
      "$\\kappa_{simion}$ = 0.270471\n"
     ]
    }
   ],
   "source": [
    "# Constantes de la physique\n",
    "# ABSOLUMENT RECHARGER APRÈS AVOIR EXECUTÉ LES CASES D'IMPORT AU DESSUS\n",
    "\n",
    "C_e = 1.602e-19        # Coulomb\n",
    "kb = 1.38064852*1e-23  # Boltzman\n",
    "m_Ca = 40.078*1.66054e-27 # masse Ca 40.078\n",
    "m_GM = 1e6*1.66054e-27 # la masse de la GMol\n",
    "eps0 = 8.854187*1e-12  # permittivité électrique du vide\n",
    "\n",
    "\n",
    "r0 = 2.5e-3 # 2.5e-3   # rayon piège Ca+\n",
    "d0 = 4e-3/2            # longueur piège Ca+\n",
    "Omega = 2.045e6*2*pi # 2.047e6\n",
    "bk = 4 # nombre de barreaux par groupe (2 -> 4-pole , 4 -> 8-pole ...)\n",
    "\n",
    "mkappa = 0.23          # écrantage piège réel GiantMol\n",
    "wzLC = (2*pi*90806.9982303)**2\n",
    "kappa_simion = m_Ca*d0**2*wzLC/(2*C_e)\n",
    "print('%s = %f' % ('$\\kappa_{simion}$',kappa_simion) )\n",
    "\n",
    "zeta = kappa_simion*r0**2/d0**2"
   ]
  },
  {
   "cell_type": "code",
   "execution_count": 7,
   "metadata": {},
   "outputs": [
    {
     "name": "stdout",
     "output_type": "stream",
     "text": [
      "alpha = 0.10954803101922947\n",
      "qx = 0.3499226136397147\n",
      "ax = 0.0\n",
      "az = 0.0033534250473806\n",
      "f_z = 83738.00625693168\n",
      "f_x = 252999.8876875538\n",
      "f_r = 245973.40572503334\n"
     ]
    }
   ],
   "source": [
    "Udc = 1\n",
    "Urf = 150/4\n",
    "omega_z_2 = 2*C_e*(mkappa)*Udc/m_Ca/d0**2\n",
    "omega_x_2 = 2*(C_e*Urf/m_Ca/Omega/r0**2)**2\n",
    "omega_r_2 = omega_x_2 - 0.5*omega_z_2\n",
    "\n",
    "qx = 4*C_e*Urf/(m_Ca*r0**2*Omega**2)\n",
    "ax = 8*C_e*0/(m_Ca*r0**2*Omega**2)\n",
    "az = 2*omega_z_2/Omega**2\n",
    "\n",
    "print('alpha =',omega_z_2/omega_x_2)\n",
    "print('qx =',qx)\n",
    "print('ax =',ax)\n",
    "print('az =',az)\n",
    "print('f_z =',sqrt(omega_z_2)/2/pi)\n",
    "print('f_x =',sqrt(omega_x_2)/2/pi)\n",
    "print('f_r =',sqrt(omega_r_2)/2/pi)"
   ]
  },
  {
   "cell_type": "code",
   "execution_count": 16,
   "metadata": {},
   "outputs": [
    {
     "name": "stdout",
     "output_type": "stream",
     "text": [
      "64.29993125041733 22.822357244989803\n"
     ]
    }
   ],
   "source": [
    "# voltages for spherical cloud\n",
    "q   = 0.6\n",
    "Urf = m_Ca*r0**2*Omega**2/(4*C_e)*q\n",
    "Udc = d0**2/r0**4*(C_e/(kappa_simion*m_Ca*Omega**2))*Urf**2\n",
    "print(Urf,Udc)"
   ]
  },
  {
   "cell_type": "code",
   "execution_count": 24,
   "metadata": {},
   "outputs": [
    {
     "name": "stdout",
     "output_type": "stream",
     "text": [
      "0.5006123076255327 0.49938769237446734\n"
     ]
    }
   ],
   "source": [
    "n_dt = 1000\n",
    "dt = 2*pi / (n_dt*Omega)\n",
    "eta = 1e-18\n",
    "eta_mass = eta/m_Ca\n",
    "\n",
    "w_p   = (exp(-eta_mass*dt)+eta_mass*dt-1.0) /(eta_mass*dt*(1.0-exp(-eta_mass*dt)))\n",
    "w_m   = 1-w_p\n",
    "print(w_p,w_m)"
   ]
  },
  {
   "cell_type": "code",
   "execution_count": null,
   "metadata": {},
   "outputs": [],
   "source": []
  },
  {
   "cell_type": "code",
   "execution_count": 13,
   "metadata": {},
   "outputs": [
    {
     "name": "stdout",
     "output_type": "stream",
     "text": [
      "0.270471333604033359332419195198\n"
     ]
    }
   ],
   "source": [
    "omega_z_2_fit = (2*pi*90806.9982303)**2\n",
    "kappa_fit = m_Ca*d0**2*omega_z_2_fit/(2*C_e*1)\n",
    "print(f'{kappa_fit:.30f}')"
   ]
  },
  {
   "cell_type": "code",
   "execution_count": null,
   "metadata": {},
   "outputs": [],
   "source": []
  },
  {
   "cell_type": "code",
   "execution_count": 13,
   "metadata": {},
   "outputs": [],
   "source": [
    "matplotlib.rcParams['figure.figsize'] = [11.69,8.27]\n",
    "matplotlib.rcParams.update({'font.size': 25})"
   ]
  },
  {
   "cell_type": "code",
   "execution_count": 77,
   "metadata": {},
   "outputs": [
    {
     "name": "stdout",
     "output_type": "stream",
     "text": [
      "[0.1 0.2 0.3 0.4 0.5 0.6 0.7 0.8 0.9]\n"
     ]
    }
   ],
   "source": [
    "q = linspace(0,1.5,500)\n",
    "\n",
    "a0 = -0.5*q**2 + 7*q**4/128 - 29*q**6/2304 + 68687*q**8/18874368\n",
    "b1 = 1 - q - q**2/8 + q**3/64 - q**4/1536 - 11*q**5/36864 + 49*q**6/589824 - 55*q**7/9437184 - 83*q**8/3539440\n",
    "\n",
    "nutest = linspace(0.1,0.9,9)\n",
    "print(nutest)\n",
    "a = []\n",
    "for nu in nutest:\n",
    "    a.append( nu**2 + q**2/(2*(nu**2-1)) + (5*nu**2+7)*q**4/(32*(nu**2-1)**3*(nu**2-4)) + (9*nu**4+58*nu**2+29)*q**6/(64*(nu**2-1)**5*(nu**2-4)*(nu**2-9)) )"
   ]
  },
  {
   "cell_type": "code",
   "execution_count": 78,
   "metadata": {},
   "outputs": [],
   "source": [
    "# plot with complicated scan plot only crystal part at the end\n",
    "\n",
    "fig = figure('stab_diag',clear='True')\n",
    "ax = fig.add_subplot(1, 1, 1)\n",
    "fig.set_size_inches(11.69,8.27)\n",
    "\n",
    "\n",
    "ax.plot(q,a0,'-',color='k',label=r'$\\Phi_z^{\\mathrm{quad}}$ Quadratic pot.',lw=2)\n",
    "ax.plot(q,b1,'-',color='k',label='$\\Phi_z^{\\mathrm{GM}}$ GiantMol axial pot.',lw=2)\n",
    "# ax.plot(q,-a0,'-',color='k',label=r'$\\Phi_z^{\\mathrm{quad}}$ Quadratic pot.',lw=2)\n",
    "# ax.plot(q,-b1,'-',color='k',label='$\\Phi_z^{\\mathrm{GM}}$ GiantMol axial pot.',lw=2)\n",
    "\n",
    "for k in range(len(nutest)):\n",
    "    ax.plot(q,a[k],color='k',ls=':')\n",
    "\n",
    "ax.xaxis.set_major_locator(matplotlib.ticker.MultipleLocator(base=0.2))\n",
    "# text(-0.83, 8000, f'FWHM = ${2*sqrt(2*log(2)) * sig[to_plot] * 1000:.2f}$ MHz\\n        T = {temperature:.2f} K',\n",
    "# rotation=0,\n",
    "# horizontalalignment='left',\n",
    "# verticalalignment='bottom',\n",
    "# color='xkcd:vermillion',\n",
    "# fontsize=17,\n",
    "#      bbox=dict(facecolor='white'))\n",
    "\n",
    "ax.set_xlim(-0.02,1.51)\n",
    "ax.set_ylim(-1.05,1.05)\n",
    "# ax.set_xlabel(r'$z$ [mm]')\n",
    "# ax.set_ylabel('$U_{pot}$ [eV]')\n",
    "# ax.legend(fontsize=16)\n",
    "\n",
    "ax.grid()\n",
    "tight_layout()\n",
    "\n",
    "# savefig('pot_compare_x1',dpi=300)"
   ]
  },
  {
   "cell_type": "code",
   "execution_count": null,
   "metadata": {},
   "outputs": [],
   "source": []
  },
  {
   "cell_type": "markdown",
   "metadata": {},
   "source": [
    "# TADOTI"
   ]
  },
  {
   "cell_type": "code",
   "execution_count": 10,
   "metadata": {},
   "outputs": [],
   "source": [
    "r0=3.93e-3 # 2.5e-3\n",
    "d0=21e-2/2\n",
    "\n",
    "Omega=5.215e6*2*pi # 2.047e6\n",
    "\n",
    "mkappa = 9.6*1e-4"
   ]
  },
  {
   "cell_type": "code",
   "execution_count": 11,
   "metadata": {},
   "outputs": [
    {
     "name": "stdout",
     "output_type": "stream",
     "text": [
      "alpha = 0.00025820765491457704\n",
      "qx = 0.12048466060143968\n",
      "ax = 0.0\n",
      "az = 9.370713053118921e-07\n",
      "f_z = 3569.6499870649727\n",
      "f_x = 222147.3198086697\n",
      "f_r = 222132.97931117812\n"
     ]
    }
   ],
   "source": [
    "Udc = 1200\n",
    "Urf = 830/4\n",
    "omega_z_2 = 2*C_e*mkappa*Udc/m_Ca/d0**2\n",
    "omega_x_2 = 2*(C_e*Urf/m_Ca/Omega/r0**2)**2\n",
    "omega_r_2 = omega_x_2 - 0.5*omega_z_2\n",
    "\n",
    "qx = 4*C_e*Urf/(m_Ca*r0**2*Omega**2)\n",
    "az = 2*omega_z_2/Omega**2\n",
    "\n",
    "print('alpha =',omega_z_2/omega_x_2)\n",
    "print('qx =',qx)\n",
    "print('ax =',ax)\n",
    "print('az =',az)\n",
    "print('f_z =',sqrt(omega_z_2)/2/pi)\n",
    "print('f_x =',sqrt(omega_x_2)/2/pi)\n",
    "print('f_r =',sqrt(omega_r_2)/2/pi)"
   ]
  },
  {
   "cell_type": "code",
   "execution_count": null,
   "metadata": {},
   "outputs": [],
   "source": []
  }
 ],
 "metadata": {
  "kernelspec": {
   "display_name": "Python 3",
   "language": "python",
   "name": "python3"
  },
  "language_info": {
   "codemirror_mode": {
    "name": "ipython",
    "version": 3
   },
   "file_extension": ".py",
   "mimetype": "text/x-python",
   "name": "python",
   "nbconvert_exporter": "python",
   "pygments_lexer": "ipython3",
   "version": "3.7.6"
  }
 },
 "nbformat": 4,
 "nbformat_minor": 4
}
