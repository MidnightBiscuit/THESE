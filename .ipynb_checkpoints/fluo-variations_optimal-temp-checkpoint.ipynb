{
 "cells": [
  {
   "cell_type": "markdown",
   "metadata": {},
   "source": [
    "Created on Mon Oct 11 14:54:29 2021\n",
    "\n",
    "@author: Gregoire, Adrien"
   ]
  },
  {
   "cell_type": "markdown",
   "metadata": {},
   "source": [
    "# Imports"
   ]
  },
  {
   "cell_type": "code",
   "execution_count": 5,
   "metadata": {},
   "outputs": [],
   "source": [
    "import numpy\n",
    "import matplotlib\n",
    "from matplotlib import pylab, mlab, pyplot\n",
    "from mpl_toolkits.mplot3d import Axes3D\n",
    "np = numpy\n",
    "plt = pyplot\n",
    "\n",
    "from pylab import *\n",
    "from numpy import *"
   ]
  },
  {
   "cell_type": "code",
   "execution_count": 21,
   "metadata": {},
   "outputs": [],
   "source": [
    "%matplotlib qt\n",
    "matplotlib.rcParams['figure.figsize'] = [10.5,7]\n",
    "matplotlib.rcParams.update({'font.size': 25})"
   ]
  },
  {
   "cell_type": "code",
   "execution_count": 7,
   "metadata": {},
   "outputs": [
    {
     "name": "stdout",
     "output_type": "stream",
     "text": [
      "$\\kappa_{simion}$ = 0.270471\n"
     ]
    }
   ],
   "source": [
    "# Constantes de la physique\n",
    "# ABSOLUMENT RECHARGER APRÈS AVOIR EXECUTÉ LES CASES D'IMPORT AU DESSUS\n",
    "\n",
    "C_e = 1.602e-19        # Coulomb\n",
    "kb = 1.38064852*1e-23  # Boltzman\n",
    "m_Ca = 40.078*1.66054e-27 # masse Ca 40.078\n",
    "m_GM = 1e6*1.66054e-27 # la masse de la GMol\n",
    "eps0 = 8.854187*1e-12  # permittivité électrique du vide\n",
    "\n",
    "hbar = 1.0545718e-34\n",
    "c = 299792458\n",
    "\n",
    "\n",
    "r0 = 2.5e-3 # 2.5e-3   # rayon piège Ca+\n",
    "d0 = (4e-3)/2            # longueur piège Ca+\n",
    "Omega = 2.045e6*2*pi # 2.047e6\n",
    "bk = 4 # nombre de barreaux par groupe (2 -> 4-pole , 4 -> 8-pole ...)\n",
    "\n",
    "mkappa = 0.23          # écrantage piège réel GiantMol\n",
    "wzLC = (2*pi*90806.9982303)**2\n",
    "kappa_simion = m_Ca*d0**2*wzLC/(2*C_e)\n",
    "print('%s = %f' % ('$\\kappa_{simion}$',kappa_simion) )\n",
    "\n",
    "zeta = kappa_simion*r0**2/d0**2"
   ]
  },
  {
   "cell_type": "markdown",
   "metadata": {},
   "source": [
    "# Computation of Probabilities\n",
    "$\\texttt{MB}$ is the Maxwell-Boltzmann distribution. It provides the probability to find an atom with a given velocity in a gas with temperature T.\n",
    "\n",
    "$\\texttt{pfl_dop}$ is the atomic ray profile with Doppler effect. It provides the probability of excitation given Rabi frequency, detuning, lambda and velocity of atom. It is considered equal to the excited population, i.e the proportion of excited atoms.\n",
    "\n",
    "The fluorescence F is related to the product of both probabilities $ F = \\propto \\texttt{MB}\\times \\texttt{pfl_dop} = \\texttt{prob_fluo}$. This product is still a probability, lets call it $P$. The idea is to search for the setting where the variation of fluorescence is the highest for a given input in energy. The energy introduced by the GiantMolecule is brought under the form of thermal energy. Thus we want to set the cloud in a configuration with the best variation of fluorescence for a variation in temperature. There are two ways of achieving this. First considering infinitesimal differences, this requires to compute $dP/dT$. Second considering macroscopic differences $\\Delta P$ and $\\Delta T$. Because we know how much energy the GiantMolecule transfers to the cloud, we can compute the expected $\\Delta T$. Then search for the optimal $\\Delta P$ given the determines $\\Delta T$. In the simulation article, the GMol with incident energy 50eV, transfers 50meV, which produces a 100mK increase of temperature in the cloud."
   ]
  },
  {
   "cell_type": "code",
   "execution_count": 379,
   "metadata": {},
   "outputs": [],
   "source": [
    "# Doppler profile\n",
    "def pfl_dop(v, delta, k, Rab, Gam):\n",
    "    return .25*Rab**2/(0.5*Rab**2+.25*Gam**2+(delta-k*v)**2)\n",
    "\n",
    "# Maxwell-Boltzmann distribution\n",
    "def MB(v, T):\n",
    "    kb = 1.38e-23\n",
    "    m_Ca = 40*1.66e-27\n",
    "    return np.sqrt(m_Ca/(np.pi*2*kb*T)) * np.exp(-m_Ca*v**2/(2*kb*T))\n",
    "\n",
    "# Probabilities product\n",
    "def prob_fluo(vmin, vmax, nv, T, delta, k, Rab, Gam):\n",
    "    nu = k*np.linspace(vmin, vmax, nv)\n",
    "    return nu, pfl_dop(nu/k, delta, k, Rab, Gam)*MB(nu/k, T)\n",
    "\n",
    "def T_lim(delta):\n",
    "    return -0.5*hbar*Gam**2*(1+(2*delta/Gam)**2) / (4*delta)/kb"
   ]
  },
  {
   "cell_type": "code",
   "execution_count": 191,
   "metadata": {},
   "outputs": [],
   "source": [
    "# Laser parameters\n",
    "k = 15826663 # m^-1\n",
    "Gam = 21570000.0 *2*pi\n",
    "delta = -1*Gam/2\n",
    "lam = 397e-9 # m\n",
    "I = 170 # W/m²"
   ]
  },
  {
   "cell_type": "markdown",
   "metadata": {},
   "source": [
    "# First method with infinitesimal differences\n",
    "\n",
    "Consider the excited state probability $P = \\rho_{ee} = \\frac{A/2}{A + B + (\\delta - v)^2}$, with $A=\\frac{1}{2}f_{rabi}^2=\\frac{1}{2}\\frac{3\\lambda\\Gamma}{4\\pi^2\\hbar c}I_L$, $B=\\frac{\\Gamma^2}{4}$. The derivation provides us with the following expressions\n",
    "- $\\frac{dP}{dT} = \\frac{A}{2}\\frac{2(\\delta - v)}{(A+B+(\\delta - v)^2)^2}$\n",
    "- $\\frac{d^2P}{dT^2} \\propto \\frac{A}{2}(-2(A+B+z)^2+8z(A+B+z))$, with $z=(\\delta - v)^2$.\n",
    "\n",
    "$\\frac{d^2P}{dT^2} = 0 \\Leftrightarrow 3z^2+4(A+B)z-2(A+B)^2 = 0$.\n",
    "\n",
    "This provides us with an expression for $z = \\delta - v = \\pm \\sqrt{\\frac{A+B}{3}}$. So $v = \\delta - z$.\n",
    "Ultimately, considering the most probable speed in a gas is $v = \\sqrt{2k_BT/m}$ it is possible to rewrite $v = \\delta - z$ as\n",
    "\n",
    "$T = \\frac{m(\\delta - z)^2}{2k_B}$"
   ]
  },
  {
   "cell_type": "code",
   "execution_count": 195,
   "metadata": {},
   "outputs": [],
   "source": [
    "# Plot MB dist and Dop profile as probabilities\n",
    "\n",
    "nu = k*np.linspace(-20,20,10000)\n",
    "dv = mean(diff(nu))/k\n",
    "y = MB(nu/k, .05)\n",
    "\n",
    "Rab = np.sqrt(3*lam**3*Gam/(4*np.pi**2*hbar*c) * I)\n",
    "\n",
    "pfl = pfl_dop(nu/k, delta, k, Rab, Gam)\n",
    "\n",
    "fig = plt.figure('MB and Dop prof',clear='True')\n",
    "ax = fig.add_subplot(111)\n",
    "ax.plot(nu*1e-6, y/np.max(y),label='MB profile (normalised)')\n",
    "ax.plot(nu*1e-6, pfl/np.max(pfl), '--',label='Doppler profile (normalised)')\n",
    "\n",
    "ax.set_xlabel(r'$\\nu = k v$ [MHz]')\n",
    "ax.set_ylabel(r'Probability')\n",
    "\n",
    "ax.grid()\n",
    "ax.legend(loc=3,fontsize=15)\n",
    "\n",
    "tight_layout()"
   ]
  },
  {
   "cell_type": "code",
   "execution_count": 197,
   "metadata": {},
   "outputs": [
    {
     "name": "stderr",
     "output_type": "stream",
     "text": [
      "No handles with labels found to put in legend.\n"
     ]
    }
   ],
   "source": [
    "# plot P = MB x DopProfile\n",
    "\n",
    "vmin = -20 # from \n",
    "vmax = 20  # to\n",
    "nv = 5000  # resolution\n",
    "T = .05    # temperature\n",
    "\n",
    "nunu, dop = prob_fluo(vmin, vmax, nv, T, delta, k, Rab, Gam)\n",
    "\n",
    "fig = plt.figure('MB x Dop',clear='True')\n",
    "ax = fig.add_subplot(111)\n",
    "ax.plot(nunu*1e-6, dop)\n",
    "\n",
    "ax.set_xlabel(r'$\\nu = k v$ [MHz]')\n",
    "ax.set_ylabel(r'Probability')\n",
    "\n",
    "ax.grid()\n",
    "ax.legend(loc=3,fontsize=15)\n",
    "\n",
    "tight_layout()"
   ]
  },
  {
   "cell_type": "code",
   "execution_count": 200,
   "metadata": {},
   "outputs": [],
   "source": [
    "# For a range of temperatures\n",
    "# Integrate the product MBxDopProfile\n",
    "# For several laser detunings\n",
    "# >>> Takes one minute <<<\n",
    "\n",
    "temps = np.linspace(.00055, .1, 1000)  # temperatures\n",
    "deltas = np.linspace(0, 6, 100)*Gam/2 # detunings\n",
    "z = [] # Here is stored the integral MBxDopProfile over detunings\n",
    "for i, temp in enumerate(temps):\n",
    "    z.append([])    \n",
    "    for j, delta in enumerate(deltas):\n",
    "        nunu, dop = prob_fluo(vmin, vmax, nv, temp, delta, k, Rab, Gam)\n",
    "        z[i].append(np.sum(dop)*dv) # the integrals are normalised\n",
    "                                     # by dv the step in v"
   ]
  },
  {
   "cell_type": "code",
   "execution_count": 203,
   "metadata": {},
   "outputs": [],
   "source": [
    "# Plot those integrals\n",
    "\n",
    "my_cm = plt.get_cmap('jet')\n",
    "\n",
    "n = np.shape(z)[1]\n",
    "\n",
    "fig = plt.figure('Integral',clear='True')\n",
    "ax = fig.add_subplot(111)\n",
    "for i in np.arange(0,n,2): # only show one curve over two\n",
    "    ax.plot(temps*1000, np.array(z)[:,i], color = my_cm(i/n))\n",
    "ax.text(25,0.15,'One color for each detuning',fontsize=15)\n",
    "ax.set_xlabel('Temperature [mK]')\n",
    "ax.set_ylabel('Probabilities')\n",
    "ax.grid()\n",
    "tight_layout()"
   ]
  },
  {
   "cell_type": "code",
   "execution_count": 231,
   "metadata": {},
   "outputs": [],
   "source": [
    "# Search integrals maximum\n",
    "# with derivative method\n",
    "\n",
    "n = np.shape(z)[1]\n",
    "fig = plt.figure('Integral derivate',clear='True')\n",
    "ax = fig.add_subplot(111)\n",
    "for i in np.arange(0,n//2,2):\n",
    "    ax.plot(temps[:-1], np.abs(np.diff(np.array(z)[:,i])), color = my_cm(i/n) )\n",
    "ax.set_xlabel('Temperature [mK]')\n",
    "ax.grid()\n",
    "tight_layout()"
   ]
  },
  {
   "cell_type": "code",
   "execution_count": 341,
   "metadata": {},
   "outputs": [],
   "source": [
    "# Search integrals maximum\n",
    "# with derivative method\n",
    "# pos of optimal temp diag bif\n",
    "\n",
    "n = np.shape(z)[1]\n",
    "T0 = []\n",
    "F0 = []\n",
    "for i in np.arange(0,n,1):\n",
    "    T0.append([])\n",
    "    F0.append([])\n",
    "    T0[i].append(temps[np.argmax(np.abs(np.diff(np.array(z)[:,i])))])\n",
    "    T0[i].append(temps[np.argmin(np.diff(np.array(z)[:,i]))])\n",
    "    T0[i].append(temps[np.argmax(np.diff(np.array(z)[:,i]))])\n",
    "    F0[i].append(max(np.abs(np.diff(np.array(z)[:,i]))))\n",
    "    F0[i].append(min(np.diff(np.array(z)[:,i])))\n",
    "    F0[i].append(max(np.diff(np.array(z)[:,i])))\n",
    "    \n",
    "T0 = array(T0)\n",
    "F0 = array(F0)\n",
    "    \n",
    "fig = plt.figure('Integral derivate + bifurcation',clear='True')\n",
    "ax = fig.add_subplot(111)\n",
    "for i in np.arange(0,n,1):\n",
    "    ax.plot(temps[:-1]*1e3, np.abs(np.diff(np.array(z)[:,i])), color = my_cm(i/n) )\n",
    "ax.plot(T0[:,0]*1e3, F0[:,0],\n",
    "        marker='o',color = 'k' )\n",
    "    \n",
    "ax.set_xlabel('Temperature [mK]')\n",
    "ax.grid()\n",
    "tight_layout()"
   ]
  },
  {
   "cell_type": "code",
   "execution_count": 405,
   "metadata": {},
   "outputs": [
    {
     "name": "stderr",
     "output_type": "stream",
     "text": [
      "/home/adrian/.local/lib/python3.6/site-packages/ipykernel_launcher.py:17: RuntimeWarning: divide by zero encountered in true_divide\n"
     ]
    }
   ],
   "source": [
    "# Plot bifurcation diagram\n",
    "\n",
    "# Search integrals maximum\n",
    "# with derivative method\n",
    "# pos of optimal temp diag bif\n",
    "# Depending the detuning\n",
    "\n",
    "fig = plt.figure('Bifurcation',clear='True')\n",
    "ax = fig.add_subplot(111)\n",
    "plt.title('Optimal temperature')\n",
    "\n",
    "True_min = T0[:40,1]\n",
    "True_max = T0[10:,2]\n",
    "True_deltas = hstack((deltas[:40],deltas[10:]))\n",
    "True_true = hstack((True_min,True_max))\n",
    "\n",
    "ax.plot(True_deltas*1e-6, True_true*1000,\n",
    "        marker='o',ls='',color = my_cm(0/3),label='Opt. Temp.' )\n",
    "ax.plot(deltas*1e-6,T_lim(-deltas)*1e3,'+',label='Dop. Lim. temperature')\n",
    "    \n",
    "ax.set_xlabel('Detuning [MHz]')\n",
    "ax.set_ylabel('Temperature [mK]')\n",
    "ax.grid()\n",
    "ax.legend(fontsize=15)\n",
    "tight_layout()"
   ]
  },
  {
   "cell_type": "code",
   "execution_count": 214,
   "metadata": {
    "scrolled": true
   },
   "outputs": [],
   "source": [
    "# Search the temperature\n",
    "# for which dP/dT is max\n",
    "\n",
    "T0 = []\n",
    "for i in np.arange(n):\n",
    "    T0.append(temps[np.argmax(np.abs(np.diff(np.array(z)[:,i])))])\n",
    "\n",
    "fig = plt.figure('Ideal temperature',clear='True')\n",
    "ax = fig.add_subplot(111)\n",
    "plt.plot(deltas/Gam*2, multiply(T0,1000), 'o')\n",
    "ax.set_xlabel('Detuning [$\\Gamma/2$]')\n",
    "ax.set_ylabel('Temperature [mK]')\n",
    "ax.grid()\n",
    "tight_layout()"
   ]
  },
  {
   "cell_type": "code",
   "execution_count": 75,
   "metadata": {},
   "outputs": [
    {
     "name": "stdout",
     "output_type": "stream",
     "text": [
      "0.004749276343901569 4.025630780881489e-06\n",
      "In the simulation, the low temperature before injection is within range 3-5 mK\n"
     ]
    }
   ],
   "source": [
    "# computation ideal temperature\n",
    "# as Jofre intended\n",
    "\n",
    "A = .5*Rab**2\n",
    "B = .25*Gam**2\n",
    "deltamoinsv = np.sqrt((A+B)/3)\n",
    "Vmoins = (-Gam/2 - deltamoinsv)/k\n",
    "Tmoins = Vmoins**2*m_Ca/(2*kb)\n",
    "Vplus = (-Gam/2 + deltamoinsv)/k\n",
    "Tplus = Vplus**2*m_Ca/(2*kb)\n",
    "\n",
    "print(Tmoins,Tplus)\n",
    "\n",
    "print('In the simulation, the low temperature before injection is within range 3-5 mK')"
   ]
  },
  {
   "cell_type": "markdown",
   "metadata": {},
   "source": [
    "# Second method with temperature variation known\n",
    "\n",
    "Consider that the temperature variation is known. In our case, with a GiantMolecule with mass $10^6$ Da, charge $Q=ze=e$, injection energy $50$ eV injection velocity $v\\approx 100$ m/s. In the cases where detection is delivered, the giant molecule loses 50meV, transfers enough energy to raise the cloud temperature from 1mK to 100mK approximately. For a given $\\delta T = 100$ mK, it is possible to compute the $\\Delta P$, for different initial temperatures."
   ]
  },
  {
   "cell_type": "code",
   "execution_count": 139,
   "metadata": {},
   "outputs": [],
   "source": [
    "# plot P = MB x DopProfile\n",
    "\n",
    "vmin = -10 # from \n",
    "vmax = 10  # to\n",
    "nv = 500  # resolution\n",
    "Tinit = 0.005   # temperature\n",
    "Tfinal = 0.1   # temperature\n",
    "deltaT = Tfinal-Tinit\n",
    "delta=-1*Gam/2\n",
    "\n",
    "nunuinit, dopinit = prob_fluo(vmin, vmax, nv, Tinit, delta, k, Rab, Gam)\n",
    "nunufinal, dopfinal = prob_fluo(vmin, vmax, nv, Tfinal, delta, k, Rab, Gam)\n",
    "\n",
    "fig = plt.figure('MB x DopProfile two temperatures',clear='True')\n",
    "ax = fig.add_subplot(111)\n",
    "ax.plot(nunuinit, dopinit,label=f'{Tinit} K')\n",
    "ax.plot(nunufinal, dopfinal,label=f'{Tfinal} K')\n",
    "\n",
    "ax.set_xlabel(r'$\\nu = k v$ [Hz]')\n",
    "ax.set_ylabel(r'Probability')\n",
    "\n",
    "ax.grid()\n",
    "ax.legend(loc=3,fontsize=15)\n",
    "\n",
    "tight_layout()"
   ]
  },
  {
   "cell_type": "code",
   "execution_count": 189,
   "metadata": {},
   "outputs": [],
   "source": [
    "# plot P = MB x DopProfile\n",
    "\n",
    "# ajouter delta en fct de T\n",
    "# Sinon tracer en fonction du detuning delta\n",
    "\n",
    "vmin = -10 # from \n",
    "vmax = 10  # to\n",
    "nv = 500  # resolution\n",
    "Tinit = 0.005   # temperature\n",
    "Tfinal = 0.1   # temperature\n",
    "deltaT = Tfinal-Tinit\n",
    "\n",
    "nunuinit, dopinit = prob_fluo(vmin, vmax, nv, Tinit, delta, k, Rab, Gam)\n",
    "nunufinal, dopfinal = prob_fluo(vmin, vmax, nv, Tfinal, delta, k, Rab, Gam)\n",
    "\n",
    "temps = linspace(.001, 1, 500)  # temperatures\n",
    "deltas = [-1*Gam/2] # detunings  np.linspace(0, 10, 250)*\n",
    "fluo_diff = [] # Here is stored the integral MBxDopProfile over detunings\n",
    "for i, temp in enumerate(temps):\n",
    "    fluo_diff.append([])    \n",
    "    for j, delta in enumerate(deltas):\n",
    "        nunuinit, dopinit = prob_fluo(vmin, vmax, nv, temp, delta, k, Rab, Gam)\n",
    "        nunufinal, dopfinal = prob_fluo(vmin, vmax, nv, temp+deltaT, delta, k, Rab, Gam)\n",
    "        fluo_diff[i].append(sum(dopfinal)*dv-sum(dopinit)*dv) # *dv\n",
    "        \n",
    "T_lim = -0.5*hbar*abs(deltas[0])*(1+(2*delta/Gam))**2/(4*delta/Gam)/kb\n",
    "\n",
    "\n",
    "fig = plt.figure('fluo_diff',clear='True')\n",
    "ax = fig.add_subplot(111)\n",
    "ax.plot(temps, fluo_diff)\n",
    "# ax.vlines(T_lim,-0.0015,0.0015)\n",
    "\n",
    "ax.set_xlabel(r'$T_{init}$ [K]')\n",
    "ax.set_ylabel(r'$\\Delta F$')\n",
    "\n",
    "ax.grid()\n",
    "# ax.legend(loc=3,fontsize=15)\n",
    "\n",
    "tight_layout()"
   ]
  },
  {
   "cell_type": "markdown",
   "metadata": {},
   "source": [
    "En jouant sur le detuning placer le nuage dans un état où il est tjrs cristallin mais pas loin de transitionner vers liquide.\n",
    "\n",
    "Le passage de la molécule va finir le travail et le chauffage RF amplifier.\n",
    "\n",
    "En manip varier le detuning et mesurer la fluo. Néanmoins si les calculs au dessus sont intéressants, ils ne prennent pas en compte la faible durée de vie de la fluo. Certes la difference de fluorescence peut être élevée, mais de très courte durée.."
   ]
  },
  {
   "cell_type": "code",
   "execution_count": 366,
   "metadata": {},
   "outputs": [
    {
     "name": "stdout",
     "output_type": "stream",
     "text": [
      "0.5175985367512157 mK\n"
     ]
    }
   ],
   "source": [
    "# Compute limit temperature\n",
    "delta = -0.5*Gam\n",
    "T_lim = -0.5*hbar*Gam**2*(1+(2*delta/Gam)**2) / (4*delta)/kb\n",
    "print(T_lim*1e3,'mK')"
   ]
  },
  {
   "cell_type": "code",
   "execution_count": 399,
   "metadata": {},
   "outputs": [
    {
     "name": "stderr",
     "output_type": "stream",
     "text": [
      "/home/adrian/.local/lib/python3.6/site-packages/ipykernel_launcher.py:17: RuntimeWarning: divide by zero encountered in true_divide\n"
     ]
    }
   ],
   "source": [
    "# Cold limit temperature\n",
    "# against detuning\n",
    "\n",
    "temps = np.linspace(.00055, .1, 1000)  # temperatures\n",
    "deltas = np.linspace(0, 6, 100)*Gam/2 # detunings\n",
    "fig = plt.figure('coucou',clear='True')\n",
    "ax = fig.add_subplot(111)\n",
    "ax.plot(deltas*1e-6,T_lim(-deltas)*1e3,'+') # deltas*1e-6,\n",
    "ax.grid()\n",
    "tight_layout()"
   ]
  }
 ],
 "metadata": {
  "kernelspec": {
   "display_name": "Python 3",
   "language": "python",
   "name": "python3"
  },
  "language_info": {
   "codemirror_mode": {
    "name": "ipython",
    "version": 3
   },
   "file_extension": ".py",
   "mimetype": "text/x-python",
   "name": "python",
   "nbconvert_exporter": "python",
   "pygments_lexer": "ipython3",
   "version": "3.6.7"
  }
 },
 "nbformat": 4,
 "nbformat_minor": 2
}
