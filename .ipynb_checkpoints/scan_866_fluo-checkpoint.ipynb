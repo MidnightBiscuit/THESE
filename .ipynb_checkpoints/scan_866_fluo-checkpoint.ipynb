{
 "cells": [
  {
   "cell_type": "code",
   "execution_count": 1,
   "metadata": {},
   "outputs": [],
   "source": [
    "# %pylab\n",
    "\n",
    "import numpy\n",
    "import matplotlib\n",
    "from matplotlib import pylab, mlab, pyplot\n",
    "from mpl_toolkits.mplot3d import Axes3D\n",
    "np = numpy\n",
    "plt = pyplot\n",
    "\n",
    "from pylab import *\n",
    "from numpy import *\n",
    "\n",
    "%matplotlib qt"
   ]
  },
  {
   "cell_type": "code",
   "execution_count": 2,
   "metadata": {},
   "outputs": [],
   "source": [
    "from scipy.optimize import curve_fit\n",
    "import tkinter as tk\n",
    "from tkinter import filedialog\n",
    "\n",
    "matplotlib.rcParams['figure.figsize'] = [10.5,7]\n",
    "matplotlib.rcParams.update({'font.size': 25})\n",
    "%matplotlib qt"
   ]
  },
  {
   "cell_type": "code",
   "execution_count": 3,
   "metadata": {},
   "outputs": [],
   "source": [
    "def gaussian(x, A, mu, sig):\n",
    "    return A*exp(-power(x - mu, 2.) / (2 * power(sig, 2.)))"
   ]
  },
  {
   "cell_type": "code",
   "execution_count": null,
   "metadata": {},
   "outputs": [],
   "source": []
  },
  {
   "cell_type": "code",
   "execution_count": 5,
   "metadata": {},
   "outputs": [
    {
     "name": "stdout",
     "output_type": "stream",
     "text": [
      "('/home/adrian/Documents/Mesures/866_scan/20190603/scan_866_1V_1.5V_000.dat', '/home/adrian/Documents/Mesures/866_scan/20190603/scan_866_1V_1.5V_001.dat', '/home/adrian/Documents/Mesures/866_scan/20190603/scan_866_1V_1.5V_002.dat', '/home/adrian/Documents/Mesures/866_scan/20190603/scan_866_1V_1.5V_003.dat', '/home/adrian/Documents/Mesures/866_scan/20190603/scan_866_1V_1.5V_004.dat', '/home/adrian/Documents/Mesures/866_scan/20190603/scan_866_1V_1.5V_005.dat', '/home/adrian/Documents/Mesures/866_scan/20190603/scan_866_1V_1.5V_006.dat', '/home/adrian/Documents/Mesures/866_scan/20190603/scan_866_1V_1.5V_007.dat', '/home/adrian/Documents/Mesures/866_scan/20190603/scan_866_1V_1.5V_008.dat')\n"
     ]
    }
   ],
   "source": [
    "# sélection des fichiers (Python 3)\n",
    "import tkinter as tk\n",
    "from tkinter import filedialog\n",
    "\n",
    "root = tk.Tk()\n",
    "root.withdraw()\n",
    "\n",
    "file_path = filedialog.askopenfilename(initialdir = '/home/adrian/Documents/Mesures',multiple=True)\n",
    "print(file_path)\n",
    "\n",
    "# ('/home/adrian/Documents/Mesures/GiantMol_Ions/20180606/fluo_temp_scan866__000_000.dat',\n",
    "# '/home/adrian/Documents/Mesures/GiantMol_Ions/20180606/fluo_temp_scan866__000_001.dat',\n",
    "# '/home/adrian/Documents/Mesures/GiantMol_Ions/20180606/fluo_temp_scan866__000_002.dat')"
   ]
  },
  {
   "cell_type": "code",
   "execution_count": 6,
   "metadata": {},
   "outputs": [],
   "source": [
    "# Array rectangle\n",
    "# Allocation à l'avance\n",
    "\n",
    "filename=file_path\n",
    "m = loadtxt(file_path[1],usecols=(2),delimiter='\\t',skiprows=0,unpack=True).size\n",
    "n = len(file_path)\n",
    "shape = (m, n)\n",
    "\n",
    "TIME = zeros(shape)\n",
    "PM = zeros(shape)\n",
    "CH2 = zeros(shape)\n",
    "\n",
    "for k in range(0,len(filename)):\n",
    "    TIME[:,k], PM[:,k] = loadtxt(file_path[k],usecols=(0,1),delimiter='\\t',skiprows=0,unpack=True)"
   ]
  },
  {
   "cell_type": "code",
   "execution_count": 7,
   "metadata": {},
   "outputs": [],
   "source": [
    "fond = 1400\n",
    "PM = PM - fond"
   ]
  },
  {
   "cell_type": "code",
   "execution_count": 5,
   "metadata": {},
   "outputs": [
    {
     "name": "stdout",
     "output_type": "stream",
     "text": [
      "866.2160807571738 866.212200318946\n"
     ]
    },
    {
     "ename": "NameError",
     "evalue": "name 'TIME' is not defined",
     "output_type": "error",
     "traceback": [
      "\u001b[0;31m---------------------------------------------------------------------------\u001b[0m",
      "\u001b[0;31mNameError\u001b[0m                                 Traceback (most recent call last)",
      "\u001b[0;32m<ipython-input-5-7dbef595179e>\u001b[0m in \u001b[0;36m<module>\u001b[0;34m()\u001b[0m\n\u001b[1;32m      5\u001b[0m \u001b[0mprint\u001b[0m\u001b[0;34m(\u001b[0m\u001b[0ml866_1\u001b[0m\u001b[0;34m*\u001b[0m\u001b[0;36m1e9\u001b[0m\u001b[0;34m,\u001b[0m\u001b[0ml866_2\u001b[0m\u001b[0;34m*\u001b[0m\u001b[0;36m1e9\u001b[0m\u001b[0;34m)\u001b[0m\u001b[0;34m\u001b[0m\u001b[0;34m\u001b[0m\u001b[0m\n\u001b[1;32m      6\u001b[0m \u001b[0;34m\u001b[0m\u001b[0m\n\u001b[0;32m----> 7\u001b[0;31m \u001b[0ml_866\u001b[0m \u001b[0;34m=\u001b[0m \u001b[0maround\u001b[0m\u001b[0;34m(\u001b[0m\u001b[0mlinspace\u001b[0m\u001b[0;34m(\u001b[0m\u001b[0ml866_2\u001b[0m\u001b[0;34m*\u001b[0m\u001b[0;36m1e9\u001b[0m\u001b[0;34m,\u001b[0m\u001b[0ml866_1\u001b[0m\u001b[0;34m*\u001b[0m\u001b[0;36m1e9\u001b[0m\u001b[0;34m,\u001b[0m\u001b[0mlen\u001b[0m\u001b[0;34m(\u001b[0m\u001b[0mTIME\u001b[0m\u001b[0;34m[\u001b[0m\u001b[0;34m:\u001b[0m\u001b[0;34m,\u001b[0m\u001b[0;36m0\u001b[0m\u001b[0;34m]\u001b[0m\u001b[0;34m)\u001b[0m\u001b[0;34m)\u001b[0m\u001b[0;34m,\u001b[0m\u001b[0;36m5\u001b[0m\u001b[0;34m)\u001b[0m \u001b[0;31m# nm\u001b[0m\u001b[0;34m\u001b[0m\u001b[0;34m\u001b[0m\u001b[0m\n\u001b[0m\u001b[1;32m      8\u001b[0m \u001b[0mf_866\u001b[0m \u001b[0;34m=\u001b[0m \u001b[0mc\u001b[0m\u001b[0;34m/\u001b[0m\u001b[0;34m(\u001b[0m\u001b[0mn\u001b[0m\u001b[0;34m*\u001b[0m\u001b[0ml_866\u001b[0m\u001b[0;34m*\u001b[0m\u001b[0;36m1e-9\u001b[0m\u001b[0;34m)\u001b[0m \u001b[0;31m# Hz\u001b[0m\u001b[0;34m\u001b[0m\u001b[0;34m\u001b[0m\u001b[0m\n",
      "\u001b[0;31mNameError\u001b[0m: name 'TIME' is not defined"
     ]
    }
   ],
   "source": [
    "n = 1.0002746\n",
    "c = 299792458\n",
    "l866_1 = c/345.9993e12/n\n",
    "l866_2 = c/346.00085e12/n\n",
    "print(l866_1*1e9,l866_2*1e9)\n",
    "\n",
    "l_866 = around(linspace(l866_2*1e9,l866_1*1e9,len(TIME[:,0])),5) # nm\n",
    "f_866 = c/(n*l_866*1e-9) # Hz"
   ]
  },
  {
   "cell_type": "code",
   "execution_count": 14,
   "metadata": {},
   "outputs": [],
   "source": [
    "test_gauss = gaussian(TIME[:,0],1500,15,3)\n",
    "fit_PM = zeros((len(file_path),3))\n",
    "fit_PM = zeros((len(file_path),3))\n",
    "covar_PM = [zeros((3,3)) for k in range(0,len(file_path))]\n",
    "\n",
    "A = zeros(len(file_path))\n",
    "mu = zeros(len(file_path))\n",
    "sig = zeros(len(file_path))\n",
    "            \n",
    "fit_gauss = zeros((len(TIME[:,0]),(len(file_path))))\n",
    "\n",
    "start = 250"
   ]
  },
  {
   "cell_type": "code",
   "execution_count": 273,
   "metadata": {},
   "outputs": [
    {
     "data": {
      "text/plain": [
       "-269.19444293709097"
      ]
     },
     "execution_count": 273,
     "metadata": {},
     "output_type": "execute_result"
    }
   ],
   "source": [
    "mu[to_plot]*1000"
   ]
  },
  {
   "cell_type": "code",
   "execution_count": 241,
   "metadata": {},
   "outputs": [],
   "source": [
    "import matplotlib.patches as patches"
   ]
  },
  {
   "cell_type": "code",
   "execution_count": 318,
   "metadata": {},
   "outputs": [
    {
     "name": "stdout",
     "output_type": "stream",
     "text": [
      "/home/adrian/Documents/Mesures/866_scan/20190603/scan_866_1V_1.5V_000.dat\n",
      "10248.401081148793 -0.269194442937091 0.2067926824334469\n"
     ]
    }
   ],
   "source": [
    "to_plot = 0\n",
    "print(file_path[to_plot])\n",
    "f_346 = 346000.234867\n",
    "bckg = min(PM[:,to_plot])+700\n",
    "start = 200\n",
    "stop = -1\n",
    "\n",
    "start_exclude = 830\n",
    "stop_exclude = 1000\n",
    "x = f_866[start:]-f_346\n",
    "x_fit = linspace(x[0]*1000,x[-1]*1000,50000)\n",
    "\n",
    "PMPM = hstack((PM[start:start_exclude,to_plot],PM[stop_exclude:,to_plot]))\n",
    "xx =  hstack((x[:start_exclude],x[stop_exclude:]))\n",
    "\n",
    "\n",
    "fit_PM[to_plot,:], covar_PM[to_plot] = curve_fit(gaussian,xx,PMPM-bckg,\n",
    "                                                    p0=[1/0.5,0,0.5],maxfev = 50000)\n",
    "\n",
    "A[to_plot] = fit_PM[to_plot,0]\n",
    "mu[to_plot] = fit_PM[to_plot,1]\n",
    "sig[to_plot] = fit_PM[to_plot,2]\n",
    "FWHM = 2*sqrt(2*log(2)) * sig[to_plot] * 1000 # MHz\n",
    "temperature = 40 * (FWHM*1e-3/f_346/(7.16*1e-7))**2\n",
    "\n",
    "print(A[to_plot],mu[to_plot],sig[to_plot])\n",
    "# fit_gauss[:,to_plot] = gaussian(x,A[to_plot],mu[to_plot],sig[to_plot])\n",
    "my_fit_gauss = gaussian(x_fit/1000,A[to_plot],mu[to_plot],sig[to_plot])\n",
    "\n",
    "f_866 = c/(1.0002746*l_866*1e-9) * 1e-9 # GHz\n",
    "\n",
    "fig = figure('One res_noire',clear='True')\n",
    "ax = fig.add_subplot(1, 1, 1)\n",
    "\n",
    "tata = (x[::-1])*1000 # MHz\n",
    "tete = my_fit_gauss\n",
    "tete = tete + bckg\n",
    "x_fit = x_fit[::-1]\n",
    "\n",
    "# plot(l_866,PM[:,to_plot],'+',color='xkcd:prussian blue')\n",
    "ax.plot(tata,PM[start:,to_plot],'+',color='xkcd:prussian blue',label='cloud fluo.')\n",
    "ax.plot(x_fit,tete,color='xkcd:vermillion',label='Gaussian fit')\n",
    "# vlines(mu[to_plot]*1000,0,15000,linestyles=':',color='xkcd:vermillion')    \n",
    "\n",
    "rect = patches.Rectangle((x[start_exclude]*1000, 0), (x[stop_exclude]-x[start_exclude])*1000, 16000,\n",
    "                         linewidth=1, edgecolor='black', facecolor='gray',alpha=.3,hatch='xxxx',label='fit exclusion')\n",
    "# Add the patch to the Axes\n",
    "ax.add_patch(rect)\n",
    "\n",
    "    \n",
    "text(140, 7250, f'FWHM = ${2*sqrt(2*log(2)) * sig[to_plot] * 1000:.2f}$ MHz\\n        T = {temperature:.2f} K',\n",
    "rotation=0,\n",
    "horizontalalignment='left',\n",
    "verticalalignment='bottom',\n",
    "color='xkcd:vermillion',\n",
    "fontsize=17)\n",
    "\n",
    "ax.set_xlim(-1000,1050)\n",
    "ax.set_ylim(2800,15200)\n",
    "xlabel(r'$\\Delta \\nu_{866}$ [MHz]')\n",
    "ylabel('fluo. [cts/5ms]')\n",
    "ax.legend(fontsize=18)\n",
    "\n",
    "grid()\n",
    "tight_layout()"
   ]
  },
  {
   "cell_type": "code",
   "execution_count": 8,
   "metadata": {},
   "outputs": [
    {
     "name": "stdout",
     "output_type": "stream",
     "text": [
      "1995.9849250532054\n"
     ]
    }
   ],
   "source": [
    "f_346 = 346000.234867\n",
    "FWHM = 1.75*1e3\n",
    "temperature = 40 * (FWHM*1e-3/f_346/(7.16*1e-7))**2\n",
    "print(temperature)"
   ]
  },
  {
   "cell_type": "code",
   "execution_count": null,
   "metadata": {},
   "outputs": [],
   "source": []
  },
  {
   "cell_type": "code",
   "execution_count": null,
   "metadata": {},
   "outputs": [],
   "source": []
  }
 ],
 "metadata": {
  "kernelspec": {
   "display_name": "Python 3",
   "language": "python",
   "name": "python3"
  },
  "language_info": {
   "codemirror_mode": {
    "name": "ipython",
    "version": 3
   },
   "file_extension": ".py",
   "mimetype": "text/x-python",
   "name": "python",
   "nbconvert_exporter": "python",
   "pygments_lexer": "ipython3",
   "version": "3.6.7"
  }
 },
 "nbformat": 4,
 "nbformat_minor": 2
}
