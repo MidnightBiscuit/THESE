{
 "cells": [
  {
   "cell_type": "code",
   "execution_count": 2,
   "metadata": {},
   "outputs": [],
   "source": [
    "# %pylab\n",
    "\n",
    "import numpy\n",
    "import matplotlib\n",
    "from matplotlib import pylab, mlab, pyplot\n",
    "from mpl_toolkits.mplot3d import Axes3D\n",
    "np = numpy\n",
    "plt = pyplot\n",
    "\n",
    "from pylab import *\n",
    "from numpy import *\n",
    "\n",
    "%matplotlib qt"
   ]
  },
  {
   "cell_type": "code",
   "execution_count": 3,
   "metadata": {},
   "outputs": [],
   "source": [
    "%matplotlib qt\n",
    "%run /home/adrian/Documents/Programmes/Python/GiantMol/Functions/turbo_colormap.py"
   ]
  },
  {
   "cell_type": "code",
   "execution_count": 4,
   "metadata": {},
   "outputs": [],
   "source": [
    "matplotlib.rcParams.update({'font.size': 20})"
   ]
  },
  {
   "cell_type": "code",
   "execution_count": 7,
   "metadata": {},
   "outputs": [],
   "source": [
    "# Constantes de la physique\n",
    "# ABSOLUMENT RECHARGER APRÈS AVOIR EXECUTÉ LES CASES D'IMPORT AU DESSUS\n",
    "\n",
    "C_e = 1.602e-19        # Coulomb\n",
    "kb = 1.38064852*1e-23  # Boltzman\n",
    "m_Ca = 40.078*1.66054e-27 # masse Ca 40.078\n",
    "m_GM = 1e6*1.66054e-27 # la masse de la GMol\n",
    "eps0 = 8.854187*1e-12  # permittivité électrique du vide\n",
    "\n",
    "Na = 6.022e23\n",
    "Rgp = Na*kb"
   ]
  },
  {
   "cell_type": "code",
   "execution_count": 102,
   "metadata": {},
   "outputs": [
    {
     "name": "stdout",
     "output_type": "stream",
     "text": [
      "0.5917959047466343 1.836078773590409e-05\n"
     ]
    }
   ],
   "source": [
    "p0 = 101300\n",
    "p1 = linspace(101300,0,1000)\n",
    "delta_p  = p0 - p1\n",
    "delta_pcm = delta_p/100\n",
    "delta_p2cm = (p0**2 - p1**2)/(100**2)\n",
    "p = 1013e2/2\n",
    "R = (0.5*1e-3)/2\n",
    "Dcm = 2*R*100\n",
    "A = pi*R**2\n",
    "L = 10*1e-2\n",
    "Lcm = L*100\n",
    "\n",
    "Mair = 28.976/1000\n",
    "\n",
    "T0 = 273.15\n",
    "T = T0 + 25\n",
    "Tref = T0\n",
    "C = 110.4\n",
    "vis_ref = 1.715*1e-5\n",
    "viscosity = vis_ref * (Tref + C) / (T + C) * (T/Tref)**(3/2) # kg /m/s = Pa . s\n",
    "viscositycm = viscosity/100\n",
    "\n",
    "rho = p/(287.06*T)\n",
    "# rho = p*Mair/(8.314*T)\n",
    "\n",
    "N_WA = 1/ (p0/100) * 60\n",
    "\n",
    "Qber = A*sqrt(2*delta_p/rho) *1000*60\n",
    "Qpoi = A**2/(8*pi*viscosity*L)*delta_p *1000*60\n",
    "QWAlami  = (pi/128/viscositycm) * Dcm**4/Lcm *(delta_p2cm/2) * N_WA\n",
    "QWAturb  = Dcm*(pi**2*20/(16*3.2)*Dcm**3*delta_p2cm/(2*Lcm))**(4/7) * (Rgp*T/Mair)**(3/7) * (4/pi/viscositycm)**(1/7) * N_WA\n",
    "\n",
    "# QWAlami  = 135 * Dcm**4/Lcm *(delta_p2cm/2) / (p0/100) * 60\n",
    "# QWAturb  = 134*Dcm*(Dcm**3*delta_p2cm/2)**(4/7) / (p0/100) * 60\n",
    "\n",
    "print(rho,viscosity)"
   ]
  },
  {
   "cell_type": "code",
   "execution_count": 110,
   "metadata": {},
   "outputs": [
    {
     "data": {
      "text/plain": [
       "1336.7450764748858"
      ]
     },
     "execution_count": 110,
     "metadata": {},
     "output_type": "execute_result"
    }
   ],
   "source": [
    "pi/128/viscosity"
   ]
  },
  {
   "cell_type": "code",
   "execution_count": 103,
   "metadata": {},
   "outputs": [],
   "source": [
    "# chjeck cercle\n",
    "fig = plt.figure('Bernoulli vs Poiseuille',clear='True')\n",
    "ax = fig.add_subplot(111)\n",
    "\n",
    "ax.plot(delta_p/100,Qber,label='Bernoulli')\n",
    "ax.plot(delta_p/100,Qpoi,label='Hagen-Poiseuille')\n",
    "ax.plot(delta_p/100,QWAlami,label='Wutz/Adam lami')\n",
    "ax.plot(delta_p/100,QWAturb,label='Wutz/Adam turb')\n",
    "# ax.set_aspect('equal', adjustable='box')\n",
    "ax.grid(b=True, which='major', color='grey', linestyle='-')\n",
    "ax.grid(b=True, which='minor', color='silver', linestyle='--')\n",
    "ax.set_xlabel(r'$\\Delta$P [hPa = mbar]')\n",
    "ax.set_ylabel(r'Q [L/min]')\n",
    "ax.set_xlim(-35,1035)\n",
    "# ax.set_ylim(-0.05,6.25)\n",
    "\n",
    "plt.setp(ax.xaxis.get_majorticklabels(), rotation=45, ha='right')\n",
    "ax.xaxis.set_major_locator(matplotlib.ticker.MultipleLocator(base=200))\n",
    "\n",
    "ax.legend(fontsize=15)\n",
    "plt.minorticks_on()\n",
    "\n",
    "tight_layout()"
   ]
  },
  {
   "cell_type": "code",
   "execution_count": 23,
   "metadata": {},
   "outputs": [
    {
     "data": {
      "text/plain": [
       "2.238094720197936"
      ]
     },
     "execution_count": 23,
     "metadata": {},
     "output_type": "execute_result"
    }
   ],
   "source": [
    "(pi**2*20/16/3.2)**(4/7)*(4/pi)**(1/7)"
   ]
  }
 ],
 "metadata": {
  "kernelspec": {
   "display_name": "Python 3",
   "language": "python",
   "name": "python3"
  },
  "language_info": {
   "codemirror_mode": {
    "name": "ipython",
    "version": 3
   },
   "file_extension": ".py",
   "mimetype": "text/x-python",
   "name": "python",
   "nbconvert_exporter": "python",
   "pygments_lexer": "ipython3",
   "version": "3.6.7"
  }
 },
 "nbformat": 4,
 "nbformat_minor": 4
}
