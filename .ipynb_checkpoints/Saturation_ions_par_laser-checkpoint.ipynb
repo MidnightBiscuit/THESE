{
 "cells": [
  {
   "cell_type": "code",
   "execution_count": 3,
   "metadata": {},
   "outputs": [
    {
     "data": {
      "text/plain": [
       "'\\nPrise de fluorescence (signal net)\\npour différentes puissances laser\\n'"
      ]
     },
     "execution_count": 3,
     "metadata": {},
     "output_type": "execute_result"
    }
   ],
   "source": [
    "###########################################################\n",
    "#                                                         #\n",
    "#                SATURATION IONS PAR LASER                #\n",
    "#                                                         #\n",
    "#                                                         #\n",
    "#                          03/2019     Adrien Poindron    #\n",
    "###########################################################\n",
    "'''\n",
    "Prise de fluorescence (signal net)\n",
    "pour différentes puissances laser\n",
    "'''"
   ]
  },
  {
   "cell_type": "code",
   "execution_count": 20,
   "metadata": {},
   "outputs": [],
   "source": [
    "import pylab\n",
    "import numpy as np\n",
    "import scipy\n",
    "import matplotlib\n",
    "%matplotlib qt"
   ]
  },
  {
   "cell_type": "code",
   "execution_count": 13,
   "metadata": {},
   "outputs": [],
   "source": [
    "from scipy.signal import savgol_filter, argrelextrema\n",
    "from matplotlib import cm\n",
    "from scipy.optimize import curve_fit\n",
    "from scipy.signal import savgol_filter\n",
    "# cm = pylab.get_cmap('jet')"
   ]
  },
  {
   "cell_type": "code",
   "execution_count": 11,
   "metadata": {},
   "outputs": [],
   "source": [
    "matplotlib.rcParams['figure.figsize'] = [10.5,7]\n",
    "matplotlib.rcParams.update({'font.size': 25})\n",
    "%matplotlib qt"
   ]
  },
  {
   "cell_type": "code",
   "execution_count": 2,
   "metadata": {},
   "outputs": [],
   "source": [
    "%run ../GiantMol/Functions/1.2/data_fct_Adrien_point_by_point"
   ]
  },
  {
   "cell_type": "code",
   "execution_count": 3,
   "metadata": {},
   "outputs": [],
   "source": [
    "def linfit(x,a,b):\n",
    "    return a*x + b"
   ]
  },
  {
   "cell_type": "markdown",
   "metadata": {},
   "source": [
    "# Sélection fichiers"
   ]
  },
  {
   "cell_type": "code",
   "execution_count": 4,
   "metadata": {
    "scrolled": true
   },
   "outputs": [],
   "source": [
    "# sélection des fichiers donnée (Python 3)\n",
    "file_path = load_file_GUI('/home/adrian/Documents/Mesures/')\n",
    "filename = file_path\n",
    "# print(file_path)"
   ]
  },
  {
   "cell_type": "markdown",
   "metadata": {},
   "source": [
    "# Importation des fichiers"
   ]
  },
  {
   "cell_type": "code",
   "execution_count": 5,
   "metadata": {},
   "outputs": [],
   "source": [
    "the_col_to_read = (0,1)\n",
    "the_row_to_skip = 0\n",
    "the_delim = '\\t'\n",
    "\n",
    "data_dico = {}\n",
    "data_dico = import_data(file_path,\n",
    "                        row_skip=the_row_to_skip,\n",
    "                        col_to_read=the_col_to_read,\n",
    "                        delim=the_delim)\n",
    "\n",
    "TP,CH = convert_dico_to_var(data_dico)"
   ]
  },
  {
   "cell_type": "code",
   "execution_count": 6,
   "metadata": {},
   "outputs": [
    {
     "name": "stdout",
     "output_type": "stream",
     "text": [
      "dt[0] = 5.0000e-03sec\n",
      "dt[1] = 5.0000e-03sec\n",
      "dt[2] = 5.0000e-03sec\n",
      "dt[3] = 5.0000e-03sec\n",
      "dt[4] = 5.0000e-03sec\n",
      "dt[5] = 5.0000e-03sec\n",
      "dt[6] = 5.0000e-03sec\n",
      "dt[7] = 5.0000e-03sec\n",
      "dt[8] = 5.0000e-03sec\n",
      "dt[9] = 5.0000e-03sec\n",
      "dt[10] = 5.0000e-03sec\n",
      "dt[11] = 5.0000e-03sec\n",
      "dt[12] = 5.0000e-03sec\n",
      "dt[13] = 5.0000e-03sec\n",
      "dt[14] = 5.0000e-03sec\n",
      "dt[15] = 5.0000e-03sec\n",
      "dt[16] = 5.0000e-03sec\n",
      "dt[17] = 5.0000e-03sec\n",
      "dt[18] = 5.0000e-03sec\n",
      "dt[19] = 5.0000e-03sec\n",
      "dt[20] = 5.0000e-03sec\n",
      "dt[21] = 5.0000e-03sec\n",
      "dt[22] = 5.0000e-03sec\n",
      "dt[23] = 5.0000e-03sec\n",
      "dt[24] = 5.0000e-03sec\n",
      "dt[25] = 5.0000e-03sec\n",
      "dt[26] = 5.0000e-03sec\n",
      "dt[27] = 5.0000e-03sec\n",
      "dt[28] = 5.0000e-03sec\n",
      "dt[29] = 5.0000e-03sec\n",
      "dt[30] = 5.0000e-03sec\n",
      "dt[31] = 5.0000e-03sec\n",
      "dt[32] = 5.0000e-03sec\n",
      "dt[33] = 5.0000e-03sec\n",
      "dt[34] = 5.0000e-03sec\n",
      "dt[35] = 5.0000e-03sec\n",
      "dt[36] = 5.0000e-03sec\n",
      "dt[37] = 5.0000e-03sec\n",
      "dt[38] = 5.0000e-03sec\n",
      "dt[39] = 5.0000e-03sec\n",
      "dt[40] = 5.0000e-03sec\n",
      "dt[41] = 5.0000e-03sec\n",
      "dt[42] = 5.0000e-03sec\n",
      "dt[43] = 5.0000e-03sec\n"
     ]
    }
   ],
   "source": [
    "# temps entre deux échantillons (si constant)\n",
    "dt = [TP[k][50] - TP[k][49] for k in range(0,len(file_path))]\n",
    "# sample_start = 50000\n",
    "# sample_end = 25000*60+50000\n",
    "for k in range(0,len(file_path)):\n",
    "    print('{}{}{}{:.4e}{}'.format('dt[', k, '] = ',dt[k],'sec'))"
   ]
  },
  {
   "cell_type": "code",
   "execution_count": 7,
   "metadata": {},
   "outputs": [
    {
     "name": "stdout",
     "output_type": "stream",
     "text": [
      "0 | /home/adrian/Documents/Mesures/Saturation ions par laser/20190321/saturation_397_P1_000.dat\n",
      "1 | /home/adrian/Documents/Mesures/Saturation ions par laser/20190321/saturation_397_P2_000.dat\n",
      "2 | /home/adrian/Documents/Mesures/Saturation ions par laser/20190321/saturation_397_P3_000.dat\n",
      "3 | /home/adrian/Documents/Mesures/Saturation ions par laser/20190321/saturation_397_P4_000.dat\n",
      "4 | /home/adrian/Documents/Mesures/Saturation ions par laser/20190321/saturation_397_P5_000.dat\n",
      "5 | /home/adrian/Documents/Mesures/Saturation ions par laser/20190321/saturation_397_P6_000.dat\n",
      "6 | /home/adrian/Documents/Mesures/Saturation ions par laser/20190321/saturation_397_P7_000.dat\n",
      "7 | /home/adrian/Documents/Mesures/Saturation ions par laser/20190321/saturation_397_P8_000.dat\n",
      "8 | /home/adrian/Documents/Mesures/Saturation ions par laser/20190321/saturation_397_P9_000.dat\n",
      "9 | /home/adrian/Documents/Mesures/Saturation ions par laser/20190321/saturation_397_P10_000.dat\n",
      "10 | /home/adrian/Documents/Mesures/Saturation ions par laser/20190321/saturation_397_P11_000.dat\n",
      "11 | /home/adrian/Documents/Mesures/Saturation ions par laser/20190321/saturation_397_P12_000.dat\n",
      "12 | /home/adrian/Documents/Mesures/Saturation ions par laser/20190321/saturation_397_P13_000.dat\n",
      "13 | /home/adrian/Documents/Mesures/Saturation ions par laser/20190321/saturation_397_P14_000.dat\n",
      "14 | /home/adrian/Documents/Mesures/Saturation ions par laser/20190321/saturation_397_P15_000.dat\n",
      "15 | /home/adrian/Documents/Mesures/Saturation ions par laser/20190321/saturation_397_P16_000.dat\n",
      "16 | /home/adrian/Documents/Mesures/Saturation ions par laser/20190321/saturation_397_P17_000.dat\n",
      "17 | /home/adrian/Documents/Mesures/Saturation ions par laser/20190321/saturation_397_P18_000.dat\n",
      "18 | /home/adrian/Documents/Mesures/Saturation ions par laser/20190321/saturation_397_P19_000.dat\n",
      "19 | /home/adrian/Documents/Mesures/Saturation ions par laser/20190321/saturation_397_P20_000.dat\n",
      "20 | /home/adrian/Documents/Mesures/Saturation ions par laser/20190321/saturation_397_P21_000.dat\n",
      "21 | /home/adrian/Documents/Mesures/Saturation ions par laser/20190321/saturation_866_P1_000.dat\n",
      "22 | /home/adrian/Documents/Mesures/Saturation ions par laser/20190321/saturation_866_P2_000.dat\n",
      "23 | /home/adrian/Documents/Mesures/Saturation ions par laser/20190321/saturation_866_P3_000.dat\n",
      "24 | /home/adrian/Documents/Mesures/Saturation ions par laser/20190321/saturation_866_P4_000.dat\n",
      "25 | /home/adrian/Documents/Mesures/Saturation ions par laser/20190321/saturation_866_P5_000.dat\n",
      "26 | /home/adrian/Documents/Mesures/Saturation ions par laser/20190321/saturation_866_P6_000.dat\n",
      "27 | /home/adrian/Documents/Mesures/Saturation ions par laser/20190321/saturation_866_P7_000.dat\n",
      "28 | /home/adrian/Documents/Mesures/Saturation ions par laser/20190321/saturation_866_P8_000.dat\n",
      "29 | /home/adrian/Documents/Mesures/Saturation ions par laser/20190321/saturation_866_P9_000.dat\n",
      "30 | /home/adrian/Documents/Mesures/Saturation ions par laser/20190321/saturation_866_P10_000.dat\n",
      "31 | /home/adrian/Documents/Mesures/Saturation ions par laser/20190321/saturation_866_P11_000.dat\n",
      "32 | /home/adrian/Documents/Mesures/Saturation ions par laser/20190321/saturation_866_P12_000.dat\n",
      "33 | /home/adrian/Documents/Mesures/Saturation ions par laser/20190321/saturation_866_P13_000.dat\n",
      "34 | /home/adrian/Documents/Mesures/Saturation ions par laser/20190321/saturation_866_P14_000.dat\n",
      "35 | /home/adrian/Documents/Mesures/Saturation ions par laser/20190321/saturation_866_P15_000.dat\n",
      "36 | /home/adrian/Documents/Mesures/Saturation ions par laser/20190321/saturation_866_P16_000.dat\n",
      "37 | /home/adrian/Documents/Mesures/Saturation ions par laser/20190321/saturation_866_P17_000.dat\n",
      "38 | /home/adrian/Documents/Mesures/Saturation ions par laser/20190321/saturation_866_P18_000.dat\n",
      "39 | /home/adrian/Documents/Mesures/Saturation ions par laser/20190321/saturation_866_P19_000.dat\n",
      "40 | /home/adrian/Documents/Mesures/Saturation ions par laser/20190321/saturation_866_P20_000.dat\n",
      "41 | /home/adrian/Documents/Mesures/Saturation ions par laser/20190321/saturation_866_P21_000.dat\n",
      "42 | /home/adrian/Documents/Mesures/Saturation ions par laser/20190321/saturation_866_P22_000.dat\n",
      "43 | /home/adrian/Documents/Mesures/Saturation ions par laser/20190321/saturation_866_P23_000.dat\n"
     ]
    }
   ],
   "source": [
    "for k,_ in enumerate(TP):\n",
    "    print(f'{k} | {file_path[k]}')"
   ]
  },
  {
   "cell_type": "code",
   "execution_count": 8,
   "metadata": {},
   "outputs": [],
   "source": [
    "# Puissances associées en mW\n",
    "P397scan = [12.3, 12, 10.5, 9.8, 9.1, 8.55, 7.4, 6.7, 5.5, 4.6, 3.75, 3.4, 3.28, 2.55, 2.30, 1.9, 1.6, 1.1, 0.75, 0.41, 12.45]\n",
    "P866scan = [5.09, 5.15, 5.07, 4.92, 4.71, 4.28, 3.80, 3.53, 2.97, 2.75, 2.53, 2.17, 1.73, 1.38, 1.09, 0.97, 0.79, 0.69, 0.4, 0.31, 0.17, 0.27, 2.13]\n",
    "P866fixe = 1\n",
    "P397fixe = 2"
   ]
  },
  {
   "cell_type": "code",
   "execution_count": 9,
   "metadata": {},
   "outputs": [
    {
     "name": "stdout",
     "output_type": "stream",
     "text": [
      "0 5.09\n",
      "1 5.15\n",
      "2 5.07\n",
      "3 4.92\n",
      "4 4.71\n",
      "5 4.28\n",
      "6 3.8\n",
      "7 3.53\n",
      "8 2.97\n",
      "9 2.75\n",
      "10 2.53\n",
      "11 2.17\n",
      "12 1.73\n",
      "13 1.38\n",
      "14 1.09\n",
      "15 0.97\n",
      "16 0.79\n",
      "17 0.69\n",
      "18 0.4\n",
      "19 0.31\n",
      "20 0.17\n",
      "21 0.27\n",
      "22 2.13\n"
     ]
    }
   ],
   "source": [
    "for k,_ in enumerate(P866scan):\n",
    "    print(k,P866scan[k])"
   ]
  },
  {
   "cell_type": "markdown",
   "metadata": {},
   "source": [
    "# Affichage données"
   ]
  },
  {
   "cell_type": "code",
   "execution_count": 10,
   "metadata": {},
   "outputs": [
    {
     "data": {
      "text/plain": [
       "[<matplotlib.lines.Line2D at 0x7fba6e66d908>]"
      ]
     },
     "execution_count": 10,
     "metadata": {},
     "output_type": "execute_result"
    },
    {
     "data": {
      "image/png": "[encoded data removed]",
      "text/plain": [
       "<Figure size 432x288 with 1 Axes>"
      ]
     },
     "metadata": {},
     "output_type": "display_data"
    }
   ],
   "source": [
    "k = 10\n",
    "plot(TP[k],CH[k,0],'+',mew=1,ms=5,color='xkcd:rouge')"
   ]
  },
  {
   "cell_type": "code",
   "execution_count": null,
   "metadata": {},
   "outputs": [],
   "source": [
    "# Satur 397\n",
    "\n",
    "fig, ax = plt.subplots(5, 4,num='Saturation 397 tous plots',clear=True,sharex=True,sharey=True)\n",
    "fig.set_size_inches(11.69,8.27)\n",
    "toplot = 0\n",
    "for k in range(0,5):\n",
    "    for l in range(0,4):\n",
    "        ax[k,l].plot(TP[toplot],CH[toplot,0],'+',mew=1,ms=5,color='xkcd:bluish purple')\n",
    "        ax[k,l].plot(TP[toplot],savgol_filter(CH[toplot,0], window_length = 11, polyorder = 1),color='xkcd:coral')\n",
    "        ax[k,l].grid()\n",
    "    #     ax[k].set_ylim(-0.1,0.55)\n",
    "        ax[k,l].annotate(P397scan[toplot], xy=(-0.13, 2150), xycoords='data',\n",
    "                size=12, ha='left', va='top',\n",
    "                bbox=dict(boxstyle='round', fc='w'))\n",
    "        toplot = toplot + 1\n",
    "# ax[3].set_xlim(-10,4000)\n",
    "# ax[3].xaxis.set_major_locator(matplotlib.ticker.MultipleLocator(base=250))\n",
    "\n",
    "# fig.text(0.5, 0.01, 'f', ha='center')\n",
    "# fig.text(0.01, 0.5, r'$| FFT(HC(t)) | / N_{sample}$', va='center', rotation='vertical')\n",
    "\n",
    "tight_layout()\n",
    "# subplots_adjust(hspace=0, top=0.95, left = 0.065, bottom = 0.07)\n",
    "# savefig('FFT_lock_oscillo_0_11500.png')\n",
    "# fig.set_size_inches(11.69,8.27)"
   ]
  },
  {
   "cell_type": "code",
   "execution_count": 37,
   "metadata": {},
   "outputs": [
    {
     "data": {
      "text/plain": [
       "array([28.22605011, 42.18291642])"
      ]
     },
     "execution_count": 37,
     "metadata": {},
     "output_type": "execute_result"
    }
   ],
   "source": []
  },
  {
   "cell_type": "code",
   "execution_count": 50,
   "metadata": {},
   "outputs": [
    {
     "name": "stdout",
     "output_type": "stream",
     "text": [
      "[28.22605011 42.18291642]\n"
     ]
    },
    {
     "name": "stderr",
     "output_type": "stream",
     "text": [
      "/home/adrian/.local/lib/python3.6/site-packages/ipykernel_launcher.py:20: DeprecationWarning: object of type <class 'float'> cannot be safely interpreted as an integer.\n"
     ]
    }
   ],
   "source": [
    "# Resum satur 397\n",
    "\n",
    "fluo397 = []\n",
    "fluo397lisse = []\n",
    "\n",
    "for k in range(0,20):\n",
    "    fluo397.append(max( CH[k,0] ) - min( CH[k,0] ) )\n",
    "    fluo397lisse.append(max( savgol_filter(CH[k,0], window_length = 11, polyorder = 1) ) - min( savgol_filter(CH[k,0], window_length = 11, polyorder = 1) ))\n",
    "\n",
    "toto,tata = curve_fit(linfit,P397scan[14:20],fluo397lisse[14:20])\n",
    "print(sqrt(diag(tata)))\n",
    "    \n",
    "fig = figure('Saturation 397 resum', clear = True)\n",
    "ax = fig.add_subplot(1,1,1)\n",
    "fig.set_size_inches(11.69,8.27)\n",
    "\n",
    "\n",
    "ax.plot(P397scan[0:20], fluo397,'+', color='xkcd:bluish purple', mew = 2, ms = 10)\n",
    "ax.plot(P397scan[0:20], fluo397lisse,'+', color='xkcd:coral', mew = 2, ms = 10)\n",
    "ax.plot(linspace(-0.3,5,1e3), linfit(linspace(-0.3,5,1e3),toto[0],toto[1]),'--', color='xkcd:coral', mew = 2, ms = 10)\n",
    "\n",
    "labels = ['non lissés', 'lissés', 'fit 7 derniers pts']\n",
    "legend(labels, title = 'Maximums')\n",
    "\n",
    "ax.grid()\n",
    "ax.xaxis.set_major_locator(matplotlib.ticker.MultipleLocator(base=1))\n",
    "ax.yaxis.set_major_locator(matplotlib.ticker.MultipleLocator(base=250))\n",
    "title('Saturation de fluo 397')\n",
    "tight_layout()"
   ]
  },
  {
   "cell_type": "code",
   "execution_count": 143,
   "metadata": {},
   "outputs": [],
   "source": [
    "# Satur 866\n",
    "\n",
    "fig, ax = plt.subplots(5, 4,num='Saturation 866 tous plots',clear=True,sharex=True,sharey=True)\n",
    "fig.set_size_inches(11.69,8.27)\n",
    "# suptitle('Saturation 866')\n",
    "toplot = 21\n",
    "for k in range(0,5):\n",
    "    for l in range(0,4):\n",
    "        ax[k,l].plot(TP[toplot],CH[toplot,0],'+',mew=1,ms=5,color='xkcd:rouge')\n",
    "        ax[k,l].plot(TP[toplot],savgol_filter(CH[toplot,0], window_length = 11, polyorder = 1),color='xkcd:coral')\n",
    "        ax[k,l].grid()\n",
    "    #     ax[k].set_ylim(-0.1,0.55)\n",
    "        ax[k,l].annotate(P866scan[toplot-21], xy=(-0.13, 500), xycoords='data',\n",
    "                size=12, ha='left', va='top',\n",
    "                bbox=dict(boxstyle='round', fc='w'))\n",
    "        toplot = toplot + 1\n",
    "# ax[3].set_xlim(-10,4000)\n",
    "# ax[3].xaxis.set_major_locator(matplotlib.ticker.MultipleLocator(base=250))\n",
    "\n",
    "# fig.text(0.5, 0.01, 'f', ha='center')\n",
    "# fig.text(0.01, 0.5, r'$| FFT(HC(t)) | / N_{sample}$', va='center', rotation='vertical')\n",
    "\n",
    "tight_layout()\n",
    "# subplots_adjust(hspace=0, top=0.95, left = 0.065, bottom = 0.07)\n",
    "# savefig('FFT_lock_oscillo_0_11500.png')\n",
    "# fig.set_size_inches(11.69,8.27)"
   ]
  },
  {
   "cell_type": "code",
   "execution_count": 49,
   "metadata": {},
   "outputs": [
    {
     "name": "stderr",
     "output_type": "stream",
     "text": [
      "/home/adrian/.local/lib/python3.6/site-packages/ipykernel_launcher.py:20: DeprecationWarning: object of type <class 'float'> cannot be safely interpreted as an integer.\n"
     ]
    }
   ],
   "source": [
    "# Resum satur 866\n",
    "\n",
    "fluo866 = []\n",
    "fluo866lisse = []\n",
    "\n",
    "for k in range(21,43):\n",
    "    fluo866.append(max( CH[k,0] ) - min( CH[k,0] ) )\n",
    "    fluo866lisse.append(max( savgol_filter(CH[k,0], window_length = 11, polyorder = 1) ) - min( savgol_filter(CH[k,0], window_length = 11, polyorder = 1) ))\n",
    "\n",
    "toto,_ = curve_fit(linfit,P866scan[18:22],fluo866lisse[39-21:43-21])\n",
    "\n",
    "    \n",
    "fig = figure('Saturation 866 resum', clear = True)\n",
    "ax = fig.add_subplot(1,1,1)\n",
    "fig.set_size_inches(11.69,8.27)\n",
    "ax.set_ylim(-10,1200)\n",
    "\n",
    "ax.plot(P866scan[0:-1], fluo866,'+', color='xkcd:rouge', mew = 2, ms = 10)\n",
    "ax.plot(P866scan[0:-1], fluo866lisse,'+', color='xkcd:coral', mew = 2, ms = 10)\n",
    "ax.plot(linspace(-0.3,0.6,1e3), linfit(linspace(-0.3,0.6,1e3),toto[0],toto[1]),'--', color='xkcd:coral', mew = 2, ms = 10)\n",
    "\n",
    "labels = ['non lissés', 'lissés', 'fit 4 derniers pts']\n",
    "legend(labels, title = 'Maximums')\n",
    "\n",
    "ax.grid()\n",
    "ax.xaxis.set_major_locator(matplotlib.ticker.MultipleLocator(base=0.5))\n",
    "ax.yaxis.set_major_locator(matplotlib.ticker.MultipleLocator(base=50))\n",
    "title('Saturation de fluo 866')\n",
    "tight_layout()"
   ]
  }
 ],
 "metadata": {
  "kernelspec": {
   "display_name": "Python 3",
   "language": "python",
   "name": "python3"
  },
  "language_info": {
   "codemirror_mode": {
    "name": "ipython",
    "version": 3
   },
   "file_extension": ".py",
   "mimetype": "text/x-python",
   "name": "python",
   "nbconvert_exporter": "python",
   "pygments_lexer": "ipython3",
   "version": "3.6.7"
  }
 },
 "nbformat": 4,
 "nbformat_minor": 2
}
