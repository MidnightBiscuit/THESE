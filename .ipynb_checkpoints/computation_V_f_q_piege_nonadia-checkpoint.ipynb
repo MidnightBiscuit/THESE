{
 "cells": [
  {
   "cell_type": "code",
   "execution_count": 1,
   "metadata": {},
   "outputs": [
    {
     "name": "stdout",
     "output_type": "stream",
     "text": [
      "Using matplotlib backend: TkAgg\n",
      "Populating the interactive namespace from numpy and matplotlib\n"
     ]
    }
   ],
   "source": [
    "%pylab"
   ]
  },
  {
   "cell_type": "code",
   "execution_count": 2,
   "metadata": {},
   "outputs": [
    {
     "name": "stdout",
     "output_type": "stream",
     "text": [
      "Using matplotlib backend: TkAgg\n"
     ]
    }
   ],
   "source": [
    "%matplotlib\n",
    "matplotlib.rcParams.update({'font.size': 20})"
   ]
  },
  {
   "cell_type": "code",
   "execution_count": 3,
   "metadata": {},
   "outputs": [],
   "source": [
    "def beta_continue_alamano(a,q,beta_guess): #a l'air ok\n",
    "    C1 = q**2/( (beta_guess+2)**2 - a - q**2/( (beta_guess+4)**2 - a - q**2/( (beta_guess+6)**2 - a - q**2/( (beta_guess+8)**2 - a - q**2/( (beta_guess+10)**2 - a ) ) ) ) )\n",
    "    C2 = q**2/( (beta_guess-2)**2 - a - q**2/( (beta_guess-4)**2 - a - q**2/( (beta_guess-6)**2 - a - q**2/( (beta_guess-8)**2 - a - q**2/( (beta_guess-10)**2 - a  ) ) ) ) )\n",
    "    return a + C1 + C2"
   ]
  },
  {
   "cell_type": "code",
   "execution_count": 4,
   "metadata": {},
   "outputs": [
    {
     "name": "stdout",
     "output_type": "stream",
     "text": [
      "$\\kappa_{simion}$ = 0.270471\n"
     ]
    }
   ],
   "source": [
    "# Constantes de la physique\n",
    "# ABSOLUMENT RECHARGER APRÈS AVOIR EXECUTÉ LES CASES D'IMPORT AU DESSUS\n",
    "\n",
    "C_e = 1.602e-19        # Coulomb\n",
    "kb = 1.38064852*1e-23  # Boltzman\n",
    "m_Ca = 40.078*1.66054e-27 # masse Ca 40.078\n",
    "m_GM = 1e6*1.66054e-27 # la masse de la GMol\n",
    "eps0 = 8.854187*1e-12  # permittivité électrique du vide\n",
    "\n",
    "\n",
    "r0 = 2.5e-3 # 2.5e-3   # rayon piège Ca+\n",
    "d0 = (4e-3)/2            # longueur piège Ca+\n",
    "Omega = 2.05e6*2*pi # 2.047e6\n",
    "bk = 4 # nombre de barreaux par groupe (2 -> 4-pole , 4 -> 8-pole ...)\n",
    "\n",
    "mkappa = 0.23          # écrantage piège réel GiantMol\n",
    "wzLC = (2*pi*90806.9982303)**2\n",
    "kappa_simion = m_Ca*d0**2*wzLC/(2*C_e)\n",
    "mkappa = 0.23\n",
    "print('%s = %f' % ('$\\kappa_{simion}$',kappa_simion) )\n",
    "\n",
    "zeta = kappa_simion*r0**2/d0**2"
   ]
  },
  {
   "cell_type": "code",
   "execution_count": 5,
   "metadata": {},
   "outputs": [
    {
     "data": {
      "text/plain": [
       "array([0. , 0.1, 0.2, 0.3, 0.4, 0.5, 0.6, 0.7, 0.8, 0.9])"
      ]
     },
     "execution_count": 5,
     "metadata": {},
     "output_type": "execute_result"
    }
   ],
   "source": [
    "linspace(0,0.9,10)"
   ]
  },
  {
   "cell_type": "code",
   "execution_count": 6,
   "metadata": {},
   "outputs": [
    {
     "name": "stdout",
     "output_type": "stream",
     "text": [
      "Urf = [0.000e+00 5.000e-02 1.000e-01 ... 9.990e+01 9.995e+01 1.000e+02]\n",
      "non adiab [0.00000000e+00 3.28302862e-04 6.56605808e-04 ... 1.63115347e+00\n",
      " 1.77002424e+00 1.97843592e+00]\n",
      "adiab     [0.00000000e+00 3.28302849e-04 6.56605697e-04 ... 6.55949091e-01\n",
      " 6.56277394e-01 6.56605697e-01]\n",
      "alpha = [           inf 1.54806137e+05 3.87015244e+04 ... 6.27115969e-03\n",
      " 5.32572925e-03 4.26278603e-03]\n",
      "qx = [0.00000000e+00 4.64290341e-04 9.28580682e-04 ... 9.27652101e-01\n",
      " 9.28116392e-01 9.28580682e-01]\n",
      "ax = 0.0\n",
      "az = 0.008342717063516868\n",
      "f_z = 132401.41324666748\n",
      "f_x = [0.00000000e+00 3.36510434e+02 6.73020953e+02 ... 1.67193231e+06\n",
      " 1.81427484e+06 2.02789682e+06]\n",
      "f_r = [             nan              nan              nan ... 1669309.01423649\n",
      " 1811857.6495655  2025734.54240643]\n",
      "f_x non_adia = [0.00000000e+00 3.36510420e+02 6.73020839e+02 ... 6.72347819e+05\n",
      " 6.72684329e+05 6.73020839e+05]\n"
     ]
    },
    {
     "name": "stderr",
     "output_type": "stream",
     "text": [
      "/tmp/ipykernel_21548/3487142681.py:6: RuntimeWarning: divide by zero encountered in true_divide\n",
      "  q = ( (m_Ca*r0**2*Omega**2)/( 4*C_e)/Urf )**(-1)\n",
      "/tmp/ipykernel_21548/3487142681.py:29: RuntimeWarning: divide by zero encountered in true_divide\n",
      "  print('alpha =',omega_z_2/omega_x_2)\n",
      "/tmp/ipykernel_21548/3487142681.py:35: RuntimeWarning: invalid value encountered in sqrt\n",
      "  print('f_r =',sqrt(omega_r_2)/2/pi)\n"
     ]
    }
   ],
   "source": [
    "# Computation of secular frequencies\n",
    "\n",
    "# set voltages\n",
    "Udc = 2.5 # 2.8628*4   9.014464\n",
    "Urf = linspace(0,400/4,2001)\n",
    "q = ( (m_Ca*r0**2*Omega**2)/( 4*C_e)/Urf )**(-1)\n",
    "print('Urf =',Urf)\n",
    "\n",
    "# compute beta\n",
    "beta_guess = 0.423\n",
    "a = 0\n",
    "for k in range(15):\n",
    "    beta_guess = beta_continue_alamano(a,q,beta_guess)\n",
    "    beta_guess = sqrt(beta_guess)\n",
    "#     print(beta_guess)\n",
    "print('non adiab',beta_guess)\n",
    "print('adiab    ',sqrt(a+q**2/2))\n",
    "\n",
    "# compute angular frequencies\n",
    "omega_z_2 = 2*C_e*(mkappa)*Udc/m_Ca/d0**2\n",
    "# omega_x_2 = 2*(C_e*Urf/m_Ca/Omega/r0**2)**2\n",
    "omega_x_2 = ( beta_guess*Omega/2 )**2\n",
    "omega_r_2 = omega_x_2 - 0.5*omega_z_2\n",
    "# compute Mathieu parameters\n",
    "qx = 4*C_e*Urf/(m_Ca*r0**2*Omega**2)\n",
    "ax = 8*C_e*0/(m_Ca*r0**2*Omega**2)\n",
    "az = 2*omega_z_2/Omega**2\n",
    "\n",
    "print('alpha =',omega_z_2/omega_x_2)\n",
    "print('qx =',qx)\n",
    "print('ax =',ax)\n",
    "print('az =',az)\n",
    "print('f_z =',sqrt(omega_z_2)/2/pi)\n",
    "print('f_x =',sqrt(omega_x_2)/2/pi)\n",
    "print('f_r =',sqrt(omega_r_2)/2/pi)\n",
    "\n",
    "print('f_x non_adia =',sqrt(a+q**2/2)*Omega/2/2/pi)"
   ]
  },
  {
   "cell_type": "code",
   "execution_count": 7,
   "metadata": {},
   "outputs": [],
   "source": [
    "q_base = linspace(0,0.9,10)\n",
    "Urf_q = q_base*(m_Ca*r0**2*Omega**2)/( 4*C_e)\n",
    "beta_guess_base = 0.423\n",
    "a = 0\n",
    "for k in range(15):\n",
    "    beta_guess_base  = beta_continue_alamano(a,q_base,beta_guess_base)\n",
    "    beta_guess_base = sqrt(beta_guess_base)\n",
    "omega_x_2_base = ( beta_guess_base*Omega/2 )**2\n",
    "omega_r_2_base = omega_x_2_base - 0.5*omega_z_2"
   ]
  },
  {
   "cell_type": "code",
   "execution_count": 8,
   "metadata": {},
   "outputs": [
    {
     "data": {
      "text/plain": [
       "array([-3.46030980e+11, -3.46026509e+11, -3.46013098e+11, ...,\n",
       "        1.10010266e+14,  1.29600860e+14,  1.62003652e+14])"
      ]
     },
     "execution_count": 8,
     "metadata": {},
     "output_type": "execute_result"
    }
   ],
   "source": [
    "omega_r_2"
   ]
  },
  {
   "cell_type": "code",
   "execution_count": 9,
   "metadata": {},
   "outputs": [
    {
     "name": "stdout",
     "output_type": "stream",
     "text": [
      "6.640275261132876\n",
      "278\n"
     ]
    },
    {
     "name": "stderr",
     "output_type": "stream",
     "text": [
      "/tmp/ipykernel_21548/3427566864.py:1: RuntimeWarning: invalid value encountered in sqrt\n",
      "  print(nanmin(sqrt(omega_r_2)/2/pi*1e-3))\n",
      "/tmp/ipykernel_21548/3427566864.py:2: RuntimeWarning: invalid value encountered in sqrt\n",
      "  print(nanargmin(sqrt(omega_r_2)/2/pi*1e-3))\n"
     ]
    }
   ],
   "source": [
    "print(nanmin(sqrt(omega_r_2)/2/pi*1e-3))\n",
    "print(nanargmin(sqrt(omega_r_2)/2/pi*1e-3))\n",
    "#print(Urf.index(nanmin(sqrt(omega_r_2)/2/pi*1e-3)))"
   ]
  },
  {
   "cell_type": "code",
   "execution_count": 10,
   "metadata": {},
   "outputs": [
    {
     "name": "stderr",
     "output_type": "stream",
     "text": [
      "/tmp/ipykernel_21548/18397810.py:4: RuntimeWarning: invalid value encountered in sqrt\n",
      "  ax.plot(Urf,sqrt(omega_r_2)/2/pi*1e-3,color='xkcd:bright orange',label=r'$f_r=\\sqrt{f_x^2-0.5*f_z^2}$ (non adiabatique)')\n",
      "/tmp/ipykernel_21548/18397810.py:6: RuntimeWarning: invalid value encountered in sqrt\n",
      "  ax.plot(Urf[::200],sqrt(omega_r_2[::200])/2/pi*1e-3,'P',color='xkcd:azul')\n",
      "/tmp/ipykernel_21548/18397810.py:7: RuntimeWarning: invalid value encountered in sqrt\n",
      "  ax.plot(Urf_q,sqrt(omega_r_2_base)/2/pi*1e-3,'P',color='xkcd:brown')\n",
      "/tmp/ipykernel_21548/18397810.py:10: RuntimeWarning: invalid value encountered in sqrt\n",
      "  for i,j in enumerate(sqrt(omega_r_2[::200])/2/pi*1e-3):\n",
      "/tmp/ipykernel_21548/18397810.py:16: RuntimeWarning: invalid value encountered in sqrt\n",
      "  for i,j in enumerate(sqrt(omega_r_2_base)/2/pi*1e-3):\n",
      "/tmp/ipykernel_21548/18397810.py:17: RuntimeWarning: invalid value encountered in sqrt\n",
      "  t=plt.text(Urf_q[i]+1.5, j-60, f'$f_r=${sqrt(omega_r_2_base[i])/2/pi*1e-3:.1f}\\n$q_u=${q_base[i]:.1f}',\n",
      "/tmp/ipykernel_21548/18397810.py:25: MatplotlibDeprecationWarning: The 'b' parameter of grid() has been renamed 'visible' since Matplotlib 3.5; support for the old name will be dropped two minor releases later.\n",
      "  ax.grid(b=True, which='major', color='0.2', linestyle='-')\n",
      "/tmp/ipykernel_21548/18397810.py:26: MatplotlibDeprecationWarning: The 'b' parameter of grid() has been renamed 'visible' since Matplotlib 3.5; support for the old name will be dropped two minor releases later.\n",
      "  ax.grid(b=True, which='minor', color='0.7', linestyle='--')\n",
      "/tmp/ipykernel_21548/18397810.py:29: RuntimeWarning: invalid value encountered in sqrt\n",
      "  t = plt.text(0.025, 0.8, f'$\\Omega_{{RF}}$ = {Omega/2/pi/1e6:.2f}$\\\\times 2\\pi$ MHz\\n$U_{{DC}} = {Udc:.3f}$ V\\n$f_z  ={sqrt(omega_z_2)/2/pi*1e-3:.1f}$ kHz\\n$U_{{RF}}$ min = {Urf[nanargmin(sqrt(omega_r_2)/2/pi*1e-3)]:.1f} V', transform=ax.transAxes, fontsize=20)\n",
      "/tmp/ipykernel_21548/18397810.py:36: UserWarning: Tight layout not applied. The bottom and top margins cannot be made large enough to accommodate all axes decorations.\n",
      "  plt.tight_layout()\n",
      "posx and posy should be finite values\n",
      "posx and posy should be finite values\n",
      "posx and posy should be finite values\n",
      "posx and posy should be finite values\n",
      "posx and posy should be finite values\n",
      "posx and posy should be finite values\n",
      "posx and posy should be finite values\n",
      "posx and posy should be finite values\n",
      "posx and posy should be finite values\n",
      "posx and posy should be finite values\n",
      "posx and posy should be finite values\n",
      "posx and posy should be finite values\n"
     ]
    }
   ],
   "source": [
    "figure('Plot radial freq').clf()\n",
    "ax = plt.subplot(111)\n",
    "\n",
    "ax.plot(Urf,sqrt(omega_r_2)/2/pi*1e-3,color='xkcd:bright orange',label=r'$f_r=\\sqrt{f_x^2-0.5*f_z^2}$ (non adiabatique)')\n",
    "ax.plot(Urf,sqrt(a+q**2/2)*Omega/2/2/pi*1e-3,color='k',ls=':',label=r'$f_x$ (adiabatique)')\n",
    "ax.plot(Urf[::200],sqrt(omega_r_2[::200])/2/pi*1e-3,'P',color='xkcd:azul')\n",
    "ax.plot(Urf_q,sqrt(omega_r_2_base)/2/pi*1e-3,'P',color='xkcd:brown')\n",
    "\n",
    "\n",
    "for i,j in enumerate(sqrt(omega_r_2[::200])/2/pi*1e-3):\n",
    "    t=plt.text(Urf[::200][i]-1.5, j+20, f'$f_r=${j:.1f}\\n$q_u$={qx[::200][i]:.2f}',\n",
    "               transform=ax.transData, ha='right',\n",
    "               fontsize=13,color='xkcd:azul')\n",
    "    t.set_bbox(dict(facecolor='white', alpha=0.8, edgecolor='k'))\n",
    "    #text(Urf[::200][i]-3.2,j+21,f'{j:.1f}',fontsize=12,color='xkcd:azul')\n",
    "for i,j in enumerate(sqrt(omega_r_2_base)/2/pi*1e-3):\n",
    "    t=plt.text(Urf_q[i]+1.5, j-60, f'$f_r=${sqrt(omega_r_2_base[i])/2/pi*1e-3:.1f}\\n$q_u=${q_base[i]:.1f}',\n",
    "               transform=ax.transData, ha='left',\n",
    "               fontsize=13,color='xkcd:brown')\n",
    "    t.set_bbox(dict(facecolor='white', alpha=0.8, edgecolor='k'))    \n",
    "    \n",
    "title(r'$f_r$ vs $U_{RF}$')\n",
    "ax.set_xlabel('$U_{RF}$ [V] (4$U_{RF}$ [V] = $U_{RF}$ [V$_{pp}$])')\n",
    "ax.set_ylabel(r'$f_r$ [kHz]')\n",
    "ax.grid(b=True, which='major', color='0.2', linestyle='-')\n",
    "ax.grid(b=True, which='minor', color='0.7', linestyle='--')\n",
    "plt.minorticks_on()\n",
    "\n",
    "t = plt.text(0.025, 0.8, f'$\\Omega_{{RF}}$ = {Omega/2/pi/1e6:.2f}$\\\\times 2\\pi$ MHz\\n$U_{{DC}} = {Udc:.3f}$ V\\n$f_z  ={sqrt(omega_z_2)/2/pi*1e-3:.1f}$ kHz\\n$U_{{RF}}$ min = {Urf[nanargmin(sqrt(omega_r_2)/2/pi*1e-3)]:.1f} V', transform=ax.transAxes, fontsize=20)\n",
    "t.set_bbox(dict(facecolor='white', alpha=0.8, edgecolor='k'))\n",
    "\n",
    "ax.set_xlim(-10,118)\n",
    "ax.set_ylim(-38,1010)\n",
    "\n",
    "plt.legend(loc=4,fontsize = 13)\n",
    "plt.tight_layout()\n",
    "\n",
    "# savefig('fr_vs_Urf.png',dpi=300)"
   ]
  }
 ],
 "metadata": {
  "kernelspec": {
   "display_name": "Python 3 (ipykernel)",
   "language": "python",
   "name": "python3"
  },
  "language_info": {
   "codemirror_mode": {
    "name": "ipython",
    "version": 3
   },
   "file_extension": ".py",
   "mimetype": "text/x-python",
   "name": "python",
   "nbconvert_exporter": "python",
   "pygments_lexer": "ipython3",
   "version": "3.10.6"
  }
 },
 "nbformat": 4,
 "nbformat_minor": 2
}
