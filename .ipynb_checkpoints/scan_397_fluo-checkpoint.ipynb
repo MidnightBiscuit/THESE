{
 "cells": [
  {
   "cell_type": "code",
   "execution_count": 1,
   "metadata": {},
   "outputs": [],
   "source": [
    "# %pylab\n",
    "\n",
    "import numpy\n",
    "import matplotlib\n",
    "from matplotlib import pylab, mlab, pyplot\n",
    "from mpl_toolkits.mplot3d import Axes3D\n",
    "np = numpy\n",
    "plt = pyplot\n",
    "\n",
    "from pylab import *\n",
    "from numpy import *"
   ]
  },
  {
   "cell_type": "code",
   "execution_count": 2,
   "metadata": {},
   "outputs": [
    {
     "name": "stdout",
     "output_type": "stream",
     "text": [
      "Using matplotlib backend: TkAgg\n"
     ]
    }
   ],
   "source": [
    "from scipy.optimize import curve_fit\n",
    "import tkinter as tk\n",
    "from tkinter import filedialog\n",
    "\n",
    "matplotlib.rcParams['figure.figsize'] = [10.5,7]\n",
    "matplotlib.rcParams.update({'font.size': 25})\n",
    "%matplotlib"
   ]
  },
  {
   "cell_type": "code",
   "execution_count": 3,
   "metadata": {},
   "outputs": [],
   "source": [
    "def gaussian(x, A, mu, sig):\n",
    "    return A*exp(-power(x - mu, 2.) / (2 * power(sig, 2.)))"
   ]
  },
  {
   "cell_type": "code",
   "execution_count": 4,
   "metadata": {},
   "outputs": [],
   "source": [
    "matplotlib.rcParams.update({'font.size': 25})"
   ]
  },
  {
   "cell_type": "code",
   "execution_count": 5,
   "metadata": {},
   "outputs": [
    {
     "name": "stdout",
     "output_type": "stream",
     "text": [
      "('/home/adrien/Documents/Mesures/laser_scan/20220706/scan397_000.dat', '/home/adrien/Documents/Mesures/laser_scan/20220706/scan397_001.dat')\n"
     ]
    }
   ],
   "source": [
    "# sélection des fichiers (Python 3)\n",
    "import tkinter as tk\n",
    "from tkinter import filedialog\n",
    "\n",
    "root = tk.Tk()\n",
    "root.withdraw()\n",
    "\n",
    "file_path = filedialog.askopenfilename(initialdir = '/home/adrian/Documents/Mesures',multiple=True)\n",
    "print(file_path)\n",
    "\n",
    "# ('/home/adrian/Documents/Mesures/GiantMol_Ions/20180606/fluo_temp_scan866__000_000.dat',\n",
    "# '/home/adrian/Documents/Mesures/GiantMol_Ions/20180606/fluo_temp_scan866__000_001.dat',\n",
    "# '/home/adrian/Documents/Mesures/GiantMol_Ions/20180606/fluo_temp_scan866__000_002.dat')\n",
    "\n",
    "# ('/home/adrian/Documents/Mesures/laser_scan/20210416/fluo_dip_re_000.dat', '/home/adrian/Documents/Mesures/laser_scan/20210416/fluo_dip_re_001.dat')"
   ]
  },
  {
   "cell_type": "code",
   "execution_count": null,
   "metadata": {},
   "outputs": [],
   "source": [
    "('/home/adrian/Documents/Mesures/laser_scan/20210416/fluo_dip_re_000.dat', '/home/adrian/Documents/Mesures/laser_scan/20210416/fluo_dip_re_001.dat')"
   ]
  },
  {
   "cell_type": "code",
   "execution_count": 6,
   "metadata": {},
   "outputs": [
    {
     "data": {
      "text/plain": [
       "('/home/adrien/Documents/Mesures/laser_scan/20220706/scan397_000.dat',\n",
       " '/home/adrien/Documents/Mesures/laser_scan/20220706/scan397_001.dat')"
      ]
     },
     "execution_count": 6,
     "metadata": {},
     "output_type": "execute_result"
    }
   ],
   "source": [
    "file_path"
   ]
  },
  {
   "cell_type": "code",
   "execution_count": 7,
   "metadata": {},
   "outputs": [],
   "source": [
    "# Array rectangle\n",
    "# Allocation à l'avance\n",
    "\n",
    "filename=file_path\n",
    "m = loadtxt(file_path[0],usecols=(2),delimiter='\\t',skiprows=0,unpack=True).size\n",
    "n = len(file_path)\n",
    "shape = (m, n)\n",
    "\n",
    "TIME = zeros(shape)\n",
    "PM = zeros(shape)\n",
    "CH2 = zeros(shape)\n",
    "\n",
    "for k in range(0,len(filename)):\n",
    "    TIME[:,k], PM[:,k] = loadtxt(file_path[k],usecols=(0,1),delimiter='\\t',skiprows=0,unpack=True)"
   ]
  },
  {
   "cell_type": "code",
   "execution_count": 13,
   "metadata": {},
   "outputs": [
    {
     "data": {
      "text/plain": [
       "array([ 6083.,  6034.,  5885.,  5892.,  6100.,  6036.,  6017.,  5950.,\n",
       "        6078.,  6023.,  5972.,  6054.,  6162.,  5869.,  6087.,  5924.,\n",
       "        5996.,  6044.,  6113.,  6014.,  5999.,  6012.,  5979.,  6011.,\n",
       "        5899.,  6065.,  5944.,  5985.,  5999.,  6191.,  5892.,  6058.,\n",
       "        5963.,  6018.,  5986.,  6129.,  6151.,  6062.,  5992.,  6034.,\n",
       "        5845.,  5945.,  5959.,  6128.,  6029.,  6054.,  5991.,  5893.,\n",
       "        6129.,  6032.,  5983.,  6138.,  6090.,  6087.,  6020.,  6118.,\n",
       "        6263.,  5988.,  6155.,  6052.,  6179.,  6107.,  5984.,  6021.,\n",
       "        6035.,  5860.,  6095.,  5987.,  6216.,  6063.,  6114.,  6012.,\n",
       "        6143.,  6192.,  6060.,  6115.,  6069.,  5951.,  6044.,  6249.,\n",
       "        6089.,  6024.,  6086.,  6035.,  6143.,  6174.,  6096.,  6096.,\n",
       "        6230.,  6083.,  6072.,  5982.,  6109.,  6118.,  6083.,  5953.,\n",
       "        5995.,  6098.,  6039.,  6095.,  6064.,  6124.,  6197.,  6012.,\n",
       "        6009.,  6183.,  6075.,  6118.,  6176.,  6142.,  6129.,  6181.,\n",
       "        6222.,  6210.,  6207.,  6031.,  6274.,  6218.,  6142.,  6140.,\n",
       "        6143.,  6116.,  6065.,  6178.,  6254.,  6089.,  6122.,  6257.,\n",
       "        6197.,  6089.,  6135.,  6119.,  6257.,  6171.,  6161.,  6108.,\n",
       "        6079.,  6334.,  6290.,  6167.,  6277.,  6159.,  6167.,  6231.,\n",
       "        6135.,  5997.,  6207.,  6232.,  6065.,  6163.,  6157.,  6180.,\n",
       "        6169.,  6346.,  6209.,  6231.,  6184.,  6188.,  6315.,  6222.,\n",
       "        6260.,  6246.,  6324.,  6080.,  6243.,  6242.,  6066.,  6023.,\n",
       "        6136.,  6247.,  6194.,  6323.,  6213.,  6262.,  6328.,  6236.,\n",
       "        6333.,  6190.,  6397.,  6361.,  6323.,  6414.,  6219.,  6346.,\n",
       "        6173.,  6386.,  6245.,  6319.,  6228.,  6357.,  6280.,  6302.,\n",
       "        6159.,  6407.,  6318.,  6298.,  6310.,  6293.,  6373.,  6376.,\n",
       "        6303.,  6375.,  6254.,  6389.,  6415.,  6326.,  6368.,  6379.,\n",
       "        6308.,  6203.,  6277.,  6188.,  6359.,  6268.,  6207.,  6377.,\n",
       "        6436.,  6340.,  6320.,  6476.,  6431.,  6563.,  6391.,  6468.,\n",
       "        6316.,  6312.,  6458.,  6392.,  6252.,  6448.,  6471.,  6316.,\n",
       "        6325.,  6277.,  6408.,  6404.,  6465.,  6422.,  6545.,  6413.,\n",
       "        6494.,  6328.,  6396.,  6403.,  6509.,  6457.,  6582.,  6377.,\n",
       "        6311.,  6524.,  6507.,  6490.,  6284.,  6464.,  6459.,  6421.,\n",
       "        6445.,  6430.,  6590.,  6340.,  6612.,  6479.,  6543.,  6517.,\n",
       "        6556.,  6537.,  6599.,  6484.,  6508.,  6422.,  6577.,  6397.,\n",
       "        6307.,  6604.,  6471.,  6748.,  6501.,  6583.,  6582.,  6372.,\n",
       "        6549.,  6578.,  6497.,  6499.,  6539.,  6433.,  6711.,  6492.,\n",
       "        6758.,  6556.,  6642.,  6724.,  6632.,  6584.,  6621.,  6548.,\n",
       "        6666.,  6592.,  6545.,  6695.,  6625.,  6692.,  6722.,  6520.,\n",
       "        6517.,  6689.,  6681.,  6537.,  6748.,  6569.,  6451.,  6625.,\n",
       "        6635.,  6770.,  6631.,  6694.,  6554.,  6709.,  6679.,  6631.,\n",
       "        6643.,  6846.,  6741.,  6572.,  6648.,  6550.,  6686.,  6707.,\n",
       "        6663.,  6630.,  6759.,  6727.,  6870.,  6696.,  6738.,  6601.,\n",
       "        6841.,  6800.,  6717.,  6793.,  6780.,  6844.,  6839.,  6679.,\n",
       "        6865.,  6786.,  6892.,  6644.,  6790.,  6897.,  6755.,  6841.,\n",
       "        6836.,  6743.,  6872.,  6888.,  6746.,  6789.,  6604.,  6766.,\n",
       "        6831.,  6952.,  6925.,  6861.,  7021.,  6928.,  6924.,  6775.,\n",
       "        7037.,  7029.,  6842.,  6649.,  6893.,  6902.,  6871.,  6895.,\n",
       "        6865.,  6911.,  6840.,  6923.,  6864.,  6979.,  6869.,  6886.,\n",
       "        6937.,  6878.,  6886.,  6786.,  6930.,  6966.,  7044.,  6792.,\n",
       "        7096.,  6921.,  6985.,  6916.,  7011.,  7017.,  7021.,  7084.,\n",
       "        6806.,  7026.,  7024.,  6994.,  7024.,  7175.,  6936.,  7205.,\n",
       "        7016.,  7208.,  7117.,  7039.,  7101.,  7225.,  7057.,  7213.,\n",
       "        7009.,  7152.,  6863.,  7170.,  7134.,  7139.,  7236.,  7130.,\n",
       "        7095.,  7186.,  7229.,  7056.,  7175.,  7174.,  6978.,  7107.,\n",
       "        7350.,  7227.,  7163.,  7153.,  7047.,  7175.,  7454.,  7086.,\n",
       "        7123.,  7273.,  7426.,  7257.,  7282.,  7354.,  7296.,  7098.,\n",
       "        7345.,  7326.,  7259.,  7305.,  7314.,  7348.,  7300.,  7430.,\n",
       "        7198.,  7397.,  7437.,  7263.,  7311.,  7314.,  7303.,  7289.,\n",
       "        7553.,  7338.,  7275.,  7310.,  7264.,  7621.,  7504.,  7514.,\n",
       "        7478.,  7485.,  7377.,  7538.,  7591.,  7498.,  7414.,  7505.,\n",
       "        7567.,  7435.,  7604.,  7375.,  7592.,  7516.,  7711.,  7469.,\n",
       "        7430.,  7565.,  7511.,  7669.,  7523.,  7619.,  7612.,  7701.,\n",
       "        7526.,  7609.,  7563.,  7675.,  7705.,  7578.,  7596.,  7493.,\n",
       "        7568.,  7824.,  7557.,  7711.,  7667.,  7856.,  7750.,  7706.,\n",
       "        7816.,  7669.,  7710.,  7648.,  7918.,  7716.,  7764.,  7727.,\n",
       "        7727.,  7754.,  7731.,  7696.,  7845.,  7899.,  7817.,  7887.,\n",
       "        7740.,  7851.,  7788.,  7992.,  7857.,  8189.,  7817.,  7856.,\n",
       "        7901.,  8050.,  7940.,  7924.,  7911.,  7905.,  7891.,  8148.,\n",
       "        7990.,  7972.,  8075.,  7984.,  8121.,  8267.,  8067.,  8107.,\n",
       "        8213.,  8225.,  8157.,  8080.,  8178.,  8084.,  8083.,  8244.,\n",
       "        8147.,  8194.,  8284.,  8102.,  8330.,  8460.,  8327.,  8230.,\n",
       "        8241.,  8392.,  8228.,  8282.,  8305.,  8275.,  8225.,  8351.,\n",
       "        8436.,  8361.,  8246.,  8439.,  8472.,  8613.,  8495.,  8472.,\n",
       "        8537.,  8521.,  8511.,  8527.,  8475.,  8594.,  8676.,  8500.,\n",
       "        8541.,  8646.,  8487.,  8670.,  8650.,  8590.,  8737.,  8737.,\n",
       "        8617.,  8757.,  8584.,  8714.,  8747.,  8775.,  8788.,  8786.,\n",
       "        8920.,  9103.,  8913.,  8958.,  9115.,  9193.,  8980.,  8971.,\n",
       "        8954.,  9239.,  8883.,  9033.,  9232.,  9257.,  9406.,  9282.,\n",
       "        9171.,  9128.,  9427.,  9436.,  9388.,  9491.,  9469.,  9338.,\n",
       "        9378.,  9456.,  9317.,  9590.,  9570.,  9794.,  9602.,  9788.,\n",
       "        9839.,  9758.,  9800., 10003.,  9836.,  9921.,  9810., 10008.,\n",
       "       10063., 10146., 10001.,  9935., 10042., 10049., 10202., 10192.,\n",
       "       10243., 10263., 10215., 10260., 10067., 10362., 10320., 10293.,\n",
       "       10286., 10392., 10409., 10382., 10556., 10423., 10626., 10353.,\n",
       "       10403., 10489., 10414., 10436., 10368., 10476., 10380., 10179.,\n",
       "       10069., 10204., 10062., 10248.,  9973., 10142., 10114., 10104.,\n",
       "       10223.,  9949.,  9895.,  9817.,  9743.,  9840.,  9684.,  9687.,\n",
       "        9579.,  9427.,  9595.,  9448.,  9378.,  9065.,  9286.,  9054.,\n",
       "        9111.,  8885.,  8996.,  9070.,  8954.,  8958.,  8970.,  8890.,\n",
       "        8620.,  8652.,  8782.,  8645.,  8667.,  8737.,  8548.,  8659.,\n",
       "        8589.,  8633.,  8679.,  8702.,  8449.,  8618.,  8677.,  8627.,\n",
       "        8562.,  8563.,  8651.,  8583.,  8669.,  8753.,  8790.,  8738.,\n",
       "        8587.,  8820.,  9015.,  9124.,  9091.,  9121.,  9008.,  9247.,\n",
       "        9410.,  9436.,  9249.,  9469.,  9526.,  9633.,  9750.,  9804.,\n",
       "        9871.,  9679.,  9971., 10093., 10231., 10411., 10222., 10298.,\n",
       "       10547., 10452., 10622., 10623., 10494., 10751., 10885., 10723.,\n",
       "       11041., 11020., 11148., 11168., 10984., 11211., 11109., 11118.,\n",
       "       11044., 10989., 11290., 11267., 11205., 11207., 11229., 11319.,\n",
       "       11162., 11222., 11185., 11001., 11078., 11125., 11195., 11029.,\n",
       "       11086., 11116., 11131., 11152., 10985., 11133., 11030., 11045.,\n",
       "       10883., 10803., 10856., 10877., 10839., 10891., 10794., 10866.,\n",
       "       10888., 10840., 10725., 10553., 10739., 10781., 10500., 10540.,\n",
       "       10556., 10475., 10519., 10412., 10306., 10471., 10422., 10488.,\n",
       "       10324., 10174., 10184., 10197., 10220., 10211., 10123., 10069.,\n",
       "       10136., 10020., 10079., 10187., 10052.,  9892., 10171.,  9982.,\n",
       "        9957.,  9998.,  9963.,  9953.,  9699.,  9785.,  9769.,  9781.,\n",
       "        9778.,  9819.,  9699.,  9646.,  9601.,  9661.,  9689.,  9822.,\n",
       "        9732.,  9585.,  9655.,  9525.,  9562.,  9536.,  9526.,  9349.,\n",
       "        9530.,  9433.,  9386.,  9370.,  9373.,  9401.,  9302.,  9292.,\n",
       "        9416.,  9153.,  9454.,  9394.,  9318.,  9347.,  9163.,  9190.,\n",
       "        9136.,  9158.,  9109.,  9138.,  9229.,  8995.,  9191.,  9230.,\n",
       "        8991.,  9043.,  9147.,  9095.,  9019.,  9001.,  9166.,  9035.,\n",
       "        8991.,  9136.,  9024.,  8976.,  9006.,  8947.,  9079.,  8845.,\n",
       "        9002.,  8934.,  8911.,  8901.,  8665.,  8912.,  8814.,  9009.,\n",
       "        8819.,  8885.,  8805.,  8558.,  8807.,  8921.,  8698.,  8775.,\n",
       "        8658.,  8630.,  8737.,  8806.,  8728.,  8623.,  8802.,  8774.,\n",
       "        8512.,  8511.,  8410.,  8614.,  8499.,  8737.,  8578.,  8483.,\n",
       "        8457.,  8412.,  8336.,  8474.,  8299.,  8320.,  8317.,  8352.,\n",
       "        8296.,  8497.,  8383.,  8314.,  8237.,  8339.,  8493.,  8312.,\n",
       "        8376.,  8321.,  8305.,  8288.,  8232.,  8134.,  8137.,  8290.,\n",
       "        8297.,  8150.,  8030.,  8172.,  8153.,  8155.,  8033.,  8060.,\n",
       "        8081.,  7984.,  8023.,  7938.,  8096.,  8014.,  7978.,  7938.,\n",
       "        7946.,  8104.,  7858.,  7936.,  7903.,  7865.,  7866.,  7790.,\n",
       "        7929.,  7790.,  7847.,  7813.,  7776.,  7673.,  7523.,  7660.,\n",
       "        7751.,  7744.,  7667.,  7585.,  7537.,  7599.,  7780.])"
      ]
     },
     "execution_count": 13,
     "metadata": {},
     "output_type": "execute_result"
    }
   ],
   "source": [
    "sPM[:,0]"
   ]
  },
  {
   "cell_type": "code",
   "execution_count": 9,
   "metadata": {},
   "outputs": [
    {
     "name": "stdout",
     "output_type": "stream",
     "text": [
      "/home/adrien/Documents/Mesures/laser_scan/20220706/scan397_000.dat\n"
     ]
    }
   ],
   "source": [
    "# plot for simple scan\n",
    "\n",
    "to_plot = 0\n",
    "print(file_path[to_plot])\n",
    "fig = figure('One res_noire',clear='True')\n",
    "ax = fig.add_subplot(1, 1, 1)\n",
    "\n",
    "ax.plot(TIME[:,to_plot],PM[:,to_plot],'+',color='xkcd:prussian blue',label='cloud fluo.')\n",
    "\n",
    "xlabel(r'$\\Delta \\nu_{397}$ [MHz]')\n",
    "ylabel('fluo. [cts/5ms]')\n",
    "ax.legend(fontsize=18)\n",
    "\n",
    "grid()\n",
    "tight_layout()"
   ]
  },
  {
   "cell_type": "code",
   "execution_count": 8,
   "metadata": {},
   "outputs": [],
   "source": [
    "fond = 0\n",
    "PM = PM - fond"
   ]
  },
  {
   "cell_type": "code",
   "execution_count": 9,
   "metadata": {},
   "outputs": [
    {
     "name": "stdout",
     "output_type": "stream",
     "text": [
      "397.70012 397.69972000000007\n"
     ]
    }
   ],
   "source": [
    "# en longueurs d'onde\n",
    "n = 1.0002746\n",
    "c = 299792458\n",
    "l397_1 = 397.70012*1e-9\n",
    "l397_2 = 397.69972*1e-9\n",
    "print(l397_1*1e9,l397_2*1e9)\n",
    "\n",
    "l_397 = linspace(l397_2*1e9,l397_1*1e9,len(TIME[:,0])) # nm\n",
    "f_397 = c/(n*l_397*1e-9) # Hz"
   ]
  },
  {
   "cell_type": "code",
   "execution_count": 15,
   "metadata": {},
   "outputs": [],
   "source": [
    "# en fréquence\n",
    "n = 1.0002746\n",
    "c = 299792458\n",
    "f397_1 = 755.22168*1e-12\n",
    "f397_2 = 755.22265*1e-12\n",
    "\n",
    "f_397 = linspace(f397_1,f397_2,len(TIME[:,0])) # nm"
   ]
  },
  {
   "cell_type": "code",
   "execution_count": 16,
   "metadata": {},
   "outputs": [],
   "source": [
    "test_gauss = gaussian(TIME[:,0],1500,15,3)\n",
    "fit_PM = zeros((len(file_path),3))\n",
    "fit_PM = zeros((len(file_path),3))\n",
    "covar_PM = [zeros((3,3)) for k in range(0,len(file_path))]\n",
    "\n",
    "A = zeros(len(file_path))\n",
    "mu = zeros(len(file_path))\n",
    "sig = zeros(len(file_path))\n",
    "            \n",
    "fit_gauss = zeros((len(TIME[:,0]),(len(file_path))))\n",
    "\n",
    "start = 0"
   ]
  },
  {
   "cell_type": "code",
   "execution_count": 12,
   "metadata": {},
   "outputs": [],
   "source": [
    "import matplotlib.patches as patches"
   ]
  },
  {
   "cell_type": "code",
   "execution_count": 18,
   "metadata": {},
   "outputs": [
    {
     "name": "stdout",
     "output_type": "stream",
     "text": [
      "/home/adrien/Documents/Mesures/laser_scan/20220706/scan397_000.dat\n",
      "0.0 0.0 0.0\n"
     ]
    }
   ],
   "source": [
    "# plot for simple scan\n",
    "\n",
    "to_plot = 0\n",
    "print(file_path[to_plot])\n",
    "f_755 = 755222.765897\n",
    "bckg = min(PM[:,to_plot])+700\n",
    "start = 0\n",
    "stop = -1\n",
    "\n",
    "start_exclude = 50\n",
    "stop_exclude = 500\n",
    "x = f_397[start:]-f_755\n",
    "x_fit = linspace(x[0]*1000,x[-1]*1000,50000)\n",
    "\n",
    "PMPM = hstack((PM[start:start_exclude,to_plot],PM[stop_exclude:,to_plot]))\n",
    "xx =  hstack((x[:start_exclude],x[stop_exclude:]))\n",
    "\n",
    "\n",
    "# fit_PM[to_plot,:], covar_PM[to_plot] = curve_fit(gaussian,xx,PMPM-bckg,\n",
    "#                                                     p0=[9000,-1614,0.5],maxfev = 50000)\n",
    "\n",
    "# A[to_plot] = fit_PM[to_plot,0]\n",
    "# mu[to_plot] = fit_PM[to_plot,1]\n",
    "# sig[to_plot] = fit_PM[to_plot,2]\n",
    "# FWHM = 2*sqrt(2*log(2)) * sig[to_plot] * 1000 # MHz\n",
    "# temperature = 40 * (FWHM*1e-3/f_755/(7.16*1e-7))**2\n",
    "\n",
    "print(A[to_plot],mu[to_plot],sig[to_plot])\n",
    "# fit_gauss[:,to_plot] = gaussian(x,A[to_plot],mu[to_plot],sig[to_plot])\n",
    "# my_fit_gauss = gaussian(x_fit/1000,A[to_plot],mu[to_plot],sig[to_plot])\n",
    "\n",
    "fig = figure('One res_noire',clear='True')\n",
    "ax = fig.add_subplot(1, 1, 1)\n",
    "\n",
    "tata = (x[::-1])*1000 # MHz\n",
    "tete = my_fit_gauss\n",
    "tete = tete + bckg\n",
    "x_fit = x_fit[::-1]\n",
    "\n",
    "# plot(l_866,PM[:,to_plot],'+',color='xkcd:prussian blue')\n",
    "ax.plot(tata,PM[start:,to_plot],'+',color='xkcd:prussian blue',label='cloud fluo.')\n",
    "# ax.plot(x_fit,tete,color='xkcd:vermillion',label='Gaussian fit')\n",
    "# vlines(mu[to_plot]*1000,0,15000,linestyles=':',color='xkcd:vermillion')    \n",
    "\n",
    "# rect = patches.Rectangle((x[start_exclude]*1000, 0), (x[stop_exclude]-x[start_exclude])*1000, 16000,\n",
    "#                          linewidth=1, edgecolor='black', facecolor='gray',alpha=.3,hatch='xxxx',label='fit exclusion')\n",
    "# Add the patch to the Axes\n",
    "# ax.add_patch(rect)\n",
    "\n",
    "    \n",
    "# text(140, 7250, f'FWHM = ${2*sqrt(2*log(2)) * sig[to_plot] * 1000:.2f}$ MHz\\n        T = {temperature:.2f} K',\n",
    "# rotation=0,\n",
    "# horizontalalignment='left',\n",
    "# verticalalignment='bottom',\n",
    "# color='xkcd:vermillion',\n",
    "# fontsize=17)\n",
    "\n",
    "# ax.set_xlim(-1000,1050)\n",
    "# ax.set_ylim(2800,15200)\n",
    "xlabel(r'$\\Delta \\nu_{866}$ [MHz]')\n",
    "ylabel('fluo. [cts/5ms]')\n",
    "ax.legend(fontsize=18)\n",
    "\n",
    "grid()\n",
    "tight_layout()"
   ]
  },
  {
   "cell_type": "code",
   "execution_count": 45,
   "metadata": {},
   "outputs": [
    {
     "name": "stdout",
     "output_type": "stream",
     "text": [
      "/home/adrian/Documents/Mesures/laser_scan/20210416/fluo_dip_re_001.dat\n",
      "4359.215689935037 -1613.5975316223546 0.032963022813756876\n"
     ]
    }
   ],
   "source": [
    "# plot with complicated scan plot only crystal part at the end\n",
    "\n",
    "to_plot = 1\n",
    "print(file_path[to_plot])\n",
    "f_755 = 755222.765897\n",
    "\n",
    "start = 0\n",
    "stop = -1\n",
    "\n",
    "start_exclude = 0\n",
    "stop_exclude = 1350\n",
    "x = f_397-f_755\n",
    "\n",
    "tata = (x[::-1]) # Ghz\n",
    "x_fit = linspace(tata[stop_exclude-300],tata[-1],5000)\n",
    "\n",
    "xx = concatenate(( tata[:start_exclude],tata[stop_exclude:] ))\n",
    "PMPM = concatenate(( PM[:start_exclude,to_plot],PM[stop_exclude:,to_plot] ))\n",
    "\n",
    "bckg = min(PMPM)\n",
    "fit_PM[to_plot,:], covar_PM[to_plot] = curve_fit(gaussian,xx,PMPM,\n",
    "                                                    p0=[5000,-1613.6,0.05],maxfev = 50000)\n",
    "\n",
    "A[to_plot] = fit_PM[to_plot,0]\n",
    "mu[to_plot] = fit_PM[to_plot,1]\n",
    "sig[to_plot] = fit_PM[to_plot,2]\n",
    "FWHM = 2*sqrt(2*log(2)) * sig[to_plot] * 1000 # MHz\n",
    "temperature = 40 * (FWHM*1e-3/f_755/(7.16*1e-7))**2\n",
    "\n",
    "print(A[to_plot],mu[to_plot],sig[to_plot])\n",
    "# fit_gauss[:,to_plot] = gaussian(x,A[to_plot],mu[to_plot],sig[to_plot])\n",
    "my_fit_gauss = gaussian(x_fit,A[to_plot],mu[to_plot],sig[to_plot])\n",
    "\n",
    "f_397 = c/(1.0002746*l_397*1e-9) * 1e-9 # GHz\n",
    "\n",
    "x_offset = 1614\n",
    "\n",
    "fig = figure('One res_noire',clear='True')\n",
    "ax = fig.add_subplot(1, 1, 1)\n",
    "\n",
    "# plot(l_866,PM[:,to_plot],'+',color='xkcd:prussian blue')\n",
    "ax.plot((tata+x_offset)*1e3,PM[start:,to_plot],'+',color='xkcd:prussian blue',label='cloud fluo.')\n",
    "# ax.plot(xx,PMPM,'4',color='k',label='cloud fluo.')\n",
    "ax.plot((x_fit+x_offset)*1e3,my_fit_gauss+bckg,color='xkcd:vermillion',label='Gaussian fit')\n",
    "# vlines(mu[to_plot]*1000,0,15000,linestyles=':',color='xkcd:vermillion')    \n",
    "\n",
    "rect = patches.Rectangle(((tata[start_exclude]+x_offset)*1e3, 0), (tata[stop_exclude]-tata[start_exclude])*1e3, 16000,\n",
    "                         linewidth=1, edgecolor='black', facecolor='gray',alpha=.3,hatch='xxxx',label='fit exclusion')\n",
    "# Add the patch to the Axes\n",
    "ax.add_patch(rect)\n",
    "\n",
    "\n",
    "ax.annotate(\"\", xy=((-1613.689+x_offset)*1e3,2000), xytext=((-1613.689+x_offset)*1e3,3500),\n",
    "            arrowprops=dict(width=1,facecolor='k'))\n",
    "# rect = patches.Rectangle((-1613.7, 0), (0.025), 16000,\n",
    "#                          linewidth=1, edgecolor='black', facecolor='gray',alpha=.3,hatch='',label='fit exclusion')\n",
    "# # Add the patch to the Axes\n",
    "# ax.add_patch(rect)\n",
    "\n",
    "    \n",
    "text((-1613.87+x_offset)*1e3, 3000, f'FWHM = ${2*sqrt(2*log(2)) * sig[to_plot] * 1000:.0f}$ MHz\\n        T = {temperature:.0f} K',\n",
    "rotation=0,\n",
    "horizontalalignment='left',\n",
    "verticalalignment='bottom',\n",
    "color='xkcd:vermillion',\n",
    "fontsize=17,\n",
    "     bbox=dict(facecolor='white'))\n",
    "\n",
    "ax.set_xlim((-1614.37+x_offset)*1e3,(-1613.55+x_offset)*1e3)\n",
    "# ax.set_ylim(2800,15200)\n",
    "xlabel(r'$\\Delta \\nu_{397} +$' + f'{x_offset*1e3:.0f}' + ' [MHz]')\n",
    "ylabel('fluo. [cts/5ms]')\n",
    "ax.legend(fontsize=18)\n",
    "\n",
    "grid()\n",
    "tight_layout()\n",
    "\n",
    "savefig('397scan.png',dpi=300)"
   ]
  },
  {
   "cell_type": "code",
   "execution_count": 19,
   "metadata": {},
   "outputs": [
    {
     "data": {
      "text/plain": [
       "[<matplotlib.lines.Line2D at 0x7f4b654f9930>]"
      ]
     },
     "execution_count": 19,
     "metadata": {},
     "output_type": "execute_result"
    }
   ],
   "source": [
    "figure('coucou',clear='True')\n",
    "\n",
    "plot(xx,PMPM,'+',ls='--')"
   ]
  },
  {
   "cell_type": "code",
   "execution_count": 398,
   "metadata": {},
   "outputs": [
    {
     "name": "stdout",
     "output_type": "stream",
     "text": [
      "3.9269074839873697\n"
     ]
    }
   ],
   "source": [
    "f_346 = 346000.234867\n",
    "# FWHM = 1.75*1e3\n",
    "temperature = 40 * (FWHM*1e-3/f_346/(7.16*1e-7))**2\n",
    "print(temperature)"
   ]
  },
  {
   "cell_type": "code",
   "execution_count": 59,
   "metadata": {},
   "outputs": [
    {
     "data": {
      "text/plain": [
       "array([2590., 2590., 2590., ..., 2590., 2590., 2590.])"
      ]
     },
     "execution_count": 59,
     "metadata": {},
     "output_type": "execute_result"
    }
   ],
   "source": [
    "tete"
   ]
  },
  {
   "cell_type": "code",
   "execution_count": null,
   "metadata": {},
   "outputs": [],
   "source": []
  }
 ],
 "metadata": {
  "kernelspec": {
   "display_name": "Python 3 (ipykernel)",
   "language": "python",
   "name": "python3"
  },
  "language_info": {
   "codemirror_mode": {
    "name": "ipython",
    "version": 3
   },
   "file_extension": ".py",
   "mimetype": "text/x-python",
   "name": "python",
   "nbconvert_exporter": "python",
   "pygments_lexer": "ipython3",
   "version": "3.10.4"
  }
 },
 "nbformat": 4,
 "nbformat_minor": 2
}
