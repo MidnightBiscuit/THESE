{
 "cells": [
  {
   "cell_type": "code",
   "execution_count": 1,
   "metadata": {},
   "outputs": [],
   "source": [
    "import numpy\n",
    "import matplotlib\n",
    "from matplotlib import pylab, mlab, pyplot\n",
    "from mpl_toolkits.mplot3d import Axes3D\n",
    "np = numpy\n",
    "plt = pyplot\n",
    "\n",
    "from pylab import *\n",
    "from numpy import *\n",
    "# import PyQt5 #works"
   ]
  },
  {
   "cell_type": "code",
   "execution_count": 2,
   "metadata": {},
   "outputs": [],
   "source": [
    "from scipy.signal import argrelextrema, argrelmin, find_peaks"
   ]
  },
  {
   "cell_type": "code",
   "execution_count": 3,
   "metadata": {},
   "outputs": [],
   "source": [
    "# import glob\n",
    "from matplotlib import cm"
   ]
  },
  {
   "cell_type": "code",
   "execution_count": 4,
   "metadata": {},
   "outputs": [
    {
     "name": "stdout",
     "output_type": "stream",
     "text": [
      "Using matplotlib backend: Qt5Agg\n"
     ]
    }
   ],
   "source": [
    "%matplotlib"
   ]
  },
  {
   "cell_type": "code",
   "execution_count": 5,
   "metadata": {},
   "outputs": [],
   "source": [
    "# %matplotlib qt\n",
    "matplotlib.rcParams['figure.figsize'] = [10.5,7]\n",
    "matplotlib.rcParams.update({'font.size': 20})"
   ]
  },
  {
   "cell_type": "code",
   "execution_count": 6,
   "metadata": {},
   "outputs": [],
   "source": [
    "def beta_continue_alamano(a,q,beta_guess): #a l'air ok\n",
    "    C1 = q**2/( (beta_guess+2)**2 - a - q**2/( (beta_guess+4)**2 - a - q**2/( (beta_guess+6)**2 - a - q**2/( (beta_guess+8)**2 - a - q**2/( (beta_guess+10)**2 - a ) ) ) ) )\n",
    "    C2 = q**2/( (beta_guess-2)**2 - a - q**2/( (beta_guess-4)**2 - a - q**2/( (beta_guess-6)**2 - a - q**2/( (beta_guess-8)**2 - a - q**2/( (beta_guess-10)**2 - a  ) ) ) ) )\n",
    "    return a + C1 + C2"
   ]
  },
  {
   "cell_type": "code",
   "execution_count": 7,
   "metadata": {},
   "outputs": [
    {
     "name": "stdout",
     "output_type": "stream",
     "text": [
      "$\\kappa_{simion}$ = 0.270471\n"
     ]
    }
   ],
   "source": [
    "# Constantes de la physique\n",
    "# ABSOLUMENT RECHARGER APRÈS AVOIR EXECUTÉ LES CASES D'IMPORT AU DESSUS\n",
    "\n",
    "C_e = 1.602e-19        # Coulomb\n",
    "kb = 1.38064852*1e-23  # Boltzman\n",
    "m_Ca = 40.078*1.66054e-27 # masse Ca 40.078\n",
    "m_GM = 1e6*1.66054e-27 # la masse de la GMol\n",
    "eps0 = 8.854187*1e-12  # permittivité électrique du vide\n",
    "\n",
    "\n",
    "r0 = 2.5e-3 # 2.5e-3   # rayon piège Ca+\n",
    "d0 = (4e-3)/2            # longueur piège Ca+\n",
    "Omega = 2.045e6*2*pi # 2.047e6\n",
    "bk = 4 # nombre de barreaux par groupe (2 -> 4-pole , 4 -> 8-pole ...)\n",
    "\n",
    "mkappa = 0.23          # écrantage piège réel GiantMol\n",
    "wzLC = (2*pi*90806.9982303)**2\n",
    "kappa_simion = m_Ca*d0**2*wzLC/(2*C_e)\n",
    "mkappa = 0.23\n",
    "print('%s = %f' % ('$\\kappa_{simion}$',kappa_simion) )\n",
    "\n",
    "zeta = kappa_simion*r0**2/d0**2"
   ]
  },
  {
   "cell_type": "code",
   "execution_count": 392,
   "metadata": {},
   "outputs": [
    {
     "name": "stdout",
     "output_type": "stream",
     "text": [
      "Urf = 32.149975\n",
      "non adiab 0.21605920035233583\n",
      "adiab     0.21213209621275075\n",
      "alpha = 0.1436723087335987\n",
      "qx = 0.3000000874787064\n",
      "ax = 0.0\n",
      "az = 0.0033534250473806005\n",
      "f_z = 83738.00625693168\n",
      "f_x = 220920.53236026337\n",
      "f_r = 212837.62536825865\n",
      "f_x non_adia = 216905.06837753765\n"
     ]
    }
   ],
   "source": [
    "# Computation of secular frequencies\n",
    "\n",
    "# set voltages\n",
    "Udc = 1 # 2.8628*4   9.014464\n",
    "Urf = 64.29995/2 # 300/4 #42.43 # q*(m_Ca*r0**2*Omega**2)/( 4*C_e)\n",
    "q = ( (m_Ca*r0**2*Omega**2)/( 4*C_e)/Urf )**(-1)\n",
    "print('Urf =',Urf)\n",
    "\n",
    "# compute beta\n",
    "beta_guess = 0.423\n",
    "a = 0\n",
    "for k in range(15):\n",
    "    beta_guess = beta_continue_alamano(a,q,beta_guess)\n",
    "    beta_guess = sqrt(beta_guess)\n",
    "#     print(beta_guess)\n",
    "print('non adiab',beta_guess)\n",
    "print('adiab    ',sqrt(a+q**2/2))\n",
    "\n",
    "# compute angular frequencies\n",
    "omega_z_2 = 2*C_e*(mkappa)*Udc/m_Ca/d0**2\n",
    "# omega_x_2 = 2*(C_e*Urf/m_Ca/Omega/r0**2)**2\n",
    "omega_x_2 = ( beta_guess*Omega/2 )**2\n",
    "omega_r_2 = omega_x_2 - 0.5*omega_z_2\n",
    "\n",
    "# compute Mathieu parameters\n",
    "qx = 4*C_e*Urf/(m_Ca*r0**2*Omega**2)\n",
    "ax = 8*C_e*0/(m_Ca*r0**2*Omega**2)\n",
    "az = 2*omega_z_2/Omega**2\n",
    "\n",
    "print('alpha =',omega_z_2/omega_x_2)\n",
    "print('qx =',qx)\n",
    "print('ax =',ax)\n",
    "print('az =',az)\n",
    "print('f_z =',sqrt(omega_z_2)/2/pi)\n",
    "print('f_x =',sqrt(omega_x_2)/2/pi)\n",
    "print('f_r =',sqrt(omega_r_2)/2/pi)\n",
    "\n",
    "print('f_x non_adia =',sqrt(a+q**2/2)*Omega/2/2/pi)"
   ]
  },
  {
   "cell_type": "markdown",
   "metadata": {},
   "source": [
    "# Extraction de données"
   ]
  },
  {
   "cell_type": "code",
   "execution_count": 9,
   "metadata": {},
   "outputs": [],
   "source": [
    "filename=[]\n",
    "# K:/20220713/tickle_169.9Vpp_2500mV_0_0_100k_400k_000.dat"
   ]
  },
  {
   "cell_type": "code",
   "execution_count": 185,
   "metadata": {},
   "outputs": [],
   "source": [
    "# sélection des fichiers\n",
    "import tkinter as tk\n",
    "from tkinter import filedialog\n",
    "\n",
    "root = tk.Tk()\n",
    "root.withdraw()\n",
    "\n",
    "file_path = filedialog.askopenfilename(initialdir = '/home/adrian/Documents/Mesures',multiple=True)"
   ]
  },
  {
   "cell_type": "code",
   "execution_count": 256,
   "metadata": {},
   "outputs": [
    {
     "name": "stdout",
     "output_type": "stream",
     "text": [
      "> 00 tickle_130Vpp_1000mV_0_0_050k_350k_000.dat\n",
      "> 01 tickle_130Vpp_1000mV_0_0_050k_350k_001.dat\n",
      "> 02 tickle_130Vpp_1000mV_0_0_050k_350k_002.dat\n",
      "> 03 tickle_150Vpp_1000mV_0_0_050k_350k_000.dat\n",
      "> 04 tickle_150Vpp_1000mV_0_0_050k_350k_001.dat\n",
      "> 05 tickle_150Vpp_1000mV_0_0_050k_350k_002.dat\n",
      "> 06 tickle_150Vpp_1000mV_0_0_050k_350k_003.dat\n",
      "> 07 ckle_169.9Vpp_2500mV_0_0_100k_400k_000.dat\n",
      "> 08 tickle_170Vpp_1000mV_0_0_050k_350k_000.dat\n",
      "> 09 tickle_170Vpp_1000mV_0_0_050k_350k_001.dat\n",
      "> 10 tickle_170Vpp_1000mV_0_0_050k_350k_002.dat\n",
      "> 11 tickle_170Vpp_1000mV_0_0_050k_350k_003.dat\n",
      "> 12 tickle_170Vpp_1000mV_0_0_050k_350k_004.dat\n",
      "> 13 tickle_170Vpp_1500mV_0_0_100k_400k_000.dat\n",
      "> 14 tickle_170Vpp_1500mV_0_0_100k_400k_001.dat\n",
      "> 15 tickle_170Vpp_2000mV_0_0_100k_400k_000.dat\n",
      "> 16 tickle_170Vpp_2000mV_0_0_100k_400k_001.dat\n",
      "> 17 tickle_170Vpp_2000mV_0_0_100k_400k_002.dat\n",
      "> 18 tickle_170Vpp_2500mV_0_0_100k_400k_000.dat\n",
      "> 19 tickle_170Vpp_2500mV_0_0_100k_400k_001.dat\n",
      "> 20 tickle_170Vpp_2500mV_0_0_100k_400k_002.dat\n",
      "> 21 tickle_170Vpp_2500mV_0_0_100k_400k_003.dat\n",
      "> 22 tickle_170Vpp_2500mV_0_0_400k_100k_000.dat\n",
      "> 23 tickle_170Vpp_2500mV_0_0_400k_100k_001.dat\n",
      "> 24 tickle_170Vpp_2500mV_0_0_400k_100k_002.dat\n"
     ]
    }
   ],
   "source": [
    "for i,j in enumerate(file_path):\n",
    "    print('>',f'{i:02d}',j[-42:])"
   ]
  },
  {
   "cell_type": "code",
   "execution_count": 187,
   "metadata": {},
   "outputs": [],
   "source": [
    "# open the files and save the data\n",
    "# TP is time\n",
    "# PM is fluo\n",
    "# VB is voltage applied to the GBF\n",
    "filename=file_path\n",
    "m=len(filename)\n",
    "n=len(loadtxt('%s' %filename[1],usecols=(0),unpack=True))\n",
    "shape=(m,n)\n",
    "# Temps, PM, Tension Pzt bleu\n",
    "TP = zeros(shape)\n",
    "PM = zeros(shape)\n",
    "Vmod = zeros(shape)\n",
    "for k in range(0,len(filename),1):\n",
    "    TP[:][k],PM[:][k],Vmod[:][k] = loadtxt('%s' %filename[k],usecols=(0,1,4),unpack=True)   "
   ]
  },
  {
   "cell_type": "code",
   "execution_count": 367,
   "metadata": {},
   "outputs": [
    {
     "name": "stdout",
     "output_type": "stream",
     "text": [
      "D:/giantmol/data/manip_giantmol/20220713/tickle_130Vpp_1000mV_0_0_050k_350k_001.dat\n"
     ]
    }
   ],
   "source": [
    "# chose a file and plot it\n",
    "to_plot = 1\n",
    "print(file_path[to_plot])\n",
    "pos_freq = file_path[to_plot].find('0_0_')\n",
    "freq_start = int(file_path[to_plot][pos_freq+4:pos_freq+7])\n",
    "freq_end   = int(file_path[to_plot][pos_freq+9:pos_freq+12])\n",
    "#pos_freq = file_path[to_plot].find('mV_')\n",
    "#freq_start = int(file_path[to_plot][pos_freq+3:pos_freq+4])\n",
    "#freq_end   = int(file_path[to_plot][pos_freq+5:pos_freq+8])\n",
    "freq       = (Vmod[:][to_plot]+5)*( freq_end - freq_start )/( Vmod[to_plot][-1]-Vmod[to_plot][0] ) + freq_start\n",
    "# freq = linspace(freq_start,freq_end,len(TP[:][to_plot]))\n",
    "# print(freq)\n",
    "#pos_min = find_peaks(PM[:][to_plot],prominence=(250,None))[0] # max(PM[:][to_plot])/2,distance=50\n",
    "pos_min = argrelextrema(PM[:][to_plot],less,order=50)\n",
    "\n",
    "figure('Plot tickle').clf()\n",
    "\n",
    "plot(freq,PM[to_plot],label=f'{file_path[to_plot][-35:-4]},to_plot={to_plot}')\n",
    "plot(freq[pos_min],PM[to_plot][pos_min],'P') # [800]*len(freq[pos_min])\n",
    "# plot(freq[1000-2:-1],PM[1],'r')\n",
    "for i,j in enumerate(pos_min[0]):\n",
    "    text(freq[j],PM[to_plot][j]*0.975,f'{freq[j]:.1f}',fontsize=12)\n",
    "xlabel('Tickle frequency [kHz]')\n",
    "ylabel('Fluorescence [cnt/250ms]')\n",
    "grid(b=True, which='major', color='0.2', linestyle='-')\n",
    "grid(b=True, which='minor', color='0.7', linestyle='--')\n",
    "legend()\n",
    "plt.minorticks_on()\n",
    "plt.tight_layout()"
   ]
  },
  {
   "cell_type": "code",
   "execution_count": 361,
   "metadata": {},
   "outputs": [
    {
     "data": {
      "text/plain": [
       "216.5"
      ]
     },
     "execution_count": 361,
     "metadata": {},
     "output_type": "execute_result"
    }
   ],
   "source": [
    "0.5*(200+233)"
   ]
  },
  {
   "cell_type": "code",
   "execution_count": null,
   "metadata": {},
   "outputs": [],
   "source": [
    "# bad start\n",
    "# 0 1\n",
    "# bad resonance\n",
    "# 2 3     4 5 6 7 24 bad also\n",
    "\n",
    "# exploitable\n",
    "# 8 9 10 11 12 13 14 15 16 17 18 19 20 21 22? 23?"
   ]
  },
  {
   "cell_type": "code",
   "execution_count": null,
   "metadata": {},
   "outputs": [],
   "source": [
    "argrelextrema(PM_170_2000,less,order=50)[0]"
   ]
  },
  {
   "cell_type": "code",
   "execution_count": 257,
   "metadata": {},
   "outputs": [],
   "source": [
    "# let's compare\n",
    "# 8 9 10           tickle_170Vpp_2000mV_0_0_100k_400k\n",
    "PM_170_2000 = mean(PM[:][15:18],axis=0)\n",
    "to_plot = 15\n",
    "pos_freq = file_path[to_plot].find('0_0_')\n",
    "freq_start = int(file_path[to_plot][pos_freq+4:pos_freq+7])\n",
    "freq_end   = int(file_path[to_plot][pos_freq+9:pos_freq+12])\n",
    "freq_170_2000 = (Vmod[:][to_plot]+5)*( freq_end - freq_start )/( Vmod[to_plot][-1]-Vmod[to_plot][0] ) + freq_start\n",
    "pos_min_170_2000 = argrelextrema(PM_170_2000,less,order=80)[0]\n",
    "# 13 14 15 16 17   tickle_170Vpp_1000mV_0_0_050k_350k\n",
    "PM_170_1000 = mean(PM[:][8:11],axis=0)\n",
    "to_plot = 8\n",
    "pos_freq = file_path[to_plot].find('0_0_')\n",
    "freq_start = int(file_path[to_plot][pos_freq+4:pos_freq+7])\n",
    "freq_end   = int(file_path[to_plot][pos_freq+9:pos_freq+12])\n",
    "freq_170_1000 = (Vmod[:][to_plot]+5)*( freq_end - freq_start )/( Vmod[to_plot][-1]-Vmod[to_plot][0] ) + freq_start\n",
    "pos_min_170_1000 = argrelextrema(PM_170_1000,less,order=80)[0]"
   ]
  },
  {
   "cell_type": "code",
   "execution_count": 273,
   "metadata": {},
   "outputs": [],
   "source": [
    "figure('Plot tickle 170_2000').clf()\n",
    "\n",
    "plot(freq_170_2000,PM_170_2000,label=f'to_plot={to_plot} to {to_plot+3}')\n",
    "plot(freq_170_2000[pos_min_170_2000],PM_170_2000[pos_min_170_2000],'P')\n",
    "\n",
    "for i,j in enumerate(pos_min_170_2000):\n",
    "    text(freq_170_2000[j],PM_170_2000[j]*0.975,f'{freq_170_2000[j]:.1f}',fontsize=12)\n",
    "# plot(freq_170_1000,PM[:][10])\n",
    "# plot(freq[pos_min],PM[to_plot][pos_min],'P') # [800]*len(freq[pos_min])\n",
    "# plot(freq[1000-2:-1],PM[1],'r')\n",
    "xlabel('Tickle frequency [kHz]')\n",
    "ylabel('Fluorescence [cnt/60ms]')\n",
    "grid()\n",
    "legend()\n",
    "plt.tight_layout()"
   ]
  },
  {
   "cell_type": "code",
   "execution_count": 220,
   "metadata": {},
   "outputs": [
    {
     "name": "stdout",
     "output_type": "stream",
     "text": [
      "[136.97790839 199.48501404 269.54660143 324.85700358 371.74246506]\n"
     ]
    }
   ],
   "source": [
    "# plot freq of peaks\n",
    "print(freq_170_1000[pos_min_170_2000])\n",
    "\n",
    "# compare with expecteed values\n",
    "# for Urf = 42.43 V, Udc = 2 V\n",
    "# f_z = 118423.42413463586\n",
    "# f_x = 295882.3513634161\n",
    "# f_r = 283785.679970745"
   ]
  },
  {
   "cell_type": "code",
   "execution_count": 259,
   "metadata": {},
   "outputs": [],
   "source": [
    "figure('Plot tickle 170_1000').clf()\n",
    "\n",
    "plot(freq_170_1000,PM_170_1000,label=f'to_plot={to_plot} to {to_plot+4}')\n",
    "plot(freq_170_1000[pos_min_170_1000],PM_170_1000[pos_min_170_1000],'P')\n",
    "\n",
    "for i,j in enumerate(pos_min_170_1000):\n",
    "    text(freq_170_1000[j],PM_170_1000[j]*0.975,f'{freq_170_1000[j]:.1f}',fontsize=12)\n",
    "# plot(freq_170_1000,PM[:][10])\n",
    "# plot(freq[pos_min],PM[to_plot][pos_min],'P') # [800]*len(freq[pos_min])\n",
    "# plot(freq[1000-2:-1],PM[1],'r')\n",
    "xlabel('Tickle frequency [kHz]')\n",
    "ylabel('Fluorescence [cnt/60ms]')\n",
    "grid()\n",
    "legend()\n",
    "plt.tight_layout()"
   ]
  },
  {
   "cell_type": "code",
   "execution_count": null,
   "metadata": {},
   "outputs": [],
   "source": [
    "# plot freq of peaks\n",
    "print(freq_170_1000[pos_min_170_1000])\n",
    "\n",
    "# compare with expecteed values\n",
    "# for Urf = 42.43 V, Udc = 1 V\n",
    "# f_z = 83738.00625693168\n",
    "# f_x = 295882.3513634161\n",
    "# f_r = 289897.1179615297"
   ]
  },
  {
   "cell_type": "code",
   "execution_count": 183,
   "metadata": {},
   "outputs": [
    {
     "name": "stderr",
     "output_type": "stream",
     "text": [
      "The PostScript backend does not support transparency; partially transparent artists will be rendered opaque.\n",
      "The PostScript backend does not support transparency; partially transparent artists will be rendered opaque.\n"
     ]
    }
   ],
   "source": [
    "# data from 220720\n",
    "# let's compare\n",
    "# 8 9 10           tickle_170Vpp_2000mV_0_0_100k_400k\n",
    "PM_mean = mean(PM[:][5:6],axis=0)\n",
    "freq = linspace(000,250,len(TP[:][3]))\n",
    "pos_min = argrelextrema(PM_mean,less,order=80)[0]\n",
    "\n",
    "figure('Plot tickle 110Vpp').clf()\n",
    "\n",
    "plot(freq,PM_mean,color='xkcd:bright orange',label='tickle_003')\n",
    "plot(freq[pos_min],PM_mean[pos_min],'P',color='xkcd:azul')\n",
    "to_plot = 3\n",
    "plot(freq,PM[:][to_plot],color='k',lw=0.6,ls=':',label='tickle_002')\n",
    "\n",
    "for i,j in enumerate(pos_min):\n",
    "    text(freq[j]+0.8,PM_mean[j]-0.005,f'{freq[j]:.1f}',fontsize=12,color='xkcd:cherry red')\n",
    "# ajouts à la mano\n",
    "plot(187.17,5120,'X',color='xkcd:olive brown')\n",
    "text(187.17+0.8,5120-0.005,f'{187.17:.1f}',fontsize=12,color='xkcd:olive brown')\n",
    "\n",
    "plot(111.6,4655,'X',color='xkcd:olive brown')\n",
    "text(111.6+0.8,4655-0.005,f'{111.6:.1f}',fontsize=12,color='xkcd:olive brown')\n",
    "    \n",
    "title('Tickle 19 juillet 22')\n",
    "xlabel('Tickle frequency [kHz]')\n",
    "ylabel('Fluorescence [cnt/60ms]')\n",
    "legend()\n",
    "grid()\n",
    "plt.tight_layout()\n",
    "\n",
    "savefig('tickle_result_002_003.eps',dpi=300)"
   ]
  },
  {
   "cell_type": "code",
   "execution_count": 184,
   "metadata": {},
   "outputs": [
    {
     "name": "stderr",
     "output_type": "stream",
     "text": [
      "The PostScript backend does not support transparency; partially transparent artists will be rendered opaque.\n",
      "The PostScript backend does not support transparency; partially transparent artists will be rendered opaque.\n"
     ]
    }
   ],
   "source": [
    "# data from 220720\n",
    "# let's compare\n",
    "PM_mean = mean(PM[:][3:4],axis=0)\n",
    "freq = linspace(000,200,len(TP[:][3]))\n",
    "pos_min = argrelextrema(PM_mean,less,order=80)[0]\n",
    "\n",
    "figure('Plot tickle 110Vpp').clf()\n",
    "\n",
    "plot(freq,PM_mean,color='xkcd:bright orange',label='tickle_003')\n",
    "plot(freq[pos_min],PM_mean[pos_min],'P',color='xkcd:azul')\n",
    "to_plot = 2\n",
    "plot(freq,PM[:][to_plot],color='k',lw=0.6,ls=':',label='tickle_002')\n",
    "\n",
    "for i,j in enumerate(pos_min):\n",
    "    text(freq[j]+0.8,PM_mean[j]-0.005,f'{freq[j]:.1f}',fontsize=12,color='xkcd:cherry red')\n",
    "# ajouts à la mano\n",
    "plot(187.17,5120,'X',color='xkcd:olive brown')\n",
    "text(187.17+0.8,5120-0.005,f'{187.17:.1f}',fontsize=12,color='xkcd:olive brown')\n",
    "\n",
    "plot(111.6,4655,'X',color='xkcd:olive brown')\n",
    "text(111.6+0.8,4655-0.005,f'{111.6:.1f}',fontsize=12,color='xkcd:olive brown')\n",
    "    \n",
    "title('Tickle 19 juillet 22')\n",
    "xlabel('Tickle frequency [kHz]')\n",
    "ylabel('Fluorescence [cnt/60ms]')\n",
    "legend()\n",
    "grid()\n",
    "plt.tight_layout()\n",
    "\n",
    "savefig('tickle_result_002_003.eps',dpi=300)"
   ]
  }
 ],
 "metadata": {
  "kernelspec": {
   "display_name": "Python 3",
   "language": "python",
   "name": "python3"
  },
  "language_info": {
   "codemirror_mode": {
    "name": "ipython",
    "version": 3
   },
   "file_extension": ".py",
   "mimetype": "text/x-python",
   "name": "python",
   "nbconvert_exporter": "python",
   "pygments_lexer": "ipython3",
   "version": "3.7.3"
  }
 },
 "nbformat": 4,
 "nbformat_minor": 1
}
