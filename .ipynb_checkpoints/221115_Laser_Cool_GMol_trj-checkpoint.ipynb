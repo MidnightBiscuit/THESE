{
 "cells": [
  {
   "cell_type": "code",
   "execution_count": 1,
   "id": "ad249cbd",
   "metadata": {},
   "outputs": [
    {
     "name": "stdout",
     "output_type": "stream",
     "text": [
      "Using matplotlib backend: TkAgg\n"
     ]
    }
   ],
   "source": [
    "# %pylab\n",
    "\n",
    "import numpy\n",
    "import matplotlib\n",
    "from matplotlib import pyplot\n",
    "np = numpy\n",
    "plt = pyplot\n",
    "from pylab import *\n",
    "from numpy import *\n",
    "from scipy.optimize import curve_fit\n",
    "%matplotlib"
   ]
  },
  {
   "cell_type": "code",
   "execution_count": 375,
   "id": "1607ffd4",
   "metadata": {},
   "outputs": [],
   "source": []
  },
  {
   "cell_type": "code",
   "execution_count": 2,
   "id": "a19ffd21",
   "metadata": {},
   "outputs": [
    {
     "data": {
      "text/html": [
       "<style>.container { width:95% !important; }</style>"
      ],
      "text/plain": [
       "<IPython.core.display.HTML object>"
      ]
     },
     "metadata": {},
     "output_type": "display_data"
    }
   ],
   "source": [
    "from IPython.display import display, HTML\n",
    "display(HTML(\"<style>.container { width:95% !important; }</style>\"))"
   ]
  },
  {
   "cell_type": "code",
   "execution_count": 3,
   "id": "92dd43c2",
   "metadata": {},
   "outputs": [],
   "source": [
    "matplotlib.rcParams['figure.figsize'] = [10.5,7]\n",
    "matplotlib.rcParams.update({'font.size': 25})"
   ]
  },
  {
   "cell_type": "code",
   "execution_count": 4,
   "id": "f155ec07",
   "metadata": {},
   "outputs": [],
   "source": [
    "%run my_functions"
   ]
  },
  {
   "cell_type": "markdown",
   "id": "9a2f5a00",
   "metadata": {},
   "source": [
    "# Load data file names\n",
    "I load the file names of data. You have to write the data directory in `file_path` then the program sorts the file names into several categories, according to the their SimuType, and their nature.\n",
    "\n",
    "### SimuType\n",
    "- `Langevin` is the first initialisation of the cloud with the Langevin program.\n",
    "- `SimuTypeQ` is the first part with velocity-Verlet. Introduces laser cooling and in a second time a ramp on the RF voltage.\n",
    "- `SimuType4` is the second part. Introduces the Giant Molecule with the proper kinetic energy. Laser cooling and trapping parameters remains constant. Giant Molecule evacuated at the end of `SimuType4`.\n",
    "- `SimuType2` is the third part. Laser cooling and trapping parameters remains constant.\n",
    "\n",
    "### Nature of files\n",
    "- `xva` contain a snapshot of the cloud : positions, velocities and accelerations of each ion at a given time, at the end of each SimuType, under the format `.bin`. For `SimuType4`, files with `xva` and `.dat` extension contain information about the Giant Molecule.\n",
    "- `Temp` contain temperature of cloud as a function of time, under the form of a `.dat`.\n",
    "- `trj` contain trajectory as a function of time : `trj` alone is for one or many Ca+ ions, `trjGMol` is the trajectory of the GMol."
   ]
  },
  {
   "cell_type": "code",
   "execution_count": 5,
   "id": "374f3293",
   "metadata": {},
   "outputs": [
    {
     "name": "stdout",
     "output_type": "stream",
     "text": [
      "['Langevin_cooling.info' 'Temp_3D_Harmo_N1024_T500uK_F0.15D-19Kg_sRFG.bin'\n",
      " 'xva_3D_Harmo_N1024_T500uK_F0.15D-19Kg_sRFG.bin']\n",
      "['Temp_SimuTypeQ_N01024_Vrf0061_Udc0.2631D+01V_D1.0_S1.0RFG.dat'\n",
      " 'xva_SimuTypeQ_N01024_Vrf0061_Udc0.2631D+01V_D1.0_S1.0RFG.bin'\n",
      " 'xva_SimuTypeQ_N01024_Vrf0061_Udc0.2631D+01V_D1.0_S1.0RFG.info']\n",
      "['xva_SimuType4_01_N01024_Vrf0061_Udc0.2631D+01V_D1.0_S1.0RFG_Q01_50eV.bin'\n",
      " 'xva_SimuType4_01_N01024_Vrf0061_Udc0.2631D+01V_D1.0_S1.0RFG_Q01_50eV.dat'\n",
      " 'xva_SimuType4_01_N01024_Vrf0061_Udc0.2631D+01V_D1.0_S1.0RFG_Q01_50eV.info'\n",
      " 'xva_SimuType4_01_N01024_Vrf0061_Udc0.2631D+01V_D1.0_S1.0RFG_Q05_50eV.bin'\n",
      " 'xva_SimuType4_01_N01024_Vrf0061_Udc0.2631D+01V_D1.0_S1.0RFG_Q05_50eV.dat'\n",
      " 'xva_SimuType4_01_N01024_Vrf0061_Udc0.2631D+01V_D1.0_S1.0RFG_Q05_50eV.info'\n",
      " 'xva_SimuType4_01_N01024_Vrf0061_Udc0.2631D+01V_D1.0_S1.0RFG_Q10_50eV.bin'\n",
      " 'xva_SimuType4_01_N01024_Vrf0061_Udc0.2631D+01V_D1.0_S1.0RFG_Q10_50eV.dat'\n",
      " 'xva_SimuType4_01_N01024_Vrf0061_Udc0.2631D+01V_D1.0_S1.0RFG_Q10_50eV.info'\n",
      " 'xva_SimuType4_01_N01024_Vrf0061_Udc0.2631D+01V_D1.0_S1.0RFG_Q20_50eV.bin'\n",
      " 'xva_SimuType4_01_N01024_Vrf0061_Udc0.2631D+01V_D1.0_S1.0RFG_Q20_50eV.dat'\n",
      " 'xva_SimuType4_01_N01024_Vrf0061_Udc0.2631D+01V_D1.0_S1.0RFG_Q20_50eV.info']\n",
      "['trj_SimuType4_01_N01024_Vrf0061_Udc0.2631D+01V_D1.0_S1.0RFG_Q01_50eV_GMol.bin'\n",
      " 'trj_SimuType4_01_N01024_Vrf0061_Udc0.2631D+01V_D1.0_S1.0RFG_Q05_50eV_GMol.bin'\n",
      " 'trj_SimuType4_01_N01024_Vrf0061_Udc0.2631D+01V_D1.0_S1.0RFG_Q10_50eV_GMol.bin'\n",
      " 'trj_SimuType4_01_N01024_Vrf0061_Udc0.2631D+01V_D1.0_S1.0RFG_Q20_50eV_GMol.bin']\n",
      "['xva_SimuType2_01_N01024_Vrf0061_Udc0.2631D+01V_D1.0_S1.0RFG_Q01_50eV.bin'\n",
      " 'xva_SimuType2_01_N01024_Vrf0061_Udc0.2631D+01V_D1.0_S1.0RFG_Q01_50eV.info'\n",
      " 'xva_SimuType2_01_N01024_Vrf0061_Udc0.2631D+01V_D1.0_S1.0RFG_Q05_50eV.bin'\n",
      " 'xva_SimuType2_01_N01024_Vrf0061_Udc0.2631D+01V_D1.0_S1.0RFG_Q05_50eV.info'\n",
      " 'xva_SimuType2_01_N01024_Vrf0061_Udc0.2631D+01V_D1.0_S1.0RFG_Q10_50eV.bin'\n",
      " 'xva_SimuType2_01_N01024_Vrf0061_Udc0.2631D+01V_D1.0_S1.0RFG_Q10_50eV.info'\n",
      " 'xva_SimuType2_01_N01024_Vrf0061_Udc0.2631D+01V_D1.0_S1.0RFG_Q20_50eV.bin'\n",
      " 'xva_SimuType2_01_N01024_Vrf0061_Udc0.2631D+01V_D1.0_S1.0RFG_Q20_50eV.info']\n",
      "['Temp_SimuType4_01_N01024_Vrf0061_Udc0.2631D+01V_D1.0_S1.0RFG_Q01_50eV.dat'\n",
      " 'Temp_SimuType4_01_N01024_Vrf0061_Udc0.2631D+01V_D1.0_S1.0RFG_Q05_50eV.dat'\n",
      " 'Temp_SimuType4_01_N01024_Vrf0061_Udc0.2631D+01V_D1.0_S1.0RFG_Q10_50eV.dat'\n",
      " 'Temp_SimuType4_01_N01024_Vrf0061_Udc0.2631D+01V_D1.0_S1.0RFG_Q20_50eV.dat']\n",
      "['Temp_SimuType2_01_N01024_Vrf0061_Udc0.2631D+01V_D1.0_S1.0RFG_Q01_50eV.dat'\n",
      " 'Temp_SimuType2_01_N01024_Vrf0061_Udc0.2631D+01V_D1.0_S1.0RFG_Q05_50eV.dat'\n",
      " 'Temp_SimuType2_01_N01024_Vrf0061_Udc0.2631D+01V_D1.0_S1.0RFG_Q10_50eV.dat'\n",
      " 'Temp_SimuType2_01_N01024_Vrf0061_Udc0.2631D+01V_D1.0_S1.0RFG_Q20_50eV.dat']\n"
     ]
    }
   ],
   "source": [
    "# for i,j in enumerate(os.walk(file_path)):\n",
    "#     print(i,j)\n",
    "file_path = '/home/adrien/RemoteFS/Rivendel/Simulations/20221115'+'/DC10_RF10'+'/Try00'\n",
    "# print(os.listdir(file_path))\n",
    "\n",
    "file_name_Lan = sort([x for x in os.listdir(file_path) if 'Langevin' in x or '3D' in x])\n",
    "print(file_name_Lan)\n",
    "file_name_SimuTypeQ = sort([x for x in os.listdir(file_path) if 'SimuTypeQ' in x])\n",
    "print(file_name_SimuTypeQ)\n",
    "file_name_SimuType4_xva = sort([x for x in os.listdir(file_path) if 'SimuType4' in x and 'xva' in x])\n",
    "print(file_name_SimuType4_xva)\n",
    "file_name_SimuType4_trjGMol = sort([x for x in os.listdir(file_path) if 'SimuType4' in x and 'trj' in x and 'GMol' in x])\n",
    "print(file_name_SimuType4_trjGMol)\n",
    "file_name_SimuType2_xva = sort([x for x in os.listdir(file_path) if 'SimuType2' in x and 'xva' in x])\n",
    "print(file_name_SimuType2_xva)\n",
    "\n",
    "file_name_SimuType4_Temp = sort([x for x in os.listdir(file_path) if 'SimuType4' in x and 'Temp' in x])\n",
    "print(file_name_SimuType4_Temp)\n",
    "file_name_SimuType2_Temp = sort([x for x in os.listdir(file_path) if 'SimuType2' in x and 'Temp' in x])\n",
    "print(file_name_SimuType2_Temp)"
   ]
  },
  {
   "cell_type": "markdown",
   "id": "5d2b86f5",
   "metadata": {},
   "source": [
    "# Reading snapshots"
   ]
  },
  {
   "cell_type": "code",
   "execution_count": 331,
   "id": "04699cfa",
   "metadata": {},
   "outputs": [],
   "source": [
    "QGMol = 'Q20'\n",
    "xva_Langevin  = load_xva_init_bin_Lan(file_path+'/'+sort(file_name_Lan)[2].strip('.bin'),1)[5]\n",
    "xva_SimuTypeQ = load_xyz_init_bin_DP(file_path+'/'+sort(file_name_SimuTypeQ)[1].strip('.bin'))[0]\n",
    "xva_SimuType4 = load_xyz_init_bin_DP(file_path+'/'+sort([x for x in file_name_SimuType4_xva if QGMol in x])[0].strip('.bin'))[0]\n",
    "xva_SimuType2 = load_xyz_init_bin_DP(file_path+'/'+sort([x for x in file_name_SimuType2_xva if QGMol in x])[0].strip('.bin'))[0]"
   ]
  },
  {
   "cell_type": "code",
   "execution_count": 342,
   "id": "cda1d01d",
   "metadata": {},
   "outputs": [],
   "source": [
    "to_plot = xva_SimuTypeQ\n",
    "figure('xva'); clf()\n",
    "# title(fig_title)\n",
    "subplot(211,aspect=1.0)\n",
    "plot(to_plot [0,:]*1e3,to_plot [1,:]*1e3,'8',color='xkcd:purplish blue')\n",
    "xlabel('x[µm]')\n",
    "ylabel('y[µm]')\n",
    "grid()\n",
    "xlim(-1000,1000)\n",
    "ylim(-1000,1000)\n",
    "\n",
    "# subplot(212,aspect=1.0)\n",
    "subplot(212)\n",
    "plot(to_plot [2,:]*1e3,to_plot [0,:]*1e3,'8',color='xkcd:purplish blue')\n",
    "xlabel('z[µm]')\n",
    "ylabel('x[µm]')\n",
    "grid()\n",
    "xlim(-1000,1000)\n",
    "ylim(-1000,1000)\n",
    "\n",
    "tight_layout()\n",
    "# savefig('xva_2.png',dpi=300)"
   ]
  },
  {
   "cell_type": "code",
   "execution_count": 345,
   "id": "e644358b",
   "metadata": {},
   "outputs": [
    {
     "data": {
      "text/plain": [
       "497.9277379746295"
      ]
     },
     "execution_count": 345,
     "metadata": {},
     "output_type": "execute_result"
    }
   ],
   "source": [
    "max(to_plot [2,:]*1e3) - min(to_plot [2,:]*1e3)"
   ]
  },
  {
   "cell_type": "markdown",
   "id": "299ff247",
   "metadata": {},
   "source": [
    "# Reading temperature"
   ]
  },
  {
   "cell_type": "code",
   "execution_count": 40,
   "id": "3695426c",
   "metadata": {},
   "outputs": [
    {
     "name": "stdout",
     "output_type": "stream",
     "text": [
      "[4] [4] [8] [8] [8] [55440]\n",
      "N_ions 1024\n",
      "j_save 990\n",
      "dt_j_save_next 5e-07\n",
      "eta 1.5e-20\n",
      "Temp [0.0005]\n",
      "[5.05000000e-07 7.90478153e-06 8.52719528e-05 8.04622417e-08\n",
      " 1.13917495e+02 3.83584629e+01 1.86540472e+02]\n"
     ]
    }
   ],
   "source": [
    "QGMol = 'Q05'\n",
    "Temp_Langevin  = load_Temp_init_bin_Lan(file_path+'/'+sort(file_name_Lan)[1].strip('.bin'),1)[5]\n",
    "Temp_SimuTypeQ = load_T_and_PM_simu(file_path+'/'+sort(file_name_SimuTypeQ)[0].strip('.dat'))\n",
    "Temp_SimuType4 = load_T_and_PM_simu(file_path+'/'+sort([x for x in file_name_SimuType4_Temp if QGMol in x])[0].strip('.dat'))\n",
    "Temp_SimuType2 = load_T_and_PM_simu(file_path+'/'+sort([x for x in file_name_SimuType2_Temp if QGMol in x])[0].strip('.dat'))"
   ]
  },
  {
   "cell_type": "code",
   "execution_count": 9,
   "id": "5295f81f",
   "metadata": {},
   "outputs": [],
   "source": [
    "figure('Temperature_Lan',clear='True')\n",
    "# subplot(211)\n",
    "semilogy(Temp_Langevin[:,0]*1e3,mean(Temp_Langevin[:,4:7],axis=1))\n",
    "grid()\n",
    "xlabel('t [ms]')\n",
    "ylabel('T [K]')\n",
    "tight_layout()"
   ]
  },
  {
   "cell_type": "code",
   "execution_count": 41,
   "id": "0abfc116",
   "metadata": {},
   "outputs": [],
   "source": [
    "figure('Temperature',clear='True')\n",
    "# subplot(211)\n",
    "semilogy(Temp_Langevin[:,0]*1e3,mean(Temp_Langevin[:,4:7],axis=1))\n",
    "semilogy(Temp_SimuTypeQ[0]*1e3,mean(Temp_SimuTypeQ[2],axis=1))\n",
    "semilogy(Temp_SimuType4[0]*1e3,mean(Temp_SimuType4[2],axis=1))\n",
    "semilogy(Temp_SimuType2[0]*1e3,mean(Temp_SimuType2[2],axis=1))\n",
    "grid()\n",
    "xlabel('t [ms]')\n",
    "ylabel('T [K]')\n",
    "tight_layout()"
   ]
  },
  {
   "cell_type": "code",
   "execution_count": 53,
   "id": "dc5b5001",
   "metadata": {},
   "outputs": [
    {
     "name": "stdout",
     "output_type": "stream",
     "text": [
      "[4] [4] [8] [8] [8] [55440]\n",
      "N_ions 1024\n",
      "j_save 990\n",
      "dt_j_save_next 5e-07\n",
      "eta 1.5e-20\n",
      "Temp [0.0005]\n",
      "[5.05000000e-07 7.90478153e-06 8.52719528e-05 8.04622417e-08\n",
      " 1.13917495e+02 3.83584629e+01 1.86540472e+02]\n",
      "0 Q01\n",
      "1 Q01\n",
      "2 Q01\n",
      "3 Q01\n"
     ]
    }
   ],
   "source": [
    "# En boucle\n",
    "\n",
    "QGMol_list = ['Q01', 'Q05', 'Q10', 'Q20']\n",
    "my_dash = ['-','--','dashdot',':']\n",
    "\n",
    "figure('Temperature_loop',clear='True')\n",
    "\n",
    "Temp_Langevin  = load_Temp_init_bin_Lan(file_path+'/'+sort(file_name_Lan)[1].strip('.bin'),1)[5]\n",
    "Temp_SimuTypeQ = load_T_and_PM_simu(file_path+'/'+sort(file_name_SimuTypeQ)[0].strip('.dat'))\n",
    "semilogy(Temp_Langevin[:,0]*1e3,mean(Temp_Langevin[:,4:7],axis=1))\n",
    "semilogy(Temp_SimuTypeQ[0]*1e3,mean(Temp_SimuTypeQ[2],axis=1))\n",
    "\n",
    "for i,QGMol in enumerate(QGMol_list):\n",
    "    print(i,j)\n",
    "    Temp_SimuType4 = load_T_and_PM_simu(file_path+'/'+sort([x for x in file_name_SimuType4_Temp if QGMol in x])[0].strip('.dat'))\n",
    "    Temp_SimuType2 = load_T_and_PM_simu(file_path+'/'+sort([x for x in file_name_SimuType2_Temp if QGMol in x])[0].strip('.dat'))\n",
    "    # subplot(211)\n",
    "\n",
    "    semilogy(Temp_SimuType4[0]*1e3,mean(Temp_SimuType4[2],axis=1),color='C2',ls=my_dash[i],label=QGMol_list[i])\n",
    "    semilogy(Temp_SimuType2[0]*1e3,mean(Temp_SimuType2[2],axis=1),color='C3',ls=my_dash[i])\n",
    "grid()\n",
    "legend()\n",
    "xlabel('t [ms]')\n",
    "ylabel('T [K]')\n",
    "xlim(16.95,17.25)\n",
    "ylim(2e-4,2e2)\n",
    "tight_layout()\n",
    "savefig('Qvar.png',dpi=300)"
   ]
  },
  {
   "cell_type": "markdown",
   "id": "91125d22",
   "metadata": {},
   "source": [
    "# Reading GMol trajectory"
   ]
  },
  {
   "cell_type": "code",
   "execution_count": 32,
   "id": "5af61c48",
   "metadata": {},
   "outputs": [
    {
     "data": {
      "text/plain": [
       "array(['trj_SimuType4_01_N01024_Vrf0061_Udc0.2631D+01V_D1.0_S1.0RFG_Q01_50eV_GMol.bin',\n",
       "       'trj_SimuType4_01_N01024_Vrf0061_Udc0.2631D+01V_D1.0_S1.0RFG_Q05_50eV_GMol.bin',\n",
       "       'trj_SimuType4_01_N01024_Vrf0061_Udc0.2631D+01V_D1.0_S1.0RFG_Q10_50eV_GMol.bin',\n",
       "       'trj_SimuType4_01_N01024_Vrf0061_Udc0.2631D+01V_D1.0_S1.0RFG_Q20_50eV_GMol.bin'],\n",
       "      dtype='<U77')"
      ]
     },
     "execution_count": 32,
     "metadata": {},
     "output_type": "execute_result"
    }
   ],
   "source": [
    "file_name_SimuType4_trjGMol"
   ]
  },
  {
   "cell_type": "code",
   "execution_count": 249,
   "id": "57cfc105",
   "metadata": {},
   "outputs": [],
   "source": [
    "def load_trj_GMol(str_load):\n",
    "    fid = open(str_load+'.bin', 'rb')\n",
    "    \n",
    "    junk = fromfile(fid, int32,1)        # Read record start tag\n",
    "    j_save_temp  = fromfile(fid, int32,1);\n",
    "    junk = fromfile(fid, int32,1)        # Read record stop tag\n",
    "\n",
    "    junk = fromfile(fid, int32,1)        # Read record start tag\n",
    "    steps  = fromfile(fid, int32,1);\n",
    "    junk = fromfile(fid, int32,1)        # Read record stop tag\n",
    "    \n",
    "    junk = fromfile(fid, int32,1)        # Read record start tag\n",
    "    print(junk)\n",
    "    steps2  = fromfile(fid, int32,1);\n",
    "    junk = fromfile(fid, int32,1)        # Read record stop tag\n",
    "    print(junk)\n",
    "    \n",
    "    junk = fromfile(fid, int32,1)        # Read record start \n",
    "    print(junk)\n",
    "    t_act_gmol  = fromfile(fid, float64, 1000100+2);\n",
    "    junk = fromfile(fid, int32,1)        # Read record stop tag\n",
    "    print(junk)\n",
    "    \n",
    "    junk = fromfile(fid, int32,1)        # Read record start tag\n",
    "    print(junk)\n",
    "    trj_gmol  = fromfile(fid, float64, (1000100+2)*6);\n",
    "    junk = fromfile(fid, int32,1)        # Read record stop tag\n",
    "    print(junk)\n",
    "    \n",
    "    junk = fromfile(fid, int32,1)        # Read record start tag\n",
    "    print(junk)\n",
    "    Ep_gmol  = fromfile(fid, float64, 1000100+2);\n",
    "    junk = fromfile(fid, int32,1)        # Read record stop tag\n",
    "    print(junk)\n",
    "\n",
    "    fid.close\n",
    "\n",
    "    return j_save_temp, steps, steps2, t_act_gmol, trj_gmol, Ep_gmol"
   ]
  },
  {
   "cell_type": "code",
   "execution_count": 414,
   "id": "3ba0c3e3",
   "metadata": {},
   "outputs": [
    {
     "data": {
      "text/plain": [
       "(array([62], dtype=int32),\n",
       " array([22366], dtype=int32),\n",
       " array([22366], dtype=int32))"
      ]
     },
     "execution_count": 414,
     "metadata": {},
     "output_type": "execute_result"
    }
   ],
   "source": [
    "j_save_temp, steps, steps2"
   ]
  },
  {
   "cell_type": "code",
   "execution_count": 292,
   "id": "c1223770",
   "metadata": {},
   "outputs": [
    {
     "name": "stdout",
     "output_type": "stream",
     "text": [
      "/home/adrien/RemoteFS/Rivendel/Simulations/20221115/DC10_RF10/Try00/trj_SimuType4_01_N01024_Vrf0061_Udc0.2631D+01V_D1.0_S1.0RFG_Q01_50eV_GMol\n",
      "[4]\n",
      "[4]\n",
      "[8000816]\n",
      "[8000816]\n",
      "[48004896]\n",
      "[48004896]\n",
      "[8000816]\n",
      "[8000816]\n",
      "/home/adrien/RemoteFS/Rivendel/Simulations/20221115/DC10_RF10/Try00/trj_SimuType4_01_N01024_Vrf0061_Udc0.2631D+01V_D1.0_S1.0RFG_Q05_50eV_GMol\n",
      "[4]\n",
      "[4]\n",
      "[8000816]\n",
      "[8000816]\n",
      "[48004896]\n",
      "[48004896]\n",
      "[8000816]\n",
      "[8000816]\n",
      "/home/adrien/RemoteFS/Rivendel/Simulations/20221115/DC10_RF10/Try00/trj_SimuType4_01_N01024_Vrf0061_Udc0.2631D+01V_D1.0_S1.0RFG_Q10_50eV_GMol\n",
      "[4]\n",
      "[4]\n",
      "[8000816]\n",
      "[8000816]\n",
      "[48004896]\n",
      "[48004896]\n",
      "[8000816]\n",
      "[8000816]\n",
      "/home/adrien/RemoteFS/Rivendel/Simulations/20221115/DC10_RF10/Try00/trj_SimuType4_01_N01024_Vrf0061_Udc0.2631D+01V_D1.0_S1.0RFG_Q20_50eV_GMol\n",
      "[4]\n",
      "[4]\n",
      "[8000816]\n",
      "[8000816]\n",
      "[48004896]\n",
      "[48004896]\n",
      "[8000816]\n",
      "[8000816]\n"
     ]
    }
   ],
   "source": [
    "time_gmol = []\n",
    "trj_gmol = []\n",
    "steps_gmol = []\n",
    "for i in range(len(file_name_SimuType4_trjGMol)):\n",
    "    str_load = file_path+'/'+file_name_SimuType4_trjGMol[i].strip('.bin')\n",
    "    print(str_load)\n",
    "    # steps, t_act_gmol, Ep_gmol, trj_gmol = load_trj_GMol(str_load)\n",
    "    j_save_temp, steps, steps2, t_act_gmol, trj_gmol_tmp, Ep_gmol = load_trj_GMol(str_load)\n",
    "    trj_gmol.append( reshape(trj_gmol_tmp,(6,(1000100+2)),order='F') )\n",
    "    time_gmol.append( t_act_gmol )\n",
    "    steps_gmol.append( steps[0] )"
   ]
  },
  {
   "cell_type": "code",
   "execution_count": 321,
   "id": "7ca45293",
   "metadata": {},
   "outputs": [],
   "source": [
    "figname = 'GMol_trajectory_xz'\n",
    "figure(figname,clear='True')\n",
    "# subplot(211)\n",
    "for k in range(len(file_name_SimuType4_trjGMol)):\n",
    "    plot(trj_gmol[k][2][:steps_gmol[k]]*1e6,trj_gmol[k][0][:steps_gmol[k]]*1e9,\n",
    "         '+',label=QGMol_list[k])\n",
    "grid()\n",
    "xlabel('z [µm]')\n",
    "ylabel('x [nm]')\n",
    "xlim(-255,-181)\n",
    "ylim(-1.2,0.1)\n",
    "legend()\n",
    "tight_layout()\n",
    "plt.savefig(figname+'_zoom.png',dpi=300)"
   ]
  },
  {
   "cell_type": "code",
   "execution_count": 319,
   "id": "d76b3f97",
   "metadata": {},
   "outputs": [
    {
     "name": "stderr",
     "output_type": "stream",
     "text": [
      "Exception in Tkinter callback\n",
      "Traceback (most recent call last):\n",
      "  File \"/usr/lib/python3.10/tkinter/__init__.py\", line 1921, in __call__\n",
      "    return self.func(*args)\n",
      "  File \"/usr/lib/python3.10/tkinter/__init__.py\", line 839, in callit\n",
      "    func(*args)\n",
      "  File \"/usr/lib/python3/dist-packages/matplotlib/backends/_backend_tk.py\", line 489, in delayed_destroy\n",
      "    self.window.destroy()\n",
      "  File \"/usr/lib/python3.10/tkinter/__init__.py\", line 2341, in destroy\n",
      "    self.tk.call('destroy', self._w)\n",
      "_tkinter.TclError: can't invoke \"destroy\" command: application has been destroyed\n"
     ]
    }
   ],
   "source": [
    "figname = 'GMol_trajectory_yz'\n",
    "figure(figname,clear='True')\n",
    "# subplot(211)\n",
    "for k in range(len(file_name_SimuType4_trjGMol)):\n",
    "    plot(trj_gmol[k][2][:steps_gmol[k]]*1e6,trj_gmol[k][1][:steps_gmol[k]]*1e9,\n",
    "         '',label=QGMol_list[k])\n",
    "grid()\n",
    "xlabel('z [µm]')\n",
    "ylabel('y [nm]')\n",
    "legend()\n",
    "tight_layout()\n",
    "plt.savefig(figname+'.png',dpi=300)"
   ]
  },
  {
   "cell_type": "code",
   "execution_count": 317,
   "id": "2773851a",
   "metadata": {},
   "outputs": [],
   "source": [
    "figname = 'GMol_trajectory_xy'\n",
    "figure(figname,clear='True')\n",
    "# subplot(211)\n",
    "for k in range(len(file_name_SimuType4_trjGMol)):\n",
    "    plot(trj_gmol[k][0][:steps_gmol[k]]*1e9,trj_gmol[k][1][:steps_gmol[k]]*1e9,\n",
    "         '',label=QGMol_list[k])\n",
    "grid()\n",
    "xlabel('x [nm]')\n",
    "ylabel('y [nm]')\n",
    "legend()\n",
    "tight_layout()\n",
    "plt.savefig(figname+'.png',dpi=300)"
   ]
  },
  {
   "cell_type": "code",
   "execution_count": 348,
   "id": "778b218e",
   "metadata": {},
   "outputs": [],
   "source": [
    "figname = 'GMol_velocity_z'\n",
    "figure(figname,clear='True')\n",
    "# subplot(211)\n",
    "for k in range(len(file_name_SimuType4_trjGMol)):\n",
    "    plot(trj_gmol[k][2][:steps_gmol[k]]*1e6,trj_gmol[k][5][:steps_gmol[k]],\n",
    "         '',label=QGMol_list[k])\n",
    "grid()\n",
    "xlabel('z [µm]')\n",
    "ylabel('$v_z$ [m/s]')\n",
    "legend()\n",
    "tight_layout()\n",
    "plt.savefig(figname+'.png',dpi=300)"
   ]
  },
  {
   "cell_type": "code",
   "execution_count": null,
   "id": "95618e24",
   "metadata": {},
   "outputs": [],
   "source": [
    "sqrt(2*(50*C_e))"
   ]
  },
  {
   "cell_type": "code",
   "execution_count": 411,
   "id": "38b59c43",
   "metadata": {},
   "outputs": [
    {
     "name": "stdout",
     "output_type": "stream",
     "text": [
      "0.015000000000000568\n",
      "-15.268338789319102\n",
      "0.10469999999999402\n",
      "-106.4447813645586\n",
      "0.23000000000000398\n",
      "-233.45772337704318\n",
      "0.51400000000001\n",
      "-520.0330117286001\n"
     ]
    }
   ],
   "source": [
    "m_GM = 1e6*1.66054e-27\n",
    "C_e = 1.602e-19 \n",
    "\n",
    "E_i = 0.5*m_GM*(98.208)**2 / C_e\n",
    "E_f = 0.5*m_GM*(98.193)**2 / C_e\n",
    "deltaE = E_f - E_i\n",
    "print(98.208-98.193)\n",
    "print(deltaE*1e3)\n",
    "\n",
    "E_i = 0.5*m_GM*(98.1347)**2 / C_e\n",
    "E_f = 0.5*m_GM*(98.03)**2 / C_e\n",
    "deltaE = E_f - E_i\n",
    "print(98.1347-98.03)\n",
    "print(deltaE*1e3)\n",
    "\n",
    "E_i = 0.5*m_GM*(98.04)**2 / C_e\n",
    "E_f = 0.5*m_GM*(97.81)**2 / C_e\n",
    "deltaE = E_f - E_i\n",
    "print(98.04-97.81)\n",
    "print(deltaE*1e3)\n",
    "\n",
    "\n",
    "E_i = 0.5*m_GM*(97.864)**2 / C_e\n",
    "E_f = 0.5*m_GM*(97.350)**2 / C_e\n",
    "deltaE = E_f - E_i\n",
    "print(97.864-97.350)\n",
    "print(deltaE*1e3)\n",
    "\n",
    "Q_list = [1,5,10,20]\n",
    "Delta_E_list = [-15.268338789319102,-106.4447813645586,-233.45772337704318,-520.0330117286001]"
   ]
  },
  {
   "cell_type": "code",
   "execution_count": 412,
   "id": "137f63e8",
   "metadata": {},
   "outputs": [],
   "source": [
    "def my_lin_fit(x,a,b):\n",
    "    return a*x+b    "
   ]
  },
  {
   "cell_type": "code",
   "execution_count": 413,
   "id": "6f770d15",
   "metadata": {},
   "outputs": [],
   "source": [
    "popt,pcov = curve_fit(my_lin_fit,\n",
    "                      Q_list,\n",
    "                      Delta_E_list)\n",
    "\n",
    "figname = 'delta_E_vs_Q'\n",
    "figure(figname,clear=True)\n",
    "plot(Q_list,Delta_E_list,\n",
    "     marker='P',ls='')\n",
    "plot(linspace(0,20,50),my_lin_fit(linspace(0,20,50),*popt),label='lin. fit')\n",
    "grid()\n",
    "xlabel('Q')\n",
    "ylabel('$\\Delta E$ [eV]')\n",
    "legend()\n",
    "tight_layout()\n",
    "savefig(figname+'.png',dpi=300)"
   ]
  }
 ],
 "metadata": {
  "kernelspec": {
   "display_name": "Python 3 (ipykernel)",
   "language": "python",
   "name": "python3"
  },
  "language_info": {
   "codemirror_mode": {
    "name": "ipython",
    "version": 3
   },
   "file_extension": ".py",
   "mimetype": "text/x-python",
   "name": "python",
   "nbconvert_exporter": "python",
   "pygments_lexer": "ipython3",
   "version": "3.10.6"
  }
 },
 "nbformat": 4,
 "nbformat_minor": 5
}
