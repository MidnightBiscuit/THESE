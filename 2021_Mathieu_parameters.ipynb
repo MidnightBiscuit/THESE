{
 "cells": [
  {
   "cell_type": "code",
   "execution_count": 1,
   "metadata": {},
   "outputs": [],
   "source": [
    "# %pylab\n",
    "\n",
    "import numpy\n",
    "import matplotlib\n",
    "from matplotlib import pylab, mlab, pyplot\n",
    "from mpl_toolkits.mplot3d import Axes3D\n",
    "np = numpy\n",
    "plt = pyplot\n",
    "\n",
    "from pylab import *\n",
    "from numpy import *\n",
    "\n",
    "%matplotlib qt"
   ]
  },
  {
   "cell_type": "code",
   "execution_count": 2,
   "metadata": {},
   "outputs": [],
   "source": [
    "import scipy.fftpack\n",
    "from scipy.signal import gaussian"
   ]
  },
  {
   "cell_type": "code",
   "execution_count": 3,
   "metadata": {},
   "outputs": [
    {
     "name": "stderr",
     "output_type": "stream",
     "text": [
      "ERROR:root:File `'fct_RF_heating.py'` not found.\n"
     ]
    }
   ],
   "source": [
    "%run fct_RF_heating"
   ]
  },
  {
   "cell_type": "markdown",
   "metadata": {},
   "source": [
    "# GiantMol"
   ]
  },
  {
   "cell_type": "code",
   "execution_count": 4,
   "metadata": {},
   "outputs": [
    {
     "name": "stdout",
     "output_type": "stream",
     "text": [
      "$\\kappa_{simion}$ = 0.270471\n"
     ]
    }
   ],
   "source": [
    "# Constantes de la physique\n",
    "# ABSOLUMENT RECHARGER APRÈS AVOIR EXECUTÉ LES CASES D'IMPORT AU DESSUS\n",
    "\n",
    "C_e = 1.602e-19        # Coulomb\n",
    "kb = 1.38064852*1e-23  # Boltzman\n",
    "m_Ca = 40.078*1.66054e-27 # masse Ca 40.078\n",
    "m_GM = 1e6*1.66054e-27 # la masse de la GMol\n",
    "eps0 = 8.854187*1e-12  # permittivité électrique du vide\n",
    "\n",
    "\n",
    "r0 = 2.5e-3 # 2.5e-3   # rayon piège Ca+\n",
    "d0 = 4e-3/2            # longueur piège Ca+\n",
    "Omega = 2.045e6*2*pi # 2.047e6\n",
    "bk = 4 # nombre de barreaux par groupe (2 -> 4-pole , 4 -> 8-pole ...)\n",
    "\n",
    "mkappa = 0.23          # écrantage piège réel GiantMol\n",
    "wzLC = (2*pi*90806.9982303)**2\n",
    "kappa_simion = m_Ca*d0**2*wzLC/(2*C_e)\n",
    "print('%s = %f' % ('$\\kappa_{simion}$',kappa_simion) )\n",
    "\n",
    "zeta = kappa_simion*r0**2/d0**2"
   ]
  },
  {
   "cell_type": "code",
   "execution_count": 16,
   "metadata": {},
   "outputs": [
    {
     "name": "stdout",
     "output_type": "stream",
     "text": [
      "alpha = 0.10478507314882819\n",
      "qx = 0.3499226136397147\n",
      "ax = 0.0\n",
      "az = 0.0032076239583640523\n",
      "f_z = 81897.3857472796\n",
      "f_x = 252999.8876875538\n",
      "f_r = 246283.0734618104\n"
     ]
    }
   ],
   "source": [
    "Udc = 1\n",
    "Urf = 150/4\n",
    "omega_z_2 = 2*C_e*(mkappa-0.01)*Udc/m_Ca/d0**2\n",
    "omega_x_2 = 2*(C_e*Urf/m_Ca/Omega/r0**2)**2\n",
    "omega_r_2 = omega_x_2 - 0.5*omega_z_2\n",
    "\n",
    "qx = 4*C_e*Urf/(m_Ca*r0**2*Omega**2)\n",
    "ax = 8*C_e*0/(m_Ca*r0**2*Omega**2)\n",
    "az = 2*omega_z_2/Omega**2\n",
    "\n",
    "print('alpha =',omega_z_2/omega_x_2)\n",
    "print('qx =',qx)\n",
    "print('ax =',ax)\n",
    "print('az =',az)\n",
    "print('f_z =',sqrt(omega_z_2)/2/pi)\n",
    "print('f_x =',sqrt(omega_x_2)/2/pi)\n",
    "print('f_r =',sqrt(omega_r_2)/2/pi)"
   ]
  },
  {
   "cell_type": "code",
   "execution_count": 17,
   "metadata": {},
   "outputs": [
    {
     "data": {
      "text/plain": [
       "37.5"
      ]
     },
     "execution_count": 17,
     "metadata": {},
     "output_type": "execute_result"
    }
   ],
   "source": [
    "Urf"
   ]
  },
  {
   "cell_type": "code",
   "execution_count": 13,
   "metadata": {},
   "outputs": [
    {
     "name": "stdout",
     "output_type": "stream",
     "text": [
      "0.270471333604033359332419195198\n"
     ]
    }
   ],
   "source": [
    "omega_z_2_fit = (2*pi*90806.9982303)**2\n",
    "kappa_fit = m_Ca*d0**2*omega_z_2_fit/(2*C_e*1)\n",
    "print(f'{kappa_fit:.30f}')"
   ]
  },
  {
   "cell_type": "markdown",
   "metadata": {},
   "source": [
    "# TADOTI"
   ]
  },
  {
   "cell_type": "code",
   "execution_count": 10,
   "metadata": {},
   "outputs": [],
   "source": [
    "r0=3.93e-3 # 2.5e-3\n",
    "d0=21e-2/2\n",
    "\n",
    "Omega=5.215e6*2*pi # 2.047e6\n",
    "\n",
    "mkappa = 9.6*1e-4"
   ]
  },
  {
   "cell_type": "code",
   "execution_count": 11,
   "metadata": {},
   "outputs": [
    {
     "name": "stdout",
     "output_type": "stream",
     "text": [
      "alpha = 0.00025820765491457704\n",
      "qx = 0.12048466060143968\n",
      "ax = 0.0\n",
      "az = 9.370713053118921e-07\n",
      "f_z = 3569.6499870649727\n",
      "f_x = 222147.3198086697\n",
      "f_r = 222132.97931117812\n"
     ]
    }
   ],
   "source": [
    "Udc = 1200\n",
    "Urf = 830/4\n",
    "omega_z_2 = 2*C_e*mkappa*Udc/m_Ca/d0**2\n",
    "omega_x_2 = 2*(C_e*Urf/m_Ca/Omega/r0**2)**2\n",
    "omega_r_2 = omega_x_2 - 0.5*omega_z_2\n",
    "\n",
    "qx = 4*C_e*Urf/(m_Ca*r0**2*Omega**2)\n",
    "az = 2*omega_z_2/Omega**2\n",
    "\n",
    "print('alpha =',omega_z_2/omega_x_2)\n",
    "print('qx =',qx)\n",
    "print('ax =',ax)\n",
    "print('az =',az)\n",
    "print('f_z =',sqrt(omega_z_2)/2/pi)\n",
    "print('f_x =',sqrt(omega_x_2)/2/pi)\n",
    "print('f_r =',sqrt(omega_r_2)/2/pi)"
   ]
  },
  {
   "cell_type": "code",
   "execution_count": null,
   "metadata": {},
   "outputs": [],
   "source": []
  }
 ],
 "metadata": {
  "kernelspec": {
   "display_name": "Python 3",
   "language": "python",
   "name": "python3"
  },
  "language_info": {
   "codemirror_mode": {
    "name": "ipython",
    "version": 3
   },
   "file_extension": ".py",
   "mimetype": "text/x-python",
   "name": "python",
   "nbconvert_exporter": "python",
   "pygments_lexer": "ipython3",
   "version": "3.7.6"
  }
 },
 "nbformat": 4,
 "nbformat_minor": 4
}
