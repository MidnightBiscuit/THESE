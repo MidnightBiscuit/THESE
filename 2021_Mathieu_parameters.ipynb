{
 "cells": [
  {
   "cell_type": "code",
   "execution_count": 2,
   "metadata": {},
   "outputs": [
    {
     "data": {
      "text/html": [
       "<style>.container { width:95% !important; }</style>"
      ],
      "text/plain": [
       "<IPython.core.display.HTML object>"
      ]
     },
     "metadata": {},
     "output_type": "display_data"
    }
   ],
   "source": [
    "from IPython.display import display, HTML\n",
    "display(HTML(\"<style>.container { width:95% !important; }</style>\"))"
   ]
  },
  {
   "cell_type": "code",
   "execution_count": 3,
   "metadata": {},
   "outputs": [
    {
     "name": "stdout",
     "output_type": "stream",
     "text": [
      "Using matplotlib backend: TkAgg\n"
     ]
    }
   ],
   "source": [
    "# %pylab\n",
    "\n",
    "import numpy\n",
    "import matplotlib\n",
    "from matplotlib import pylab, mlab, pyplot\n",
    "from mpl_toolkits.mplot3d import Axes3D\n",
    "np = numpy\n",
    "plt = pyplot\n",
    "\n",
    "from pylab import *\n",
    "from numpy import *\n",
    "\n",
    "%matplotlib"
   ]
  },
  {
   "cell_type": "code",
   "execution_count": 4,
   "metadata": {},
   "outputs": [],
   "source": [
    "import scipy.fftpack\n",
    "from scipy.signal import gaussian"
   ]
  },
  {
   "cell_type": "code",
   "execution_count": 5,
   "metadata": {},
   "outputs": [],
   "source": [
    "def f_beta(a,q,beta_guess):\n",
    "    return q**2/( (beta_guess+2)**2 - a - q**2/( (beta_guess+4)**2 - a - q**2/( (beta_guess+6)**2 - a - q**2/( (beta_guess+8)**2 - a - q**2/( (beta_guess+10)**2 - a - q**2/( (beta_guess+10)**2 - a - q**2/( (beta_guess+12)**2 - a ) ) ) ) ) ) )\n",
    "\n",
    "def beta_continue_alamano(a,q,beta_guess): #a l'air ok\n",
    "    return a + f_beta(a,q,beta_guess) + f_beta(a,q,-beta_guess)"
   ]
  },
  {
   "cell_type": "markdown",
   "metadata": {},
   "source": [
    "# GiantMol"
   ]
  },
  {
   "cell_type": "code",
   "execution_count": 6,
   "metadata": {},
   "outputs": [
    {
     "name": "stdout",
     "output_type": "stream",
     "text": [
      "$\\kappa_{simion}$ = 0.270471\n"
     ]
    }
   ],
   "source": [
    "# Constantes de la physique\n",
    "# ABSOLUMENT RECHARGER APRÈS AVOIR EXECUTÉ LES CASES D'IMPORT AU DESSUS\n",
    "\n",
    "C_e = 1.602e-19        # Coulomb\n",
    "kb = 1.38064852*1e-23  # Boltzman\n",
    "m_Ca = 40.078*1.66054e-27 # masse Ca 40.078\n",
    "m_GM = 1e6*1.66054e-27 # la masse de la GMol\n",
    "eps0 = 8.854187*1e-12  # permittivité électrique du vide\n",
    "\n",
    "\n",
    "r0 = 2.865e-3/1.14511 # 2.5e-3   # rayon piège Ca+\n",
    "d0 = 4e-3/2            # longueur piège Ca+\n",
    "Omega = 2.0e6*2*pi # 2.047e6\n",
    "bk = 4 # nombre de barreaux par groupe (2 -> 4-pole , 4 -> 8-pole ...)\n",
    "\n",
    "mkappa = 0.23          # écrantage piège réel GiantMol\n",
    "# wzLC = (2*pi*100000)**2\n",
    "wzLC = (2*pi*90806.9982303)**2\n",
    "kappa_simion = m_Ca*d0**2*wzLC/(2*C_e)\n",
    "print('%s = %f' % ('$\\kappa_{simion}$',kappa_simion) )\n",
    "\n",
    "zeta = kappa_simion*r0**2/d0**2"
   ]
  },
  {
   "cell_type": "code",
   "execution_count": 23,
   "metadata": {},
   "outputs": [
    {
     "name": "stdout",
     "output_type": "stream",
     "text": [
      "[0.6  0.61 0.62 0.63 0.64 0.65 0.66 0.67 0.68 0.69 0.7 ]\n"
     ]
    }
   ],
   "source": [
    "q = np.linspace(0.6,0.7,11)\n",
    "print(q)"
   ]
  },
  {
   "cell_type": "code",
   "execution_count": 34,
   "metadata": {},
   "outputs": [
    {
     "name": "stdout",
     "output_type": "stream",
     "text": [
      "q 0.64\n",
      "Urf = 65.7033357974304\n",
      "a = -0.07539548259691725\n",
      "q = 0.64\n",
      "beta = 0.38831812369993046\n",
      "Udc = 15.07909651938345\n",
      "15.07909651938345\n",
      "1.0\n"
     ]
    }
   ],
   "source": [
    "# Give q\n",
    "# compute URF, beta, a and UDC for spherical cloud\n",
    "# compute secular frequencies\n",
    "K = 1e5*2*pi\n",
    "# Udc = 10.93 # 2.8628*4   9.014464\n",
    "q = 0.64 # np.linspace(0.61,0.63,21)[1::2] # np.linspace(0.54,0.70,9)\n",
    "# np.linspace(0.61,0.63,21) np.linspace(0.61,0.63,21)[1::2] # np.linspace(0.54,0.70,9) # \n",
    "# array([0.611, 0.613, 0.615, 0.617, 0.619, 0.621, 0.623, 0.625, 0.627, 0.629])\n",
    "print('q',q)\n",
    "Urf = q*(m_Ca*r0**2*Omega**2)/(4*C_e)\n",
    "print('Urf =',Urf)\n",
    "beta_guess = 0.423\n",
    "a = 0\n",
    "for i in range(50):\n",
    "    for k in range(50):\n",
    "        beta_guess = beta_continue_alamano(a,q,beta_guess)\n",
    "        beta_guess = sqrt(beta_guess)\n",
    "    omega_r_2 = ( beta_guess*Omega/2 )**2 # m_Ca*d0**2/(3*kappa_simion*C_e)*(0.5*beta_guess*Omega)**2\n",
    "    a = -2*omega_r_2/Omega**2\n",
    "# omega_z_2 = omega_r_2\n",
    "Udc_for_alpha1 = omega_r_2/K**2\n",
    "omega_z_2 = omega_r_2\n",
    "Udc_for_alpha1bis = omega_z_2/K**2\n",
    "print('a =',a)\n",
    "print('q =',q)\n",
    "print('beta =',beta_guess)\n",
    "# Udc_for_alpha1 = omega_r_2/K**2\n",
    "# # omega_z_2 = K**2 * Udc_for_alpha1\n",
    "# omega_x_2 = omega_r_2 + 0.5*omega_z_2\n",
    "print('Udc =',Udc_for_alpha1)\n",
    "print(Udc_for_alpha1bis)\n",
    "print(omega_z_2/omega_r_2)"
   ]
  },
  {
   "cell_type": "code",
   "execution_count": 36,
   "metadata": {},
   "outputs": [
    {
     "name": "stdout",
     "output_type": "stream",
     "text": [
      "q [0.6  0.61 0.62 0.63 0.64 0.65 0.66 0.67 0.68 0.69 0.7 ]\n",
      "q = 0.6000000000000001\n",
      "a = -0.06541616226969633\n",
      "q = 0.6000000000000001\n",
      "beta = 0.36170751241768906\n",
      "Udc = 13.083232453939267\n",
      "13.083232453939267\n",
      "1.0\n"
     ]
    }
   ],
   "source": [
    "# Give q\n",
    "# compute URF, beta, a and UDC for spherical cloud\n",
    "# compute secular frequencies\n",
    "K = 1e5*2*pi\n",
    "# Udc = 10.93 # 2.8628*4   9.014464\n",
    "Urf = 61.596877310090996 # np.linspace(0.61,0.63,21)[1::2] # np.linspace(0.54,0.70,9)\n",
    "# np.linspace(0.61,0.63,21) np.linspace(0.61,0.63,21)[1::2] # np.linspace(0.54,0.70,9) # \n",
    "# array([0.611, 0.613, 0.615, 0.617, 0.619, 0.621, 0.623, 0.625, 0.627, 0.629])\n",
    "print('q',q)\n",
    "q = (4*C_e)/(m_Ca*r0**2*Omega**2) * Urf\n",
    "print('q =',q)\n",
    "beta_guess = 0.423\n",
    "a = 0\n",
    "for i in range(50):\n",
    "    for k in range(50):\n",
    "        beta_guess = beta_continue_alamano(a,q,beta_guess)\n",
    "        beta_guess = sqrt(beta_guess)\n",
    "    omega_r_2 = ( beta_guess*Omega/2 )**2 # m_Ca*d0**2/(3*kappa_simion*C_e)*(0.5*beta_guess*Omega)**2\n",
    "    a = -2*omega_r_2/Omega**2\n",
    "# omega_z_2 = omega_r_2\n",
    "Udc_for_alpha1 = omega_r_2/K**2\n",
    "omega_z_2 = omega_r_2\n",
    "Udc_for_alpha1bis = omega_z_2/K**2\n",
    "print('a =',a)\n",
    "print('q =',q)\n",
    "print('beta =',beta_guess)\n",
    "# Udc_for_alpha1 = omega_r_2/K**2\n",
    "# # omega_z_2 = K**2 * Udc_for_alpha1\n",
    "# omega_x_2 = omega_r_2 + 0.5*omega_z_2\n",
    "print('Udc =',Udc_for_alpha1)\n",
    "print(Udc_for_alpha1bis)\n",
    "print(omega_z_2/omega_r_2)"
   ]
  },
  {
   "cell_type": "code",
   "execution_count": null,
   "metadata": {},
   "outputs": [],
   "source": []
  },
  {
   "cell_type": "code",
   "execution_count": 16,
   "metadata": {},
   "outputs": [
    {
     "name": "stdout",
     "output_type": "stream",
     "text": [
      "q 0.64\n",
      "Urf = 65.7033357974304\n",
      "Udc =  41.39846370463104\n",
      "a = 0.17068402212388706\n",
      "q = 0.64\n",
      "beta = 0.7155781343582692\n",
      "715578.1343582693\n",
      "584267.1000901678\n",
      "584267.1000901678\n",
      "0.9999999999999999\n"
     ]
    }
   ],
   "source": [
    "# Give q and alpha\n",
    "# compute URF, beta, a and UDC\n",
    "# compute secular frequencies\n",
    "\n",
    "K = wzLC\n",
    "# Udc = 10.93 # 2.8628*4   9.014464\n",
    "q = 0.64\n",
    "alpha = 1\n",
    "\n",
    "print('q',q)\n",
    "Urf = q*(m_Ca*r0**2*Omega**2)/(4*C_e)\n",
    "print('Urf =',Urf)\n",
    "beta_guess = 0.423\n",
    "a = 0\n",
    "for i in range(50):\n",
    "    for k in range(50):\n",
    "        beta_guess = beta_continue_alamano(a,q,beta_guess)\n",
    "        beta_guess = sqrt(beta_guess)\n",
    "    omega_x_2 = (0.5*beta_guess*Omega)**2\n",
    "    omega_z_2 = alpha/(1+0.5*alpha)*omega_x_2\n",
    "    omega_r_2 = omega_x_2 - 0.5*omega_z_2\n",
    "    a = 2*omega_z_2/Omega**2\n",
    "print('Udc = ',omega_z_2/K)\n",
    "print('a =',a)\n",
    "print('q =',q)\n",
    "print('beta =',beta_guess)\n",
    "print(sqrt(omega_x_2)/2/pi)\n",
    "print(sqrt(omega_r_2)/2/pi)\n",
    "print(sqrt(omega_z_2)/2/pi)\n",
    "print(omega_z_2/omega_r_2)"
   ]
  },
  {
   "cell_type": "code",
   "execution_count": null,
   "metadata": {},
   "outputs": [],
   "source": []
  },
  {
   "cell_type": "code",
   "execution_count": 56,
   "metadata": {},
   "outputs": [
    {
     "name": "stdout",
     "output_type": "stream",
     "text": [
      "q [0.54 0.56 0.58 0.6  0.62 0.64 0.66 0.68 0.7 ]\n",
      "Urf = [55.43718958 57.49041882 59.54364807 61.59687731 63.65010655 65.7033358\n",
      " 67.75656504 69.80979428 71.86302353]\n",
      "a = [-0.03200432 -0.03468859 -0.0375179  -0.04049935 -0.04364082 -0.04695098\n",
      " -0.05043951 -0.05411719 -0.05799605]\n",
      "q = [0.54 0.56 0.58 0.6  0.62 0.64 0.66 0.68 0.7 ]\n",
      "beta = [0.35779502 0.37249745 0.38739074 0.40248903 0.41780768 0.43336349\n",
      " 0.44917486 0.46526203 0.48164737]\n",
      "Udc = [12.80172796 13.87543491 15.00715853 16.19974171 17.45632602 18.78039182\n",
      " 20.17580548 21.64687542 23.19841905]\n",
      "[1. 1. 1. 1. 1. 1. 1. 1. 1.]\n"
     ]
    }
   ],
   "source": [
    "# Give q\n",
    "# compute URF, beta, a and UDC for spherical cloud\n",
    "# compute secular frequencies\n",
    "K = 1e5*2*pi\n",
    "# Udc = 10.93 # 2.8628*4   9.014464\n",
    "q = np.linspace(0.54,0.70,9) # 0.6 # 0.64\n",
    "print('q',q)\n",
    "Urf = q*(m_Ca*r0**2*Omega**2)/(4*C_e)\n",
    "print('Urf =',Urf)\n",
    "beta_guess = 0.423\n",
    "au = 0\n",
    "for i in range(15):\n",
    "    for k in range(50):\n",
    "        beta_guess = beta_continue_alamano(au,q,beta_guess)\n",
    "        beta_guess = sqrt(beta_guess)\n",
    "    omega_r_2 = ( beta_guess*Omega/2 )**2 \n",
    "    az = 2*omega_r_2/Omega**2\n",
    "    au = -0.5 * 2*omega_r_2/Omega**2\n",
    "#     print('aaaauuu',au)\n",
    "omega_z_2 = -2*au*Omega**2/2\n",
    "Udc_for_alpha1 = -2*au*Omega**2/2/K**2\n",
    "print('a =',au)\n",
    "print('q =',q)\n",
    "print('beta =',beta_guess)\n",
    "# Udc_for_alpha1 = omega_r_2/K**2\n",
    "# # omega_z_2 = K**2 * Udc_for_alpha1\n",
    "# omega_x_2 = omega_r_2 + 0.5*omega_z_2\n",
    "print('Udc =',Udc_for_alpha1)\n",
    "print(omega_z_2/omega_r_2)"
   ]
  },
  {
   "cell_type": "code",
   "execution_count": 62,
   "metadata": {},
   "outputs": [
    {
     "name": "stdout",
     "output_type": "stream",
     "text": [
      "q 0.6000011950921641\n",
      "q = 0.6000011950921641\n",
      "au = -0.0339131892\n",
      "az = 0.0678263784\n",
      "beta = 0.41268846328493686\n",
      "1.255498021168728\n"
     ]
    }
   ],
   "source": [
    "# Give URF and UDC\n",
    "K = 1e5*2*pi\n",
    "print('q',q)\n",
    "Urf = 61.597 # 62.6235 \n",
    "Udc = 13.56527568 # 13.56527568  16.1997\n",
    "\n",
    "q = (4*C_e)/(m_Ca*r0**2*Omega**2)*Urf\n",
    "print('q =',q)\n",
    "beta_guess = 0.423\n",
    "omega_z_2 = K**2*Udc\n",
    "az = 2*K**2/Omega**2*Udc\n",
    "au = -0.5 * az\n",
    "for i in range(15):\n",
    "    for k in range(50):\n",
    "        beta_guess = beta_continue_alamano(au,q,beta_guess)\n",
    "        beta_guess = sqrt(beta_guess)\n",
    "omega_r_2 = ( beta_guess*Omega/2 )**2\n",
    "print('au =',au)\n",
    "print('az =',az)\n",
    "print('beta =',beta_guess)\n",
    "print(omega_r_2/omega_z_2)"
   ]
  },
  {
   "cell_type": "code",
   "execution_count": 57,
   "metadata": {},
   "outputs": [],
   "source": [
    "# plot with complicated scan plot only crystal part at the end\n",
    "\n",
    "fig = figure('stab_diag',clear='True')\n",
    "ax = fig.add_subplot(1, 1, 1)\n",
    "fig.set_size_inches(11.69,8.27)\n",
    "\n",
    "\n",
    "ax.plot(q,a0,'-',color='k',label=r'$\\Phi_z^{\\mathrm{quad}}$ Quadratic pot.',lw=2)\n",
    "ax.plot(q,b1,'-',color='k',label='$\\Phi_z^{\\mathrm{GM}}$ GiantMol axial pot.',lw=2)\n",
    "# ax.plot(q,-a0,'-',color='k',label=r'$\\Phi_z^{\\mathrm{quad}}$ Quadratic pot.',lw=2)\n",
    "# ax.plot(q,-b1,'-',color='k',label='$\\Phi_z^{\\mathrm{GM}}$ GiantMol axial pot.',lw=2)\n",
    "\n",
    "for k in range(len(nutest)):\n",
    "    ax.plot(q,a[k],color='k',ls=':')\n",
    "\n",
    "ax.xaxis.set_major_locator(matplotlib.ticker.MultipleLocator(base=0.2))\n",
    "# text(-0.83, 8000, f'FWHM = ${2*sqrt(2*log(2)) * sig[to_plot] * 1000:.2f}$ MHz\\n        T = {temperature:.2f} K',\n",
    "# rotation=0,\n",
    "# horizontalalignment='left',\n",
    "# verticalalignment='bottom',\n",
    "# color='xkcd:vermillion',\n",
    "# fontsize=17,\n",
    "#      bbox=dict(facecolor='white'))\n",
    "\n",
    "ax.set_xlim(-0.02,1.51)\n",
    "ax.set_ylim(-1.05,1.05)\n",
    "# ax.set_xlabel(r'$z$ [mm]')\n",
    "# ax.set_ylabel('$U_{pot}$ [eV]')\n",
    "# ax.legend(fontsize=16)\n",
    "\n",
    "ax.grid()\n",
    "tight_layout()\n",
    "\n",
    "# savefig('pot_compare_x1',dpi=300)"
   ]
  },
  {
   "cell_type": "code",
   "execution_count": null,
   "metadata": {},
   "outputs": [],
   "source": []
  },
  {
   "cell_type": "code",
   "execution_count": 56,
   "metadata": {},
   "outputs": [
    {
     "name": "stdout",
     "output_type": "stream",
     "text": [
      "q 0.6\n",
      "Urf = 61.596877310090996\n",
      "Udc =  5.345002954905499\n",
      "a = 0.022037209136948642\n",
      "q = 0.6\n",
      "beta = 0.49235079009425287\n",
      "492350.79009425285\n",
      "469438.05914037954\n",
      "209939.082292691\n",
      "0.19999999999999998\n"
     ]
    }
   ],
   "source": [
    "Urf = 61.596877310090996\n",
    "Udc =  5.345002954905499\n",
    "q = Urf/(m_Ca*r0**2*Omega**2)*(4*C_e)\n",
    "print('q',q)\n",
    "print('Urf =',Urf)\n",
    "beta_guess = 0.423\n",
    "omega_z_2 = wzLC*Udc\n",
    "a = 2*omega_z_2/Omega**2\n",
    "for k in range(50):\n",
    "    beta_guess = beta_continue_alamano(a,q,beta_guess)\n",
    "    beta_guess = sqrt(beta_guess)\n",
    "omega_x_2 = (0.5*beta_guess*Omega)**2\n",
    "omega_r_2 = omega_x_2 - 0.5*omega_z_2\n",
    "print('Udc = ',omega_z_2/K)\n",
    "print('a =',a)\n",
    "print('q =',q)\n",
    "print('beta =',beta_guess)\n",
    "print(sqrt(omega_x_2)/2/pi)\n",
    "print(sqrt(omega_r_2)/2/pi)\n",
    "print(sqrt(omega_z_2)/2/pi)\n",
    "print(omega_z_2/omega_r_2)"
   ]
  },
  {
   "cell_type": "code",
   "execution_count": null,
   "metadata": {},
   "outputs": [],
   "source": []
  },
  {
   "cell_type": "code",
   "execution_count": null,
   "metadata": {},
   "outputs": [],
   "source": []
  },
  {
   "cell_type": "code",
   "execution_count": 39,
   "metadata": {},
   "outputs": [
    {
     "name": "stdout",
     "output_type": "stream",
     "text": [
      "2.1847603706437155\n"
     ]
    },
    {
     "name": "stderr",
     "output_type": "stream",
     "text": [
      "/tmp/ipykernel_237210/1034454679.py:5: RuntimeWarning: invalid value encountered in sqrt\n",
      "  fact_alpha = sqrt(alpha**(-2)-1)\n"
     ]
    }
   ],
   "source": [
    "# spherical cloud\n",
    "alpha = 108/55\n",
    "\n",
    "alpha_fact = sqrt(1-alpha**(-2))\n",
    "fact_alpha = sqrt(alpha**(-2)-1)\n",
    "if alpha<1:\n",
    "    omegaz2_sur_omegau2 = -2*( math.asinh(fact_alpha) - alpha*fact_alpha ) / ( math.asinh(fact_alpha) - alpha**(-1)*fact_alpha)\n",
    "else:\n",
    "    omegaz2_sur_omegau2 = -2*( math.asin(alpha_fact) - alpha*alpha_fact ) / ( math.asin(alpha_fact) - alpha**(-1)*alpha_fact)\n",
    "print(omegaz2_sur_omegau2)"
   ]
  },
  {
   "cell_type": "markdown",
   "metadata": {},
   "source": [
    "# TADOTI"
   ]
  },
  {
   "cell_type": "code",
   "execution_count": null,
   "metadata": {},
   "outputs": [],
   "source": [
    "r0=3.93e-3 # 2.5e-3\n",
    "d0=21e-2/2\n",
    "\n",
    "Omega=5.215e6*2*pi # 2.047e6\n",
    "\n",
    "mkappa = 9.6*1e-4"
   ]
  },
  {
   "cell_type": "code",
   "execution_count": null,
   "metadata": {},
   "outputs": [],
   "source": [
    "Udc = 1200\n",
    "Urf = 830/4\n",
    "omega_z_2 = 2*C_e*mkappa*Udc/m_Ca/d0**2\n",
    "omega_x_2 = 2*(C_e*Urf/m_Ca/Omega/r0**2)**2\n",
    "omega_r_2 = omega_x_2 - 0.5*omega_z_2\n",
    "\n",
    "qx = 4*C_e*Urf/(m_Ca*r0**2*Omega**2)\n",
    "az = 2*omega_z_2/Omega**2\n",
    "\n",
    "print('alpha =',omega_z_2/omega_x_2)\n",
    "print('qx =',qx)\n",
    "print('ax =',ax)\n",
    "print('az =',az)\n",
    "print('f_z =',sqrt(omega_z_2)/2/pi)\n",
    "print('f_x =',sqrt(omega_x_2)/2/pi)\n",
    "print('f_r =',sqrt(omega_r_2)/2/pi)"
   ]
  },
  {
   "cell_type": "code",
   "execution_count": null,
   "metadata": {},
   "outputs": [],
   "source": []
  }
 ],
 "metadata": {
  "kernelspec": {
   "display_name": "Python 3 (ipykernel)",
   "language": "python",
   "name": "python3"
  },
  "language_info": {
   "codemirror_mode": {
    "name": "ipython",
    "version": 3
   },
   "file_extension": ".py",
   "mimetype": "text/x-python",
   "name": "python",
   "nbconvert_exporter": "python",
   "pygments_lexer": "ipython3",
   "version": "3.10.6"
  }
 },
 "nbformat": 4,
 "nbformat_minor": 4
}
