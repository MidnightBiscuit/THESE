{
 "cells": [
  {
   "cell_type": "code",
   "execution_count": 2,
   "metadata": {},
   "outputs": [
    {
     "data": {
      "text/html": [
       "<style>.container { width:95% !important; }</style>"
      ],
      "text/plain": [
       "<IPython.core.display.HTML object>"
      ]
     },
     "metadata": {},
     "output_type": "display_data"
    }
   ],
   "source": [
    "from IPython.display import display, HTML\n",
    "display(HTML(\"<style>.container { width:95% !important; }</style>\"))"
   ]
  },
  {
   "cell_type": "code",
   "execution_count": 3,
   "metadata": {},
   "outputs": [
    {
     "name": "stdout",
     "output_type": "stream",
     "text": [
      "Using matplotlib backend: TkAgg\n"
     ]
    }
   ],
   "source": [
    "# %pylab\n",
    "\n",
    "import numpy\n",
    "import matplotlib\n",
    "from matplotlib import pylab, mlab, pyplot\n",
    "from mpl_toolkits.mplot3d import Axes3D\n",
    "np = numpy\n",
    "plt = pyplot\n",
    "\n",
    "from pylab import *\n",
    "from numpy import *\n",
    "\n",
    "%matplotlib\n",
    "matplotlib.rcParams.update({'font.size': 20})"
   ]
  },
  {
   "cell_type": "code",
   "execution_count": 4,
   "metadata": {},
   "outputs": [],
   "source": [
    "import scipy.fftpack\n",
    "from scipy.signal import gaussian"
   ]
  },
  {
   "cell_type": "code",
   "execution_count": 5,
   "metadata": {},
   "outputs": [],
   "source": [
    "def f_beta(a,q,beta_guess):\n",
    "    return q**2/( (beta_guess+2)**2 - a - q**2/( (beta_guess+4)**2 - a - q**2/( (beta_guess+6)**2 - a - q**2/( (beta_guess+8)**2 - a - q**2/( (beta_guess+10)**2 - a - q**2/( (beta_guess+10)**2 - a - q**2/( (beta_guess+12)**2 - a ) ) ) ) ) ) )\n",
    "\n",
    "def beta_continue_alamano(a,q,beta_guess): #a l'air ok\n",
    "    return a + f_beta(a,q,beta_guess) + f_beta(a,q,-beta_guess)"
   ]
  },
  {
   "cell_type": "markdown",
   "metadata": {},
   "source": [
    "# GiantMol"
   ]
  },
  {
   "cell_type": "code",
   "execution_count": 64,
   "metadata": {},
   "outputs": [
    {
     "name": "stdout",
     "output_type": "stream",
     "text": [
      "$\\kappa_{simion}$ = 0.000000\n"
     ]
    }
   ],
   "source": [
    "# Constantes de la physique\n",
    "# ABSOLUMENT RECHARGER APRÈS AVOIR EXECUTÉ LES CASES D'IMPORT AU DESSUS\n",
    "\n",
    "C_e = 1.602e-19        # Coulomb\n",
    "kb = 1.38064852*1e-23  # Boltzman\n",
    "m_Ca = 40.078*1.66054e-27 # masse Ca 40.078\n",
    "m_GM = 1e6*1.66054e-27 # la masse de la GMol\n",
    "eps0 = 8.854187*1e-12  # permittivité électrique du vide\n",
    "\n",
    "\n",
    "r0 = 2.865e-3/1.14511 # 2.5e-3   # rayon piège Ca+\n",
    "d0 = 4e-3/2            # longueur piège Ca+\n",
    "Omega = 2.0e6*2*pi # 2.047e6\n",
    "bk = 4 # nombre de barreaux par groupe (2 -> 4-pole , 4 -> 8-pole ...)\n",
    "\n",
    "mkappa = 0.23          # écrantage piège réel GiantMol\n",
    "# wzLC = (2*pi*100000)**2\n",
    "wzLC = 2*pi*90806.9982303\n",
    "K = 1e5*2*pi\n",
    "kappa_simion = m_Ca*d0**2*wzLC/(2*C_e)\n",
    "print('%s = %f' % ('$\\kappa_{simion}$',kappa_simion) )\n",
    "\n",
    "zeta = kappa_simion*r0**2/d0**2"
   ]
  },
  {
   "cell_type": "code",
   "execution_count": 7,
   "metadata": {},
   "outputs": [
    {
     "name": "stdout",
     "output_type": "stream",
     "text": [
      "[0.6  0.61 0.62 0.63 0.64 0.65 0.66 0.67 0.68 0.69 0.7 ]\n"
     ]
    }
   ],
   "source": [
    "q = np.linspace(0.6,0.7,11)\n",
    "print(q)"
   ]
  },
  {
   "cell_type": "code",
   "execution_count": 11,
   "metadata": {},
   "outputs": [
    {
     "name": "stdout",
     "output_type": "stream",
     "text": [
      "q 0.6\n",
      "Urf = 61.596877310090996\n",
      "ax = -0.06541616226969633\n",
      "beta = 0.361707512417689\n",
      "Udc = 13.083232453939267\n"
     ]
    },
    {
     "ename": "NameError",
     "evalue": "name 'omega_z_2' is not defined",
     "output_type": "error",
     "traceback": [
      "\u001b[0;31m---------------------------------------------------------------------------\u001b[0m",
      "\u001b[0;31mNameError\u001b[0m                                 Traceback (most recent call last)",
      "\u001b[0;32m/tmp/ipykernel_21381/3611059314.py\u001b[0m in \u001b[0;36m<module>\u001b[0;34m\u001b[0m\n\u001b[1;32m     21\u001b[0m \u001b[0;31m# omega_x_2 = omega_r_2 + 0.5*omega_z_2\u001b[0m\u001b[0;34m\u001b[0m\u001b[0;34m\u001b[0m\u001b[0m\n\u001b[1;32m     22\u001b[0m \u001b[0mprint\u001b[0m\u001b[0;34m(\u001b[0m\u001b[0;34m'Udc ='\u001b[0m\u001b[0;34m,\u001b[0m\u001b[0mUdc_for_alpha1\u001b[0m\u001b[0;34m)\u001b[0m\u001b[0;34m\u001b[0m\u001b[0;34m\u001b[0m\u001b[0m\n\u001b[0;32m---> 23\u001b[0;31m \u001b[0mprint\u001b[0m\u001b[0;34m(\u001b[0m\u001b[0momega_z_2\u001b[0m\u001b[0;34m/\u001b[0m\u001b[0momega_r_2\u001b[0m\u001b[0;34m)\u001b[0m\u001b[0;34m\u001b[0m\u001b[0;34m\u001b[0m\u001b[0m\n\u001b[0m",
      "\u001b[0;31mNameError\u001b[0m: name 'omega_z_2' is not defined"
     ]
    }
   ],
   "source": [
    "# q and alpha=R/L known\n",
    "# compute ax Udc\n",
    "q = 0.60\n",
    "print('q',q)\n",
    "Urf = q*(m_Ca*r0**2*Omega**2)/(4*C_e)\n",
    "print('Urf =',Urf)\n",
    "beta_guess = 0.423\n",
    "ax = 0\n",
    "for i in range(50):\n",
    "    for k in range(50):\n",
    "        beta_guess = beta_continue_alamano(ax,q,beta_guess)\n",
    "        beta_guess = sqrt(beta_guess)\n",
    "    omega_r_2 = ( beta_guess*Omega/2 )**2\n",
    "    ax = -2*omega_r_2/Omega**2\n",
    "# omega_z_2 = omega_r_2\n",
    "Udc_for_alpha1 = omega_r_2/K**2\n",
    "print('ax =',ax)\n",
    "print('beta =',beta_guess)\n",
    "# Udc_for_alpha1 = omega_r_2/K**2\n",
    "# # omega_z_2 = K**2 * Udc_for_alpha1\n",
    "# omega_x_2 = omega_r_2 + 0.5*omega_z_2\n",
    "print('Udc =',Udc_for_alpha1)\n",
    "print(omega_z_2/omega_r_2)"
   ]
  },
  {
   "cell_type": "code",
   "execution_count": 12,
   "metadata": {},
   "outputs": [
    {
     "name": "stdout",
     "output_type": "stream",
     "text": [
      "361707.512417689\n",
      "361707.51243116683\n",
      "0.9999999999254766\n"
     ]
    }
   ],
   "source": [
    "# Udc and Urf known\n",
    "Urf = 61.597\n",
    "q = 0.6\n",
    "Udc = 13.083232453939267\n",
    "\n",
    "omega_z_2 = K**2*Udc\n",
    "\n",
    "beta_guess = 0.423\n",
    "ax = -2/Omega**2*omega_z_2\n",
    "for i in range(50):\n",
    "    beta_guess = beta_continue_alamano(ax,q,beta_guess)\n",
    "    beta_guess = sqrt(beta_guess)\n",
    "omega_r_2 = ( beta_guess*Omega/2 )**2\n",
    "\n",
    "print(sqrt(omega_z_2)/2/pi)\n",
    "print(sqrt(omega_r_2)/2/pi)\n",
    "print(omega_z_2/omega_r_2)"
   ]
  },
  {
   "cell_type": "code",
   "execution_count": 65,
   "metadata": {},
   "outputs": [],
   "source": [
    "figure('Diagramme de stabilité').clf()\n",
    "\n",
    "U_rf = linspace(0,100,1001)\n",
    "q = 4*C_e*U_rf/(m_Ca*r0**2*Omega**2)\n",
    "\n",
    "a0 = -1/2*q**2 + 7/128*q**4 - 29/2304*q**6  + 68687/18874368*q**8\n",
    "b1 = 1 - q - q**2/8 + q**3/64 - q**4/1536 - 11/36864*q**5 + 49/589824*q**6 - 55/9437184*q**7 - 83/35389440*q**8\n",
    "\n",
    "plot(U_rf,a0,color='tab:purple',label='Ca$^+$')\n",
    "plot(U_rf,b1,color='tab:purple')\n",
    "plot(U_rf,-a0,color='tab:purple')\n",
    "plot(U_rf,-b1,color='tab:purple')\n",
    "\n",
    "grid()\n",
    "legend()\n",
    "xlabel('$U_{RF}$ [V]')\n",
    "ylabel('a')\n",
    "xlim(-0.1,100)\n",
    "ylim(-0.55,0.55)\n",
    "tight_layout()"
   ]
  },
  {
   "cell_type": "code",
   "execution_count": 63,
   "metadata": {},
   "outputs": [
    {
     "data": {
      "text/plain": [
       "325535515128.0366"
      ]
     },
     "execution_count": 63,
     "metadata": {},
     "output_type": "execute_result"
    }
   ],
   "source": [
    "wzLC"
   ]
  },
  {
   "cell_type": "code",
   "execution_count": 128,
   "metadata": {},
   "outputs": [
    {
     "name": "stderr",
     "output_type": "stream",
     "text": [
      "/tmp/ipykernel_21381/512395964.py:10: RuntimeWarning: invalid value encountered in sqrt\n",
      "  beta_guess_na = sqrt(beta_guess_na)\n",
      "/tmp/ipykernel_21381/512395964.py:18: RuntimeWarning: invalid value encountered in sqrt\n",
      "  beta_guess_base = sqrt(beta_guess_base)\n"
     ]
    }
   ],
   "source": [
    "Urf = linspace(0,100,1000)\n",
    "qx = 4*C_e*Urf/(m_Ca*r0**2*Omega**2)\n",
    "Udc_test = 2.5\n",
    "omega_z_2 = wzLC**2*Udc_test\n",
    "au = -2/Omega**2*omega_z_2\n",
    "\n",
    "beta_guess_na = 0.423\n",
    "for k in range(15):\n",
    "    beta_guess_na = beta_continue_alamano(au,qx,beta_guess_na)\n",
    "    beta_guess_na = sqrt(beta_guess_na)\n",
    "omega_r_2_na = ( beta_guess_na*Omega/2 )**2\n",
    "\n",
    "q_base = linspace(0,0.9,10)\n",
    "Urf_q = q_base*(m_Ca*r0**2*Omega**2)/( 4*C_e)\n",
    "beta_guess_base = 0.423\n",
    "for k in range(15):\n",
    "    beta_guess_base  = beta_continue_alamano(au,q_base,beta_guess_base)\n",
    "    beta_guess_base = sqrt(beta_guess_base)\n",
    "omega_r_2_base = ( beta_guess_base*Omega/2 )**2"
   ]
  },
  {
   "cell_type": "code",
   "execution_count": 129,
   "metadata": {},
   "outputs": [
    {
     "name": "stderr",
     "output_type": "stream",
     "text": [
      "/tmp/ipykernel_21381/443910433.py:5: RuntimeWarning: invalid value encountered in sqrt\n",
      "  ax.plot(Urf,sqrt(au+qx**2/2)*Omega/2/2/pi*1e-3,color='k',ls=':',label=r'$f_r = \\sqrt{\\frac{1}{2}q_u^2+a_u}\\frac{1}{2\\pi}$ (adiabatique)')\n",
      "posx and posy should be finite values\n",
      "posx and posy should be finite values\n",
      "posx and posy should be finite values\n",
      "posx and posy should be finite values\n",
      "posx and posy should be finite values\n",
      "posx and posy should be finite values\n"
     ]
    }
   ],
   "source": [
    "figure('Plot radial freq').clf()\n",
    "ax = plt.subplot(111)\n",
    "\n",
    "ax.plot(Urf,sqrt(omega_r_2_na)/2/pi*1e-3,color='xkcd:bright orange',label=r'$f_r=\\frac{\\Omega}{2}\\beta \\frac{1}{2\\pi}$ (non adiabatique)')\n",
    "ax.plot(Urf,sqrt(au+qx**2/2)*Omega/2/2/pi*1e-3,color='k',ls=':',label=r'$f_r = \\sqrt{\\frac{1}{2}q_u^2+a_u}\\frac{1}{2\\pi}$ (adiabatique)')\n",
    "ax.plot(Urf[50::100],sqrt(omega_r_2_na[50::100])/2/pi*1e-3,'P',color='xkcd:azul')\n",
    "ax.plot(Urf_q,sqrt(omega_r_2_base)/2/pi*1e-3,'P',color='xkcd:brown')\n",
    "\n",
    "for i,j in enumerate(sqrt(omega_r_2_na[50::100])/2/pi*1e-3):\n",
    "    t=plt.text(Urf[50::100][i]-1.5, j+20, f'$f_r=${j:.1f}\\n$q_u$={qx[50::100][i]:.2f}',\n",
    "               transform=ax.transData, ha='right',\n",
    "               fontsize=13,color='xkcd:azul')\n",
    "    t.set_bbox(dict(facecolor='white', alpha=0.8, edgecolor='k'))\n",
    "    #text(Urf[::200][i]-3.2,j+21,f'{j:.1f}',fontsize=12,color='xkcd:azul')\n",
    "for i,j in enumerate(sqrt(omega_r_2_base)/2/pi*1e-3):\n",
    "    t=plt.text(Urf_q[i]+2, j-65, f'$f_r=${sqrt(omega_r_2_base[i])/2/pi*1e-3:.1f}\\n$q_u=${q_base[i]:.1f}',\n",
    "               transform=ax.transData, ha='left',\n",
    "               fontsize=13,color='xkcd:brown')\n",
    "    t.set_bbox(dict(facecolor='white', alpha=0.8, edgecolor='k'))    \n",
    "    \n",
    "title(r'$f_r$ vs $U_{RF}$')\n",
    "ax.set_xlabel('$U_{RF}$ [V] (4$U_{RF}$ [V] = $U_{RF}$ [V$_{pp}$])')\n",
    "ax.set_ylabel(r'$f_r$ [kHz]')\n",
    "ax.grid(visible=True, which='major', color='0.2', linestyle='-')\n",
    "ax.grid(visible=True, which='minor', color='0.7', linestyle='--')\n",
    "plt.minorticks_on()\n",
    "\n",
    "t = plt.text(0.025, 0.8, f'$\\Omega_{{RF}}$ = {Omega/2/pi/1e6:.2f}$\\\\times 2\\pi$ MHz\\n$U_{{DC}} = {Udc_test:.3f}$ V\\n$f_z  ={sqrt(omega_z_2)/2/pi*1e-3:.1f}$ kHz\\n$U_{{RF}}$ min = {Urf[nanargmin(sqrt(omega_r_2_na)/2/pi*1e-3)]:.1f} V', transform=ax.transAxes, fontsize=20)\n",
    "t.set_bbox(dict(facecolor='white', alpha=0.8, edgecolor='k'))\n",
    "\n",
    "ax.set_xlim(-1,103)\n",
    "ax.set_ylim(-75,1350)\n",
    "\n",
    "plt.legend(loc=4,fontsize = 13)\n",
    "plt.tight_layout()\n",
    "\n",
    "savefig('fr_vs_Urf_Udc2.5V.png',dpi=300)"
   ]
  },
  {
   "cell_type": "code",
   "execution_count": 117,
   "metadata": {},
   "outputs": [
    {
     "data": {
      "text/plain": [
       "array([0. , 0.5, 1. , 1.5, 2. , 2.5, 3. , 3.5, 4. , 4.5, 5. , 5.5, 6. ,\n",
       "       6.5, 7. , 7.5, 8. , 8.5, 9. , 9.5])"
      ]
     },
     "execution_count": 117,
     "metadata": {},
     "output_type": "execute_result"
    }
   ],
   "source": [
    "Udc"
   ]
  },
  {
   "cell_type": "markdown",
   "metadata": {},
   "source": [
    "# TADOTI"
   ]
  },
  {
   "cell_type": "code",
   "execution_count": null,
   "metadata": {},
   "outputs": [],
   "source": [
    "r0=3.93e-3 # 2.5e-3\n",
    "d0=21e-2/2\n",
    "\n",
    "Omega=5.215e6*2*pi # 2.047e6\n",
    "\n",
    "mkappa = 9.6*1e-4"
   ]
  },
  {
   "cell_type": "code",
   "execution_count": null,
   "metadata": {},
   "outputs": [],
   "source": [
    "Udc = 1200\n",
    "Urf = 830/4\n",
    "omega_z_2 = 2*C_e*mkappa*Udc/m_Ca/d0**2\n",
    "omega_x_2 = 2*(C_e*Urf/m_Ca/Omega/r0**2)**2\n",
    "omega_r_2 = omega_x_2 - 0.5*omega_z_2\n",
    "\n",
    "qx = 4*C_e*Urf/(m_Ca*r0**2*Omega**2)\n",
    "az = 2*omega_z_2/Omega**2\n",
    "\n",
    "print('alpha =',omega_z_2/omega_x_2)\n",
    "print('qx =',qx)\n",
    "print('ax =',ax)\n",
    "print('az =',az)\n",
    "print('f_z =',sqrt(omega_z_2)/2/pi)\n",
    "print('f_x =',sqrt(omega_x_2)/2/pi)\n",
    "print('f_r =',sqrt(omega_r_2)/2/pi)"
   ]
  }
 ],
 "metadata": {
  "kernelspec": {
   "display_name": "Python 3 (ipykernel)",
   "language": "python",
   "name": "python3"
  },
  "language_info": {
   "codemirror_mode": {
    "name": "ipython",
    "version": 3
   },
   "file_extension": ".py",
   "mimetype": "text/x-python",
   "name": "python",
   "nbconvert_exporter": "python",
   "pygments_lexer": "ipython3",
   "version": "3.10.6"
  }
 },
 "nbformat": 4,
 "nbformat_minor": 4
}
