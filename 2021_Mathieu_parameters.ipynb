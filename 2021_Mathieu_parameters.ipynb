{
 "cells": [
  {
   "cell_type": "code",
   "execution_count": 3,
   "metadata": {},
   "outputs": [
    {
     "name": "stdout",
     "output_type": "stream",
     "text": [
      "Using matplotlib backend: TkAgg\n"
     ]
    }
   ],
   "source": [
    "# %pylab\n",
    "\n",
    "import numpy\n",
    "import matplotlib\n",
    "from matplotlib import pylab, mlab, pyplot\n",
    "from mpl_toolkits.mplot3d import Axes3D\n",
    "np = numpy\n",
    "plt = pyplot\n",
    "\n",
    "from pylab import *\n",
    "from numpy import *\n",
    "\n",
    "%matplotlib"
   ]
  },
  {
   "cell_type": "code",
   "execution_count": 4,
   "metadata": {},
   "outputs": [],
   "source": [
    "import scipy.fftpack\n",
    "from scipy.signal import gaussian"
   ]
  },
  {
   "cell_type": "code",
   "execution_count": 5,
   "metadata": {},
   "outputs": [],
   "source": [
    "def f_beta(a,q,beta_guess):\n",
    "    return q**2/( (beta_guess+2)**2 - a - q**2/( (beta_guess+4)**2 - a - q**2/( (beta_guess+6)**2 - a - q**2/( (beta_guess+8)**2 - a - q**2/( (beta_guess+10)**2 - a - q**2/( (beta_guess+10)**2 - a -q**2/( (beta_guess+12)**2 - a ) ) ) ) ) ) )\n",
    "\n",
    "def beta_continue_alamano(a,q,beta_guess): #a l'air ok\n",
    "    return a + f_beta(a,q,beta_guess) + f_beta(a,q,-beta_guess)"
   ]
  },
  {
   "cell_type": "markdown",
   "metadata": {},
   "source": [
    "# GiantMol"
   ]
  },
  {
   "cell_type": "code",
   "execution_count": 6,
   "metadata": {},
   "outputs": [
    {
     "name": "stdout",
     "output_type": "stream",
     "text": [
      "$\\kappa_{simion}$ = 0.328007\n"
     ]
    }
   ],
   "source": [
    "# Constantes de la physique\n",
    "# ABSOLUMENT RECHARGER APRÈS AVOIR EXECUTÉ LES CASES D'IMPORT AU DESSUS\n",
    "\n",
    "C_e = 1.602e-19        # Coulomb\n",
    "kb = 1.38064852*1e-23  # Boltzman\n",
    "m_Ca = 40.078*1.66054e-27 # masse Ca 40.078\n",
    "m_GM = 1e6*1.66054e-27 # la masse de la GMol\n",
    "eps0 = 8.854187*1e-12  # permittivité électrique du vide\n",
    "\n",
    "\n",
    "r0 = 2.865e-3/1.14511 # 2.5e-3   # rayon piège Ca+\n",
    "d0 = 4e-3/2            # longueur piège Ca+\n",
    "Omega = 2.0e6*2*pi # 2.047e6\n",
    "bk = 4 # nombre de barreaux par groupe (2 -> 4-pole , 4 -> 8-pole ...)\n",
    "\n",
    "mkappa = 0.23          # écrantage piège réel GiantMol\n",
    "wzLC = (2*pi*100000)**2\n",
    "kappa_simion = m_Ca*d0**2*wzLC/(2*C_e)\n",
    "print('%s = %f' % ('$\\kappa_{simion}$',kappa_simion) )\n",
    "\n",
    "zeta = kappa_simion*r0**2/d0**2"
   ]
  },
  {
   "cell_type": "code",
   "execution_count": 131,
   "metadata": {},
   "outputs": [
    {
     "data": {
      "text/plain": [
       "array([10.027, 13.848, 17.669, 21.49 ])"
      ]
     },
     "execution_count": 131,
     "metadata": {},
     "output_type": "execute_result"
    }
   ],
   "source": [
    "linspace(10.027,21.49 ,4)"
   ]
  },
  {
   "cell_type": "code",
   "execution_count": 133,
   "metadata": {},
   "outputs": [
    {
     "name": "stdout",
     "output_type": "stream",
     "text": [
      "q 0.64\n",
      "Urf = 65.7033357974304\n",
      "non adiab 0.5006768032034515\n",
      "adiab     0.4525483399593904\n",
      "Udc_for_alpha1 = 16.711817417735187\n",
      "alpha = [0.49999436 0.76323903 1.08844661 1.50041269]\n",
      "qx = 0.64\n",
      "ax = 0.0\n",
      "az = [0.050135 0.06924  0.088345 0.10745 ]\n",
      "f_z = [316654.38572677 372129.0098877  420345.09631968 463573.07945997]\n",
      "f_x = 500676.8032034515\n",
      "f_r = [447819.45163875 425954.52957567 402904.77940331 378453.77692134]\n"
     ]
    }
   ],
   "source": [
    "# Give q\n",
    "# compute URF, beta, UDC for spherical cloud\n",
    "# compute secular frequencies\n",
    "\n",
    "# Udc = 10.93 # 2.8628*4   9.014464\n",
    "q = 0.64\n",
    "# np.linspace(0.61,0.63,21) # np.linspace(0.54,0.70,9) # \n",
    "# array([0.611, 0.613, 0.615, 0.617, 0.619, 0.621, 0.623, 0.625, 0.627, 0.629])\n",
    "print('q',q)\n",
    "Urf = q*(m_Ca*r0**2*Omega**2)/( 4*C_e)\n",
    "print('Urf =',Urf)\n",
    "beta_guess = 0.423\n",
    "a = 0\n",
    "for k in range(750):\n",
    "    beta_guess = beta_continue_alamano(a,q,beta_guess)\n",
    "    beta_guess = sqrt(beta_guess)\n",
    "#     print(beta_guess)\n",
    "print('non adiab',beta_guess)\n",
    "print('adiab    ',sqrt(a+q**2/2))\n",
    "# Udc_for_alpha1 = 1/6*(beta_guess*Omega/(2*pi*100000))**2\n",
    "# beta_guess = sqrt(a+q**2/2)\n",
    "Udc_for_alpha1 = m_Ca*d0**2/(3*kappa_simion*C_e)*(0.5*beta_guess*Omega)**2\n",
    "print('Udc_for_alpha1 =',Udc_for_alpha1)\n",
    "Udc = array([10.027, 13.848, 17.669, 21.49]) # Udc_for_alpha1\n",
    "# omega_z_2 = 2*C_e*(mkappa)*Udc/m_Ca/d0**2\n",
    "# omega_x_2 = 2*(C_e*Urf/m_Ca/Omega/r0**2)**2\n",
    "omega_z_2 = ( 2*pi*100e3 )**2 * Udc\n",
    "# omega_z_2 = 2*kappa_simion*C_e/(m_Ca*d0**2) * Udc\n",
    "omega_x_2 = ( beta_guess*Omega/2 )**2\n",
    "omega_r_2 = omega_x_2 - 0.5*omega_z_2\n",
    "\n",
    "qx = 4*C_e*Urf/(m_Ca*r0**2*Omega**2)\n",
    "ax = 8*C_e*0/(m_Ca*r0**2*Omega**2)\n",
    "az = 2*omega_z_2/Omega**2\n",
    "\n",
    "print('alpha =',omega_z_2/omega_r_2)\n",
    "print('qx =',qx)\n",
    "print('ax =',ax)\n",
    "print('az =',az)\n",
    "print('f_z =',sqrt(omega_z_2)/2/pi)\n",
    "print('f_x =',sqrt(omega_x_2)/2/pi)\n",
    "print('f_r =',sqrt(omega_r_2)/2/pi)"
   ]
  },
  {
   "cell_type": "code",
   "execution_count": 68,
   "metadata": {},
   "outputs": [
    {
     "name": "stdout",
     "output_type": "stream",
     "text": [
      "$0.54$ & $0.56$ & $0.58$ & $0.60$ & $0.62$ & $0.64$ & $0.66$ & $0.68$ & $0.70$ & \n",
      "\n",
      "$5.55x10^2$ & $6.04x10^2$ & $6.56x10^2$ & $7.12x10^2$ & $7.71x10^2$ & $8.35x10^2$ & $9.04x10^2$ & $9.77x10^2$ & $1.05x10^1$ & "
     ]
    }
   ],
   "source": [
    "for i,j in enumerate(q):\n",
    "    exposant = f'{j:.3e}'[8:]\n",
    "    print(f'${j:.2f}$'+' & ',end='')\n",
    "print('\\n')\n",
    "for i,j in enumerate(az):\n",
    "    exposant = f'{j:.3e}'[8:]\n",
    "    print(f'${j:.3e}'[:5]+f'x10^{exposant}$'+' & ',end='')"
   ]
  },
  {
   "cell_type": "code",
   "execution_count": 100,
   "metadata": {},
   "outputs": [
    {
     "name": "stdout",
     "output_type": "stream",
     "text": [
      "q = 0.6399675068194097\n",
      "Urf = 65.7\n",
      "non adiab 0.5006446887349815\n",
      "adiab     0.45252536381105274\n",
      "alpha = 0.1734266162346914\n",
      "qx = 0.6399675068194097\n",
      "ax = 0.0\n",
      "az = 0.02\n",
      "f_z = 200000.0\n",
      "f_x = 500644.68873498146\n",
      "f_r = 480255.2491733396\n"
     ]
    }
   ],
   "source": [
    "Urf = 6.57*1e1\n",
    "Udc = 4\n",
    "# Urf = 10.266\n",
    "# Udc = 0.3346\n",
    "q = Urf/( (m_Ca*r0**2*Omega**2)/( 4*C_e) )\n",
    "print('q =',q)\n",
    "print('Urf =',Urf)\n",
    "beta_guess = 0.4\n",
    "a = 0\n",
    "for k in range(750):\n",
    "    beta_guess = beta_continue_alamano(a,q,beta_guess)\n",
    "    beta_guess = sqrt(beta_guess)\n",
    "#     print(beta_guess)\n",
    "print('non adiab',beta_guess)\n",
    "print('adiab    ',sqrt(a+q**2/2))\n",
    "\n",
    "omega_z_2 = 2*kappa_simion*C_e/(m_Ca*d0**2) * Udc\n",
    "omega_x_2 = ( beta_guess*Omega/2 )**2\n",
    "omega_r_2 = omega_x_2 - 0.5*omega_z_2\n",
    "\n",
    "qx = 4*C_e*Urf/(m_Ca*r0**2*Omega**2)\n",
    "ax = 8*C_e*0/(m_Ca*r0**2*Omega**2)\n",
    "az = 2*omega_z_2/Omega**2\n",
    "\n",
    "print('alpha =',omega_z_2/omega_r_2)\n",
    "print('qx =',qx)\n",
    "print('ax =',ax)\n",
    "print('az =',az)\n",
    "print('f_z =',sqrt(omega_z_2)/2/pi)\n",
    "print('f_x =',sqrt(omega_x_2)/2/pi)\n",
    "print('f_r =',sqrt(omega_r_2)/2/pi)"
   ]
  },
  {
   "cell_type": "code",
   "execution_count": 9,
   "metadata": {},
   "outputs": [
    {
     "name": "stdout",
     "output_type": "stream",
     "text": [
      "20.897685901143642 2.410659528049719\n"
     ]
    }
   ],
   "source": [
    "# voltages for spherical cloud\n",
    "q   = 0.195001943188\n",
    "Urf = m_Ca*r0**2*Omega**2/(4*C_e)*q\n",
    "Udc = d0**2/r0**4*(C_e/(kappa_simion*m_Ca*Omega**2))*Urf**2\n",
    "print(Urf,Udc)"
   ]
  },
  {
   "cell_type": "code",
   "execution_count": null,
   "metadata": {},
   "outputs": [],
   "source": []
  },
  {
   "cell_type": "code",
   "execution_count": 56,
   "metadata": {},
   "outputs": [
    {
     "name": "stdout",
     "output_type": "stream",
     "text": [
      "[0.1 0.2 0.3 0.4 0.5 0.6 0.7 0.8 0.9]\n"
     ]
    }
   ],
   "source": [
    "q = linspace(0,1.5,500)\n",
    "\n",
    "a0 = -0.5*q**2 + 7*q**4/128 - 29*q**6/2304 + 68687*q**8/18874368\n",
    "b1 = 1 - q - q**2/8 + q**3/64 - q**4/1536 - 11*q**5/36864 + 49*q**6/589824 - 55*q**7/9437184 - 83*q**8/3539440\n",
    "\n",
    "nutest = linspace(0.1,0.9,9)\n",
    "print(nutest)\n",
    "a = []\n",
    "for nu in nutest:\n",
    "    a.append( nu**2 + q**2/(2*(nu**2-1)) + (5*nu**2+7)*q**4/(32*(nu**2-1)**3*(nu**2-4)) + (9*nu**4+58*nu**2+29)*q**6/(64*(nu**2-1)**5*(nu**2-4)*(nu**2-9)) )"
   ]
  },
  {
   "cell_type": "code",
   "execution_count": 57,
   "metadata": {},
   "outputs": [],
   "source": [
    "# plot with complicated scan plot only crystal part at the end\n",
    "\n",
    "fig = figure('stab_diag',clear='True')\n",
    "ax = fig.add_subplot(1, 1, 1)\n",
    "fig.set_size_inches(11.69,8.27)\n",
    "\n",
    "\n",
    "ax.plot(q,a0,'-',color='k',label=r'$\\Phi_z^{\\mathrm{quad}}$ Quadratic pot.',lw=2)\n",
    "ax.plot(q,b1,'-',color='k',label='$\\Phi_z^{\\mathrm{GM}}$ GiantMol axial pot.',lw=2)\n",
    "# ax.plot(q,-a0,'-',color='k',label=r'$\\Phi_z^{\\mathrm{quad}}$ Quadratic pot.',lw=2)\n",
    "# ax.plot(q,-b1,'-',color='k',label='$\\Phi_z^{\\mathrm{GM}}$ GiantMol axial pot.',lw=2)\n",
    "\n",
    "for k in range(len(nutest)):\n",
    "    ax.plot(q,a[k],color='k',ls=':')\n",
    "\n",
    "ax.xaxis.set_major_locator(matplotlib.ticker.MultipleLocator(base=0.2))\n",
    "# text(-0.83, 8000, f'FWHM = ${2*sqrt(2*log(2)) * sig[to_plot] * 1000:.2f}$ MHz\\n        T = {temperature:.2f} K',\n",
    "# rotation=0,\n",
    "# horizontalalignment='left',\n",
    "# verticalalignment='bottom',\n",
    "# color='xkcd:vermillion',\n",
    "# fontsize=17,\n",
    "#      bbox=dict(facecolor='white'))\n",
    "\n",
    "ax.set_xlim(-0.02,1.51)\n",
    "ax.set_ylim(-1.05,1.05)\n",
    "# ax.set_xlabel(r'$z$ [mm]')\n",
    "# ax.set_ylabel('$U_{pot}$ [eV]')\n",
    "# ax.legend(fontsize=16)\n",
    "\n",
    "ax.grid()\n",
    "tight_layout()\n",
    "\n",
    "# savefig('pot_compare_x1',dpi=300)"
   ]
  },
  {
   "cell_type": "code",
   "execution_count": 39,
   "metadata": {},
   "outputs": [
    {
     "name": "stdout",
     "output_type": "stream",
     "text": [
      "2.1847603706437155\n"
     ]
    },
    {
     "name": "stderr",
     "output_type": "stream",
     "text": [
      "/tmp/ipykernel_237210/1034454679.py:5: RuntimeWarning: invalid value encountered in sqrt\n",
      "  fact_alpha = sqrt(alpha**(-2)-1)\n"
     ]
    }
   ],
   "source": [
    "# spherical cloud\n",
    "alpha = 108/55\n",
    "\n",
    "alpha_fact = sqrt(1-alpha**(-2))\n",
    "fact_alpha = sqrt(alpha**(-2)-1)\n",
    "if alpha<1:\n",
    "    omegaz2_sur_omegau2 = -2*( math.asinh(fact_alpha) - alpha*fact_alpha ) / ( math.asinh(fact_alpha) - alpha**(-1)*fact_alpha)\n",
    "else:\n",
    "    omegaz2_sur_omegau2 = -2*( math.asin(alpha_fact) - alpha*alpha_fact ) / ( math.asin(alpha_fact) - alpha**(-1)*alpha_fact)\n",
    "print(omegaz2_sur_omegau2)"
   ]
  },
  {
   "cell_type": "markdown",
   "metadata": {},
   "source": [
    "# TADOTI"
   ]
  },
  {
   "cell_type": "code",
   "execution_count": null,
   "metadata": {},
   "outputs": [],
   "source": [
    "r0=3.93e-3 # 2.5e-3\n",
    "d0=21e-2/2\n",
    "\n",
    "Omega=5.215e6*2*pi # 2.047e6\n",
    "\n",
    "mkappa = 9.6*1e-4"
   ]
  },
  {
   "cell_type": "code",
   "execution_count": null,
   "metadata": {},
   "outputs": [],
   "source": [
    "Udc = 1200\n",
    "Urf = 830/4\n",
    "omega_z_2 = 2*C_e*mkappa*Udc/m_Ca/d0**2\n",
    "omega_x_2 = 2*(C_e*Urf/m_Ca/Omega/r0**2)**2\n",
    "omega_r_2 = omega_x_2 - 0.5*omega_z_2\n",
    "\n",
    "qx = 4*C_e*Urf/(m_Ca*r0**2*Omega**2)\n",
    "az = 2*omega_z_2/Omega**2\n",
    "\n",
    "print('alpha =',omega_z_2/omega_x_2)\n",
    "print('qx =',qx)\n",
    "print('ax =',ax)\n",
    "print('az =',az)\n",
    "print('f_z =',sqrt(omega_z_2)/2/pi)\n",
    "print('f_x =',sqrt(omega_x_2)/2/pi)\n",
    "print('f_r =',sqrt(omega_r_2)/2/pi)"
   ]
  },
  {
   "cell_type": "code",
   "execution_count": null,
   "metadata": {},
   "outputs": [],
   "source": []
  }
 ],
 "metadata": {
  "kernelspec": {
   "display_name": "Python 3 (ipykernel)",
   "language": "python",
   "name": "python3"
  },
  "language_info": {
   "codemirror_mode": {
    "name": "ipython",
    "version": 3
   },
   "file_extension": ".py",
   "mimetype": "text/x-python",
   "name": "python",
   "nbconvert_exporter": "python",
   "pygments_lexer": "ipython3",
   "version": "3.10.4"
  }
 },
 "nbformat": 4,
 "nbformat_minor": 4
}
