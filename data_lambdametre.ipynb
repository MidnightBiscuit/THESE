{
 "cells": [
  {
   "cell_type": "code",
   "execution_count": 1,
   "metadata": {},
   "outputs": [
    {
     "name": "stdout",
     "output_type": "stream",
     "text": [
      "Using matplotlib backend: TkAgg\n",
      "Populating the interactive namespace from numpy and matplotlib\n"
     ]
    }
   ],
   "source": [
    "%pylab"
   ]
  },
  {
   "cell_type": "code",
   "execution_count": 2,
   "metadata": {},
   "outputs": [],
   "source": [
    "from matplotlib import cm\n",
    "matplotlib.rcParams['figure.figsize'] = [10.5,7]\n",
    "matplotlib.rcParams.update({'font.size': 20})"
   ]
  },
  {
   "cell_type": "markdown",
   "metadata": {},
   "source": [
    "# Extraction de données"
   ]
  },
  {
   "cell_type": "code",
   "execution_count": 3,
   "metadata": {},
   "outputs": [],
   "source": [
    "filename=[]"
   ]
  },
  {
   "cell_type": "code",
   "execution_count": 124,
   "metadata": {},
   "outputs": [
    {
     "name": "stdout",
     "output_type": "stream",
     "text": [
      "('/home/adrien/Documents/Mesures/Stabilite_423/28_10_2022_423_stab.lta',)\n"
     ]
    }
   ],
   "source": [
    "# sélection des fichiers (Python 3)\n",
    "import tkinter as tk\n",
    "from tkinter import filedialog\n",
    "\n",
    "root = tk.Tk()\n",
    "root.withdraw()\n",
    "\n",
    "file_path = filedialog.askopenfilename(initialdir = '/home/adrien/Documents/Mesures',multiple=True)\n",
    "print(file_path)"
   ]
  },
  {
   "cell_type": "code",
   "execution_count": 125,
   "metadata": {},
   "outputs": [],
   "source": [
    "filename=file_path\n",
    "m=len(filename)\n",
    "n=len(loadtxt(filename[0],\n",
    "              usecols=(0),skiprows=1,\n",
    "              unpack=True,delimiter='\\t'))\n",
    "shape=(m,n)\n",
    "# Temps, PM, Tension Pzt bleu\n",
    "TP = zeros(shape)\n",
    "WAVE = zeros(shape)\n",
    "POWER = zeros(shape)\n",
    "for k in range(0,len(filename),1):\n",
    "    TP[:][k],WAVE[:][k],POWER[:][k] = loadtxt('%s' %filename[k],\n",
    "                                              usecols=(0,1,2),skiprows=1,\n",
    "                                              delimiter='\\t',unpack=True)"
   ]
  },
  {
   "cell_type": "code",
   "execution_count": 83,
   "metadata": {},
   "outputs": [
    {
     "data": {
      "text/plain": [
       "array([[422.791619, 422.791619, 422.791618, ..., 422.791588, 422.791588,\n",
       "        422.791588]])"
      ]
     },
     "execution_count": 83,
     "metadata": {},
     "output_type": "execute_result"
    }
   ],
   "source": [
    "WAVE"
   ]
  },
  {
   "cell_type": "code",
   "execution_count": 110,
   "metadata": {},
   "outputs": [],
   "source": [
    "c = 299792458\n",
    "n = 1.0002818\n",
    "FREQ = c/(WAVE*1e-9)\n",
    "FREQ0 = 709.07850"
   ]
  },
  {
   "cell_type": "code",
   "execution_count": 117,
   "metadata": {},
   "outputs": [],
   "source": [
    "# plot tickle\n",
    "\n",
    "figure('Plot power',clear='True')\n",
    "plot(TP[0]*1e-3/60,POWER[0])\n",
    "# plot(freq[1000-2:-1],PM[1],'r')\n",
    "xlabel('time [min]')\n",
    "ylabel('Power [µW]')\n",
    "# xlim(0.35,37.55)\n",
    "ylim(5.8,10.5)\n",
    "grid()\n",
    "plt.tight_layout()\n",
    "\n",
    "# plot tickle\n",
    "\n",
    "figure('Plot freq',clear='True')\n",
    "plot(TP[0]*1e-3/60,(FREQ[0]*1e-12-FREQ0)*1e6)\n",
    "# plot(freq[1000-2:-1],PM[1],'r')\n",
    "xlabel('time [min]')\n",
    "ylabel(f'freq - {FREQ0*1e6:.0f} [MHz]')\n",
    "# xlim(0.35,37.55)\n",
    "ylim((709.07852-FREQ0)*1e6,(709.07858-FREQ0)*1e6)\n",
    "grid()\n",
    "plt.tight_layout()"
   ]
  },
  {
   "cell_type": "code",
   "execution_count": 119,
   "metadata": {},
   "outputs": [
    {
     "name": "stdout",
     "output_type": "stream",
     "text": [
      "('/home/adrien/Documents/Mesures/Stabilite_423/40K_2003.CSV',)\n"
     ]
    }
   ],
   "source": [
    "# sélection des fichiers (Python 3)\n",
    "import tkinter as tk\n",
    "from tkinter import filedialog\n",
    "\n",
    "root = tk.Tk()\n",
    "root.withdraw()\n",
    "\n",
    "file_path_oscillo = filedialog.askopenfilename(initialdir = '/home/adrien/Documents/Mesures',multiple=True)\n",
    "print(file_path_oscillo)"
   ]
  },
  {
   "cell_type": "code",
   "execution_count": 127,
   "metadata": {},
   "outputs": [],
   "source": [
    "filename_oscillo=file_path_oscillo\n",
    "m=len(filename_oscillo)\n",
    "n=len(loadtxt(filename_oscillo[0],\n",
    "              usecols=(0),skiprows=1,\n",
    "              unpack=True,delimiter=','))\n",
    "shape=(m,n)\n",
    "# Temps, PM, Tension Pzt bleu\n",
    "TP_oscillo = zeros(shape)\n",
    "POWER_oscillo = zeros(shape)\n",
    "for k in range(0,len(filename),1):\n",
    "    TP_oscillo[k],POWER_oscillo[k] = loadtxt('%s' %filename_oscillo[k],\n",
    "                                              usecols=(0,1),skiprows=1,\n",
    "                                              delimiter=',',unpack=True)"
   ]
  },
  {
   "cell_type": "code",
   "execution_count": 128,
   "metadata": {},
   "outputs": [],
   "source": [
    "# plot tickle\n",
    "\n",
    "figure('Plot power oscillo',clear='True')\n",
    "plot(TP_oscillo[0]*1e-3/60,POWER_oscillo[0])\n",
    "# plot(freq[1000-2:-1],PM[1],'r')\n",
    "xlabel('time [min]')\n",
    "ylabel('Power [µW]')\n",
    "# xlim(0.35,37.55)\n",
    "# ylim(5.8,10.5)\n",
    "grid()\n",
    "plt.tight_layout()"
   ]
  }
 ],
 "metadata": {
  "kernelspec": {
   "display_name": "Python 3 (ipykernel)",
   "language": "python",
   "name": "python3"
  },
  "language_info": {
   "codemirror_mode": {
    "name": "ipython",
    "version": 3
   },
   "file_extension": ".py",
   "mimetype": "text/x-python",
   "name": "python",
   "nbconvert_exporter": "python",
   "pygments_lexer": "ipython3",
   "version": "3.10.6"
  }
 },
 "nbformat": 4,
 "nbformat_minor": 1
}
