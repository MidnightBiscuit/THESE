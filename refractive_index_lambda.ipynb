{
 "cells": [
  {
   "cell_type": "code",
   "execution_count": 1,
   "id": "4da0742f",
   "metadata": {},
   "outputs": [
    {
     "name": "stdout",
     "output_type": "stream",
     "text": [
      "Using matplotlib backend: TkAgg\n",
      "Populating the interactive namespace from numpy and matplotlib\n"
     ]
    }
   ],
   "source": [
    "%pylab"
   ]
  },
  {
   "cell_type": "code",
   "execution_count": 7,
   "id": "4119daad",
   "metadata": {},
   "outputs": [],
   "source": [
    "c = 299792458\n",
    "\n",
    "lam  = np.array([396.88445,632.81647,793.69973,866.21318])*1e-9\n",
    "freq = np.array([755.15080,473.61214,377.61134,346.00045])*1e12\n",
    "\n",
    "n = c/lam/freq"
   ]
  },
  {
   "cell_type": "code",
   "execution_count": 10,
   "id": "3165a88e",
   "metadata": {},
   "outputs": [
    {
     "data": {
      "text/plain": [
       "array([1.0002831 , 1.00027659, 1.00027506, 1.00027463])"
      ]
     },
     "execution_count": 10,
     "metadata": {},
     "output_type": "execute_result"
    }
   ],
   "source": [
    "n # at 24.6 °C, 1001 mbar"
   ]
  },
  {
   "cell_type": "code",
   "execution_count": 11,
   "id": "06c5ccfc",
   "metadata": {},
   "outputs": [
    {
     "data": {
      "text/plain": [
       "396.849865"
      ]
     },
     "execution_count": 11,
     "metadata": {},
     "output_type": "execute_result"
    }
   ],
   "source": [
    "793.69973/2"
   ]
  }
 ],
 "metadata": {
  "kernelspec": {
   "display_name": "Python 3 (ipykernel)",
   "language": "python",
   "name": "python3"
  },
  "language_info": {
   "codemirror_mode": {
    "name": "ipython",
    "version": 3
   },
   "file_extension": ".py",
   "mimetype": "text/x-python",
   "name": "python",
   "nbconvert_exporter": "python",
   "pygments_lexer": "ipython3",
   "version": "3.10.4"
  }
 },
 "nbformat": 4,
 "nbformat_minor": 5
}
