{
 "cells": [
  {
   "cell_type": "code",
   "execution_count": 1,
   "metadata": {},
   "outputs": [],
   "source": [
    "import numpy\n",
    "import matplotlib\n",
    "from matplotlib import pylab, mlab, pyplot\n",
    "from mpl_toolkits.mplot3d import Axes3D\n",
    "np = numpy\n",
    "plt = pyplot\n",
    "\n",
    "from pylab import *\n",
    "from numpy import *"
   ]
  },
  {
   "cell_type": "code",
   "execution_count": 2,
   "metadata": {},
   "outputs": [],
   "source": [
    "from matplotlib import cm\n",
    "from scipy.optimize import curve_fit\n",
    "from scipy.signal import argrelextrema"
   ]
  },
  {
   "cell_type": "code",
   "execution_count": 3,
   "metadata": {},
   "outputs": [],
   "source": [
    "%matplotlib qt\n",
    "matplotlib.rcParams['figure.figsize'] = [10.5,7]\n",
    "matplotlib.rcParams.update({'font.size': 20})"
   ]
  },
  {
   "cell_type": "code",
   "execution_count": 216,
   "metadata": {},
   "outputs": [],
   "source": [
    "%run /home/adrian/Documents/Programmes/Python/GiantMol/Functions/turbo_colormap.py"
   ]
  },
  {
   "cell_type": "code",
   "execution_count": 740,
   "metadata": {},
   "outputs": [],
   "source": [
    "# pas top pour avoir cov avec barre erreur\n",
    "def lin_fit(y1,y2,deg):\n",
    "    p=polyfit(y1,y2,deg) # obtention coefficients fit\n",
    "    return poly1d(p) # génération fonction\n",
    "def sqrt_fit(x,a):\n",
    "    return a*sqrt(x)"
   ]
  },
  {
   "cell_type": "code",
   "execution_count": 241,
   "metadata": {},
   "outputs": [
    {
     "name": "stdout",
     "output_type": "stream",
     "text": [
      "$\\kappa_{simion}$ = 0.270471\n"
     ]
    }
   ],
   "source": [
    "# Constantes de la physique\n",
    "# ABSOLUMENT RECHARGER APRÈS AVOIR EXECUTÉ LES CASES D'IMPORT AU DESSUS\n",
    "\n",
    "C_e = 1.602e-19        # Coulomb\n",
    "kb = 1.38064852*1e-23  # Boltzman\n",
    "m_Ca = 40.078*1.66054e-27 # masse Ca 40.078\n",
    "m_GM = 1e6*1.66054e-27 # la masse de la GMol\n",
    "eps0 = 8.854187*1e-12  # permittivité électrique du vide\n",
    "\n",
    "\n",
    "r0 = 2.5e-3 # 2.5e-3   # rayon piège Ca+\n",
    "d0 = (4e-3)/2            # longueur piège Ca+\n",
    "Omega = 2.045e6*2*pi # 2.047e6\n",
    "bk = 4 # nombre de barreaux par groupe (2 -> 4-pole , 4 -> 8-pole ...)\n",
    "\n",
    "mkappa = 0.23          # écrantage piège réel GiantMol\n",
    "wzLC = (2*pi*90806.9982303)**2\n",
    "kappa_simion = m_Ca*d0**2*wzLC/(2*C_e)\n",
    "print('%s = %f' % ('$\\kappa_{simion}$',kappa_simion) )\n",
    "\n",
    "zeta = kappa_simion*r0**2/d0**2"
   ]
  },
  {
   "cell_type": "code",
   "execution_count": 628,
   "metadata": {},
   "outputs": [
    {
     "name": "stdout",
     "output_type": "stream",
     "text": [
      "alpha = 0.10911114997473066\n",
      "qx = 0.35062245886699417\n",
      "ax = 0.0\n",
      "az = 0.0033534250473806\n",
      "f_z = 83738.00625693168\n",
      "f_x = 253505.88746292892\n",
      "f_r = 246493.82980598966\n"
     ]
    }
   ],
   "source": [
    "Udc = 1\n",
    "Urf = 150.3/4\n",
    "omega_z_2 = 2*C_e*mkappa*Udc/m_Ca/d0**2\n",
    "omega_z_2_simion = 2*C_e*kappa_simion*Udc/m_Ca/d0**2\n",
    "omega_x_2 = 2*(C_e*Urf/m_Ca/Omega/r0**2)**2\n",
    "omega_r_2 = omega_x_2 - 0.5*omega_z_2\n",
    "\n",
    "qx = 4*C_e*Urf/(m_Ca*r0**2*Omega**2)\n",
    "ax = 8*C_e*0/(m_Ca*r0**2*Omega**2)\n",
    "az = 2*omega_z_2/Omega**2\n",
    "\n",
    "print('alpha =',omega_z_2/omega_x_2)\n",
    "print('qx =',qx)\n",
    "print('ax =',ax)\n",
    "print('az =',az)\n",
    "print('f_z =',sqrt(omega_z_2)/2/pi)\n",
    "print('f_x =',sqrt(omega_x_2)/2/pi)\n",
    "print('f_r =',sqrt(omega_r_2)/2/pi)"
   ]
  },
  {
   "cell_type": "code",
   "execution_count": 5,
   "metadata": {},
   "outputs": [],
   "source": [
    "# # Mathieu Barre erreur\n",
    "# # on peut lui donner barre erreur pour calcul variance\n",
    "# def function_(x,a,b) :\n",
    "#     return cos(a*x+b)*rand(1)*x\n",
    "# x=arange(0,10,0.1)\n",
    "# A = rand(1)\n",
    "# B=0.2*rand(1)\n",
    "# to_fit = function_(x,A,B) # pts xp\n",
    "# fit_ , pcov = curve_fit(function_,x,to_fit,p0=[A,B]) # le fit\n",
    "# ERR_fit = np.sqrt(np.diag(pcov)) # 1sigma variance\n",
    "# figure('function_').clf()\n",
    "# plt.plot(x,to_fit,label='data')\n",
    "# plt.errorbar(x,function_(x,fit_[0],fit_[1]),yerr=ERR_fit[0],label='FIT')\n",
    "# plt.legend()"
   ]
  },
  {
   "cell_type": "markdown",
   "metadata": {},
   "source": [
    "# Extraction de données"
   ]
  },
  {
   "cell_type": "code",
   "execution_count": 6,
   "metadata": {},
   "outputs": [
    {
     "name": "stdout",
     "output_type": "stream",
     "text": [
      "('/home/adrian/Documents/Mesures/GiantMol_Ions/20180503/vardc/tickle_150-3vpp_2100mv_167k_367k_000.dat', '/home/adrian/Documents/Mesures/GiantMol_Ions/20180503/vardc/tickle_150-3vpp_2300mv_167k_367k_001.dat', '/home/adrian/Documents/Mesures/GiantMol_Ions/20180503/vardc/tickle_150-3vpp_2500mv_167k_367k_001.dat', '/home/adrian/Documents/Mesures/GiantMol_Ions/20180503/vardc/tickle_150-3vpp_2700mv_167k_367k_000.dat', '/home/adrian/Documents/Mesures/GiantMol_Ions/20180503/vardc/tickle_150-3vpp_2900mv_167k_367k_000.dat', '/home/adrian/Documents/Mesures/GiantMol_Ions/20180503/vardc/tickle_150-3vpp_3100mv_167k_367k_001.dat', '/home/adrian/Documents/Mesures/GiantMol_Ions/20180503/vardc/tickle_150-3vpp_3300mv_167k_367k_001.dat', '/home/adrian/Documents/Mesures/GiantMol_Ions/20180503/vardc/tickle_150-3vpp_3500mv_167k_367k_001.dat')\n"
     ]
    }
   ],
   "source": [
    "# sélection des fichiers (Python 3)\n",
    "import tkinter as tk\n",
    "from tkinter import filedialog\n",
    "\n",
    "root = tk.Tk()\n",
    "root.withdraw()\n",
    "\n",
    "file_path = filedialog.askopenfilename(initialdir = '/home/adrian/Documents/Mesures',multiple=True)\n",
    "print(file_path)\n",
    "# /home/adrian/Documents/Mesures/20180503/"
   ]
  },
  {
   "cell_type": "code",
   "execution_count": 22,
   "metadata": {},
   "outputs": [],
   "source": [
    "filename=file_path\n",
    "# Temps, PM, Tension Pzt bleu\n",
    "TP = zeros((len(filename),999))\n",
    "PM = zeros((len(filename),999),int)\n",
    "VB = zeros((len(filename),999))\n",
    "for k in range(0,len(filename),1):\n",
    "    TP[:][k],PM[:][k],VB[:][k] = loadtxt('%s' %filename[k],usecols=(0,1,3),unpack=True)"
   ]
  },
  {
   "cell_type": "code",
   "execution_count": 19,
   "metadata": {},
   "outputs": [
    {
     "name": "stdout",
     "output_type": "stream",
     "text": [
      "20180503/vardc/tickle_150-3vpp_2100mv_167k_367k_00\n",
      "20180503/vardc/tickle_150-3vpp_2300mv_167k_367k_00\n",
      "20180503/vardc/tickle_150-3vpp_2500mv_167k_367k_00\n",
      "20180503/vardc/tickle_150-3vpp_2700mv_167k_367k_00\n",
      "20180503/vardc/tickle_150-3vpp_2900mv_167k_367k_00\n",
      "20180503/vardc/tickle_150-3vpp_3100mv_167k_367k_00\n",
      "20180503/vardc/tickle_150-3vpp_3300mv_167k_367k_00\n",
      "20180503/vardc/tickle_150-3vpp_3500mv_167k_367k_00\n",
      "7k_\n"
     ]
    }
   ],
   "source": [
    "for k in range(0,len(file_path)):\n",
    "    print(file_path[k][45:95])\n",
    "print(file_path[1][90:93])"
   ]
  },
  {
   "cell_type": "code",
   "execution_count": 100,
   "metadata": {
    "scrolled": true
   },
   "outputs": [
    {
     "name": "stdout",
     "output_type": "stream",
     "text": [
      "215 765\n"
     ]
    }
   ],
   "source": [
    "# MARCHE TRES TRES TRES TRES TRES BIEN !!!!!\n",
    "cm = pylab.get_cmap('jet')\n",
    "freq=linspace(167,367,len(PM[0]))\n",
    "toto = zeros((len(file_path),25))\n",
    "min_lim = (210-167)*5\n",
    "max_lim = (320-167)*5\n",
    "print(min_lim,max_lim)\n",
    "for k in range(0,len(file_path)):\n",
    "    longueur = len(np.array(argrelextrema(PM[k][min_lim:max_lim],less,order=25,axis=0)[0]))\n",
    "    toto[k,:longueur] = np.array(argrelextrema(PM[k][min_lim:max_lim],less,order=25,axis=0)[0])*0.2+210\n",
    "\n",
    "test_min = toto"
   ]
  },
  {
   "cell_type": "code",
   "execution_count": 413,
   "metadata": {},
   "outputs": [],
   "source": [
    "# true_min=[]\n",
    "# for k in range(0,len(file_path)):\n",
    "#     temp_min=[]\n",
    "#     for l in range(0,3):\n",
    "#         idx = argmin(asarray(test_min[0])[:])\n",
    "#         temp_min.append(idx)\n",
    "#         delete(test_min,idx)\n",
    "#     true_min.append(temp_min)\n",
    "# print(true_min)\n",
    "figure('Plot tickle blabl')\n",
    "clf()\n",
    "\n",
    "for to_plot in range(0,len(file_path)):\n",
    "    subplot(4,2,to_plot+1)\n",
    "    \n",
    "    title('UDC = '+ file_path[to_plot][76:80] + ' V ')\n",
    "#     title('UDC = '+ file_path[to_plot][65:73] + ' V : ' + file_path[to_plot][90:93])\n",
    "\n",
    "    plot(freq[0:len(PM[to_plot])],PM[to_plot],color = cm(1.*to_plot/len(file_path)))\n",
    "    plt.vlines(x=trim_zeros(toto[to_plot,:]),ymin = 0,ymax = 12000,\n",
    "               linestyle = ':',color = cm(1.*k/len(file_path)))\n",
    "\n",
    "    for k in range(0,2*len(file_path)):\n",
    "        long = trim_zeros(toto[to_plot,:])\n",
    "        plt.text(toto[to_plot,k],10000,k,fontsize=10,ha='center')\n",
    "    \n",
    "    grid()\n",
    "    \n",
    "tight_layout()"
   ]
  },
  {
   "cell_type": "code",
   "execution_count": 418,
   "metadata": {},
   "outputs": [],
   "source": [
    "# true_min=[]\n",
    "# for k in range(0,len(file_path)):\n",
    "#     temp_min=[]\n",
    "#     for l in range(0,3):\n",
    "#         idx = argmin(asarray(test_min[0])[:])\n",
    "#         temp_min.append(idx)\n",
    "#         delete(test_min,idx)\n",
    "#     true_min.append(temp_min)\n",
    "# print(true_min)\n",
    "figure('Plot tickle blabl single')\n",
    "clf()\n",
    "to_plot = 7\n",
    "subplot(111)\n",
    "\n",
    "title('UDC = '+ file_path[to_plot][76:80] + ' V ')\n",
    "#     title('UDC = '+ file_path[to_plot][65:73] + ' V : ' + file_path[to_plot][90:93])\n",
    "\n",
    "plot(freq[0:len(PM[to_plot])],PM[to_plot],color = cm(1.*to_plot/len(file_path)))\n",
    "plt.vlines(x=trim_zeros(toto[to_plot,:]),ymin = 0,ymax = 75000,\n",
    "           linestyle = ':',color = cm(1.*k/len(file_path)))\n",
    "\n",
    "\n",
    "for k in range(0,2*len(file_path)):\n",
    "    long = trim_zeros(toto[to_plot,:])\n",
    "    plt.text(toto[to_plot,k],10000,k,fontsize=10,ha='center')\n",
    "\n",
    "grid()\n",
    "    \n",
    "tight_layout()"
   ]
  },
  {
   "cell_type": "code",
   "execution_count": 11,
   "metadata": {},
   "outputs": [
    {
     "data": {
      "text/plain": [
       "('/home/adrian/Documents/Mesures/GiantMol_Ions/20180503/tickle_120-8vpp_2500mv_167k_367k_000.dat',\n",
       " '/home/adrian/Documents/Mesures/GiantMol_Ions/20180503/tickle_129-8vpp_2500mv_167k_367k_000.dat',\n",
       " '/home/adrian/Documents/Mesures/GiantMol_Ions/20180503/tickle_129-9vpp_2500mv_167k_367k_000.dat',\n",
       " '/home/adrian/Documents/Mesures/GiantMol_Ions/20180503/tickle_139-8vpp_2500mv_167k_367k_000.dat',\n",
       " '/home/adrian/Documents/Mesures/GiantMol_Ions/20180503/tickle_149-7vpp_2500mv_167k_367k_000.dat',\n",
       " '/home/adrian/Documents/Mesures/GiantMol_Ions/20180503/tickle_160-3vpp_2500mv_167k_367k_000.dat',\n",
       " '/home/adrian/Documents/Mesures/GiantMol_Ions/20180503/tickle_170-3vpp_2500mv_167k_367k_000.dat',\n",
       " '/home/adrian/Documents/Mesures/GiantMol_Ions/20180503/tickle_180-3vpp_2500mv_167k_367k_000.dat',\n",
       " '/home/adrian/Documents/Mesures/GiantMol_Ions/20180503/tickle_190-3vpp_2500mv_167k_367k_000.dat',\n",
       " '/home/adrian/Documents/Mesures/GiantMol_Ions/20180503/tickle_190-3vpp_2500mv_167k_367k_001.dat')"
      ]
     },
     "execution_count": 11,
     "metadata": {},
     "output_type": "execute_result"
    }
   ],
   "source": [
    "file_path"
   ]
  },
  {
   "cell_type": "code",
   "execution_count": 422,
   "metadata": {
    "scrolled": true
   },
   "outputs": [
    {
     "data": {
      "text/plain": [
       "[[240.0, 247.8, 266.0],\n",
       " [247.0, 251.8, 264.4],\n",
       " [244.0, 262.0, 263.8],\n",
       " [243.4, 262.0, 273.8],\n",
       " [241.8, 260.4, 284.0],\n",
       " [240.0, 259.0, 294.4],\n",
       " [238.4, 257.8, 304.6],\n",
       " [236.6, 256.2, 308.5]]"
      ]
     },
     "execution_count": 422,
     "metadata": {},
     "output_type": "execute_result"
    }
   ],
   "source": [
    "to_delete=[[0,1,5,6,7,8],\n",
    "[0,1,4,5,6,7],\n",
    "[0,1,2,5,6,7,8],\n",
    "[0,1,2,4,7,8],\n",
    "[0,1,2,6,7],\n",
    "[0,1,2,5,7],\n",
    "[0,1,2,3,5,7,9],\n",
    "[0,1,3,5,6,7]]\n",
    "\n",
    "\n",
    "\n",
    "true_test_min=[]\n",
    "for k in range(0,len(file_path)):\n",
    "    true_test_min.append(list(delete(trim_zeros(test_min[k]),to_delete[k])))\n",
    "\n",
    "true_test_min[1] = [247.0,251.8, 264.4]\n",
    "true_test_min[2] = [244.0,262.0,263.8]\n",
    "true_test_min[7][2] = 308.5\n",
    "true_test_min"
   ]
  },
  {
   "cell_type": "code",
   "execution_count": 420,
   "metadata": {},
   "outputs": [
    {
     "data": {
      "text/plain": [
       "[236.6, 256.2, 307.0]"
      ]
     },
     "execution_count": 420,
     "metadata": {},
     "output_type": "execute_result"
    }
   ],
   "source": [
    "true_test_min[7]"
   ]
  },
  {
   "cell_type": "code",
   "execution_count": 126,
   "metadata": {},
   "outputs": [
    {
     "data": {
      "text/plain": [
       "256.2"
      ]
     },
     "execution_count": 126,
     "metadata": {},
     "output_type": "execute_result"
    }
   ],
   "source": [
    "lines = zeros((3,8),dtype = int)\n",
    "lines [0,:] = [0,1,2,2,2,2,2,2] # wz\n",
    "lines [1,:] = [1,0,0,0,0,0,0,0] # wx\n",
    "lines [2,:] = [2,2,1,1,1,1,1,1] # wy\n",
    "\n",
    "w = zeros((3,8))\n",
    "for k in range(0,3):\n",
    "    for l in range(0,8):\n",
    "        w[k,l] = asarray(true_test_min)[l,lines[k,l]]\n",
    "\n",
    "asarray(true_test_min)[l,lines[k,l]]"
   ]
  },
  {
   "cell_type": "code",
   "execution_count": 735,
   "metadata": {},
   "outputs": [
    {
     "name": "stderr",
     "output_type": "stream",
     "text": [
      "/home/adrian/.local/lib/python3.6/site-packages/ipykernel_launcher.py:7: DeprecationWarning: object of type <class 'float'> cannot be safely interpreted as an integer.\n",
      "  import sys\n"
     ]
    }
   ],
   "source": [
    "def sqrt_fit_alt(x,a,b):\n",
    "    return sqrt(a-0.5*b*x)\n",
    "\n",
    "cm = pylab.get_cmap('hsv')\n",
    "fit_w = zeros((3,2))\n",
    "temp_fit_w = []\n",
    "span = linspace(2,3.6,1e4)\n",
    "\n",
    "# plot one curve\n",
    "UDC = [2.1,2.3,2.5,2.7,2.9,3.1,3.3,3.5]\n",
    "# UDC = multiply(UDC,-1)\n",
    "\n",
    "fig = figure('Interpol')\n",
    "clf()\n",
    "fig.set_size_inches(12, 7)\n",
    "\n",
    "# plot(UDC,true_test_min,'+',mew='2',ms='7')\n",
    "grid()\n",
    "\n",
    "tight_layout()\n",
    "xlabel(r'$U_{DC}$ [V]')\n",
    "ylabel('Frequency [kHz]')\n",
    "\n",
    "dy=[6,2,3]\n",
    "my_labels = [r'$2f_z$',r'$f_x$',r'$f_y$']\n",
    "for k in range(0,3):\n",
    "    errorbar(UDC,w[k],yerr=dy[k],fmt='+',mew='4',ms='12',color=cm(1.*k/3),\n",
    "             ecolor='black',elinewidth=2,capsize=0,\n",
    "            label=my_labels[k])\n",
    "    \n",
    "lin_coeff = []\n",
    "for k in range(1,3):\n",
    "    popt, pcov = curve_fit(sqrt_fit_alt,array(UDC),w[k],p0=[260**2,(1/2/pi*sqrt(2*C_e*kappa_from_fit/m_Ca/d0**2)/1000)**2])\n",
    "    lin_coeff.append(popt)\n",
    "    plot(span,sqrt_fit_alt(span,popt[0],popt[1]),linestyle='--',color=cm(1.*k/3)) # ,label='Lin. fit.'\n",
    "plt.text(2.79,245,f'$\\sqrt{{ {sqrt(lin_coeff[0][0]):3.2f}^2 - 0.5*{sqrt(lin_coeff[0][1]):4.3f}^2 \\, U_{{DC}} }}$',\n",
    "         rotation='0',color=cm(1.*1/3))\n",
    "plt.text(2.79,265,f'$\\sqrt{{ {sqrt(lin_coeff[1][0]):3.2f}^2 - 0.5*{sqrt(lin_coeff[1][1]):3.3f}^2 \\, U_{{DC}} }}$',\n",
    "         rotation='0',color=cm(1.*2/3))\n",
    "\n",
    "popt[0], pcov[0] = curve_fit(sqrt_fit, UDC,w[0])\n",
    "plot(span,sqrt_fit(span,popt[0]),linestyle='--',color=cm(1.*0/3))\n",
    "plt.text(3.0,281,f'${popt[0]:.3f}\\sqrt{{U_{{DC}}}}$',rotation='0',color=cm(1.*0/3))\n",
    "\n",
    "plot(span,sqrt_fit(span,2*sqrt(2*kappa_simion*C_e/m_Ca/d0**2))/1000/2/pi,\n",
    "     linestyle=':',color='xkcd:black',label='$2f_z$ theoretical')\n",
    "\n",
    "Urf = 150.3/4\n",
    "qx = 4*C_e/(m_Ca*r0**2*Omega**2)*Urf\n",
    "omega_z_2 = 2*C_e*kappa_simion/m_Ca/d0**2 * span\n",
    "omega_x_2 = (Omega/2 * sqrt(qx**2/2))**2\n",
    "omega_r_2 = omega_x_2 - 0.5*omega_z_2\n",
    "plot(span,sqrt(omega_r_2)/1000/2/pi,\n",
    "     linestyle=(0, (3, 10, 1, 10, 1, 10)),color='xkcd:black',label='$f_r$ theoretical')\n",
    "plt.text(2.2,225,\n",
    "         f'$\\sqrt{{ {sqrt(omega_x_2)/2/pi/1000:3.2f}^2 - 0.5*{sqrt(2*C_e*kappa_simion/m_Ca/d0**2)/2/pi/1000:3.3f}^2 \\, U_{{DC}} }}$',\n",
    "         rotation='-3.5',color='k',fontsize=17)\n",
    "plt.text(2.6,311,\n",
    "         f'${2*sqrt(2*kappa_simion*C_e/m_Ca/d0**2)/1000/2/pi:3.2f} \\sqrt{{U_{{DC}} }}$',\n",
    "         rotation='22',color='k',fontsize=17)\n",
    "# legend([r'Lin. fit. $\\omega_z$',r'Lin. fit. $\\omega_y$',r'Lin. fit. $\\omega_x$',r'$\\omega_z$',r'$\\omega_y$',r'$\\omega_x$'],ncol=2,loc='best')\n",
    "legend(loc='best')\n",
    "tight_layout()"
   ]
  },
  {
   "cell_type": "code",
   "execution_count": null,
   "metadata": {},
   "outputs": [],
   "source": [
    "# fixed fz in the omega_u fit\n",
    "\n",
    "def sqrt_fit_alt(x,a):\n",
    "    return sqrt(a-0.5*(sqrt(2*C_e*kappa_from_fit/m_Ca/d0**2)/2/pi/1000)**2*x)\n",
    "\n",
    "cm = pylab.get_cmap('hsv')\n",
    "fit_w = zeros((3,2))\n",
    "temp_fit_w = []\n",
    "span = linspace(2,3.6,1e4)\n",
    "\n",
    "# plot one curve\n",
    "UDC = [2.1,2.3,2.5,2.7,2.9,3.1,3.3,3.5]\n",
    "# UDC = multiply(UDC,-1)\n",
    "\n",
    "fig = figure('Interpol')\n",
    "clf()\n",
    "fig.set_size_inches(12, 7)\n",
    "\n",
    "# plot(UDC,true_test_min,'+',mew='2',ms='7')\n",
    "grid()\n",
    "\n",
    "tight_layout()\n",
    "xlabel(r'$U_{DC}$ [V]')\n",
    "ylabel('Frequency [kHz]')\n",
    "\n",
    "dy=[6,2,3]\n",
    "my_labels = [r'$2f_z$',r'$f_x$',r'$f_y$']\n",
    "for k in range(0,3):\n",
    "    errorbar(UDC,w[k],yerr=dy[k],fmt='+',mew='4',ms='12',color=cm(1.*k/3),\n",
    "             ecolor='black',elinewidth=2,capsize=0,\n",
    "            label=my_labels[k])\n",
    "    \n",
    "lin_coeff = []\n",
    "for k in range(1,3):\n",
    "    popt, pcov = curve_fit(sqrt_fit_alt,array(UDC),w[k],p0=[260**2])\n",
    "    lin_coeff.append(popt)\n",
    "    plot(span,sqrt_fit_alt(span,popt),linestyle='--',color=cm(1.*k/3)) # ,label='Lin. fit.'\n",
    "plt.text(2.79,245,f'$\\sqrt{{ {sqrt(lin_coeff[0][0]):3.2f}^2 - 0.5*{sqrt(2*C_e*kappa_from_fit/m_Ca/d0**2)/2/pi/1000:4.3f}^2 \\, U_{{DC}} }}$',\n",
    "         rotation='0',color=cm(1.*1/3))\n",
    "plt.text(2.79,265,f'$\\sqrt{{ {sqrt(lin_coeff[1][0]):3.2f}^2 - 0.5*{sqrt(2*C_e*kappa_from_fit/m_Ca/d0**2)/2/pi/1000:3.3f}^2 \\, U_{{DC}} }}$',\n",
    "         rotation='0',color=cm(1.*2/3))\n",
    "\n",
    "popt[0], pcov[0] = curve_fit(sqrt_fit, UDC,w[0])\n",
    "plot(span,sqrt_fit(span,popt[0]),linestyle='--',color=cm(1.*0/3))\n",
    "plt.text(3.0,281,f'${popt[0]:.3f}\\sqrt{{U_{{DC}}}}$',rotation='0',color=cm(1.*0/3))\n",
    "\n",
    "plot(span,sqrt_fit(span,2*sqrt(2*kappa_simion*C_e/m_Ca/d0**2))/1000/2/pi,\n",
    "     linestyle=':',color='xkcd:black',label='$2f_z$ theoretical')\n",
    "\n",
    "Urf = 150.3/4\n",
    "qx = 4*C_e/(m_Ca*r0**2*Omega**2)*Urf\n",
    "omega_z_2 = 2*C_e*kappa_simion/m_Ca/d0**2 * span\n",
    "omega_x_2 = (Omega/2 * sqrt(qx**2/2))**2\n",
    "omega_r_2 = omega_x_2 - 0.5*omega_z_2\n",
    "plot(span,sqrt(omega_r_2)/1000/2/pi,\n",
    "     linestyle=(0, (3, 10, 1, 10, 1, 10)),color='xkcd:black',label='$f_r$ theoretical')\n",
    "plt.text(2.2,225,\n",
    "         f'$\\sqrt{{ {sqrt(omega_x_2)/2/pi/1000:3.2f}^2 - 0.5*{sqrt(2*C_e*kappa_simion/m_Ca/d0**2)/2/pi/1000:3.3f}^2 \\, U_{{DC}} }}$',\n",
    "         rotation='-3.5',color='k',fontsize=17)\n",
    "plt.text(2.6,311,\n",
    "         f'${2*sqrt(2*kappa_simion*C_e/m_Ca/d0**2)/1000/2/pi:3.2f} \\sqrt{{U_{{DC}} }}$',\n",
    "         rotation='22',color='k',fontsize=17)\n",
    "# legend([r'Lin. fit. $\\omega_z$',r'Lin. fit. $\\omega_y$',r'Lin. fit. $\\omega_x$',r'$\\omega_z$',r'$\\omega_y$',r'$\\omega_x$'],ncol=2,loc='best')\n",
    "legend(loc='best')\n",
    "tight_layout()"
   ]
  },
  {
   "cell_type": "code",
   "execution_count": 739,
   "metadata": {},
   "outputs": [
    {
     "name": "stdout",
     "output_type": "stream",
     "text": [
      "0.22692826986753578\n"
     ]
    }
   ],
   "source": [
    "kappa_from_fit = pi**2*(popt[0]*1000)**2*m_Ca*d0**2/(2*C_e)\n",
    "print(kappa_from_fit)"
   ]
  },
  {
   "cell_type": "code",
   "execution_count": null,
   "metadata": {},
   "outputs": [],
   "source": []
  },
  {
   "cell_type": "code",
   "execution_count": 90,
   "metadata": {},
   "outputs": [
    {
     "name": "stdout",
     "output_type": "stream",
     "text": [
      "[164.15, 165.0, 164.5, 165.0, 149.95, 147.45, 145.15, 142.6]\n"
     ]
    },
    {
     "data": {
      "text/plain": [
       "array([[279.1 , 307.5 , 328.3 , 164.15],\n",
       "       [284.8 , 305.9 , 330.  , 165.  ],\n",
       "       [291.5 , 303.4 , 329.  , 164.5 ],\n",
       "       [294.5 , 301.  , 330.  , 165.  ],\n",
       "       [299.9 , 299.9 , 331.1 , 149.95],\n",
       "       [294.9 , 304.5 , 333.7 , 147.45],\n",
       "       [290.3 , 310.6 , 335.4 , 145.15],\n",
       "       [285.2 , 314.9 , 338.1 , 142.6 ]])"
      ]
     },
     "execution_count": 90,
     "metadata": {},
     "output_type": "execute_result"
    }
   ],
   "source": [
    "save_min=true_test_min\n",
    "lz=[2,2,2,2,0,0,0,0]\n",
    "wz=[]\n",
    "for k in range(0,len(file_path)):\n",
    "    wz.append(save_min[k][lz[k]]/2)\n",
    "print(wz)\n",
    "save_min=np.column_stack((save_min,wz))\n",
    "save_min"
   ]
  },
  {
   "cell_type": "code",
   "execution_count": 91,
   "metadata": {},
   "outputs": [
    {
     "name": "stderr",
     "output_type": "stream",
     "text": [
      "/home/adrian/.local/lib/python3.6/site-packages/ipykernel_launcher.py:9: DeprecationWarning: object of type <class 'float'> cannot be safely interpreted as an integer.\n",
      "  if __name__ == '__main__':\n"
     ]
    },
    {
     "name": "stdout",
     "output_type": "stream",
     "text": [
      " \n",
      "2.01 x + 219.6\n",
      " \n",
      "2.334 x + 229.1\n",
      " \n",
      "-3.044 x + 428.8\n",
      " \n",
      "-1.522 x + 214.4\n"
     ]
    }
   ],
   "source": [
    "URF=divide([120.8,129.9,139.8,147.7,160.3,170.3,180.3,190.3],4)\n",
    "lines=[[0,0,0,0,1,1,1,1], # 30 175\n",
    "       [1,1,1,1,2,2,2,2], # 30 200\n",
    "       [2,2,2,2,0,0,0,0], # 30 250 2wz\n",
    "       [3,3,3,3,3,3,3,3]] # wz\n",
    "lines=asmatrix(lines)\n",
    "\n",
    "cm2 = pylab.get_cmap('brg')\n",
    "span=linspace(29,48,1e4)\n",
    "\n",
    "fig=figure('tickle minimum')\n",
    "ax = fig.add_subplot(1, 1, 1)\n",
    "\n",
    "dy=[1,1,5,2.5]\n",
    "for k in range(0,len(file_path)): # URF\n",
    "    for l in range(0,4):\n",
    "#         plot(URF[k],asmatrix(save_min[k]),'+',color=cm(1.*k/len(file_path)),mew=2,ms=8,label='_nolegend_')\n",
    "        errorbar(URF[k],asmatrix(save_min[k,lines[l,k]]),yerr=dy[l],fmt='x',mew=1,ms=6,color='black',ecolor=cm2(1.*l/4),elinewidth=2,capsize=5,label='_nolegend_')\n",
    "#         plot(URF,wz,'+',color=cm(1.*k/len(file_path)),mew=2,ms=8)\n",
    "#         toto[k,l]=save_min.item(k,lines.item(l,k))\n",
    "#         print(save_min[k],URF[k])\n",
    "\n",
    "# plt.errorbar(URF, y, yerr=dy, fmt='o', color='black',\n",
    "#              ecolor='lightgray', elinewidth=3, capsize=0);\n",
    "    \n",
    "R=[[],[],[],[]]\n",
    "lstyle=['--', '--', ':', ':','-', '--', '-.', ':']\n",
    "for l in range(0,4):\n",
    "    lefit=[]\n",
    "    for k in range(0,len(file_path)):\n",
    "        lefit.append(save_min[k].item(lines.item(l,k)))\n",
    "    poly_fit=lin_fit(URF,lefit,1)\n",
    "    plot(span,poly_fit(span),linestyle=lstyle[l],color=cm2(1.*l/4))\n",
    "    print(poly_fit)\n",
    "    R[l]=corrcoef(URF,lefit)\n",
    "\n",
    "# font = {'family': 'sans-serif',\n",
    "#         'weight': 'normal',\n",
    "#         'size': 20,\n",
    "#         }\n",
    "# props = dict(facecolor='white', alpha=1)\n",
    "# xpos=[43.5,43.5,43.5,43.5]\n",
    "# ypos=[282,340,247,145]\n",
    "# for k in range(0,4,1):\n",
    "#     plt.text(xpos[k],ypos[k],'R = {:.4f}'.format(R[k].item(0,1)),\n",
    "#              fontdict=font,color=cm2(1.*k/4),bbox=props)\n",
    "\n",
    "ax.xaxis.set_major_locator(matplotlib.ticker.MultipleLocator(base=2.5))\n",
    "ax.yaxis.set_major_locator(matplotlib.ticker.MultipleLocator(base=25)) \n",
    "    \n",
    "legend(['$\\omega_x$','$\\omega_y$','$2\\omega_z$','$\\omega_z$'])\n",
    "    \n",
    "xlabel('$U_{RF}$')\n",
    "ylabel('Tickle frequency response (kHz)')\n",
    "grid()\n",
    "tight_layout()"
   ]
  },
  {
   "cell_type": "code",
   "execution_count": null,
   "metadata": {},
   "outputs": [],
   "source": []
  },
  {
   "cell_type": "code",
   "execution_count": 387,
   "metadata": {},
   "outputs": [
    {
     "name": "stdout",
     "output_type": "stream",
     "text": [
      "1.0002746155574564 1.0002750196393573\n"
     ]
    }
   ],
   "source": [
    "c = 299792458\n",
    "lambda_i = 866.21444*1e-9\n",
    "f_i = 345.99995*1e12\n",
    "n_i = c/lambda_i/f_i\n",
    "\n",
    "lambda_j = 793.69966*1e-9\n",
    "f_j = 377.61139*1e12\n",
    "n_j = c/lambda_j/f_j\n",
    "\n",
    "print(n_i,n_j)"
   ]
  }
 ],
 "metadata": {
  "kernelspec": {
   "display_name": "Python 3 (ipykernel)",
   "language": "python",
   "name": "python3"
  },
  "language_info": {
   "codemirror_mode": {
    "name": "ipython",
    "version": 3
   },
   "file_extension": ".py",
   "mimetype": "text/x-python",
   "name": "python",
   "nbconvert_exporter": "python",
   "pygments_lexer": "ipython3",
   "version": "3.10.6"
  }
 },
 "nbformat": 4,
 "nbformat_minor": 1
}
