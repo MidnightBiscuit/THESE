{
 "cells": [
  {
   "cell_type": "code",
   "execution_count": 1,
   "metadata": {},
   "outputs": [],
   "source": [
    "# %pylab\n",
    "\n",
    "import numpy\n",
    "import matplotlib\n",
    "from matplotlib import pylab, mlab, pyplot\n",
    "from mpl_toolkits.mplot3d import Axes3D\n",
    "np = numpy\n",
    "plt = pyplot\n",
    "\n",
    "from pylab import *\n",
    "from numpy import *"
   ]
  },
  {
   "cell_type": "code",
   "execution_count": 2,
   "metadata": {},
   "outputs": [],
   "source": [
    "import os\n",
    "from os import listdir\n",
    "from os.path import isfile, join\n",
    "\n",
    "import tkinter as tk\n",
    "from tkinter import filedialog\n",
    "%matplotlib qt\n",
    "\n",
    "from pathlib import Path"
   ]
  },
  {
   "cell_type": "code",
   "execution_count": 8,
   "metadata": {},
   "outputs": [],
   "source": [
    "from pathlib import Path\n",
    "from matplotlib import gridspec\n",
    "from mpl_toolkits.axes_grid1.inset_locator import zoomed_inset_axes\n",
    "from mpl_toolkits.axes_grid1.inset_locator import mark_inset\n",
    "from scipy.signal import savgol_filter"
   ]
  },
  {
   "cell_type": "code",
   "execution_count": 4,
   "metadata": {},
   "outputs": [
    {
     "name": "stdout",
     "output_type": "stream",
     "text": [
      "$\\kappa_{simion}$ = 0.270471\n"
     ]
    }
   ],
   "source": [
    "# Constantes de la physique\n",
    "# ABSOLUMENT RECHARGER APRÈS AVOIR EXECUTÉ LES CASES D'IMPORT AU DESSUS\n",
    "\n",
    "C_e = 1.602e-19        # Coulomb\n",
    "kb = 1.38064852*1e-23  # Boltzman\n",
    "m_Ca = 40.078*1.66054e-27 # masse Ca 40.078\n",
    "m_GM = 1e6*1.66054e-27 # la masse de la GMol\n",
    "eps0 = 8.854187*1e-12  # permittivité électrique du vide\n",
    "\n",
    "r0 = 2.5e-3 # 2.5e-3   # rayon piège Ca+\n",
    "d0 = 4e-3/2            # longueur piège Ca+\n",
    "\n",
    "Omega = 2.05e6*2*pi # 2.047e6\n",
    "\n",
    "bk = 4 # nombre de barreaux par groupe (2 -> 4-pole , 4 -> 8-pole ...)\n",
    "\n",
    "mkappa = 0.23          # écrantage piège réel GiantMol\n",
    "wzLC = (2*pi*90806.9982303)**2\n",
    "kappa_simion = m_Ca*d0**2*wzLC/(2*C_e)\n",
    "print('%s = %f' % ('$\\kappa_{simion}$',kappa_simion) )\n",
    "\n",
    "zeta = kappa_simion*r0**2/d0**2"
   ]
  },
  {
   "cell_type": "code",
   "execution_count": 78,
   "metadata": {},
   "outputs": [
    {
     "name": "stdout",
     "output_type": "stream",
     "text": [
      "203.69429819723368 229.8444025418995 249.47354704877094\n"
     ]
    }
   ],
   "source": [
    "# MB distibution\n",
    "T = 100 # K\n",
    "\n",
    "v = linspace(0,750,1000)\n",
    "MB_prob = sqrt(2/pi)*(m_Ca/kb/T)**(3/2)*v**2*exp(-m_Ca*v**2/(2*kb*T))\n",
    "MB_prob = MB_prob / max(MB_prob)\n",
    "\n",
    "v_p   = sqrt(2*kb*T/m_Ca)\n",
    "v_avg = 2/sqrt(pi)*v_p\n",
    "v_rms = sqrt(3/2)*v_p\n",
    "\n",
    "print(v_p,v_avg,v_rms)"
   ]
  },
  {
   "cell_type": "code",
   "execution_count": null,
   "metadata": {},
   "outputs": [],
   "source": []
  },
  {
   "cell_type": "code",
   "execution_count": 117,
   "metadata": {},
   "outputs": [
    {
     "name": "stdout",
     "output_type": "stream",
     "text": [
      "644.1379286927881 726.8318194729969 788.9046246352933\n",
      "203.69429819723368 229.8444025418995 249.47354704877094\n"
     ]
    }
   ],
   "source": [
    "# Plot temperature Langevin + md laser  ALL SimuType  ALL TEMP MEAN\n",
    "matplotlib.rcParams.update({'font.size': 25})\n",
    "\n",
    "#fig_name = file_name[-9:]\n",
    "figname = 'MB-distribution'\n",
    "fig1 = plt.figure(num=figname,clear='True')\n",
    "fig1.set_size_inches(11.69,8.27)\n",
    "# set height ratios for sublots\n",
    "ax1 = fig1.add_subplot(111)\n",
    "# the fisrt subplot\n",
    "\n",
    "my_color = ['xkcd:rouge','xkcd:blue']\n",
    "vmax = 2000\n",
    "vpoints = 2000\n",
    "my_T = [1000,100]\n",
    "\n",
    "MB_prob_norm = max(sqrt(2/pi)*(m_Ca/kb/my_T[1])**(3/2)*v**2*exp(-m_Ca*v**2/(2*kb*my_T[1])))\n",
    "\n",
    "for i,T in enumerate(my_T):\n",
    "    \n",
    "    v = linspace(0,vmax,vpoints)\n",
    "    MB_prob = sqrt(2/pi)*(m_Ca/kb/T)**(3/2)*v**2*exp(-m_Ca*v**2/(2*kb*T))\n",
    "    MB_prob = MB_prob / MB_prob_norm\n",
    "\n",
    "    v_p   = sqrt(2*kb*T/m_Ca)\n",
    "    v_avg = 2/sqrt(pi)*v_p\n",
    "    v_rms = sqrt(3/2)*v_p\n",
    "\n",
    "    print(v_p,v_avg,v_rms)\n",
    "\n",
    "    ax1.plot(v,MB_prob,color=my_color[i],lw=2.5,label=f'T={T} K')\n",
    "\n",
    "    ax1.vlines(v_p,0,max(MB_prob))\n",
    "    ax1.vlines(v_avg,0,MB_prob[int(v_avg/vmax*vpoints)])\n",
    "    ax1.vlines(v_rms,0,MB_prob[int(v_rms/vmax*vpoints)])\n",
    "\n",
    "    ax1.annotate('$v_p$', xy=(v_p,max(MB_prob)*1.002), xycoords='data',\n",
    "    size=25, ha='right', va='bottom', color='xkcd:black')\n",
    "\n",
    "    ax1.annotate(r'$\\langle v \\rangle$', xy=(v_avg*0.97,MB_prob[int(v_avg/vmax*vpoints)]*1.002), xycoords='data',\n",
    "    size=25, ha='left', va='bottom', color='xkcd:black')\n",
    "\n",
    "    ax1.annotate('$v_{RMS}$', xy=(v_rms*1.025,MB_prob[int(v_rms/vmax*vpoints)]*0.96), xycoords='data',\n",
    "    size=25, ha='left', va='bottom', color='xkcd:black')\n",
    "\n",
    "# ax2 = plt.subplot(gs[1], sharex = ax1)\n",
    "ax1.grid()\n",
    "ax1.set_xlabel('v [m/s]')\n",
    "ax1.set_ylabel('n')\n",
    "ax1.set_ylim(-0.02,1.065)\n",
    "ax1.legend()\n",
    "plt.tight_layout()\n",
    "# subplots_adjust(hspace=0.0,bottom=0.11,left=0.12,right=0.98,top=0.97)\n",
    "# savefig(fname = figname+'_'+re.sub('/','_',dirname_hc[31:-1])+'.png',dpi=300)\n",
    "savefig(figname+'.png',dpi=300)"
   ]
  },
  {
   "cell_type": "code",
   "execution_count": 43,
   "metadata": {},
   "outputs": [
    {
     "data": {
      "text/plain": [
       "306.0"
      ]
     },
     "execution_count": 43,
     "metadata": {},
     "output_type": "execute_result"
    }
   ],
   "source": [
    "round(v_avg/750*1000)"
   ]
  },
  {
   "cell_type": "code",
   "execution_count": 280,
   "metadata": {},
   "outputs": [
    {
     "name": "stdout",
     "output_type": "stream",
     "text": [
      "203.69429819723368 229.8444025418995 249.47354704877094\n"
     ]
    }
   ],
   "source": [
    "# Plot temperature Langevin + md laser  ALL SimuType  ALL TEMP MEAN\n",
    "matplotlib.rcParams.update({'font.size': 25})\n",
    "# Plot temperature Langevin + md laser  ALL SimuType  ALL TEMP MEAN\n",
    "matplotlib.rcParams.update({'font.size': 25})\n",
    "\n",
    "#fig_name = file_name[-9:]\n",
    "figname = 'MB_laser'\n",
    "fig1 = plt.figure(num=figname,clear='True')\n",
    "fig1.set_size_inches(11.69,8.27)\n",
    "# set height ratios for sublots\n",
    "ax1 = fig1.add_subplot(111)\n",
    "# the fisrt subplot\n",
    "\n",
    "my_color = ['xkcd:rouge','xkcd:blue']\n",
    "vmax = 750\n",
    "vpoints = 2000\n",
    "my_T = [1000,100]\n",
    "\n",
    "MB_prob_norm = max(sqrt(2/pi)*(m_Ca/kb/my_T[1])**(3/2)*v**2*exp(-m_Ca*v**2/(2*kb*my_T[1])))\n",
    "\n",
    "v = linspace(0,vmax,vpoints)\n",
    "MB_prob = sqrt(2/pi)*(m_Ca/kb/T)**(3/2)*v**2*exp(-m_Ca*v**2/(2*kb*T))\n",
    "MB_prob = MB_prob / MB_prob_norm\n",
    "\n",
    "x0 = 450\n",
    "Gamma = 11\n",
    "my_Lorentz = 1/pi*0.5*Gamma/( (v-x0)**2 + (0.5*Gamma)**2 ) * 17.3\n",
    "\n",
    "v_p   = sqrt(2*kb*T/m_Ca)\n",
    "v_avg = 2/sqrt(pi)*v_p\n",
    "v_rms = sqrt(3/2)*v_p\n",
    "\n",
    "print(v_p,v_avg,v_rms)\n",
    "\n",
    "ax1.plot(v,MB_prob,color=my_color[1],lw=2.5,label=f'MB for T={T} K')\n",
    "ax1.plot(v,my_Lorentz,color='xkcd:black',lw=2.5,label=f'Laser capture range',linestyle='--')\n",
    "\n",
    "ax1.vlines(v_p,0,max(MB_prob))\n",
    "ax1.vlines(v_avg,0,MB_prob[int(v_avg/vmax*vpoints)])\n",
    "ax1.vlines(v_rms,0,MB_prob[int(v_rms/vmax*vpoints)])\n",
    "\n",
    "ax1.annotate('$v_p$', xy=(v_p,max(MB_prob)*1.002), xycoords='data',\n",
    "size=25, ha='right', va='bottom', color='xkcd:black')\n",
    "\n",
    "ax1.annotate(r'$\\langle v \\rangle$', xy=(v_avg*0.97,MB_prob[int(v_avg/vmax*vpoints)]*1.002), xycoords='data',\n",
    "size=25, ha='left', va='bottom', color='xkcd:black')\n",
    "\n",
    "ax1.annotate('$v_{RMS}$', xy=(v_rms*1.025,MB_prob[int(v_rms/vmax*vpoints)]*0.96), xycoords='data',\n",
    "size=25, ha='left', va='bottom', color='xkcd:black')\n",
    "\n",
    "\n",
    "below = []\n",
    "for i in range(len(v)):\n",
    "    if MB_prob[i]>my_Lorentz[i]:\n",
    "        below.append(my_Lorentz[i])\n",
    "    else:\n",
    "        below.append(MB_prob[i])\n",
    "\n",
    "verts1 = []\n",
    "verts1.append(polygon_under_graph(v,below))\n",
    "\n",
    "poly1 = PolyCollection(verts1, facecolors=cc('xkcd:grey',0.50), hatch = 'xx',label='Particles targeted')\n",
    "ax1.add_collection(poly1)\n",
    "\n",
    "plt.arrow(440,1,-100,0,\n",
    "          head_width = 0.05,\n",
    "          head_length = 50,\n",
    "          width = 0.022,\n",
    "         fc=cc('xkcd:grey',0.50),\n",
    "         zorder=10000)\n",
    "\n",
    "ax1.grid()\n",
    "ax1.set_xlabel('v [m/s]')\n",
    "ax1.set_ylabel('n')\n",
    "ax1.set_ylim(-0.02,1.15)\n",
    "ax1.legend(fontsize=18)\n",
    "plt.tight_layout()\n",
    "# subplots_adjust(hspace=0.0,bottom=0.11,left=0.12,right=0.98,top=0.97)\n",
    "# savefig(fname = figname+'_'+re.sub('/','_',dirname_hc[31:-1])+'.png',dpi=300)\n",
    "savefig(figname+'.png',dpi=300)\n",
    "#fig_name = file_name[-9:]"
   ]
  },
  {
   "cell_type": "code",
   "execution_count": 202,
   "metadata": {},
   "outputs": [],
   "source": [
    "from mpl_toolkits.mplot3d import Axes3D\n",
    "from mpl_toolkits.mplot3d import proj3d\n",
    "from matplotlib.collections import PolyCollection\n",
    "from matplotlib import colors as mcolors\n",
    "from matplotlib.patches import FancyArrowPatch\n",
    "\n",
    "def polygon_under_graph(xlist, ylist):\n",
    "    '''\n",
    "    Construct the vertex list which defines the polygon filling the space under\n",
    "    the (xlist, ylist) line graph.  Assumes the xs are in ascending order.\n",
    "    '''\n",
    "    return [(xlist[0], 0.), *zip(xlist, ylist), (xlist[-1], 0.)]\n",
    "def cc(arg,alpha):\n",
    "    '''\n",
    "    Shorthand to convert 'named' colors to rgba format at 60% opacity.\n",
    "    '''\n",
    "    return mcolors.to_rgba(arg, alpha)"
   ]
  },
  {
   "cell_type": "code",
   "execution_count": 196,
   "metadata": {},
   "outputs": [
    {
     "data": {
      "text/plain": [
       "<matplotlib.collections.PolyCollection at 0x7f6859fa7668>"
      ]
     },
     "execution_count": 196,
     "metadata": {},
     "output_type": "execute_result"
    }
   ],
   "source": []
  }
 ],
 "metadata": {
  "kernelspec": {
   "display_name": "Python 3",
   "language": "python",
   "name": "python3"
  },
  "language_info": {
   "codemirror_mode": {
    "name": "ipython",
    "version": 3
   },
   "file_extension": ".py",
   "mimetype": "text/x-python",
   "name": "python",
   "nbconvert_exporter": "python",
   "pygments_lexer": "ipython3",
   "version": "3.6.7"
  }
 },
 "nbformat": 4,
 "nbformat_minor": 2
}
