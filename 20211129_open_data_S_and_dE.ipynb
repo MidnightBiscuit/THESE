{
 "cells": [
  {
   "cell_type": "code",
   "execution_count": 1,
   "metadata": {},
   "outputs": [],
   "source": [
    "# %pylab\n",
    "\n",
    "import numpy\n",
    "import matplotlib\n",
    "from matplotlib import pylab, mlab, pyplot\n",
    "from mpl_toolkits.mplot3d import Axes3D\n",
    "np = numpy\n",
    "plt = pyplot\n",
    "\n",
    "from pylab import *\n",
    "from numpy import *\n",
    "\n",
    "%matplotlib qt"
   ]
  },
  {
   "cell_type": "code",
   "execution_count": 2,
   "metadata": {},
   "outputs": [],
   "source": [
    "import scipy.fftpack\n",
    "from scipy.signal import gaussian\n",
    "from scipy.signal import savgol_filter\n",
    "from scipy.optimize import curve_fit\n",
    "matplotlib.rcParams['figure.figsize'] = [10.5,7]\n",
    "matplotlib.rcParams.update({'font.size': 25})\n",
    "%matplotlib qt"
   ]
  },
  {
   "cell_type": "code",
   "execution_count": 3,
   "metadata": {},
   "outputs": [],
   "source": [
    "matplotlib.rcParams.update({'font.size': 25})"
   ]
  },
  {
   "cell_type": "code",
   "execution_count": 4,
   "metadata": {},
   "outputs": [],
   "source": [
    "def my_lin(x,a,b):\n",
    "    return a*x+b\n",
    "\n",
    "def my_power_law(x,a,b):\n",
    "    return a*(x**b)\n",
    "\n",
    "def my_log(x,a,b):\n",
    "    return a*log(k*(x-x_0))+b"
   ]
  },
  {
   "cell_type": "code",
   "execution_count": 5,
   "metadata": {},
   "outputs": [],
   "source": [
    "my_color = ['C0','C1','C2','C3','C4']"
   ]
  },
  {
   "cell_type": "code",
   "execution_count": 19,
   "metadata": {},
   "outputs": [],
   "source": [
    "%run ../../RF_heating/fct_RF_heating"
   ]
  },
  {
   "cell_type": "code",
   "execution_count": 7,
   "metadata": {},
   "outputs": [],
   "source": [
    "def func(x0, A, B, C, D, t0,E):\n",
    "    return A*(x0-t0) / (D+C*(x0-t0)**2)**(1/E) + B"
   ]
  },
  {
   "cell_type": "code",
   "execution_count": 8,
   "metadata": {},
   "outputs": [
    {
     "name": "stdout",
     "output_type": "stream",
     "text": [
      "$\\kappa_{simion}$ = 0.270471\n"
     ]
    }
   ],
   "source": [
    "# Constantes de la physique\n",
    "# ABSOLUMENT RECHARGER APRÈS AVOIR EXECUTÉ LES CASES D'IMPORT AU DESSUS\n",
    "\n",
    "C_e = 1.602e-19        # Coulomb\n",
    "kb = 1.38064852*1e-23  # Boltzman\n",
    "ke = 8.987551787e9\n",
    "m_Ca = 40.078*1.66054e-27 # masse Ca 40.078\n",
    "m_GM = 1e6*1.66054e-27 # la masse de la GMol\n",
    "eps0 = 8.854187*1e-12  # permittivité électrique du vide\n",
    "\n",
    "r0 = 2.5e-3 # 2.5e-3   # rayon piège Ca+\n",
    "d0 = 4e-3/2            # longueur piège Ca+\n",
    "\n",
    "Omega = 2.05e6*2*pi # 2.047e6\n",
    "\n",
    "bk = 4 # nombre de barreaux par groupe (2 -> 4-pole , 4 -> 8-pole ...)\n",
    "\n",
    "mkappa = 0.23          # écrantage piège réel GiantMol\n",
    "wzLC = (2*pi*90806.9982303)**2\n",
    "kappa_simion = m_Ca*d0**2*wzLC/(2*C_e)\n",
    "print('%s = %f' % ('$\\kappa_{simion}$',kappa_simion) )\n",
    "\n",
    "zeta = kappa_simion*r0**2/d0**2"
   ]
  },
  {
   "cell_type": "code",
   "execution_count": 9,
   "metadata": {},
   "outputs": [],
   "source": [
    "N_ions = 1024\n",
    "n_dt = 1000\n",
    "# dt = 100e-9/n_dt\n",
    "dt = 2*pi/(500*2e6*2*pi)"
   ]
  },
  {
   "cell_type": "code",
   "execution_count": 10,
   "metadata": {},
   "outputs": [
    {
     "name": "stdout",
     "output_type": "stream",
     "text": [
      "> Répertoire : /home/adrian/RemoteFS/Rivendel/Simulations/20211129/DC01_RF08/Try00\n",
      "> Filename : Temp_SimuType0_N01024_Vrf0053_Udc0.1000D+01V_nt1000.dat\n",
      "> myslashpos | [0, 5, 12, 21, 30, 42, 51, 61]\n",
      "> slashcond | 6\n",
      "No points deleted because they were not complete\n",
      "Total number of data directories 28\n"
     ]
    }
   ],
   "source": [
    "## GUI for data loading\n",
    "# Select one data file all the way down to the directories\n",
    "# SELECT Temp_SimuTypeQ_N ... .dat\n",
    "\n",
    "file_cfg, slash_cfg, all_subdir = load_gui(filter_nocomplete=0)\n",
    "\n",
    "file_path = file_cfg[0]\n",
    "dir_path = file_cfg[1]\n",
    "work_rep = file_cfg[2]\n",
    "filename = file_cfg[3]\n",
    "\n",
    "myslashpos = slash_cfg[0]\n",
    "slashcond = slash_cfg[1]"
   ]
  },
  {
   "cell_type": "code",
   "execution_count": 11,
   "metadata": {},
   "outputs": [
    {
     "name": "stdout",
     "output_type": "stream",
     "text": [
      "['DC01_RF08', 'DC01_RF09', 'DC01_RF10', 'DC01_RF11', 'DC03_RF08', 'DC03_RF09', 'DC03_RF10', 'DC03_RF11', 'DC05_RF08', 'DC05_RF09', 'DC05_RF10', 'DC05_RF11', 'DC07_RF08', 'DC07_RF09', 'DC07_RF10', 'DC07_RF11', 'DC09_RF08', 'DC09_RF09', 'DC09_RF10', 'DC09_RF11', 'DC11_RF08', 'DC11_RF09', 'DC11_RF10', 'DC11_RF11', 'DC18_RF08', 'DC18_RF09', 'DC18_RF10', 'DC18_RF11']\n",
      "000 > DC01_RF08\n",
      "001 > DC01_RF09\n",
      "002 > DC01_RF10\n",
      "003 > DC01_RF11\n",
      "004 > DC03_RF08\n",
      "005 > DC03_RF09\n",
      "006 > DC03_RF10\n",
      "007 > DC03_RF11\n",
      "008 > DC05_RF08\n",
      "009 > DC05_RF09\n",
      "010 > DC05_RF10\n",
      "011 > DC05_RF11\n",
      "012 > DC07_RF08\n",
      "013 > DC07_RF09\n",
      "014 > DC07_RF10\n",
      "015 > DC07_RF11\n",
      "016 > DC09_RF08\n",
      "017 > DC09_RF09\n",
      "018 > DC09_RF10\n",
      "019 > DC09_RF11\n",
      "020 > DC11_RF08\n",
      "021 > DC11_RF09\n",
      "022 > DC11_RF10\n",
      "023 > DC11_RF11\n",
      "024 > DC18_RF08\n",
      "025 > DC18_RF09\n",
      "026 > DC18_RF10\n",
      "027 > DC18_RF11\n",
      "> condition names ['DC', 'RF']\n",
      "> number of points 28\n",
      "> N_ions = 1024\n",
      "> e_GMol = 50\n"
     ]
    }
   ],
   "source": [
    "## Condition for data\n",
    "points_and_coord, condition_parameters = simu_conditions(all_subdir, myslashpos, slashcond, filename)"
   ]
  },
  {
   "cell_type": "code",
   "execution_count": 12,
   "metadata": {},
   "outputs": [
    {
     "name": "stdout",
     "output_type": "stream",
     "text": [
      "['Temp_3D_Harmo_N1024_T500uK_F0.50D-19Kg_s_5.bin', 'Temp_3D_Harmo_N1024_T500uK_F0.50D-19Kg_s_5.bin', 'Temp_3D_Harmo_N1024_T500uK_F0.50D-19Kg_s_5.bin', 'Temp_3D_Harmo_N1024_T500uK_F0.50D-19Kg_s_5.bin', 'Temp_3D_Harmo_N1024_T500uK_F0.50D-19Kg_s_5.bin', 'Temp_3D_Harmo_N1024_T500uK_F0.50D-19Kg_s_5.bin', 'Temp_3D_Harmo_N1024_T500uK_F0.50D-19Kg_s_5.bin', 'Temp_3D_Harmo_N1024_T500uK_F0.50D-19Kg_s_5.bin', 'Temp_3D_Harmo_N1024_T500uK_F0.50D-19Kg_s_5.bin', 'Temp_3D_Harmo_N1024_T500uK_F0.50D-19Kg_s_5.bin', 'Temp_3D_Harmo_N1024_T500uK_F0.50D-19Kg_s_5.bin', 'Temp_3D_Harmo_N1024_T500uK_F0.50D-19Kg_s_5.bin', 'Temp_3D_Harmo_N1024_T500uK_F0.50D-19Kg_s_5.bin', 'Temp_3D_Harmo_N1024_T500uK_F0.50D-19Kg_s_5.bin', 'Temp_3D_Harmo_N1024_T500uK_F0.50D-19Kg_s_5.bin', 'Temp_3D_Harmo_N1024_T500uK_F0.50D-19Kg_s_5.bin', 'Temp_3D_Harmo_N1024_T500uK_F0.50D-19Kg_s_5.bin', 'Temp_3D_Harmo_N1024_T500uK_F0.50D-19Kg_s_5.bin', 'Temp_3D_Harmo_N1024_T500uK_F0.50D-19Kg_s_5.bin', 'Temp_3D_Harmo_N1024_T500uK_F0.50D-19Kg_s_5.bin', 'Temp_3D_Harmo_N1024_T500uK_F0.50D-19Kg_s_5.bin', 'Temp_3D_Harmo_N1024_T500uK_F0.50D-19Kg_s_5.bin', 'Temp_3D_Harmo_N1024_T500uK_F0.50D-19Kg_s_5.bin', 'Temp_3D_Harmo_N1024_T500uK_F0.50D-19Kg_s_5.bin', 'Temp_3D_Harmo_N1024_T500uK_F0.50D-19Kg_s_5.bin', 'Temp_3D_Harmo_N1024_T500uK_F0.50D-19Kg_s_5.bin', 'Temp_3D_Harmo_N1024_T500uK_F0.50D-19Kg_s_5.bin', 'Temp_3D_Harmo_N1024_T500uK_F0.50D-19Kg_s_5.bin'] ['Temp_SimuType0_N01024_Vrf0053_Udc0.1000D+01V_nt1000.dat', 'Temp_SimuType0_N01024_Vrf0059_Udc0.1000D+01V_nt1000.dat', 'Temp_SimuType0_N01024_Vrf0064_Udc0.1000D+01V_nt1000.dat', 'Temp_SimuType0_N01024_Vrf0070_Udc0.1000D+01V_nt1000.dat', 'Temp_SimuType0_N01024_Vrf0053_Udc0.2000D+01V_nt1000.dat', 'Temp_SimuType0_N01024_Vrf0059_Udc0.2000D+01V_nt1000.dat', 'Temp_SimuType0_N01024_Vrf0064_Udc0.2000D+01V_nt1000.dat', 'Temp_SimuType0_N01024_Vrf0070_Udc0.2000D+01V_nt1000.dat', 'Temp_SimuType0_N01024_Vrf0053_Udc0.3000D+01V_nt1000.dat', 'Temp_SimuType0_N01024_Vrf0059_Udc0.3000D+01V_nt1000.dat', 'Temp_SimuType0_N01024_Vrf0064_Udc0.3000D+01V_nt1000.dat', 'Temp_SimuType0_N01024_Vrf0070_Udc0.3000D+01V_nt1000.dat', 'Temp_SimuType0_N01024_Vrf0053_Udc0.4000D+01V_nt1000.dat', 'Temp_SimuType0_N01024_Vrf0059_Udc0.4000D+01V_nt1000.dat', 'Temp_SimuType0_N01024_Vrf0064_Udc0.4000D+01V_nt1000.dat', 'Temp_SimuType0_N01024_Vrf0070_Udc0.4000D+01V_nt1000.dat', 'Temp_SimuType0_N01024_Vrf0053_Udc0.5000D+01V_nt1000.dat', 'Temp_SimuType0_N01024_Vrf0059_Udc0.5000D+01V_nt1000.dat', 'Temp_SimuType0_N01024_Vrf0064_Udc0.5000D+01V_nt1000.dat', 'Temp_SimuType0_N01024_Vrf0070_Udc0.5000D+01V_nt1000.dat', 'Temp_SimuType0_N01024_Vrf0053_Udc0.7000D+01V_nt1000.dat', 'Temp_SimuType0_N01024_Vrf0059_Udc0.7000D+01V_nt1000.dat', 'Temp_SimuType0_N01024_Vrf0064_Udc0.7000D+01V_nt1000.dat', 'Temp_SimuType0_N01024_Vrf0070_Udc0.7000D+01V_nt1000.dat', 'Temp_SimuType0_N01024_Vrf0053_Udc0.6000D+01V_nt1000.dat', 'Temp_SimuType0_N01024_Vrf0059_Udc0.6000D+01V_nt1000.dat', 'Temp_SimuType0_N01024_Vrf0064_Udc0.6000D+01V_nt1000.dat', 'Temp_SimuType0_N01024_Vrf0070_Udc0.6000D+01V_nt1000.dat']\n"
     ]
    }
   ],
   "source": [
    "Lan_file = []\n",
    "VV_file  = []\n",
    "for i,address in enumerate(all_subdir):\n",
    "    Lan_file.append([f for f in listdir(address) if isfile(join(address, f)) and \"Temp_3D\" in f][0])\n",
    "    VV_file.append([f for f in listdir(address) if isfile(join(address, f)) and \"Temp_SimuType0\" in f][0])\n",
    "print(Lan_file,VV_file)"
   ]
  },
  {
   "cell_type": "code",
   "execution_count": 119,
   "metadata": {},
   "outputs": [
    {
     "name": "stdout",
     "output_type": "stream",
     "text": [
      "/home/adrian/RemoteFS/Rivendel/Simulations/20211129/DC07_RF10/Try00\n",
      "len save_T [112000]\n",
      "[5.00000000e-07 3.51196237e-04 1.76132793e-03 8.18884690e-05\n",
      " 2.02156898e+01 3.26295945e+01 1.42387520e+02]\n"
     ]
    }
   ],
   "source": [
    "# Temperature and dE/dt\n",
    "# analyse one\n",
    "\n",
    "\n",
    "point = 13+1 #2+4*4\n",
    "subdir = all_subdir[point]\n",
    "print(subdir)\n",
    "\n",
    "tt, tt1, T_CM, T_aux, dE, S_heating = plot_T_and_dE_S(subdir+'/',Lan_file[point].strip('.bin'),VV_file[point].strip('.dat'),\n",
    "                                                      flag_plot=1,temp_avg=1,\n",
    "                                                      fig_name=VV_file[point][22:44],\n",
    "                                                      xlim1=(-0.2,11.5),ylim1=(5e-4,2e2),ylim2=(-0.9,0.9))\n",
    "    \n",
    "    "
   ]
  },
  {
   "cell_type": "code",
   "execution_count": 64,
   "metadata": {
    "scrolled": true
   },
   "outputs": [
    {
     "name": "stdout",
     "output_type": "stream",
     "text": [
      "len save_T [112000]\n",
      "[5.00000000e-07 2.44923284e-04 1.53623750e-04 5.68068703e-06\n",
      " 3.44722987e+01 3.30854680e+01 1.58344610e+02]\n",
      "len save_T [112000]\n",
      "[5.00000000e-07 2.36419042e-05 1.12609320e-04 2.40605952e-05\n",
      " 2.51139761e+01 3.15330173e+01 1.57028131e+02]\n",
      "len save_T [112000]\n",
      "[5.00000000e-07 2.36363976e-04 3.17751688e-04 6.78209976e-07\n",
      " 1.74947024e+01 3.29022640e+01 1.62260093e+02]\n",
      "len save_T [112000]\n",
      "[5.00000000e-07 2.65996819e-03 5.53939155e-04 1.59939792e-06\n",
      " 1.17251952e+01 3.00200793e+01 1.54418915e+02]\n",
      "len save_T [112000]\n",
      "[5.00000000e-07 6.05475000e-06 2.06027416e-04 8.21352170e-05\n",
      " 3.45721192e+01 3.12544306e+01 1.49813521e+02]\n",
      "len save_T [112000]\n",
      "[5.00000000e-07 4.64500395e-03 3.04461579e-03 1.55495411e-05\n",
      " 2.51757649e+01 3.15615266e+01 1.52026317e+02]\n",
      "len save_T [112000]\n",
      "[5.00000000e-07 2.05576902e-03 3.67635425e-05 1.51044370e-06\n",
      " 1.89764509e+01 3.26997199e+01 1.53112129e+02]\n",
      "len save_T [112000]\n",
      "[5.00000000e-07 7.41274353e-06 1.65901758e-04 1.77726844e-05\n",
      " 1.15728523e+01 2.99991946e+01 1.51200324e+02]\n",
      "len save_T [112000]\n",
      "[5.00000000e-07 1.55424683e-03 3.65014930e-04 5.16868276e-05\n",
      " 3.59277642e+01 3.20683985e+01 1.47586293e+02]\n",
      "len save_T [112000]\n",
      "[5.00000000e-07 2.37787077e-04 6.92176835e-04 5.17924429e-05\n",
      " 2.69965886e+01 3.16602737e+01 1.48818167e+02]\n",
      "len save_T [112000]\n",
      "[5.00000000e-07 9.16446050e-04 3.06128984e-03 8.47849262e-06\n",
      " 1.91917326e+01 3.13946136e+01 1.49669130e+02]\n",
      "len save_T [112000]\n",
      "[5.00000000e-07 4.76091777e-05 8.76625693e-04 1.92922762e-05\n",
      " 1.27114827e+01 3.17545360e+01 1.46899770e+02]\n",
      "len save_T [112000]\n",
      "[5.00000000e-07 6.02603576e-05 1.21405233e-03 3.24211687e-05\n",
      " 3.75960838e+01 3.26625171e+01 1.44551297e+02]\n",
      "len save_T [112000]\n",
      "[5.00000000e-07 1.47215641e-04 3.15499855e-03 3.84050718e-04\n",
      " 2.81973475e+01 3.19690078e+01 1.45558258e+02]\n",
      "len save_T [112000]\n",
      "[5.00000000e-07 3.51196237e-04 1.76132793e-03 8.18884690e-05\n",
      " 2.02156898e+01 3.26295945e+01 1.42387520e+02]\n",
      "len save_T [112000]\n",
      "[5.00000000e-07 3.42330346e-03 1.58442843e-03 2.84267843e-05\n",
      " 1.31628656e+01 3.12833326e+01 1.42046600e+02]\n",
      "len save_T [112000]\n",
      "[5.00000000e-07 6.27925529e-05 2.88550696e-04 2.03458790e-05\n",
      " 3.81612092e+01 3.27120217e+01 1.37629699e+02]\n",
      "len save_T [112000]\n",
      "[5.00000000e-07 1.15865471e-03 1.14588570e-04 4.28297815e-05\n",
      " 2.75623044e+01 3.12231915e+01 1.34266003e+02]\n",
      "len save_T [112000]\n",
      "[5.00000000e-07 2.22552286e-03 4.87801483e-04 3.15454620e-06\n",
      " 2.08898910e+01 3.17098209e+01 1.34365753e+02]\n",
      "len save_T [112000]\n",
      "[5.00000000e-07 2.91313181e-03 3.39563913e-04 1.35060468e-05\n",
      " 1.41643176e+01 3.27984798e+01 1.41112252e+02]\n",
      "len save_T [112000]\n",
      "[5.00000000e-07 6.25749210e-06 1.18663355e-03 6.77145476e-06\n",
      " 4.00972370e+01 3.44090252e+01 1.29654095e+02]\n",
      "len save_T [112000]\n",
      "[5.00000000e-07 1.18131906e-05 7.87204304e-04 1.69250385e-04\n",
      " 3.08438816e+01 3.45107679e+01 1.30756437e+02]\n",
      "len save_T [112000]\n",
      "[5.00000000e-07 1.36774916e-04 4.83845076e-03 9.59266473e-06\n",
      " 2.16850979e+01 3.10747822e+01 1.22461791e+02]\n",
      "len save_T [112000]\n",
      "[5.00000000e-07 2.70956234e-04 3.09835669e-03 1.22673286e-04\n",
      " 1.47596350e+01 3.18323826e+01 1.23872615e+02]\n",
      "len save_T [112000]\n",
      "[5.00000000e-07 4.27068801e-04 6.28275529e-04 1.76797790e-05\n",
      " 3.94052996e+01 3.36166662e+01 1.33648791e+02]\n",
      "len save_T [112000]\n",
      "[5.00000000e-07 4.89077078e-04 1.74027324e-03 1.09430662e-04\n",
      " 2.88772648e+01 3.21116209e+01 1.29897089e+02]\n",
      "len save_T [112000]\n",
      "[5.00000000e-07 1.00490230e-05 3.52224391e-03 3.23638350e-04\n",
      " 2.14093149e+01 3.18951546e+01 1.29569037e+02]\n",
      "len save_T [112000]\n",
      "[5.00000000e-07 1.77593997e-03 2.48708550e-05 3.45224450e-05\n",
      " 1.38109255e+01 3.10388684e+01 1.28105943e+02]\n"
     ]
    }
   ],
   "source": [
    "# Temperature and dE/dt\n",
    "# analyse all\n",
    "\n",
    "time_save  = []\n",
    "T_aux_save = []\n",
    "\n",
    "for point,subdir in enumerate(all_subdir):\n",
    "    tt, tt1, T_CM, T_aux, dE, S_heating = plot_T_and_dE_S(subdir+'/',Lan_file[point].strip('.bin'),VV_file[point].strip('.dat'),\n",
    "                                                          flag_plot=0,temp_avg=1,\n",
    "                                                          fig_name=VV_file[point][22:44],\n",
    "                                                          xlim1=(-0.2,11.5),ylim1=(5e-4,2e2),ylim2=(-0.9,0.9))\n",
    "    T_aux_save.append(T_aux[len(tt)-len(tt1):])\n",
    "time_save = tt1"
   ]
  },
  {
   "cell_type": "code",
   "execution_count": 121,
   "metadata": {},
   "outputs": [
    {
     "name": "stdout",
     "output_type": "stream",
     "text": [
      "5.000000000000664e-07\n"
     ]
    }
   ],
   "source": [
    "T_aux_savebis = reshape(T_aux_save,(4,7,20000),order='F')\n",
    "all_subdirbis = reshape(all_subdir,(4,7),order='F')\n",
    "Urf = [53.85,59.23,64.61,70]\n",
    "Udc = [1,2,3,4,5,7,6]\n",
    "dt = time_save[5]-time_save[4]\n",
    "print(dt)"
   ]
  },
  {
   "cell_type": "code",
   "execution_count": 116,
   "metadata": {},
   "outputs": [
    {
     "data": {
      "text/plain": [
       "[<matplotlib.lines.Line2D at 0x7fc5879c6710>]"
      ]
     },
     "execution_count": 116,
     "metadata": {},
     "output_type": "execute_result"
    }
   ],
   "source": [
    "figure('test reshape')\n",
    "semilogy(time_save,T_aux_savebis[2,3])"
   ]
  },
  {
   "cell_type": "code",
   "execution_count": 122,
   "metadata": {},
   "outputs": [],
   "source": [
    "outfile = 'Temperature_RF_HEATING'\n",
    "np.savez( outfile, time_step = dt, URF = Urf, UDC = Udc, temperature = T_aux_savebis )"
   ]
  }
 ],
 "metadata": {
  "kernelspec": {
   "display_name": "Python 3",
   "language": "python",
   "name": "python3"
  },
  "language_info": {
   "codemirror_mode": {
    "name": "ipython",
    "version": 3
   },
   "file_extension": ".py",
   "mimetype": "text/x-python",
   "name": "python",
   "nbconvert_exporter": "python",
   "pygments_lexer": "ipython3",
   "version": "3.6.7"
  }
 },
 "nbformat": 4,
 "nbformat_minor": 4
}
