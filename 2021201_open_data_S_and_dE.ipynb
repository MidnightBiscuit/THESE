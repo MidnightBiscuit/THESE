{
 "cells": [
  {
   "cell_type": "code",
   "execution_count": 9,
   "metadata": {},
   "outputs": [],
   "source": [
    "# %pylab\n",
    "\n",
    "import numpy\n",
    "import matplotlib\n",
    "from matplotlib import pylab, mlab, pyplot\n",
    "from mpl_toolkits.mplot3d import Axes3D\n",
    "np = numpy\n",
    "plt = pyplot\n",
    "\n",
    "from pylab import *\n",
    "from numpy import *\n",
    "\n",
    "%matplotlib qt"
   ]
  },
  {
   "cell_type": "code",
   "execution_count": 10,
   "metadata": {},
   "outputs": [],
   "source": [
    "import scipy.fftpack\n",
    "from scipy.signal import gaussian\n",
    "from scipy.signal import savgol_filter\n",
    "from scipy.optimize import curve_fit\n",
    "matplotlib.rcParams['figure.figsize'] = [10.5,7]\n",
    "matplotlib.rcParams.update({'font.size': 25})\n",
    "%matplotlib qt"
   ]
  },
  {
   "cell_type": "code",
   "execution_count": 11,
   "metadata": {},
   "outputs": [],
   "source": [
    "matplotlib.rcParams.update({'font.size': 25})"
   ]
  },
  {
   "cell_type": "code",
   "execution_count": 4,
   "metadata": {},
   "outputs": [],
   "source": [
    "def my_lin(x,a,b):\n",
    "    return a*x+b\n",
    "\n",
    "def my_power_law(x,a,b):\n",
    "    return a*(x**b)\n",
    "\n",
    "def my_log(x,a,b):\n",
    "    return a*log(k*(x-x_0))+b"
   ]
  },
  {
   "cell_type": "code",
   "execution_count": 5,
   "metadata": {},
   "outputs": [],
   "source": [
    "my_color = ['C0','C1','C2','C3','C4']"
   ]
  },
  {
   "cell_type": "code",
   "execution_count": 16,
   "metadata": {},
   "outputs": [
    {
     "ename": "ModuleNotFoundError",
     "evalue": "No module named 'natsort'",
     "output_type": "error",
     "traceback": [
      "\u001b[0;31m---------------------------------------------------------------------------\u001b[0m",
      "\u001b[0;31mModuleNotFoundError\u001b[0m                       Traceback (most recent call last)",
      "\u001b[0;32m~/Documents/Programmes/RF_heating/fct_RF_heating.py\u001b[0m in \u001b[0;36m<module>\u001b[0;34m\u001b[0m\n\u001b[1;32m     12\u001b[0m \u001b[0;32mfrom\u001b[0m \u001b[0mpathlib\u001b[0m \u001b[0;32mimport\u001b[0m \u001b[0mPath\u001b[0m\u001b[0;34m\u001b[0m\u001b[0;34m\u001b[0m\u001b[0m\n\u001b[1;32m     13\u001b[0m \u001b[0;32mimport\u001b[0m \u001b[0mre\u001b[0m\u001b[0;34m\u001b[0m\u001b[0;34m\u001b[0m\u001b[0m\n\u001b[0;32m---> 14\u001b[0;31m \u001b[0;32mfrom\u001b[0m \u001b[0mnatsort\u001b[0m \u001b[0;32mimport\u001b[0m \u001b[0mnatsorted\u001b[0m\u001b[0;34m\u001b[0m\u001b[0;34m\u001b[0m\u001b[0m\n\u001b[0m\u001b[1;32m     15\u001b[0m \u001b[0;32mimport\u001b[0m \u001b[0mtimeit\u001b[0m\u001b[0;34m\u001b[0m\u001b[0;34m\u001b[0m\u001b[0m\n\u001b[1;32m     16\u001b[0m \u001b[0;34m\u001b[0m\u001b[0m\n",
      "\u001b[0;31mModuleNotFoundError\u001b[0m: No module named 'natsort'"
     ]
    }
   ],
   "source": [
    "%run ../../RF_heating/fct_RF_heating"
   ]
  },
  {
   "cell_type": "code",
   "execution_count": 7,
   "metadata": {},
   "outputs": [],
   "source": [
    "def func(x0, A, B, C, D, t0,E):\n",
    "    return A*(x0-t0) / (D+C*(x0-t0)**2)**(1/E) + B"
   ]
  },
  {
   "cell_type": "code",
   "execution_count": 8,
   "metadata": {},
   "outputs": [
    {
     "name": "stdout",
     "output_type": "stream",
     "text": [
      "$\\kappa_{simion}$ = 0.270471\n"
     ]
    }
   ],
   "source": [
    "# Constantes de la physique\n",
    "# ABSOLUMENT RECHARGER APRÈS AVOIR EXECUTÉ LES CASES D'IMPORT AU DESSUS\n",
    "\n",
    "C_e = 1.602e-19        # Coulomb\n",
    "kb = 1.38064852*1e-23  # Boltzman\n",
    "ke = 8.987551787e9\n",
    "m_Ca = 40.078*1.66054e-27 # masse Ca 40.078\n",
    "m_GM = 1e6*1.66054e-27 # la masse de la GMol\n",
    "eps0 = 8.854187*1e-12  # permittivité électrique du vide\n",
    "\n",
    "r0 = 2.5e-3 # 2.5e-3   # rayon piège Ca+\n",
    "d0 = 4e-3/2            # longueur piège Ca+\n",
    "\n",
    "Omega = 2.05e6*2*pi # 2.047e6\n",
    "\n",
    "bk = 4 # nombre de barreaux par groupe (2 -> 4-pole , 4 -> 8-pole ...)\n",
    "\n",
    "mkappa = 0.23          # écrantage piège réel GiantMol\n",
    "wzLC = (2*pi*90806.9982303)**2\n",
    "kappa_simion = m_Ca*d0**2*wzLC/(2*C_e)\n",
    "print('%s = %f' % ('$\\kappa_{simion}$',kappa_simion) )\n",
    "\n",
    "zeta = kappa_simion*r0**2/d0**2"
   ]
  },
  {
   "cell_type": "code",
   "execution_count": 9,
   "metadata": {},
   "outputs": [],
   "source": [
    "N_ions = 1024\n",
    "n_dt = 1000\n",
    "# dt = 100e-9/n_dt\n",
    "dt = 2*pi/(500*2e6*2*pi)"
   ]
  },
  {
   "cell_type": "code",
   "execution_count": 10,
   "metadata": {},
   "outputs": [
    {
     "name": "stdout",
     "output_type": "stream",
     "text": [
      "> Répertoire : /home/adrian/RemoteFS/Rivendel/Simulations/20211201/DC11_RF00/Try00\n",
      "> Filename : Temp_SimuType0_N01024_Vrf0060_Udc0.7000D+01V_nt1000.dat\n",
      "> myslashpos | [0, 5, 12, 21, 30, 42, 51, 61]\n",
      "> slashcond | 6\n",
      "No points deleted because they were not complete\n",
      "Total number of data directories 9\n"
     ]
    }
   ],
   "source": [
    "## GUI for data loading\n",
    "# Select one data file all the way down to the directories\n",
    "# SELECT Temp_SimuTypeQ_N ... .dat\n",
    "\n",
    "file_cfg, slash_cfg, all_subdir = load_gui(filter_nocomplete=0)\n",
    "\n",
    "file_path = file_cfg[0]\n",
    "dir_path = file_cfg[1]\n",
    "work_rep = file_cfg[2]\n",
    "filename = file_cfg[3]\n",
    "\n",
    "myslashpos = slash_cfg[0]\n",
    "slashcond = slash_cfg[1]"
   ]
  },
  {
   "cell_type": "code",
   "execution_count": 11,
   "metadata": {},
   "outputs": [
    {
     "name": "stdout",
     "output_type": "stream",
     "text": [
      "['DC11_RF00', 'DC11_RF01', 'DC11_RF02', 'DC11_RF03', 'DC11_RF04', 'DC11_RF05', 'DC11_RF06', 'DC11_RF07', 'DC11_RF08']\n",
      "000 > DC11_RF00\n",
      "001 > DC11_RF01\n",
      "002 > DC11_RF02\n",
      "003 > DC11_RF03\n",
      "004 > DC11_RF04\n",
      "005 > DC11_RF05\n",
      "006 > DC11_RF06\n",
      "007 > DC11_RF07\n",
      "008 > DC11_RF08\n",
      "> condition names ['DC', 'RF']\n",
      "> number of points 9\n",
      "> N_ions = 1024\n",
      "> e_GMol = 50\n"
     ]
    }
   ],
   "source": [
    "## Condition for data\n",
    "points_and_coord, condition_parameters = simu_conditions(all_subdir, myslashpos, slashcond, filename)"
   ]
  },
  {
   "cell_type": "code",
   "execution_count": 12,
   "metadata": {},
   "outputs": [
    {
     "name": "stdout",
     "output_type": "stream",
     "text": [
      "['Temp_3D_Harmo_N1024_T500uK_F0.50D-19Kg_s_5.bin', 'Temp_3D_Harmo_N1024_T500uK_F0.50D-19Kg_s_5.bin', 'Temp_3D_Harmo_N1024_T500uK_F0.50D-19Kg_s_5.bin', 'Temp_3D_Harmo_N1024_T500uK_F0.50D-19Kg_s_5.bin', 'Temp_3D_Harmo_N1024_T500uK_F0.50D-19Kg_s_5.bin', 'Temp_3D_Harmo_N1024_T500uK_F0.50D-19Kg_s_5.bin', 'Temp_3D_Harmo_N1024_T500uK_F0.50D-19Kg_s_5.bin', 'Temp_3D_Harmo_N1024_T500uK_F0.50D-19Kg_s_5.bin', 'Temp_3D_Harmo_N1024_T500uK_F0.50D-19Kg_s_5.bin'] ['Temp_SimuType0_N01024_Vrf0060_Udc0.7000D+01V_nt1000.dat', 'Temp_SimuType0_N01024_Vrf0061_Udc0.7000D+01V_nt1000.dat', 'Temp_SimuType0_N01024_Vrf0062_Udc0.7000D+01V_nt1000.dat', 'Temp_SimuType0_N01024_Vrf0063_Udc0.7000D+01V_nt1000.dat', 'Temp_SimuType0_N01024_Vrf0064_Udc0.7000D+01V_nt1000.dat', 'Temp_SimuType0_N01024_Vrf0065_Udc0.7000D+01V_nt1000.dat', 'Temp_SimuType0_N01024_Vrf0066_Udc0.7000D+01V_nt1000.dat', 'Temp_SimuType0_N01024_Vrf0067_Udc0.7000D+01V_nt1000.dat', 'Temp_SimuType0_N01024_Vrf0068_Udc0.7000D+01V_nt1000.dat']\n"
     ]
    }
   ],
   "source": [
    "Lan_file = []\n",
    "VV_file  = []\n",
    "for i,address in enumerate(all_subdir):\n",
    "    Lan_file.append([f for f in listdir(address) if isfile(join(address, f)) and \"Temp_3D\" in f][0])\n",
    "    VV_file.append([f for f in listdir(address) if isfile(join(address, f)) and \"Temp_SimuType0\" in f][0])\n",
    "print(Lan_file,VV_file)"
   ]
  },
  {
   "cell_type": "code",
   "execution_count": 48,
   "metadata": {},
   "outputs": [
    {
     "name": "stdout",
     "output_type": "stream",
     "text": [
      "/home/adrian/RemoteFS/Rivendel/Simulations/20211201/DC11_RF08/Try00\n",
      "len save_T [112000]\n",
      "[5.00000000e-07 5.24193160e-04 1.26379154e-05 3.67976498e-04\n",
      " 1.74996870e+01 3.12261110e+01 1.26641025e+02]\n"
     ]
    }
   ],
   "source": [
    "# Temperature and dE/dt\n",
    "# analyse one\n",
    "\n",
    "\n",
    "point = 8 #2+4*4\n",
    "subdir = all_subdir[point]\n",
    "print(subdir)\n",
    "\n",
    "tt, tt1, T_CM, T_aux, dE, S_heating = plot_T_and_dE_S(subdir+'/',Lan_file[point].strip('.bin'),VV_file[point].strip('.dat'),\n",
    "                                                      flag_plot=1,temp_avg=1,\n",
    "                                                      fig_name=VV_file[point][22:44],\n",
    "                                                      xlim1=(-0.2,30),ylim1=(5e-4,2e2),ylim2=(-0.9,0.9))\n",
    "    \n",
    "    "
   ]
  },
  {
   "cell_type": "code",
   "execution_count": 36,
   "metadata": {
    "scrolled": true
   },
   "outputs": [
    {
     "name": "stdout",
     "output_type": "stream",
     "text": [
      "len save_T [112000]\n",
      "[5.00000000e-07 6.84838224e-04 1.79897944e-04 7.49712677e-05\n",
      " 2.89879736e+01 3.06388379e+01 1.23317597e+02]\n",
      "len save_T [112000]\n",
      "[5.00000000e-07 3.63683620e-04 8.97975299e-04 8.65407707e-05\n",
      " 2.82734389e+01 3.30877871e+01 1.28447435e+02]\n",
      "len save_T [112000]\n",
      "[5.00000000e-07 4.82246418e-05 3.47415968e-06 8.10538280e-05\n",
      " 2.58224483e+01 3.14237163e+01 1.24698076e+02]\n",
      "len save_T [112000]\n",
      "[5.00000000e-07 2.09820371e-03 1.18699439e-04 2.96204472e-05\n",
      " 2.47239052e+01 3.22042710e+01 1.26497909e+02]\n",
      "len save_T [112000]\n",
      "[5.00000000e-07 5.14769185e-06 7.53309975e-04 1.87148538e-06\n",
      " 2.37481834e+01 3.35880341e+01 1.30704215e+02]\n",
      "len save_T [112000]\n",
      "[5.00000000e-07 2.06548066e-05 1.87406359e-03 2.94757251e-04\n",
      " 2.11923054e+01 3.10739200e+01 1.25547749e+02]\n",
      "len save_T [112000]\n",
      "[5.00000000e-07 4.43473373e-04 6.12354118e-04 1.89926038e-04\n",
      " 2.01788054e+01 3.10508442e+01 1.24073099e+02]\n",
      "len save_T [112000]\n",
      "[5.00000000e-07 4.79196244e-04 6.57734779e-05 4.21725773e-05\n",
      " 1.91434515e+01 3.27362940e+01 1.29893906e+02]\n",
      "len save_T [112000]\n",
      "[5.00000000e-07 5.24193160e-04 1.26379154e-05 3.67976498e-04\n",
      " 1.74996870e+01 3.12261110e+01 1.26641025e+02]\n"
     ]
    }
   ],
   "source": [
    "# Temperature and dE/dt\n",
    "# analyse all\n",
    "\n",
    "time_save  = []\n",
    "T_aux_save = []\n",
    "\n",
    "for point,subdir in enumerate(all_subdir):\n",
    "    tt, tt1, T_CM, T_aux, dE, S_heating = plot_T_and_dE_S(subdir+'/',Lan_file[point].strip('.bin'),VV_file[point].strip('.dat'),\n",
    "                                                          flag_plot=0,temp_avg=1,\n",
    "                                                          fig_name=VV_file[point][22:44],\n",
    "                                                          xlim1=(-0.2,11.5),ylim1=(5e-4,2e2),ylim2=(-0.9,0.9))\n",
    "    T_aux_save.append(T_aux[len(tt)-len(tt1):])\n",
    "    time_save.append(tt1)"
   ]
  },
  {
   "cell_type": "code",
   "execution_count": 41,
   "metadata": {},
   "outputs": [
    {
     "name": "stdout",
     "output_type": "stream",
     "text": [
      "-5.000000000000664e-07\n"
     ]
    }
   ],
   "source": [
    "# T_aux_savebis = reshape(T_aux_save,(4,7,20000),order='F')\n",
    "# all_subdirbis = reshape(all_subdir,(4,7),order='F')\n",
    "Urf = [60,61,62,63,64,65,66,67,68]\n",
    "Udc = [7]\n",
    "dt = time_save[5][19]-time_save[5][20]\n",
    "print(dt)"
   ]
  },
  {
   "cell_type": "code",
   "execution_count": 116,
   "metadata": {},
   "outputs": [
    {
     "data": {
      "text/plain": [
       "[<matplotlib.lines.Line2D at 0x7fc5879c6710>]"
      ]
     },
     "execution_count": 116,
     "metadata": {},
     "output_type": "execute_result"
    }
   ],
   "source": [
    "figure('test reshape')\n",
    "semilogy(time_save,T_aux_savebis[2,3])"
   ]
  },
  {
   "cell_type": "code",
   "execution_count": 42,
   "metadata": {},
   "outputs": [],
   "source": [
    "outfile = 'Temperature_RF_HEATING_DC11_RFvar'\n",
    "np.savez( outfile, URF = Urf, UDC = Udc, time = time_save, temperature = T_aux_save )"
   ]
  }
 ],
 "metadata": {
  "kernelspec": {
   "display_name": "Python 3 (ipykernel)",
   "language": "python",
   "name": "python3"
  },
  "language_info": {
   "codemirror_mode": {
    "name": "ipython",
    "version": 3
   },
   "file_extension": ".py",
   "mimetype": "text/x-python",
   "name": "python",
   "nbconvert_exporter": "python",
   "pygments_lexer": "ipython3",
   "version": "3.10.6"
  }
 },
 "nbformat": 4,
 "nbformat_minor": 4
}
