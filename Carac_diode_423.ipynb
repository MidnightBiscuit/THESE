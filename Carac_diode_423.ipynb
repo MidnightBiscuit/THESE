{
 "cells": [
  {
   "cell_type": "code",
   "execution_count": 26,
   "metadata": {},
   "outputs": [
    {
     "name": "stdout",
     "output_type": "stream",
     "text": [
      "Using matplotlib backend: TkAgg\n",
      "Populating the interactive namespace from numpy and matplotlib\n"
     ]
    }
   ],
   "source": [
    "%pylab\n",
    "from scipy.optimize import curve_fit\n",
    "matplotlib.rcParams.update({'font.size': 25})"
   ]
  },
  {
   "cell_type": "code",
   "execution_count": 25,
   "metadata": {},
   "outputs": [],
   "source": [
    "def lin_fit(x,a,b):\n",
    "    return a*x+b"
   ]
  },
  {
   "cell_type": "code",
   "execution_count": 32,
   "metadata": {},
   "outputs": [],
   "source": [
    "Idiode = [10,15,20,25,26,27,28,29,30,35,40,45,50,55,60,65,85]\n",
    "P423 = [8.9e-3,10.63e-3,14.37e-3,23.6e-3,27.2e-3,32.2e-3,40.2e-3,480e-3,1.5,3.75,6.16,9,11.57,14.3,16.82,20,30.8]\n",
    "popt, pcov = curve_fit(lin_fit,Idiode[6:],P423[6:])\n"
   ]
  },
  {
   "cell_type": "code",
   "execution_count": 64,
   "metadata": {},
   "outputs": [],
   "source": [
    "fig = figure('carac diode 423',clear='True')\n",
    "ax = subplot(111)\n",
    "ax.plot(Idiode,P423,ls='',marker='+',ms=10,mew=2,color='xkcd:cerulean blue')\n",
    "ax.plot(linspace(26,90,5000),lin_fit(linspace(26,90,5000),*popt),\n",
    "        color='xkcd:cerulean blue',ls=':',lw=2.5)\n",
    "ax.grid()\n",
    "ax.xaxis.set_major_locator(matplotlib.ticker.MultipleLocator(base=10))\n",
    "ax.yaxis.set_major_locator(matplotlib.ticker.MultipleLocator(base=5))\n",
    "seuil = linspace(26,90,5000)[argmin(abs(lin_fit(linspace(26,90,5000),*popt)))]\n",
    "ax.text(20,23.5,f'Seuil {seuil:.2f} mA\\nP = {popt[0]:.3f} I {popt[1]:.3f}',\n",
    "        color='xkcd:cerulean blue')\n",
    "grid(visible=True, which='major', linestyle='-')\n",
    "grid(visible=True, which='minor', linestyle='--')\n",
    "plt.minorticks_on()\n",
    "ax.set_xlabel('Courant diode [mA]')\n",
    "ax.set_ylabel('Puissance laser [mW]')\n",
    "tight_layout()"
   ]
  }
 ],
 "metadata": {
  "kernelspec": {
   "display_name": "Python 3 (ipykernel)",
   "language": "python",
   "name": "python3"
  },
  "language_info": {
   "codemirror_mode": {
    "name": "ipython",
    "version": 3
   },
   "file_extension": ".py",
   "mimetype": "text/x-python",
   "name": "python",
   "nbconvert_exporter": "python",
   "pygments_lexer": "ipython3",
   "version": "3.10.6"
  }
 },
 "nbformat": 4,
 "nbformat_minor": 2
}
