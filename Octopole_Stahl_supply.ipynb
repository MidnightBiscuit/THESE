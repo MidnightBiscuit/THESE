{
 "cells": [
  {
   "cell_type": "code",
   "execution_count": 1,
   "id": "ed8f69ea",
   "metadata": {},
   "outputs": [
    {
     "name": "stdout",
     "output_type": "stream",
     "text": [
      "Using matplotlib backend: TkAgg\n"
     ]
    }
   ],
   "source": [
    "# %pylab\n",
    "\n",
    "import numpy\n",
    "import matplotlib\n",
    "from matplotlib import pyplot\n",
    "np = numpy\n",
    "plt = pyplot\n",
    "from pylab import *\n",
    "from numpy import *\n",
    "from scipy.optimize import curve_fit\n",
    "%matplotlib"
   ]
  },
  {
   "cell_type": "code",
   "execution_count": 4,
   "id": "cd9548e2",
   "metadata": {},
   "outputs": [],
   "source": [
    "matplotlib.rcParams['figure.figsize'] = [10.5,7]\n",
    "matplotlib.rcParams.update({'font.size': 25})"
   ]
  },
  {
   "cell_type": "code",
   "execution_count": 2,
   "id": "80945699",
   "metadata": {},
   "outputs": [],
   "source": [
    "f = [10,20,30,40,50,60,80,100,150,200,\n",
    "     300,400,1000,1200,1300,1400,1500,1600,1700,1800,\n",
    "     1900,2000,2100,2200,2300,2400,2500,2600,2700,2800,\n",
    "     2900,3000,3100,3200,3300,3500,4000]\n",
    "Urf = [140,205,235,251,261,267,275,280,286,288,\n",
    "      291,293,298,296,293,288,282,274,265,255,\n",
    "       244,232,220,208,196,183,172,161,150,140,\n",
    "       130,122,114,107,100,87,63]"
   ]
  },
  {
   "cell_type": "code",
   "execution_count": 9,
   "id": "6640e6d6",
   "metadata": {},
   "outputs": [],
   "source": [
    "figname = 'Octupole_carac'\n",
    "fig = plt.figure(figname,clear='True')\n",
    "fig.set_size_inches(11.69,8.27)\n",
    "ax = fig.add_subplot(111)\n",
    "# subplot(211)\n",
    "# to_plot = xva_SimuTypeQ\n",
    "# ax.plot(to_plot[2,:]*1e3,to_plot[0,:]*1e6,'8',color='xkcd:purplish blue')\n",
    "\n",
    "ax.semilogx(f,Urf,marker='P',ls=':')\n",
    "    \n",
    "ax.grid()\n",
    "ax.set_xlabel('f [kHz]')\n",
    "ax.set_ylabel('U [Vpp]')\n",
    "# xlim(-255,-181)\n",
    "# ylim(-1500,17500)\n",
    "tight_layout()\n",
    "plt.savefig(figname,dpi=300)"
   ]
  },
  {
   "cell_type": "code",
   "execution_count": 13,
   "id": "e7d6ae3e",
   "metadata": {},
   "outputs": [
    {
     "data": {
      "text/plain": [
       "0.0008087617588157754"
      ]
     },
     "execution_count": 13,
     "metadata": {},
     "output_type": "execute_result"
    }
   ],
   "source": [
    "4*397e-9*4e-3/(np.pi*2.5e-6)"
   ]
  },
  {
   "cell_type": "code",
   "execution_count": 14,
   "id": "c258bc26",
   "metadata": {},
   "outputs": [
    {
     "data": {
      "text/plain": [
       "0.00088"
      ]
     },
     "execution_count": 14,
     "metadata": {},
     "output_type": "execute_result"
    }
   ],
   "source": [
    "0.11*2*4e-3"
   ]
  }
 ],
 "metadata": {
  "kernelspec": {
   "display_name": "Python 3 (ipykernel)",
   "language": "python",
   "name": "python3"
  },
  "language_info": {
   "codemirror_mode": {
    "name": "ipython",
    "version": 3
   },
   "file_extension": ".py",
   "mimetype": "text/x-python",
   "name": "python",
   "nbconvert_exporter": "python",
   "pygments_lexer": "ipython3",
   "version": "3.10.6"
  }
 },
 "nbformat": 4,
 "nbformat_minor": 5
}
