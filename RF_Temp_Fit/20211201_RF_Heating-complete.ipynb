{
 "cells": [
  {
   "cell_type": "code",
   "execution_count": 1,
   "id": "6e38d604",
   "metadata": {},
   "outputs": [
    {
     "name": "stdout",
     "output_type": "stream",
     "text": [
      "Using matplotlib backend: TkAgg\n",
      "Populating the interactive namespace from numpy and matplotlib\n"
     ]
    }
   ],
   "source": [
    "%pylab"
   ]
  },
  {
   "cell_type": "code",
   "execution_count": 2,
   "id": "d56425c0",
   "metadata": {},
   "outputs": [
    {
     "name": "stdout",
     "output_type": "stream",
     "text": [
      "Using matplotlib backend: TkAgg\n"
     ]
    }
   ],
   "source": [
    "from scipy.optimize import curve_fit\n",
    "from scipy.signal import savgol_filter\n",
    "\n",
    "import tkinter as tk\n",
    "from tkinter import filedialog\n",
    "%matplotlib\n",
    "\n"
   ]
  },
  {
   "cell_type": "code",
   "execution_count": 3,
   "id": "b5a6de0b",
   "metadata": {},
   "outputs": [],
   "source": [
    "def load_file_GUI(dir_string):\n",
    "\n",
    "    root = tk.Tk()\n",
    "    root.withdraw()\n",
    "\n",
    "    file_path = filedialog.askopenfilename(initialdir = dir_string,\n",
    "                                       multiple=True)\n",
    "    return file_path"
   ]
  },
  {
   "cell_type": "code",
   "execution_count": 4,
   "id": "849516ef",
   "metadata": {},
   "outputs": [],
   "source": [
    "%run ../../GiantMol/Functions/1.2/data_fct_Adrien_point_by_point\n",
    "matplotlib.rcParams.update({'font.size': 25})"
   ]
  },
  {
   "cell_type": "code",
   "execution_count": 5,
   "id": "217894fb",
   "metadata": {},
   "outputs": [
    {
     "name": "stdout",
     "output_type": "stream",
     "text": [
      "$\\kappa_{simion}$ = 0.270471\n"
     ]
    }
   ],
   "source": [
    "# Constantes de la physique\n",
    "# ABSOLUMENT RECHARGER APRÈS AVOIR EXECUTÉ LES CASES D'IMPORT AU DESSUS\n",
    "\n",
    "C_e = 1.602e-19        # Coulomb\n",
    "kb = 1.38064852*1e-23  # Boltzman\n",
    "m_Ca = 40.078*1.66054e-27 # masse Ca 40.078\n",
    "m_GM = 1e6*1.66054e-27 # la masse de la GMol\n",
    "eps0 = 8.854187*1e-12  # permittivité électrique du vide\n",
    "\n",
    "r0 = 2.5e-3 # 2.5e-3   # rayon piège Ca+\n",
    "d0 = 4e-3/2            # longueur piège Ca+\n",
    "\n",
    "Omega = 2.05e6*2*pi # 2.047e6\n",
    "\n",
    "bk = 4 # nombre de barreaux par groupe (2 -> 4-pole , 4 -> 8-pole ...)\n",
    "\n",
    "mkappa = 0.23          # écrantage piège réel GiantMol\n",
    "\n",
    "wzLC = (2*pi*90806.9982303)**2\n",
    "kappa_simion = m_Ca*d0**2*wzLC/(2*C_e)\n",
    "print('%s = %f' % ('$\\kappa_{simion}$',kappa_simion) )\n",
    "\n",
    "zeta = kappa_simion*r0**2/d0**2"
   ]
  },
  {
   "cell_type": "code",
   "execution_count": 6,
   "id": "0b3eb3e3",
   "metadata": {},
   "outputs": [],
   "source": [
    "def data_retrieve(all_subdir,points_and_coord, condition_parameters, slash_cfg,**kwargs):\n",
    "\n",
    "    myslashpos = slash_cfg[0]\n",
    "    slashcond = slash_cfg[1]\n",
    "\n",
    "    # determining number of elements on each repetition\n",
    "    try:\n",
    "        num_runs = ['Try'+str(kwargs.get('forcenumtry'))]\n",
    "        num_runs_aux = [runs[myslashpos[slashcond+1]+1:] for runs in all_subdir if list(points_and_coord.keys())[0] in runs]\n",
    "        num_runs_aux = list(dict.fromkeys(num_runs_aux))\n",
    "        num_runs_aux = len(num_runs_aux)\n",
    "        all_subdir = [x for w,x in enumerate(all_subdir) if (w-kwargs.get('forcenumtry'))%num_runs_aux==0]\n",
    "    except:\n",
    "        num_runs = [runs[myslashpos[slashcond+1]+1:] for runs in all_subdir if list(points_and_coord.keys())[0] in runs]\n",
    "        num_runs = list(dict.fromkeys(num_runs))\n",
    "\n",
    "    # number of repetitions\n",
    "    print('> Points |',len(points_and_coord))\n",
    "    print('> Simulations pour chaque point |', num_runs)\n",
    "    \n",
    "    data0 = [[] for i in range(len(points_and_coord))] # file path to SimuType4\n",
    "    data_address = [[] for i in range(len(points_and_coord))]\n",
    "\n",
    "    # Variables à deux coordonnées : [point, try]\n",
    "    shapevar = (len(points_and_coord),len(num_runs))\n",
    "    Time        = []\n",
    "    Temperature = []\n",
    "    \n",
    "    t0 = time.clock()\n",
    "    print(\"Hello\")\n",
    "\n",
    "    # write variables\n",
    "    for k, address in enumerate(all_subdir):\n",
    "\n",
    "    # in-loop variables\n",
    "        pnt = k // len(num_runs)  # actual point\n",
    "        rep = k  % len(num_runs)          # actual repetition\n",
    "\n",
    "        # get only .dat files in each simulation directory\n",
    "        onlyfiles = [f for f in listdir(address) if isfile(join(address, f)) and not \"xva\" in f and \".dat\" in f]\n",
    "        # build path file\n",
    "        data0[pnt].append('{}/{}'.format(address,sort(onlyfiles)[0].strip('.dat')))\n",
    "        data_address[pnt].append(address)\n",
    "\n",
    "        # load fluorescence and T\n",
    "        Time.append( loadtxt(str(data0[pnt][0])+'.dat',unpack=True)[0] )\n",
    "        Temperature.append( loadtxt(str(data0[pnt][0])+'.dat',unpack=True)[4:7] )\n",
    "        \n",
    "        # load cloud size before injection\n",
    "        if not(rep % len(num_runs)):\n",
    "            print( \"Point n°\", pnt )\n",
    "        \n",
    "        print(f'{pnt:02}','-',f'{rep:02}',' > ',data0[pnt][rep])\n",
    "        \n",
    "        if k == len(points_and_coord)*len(num_runs) - 1:\n",
    "            break\n",
    "\n",
    "    t1 = time.clock() - t0\n",
    "    print(\"Time elapsed: \", t1, 's') # CPU seconds elapsed (floating point)\n",
    "    print(\"Time elapsed: \", t1/60, 'm') # CPU seconds elapsed (floating point)\n",
    "    \n",
    "    data_name = [data_address, data0]\n",
    "    \n",
    "    return data_name, num_runs, Time, Temperature "
   ]
  },
  {
   "cell_type": "markdown",
   "id": "14b52a46",
   "metadata": {},
   "source": [
    "# Extract data as npz"
   ]
  },
  {
   "cell_type": "code",
   "execution_count": 7,
   "id": "7a8ea68e",
   "metadata": {},
   "outputs": [
    {
     "name": "stdout",
     "output_type": "stream",
     "text": [
      "('/home/adrian/RemoteFS/Rivendel/Simulations/20211201/DC11_RF00/Try00/Temp_SimuType0_N01024_Vrf0060_Udc0.7000D+01V_nt1000.dat',)\n"
     ]
    }
   ],
   "source": [
    "file_path = load_file_GUI('/home/adrian/Documents/Programmes/Python/GiantMol/SimAnalysisPointbyPoint')\n",
    "print(file_path)"
   ]
  },
  {
   "cell_type": "code",
   "execution_count": 8,
   "id": "6ca9fca3",
   "metadata": {},
   "outputs": [
    {
     "name": "stdout",
     "output_type": "stream",
     "text": [
      "> Répertoire : /home/adrian/RemoteFS/Rivendel/Simulations/20211201/DC11_RF00/Try00\n",
      "> Filename : Temp_SimuType0_N01024_Vrf0060_Udc0.7000D+01V_nt1000.dat\n",
      "> myslashpos | [0, 5, 12, 21, 30, 42, 51, 61]\n",
      "> slashcond | 6\n",
      "Points deleted because they were not complete ['DC11_RF12']   2 pt(s)\n",
      "Total number of data directories 24\n"
     ]
    }
   ],
   "source": [
    "## GUI for data loading\n",
    "# Select one data file all the way down to the directories\n",
    "# SELECT Temp_SimuTypeQ_N ... .dat\n",
    "\n",
    "file_cfg, slash_cfg, all_subdir = load_gui(filter_nocomplete=1)\n",
    "\n",
    "file_path = file_cfg[0]\n",
    "dir_path = file_cfg[1]\n",
    "work_rep = file_cfg[2]\n",
    "filename = file_cfg[3]\n",
    "\n",
    "myslashpos = slash_cfg[0]\n",
    "slashcond = slash_cfg[1]"
   ]
  },
  {
   "cell_type": "code",
   "execution_count": 9,
   "id": "ae2dfbcd",
   "metadata": {},
   "outputs": [
    {
     "name": "stdout",
     "output_type": "stream",
     "text": [
      "['DC11_RF00', 'DC11_RF01', 'DC11_RF02', 'DC11_RF03', 'DC11_RF04', 'DC11_RF05', 'DC11_RF06', 'DC11_RF07', 'DC11_RF08', 'DC11_RF11', 'DC11_RF13', 'DC11_RF14', 'DC11_RF15', 'DC11_RF16', 'DC11_RF17', 'DC11_RF18', 'DC11_RF19', 'DC11_RF20', 'DC11_RF21', 'DC11_RF22', 'DC11_RF23', 'DC11_RF24', 'DC11_RF25', 'DC11_RF26']\n",
      "000 > DC11_RF00\n",
      "001 > DC11_RF01\n",
      "002 > DC11_RF02\n",
      "003 > DC11_RF03\n",
      "004 > DC11_RF04\n",
      "005 > DC11_RF05\n",
      "006 > DC11_RF06\n",
      "007 > DC11_RF07\n",
      "008 > DC11_RF08\n",
      "009 > DC11_RF11\n",
      "010 > DC11_RF13\n",
      "011 > DC11_RF14\n",
      "012 > DC11_RF15\n",
      "013 > DC11_RF16\n",
      "014 > DC11_RF17\n",
      "015 > DC11_RF18\n",
      "016 > DC11_RF19\n",
      "017 > DC11_RF20\n",
      "018 > DC11_RF21\n",
      "019 > DC11_RF22\n",
      "020 > DC11_RF23\n",
      "021 > DC11_RF24\n",
      "022 > DC11_RF25\n",
      "023 > DC11_RF26\n",
      "> condition names ['DC', 'RF']\n",
      "> number of points 24\n",
      "> N_ions = 1024\n",
      "> e_GMol = 50\n"
     ]
    }
   ],
   "source": [
    "## Condition for data\n",
    "points_and_coord, condition_parameters = simu_conditions(all_subdir, myslashpos, slashcond, filename)"
   ]
  },
  {
   "cell_type": "code",
   "execution_count": 10,
   "id": "7bd4aab9",
   "metadata": {
    "scrolled": true
   },
   "outputs": [
    {
     "name": "stdout",
     "output_type": "stream",
     "text": [
      "> Points | 24\n",
      "> Simulations pour chaque point | ['Try00']\n",
      "Hello\n",
      "Point n° 0\n",
      "00 - 00  >  /home/adrian/RemoteFS/Rivendel/Simulations/20211201/DC11_RF00/Try00/Temp_SimuType0_N01024_Vrf0060_Udc0.7000D+01V_nt1000\n",
      "Point n° 1\n",
      "01 - 00  >  /home/adrian/RemoteFS/Rivendel/Simulations/20211201/DC11_RF01/Try00/Temp_SimuType0_N01024_Vrf0061_Udc0.7000D+01V_nt1000\n",
      "Point n° 2\n",
      "02 - 00  >  /home/adrian/RemoteFS/Rivendel/Simulations/20211201/DC11_RF02/Try00/Temp_SimuType0_N01024_Vrf0062_Udc0.7000D+01V_nt1000\n",
      "Point n° 3\n",
      "03 - 00  >  /home/adrian/RemoteFS/Rivendel/Simulations/20211201/DC11_RF03/Try00/Temp_SimuType0_N01024_Vrf0063_Udc0.7000D+01V_nt1000\n",
      "Point n° 4\n",
      "04 - 00  >  /home/adrian/RemoteFS/Rivendel/Simulations/20211201/DC11_RF04/Try00/Temp_SimuType0_N01024_Vrf0064_Udc0.7000D+01V_nt1000\n",
      "Point n° 5\n",
      "05 - 00  >  /home/adrian/RemoteFS/Rivendel/Simulations/20211201/DC11_RF05/Try00/Temp_SimuType0_N01024_Vrf0065_Udc0.7000D+01V_nt1000\n",
      "Point n° 6\n",
      "06 - 00  >  /home/adrian/RemoteFS/Rivendel/Simulations/20211201/DC11_RF06/Try00/Temp_SimuType0_N01024_Vrf0066_Udc0.7000D+01V_nt1000\n",
      "Point n° 7\n",
      "07 - 00  >  /home/adrian/RemoteFS/Rivendel/Simulations/20211201/DC11_RF07/Try00/Temp_SimuType0_N01024_Vrf0067_Udc0.7000D+01V_nt1000\n",
      "Point n° 8\n",
      "08 - 00  >  /home/adrian/RemoteFS/Rivendel/Simulations/20211201/DC11_RF08/Try00/Temp_SimuType0_N01024_Vrf0068_Udc0.7000D+01V_nt1000\n",
      "Point n° 9\n",
      "09 - 00  >  /home/adrian/RemoteFS/Rivendel/Simulations/20211201/DC11_RF11/Try00/Temp_SimuType0_N01024_Vrf0062_Udc0.7000D+01V_nt1000\n",
      "Point n° 10\n",
      "10 - 00  >  /home/adrian/RemoteFS/Rivendel/Simulations/20211201/DC11_RF13/Try00/Temp_SimuType0_N01024_Vrf0062_Udc0.7000D+01V_nt1000\n",
      "Point n° 11\n",
      "11 - 00  >  /home/adrian/RemoteFS/Rivendel/Simulations/20211201/DC11_RF14/Try00/Temp_SimuType0_N01024_Vrf0062_Udc0.7000D+01V_nt1000\n",
      "Point n° 12\n",
      "12 - 00  >  /home/adrian/RemoteFS/Rivendel/Simulations/20211201/DC11_RF15/Try00/Temp_SimuType0_N01024_Vrf0063_Udc0.7000D+01V_nt1000\n",
      "Point n° 13\n",
      "13 - 00  >  /home/adrian/RemoteFS/Rivendel/Simulations/20211201/DC11_RF16/Try00/Temp_SimuType0_N01024_Vrf0063_Udc0.7000D+01V_nt1000\n",
      "Point n° 14\n",
      "14 - 00  >  /home/adrian/RemoteFS/Rivendel/Simulations/20211201/DC11_RF17/Try00/Temp_SimuType0_N01024_Vrf0063_Udc0.7000D+01V_nt1000\n",
      "Point n° 15\n",
      "15 - 00  >  /home/adrian/RemoteFS/Rivendel/Simulations/20211201/DC11_RF18/Try00/Temp_SimuType0_N01024_Vrf0063_Udc0.7000D+01V_nt1000\n",
      "Point n° 16\n",
      "16 - 00  >  /home/adrian/RemoteFS/Rivendel/Simulations/20211201/DC11_RF19/Try00/Temp_SimuType0_N01024_Vrf0040_Udc0.7000D+01V_nt1000\n",
      "Point n° 17\n",
      "17 - 00  >  /home/adrian/RemoteFS/Rivendel/Simulations/20211201/DC11_RF20/Try00/Temp_SimuType0_N01024_Vrf0045_Udc0.7000D+01V_nt1000\n",
      "Point n° 18\n",
      "18 - 00  >  /home/adrian/RemoteFS/Rivendel/Simulations/20211201/DC11_RF21/Try00/Temp_SimuType0_N01024_Vrf0050_Udc0.7000D+01V_nt1000\n",
      "Point n° 19\n",
      "19 - 00  >  /home/adrian/RemoteFS/Rivendel/Simulations/20211201/DC11_RF22/Try00/Temp_SimuType0_N01024_Vrf0055_Udc0.7000D+01V_nt1000\n",
      "Point n° 20\n",
      "20 - 00  >  /home/adrian/RemoteFS/Rivendel/Simulations/20211201/DC11_RF23/Try00/Temp_SimuType0_N01024_Vrf0070_Udc0.7000D+01V_nt1000\n",
      "Point n° 21\n",
      "21 - 00  >  /home/adrian/RemoteFS/Rivendel/Simulations/20211201/DC11_RF24/Try00/Temp_SimuType0_N01024_Vrf0075_Udc0.7000D+01V_nt1000\n",
      "Point n° 22\n",
      "22 - 00  >  /home/adrian/RemoteFS/Rivendel/Simulations/20211201/DC11_RF25/Try00/Temp_SimuType0_N01024_Vrf0080_Udc0.7000D+01V_nt1000\n",
      "Point n° 23\n",
      "23 - 00  >  /home/adrian/RemoteFS/Rivendel/Simulations/20211201/DC11_RF26/Try00/Temp_SimuType0_N01024_Vrf0085_Udc0.7000D+01V_nt1000\n",
      "Time elapsed:  42.79072600000001 s\n",
      "Time elapsed:  0.7131787666666668 m\n"
     ]
    }
   ],
   "source": [
    "## Data loading (1D arrays)\n",
    "data_name, num_runs, Time, Temperature \\\n",
    "= data_retrieve(all_subdir,points_and_coord,condition_parameters,slash_cfg) # stopping_power  ,forcenumtry=28"
   ]
  },
  {
   "cell_type": "code",
   "execution_count": 11,
   "id": "12f3c366",
   "metadata": {
    "scrolled": false
   },
   "outputs": [
    {
     "name": "stdout",
     "output_type": "stream",
     "text": [
      "DC11_RF00\n",
      "DC11_RF01\n",
      "DC11_RF02\n",
      "DC11_RF03\n",
      "DC11_RF04\n",
      "DC11_RF05\n",
      "DC11_RF06\n",
      "DC11_RF07\n",
      "DC11_RF08\n",
      "DC11_RF11\n",
      "DC11_RF13\n",
      "DC11_RF14\n",
      "DC11_RF15\n",
      "DC11_RF16\n",
      "DC11_RF17\n",
      "DC11_RF18\n",
      "DC11_RF19\n",
      "DC11_RF20\n",
      "DC11_RF21\n",
      "DC11_RF22\n",
      "DC11_RF23\n",
      "DC11_RF24\n",
      "DC11_RF25\n",
      "DC11_RF26\n"
     ]
    }
   ],
   "source": [
    "for j,k in enumerate(data_name[0]):\n",
    "    cond = k[0][52:61]\n",
    "    print(cond)\n",
    "    outfile = 'Time_and_temp_RFHEAT_'+str(cond)\n",
    "    np.savez( outfile, time=Time[j], temp = mean(Temperature[j],axis=0)) # dirname_hc=re.sub(r'\\\\',r'/',dirname_hc)"
   ]
  },
  {
   "cell_type": "code",
   "execution_count": 14,
   "id": "00563578",
   "metadata": {},
   "outputs": [
    {
     "name": "stdout",
     "output_type": "stream",
     "text": [
      "[0.00100062 0.00100112 0.00100162 ... 0.05099912 0.05099962 0.05100012]\n",
      "[0.00331275 0.00445442 0.00304557 ... 0.00423682 0.00426452 0.00424611]\n",
      "(100000,)\n",
      "(100000,)\n"
     ]
    }
   ],
   "source": [
    "# load check\n",
    "cond = 'DC11_RF19'\n",
    "outfile = 'Time_and_temp_RFHEAT_'+str(cond)\n",
    "with load(outfile+'.npz') as data:\n",
    "    a = data['time']\n",
    "    b = data['temp']\n",
    "print(a)\n",
    "print(b)\n",
    "print(shape(a))\n",
    "print(shape(b))"
   ]
  },
  {
   "cell_type": "code",
   "execution_count": 81,
   "id": "fc5a73a5",
   "metadata": {
    "collapsed": true
   },
   "outputs": [
    {
     "name": "stdout",
     "output_type": "stream",
     "text": [
      "Variable                                       Type                          Data/Info\n",
      "--------------------------------------------------------------------------------------\n",
      "C_e                                            float                         1.602e-19\n",
      "Omega                                          float                         12880529.879718151\n",
      "Path                                           type                          <class 'pathlib.Path'>\n",
      "T_max                                          int                           50\n",
      "T_thr                                          int                           1\n",
      "Temperature                                    list                          n=24\n",
      "Time                                           list                          n=24\n",
      "Urf                                            list                          n=25\n",
      "a                                              ndarray                       100000: 100000 elems, type `float64`, 800000 bytes (781.25 kb)\n",
      "all_subdir                                     list                          n=24\n",
      "b                                              ndarray                       100000: 100000 elems, type `float64`, 800000 bytes (781.25 kb)\n",
      "bk                                             int                           4\n",
      "cc                                             function                      <function cc at 0x7f15361eb840>\n",
      "cloud_size                                     function                      <function cloud_size at 0x7f15361eb6a8>\n",
      "cond                                           str                           DC11_RF26\n",
      "condition_parameters                           list                          n=3\n",
      "convert_dico_to_var                            function                      <function convert_dico_to_var at 0x7f1536a83730>\n",
      "curve_fit                                      function                      <function curve_fit at 0x7f1537352400>\n",
      "d0                                             float                         0.002\n",
      "data                                           NpzFile                       <numpy.lib.npyio.NpzFile <...>object at 0x7f156d6780b8>\n",
      "data_check                                     function                      <function data_check at 0x7f15361eb598>\n",
      "data_name                                      list                          n=2\n",
      "data_retrieve                                  function                      <function data_retrieve at 0x7f15361eba60>\n",
      "data_retrieve_RFRelax                          function                      <function data_retrieve_R<...>FRelax at 0x7f15361eb400>\n",
      "data_retrieve_onefile                          function                      <function data_retrieve_o<...>nefile at 0x7f15361eb378>\n",
      "dfunc2_dt                                      function                      <function dfunc2_dt at 0x7f1533a7eb70>\n",
      "dir_path                                       PosixPath                     /home/adrian/RemoteFS/Riv<...>/20211201/DC11_RF00/Try00\n",
      "energy_lost                                    function                      <function energy_lost at 0x7f15361eb048>\n",
      "eps0                                           float                         8.854186999999999e-12\n",
      "fft                                            function                      <function fft at 0x7f156c1a5f28>\n",
      "file_cfg                                       list                          n=4\n",
      "file_name_retrieve                             function                      <function file_name_retrieve at 0x7f15361eb620>\n",
      "file_path                                      tuple                         n=25\n",
      "filedialog                                     module                        <module 'tkinter.filedial<...>6/tkinter/filedialog.py'>\n",
      "filename                                       str                           Temp_SimuType0_N01024_Vrf<...>Udc0.7000D+01V_nt1000.dat\n",
      "find_PM_variation_FinalT                       function                      <function find_PM_variati<...>FinalT at 0x7f1536a83f28>\n",
      "func2                                          function                      <function func2 at 0x7f1533a7e1e0>\n",
      "get_sec                                        function                      <function get_sec at 0x7f15361eb8c8>\n",
      "i                                              int                           24\n",
      "i_aux                                          tuple                         n=2\n",
      "imax                                           int                           25\n",
      "import_data                                    function                      <function import_data at 0x7f1536a836a8>\n",
      "info                                           module                        <module 'numpy.linalg.inf<...>es/numpy/linalg/info.py'>\n",
      "isfile                                         function                      <function isfile at 0x7f157583da60>\n",
      "j                                              int                           23\n",
      "join                                           function                      <function join at 0x7f15757e7620>\n",
      "k                                              list                          n=1\n",
      "k_max                                          int64                         22\n",
      "k_min                                          int64                         22\n",
      "k_thr                                          int64                         22\n",
      "kappa_simion                                   float                         0.27047133360403336\n",
      "kb                                             float                         1.38064852e-23\n",
      "linalg                                         module                        <module 'numpy.linalg.lin<...>/numpy/linalg/linalg.py'>\n",
      "listdir                                        builtin_function_or_method    <built-in function listdir>\n",
      "load_RF_relax                                  function                      <function load_RF_relax at 0x7f15361eb7b8>\n",
      "load_T_PM_cloud_GMol                           function                      <function load_T_PM_cloud_GMol at 0x7f15361eb730>\n",
      "load_T_and_PM_simu                             function                      <function load_T_and_PM_simu at 0x7f1536a837b8>\n",
      "load_T_and_PM_simu_noGMOL                      function                      <function load_T_and_PM_s<...>noGMOL at 0x7f1536a83840>\n",
      "load_Temp_init_bin_Lan                         function                      <function load_Temp_init_<...>in_Lan at 0x7f15361eb488>\n",
      "load_cloud_trj                                 function                      <function load_cloud_trj at 0x7f15361eb158>\n",
      "load_file_GUI                                  function                      <function load_file_GUI at 0x7f1536a70268>\n",
      "load_gui                                       function                      <function load_gui at 0x7f15361eb1e0>\n",
      "load_trj                                       function                      <function load_trj at 0x7f15361eb0d0>\n",
      "load_xva_init_bin_Lan                          function                      <function load_xva_init_b<...>in_Lan at 0x7f15361eb510>\n",
      "load_xyz_init_bin_DP                           function                      <function load_xyz_init_bin_DP at 0x7f1536a838c8>\n",
      "m_Ca                                           float                         6.655112212e-26\n",
      "m_GM                                           float                         1.66054e-21\n",
      "mcolors                                        module                        <module 'matplotlib.color<...>es/matplotlib/colors.py'>\n",
      "mkappa                                         float                         0.23\n",
      "myslashpos                                     list                          n=8\n",
      "natsorted                                      function                      <function natsorted at 0x7f1536a832f0>\n",
      "num_runs                                       list                          n=1\n",
      "os                                             module                        <module 'os' from '/home/<...>307/lib/python3.6/os.py'>\n",
      "outfile                                        str                           Time_and_temp_RFHEAT_DC11_RF26\n",
      "plot_T_and_PM_Evol                             function                      <function plot_T_and_PM_Evol at 0x7f1536a83d08>\n",
      "plot_T_and_PM_Init                             function                      <function plot_T_and_PM_Init at 0x7f1536a83b70>\n",
      "plot_T_and_PM_InitQ_Evol_AfterCool             function                      <function plot_T_and_PM_I<...>erCool at 0x7f1536a83ea0>\n",
      "plot_T_and_PM_InitQ_Inje                       function                      <function plot_T_and_PM_I<...>Q_Inje at 0x7f1536a83ae8>\n",
      "plot_T_and_PM_InitQ_Inje_Evol                  function                      <function plot_T_and_PM_I<...>e_Evol at 0x7f1536a83a60>\n",
      "plot_T_and_PM_Init_Inje_Evol                   function                      <function plot_T_and_PM_I<...>e_Evol at 0x7f1536a839d8>\n",
      "plot_T_and_PM_Init_RFrelax_AfterCooling_Evol   function                      <function plot_T_and_PM_I<...>g_Evol at 0x7f1536a83d90>\n",
      "plot_T_and_PM_Init_RFrelax_AfterInj_Evol       function                      <function plot_T_and_PM_I<...>j_Evol at 0x7f1536a83e18>\n",
      "plot_T_and_PM_Inje                             function                      <function plot_T_and_PM_Inje at 0x7f1536a83c80>\n",
      "plot_T_and_PM_Quen                             function                      <function plot_T_and_PM_Quen at 0x7f1536a83bf8>\n",
      "plot_XYZ                                       function                      <function plot_XYZ at 0x7f1536a83950>\n",
      "points_and_coord                               dict                          n=24\n",
      "power                                          builtin_function_or_method    <built-in method power of<...>object at 0x7f156c1081f8>\n",
      "r0                                             float                         0.0025\n",
      "random                                         builtin_function_or_method    <built-in method random_s<...>object at 0x7f156c1081f8>\n",
      "re                                             module                        <module 're' from '/home/<...>307/lib/python3.6/re.py'>\n",
      "simu_conditions                                function                      <function simu_conditions at 0x7f15361eb268>\n",
      "size_data                                      function                      <function size_data at 0x7f1536a70378>\n",
      "slash_cfg                                      list                          n=2\n",
      "slashcond                                      int                           6\n",
      "timeit                                         module                        <module 'timeit' from '/h<...>lib/python3.6/timeit.py'>\n",
      "tk                                             module                        <module 'tkinter' from '/<...>3.6/tkinter/__init__.py'>\n",
      "work_rep                                       str                           /home/adrian/RemoteFS/Riv<...>/20211201/DC11_RF00/Try00\n",
      "wzLC                                           float                         325535515128.0366\n",
      "zeta                                           float                         0.4226114587563022\n"
     ]
    }
   ],
   "source": [
    "whos"
   ]
  },
  {
   "cell_type": "markdown",
   "id": "d654753c",
   "metadata": {},
   "source": [
    "# Work with data"
   ]
  },
  {
   "cell_type": "code",
   "execution_count": 13,
   "id": "18543d2c",
   "metadata": {},
   "outputs": [
    {
     "name": "stdout",
     "output_type": "stream",
     "text": [
      "('/home/adrien/RemoteFS/Rivendel/Simulations/20211201/Time_and_temp_RFHEAT_N1024_DC11_RF00.npz', '/home/adrien/RemoteFS/Rivendel/Simulations/20211201/Time_and_temp_RFHEAT_N1024_DC11_RF01.npz', '/home/adrien/RemoteFS/Rivendel/Simulations/20211201/Time_and_temp_RFHEAT_N1024_DC11_RF02.npz', '/home/adrien/RemoteFS/Rivendel/Simulations/20211201/Time_and_temp_RFHEAT_N1024_DC11_RF03.npz', '/home/adrien/RemoteFS/Rivendel/Simulations/20211201/Time_and_temp_RFHEAT_N1024_DC11_RF04.npz', '/home/adrien/RemoteFS/Rivendel/Simulations/20211201/Time_and_temp_RFHEAT_N1024_DC11_RF05.npz', '/home/adrien/RemoteFS/Rivendel/Simulations/20211201/Time_and_temp_RFHEAT_N1024_DC11_RF06.npz', '/home/adrien/RemoteFS/Rivendel/Simulations/20211201/Time_and_temp_RFHEAT_N1024_DC11_RF07.npz', '/home/adrien/RemoteFS/Rivendel/Simulations/20211201/Time_and_temp_RFHEAT_N1024_DC11_RF08.npz', '/home/adrien/RemoteFS/Rivendel/Simulations/20211201/Time_and_temp_RFHEAT_N1024_DC11_RF11.npz', '/home/adrien/RemoteFS/Rivendel/Simulations/20211201/Time_and_temp_RFHEAT_N1024_DC11_RF12.npz', '/home/adrien/RemoteFS/Rivendel/Simulations/20211201/Time_and_temp_RFHEAT_N1024_DC11_RF13.npz', '/home/adrien/RemoteFS/Rivendel/Simulations/20211201/Time_and_temp_RFHEAT_N1024_DC11_RF14.npz', '/home/adrien/RemoteFS/Rivendel/Simulations/20211201/Time_and_temp_RFHEAT_N1024_DC11_RF15.npz', '/home/adrien/RemoteFS/Rivendel/Simulations/20211201/Time_and_temp_RFHEAT_N1024_DC11_RF16.npz', '/home/adrien/RemoteFS/Rivendel/Simulations/20211201/Time_and_temp_RFHEAT_N1024_DC11_RF17.npz', '/home/adrien/RemoteFS/Rivendel/Simulations/20211201/Time_and_temp_RFHEAT_N1024_DC11_RF18.npz', '/home/adrien/RemoteFS/Rivendel/Simulations/20211201/Time_and_temp_RFHEAT_N1024_DC11_RF19.npz', '/home/adrien/RemoteFS/Rivendel/Simulations/20211201/Time_and_temp_RFHEAT_N1024_DC11_RF20.npz', '/home/adrien/RemoteFS/Rivendel/Simulations/20211201/Time_and_temp_RFHEAT_N1024_DC11_RF21.npz', '/home/adrien/RemoteFS/Rivendel/Simulations/20211201/Time_and_temp_RFHEAT_N1024_DC11_RF22.npz', '/home/adrien/RemoteFS/Rivendel/Simulations/20211201/Time_and_temp_RFHEAT_N1024_DC11_RF23.npz', '/home/adrien/RemoteFS/Rivendel/Simulations/20211201/Time_and_temp_RFHEAT_N1024_DC11_RF24.npz', '/home/adrien/RemoteFS/Rivendel/Simulations/20211201/Time_and_temp_RFHEAT_N1024_DC11_RF25.npz', '/home/adrien/RemoteFS/Rivendel/Simulations/20211201/Time_and_temp_RFHEAT_N1024_DC11_RF26.npz')\n"
     ]
    }
   ],
   "source": [
    "file_path = load_file_GUI('/home/adrian/Documents/Programmes/Python')\n",
    "print(file_path)"
   ]
  },
  {
   "cell_type": "code",
   "execution_count": 21,
   "id": "8b8b4d00",
   "metadata": {
    "scrolled": true
   },
   "outputs": [
    {
     "name": "stdout",
     "output_type": "stream",
     "text": [
      "0 /home/adrien/RemoteFS/Rivendel/Simulations/20211201/Time_and_temp_RFHEAT_N1024_DC11_RF00.npz\n",
      "1 /home/adrien/RemoteFS/Rivendel/Simulations/20211201/Time_and_temp_RFHEAT_N1024_DC11_RF01.npz\n",
      "2 /home/adrien/RemoteFS/Rivendel/Simulations/20211201/Time_and_temp_RFHEAT_N1024_DC11_RF02.npz\n",
      "3 /home/adrien/RemoteFS/Rivendel/Simulations/20211201/Time_and_temp_RFHEAT_N1024_DC11_RF03.npz\n",
      "4 /home/adrien/RemoteFS/Rivendel/Simulations/20211201/Time_and_temp_RFHEAT_N1024_DC11_RF04.npz\n",
      "5 /home/adrien/RemoteFS/Rivendel/Simulations/20211201/Time_and_temp_RFHEAT_N1024_DC11_RF05.npz\n",
      "6 /home/adrien/RemoteFS/Rivendel/Simulations/20211201/Time_and_temp_RFHEAT_N1024_DC11_RF06.npz\n",
      "7 /home/adrien/RemoteFS/Rivendel/Simulations/20211201/Time_and_temp_RFHEAT_N1024_DC11_RF07.npz\n",
      "8 /home/adrien/RemoteFS/Rivendel/Simulations/20211201/Time_and_temp_RFHEAT_N1024_DC11_RF08.npz\n",
      "9 /home/adrien/RemoteFS/Rivendel/Simulations/20211201/Time_and_temp_RFHEAT_N1024_DC11_RF11.npz\n",
      "10 /home/adrien/RemoteFS/Rivendel/Simulations/20211201/Time_and_temp_RFHEAT_N1024_DC11_RF12.npz\n",
      "11 /home/adrien/RemoteFS/Rivendel/Simulations/20211201/Time_and_temp_RFHEAT_N1024_DC11_RF13.npz\n",
      "12 /home/adrien/RemoteFS/Rivendel/Simulations/20211201/Time_and_temp_RFHEAT_N1024_DC11_RF14.npz\n",
      "13 /home/adrien/RemoteFS/Rivendel/Simulations/20211201/Time_and_temp_RFHEAT_N1024_DC11_RF15.npz\n",
      "14 /home/adrien/RemoteFS/Rivendel/Simulations/20211201/Time_and_temp_RFHEAT_N1024_DC11_RF16.npz\n",
      "15 /home/adrien/RemoteFS/Rivendel/Simulations/20211201/Time_and_temp_RFHEAT_N1024_DC11_RF17.npz\n",
      "16 /home/adrien/RemoteFS/Rivendel/Simulations/20211201/Time_and_temp_RFHEAT_N1024_DC11_RF18.npz\n",
      "17 /home/adrien/RemoteFS/Rivendel/Simulations/20211201/Time_and_temp_RFHEAT_N1024_DC11_RF19.npz\n",
      "18 /home/adrien/RemoteFS/Rivendel/Simulations/20211201/Time_and_temp_RFHEAT_N1024_DC11_RF20.npz\n",
      "19 /home/adrien/RemoteFS/Rivendel/Simulations/20211201/Time_and_temp_RFHEAT_N1024_DC11_RF21.npz\n",
      "20 /home/adrien/RemoteFS/Rivendel/Simulations/20211201/Time_and_temp_RFHEAT_N1024_DC11_RF22.npz\n",
      "21 /home/adrien/RemoteFS/Rivendel/Simulations/20211201/Time_and_temp_RFHEAT_N1024_DC11_RF23.npz\n",
      "22 /home/adrien/RemoteFS/Rivendel/Simulations/20211201/Time_and_temp_RFHEAT_N1024_DC11_RF24.npz\n",
      "23 /home/adrien/RemoteFS/Rivendel/Simulations/20211201/Time_and_temp_RFHEAT_N1024_DC11_RF25.npz\n",
      "24 /home/adrien/RemoteFS/Rivendel/Simulations/20211201/Time_and_temp_RFHEAT_N1024_DC11_RF26.npz\n",
      "(25,)\n",
      "(25,)\n"
     ]
    },
    {
     "name": "stderr",
     "output_type": "stream",
     "text": [
      "/usr/lib/python3/dist-packages/numpy/core/fromnumeric.py:1970: VisibleDeprecationWarning: Creating an ndarray from ragged nested sequences (which is a list-or-tuple of lists-or-tuples-or ndarrays with different lengths or shapes) is deprecated. If you meant to do this, you must specify 'dtype=object' when creating the ndarray.\n",
      "  result = asarray(a).shape\n"
     ]
    }
   ],
   "source": [
    "# load check\n",
    "# cond = 'DC11_RF00'\n",
    "# outfile = 'Time_and_temp_RFHEAT_'+str(cond)\n",
    "Time = []\n",
    "Temperature = []\n",
    "for j,k in enumerate(file_path):\n",
    "    with load(k) as data:\n",
    "        Time.append( data['time'] )\n",
    "        Temperature.append( data['temp'] )\n",
    "    print(j,k)\n",
    "print(shape(Time))\n",
    "print(shape(Temperature))"
   ]
  },
  {
   "cell_type": "code",
   "execution_count": 22,
   "id": "f79d88ed",
   "metadata": {},
   "outputs": [
    {
     "name": "stdout",
     "output_type": "stream",
     "text": [
      "[60.0, 61.0, 62.0, 63.0, 64.0, 65.0, 66.0, 67.0, 68.0, 62.2, 62.6, 62.8, 63.2, 63.4, 63.6, 63.8, 40.0, 45.0, 50.0, 55.0, 70.0, 75.0, 80.0, 85.0]\n",
      "24\n"
     ]
    }
   ],
   "source": [
    "Urf = list(linspace(60,68,9)) \\\n",
    "    + [62.2, 62.6, 62.8, 63.2, 63.4, 63.6, 63.8] \\\n",
    "    + list(linspace(40,55,4)) \\\n",
    "    + list(linspace(70,85,4))\n",
    "print(Urf)\n",
    "print(len(Urf))"
   ]
  },
  {
   "cell_type": "code",
   "execution_count": 23,
   "id": "be9d3bc9",
   "metadata": {},
   "outputs": [
    {
     "name": "stdout",
     "output_type": "stream",
     "text": [
      "imax 24\n",
      "19 55.0\n"
     ]
    },
    {
     "data": {
      "text/plain": [
       "<matplotlib.legend.Legend at 0x7f2329068460>"
      ]
     },
     "execution_count": 23,
     "metadata": {},
     "output_type": "execute_result"
    }
   ],
   "source": [
    "imax = len(Urf)\n",
    "print('imax',imax)\n",
    "\n",
    "T_max = 50\n",
    "T_thr = 1\n",
    "\n",
    "figure(10); clf();\n",
    "i = 19\n",
    "print(i,Urf[i])\n",
    "#     subplot(1,9,i+1)\n",
    "semilogy(Time[i]*1e3,savgol_filter(Temperature[i],31,1),label=' Vrf = '+str(Urf[i]))\n",
    "#     semilogy(time[i][:]*1e3,Temp[i][:],label=' Vrf = '+str(Urf[i]))\n",
    "#         semilogy(time[k_thr],Temp[i,j,k_thr],'o')\n",
    "grid()\n",
    "legend(fontsize=12)"
   ]
  },
  {
   "cell_type": "code",
   "execution_count": 24,
   "id": "ffddbf05",
   "metadata": {},
   "outputs": [
    {
     "name": "stdout",
     "output_type": "stream",
     "text": [
      "imax 24\n",
      "0\n",
      "1\n",
      "2\n",
      "3\n",
      "4\n",
      "5\n",
      "6\n",
      "7\n",
      "8\n",
      "9\n",
      "10\n",
      "11\n",
      "12\n",
      "13\n",
      "14\n",
      "15\n",
      "16\n",
      "17\n",
      "18\n",
      "19\n",
      "20\n",
      "21\n",
      "22\n"
     ]
    },
    {
     "name": "stderr",
     "output_type": "stream",
     "text": [
      "/tmp/ipykernel_31798/3527813628.py:30: UserWarning: Tight layout not applied. tight_layout cannot make axes width small enough to accommodate all axes decorations\n",
      "  tight_layout()\n"
     ]
    }
   ],
   "source": [
    "# plot all temperature curves\n",
    "\n",
    "imax = len(Urf)\n",
    "print('imax',imax)\n",
    "\n",
    "T_max = 50\n",
    "T_thr = 1\n",
    "\n",
    "figure(1); clf();\n",
    "for i in range(0,imax-1):\n",
    "    print(i)\n",
    "    k_max = argmin(abs(Temperature[i] - T_max))\n",
    "    k_thr = argmin(abs(Temperature[i] - T_thr))\n",
    "    k_min = k_thr - (k_max - k_thr)\n",
    "    if k_min < 0:\n",
    "        k_min = 0\n",
    "\n",
    "    i_aux = where(diff(abs(diff(Temperature[i][k_thr:k_max])))>2)\n",
    "    if size(i_aux) != 0 :\n",
    "        if (i_aux[0][0]+k_thr < k_max):\n",
    "            k_max = i_aux[0][0]+k_thr\n",
    "\n",
    "#     subplot(1,9,i+1)\n",
    "    subplot(imax//3,4,i+1)\n",
    "    semilogy(Time[i][k_min:k_max]*1e3,Temperature[i][k_min:k_max],label=' Vrf = '+str(Urf[i]))\n",
    "#     semilogy(time[i][:]*1e3,Temp[i][:],label=' Vrf = '+str(Urf[i]))\n",
    "#         semilogy(time[k_thr],Temp[i,j,k_thr],'o')\n",
    "    grid()\n",
    "    legend(fontsize=12)\n",
    "tight_layout()"
   ]
  },
  {
   "cell_type": "code",
   "execution_count": 25,
   "id": "5734000e",
   "metadata": {},
   "outputs": [],
   "source": [
    "# Functions for fit\n",
    "\n",
    "def func2(t, t0, A, B,  C, D):\n",
    "    return A*(t-t0) / (C+(t-t0)**2)**D + B\n",
    "\n",
    "def dfunc2_dt(t, t0, A, B,  C, D):\n",
    "    return 10**(A*(C + (t - t0)**2)**(-D)*(t - t0) + B)*(-A*D*(C + (t - t0)**2)**(-D)*(t - t0)*(2*t - 2*t0)/(C + (t - t0)**2) + A*(C + (t - t0)**2)**(-D))*log(10)"
   ]
  },
  {
   "cell_type": "code",
   "execution_count": 27,
   "id": "8f9c15c9",
   "metadata": {
    "scrolled": true,
    "tags": []
   },
   "outputs": [
    {
     "name": "stdout",
     "output_type": "stream",
     "text": [
      "<<< 0 >>>\n",
      "60.0\n",
      "31892 31732 30753 28795\n",
      "<<< 1 >>>\n",
      "61.0\n",
      "23609 21381 20630 19128\n",
      "<<< 2 >>>\n",
      "62.0\n",
      "13529 12618 12171 11277\n",
      "<<< 3 >>>\n",
      "63.0\n",
      "8329 5953 5630 4984\n",
      "<<< 4 >>>\n",
      "64.0\n",
      "5901 5898 5300 4104\n",
      "<<< 5 >>>\n",
      "65.0\n",
      "6127 4549 3861 2485\n",
      "<<< 6 >>>\n",
      "66.0\n",
      "3489 3475 2948 1894\n"
     ]
    },
    {
     "name": "stderr",
     "output_type": "stream",
     "text": [
      "/tmp/ipykernel_31798/3957889884.py:4: RuntimeWarning: invalid value encountered in power\n",
      "  return A*(t-t0) / (C+(t-t0)**2)**D + B\n",
      "/tmp/ipykernel_31798/3957889884.py:4: RuntimeWarning: invalid value encountered in power\n",
      "  return A*(t-t0) / (C+(t-t0)**2)**D + B\n",
      "/tmp/ipykernel_31798/3957889884.py:4: RuntimeWarning: invalid value encountered in power\n",
      "  return A*(t-t0) / (C+(t-t0)**2)**D + B\n",
      "/tmp/ipykernel_31798/3957889884.py:4: RuntimeWarning: invalid value encountered in power\n",
      "  return A*(t-t0) / (C+(t-t0)**2)**D + B\n",
      "/tmp/ipykernel_31798/3957889884.py:4: RuntimeWarning: invalid value encountered in power\n",
      "  return A*(t-t0) / (C+(t-t0)**2)**D + B\n",
      "/tmp/ipykernel_31798/3957889884.py:4: RuntimeWarning: invalid value encountered in power\n",
      "  return A*(t-t0) / (C+(t-t0)**2)**D + B\n",
      "/tmp/ipykernel_31798/3957889884.py:4: RuntimeWarning: invalid value encountered in power\n",
      "  return A*(t-t0) / (C+(t-t0)**2)**D + B\n"
     ]
    },
    {
     "name": "stdout",
     "output_type": "stream",
     "text": [
      "<<< 7 >>>\n",
      "67.0\n",
      "4980 2467 2130 1456\n",
      "<<< 8 >>>\n",
      "68.0\n",
      "4388 1399 974 124\n",
      "<<< 9 >>>\n",
      "62.2\n",
      "13609 11524 10515 8497\n",
      "<<< 10 >>>\n",
      "62.6\n",
      "5485 3176 2419 905\n"
     ]
    },
    {
     "name": "stderr",
     "output_type": "stream",
     "text": [
      "/tmp/ipykernel_31798/3957889884.py:4: RuntimeWarning: invalid value encountered in power\n",
      "  return A*(t-t0) / (C+(t-t0)**2)**D + B\n",
      "/tmp/ipykernel_31798/3957889884.py:4: RuntimeWarning: invalid value encountered in power\n",
      "  return A*(t-t0) / (C+(t-t0)**2)**D + B\n",
      "/tmp/ipykernel_31798/3957889884.py:4: RuntimeWarning: invalid value encountered in power\n",
      "  return A*(t-t0) / (C+(t-t0)**2)**D + B\n",
      "/tmp/ipykernel_31798/3957889884.py:4: RuntimeWarning: invalid value encountered in power\n",
      "  return A*(t-t0) / (C+(t-t0)**2)**D + B\n"
     ]
    },
    {
     "name": "stdout",
     "output_type": "stream",
     "text": [
      "<<< 11 >>>\n",
      "62.8\n",
      "13522 10221 9333 7557\n",
      "<<< 12 >>>\n",
      "63.2\n",
      "11919 8457 7843 6615\n",
      "<<< 13 >>>\n",
      "63.4\n",
      "10089 8804 7787 5753\n",
      "<<< 14 >>>\n",
      "63.6\n",
      "9969 7276 6310 4378\n",
      "<<< 15 >>>\n",
      "63.8\n",
      "10673 6787 6125 4801\n",
      "<<< 16 >>>\n",
      "40.0\n",
      "9071 6734 6090 4802\n"
     ]
    },
    {
     "name": "stderr",
     "output_type": "stream",
     "text": [
      "/tmp/ipykernel_31798/3957889884.py:4: RuntimeWarning: invalid value encountered in power\n",
      "  return A*(t-t0) / (C+(t-t0)**2)**D + B\n",
      "/tmp/ipykernel_31798/3957889884.py:4: RuntimeWarning: invalid value encountered in power\n",
      "  return A*(t-t0) / (C+(t-t0)**2)**D + B\n",
      "/tmp/ipykernel_31798/3957889884.py:4: RuntimeWarning: invalid value encountered in power\n",
      "  return A*(t-t0) / (C+(t-t0)**2)**D + B\n",
      "/tmp/ipykernel_31798/3957889884.py:4: RuntimeWarning: invalid value encountered in power\n",
      "  return A*(t-t0) / (C+(t-t0)**2)**D + B\n",
      "/tmp/ipykernel_31798/3957889884.py:4: RuntimeWarning: invalid value encountered in power\n",
      "  return A*(t-t0) / (C+(t-t0)**2)**D + B\n",
      "/tmp/ipykernel_31798/3957889884.py:4: RuntimeWarning: invalid value encountered in power\n",
      "  return A*(t-t0) / (C+(t-t0)**2)**D + B\n"
     ]
    },
    {
     "name": "stdout",
     "output_type": "stream",
     "text": [
      "<<< 17 >>>\n",
      "45.0\n",
      "100000 372 372 372\n",
      "no filter\n",
      "ValueError for  45.0\n",
      "<<< 18 >>>\n",
      "50.0\n",
      "100000 850 850 850\n",
      "no filter\n",
      "ValueError for  50.0\n",
      "<<< 19 >>>\n",
      "55.0\n",
      "500000 43 43 43\n",
      "no filter\n",
      "ValueError for  55.0\n",
      "<<< 20 >>>\n",
      "70.0\n",
      "271474 270390 269529 267807\n",
      "<<< 21 >>>\n",
      "75.0\n",
      "3493 1306 943 217\n",
      "<<< 22 >>>\n",
      "80.0\n",
      "1185 33 0 0\n"
     ]
    },
    {
     "name": "stderr",
     "output_type": "stream",
     "text": [
      "/tmp/ipykernel_31798/3957889884.py:4: RuntimeWarning: invalid value encountered in power\n",
      "  return A*(t-t0) / (C+(t-t0)**2)**D + B\n",
      "/tmp/ipykernel_31798/3957889884.py:4: RuntimeWarning: invalid value encountered in power\n",
      "  return A*(t-t0) / (C+(t-t0)**2)**D + B\n",
      "/tmp/ipykernel_31798/3957889884.py:4: RuntimeWarning: divide by zero encountered in true_divide\n",
      "  return A*(t-t0) / (C+(t-t0)**2)**D + B\n",
      "/tmp/ipykernel_31798/3957889884.py:4: RuntimeWarning: invalid value encountered in power\n",
      "  return A*(t-t0) / (C+(t-t0)**2)**D + B\n"
     ]
    },
    {
     "name": "stdout",
     "output_type": "stream",
     "text": [
      "<<< 23 >>>\n",
      "85.0\n",
      "1903 9 6 0\n",
      "no filter\n"
     ]
    },
    {
     "name": "stderr",
     "output_type": "stream",
     "text": [
      "/tmp/ipykernel_31798/3957889884.py:4: RuntimeWarning: divide by zero encountered in true_divide\n",
      "  return A*(t-t0) / (C+(t-t0)**2)**D + B\n",
      "/tmp/ipykernel_31798/3957889884.py:4: RuntimeWarning: invalid value encountered in power\n",
      "  return A*(t-t0) / (C+(t-t0)**2)**D + B\n",
      "/tmp/ipykernel_31798/2906371882.py:64: UserWarning: Tight layout not applied. tight_layout cannot make axes height small enough to accommodate all axes decorations.\n",
      "  tight_layout()\n"
     ]
    }
   ],
   "source": [
    "# Fit all temperature curves with above function\n",
    "# savgol_filter used to filter a little bit\n",
    "# smooth the temperatures that oscillates a bit too much\n",
    "\n",
    "T_max = 85\n",
    "T_thr = 1\n",
    "fit_param = zeros((imax,5))\n",
    "fit_pcov  = zeros((imax,5,5))\n",
    "my_order = []\n",
    "\n",
    "figure(1); clf()\n",
    "for i in range(0,imax):\n",
    "    print('<<<',i,'>>>')\n",
    "    k_max = argmin(abs(Temperature[i] - T_max))\n",
    "    k_thr = argmin(abs(Temperature[i] - T_thr))\n",
    "\n",
    "    i_aux = where(diff(abs(diff(Temperature[i][k_thr:k_max])))>2)\n",
    "    if size(i_aux) != 0 :\n",
    "        if (i_aux[0][0]+k_thr < k_max):\n",
    "            k_max = i_aux[0][0]+k_thr\n",
    "\n",
    "    k_min = k_thr - int(2*(k_max - k_thr))\n",
    "    if k_min < 0: k_min = 0\n",
    "#         print(k_min)\n",
    "\n",
    "    x  = Time[i][k_min:k_max]\n",
    "    print(Urf[i])\n",
    "    print(len(Temperature[i]),k_max,k_thr,k_min)\n",
    "    try:\n",
    "        y  = savgol_filter(Temperature[i][k_min:k_max],31,1)\n",
    "    except:\n",
    "        y  = Temperature[i][k_min:k_max]\n",
    "        print('no filter')\n",
    "        \n",
    "    x0 = Time[i][k_thr]\n",
    "\n",
    "    A0  = 1\n",
    "    B0  = log10(Temperature[i][k_thr])\n",
    "    C0  = 1.0e-8\n",
    "    D0  = 0.5\n",
    "    p0  = array([x0, A0, B0,  C0, D0])\n",
    "    \n",
    "    my_order.append(i)\n",
    "\n",
    "    try:\n",
    "        popt, pcov = curve_fit(func2, x, log10(y), p0, maxfev= 500000)\n",
    "        fit_param[i,:] = popt[0], popt[1], popt[2], popt[3], popt[4]\n",
    "        fit_pcov[i,:]  = pcov\n",
    "\n",
    "        y_fit = func2(x,popt[0], popt[1], popt[2], popt[3], popt[4])\n",
    "        y_fit = 10**y_fit\n",
    "\n",
    "        subplot(6,4,i+1)\n",
    "        plot(x*1e3, y    ,label=' Vrf = '+str(Urf[i]))\n",
    "        plot(x*1e3, y_fit,label='Fit',ls='--')\n",
    "        grid()\n",
    "        legend(fontsize=10)\n",
    "        # select cases\n",
    "        # non zero fit value\n",
    "    except TypeError:\n",
    "        print('TypeError for ',Urf[i])\n",
    "    except ValueError:\n",
    "        print('ValueError for ',Urf[i])\n",
    "tight_layout()"
   ]
  },
  {
   "cell_type": "code",
   "execution_count": 28,
   "id": "2c4337fd",
   "metadata": {},
   "outputs": [
    {
     "name": "stdout",
     "output_type": "stream",
     "text": [
      "[55.0, 60.0, 61.0, 62.0, 62.2, 62.6, 62.8, 63.0, 63.2, 63.4, 63.6, 63.8, 64.0, 65.0, 66.0, 67.0, 68.0, 70.0]\n",
      "[19, 0, 1, 2, 9, 10, 11, 3, 12, 13, 14, 15, 4, 5, 6, 7, 8, 20]\n"
     ]
    }
   ],
   "source": [
    "# select only Urf values\n",
    "# for which non zero fit\n",
    "# and sort ascending Urf\n",
    "Y = Urf\n",
    "X = my_order\n",
    "my_order = [x for _,x in sorted(zip(Y,X))]\n",
    "Urf_order = [x for x,_ in sorted(zip(Y,X))]\n",
    "\n",
    "# delete manually\n",
    "# other innapropriate values\n",
    "my_order.remove(16)\n",
    "Urf_order.remove(40.0)\n",
    "my_order.remove(17)\n",
    "Urf_order.remove(45.0)\n",
    "my_order.remove(18)\n",
    "Urf_order.remove(50.0)\n",
    "my_order.remove(21)\n",
    "Urf_order.remove(75.0)\n",
    "my_order.remove(22)\n",
    "Urf_order.remove(80.0)\n",
    "my_order.remove(23)\n",
    "Urf_order.remove(85.0)\n",
    "\n",
    "print(Urf_order)\n",
    "print(my_order)\n",
    "\n",
    "# resort all variables\n",
    "# in order so\n",
    "# Urf ascending\n",
    "imax_order = len(Urf_order)\n",
    "fit_param_order = zeros((imax_order,5))\n",
    "fit_pcov_order  = zeros((imax_order,5,5))\n",
    "Time_order = []\n",
    "Temperature_order = []\n",
    "for i,j in enumerate(my_order):\n",
    "    fit_param_order[i,:] = fit_param[j,:]\n",
    "    fit_pcov_order[i,:]  = fit_pcov[j,:]\n",
    "    Time_order.append(Time[j])\n",
    "    Temperature_order.append(Temperature[j])"
   ]
  },
  {
   "cell_type": "code",
   "execution_count": 37,
   "id": "82b9aee9",
   "metadata": {},
   "outputs": [
    {
     "name": "stdout",
     "output_type": "stream",
     "text": [
      "64.0\n"
     ]
    }
   ],
   "source": [
    "# draw one temp and fit\n",
    "figure(3); clf()\n",
    "cm = pylab.get_cmap('jet')\n",
    "\n",
    "i = 12\n",
    "\n",
    "print(Urf_order[i])\n",
    "# print(fit_pcov_order[i,:])\n",
    "y_fit = func2(Time_order[i],\n",
    "              fit_param_order[i,0],\n",
    "              fit_param_order[i,1],\n",
    "              fit_param_order[i,2],\n",
    "              fit_param_order[i,3],\n",
    "              fit_param_order[i,4])\n",
    "y_fit = 10**y_fit\n",
    "subplot(121)\n",
    "plot((Time_order[i])*1e3,Temperature_order[i],color='r')\n",
    "plot((Time_order[i])*1e3,y_fit,'--',color='k')\n",
    "xlabel('time [ms]')\n",
    "ylabel('T [K]')\n",
    "grid()\n",
    "\n",
    "# xlim(3.6,3.7)\n",
    "# ylim(-1,10)\n",
    "subplot(122)\n",
    "semilogy((Time_order[i])*1e3,savgol_filter(Temperature_order[i],31,1),color='r')\n",
    "semilogy((Time_order[i])*1e3,y_fit,'--',color='k')\n",
    "xlabel('time [ms]')\n",
    "grid()\n",
    "tight_layout()"
   ]
  },
  {
   "cell_type": "code",
   "execution_count": 43,
   "id": "9e93e429",
   "metadata": {},
   "outputs": [],
   "source": [
    "from scipy import signal"
   ]
  },
  {
   "cell_type": "code",
   "execution_count": 52,
   "id": "e451ab5b",
   "metadata": {},
   "outputs": [],
   "source": [
    "# draw one temp for Poster IMSC\n",
    "figure(30); clf()\n",
    "\n",
    "i = 12\n",
    "\n",
    "# print(fit_pcov_order[i,:])\n",
    "y_fit = func2(Time_order[i],\n",
    "              fit_param_order[i,0],\n",
    "              fit_param_order[i,1],\n",
    "              fit_param_order[i,2],\n",
    "              fit_param_order[i,3],\n",
    "              fit_param_order[i,4])\n",
    "b, a = signal.butter(8, 0.125)\n",
    "y = signal.filtfilt(b, a, Temperature_order[i], padlen=150)\n",
    "subplot(111)\n",
    "semilogy((Time_order[i][25:-40])*1e3,y[25:-40],color='r')\n",
    "# semilogy((Time_order[i])*1e3,y_fit,'--',color='k')\n",
    "xlabel('time [ms]')\n",
    "ylabel('T [K]')\n",
    "\n",
    "grid()\n",
    "tight_layout()"
   ]
  },
  {
   "cell_type": "code",
   "execution_count": 34,
   "id": "a77585fc",
   "metadata": {},
   "outputs": [],
   "source": [
    "# draw fit parameters\n",
    "# as a function of Urf\n",
    "str_labels = ['t0', 'A', 'B', 'C', 'D']\n",
    "figure('Param'); clf();\n",
    "for i in range(0,5):\n",
    "    subplot(1,5,i+1)\n",
    "    if i == 2:\n",
    "        plot(Urf_order,10**(fit_param_order[:,i]),'o-', label=str_labels[i])\n",
    "    else:\n",
    "        plot(Urf_order,(fit_param_order[:,i]),'o-', label=str_labels[i])\n",
    "    xlabel('Urf')\n",
    "    grid()\n",
    "    legend()"
   ]
  },
  {
   "cell_type": "code",
   "execution_count": 35,
   "id": "ed315b47",
   "metadata": {},
   "outputs": [
    {
     "name": "stderr",
     "output_type": "stream",
     "text": [
      "/tmp/ipykernel_31798/1663534533.py:31: MatplotlibDeprecationWarning: The 'b' parameter of grid() has been renamed 'visible' since Matplotlib 3.5; support for the old name will be dropped two minor releases later.\n",
      "  ax.grid(b=True, which='major', linestyle='-')\n",
      "/tmp/ipykernel_31798/1663534533.py:32: MatplotlibDeprecationWarning: The 'b' parameter of grid() has been renamed 'visible' since Matplotlib 3.5; support for the old name will be dropped two minor releases later.\n",
      "  ax.grid(b=True, which='minor', linestyle='--')\n"
     ]
    }
   ],
   "source": [
    "# Draw Heating rate H\n",
    "# as a function of temperature T\n",
    "xa = -2\n",
    "xb = 50\n",
    "ya = 6e-6\n",
    "yb = 1e0\n",
    "figure(29,clear='True')\n",
    "ax = subplot(111)\n",
    "for i in [0,1,13,17]: #  range(0,imax_order)\n",
    "    t0, A, B, C, D = fit_param_order[i,:]\n",
    "    y  = func2(Time_order[i],t0, A, B, C, D);\n",
    "    y  = 10**y\n",
    "    dy = dfunc2_dt(Time_order[i], t0, A, B,  C, D)\n",
    "#     ax.semilogy((Time_order[i]-t0)*1e3,dy*1e-6,label=str(Urf[i]),color=cm(i/imax_order))\n",
    "    ax.semilogy(savgol_filter(Temperature_order[i],31,1),dy*1e-6,label=str(Urf_order[i]),color=cm(i/imax_order))\n",
    "#     ax.semilogy(Temperature_order[i][:-1],diff(Temperature_order[i])*1e-6,label=str(Urf_order[i]),color=cm(i/imax_order))\n",
    "    ax.set_xlabel('T [K]')\n",
    "    ax.set_ylabel('Heating rate [K/µs]')\n",
    "#     scatter(t0,4e5,color=cm(i/imax),marker='+')\n",
    "#     semilogy(y,dy*1e-3,label=str(Urf[i]),color=cm(i/imax))\n",
    "ax.set_xlim([xa,xb])\n",
    "ax.set_ylim([ya,yb])\n",
    "        \n",
    "# locmaj = matplotlib.ticker.LogLocator(base=10,numticks=12) \n",
    "# ax.yaxis.set_major_locator(locmaj)\n",
    "# locmin = matplotlib.ticker.LogLocator(base=10.0,subs=(0.2,0.4,0.6,0.8),numticks=12)\n",
    "# ax.yaxis.set_minor_locator(locmin)\n",
    "# ax.yaxis.set_minor_formatter(matplotlib.ticker.NullFormatter())\n",
    "# ax.xaxis.set_major_locator(matplotlib.ticker.MultipleLocator(base=0.1))\n",
    "ax.legend(title=r'$U_{RF}$',ncol=2)\n",
    "ax.grid(b=True, which='major', linestyle='-')\n",
    "ax.grid(b=True, which='minor', linestyle='--')\n",
    "tight_layout()"
   ]
  },
  {
   "cell_type": "code",
   "execution_count": 344,
   "id": "ca6514af",
   "metadata": {},
   "outputs": [],
   "source": [
    "# Draw Heating rate H\n",
    "# as a function of temperature T\n",
    "xa = -2\n",
    "xb = 50\n",
    "ya = 6e-6\n",
    "yb = 1e0\n",
    "figure(31,clear='True')\n",
    "ax = subplot(111)\n",
    "for i in [0,1,13,17]: #  range(0,imax_order)\n",
    "    t0, A, B, C, D = fit_param_order[i,:]\n",
    "    y  = func2(Time_order[i],t0, A, B, C, D);\n",
    "    y  = 10**y\n",
    "    dy = dfunc2_dt(Time_order[i], t0, A, B,  C, D) / savgol_filter(Temperature_order[i],31,1)\n",
    "#     ax.semilogy((Time_order[i]-t0)*1e3,dy*1e-6,label=str(Urf[i]),color=cm(i/imax_order))\n",
    "    ax.semilogy(savgol_filter(Temperature_order[i],31,1),dy*1e-6,label=str(Urf_order[i]),color=cm(i/imax_order))\n",
    "#     ax.semilogy(Temperature_order[i][:-1],diff(Temperature_order[i])*1e-6,label=str(Urf_order[i]),color=cm(i/imax_order))\n",
    "    ax.set_xlabel('T [K]')\n",
    "    ax.set_ylabel('Heating rate / T [/µs]')\n",
    "#     scatter(t0,4e5,color=cm(i/imax),marker='+')\n",
    "#     semilogy(y,dy*1e-3,label=str(Urf[i]),color=cm(i/imax))\n",
    "ax.set_xlim([xa,xb])\n",
    "ax.set_ylim([ya,yb])\n",
    "        \n",
    "# locmaj = matplotlib.ticker.LogLocator(base=10,numticks=12) \n",
    "# ax.yaxis.set_major_locator(locmaj)\n",
    "# locmin = matplotlib.ticker.LogLocator(base=10.0,subs=(0.2,0.4,0.6,0.8),numticks=12)\n",
    "# ax.yaxis.set_minor_locator(locmin)\n",
    "# ax.yaxis.set_minor_formatter(matplotlib.ticker.NullFormatter())\n",
    "# ax.xaxis.set_major_locator(matplotlib.ticker.MultipleLocator(base=0.1))\n",
    "ax.legend(title=r'$U_{RF}$',ncol=2)\n",
    "ax.grid(b=True, which='major', linestyle='-')\n",
    "ax.grid(b=True, which='minor', linestyle='--')\n",
    "tight_layout()"
   ]
  },
  {
   "cell_type": "markdown",
   "id": "5cfe46e1",
   "metadata": {},
   "source": [
    "# t0 and T as a function of Urf"
   ]
  },
  {
   "cell_type": "code",
   "execution_count": 345,
   "id": "27cdf335",
   "metadata": {},
   "outputs": [],
   "source": [
    "t0    = zeros(imax_order)\n",
    "y_t0  = zeros(imax_order)\n",
    "dy_t0 = zeros(imax_order)\n",
    "for i in range(0, imax_order):\n",
    "    t0[i], A, B, C, D = fit_param_order[i,:]\n",
    "    y  = func2(t0[i],t0[i], A, B, C, D);\n",
    "    y_t0[i]  = 10**y\n",
    "    dy_t0[i] = dfunc2_dt(t0[i], t0[i], A, B,  C, D)"
   ]
  },
  {
   "cell_type": "code",
   "execution_count": 346,
   "id": "0dd98416",
   "metadata": {},
   "outputs": [],
   "source": [
    "def my_lin(x,a,b):\n",
    "    return a*x+b\n",
    "def my_power_law(x,a,b):\n",
    "    return a*(x**-b)"
   ]
  },
  {
   "cell_type": "code",
   "execution_count": 356,
   "id": "b319d4e7",
   "metadata": {},
   "outputs": [],
   "source": [
    "# linear plot\n",
    "figure(321); clf();\n",
    "subplot(111)\n",
    "plot(Urf_order,t0*1e3,ls='-',marker='+',mew=5,ms=10)\n",
    "grid()\n",
    "xlabel('$U_{rf}$ [V]')\n",
    "ylabel('$t_0$ [ms]') # '$T(t_0) / t_0$ [K/s]'\n",
    "\n",
    "tight_layout()"
   ]
  },
  {
   "cell_type": "code",
   "execution_count": 378,
   "id": "9491bf9e",
   "metadata": {},
   "outputs": [],
   "source": [
    "from matplotlib.ticker import ScalarFormatter"
   ]
  },
  {
   "cell_type": "code",
   "execution_count": 423,
   "id": "b338a068",
   "metadata": {},
   "outputs": [],
   "source": [
    "# log plot\n",
    "figure(321,clear='True')\n",
    "ax = subplot(111)\n",
    "ax.loglog(Urf_order,t0*1e3,ls='-',marker='+',mew=5,ms=10)\n",
    "ax.set_xlabel('$U_{rf}$ [V]')\n",
    "ax.set_ylabel('$t_0$ [ms]') # '$T(t_0) / t_0$ [K/s]'\n",
    "ax.axis([5*10, 72, 1, 200])\n",
    "ax.grid(b=True, which='major', linestyle='-')\n",
    "ax.grid(b=True, which='minor', linestyle='--')\n",
    "\n",
    "tight_layout()"
   ]
  },
  {
   "cell_type": "code",
   "execution_count": 424,
   "id": "3eeba137",
   "metadata": {},
   "outputs": [
    {
     "name": "stdout",
     "output_type": "stream",
     "text": [
      "-19.109655235421666 80.91530274273569\n",
      "[3.07366258e+44 2.43368230e+01]\n"
     ]
    }
   ],
   "source": [
    "# find the coefficient of power law\n",
    "xx = Urf_order\n",
    "yy = (t0)*1e3 # (yy-min(t0))*1e3\n",
    "# xx = xx[1:]\n",
    "# yy = -yy[1:]\n",
    "popt, pcov = curve_fit(my_lin,log(xx),log(yy))\n",
    "\n",
    "k_fromlog = popt[0]\n",
    "B_fromlog = popt[1]\n",
    "print(k_fromlog,B_fromlog)\n",
    "# plot data\n",
    "# linearized with corresponding power -popt[0]\n",
    "\n",
    "figure(3210); clf();\n",
    "ax = subplot(111)\n",
    "ax.plot(xx,yy,ls='',marker='+',mew=3,ms=10)\n",
    "ax.grid()\n",
    "# ax.set_xlabel(f'$U_{{rf}}^{{{popt[0]:.2e}}}$ [V]')\n",
    "ax.set_xlabel('$U_{rf}$ [V]')\n",
    "ax.set_ylabel('$t_0$ [ms]') # '$T(t_0) / t_0$ [K/s]'\n",
    "# ax.errorbar(popt[0],yy,yerr = 1e-2,ls='') # sqrt(fit_pcov_order[:,0,0])*1e7\n",
    "\n",
    "# fit the power law\n",
    "popt, pcov = curve_fit(my_power_law,xx,yy,p0=[1e23,12.5],maxfev=2500)\n",
    "print(popt)\n",
    "xx_fit = linspace(59.8,71,100)\n",
    "ax.plot(xx_fit,my_power_law(array(xx_fit),popt[0],popt[1]),\n",
    "    color='r',ls='--',label='Direct pow. Law fit')\n",
    "ax.plot(xx_fit,my_power_law(array(xx_fit),B_fromlog,k_fromlog),\n",
    "    color='b',ls=':',label='From log')\n",
    "# ax.plot(linspace(0.5,72,1000),my_power_law(linspace(0.5,72,1000),1e23,12.5),\n",
    "#     color='g',ls='--',label='test pow. Law')\n",
    "\n",
    "ax.legend()\n",
    "# ax.text(4.15,2,f'$a={popt[0]:.2f}, b={popt[1]:.2f}$',\n",
    "#             color='xkcd:black',fontsize='20',weight=\"bold\",\n",
    "#             ha='left',va='center')\n",
    "\n",
    "# ax.set_xlim(-2,72)\n",
    "# ax.set_ylim(-1,18)\n",
    "tight_layout()"
   ]
  },
  {
   "cell_type": "code",
   "execution_count": 425,
   "id": "f08ae5b1",
   "metadata": {},
   "outputs": [
    {
     "name": "stderr",
     "output_type": "stream",
     "text": [
      "/home/adrian/.local/lib/python3.6/site-packages/ipykernel_launcher.py:7: RuntimeWarning: invalid value encountered in log\n",
      "  import sys\n"
     ]
    },
    {
     "ename": "ValueError",
     "evalue": "array must not contain infs or NaNs",
     "output_type": "error",
     "traceback": [
      "\u001b[0;31m---------------------------------------------------------------------------\u001b[0m",
      "\u001b[0;31mValueError\u001b[0m                                Traceback (most recent call last)",
      "\u001b[0;32m<ipython-input-425-aa2ef713e328>\u001b[0m in \u001b[0;36m<module>\u001b[0;34m()\u001b[0m\n\u001b[1;32m      5\u001b[0m \u001b[0myy\u001b[0m \u001b[0;34m=\u001b[0m \u001b[0;34m-\u001b[0m\u001b[0myy\u001b[0m\u001b[0;34m[\u001b[0m\u001b[0;36m1\u001b[0m\u001b[0;34m:\u001b[0m\u001b[0;34m]\u001b[0m\u001b[0;34m\u001b[0m\u001b[0;34m\u001b[0m\u001b[0m\n\u001b[1;32m      6\u001b[0m \u001b[0;34m\u001b[0m\u001b[0m\n\u001b[0;32m----> 7\u001b[0;31m \u001b[0mpopt\u001b[0m\u001b[0;34m,\u001b[0m \u001b[0mpcov\u001b[0m \u001b[0;34m=\u001b[0m \u001b[0mcurve_fit\u001b[0m\u001b[0;34m(\u001b[0m\u001b[0mmy_lin\u001b[0m\u001b[0;34m,\u001b[0m\u001b[0mlog\u001b[0m\u001b[0;34m(\u001b[0m\u001b[0mxx\u001b[0m\u001b[0;34m)\u001b[0m\u001b[0;34m,\u001b[0m\u001b[0mlog\u001b[0m\u001b[0;34m(\u001b[0m\u001b[0myy\u001b[0m\u001b[0;34m)\u001b[0m\u001b[0;34m)\u001b[0m\u001b[0;34m\u001b[0m\u001b[0;34m\u001b[0m\u001b[0m\n\u001b[0m\u001b[1;32m      8\u001b[0m \u001b[0mprint\u001b[0m\u001b[0;34m(\u001b[0m\u001b[0mpopt\u001b[0m\u001b[0;34m[\u001b[0m\u001b[0;36m0\u001b[0m\u001b[0;34m]\u001b[0m\u001b[0;34m,\u001b[0m\u001b[0;36m10\u001b[0m\u001b[0;34m**\u001b[0m\u001b[0;34m(\u001b[0m\u001b[0mpopt\u001b[0m\u001b[0;34m[\u001b[0m\u001b[0;36m1\u001b[0m\u001b[0;34m]\u001b[0m\u001b[0;34m)\u001b[0m\u001b[0;34m)\u001b[0m\u001b[0;34m\u001b[0m\u001b[0;34m\u001b[0m\u001b[0m\n\u001b[1;32m      9\u001b[0m \u001b[0;34m\u001b[0m\u001b[0m\n",
      "\u001b[0;32m~/.local/lib/python3.6/site-packages/scipy/optimize/minpack.py\u001b[0m in \u001b[0;36mcurve_fit\u001b[0;34m(f, xdata, ydata, p0, sigma, absolute_sigma, check_finite, bounds, method, jac, **kwargs)\u001b[0m\n\u001b[1;32m    708\u001b[0m     \u001b[0;31m# NaNs can not be handled\u001b[0m\u001b[0;34m\u001b[0m\u001b[0;34m\u001b[0m\u001b[0;34m\u001b[0m\u001b[0m\n\u001b[1;32m    709\u001b[0m     \u001b[0;32mif\u001b[0m \u001b[0mcheck_finite\u001b[0m\u001b[0;34m:\u001b[0m\u001b[0;34m\u001b[0m\u001b[0;34m\u001b[0m\u001b[0m\n\u001b[0;32m--> 710\u001b[0;31m         \u001b[0mydata\u001b[0m \u001b[0;34m=\u001b[0m \u001b[0mnp\u001b[0m\u001b[0;34m.\u001b[0m\u001b[0masarray_chkfinite\u001b[0m\u001b[0;34m(\u001b[0m\u001b[0mydata\u001b[0m\u001b[0;34m)\u001b[0m\u001b[0;34m\u001b[0m\u001b[0;34m\u001b[0m\u001b[0m\n\u001b[0m\u001b[1;32m    711\u001b[0m     \u001b[0;32melse\u001b[0m\u001b[0;34m:\u001b[0m\u001b[0;34m\u001b[0m\u001b[0;34m\u001b[0m\u001b[0m\n\u001b[1;32m    712\u001b[0m         \u001b[0mydata\u001b[0m \u001b[0;34m=\u001b[0m \u001b[0mnp\u001b[0m\u001b[0;34m.\u001b[0m\u001b[0masarray\u001b[0m\u001b[0;34m(\u001b[0m\u001b[0mydata\u001b[0m\u001b[0;34m)\u001b[0m\u001b[0;34m\u001b[0m\u001b[0;34m\u001b[0m\u001b[0m\n",
      "\u001b[0;32m~/.local/lib/python3.6/site-packages/numpy/lib/function_base.py\u001b[0m in \u001b[0;36masarray_chkfinite\u001b[0;34m(a, dtype, order)\u001b[0m\n\u001b[1;32m   1231\u001b[0m     \u001b[0;32mif\u001b[0m \u001b[0ma\u001b[0m\u001b[0;34m.\u001b[0m\u001b[0mdtype\u001b[0m\u001b[0;34m.\u001b[0m\u001b[0mchar\u001b[0m \u001b[0;32min\u001b[0m \u001b[0mtypecodes\u001b[0m\u001b[0;34m[\u001b[0m\u001b[0;34m'AllFloat'\u001b[0m\u001b[0;34m]\u001b[0m \u001b[0;32mand\u001b[0m \u001b[0;32mnot\u001b[0m \u001b[0mnp\u001b[0m\u001b[0;34m.\u001b[0m\u001b[0misfinite\u001b[0m\u001b[0;34m(\u001b[0m\u001b[0ma\u001b[0m\u001b[0;34m)\u001b[0m\u001b[0;34m.\u001b[0m\u001b[0mall\u001b[0m\u001b[0;34m(\u001b[0m\u001b[0;34m)\u001b[0m\u001b[0;34m:\u001b[0m\u001b[0;34m\u001b[0m\u001b[0;34m\u001b[0m\u001b[0m\n\u001b[1;32m   1232\u001b[0m         raise ValueError(\n\u001b[0;32m-> 1233\u001b[0;31m             \"array must not contain infs or NaNs\")\n\u001b[0m\u001b[1;32m   1234\u001b[0m     \u001b[0;32mreturn\u001b[0m \u001b[0ma\u001b[0m\u001b[0;34m\u001b[0m\u001b[0;34m\u001b[0m\u001b[0m\n\u001b[1;32m   1235\u001b[0m \u001b[0;34m\u001b[0m\u001b[0m\n",
      "\u001b[0;31mValueError\u001b[0m: array must not contain infs or NaNs"
     ]
    }
   ],
   "source": [
    "# find the coefficient of power law\n",
    "xx = Urf_order - Urf_order[0]\n",
    "yy = (t0)*1e3 # (yy-min(t0))*1e3\n",
    "xx = xx[1:]\n",
    "yy = -yy[1:]\n",
    "\n",
    "popt, pcov = curve_fit(my_lin,log(xx),log(yy))\n",
    "print(popt[0],10**(popt[1]))\n",
    "\n",
    "# plot data\n",
    "# linearized with corresponding power -popt[0]\n",
    "\n",
    "figure(3210); clf();\n",
    "ax = subplot(111)\n",
    "ax.plot(xx**popt[0],yy,ls='',marker='+',mew=3,ms=10)\n",
    "ax.grid()\n",
    "ax.set_xlabel(f'$U_{{rf}}^{{{popt[0]:.2e}}}$ [V]')\n",
    "ax.set_ylabel('$t_0$ [ms]') # '$T(t_0) / t_0$ [K/s]'\n",
    "print(fit_pcov_order[5,:])\n",
    "ax.errorbar(xx**popt[0],yy,yerr = 1e-2,ls='') # sqrt(fit_pcov_order[:,0,0])*1e7\n",
    "\n",
    "# fit the power law\n",
    "popt, pcov = curve_fit(my_lin,xx**popt[0],yy,p0=[1e25,0])\n",
    "xx_fit = linspace(0.7e-28,8.3e-28,100)\n",
    "ax.plot(xx_fit,my_lin(array(xx_fit),popt[0],popt[1]),\n",
    "    color='k',ls='--')\n",
    "\n",
    "\n",
    "# ax.text(4.15,2,f'$a={popt[0]:.2f}, b={popt[1]:.2f}$',\n",
    "#             color='xkcd:black',fontsize='20',weight=\"bold\",\n",
    "#             ha='left',va='center')\n",
    "\n",
    "tight_layout()"
   ]
  },
  {
   "cell_type": "code",
   "execution_count": 426,
   "id": "2d4a054b",
   "metadata": {},
   "outputs": [
    {
     "ename": "SyntaxError",
     "evalue": "invalid syntax (<ipython-input-426-872a4ff8da48>, line 5)",
     "output_type": "error",
     "traceback": [
      "\u001b[0;36m  File \u001b[0;32m\"<ipython-input-426-872a4ff8da48>\"\u001b[0;36m, line \u001b[0;32m5\u001b[0m\n\u001b[0;31m    index_for_res = Urf[i]**\u001b[0m\n\u001b[0m                            ^\u001b[0m\n\u001b[0;31mSyntaxError\u001b[0m\u001b[0;31m:\u001b[0m invalid syntax\n"
     ]
    }
   ],
   "source": [
    "yy_moy = mean(yy)\n",
    "residual = 0\n",
    "tot = 0\n",
    "for i,j in enumerate(yy):\n",
    "    index_for_res = Urf[i]**\n",
    "    residual += yy - my_lin(array(xx_fit)[10],popt[0],popt[1])\n",
    "    tot += yy - yy_moy\n",
    "    R_param = residual/tot"
   ]
  },
  {
   "cell_type": "code",
   "execution_count": 422,
   "id": "16b921e4",
   "metadata": {},
   "outputs": [],
   "source": [
    "# 1/sqrt() plot\n",
    "figure(321); clf();\n",
    "ax = subplot(111)\n",
    "ax.plot(Urf_order,(t0*1e3)**-0.5,ls='-',marker='+',mew=5,ms=10)\n",
    "ax.grid()\n",
    "ax.set_xlabel('$U_{rf}$ [V]')\n",
    "ax.set_ylabel('$1/\\sqrt{t_0}$ [ms]') # '$T(t_0) / t_0$ [K/s]'\n",
    "\n",
    "popt, pcov = curve_fit(my_lin,Urf_order,(t0*1e3)**-0.5)\n",
    "ax.plot(Urf_order,my_lin(array(Urf_order),popt[0],popt[1]),\n",
    "    color='k',ls='--')\n",
    "\n",
    "ax.xaxis.set_major_locator(matplotlib.ticker.MultipleLocator(base=1))\n",
    "ax.yaxis.set_major_locator(matplotlib.ticker.MultipleLocator(base=0.1))\n",
    "\n",
    "ax.text(66.3,0.75,f'$1/\\sqrt{{t_0}} = {popt[0]:.2e} U_{{rf}} + {popt[1]:.2f}$',\n",
    "            color='xkcd:black',fontsize='20',weight=\"bold\",\n",
    "            ha='right',va='center')\n",
    "\n",
    "tight_layout()"
   ]
  },
  {
   "cell_type": "code",
   "execution_count": 421,
   "id": "6277087d",
   "metadata": {},
   "outputs": [],
   "source": [
    "figure(322); clf();\n",
    "ax = subplot(111)\n",
    "ax.plot(Urf_order,y_t0,ls='-',marker='+',mew=5,ms=10)\n",
    "ax.grid()\n",
    "ax.set_xlabel('$U_{rf}$ [V]')\n",
    "ax.set_ylabel('$T(t_0)$ [K]') # '$T(t_0) / t_0$ [K/s]'\n",
    "\n",
    "popt, pcov = curve_fit(my_lin,Urf_order,y_t0)\n",
    "ax.plot(Urf_order,my_lin(array(Urf_order),popt[0],popt[1]),\n",
    "    color='k',ls='--')\n",
    "\n",
    "ax.xaxis.set_major_locator(matplotlib.ticker.MultipleLocator(base=1))\n",
    "ax.yaxis.set_major_locator(matplotlib.ticker.MultipleLocator(base=0.1))\n",
    "\n",
    "ax.text(64,0.815,f'$T(t_0) = {popt[0]:.2e} U_{{rf}} + {popt[1]:.2f}$',\n",
    "            color='xkcd:black',fontsize='20',weight=\"bold\",\n",
    "            ha='left',va='center')\n",
    "\n",
    "tight_layout()\n",
    "\n",
    "# identique à 10**B"
   ]
  },
  {
   "cell_type": "code",
   "execution_count": 306,
   "id": "cbd7b02a",
   "metadata": {},
   "outputs": [],
   "source": [
    "figure(323); clf();\n",
    "subplot(111)\n",
    "plot(Urf_order,y_t0,ls='-',marker='+',mew=5,ms=10)\n",
    "grid()\n",
    "xlabel('$U_{rf}$ [V]')\n",
    "ylabel('$T(t_0)$ [K]') # '$T(t_0) / t_0$ [K/s]'\n",
    "\n",
    "tight_layout()\n",
    "\n",
    "# identique à 10**B"
   ]
  },
  {
   "cell_type": "code",
   "execution_count": null,
   "id": "11473967",
   "metadata": {},
   "outputs": [],
   "source": [
    "savefig('T_t0_Udc.png')"
   ]
  },
  {
   "cell_type": "code",
   "execution_count": 79,
   "id": "e0323e17",
   "metadata": {},
   "outputs": [
    {
     "ename": "NameError",
     "evalue": "name 'Udc' is not defined",
     "output_type": "error",
     "traceback": [
      "\u001b[1;31m---------------------------------------------------------------------------\u001b[0m",
      "\u001b[1;31mNameError\u001b[0m                                 Traceback (most recent call last)",
      "\u001b[1;32m<ipython-input-79-e75ce09f9694>\u001b[0m in \u001b[0;36m<module>\u001b[1;34m\u001b[0m\n\u001b[0;32m      2\u001b[0m \u001b[0msubplot\u001b[0m\u001b[1;33m(\u001b[0m\u001b[1;36m121\u001b[0m\u001b[1;33m)\u001b[0m\u001b[1;33m\u001b[0m\u001b[1;33m\u001b[0m\u001b[0m\n\u001b[0;32m      3\u001b[0m \u001b[0mtitle\u001b[0m\u001b[1;33m(\u001b[0m\u001b[1;34m'Vrf = '\u001b[0m\u001b[1;33m+\u001b[0m\u001b[0mstr\u001b[0m\u001b[1;33m(\u001b[0m\u001b[0mUrf\u001b[0m\u001b[1;33m[\u001b[0m\u001b[1;36m2\u001b[0m\u001b[1;33m]\u001b[0m\u001b[1;33m)\u001b[0m\u001b[1;33m)\u001b[0m\u001b[1;33m\u001b[0m\u001b[1;33m\u001b[0m\u001b[0m\n\u001b[1;32m----> 4\u001b[1;33m \u001b[0mplot\u001b[0m\u001b[1;33m(\u001b[0m\u001b[0mUdc\u001b[0m\u001b[1;33m,\u001b[0m\u001b[0mt0_v\u001b[0m\u001b[1;33m,\u001b[0m\u001b[1;34m'o'\u001b[0m\u001b[1;33m)\u001b[0m\u001b[1;33m\u001b[0m\u001b[1;33m\u001b[0m\u001b[0m\n\u001b[0m\u001b[0;32m      5\u001b[0m \u001b[0mgrid\u001b[0m\u001b[1;33m(\u001b[0m\u001b[1;33m)\u001b[0m\u001b[1;33m\u001b[0m\u001b[1;33m\u001b[0m\u001b[0m\n\u001b[0;32m      6\u001b[0m \u001b[0mxlabel\u001b[0m\u001b[1;33m(\u001b[0m\u001b[1;34m'Udc[V]'\u001b[0m\u001b[1;33m)\u001b[0m\u001b[1;33m\u001b[0m\u001b[1;33m\u001b[0m\u001b[0m\n",
      "\u001b[1;31mNameError\u001b[0m: name 'Udc' is not defined"
     ]
    }
   ],
   "source": [
    "figure(33); clf();\n",
    "subplot(121)\n",
    "title('Vrf = '+str(Urf[2]))\n",
    "plot(Udc,t0_v,'o')\n",
    "grid()\n",
    "xlabel('Udc[V]')\n",
    "ylabel('T[t = t0] / t0 [K/s]')\n",
    "\n",
    "subplot(122)\n",
    "title('Vrf = '+str(Urf[3]))\n",
    "plot(Udc,t1_v,'o')\n",
    "grid()\n",
    "xlabel('Udc[V]')\n",
    "ylabel('T[t = t0] / t0 [K/s]')\n"
   ]
  },
  {
   "cell_type": "code",
   "execution_count": 223,
   "id": "b5be8198",
   "metadata": {},
   "outputs": [
    {
     "data": {
      "text/plain": [
       "Text(0, 0.5, 'T[t = t0] / t0 [K/s]')"
      ]
     },
     "execution_count": 223,
     "metadata": {},
     "output_type": "execute_result"
    }
   ],
   "source": [
    "figure(33); clf();\n",
    "subplot(121)\n",
    "title('Vrf = '+str(Urf[2]))\n",
    "plot(Udc,y_t0,'o')\n",
    "grid()\n",
    "xlabel('Udc[V]')\n",
    "ylabel('T[t = t0]')\n",
    "\n",
    "subplot(122)\n",
    "title('Vrf = '+str(Urf[3]))\n",
    "plot(Udc,y_t1,'o')\n",
    "grid()\n",
    "xlabel('Udc[V]')\n",
    "ylabel('T[t = t0]')\n"
   ]
  },
  {
   "cell_type": "code",
   "execution_count": 80,
   "id": "849cc35b",
   "metadata": {},
   "outputs": [
    {
     "ename": "NameError",
     "evalue": "name 'jmax' is not defined",
     "output_type": "error",
     "traceback": [
      "\u001b[1;31m---------------------------------------------------------------------------\u001b[0m",
      "\u001b[1;31mNameError\u001b[0m                                 Traceback (most recent call last)",
      "\u001b[1;32m<ipython-input-80-3ea0945f87f6>\u001b[0m in \u001b[0;36m<module>\u001b[1;34m\u001b[0m\n\u001b[0;32m      2\u001b[0m \u001b[1;33m\u001b[0m\u001b[0m\n\u001b[0;32m      3\u001b[0m \u001b[0mi\u001b[0m \u001b[1;33m=\u001b[0m \u001b[1;36m0\u001b[0m\u001b[1;33m\u001b[0m\u001b[1;33m\u001b[0m\u001b[0m\n\u001b[1;32m----> 4\u001b[1;33m \u001b[1;32mfor\u001b[0m \u001b[0mj\u001b[0m \u001b[1;32min\u001b[0m \u001b[0mrange\u001b[0m\u001b[1;33m(\u001b[0m\u001b[1;36m0\u001b[0m\u001b[1;33m,\u001b[0m\u001b[0mjmax\u001b[0m\u001b[1;33m)\u001b[0m\u001b[1;33m:\u001b[0m\u001b[1;33m\u001b[0m\u001b[1;33m\u001b[0m\u001b[0m\n\u001b[0m\u001b[0;32m      5\u001b[0m     \u001b[0mt0\u001b[0m\u001b[1;33m,\u001b[0m \u001b[0mA\u001b[0m\u001b[1;33m,\u001b[0m \u001b[0mB\u001b[0m\u001b[1;33m,\u001b[0m \u001b[0mC\u001b[0m\u001b[1;33m,\u001b[0m \u001b[0mD\u001b[0m \u001b[1;33m=\u001b[0m \u001b[0mfit_param\u001b[0m\u001b[1;33m[\u001b[0m\u001b[0mi\u001b[0m\u001b[1;33m,\u001b[0m\u001b[0mj\u001b[0m\u001b[1;33m,\u001b[0m\u001b[1;33m:\u001b[0m\u001b[1;33m]\u001b[0m\u001b[1;33m\u001b[0m\u001b[1;33m\u001b[0m\u001b[0m\n\u001b[0;32m      6\u001b[0m     \u001b[0my\u001b[0m  \u001b[1;33m=\u001b[0m \u001b[0mfunc2\u001b[0m\u001b[1;33m(\u001b[0m\u001b[0mtime\u001b[0m\u001b[1;33m,\u001b[0m\u001b[0mt0\u001b[0m\u001b[1;33m,\u001b[0m \u001b[0mA\u001b[0m\u001b[1;33m,\u001b[0m \u001b[0mB\u001b[0m\u001b[1;33m,\u001b[0m \u001b[0mC\u001b[0m\u001b[1;33m,\u001b[0m \u001b[0mD\u001b[0m\u001b[1;33m)\u001b[0m\u001b[1;33m;\u001b[0m\u001b[1;33m\u001b[0m\u001b[1;33m\u001b[0m\u001b[0m\n",
      "\u001b[1;31mNameError\u001b[0m: name 'jmax' is not defined"
     ]
    }
   ],
   "source": [
    "figure(31); clf()\n",
    "\n",
    "i = 0\n",
    "for j in range(0,jmax):\n",
    "    t0, A, B, C, D = fit_param[i,j,:]\n",
    "    y  = func2(time,t0, A, B, C, D);\n",
    "    y  = 10**y\n",
    "    dy = dfunc2_dt(time, t0, A, B,  C, D)\n",
    "    semilogy(time-t0,y)\n",
    "    \n",
    "i = 1\n",
    "for j in range(0,jmax):\n",
    "    t0, A, B, C, D = fit_param[i,j,:]\n",
    "    y  = func2(time,t0, A, B, C, D);\n",
    "    y  = 10**y\n",
    "    dy = dfunc2_dt(time, t0, A, B,  C, D)\n",
    "    title('Vrf = '+str(Urf[i+2]))\n",
    "    semilogy(time-t0,y,'--')"
   ]
  },
  {
   "cell_type": "code",
   "execution_count": 216,
   "id": "bf24fa41",
   "metadata": {},
   "outputs": [],
   "source": []
  },
  {
   "cell_type": "code",
   "execution_count": null,
   "id": "a5d7e47e",
   "metadata": {},
   "outputs": [],
   "source": []
  }
 ],
 "metadata": {
  "kernelspec": {
   "display_name": "Python 3 (ipykernel)",
   "language": "python",
   "name": "python3"
  },
  "language_info": {
   "codemirror_mode": {
    "name": "ipython",
    "version": 3
   },
   "file_extension": ".py",
   "mimetype": "text/x-python",
   "name": "python",
   "nbconvert_exporter": "python",
   "pygments_lexer": "ipython3",
   "version": "3.10.4"
  }
 },
 "nbformat": 4,
 "nbformat_minor": 5
}
