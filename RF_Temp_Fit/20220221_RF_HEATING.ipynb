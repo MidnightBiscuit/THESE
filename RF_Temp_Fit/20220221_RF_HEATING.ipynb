{
 "cells": [
  {
   "cell_type": "code",
   "execution_count": 1,
   "metadata": {},
   "outputs": [
    {
     "name": "stdout",
     "output_type": "stream",
     "text": [
      "Last updated: 2022-02-24T14:49:42.681564+01:00\n",
      "\n",
      "Python implementation: CPython\n",
      "Python version       : 3.7.6\n",
      "IPython version      : 7.12.0\n",
      "\n",
      "Compiler    : MSC v.1916 64 bit (AMD64)\n",
      "OS          : Windows\n",
      "Release     : 10\n",
      "Machine     : AMD64\n",
      "Processor   : AMD64 Family 23 Model 8 Stepping 2, AuthenticAMD\n",
      "CPU cores   : 12\n",
      "Architecture: 64bit\n",
      "\n"
     ]
    }
   ],
   "source": [
    "%load_ext watermark\n",
    "%watermark"
   ]
  },
  {
   "cell_type": "code",
   "execution_count": 2,
   "metadata": {},
   "outputs": [],
   "source": [
    "# %pylab\n",
    "\n",
    "import numpy\n",
    "import matplotlib\n",
    "from matplotlib import pylab, mlab, pyplot\n",
    "from mpl_toolkits.mplot3d import Axes3D\n",
    "np = numpy\n",
    "plt = pyplot\n",
    "\n",
    "from pylab import *\n",
    "from numpy import *"
   ]
  },
  {
   "cell_type": "code",
   "execution_count": 3,
   "metadata": {},
   "outputs": [],
   "source": [
    "from scipy.optimize import curve_fit\n",
    "\n",
    "\n",
    "import tkinter as tk\n",
    "from tkinter import filedialog\n",
    "%matplotlib qt"
   ]
  },
  {
   "cell_type": "code",
   "execution_count": 4,
   "metadata": {},
   "outputs": [],
   "source": [
    "%run fct_RF_Heating\n",
    "matplotlib.rcParams.update({'font.size': 25})"
   ]
  },
  {
   "cell_type": "code",
   "execution_count": 5,
   "metadata": {},
   "outputs": [
    {
     "name": "stdout",
     "output_type": "stream",
     "text": [
      "0.0025 0.0017677669529663686 0.0025\n",
      "$\\kappa_{simion}$ = 0.422611\n"
     ]
    }
   ],
   "source": [
    "# Constantes de la physique\n",
    "# ABSOLUMENT RECHARGER APRÈS AVOIR EXECUTÉ LES CASES D'IMPORT AU DESSUS\n",
    "\n",
    "C_e = 1.602e-19        # Coulomb\n",
    "kb = 1.38064852*1e-23  # Boltzman\n",
    "m_Ca = 40.078*1.66054e-27 # masse Ca 40.078\n",
    "eps0 = 8.854187*1e-12  # permittivité électrique du vide\n",
    "\n",
    "r0 = 2.5e-3 # 2.5e-3   # rayon piège Ca+\n",
    "z0 = r0/np.sqrt(2)     # longueur piège Ca+\n",
    "d0 = np.sqrt(0.5*r0**2 + z0**2)\n",
    "print(r0,z0,d0)\n",
    "\n",
    "Omega = 2.05e6*2*pi # 2.047e6\n",
    "\n",
    "wzLC = (2*pi*90806.9982303)**2\n",
    "kappa_simion = m_Ca*d0**2*wzLC/(2*C_e)\n",
    "print('%s = %f' % ('$\\kappa_{simion}$',kappa_simion) )"
   ]
  },
  {
   "cell_type": "code",
   "execution_count": 99,
   "metadata": {},
   "outputs": [
    {
     "name": "stdout",
     "output_type": "stream",
     "text": [
      "|   q  |    Urf   ||   a   |   Udc   |\n",
      "| 0.00 | -000.000 || 0.000 | 0000nan |\n",
      "| 0.10 | -021.538 || 0.005 | -00.538 |\n",
      "| 0.20 | -043.076 || 0.020 | -02.154 |\n",
      "| 0.30 | -064.615 || 0.045 | -04.846 |\n",
      "| 0.40 | -086.153 || 0.080 | -08.615 |\n",
      "| 0.50 | -107.691 || 0.125 | -13.461 |\n",
      "| 0.60 | -129.229 || 0.180 | -19.384 |\n",
      "| 0.70 | -150.768 || 0.245 | -26.384 |\n",
      "| 0.80 | -172.306 || 0.320 | -34.461 |\n",
      "| 0.90 | -193.844 || 0.405 | -43.615 |\n",
      "| 1.00 | -215.382 || 0.500 | -53.846 |\n"
     ]
    },
    {
     "name": "stderr",
     "output_type": "stream",
     "text": [
      "H:\\Programmes\\Anaconda3\\envs\\py307\\lib\\site-packages\\ipykernel_launcher.py:10: RuntimeWarning: invalid value encountered in double_scalars\n",
      "  # Remove the CWD from sys.path while we load stuff.\n"
     ]
    }
   ],
   "source": [
    "# beta non adiabatique\n",
    "# for a given q_x, compute Urf, beta_x, omega_x\n",
    "# and Udc for spherical cloud alpha=1\n",
    "q = linspace(0,1,11)\n",
    "a = []\n",
    "print('|   q  |    Urf   ||   a   |   Udc   |')\n",
    "for i,j in enumerate(q):\n",
    "    a.append(0.5*j**2) # 0.5*j**2\n",
    "    Urf = -j*m_Ca*d0**2*Omega**2/(2*C_e)\n",
    "    Udc = 0.5*a[-1]*Urf/j\n",
    "#     Udc = a[-1]*m_Ca*d0**2*Omega**2/(8*C_e)\n",
    "    print(f'| {j:.02f} | {Urf:08.03f} || {a[-1]:.03f} | {Udc:07.03f} |')"
   ]
  },
  {
   "cell_type": "code",
   "execution_count": 100,
   "metadata": {},
   "outputs": [
    {
     "name": "stdout",
     "output_type": "stream",
     "text": [
      "beta_r = 0.307, f_r = 314322.213 Hz\n",
      "beta_z = 0.578, f_z = 592829.640 Hz\n"
     ]
    }
   ],
   "source": [
    "# secular frequencies\n",
    "beta_guess = 0.5\n",
    "\n",
    "for l in range(10):\n",
    "    beta_guess = beta_continue_alamano(a[3],q[3],beta_guess)\n",
    "    beta_guess = sqrt(beta_guess)\n",
    "#     print(beta_guess,beta_nonadia)\n",
    "print(f'beta_r = {beta_guess:.3f}, f_r = {Omega/2*beta_guess/2/pi:.3f} Hz')\n",
    "beta_guess = 0.5\n",
    "for l in range(10):\n",
    "    beta_guess = beta_continue_alamano(2*a[3],2*q[3],beta_guess)\n",
    "    beta_guess = sqrt(beta_guess)\n",
    "print(f'beta_z = {beta_guess:.3f}, f_z = {Omega/2*beta_guess/2/pi:.3f} Hz')"
   ]
  },
  {
   "cell_type": "markdown",
   "metadata": {},
   "source": [
    "# Extract data as npz"
   ]
  },
  {
   "cell_type": "code",
   "execution_count": 7,
   "metadata": {},
   "outputs": [
    {
     "name": "stdout",
     "output_type": "stream",
     "text": [
      "('K:/Universite_Simus/20220221/ST03_RF03_Gam00/Temp_SimuType0_N01024_Vrf0064_Vst-0.5948D+01V_nt1000.dat',)\n"
     ]
    }
   ],
   "source": [
    "file_path = load_file_GUI('/home/adrian/RemoteFS/Rivendel/Simulations/20220221/ST03_RF03/Try00')\n",
    "print(file_path)"
   ]
  },
  {
   "cell_type": "code",
   "execution_count": 291,
   "metadata": {},
   "outputs": [
    {
     "name": "stdout",
     "output_type": "stream",
     "text": [
      "Temp_SimuType0_N00064_Vrf0064_Vst-0.5948D+01V_nt1000\n"
     ]
    }
   ],
   "source": [
    "address = '/home/adrian/RemoteFS/Rivendel/Simulations/20220221/ST03_RF03/Try00'\n",
    "onlyfiles = [f for f in listdir(address) if isfile(join(address, f)) and not \"xva\" in f and \".dat\" in f]\n",
    "print(sort(onlyfiles)[0].strip('.dat'))"
   ]
  },
  {
   "cell_type": "code",
   "execution_count": 106,
   "metadata": {
    "scrolled": true
   },
   "outputs": [
    {
     "name": "stdout",
     "output_type": "stream",
     "text": [
      "> Répertoire : K:/Universite_Simus/20220221/ST03_RF03_Gam00\n",
      "> Filename : Size_SimuType0_N01024_Vrf0064_Vst-0.5948D+01V_nt1000.dat\n",
      "> myslashpos | [2, 19, 28]\n",
      "> slashcond | -1\n",
      "Points deleted because they were not complete []   0 pt(s)\n",
      "Total number of data directories 4\n",
      "['']\n",
      "> condition names ['']\n",
      "> number of points 1\n",
      "> N_ions = 1024\n",
      "> e_GMol = 50\n",
      "> Points | 1\n",
      "> Simulations pour chaque point | ['Universite_Simus/20220221\\\\ST03_RF03_Gam00', 'Universite_Simus/20220221\\\\ST03_RF03_Gam01', 'Universite_Simus/20220221\\\\ST03_RF03_Gam02', 'Universite_Simus/20220221\\\\ST03_RF03_Gam03']\n",
      "Hello\n",
      "K:/Universite_Simus/20220221\\ST03_RF03_Gam00\n",
      "['Size_SimuType0_N01024_Vrf0064_Vst-0.5948D+01V_nt1000.dat', 'Temp_SimuType0_N01024_Vrf0064_Vst-0.5948D+01V_nt1000.dat', 'trj_L.dat']\n",
      "['trj_L.dat']\n",
      "Point n° 0\n",
      "00 - 00  >  K:/Universite_Simus/20220221\\ST03_RF03_Gam00/Size_SimuType0_N01024_Vrf0064_Vst-0.5948D+01V_nt1000\n",
      "K:/Universite_Simus/20220221\\ST03_RF03_Gam01\n",
      "['Size_SimuType0_N01024_Vrf0064_Vst-0.5948D+01V_nt1000.dat', 'Temp_SimuType0_N01024_Vrf0064_Vst-0.5948D+01V_nt1000.dat', 'trj_L.dat']\n",
      "['trj_L.dat']\n",
      "00 - 01  >  K:/Universite_Simus/20220221\\ST03_RF03_Gam01/Size_SimuType0_N01024_Vrf0064_Vst-0.5948D+01V_nt1000\n",
      "K:/Universite_Simus/20220221\\ST03_RF03_Gam02\n",
      "['Size_SimuType0_N01024_Vrf0064_Vst-0.5948D+01V_nt1000.dat', 'Temp_SimuType0_N01024_Vrf0064_Vst-0.5948D+01V_nt1000.dat', 'trj_L.dat']\n",
      "['trj_L.dat']\n",
      "00 - 02  >  K:/Universite_Simus/20220221\\ST03_RF03_Gam02/Size_SimuType0_N01024_Vrf0064_Vst-0.5948D+01V_nt1000\n",
      "K:/Universite_Simus/20220221\\ST03_RF03_Gam03\n",
      "['Size_SimuType0_N01024_Vrf0064_Vst-0.5948D+01V_nt1000.dat', 'Temp_SimuType0_N01024_Vrf0064_Vst-0.5948D+01V_nt1000.dat', 'trj_L.dat']\n",
      "['trj_L.dat']\n",
      "00 - 03  >  K:/Universite_Simus/20220221\\ST03_RF03_Gam03/Size_SimuType0_N01024_Vrf0064_Vst-0.5948D+01V_nt1000\n",
      "Time elapsed:  3.9604254999994737 s\n",
      "Time elapsed:  0.0660070916666579 m\n"
     ]
    }
   ],
   "source": [
    "## GUI for data loading\n",
    "# Select one data file all the way down to the directories\n",
    "# SELECT Temp_SimuTypeQ_N ... .dat\n",
    "\n",
    "file_cfg, slash_cfg, all_subdir = load_gui(filter_nocomplete=1)\n",
    "\n",
    "file_path = file_cfg[0]\n",
    "dir_path = file_cfg[1]\n",
    "work_rep = file_cfg[2]\n",
    "filename = file_cfg[3]\n",
    "\n",
    "myslashpos = slash_cfg[0]\n",
    "slashcond = slash_cfg[1]\n",
    "\n",
    "## Condition for data\n",
    "points_and_coord, condition_parameters = simu_conditions(all_subdir, myslashpos, slashcond, filename)\n",
    "\n",
    "## Data loading : Time and Temperature\n",
    "data_name, num_runs, Time, Temperature, Size_w, Size2 \\\n",
    "= data_retrieve(all_subdir,points_and_coord,condition_parameters,slash_cfg) # stopping_power  ,forcenumtry=28"
   ]
  },
  {
   "cell_type": "code",
   "execution_count": 107,
   "metadata": {},
   "outputs": [],
   "source": [
    "all_subdir   = data_name[0][0] \n",
    "all_size_dir = data_name[1][0]\n",
    "all_temp_dir = data_name[2][0]\n",
    "all_xva_dir  = data_name[3][0]\n",
    "all_trj_dir  = data_name[3][0]\n",
    "\n",
    "i_fly_Verlet_init = 1e2\n",
    "i_fly_Verlet      = 1e4"
   ]
  },
  {
   "cell_type": "code",
   "execution_count": 111,
   "metadata": {},
   "outputs": [
    {
     "name": "stdout",
     "output_type": "stream",
     "text": [
      "K:/Universite_Simus/20220221/ST03_RF03_Gam01\n"
     ]
    }
   ],
   "source": [
    "test_condition = 1\n",
    "rep_name     = re.sub('\\\\\\\\','/',all_subdir[test_condition])\n",
    "str_load_Ver_xva = re.sub('\\\\\\\\','/',all_xva_dir[test_condition])\n",
    "str_load_Ver_T   = re.sub('\\\\\\\\','/',all_temp_dir[test_condition])\n",
    "str_load_Ver_size   = re.sub('\\\\\\\\','/',all_size_dir[test_condition])\n",
    "N_ions = 1024\n",
    "print(rep_name)"
   ]
  },
  {
   "cell_type": "code",
   "execution_count": 112,
   "metadata": {},
   "outputs": [],
   "source": [
    "# plot end Verlet\n",
    "iRF, save_xva = load_xva_init_bin_Ver(str_load_Ver_xva, N_ions)\n",
    "fig = plt.figure('Fin Verlet',clear='True')\n",
    "fig.set_size_inches(10, 5)\n",
    "ax = subplot(121)\n",
    "ax.scatter(save_xva[0,:]*1e6,save_xva[1,:]*1e6,marker='o')\n",
    "ax.set_xlabel('x [µm]')\n",
    "ax.set_ylabel('y [µm]')\n",
    "ax.grid()\n",
    "# ax.set_xlim(-2e8,2e8)\n",
    "# ax.set_aspect(1)\n",
    "ax = subplot(122)\n",
    "ax.scatter(save_xva[2,:]*1e6,save_xva[1,:]*1e6,marker='o')\n",
    "ax.set_xlabel('z [µm]')\n",
    "# ax.set_ylabel('y [µm]')\n",
    "ax.grid()\n",
    "# ax.set_aspect(1)\n",
    "tight_layout()"
   ]
  },
  {
   "cell_type": "code",
   "execution_count": 113,
   "metadata": {},
   "outputs": [],
   "source": [
    "# plot temperature\n",
    "data = loadtxt('{}.dat'.format(str_load_Ver_T),comments='%');\n",
    "time = data[:,0]\n",
    "T_CM = data[:,1:4]\n",
    "T_aux = data[:,4:7] # tt, T_CM, T_aux, PM\n",
    "\n",
    "fig = plt.figure('Temperature',clear='True')\n",
    "fig.set_size_inches(10, 5)\n",
    "ax = subplot(111)\n",
    "ax.plot(time*1e3,mean(T_aux, axis=1),color='r')\n",
    "ax.set_xlabel('time [ms]')\n",
    "ax.set_ylabel('T [K]')\n",
    "ax.grid()\n",
    "tight_layout()"
   ]
  },
  {
   "cell_type": "code",
   "execution_count": 366,
   "metadata": {},
   "outputs": [],
   "source": [
    "fig = plt.figure('FFT Temperature',clear='True')\n",
    "fig.set_size_inches(10, 5)\n",
    "ax = subplot(111)\n",
    "sp = np.fft.fft(mean(T_aux, axis=1))\n",
    "freq = np.fft.fftfreq(time.shape[-1], d=2*pi/(Omega))\n",
    "ax.scatter(freq*1e-3, sp.real,marker='+')\n",
    "# ax.set_xlim(1e8,5e8)\n",
    "ax.set_ylim(-1e1,1e4)\n",
    "ax.set_xlabel('freq [kHz]')\n",
    "# ax.set_ylabel('T [K]')\n",
    "ax.grid()\n",
    "tight_layout()"
   ]
  },
  {
   "cell_type": "code",
   "execution_count": 115,
   "metadata": {},
   "outputs": [],
   "source": [
    "# plot size s Blümel\n",
    "data = loadtxt('{}.dat'.format(str_load_Ver_size),comments='%');\n",
    "sx2 = data[:,0]\n",
    "sy2 = data[:,1]\n",
    "sz2 = data[:,2]\n",
    "s2 = data[:,3]\n",
    "\n",
    "fig = plt.figure('size',clear='True')\n",
    "fig.set_size_inches(10, 5)\n",
    "ax = subplot(111)\n",
    "ax.plot(time*1e3,s2,color='r')\n",
    "ax.set_xlabel('time [ms]')\n",
    "ax.set_ylabel('s^2 [?]')\n",
    "ax.grid()\n",
    "tight_layout()"
   ]
  },
  {
   "cell_type": "code",
   "execution_count": 118,
   "metadata": {},
   "outputs": [
    {
     "data": {
      "text/plain": [
       "array([5.e-07, 5.e-07, 5.e-07, ..., 5.e-07, 5.e-07, 5.e-07])"
      ]
     },
     "execution_count": 118,
     "metadata": {},
     "output_type": "execute_result"
    }
   ],
   "source": [
    "diff(time)"
   ]
  },
  {
   "cell_type": "code",
   "execution_count": null,
   "metadata": {},
   "outputs": [],
   "source": []
  },
  {
   "cell_type": "code",
   "execution_count": 171,
   "metadata": {
    "scrolled": true
   },
   "outputs": [
    {
     "name": "stdout",
     "output_type": "stream",
     "text": [
      "ST03_RF03\n"
     ]
    }
   ],
   "source": [
    "for j,k in enumerate(data_name[0]):\n",
    "    cond = k[0][52:61]\n",
    "    print(cond)\n",
    "    outfile = 'Time_and_temp_RFHEAT_'+str(cond)\n",
    "    np.savez( outfile, time=Time[j], temp = mean(Temperature[j],axis=0)) # dirname_hc=re.sub(r'\\\\',r'/',dirname_hc)"
   ]
  },
  {
   "cell_type": "code",
   "execution_count": 172,
   "metadata": {
    "scrolled": false
   },
   "outputs": [
    {
     "name": "stdout",
     "output_type": "stream",
     "text": [
      "(100000,)\n",
      "(100000,)\n"
     ]
    }
   ],
   "source": [
    "# load check\n",
    "cond = 'ST03_RF03'\n",
    "outfile = 'Time_and_temp_RFHEAT_'+str(cond)\n",
    "with load(outfile+'.npz') as data:\n",
    "    a = data['time']\n",
    "    b = data['temp']\n",
    "print(shape(a))\n",
    "print(shape(b))"
   ]
  },
  {
   "cell_type": "code",
   "execution_count": 81,
   "metadata": {
    "collapsed": true
   },
   "outputs": [
    {
     "name": "stdout",
     "output_type": "stream",
     "text": [
      "Variable                                       Type                          Data/Info\n",
      "--------------------------------------------------------------------------------------\n",
      "C_e                                            float                         1.602e-19\n",
      "Omega                                          float                         12880529.879718151\n",
      "Path                                           type                          <class 'pathlib.Path'>\n",
      "T_max                                          int                           50\n",
      "T_thr                                          int                           1\n",
      "Temperature                                    list                          n=24\n",
      "Time                                           list                          n=24\n",
      "Urf                                            list                          n=25\n",
      "a                                              ndarray                       100000: 100000 elems, type `float64`, 800000 bytes (781.25 kb)\n",
      "all_subdir                                     list                          n=24\n",
      "b                                              ndarray                       100000: 100000 elems, type `float64`, 800000 bytes (781.25 kb)\n",
      "bk                                             int                           4\n",
      "cc                                             function                      <function cc at 0x7f15361eb840>\n",
      "cloud_size                                     function                      <function cloud_size at 0x7f15361eb6a8>\n",
      "cond                                           str                           DC11_RF26\n",
      "condition_parameters                           list                          n=3\n",
      "convert_dico_to_var                            function                      <function convert_dico_to_var at 0x7f1536a83730>\n",
      "curve_fit                                      function                      <function curve_fit at 0x7f1537352400>\n",
      "d0                                             float                         0.002\n",
      "data                                           NpzFile                       <numpy.lib.npyio.NpzFile <...>object at 0x7f156d6780b8>\n",
      "data_check                                     function                      <function data_check at 0x7f15361eb598>\n",
      "data_name                                      list                          n=2\n",
      "data_retrieve                                  function                      <function data_retrieve at 0x7f15361eba60>\n",
      "data_retrieve_RFRelax                          function                      <function data_retrieve_R<...>FRelax at 0x7f15361eb400>\n",
      "data_retrieve_onefile                          function                      <function data_retrieve_o<...>nefile at 0x7f15361eb378>\n",
      "dfunc2_dt                                      function                      <function dfunc2_dt at 0x7f1533a7eb70>\n",
      "dir_path                                       PosixPath                     /home/adrian/RemoteFS/Riv<...>/20211201/DC11_RF00/Try00\n",
      "energy_lost                                    function                      <function energy_lost at 0x7f15361eb048>\n",
      "eps0                                           float                         8.854186999999999e-12\n",
      "fft                                            function                      <function fft at 0x7f156c1a5f28>\n",
      "file_cfg                                       list                          n=4\n",
      "file_name_retrieve                             function                      <function file_name_retrieve at 0x7f15361eb620>\n",
      "file_path                                      tuple                         n=25\n",
      "filedialog                                     module                        <module 'tkinter.filedial<...>6/tkinter/filedialog.py'>\n",
      "filename                                       str                           Temp_SimuType0_N01024_Vrf<...>Udc0.7000D+01V_nt1000.dat\n",
      "find_PM_variation_FinalT                       function                      <function find_PM_variati<...>FinalT at 0x7f1536a83f28>\n",
      "func2                                          function                      <function func2 at 0x7f1533a7e1e0>\n",
      "get_sec                                        function                      <function get_sec at 0x7f15361eb8c8>\n",
      "i                                              int                           24\n",
      "i_aux                                          tuple                         n=2\n",
      "imax                                           int                           25\n",
      "import_data                                    function                      <function import_data at 0x7f1536a836a8>\n",
      "info                                           module                        <module 'numpy.linalg.inf<...>es/numpy/linalg/info.py'>\n",
      "isfile                                         function                      <function isfile at 0x7f157583da60>\n",
      "j                                              int                           23\n",
      "join                                           function                      <function join at 0x7f15757e7620>\n",
      "k                                              list                          n=1\n",
      "k_max                                          int64                         22\n",
      "k_min                                          int64                         22\n",
      "k_thr                                          int64                         22\n",
      "kappa_simion                                   float                         0.27047133360403336\n",
      "kb                                             float                         1.38064852e-23\n",
      "linalg                                         module                        <module 'numpy.linalg.lin<...>/numpy/linalg/linalg.py'>\n",
      "listdir                                        builtin_function_or_method    <built-in function listdir>\n",
      "load_RF_relax                                  function                      <function load_RF_relax at 0x7f15361eb7b8>\n",
      "load_T_PM_cloud_GMol                           function                      <function load_T_PM_cloud_GMol at 0x7f15361eb730>\n",
      "load_T_and_PM_simu                             function                      <function load_T_and_PM_simu at 0x7f1536a837b8>\n",
      "load_T_and_PM_simu_noGMOL                      function                      <function load_T_and_PM_s<...>noGMOL at 0x7f1536a83840>\n",
      "load_Temp_init_bin_Lan                         function                      <function load_Temp_init_<...>in_Lan at 0x7f15361eb488>\n",
      "load_cloud_trj                                 function                      <function load_cloud_trj at 0x7f15361eb158>\n",
      "load_file_GUI                                  function                      <function load_file_GUI at 0x7f1536a70268>\n",
      "load_gui                                       function                      <function load_gui at 0x7f15361eb1e0>\n",
      "load_trj                                       function                      <function load_trj at 0x7f15361eb0d0>\n",
      "load_xva_init_bin_Lan                          function                      <function load_xva_init_b<...>in_Lan at 0x7f15361eb510>\n",
      "load_xyz_init_bin_DP                           function                      <function load_xyz_init_bin_DP at 0x7f1536a838c8>\n",
      "m_Ca                                           float                         6.655112212e-26\n",
      "m_GM                                           float                         1.66054e-21\n",
      "mcolors                                        module                        <module 'matplotlib.color<...>es/matplotlib/colors.py'>\n",
      "mkappa                                         float                         0.23\n",
      "myslashpos                                     list                          n=8\n",
      "natsorted                                      function                      <function natsorted at 0x7f1536a832f0>\n",
      "num_runs                                       list                          n=1\n",
      "os                                             module                        <module 'os' from '/home/<...>307/lib/python3.6/os.py'>\n",
      "outfile                                        str                           Time_and_temp_RFHEAT_DC11_RF26\n",
      "plot_T_and_PM_Evol                             function                      <function plot_T_and_PM_Evol at 0x7f1536a83d08>\n",
      "plot_T_and_PM_Init                             function                      <function plot_T_and_PM_Init at 0x7f1536a83b70>\n",
      "plot_T_and_PM_InitQ_Evol_AfterCool             function                      <function plot_T_and_PM_I<...>erCool at 0x7f1536a83ea0>\n",
      "plot_T_and_PM_InitQ_Inje                       function                      <function plot_T_and_PM_I<...>Q_Inje at 0x7f1536a83ae8>\n",
      "plot_T_and_PM_InitQ_Inje_Evol                  function                      <function plot_T_and_PM_I<...>e_Evol at 0x7f1536a83a60>\n",
      "plot_T_and_PM_Init_Inje_Evol                   function                      <function plot_T_and_PM_I<...>e_Evol at 0x7f1536a839d8>\n",
      "plot_T_and_PM_Init_RFrelax_AfterCooling_Evol   function                      <function plot_T_and_PM_I<...>g_Evol at 0x7f1536a83d90>\n",
      "plot_T_and_PM_Init_RFrelax_AfterInj_Evol       function                      <function plot_T_and_PM_I<...>j_Evol at 0x7f1536a83e18>\n",
      "plot_T_and_PM_Inje                             function                      <function plot_T_and_PM_Inje at 0x7f1536a83c80>\n",
      "plot_T_and_PM_Quen                             function                      <function plot_T_and_PM_Quen at 0x7f1536a83bf8>\n",
      "plot_XYZ                                       function                      <function plot_XYZ at 0x7f1536a83950>\n",
      "points_and_coord                               dict                          n=24\n",
      "power                                          builtin_function_or_method    <built-in method power of<...>object at 0x7f156c1081f8>\n",
      "r0                                             float                         0.0025\n",
      "random                                         builtin_function_or_method    <built-in method random_s<...>object at 0x7f156c1081f8>\n",
      "re                                             module                        <module 're' from '/home/<...>307/lib/python3.6/re.py'>\n",
      "simu_conditions                                function                      <function simu_conditions at 0x7f15361eb268>\n",
      "size_data                                      function                      <function size_data at 0x7f1536a70378>\n",
      "slash_cfg                                      list                          n=2\n",
      "slashcond                                      int                           6\n",
      "timeit                                         module                        <module 'timeit' from '/h<...>lib/python3.6/timeit.py'>\n",
      "tk                                             module                        <module 'tkinter' from '/<...>3.6/tkinter/__init__.py'>\n",
      "work_rep                                       str                           /home/adrian/RemoteFS/Riv<...>/20211201/DC11_RF00/Try00\n",
      "wzLC                                           float                         325535515128.0366\n",
      "zeta                                           float                         0.4226114587563022\n"
     ]
    }
   ],
   "source": [
    "whos"
   ]
  },
  {
   "cell_type": "markdown",
   "metadata": {},
   "source": [
    "# Work with data"
   ]
  },
  {
   "cell_type": "code",
   "execution_count": 175,
   "metadata": {},
   "outputs": [
    {
     "name": "stdout",
     "output_type": "stream",
     "text": [
      "('/home/adrian/Documents/Programmes/Python/THESE/RF_Temp_Fit/Time_and_temp_RFHEAT_ST03_RF03.npz',)\n"
     ]
    }
   ],
   "source": [
    "file_path = load_file_GUI('/home/adrian/Documents/Programmes/Python')\n",
    "print(file_path)"
   ]
  },
  {
   "cell_type": "code",
   "execution_count": 177,
   "metadata": {
    "scrolled": true
   },
   "outputs": [
    {
     "name": "stdout",
     "output_type": "stream",
     "text": [
      "[0.00050062 0.00050112 0.00050162 ... 0.05049912 0.05049962 0.05050012]\n",
      "[0.00180059 0.00155639 0.00201779 ... 0.00173517 0.00178356 0.00177177]\n",
      "0 /home/adrian/Documents/Programmes/Python/THESE/RF_Temp_Fit/Time_and_temp_RFHEAT_ST03_RF03.npz\n",
      "(1, 100000)\n",
      "(1, 100000)\n"
     ]
    }
   ],
   "source": [
    "# load check\n",
    "# cond = 'DC11_RF00'\n",
    "# outfile = 'Time_and_temp_RFHEAT_'+str(cond)\n",
    "Time = []\n",
    "Temperature = []\n",
    "for j,k in enumerate(file_path):\n",
    "    with load(k) as data:\n",
    "        Time.append( data['time'] )\n",
    "        Temperature.append( data['temp'] )\n",
    "        print(data['time'])\n",
    "        print(data['temp'])\n",
    "    print(j,k)\n",
    "print(shape(Time))\n",
    "print(shape(Temperature))"
   ]
  },
  {
   "cell_type": "code",
   "execution_count": 178,
   "metadata": {},
   "outputs": [],
   "source": [
    "Urf = [64.62]\n",
    "Vst = [5.948]"
   ]
  },
  {
   "cell_type": "code",
   "execution_count": 454,
   "metadata": {},
   "outputs": [
    {
     "name": "stdout",
     "output_type": "stream",
     "text": [
      "imax 1\n"
     ]
    },
    {
     "ename": "IndexError",
     "evalue": "invalid index to scalar variable.",
     "output_type": "error",
     "traceback": [
      "\u001b[0;31m---------------------------------------------------------------------------\u001b[0m",
      "\u001b[0;31mIndexError\u001b[0m                                Traceback (most recent call last)",
      "\u001b[0;32m<ipython-input-454-f70cfe737530>\u001b[0m in \u001b[0;36m<module>\u001b[0;34m()\u001b[0m\n\u001b[1;32m      7\u001b[0m \u001b[0mfigure\u001b[0m\u001b[0;34m(\u001b[0m\u001b[0;36m10\u001b[0m\u001b[0;34m)\u001b[0m\u001b[0;34m;\u001b[0m \u001b[0mclf\u001b[0m\u001b[0;34m(\u001b[0m\u001b[0;34m)\u001b[0m\u001b[0;34m;\u001b[0m\u001b[0;34m\u001b[0m\u001b[0;34m\u001b[0m\u001b[0m\n\u001b[1;32m      8\u001b[0m \u001b[0mi\u001b[0m \u001b[0;34m=\u001b[0m \u001b[0;36m0\u001b[0m\u001b[0;34m\u001b[0m\u001b[0;34m\u001b[0m\u001b[0m\n\u001b[0;32m----> 9\u001b[0;31m \u001b[0mprint\u001b[0m\u001b[0;34m(\u001b[0m\u001b[0mi\u001b[0m\u001b[0;34m,\u001b[0m\u001b[0mUrf\u001b[0m\u001b[0;34m[\u001b[0m\u001b[0mi\u001b[0m\u001b[0;34m]\u001b[0m\u001b[0;34m)\u001b[0m\u001b[0;34m\u001b[0m\u001b[0;34m\u001b[0m\u001b[0m\n\u001b[0m\u001b[1;32m     10\u001b[0m \u001b[0;31m#     subplot(1,9,i+1)\u001b[0m\u001b[0;34m\u001b[0m\u001b[0;34m\u001b[0m\u001b[0;34m\u001b[0m\u001b[0m\n\u001b[1;32m     11\u001b[0m \u001b[0msemilogy\u001b[0m\u001b[0;34m(\u001b[0m\u001b[0mTime\u001b[0m\u001b[0;34m[\u001b[0m\u001b[0mi\u001b[0m\u001b[0;34m]\u001b[0m\u001b[0;34m*\u001b[0m\u001b[0;36m1e3\u001b[0m\u001b[0;34m,\u001b[0m\u001b[0msavgol_filter\u001b[0m\u001b[0;34m(\u001b[0m\u001b[0mTemperature\u001b[0m\u001b[0;34m[\u001b[0m\u001b[0mi\u001b[0m\u001b[0;34m]\u001b[0m\u001b[0;34m,\u001b[0m\u001b[0;36m11\u001b[0m\u001b[0;34m)\u001b[0m\u001b[0;34m,\u001b[0m\u001b[0mlabel\u001b[0m\u001b[0;34m=\u001b[0m\u001b[0;34m' Vrf = '\u001b[0m\u001b[0;34m+\u001b[0m\u001b[0mstr\u001b[0m\u001b[0;34m(\u001b[0m\u001b[0mUrf\u001b[0m\u001b[0;34m[\u001b[0m\u001b[0mi\u001b[0m\u001b[0;34m]\u001b[0m\u001b[0;34m)\u001b[0m\u001b[0;34m)\u001b[0m\u001b[0;34m\u001b[0m\u001b[0;34m\u001b[0m\u001b[0m\n",
      "\u001b[0;31mIndexError\u001b[0m: invalid index to scalar variable."
     ]
    }
   ],
   "source": [
    "imax = len(Urf)\n",
    "print('imax',imax)\n",
    "\n",
    "T_max = 50\n",
    "T_thr = 1\n",
    "\n",
    "figure(10); clf();\n",
    "i = 0\n",
    "print(i,Urf[i])\n",
    "#     subplot(1,9,i+1)\n",
    "semilogy(Time[i]*1e3,Temperature[i],label=' Vrf = '+str(Urf[i]))\n",
    "#     semilogy(time[i][:]*1e3,Temp[i][:],label=' Vrf = '+str(Urf[i]))\n",
    "#         semilogy(time[k_thr],Temp[i,j,k_thr],'o')\n",
    "grid()\n",
    "legend(fontsize=12)"
   ]
  },
  {
   "cell_type": "code",
   "execution_count": 455,
   "metadata": {
    "scrolled": true
   },
   "outputs": [
    {
     "ename": "TypeError",
     "evalue": "object of type 'numpy.float64' has no len()",
     "output_type": "error",
     "traceback": [
      "\u001b[0;31m---------------------------------------------------------------------------\u001b[0m",
      "\u001b[0;31mTypeError\u001b[0m                                 Traceback (most recent call last)",
      "\u001b[0;32m<ipython-input-455-4cc67274621e>\u001b[0m in \u001b[0;36m<module>\u001b[0;34m()\u001b[0m\n\u001b[0;32m----> 1\u001b[0;31m \u001b[0mimax\u001b[0m \u001b[0;34m=\u001b[0m \u001b[0mlen\u001b[0m\u001b[0;34m(\u001b[0m\u001b[0mUrf\u001b[0m\u001b[0;34m)\u001b[0m\u001b[0;34m\u001b[0m\u001b[0;34m\u001b[0m\u001b[0m\n\u001b[0m\u001b[1;32m      2\u001b[0m \u001b[0mprint\u001b[0m\u001b[0;34m(\u001b[0m\u001b[0;34m'imax'\u001b[0m\u001b[0;34m,\u001b[0m\u001b[0mimax\u001b[0m\u001b[0;34m)\u001b[0m\u001b[0;34m\u001b[0m\u001b[0;34m\u001b[0m\u001b[0m\n\u001b[1;32m      3\u001b[0m \u001b[0;34m\u001b[0m\u001b[0m\n\u001b[1;32m      4\u001b[0m \u001b[0mT_max\u001b[0m \u001b[0;34m=\u001b[0m \u001b[0;36m50\u001b[0m\u001b[0;34m\u001b[0m\u001b[0;34m\u001b[0m\u001b[0m\n\u001b[1;32m      5\u001b[0m \u001b[0mT_thr\u001b[0m \u001b[0;34m=\u001b[0m \u001b[0;36m1\u001b[0m\u001b[0;34m\u001b[0m\u001b[0;34m\u001b[0m\u001b[0m\n",
      "\u001b[0;31mTypeError\u001b[0m: object of type 'numpy.float64' has no len()"
     ]
    }
   ],
   "source": [
    "imax = len(Urf)\n",
    "print('imax',imax)\n",
    "\n",
    "T_max = 50\n",
    "T_thr = 1\n",
    "\n",
    "figure(1); clf();\n",
    "for i in range(0,imax-1):\n",
    "    print(i)\n",
    "    k_max = argmin(abs(Temperature[i] - T_max))\n",
    "    k_thr = argmin(abs(Temperature[i] - T_thr))\n",
    "    k_min = k_thr - (k_max - k_thr)\n",
    "    if k_min < 0:\n",
    "        k_min = 0\n",
    "\n",
    "    i_aux = where(diff(abs(diff(Temperature[i][k_thr:k_max])))>2)\n",
    "    if size(i_aux) != 0 :\n",
    "        if (i_aux[0][0]+k_thr < k_max):\n",
    "            k_max = i_aux[0][0]+k_thr\n",
    "\n",
    "#     subplot(1,9,i+1)\n",
    "    subplot(imax//3,4,i+1)\n",
    "    semilogy(Time[i][k_min:k_max]*1e3,Temperature[i][k_min:k_max],label=' Vrf = '+str(Urf[i]))\n",
    "#     semilogy(time[i][:]*1e3,Temp[i][:],label=' Vrf = '+str(Urf[i]))\n",
    "#         semilogy(time[k_thr],Temp[i,j,k_thr],'o')\n",
    "    grid()\n",
    "    legend(fontsize=12)"
   ]
  },
  {
   "cell_type": "code",
   "execution_count": 97,
   "metadata": {},
   "outputs": [],
   "source": [
    "def func2(t, t0, A, B,  C, D):\n",
    "    return A*(t-t0) / (C+(t-t0)**2)**D + B\n",
    "\n",
    "def dfunc2_dt(t, t0, A, B,  C, D):\n",
    "    return 10**(A*(C + (t - t0)**2)**(-D)*(t - t0) + B)*(-A*D*(C + (t - t0)**2)**(-D)*(t - t0)*(2*t - 2*t0)/(C + (t - t0)**2) + A*(C + (t - t0)**2)**(-D))*log(10)"
   ]
  },
  {
   "cell_type": "code",
   "execution_count": 704,
   "metadata": {
    "tags": []
   },
   "outputs": [
    {
     "name": "stdout",
     "output_type": "stream",
     "text": [
      "<<< 0 >>>\n",
      "<<< 1 >>>\n",
      "<<< 2 >>>\n",
      "<<< 3 >>>\n",
      "<<< 4 >>>\n",
      "<<< 5 >>>\n"
     ]
    },
    {
     "name": "stderr",
     "output_type": "stream",
     "text": [
      "/home/adrian/.local/lib/python3.6/site-packages/ipykernel_launcher.py:2: RuntimeWarning: invalid value encountered in power\n",
      "  \n"
     ]
    },
    {
     "name": "stdout",
     "output_type": "stream",
     "text": [
      "<<< 6 >>>\n",
      "<<< 7 >>>\n",
      "<<< 8 >>>\n",
      "<<< 9 >>>\n",
      "<<< 10 >>>\n",
      "<<< 11 >>>\n",
      "<<< 12 >>>\n",
      "<<< 13 >>>\n",
      "<<< 14 >>>\n",
      "<<< 15 >>>\n",
      "<<< 16 >>>\n",
      "<<< 17 >>>\n",
      "TypeError for  40.0\n",
      "<<< 18 >>>\n",
      "TypeError for  45.0\n",
      "<<< 19 >>>\n",
      "TypeError for  50.0\n",
      "<<< 20 >>>\n",
      "TypeError for  55.0\n",
      "<<< 21 >>>\n",
      "<<< 22 >>>\n",
      "<<< 23 >>>\n",
      "<<< 24 >>>\n",
      "TypeError for  85.0\n"
     ]
    },
    {
     "name": "stderr",
     "output_type": "stream",
     "text": [
      "/home/adrian/.local/lib/python3.6/site-packages/ipykernel_launcher.py:2: RuntimeWarning: divide by zero encountered in true_divide\n",
      "  \n"
     ]
    }
   ],
   "source": [
    "T_max = 200\n",
    "T_thr = 1\n",
    "fit_param = zeros((imax,5))\n",
    "fit_pcov  = zeros((imax,5,5))\n",
    "my_order = []\n",
    "\n",
    "figure(1); clf()\n",
    "for i in range(0,imax):\n",
    "    print('<<<',i,'>>>')\n",
    "    k_max = argmin(abs(Temperature[i] - T_max))\n",
    "    k_thr = argmin(abs(Temperature[i] - T_thr))\n",
    "\n",
    "    i_aux = where(diff(abs(diff(Temperature[i][k_thr:k_max])))>2)\n",
    "    if size(i_aux) != 0 :\n",
    "        if (i_aux[0][0]+k_thr < k_max):\n",
    "            k_max = i_aux[0][0]+k_thr\n",
    "\n",
    "    k_min = k_thr - int(2*(k_max - k_thr))\n",
    "    if k_min < 0: k_min = 0\n",
    "#         print(k_min)\n",
    "\n",
    "    x  = Time[i][k_min:k_max]\n",
    "    y  = Temperature[i][k_min:k_max]\n",
    "    x0 = Time[i][k_thr]\n",
    "\n",
    "    A0  = 1\n",
    "    B0  = log10(Temperature[i][k_thr])\n",
    "    C0  = 1.0e-8\n",
    "    D0  = 0.5\n",
    "    p0 = array([x0, A0, B0,  C0, D0])\n",
    "\n",
    "    try:\n",
    "        popt, pcov = curve_fit(func2, x, log10(y), p0, maxfev= 500000)\n",
    "        fit_param[i,:] = popt[0], popt[1], popt[2], popt[3], popt[4]\n",
    "        fit_pcov[i,:]  = pcov\n",
    "\n",
    "        y_fit = func2(x,popt[0], popt[1], popt[2], popt[3], popt[4])\n",
    "        y_fit = 10**y_fit\n",
    "\n",
    "        subplot(imax//3,4,i+1)\n",
    "        semilogy(x*1e3, y    ,label=' Vrf = '+str(Urf[i]))\n",
    "        semilogy(x*1e3, y_fit,label='Fit')\n",
    "        grid()\n",
    "        legend(fontsize=10)\n",
    "        # select cases\n",
    "        # non zero fit value\n",
    "        my_order.append(i)\n",
    "    except TypeError:\n",
    "        print('TypeError for ',Urf[i])"
   ]
  },
  {
   "cell_type": "code",
   "execution_count": 705,
   "metadata": {},
   "outputs": [
    {
     "name": "stdout",
     "output_type": "stream",
     "text": [
      "[60.0, 61.0, 62.0, 62.2, 62.4, 62.6, 62.8, 63.0, 63.2, 63.4, 63.6, 63.8, 64.0, 65.0, 66.0, 67.0, 68.0, 70.0]\n",
      "[0, 1, 2, 9, 10, 11, 12, 3, 13, 14, 15, 16, 4, 5, 6, 7, 8, 21]\n"
     ]
    }
   ],
   "source": [
    "# select only Urf values\n",
    "# for which non zero fit\n",
    "Urf_order = [Urf[x] for w,x in enumerate(my_order)]\n",
    "# sort my_order\n",
    "# so Urf is ascending\n",
    "zipped_lists = zip(Urf_order, my_order)\n",
    "sorted_zipped_lists = sorted(zipped_lists)\n",
    "for i,j in enumerate(sorted_zipped_lists):\n",
    "    my_order[i] = j[1]\n",
    "# delete manually\n",
    "# other innapropriate values\n",
    "my_order.remove(23)\n",
    "Urf_order.remove(80.0)\n",
    "my_order.remove(22)\n",
    "Urf_order.remove(75.0)\n",
    "Urf_order = list(sort([Urf[x] for w,x in enumerate(my_order)]))\n",
    "print(Urf_order)\n",
    "print(my_order)\n",
    "\n",
    "# resort all variables\n",
    "# in order so\n",
    "# Urf ascending\n",
    "imax_order = len(Urf_order)\n",
    "fit_param_order = zeros((imax_order,5))\n",
    "fit_pcov_order  = zeros((imax_order,5,5))\n",
    "Time_order = []\n",
    "Temperature_order = []\n",
    "for i,j in enumerate(my_order):\n",
    "    fit_param_order[i,:] = fit_param[j,:]\n",
    "    fit_pcov_order[i,:]  = fit_pcov[j,:]\n",
    "    Time_order.append(Time[j])\n",
    "    Temperature_order.append(Temperature[j])"
   ]
  },
  {
   "cell_type": "code",
   "execution_count": 725,
   "metadata": {},
   "outputs": [
    {
     "name": "stdout",
     "output_type": "stream",
     "text": [
      "63.4\n"
     ]
    }
   ],
   "source": [
    "# draw one temp and fit\n",
    "figure(3); clf()\n",
    "cm = pylab.get_cmap('jet')\n",
    "\n",
    "i = 9\n",
    "print(Urf_order[i])\n",
    "# print(fit_pcov_order[i,:])\n",
    "y_fit = func2(Time_order[i],\n",
    "              fit_param_order[i,0],\n",
    "              fit_param_order[i,1],\n",
    "              fit_param_order[i,2],\n",
    "              fit_param_order[i,3],\n",
    "              fit_param_order[i,4])\n",
    "y_fit = 10**y_fit\n",
    "subplot(121)\n",
    "plot((Time_order[i])*1e3,Temperature_order[i],color='r')\n",
    "plot((Time_order[i])*1e3,y_fit,'--',color='k')\n",
    "xlabel('time [ms]')\n",
    "ylabel('T [K]')\n",
    "grid()\n",
    "\n",
    "# xlim(3.6,3.7)\n",
    "# ylim(-1,10)\n",
    "subplot(122)\n",
    "semilogy((Time_order[i])*1e3,Temperature_order[i],color='r')\n",
    "semilogy((Time_order[i])*1e3,y_fit,'--',color='k')\n",
    "xlabel('time [ms]')\n",
    "grid()\n",
    "tight_layout()"
   ]
  },
  {
   "cell_type": "code",
   "execution_count": 706,
   "metadata": {},
   "outputs": [],
   "source": [
    "str_labels = ['t0', 'A', 'B', 'C', 'D']\n",
    "figure('Param'); clf();\n",
    "for i in range(0,5):\n",
    "    subplot(1,5,i+1)\n",
    "    if i == 2:\n",
    "        plot(Urf_order,10**(fit_param_order[:,i]),'o-', label=str_labels[i])\n",
    "    else:\n",
    "        plot(Urf_order,(fit_param_order[:,i]),'o-', label=str_labels[i])\n",
    "    xlabel('Urf')\n",
    "    grid()\n",
    "    legend()"
   ]
  },
  {
   "cell_type": "code",
   "execution_count": 707,
   "metadata": {},
   "outputs": [],
   "source": [
    "figure(29); clf()\n",
    "cm = pylab.get_cmap('jet')\n",
    "\n",
    "i = 0\n",
    "for i in range(0,imax_order):\n",
    "    t0, A, B, C, D = fit_param_order[i,:]\n",
    "    y  = func2(Time_order[i],t0, A, B, C, D);\n",
    "    y  = 10**y\n",
    "    dy = dfunc2_dt(Time_order[i], t0, A, B,  C, D)\n",
    "    semilogy((Time_order[i]-t0)*1e3,dy/y,color=cm(i/imax))\n",
    "    \n",
    "i = 1\n",
    "for i in range(0,imax_order):\n",
    "    t0, A, B, C, D = fit_param_order[i,:]\n",
    "    y  = func2(Time_order[i],t0, A, B, C, D);\n",
    "    y  = 10**y\n",
    "    dy = dfunc2_dt(Time_order[i], t0, A, B,  C, D)\n",
    "    semilogy((Time_order[i]-t0)*1e3,dy/y,'--',color=cm(i/imax))"
   ]
  },
  {
   "cell_type": "code",
   "execution_count": 716,
   "metadata": {},
   "outputs": [],
   "source": [
    "xa = -0.6\n",
    "xb = 0.6\n",
    "ya = 6e-6\n",
    "yb = 1e0\n",
    "figure(30); clf()\n",
    "ax = subplot(111)\n",
    "for i in range(0,imax_order):\n",
    "    t0, A, B, C, D = fit_param_order[i,:]\n",
    "    y  = func2(Time_order[i],t0, A, B, C, D);\n",
    "    y  = 10**y\n",
    "    dy = dfunc2_dt(Time_order[i], t0, A, B,  C, D)\n",
    "    ax.semilogy((Time_order[i]-t0)*1e3,dy*1e-6,label=str(Urf[i]),color=cm(i/imax_order))\n",
    "    ax.set_xlabel('$t-t_0$ [ms]')\n",
    "    ax.set_ylabel('Heating rate [K/µs]')\n",
    "#     scatter(t0,4e5,color=cm(i/imax),marker='+')\n",
    "#     semilogy(y,dy*1e-3,label=str(Urf[i]),color=cm(i/imax))\n",
    "    ax.set_xlim([xa,xb])\n",
    "    ax.set_ylim([ya,yb])\n",
    "    grid()\n",
    "    \n",
    "locmaj = matplotlib.ticker.LogLocator(base=10,numticks=12) \n",
    "ax.yaxis.set_major_locator(locmaj)\n",
    "locmin = matplotlib.ticker.LogLocator(base=10.0,subs=(0.2,0.4,0.6,0.8),numticks=12)\n",
    "ax.yaxis.set_minor_locator(locmin)\n",
    "ax.yaxis.set_minor_formatter(matplotlib.ticker.NullFormatter())\n",
    "ax.xaxis.set_major_locator(matplotlib.ticker.MultipleLocator(base=0.1))\n",
    "ax.grid(b=True, which='major', linestyle='-')\n",
    "ax.grid(b=True, which='minor', linestyle='--')\n",
    "tight_layout()"
   ]
  },
  {
   "cell_type": "code",
   "execution_count": 298,
   "metadata": {},
   "outputs": [],
   "source": [
    "xa = -0.05\n",
    "xb = 0.05\n",
    "ya = 1e-2\n",
    "yb = 6e-1\n",
    "figure(31); clf()\n",
    "ax = subplot(111)\n",
    "for i in range(0,imax_order):\n",
    "    t0, A, B, C, D = fit_param_order[i,:]\n",
    "    y  = func2(Time_order[i],t0, A, B, C, D);\n",
    "    y  = 10**y\n",
    "    dy = dfunc2_dt(Time_order[i], t0, A, B,  C, D)\n",
    "    ax.semilogy((Time_order[i]-t0)*1e3,dy*1e-6/y,label=str(Urf[i]),color=cm(i/imax_order))\n",
    "    ax.set_xlabel('$t-t_0$ [ms]')\n",
    "    ax.set_ylabel('Heating rate / T\\n[1/µs]')\n",
    "#     scatter(t0,4e5,color=cm(i/imax),marker='+')\n",
    "#     semilogy(y,dy*1e-3,label=str(Urf[i]),color=cm(i/imax))\n",
    "    ax.set_xlim([xa,xb])\n",
    "    ax.set_ylim([ya,yb])\n",
    "    grid()\n",
    "    \n",
    "locmaj = matplotlib.ticker.LogLocator(base=10,numticks=12) \n",
    "ax.yaxis.set_major_locator(locmaj)\n",
    "locmin = matplotlib.ticker.LogLocator(base=10.0,subs=(0.1,0.2,0.3,0.4,0.5,0.6,0.7,0.8,0.9),numticks=12)\n",
    "ax.yaxis.set_minor_locator(locmin)\n",
    "ax.yaxis.set_minor_formatter(matplotlib.ticker.NullFormatter())\n",
    "ax.xaxis.set_major_locator(matplotlib.ticker.MultipleLocator(base=0.02))\n",
    "ax.grid(b=True, which='major', linestyle='-')\n",
    "ax.grid(b=True, which='minor', linestyle='--')\n",
    "tight_layout()"
   ]
  },
  {
   "cell_type": "markdown",
   "metadata": {},
   "source": [
    "# t0 and T as a function of Urf"
   ]
  },
  {
   "cell_type": "code",
   "execution_count": 728,
   "metadata": {},
   "outputs": [],
   "source": [
    "t0    = zeros(imax_order)\n",
    "y_t0  = zeros(imax_order)\n",
    "dy_t0 = zeros(imax_order)\n",
    "for i in range(0, imax_order):\n",
    "    t0[i], A, B, C, D = fit_param_order[i,:]\n",
    "    y  = func2(t0[i],t0[i], A, B, C, D);\n",
    "    y_t0[i]  = 10**y\n",
    "    dy_t0[i] = dfunc2_dt(t0[i], t0[i], A, B,  C, D)"
   ]
  },
  {
   "cell_type": "code",
   "execution_count": 729,
   "metadata": {},
   "outputs": [],
   "source": [
    "def my_lin(x,a,b):\n",
    "    return a*x+b\n",
    "def my_power_law(x,a,b):\n",
    "    return a*(x**-b)"
   ]
  },
  {
   "cell_type": "code",
   "execution_count": 730,
   "metadata": {},
   "outputs": [],
   "source": [
    "# linear plot\n",
    "figure(321); clf();\n",
    "subplot(111)\n",
    "plot(Urf_order,t0*1e3,ls='-',marker='+',mew=5,ms=10)\n",
    "grid()\n",
    "xlabel('$U_{rf}$ [V]')\n",
    "ylabel('$t_0$ [ms]') # '$T(t_0) / t_0$ [K/s]'\n",
    "\n",
    "tight_layout()"
   ]
  },
  {
   "cell_type": "code",
   "execution_count": 731,
   "metadata": {},
   "outputs": [],
   "source": [
    "# log plot\n",
    "figure(321); clf();\n",
    "subplot(111)\n",
    "loglog(Urf_order,t0*1e3,ls='-',marker='+',mew=5,ms=10)\n",
    "grid()\n",
    "xlabel('$U_{rf}$ [V]')\n",
    "ylabel('$t_0$ [ms]') # '$T(t_0) / t_0$ [K/s]'\n",
    "\n",
    "tight_layout()"
   ]
  },
  {
   "cell_type": "code",
   "execution_count": 763,
   "metadata": {},
   "outputs": [
    {
     "name": "stdout",
     "output_type": "stream",
     "text": [
      "-15.233803215236648 64.74541613417573\n",
      "[5.23738105e+44 2.44715990e+01]\n"
     ]
    }
   ],
   "source": [
    "# find the coefficient of power law\n",
    "xx = Urf_order\n",
    "yy = (t0)*1e3 # (yy-min(t0))*1e3\n",
    "# xx = xx[1:]\n",
    "# yy = -yy[1:]\n",
    "popt, pcov = curve_fit(my_lin,log(xx),log(yy))\n",
    "\n",
    "k_fromlog = popt[0]\n",
    "B_fromlog = popt[1]\n",
    "print(k_fromlog,B_fromlog)\n",
    "# plot data\n",
    "# linearized with corresponding power -popt[0]\n",
    "\n",
    "figure(3210); clf();\n",
    "ax = subplot(111)\n",
    "ax.plot(xx,yy,ls='',marker='+',mew=3,ms=10)\n",
    "ax.grid()\n",
    "# ax.set_xlabel(f'$U_{{rf}}^{{{popt[0]:.2e}}}$ [V]')\n",
    "ax.set_xlabel('$U_{rf}$ [V]')\n",
    "ax.set_ylabel('$t_0$ [ms]') # '$T(t_0) / t_0$ [K/s]'\n",
    "# ax.errorbar(popt[0],yy,yerr = 1e-2,ls='') # sqrt(fit_pcov_order[:,0,0])*1e7\n",
    "\n",
    "# fit the power law\n",
    "popt, pcov = curve_fit(my_power_law,xx,yy,p0=[1e23,12.5],maxfev=2500)\n",
    "print(popt)\n",
    "xx_fit = linspace(59.8,71,100)\n",
    "ax.plot(xx_fit,my_power_law(array(xx_fit),popt[0],popt[1]),\n",
    "    color='r',ls='--',label='Direct pow. Law fit')\n",
    "ax.plot(xx_fit,my_power_law(array(xx_fit),B_fromlog,k_fromlog),\n",
    "    color='b',ls=':',label='From log')\n",
    "# ax.plot(linspace(0.5,72,1000),my_power_law(linspace(0.5,72,1000),1e23,12.5),\n",
    "#     color='g',ls='--',label='test pow. Law')\n",
    "\n",
    "ax.legend()\n",
    "# ax.text(4.15,2,f'$a={popt[0]:.2f}, b={popt[1]:.2f}$',\n",
    "#             color='xkcd:black',fontsize='20',weight=\"bold\",\n",
    "#             ha='left',va='center')\n",
    "\n",
    "# ax.set_xlim(-2,72)\n",
    "# ax.set_ylim(-1,18)\n",
    "tight_layout()"
   ]
  },
  {
   "cell_type": "code",
   "execution_count": 661,
   "metadata": {},
   "outputs": [
    {
     "data": {
      "text/plain": [
       "5.564371713038298e+64"
      ]
     },
     "execution_count": 661,
     "metadata": {},
     "output_type": "execute_result"
    }
   ],
   "source": [
    "10**B_fromlog"
   ]
  },
  {
   "cell_type": "code",
   "execution_count": null,
   "metadata": {},
   "outputs": [],
   "source": [
    "# find the coefficient of power law\n",
    "xx = Urf_order - Urf_order[0]\n",
    "yy = (t0)*1e3 # (yy-min(t0))*1e3\n",
    "xx = xx[1:]\n",
    "yy = -yy[1:]\n",
    "\n",
    "popt, pcov = curve_fit(my_lin,log(xx),log(yy))\n",
    "print(popt[0],10**(popt[1]))\n",
    "\n",
    "# plot data\n",
    "# linearized with corresponding power -popt[0]\n",
    "\n",
    "figure(3210); clf();\n",
    "ax = subplot(111)\n",
    "ax.plot(xx**popt[0],yy,ls='',marker='+',mew=3,ms=10)\n",
    "ax.grid()\n",
    "ax.set_xlabel(f'$U_{{rf}}^{{{popt[0]:.2e}}}$ [V]')\n",
    "ax.set_ylabel('$t_0$ [ms]') # '$T(t_0) / t_0$ [K/s]'\n",
    "print(fit_pcov_order[5,:])\n",
    "ax.errorbar(xx**popt[0],yy,yerr = 1e-2,ls='') # sqrt(fit_pcov_order[:,0,0])*1e7\n",
    "\n",
    "# fit the power law\n",
    "popt, pcov = curve_fit(my_lin,xx**popt[0],yy,p0=[1e25,0])\n",
    "xx_fit = linspace(0.7e-28,8.3e-28,100)\n",
    "ax.plot(xx_fit,my_lin(array(xx_fit),popt[0],popt[1]),\n",
    "    color='k',ls='--')\n",
    "\n",
    "\n",
    "# ax.text(4.15,2,f'$a={popt[0]:.2f}, b={popt[1]:.2f}$',\n",
    "#             color='xkcd:black',fontsize='20',weight=\"bold\",\n",
    "#             ha='left',va='center')\n",
    "\n",
    "tight_layout()"
   ]
  },
  {
   "cell_type": "code",
   "execution_count": 526,
   "metadata": {},
   "outputs": [
    {
     "data": {
      "text/plain": [
       "1.5680162450037478e-07"
      ]
     },
     "execution_count": 526,
     "metadata": {},
     "output_type": "execute_result"
    }
   ],
   "source": [
    "yy_moy = mean(yy)\n",
    "residual = 0\n",
    "tot = 0\n",
    "for i,j in enumerate(yy):\n",
    "    index_for_res = Urf[i]**\n",
    "    residual += yy - my_lin(array(xx_fit)[10],popt[0],popt[1])\n",
    "    tot += yy - yy_moy\n",
    "    R_param = residual/tot"
   ]
  },
  {
   "cell_type": "code",
   "execution_count": 304,
   "metadata": {},
   "outputs": [],
   "source": [
    "# 1/sqrt() plot\n",
    "figure(321); clf();\n",
    "ax = subplot(111)\n",
    "ax.plot(Urf_order,(t0*1e3)**-0.5,ls='-',marker='+',mew=5,ms=10)\n",
    "ax.grid()\n",
    "ax.set_xlabel('$U_{rf}$ [V]')\n",
    "ax.set_ylabel('$1/\\sqrt{t_0}$ [ms]') # '$T(t_0) / t_0$ [K/s]'\n",
    "\n",
    "popt, pcov = curve_fit(my_lin,Urf_order,(t0*1e3)**-0.5)\n",
    "ax.plot(Urf_order,my_lin(array(Urf_order),popt[0],popt[1]),\n",
    "    color='k',ls='--')\n",
    "\n",
    "ax.xaxis.set_major_locator(matplotlib.ticker.MultipleLocator(base=1))\n",
    "ax.yaxis.set_major_locator(matplotlib.ticker.MultipleLocator(base=0.1))\n",
    "\n",
    "ax.text(66.3,0.75,f'$1/\\sqrt{{t_0}} = {popt[0]:.2e} U_{{rf}} + {popt[1]:.2f}$',\n",
    "            color='xkcd:black',fontsize='20',weight=\"bold\",\n",
    "            ha='right',va='center')\n",
    "\n",
    "tight_layout()"
   ]
  },
  {
   "cell_type": "code",
   "execution_count": 305,
   "metadata": {},
   "outputs": [],
   "source": [
    "figure(322); clf();\n",
    "ax = subplot(111)\n",
    "ax.plot(Urf_order,y_t0,ls='-',marker='+',mew=5,ms=10)\n",
    "ax.grid()\n",
    "ax.set_xlabel('$U_{rf}$ [V]')\n",
    "ax.set_ylabel('$T(t_0)$ [K]') # '$T(t_0) / t_0$ [K/s]'\n",
    "\n",
    "popt, pcov = curve_fit(my_lin,Urf_order,y_t0)\n",
    "ax.plot(Urf_order,my_lin(array(Urf_order),popt[0],popt[1]),\n",
    "    color='k',ls='--')\n",
    "\n",
    "ax.xaxis.set_major_locator(matplotlib.ticker.MultipleLocator(base=1))\n",
    "ax.yaxis.set_major_locator(matplotlib.ticker.MultipleLocator(base=0.1))\n",
    "\n",
    "ax.text(64,0.815,f'$T(t_0) = {popt[0]:.2e} U_{{rf}} + {popt[1]:.2f}$',\n",
    "            color='xkcd:black',fontsize='20',weight=\"bold\",\n",
    "            ha='left',va='center')\n",
    "\n",
    "tight_layout()\n",
    "\n",
    "# identique à 10**B"
   ]
  },
  {
   "cell_type": "code",
   "execution_count": 306,
   "metadata": {},
   "outputs": [],
   "source": [
    "figure(323); clf();\n",
    "subplot(111)\n",
    "plot(Urf_order,y_t0,ls='-',marker='+',mew=5,ms=10)\n",
    "grid()\n",
    "xlabel('$U_{rf}$ [V]')\n",
    "ylabel('$T(t_0)$ [K]') # '$T(t_0) / t_0$ [K/s]'\n",
    "\n",
    "tight_layout()\n",
    "\n",
    "# identique à 10**B"
   ]
  },
  {
   "cell_type": "code",
   "execution_count": null,
   "metadata": {},
   "outputs": [],
   "source": [
    "savefig('T_t0_Udc.png')"
   ]
  },
  {
   "cell_type": "code",
   "execution_count": 79,
   "metadata": {},
   "outputs": [
    {
     "ename": "NameError",
     "evalue": "name 'Udc' is not defined",
     "output_type": "error",
     "traceback": [
      "\u001b[1;31m---------------------------------------------------------------------------\u001b[0m",
      "\u001b[1;31mNameError\u001b[0m                                 Traceback (most recent call last)",
      "\u001b[1;32m<ipython-input-79-e75ce09f9694>\u001b[0m in \u001b[0;36m<module>\u001b[1;34m\u001b[0m\n\u001b[0;32m      2\u001b[0m \u001b[0msubplot\u001b[0m\u001b[1;33m(\u001b[0m\u001b[1;36m121\u001b[0m\u001b[1;33m)\u001b[0m\u001b[1;33m\u001b[0m\u001b[1;33m\u001b[0m\u001b[0m\n\u001b[0;32m      3\u001b[0m \u001b[0mtitle\u001b[0m\u001b[1;33m(\u001b[0m\u001b[1;34m'Vrf = '\u001b[0m\u001b[1;33m+\u001b[0m\u001b[0mstr\u001b[0m\u001b[1;33m(\u001b[0m\u001b[0mUrf\u001b[0m\u001b[1;33m[\u001b[0m\u001b[1;36m2\u001b[0m\u001b[1;33m]\u001b[0m\u001b[1;33m)\u001b[0m\u001b[1;33m)\u001b[0m\u001b[1;33m\u001b[0m\u001b[1;33m\u001b[0m\u001b[0m\n\u001b[1;32m----> 4\u001b[1;33m \u001b[0mplot\u001b[0m\u001b[1;33m(\u001b[0m\u001b[0mUdc\u001b[0m\u001b[1;33m,\u001b[0m\u001b[0mt0_v\u001b[0m\u001b[1;33m,\u001b[0m\u001b[1;34m'o'\u001b[0m\u001b[1;33m)\u001b[0m\u001b[1;33m\u001b[0m\u001b[1;33m\u001b[0m\u001b[0m\n\u001b[0m\u001b[0;32m      5\u001b[0m \u001b[0mgrid\u001b[0m\u001b[1;33m(\u001b[0m\u001b[1;33m)\u001b[0m\u001b[1;33m\u001b[0m\u001b[1;33m\u001b[0m\u001b[0m\n\u001b[0;32m      6\u001b[0m \u001b[0mxlabel\u001b[0m\u001b[1;33m(\u001b[0m\u001b[1;34m'Udc[V]'\u001b[0m\u001b[1;33m)\u001b[0m\u001b[1;33m\u001b[0m\u001b[1;33m\u001b[0m\u001b[0m\n",
      "\u001b[1;31mNameError\u001b[0m: name 'Udc' is not defined"
     ]
    }
   ],
   "source": [
    "figure(33); clf();\n",
    "subplot(121)\n",
    "title('Vrf = '+str(Urf[2]))\n",
    "plot(Udc,t0_v,'o')\n",
    "grid()\n",
    "xlabel('Udc[V]')\n",
    "ylabel('T[t = t0] / t0 [K/s]')\n",
    "\n",
    "subplot(122)\n",
    "title('Vrf = '+str(Urf[3]))\n",
    "plot(Udc,t1_v,'o')\n",
    "grid()\n",
    "xlabel('Udc[V]')\n",
    "ylabel('T[t = t0] / t0 [K/s]')\n"
   ]
  },
  {
   "cell_type": "code",
   "execution_count": 223,
   "metadata": {},
   "outputs": [
    {
     "data": {
      "text/plain": [
       "Text(0, 0.5, 'T[t = t0] / t0 [K/s]')"
      ]
     },
     "execution_count": 223,
     "metadata": {},
     "output_type": "execute_result"
    }
   ],
   "source": [
    "figure(33); clf();\n",
    "subplot(121)\n",
    "title('Vrf = '+str(Urf[2]))\n",
    "plot(Udc,y_t0,'o')\n",
    "grid()\n",
    "xlabel('Udc[V]')\n",
    "ylabel('T[t = t0]')\n",
    "\n",
    "subplot(122)\n",
    "title('Vrf = '+str(Urf[3]))\n",
    "plot(Udc,y_t1,'o')\n",
    "grid()\n",
    "xlabel('Udc[V]')\n",
    "ylabel('T[t = t0]')\n"
   ]
  },
  {
   "cell_type": "code",
   "execution_count": 80,
   "metadata": {},
   "outputs": [
    {
     "ename": "NameError",
     "evalue": "name 'jmax' is not defined",
     "output_type": "error",
     "traceback": [
      "\u001b[1;31m---------------------------------------------------------------------------\u001b[0m",
      "\u001b[1;31mNameError\u001b[0m                                 Traceback (most recent call last)",
      "\u001b[1;32m<ipython-input-80-3ea0945f87f6>\u001b[0m in \u001b[0;36m<module>\u001b[1;34m\u001b[0m\n\u001b[0;32m      2\u001b[0m \u001b[1;33m\u001b[0m\u001b[0m\n\u001b[0;32m      3\u001b[0m \u001b[0mi\u001b[0m \u001b[1;33m=\u001b[0m \u001b[1;36m0\u001b[0m\u001b[1;33m\u001b[0m\u001b[1;33m\u001b[0m\u001b[0m\n\u001b[1;32m----> 4\u001b[1;33m \u001b[1;32mfor\u001b[0m \u001b[0mj\u001b[0m \u001b[1;32min\u001b[0m \u001b[0mrange\u001b[0m\u001b[1;33m(\u001b[0m\u001b[1;36m0\u001b[0m\u001b[1;33m,\u001b[0m\u001b[0mjmax\u001b[0m\u001b[1;33m)\u001b[0m\u001b[1;33m:\u001b[0m\u001b[1;33m\u001b[0m\u001b[1;33m\u001b[0m\u001b[0m\n\u001b[0m\u001b[0;32m      5\u001b[0m     \u001b[0mt0\u001b[0m\u001b[1;33m,\u001b[0m \u001b[0mA\u001b[0m\u001b[1;33m,\u001b[0m \u001b[0mB\u001b[0m\u001b[1;33m,\u001b[0m \u001b[0mC\u001b[0m\u001b[1;33m,\u001b[0m \u001b[0mD\u001b[0m \u001b[1;33m=\u001b[0m \u001b[0mfit_param\u001b[0m\u001b[1;33m[\u001b[0m\u001b[0mi\u001b[0m\u001b[1;33m,\u001b[0m\u001b[0mj\u001b[0m\u001b[1;33m,\u001b[0m\u001b[1;33m:\u001b[0m\u001b[1;33m]\u001b[0m\u001b[1;33m\u001b[0m\u001b[1;33m\u001b[0m\u001b[0m\n\u001b[0;32m      6\u001b[0m     \u001b[0my\u001b[0m  \u001b[1;33m=\u001b[0m \u001b[0mfunc2\u001b[0m\u001b[1;33m(\u001b[0m\u001b[0mtime\u001b[0m\u001b[1;33m,\u001b[0m\u001b[0mt0\u001b[0m\u001b[1;33m,\u001b[0m \u001b[0mA\u001b[0m\u001b[1;33m,\u001b[0m \u001b[0mB\u001b[0m\u001b[1;33m,\u001b[0m \u001b[0mC\u001b[0m\u001b[1;33m,\u001b[0m \u001b[0mD\u001b[0m\u001b[1;33m)\u001b[0m\u001b[1;33m;\u001b[0m\u001b[1;33m\u001b[0m\u001b[1;33m\u001b[0m\u001b[0m\n",
      "\u001b[1;31mNameError\u001b[0m: name 'jmax' is not defined"
     ]
    }
   ],
   "source": [
    "figure(31); clf()\n",
    "\n",
    "i = 0\n",
    "for j in range(0,jmax):\n",
    "    t0, A, B, C, D = fit_param[i,j,:]\n",
    "    y  = func2(time,t0, A, B, C, D);\n",
    "    y  = 10**y\n",
    "    dy = dfunc2_dt(time, t0, A, B,  C, D)\n",
    "    semilogy(time-t0,y)\n",
    "    \n",
    "i = 1\n",
    "for j in range(0,jmax):\n",
    "    t0, A, B, C, D = fit_param[i,j,:]\n",
    "    y  = func2(time,t0, A, B, C, D);\n",
    "    y  = 10**y\n",
    "    dy = dfunc2_dt(time, t0, A, B,  C, D)\n",
    "    title('Vrf = '+str(Urf[i+2]))\n",
    "    semilogy(time-t0,y,'--')"
   ]
  },
  {
   "cell_type": "code",
   "execution_count": 216,
   "metadata": {},
   "outputs": [],
   "source": []
  },
  {
   "cell_type": "code",
   "execution_count": null,
   "metadata": {},
   "outputs": [],
   "source": []
  }
 ],
 "metadata": {
  "kernelspec": {
   "display_name": "Python 3",
   "language": "python",
   "name": "python3"
  },
  "language_info": {
   "codemirror_mode": {
    "name": "ipython",
    "version": 3
   },
   "file_extension": ".py",
   "mimetype": "text/x-python",
   "name": "python",
   "nbconvert_exporter": "python",
   "pygments_lexer": "ipython3",
   "version": "3.7.6"
  }
 },
 "nbformat": 4,
 "nbformat_minor": 5
}
