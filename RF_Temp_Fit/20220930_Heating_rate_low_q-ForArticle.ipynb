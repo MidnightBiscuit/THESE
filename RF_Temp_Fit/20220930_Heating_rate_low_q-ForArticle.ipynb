{
 "cells": [
  {
   "cell_type": "code",
   "execution_count": 1,
   "id": "2b7e5f6e",
   "metadata": {},
   "outputs": [
    {
     "data": {
      "text/html": [
       "<style>.container { width:95% !important; }</style>"
      ],
      "text/plain": [
       "<IPython.core.display.HTML object>"
      ]
     },
     "metadata": {},
     "output_type": "display_data"
    }
   ],
   "source": [
    "from IPython.display import display, HTML\n",
    "display(HTML(\"<style>.container { width:95% !important; }</style>\"))"
   ]
  },
  {
   "cell_type": "code",
   "execution_count": 2,
   "id": "daa8f4c3",
   "metadata": {},
   "outputs": [
    {
     "name": "stdout",
     "output_type": "stream",
     "text": [
      "Using matplotlib backend: TkAgg\n",
      "Populating the interactive namespace from numpy and matplotlib\n"
     ]
    }
   ],
   "source": [
    "%pylab"
   ]
  },
  {
   "cell_type": "code",
   "execution_count": 3,
   "id": "76e5594e",
   "metadata": {},
   "outputs": [],
   "source": [
    "from scipy.optimize import curve_fit\n",
    "\n",
    "import tkinter as tk\n",
    "from tkinter import filedialog\n",
    "\n",
    "import os\n",
    "\n",
    "from scipy import signal\n",
    "import scipy.integrate as integrate\n",
    "import matplotlib.ticker as ticker\n",
    "\n",
    "# %matplotlib qt"
   ]
  },
  {
   "cell_type": "code",
   "execution_count": 62,
   "id": "916883eb",
   "metadata": {
    "scrolled": true
   },
   "outputs": [],
   "source": [
    "%run functions\n",
    "matplotlib.rcParams.update({'font.size': 25})\n",
    "cm = pylab.get_cmap('tab10')\n",
    "cm2 = pylab.get_cmap('Set1')\n",
    "cm3 = pylab.get_cmap('turbo')\n",
    "cm3j = pylab.get_cmap('jet')\n",
    "cm4 = pylab.get_cmap('viridis')"
   ]
  },
  {
   "cell_type": "code",
   "execution_count": 5,
   "id": "efce5ee7",
   "metadata": {},
   "outputs": [
    {
     "name": "stdout",
     "output_type": "stream",
     "text": [
      "$\\kappa_{simion}$ = 0.270471\n"
     ]
    }
   ],
   "source": [
    "# Constantes de la physique\n",
    "# ABSOLUMENT RECHARGER APRÈS AVOIR EXECUTÉ LES CASES D'IMPORT AU DESSUS\n",
    "\n",
    "C_e = 1.602e-19        # Coulomb\n",
    "kb = 1.38064852*1e-23  # Boltzman\n",
    "m_Ca = 40.078*1.66054e-27 # masse Ca 40.078\n",
    "m_GM = 1e6*1.66054e-27 # la masse de la GMol\n",
    "eps0 = 8.854187*1e-12  # permittivité électrique du vide\n",
    "\n",
    "r0 = 2.5e-3 # 2.5e-3   # rayon piège Ca+\n",
    "d0 = 4e-3/2            # longueur piège Ca+\n",
    "\n",
    "Omega = 2.0e6*2*pi # 2.047e6\n",
    "tauRF = 1/(Omega/2/pi)\n",
    "\n",
    "bk = 4 # nombre de barreaux par groupe (2 -> 4-pole , 4 -> 8-pole ...)\n",
    "\n",
    "mkappa = 0.23          # écrantage piège réel GiantMol\n",
    "\n",
    "wzLC = (2*pi*90806.9982303)**2\n",
    "kappa_simion = m_Ca*d0**2*wzLC/(2*C_e)\n",
    "print('%s = %f' % ('$\\kappa_{simion}$',kappa_simion) )\n",
    "\n",
    "zeta = kappa_simion*r0**2/d0**2"
   ]
  },
  {
   "cell_type": "code",
   "execution_count": 11,
   "id": "58da8010",
   "metadata": {
    "scrolled": true
   },
   "outputs": [
    {
     "name": "stdout",
     "output_type": "stream",
     "text": [
      "/home/adrien/RemoteFS/Rivendel/Simulations/20221017/Time_and_temp_RFHEAT_N1024_DC02_RF02.npz\n",
      "/home/adrien/RemoteFS/Rivendel/Simulations/20221017/Time_and_temp_RFHEAT_N1024_DC03_RF03.npz\n",
      "/home/adrien/RemoteFS/Rivendel/Simulations/20221017/Time_and_temp_RFHEAT_N1024_DC04_RF04.npz\n",
      "/home/adrien/RemoteFS/Rivendel/Simulations/20221017/Time_and_temp_RFHEAT_N1024_DC05_RF05.npz\n",
      "/home/adrien/RemoteFS/Rivendel/Simulations/20221017/Time_and_temp_RFHEAT_N1024_DC08_RF08.npz\n"
     ]
    }
   ],
   "source": [
    "## GUI for data loading\n",
    "# Select one data file all the way down to the directories\n",
    "# SELECT Temp_SimuTypeQ_N ... .dat\n",
    "\n",
    "file_path = filedialog.askopenfilename(multiple=True) # initialdir = dir_string\n",
    "# print(file_path)\n",
    "\n",
    "# Use 20220617_extractdatatonpz before\n",
    "\n",
    "# Data is in the file /home/adrien/RemoteFS/Rivendel/Simulations/20221017\n",
    "\n",
    "time       = []\n",
    "T_aux_avg  = []\n",
    "r2_v2_rlim = []\n",
    "alpha       = []\n",
    "\n",
    "for i,j in enumerate(file_path):\n",
    "    print(j)\n",
    "    with load(j) as data:\n",
    "        time.append(data['time'])\n",
    "        T_aux_avg.append(data['temp'])\n",
    "        r2_v2_rlim.append(data['r2_v2_rlim'])\n",
    "        alpha.append(data['alpha'])"
   ]
  },
  {
   "cell_type": "code",
   "execution_count": 12,
   "id": "3efe5f87",
   "metadata": {},
   "outputs": [
    {
     "name": "stdout",
     "output_type": "stream",
     "text": [
      "186.69759908981365\n",
      "198.17204484455908\n",
      "185.79916275551497\n",
      "0.00018669759908981366 0.00018579916275551499\n",
      "1.0048355241270968\n"
     ]
    }
   ],
   "source": [
    "myRF = 0\n",
    "\n",
    "for k in range(3):\n",
    "    print(r2_v2_rlim[myRF][k+6][50]*1000) # [condition][dim][time]\n",
    "\n",
    "R = r2_v2_rlim[myRF][6][50]*1e-3\n",
    "L = r2_v2_rlim[myRF][8][50]*1e-3\n",
    "aws = 0\n",
    "print(R,L)\n",
    "print((R+(1.48*aws/2))/(L+1.48*aws/2))\n",
    "\n",
    "density = 1024 / (4/3*pi*R**2*L)"
   ]
  },
  {
   "cell_type": "code",
   "execution_count": 13,
   "id": "29c9b8cc",
   "metadata": {},
   "outputs": [],
   "source": [
    "def func2(t, t0, A, B,  C, D):\n",
    "    return A*(t-t0)/(C+(t-t0)**2)**D + B\n",
    "def func2abs(t, t0, A, B,  C, D):\n",
    "    return A*(t-t0)/(C+abs(t-t0))**D + B\n",
    "def func5(t, t0, A, B, C, k):\n",
    "    return A*(t-t0) / (C+abs(t-t0)**k)**(1/k) + B\n",
    "def dfunc5_dt(t,t0,A,B,C,k):\n",
    "    return A*C*(abs(t-t0)**k+C)**( -(k+1)/k )\n",
    "#     return A*(C+abs(t-t0)**k)**(-1/k)*(1 - ((t-t0)**2*abs(t-t0)**(k-2))/(C+abs(t-t0)**k) )"
   ]
  },
  {
   "cell_type": "code",
   "execution_count": 31,
   "id": "519def5e",
   "metadata": {},
   "outputs": [],
   "source": [
    "def func_lin(t,a,b):\n",
    "    return a*t+b\n",
    "def func_exp(x,a,b):\n",
    "    return b*exp(-a*x)\n",
    "def func_pow(t,A,B):\n",
    "    return t**A * exp(B)"
   ]
  },
  {
   "cell_type": "code",
   "execution_count": 15,
   "id": "7d4ece5e",
   "metadata": {
    "scrolled": true
   },
   "outputs": [
    {
     "name": "stdout",
     "output_type": "stream",
     "text": [
      "0 /home/adrien/RemoteFS/Rivendel/Simulations/20221017/Time_and_temp_RFHEAT_N1024_DC02_RF02.npz\n",
      "1 /home/adrien/RemoteFS/Rivendel/Simulations/20221017/Time_and_temp_RFHEAT_N1024_DC03_RF03.npz\n",
      "2 /home/adrien/RemoteFS/Rivendel/Simulations/20221017/Time_and_temp_RFHEAT_N1024_DC04_RF04.npz\n",
      "3 /home/adrien/RemoteFS/Rivendel/Simulations/20221017/Time_and_temp_RFHEAT_N1024_DC05_RF05.npz\n",
      "4 /home/adrien/RemoteFS/Rivendel/Simulations/20221017/Time_and_temp_RFHEAT_N1024_DC08_RF08.npz\n"
     ]
    }
   ],
   "source": [
    "for i,j in enumerate(file_path):\n",
    "    print(i,j)"
   ]
  },
  {
   "cell_type": "code",
   "execution_count": 25,
   "id": "3f46f3c6",
   "metadata": {},
   "outputs": [
    {
     "name": "stdout",
     "output_type": "stream",
     "text": [
      "116592.34460485817\n"
     ]
    }
   ],
   "source": [
    "to_fit = 0\n",
    "my_try = int(file_path[to_fit][file_path[to_fit].find('DC')+2:file_path[to_fit].find('DC')+4])\n",
    "Urf = array([0, 0, 20.532292436697, 30.798438655045, 41.065, 51.33073109174249,0,0,6.1597])\n",
    "q = array([0, 0, 0.2, 0.3, 0.4, 0.5, 0,0, 0.6])\n",
    "Udc = array([0, 0, 1.3454211755646195, 3.062127421577093, 5.706, 8.837305210834145, 0,0, 13.08323245])\n",
    "N_ions = array([1024,1024,1024,1024,1024])\n",
    "\n",
    "beta_guess = 0.423\n",
    "a = 0\n",
    "for k in range(250):\n",
    "    beta_guess = beta_continue_alamano(a,q,beta_guess)\n",
    "    beta_guess = sqrt(beta_guess)\n",
    "\n",
    "omega_z_2 = ( 2*pi*100e3 )**2 * array(Udc)\n",
    "omega_x_2 = ( beta_guess*Omega/2 )**2\n",
    "omega_r_2 = omega_x_2 - 0.5*omega_z_2\n",
    "print(sqrt(omega_r_2[my_try])/2/pi)\n",
    "\n",
    "x  = time[to_fit]-1e-3\n",
    "fs = 1/diff(x)[1]"
   ]
  },
  {
   "cell_type": "code",
   "execution_count": 26,
   "id": "fc8b0aa9",
   "metadata": {},
   "outputs": [
    {
     "name": "stdout",
     "output_type": "stream",
     "text": [
      "1.0025291530048888\n",
      "1.1091876490255044\n",
      "\n",
      "1.0209015844409537\n",
      "1.07676263747061\n",
      "\n",
      "1.091920930542983\n",
      "1.119602858673717\n",
      "\n",
      "1.0817946388962292\n",
      "1.107811977807591\n",
      "\n",
      "1.1275838655493158\n",
      "1.154081577392648\n",
      "\n",
      "/home/adrien/RemoteFS/Rivendel/Simulations/20221017/Time_and_temp_RFHEAT_N1024_DC02_RF02.npz\n"
     ]
    }
   ],
   "source": [
    "# Display R/L aspect ratio\n",
    "for cond in range(len(file_path)):\n",
    "    #print(r2_v2_rlim[myRF][k+6][50]*1000) # [condition][dim][time]\n",
    "    my_try = int(file_path[cond][file_path[cond].find('DC')+2:file_path[cond].find('DC')+4])\n",
    "    R = mean(r2_v2_rlim[cond][6][100:500])\n",
    "    L = mean(r2_v2_rlim[cond][8][100:500])\n",
    "    print(R/L)\n",
    "    print(alpha[cond])\n",
    "    print('')\n",
    "address = file_path[0]\n",
    "print(address)"
   ]
  },
  {
   "cell_type": "code",
   "execution_count": 27,
   "id": "b27f444e",
   "metadata": {},
   "outputs": [
    {
     "name": "stdout",
     "output_type": "stream",
     "text": [
      "|   cond  | N  | q_x|   f_x   |   f_z   |   ~a_x  | R/L | beta|\n",
      "|---------|----|----|---------|---------|---------|-----|-----|\n",
      "|DC02_RF02|1024|0.20|1.426e+05|1.160e+05|6.727e-03|1.109|0.143|\n",
      "|DC03_RF03|1024|0.30|2.161e+05|1.750e+05|1.531e-02|1.077|0.216|\n",
      "|DC04_RF04|1024|0.40|2.926e+05|2.389e+05|2.853e-02|1.120|0.293|\n",
      "|DC05_RF05|1024|0.50|3.737e+05|2.973e+05|4.419e-02|1.108|0.374|\n",
      "|DC08_RF08|1024|0.60|4.622e+05|3.617e+05|6.542e-02|1.154|0.462|\n"
     ]
    }
   ],
   "source": [
    "# Display parameters of simus\n",
    "# in nice table\n",
    "\n",
    "print('|   cond  | N  | q_x|   f_x   |   f_z   |   ~a_x  | R/L | beta|',end='\\n')\n",
    "print('|---------|----|----|---------|---------|---------|-----|-----|',end='\\n')\n",
    "\n",
    "for cond in range(len(file_path)):\n",
    "    #print(r2_v2_rlim[myRF][k+6][50]*1000) # [condition][dim][time]\n",
    "    my_try = int(file_path[cond][file_path[cond].find('DC')+2:file_path[cond].find('DC')+4])\n",
    "    \n",
    "    print(f'|DC{my_try:02d}_RF{my_try:02d}|{N_ions[cond]:04d}|{q[my_try]:.2f}|{sqrt(omega_x_2)[my_try]/2/pi:.3e}|{sqrt(omega_z_2)[my_try]/2/pi:.3e}|{omega_z_2[my_try]/Omega**2*2:.3e}|{alpha[cond]:.3f}|{beta_guess[my_try]:.3f}|',end='\\n')"
   ]
  },
  {
   "cell_type": "code",
   "execution_count": 160,
   "id": "a88a1531",
   "metadata": {},
   "outputs": [],
   "source": [
    "# write parameters in a file\n",
    "with open('data_parameters.txt','w') as f:\n",
    "    f.write('2022 oct 21\\n')\n",
    "    f.write('Paramètres des simulations de chauffage RF\\n')\n",
    "    f.write('Simulations dans le dossier Rivendel/Simulations/20221017\\n\\n')\n",
    "    \n",
    "    f.write('|   cond  | N  | q_x|   f_x   |   f_z   |   ~a_x  | R/L | beta|\\n')\n",
    "    f.write('|---------|----|----|---------|---------|---------|-----|-----|\\n')\n",
    "\n",
    "    for cond in range(len(file_path)):\n",
    "        #print(r2_v2_rlim[myRF][k+6][50]*1000) # [condition][dim][time]\n",
    "        my_try = int(file_path[cond][file_path[cond].find('DC')+2:file_path[cond].find('DC')+4])\n",
    "\n",
    "        f.write(f'|DC{my_try:02d}_RF{my_try:02d}|{N_ions[cond]:04d}|{q[my_try]:.2f}|{sqrt(omega_x_2)[my_try]/2/pi:.3e}|{sqrt(omega_z_2)[my_try]/2/pi:.3e}|{omega_z_2[my_try]/Omega**2*2:.3e}|{alpha[cond]:.3f}|{beta_guess[my_try]:.3f}|\\n')"
   ]
  },
  {
   "cell_type": "code",
   "execution_count": 65,
   "id": "3848b36f",
   "metadata": {},
   "outputs": [
    {
     "name": "stdout",
     "output_type": "stream",
     "text": [
      "file to analyze\n",
      "> 2 /home/adrien/Documents/Programmes/Python/THESE/RF_Temp_Fit/Time_and_temp_RFHEAT_N1024_DC04_RF04.npz\n"
     ]
    }
   ],
   "source": [
    "start_for_fit = 200\n",
    "T_crit = 0.5\n",
    "print('file to analyze')\n",
    "\n",
    "to_fit = 2 #11 19 8\n",
    "temp_to_end = 50\n",
    "\n",
    "my_try = int(file_path[to_fit][file_path[to_fit].find('DC')+2:file_path[to_fit].find('DC')+4])\n",
    "print('>',to_fit,file_path[to_fit])\n",
    "x  = time[to_fit]-1e-3\n",
    "y  = T_aux_avg[to_fit]\n",
    "\n",
    "max_f_r = sqrt(omega_r_2[my_try])/2/pi\n",
    "b, a = signal.butter(8,  max_f_r/fs*2.01)\n",
    "y_filt = signal.filtfilt(b, a, y, padlen=150)\n",
    "\n",
    "index_100K = argmin(abs(y_filt-temp_to_end))\n",
    "end_fit = index_100K\n",
    "\n",
    "t0_first_guess = x[where(min(abs(y_filt-T_crit))==abs(y_filt-T_crit))][0] # 2.5e-3\n",
    "B0 = log10(T_crit) # log10( y[where(min(abs(y-T_crit))==abs(y-T_crit))][0] )\n",
    "A0 = log10(max(y_filt[start_for_fit:end_fit]) - B0)\n",
    "\n",
    "p0 = [t0_first_guess,A0,B0,0.01,0.3]\n",
    "\n",
    "# proper fit of the smoothed curve limiter up to threshold T\n",
    "# popt, pcov = curve_fit(func5, x[start_for_fit:end_fit],\n",
    "#                               log10(y_filt[start_for_fit:end_fit]),\n",
    "#                        p0, maxfev= 25000,\n",
    "#                        bounds=((-np.inf,-np.inf,-np.inf,0,0),(np.inf,np.inf,2,1.01,1)))\n",
    "# print('func5',popt)\n",
    "\n",
    "figname = 'testfitinlin0'\n",
    "figure(figname,clear='True')\n",
    "#xlim(0.8,6)\n",
    "ax1 = subplot(111)\n",
    "ax1.grid()\n",
    "ax1.semilogy(x*1e3, y ,label=r'$T$',color='C0',lw=0.3)\n",
    "ax1.semilogy(x*1e3, y_filt ,label=r'$T$ filtered',color='C1',ls=':',lw=3)\n",
    "# ax2.vlines(x[end_fit]*1e3,1e-2,150,color='k')\n",
    "\n",
    "# y_fit5 = func5(x[start_for_fit:end_fit],*popt)\n",
    "# ax1.semilogy(x[start_for_fit:end_fit]*1e3,10**y_fit5,color='r',ls='--',label=r'$\\psi$',lw=2)\n",
    "\n",
    "nticks = 9\n",
    "maj_loc = ticker.LogLocator(numticks=nticks)\n",
    "min_loc = ticker.LogLocator(subs='all', numticks=nticks)\n",
    "ax1.yaxis.set_major_locator(maj_loc)\n",
    "ax1.yaxis.set_minor_locator(min_loc)\n",
    "\n",
    "ax1.set_xlabel('t [ms]')\n",
    "ax1.set_ylabel('T [K]')\n",
    "# ax1.set_xlim(-0.1,4.3)\n",
    "ax1.set_ylim(2e-3,300)\n",
    "ax1.legend()\n",
    "tight_layout()\n",
    "\n",
    "\n",
    "# savefig(figname+'.eps',dpi=300)"
   ]
  },
  {
   "cell_type": "code",
   "execution_count": 32,
   "id": "5a056d9c",
   "metadata": {},
   "outputs": [
    {
     "name": "stdout",
     "output_type": "stream",
     "text": [
      "file to analyze\n",
      "> 0 /home/adrien/RemoteFS/Rivendel/Simulations/20221017/Time_and_temp_RFHEAT_N1024_DC02_RF02.npz\n",
      "[2.32312736e-03 1.77473453e+01 7.55980280e-01 1.96284422e-01\n",
      " 1.67227509e-01]\n",
      "> 1 /home/adrien/RemoteFS/Rivendel/Simulations/20221017/Time_and_temp_RFHEAT_N1024_DC03_RF03.npz\n",
      "[1.23048096e-03 6.72932633e+00 4.57732273e-01 5.44620258e-02\n",
      " 2.92564750e-01]\n",
      "> 2 /home/adrien/RemoteFS/Rivendel/Simulations/20221017/Time_and_temp_RFHEAT_N1024_DC04_RF04.npz\n",
      "[0.08080208 4.48952946 0.61333532 0.0101186  0.43469374]\n",
      "> 3 /home/adrien/RemoteFS/Rivendel/Simulations/20221017/Time_and_temp_RFHEAT_N1024_DC05_RF05.npz\n",
      "[0.0858291  5.57872336 0.3978366  0.01956381 0.28214774]\n",
      "> 4 /home/adrien/RemoteFS/Rivendel/Simulations/20221017/Time_and_temp_RFHEAT_N1024_DC08_RF08.npz\n",
      "[6.72796518e-03 5.24940846e+00 9.03717848e-02 4.89443690e-03\n",
      " 4.33048135e-01]\n"
     ]
    }
   ],
   "source": [
    "start_for_fit = 10\n",
    "T_crit = 0.5\n",
    "print('file to analyze')\n",
    "not_fitted = 0\n",
    "# 29 and 30\n",
    "to_fit = 0\n",
    "temp_to_end = [100, 100, 100, 100, 100]\n",
    "popt_smooth = np.zeros((len(file_path),5))\n",
    "for to_fit in range(len(file_path)):\n",
    "    j = file_path[to_fit]\n",
    "# retrive time and temperature from the curve\n",
    "    print('>',to_fit,j)\n",
    "    my_try = int(file_path[to_fit][file_path[to_fit].find('DC')+2:file_path[to_fit].find('DC')+4])\n",
    "    x  = time[to_fit]-1e-3\n",
    "    y  = T_aux_avg[to_fit]\n",
    "\n",
    "    # Smoothing signal with zero delay shift fit\n",
    "    max_f_r = sqrt(omega_r_2[my_try])/2/pi\n",
    "    b, a = signal.butter(8,  max_f_r/fs*1.01)\n",
    "    y_filt = signal.filtfilt(b, a, y, padlen=150)\n",
    "    \n",
    "    # select index of temp where stop the fit\n",
    "    # I stop the fit when T reaches a given T\n",
    "    index_100K = argmin(abs(y_filt-temp_to_end[to_fit]))\n",
    "    end_fit = index_100K\n",
    "\n",
    "    # Fit parameters first guesses\n",
    "    t0_first_guess = x[where(min(abs(y_filt-T_crit))==abs(y_filt-T_crit))][0] # 2.5e-3\n",
    "    B0 = log(T_crit) # log10( y[where(min(abs(y-T_crit))==abs(y-T_crit))][0] )\n",
    "    A0 = log(max(y_filt[start_for_fit:end_fit]) - B0)\n",
    "\n",
    "    # set initial guess of fit parameters\n",
    "    p0 = [t0_first_guess,A0,B0,0.01,0.3]\n",
    "\n",
    "    # proper fit of the smoothed curve limiter up to threshold T\n",
    "    popt, pcov = curve_fit(func5, x[start_for_fit:end_fit],\n",
    "                                  log(y_filt[start_for_fit:end_fit]),\n",
    "                           p0, maxfev= 25000,\n",
    "                           bounds=((-np.inf,-np.inf,-np.inf,0,0),(np.inf,np.inf,2,1.01,1)))\n",
    "    print(popt)\n",
    "    popt_smooth[to_fit,:] = popt\n",
    "# popt_smooth = popt"
   ]
  },
  {
   "cell_type": "code",
   "execution_count": 33,
   "id": "eb551dd5",
   "metadata": {},
   "outputs": [
    {
     "name": "stdout",
     "output_type": "stream",
     "text": [
      "[0.00000000e+00 6.24500000e-07 8.02566245e-02 8.57366245e-02\n",
      " 6.70412450e-03]\n"
     ]
    }
   ],
   "source": [
    "# when does fit crosses a given temperature\n",
    "# compute delta T between this moment and t0\n",
    "# computed above in the fit, from t=0\n",
    "T_thre = 1e-2\n",
    "fit_above_thresh = np.zeros((len(file_path)))\n",
    "for to_fit in range(len(file_path)):\n",
    "    j = file_path[to_fit]\n",
    "    if to_fit!=0 and to_fit!=9 and to_fit!=10 and to_fit!=11:\n",
    "        x = time[to_fit]-1e-3\n",
    "        y_fit = func5(x,*popt_smooth[to_fit,:])\n",
    "        fit_above_thresh[to_fit] = x[where(min(abs(10**y_fit-T_thre))==abs(10**y_fit-T_thre))][0]\n",
    "print(fit_above_thresh)\n",
    "\n",
    "delta_T_explosion = popt_smooth[:,0] - fit_above_thresh"
   ]
  },
  {
   "cell_type": "code",
   "execution_count": 34,
   "id": "dea0e663",
   "metadata": {},
   "outputs": [
    {
     "name": "stdout",
     "output_type": "stream",
     "text": [
      "fit_params_0256ions\n",
      "fit_params_0512ions\n",
      "fit_params_1024ions\n"
     ]
    },
    {
     "name": "stderr",
     "output_type": "stream",
     "text": [
      "/tmp/ipykernel_26551/798389194.py:5: VisibleDeprecationWarning: Creating an ndarray from ragged nested sequences (which is a list-or-tuple of lists-or-tuples-or ndarrays with different lengths or shapes) is deprecated. If you meant to do this, you must specify 'dtype=object' when creating the ndarray.\n",
      "  delta_T_explosion_rework = array([delta_T_explosion[1:9],\n"
     ]
    }
   ],
   "source": [
    "popt_rework = [popt_smooth[1:9],\n",
    "              popt_smooth[12:20], # 7:15\n",
    "              popt_smooth[20:]]\n",
    "\n",
    "delta_T_explosion_rework = array([delta_T_explosion[1:9],\n",
    "                            delta_T_explosion[12:20], # 7:15\n",
    "                            delta_T_explosion[20:]])\n",
    "\n",
    "#  3     4     5     6     7     8     9     10    11    12    13\n",
    "# 31.0, 42.0, 55.4, 57.4, 59.5, 61.5, 63.6, 65.6, 67.7, 69.7, 71.8\n",
    "#             0.54  0.56  0.58  0.6   0.62  0.64  0.66  0.68  0.7\n",
    "Urf_rework = [[57.4, 59.5, 61.5, 63.6, 65.6, 67.7, 69.7, 71.8],\n",
    "             [57.4, 59.5, 61.5, 63.6, 65.6, 67.7, 69.7, 71.8], # 57.4, 59.5, \n",
    "             [55.4, 57.4, 59.5, 61.5, 63.6, 65.6, 67.7, 69.7, 71.8,\n",
    "                      64.6, 62.5, 62.83, 63.03, 63.24, 63.44, 63.86, 64.06, 64.27, 64.47,\n",
    "                      62.7262, 62.93, 63.14, 63.34, 63.55, 63.75, 63.96, 64.16, 64.37, 65.74]]\n",
    "q_rework = [[0.56,  0.58,  0.6,   0.62,  0.64,  0.66,  0.68,  0.7],\n",
    "             [0.56,  0.58,  0.6,   0.62,  0.64,  0.66,  0.68,  0.7 ], # 57.4, 59.5, \n",
    "             [0.54, 0.56,  0.58,  0.6,   0.62,  0.64,  0.66,  0.68,  0.7,\n",
    "                      0.63, 0.61, 0.612, 0.614, 0.616, 0.618, 0.622, 0.624, 0.626, 0.628,\n",
    "                      0.611, 0.613, 0.615, 0.617, 0.619, 0.621, 0.623, 0.625, 0.627, 0.629]]\n",
    "N_rework = [256, 512, 1024]\n",
    "\n",
    "\n",
    "for k,l in enumerate(N_rework):\n",
    "    print(f'fit_params_{l:04d}ions')\n",
    "    np.savez( f'fit_params_{l:04d}ions', fit_param=popt_rework[k], Urf=Urf_rework[k], N=N_rework[k])\n",
    "\n",
    "# func5(t, t0, A, B, C, k)\n",
    "# with load('/home/adrien/Documents/Programmes/Python/THESE/RF_Temp_Fit/fit_params_0256ions.npz') as data:\n",
    "#     a = data['N']\n",
    "# print(a)"
   ]
  },
  {
   "cell_type": "markdown",
   "id": "11f1a302",
   "metadata": {},
   "source": [
    "# From fluo-variations_optimal-temp.ipynb"
   ]
  },
  {
   "cell_type": "markdown",
   "id": "c42116c2",
   "metadata": {},
   "source": [
    "# Functions used to describe ions\n",
    "### From fluo-variations_optimal-temp.ipynb\n",
    "I present the functions used to compute fluorescence and cooling power as a function of the temperature. See Foot chapter 7 and 9. The two basic functions are as follows.\n",
    "\n",
    "- $\\texttt{MB}(v)$ is the Maxwell-Boltzmann distribution for a given temperature. It provides the probability to find an atom with a given velocity in a gas with temperature T.\n",
    "\n",
    "- $\\texttt{pfl_dop}(v) = \\rho_{ee}(v)$ is the atomic ray profile with Doppler effect. It provides the probability of excitation of a single oscillator given Rabi frequency, detuning, lambda and its velocity. It is considered equal to the excited population, i.e the proportion of excited atoms. This function is used with fixed Rabi frequency, detuning and lambda.\n",
    "\n",
    "Those functions are used to compute the total fluorescence of the ion ensemble under laser cooling $F$, the cooling power of laser $G$, the heating induced by the spontaneous emission $G_{Hot}$.\n",
    "\n",
    "- $\\texttt{prob_fluo} = \\texttt{pfl_dop}\\times \\texttt{MB}$ is the probability of excitation of an ion with velocity v in an ensemble at temperature $T$. The sum $F=\\Gamma\\sum_v \\texttt{prob_fluo}\\; dv$ is the fluorescence emitted by an ensemble of ions with given temperature $T$.\n",
    "\n",
    "- $\\texttt{cool_power} = \\texttt{pfl_dop}\\times \\texttt{MB}\\times kv$ is used to compute the cooling energy of laser $G = \\sum_v \\texttt{cool_power}\\; \\mathrm{d}v \\times \\;\\hbar k \\Gamma$ [J].\n",
    "\n",
    "- $\\texttt{hot_power} = \\texttt{prob_fluo}$ is used to compute the heating induced by the spontaneous emission $G_{Hot} = \\sum_v \\texttt{hot_power}\\; \\mathrm{d}v \\times \\;\\hbar^2 k^2 \\Gamma/m$ [J].\n",
    "\n",
    "You can multiply $G$ and $G_{Hot}$ by $1/(k_b\\tau_{RF}$ to express those quantities in K/RF period. This transformation relies on the following formula : E = 3/2 k_bT.\n",
    "\n",
    "\n",
    "$\\texttt{MB} = \\sqrt{\\frac{m}{2\\pi k_BT}}\\exp{-\\frac{mv^2}{2k_BT}}$\n",
    "\n",
    "$\\texttt{pfl_dop} = \\rho_{ee} = \\frac{0.25\\Omega_R^2}{0.5\\Omega_R^2 + 0.25\\Gamma^2 + \\Delta^2} = \\frac{A/2}{A+B + \\Delta^2}$\n",
    "\n",
    "$\\texttt{cool_power} = \\texttt{pfl_dop}\\times \\texttt{MB}\\times kv$"
   ]
  },
  {
   "cell_type": "code",
   "execution_count": 35,
   "id": "3f906f38",
   "metadata": {},
   "outputs": [],
   "source": [
    "# Doppler profile\n",
    "def pfl_dop(v, delta, k, Rab, Gam):\n",
    "    return .25*Rab**2/(0.5*Rab**2+.25*Gam**2+(delta-k*v)**2)\n",
    "\n",
    "# Maxwell-Boltzmann distribution\n",
    "def MB(v, T):\n",
    "    kb = 1.38064852*1e-23  # Boltzman\n",
    "    m_Ca = 40.078*1.66054e-27 # masse Ca 40.078\n",
    "    return (m_Ca/(np.pi*2*kb*T))**(1/2) * np.exp(-m_Ca*v**2/(2*kb*T)) # **1 car vitesse par rapport au laser compte seulement (1D)\n",
    "\n",
    "# Probabilities product\n",
    "# For a range of velocities,\n",
    "# compute the prob_fluo\n",
    "# for a given T, delta, Rab, Gam\n",
    "def prob_fluo(vmin, vmax, nv, T, delta, k, Rab, Gam):\n",
    "    nu = k*np.linspace(vmin, vmax, nv)\n",
    "    return nu, pfl_dop(-nu/k, delta, k, Rab, Gam)*MB(nu/k, T)\n",
    "\n",
    "def cool_power(vmin, vmax, nv, T, delta, k, Rab, Gam):\n",
    "    nu = k*np.linspace(vmin, vmax, nv)\n",
    "    return nu, pfl_dop(-nu/k, delta, k, Rab, Gam)*MB(nu/k, T)*nu\n",
    "\n",
    "def hot_power(vmin, vmax, nv, T, delta, k, Rab, Gam):\n",
    "    nu = k*np.linspace(vmin, vmax, nv)\n",
    "    return nu, pfl_dop(-nu/k, delta, k, Rab, Gam)*MB(nu/k, T)\n",
    "\n",
    "def T_lim(delta):\n",
    "    return -0.5*hbar*Gam**2*(1+(2*delta/Gam)**2) / (4*delta)/kb"
   ]
  },
  {
   "cell_type": "code",
   "execution_count": 36,
   "id": "4451dc78",
   "metadata": {},
   "outputs": [
    {
     "name": "stdout",
     "output_type": "stream",
     "text": [
      "0.9994781288008786\n"
     ]
    }
   ],
   "source": [
    "T = 0.01\n",
    "v_thermique = sqrt(2*kb*T/m_Ca)\n",
    "nv = 2000\n",
    "dv = 6*v_thermique/nv\n",
    "dist_MB = []\n",
    "for v in linspace(-3*v_thermique,3*v_thermique,nv):\n",
    "    dist_MB.append(MB(v, T))\n",
    "print(sum(dist_MB)*dv)"
   ]
  },
  {
   "cell_type": "code",
   "execution_count": 37,
   "id": "c028266c",
   "metadata": {},
   "outputs": [],
   "source": [
    "# Laser parameters\n",
    "lam = 397e-9 # m\n",
    "klam = 2*pi/lam # m^-1\n",
    "Gam = 21570000.0 *2*pi\n",
    "delta = Gam\n",
    "Rab = Gam\n",
    "I = 170 # W/m²"
   ]
  },
  {
   "cell_type": "code",
   "execution_count": 38,
   "id": "2ad8606f",
   "metadata": {},
   "outputs": [],
   "source": [
    "c_light = 299792458\n",
    "h_pl = 6.62607015*1e-34\n",
    "h_pl_bar = h_pl/2/pi\n",
    "lam_397 = 396.84620*1e-9\n",
    "k=(2*pi)/lam_397\n",
    "gamma_SP = 21.57*1e6\n",
    "tau = 1/gamma_SP\n",
    "Omega = 2.0e6*2*pi\n",
    "tau_RF = 1/(Omega/(2*pi))"
   ]
  },
  {
   "cell_type": "code",
   "execution_count": 39,
   "id": "692c9f14",
   "metadata": {},
   "outputs": [
    {
     "name": "stdout",
     "output_type": "stream",
     "text": [
      "0.4634206649198229\n",
      "0.0010351970908243904\n"
     ]
    }
   ],
   "source": [
    "v_min = sqrt(h_pl_bar*Gam/m_Ca)\n",
    "print(v_min)\n",
    "print(m_Ca*v_min**2/kb)"
   ]
  },
  {
   "cell_type": "markdown",
   "id": "3a65de8e",
   "metadata": {},
   "source": [
    "# Windowing"
   ]
  },
  {
   "cell_type": "code",
   "execution_count": 40,
   "id": "32469b0b",
   "metadata": {},
   "outputs": [
    {
     "name": "stdout",
     "output_type": "stream",
     "text": [
      "0.10000000000000005 0.09999999999999999\n"
     ]
    }
   ],
   "source": [
    "# Windowing temperature\n",
    "window_samp = 200\n",
    "x_win = [] # zeros((len(y)//window_samp,len(file_path)))\n",
    "y_win = [] # zeros((len(y)//window_samp,len(file_path)))\n",
    "\n",
    "for to_fit in range(len(file_path)):\n",
    "#     print(to_fit)\n",
    "    x_win.append([])\n",
    "    y_win.append([])\n",
    "    x = time[to_fit]-1e-3\n",
    "    y = T_aux_avg[to_fit]\n",
    "    for i in range(len(y)//window_samp-1):\n",
    "        x_win[to_fit].append( (x[i*window_samp]+x[(i+1)*window_samp])/2 )\n",
    "        y_win[to_fit].append( sum(y[i*window_samp:(i+1)*window_samp])/window_samp )\n",
    "    \n",
    "print(diff(x_win[0])[0]*1e3,tau_RF*window_samp*1e3)"
   ]
  },
  {
   "cell_type": "code",
   "execution_count": 41,
   "id": "34fb2f52",
   "metadata": {},
   "outputs": [],
   "source": [
    "# Plot windowed temperature\n",
    "to_plot = 2\n",
    "x  = time[to_plot]-1e-3\n",
    "y  = T_aux_avg[to_plot]\n",
    "figure('Windowed T',clear='True')\n",
    "semilogy(x, y,':',color='y')\n",
    "semilogy(x_win[to_plot], y_win[to_plot],'+')\n",
    "# hlines(500,0,0.02)\n",
    "grid()\n",
    "tight_layout()"
   ]
  },
  {
   "cell_type": "code",
   "execution_count": 74,
   "id": "cf6420fe",
   "metadata": {},
   "outputs": [
    {
     "name": "stdout",
     "output_type": "stream",
     "text": [
      "/home/adrien/RemoteFS/Rivendel/Simulations/20221017/Time_and_temp_RFHEAT_N1024_DC02_RF02.npz\n",
      "/home/adrien/RemoteFS/Rivendel/Simulations/20221017/Time_and_temp_RFHEAT_N1024_DC03_RF03.npz\n",
      "/home/adrien/RemoteFS/Rivendel/Simulations/20221017/Time_and_temp_RFHEAT_N1024_DC04_RF04.npz\n",
      "/home/adrien/RemoteFS/Rivendel/Simulations/20221017/Time_and_temp_RFHEAT_N1024_DC05_RF05.npz\n",
      "/home/adrien/RemoteFS/Rivendel/Simulations/20221017/Time_and_temp_RFHEAT_N1024_DC08_RF08.npz\n"
     ]
    },
    {
     "name": "stderr",
     "output_type": "stream",
     "text": [
      "The PostScript backend does not support transparency; partially transparent artists will be rendered opaque.\n"
     ]
    }
   ],
   "source": [
    "# Plot windowed temperature\n",
    "# figure('Windowed T',clear='True')\n",
    "# semilogy(x_win*1e3, y_win,'+')\n",
    "# semilogy(x[::100]*1e3, y[::100],':',color='y')\n",
    "# grid()\n",
    "# tight_layout\n",
    "\n",
    "nv = 500\n",
    "log_temps = linspace(-3.1,3,nv)\n",
    "coolpow_05 = []\n",
    "coolpow_1 = []\n",
    "# coolpow_1_bis = []\n",
    "coolpow_2 = []\n",
    "coolpow_4 = []\n",
    "coolpow_6 = []\n",
    "# coolpow_8 = []\n",
    "coolpow_10 = []\n",
    "# coolpow_50 = []\n",
    "for T in 10**log_temps:\n",
    "    v_thermique = sqrt(2*kb*T/m_Ca)\n",
    "    dv = 6*v_thermique/nv\n",
    "    coolpow_05.append( sum(cool_power(-3*v_thermique, 3*v_thermique, nv, T, -Gam/2, klam, Rab, Gam)[1])*dv*h_pl_bar*Gam/kb*tau_RF )\n",
    "    coolpow_1.append( sum(cool_power(-3*v_thermique, 3*v_thermique, nv, T, -Gam, klam, Rab, Gam)[1])*dv*h_pl_bar*Gam/kb*tau_RF )\n",
    "#     coolpow_1_bis.append( sum(cool_power(-3*v_thermique, 3*v_thermique, nv, T, -Gam, k, 2*Rab, Gam)[1])*dv*h_pl_bar*Gam/kb*tau_RF )\n",
    "    coolpow_2.append( sum(cool_power(-3*v_thermique, 3*v_thermique, nv, T, -2*Gam, klam, Rab, Gam)[1])*dv*h_pl_bar*Gam/kb*tau_RF )\n",
    "    coolpow_4.append( sum(cool_power(-3*v_thermique, 3*v_thermique, nv, T, -4*Gam, k, Rab, Gam)[1])*dv*h_pl_bar*Gam/kb*tau_RF )\n",
    "    coolpow_6.append( sum(cool_power(-3*v_thermique, 3*v_thermique, nv, T, -6*Gam, k, Rab, Gam)[1])*dv*h_pl_bar*Gam/kb*tau_RF )\n",
    "#     coolpow_8.append( sum(cool_power(-3*v_thermique, 3*v_thermique, nv, T, -8*Gam, k, Rab, Gam)[1])*dv*h_pl_bar*Gam/kb*tau_RF )\n",
    "    coolpow_10.append( sum(cool_power(-3*v_thermique, 3*v_thermique, nv, T, -10*Gam, k, Rab, Gam)[1])*dv*h_pl_bar*Gam/kb*tau_RF )\n",
    "#     coolpow_50.append( sum(cool_power(-3*v_thermique, 3*v_thermique, nv, T, -50*Gam, k, Rab, Gam)[1])*dv*h_pl_bar*Gam/kb*tau_RF )\n",
    "\n",
    "my_color=[7,2,6,3,3] # \n",
    "figname = 'Windowed_dT_dt_q_N'\n",
    "fig = figure(figname,clear='True')\n",
    "fig.set_size_inches(11.7, 8.3)\n",
    "ax1 = fig.add_subplot(111)\n",
    "\n",
    "# ax.semilogy(x_win[:-1]*1e3, diff(y_win)/window_samp,'+')\n",
    "incr = 0\n",
    "choosen_plot = [0,1,2,3,4]\n",
    "for to_plot in choosen_plot: # [4,15,24] 1,12,21 3,14,23\n",
    "    print(file_path[to_plot])\n",
    "    my_try = int(file_path[to_plot][file_path[to_plot].find('DC')+2:file_path[to_plot].find('DC')+4])\n",
    "    ax1.loglog(y_win[to_plot][:-1], diff(y_win[to_plot])/window_samp,\n",
    "              marker='.',ms=14,mec='k',mew=0.2,ls='',color=cm4((incr+0.3)/4),\n",
    "              label=f'{q[my_try]}')\n",
    "    incr+=1\n",
    "\n",
    "max_H = 50\n",
    "ax1.loglog(y_win[0][max_H-50:max_H+15-1], diff(y_win[0][max_H-50:max_H+15])/window_samp,\n",
    "      marker=' ',ls=':',lw=2,color=cm4((0+0.3)/4))\n",
    "max_H = 10\n",
    "ax1.loglog(y_win[1][max_H-10:max_H+15-1], diff(y_win[1][max_H-10:max_H+15])/window_samp,\n",
    "      marker=' ',ls=':',lw=2,color=cm4((1+0.3)/4))  \n",
    "max_H = 815\n",
    "ax1.loglog(y_win[2][max_H-50:max_H+15-1], diff(y_win[2][max_H-50:max_H+15])/window_samp,\n",
    "      marker=' ',ls=':',lw=2,color=cm4((2+0.3)/4))\n",
    "max_H = 850\n",
    "ax1.loglog(y_win[3][max_H-15:max_H+15-1], diff(y_win[3][max_H-15:max_H+15])/window_samp,\n",
    "      marker=' ',ls=':',lw=2,color=cm4((3+0.3)/4))\n",
    "max_H = 65\n",
    "ax1.loglog(y_win[4][max_H-15:max_H+15-1], diff(y_win[4][max_H-15:max_H+15])/window_samp,\n",
    "      marker=' ',ls=':',lw=2,color=cm4((4+0.3)/4))  \n",
    "# loglog(0,0,' ',label=' ')\n",
    "# to_plot = 20\n",
    "# ax1.loglog(y_win[to_plot][:-1], diff(y_win[to_plot])/window_samp,\n",
    "#           marker='.',ms=14,mec='k',mew=0,ls='',color=cm(4/8),\n",
    "#           label=f'{N_rework[2]}')\n",
    "\n",
    "# ax1.loglog(y_win[choosen_plot[0]][:-1],\n",
    "#            diff(y_win[choosen_plot[0]][:])/window_samp,\n",
    "#           marker='',ls=':',color=cm(0/8))\n",
    "    \n",
    "ax1.loglog(10**log_temps,coolpow_05,ls=\"-\",color='k',lw=2,label='$-0.5\\Gamma$')\n",
    "ax1.loglog(10**log_temps,coolpow_1,ls=\"--\",color='k',lw=2,label='$-\\Gamma$')\n",
    "# ax1.loglog(10**log_temps,coolpow_1_bis,ls=\"--\",color='r',label='$-\\Gamma$')\n",
    "# ax1.loglog(10**log_temps,coolpow_2,ls=\":\",color='xkcd:rouge',lw=2.5,label='$-2\\Gamma$')\n",
    "ax1.loglog(10**log_temps,coolpow_4,ls=\":\",color=cm3j(3/10),lw=5,label='$-4\\Gamma$')  \n",
    "# ax1.loglog(10**log_temps,coolpow_6,ls=\":\",color='xkcd:green',lw=2.5,label='$-6\\Gamma$')\n",
    "# ax1.loglog(10**log_temps,coolpow_8,ls=\":\",color='xkcd:blue',label='$-8\\Gamma$')  \n",
    "ax1.loglog(10**log_temps,coolpow_10,ls=\":\",color=cm3j(9/10),lw=5,label='$-10\\Gamma$')\n",
    "# ax1.loglog(10**log_temps,coolpow_50,ls=\":\",color='xkcd:black',label='$-50\\Gamma$') \n",
    "    \n",
    "ax1.set_xlabel('T (K)')\n",
    "ax1.set_ylabel('$\\mathrm{d}T/\\mathrm{d}t$ (K/RF period)')\n",
    "ax1.grid()\n",
    "ax1.grid(True, which=\"minor\", ls=\":\", color='0.80')\n",
    "ax1.legend(title=f'$q_x$, $N=1024$',loc=4,ncol=2,fontsize=18)\n",
    "ax1.set_xlim(7e-3,0.6e3)\n",
    "ax1.set_ylim(1e-9,6e-1)\n",
    "\n",
    "tight_layout()\n",
    "\n",
    "savefig(figname+'qvar'+'.eps',dpi=300)\n",
    "savefig(figname+'qvar'+'.jpg',dpi=300)"
   ]
  }
 ],
 "metadata": {
  "kernelspec": {
   "display_name": "Python 3 (ipykernel)",
   "language": "python",
   "name": "python3"
  },
  "language_info": {
   "codemirror_mode": {
    "name": "ipython",
    "version": 3
   },
   "file_extension": ".py",
   "mimetype": "text/x-python",
   "name": "python",
   "nbconvert_exporter": "python",
   "pygments_lexer": "ipython3",
   "version": "3.10.6"
  }
 },
 "nbformat": 4,
 "nbformat_minor": 5
}
