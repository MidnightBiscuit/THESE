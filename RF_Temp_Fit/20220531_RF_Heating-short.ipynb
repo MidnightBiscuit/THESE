{
 "cells": [
  {
   "cell_type": "code",
   "execution_count": 1,
   "id": "2fdfc08b",
   "metadata": {
    "collapsed": true
   },
   "outputs": [
    {
     "ename": "ModuleNotFoundError",
     "evalue": "No module named 'watermark'",
     "output_type": "error",
     "traceback": [
      "\u001b[0;31m---------------------------------------------------------------------------\u001b[0m",
      "\u001b[0;31mModuleNotFoundError\u001b[0m                       Traceback (most recent call last)",
      "\u001b[0;32m/tmp/ipykernel_66391/323679751.py\u001b[0m in \u001b[0;36m<module>\u001b[0;34m\u001b[0m\n\u001b[0;32m----> 1\u001b[0;31m \u001b[0mget_ipython\u001b[0m\u001b[0;34m(\u001b[0m\u001b[0;34m)\u001b[0m\u001b[0;34m.\u001b[0m\u001b[0mrun_line_magic\u001b[0m\u001b[0;34m(\u001b[0m\u001b[0;34m'load_ext'\u001b[0m\u001b[0;34m,\u001b[0m \u001b[0;34m'watermark'\u001b[0m\u001b[0;34m)\u001b[0m\u001b[0;34m\u001b[0m\u001b[0;34m\u001b[0m\u001b[0m\n\u001b[0m\u001b[1;32m      2\u001b[0m \u001b[0mget_ipython\u001b[0m\u001b[0;34m(\u001b[0m\u001b[0;34m)\u001b[0m\u001b[0;34m.\u001b[0m\u001b[0mrun_line_magic\u001b[0m\u001b[0;34m(\u001b[0m\u001b[0;34m'watermark'\u001b[0m\u001b[0;34m,\u001b[0m \u001b[0;34m''\u001b[0m\u001b[0;34m)\u001b[0m\u001b[0;34m\u001b[0m\u001b[0;34m\u001b[0m\u001b[0m\n",
      "\u001b[0;32m/usr/lib/python3/dist-packages/IPython/core/interactiveshell.py\u001b[0m in \u001b[0;36mrun_line_magic\u001b[0;34m(self, magic_name, line, _stack_depth)\u001b[0m\n\u001b[1;32m   2362\u001b[0m                 \u001b[0mkwargs\u001b[0m\u001b[0;34m[\u001b[0m\u001b[0;34m'local_ns'\u001b[0m\u001b[0;34m]\u001b[0m \u001b[0;34m=\u001b[0m \u001b[0mself\u001b[0m\u001b[0;34m.\u001b[0m\u001b[0mget_local_scope\u001b[0m\u001b[0;34m(\u001b[0m\u001b[0mstack_depth\u001b[0m\u001b[0;34m)\u001b[0m\u001b[0;34m\u001b[0m\u001b[0;34m\u001b[0m\u001b[0m\n\u001b[1;32m   2363\u001b[0m             \u001b[0;32mwith\u001b[0m \u001b[0mself\u001b[0m\u001b[0;34m.\u001b[0m\u001b[0mbuiltin_trap\u001b[0m\u001b[0;34m:\u001b[0m\u001b[0;34m\u001b[0m\u001b[0;34m\u001b[0m\u001b[0m\n\u001b[0;32m-> 2364\u001b[0;31m                 \u001b[0mresult\u001b[0m \u001b[0;34m=\u001b[0m \u001b[0mfn\u001b[0m\u001b[0;34m(\u001b[0m\u001b[0;34m*\u001b[0m\u001b[0margs\u001b[0m\u001b[0;34m,\u001b[0m \u001b[0;34m**\u001b[0m\u001b[0mkwargs\u001b[0m\u001b[0;34m)\u001b[0m\u001b[0;34m\u001b[0m\u001b[0;34m\u001b[0m\u001b[0m\n\u001b[0m\u001b[1;32m   2365\u001b[0m             \u001b[0;32mreturn\u001b[0m \u001b[0mresult\u001b[0m\u001b[0;34m\u001b[0m\u001b[0;34m\u001b[0m\u001b[0m\n\u001b[1;32m   2366\u001b[0m \u001b[0;34m\u001b[0m\u001b[0m\n",
      "\u001b[0;32m<decorator-gen-57>\u001b[0m in \u001b[0;36mload_ext\u001b[0;34m(self, module_str)\u001b[0m\n",
      "\u001b[0;32m/usr/lib/python3/dist-packages/IPython/core/magic.py\u001b[0m in \u001b[0;36m<lambda>\u001b[0;34m(f, *a, **k)\u001b[0m\n\u001b[1;32m    185\u001b[0m     \u001b[0;31m# but it's overkill for just that one bit of state.\u001b[0m\u001b[0;34m\u001b[0m\u001b[0;34m\u001b[0m\u001b[0m\n\u001b[1;32m    186\u001b[0m     \u001b[0;32mdef\u001b[0m \u001b[0mmagic_deco\u001b[0m\u001b[0;34m(\u001b[0m\u001b[0marg\u001b[0m\u001b[0;34m)\u001b[0m\u001b[0;34m:\u001b[0m\u001b[0;34m\u001b[0m\u001b[0;34m\u001b[0m\u001b[0m\n\u001b[0;32m--> 187\u001b[0;31m         \u001b[0mcall\u001b[0m \u001b[0;34m=\u001b[0m \u001b[0;32mlambda\u001b[0m \u001b[0mf\u001b[0m\u001b[0;34m,\u001b[0m \u001b[0;34m*\u001b[0m\u001b[0ma\u001b[0m\u001b[0;34m,\u001b[0m \u001b[0;34m**\u001b[0m\u001b[0mk\u001b[0m\u001b[0;34m:\u001b[0m \u001b[0mf\u001b[0m\u001b[0;34m(\u001b[0m\u001b[0;34m*\u001b[0m\u001b[0ma\u001b[0m\u001b[0;34m,\u001b[0m \u001b[0;34m**\u001b[0m\u001b[0mk\u001b[0m\u001b[0;34m)\u001b[0m\u001b[0;34m\u001b[0m\u001b[0;34m\u001b[0m\u001b[0m\n\u001b[0m\u001b[1;32m    188\u001b[0m \u001b[0;34m\u001b[0m\u001b[0m\n\u001b[1;32m    189\u001b[0m         \u001b[0;32mif\u001b[0m \u001b[0mcallable\u001b[0m\u001b[0;34m(\u001b[0m\u001b[0marg\u001b[0m\u001b[0;34m)\u001b[0m\u001b[0;34m:\u001b[0m\u001b[0;34m\u001b[0m\u001b[0;34m\u001b[0m\u001b[0m\n",
      "\u001b[0;32m/usr/lib/python3/dist-packages/IPython/core/magics/extension.py\u001b[0m in \u001b[0;36mload_ext\u001b[0;34m(self, module_str)\u001b[0m\n\u001b[1;32m     31\u001b[0m         \u001b[0;32mif\u001b[0m \u001b[0;32mnot\u001b[0m \u001b[0mmodule_str\u001b[0m\u001b[0;34m:\u001b[0m\u001b[0;34m\u001b[0m\u001b[0;34m\u001b[0m\u001b[0m\n\u001b[1;32m     32\u001b[0m             \u001b[0;32mraise\u001b[0m \u001b[0mUsageError\u001b[0m\u001b[0;34m(\u001b[0m\u001b[0;34m'Missing module name.'\u001b[0m\u001b[0;34m)\u001b[0m\u001b[0;34m\u001b[0m\u001b[0;34m\u001b[0m\u001b[0m\n\u001b[0;32m---> 33\u001b[0;31m         \u001b[0mres\u001b[0m \u001b[0;34m=\u001b[0m \u001b[0mself\u001b[0m\u001b[0;34m.\u001b[0m\u001b[0mshell\u001b[0m\u001b[0;34m.\u001b[0m\u001b[0mextension_manager\u001b[0m\u001b[0;34m.\u001b[0m\u001b[0mload_extension\u001b[0m\u001b[0;34m(\u001b[0m\u001b[0mmodule_str\u001b[0m\u001b[0;34m)\u001b[0m\u001b[0;34m\u001b[0m\u001b[0;34m\u001b[0m\u001b[0m\n\u001b[0m\u001b[1;32m     34\u001b[0m \u001b[0;34m\u001b[0m\u001b[0m\n\u001b[1;32m     35\u001b[0m         \u001b[0;32mif\u001b[0m \u001b[0mres\u001b[0m \u001b[0;34m==\u001b[0m \u001b[0;34m'already loaded'\u001b[0m\u001b[0;34m:\u001b[0m\u001b[0;34m\u001b[0m\u001b[0;34m\u001b[0m\u001b[0m\n",
      "\u001b[0;32m/usr/lib/python3/dist-packages/IPython/core/extensions.py\u001b[0m in \u001b[0;36mload_extension\u001b[0;34m(self, module_str)\u001b[0m\n\u001b[1;32m     78\u001b[0m             \u001b[0;32mif\u001b[0m \u001b[0mmodule_str\u001b[0m \u001b[0;32mnot\u001b[0m \u001b[0;32min\u001b[0m \u001b[0msys\u001b[0m\u001b[0;34m.\u001b[0m\u001b[0mmodules\u001b[0m\u001b[0;34m:\u001b[0m\u001b[0;34m\u001b[0m\u001b[0;34m\u001b[0m\u001b[0m\n\u001b[1;32m     79\u001b[0m                 \u001b[0;32mwith\u001b[0m \u001b[0mprepended_to_syspath\u001b[0m\u001b[0;34m(\u001b[0m\u001b[0mself\u001b[0m\u001b[0;34m.\u001b[0m\u001b[0mipython_extension_dir\u001b[0m\u001b[0;34m)\u001b[0m\u001b[0;34m:\u001b[0m\u001b[0;34m\u001b[0m\u001b[0;34m\u001b[0m\u001b[0m\n\u001b[0;32m---> 80\u001b[0;31m                     \u001b[0mmod\u001b[0m \u001b[0;34m=\u001b[0m \u001b[0mimport_module\u001b[0m\u001b[0;34m(\u001b[0m\u001b[0mmodule_str\u001b[0m\u001b[0;34m)\u001b[0m\u001b[0;34m\u001b[0m\u001b[0;34m\u001b[0m\u001b[0m\n\u001b[0m\u001b[1;32m     81\u001b[0m                     \u001b[0;32mif\u001b[0m \u001b[0mmod\u001b[0m\u001b[0;34m.\u001b[0m\u001b[0m__file__\u001b[0m\u001b[0;34m.\u001b[0m\u001b[0mstartswith\u001b[0m\u001b[0;34m(\u001b[0m\u001b[0mself\u001b[0m\u001b[0;34m.\u001b[0m\u001b[0mipython_extension_dir\u001b[0m\u001b[0;34m)\u001b[0m\u001b[0;34m:\u001b[0m\u001b[0;34m\u001b[0m\u001b[0;34m\u001b[0m\u001b[0m\n\u001b[1;32m     82\u001b[0m                         print((\"Loading extensions from {dir} is deprecated. \"\n",
      "\u001b[0;32m/usr/lib/python3.10/importlib/__init__.py\u001b[0m in \u001b[0;36mimport_module\u001b[0;34m(name, package)\u001b[0m\n\u001b[1;32m    124\u001b[0m                 \u001b[0;32mbreak\u001b[0m\u001b[0;34m\u001b[0m\u001b[0;34m\u001b[0m\u001b[0m\n\u001b[1;32m    125\u001b[0m             \u001b[0mlevel\u001b[0m \u001b[0;34m+=\u001b[0m \u001b[0;36m1\u001b[0m\u001b[0;34m\u001b[0m\u001b[0;34m\u001b[0m\u001b[0m\n\u001b[0;32m--> 126\u001b[0;31m     \u001b[0;32mreturn\u001b[0m \u001b[0m_bootstrap\u001b[0m\u001b[0;34m.\u001b[0m\u001b[0m_gcd_import\u001b[0m\u001b[0;34m(\u001b[0m\u001b[0mname\u001b[0m\u001b[0;34m[\u001b[0m\u001b[0mlevel\u001b[0m\u001b[0;34m:\u001b[0m\u001b[0;34m]\u001b[0m\u001b[0;34m,\u001b[0m \u001b[0mpackage\u001b[0m\u001b[0;34m,\u001b[0m \u001b[0mlevel\u001b[0m\u001b[0;34m)\u001b[0m\u001b[0;34m\u001b[0m\u001b[0;34m\u001b[0m\u001b[0m\n\u001b[0m\u001b[1;32m    127\u001b[0m \u001b[0;34m\u001b[0m\u001b[0m\n\u001b[1;32m    128\u001b[0m \u001b[0;34m\u001b[0m\u001b[0m\n",
      "\u001b[0;32m/usr/lib/python3.10/importlib/_bootstrap.py\u001b[0m in \u001b[0;36m_gcd_import\u001b[0;34m(name, package, level)\u001b[0m\n",
      "\u001b[0;32m/usr/lib/python3.10/importlib/_bootstrap.py\u001b[0m in \u001b[0;36m_find_and_load\u001b[0;34m(name, import_)\u001b[0m\n",
      "\u001b[0;32m/usr/lib/python3.10/importlib/_bootstrap.py\u001b[0m in \u001b[0;36m_find_and_load_unlocked\u001b[0;34m(name, import_)\u001b[0m\n",
      "\u001b[0;31mModuleNotFoundError\u001b[0m: No module named 'watermark'"
     ]
    }
   ],
   "source": [
    "%load_ext watermark\n",
    "%watermark"
   ]
  },
  {
   "cell_type": "code",
   "execution_count": 2,
   "id": "daa8f4c3",
   "metadata": {},
   "outputs": [
    {
     "name": "stdout",
     "output_type": "stream",
     "text": [
      "Using matplotlib backend: TkAgg\n",
      "Populating the interactive namespace from numpy and matplotlib\n"
     ]
    }
   ],
   "source": [
    "%pylab"
   ]
  },
  {
   "cell_type": "code",
   "execution_count": 3,
   "id": "76e5594e",
   "metadata": {},
   "outputs": [
    {
     "name": "stdout",
     "output_type": "stream",
     "text": [
      "Warning: Cannot change to a different GUI toolkit: qt. Using tk instead.\n"
     ]
    }
   ],
   "source": [
    "from scipy.optimize import curve_fit\n",
    "from scipy.signal import savgol_filter\n",
    "\n",
    "import tkinter as tk\n",
    "from tkinter import filedialog\n",
    "\n",
    "import os\n",
    "\n",
    "%matplotlib qt"
   ]
  },
  {
   "cell_type": "code",
   "execution_count": 5,
   "id": "39f3f8cf",
   "metadata": {},
   "outputs": [
    {
     "name": "stdout",
     "output_type": "stream",
     "text": [
      "[  1  65 129 193 257 321 385 449]\n",
      "[ 64 128 192 256 320 384 448 512]\n"
     ]
    }
   ],
   "source": [
    "n_core = 8\n",
    "N = 512\n",
    "print(linspace(1,N+1-N//n_core,n_core,dtype='int'))\n",
    "print(linspace(N//n_core,N,n_core,dtype='int'))\n",
    "\n",
    "# integer          , parameter :: ia(ni)=[1,257,513,769]\n",
    "# integer          , parameter :: ib(ni)=[256,512,768,1024]"
   ]
  },
  {
   "cell_type": "code",
   "execution_count": 8,
   "id": "916883eb",
   "metadata": {
    "scrolled": true
   },
   "outputs": [],
   "source": [
    "%run functions\n",
    "matplotlib.rcParams.update({'font.size': 25})"
   ]
  },
  {
   "cell_type": "code",
   "execution_count": 9,
   "id": "efce5ee7",
   "metadata": {},
   "outputs": [
    {
     "name": "stdout",
     "output_type": "stream",
     "text": [
      "$\\kappa_{simion}$ = 0.270471\n"
     ]
    }
   ],
   "source": [
    "# Constantes de la physique\n",
    "# ABSOLUMENT RECHARGER APRÈS AVOIR EXECUTÉ LES CASES D'IMPORT AU DESSUS\n",
    "\n",
    "C_e = 1.602e-19        # Coulomb\n",
    "kb = 1.38064852*1e-23  # Boltzman\n",
    "m_Ca = 40.078*1.66054e-27 # masse Ca 40.078\n",
    "m_GM = 1e6*1.66054e-27 # la masse de la GMol\n",
    "eps0 = 8.854187*1e-12  # permittivité électrique du vide\n",
    "\n",
    "r0 = 2.5e-3 # 2.5e-3   # rayon piège Ca+\n",
    "d0 = 4e-3/2            # longueur piège Ca+\n",
    "\n",
    "Omega = 2.05e6*2*pi # 2.047e6\n",
    "\n",
    "bk = 4 # nombre de barreaux par groupe (2 -> 4-pole , 4 -> 8-pole ...)\n",
    "\n",
    "mkappa = 0.23          # écrantage piège réel GiantMol\n",
    "\n",
    "wzLC = (2*pi*90806.9982303)**2\n",
    "kappa_simion = m_Ca*d0**2*wzLC/(2*C_e)\n",
    "print('%s = %f' % ('$\\kappa_{simion}$',kappa_simion) )\n",
    "\n",
    "zeta = kappa_simion*r0**2/d0**2"
   ]
  },
  {
   "cell_type": "code",
   "execution_count": 25,
   "id": "02204cee",
   "metadata": {},
   "outputs": [],
   "source": [
    "file_path = '/home/adrien/RemoteFS/Rivendel/Simulations/20220531'\n",
    "# file_path = '/home/adrien/RemoteFS/Rivendel/Simulations/20220512'\n",
    "# file_path = '/home/adrien/RemoteFS/Rivendel/Simulations/20220510'\n",
    "\n",
    "all_subdir = []\n",
    "all_Temp = []\n",
    "all_trjN = []\n",
    "all_trj1 = []\n",
    "all_xva_3DHarmo = []\n",
    "all_xva_start = []\n",
    "\n",
    "# selection of all directories where\n",
    "# there are data files\n",
    "for i,j in enumerate(os.walk(file_path)):\n",
    "    if 'Try' in j[0]:\n",
    "        all_subdir.append(j[0])\n",
    "    # selection of all data files\n",
    "    # interesting me\n",
    "    for k,l in enumerate(j[2]):\n",
    "        if 'TrjN' in l:\n",
    "            all_trjN.append(j[0]+'/'+l)\n",
    "        if 'Trj1' in l:\n",
    "            all_trj1.append(j[0]+'/'+l)\n",
    "            #print(l)\n",
    "        if 'SimuType0' and '.dat' in l:\n",
    "            all_Temp.append(j[0]+'/'+l)\n",
    "        if 'xva_3D' in l:\n",
    "            all_xva_3DHarmo.append(j[0]+'/'+l)\n",
    "        if 'xva_start' in l:\n",
    "            all_xva_start.append(j[0]+'/'+l)\n",
    "        #print(j[0],'\\n')\n",
    "\n",
    "# for i in range(len(all_subdir)):\n",
    "#     print(all_subdir[i],'\\n',all_Temp[i],'\\n',all_trjN[i],'\\n')"
   ]
  },
  {
   "cell_type": "code",
   "execution_count": 26,
   "id": "602383a8",
   "metadata": {},
   "outputs": [
    {
     "data": {
      "text/plain": [
       "(['/home/adrien/RemoteFS/Rivendel/Simulations/20220531/DC01_RF03/Try00/Temp_SimuType0_N00512_Vrf0042_Udc0.1000D+01V_nt1000.dat',\n",
       "  '/home/adrien/RemoteFS/Rivendel/Simulations/20220531/DC04_RF03/Try00/Temp_SimuType0_N00512_Vrf0042_Udc0.6050D+01V_nt1000.dat',\n",
       "  '/home/adrien/RemoteFS/Rivendel/Simulations/20220531/DC04_RF03/Try00/Temp_SimuType0_N00512_Vrf0042_Udc0.6010D+01V_nt1000.dat'],\n",
       " ['/home/adrien/RemoteFS/Rivendel/Simulations/20220531/DC01_RF03/Try00/xva_SimuType0_N00512_Vrf0042_Udc0.1000D+01V_nt1000_Trj1.bin',\n",
       "  '/home/adrien/RemoteFS/Rivendel/Simulations/20220531/DC04_RF03/Try00/xva_SimuType0_N00512_Vrf0042_Udc0.6010D+01V_nt1000_Trj1.bin'])"
      ]
     },
     "execution_count": 26,
     "metadata": {},
     "output_type": "execute_result"
    }
   ],
   "source": [
    "all_Temp,all_trj1"
   ]
  },
  {
   "cell_type": "code",
   "execution_count": 47,
   "id": "ac85917b",
   "metadata": {},
   "outputs": [
    {
     "name": "stdout",
     "output_type": "stream",
     "text": [
      "/home/adrien/RemoteFS/Rivendel/Simulations/20220531/DC04_RF03/Try00/Temp_SimuType0_N00512_Vrf0042_Udc0.6010D+01V_nt1000.dat\n"
     ]
    }
   ],
   "source": [
    "# OK pour la temperature\n",
    "load_number = 2\n",
    "print(all_Temp[load_number])\n",
    "data = loadtxt(all_Temp[load_number])\n",
    "time = data[:,0]\n",
    "T_CM = data[:,1:4]\n",
    "T_aux = data[:,4:]\n",
    "\n",
    "# test plot\n",
    "\n",
    "figure(1,clear='True')\n",
    "semilogy(time*1e3,T_aux,'P')\n",
    "# vlines(time[2000]*1e3,1e-1,1)\n",
    "xlabel('time [ms]')\n",
    "ylabel('T [K]')\n",
    "# xlim(1,1.1)\n",
    "grid()\n",
    "tight_layout()"
   ]
  },
  {
   "cell_type": "code",
   "execution_count": 33,
   "id": "c14b18de",
   "metadata": {},
   "outputs": [
    {
     "name": "stdout",
     "output_type": "stream",
     "text": [
      "/home/adrien/RemoteFS/Rivendel/Simulations/20220531/DC04_RF03/Try00/xva_SimuType0_N00512_Vrf0042_Udc0.6050D+01V_nt1000_TrjN.bin\n",
      "[480000]\n",
      "[480000]\n"
     ]
    }
   ],
   "source": [
    "# Retrieve r² and v² data\n",
    "\n",
    "print(all_trjN[load_number])\n",
    "r2_v2 = load_xv2(all_trjN[load_number])"
   ]
  },
  {
   "cell_type": "code",
   "execution_count": 34,
   "id": "5c1326e8",
   "metadata": {},
   "outputs": [],
   "source": [
    "# test plot r² and v²\n",
    "\n",
    "figure(2,clear='True')\n",
    "for k in range(3):\n",
    "    semilogy(time*1e3,r2_v2[k,:len(time)],label=str(k))\n",
    "xlabel('time [ms]')\n",
    "ylabel('R² [m²]')\n",
    "grid()\n",
    "\n",
    "legend()\n",
    "tight_layout()\n",
    "\n",
    "figure(3,clear='True')\n",
    "for k in range(3):\n",
    "    semilogy(time*1e3,r2_v2[k+3,:len(time)],label=str(k))\n",
    "xlabel('time [ms]')\n",
    "ylabel('V² [m/s ²]')\n",
    "grid()\n",
    "legend()\n",
    "tight_layout()"
   ]
  },
  {
   "cell_type": "code",
   "execution_count": 35,
   "id": "dccd6e54",
   "metadata": {},
   "outputs": [
    {
     "name": "stdout",
     "output_type": "stream",
     "text": [
      "1999999.9999997346\n",
      "fmax = 999999.9999998673 Hz\n",
      "df = 1999.9999999997347 Hz\n"
     ]
    }
   ],
   "source": [
    "t = time - max(time)\n",
    "T = max(t)-min(t)\n",
    "dt = time[1]-time[0]\n",
    "N_samp = len(time)\n",
    "print(1/dt)\n",
    "print( 'fmax =',1/(2*dt),'Hz' )\n",
    "print( 'df =',1/(len(t)*dt),'Hz' )\n",
    "\n",
    "y = r2_v2[5,:len(t)]\n",
    "w = blackman(len(t))\n",
    "ywf = fft(y*w)\n",
    "xf = fftfreq(len(t), dt)[:N_samp//2]\n",
    "figure(31,clear='True')\n",
    "plt.semilogy(xf[1:N_samp//2], 2.0/N_samp * np.abs(ywf[1:N_samp//2]), '-r')\n",
    "plt.tight_layout()"
   ]
  },
  {
   "cell_type": "code",
   "execution_count": 36,
   "id": "0b12c87a",
   "metadata": {},
   "outputs": [
    {
     "name": "stdout",
     "output_type": "stream",
     "text": [
      "q 0.19500194318898553\n",
      "non adiab 0.13893336947131177\n",
      "adiab     0.13788719637348557\n",
      "non adiab 142.40670370809454\n",
      "adiab     141.33437628282272\n"
     ]
    }
   ],
   "source": [
    "# q = 0.56\n",
    "Urf = 21\n",
    "q = 4*C_e*Urf/(m_Ca*r0**2*Omega**2)\n",
    "print('q',q)\n",
    "q_fact = (1+1/8*q**2)\n",
    "q_omega = 1/8*q**2*Omega**2\n",
    "\n",
    "beta_guess = 0.423\n",
    "a = 0\n",
    "for k in range(15):\n",
    "    beta_guess = beta_continue_alamano(a,q,beta_guess)\n",
    "    beta_guess = sqrt(beta_guess)\n",
    "#     print(beta_guess)\n",
    "print('non adiab',beta_guess)\n",
    "print('adiab    ',sqrt(a+q**2/2))\n",
    "print('non adiab',0.5*beta_guess*Omega/1000/2/pi)\n",
    "print('adiab    ',0.5*sqrt(a+q**2/2)*Omega/1000/2/pi)\n",
    "\n",
    "omega_x = 462249.463 *2*pi # 404799.82030008605\n",
    "omega_y = omega_x\n",
    "omega_z = 221549.940 *2*pi\n",
    "\n",
    "Ekin = 0.5*m_Ca*( q_fact*(r2_v2[3]+r2_v2[4]) + r2_v2[5] + q_omega*(r2_v2[0]+r2_v2[1]) )\n",
    "\n",
    "Ekin_nig = 0.5*m_Ca * ( (q_fact*omega_x**2+q_omega)*r2_v2[0] \\\n",
    "                + (q_fact*omega_y**2+q_omega)*r2_v2[1] \\\n",
    "                + (omega_z**2)*r2_v2[2] )\n",
    "\n",
    "Heating_rate = Ekin[:len(time)] / Ekin_nig[:len(time)]"
   ]
  },
  {
   "cell_type": "code",
   "execution_count": 37,
   "id": "5bc3b6f3",
   "metadata": {},
   "outputs": [],
   "source": [
    "figure(4,clear='True')\n",
    "semilogy(time*1e3,Heating_rate[:len(time)])\n",
    "xlabel('time [ms]')\n",
    "ylabel('h [J/J /period]')\n",
    "grid()\n",
    "\n",
    "#semilogy(time,Ekin[:len(time)])\n",
    "#semilogy(time,Ekin_nig[:len(time)])\n",
    "tight_layout()"
   ]
  },
  {
   "cell_type": "code",
   "execution_count": 55,
   "id": "935ca692",
   "metadata": {},
   "outputs": [],
   "source": [
    "# plot dE/dt always same problem (centered on 0)\n",
    "# plot dE/dT ? same pb\n",
    "figure(5,clear='True')\n",
    "plot(mean(T_aux,axis=1)[:-1],diff(Ekin[:len(time)]))\n",
    "xlabel('temperature [T]')\n",
    "ylabel('diff(Ekin)')\n",
    "grid()\n",
    "tight_layout()"
   ]
  },
  {
   "cell_type": "code",
   "execution_count": 85,
   "id": "b36271b1",
   "metadata": {},
   "outputs": [],
   "source": [
    "cloud_size   = sqrt(r2_v2[0]+r2_v2[1]+r2_v2[2])\n",
    "crystal_size = sqrt(r2_v2[0,1000]+r2_v2[1,1000]+r2_v2[2,1000])\n",
    "\n",
    "figure(6,clear='True')\n",
    "plot(cloud_size[:len(time)]/crystal_size,Heating_rate[:len(time)])\n",
    "xlabel('size sigma')\n",
    "ylabel('h [J/J /period]')\n",
    "grid()\n",
    "tight_layout()"
   ]
  },
  {
   "cell_type": "code",
   "execution_count": 88,
   "id": "2c900df7",
   "metadata": {},
   "outputs": [],
   "source": [
    "figure(7,clear='True')\n",
    "semilogy(time*1e3,cloud_size[:len(time)])\n",
    "xlabel('time [ms]')\n",
    "ylabel('s [m]')\n",
    "grid()\n",
    "tight_layout()"
   ]
  },
  {
   "cell_type": "code",
   "execution_count": 45,
   "id": "3fce0b4c",
   "metadata": {},
   "outputs": [
    {
     "name": "stdout",
     "output_type": "stream",
     "text": [
      "/home/adrien/RemoteFS/Rivendel/Simulations/20220531/DC04_RF03/Try00/xva_3D_Harmo_N0512_T100mK_F0.50D-20Kg_s_5.bin\n",
      "[1248 3748 1248]\n",
      "[49152]\n",
      "[49152]\n"
     ]
    }
   ],
   "source": [
    "# Retrieve r at end langevin\n",
    "load_number = 1\n",
    "file_to_open = all_xva_3DHarmo[load_number] # [load_number]all_xva_start\n",
    "print(file_to_open)\n",
    "xva_3DHarmo = load_x_3DHarmo(file_to_open)"
   ]
  },
  {
   "cell_type": "code",
   "execution_count": 42,
   "id": "d2a61b86",
   "metadata": {},
   "outputs": [
    {
     "name": "stdout",
     "output_type": "stream",
     "text": [
      "/home/adrien/RemoteFS/Rivendel/Simulations/20220531/DC04_RF03/Try00/xva_SimuType0_N00512_Vrf0042_Udc0.6010D+01V_nt1000_Trj1.bin\n"
     ]
    }
   ],
   "source": [
    "# Retrieve r at end langevin\n",
    "load_number = 1\n",
    "file_to_open = all_trj1[load_number] # [load_number]all_xva_start\n",
    "print(file_to_open)\n",
    "xva_trj1 = load_x_afterstart(file_to_open)"
   ]
  },
  {
   "cell_type": "code",
   "execution_count": 43,
   "id": "b4075235",
   "metadata": {},
   "outputs": [],
   "source": [
    "time_thin = linspace(0,time[-1]-min(time),len(xva_trj1[0]))\n",
    "n_dt = 5000\n",
    "offset = 0*n_dt\n",
    "start = 0 + offset\n",
    "end = 200*n_dt + offset\n",
    "\n",
    "dim_to_plot = 0\n",
    "figure(88,clear='True')\n",
    "plot(time_thin[start:end]*1e6,xva_trj1[dim_to_plot,start:end]*1e6)\n",
    "xlabel('t [µs]')\n",
    "ylabel('x [µm]')\n",
    "grid()\n",
    "tight_layout()\n",
    "\n",
    "T = max(time_thin[start:end])\n",
    "dt = time_thin[1]-time_thin[0]\n",
    "N_samp = len(time_thin[start:end])\n",
    "# print(1/dt)\n",
    "# print( 'fmax =',1/(2*dt),'Hz' )\n",
    "# print( 'df =',1/(len(t)*dt),'Hz' )\n",
    "y = xva_trj1[dim_to_plot,start:end]\n",
    "w = blackman(len(y))\n",
    "len_pad = 2**20\n",
    "ywf = fft(y*w,n=len_pad)\n",
    "xf = fftfreq(len(y), dt)[:N_samp//2]\n",
    "figure(89,clear='True')\n",
    "plt.semilogy(xf[1:N_samp//2], 2.0/N_samp * np.abs(ywf[1:N_samp//2]), '-+r')\n",
    "xlim(0,1e7)\n",
    "plt.tight_layout()"
   ]
  },
  {
   "cell_type": "code",
   "execution_count": 46,
   "id": "5c2a0d7c",
   "metadata": {},
   "outputs": [],
   "source": [
    "figure(8,clear='True')\n",
    "scatter(xva_3DHarmo[0]*1e6,xva_3DHarmo[1]*1e6)\n",
    "xlabel('x [µm]')\n",
    "ylabel('y [µm]')\n",
    "grid()\n",
    "tight_layout()\n",
    "\n",
    "figure(9,clear='True')\n",
    "scatter(xva_3DHarmo[2]*1e6,xva_3DHarmo[0]*1e6)\n",
    "xlabel('z [µm]')\n",
    "ylabel('x [µm]')\n",
    "grid()\n",
    "tight_layout()\n",
    "\n",
    "figure(10,clear='True')\n",
    "scatter(xva_3DHarmo[2]*1e6,xva_3DHarmo[1]*1e6)\n",
    "xlabel('z [µm]')\n",
    "ylabel('y [µm]')\n",
    "grid()\n",
    "tight_layout()"
   ]
  },
  {
   "cell_type": "code",
   "execution_count": 73,
   "id": "fa454630",
   "metadata": {},
   "outputs": [],
   "source": [
    "# Compare Ekin pseudopot to ekin measured\n",
    "\n",
    "figure(11,clear='True')\n",
    "plot(time*1e3,0.5*m_Ca*sum(T_aux,axis=1)/m_Ca*kb*N*1000**2,label='Ekin meas')\n",
    "plot(time*1e3,Ekin[:len(time)],'--',label='Ekin pseudopot')\n",
    "xlabel('time [ms]')\n",
    "ylabel('Energy [J]')\n",
    "grid()\n",
    "legend()\n",
    "tight_layout()\n",
    "\n",
    "figure(12,clear='True')\n",
    "plot(time*1e3,Ekin[:len(time)] - 0.5*m_Ca*sum(T_aux,axis=1)/m_Ca*kb*N*1000**2)\n",
    "xlabel('time [ms]')\n",
    "ylabel('Energy diff [J]')\n",
    "grid()\n",
    "tight_layout()\n",
    "\n",
    "figure(num=122,clear='True')\n",
    "plot(time*1e3,Ekin[:len(time)]/(0.5*m_Ca*sum(T_aux,axis=1)/m_Ca*kb*N*1000**2))\n",
    "xlabel('time [ms]')\n",
    "ylabel('Energy ratio [J]')\n",
    "grid()\n",
    "tight_layout()\n",
    "\n",
    "# The problem here is that the energy measured in the simu\n",
    "# is significantly different from the energy in pseudo-pot approx\n",
    "# also Blümel relies on average values at equilibrium\n",
    "# so his h=E/E do not work for me"
   ]
  },
  {
   "cell_type": "code",
   "execution_count": 65,
   "id": "ae4c6d9d",
   "metadata": {},
   "outputs": [],
   "source": [
    "from scipy import signal\n",
    "import scipy.integrate as integrate"
   ]
  },
  {
   "cell_type": "code",
   "execution_count": 66,
   "id": "63924c51",
   "metadata": {},
   "outputs": [],
   "source": [
    "# trim data from dirty edges\n",
    "start = 20000\n",
    "end = len(time)-50\n",
    "time_good = time[start:end]\n",
    "T_good = mean(T_aux,axis=1)[start:end]\n",
    "cloud_size   = sqrt(r2_v2[0,start:end]+r2_v2[1,start:end]+r2_v2[2,start:end])\n",
    "crystal_size = sqrt(r2_v2[0,1000]+r2_v2[1,1000]+r2_v2[2,1000])\n",
    "# filter data\n",
    "b, a = signal.butter(8, 0.125)\n",
    "y = signal.filtfilt(b, a, T_good, padlen=150)"
   ]
  },
  {
   "cell_type": "code",
   "execution_count": 67,
   "id": "30e1a3da",
   "metadata": {},
   "outputs": [],
   "source": [
    "figure(13,clear='True')\n",
    "# plot(time[:-1]*1e3,integrate.cumtrapz(Ekin[:len(time)]),'P')\n",
    "plot(time_good[:-1]*1e3,integrate.cumtrapz(0.5*m_Ca*3*T_good/m_Ca*kb*N*1000**2),'X')\n",
    "plot(time_good*1e3,T_good*1e-11)\n",
    "\n",
    "tight_layout()"
   ]
  },
  {
   "cell_type": "code",
   "execution_count": 68,
   "id": "98fdbd21",
   "metadata": {},
   "outputs": [],
   "source": [
    "figure(14,clear='True')\n",
    "plot(time_good*1e3,T_good)\n",
    "plot(time_good*1e3,y,'--P')\n",
    "grid()\n",
    "#xlim(35.3,37.4)\n",
    "#ylim(-1,75)\n",
    "xlabel('time [ms]')\n",
    "ylabel('Temperature [K]')\n",
    "tight_layout()"
   ]
  },
  {
   "cell_type": "code",
   "execution_count": 87,
   "id": "b98482a2",
   "metadata": {},
   "outputs": [],
   "source": [
    "figure(15,clear='True')\n",
    "plot(y[:-1],diff(y),'--P')\n",
    "xlabel('T [K]')\n",
    "ylabel('H [K/S]')\n",
    "grid()\n",
    "# xlim(35.3,37.4)\n",
    "# ylim(-0.05,0.15)\n",
    "tight_layout()"
   ]
  },
  {
   "cell_type": "code",
   "execution_count": 70,
   "id": "4aa6515d",
   "metadata": {},
   "outputs": [],
   "source": [
    "figure(16,clear='True')\n",
    "plot(y[:-1],diff(y)/y[:-1],'--P')\n",
    "xlabel('T [K]')\n",
    "ylabel('H/T [K/S /K]')\n",
    "grid()\n",
    "# xlim(35.3,37.4)\n",
    "# ylim(-0.05,0.15)\n",
    "tight_layout()"
   ]
  },
  {
   "cell_type": "code",
   "execution_count": 537,
   "id": "409e1c27",
   "metadata": {},
   "outputs": [
    {
     "data": {
      "text/plain": [
       "70959"
      ]
     },
     "execution_count": 537,
     "metadata": {},
     "output_type": "execute_result"
    }
   ],
   "source": [
    "len(y)"
   ]
  },
  {
   "cell_type": "code",
   "execution_count": 72,
   "id": "a23f8ce8",
   "metadata": {},
   "outputs": [],
   "source": [
    "figure(17,clear='True')\n",
    "plot(cloud_size[:-1]/crystal_size,diff(y),'--P')\n",
    "xlabel('size [m]')\n",
    "ylabel('H [K/S]')\n",
    "grid()\n",
    "# xlim(35.3,37.4)\n",
    "# ylim(-0.05,0.15)\n",
    "tight_layout()\n",
    "\n",
    "figure(18,clear='True')\n",
    "plot(cloud_size[:-1]/crystal_size,diff(y)/y[:-1],'--P')\n",
    "xlabel('size [m]')\n",
    "ylabel('H/T [K/S /K]')\n",
    "grid()\n",
    "# xlim(35.3,37.4)\n",
    "# ylim(-0.05,0.15)\n",
    "tight_layout()"
   ]
  },
  {
   "cell_type": "markdown",
   "id": "cf7dc82d",
   "metadata": {},
   "source": [
    "# Extract data as npz"
   ]
  },
  {
   "cell_type": "code",
   "execution_count": 11,
   "id": "d3d0aaaa",
   "metadata": {},
   "outputs": [
    {
     "name": "stdout",
     "output_type": "stream",
     "text": [
      "('/home/adrien/RemoteFS/Rivendel/Simulations/20220421/DC11_RF00/Try00/Temp_SimuType0_N00512_Vrf0060_Udc0.7000D+01V_nt1000.dat',)\n"
     ]
    }
   ],
   "source": [
    "file_path = load_file_GUI('/home/adrian/Documents/Programmes/Python/GiantMol/SimAnalysisPointbyPoint')\n",
    "print(file_path)"
   ]
  },
  {
   "cell_type": "code",
   "execution_count": 7,
   "id": "00ae4466",
   "metadata": {},
   "outputs": [
    {
     "ename": "NameError",
     "evalue": "name 'load_gui' is not defined",
     "output_type": "error",
     "traceback": [
      "\u001b[0;31m---------------------------------------------------------------------------\u001b[0m",
      "\u001b[0;31mNameError\u001b[0m                                 Traceback (most recent call last)",
      "\u001b[0;32m<ipython-input-7-40aeb9da71db>\u001b[0m in \u001b[0;36m<module>\u001b[0;34m\u001b[0m\n\u001b[1;32m      3\u001b[0m \u001b[0;31m# SELECT Temp_SimuTypeQ_N ... .dat\u001b[0m\u001b[0;34m\u001b[0m\u001b[0;34m\u001b[0m\u001b[0;34m\u001b[0m\u001b[0m\n\u001b[1;32m      4\u001b[0m \u001b[0;34m\u001b[0m\u001b[0m\n\u001b[0;32m----> 5\u001b[0;31m \u001b[0mfile_cfg\u001b[0m\u001b[0;34m,\u001b[0m \u001b[0mslash_cfg\u001b[0m\u001b[0;34m,\u001b[0m \u001b[0mall_subdir\u001b[0m \u001b[0;34m=\u001b[0m \u001b[0mload_gui\u001b[0m\u001b[0;34m(\u001b[0m\u001b[0mfilter_nocomplete\u001b[0m\u001b[0;34m=\u001b[0m\u001b[0;36m1\u001b[0m\u001b[0;34m)\u001b[0m\u001b[0;34m\u001b[0m\u001b[0;34m\u001b[0m\u001b[0m\n\u001b[0m\u001b[1;32m      6\u001b[0m \u001b[0;34m\u001b[0m\u001b[0m\n\u001b[1;32m      7\u001b[0m \u001b[0mfile_path\u001b[0m \u001b[0;34m=\u001b[0m \u001b[0mfile_cfg\u001b[0m\u001b[0;34m[\u001b[0m\u001b[0;36m0\u001b[0m\u001b[0;34m]\u001b[0m\u001b[0;34m\u001b[0m\u001b[0;34m\u001b[0m\u001b[0m\n",
      "\u001b[0;31mNameError\u001b[0m: name 'load_gui' is not defined"
     ]
    }
   ],
   "source": [
    "## GUI for data loading\n",
    "# Select one data file all the way down to the directories\n",
    "# SELECT Temp_SimuTypeQ_N ... .dat\n",
    "\n",
    "file_cfg, slash_cfg, all_subdir = load_gui(filter_nocomplete=1)\n",
    "\n",
    "file_path = file_cfg[0]\n",
    "dir_path = file_cfg[1]\n",
    "work_rep = file_cfg[2]\n",
    "filename = file_cfg[3]\n",
    "\n",
    "myslashpos = slash_cfg[0]\n",
    "slashcond = slash_cfg[1]"
   ]
  },
  {
   "cell_type": "code",
   "execution_count": 27,
   "id": "264c6756",
   "metadata": {},
   "outputs": [
    {
     "name": "stdout",
     "output_type": "stream",
     "text": [
      "['DC11_RF00', 'DC11_RF01', 'DC11_RF02', 'DC11_RF03', 'DC11_RF04', 'DC11_RF05', 'DC11_RF06', 'DC11_RF07', 'DC11_RF08', 'DC11_RF11', 'DC11_RF12', 'DC11_RF13', 'DC11_RF14', 'DC11_RF15', 'DC11_RF16', 'DC11_RF17', 'DC11_RF18', 'DC11_RF22', 'DC11_RF23']\n",
      "000 > DC11_RF00\n",
      "001 > DC11_RF01\n",
      "002 > DC11_RF02\n",
      "003 > DC11_RF03\n",
      "004 > DC11_RF04\n",
      "005 > DC11_RF05\n",
      "006 > DC11_RF06\n",
      "007 > DC11_RF07\n",
      "008 > DC11_RF08\n",
      "009 > DC11_RF11\n",
      "010 > DC11_RF12\n",
      "011 > DC11_RF13\n",
      "012 > DC11_RF14\n",
      "013 > DC11_RF15\n",
      "014 > DC11_RF16\n",
      "015 > DC11_RF17\n",
      "016 > DC11_RF18\n",
      "017 > DC11_RF22\n",
      "018 > DC11_RF23\n",
      "> condition names ['DC', 'RF']\n",
      "> number of points 19\n",
      "> N_ions = 512\n",
      "> e_GMol = 50\n"
     ]
    }
   ],
   "source": [
    "## Condition for data\n",
    "points_and_coord, condition_parameters = simu_conditions(all_subdir, myslashpos, slashcond, filename)"
   ]
  },
  {
   "cell_type": "code",
   "execution_count": 28,
   "id": "5928ff0e",
   "metadata": {
    "scrolled": true
   },
   "outputs": [
    {
     "name": "stdout",
     "output_type": "stream",
     "text": [
      "> Points | 19\n",
      "> Simulations pour chaque point | ['Try00']\n",
      "Hello\n",
      "Point n° 0\n",
      "00 - 00  >  /home/adrian/RemoteFS/Rivendel/Simulations/20220421/DC11_RF00/Try00/Temp_SimuType0_N00512_Vrf0060_Udc0.7000D+01V_nt1000\n",
      "Point n° 1\n",
      "01 - 00  >  /home/adrian/RemoteFS/Rivendel/Simulations/20220421/DC11_RF01/Try00/Temp_SimuType0_N00512_Vrf0061_Udc0.7000D+01V_nt1000\n",
      "Point n° 2\n",
      "02 - 00  >  /home/adrian/RemoteFS/Rivendel/Simulations/20220421/DC11_RF02/Try00/Temp_SimuType0_N00512_Vrf0062_Udc0.7000D+01V_nt1000\n",
      "Point n° 3\n",
      "03 - 00  >  /home/adrian/RemoteFS/Rivendel/Simulations/20220421/DC11_RF03/Try00/Temp_SimuType0_N00512_Vrf0063_Udc0.7000D+01V_nt1000\n",
      "Point n° 4\n",
      "04 - 00  >  /home/adrian/RemoteFS/Rivendel/Simulations/20220421/DC11_RF04/Try00/Temp_SimuType0_N00512_Vrf0064_Udc0.7000D+01V_nt1000\n",
      "Point n° 5\n",
      "05 - 00  >  /home/adrian/RemoteFS/Rivendel/Simulations/20220421/DC11_RF05/Try00/Temp_SimuType0_N00512_Vrf0065_Udc0.7000D+01V_nt1000\n",
      "Point n° 6\n",
      "06 - 00  >  /home/adrian/RemoteFS/Rivendel/Simulations/20220421/DC11_RF06/Try00/Temp_SimuType0_N00512_Vrf0066_Udc0.7000D+01V_nt1000\n",
      "Point n° 7\n",
      "07 - 00  >  /home/adrian/RemoteFS/Rivendel/Simulations/20220421/DC11_RF07/Try00/Temp_SimuType0_N00512_Vrf0067_Udc0.7000D+01V_nt1000\n",
      "Point n° 8\n",
      "08 - 00  >  /home/adrian/RemoteFS/Rivendel/Simulations/20220421/DC11_RF08/Try00/Temp_SimuType0_N00512_Vrf0068_Udc0.7000D+01V_nt1000\n",
      "Point n° 9\n",
      "09 - 00  >  /home/adrian/RemoteFS/Rivendel/Simulations/20220421/DC11_RF11/Try00/Temp_SimuType0_N00512_Vrf0062_Udc0.7000D+01V_nt1000\n",
      "Point n° 10\n",
      "10 - 00  >  /home/adrian/RemoteFS/Rivendel/Simulations/20220421/DC11_RF12/Try00/Temp_SimuType0_N00512_Vrf0062_Udc0.7000D+01V_nt1000\n",
      "Point n° 11\n",
      "11 - 00  >  /home/adrian/RemoteFS/Rivendel/Simulations/20220421/DC11_RF13/Try00/Temp_SimuType0_N00512_Vrf0062_Udc0.7000D+01V_nt1000\n",
      "Point n° 12\n",
      "12 - 00  >  /home/adrian/RemoteFS/Rivendel/Simulations/20220421/DC11_RF14/Try00/Temp_SimuType0_N00512_Vrf0062_Udc0.7000D+01V_nt1000\n",
      "Point n° 13\n",
      "13 - 00  >  /home/adrian/RemoteFS/Rivendel/Simulations/20220421/DC11_RF15/Try00/Temp_SimuType0_N00512_Vrf0063_Udc0.7000D+01V_nt1000\n",
      "Point n° 14\n",
      "14 - 00  >  /home/adrian/RemoteFS/Rivendel/Simulations/20220421/DC11_RF16/Try00/Temp_SimuType0_N00512_Vrf0063_Udc0.7000D+01V_nt1000\n",
      "Point n° 15\n",
      "15 - 00  >  /home/adrian/RemoteFS/Rivendel/Simulations/20220421/DC11_RF17/Try00/Temp_SimuType0_N00512_Vrf0063_Udc0.7000D+01V_nt1000\n",
      "Point n° 16\n",
      "16 - 00  >  /home/adrian/RemoteFS/Rivendel/Simulations/20220421/DC11_RF18/Try00/Temp_SimuType0_N00512_Vrf0063_Udc0.7000D+01V_nt1000\n",
      "Point n° 17\n",
      "17 - 00  >  /home/adrian/RemoteFS/Rivendel/Simulations/20220421/DC11_RF22/Try00/Temp_SimuType0_N00512_Vrf0055_Udc0.7000D+01V_nt1000\n",
      "Point n° 18\n",
      "18 - 00  >  /home/adrian/RemoteFS/Rivendel/Simulations/20220421/DC11_RF23/Try00/Temp_SimuType0_N00512_Vrf0070_Udc0.7000D+01V_nt1000\n",
      "Time elapsed:  32.7348479999996 s\n",
      "Time elapsed:  0.5455807999999933 m\n"
     ]
    }
   ],
   "source": [
    "## Data loading (1D arrays)\n",
    "data_name, num_runs, Time, Temperature \\\n",
    "= data_retrieve(all_subdir,points_and_coord,condition_parameters,slash_cfg) # stopping_power  ,forcenumtry=28"
   ]
  },
  {
   "cell_type": "code",
   "execution_count": 29,
   "id": "05370717",
   "metadata": {
    "scrolled": false
   },
   "outputs": [
    {
     "name": "stdout",
     "output_type": "stream",
     "text": [
      "DC11_RF00\n",
      "DC11_RF01\n",
      "DC11_RF02\n",
      "DC11_RF03\n",
      "DC11_RF04\n",
      "DC11_RF05\n",
      "DC11_RF06\n",
      "DC11_RF07\n",
      "DC11_RF08\n",
      "DC11_RF11\n",
      "DC11_RF12\n",
      "DC11_RF13\n",
      "DC11_RF14\n",
      "DC11_RF15\n",
      "DC11_RF16\n",
      "DC11_RF17\n",
      "DC11_RF18\n",
      "DC11_RF22\n",
      "DC11_RF23\n"
     ]
    }
   ],
   "source": [
    "for j,k in enumerate(data_name[0]):\n",
    "    cond = k[0][52:61]\n",
    "    print(cond)\n",
    "    outfile = 'Time_and_temp_RFHEAT_N0512_'+str(cond)\n",
    "    np.savez( outfile, time=Time[j], temp = mean(Temperature[j],axis=0)) # dirname_hc=re.sub(r'\\\\',r'/',dirname_hc)"
   ]
  },
  {
   "cell_type": "code",
   "execution_count": 31,
   "id": "5214bd80",
   "metadata": {},
   "outputs": [
    {
     "name": "stdout",
     "output_type": "stream",
     "text": [
      "[0.00100062 0.00100112 0.00100162 ... 0.01005262 0.01005312 0.01005362]\n",
      "[1.92375278e-03 2.42508665e-03 2.52911492e-03 ... 9.08200632e+01\n",
      " 7.94317444e+01 1.00054870e+02]\n",
      "(18107,)\n",
      "(18107,)\n"
     ]
    }
   ],
   "source": [
    "# load check\n",
    "cond = 'DC11_RF18'\n",
    "outfile = 'Time_and_temp_RFHEAT_N0512_'+str(cond)\n",
    "with load(outfile+'.npz') as data:\n",
    "    a = data['time']\n",
    "    b = data['temp']\n",
    "print(a)\n",
    "print(b)\n",
    "print(shape(a))\n",
    "print(shape(b))"
   ]
  },
  {
   "cell_type": "code",
   "execution_count": 32,
   "id": "e146a66f",
   "metadata": {
    "scrolled": true
   },
   "outputs": [
    {
     "name": "stdout",
     "output_type": "stream",
     "text": [
      "Variable                                       Type                          Data/Info\n",
      "--------------------------------------------------------------------------------------\n",
      "C_e                                            float                         1.602e-19\n",
      "N                                              int                           512\n",
      "Omega                                          float                         12880529.879718151\n",
      "Path                                           type                          <class 'pathlib.Path'>\n",
      "Temperature                                    list                          n=19\n",
      "Time                                           list                          n=19\n",
      "a                                              ndarray                       18107: 18107 elems, type `float64`, 144856 bytes (141.4609375 kb)\n",
      "all_subdir                                     list                          n=19\n",
      "b                                              ndarray                       18107: 18107 elems, type `float64`, 144856 bytes (141.4609375 kb)\n",
      "bk                                             int                           4\n",
      "cc                                             function                      <function cc at 0x7fcf10b0db70>\n",
      "cloud_size                                     function                      <function cloud_size at 0x7fcf10b0d9d8>\n",
      "cond                                           str                           DC11_RF18\n",
      "condition_parameters                           list                          n=3\n",
      "convert_dico_to_var                            function                      <function convert_dico_to_var at 0x7fcf10afa730>\n",
      "curve_fit                                      function                      <function curve_fit at 0x7fcedf8f0400>\n",
      "d0                                             float                         0.002\n",
      "data                                           NpzFile                       <numpy.lib.npyio.NpzFile <...>object at 0x7fcf10823e48>\n",
      "data_check                                     function                      <function data_check at 0x7fcf10b0d8c8>\n",
      "data_name                                      list                          n=2\n",
      "data_retrieve                                  function                      <function data_retrieve at 0x7fcf10855488>\n",
      "data_retrieve_RFRelax                          function                      <function data_retrieve_R<...>FRelax at 0x7fcf10b0d730>\n",
      "data_retrieve_onefile                          function                      <function data_retrieve_o<...>nefile at 0x7fcf10b0d6a8>\n",
      "dir_path                                       PosixPath                     /home/adrian/RemoteFS/Riv<...>/20220421/DC11_RF00/Try00\n",
      "energy_lost                                    function                      <function energy_lost at 0x7fcf10b0d378>\n",
      "eps0                                           float                         8.854186999999999e-12\n",
      "fft                                            function                      <function fft at 0x7fcee84bef28>\n",
      "file_cfg                                       list                          n=4\n",
      "file_name_retrieve                             function                      <function file_name_retrieve at 0x7fcf10b0d950>\n",
      "file_path                                      str                           /home/adrian/RemoteFS/Riv<...>Udc0.7000D+01V_nt1000.dat\n",
      "filedialog                                     module                        <module 'tkinter.filedial<...>6/tkinter/filedialog.py'>\n",
      "filename                                       str                           Temp_SimuType0_N00512_Vrf<...>Udc0.7000D+01V_nt1000.dat\n",
      "find_PM_variation_FinalT                       function                      <function find_PM_variati<...>FinalT at 0x7fcf10b0d2f0>\n",
      "get_sec                                        function                      <function get_sec at 0x7fcf10b0dbf8>\n",
      "import_data                                    function                      <function import_data at 0x7fcf10afa6a8>\n",
      "info                                           module                        <module 'numpy.linalg.inf<...>es/numpy/linalg/info.py'>\n",
      "isfile                                         function                      <function isfile at 0x7fcf1dddca60>\n",
      "j                                              int                           18\n",
      "join                                           function                      <function join at 0x7fcf1dd86620>\n",
      "k                                              list                          n=1\n",
      "kappa_simion                                   float                         0.27047133360403336\n",
      "kb                                             float                         1.38064852e-23\n",
      "linalg                                         module                        <module 'numpy.linalg.lin<...>/numpy/linalg/linalg.py'>\n",
      "listdir                                        builtin_function_or_method    <built-in function listdir>\n",
      "load_RF_relax                                  function                      <function load_RF_relax at 0x7fcf10b0dae8>\n",
      "load_T_PM_cloud_GMol                           function                      <function load_T_PM_cloud_GMol at 0x7fcf10b0da60>\n",
      "load_T_and_PM_simu                             function                      <function load_T_and_PM_simu at 0x7fcf10afa7b8>\n",
      "load_T_and_PM_simu_noGMOL                      function                      <function load_T_and_PM_s<...>noGMOL at 0x7fcf10afa840>\n",
      "load_Temp_init_bin_Lan                         function                      <function load_Temp_init_<...>in_Lan at 0x7fcf10b0d7b8>\n",
      "load_cloud_trj                                 function                      <function load_cloud_trj at 0x7fcf10b0d488>\n",
      "load_file_GUI                                  function                      <function load_file_GUI at 0x7fcf10afa378>\n",
      "load_gui                                       function                      <function load_gui at 0x7fcf10b0d510>\n",
      "load_trj                                       function                      <function load_trj at 0x7fcf10b0d400>\n",
      "load_xva_init_bin_Lan                          function                      <function load_xva_init_b<...>in_Lan at 0x7fcf10b0d840>\n",
      "load_xyz_init_bin_DP                           function                      <function load_xyz_init_bin_DP at 0x7fcf10afabf8>\n",
      "m_Ca                                           float                         6.655112212e-26\n",
      "m_GM                                           float                         1.66054e-21\n",
      "mcolors                                        module                        <module 'matplotlib.color<...>es/matplotlib/colors.py'>\n",
      "mkappa                                         float                         0.23\n",
      "myslashpos                                     list                          n=8\n",
      "n_core                                         int                           10\n",
      "natsorted                                      function                      <function natsorted at 0x7fcf10837ae8>\n",
      "num_runs                                       list                          n=1\n",
      "os                                             module                        <module 'os' from '/home/<...>307/lib/python3.6/os.py'>\n",
      "outfile                                        str                           Time_and_temp_RFHEAT_N0512_DC11_RF18\n",
      "plot_T_and_PM_Evol                             function                      <function plot_T_and_PM_Evol at 0x7fcf10b0d0d0>\n",
      "plot_T_and_PM_Init                             function                      <function plot_T_and_PM_Init at 0x7fcf10afaea0>\n",
      "plot_T_and_PM_InitQ_Evol_AfterCool             function                      <function plot_T_and_PM_I<...>erCool at 0x7fcf10b0d268>\n",
      "plot_T_and_PM_InitQ_Inje                       function                      <function plot_T_and_PM_I<...>Q_Inje at 0x7fcf10afae18>\n",
      "plot_T_and_PM_InitQ_Inje_Evol                  function                      <function plot_T_and_PM_I<...>e_Evol at 0x7fcf10afad90>\n",
      "plot_T_and_PM_Init_Inje_Evol                   function                      <function plot_T_and_PM_I<...>e_Evol at 0x7fcf10afad08>\n",
      "plot_T_and_PM_Init_RFrelax_AfterCooling_Evol   function                      <function plot_T_and_PM_I<...>g_Evol at 0x7fcf10b0d158>\n",
      "plot_T_and_PM_Init_RFrelax_AfterInj_Evol       function                      <function plot_T_and_PM_I<...>j_Evol at 0x7fcf10b0d1e0>\n",
      "plot_T_and_PM_Inje                             function                      <function plot_T_and_PM_Inje at 0x7fcf10b0d048>\n",
      "plot_T_and_PM_Quen                             function                      <function plot_T_and_PM_Quen at 0x7fcf10afaf28>\n",
      "plot_XYZ                                       function                      <function plot_XYZ at 0x7fcf10afac80>\n",
      "points_and_coord                               dict                          n=19\n",
      "power                                          builtin_function_or_method    <built-in method power of<...>object at 0x7fcee8224f30>\n",
      "r0                                             float                         0.0025\n",
      "random                                         builtin_function_or_method    <built-in method random_s<...>object at 0x7fcee8224f30>\n",
      "re                                             module                        <module 're' from '/home/<...>307/lib/python3.6/re.py'>\n",
      "savgol_filter                                  function                      <function savgol_filter at 0x7fcedbd55e18>\n",
      "simu_conditions                                function                      <function simu_conditions at 0x7fcf10b0d598>\n",
      "size_data                                      function                      <function size_data at 0x7fcf10afa598>\n",
      "slash_cfg                                      list                          n=2\n",
      "slashcond                                      int                           6\n",
      "timeit                                         module                        <module 'timeit' from '/h<...>lib/python3.6/timeit.py'>\n",
      "tk                                             module                        <module 'tkinter' from '/<...>3.6/tkinter/__init__.py'>\n",
      "work_rep                                       str                           /home/adrian/RemoteFS/Riv<...>/20220421/DC11_RF00/Try00\n",
      "wzLC                                           float                         325535515128.0366\n",
      "zeta                                           float                         0.4226114587563022\n"
     ]
    }
   ],
   "source": [
    "whos"
   ]
  },
  {
   "cell_type": "markdown",
   "id": "3eb086d7",
   "metadata": {},
   "source": [
    "# Work with data"
   ]
  },
  {
   "cell_type": "code",
   "execution_count": 33,
   "id": "4d60c175",
   "metadata": {},
   "outputs": [
    {
     "name": "stdout",
     "output_type": "stream",
     "text": [
      "('/home/adrian/Documents/Programmes/Python/THESE/RF_Temp_Fit/Time_and_temp_RFHEAT_N0512_DC11_RF00.npz', '/home/adrian/Documents/Programmes/Python/THESE/RF_Temp_Fit/Time_and_temp_RFHEAT_N0512_DC11_RF01.npz', '/home/adrian/Documents/Programmes/Python/THESE/RF_Temp_Fit/Time_and_temp_RFHEAT_N0512_DC11_RF02.npz', '/home/adrian/Documents/Programmes/Python/THESE/RF_Temp_Fit/Time_and_temp_RFHEAT_N0512_DC11_RF03.npz', '/home/adrian/Documents/Programmes/Python/THESE/RF_Temp_Fit/Time_and_temp_RFHEAT_N0512_DC11_RF04.npz', '/home/adrian/Documents/Programmes/Python/THESE/RF_Temp_Fit/Time_and_temp_RFHEAT_N0512_DC11_RF05.npz', '/home/adrian/Documents/Programmes/Python/THESE/RF_Temp_Fit/Time_and_temp_RFHEAT_N0512_DC11_RF06.npz', '/home/adrian/Documents/Programmes/Python/THESE/RF_Temp_Fit/Time_and_temp_RFHEAT_N0512_DC11_RF07.npz', '/home/adrian/Documents/Programmes/Python/THESE/RF_Temp_Fit/Time_and_temp_RFHEAT_N0512_DC11_RF08.npz', '/home/adrian/Documents/Programmes/Python/THESE/RF_Temp_Fit/Time_and_temp_RFHEAT_N0512_DC11_RF11.npz', '/home/adrian/Documents/Programmes/Python/THESE/RF_Temp_Fit/Time_and_temp_RFHEAT_N0512_DC11_RF12.npz', '/home/adrian/Documents/Programmes/Python/THESE/RF_Temp_Fit/Time_and_temp_RFHEAT_N0512_DC11_RF13.npz', '/home/adrian/Documents/Programmes/Python/THESE/RF_Temp_Fit/Time_and_temp_RFHEAT_N0512_DC11_RF14.npz', '/home/adrian/Documents/Programmes/Python/THESE/RF_Temp_Fit/Time_and_temp_RFHEAT_N0512_DC11_RF15.npz', '/home/adrian/Documents/Programmes/Python/THESE/RF_Temp_Fit/Time_and_temp_RFHEAT_N0512_DC11_RF16.npz', '/home/adrian/Documents/Programmes/Python/THESE/RF_Temp_Fit/Time_and_temp_RFHEAT_N0512_DC11_RF17.npz', '/home/adrian/Documents/Programmes/Python/THESE/RF_Temp_Fit/Time_and_temp_RFHEAT_N0512_DC11_RF18.npz', '/home/adrian/Documents/Programmes/Python/THESE/RF_Temp_Fit/Time_and_temp_RFHEAT_N0512_DC11_RF22.npz', '/home/adrian/Documents/Programmes/Python/THESE/RF_Temp_Fit/Time_and_temp_RFHEAT_N0512_DC11_RF23.npz')\n"
     ]
    }
   ],
   "source": [
    "file_path = load_file_GUI('/home/adrian/Documents/Programmes/Python')\n",
    "print(file_path)\n",
    "\n",
    "for j,k in enumerate(file_path):\n",
    "    cond = k[0][52:61]"
   ]
  },
  {
   "cell_type": "code",
   "execution_count": 47,
   "id": "7cdf8448",
   "metadata": {},
   "outputs": [
    {
     "name": "stdout",
     "output_type": "stream",
     "text": [
      "DC11_RF00 00\n",
      "DC11_RF01 01\n",
      "DC11_RF02 02\n",
      "DC11_RF03 03\n",
      "DC11_RF04 04\n",
      "DC11_RF05 05\n",
      "DC11_RF06 06\n",
      "DC11_RF07 07\n",
      "DC11_RF08 08\n",
      "DC11_RF11 11\n",
      "DC11_RF12 12\n",
      "DC11_RF13 13\n",
      "DC11_RF14 14\n",
      "DC11_RF15 15\n",
      "DC11_RF16 16\n",
      "DC11_RF17 17\n",
      "DC11_RF18 18\n",
      "DC11_RF22 22\n",
      "DC11_RF23 23\n",
      "[40.  45.  60.  61.  62.  62.6 62.8 63.  63.2 63.4 63.6 63.8 64.  65.\n",
      " 66.  67.  68.  75.  80. ]\n"
     ]
    }
   ],
   "source": [
    "all_Urf = [60,61,62,63,64,65,66,67,68,62.2,62.4,62.6,62.8,\n",
    "       63.2,63.4,63.6,63.8,40,45,50,55,70,75,80,85]\n",
    "Urf = []\n",
    "for j,k in enumerate(file_path):\n",
    "    str_pos = k.find('N0512_')\n",
    "    cond = k[str_pos+6:str_pos+15]\n",
    "    str_pos = cond.find('RF')\n",
    "    RF_cond = cond[str_pos+2:str_pos+4]\n",
    "    print(cond,RF_cond)\n",
    "    Urf.append(all_Urf[int(RF_cond)])\n",
    "print(sort(Urf))"
   ]
  },
  {
   "cell_type": "code",
   "execution_count": 48,
   "id": "5ce7efd7",
   "metadata": {},
   "outputs": [
    {
     "name": "stdout",
     "output_type": "stream",
     "text": [
      "0 /home/adrian/Documents/Programmes/Python/THESE/RF_Temp_Fit/Time_and_temp_RFHEAT_N0512_DC11_RF00.npz\n",
      "1 /home/adrian/Documents/Programmes/Python/THESE/RF_Temp_Fit/Time_and_temp_RFHEAT_N0512_DC11_RF01.npz\n",
      "2 /home/adrian/Documents/Programmes/Python/THESE/RF_Temp_Fit/Time_and_temp_RFHEAT_N0512_DC11_RF02.npz\n",
      "3 /home/adrian/Documents/Programmes/Python/THESE/RF_Temp_Fit/Time_and_temp_RFHEAT_N0512_DC11_RF03.npz\n",
      "4 /home/adrian/Documents/Programmes/Python/THESE/RF_Temp_Fit/Time_and_temp_RFHEAT_N0512_DC11_RF04.npz\n",
      "5 /home/adrian/Documents/Programmes/Python/THESE/RF_Temp_Fit/Time_and_temp_RFHEAT_N0512_DC11_RF05.npz\n",
      "6 /home/adrian/Documents/Programmes/Python/THESE/RF_Temp_Fit/Time_and_temp_RFHEAT_N0512_DC11_RF06.npz\n",
      "7 /home/adrian/Documents/Programmes/Python/THESE/RF_Temp_Fit/Time_and_temp_RFHEAT_N0512_DC11_RF07.npz\n",
      "8 /home/adrian/Documents/Programmes/Python/THESE/RF_Temp_Fit/Time_and_temp_RFHEAT_N0512_DC11_RF08.npz\n",
      "9 /home/adrian/Documents/Programmes/Python/THESE/RF_Temp_Fit/Time_and_temp_RFHEAT_N0512_DC11_RF11.npz\n",
      "10 /home/adrian/Documents/Programmes/Python/THESE/RF_Temp_Fit/Time_and_temp_RFHEAT_N0512_DC11_RF12.npz\n",
      "11 /home/adrian/Documents/Programmes/Python/THESE/RF_Temp_Fit/Time_and_temp_RFHEAT_N0512_DC11_RF13.npz\n",
      "12 /home/adrian/Documents/Programmes/Python/THESE/RF_Temp_Fit/Time_and_temp_RFHEAT_N0512_DC11_RF14.npz\n",
      "13 /home/adrian/Documents/Programmes/Python/THESE/RF_Temp_Fit/Time_and_temp_RFHEAT_N0512_DC11_RF15.npz\n",
      "14 /home/adrian/Documents/Programmes/Python/THESE/RF_Temp_Fit/Time_and_temp_RFHEAT_N0512_DC11_RF16.npz\n",
      "15 /home/adrian/Documents/Programmes/Python/THESE/RF_Temp_Fit/Time_and_temp_RFHEAT_N0512_DC11_RF17.npz\n",
      "16 /home/adrian/Documents/Programmes/Python/THESE/RF_Temp_Fit/Time_and_temp_RFHEAT_N0512_DC11_RF18.npz\n",
      "17 /home/adrian/Documents/Programmes/Python/THESE/RF_Temp_Fit/Time_and_temp_RFHEAT_N0512_DC11_RF22.npz\n",
      "18 /home/adrian/Documents/Programmes/Python/THESE/RF_Temp_Fit/Time_and_temp_RFHEAT_N0512_DC11_RF23.npz\n",
      "(19,)\n",
      "(19,)\n"
     ]
    }
   ],
   "source": [
    "# load check\n",
    "# cond = 'DC11_RF00'\n",
    "# outfile = 'Time_and_temp_RFHEAT_'+str(cond)\n",
    "Time = []\n",
    "Temperature = []\n",
    "for j,k in enumerate(file_path):\n",
    "    with load(k) as data:\n",
    "        Time.append( data['time'] )\n",
    "        Temperature.append( data['temp'] )\n",
    "    print(j,k)\n",
    "print(shape(Time))\n",
    "print(shape(Temperature))"
   ]
  },
  {
   "cell_type": "code",
   "execution_count": 51,
   "id": "9f82c460",
   "metadata": {},
   "outputs": [
    {
     "name": "stdout",
     "output_type": "stream",
     "text": [
      "imax 19\n",
      "11 63.2\n"
     ]
    },
    {
     "data": {
      "text/plain": [
       "<matplotlib.legend.Legend at 0x7fcf1052b7b8>"
      ]
     },
     "execution_count": 51,
     "metadata": {},
     "output_type": "execute_result"
    }
   ],
   "source": [
    "imax = len(Urf)\n",
    "print('imax',imax)\n",
    "\n",
    "T_max = 50\n",
    "T_thr = 1\n",
    "\n",
    "figure(10); clf();\n",
    "i = 11\n",
    "print(i,Urf[i])\n",
    "#     subplot(1,9,i+1)\n",
    "semilogy(Time[i]*1e3,savgol_filter(Temperature[i],31,1),label=' Vrf = '+str(Urf[i]))\n",
    "#     semilogy(time[i][:]*1e3,Temp[i][:],label=' Vrf = '+str(Urf[i]))\n",
    "#         semilogy(time[k_thr],Temp[i,j,k_thr],'o')\n",
    "grid()\n",
    "legend(fontsize=12)"
   ]
  },
  {
   "cell_type": "code",
   "execution_count": 53,
   "id": "e390a056",
   "metadata": {
    "scrolled": true
   },
   "outputs": [
    {
     "name": "stdout",
     "output_type": "stream",
     "text": [
      "imax 19\n",
      "0\n"
     ]
    },
    {
     "ename": "ValueError",
     "evalue": "Width and height specified must be non-negative",
     "output_type": "error",
     "traceback": [
      "\u001b[0;31m---------------------------------------------------------------------------\u001b[0m",
      "\u001b[0;31mValueError\u001b[0m                                Traceback (most recent call last)",
      "\u001b[0;32m<ipython-input-53-c8afa3421d0a>\u001b[0m in \u001b[0;36m<module>\u001b[0;34m()\u001b[0m\n\u001b[1;32m     22\u001b[0m \u001b[0;34m\u001b[0m\u001b[0m\n\u001b[1;32m     23\u001b[0m \u001b[0;31m#     subplot(1,9,i+1)\u001b[0m\u001b[0;34m\u001b[0m\u001b[0;34m\u001b[0m\u001b[0;34m\u001b[0m\u001b[0m\n\u001b[0;32m---> 24\u001b[0;31m     \u001b[0msubplot\u001b[0m\u001b[0;34m(\u001b[0m\u001b[0mimax\u001b[0m\u001b[0;34m//\u001b[0m\u001b[0;36m3\u001b[0m\u001b[0;34m,\u001b[0m\u001b[0;36m4\u001b[0m\u001b[0;34m,\u001b[0m\u001b[0mi\u001b[0m\u001b[0;34m+\u001b[0m\u001b[0;36m1\u001b[0m\u001b[0;34m)\u001b[0m\u001b[0;34m\u001b[0m\u001b[0;34m\u001b[0m\u001b[0m\n\u001b[0m\u001b[1;32m     25\u001b[0m     \u001b[0msemilogy\u001b[0m\u001b[0;34m(\u001b[0m\u001b[0mTime\u001b[0m\u001b[0;34m[\u001b[0m\u001b[0mi\u001b[0m\u001b[0;34m]\u001b[0m\u001b[0;34m[\u001b[0m\u001b[0mk_min\u001b[0m\u001b[0;34m:\u001b[0m\u001b[0mk_max\u001b[0m\u001b[0;34m]\u001b[0m\u001b[0;34m*\u001b[0m\u001b[0;36m1e3\u001b[0m\u001b[0;34m,\u001b[0m\u001b[0mTemperature\u001b[0m\u001b[0;34m[\u001b[0m\u001b[0mi\u001b[0m\u001b[0;34m]\u001b[0m\u001b[0;34m[\u001b[0m\u001b[0mk_min\u001b[0m\u001b[0;34m:\u001b[0m\u001b[0mk_max\u001b[0m\u001b[0;34m]\u001b[0m\u001b[0;34m,\u001b[0m\u001b[0mlabel\u001b[0m\u001b[0;34m=\u001b[0m\u001b[0;34m' Vrf = '\u001b[0m\u001b[0;34m+\u001b[0m\u001b[0mstr\u001b[0m\u001b[0;34m(\u001b[0m\u001b[0mUrf\u001b[0m\u001b[0;34m[\u001b[0m\u001b[0mi\u001b[0m\u001b[0;34m]\u001b[0m\u001b[0;34m)\u001b[0m\u001b[0;34m)\u001b[0m\u001b[0;34m\u001b[0m\u001b[0;34m\u001b[0m\u001b[0m\n\u001b[1;32m     26\u001b[0m \u001b[0;31m#     semilogy(time[i][:]*1e3,Temp[i][:],label=' Vrf = '+str(Urf[i]))\u001b[0m\u001b[0;34m\u001b[0m\u001b[0;34m\u001b[0m\u001b[0;34m\u001b[0m\u001b[0m\n",
      "\u001b[0;32m~/.local/lib/python3.6/site-packages/matplotlib/pyplot.py\u001b[0m in \u001b[0;36msubplot\u001b[0;34m(*args, **kwargs)\u001b[0m\n\u001b[1;32m   1070\u001b[0m \u001b[0;34m\u001b[0m\u001b[0m\n\u001b[1;32m   1071\u001b[0m     \u001b[0mfig\u001b[0m \u001b[0;34m=\u001b[0m \u001b[0mgcf\u001b[0m\u001b[0;34m(\u001b[0m\u001b[0;34m)\u001b[0m\u001b[0;34m\u001b[0m\u001b[0;34m\u001b[0m\u001b[0m\n\u001b[0;32m-> 1072\u001b[0;31m     \u001b[0ma\u001b[0m \u001b[0;34m=\u001b[0m \u001b[0mfig\u001b[0m\u001b[0;34m.\u001b[0m\u001b[0madd_subplot\u001b[0m\u001b[0;34m(\u001b[0m\u001b[0;34m*\u001b[0m\u001b[0margs\u001b[0m\u001b[0;34m,\u001b[0m \u001b[0;34m**\u001b[0m\u001b[0mkwargs\u001b[0m\u001b[0;34m)\u001b[0m\u001b[0;34m\u001b[0m\u001b[0;34m\u001b[0m\u001b[0m\n\u001b[0m\u001b[1;32m   1073\u001b[0m     \u001b[0mbbox\u001b[0m \u001b[0;34m=\u001b[0m \u001b[0ma\u001b[0m\u001b[0;34m.\u001b[0m\u001b[0mbbox\u001b[0m\u001b[0;34m\u001b[0m\u001b[0;34m\u001b[0m\u001b[0m\n\u001b[1;32m   1074\u001b[0m     \u001b[0mbyebye\u001b[0m \u001b[0;34m=\u001b[0m \u001b[0;34m[\u001b[0m\u001b[0;34m]\u001b[0m\u001b[0;34m\u001b[0m\u001b[0;34m\u001b[0m\u001b[0m\n",
      "\u001b[0;32m~/.local/lib/python3.6/site-packages/matplotlib/figure.py\u001b[0m in \u001b[0;36madd_subplot\u001b[0;34m(self, *args, **kwargs)\u001b[0m\n\u001b[1;32m   1237\u001b[0m                     \u001b[0mself\u001b[0m\u001b[0;34m.\u001b[0m\u001b[0m_axstack\u001b[0m\u001b[0;34m.\u001b[0m\u001b[0mremove\u001b[0m\u001b[0;34m(\u001b[0m\u001b[0max\u001b[0m\u001b[0;34m)\u001b[0m\u001b[0;34m\u001b[0m\u001b[0;34m\u001b[0m\u001b[0m\n\u001b[1;32m   1238\u001b[0m \u001b[0;34m\u001b[0m\u001b[0m\n\u001b[0;32m-> 1239\u001b[0;31m             \u001b[0ma\u001b[0m \u001b[0;34m=\u001b[0m \u001b[0msubplot_class_factory\u001b[0m\u001b[0;34m(\u001b[0m\u001b[0mprojection_class\u001b[0m\u001b[0;34m)\u001b[0m\u001b[0;34m(\u001b[0m\u001b[0mself\u001b[0m\u001b[0;34m,\u001b[0m \u001b[0;34m*\u001b[0m\u001b[0margs\u001b[0m\u001b[0;34m,\u001b[0m \u001b[0;34m**\u001b[0m\u001b[0mkwargs\u001b[0m\u001b[0;34m)\u001b[0m\u001b[0;34m\u001b[0m\u001b[0;34m\u001b[0m\u001b[0m\n\u001b[0m\u001b[1;32m   1240\u001b[0m         \u001b[0mself\u001b[0m\u001b[0;34m.\u001b[0m\u001b[0m_axstack\u001b[0m\u001b[0;34m.\u001b[0m\u001b[0madd\u001b[0m\u001b[0;34m(\u001b[0m\u001b[0mkey\u001b[0m\u001b[0;34m,\u001b[0m \u001b[0ma\u001b[0m\u001b[0;34m)\u001b[0m\u001b[0;34m\u001b[0m\u001b[0;34m\u001b[0m\u001b[0m\n\u001b[1;32m   1241\u001b[0m         \u001b[0mself\u001b[0m\u001b[0;34m.\u001b[0m\u001b[0msca\u001b[0m\u001b[0;34m(\u001b[0m\u001b[0ma\u001b[0m\u001b[0;34m)\u001b[0m\u001b[0;34m\u001b[0m\u001b[0;34m\u001b[0m\u001b[0m\n",
      "\u001b[0;32m~/.local/lib/python3.6/site-packages/matplotlib/axes/_subplots.py\u001b[0m in \u001b[0;36m__init__\u001b[0;34m(self, fig, *args, **kwargs)\u001b[0m\n\u001b[1;32m     75\u001b[0m \u001b[0;34m\u001b[0m\u001b[0m\n\u001b[1;32m     76\u001b[0m         \u001b[0;31m# _axes_class is set in the subplot_class_factory\u001b[0m\u001b[0;34m\u001b[0m\u001b[0;34m\u001b[0m\u001b[0;34m\u001b[0m\u001b[0m\n\u001b[0;32m---> 77\u001b[0;31m         \u001b[0mself\u001b[0m\u001b[0;34m.\u001b[0m\u001b[0m_axes_class\u001b[0m\u001b[0;34m.\u001b[0m\u001b[0m__init__\u001b[0m\u001b[0;34m(\u001b[0m\u001b[0mself\u001b[0m\u001b[0;34m,\u001b[0m \u001b[0mfig\u001b[0m\u001b[0;34m,\u001b[0m \u001b[0mself\u001b[0m\u001b[0;34m.\u001b[0m\u001b[0mfigbox\u001b[0m\u001b[0;34m,\u001b[0m \u001b[0;34m**\u001b[0m\u001b[0mkwargs\u001b[0m\u001b[0;34m)\u001b[0m\u001b[0;34m\u001b[0m\u001b[0;34m\u001b[0m\u001b[0m\n\u001b[0m\u001b[1;32m     78\u001b[0m         \u001b[0;31m# add a layout box to this, for both the full axis, and the poss\u001b[0m\u001b[0;34m\u001b[0m\u001b[0;34m\u001b[0m\u001b[0;34m\u001b[0m\u001b[0m\n\u001b[1;32m     79\u001b[0m         \u001b[0;31m# of the axis.  We need both because the axes may become smaller\u001b[0m\u001b[0;34m\u001b[0m\u001b[0;34m\u001b[0m\u001b[0;34m\u001b[0m\u001b[0m\n",
      "\u001b[0;32m~/.local/lib/python3.6/site-packages/matplotlib/axes/_base.py\u001b[0m in \u001b[0;36m__init__\u001b[0;34m(self, fig, rect, facecolor, frameon, sharex, sharey, label, xscale, yscale, **kwargs)\u001b[0m\n\u001b[1;32m    486\u001b[0m             \u001b[0mself\u001b[0m\u001b[0;34m.\u001b[0m\u001b[0m_position\u001b[0m \u001b[0;34m=\u001b[0m \u001b[0mmtransforms\u001b[0m\u001b[0;34m.\u001b[0m\u001b[0mBbox\u001b[0m\u001b[0;34m.\u001b[0m\u001b[0mfrom_bounds\u001b[0m\u001b[0;34m(\u001b[0m\u001b[0;34m*\u001b[0m\u001b[0mrect\u001b[0m\u001b[0;34m)\u001b[0m\u001b[0;34m\u001b[0m\u001b[0;34m\u001b[0m\u001b[0m\n\u001b[1;32m    487\u001b[0m         \u001b[0;32mif\u001b[0m \u001b[0mself\u001b[0m\u001b[0;34m.\u001b[0m\u001b[0m_position\u001b[0m\u001b[0;34m.\u001b[0m\u001b[0mwidth\u001b[0m \u001b[0;34m<\u001b[0m \u001b[0;36m0\u001b[0m \u001b[0;32mor\u001b[0m \u001b[0mself\u001b[0m\u001b[0;34m.\u001b[0m\u001b[0m_position\u001b[0m\u001b[0;34m.\u001b[0m\u001b[0mheight\u001b[0m \u001b[0;34m<\u001b[0m \u001b[0;36m0\u001b[0m\u001b[0;34m:\u001b[0m\u001b[0;34m\u001b[0m\u001b[0;34m\u001b[0m\u001b[0m\n\u001b[0;32m--> 488\u001b[0;31m             \u001b[0;32mraise\u001b[0m \u001b[0mValueError\u001b[0m\u001b[0;34m(\u001b[0m\u001b[0;34m'Width and height specified must be non-negative'\u001b[0m\u001b[0;34m)\u001b[0m\u001b[0;34m\u001b[0m\u001b[0;34m\u001b[0m\u001b[0m\n\u001b[0m\u001b[1;32m    489\u001b[0m         \u001b[0mself\u001b[0m\u001b[0;34m.\u001b[0m\u001b[0m_originalPosition\u001b[0m \u001b[0;34m=\u001b[0m \u001b[0mself\u001b[0m\u001b[0;34m.\u001b[0m\u001b[0m_position\u001b[0m\u001b[0;34m.\u001b[0m\u001b[0mfrozen\u001b[0m\u001b[0;34m(\u001b[0m\u001b[0;34m)\u001b[0m\u001b[0;34m\u001b[0m\u001b[0;34m\u001b[0m\u001b[0m\n\u001b[1;32m    490\u001b[0m         \u001b[0;31m# self.set_axes(self)\u001b[0m\u001b[0;34m\u001b[0m\u001b[0;34m\u001b[0m\u001b[0;34m\u001b[0m\u001b[0m\n",
      "\u001b[0;31mValueError\u001b[0m: Width and height specified must be non-negative"
     ]
    }
   ],
   "source": [
    "# plot all temperature curves\n",
    "\n",
    "imax = len(Urf)\n",
    "print('imax',imax)\n",
    "\n",
    "T_max = 50\n",
    "T_thr = 1\n",
    "\n",
    "figure(1); clf();\n",
    "for i in range(0,imax-1):\n",
    "    print(i)\n",
    "    k_max = argmin(abs(Temperature[i] - T_max))\n",
    "    k_thr = argmin(abs(Temperature[i] - T_thr))\n",
    "    k_min = k_thr - (k_max - k_thr)\n",
    "    if k_min < 0:\n",
    "        k_min = 0\n",
    "\n",
    "    i_aux = where(diff(abs(diff(Temperature[i][k_thr:k_max])))>2)\n",
    "    if size(i_aux) != 0 :\n",
    "        if (i_aux[0][0]+k_thr < k_max):\n",
    "            k_max = i_aux[0][0]+k_thr\n",
    "\n",
    "#     subplot(1,9,i+1)\n",
    "    subplot(imax//3,4,i+1)\n",
    "    semilogy(Time[i][k_min:k_max]*1e3,Temperature[i][k_min:k_max],label=' Vrf = '+str(Urf[i]))\n",
    "#     semilogy(time[i][:]*1e3,Temp[i][:],label=' Vrf = '+str(Urf[i]))\n",
    "#         semilogy(time[k_thr],Temp[i,j,k_thr],'o')\n",
    "    grid()\n",
    "    legend(fontsize=12)\n",
    "tight_layout()"
   ]
  },
  {
   "cell_type": "code",
   "execution_count": 56,
   "id": "96ec70c4",
   "metadata": {},
   "outputs": [],
   "source": [
    "# Functions for fit\n",
    "\n",
    "def func2(t, t0, A, B,  C, D):\n",
    "    return A*(t-t0) / (C+(t-t0)**2)**D + B\n",
    "\n",
    "def func3(t, t0, A, B,  C, D):\n",
    "    return A*(t-t0) / (C+abs(t-t0))**D + B\n",
    "\n",
    "def dfunc2_dt(t, t0, A, B,  C, D):\n",
    "    return 10**(A*(C + (t - t0)**2)**(-D)*(t - t0) + B)*(-A*D*(C + (t - t0)**2)**(-D)*(t - t0)*(2*t - 2*t0)/(C + (t - t0)**2) + A*(C + (t - t0)**2)**(-D))*log(10)"
   ]
  },
  {
   "cell_type": "code",
   "execution_count": 72,
   "id": "2d2a6969",
   "metadata": {
    "scrolled": true,
    "tags": []
   },
   "outputs": [
    {
     "name": "stdout",
     "output_type": "stream",
     "text": [
      "<<< 0 >>>\n",
      "60\n",
      "73159 72307 71469 69793\n",
      "<<< 1 >>>\n",
      "61\n",
      "48657 43243 42559 41191\n",
      "<<< 2 >>>\n",
      "62\n",
      "38680 31068 30739 30081\n",
      "<<< 3 >>>\n",
      "63\n",
      "8911 3110 2368 884\n",
      "<<< 4 >>>\n",
      "64\n",
      "11607 11251 10623 9367\n"
     ]
    },
    {
     "name": "stderr",
     "output_type": "stream",
     "text": [
      "/home/adrian/.local/lib/python3.6/site-packages/ipykernel_launcher.py:4: RuntimeWarning: invalid value encountered in power\n",
      "  after removing the cwd from sys.path.\n"
     ]
    },
    {
     "name": "stdout",
     "output_type": "stream",
     "text": [
      "<<< 5 >>>\n",
      "65\n",
      "9057 6779 6401 5645\n",
      "<<< 6 >>>\n",
      "66\n",
      "10146 5100 4427 3081\n",
      "<<< 7 >>>\n",
      "67\n",
      "5333 3937 3182 1672\n",
      "<<< 8 >>>\n",
      "68\n",
      "6220 915 273 0\n",
      "<<< 9 >>>\n",
      "62.6\n",
      "25868 23344 22612 21148\n",
      "<<< 10 >>>\n",
      "62.8\n",
      "2901 2342 1808 740\n",
      "<<< 11 >>>\n",
      "63.2\n",
      "25602 21265 20745 19705\n",
      "<<< 12 >>>\n",
      "63.4\n",
      "4267 1897 1332 202\n",
      "<<< 13 >>>\n",
      "63.6\n",
      "22535 15325 14697 13441\n",
      "<<< 14 >>>\n",
      "63.8\n",
      "16338 14206 13654 12550\n",
      "<<< 15 >>>\n",
      "40\n",
      "17650 12061 11290 9748\n",
      "<<< 16 >>>\n",
      "45\n",
      "18107 12886 12348 11272\n",
      "<<< 17 >>>\n",
      "75\n",
      "500000 498729 498729 498729\n",
      "no filter\n",
      "TypeError for  75\n",
      "<<< 18 >>>\n",
      "80\n",
      "3167 1543 1149 361\n"
     ]
    }
   ],
   "source": [
    "# Fit all temperature curves with above function\n",
    "# savgol_filter used to filter a little bit\n",
    "# smooth the temperatures that oscillates a bit too much\n",
    "\n",
    "T_max = 85\n",
    "T_thr = 1\n",
    "fit_param = zeros((imax,5))\n",
    "fit_pcov  = zeros((imax,5,5))\n",
    "my_order = []\n",
    "gone_wrong = []\n",
    "\n",
    "figure(1); clf()\n",
    "for i in range(0,imax):\n",
    "    print('<<<',i,'>>>')\n",
    "    k_max = argmin(abs(Temperature[i] - T_max))\n",
    "    k_thr = argmin(abs(Temperature[i] - T_thr))\n",
    "\n",
    "    i_aux = where(diff(abs(diff(Temperature[i][k_thr:k_max])))>2)\n",
    "    if size(i_aux) != 0 :\n",
    "        if (i_aux[0][0]+k_thr < k_max):\n",
    "            k_max = i_aux[0][0]+k_thr\n",
    "\n",
    "    k_min = k_thr - int(2*(k_max - k_thr))\n",
    "    if k_min < 0: k_min = 0\n",
    "#         print(k_min)\n",
    "\n",
    "    x  = Time[i][k_min:k_max]\n",
    "    print(Urf[i])\n",
    "    print(len(Temperature[i]),k_max,k_thr,k_min)\n",
    "    try:\n",
    "        y  = savgol_filter(Temperature[i][k_min:k_max],31,1)\n",
    "    except:\n",
    "        y  = Temperature[i][k_min:k_max]\n",
    "        print('no filter')\n",
    "        \n",
    "    x0 = Time[i][k_thr]\n",
    "\n",
    "    A0  = 1\n",
    "    B0  = log10(Temperature[i][k_thr])\n",
    "    C0  = 1.0e-8\n",
    "    D0  = 0.5\n",
    "    p0  = array([x0, A0, B0,  C0, D0])\n",
    "    \n",
    "    my_order.append(i)\n",
    "\n",
    "    try:\n",
    "        popt, pcov = curve_fit(func2, x, log10(y), p0, maxfev= 500000)\n",
    "        fit_param[i,:] = popt[0], popt[1], popt[2], popt[3], popt[4]\n",
    "        fit_pcov[i,:]  = pcov\n",
    "\n",
    "        y_fit = func2(x,popt[0], popt[1], popt[2], popt[3], popt[4])\n",
    "        y_fit = 10**y_fit\n",
    "\n",
    "        subplot(6,4,i+1)\n",
    "        plot(x*1e3, y    ,label=' Vrf = '+str(Urf[i]))\n",
    "        plot(x*1e3, y_fit,label='Fit',ls='--')\n",
    "        grid()\n",
    "        legend(fontsize=10)\n",
    "        # select cases\n",
    "        # non zero fit value\n",
    "    except TypeError:\n",
    "        print('TypeError for ',Urf[i])\n",
    "        gone_wrong.append(i)\n",
    "tight_layout()"
   ]
  },
  {
   "cell_type": "code",
   "execution_count": 73,
   "id": "dea265f6",
   "metadata": {},
   "outputs": [
    {
     "name": "stdout",
     "output_type": "stream",
     "text": [
      "[40, 45, 60, 61, 62, 62.6, 62.8, 63, 63.2, 63.4, 63.6, 63.8, 64, 65, 66, 67, 68, 80]\n",
      "[15, 16, 0, 1, 2, 9, 10, 3, 11, 12, 13, 14, 4, 5, 6, 7, 8, 18]\n"
     ]
    }
   ],
   "source": [
    "# select only Urf values\n",
    "# for which non zero fit\n",
    "# and sort ascending Urf\n",
    "Y = Urf\n",
    "X = my_order\n",
    "my_order = [x for _,x in sorted(zip(Y,X))]\n",
    "Urf_order = [x for x,_ in sorted(zip(Y,X))]\n",
    "# delete manually\n",
    "# other innapropriate values\n",
    "my_order.remove(17)\n",
    "Urf_order.remove(75)\n",
    "\n",
    "print(Urf_order)\n",
    "print(my_order)\n",
    "\n",
    "# resort all variables\n",
    "# in order so\n",
    "# Urf ascending\n",
    "imax_order = len(Urf_order)\n",
    "fit_param_order = zeros((imax_order,5))\n",
    "fit_pcov_order  = zeros((imax_order,5,5))\n",
    "Time_order = []\n",
    "Temperature_order = []\n",
    "for i,j in enumerate(my_order):\n",
    "    fit_param_order[i,:] = fit_param[j,:]\n",
    "    fit_pcov_order[i,:]  = fit_pcov[j,:]\n",
    "    Time_order.append(Time[j])\n",
    "    Temperature_order.append(Temperature[j])"
   ]
  },
  {
   "cell_type": "code",
   "execution_count": 74,
   "id": "35f2891b",
   "metadata": {},
   "outputs": [
    {
     "name": "stdout",
     "output_type": "stream",
     "text": [
      "40\n"
     ]
    }
   ],
   "source": [
    "# draw one temp and fit\n",
    "figure(3); clf()\n",
    "cm = pylab.get_cmap('jet')\n",
    "\n",
    "i = 0\n",
    "\n",
    "print(Urf_order[i])\n",
    "# print(fit_pcov_order[i,:])\n",
    "y_fit = func2(Time_order[i],\n",
    "              fit_param_order[i,0],\n",
    "              fit_param_order[i,1],\n",
    "              fit_param_order[i,2],\n",
    "              fit_param_order[i,3],\n",
    "              fit_param_order[i,4])\n",
    "y_fit = 10**y_fit\n",
    "subplot(121)\n",
    "plot((Time_order[i])*1e3,Temperature_order[i],color='r')\n",
    "plot((Time_order[i])*1e3,y_fit,'--',color='k')\n",
    "xlabel('time [ms]')\n",
    "ylabel('T [K]')\n",
    "grid()\n",
    "\n",
    "# xlim(3.6,3.7)\n",
    "# ylim(-1,10)\n",
    "subplot(122)\n",
    "semilogy((Time_order[i])*1e3,savgol_filter(Temperature_order[i],31,1),color='r')\n",
    "semilogy((Time_order[i])*1e3,y_fit,'--',color='k')\n",
    "xlabel('time [ms]')\n",
    "grid()\n",
    "tight_layout()"
   ]
  },
  {
   "cell_type": "code",
   "execution_count": 75,
   "id": "40154799",
   "metadata": {},
   "outputs": [],
   "source": [
    "# draw fit parameters\n",
    "# as a function of Urf\n",
    "str_labels = ['t0', 'A', 'B', 'C', 'D']\n",
    "figure('Param'); clf();\n",
    "for i in range(0,5):\n",
    "    subplot(1,5,i+1)\n",
    "    if i == 2:\n",
    "        plot(Urf_order,10**(fit_param_order[:,i]),'o-', label=str_labels[i])\n",
    "    else:\n",
    "        plot(Urf_order,(fit_param_order[:,i]),'o-', label=str_labels[i])\n",
    "    xlabel('Urf')\n",
    "    grid()\n",
    "    legend()"
   ]
  },
  {
   "cell_type": "code",
   "execution_count": 65,
   "id": "2c7620b7",
   "metadata": {},
   "outputs": [],
   "source": [
    "# Draw Heating rate H\n",
    "# as a function of temperature T\n",
    "xa = -2\n",
    "xb = 50\n",
    "ya = 6e-6\n",
    "yb = 1e0\n",
    "figure(29,clear='True')\n",
    "ax = subplot(111)\n",
    "for i in [0,1,13,17]: #  range(0,imax_order)\n",
    "    t0, A, B, C, D = fit_param_order[i,:]\n",
    "    y  = func2(Time_order[i],t0, A, B, C, D);\n",
    "    y  = 10**y\n",
    "    dy = dfunc2_dt(Time_order[i], t0, A, B,  C, D)\n",
    "#     ax.semilogy((Time_order[i]-t0)*1e3,dy*1e-6,label=str(Urf[i]),color=cm(i/imax_order))\n",
    "    ax.semilogy(savgol_filter(Temperature_order[i],31,1),dy*1e-6,label=str(Urf_order[i]),color=cm(i/imax_order))\n",
    "#     ax.semilogy(Temperature_order[i][:-1],diff(Temperature_order[i])*1e-6,label=str(Urf_order[i]),color=cm(i/imax_order))\n",
    "    ax.set_xlabel('T [K]')\n",
    "    ax.set_ylabel('Heating rate [K/µs]')\n",
    "#     scatter(t0,4e5,color=cm(i/imax),marker='+')\n",
    "#     semilogy(y,dy*1e-3,label=str(Urf[i]),color=cm(i/imax))\n",
    "ax.set_xlim([xa,xb])\n",
    "ax.set_ylim([ya,yb])\n",
    "        \n",
    "# locmaj = matplotlib.ticker.LogLocator(base=10,numticks=12) \n",
    "# ax.yaxis.set_major_locator(locmaj)\n",
    "# locmin = matplotlib.ticker.LogLocator(base=10.0,subs=(0.2,0.4,0.6,0.8),numticks=12)\n",
    "# ax.yaxis.set_minor_locator(locmin)\n",
    "# ax.yaxis.set_minor_formatter(matplotlib.ticker.NullFormatter())\n",
    "# ax.xaxis.set_major_locator(matplotlib.ticker.MultipleLocator(base=0.1))\n",
    "ax.legend(title=r'$U_{RF}$',ncol=2)\n",
    "ax.grid(b=True, which='major', linestyle='-')\n",
    "ax.grid(b=True, which='minor', linestyle='--')\n",
    "tight_layout()"
   ]
  },
  {
   "cell_type": "code",
   "execution_count": 66,
   "id": "fc61e650",
   "metadata": {},
   "outputs": [],
   "source": [
    "# Draw Heating rate H\n",
    "# as a function of temperature T\n",
    "xa = -2\n",
    "xb = 50\n",
    "ya = 6e-6\n",
    "yb = 1e0\n",
    "coucou = []\n",
    "figure(31,clear='True')\n",
    "ax = subplot(111)\n",
    "for i in [0,1,13,17]: #  range(0,imax_order)\n",
    "    t0, A, B, C, D = fit_param_order[i,:]\n",
    "    x  = savgol_filter(Temperature_order[i],31,1)\n",
    "    y  = func2(Time_order[i],t0, A, B, C, D);\n",
    "    y  = 10**y\n",
    "    dy = dfunc2_dt(Time_order[i], t0, A, B,  C, D) /x\n",
    "#     ax.semilogy((Time_order[i]-t0)*1e3,dy*1e-6,label=str(Urf[i]),color=cm(i/imax_order))\n",
    "    ax.semilogy(x,dy*1e-6,label=str(Urf_order[i]),color=cm(i/imax_order),marker='+')\n",
    "#     ax.semilogy(Temperature_order[i][:-1],diff(Temperature_order[i])*1e-6,label=str(Urf_order[i]),color=cm(i/imax_order))\n",
    "    coucou.append( argmin(abs(x-0.5)) )\n",
    "\n",
    "#     ax.vlines(x[coucou],1e-5,0.5e0,color=cm(i/imax_order))\n",
    "    ax.set_xlabel('T [K]')\n",
    "    ax.set_ylabel('Heating rate / T [/µs]')\n",
    "#     scatter(t0,4e5,color=cm(i/imax),marker='+')\n",
    "#     semilogy(y,dy*1e-3,label=str(Urf[i]),color=cm(i/imax))\n",
    "ax.set_xlim([xa,xb])\n",
    "ax.set_ylim([ya,yb])\n",
    "        \n",
    "# locmaj = matplotlib.ticker.LogLocator(base=10,numticks=12) \n",
    "# ax.yaxis.set_major_locator(locmaj)\n",
    "# locmin = matplotlib.ticker.LogLocator(base=10.0,subs=(0.2,0.4,0.6,0.8),numticks=12)\n",
    "# ax.yaxis.set_minor_locator(locmin)\n",
    "# ax.yaxis.set_minor_formatter(matplotlib.ticker.NullFormatter())\n",
    "# ax.xaxis.set_major_locator(matplotlib.ticker.MultipleLocator(base=0.1))\n",
    "ax.legend(title=r'$U_{RF}$',ncol=2)\n",
    "ax.grid(b=True, which='major', linestyle='-')\n",
    "ax.grid(b=True, which='minor', linestyle='--')\n",
    "tight_layout()"
   ]
  },
  {
   "cell_type": "code",
   "execution_count": 508,
   "id": "02830393",
   "metadata": {},
   "outputs": [
    {
     "name": "stdout",
     "output_type": "stream",
     "text": [
      "[55.0, 60.0, 65.0, 70.0] [3.816836351572443, 2.82087657947867, 2.031329563329401, -0.43716055296305467]\n"
     ]
    },
    {
     "data": {
      "text/plain": [
       "[<matplotlib.lines.Line2D at 0x7f0d803cdcc0>]"
      ]
     },
     "execution_count": 508,
     "metadata": {},
     "output_type": "execute_result"
    }
   ],
   "source": [
    "X = []\n",
    "Y = []\n",
    "for i,j in enumerate([0,1,13,17]):\n",
    "#     x = savgol_filter(Temperature_order[i],31,1)\n",
    "    x  = func2(Time_order[i],t0, A, B, C, D)\n",
    "    X.append(Urf_order[j])\n",
    "    Y.append(x[coucou[i]])\n",
    "print(X,Y)\n",
    "figure('test',clear='True')\n",
    "plot(X,Y)"
   ]
  },
  {
   "cell_type": "code",
   "execution_count": 489,
   "id": "83952510",
   "metadata": {},
   "outputs": [
    {
     "data": {
      "text/plain": [
       "(0.47237331806470084, 0.00586806794642175)"
      ]
     },
     "execution_count": 489,
     "metadata": {},
     "output_type": "execute_result"
    }
   ],
   "source": [
    "110/3493 * 15, x[15]"
   ]
  },
  {
   "cell_type": "markdown",
   "id": "f62f4cd1",
   "metadata": {},
   "source": [
    "# t0 and T as a function of Urf"
   ]
  },
  {
   "cell_type": "code",
   "execution_count": 76,
   "id": "9ff7510f",
   "metadata": {},
   "outputs": [],
   "source": [
    "t0    = zeros(imax_order)\n",
    "y_t0  = zeros(imax_order)\n",
    "dy_t0 = zeros(imax_order)\n",
    "for i in range(0, imax_order):\n",
    "    t0[i], A, B, C, D = fit_param_order[i,:]\n",
    "    y  = func2(t0[i],t0[i], A, B, C, D);\n",
    "    y_t0[i]  = 10**y\n",
    "    dy_t0[i] = dfunc2_dt(t0[i], t0[i], A, B,  C, D)"
   ]
  },
  {
   "cell_type": "code",
   "execution_count": 77,
   "id": "3fbc493f",
   "metadata": {},
   "outputs": [],
   "source": [
    "def my_lin(x,a,b):\n",
    "    return a*x+b\n",
    "def my_power_law(x,a,b):\n",
    "    return a*(x**-b)"
   ]
  },
  {
   "cell_type": "code",
   "execution_count": 80,
   "id": "a7ac84e0",
   "metadata": {},
   "outputs": [],
   "source": [
    "# log plot\n",
    "figure(321,clear='True')\n",
    "ax = subplot(111)\n",
    "ax.loglog(Urf_order,t0*1e3,ls='-',marker='+',mew=5,ms=10)\n",
    "ax.set_xlabel('$U_{rf}$ [V]')\n",
    "ax.set_ylabel('$t_0$ [ms]') # '$T(t_0) / t_0$ [K/s]'\n",
    "ax.axis([5*10, 72, 1, 200])\n",
    "ax.grid(b=True, which='major', linestyle='-')\n",
    "ax.grid(b=True, which='minor', linestyle='--')\n",
    "\n",
    "tight_layout()"
   ]
  },
  {
   "cell_type": "code",
   "execution_count": 84,
   "id": "4c8c26ac",
   "metadata": {},
   "outputs": [],
   "source": [
    "figure(322); clf();\n",
    "ax = subplot(111)\n",
    "ax.plot(Urf_order,y_t0,ls='-',marker='+',mew=5,ms=10)\n",
    "ax.grid()\n",
    "ax.set_xlabel('$U_{rf}$ [V]')\n",
    "ax.set_ylabel('$T(t_0)$ [K]') # '$T(t_0) / t_0$ [K/s]'\n",
    "\n",
    "popt, pcov = curve_fit(my_lin,Urf_order[2:-2],y_t0[2:-2])\n",
    "ax.plot(Urf_order[2:-2],my_lin(array(Urf_order[2:-2]),popt[0],popt[1]),\n",
    "    color='k',ls='--')\n",
    "\n",
    "ax.xaxis.set_major_locator(matplotlib.ticker.MultipleLocator(base=5))\n",
    "ax.yaxis.set_major_locator(matplotlib.ticker.MultipleLocator(base=0.1))\n",
    "\n",
    "ax.text(64,0.815,f'$T(t_0) = {popt[0]:.2e} U_{{rf}} + {popt[1]:.2f}$',\n",
    "            color='xkcd:black',fontsize='20',weight=\"bold\",\n",
    "            ha='left',va='center')\n",
    "\n",
    "tight_layout()\n",
    "\n",
    "# identique à 10**B"
   ]
  },
  {
   "cell_type": "code",
   "execution_count": 85,
   "id": "eca6f417",
   "metadata": {},
   "outputs": [],
   "source": [
    "figure(323); clf();\n",
    "subplot(111)\n",
    "plot(Urf_order,y_t0,ls='-',marker='+',mew=5,ms=10)\n",
    "grid()\n",
    "xlabel('$U_{rf}$ [V]')\n",
    "ylabel('$T(t_0)$ [K]') # '$T(t_0) / t_0$ [K/s]'\n",
    "\n",
    "tight_layout()\n",
    "\n",
    "# identique à 10**B"
   ]
  },
  {
   "cell_type": "code",
   "execution_count": null,
   "id": "01bded76",
   "metadata": {},
   "outputs": [],
   "source": [
    "# check for frequencies"
   ]
  }
 ],
 "metadata": {
  "kernelspec": {
   "display_name": "Python 3 (ipykernel)",
   "language": "python",
   "name": "python3"
  },
  "language_info": {
   "codemirror_mode": {
    "name": "ipython",
    "version": 3
   },
   "file_extension": ".py",
   "mimetype": "text/x-python",
   "name": "python",
   "nbconvert_exporter": "python",
   "pygments_lexer": "ipython3",
   "version": "3.10.4"
  }
 },
 "nbformat": 4,
 "nbformat_minor": 5
}
