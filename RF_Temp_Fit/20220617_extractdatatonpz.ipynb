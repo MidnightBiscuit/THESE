{
 "cells": [
  {
   "cell_type": "code",
   "execution_count": 1,
   "id": "daa8f4c3",
   "metadata": {},
   "outputs": [
    {
     "name": "stdout",
     "output_type": "stream",
     "text": [
      "Using matplotlib backend: TkAgg\n",
      "Populating the interactive namespace from numpy and matplotlib\n"
     ]
    }
   ],
   "source": [
    "%pylab"
   ]
  },
  {
   "cell_type": "code",
   "execution_count": 2,
   "id": "76e5594e",
   "metadata": {},
   "outputs": [],
   "source": [
    "from scipy.optimize import curve_fit\n",
    "from scipy.signal import savgol_filter\n",
    "\n",
    "import tkinter as tk\n",
    "from tkinter import filedialog\n",
    "\n",
    "import os\n",
    "\n",
    "from scipy import signal\n",
    "import scipy.integrate as integrate\n",
    "\n",
    "# %matplotlib qt"
   ]
  },
  {
   "cell_type": "code",
   "execution_count": 3,
   "id": "39f3f8cf",
   "metadata": {},
   "outputs": [
    {
     "name": "stdout",
     "output_type": "stream",
     "text": [
      "[1, 52, 103, 154, 205, 257, 308, 359, 410, 462]\n",
      "[51, 102, 153, 204, 255, 307, 358, 409, 460, 512]\n"
     ]
    }
   ],
   "source": [
    "n_core = 10\n",
    "N = 512\n",
    "print(list(linspace(1,N+1-N//n_core,n_core,dtype='int')))\n",
    "print(list(linspace(N//n_core,N,n_core,dtype='int')))\n",
    "\n",
    "n_dt = 5000\n",
    "\n",
    "# integer          , parameter :: ia(ni)=[1,257,513,769]\n",
    "# integer          , parameter :: ib(ni)=[256,512,768,1024]"
   ]
  },
  {
   "cell_type": "code",
   "execution_count": 4,
   "id": "916883eb",
   "metadata": {
    "scrolled": true
   },
   "outputs": [],
   "source": [
    "%run functions\n",
    "matplotlib.rcParams.update({'font.size': 25})"
   ]
  },
  {
   "cell_type": "code",
   "execution_count": 5,
   "id": "efce5ee7",
   "metadata": {},
   "outputs": [
    {
     "name": "stdout",
     "output_type": "stream",
     "text": [
      "$\\kappa_{simion}$ = 0.270471\n"
     ]
    }
   ],
   "source": [
    "# Constantes de la physique\n",
    "# ABSOLUMENT RECHARGER APRÈS AVOIR EXECUTÉ LES CASES D'IMPORT AU DESSUS\n",
    "\n",
    "C_e = 1.602e-19        # Coulomb\n",
    "kb = 1.38064852*1e-23  # Boltzman\n",
    "m_Ca = 40.078*1.66054e-27 # masse Ca 40.078\n",
    "m_GM = 1e6*1.66054e-27 # la masse de la GMol\n",
    "eps0 = 8.854187*1e-12  # permittivité électrique du vide\n",
    "\n",
    "r0 = 2.5e-3 # 2.5e-3   # rayon piège Ca+\n",
    "d0 = 4e-3/2            # longueur piège Ca+\n",
    "\n",
    "Omega = 2.05e6*2*pi # 2.047e6\n",
    "\n",
    "bk = 4 # nombre de barreaux par groupe (2 -> 4-pole , 4 -> 8-pole ...)\n",
    "\n",
    "mkappa = 0.23          # écrantage piège réel GiantMol\n",
    "\n",
    "wzLC = (2*pi*90806.9982303)**2\n",
    "kappa_simion = m_Ca*d0**2*wzLC/(2*C_e)\n",
    "print('%s = %f' % ('$\\kappa_{simion}$',kappa_simion) )\n",
    "\n",
    "zeta = kappa_simion*r0**2/d0**2"
   ]
  },
  {
   "cell_type": "code",
   "execution_count": 8,
   "id": "02204cee",
   "metadata": {},
   "outputs": [],
   "source": [
    "file_path = '/home/adrien/RemoteFS/Rivendel/Simulations/20221006/N1024' # 20220610\n",
    "# file_path = '/home/adrien/RemoteFS/Rivendel/Simulations/20220617/N1024' # 20220610\n",
    "# file_path = '/home/adrien/RemoteFS/Rivendel/Simulations/20220512'\n",
    "# file_path = '/home/adrien/RemoteFS/Rivendel/Simulations/20220510'\n",
    "\n",
    "all_subdir = []\n",
    "all_Temp = []\n",
    "all_trjN = []\n",
    "all_trj1 = []\n",
    "all_xva_3DHarmo = []\n",
    "all_xva_start = []\n",
    "\n",
    "# selection of all directories where\n",
    "# there are data files\n",
    "for i,j in enumerate(os.walk(file_path)):\n",
    "    if 'Try' in j[0]:\n",
    "        all_subdir.append(j[0])\n",
    "    # selection of all data files\n",
    "    # interesting me\n",
    "    for k,l in enumerate(j[2]):\n",
    "        if 'TrjN' in l:\n",
    "            all_trjN.append(j[0]+'/'+l)\n",
    "        if 'Trj1' in l:\n",
    "            all_trj1.append(j[0]+'/'+l)\n",
    "            #print(l)\n",
    "        if 'SimuType0' and '.dat' in l:\n",
    "            all_Temp.append(j[0]+'/'+l)\n",
    "        if 'xva_3D' in l:\n",
    "            all_xva_3DHarmo.append(j[0]+'/'+l)\n",
    "        if 'xva_start' in l:\n",
    "            all_xva_start.append(j[0]+'/'+l)\n",
    "        #print(j[0],'\\n')\n",
    "all_subdir.sort()\n",
    "all_Temp.sort()\n",
    "all_xva_3DHarmo.sort()\n",
    "all_xva_start.sort()\n",
    "all_trjN.sort()\n",
    "# for i in range(len(all_subdir)):\n",
    "#     print(all_subdir[i],'\\n',all_Temp[i],'\\n',all_trjN[i],'\\n')"
   ]
  },
  {
   "cell_type": "code",
   "execution_count": 36,
   "id": "afa2f85c",
   "metadata": {
    "collapsed": true
   },
   "outputs": [
    {
     "name": "stdout",
     "output_type": "stream",
     "text": [
      "DC05_RF05\n",
      "[36000000]\n",
      "[36000000]\n",
      "Time_and_temp_RFHEAT_N1024_DC05_RF05\n",
      "DC06_RF06\n",
      "[36000000]\n",
      "[36000000]\n",
      "Time_and_temp_RFHEAT_N1024_DC06_RF06\n",
      "DC07_RF07\n",
      "[36000000]\n",
      "[36000000]\n",
      "Time_and_temp_RFHEAT_N1024_DC07_RF07\n",
      "DC08_RF08\n",
      "[36000000]\n",
      "[36000000]\n",
      "Time_and_temp_RFHEAT_N1024_DC08_RF08\n",
      "DC09_RF09\n",
      "[36000000]\n",
      "[36000000]\n",
      "Time_and_temp_RFHEAT_N1024_DC09_RF09\n",
      "DC10_RF10\n",
      "[36000000]\n",
      "[36000000]\n",
      "Time_and_temp_RFHEAT_N1024_DC10_RF10\n",
      "DC11_RF11\n",
      "[36000000]\n",
      "[36000000]\n",
      "Time_and_temp_RFHEAT_N1024_DC11_RF11\n",
      "DC12_RF12\n",
      "[36000000]\n",
      "[36000000]\n",
      "Time_and_temp_RFHEAT_N1024_DC12_RF12\n",
      "DC13_RF13\n",
      "[36000000]\n",
      "[36000000]\n",
      "Time_and_temp_RFHEAT_N1024_DC13_RF13\n"
     ]
    }
   ],
   "source": [
    "for j,k in enumerate(all_subdir):\n",
    "    str_N  = all_Temp[j].find('_N')\n",
    "    cond_N = '1024' # all_Temp[j][str_N+3:str_N+7]\n",
    "    str_v  = all_subdir[j].find('DC')\n",
    "    cond   = all_Temp[j][str_v:str_v+9]\n",
    "    print(cond)\n",
    "    outfile = 'Time_and_temp_RFHEAT_N'+ str(cond_N) + '_' + str(cond)\n",
    "    \n",
    "    data = loadtxt(all_Temp[j])\n",
    "    time_s = data[:,0]\n",
    "    T_CM = data[:,1:4]\n",
    "    T_aux = data[:,4:]\n",
    "    T_aux_avg = mean(T_aux,axis=1)\n",
    "    r2_v2 = load_xv2rlim(all_trjN[j])\n",
    "    save_xva = load_xyz_init_bin_DP(all_xva_start[j].strip('.bin'))\n",
    "    alpha = max(sqrt(save_xva[0]**2+save_xva[1]**2))/max(save_xva[2])\n",
    "    #r2    = r2_v2[0:3,:]\n",
    "    #v2    = r2_v2[3:6,:]\n",
    "    #rlim  = r2_v2[6:9,:]\n",
    "    \n",
    "    np.savez( outfile, time=time_s, temp=T_aux_avg, r2_v2_rlim=r2_v2, alpha=alpha) # dirname_hc=re.sub(r'\\\\',r'/',dirname_hc)\n",
    "    print(outfile) # , r2_v2_rlim=r2_v2"
   ]
  },
  {
   "cell_type": "code",
   "execution_count": 15,
   "id": "18e9b8ad",
   "metadata": {},
   "outputs": [
    {
     "data": {
      "text/plain": [
       "'/home/adrien/RemoteFS/Rivendel/Simulations/20221006/N1024/DC19_RF19/Try00/Temp_SimuType0_N01024_Vrf0064_Udc0.1456D+02V_nt1000.dat'"
      ]
     },
     "execution_count": 15,
     "metadata": {},
     "output_type": "execute_result"
    }
   ],
   "source": [
    "all_Temp[9]"
   ]
  },
  {
   "cell_type": "code",
   "execution_count": 23,
   "id": "da067ee8",
   "metadata": {},
   "outputs": [
    {
     "name": "stdout",
     "output_type": "stream",
     "text": [
      "DC19_RF19\n",
      "[36000000]\n",
      "[36000000]\n",
      "Time_and_temp_RFHEAT_N1024_DC19_RF19\n",
      "DC20_RF20\n",
      "[36000000]\n",
      "[36000000]\n",
      "Time_and_temp_RFHEAT_N1024_DC20_RF20\n",
      "DC21_RF21\n",
      "[36000000]\n",
      "[36000000]\n",
      "Time_and_temp_RFHEAT_N1024_DC21_RF21\n",
      "DC22_RF22\n",
      "[36000000]\n",
      "[36000000]\n",
      "Time_and_temp_RFHEAT_N1024_DC22_RF22\n",
      "DC23_RF23\n",
      "[36000000]\n",
      "[36000000]\n",
      "Time_and_temp_RFHEAT_N1024_DC23_RF23\n",
      "DC24_RF24\n",
      "[36000000]\n",
      "[36000000]\n",
      "Time_and_temp_RFHEAT_N1024_DC24_RF24\n",
      "DC25_RF25\n",
      "[36000000]\n",
      "[36000000]\n",
      "Time_and_temp_RFHEAT_N1024_DC25_RF25\n",
      "DC26_RF26\n",
      "[36000000]\n",
      "[36000000]\n",
      "Time_and_temp_RFHEAT_N1024_DC26_RF26\n",
      "DC27_RF27\n",
      "[36000000]\n",
      "[36000000]\n",
      "Time_and_temp_RFHEAT_N1024_DC27_RF27\n",
      "DC28_RF28\n",
      "[36000000]\n",
      "[36000000]\n",
      "Time_and_temp_RFHEAT_N1024_DC28_RF28\n"
     ]
    }
   ],
   "source": [
    "for j in range(9,19):\n",
    "#     j = all_subdir[k]\n",
    "    str_N  = all_Temp[j].find('_N')\n",
    "    cond_N = all_Temp[j][str_N+3:str_N+7]\n",
    "    str_v  = all_subdir[j].find('DC')\n",
    "    cond   = all_Temp[j][str_v:str_v+9]\n",
    "    print(cond)\n",
    "    outfile = 'Time_and_temp_RFHEAT_N'+ str(cond_N) + '_' + str(cond)\n",
    "\n",
    "    data = loadtxt(all_Temp[j])\n",
    "    time_s = data[:,0]\n",
    "    T_CM = data[:,1:4]\n",
    "    T_aux = data[:,4:]\n",
    "    T_aux_avg = mean(T_aux,axis=1)\n",
    "    r2_v2 = load_xv2rlim(all_trjN[j])\n",
    "    save_xva = load_xyz_init_bin_DP(all_xva_start[j].strip('.bin'))\n",
    "    alpha = max(sqrt(save_xva[0]**2+save_xva[1]**2))/max(save_xva[2])\n",
    "    #r2    = r2_v2[0:3,:]\n",
    "    #v2    = r2_v2[3:6,:]\n",
    "    #rlim  = r2_v2[6:9,:]\n",
    "\n",
    "    np.savez( outfile, time=time_s, temp=T_aux_avg, r2_v2_rlim=r2_v2, alpha=alpha) # dirname_hc=re.sub(r'\\\\',r'/',dirname_hc)\n",
    "    print(outfile) # , r2_v2_rlim=r2_v2"
   ]
  },
  {
   "cell_type": "code",
   "execution_count": 21,
   "id": "79beb00d",
   "metadata": {},
   "outputs": [
    {
     "name": "stdout",
     "output_type": "stream",
     "text": [
      "/home/adrien/RemoteFS/Rivendel/Simulations/20221006/N1024/DC22_RF22/Try00\n",
      "/home/adrien/RemoteFS/Rivendel/Simulations/20221006/N1024/DC22_RF22/Try00/xva_start_SimuType0_N01024_Vrf0063_Udc0.1376D+02V_nt1000.bin\n"
     ]
    }
   ],
   "source": [
    "print(all_subdir[12])\n",
    "print(all_xva_start[12])"
   ]
  }
 ],
 "metadata": {
  "kernelspec": {
   "display_name": "Python 3 (ipykernel)",
   "language": "python",
   "name": "python3"
  },
  "language_info": {
   "codemirror_mode": {
    "name": "ipython",
    "version": 3
   },
   "file_extension": ".py",
   "mimetype": "text/x-python",
   "name": "python",
   "nbconvert_exporter": "python",
   "pygments_lexer": "ipython3",
   "version": "3.10.6"
  }
 },
 "nbformat": 4,
 "nbformat_minor": 5
}
