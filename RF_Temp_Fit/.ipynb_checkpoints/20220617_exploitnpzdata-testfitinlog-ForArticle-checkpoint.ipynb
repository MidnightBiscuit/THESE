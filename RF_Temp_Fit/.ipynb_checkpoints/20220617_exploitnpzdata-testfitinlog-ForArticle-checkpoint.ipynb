{
 "cells": [
  {
   "cell_type": "code",
   "execution_count": 1,
   "id": "2b7e5f6e",
   "metadata": {},
   "outputs": [
    {
     "data": {
      "text/html": [
       "<style>.container { width:95% !important; }</style>"
      ],
      "text/plain": [
       "<IPython.core.display.HTML object>"
      ]
     },
     "metadata": {},
     "output_type": "display_data"
    }
   ],
   "source": [
    "from IPython.display import display, HTML\n",
    "display(HTML(\"<style>.container { width:95% !important; }</style>\"))"
   ]
  },
  {
   "cell_type": "code",
   "execution_count": 2,
   "id": "daa8f4c3",
   "metadata": {},
   "outputs": [
    {
     "name": "stdout",
     "output_type": "stream",
     "text": [
      "Using matplotlib backend: TkAgg\n",
      "Populating the interactive namespace from numpy and matplotlib\n"
     ]
    }
   ],
   "source": [
    "%pylab"
   ]
  },
  {
   "cell_type": "code",
   "execution_count": 3,
   "id": "76e5594e",
   "metadata": {},
   "outputs": [],
   "source": [
    "from scipy.optimize import curve_fit\n",
    "\n",
    "import tkinter as tk\n",
    "from tkinter import filedialog\n",
    "\n",
    "import os\n",
    "\n",
    "from scipy import signal\n",
    "import scipy.integrate as integrate\n",
    "\n",
    "# %matplotlib qt"
   ]
  },
  {
   "cell_type": "code",
   "execution_count": 4,
   "id": "916883eb",
   "metadata": {
    "scrolled": true
   },
   "outputs": [],
   "source": [
    "%run functions\n",
    "matplotlib.rcParams.update({'font.size': 25})"
   ]
  },
  {
   "cell_type": "code",
   "execution_count": 168,
   "id": "efce5ee7",
   "metadata": {},
   "outputs": [
    {
     "name": "stdout",
     "output_type": "stream",
     "text": [
      "$\\kappa_{simion}$ = 0.270471\n"
     ]
    }
   ],
   "source": [
    "# Constantes de la physique\n",
    "# ABSOLUMENT RECHARGER APRÈS AVOIR EXECUTÉ LES CASES D'IMPORT AU DESSUS\n",
    "\n",
    "C_e = 1.602e-19        # Coulomb\n",
    "kb = 1.38064852*1e-23  # Boltzman\n",
    "m_Ca = 40.078*1.66054e-27 # masse Ca 40.078\n",
    "m_GM = 1e6*1.66054e-27 # la masse de la GMol\n",
    "eps0 = 8.854187*1e-12  # permittivité électrique du vide\n",
    "\n",
    "r0 = 2.5e-3 # 2.5e-3   # rayon piège Ca+\n",
    "d0 = 4e-3/2            # longueur piège Ca+\n",
    "\n",
    "Omega = 2.0e6*2*pi # 2.047e6\n",
    "tauRF = 1/(Omega/2/pi)\n",
    "\n",
    "bk = 4 # nombre de barreaux par groupe (2 -> 4-pole , 4 -> 8-pole ...)\n",
    "\n",
    "mkappa = 0.23          # écrantage piège réel GiantMol\n",
    "\n",
    "wzLC = (2*pi*90806.9982303)**2\n",
    "kappa_simion = m_Ca*d0**2*wzLC/(2*C_e)\n",
    "print('%s = %f' % ('$\\kappa_{simion}$',kappa_simion) )\n",
    "\n",
    "zeta = kappa_simion*r0**2/d0**2"
   ]
  },
  {
   "cell_type": "code",
   "execution_count": 478,
   "id": "58da8010",
   "metadata": {},
   "outputs": [
    {
     "name": "stdout",
     "output_type": "stream",
     "text": [
      "/home/adrien/Documents/Programmes/Python/THESE/RF_Temp_Fit/Time_and_temp_RFHEAT_N0256_DC05_RF05.npz\n",
      "/home/adrien/Documents/Programmes/Python/THESE/RF_Temp_Fit/Time_and_temp_RFHEAT_N0256_DC06_RF06.npz\n",
      "/home/adrien/Documents/Programmes/Python/THESE/RF_Temp_Fit/Time_and_temp_RFHEAT_N0256_DC07_RF07.npz\n",
      "/home/adrien/Documents/Programmes/Python/THESE/RF_Temp_Fit/Time_and_temp_RFHEAT_N0256_DC08_RF08.npz\n",
      "/home/adrien/Documents/Programmes/Python/THESE/RF_Temp_Fit/Time_and_temp_RFHEAT_N0256_DC09_RF09.npz\n",
      "/home/adrien/Documents/Programmes/Python/THESE/RF_Temp_Fit/Time_and_temp_RFHEAT_N0256_DC10_RF10.npz\n",
      "/home/adrien/Documents/Programmes/Python/THESE/RF_Temp_Fit/Time_and_temp_RFHEAT_N0256_DC11_RF11.npz\n",
      "/home/adrien/Documents/Programmes/Python/THESE/RF_Temp_Fit/Time_and_temp_RFHEAT_N0256_DC12_RF12.npz\n",
      "/home/adrien/Documents/Programmes/Python/THESE/RF_Temp_Fit/Time_and_temp_RFHEAT_N0256_DC13_RF13.npz\n",
      "/home/adrien/Documents/Programmes/Python/THESE/RF_Temp_Fit/Time_and_temp_RFHEAT_N0512_DC03_RF03.npz\n",
      "/home/adrien/Documents/Programmes/Python/THESE/RF_Temp_Fit/Time_and_temp_RFHEAT_N0512_DC04_RF04.npz\n",
      "/home/adrien/Documents/Programmes/Python/THESE/RF_Temp_Fit/Time_and_temp_RFHEAT_N0512_DC05_RF05.npz\n",
      "/home/adrien/Documents/Programmes/Python/THESE/RF_Temp_Fit/Time_and_temp_RFHEAT_N0512_DC06_RF06.npz\n",
      "/home/adrien/Documents/Programmes/Python/THESE/RF_Temp_Fit/Time_and_temp_RFHEAT_N0512_DC07_RF07.npz\n",
      "/home/adrien/Documents/Programmes/Python/THESE/RF_Temp_Fit/Time_and_temp_RFHEAT_N0512_DC08_RF08.npz\n",
      "/home/adrien/Documents/Programmes/Python/THESE/RF_Temp_Fit/Time_and_temp_RFHEAT_N0512_DC09_RF09.npz\n",
      "/home/adrien/Documents/Programmes/Python/THESE/RF_Temp_Fit/Time_and_temp_RFHEAT_N0512_DC10_RF10.npz\n",
      "/home/adrien/Documents/Programmes/Python/THESE/RF_Temp_Fit/Time_and_temp_RFHEAT_N0512_DC11_RF11.npz\n",
      "/home/adrien/Documents/Programmes/Python/THESE/RF_Temp_Fit/Time_and_temp_RFHEAT_N0512_DC12_RF12.npz\n",
      "/home/adrien/Documents/Programmes/Python/THESE/RF_Temp_Fit/Time_and_temp_RFHEAT_N0512_DC13_RF13.npz\n",
      "/home/adrien/Documents/Programmes/Python/THESE/RF_Temp_Fit/Time_and_temp_RFHEAT_N1024_DC05_RF05.npz\n",
      "/home/adrien/Documents/Programmes/Python/THESE/RF_Temp_Fit/Time_and_temp_RFHEAT_N1024_DC06_RF06.npz\n",
      "/home/adrien/Documents/Programmes/Python/THESE/RF_Temp_Fit/Time_and_temp_RFHEAT_N1024_DC07_RF07.npz\n",
      "/home/adrien/Documents/Programmes/Python/THESE/RF_Temp_Fit/Time_and_temp_RFHEAT_N1024_DC08_RF08.npz\n",
      "/home/adrien/Documents/Programmes/Python/THESE/RF_Temp_Fit/Time_and_temp_RFHEAT_N1024_DC09_RF09.npz\n",
      "/home/adrien/Documents/Programmes/Python/THESE/RF_Temp_Fit/Time_and_temp_RFHEAT_N1024_DC10_RF10.npz\n",
      "/home/adrien/Documents/Programmes/Python/THESE/RF_Temp_Fit/Time_and_temp_RFHEAT_N1024_DC11_RF11.npz\n",
      "/home/adrien/Documents/Programmes/Python/THESE/RF_Temp_Fit/Time_and_temp_RFHEAT_N1024_DC12_RF12.npz\n",
      "/home/adrien/Documents/Programmes/Python/THESE/RF_Temp_Fit/Time_and_temp_RFHEAT_N1024_DC13_RF13.npz\n",
      "/home/adrien/Documents/Programmes/Python/THESE/RF_Temp_Fit/Time_and_temp_RFHEAT_N1024_DC19_RF19.npz\n",
      "/home/adrien/Documents/Programmes/Python/THESE/RF_Temp_Fit/Time_and_temp_RFHEAT_N1024_DC20_RF20.npz\n",
      "/home/adrien/Documents/Programmes/Python/THESE/RF_Temp_Fit/Time_and_temp_RFHEAT_N1024_DC21_RF21.npz\n",
      "/home/adrien/Documents/Programmes/Python/THESE/RF_Temp_Fit/Time_and_temp_RFHEAT_N1024_DC22_RF22.npz\n",
      "/home/adrien/Documents/Programmes/Python/THESE/RF_Temp_Fit/Time_and_temp_RFHEAT_N1024_DC23_RF23.npz\n",
      "/home/adrien/Documents/Programmes/Python/THESE/RF_Temp_Fit/Time_and_temp_RFHEAT_N1024_DC24_RF24.npz\n",
      "/home/adrien/Documents/Programmes/Python/THESE/RF_Temp_Fit/Time_and_temp_RFHEAT_N1024_DC25_RF25.npz\n",
      "/home/adrien/Documents/Programmes/Python/THESE/RF_Temp_Fit/Time_and_temp_RFHEAT_N1024_DC26_RF26.npz\n",
      "/home/adrien/Documents/Programmes/Python/THESE/RF_Temp_Fit/Time_and_temp_RFHEAT_N1024_DC27_RF27.npz\n",
      "/home/adrien/Documents/Programmes/Python/THESE/RF_Temp_Fit/Time_and_temp_RFHEAT_N1024_DC28_RF28.npz\n",
      "/home/adrien/Documents/Programmes/Python/THESE/RF_Temp_Fit/Time_and_temp_RFHEAT_N1024_DC29_RF29.npz\n",
      "/home/adrien/Documents/Programmes/Python/THESE/RF_Temp_Fit/Time_and_temp_RFHEAT_N1024_DC30_RF30.npz\n",
      "/home/adrien/Documents/Programmes/Python/THESE/RF_Temp_Fit/Time_and_temp_RFHEAT_N1024_DC31_RF31.npz\n",
      "/home/adrien/Documents/Programmes/Python/THESE/RF_Temp_Fit/Time_and_temp_RFHEAT_N1024_DC32_RF32.npz\n",
      "/home/adrien/Documents/Programmes/Python/THESE/RF_Temp_Fit/Time_and_temp_RFHEAT_N1024_DC33_RF33.npz\n",
      "/home/adrien/Documents/Programmes/Python/THESE/RF_Temp_Fit/Time_and_temp_RFHEAT_N1024_DC34_RF34.npz\n",
      "/home/adrien/Documents/Programmes/Python/THESE/RF_Temp_Fit/Time_and_temp_RFHEAT_N1024_DC35_RF35.npz\n",
      "/home/adrien/Documents/Programmes/Python/THESE/RF_Temp_Fit/Time_and_temp_RFHEAT_N1024_DC36_RF36.npz\n",
      "/home/adrien/Documents/Programmes/Python/THESE/RF_Temp_Fit/Time_and_temp_RFHEAT_N1024_DC37_RF37.npz\n",
      "/home/adrien/Documents/Programmes/Python/THESE/RF_Temp_Fit/Time_and_temp_RFHEAT_N1024_DC38_RF38.npz\n"
     ]
    }
   ],
   "source": [
    "## GUI for data loading\n",
    "# Select one data file all the way down to the directories\n",
    "# SELECT Temp_SimuTypeQ_N ... .dat\n",
    "\n",
    "file_path = filedialog.askopenfilename(multiple=True) # initialdir = dir_string\n",
    "# print(file_path)\n",
    "\n",
    "time       = []\n",
    "T_aux_avg  = []\n",
    "r2_v2_rlim      = []\n",
    "\n",
    "for i,j in enumerate(file_path):\n",
    "    print(j)\n",
    "    with load(j) as data:\n",
    "        time.append(data['time'])\n",
    "        T_aux_avg.append(data['temp'])\n",
    "        r2_v2_rlim.append(data['r2_v2_rlim'])"
   ]
  },
  {
   "cell_type": "code",
   "execution_count": 480,
   "id": "3efe5f87",
   "metadata": {},
   "outputs": [
    {
     "name": "stdout",
     "output_type": "stream",
     "text": [
      "88.4032051741599\n",
      "91.99671408043952\n",
      "70.20884466891401\n",
      "1.2591462741061412\n"
     ]
    }
   ],
   "source": [
    "myRF = 24\n",
    "\n",
    "for k in range(3):\n",
    "    print(r2_v2_rlim[myRF][k+6][50]*1000) # [condition][dim][time]\n",
    "\n",
    "\n",
    "R = r2_v2_rlim[myRF][6][50]*1000\n",
    "L = r2_v2_rlim[myRF][8][50]*1000\n",
    "aws = 0\n",
    "print((R+(1.48*aws/2))/(L+1.48*aws/2))"
   ]
  },
  {
   "cell_type": "code",
   "execution_count": 481,
   "id": "a70bc22b",
   "metadata": {},
   "outputs": [],
   "source": [
    "def tanh_to10(x,x0,K,theta):\n",
    "    return 10**( K*(1+tanh(theta*(x-x0))) )\n",
    "def tanh_plus_to10(x,x0,K,theta,a,b):\n",
    "    return 10**( K*(1+tanh(theta*(x-x0))) + a*(x)+b )\n",
    "\n",
    "def gen_logi_to10(x,A,K,C,B,M,nu):\n",
    "    return 10**( A + ( K-A ) / ( C+exp(-B*(x-M)) )**(nu) )\n",
    "\n",
    "def func2_to10(t, t0, A, B,  C, D):\n",
    "    return 10**( A*(t-t0)/(C+(t-t0)**2)**D + B )\n",
    "def func2abs_to10(t, t0, A, B,  C, D):\n",
    "    return 10**( A*(t-t0)/(C+abs(t-t0))**D + B )\n",
    "def func2ter_to10(t, t0, A, B, D):\n",
    "    return 10**( A*(t-t0)**(2*D) / (1+(t-t0)**2)**D + B )\n",
    "#def func2bis_to10(t, t0, A, B,  C, D):\n",
    "#    tau = t-t0\n",
    "#    return 10**( (A-B)*(tau) / (C+(tau**2)**(D/2))**(1/D) + B )\n",
    "def func3_to10(t, t0, A, B,  C):\n",
    "    return 10**( A*(t-t0) / (C+(t-t0)**2) + B )\n",
    "def func4_to10(t, t0, A, B, C):\n",
    "    return 10**( A*(t-t0) / (C+abs(t-t0)) + B )\n",
    "def func5_to10(t, t0, A, B, C, k):\n",
    "    return 10**( A*(t-t0) / (C+abs(t-t0)**k)**(1/k) + B )\n",
    "def func6_to10(t, t0, A, C, k):\n",
    "    return 10**( A*(t-t0) / (C+abs(t-t0)**k)**(1/k) )\n",
    "def func7_to10(t, t0, A, B, k):\n",
    "    return 10**( A*(t-t0) / (1+abs(t-t0)**k)**(1/k) + B)"
   ]
  },
  {
   "cell_type": "code",
   "execution_count": 482,
   "id": "29c9b8cc",
   "metadata": {},
   "outputs": [],
   "source": [
    "def func2(t, t0, A, B,  C, D):\n",
    "    return A*(t-t0)/(C+(t-t0)**2)**D + B\n",
    "def func2abs(t, t0, A, B,  C, D):\n",
    "    return A*(t-t0)/(C+abs(t-t0))**D + B\n",
    "def func5(t, t0, A, B, C, k):\n",
    "    return A*(t-t0) / (C+abs(t-t0)**k)**(1/k) + B"
   ]
  },
  {
   "cell_type": "code",
   "execution_count": 483,
   "id": "519def5e",
   "metadata": {},
   "outputs": [],
   "source": [
    "def func_lin(t,a,b):\n",
    "    return a*t+b\n",
    "def func_exp(x,a,b):\n",
    "    return b*exp(-a*x)\n",
    "def func_pow(t,A,B):\n",
    "    return t**A * 10**B"
   ]
  },
  {
   "cell_type": "code",
   "execution_count": 486,
   "id": "cdab71ce",
   "metadata": {},
   "outputs": [],
   "source": [
    "cm = pylab.get_cmap('tab10')"
   ]
  },
  {
   "cell_type": "code",
   "execution_count": 487,
   "id": "7d4ece5e",
   "metadata": {
    "scrolled": true
   },
   "outputs": [
    {
     "name": "stdout",
     "output_type": "stream",
     "text": [
      "0 /home/adrien/Documents/Programmes/Python/THESE/RF_Temp_Fit/Time_and_temp_RFHEAT_N0256_DC05_RF05.npz\n",
      "1 /home/adrien/Documents/Programmes/Python/THESE/RF_Temp_Fit/Time_and_temp_RFHEAT_N0256_DC06_RF06.npz\n",
      "2 /home/adrien/Documents/Programmes/Python/THESE/RF_Temp_Fit/Time_and_temp_RFHEAT_N0256_DC07_RF07.npz\n",
      "3 /home/adrien/Documents/Programmes/Python/THESE/RF_Temp_Fit/Time_and_temp_RFHEAT_N0256_DC08_RF08.npz\n",
      "4 /home/adrien/Documents/Programmes/Python/THESE/RF_Temp_Fit/Time_and_temp_RFHEAT_N0256_DC09_RF09.npz\n",
      "5 /home/adrien/Documents/Programmes/Python/THESE/RF_Temp_Fit/Time_and_temp_RFHEAT_N0256_DC10_RF10.npz\n",
      "6 /home/adrien/Documents/Programmes/Python/THESE/RF_Temp_Fit/Time_and_temp_RFHEAT_N0256_DC11_RF11.npz\n",
      "7 /home/adrien/Documents/Programmes/Python/THESE/RF_Temp_Fit/Time_and_temp_RFHEAT_N0256_DC12_RF12.npz\n",
      "8 /home/adrien/Documents/Programmes/Python/THESE/RF_Temp_Fit/Time_and_temp_RFHEAT_N0256_DC13_RF13.npz\n",
      "9 /home/adrien/Documents/Programmes/Python/THESE/RF_Temp_Fit/Time_and_temp_RFHEAT_N0512_DC03_RF03.npz\n",
      "10 /home/adrien/Documents/Programmes/Python/THESE/RF_Temp_Fit/Time_and_temp_RFHEAT_N0512_DC04_RF04.npz\n",
      "11 /home/adrien/Documents/Programmes/Python/THESE/RF_Temp_Fit/Time_and_temp_RFHEAT_N0512_DC05_RF05.npz\n",
      "12 /home/adrien/Documents/Programmes/Python/THESE/RF_Temp_Fit/Time_and_temp_RFHEAT_N0512_DC06_RF06.npz\n",
      "13 /home/adrien/Documents/Programmes/Python/THESE/RF_Temp_Fit/Time_and_temp_RFHEAT_N0512_DC07_RF07.npz\n",
      "14 /home/adrien/Documents/Programmes/Python/THESE/RF_Temp_Fit/Time_and_temp_RFHEAT_N0512_DC08_RF08.npz\n",
      "15 /home/adrien/Documents/Programmes/Python/THESE/RF_Temp_Fit/Time_and_temp_RFHEAT_N0512_DC09_RF09.npz\n",
      "16 /home/adrien/Documents/Programmes/Python/THESE/RF_Temp_Fit/Time_and_temp_RFHEAT_N0512_DC10_RF10.npz\n",
      "17 /home/adrien/Documents/Programmes/Python/THESE/RF_Temp_Fit/Time_and_temp_RFHEAT_N0512_DC11_RF11.npz\n",
      "18 /home/adrien/Documents/Programmes/Python/THESE/RF_Temp_Fit/Time_and_temp_RFHEAT_N0512_DC12_RF12.npz\n",
      "19 /home/adrien/Documents/Programmes/Python/THESE/RF_Temp_Fit/Time_and_temp_RFHEAT_N0512_DC13_RF13.npz\n",
      "20 /home/adrien/Documents/Programmes/Python/THESE/RF_Temp_Fit/Time_and_temp_RFHEAT_N1024_DC05_RF05.npz\n",
      "21 /home/adrien/Documents/Programmes/Python/THESE/RF_Temp_Fit/Time_and_temp_RFHEAT_N1024_DC06_RF06.npz\n",
      "22 /home/adrien/Documents/Programmes/Python/THESE/RF_Temp_Fit/Time_and_temp_RFHEAT_N1024_DC07_RF07.npz\n",
      "23 /home/adrien/Documents/Programmes/Python/THESE/RF_Temp_Fit/Time_and_temp_RFHEAT_N1024_DC08_RF08.npz\n",
      "24 /home/adrien/Documents/Programmes/Python/THESE/RF_Temp_Fit/Time_and_temp_RFHEAT_N1024_DC09_RF09.npz\n",
      "25 /home/adrien/Documents/Programmes/Python/THESE/RF_Temp_Fit/Time_and_temp_RFHEAT_N1024_DC10_RF10.npz\n",
      "26 /home/adrien/Documents/Programmes/Python/THESE/RF_Temp_Fit/Time_and_temp_RFHEAT_N1024_DC11_RF11.npz\n",
      "27 /home/adrien/Documents/Programmes/Python/THESE/RF_Temp_Fit/Time_and_temp_RFHEAT_N1024_DC12_RF12.npz\n",
      "28 /home/adrien/Documents/Programmes/Python/THESE/RF_Temp_Fit/Time_and_temp_RFHEAT_N1024_DC13_RF13.npz\n",
      "29 /home/adrien/Documents/Programmes/Python/THESE/RF_Temp_Fit/Time_and_temp_RFHEAT_N1024_DC19_RF19.npz\n",
      "30 /home/adrien/Documents/Programmes/Python/THESE/RF_Temp_Fit/Time_and_temp_RFHEAT_N1024_DC20_RF20.npz\n",
      "31 /home/adrien/Documents/Programmes/Python/THESE/RF_Temp_Fit/Time_and_temp_RFHEAT_N1024_DC21_RF21.npz\n",
      "32 /home/adrien/Documents/Programmes/Python/THESE/RF_Temp_Fit/Time_and_temp_RFHEAT_N1024_DC22_RF22.npz\n",
      "33 /home/adrien/Documents/Programmes/Python/THESE/RF_Temp_Fit/Time_and_temp_RFHEAT_N1024_DC23_RF23.npz\n",
      "34 /home/adrien/Documents/Programmes/Python/THESE/RF_Temp_Fit/Time_and_temp_RFHEAT_N1024_DC24_RF24.npz\n",
      "35 /home/adrien/Documents/Programmes/Python/THESE/RF_Temp_Fit/Time_and_temp_RFHEAT_N1024_DC25_RF25.npz\n",
      "36 /home/adrien/Documents/Programmes/Python/THESE/RF_Temp_Fit/Time_and_temp_RFHEAT_N1024_DC26_RF26.npz\n",
      "37 /home/adrien/Documents/Programmes/Python/THESE/RF_Temp_Fit/Time_and_temp_RFHEAT_N1024_DC27_RF27.npz\n",
      "38 /home/adrien/Documents/Programmes/Python/THESE/RF_Temp_Fit/Time_and_temp_RFHEAT_N1024_DC28_RF28.npz\n",
      "39 /home/adrien/Documents/Programmes/Python/THESE/RF_Temp_Fit/Time_and_temp_RFHEAT_N1024_DC29_RF29.npz\n",
      "40 /home/adrien/Documents/Programmes/Python/THESE/RF_Temp_Fit/Time_and_temp_RFHEAT_N1024_DC30_RF30.npz\n",
      "41 /home/adrien/Documents/Programmes/Python/THESE/RF_Temp_Fit/Time_and_temp_RFHEAT_N1024_DC31_RF31.npz\n",
      "42 /home/adrien/Documents/Programmes/Python/THESE/RF_Temp_Fit/Time_and_temp_RFHEAT_N1024_DC32_RF32.npz\n",
      "43 /home/adrien/Documents/Programmes/Python/THESE/RF_Temp_Fit/Time_and_temp_RFHEAT_N1024_DC33_RF33.npz\n",
      "44 /home/adrien/Documents/Programmes/Python/THESE/RF_Temp_Fit/Time_and_temp_RFHEAT_N1024_DC34_RF34.npz\n",
      "45 /home/adrien/Documents/Programmes/Python/THESE/RF_Temp_Fit/Time_and_temp_RFHEAT_N1024_DC35_RF35.npz\n",
      "46 /home/adrien/Documents/Programmes/Python/THESE/RF_Temp_Fit/Time_and_temp_RFHEAT_N1024_DC36_RF36.npz\n",
      "47 /home/adrien/Documents/Programmes/Python/THESE/RF_Temp_Fit/Time_and_temp_RFHEAT_N1024_DC37_RF37.npz\n",
      "48 /home/adrien/Documents/Programmes/Python/THESE/RF_Temp_Fit/Time_and_temp_RFHEAT_N1024_DC38_RF38.npz\n"
     ]
    }
   ],
   "source": [
    "for i,j in enumerate(file_path):\n",
    "    print(i,j)"
   ]
  },
  {
   "cell_type": "code",
   "execution_count": 488,
   "id": "3f46f3c6",
   "metadata": {},
   "outputs": [
    {
     "name": "stdout",
     "output_type": "stream",
     "text": [
      "362341.8090998513\n"
     ]
    }
   ],
   "source": [
    "to_fit = 2\n",
    "my_try = int(file_path[to_fit][file_path[to_fit].find('DC')+2:file_path[to_fit].find('DC')+4])\n",
    "Urf = array([0, 0, 0, 0, 0, 55.35111, 57.40115, 59.45119, 61.50124, 63.55128, 65.60132, 67.65136, 69.70140, 71.75144,0, 0, 0, 0, 0,\n",
    "             64.6, 62.5, 62.83, 63.03, 63.24, 63.44, 63.86, 64.06, 64.27, 64.47, 62.7262, 62.93, 63.14, 63.34, 63.55, 63.75, 63.96, 64.16, 64.37, 65.74])\n",
    "q = array([0, 0, 0, 0, 0, 0.54, 0.56,  0.58,  0.6, 0.62,  0.64,  0.66,  0.68,  0.7, 0, 0, 0, 0, 0,\n",
    "           0.63, 0.61, 0.612, 0.614, 0.616, 0.618, 0.622, 0.624, 0.66, 0.68, 0.611, 0.613, 0.615, 0.617, 0.619, 0.621, 0.623, 0.625, 0.627, 0.629])\n",
    "Udc = array([0, 0, 0, 0, 0, 11.10109, 12.0829, 13.12915, 14.24497, 15.43671, 16.71181, 18.07917, 19.54956, 21.13623, 0, 0, 0, 0, 0,\n",
    "             16.0, 14.8, 14.95, 15.07, 15.19, 15.31, 15.56, 15.68, 15.81, 15.94, 14.89, 15.01, 15.13, 15.25, 15.37, 15.50, 15.62, 15.75, 15.87, 16.00])\n",
    "\n",
    "beta_guess = 0.423\n",
    "a = 0\n",
    "for k in range(250):\n",
    "    beta_guess = beta_continue_alamano(a,q,beta_guess)\n",
    "    beta_guess = sqrt(beta_guess)\n",
    "\n",
    "omega_z_2 = ( 2*pi*100e3 )**2 * array(Udc)\n",
    "omega_x_2 = ( beta_guess*Omega/2 )**2\n",
    "omega_r_2 = omega_x_2 - 0.5*omega_z_2\n",
    "print(sqrt(omega_r_2[my_try])/2/pi)\n",
    "\n",
    "x  = time[to_fit]-1e-3\n",
    "fs = 1/diff(x)[1]"
   ]
  },
  {
   "cell_type": "code",
   "execution_count": 435,
   "id": "5f38bf75",
   "metadata": {},
   "outputs": [
    {
     "data": {
      "text/plain": [
       "'/home/adrien/Documents/Programmes/Python/THESE/RF_Temp_Fit/Time_and_temp_RFHEAT_N0256_DC10_RF10.npz'"
      ]
     },
     "execution_count": 435,
     "metadata": {},
     "output_type": "execute_result"
    }
   ],
   "source": [
    "# import matplotlib.ticker as ticker\n",
    "file_path[5]"
   ]
  },
  {
   "cell_type": "code",
   "execution_count": 468,
   "id": "3848b36f",
   "metadata": {},
   "outputs": [
    {
     "name": "stdout",
     "output_type": "stream",
     "text": [
      "file to analyze\n",
      "> 27 /home/adrien/Documents/Programmes/Python/THESE/RF_Temp_Fit/Time_and_temp_RFHEAT_N1024_DC10_RF10.npz\n",
      "func5 [ 1.49092787e-03  2.40100613e+00 -3.58006563e-02  6.27407626e-03\n",
      "  3.86813969e-01]\n",
      "> 5 /home/adrien/Documents/Programmes/Python/THESE/RF_Temp_Fit/Time_and_temp_RFHEAT_N0256_DC10_RF10.npz\n"
     ]
    }
   ],
   "source": [
    "start_for_fit = 200\n",
    "T_crit = 0.5\n",
    "print('file to analyze')\n",
    "\n",
    "to_fit = 27 #11 19 8\n",
    "temp_to_end = 100\n",
    "\n",
    "my_try = int(file_path[to_fit][file_path[to_fit].find('DC')+2:file_path[to_fit].find('DC')+4])\n",
    "print('>',to_fit,file_path[to_fit])\n",
    "x  = time[to_fit]-1e-3\n",
    "y  = T_aux_avg[to_fit]\n",
    "\n",
    "max_f_r = sqrt(omega_r_2[my_try])/2/pi\n",
    "b, a = signal.butter(8,  max_f_r/fs*2.01)\n",
    "y_filt = signal.filtfilt(b, a, y, padlen=150)\n",
    "\n",
    "index_100K = argmin(abs(y_filt-temp_to_end))\n",
    "end_fit = index_100K\n",
    "\n",
    "t0_first_guess = x[where(min(abs(y_filt-T_crit))==abs(y_filt-T_crit))][0] # 2.5e-3\n",
    "B0 = log10(T_crit) # log10( y[where(min(abs(y-T_crit))==abs(y-T_crit))][0] )\n",
    "A0 = log10(max(y_filt[start_for_fit:end_fit]) - B0)\n",
    "\n",
    "p0 = [t0_first_guess,A0,B0,0.01,0.3]\n",
    "\n",
    "# proper fit of the smoothed curve limiter up to threshold T\n",
    "popt, pcov = curve_fit(func5, x[start_for_fit:end_fit],\n",
    "                              log10(y_filt[start_for_fit:end_fit]),\n",
    "                       p0, maxfev= 25000,\n",
    "                       bounds=((-np.inf,-np.inf,-np.inf,0,0),(np.inf,np.inf,2,1.01,1)))\n",
    "print('func5',popt)\n",
    "\n",
    "figname = 'testfitinlin0'\n",
    "figure(figname,clear='True')\n",
    "#xlim(0.8,6)\n",
    "ax2 = subplot(111)\n",
    "ax2.grid()\n",
    "ax2.semilogy(x*1e3, y ,label=r'$T$',color='C0',lw=0.3)\n",
    "ax2.semilogy(x*1e3, y_filt ,label=r'$T$ filtered',color='C1',ls=':',lw=3)\n",
    "# ax2.vlines(x[end_fit]*1e3,1e-2,150,color='k')\n",
    "\n",
    "y_fit5 = func5(x[start_for_fit:end_fit],*popt)\n",
    "ax2.semilogy(x[start_for_fit:end_fit]*1e3,10**y_fit5,color='r',ls='--',label=r'$\\psi$',lw=2)\n",
    "\n",
    "nticks = 9\n",
    "maj_loc = ticker.LogLocator(numticks=nticks)\n",
    "min_loc = ticker.LogLocator(subs='all', numticks=nticks)\n",
    "ax2.yaxis.set_major_locator(maj_loc)\n",
    "ax2.yaxis.set_minor_locator(min_loc)\n",
    "\n",
    "\n",
    "to_fit = 5 #11 19 8\n",
    "temp_to_end = 100\n",
    "my_try = int(file_path[to_fit][file_path[to_fit].find('DC')+2:file_path[to_fit].find('DC')+4])\n",
    "print('>',to_fit,file_path[to_fit])\n",
    "x  = time[to_fit]-1e-3\n",
    "y  = T_aux_avg[to_fit]\n",
    "max_f_r = sqrt(omega_r_2[my_try])/2/pi\n",
    "b, a = signal.butter(8,  max_f_r/fs*2.01)\n",
    "y_filt = signal.filtfilt(b, a, y, padlen=150)\n",
    "index_100K = argmin(abs(y_filt-temp_to_end))\n",
    "end_fit = index_100K\n",
    "t0_first_guess = x[where(min(abs(y_filt-T_crit))==abs(y_filt-T_crit))][0] # 2.5e-3\n",
    "B0 = log10(T_crit) # log10( y[where(min(abs(y-T_crit))==abs(y-T_crit))][0] )\n",
    "A0 = log10(max(y_filt[start_for_fit:end_fit]) - B0)\n",
    "p0 = [t0_first_guess,A0,B0,0.01,0.3]\n",
    "\n",
    "# proper fit of the smoothed curve limiter up to threshold T\n",
    "popt, pcov = curve_fit(func5, x[start_for_fit:end_fit],\n",
    "                              log10(y_filt[start_for_fit:end_fit]),\n",
    "                       p0, maxfev= 25000,\n",
    "                       bounds=((-np.inf,-np.inf,-np.inf,0,0),(np.inf,np.inf,2,1.01,1)))\n",
    "ax2.semilogy(x*1e3, y ,label=r'$T$',color='C0',lw=0.3)\n",
    "ax2.semilogy(x*1e3, y_filt ,label=r'$T$ filtered',color='C1',ls=':',lw=3)\n",
    "y_fit5 = func5(x[start_for_fit:end_fit],*popt)\n",
    "ax2.semilogy(x[start_for_fit:end_fit]*1e3,10**y_fit5,color='r',ls='--',label=r'$\\psi$',lw=2)\n",
    "\n",
    "ax2.text(1.50,12, '$N=1024$', fontsize=18, ha='right')\n",
    "ax2.text(3.12,12, '$N=256$', fontsize=18, ha='right')\n",
    "\n",
    "ax2.set_xlabel('t [ms]')\n",
    "ax2.set_ylabel('T [K]')\n",
    "ax2.set_xlim(-0.1,4.3)\n",
    "ax2.set_ylim(2e-3,300)\n",
    "tight_layout()\n",
    "subplots_adjust(top=0.96,\n",
    "bottom=0.18)\n",
    "\n",
    "savefig(figname+'.eps',dpi=300)"
   ]
  },
  {
   "cell_type": "code",
   "execution_count": 490,
   "id": "4c030cc6",
   "metadata": {
    "collapsed": true
   },
   "outputs": [
    {
     "name": "stdout",
     "output_type": "stream",
     "text": [
      "file to analyze\n",
      "> 0 /home/adrien/Documents/Programmes/Python/THESE/RF_Temp_Fit/Time_and_temp_RFHEAT_N0256_DC05_RF05.npz\n",
      "Data skipped\n",
      "> 1 /home/adrien/Documents/Programmes/Python/THESE/RF_Temp_Fit/Time_and_temp_RFHEAT_N0256_DC06_RF06.npz\n",
      "[ 0.18492158  3.98024056 -0.01907281  0.05201628  0.11917129]\n",
      "> 2 /home/adrien/Documents/Programmes/Python/THESE/RF_Temp_Fit/Time_and_temp_RFHEAT_N0256_DC07_RF07.npz\n",
      "[ 0.0624296   3.68041171 -0.01064436  0.04541508  0.14691474]\n",
      "> 3 /home/adrien/Documents/Programmes/Python/THESE/RF_Temp_Fit/Time_and_temp_RFHEAT_N0256_DC08_RF08.npz\n",
      "[ 0.02173407  3.5755564  -0.0690716   0.04178991  0.16086125]\n",
      "> 4 /home/adrien/Documents/Programmes/Python/THESE/RF_Temp_Fit/Time_and_temp_RFHEAT_N0256_DC09_RF09.npz\n",
      "[ 0.00737912  3.72235991 -0.14054528  0.04175378  0.16646896]\n",
      "> 5 /home/adrien/Documents/Programmes/Python/THESE/RF_Temp_Fit/Time_and_temp_RFHEAT_N0256_DC10_RF10.npz\n",
      "[ 0.00308311  2.87955577 -0.22534131  0.02164848  0.24265289]\n",
      "> 6 /home/adrien/Documents/Programmes/Python/THESE/RF_Temp_Fit/Time_and_temp_RFHEAT_N0256_DC11_RF11.npz\n",
      "[ 1.41171661e-03  2.92853060e+00 -2.65423666e-01  2.00408399e-02\n",
      "  2.53121437e-01]\n",
      "> 7 /home/adrien/Documents/Programmes/Python/THESE/RF_Temp_Fit/Time_and_temp_RFHEAT_N0256_DC12_RF12.npz\n",
      "[ 8.07618897e-04  2.41949807e+00 -3.15721614e-01  6.49517559e-03\n",
      "  3.69906061e-01]\n",
      "> 8 /home/adrien/Documents/Programmes/Python/THESE/RF_Temp_Fit/Time_and_temp_RFHEAT_N0256_DC13_RF13.npz\n",
      "[ 4.33129998e-04  2.49410466e+00 -3.59287919e-01  7.23465009e-03\n",
      "  3.48956609e-01]\n",
      "> 9 /home/adrien/Documents/Programmes/Python/THESE/RF_Temp_Fit/Time_and_temp_RFHEAT_N0512_DC03_RF03.npz\n",
      "Data skipped\n",
      "> 10 /home/adrien/Documents/Programmes/Python/THESE/RF_Temp_Fit/Time_and_temp_RFHEAT_N0512_DC04_RF04.npz\n",
      "Data skipped\n",
      "> 11 /home/adrien/Documents/Programmes/Python/THESE/RF_Temp_Fit/Time_and_temp_RFHEAT_N0512_DC05_RF05.npz\n",
      "Data skipped\n",
      "> 12 /home/adrien/Documents/Programmes/Python/THESE/RF_Temp_Fit/Time_and_temp_RFHEAT_N0512_DC06_RF06.npz\n",
      "[0.07257661 3.23527105 0.00685699 0.03935047 0.16160524]\n",
      "> 13 /home/adrien/Documents/Programmes/Python/THESE/RF_Temp_Fit/Time_and_temp_RFHEAT_N0512_DC07_RF07.npz\n",
      "[ 0.0276936   2.80700246 -0.00565224  0.02531306  0.22855998]\n",
      "> 14 /home/adrien/Documents/Programmes/Python/THESE/RF_Temp_Fit/Time_and_temp_RFHEAT_N0512_DC08_RF08.npz\n",
      "[ 0.01222754  2.58172135 -0.00803695  0.01404466  0.30657319]\n",
      "> 15 /home/adrien/Documents/Programmes/Python/THESE/RF_Temp_Fit/Time_and_temp_RFHEAT_N0512_DC09_RF09.npz\n",
      "[ 0.00415158  2.70800902 -0.04821056  0.01484881  0.30192446]\n",
      "> 16 /home/adrien/Documents/Programmes/Python/THESE/RF_Temp_Fit/Time_and_temp_RFHEAT_N0512_DC10_RF10.npz\n",
      "[ 2.02391234e-03  2.50104395e+00 -1.32203063e-01  9.56411567e-03\n",
      "  3.41924683e-01]\n",
      "> 17 /home/adrien/Documents/Programmes/Python/THESE/RF_Temp_Fit/Time_and_temp_RFHEAT_N0512_DC11_RF11.npz\n",
      "[ 1.08407674e-03  2.49624917e+00 -1.70878828e-01  8.20926774e-03\n",
      "  3.50603654e-01]\n",
      "> 18 /home/adrien/Documents/Programmes/Python/THESE/RF_Temp_Fit/Time_and_temp_RFHEAT_N0512_DC12_RF12.npz\n",
      "[ 6.89869095e-04  2.60178549e+00 -2.04230231e-01  9.55438242e-03\n",
      "  3.24903935e-01]\n",
      "> 19 /home/adrien/Documents/Programmes/Python/THESE/RF_Temp_Fit/Time_and_temp_RFHEAT_N0512_DC13_RF13.npz\n",
      "[ 2.89205577e-04  2.48666028e+00 -2.89387835e-01  5.62281754e-03\n",
      "  3.76508916e-01]\n",
      "> 20 /home/adrien/Documents/Programmes/Python/THESE/RF_Temp_Fit/Time_and_temp_RFHEAT_N1024_DC05_RF05.npz\n",
      "[0.0699226  2.66371486 0.11340809 0.02337245 0.24538119]\n",
      "> 21 /home/adrien/Documents/Programmes/Python/THESE/RF_Temp_Fit/Time_and_temp_RFHEAT_N1024_DC06_RF06.npz\n",
      "[0.03060146 2.44701342 0.0853061  0.01308305 0.32522189]\n",
      "> 22 /home/adrien/Documents/Programmes/Python/THESE/RF_Temp_Fit/Time_and_temp_RFHEAT_N1024_DC07_RF07.npz\n",
      "[0.01300411 2.37125044 0.03875457 0.01019    0.34729562]\n",
      "> 23 /home/adrien/Documents/Programmes/Python/THESE/RF_Temp_Fit/Time_and_temp_RFHEAT_N1024_DC08_RF08.npz\n",
      "[0.00624911 2.27614684 0.02078542 0.00569505 0.41258093]\n",
      "> 24 /home/adrien/Documents/Programmes/Python/THESE/RF_Temp_Fit/Time_and_temp_RFHEAT_N1024_DC09_RF09.npz\n",
      "[ 9.55118535e-04  3.40359546e+00 -5.78696428e-02  2.53791893e-02\n",
      "  2.57195920e-01]\n",
      "> 25 /home/adrien/Documents/Programmes/Python/THESE/RF_Temp_Fit/Time_and_temp_RFHEAT_N1024_DC10_RF10.npz\n",
      "[ 1.49097530e-03  2.37917939e+00 -3.43452177e-02  5.83775556e-03\n",
      "  3.94715299e-01]\n",
      "> 26 /home/adrien/Documents/Programmes/Python/THESE/RF_Temp_Fit/Time_and_temp_RFHEAT_N1024_DC11_RF11.npz\n",
      "[ 8.70900208e-04  2.45241181e+00 -7.51072568e-02  7.08427750e-03\n",
      "  3.62479643e-01]\n",
      "> 27 /home/adrien/Documents/Programmes/Python/THESE/RF_Temp_Fit/Time_and_temp_RFHEAT_N1024_DC12_RF12.npz\n",
      "[ 5.88115896e-04  2.70957727e+00 -1.10677326e-01  1.34446183e-02\n",
      "  2.77923245e-01]\n",
      "> 28 /home/adrien/Documents/Programmes/Python/THESE/RF_Temp_Fit/Time_and_temp_RFHEAT_N1024_DC13_RF13.npz\n",
      "[ 3.81050061e-04  2.41208617e+00 -1.27416443e-01  6.78948607e-03\n",
      "  3.42050905e-01]\n",
      "> 29 /home/adrien/Documents/Programmes/Python/THESE/RF_Temp_Fit/Time_and_temp_RFHEAT_N1024_DC19_RF19.npz\n",
      "[1.84709247e-03 2.90113257e+00 7.97740690e-03 1.75581727e-02\n",
      " 2.79299797e-01]\n",
      "> 30 /home/adrien/Documents/Programmes/Python/THESE/RF_Temp_Fit/Time_and_temp_RFHEAT_N1024_DC20_RF20.npz\n",
      "[0.00370658 2.30892038 0.0202646  0.00544134 0.4169748 ]\n",
      "> 31 /home/adrien/Documents/Programmes/Python/THESE/RF_Temp_Fit/Time_and_temp_RFHEAT_N1024_DC21_RF21.npz\n",
      "[0.00352007 2.26177072 0.02688662 0.00381616 0.45842474]\n",
      "> 32 /home/adrien/Documents/Programmes/Python/THESE/RF_Temp_Fit/Time_and_temp_RFHEAT_N1024_DC22_RF22.npz\n",
      "[ 1.08709915e-03  3.34172845e+00 -2.71722325e-03  2.31642993e-02\n",
      "  2.72010047e-01]\n",
      "> 33 /home/adrien/Documents/Programmes/Python/THESE/RF_Temp_Fit/Time_and_temp_RFHEAT_N1024_DC23_RF23.npz\n",
      "[0.00306246 2.30049854 0.00715777 0.00507279 0.42074224]\n",
      "> 34 /home/adrien/Documents/Programmes/Python/THESE/RF_Temp_Fit/Time_and_temp_RFHEAT_N1024_DC24_RF24.npz\n",
      "[0.00303695 2.26598653 0.00986721 0.00383493 0.45539353]\n",
      "> 35 /home/adrien/Documents/Programmes/Python/THESE/RF_Temp_Fit/Time_and_temp_RFHEAT_N1024_DC25_RF25.npz\n",
      "[1.23353403e-03 3.17878153e+00 1.12875285e-02 2.18719252e-02\n",
      " 2.67457407e-01]\n",
      "> 36 /home/adrien/Documents/Programmes/Python/THESE/RF_Temp_Fit/Time_and_temp_RFHEAT_N1024_DC26_RF26.npz\n",
      "[ 1.84800905e-03  2.26783789e+00 -3.57750126e-02  4.94984982e-03\n",
      "  4.16271127e-01]\n",
      "> 37 /home/adrien/Documents/Programmes/Python/THESE/RF_Temp_Fit/Time_and_temp_RFHEAT_N1024_DC27_RF27.npz\n",
      "[ 2.15778654e-03  2.19848787e+00 -3.22153563e-02  3.06578447e-03\n",
      "  4.70546398e-01]\n",
      "> 38 /home/adrien/Documents/Programmes/Python/THESE/RF_Temp_Fit/Time_and_temp_RFHEAT_N1024_DC28_RF28.npz\n",
      "[ 7.86749650e-04  2.01814796e+00 -1.41694238e-01  4.21424345e-04\n",
      "  6.82599211e-01]\n",
      "> 39 /home/adrien/Documents/Programmes/Python/THESE/RF_Temp_Fit/Time_and_temp_RFHEAT_N1024_DC29_RF29.npz\n",
      "[ 4.28622407e-04  2.63436811e+00 -2.00444379e-01  4.58222881e-03\n",
      "  4.62240959e-01]\n",
      "> 40 /home/adrien/Documents/Programmes/Python/THESE/RF_Temp_Fit/Time_and_temp_RFHEAT_N1024_DC30_RF30.npz\n",
      "[ 0.00339457  2.26789583 -0.00568206  0.00486879  0.42527717]\n",
      "> 41 /home/adrien/Documents/Programmes/Python/THESE/RF_Temp_Fit/Time_and_temp_RFHEAT_N1024_DC31_RF31.npz\n",
      "[ 4.58444156e-04  2.74335294e+00 -1.82766180e-01  7.15743164e-03\n",
      "  4.09828614e-01]\n",
      "> 42 /home/adrien/Documents/Programmes/Python/THESE/RF_Temp_Fit/Time_and_temp_RFHEAT_N1024_DC32_RF32.npz\n",
      "[0.00313729 2.25823839 0.0022621  0.00407768 0.44571297]\n",
      "> 43 /home/adrien/Documents/Programmes/Python/THESE/RF_Temp_Fit/Time_and_temp_RFHEAT_N1024_DC33_RF33.npz\n",
      "[0.00261107 2.24447096 0.00260988 0.00371138 0.45412015]\n",
      "> 44 /home/adrien/Documents/Programmes/Python/THESE/RF_Temp_Fit/Time_and_temp_RFHEAT_N1024_DC34_RF34.npz\n",
      "[ 1.34802306e-03  2.89450220e+00 -4.71878766e-02  1.59985232e-02\n",
      "  3.01393167e-01]\n",
      "> 45 /home/adrien/Documents/Programmes/Python/THESE/RF_Temp_Fit/Time_and_temp_RFHEAT_N1024_DC35_RF35.npz\n",
      "[ 1.21410894e-03  2.75790164e+00 -3.81142148e-02  1.56934239e-02\n",
      "  2.92494917e-01]\n",
      "> 46 /home/adrien/Documents/Programmes/Python/THESE/RF_Temp_Fit/Time_and_temp_RFHEAT_N1024_DC36_RF36.npz\n",
      "[ 2.16993308e-03  2.27893580e+00 -1.35348932e-03  3.76468783e-03\n",
      "  4.54930345e-01]\n",
      "> 47 /home/adrien/Documents/Programmes/Python/THESE/RF_Temp_Fit/Time_and_temp_RFHEAT_N1024_DC37_RF37.npz\n",
      "[ 1.91942218e-03  2.30363973e+00 -1.39077492e-02  4.64557836e-03\n",
      "  4.27243031e-01]\n",
      "> 48 /home/adrien/Documents/Programmes/Python/THESE/RF_Temp_Fit/Time_and_temp_RFHEAT_N1024_DC38_RF38.npz\n",
      "[ 1.47759824e-03  2.37487233e+00 -3.26205714e-02  5.56163247e-03\n",
      "  4.00283711e-01]\n",
      "total amount of non fitted curves 4\n"
     ]
    }
   ],
   "source": [
    "# Fit all curves\n",
    "# Smooth data temperature\n",
    "# guess first parameter set\n",
    "# fit smoothed data up to threshold temperature\n",
    "# much more consistent than below\n",
    "\n",
    "popt_smooth = np.zeros((len(file_path),5))\n",
    "temp_to_end = [100, 100, 75, 50, 50, 50, 50, 50, 50,\n",
    "               75, 75, 75, 75, 75, 75, 75, 75, 75, 75, 75,\n",
    "               100, 100, 100, 100, 100, 100, 100, 100, 75, 150, 100,\n",
    "                    100, 100, 100, 100, 100, 100, 100, 100, 100, 100, 100, 100, 100, 100, 100, 100, 100, 100] # Temperature to stop the fit\n",
    "# 100, 100, 100, 100, 100, 100, 100, 100, 100   75, 75, 75, 75, 75, 75, 75, 75, 75\n",
    "start_for_fit = 10\n",
    "T_crit = 0.5\n",
    "print('file to analyze')\n",
    "not_fitted = 0\n",
    "for to_fit in range(len(file_path)):\n",
    "    j = file_path[to_fit]\n",
    "# to_fit = 30\n",
    "# j = file_path[to_fit]\n",
    "    if to_fit!=0 and to_fit!=9 and to_fit!=10 and to_fit!=11:\n",
    "    # retrive time and temperature from the curve\n",
    "        print('>',to_fit,j)\n",
    "        my_try = int(file_path[to_fit][file_path[to_fit].find('DC')+2:file_path[to_fit].find('DC')+4])\n",
    "        x  = time[to_fit]-1e-3\n",
    "        y  = T_aux_avg[to_fit]\n",
    "\n",
    "        # Smoothing signal with zero delay shift fit\n",
    "        max_f_r = sqrt(omega_r_2[my_try])/2/pi\n",
    "        b, a = signal.butter(8,  max_f_r/fs*2.01)\n",
    "        y_filt = signal.filtfilt(b, a, y, padlen=150)\n",
    "        \n",
    "        # select index of temp where stop the fit\n",
    "        # I stop the fit when T reaches a given T\n",
    "        index_100K = argmin(abs(y_filt-temp_to_end[to_fit]))\n",
    "        end_fit = index_100K\n",
    "\n",
    "        # Fit parameters first guesses\n",
    "        t0_first_guess = x[where(min(abs(y_filt-T_crit))==abs(y_filt-T_crit))][0] # 2.5e-3\n",
    "        B0 = log10(T_crit) # log10( y[where(min(abs(y-T_crit))==abs(y-T_crit))][0] )\n",
    "        A0 = log10(max(y_filt[start_for_fit:end_fit]) - B0)\n",
    "\n",
    "        # set initial guess of fit parameters\n",
    "        p0 = [t0_first_guess,A0,B0,0.01,0.3]\n",
    "        try:\n",
    "            # proper fit of the smoothed curve limiter up to threshold T\n",
    "            popt, pcov = curve_fit(func5, x[start_for_fit:end_fit],\n",
    "                                          log10(y_filt[start_for_fit:end_fit]),\n",
    "                                   p0, maxfev= 25000,\n",
    "                                   bounds=((-np.inf,-np.inf,-np.inf,0,0),(np.inf,np.inf,2,1.01,1)))\n",
    "            print(popt)\n",
    "            popt_smooth[to_fit,:] = popt\n",
    "        except RuntimeError:\n",
    "            print('Optimal parameters not found: Number of calls to function has reached maxfev')\n",
    "            not_fitted += 1\n",
    "    else:\n",
    "        print('>',to_fit,j)\n",
    "        print('Data skipped')\n",
    "        not_fitted += 1\n",
    "    #     if to_fit == 28:\n",
    "    #         tm.sleep(5)\n",
    "    #     else:\n",
    "    #         tm.sleep(0.5)\n",
    "print('total amount of non fitted curves',not_fitted)"
   ]
  },
  {
   "cell_type": "code",
   "execution_count": 546,
   "id": "a9860a61",
   "metadata": {},
   "outputs": [
    {
     "name": "stdout",
     "output_type": "stream",
     "text": [
      "[0.00000000e+00 1.71190125e-01 5.56541245e-02 1.83171245e-02\n",
      " 5.82162450e-03 2.34662450e-03 9.71624500e-04 5.74624500e-04\n",
      " 2.86124500e-04 0.00000000e+00 0.00000000e+00 0.00000000e+00\n",
      " 6.03991245e-02 2.16131245e-02 9.15512450e-03 2.56212450e-03\n",
      " 1.11812450e-03 5.49124500e-04 3.50124500e-04 1.29624500e-04\n",
      " 4.60261245e-02 1.73616245e-02 4.73012450e-03 1.16162450e-03\n",
      " 8.01245000e-05 9.86245000e-05 1.71245000e-05 6.24500000e-07\n",
      " 6.24500000e-07 3.61624500e-04 1.70624500e-04 1.02624500e-04\n",
      " 5.31245000e-05 1.37624500e-04 2.78624500e-04 6.24500000e-07\n",
      " 6.24500000e-07 6.24500000e-07 4.96245000e-05 1.21624500e-04\n",
      " 2.16124500e-04 9.51245000e-05 2.31124500e-04 6.24500000e-07\n",
      " 2.84124500e-04 6.24500000e-07 1.71245000e-05 6.24500000e-07\n",
      " 1.25124500e-04]\n",
      "[0.         0.01373146 0.00677548 0.00341695 0.0015575  0.00073649\n",
      " 0.00044009 0.00023299 0.00014701 0.         0.         0.\n",
      " 0.01217749 0.00608048 0.00307242 0.00158946 0.00090579 0.00053495\n",
      " 0.00033974 0.00015958 0.02389647 0.01323983 0.00827399 0.00508749\n",
      " 0.00087499 0.00139235 0.00085378 0.00058749 0.00038043 0.00148547\n",
      " 0.00353596 0.00341745 0.00103397 0.00292483 0.00275833 0.00123291\n",
      " 0.00184738 0.00215716 0.00073713 0.000307   0.00317845 0.00036332\n",
      " 0.00290616 0.00261045 0.0010639  0.00121348 0.00215281 0.0019188\n",
      " 0.00135247]\n"
     ]
    }
   ],
   "source": []
  },
  {
   "cell_type": "code",
   "execution_count": 199,
   "id": "5a056d9c",
   "metadata": {},
   "outputs": [
    {
     "name": "stdout",
     "output_type": "stream",
     "text": [
      "file to analyze\n",
      "> 34 /home/adrien/Documents/Programmes/Python/THESE/RF_Temp_Fit/Time_and_temp_RFHEAT_N1024_DC24_RF24.npz\n",
      "[0.00303696 2.25705018 0.00976478 0.00367462 0.4602244 ]\n"
     ]
    }
   ],
   "source": [
    "start_for_fit = 200\n",
    "T_crit = 0.5\n",
    "print('file to analyze')\n",
    "not_fitted = 0\n",
    "# 29 and 30\n",
    "to_fit = 34\n",
    "temp_to_end = [100, 100, 75, 50, 50, 50, 50, 50, 50,\n",
    "               75, 75, 75, 75, 75, 75, 75, 75, 75, 75, 75,\n",
    "               100, 100, 100, 100, 100, 100, 100, 100, 75, 150, 100, 100, 100, 100, 100]\n",
    "j = file_path[to_fit]\n",
    "# retrive time and temperature from the curve\n",
    "print('>',to_fit,j)\n",
    "my_try = int(file_path[to_fit][file_path[to_fit].find('DC')+2:file_path[to_fit].find('DC')+4])\n",
    "x  = time[to_fit]-1e-3\n",
    "y  = T_aux_avg[to_fit]\n",
    "\n",
    "# Smoothing signal with zero delay shift fit\n",
    "max_f_r = sqrt(omega_r_2[my_try])/2/pi\n",
    "b, a = signal.butter(8,  max_f_r/fs*1.01)\n",
    "y_filt = signal.filtfilt(b, a, y, padlen=150)\n",
    "\n",
    "# Fit parameters first guesses\n",
    "t0_first_guess = x[where(min(abs(y_filt-T_crit))==abs(y_filt-T_crit))][0] # 2.5e-3\n",
    "B0 = log10(T_crit) # log10( y[where(min(abs(y-T_crit))==abs(y-T_crit))][0] )\n",
    "A0 = log10(max(y_filt[start_for_fit:end_fit]) - B0)\n",
    "\n",
    "# select index of temp where stop the fit\n",
    "# I stop the fit when T reaches a given T\n",
    "index_100K = argmin(abs(y_filt-temp_to_end[to_fit]))\n",
    "end_fit = index_100K\n",
    "\n",
    "# set initial guess of fit parameters\n",
    "p0 = [t0_first_guess,A0,B0,0.01,0.3]\n",
    "\n",
    "# proper fit of the smoothed curve limiter up to threshold T\n",
    "popt, pcov = curve_fit(func5, x[start_for_fit:end_fit],\n",
    "                              log10(y_filt[start_for_fit:end_fit]),\n",
    "                       p0, maxfev= 25000,\n",
    "                       bounds=((-np.inf,-np.inf,-np.inf,0,0),(np.inf,np.inf,2,1.01,1)))\n",
    "print(popt)\n",
    "popt_smooth[to_fit,:] = popt"
   ]
  },
  {
   "cell_type": "code",
   "execution_count": null,
   "id": "9fa445c0",
   "metadata": {},
   "outputs": [],
   "source": [
    "figure('coucou2')\n",
    "plot(array(popt_rework[1])[:,0])\n",
    "array(popt_rework[1])[:,0]"
   ]
  },
  {
   "cell_type": "code",
   "execution_count": 491,
   "id": "dea0e663",
   "metadata": {},
   "outputs": [
    {
     "name": "stdout",
     "output_type": "stream",
     "text": [
      "fit_params_0256ions\n",
      "fit_params_0512ions\n",
      "fit_params_1024ions\n"
     ]
    }
   ],
   "source": [
    "popt_rework = [popt_smooth[1:9],\n",
    "              popt_smooth[12:20], # 7:15\n",
    "              popt_smooth[20:]]\n",
    "#  3     4     5     6     7     8     9     10    11    12    13\n",
    "# 31.0, 42.0, 55.4, 57.4, 59.5, 61.5, 63.6, 65.6, 67.7, 69.7, 71.8\n",
    "#             0.54  0.56  0.58  0.6   0.62  0.64  0.66  0.68  0.7\n",
    "Urf_rework = [[57.4, 59.5, 61.5, 63.6, 65.6, 67.7, 69.7, 71.8],\n",
    "             [57.4, 59.5, 61.5, 63.6, 65.6, 67.7, 69.7, 71.8], # 57.4, 59.5, \n",
    "             [55.4, 57.4, 59.5, 61.5, 63.6, 65.6, 67.7, 69.7, 71.8,\n",
    "                      64.6, 62.5, 62.83, 63.03, 63.24, 63.44, 63.86, 64.06, 64.27, 64.47,\n",
    "                      62.7262, 62.93, 63.14, 63.34, 63.55, 63.75, 63.96, 64.16, 64.37, 65.74]]\n",
    "q_rework = [[0.56,  0.58,  0.6,   0.62,  0.64,  0.66,  0.68,  0.7],\n",
    "             [0.56,  0.58,  0.6,   0.62,  0.64,  0.66,  0.68,  0.7 ], # 57.4, 59.5, \n",
    "             [0.54, 0.56,  0.58,  0.6,   0.62,  0.64,  0.66,  0.68,  0.7,\n",
    "                      0.63, 0.61, 0.612, 0.614, 0.616, 0.618, 0.622, 0.624, 0.626, 0.628,\n",
    "                      0.611, 0.613, 0.615, 0.617, 0.619, 0.621, 0.623, 0.625, 0.627, 0.629]]\n",
    "N_rework = [256, 512, 1024]\n",
    "\n",
    "63.55, 63.75, 63.96, 64.16, 64.37, 65.74\n",
    "0.619, 0.621, 0.623, 0.625, 0.627, 0.629\n",
    "15.37, 15.50, 15.62, 15.75, 15.87, 16.00\n",
    "\n",
    "for k,l in enumerate(N_rework):\n",
    "    print(f'fit_params_{l:04d}ions')\n",
    "    np.savez( f'fit_params_{l:04d}ions', fit_param=popt_rework[k], Urf=Urf_rework[k], N=N_rework[k])\n",
    "\n",
    "# func5(t, t0, A, B, C, k)\n",
    "# with load('/home/adrien/Documents/Programmes/Python/THESE/RF_Temp_Fit/fit_params_0256ions.npz') as data:\n",
    "#     a = data['N']\n",
    "# print(a)"
   ]
  },
  {
   "cell_type": "code",
   "execution_count": 492,
   "id": "fdf893bf",
   "metadata": {},
   "outputs": [
    {
     "name": "stdout",
     "output_type": "stream",
     "text": [
      "0\n",
      "1\n",
      "2\n"
     ]
    },
    {
     "name": "stderr",
     "output_type": "stream",
     "text": [
      "/tmp/ipykernel_4864/3624443027.py:34: UserWarning: Tight layout not applied. tight_layout cannot make axes width small enough to accommodate all axes decorations\n",
      "  tight_layout()\n"
     ]
    }
   ],
   "source": [
    "figure('fit_parameters',clear=True)\n",
    "ax1 = subplot(151)\n",
    "for k in range(3):\n",
    "    print(k)\n",
    "    ax1.plot(Urf_rework[k],array(popt_rework[k])[:,0]*1e3-1,color=cm(k/10),ls=':',marker='P',label=N_rework[k])\n",
    "    ax1.set_xlabel('$U_{RF}$ [V]')\n",
    "    ax1.set_ylabel('$t_0$ [ms]')\n",
    "    ax1.grid()\n",
    "    ax1.legend(title='N',fontsize=12)\n",
    "    ax2 = subplot(152)\n",
    "    ax2.plot(Urf_rework[k],10**array(popt_rework[k])[:,1],color=cm(k/10),ls=':',marker='P',label=N_rework[k])\n",
    "    ax2.set_xlabel('$U_{RF}$ [V]')\n",
    "    ax2.set_ylabel('$10^A$ [K]')\n",
    "    ax2.grid()\n",
    "    ax2.legend(title='N',fontsize=12)\n",
    "    ax3 = subplot(153)\n",
    "    ax3.plot(Urf_rework[k],10**array(popt_rework[k])[:,2],color=cm(k/10),ls=':',marker='P',label=N_rework[k])\n",
    "    ax3.set_xlabel('$U_{RF}$ [V]')\n",
    "    ax3.set_ylabel('$10^B$ [K]')\n",
    "    ax3.grid()\n",
    "    ax3.legend(title='N',fontsize=12)\n",
    "    ax4 = subplot(154)\n",
    "    ax4.plot(Urf_rework[k],array(popt_rework[k])[:,3]*1e3,color=cm(k/10),ls=':',marker='P',label=N_rework[k])\n",
    "    ax4.set_xlabel('$U_{RF}$ [V]')\n",
    "    ax4.set_ylabel('$C$ [ms]')\n",
    "    ax4.grid()\n",
    "    ax4.legend(title='N',fontsize=12)\n",
    "    ax5 = subplot(155)\n",
    "    ax5.plot(Urf_rework[k],array(popt_rework[k])[:,4],color=cm(k/10),ls=':',marker='P',label=N_rework[k])\n",
    "    ax5.set_xlabel('$U_{RF}$ [V]')\n",
    "    ax5.set_ylabel('$k$ [1]')\n",
    "    ax5.grid()\n",
    "    ax5.legend(title='N',fontsize=12)\n",
    "tight_layout()"
   ]
  },
  {
   "cell_type": "code",
   "execution_count": 493,
   "id": "ce676d1a",
   "metadata": {},
   "outputs": [
    {
     "name": "stdout",
     "output_type": "stream",
     "text": [
      "0 [-27.4435197   -7.73221951]\n",
      "1 [-24.39164086  -7.34132479]\n"
     ]
    },
    {
     "name": "stderr",
     "output_type": "stream",
     "text": [
      "The PostScript backend does not support transparency; partially transparent artists will be rendered opaque.\n"
     ]
    }
   ],
   "source": [
    "C = []\n",
    "D = []\n",
    "x_forfit = [linspace(0.555,0.71,200),linspace(0.555,0.71,200),linspace(0.535,0.71,200)]\n",
    "figname = 'fit_parameter_t0_log'\n",
    "fig = figure(figname,clear=True)\n",
    "fig.set_size_inches(11.7, 8.3)\n",
    "ax1 = subplot(111)\n",
    "for k in range(2):\n",
    "    ax1.loglog(q_rework[k],array(popt_rework[k])[:,0]*1e3,\n",
    "                 color=cm(k/10),ls='',marker='P',ms=10,mew=1,label=N_rework[k])\n",
    "    popt, pcov = curve_fit(func_lin, log10(array(q_rework[k])),log10(array(popt_rework[k])[:,0]),maxfev= 5000)\n",
    "    print(k,popt)\n",
    "    C.append(10**popt[1])\n",
    "    D.append(popt[0])\n",
    "    ax1.loglog(x_forfit[k],func_pow(x_forfit[k],popt[0],popt[1])*1e3,\n",
    "                 ls='--',color=cm(k/10))\n",
    "    ax1.set_xlabel('$q_{x}$')\n",
    "    ax1.set_ylabel('$t_0$ [ms]')\n",
    "    ax1.grid()\n",
    "    \n",
    "ax1.loglog(q_rework[2][:9],array(popt_rework[2][:9])[:,0]*1e3,\n",
    "                 color=cm(2/10),ls='',marker='P',ms=10,mew=1,label=N_rework[2])\n",
    "popt, pcov = curve_fit(func_lin, log10(array(q_rework[2][:9])),\n",
    "                       log10(array(popt_rework[2][:9])[:,0]),\n",
    "                       maxfev= 5000)\n",
    "ax1.loglog(x_forfit[2],func_pow(x_forfit[2],popt[0],popt[1])*1e3,\n",
    "                 ls='--',color=cm(2/10))\n",
    "ax1.set_xticks([0.54,0.56,0.58,0.6,0.62,0.64,0.66,0.68,0.7])\n",
    "# ax1.set_xticklabels(rotation=45, ha='right')\n",
    "ax1.get_xaxis().set_major_formatter(matplotlib.ticker.ScalarFormatter())\n",
    "ax1.grid(visible=True, which='major', color='0.2', linestyle='-')\n",
    "ax1.grid(visible=True, which='minor', color='0.7', linestyle='--')\n",
    "ax1.legend(title='N',fontsize=18)\n",
    "tight_layout()\n",
    "\n",
    "savefig(figname+'.eps',dpi=300)\n",
    "    \n",
    "# fig = figure('fit_parameter_t0_bis',clear=True)\n",
    "# fig.set_size_inches(11.7, 8.3)\n",
    "# ax1 = subplot(111)\n",
    "# for k in range(3):\n",
    "#     ax1.plot(array(q_rework[k]),(array(popt_rework[k])[:,0]*1e3)**(-1/2),color=cm(k/4),\n",
    "#              ls=':',marker='P',ms=10,label=N_rework[k])\n",
    "#     popt, pcov = curve_fit(func_lin, array(q_rework[k]),(array(popt_rework[k])[:,0]*1e3)**(-1/2),maxfev= 15000)\n",
    "#     ax1.plot(array(q_rework[k]),func_lin(array(q_rework[k]),popt[0],popt[1]),color=cm(k/3))\n",
    "#     ax1.set_xlabel('$q_x$')\n",
    "#     ax1.set_ylabel('$t_0^{-1/2}$ [ms$^{-1/2}$]')\n",
    "#     ax1.grid()\n",
    "#     ax1.legend(title='N',fontsize=12)\n",
    "# tight_layout()"
   ]
  },
  {
   "cell_type": "code",
   "execution_count": 289,
   "id": "80b9d834",
   "metadata": {},
   "outputs": [],
   "source": [
    "import matplotlib.ticker as mticker"
   ]
  },
  {
   "cell_type": "code",
   "execution_count": 357,
   "id": "2a2582b1",
   "metadata": {},
   "outputs": [
    {
     "name": "stderr",
     "output_type": "stream",
     "text": [
      "The PostScript backend does not support transparency; partially transparent artists will be rendered opaque.\n"
     ]
    }
   ],
   "source": [
    "# Around specific values\n",
    "\n",
    "k = 2\n",
    "x = hstack((q_rework[k][4],q_rework[k][9:]))\n",
    "y = hstack((array(popt_rework[k])[:,0][4]*1e3,array(popt_rework[k])[:,0][9:]*1e3))\n",
    "\n",
    "x, y = zip(*sorted(zip(x, y)))\n",
    "figname='fit_parameter_t0_zoom'\n",
    "fig = figure(figname,clear=True)\n",
    "fig.set_size_inches(11.7, 8.3)\n",
    "ax1 = subplot(111)\n",
    "ax1.plot(x,y,\n",
    "             color=cm(k/10),ls=':',marker='P',ms=10,mew=1,label=N_rework[k])\n",
    "ax1.plot(linspace(0.61,0.63,200),func_pow(linspace(0.61,0.63,200),popt[0],popt[1])*1e3,\n",
    "                 ls='--',color=cm(2/10))\n",
    "ticks = np.linspace(0.61,0.63,11)\n",
    "ax1.set_xticks(ticks)\n",
    "ax1.xaxis.set_minor_formatter(mticker.ScalarFormatter())\n",
    "plt.xticks(rotation = 45)\n",
    "ax1.set_xlabel('$q_{x}$')\n",
    "ax1.set_ylabel('$t_0$ [ms]')\n",
    "ax1.grid()\n",
    "ax1.legend(title='N',fontsize=18)\n",
    "tight_layout()\n",
    "savefig(figname+'.eps',dpi=300)"
   ]
  },
  {
   "cell_type": "code",
   "execution_count": 314,
   "id": "2ea9720e",
   "metadata": {},
   "outputs": [
    {
     "name": "stderr",
     "output_type": "stream",
     "text": [
      "The PostScript backend does not support transparency; partially transparent artists will be rendered opaque.\n"
     ]
    }
   ],
   "source": [
    "# fig = figure('fit_parameter_B',clear=True)\n",
    "# fig.set_size_inches(11.7, 8.3)\n",
    "# ax1 = subplot(111)\n",
    "# for k in range(2):\n",
    "#     ax1.plot(Urf_rework[k],array(popt_rework[k])[:,2]*1e3,color=cm(k/5),ls=':',marker='P',ms=10,mew=1,label=N_rework[k])\n",
    "#     ax1.set_xlabel('$U_{RF}$ [V]')\n",
    "#     ax1.set_ylabel('$t_0$ [ms]')\n",
    "#     ax1.grid()\n",
    "#     ax1.legend(title='N',fontsize=12)\n",
    "# ax1.plot(Urf_rework[2],array(popt_rework[2])[:,2]*1e3,color=cm(2/5),ls=':',marker='P',ms=10,mew=1,label=N_rework[2])\n",
    "# tight_layout()\n",
    "    \n",
    "figname = 'fit_parameter_B_bis'\n",
    "fig = figure(figname,clear=True)\n",
    "fig.set_size_inches(11.7, 8.3)\n",
    "ax1 = subplot(111)\n",
    "for k in range(2):\n",
    "    ax1.plot(array(q_rework[k]),10**array(popt_rework[k])[:,2],\n",
    "             color=cm(k/10),ls='',marker='P',ms=10,label=N_rework[k])\n",
    "    popt, pcov = curve_fit(func_lin, array(q_rework[k]),(10**array(popt_rework[k])[:,2]),maxfev= 15000)\n",
    "    ax1.plot(array(q_rework[k]),func_lin(array(q_rework[k]),popt[0],popt[1]),\n",
    "             color=cm(k/10),ls='--')\n",
    "    \n",
    "ax1.plot(array(q_rework[2][:9]),10**array(popt_rework[2][:9])[:,2],\n",
    "             color=cm(2/10),ls='',marker='P',ms=10,label=N_rework[2])\n",
    "popt, pcov = curve_fit(func_lin, array(q_rework[2][:9]),(10**array(popt_rework[2][:9])[:,2]),maxfev= 15000)\n",
    "ax1.plot(array(q_rework[2][:9]),func_lin(array(q_rework[2][:9]),popt[0],popt[1]),\n",
    "         color=cm(2/10),ls='--')\n",
    "ax1.set_xlabel('$q_x$')\n",
    "ax1.set_ylabel('$B=T(t=t_0)$ [K]')\n",
    "ax1.grid()\n",
    "ax1.legend(title='N',fontsize=18)\n",
    "tight_layout()\n",
    "savefig(figname+'.eps',dpi=300)"
   ]
  },
  {
   "cell_type": "code",
   "execution_count": 356,
   "id": "ea941c2e",
   "metadata": {},
   "outputs": [
    {
     "name": "stderr",
     "output_type": "stream",
     "text": [
      "The PostScript backend does not support transparency; partially transparent artists will be rendered opaque.\n"
     ]
    }
   ],
   "source": [
    "# Around specific values\n",
    "\n",
    "k = 2\n",
    "xt = hstack((q_rework[k][4],q_rework[k][9:]))\n",
    "yt = hstack((array(popt_rework[k])[:,0][4]*1e3,array(popt_rework[k])[:,0][9:]*1e3))\n",
    "xb = hstack((q_rework[k][4],q_rework[k][9:]))\n",
    "yb = hstack((10**array(popt_rework[k])[:,2][4],10**array(popt_rework[k])[:,2][9:]))\n",
    "dummyx = linspace(0.61,0.63,200)\n",
    "\n",
    "xt, yt = zip(*sorted(zip(xt, yt)))\n",
    "xb, yb = zip(*sorted(zip(xb, yb)))\n",
    "figname='fit_parameter_B_t0_zoom'\n",
    "fig = figure(figname,clear=True)\n",
    "fig.set_size_inches(11.7, 8.3)\n",
    "ax1 = subplot(211)\n",
    "ax1.plot(xt,yt,color=cm(k/10),ls=':',marker='P',ms=10,mew=1,label=N_rework[k])\n",
    "popt, pcov = curve_fit(func_lin, log10(array(q_rework[k][:9])),\n",
    "                       log10(array(popt_rework[k][:9])[:,0]),\n",
    "                       maxfev= 5000)\n",
    "ax1.plot(dummyx,func_pow(dummyx,popt[0],popt[1])*1e3,\n",
    "                 ls='--',color=cm(k/10))\n",
    "plt.setp(ax1.get_xticklabels(),visible=False)\n",
    "ax1.set_ylabel('$t_0$ [ms]')\n",
    "ax1.grid()\n",
    "ax1.legend(title='N',fontsize=18)\n",
    "\n",
    "\n",
    "ax2 = subplot(212,sharex=ax1)\n",
    "\n",
    "ax2.plot(xb,yb,color=cm(k/10),ls=':',marker='P',ms=10,label=N_rework[2])\n",
    "popt, pcov = curve_fit(func_lin, array(q_rework[k][:9]),(10**array(popt_rework[k][:9])[:,2]),maxfev= 15000)\n",
    "ax2.plot(dummyx,func_lin(dummyx,popt[0],popt[1]),\n",
    "         color=cm(k/10),ls='--')\n",
    "ax2.set_xlabel('$q_x$')\n",
    "ax2.set_ylabel('$B=T(t=t_0)$ [K]')\n",
    "ax2.grid()\n",
    "\n",
    "ticks = np.linspace(0.61,0.63,11) # hstack((0.60,np.linspace(0.61,0.63,11),0.64)) # np.linspace(0.61,0.63,11)\n",
    "ax2.set_xticks(ticks)\n",
    "ax2.xaxis.set_minor_formatter(mticker.ScalarFormatter())\n",
    "plt.xticks(rotation = 45)\n",
    "tight_layout()\n",
    "\n",
    "subplots_adjust(hspace=0.015)\n",
    "savefig(figname+'.eps',dpi=300)"
   ]
  },
  {
   "cell_type": "markdown",
   "id": "3858ee0c",
   "metadata": {},
   "source": [
    "# Derivate study"
   ]
  },
  {
   "cell_type": "code",
   "execution_count": 170,
   "id": "690303ff",
   "metadata": {},
   "outputs": [],
   "source": [
    "c_light = 299792458\n",
    "h_pl = 6.62607015*1e-34\n",
    "h_pl_bar = h_pl/2/pi\n",
    "lam_397 = 396.84620*1e-9\n",
    "k=(2*pi)/lam_397\n",
    "gamma_SP = 21.57*1e6\n",
    "tau = 1/gamma_SP\n",
    "Omega = 2.0e6*2*pi\n",
    "tau_RF = 1/(Omega/(2*pi))"
   ]
  },
  {
   "cell_type": "code",
   "execution_count": 237,
   "id": "909b9340",
   "metadata": {},
   "outputs": [
    {
     "name": "stderr",
     "output_type": "stream",
     "text": [
      "The PostScript backend does not support transparency; partially transparent artists will be rendered opaque.\n"
     ]
    },
    {
     "name": "stdout",
     "output_type": "stream",
     "text": [
      "/home/adrien/Documents/Programmes/Python/THESE/RF_Temp_Fit/Time_and_temp_RFHEAT_N1024_DC05_RF05.npz\n",
      "/home/adrien/Documents/Programmes/Python/THESE/RF_Temp_Fit/Time_and_temp_RFHEAT_N1024_DC07_RF07.npz\n",
      "/home/adrien/Documents/Programmes/Python/THESE/RF_Temp_Fit/Time_and_temp_RFHEAT_N1024_DC09_RF09.npz\n",
      "/home/adrien/Documents/Programmes/Python/THESE/RF_Temp_Fit/Time_and_temp_RFHEAT_N1024_DC11_RF11.npz\n",
      "/home/adrien/Documents/Programmes/Python/THESE/RF_Temp_Fit/Time_and_temp_RFHEAT_N1024_DC13_RF13.npz\n"
     ]
    }
   ],
   "source": [
    "figname = 'temperature_derivate'\n",
    "fig = figure(figname,clear=True)\n",
    "fig.set_size_inches(11.7, 8.3)\n",
    "ax1 = fig.add_subplot(111)\n",
    "\n",
    "for to_fit in [20, 22, 24, 26, 28]: # to_fit = 20\n",
    "    print(file_path[to_fit])\n",
    "    my_try = int(file_path[to_fit][file_path[to_fit].find('DC')+2:file_path[to_fit].find('DC')+4])\n",
    "    x  = time[to_fit]\n",
    "    dx = diff(x)[3]\n",
    "    y  = T_aux_avg[to_fit]\n",
    "    b, a = signal.butter(8,  max_f_r/fs*1.01)\n",
    "    y_filt = signal.filtfilt(b, a, y, padlen=150)\n",
    "    y_fit = func5(y_filt,*popt_smooth[to_fit,:])\n",
    "\n",
    "    dT_dt = -1/tau*sqrt(m_Ca*y_filt/kb)*h_pl_bar*k/m_Ca\n",
    "\n",
    "    # ax1.semilogy(x*1e3,y_filt)\n",
    "    # ax1.plot(x[:-1]*1e3,diff(y_filt))\n",
    "    ax1.plot(y_filt[:-1],diff(y_filt),label=f'{q[my_try]}')\n",
    "#     ax1.plot(y_filt,-dT_dt*tau_RF*1e3,':')\n",
    "#     ax1.plot(y_filt[3:-1],diff(y_fit)[3:]/tau_RF)\n",
    "\n",
    "\n",
    "    # ax1.set_xlim(0.7,1.2)\n",
    "    # ax1.set_ylim(-0.02,0.3*1e6)\n",
    "\n",
    "ax1.set_xlim(-2,50)\n",
    "ax1.set_ylim(-1e-2,0.29)\n",
    "ax1.set_xlabel('T [K]')\n",
    "ax1.set_ylabel('H [K/RF period]')\n",
    "\n",
    "ax1.grid()\n",
    "legend(title='$q_x$, $N=1024$',loc=1)\n",
    "tight_layout()\n",
    "savefig(figname+'.eps',dpi=300)"
   ]
  },
  {
   "cell_type": "code",
   "execution_count": 236,
   "id": "b254c5e0",
   "metadata": {},
   "outputs": [
    {
     "name": "stderr",
     "output_type": "stream",
     "text": [
      "The PostScript backend does not support transparency; partially transparent artists will be rendered opaque.\n"
     ]
    },
    {
     "name": "stdout",
     "output_type": "stream",
     "text": [
      "/home/adrien/Documents/Programmes/Python/THESE/RF_Temp_Fit/Time_and_temp_RFHEAT_N1024_DC05_RF05.npz\n",
      "/home/adrien/Documents/Programmes/Python/THESE/RF_Temp_Fit/Time_and_temp_RFHEAT_N1024_DC07_RF07.npz\n",
      "/home/adrien/Documents/Programmes/Python/THESE/RF_Temp_Fit/Time_and_temp_RFHEAT_N1024_DC09_RF09.npz\n",
      "/home/adrien/Documents/Programmes/Python/THESE/RF_Temp_Fit/Time_and_temp_RFHEAT_N1024_DC11_RF11.npz\n",
      "/home/adrien/Documents/Programmes/Python/THESE/RF_Temp_Fit/Time_and_temp_RFHEAT_N1024_DC13_RF13.npz\n"
     ]
    }
   ],
   "source": [
    "figname = 'temperature_derivate_from_fit'\n",
    "fig = figure(figname,clear=True)\n",
    "fig.set_size_inches(11.7, 8.3)\n",
    "ax1 = fig.add_subplot(111)\n",
    "\n",
    "for to_fit in [20, 22, 24, 26, 28]: # to_fit = 20\n",
    "    print(file_path[to_fit])\n",
    "    my_try = int(file_path[to_fit][file_path[to_fit].find('DC')+2:file_path[to_fit].find('DC')+4])\n",
    "    x  = time[to_fit]\n",
    "    dx = diff(x)[3]\n",
    "    y  = T_aux_avg[to_fit]\n",
    "    b, a = signal.butter(8,  max_f_r/fs*1.01)\n",
    "    y_filt = signal.filtfilt(b, a, y, padlen=150)\n",
    "    y_fit = func5(y_filt,*popt_smooth[to_fit,:])\n",
    "\n",
    "    dT_dt = -1/tau*sqrt(m_Ca*y_filt/kb)*h_pl_bar*k/m_Ca\n",
    "\n",
    "    # ax1.semilogy(x*1e3,y_filt)\n",
    "    # ax1.plot(x[:-1]*1e3,diff(y_filt))\n",
    "#     ax1.plot(y_filt[:-1],diff(y_filt),label=f'{q[my_try]}')\n",
    "#     ax1.plot(y_filt,-dT_dt*tau_RF*1e3,':')\n",
    "    ax1.plot(y_filt[500:-1],diff(y_fit)[500:],label=f'{q[my_try]}')\n",
    "\n",
    "\n",
    "    # ax1.set_xlim(0.7,1.2)\n",
    "    # ax1.set_ylim(-0.02,0.3*1e6)\n",
    "\n",
    "ax1.set_xlim(-0.1,6)\n",
    "ax1.set_ylim(-1e-3,0.015)\n",
    "ax1.set_xlabel('T [K]')\n",
    "ax1.set_ylabel('H [K/RF period]')\n",
    "\n",
    "ax1.grid()\n",
    "legend(title='$q_x$, $N=1024$',loc=1)\n",
    "tight_layout()\n",
    "savefig(figname+'.eps',dpi=300)"
   ]
  },
  {
   "cell_type": "code",
   "execution_count": 101,
   "id": "b269d9bb",
   "metadata": {},
   "outputs": [
    {
     "data": {
      "text/plain": [
       "array([2.25584001, 2.37644654, 2.43392399, ..., 3.27482747, 3.27932565,\n",
       "       3.28333695])"
      ]
     },
     "execution_count": 101,
     "metadata": {},
     "output_type": "execute_result"
    }
   ],
   "source": []
  },
  {
   "cell_type": "markdown",
   "id": "45448b11",
   "metadata": {},
   "source": [
    "# From fluo-variations_optimal-temp.ipynb"
   ]
  },
  {
   "cell_type": "markdown",
   "id": "3cef85a5",
   "metadata": {},
   "source": [
    "# Functions used to describe ions\n",
    "\n",
    "$\\texttt{MB}$ is the Maxwell-Boltzmann distribution. It provides the probability to find an atom with a given velocity in a gas with temperature T.\n",
    "\n",
    "$\\texttt{pfl_dop} = \\rho_{ee}$ is the atomic ray profile with Doppler effect. It provides the probability of excitation given Rabi frequency, detuning, lambda and velocity of atom. It is considered equal to the excited population, i.e the proportion of excited atoms.\n",
    "\n",
    "$ \\texttt{MB} = \\sqrt{\\frac{m}{2\\pi k_BT}}\\exp{-\\frac{mv^2}{2k_BT}}$\n",
    "\n",
    "$\\texttt{pfl_dop} = \\rho_{ee} = \\frac{0.25\\Omega_R^2}{0.5\\Omega_R^2 + 0.25\\Gamma^2 + \\Delta^2} = \\frac{A/2}{A+B + \\Delta^2}$"
   ]
  },
  {
   "cell_type": "code",
   "execution_count": null,
   "id": "cc5dcc84",
   "metadata": {},
   "outputs": [],
   "source": [
    "# Doppler profile\n",
    "def pfl_dop(v, delta, k, Rab, Gam):\n",
    "    return .25*Rab**2/(0.5*Rab**2+.25*Gam**2+(delta-k*v)**2)\n",
    "\n",
    "# Maxwell-Boltzmann distribution\n",
    "def MB(v, T):\n",
    "    kb = 1.38e-23\n",
    "    m_Ca = 40*1.66e-27\n",
    "    return (m_Ca/(np.pi*2*kb*T))**(1/2) * np.exp(-m_Ca*v**2/(2*kb*T)) # **1 car vitesse par rapport au laser compte seulement (1D)\n",
    "\n",
    "# Probabilities product\n",
    "# For a range of velocities,\n",
    "# compute the prob_fluo\n",
    "# for a given T, delta, Rab, Gam\n",
    "def prob_fluo(vmin, vmax, nv, T, delta, k, Rab, Gam):\n",
    "    nu = k*np.linspace(vmin, vmax, nv)\n",
    "    return nu, pfl_dop(-nu/k, delta, k, Rab, Gam)*MB(nu/k, T)\n",
    "\n",
    "def T_lim(delta):\n",
    "    return -0.5*hbar*Gam**2*(1+(2*delta/Gam)**2) / (4*delta)/kb"
   ]
  },
  {
   "cell_type": "code",
   "execution_count": null,
   "id": "56e16e9a",
   "metadata": {},
   "outputs": [],
   "source": [
    "# Laser parameters\n",
    "k = 15826663 # m^-1\n",
    "Gam = 21570000.0 *2*pi\n",
    "delta = Gam\n",
    "lam = 397e-9 # m\n",
    "I = 170 # W/m²"
   ]
  },
  {
   "cell_type": "markdown",
   "id": "dd3c040a",
   "metadata": {},
   "source": [
    "# Fluorescence\n",
    "\n",
    "For a single ion the fluorescence $F \\propto \\rho$. For an ensemble of ions, the fluorescence F is related to the product of both probabilities $ F \\propto \\texttt{MB} \\times \\texttt{pfl_dop} = \\texttt{prob_fluo}$. Maxwell-Boltzmann is not necessarily the best to describe the cold crystal ensemble but lets use it. This product is still a probability, lets call it $P$. $dP/dT = 0$ gives us the temperature for which the fluo is maximum, $d^2P/dT^2 = 0$ gives us the temperature for which the fluorescence variation  $dP/dT$ is maximum.\n",
    "\n",
    "### Analytically with $\\rho$\n",
    "\n",
    "$\\frac{d\\rho}{dv} = \\frac{A}{2}\\frac{2\\sqrt{z}}{(C+z)^2}, z=(\\delta-v)^2, C = A + B$\n",
    "\n",
    "$\\frac{d^2\\rho}{dv^2} = \\frac{f}{g} = [-2(C+z)^2 + 8z(C+z)]\\frac{A}{2(\\dots)^4}$\n",
    "\n",
    "The idea is to search for the setting where the variation of fluorescence is the highest for a given input in energy. The energy introduced by the GiantMolecule is brought under the form of thermal energy. Thus we want to set the cloud in a configuration with the best variation of fluorescence for a variation in temperature. There are two ways of achieving this. Considering infinitesimal differences, this requires to compute $\\frac{d^2\\rho}{dv^2} = 0$.\n",
    "\n",
    "$\\frac{d^2\\rho}{dv^2} = 0 \\Rightarrow f = 0 \\Rightarrow z = \\frac{1}{3}C \\Rightarrow \\delta - v = \\pm \\sqrt{\\frac{C}{3}} = \\pm \\sqrt{\\frac{A+B}{3}} $\n",
    "\n",
    "Considering the thermal velocity $v = \\sqrt{2k_BT/m}$ it is possible to rewrite $v = \\delta - z$  as $2k_BT/m = (\\delta - z)^2$ then $T = \\frac{m(\\delta - z)^2}{(2k_B)}\\frac{1}{k^2}$ \n",
    "\n",
    "The above computation is done just below"
   ]
  },
  {
   "cell_type": "code",
   "execution_count": null,
   "id": "f9aee421",
   "metadata": {},
   "outputs": [],
   "source": [
    "# Plot the MBxpfl-dop vs Temperature\n",
    "\n",
    "N = N_rework[2]\n",
    "\n",
    "Tmin = .0005\n",
    "Tmax = 10\n",
    "vmin = sqrt(2*kb*Tmin/m_Ca)\n",
    "vmax = sqrt(2*kb*Tmax/m_Ca)\n",
    "nu = -k*np.linspace(vmin,vmax,1000)\n",
    "dv = mean(diff(nu))/k\n",
    "\n",
    "Rab = Gam # or np.sqrt(3*lam**3*Gam/(4*np.pi**2*hbar*c) * I) \n",
    "\n",
    "vmoins = -20\n",
    "vplus = 20\n",
    "nv = 1000\n",
    "dv = (vplus-vmoins)/nv\n",
    "\n",
    "pfl0 = []\n",
    "pfl05 = []\n",
    "pfl1 = []\n",
    "pfl2 = []\n",
    "\n",
    "Temps = linspace(0.005,10,1000)\n",
    "for T in Temps:\n",
    "    pfl0.append( sum(prob_fluo(vmoins, vplus, nv, T, 0, k, Rab, Gam)[1])*dv*Gam * N )\n",
    "    pfl05.append( sum(prob_fluo(vmoins, vplus, nv, T, -Gam/2, k, Rab, Gam)[1])*dv*Gam * N )\n",
    "    pfl1.append( sum(prob_fluo(vmoins, vplus, nv, T, -Gam, k, Rab, Gam)[1])*dv*Gam * N )\n",
    "    pfl2.append( sum(prob_fluo(vmoins, vplus, nv, T, Gam, k, Rab, Gam)[1])*dv*Gam * N )\n",
    "# pfl3 = pfl_dop(nu/k, +3*Gam, k, Rab, Gam)\n",
    "\n",
    "fig = plt.figure('MBxDop prof fluo tot',clear='True')\n",
    "fig.set_size_inches(11.7, 8.3)\n",
    "ax = fig.add_subplot(111)\n",
    "\n",
    "ax.plot(Temps, array(pfl0)*1e-9, '-',color='xkcd:green',label=r'$\\delta = 0$')\n",
    "ax.plot(Temps, array(pfl05)*1e-9, ':',color='xkcd:black',label=r'$\\delta = -\\Gamma/2$')\n",
    "ax.plot(Temps, array(pfl2)*1e-9, '-',color='xkcd:blue',label=r'$\\delta = \\Gamma$')\n",
    "ax.plot(Temps, array(pfl1)*1e-9, '--',color='xkcd:red',label=r'$\\delta = -\\Gamma$')\n",
    "# ax.plot((nu/k)**2*m_Ca/2/kb, pfl3, '-',color='xkcd:black',label=r'$\\delta = \\Gamma$')\n",
    "\n",
    "ax.hlines((pfl2[0]-sqrt(pfl2[0]))*1e-9,0,1,color='xkcd:red',ls=':',lw = 3)\n",
    "ax.hlines((pfl2[0]+sqrt(pfl2[0]))*1e-9,0,1,color='xkcd:red',ls=':',lw = 3)\n",
    "# ax.hlines(pfl0[0]-sqrt(pfl0[0]),0,0.1,color='xkcd:green',ls=':',lw = 3)\n",
    "# ax.hlines(pfl05[0]-sqrt(pfl05[0]),0,0.1,color='xkcd:blue',ls=':',lw = 3)\n",
    "\n",
    "\n",
    "ax.set_xlabel(r'T [K]')\n",
    "ax.set_ylabel(r'Fluorescence $F$ [kcts/µs]')\n",
    "ax.set_xlim(-0.02,2.22)\n",
    "# ax.set_ylim(12,46)\n",
    "\n",
    "ax.grid()\n",
    "ax.legend(title='detuning',loc=1,fontsize=15)\n",
    "\n",
    "plt.tight_layout()\n",
    "# subplots_adjust(top=0.96,\n",
    "# bottom=0.135,\n",
    "# left=0.115,\n",
    "# right=0.965,\n",
    "# hspace=0.2,\n",
    "# wspace=0.2)"
   ]
  },
  {
   "cell_type": "code",
   "execution_count": null,
   "id": "6f92de2a",
   "metadata": {},
   "outputs": [],
   "source": [
    "fig = plt.figure('d/dt MBxDop prof fluo tot',clear='True')\n",
    "fig.set_size_inches(11.7, 8.3)\n",
    "ax = fig.add_subplot(111)\n",
    "\n",
    "ax.plot(Temps[:-1], diff(array(pfl0))*1e-9, '-',color='xkcd:green',label=r'$\\delta = 0$')\n",
    "ax.plot(Temps[:-1], diff(array(pfl05))*1e-9, ':',color='xkcd:black',label=r'$\\delta = -\\Gamma/2$')\n",
    "ax.plot(Temps[:-1], diff(array(pfl1))*1e-9, '--',color='xkcd:red',label=r'$\\delta = -\\Gamma$')\n",
    "ax.grid()\n",
    "ax.set_xlim(0,1)\n",
    "ax.legend(title='detuning',loc=1,fontsize=15)"
   ]
  },
  {
   "cell_type": "markdown",
   "id": "43441a25",
   "metadata": {},
   "source": [
    "# alpha variation"
   ]
  },
  {
   "cell_type": "code",
   "execution_count": 364,
   "id": "4f3bf8c9",
   "metadata": {},
   "outputs": [
    {
     "name": "stdout",
     "output_type": "stream",
     "text": [
      "/home/adrien/Documents/Programmes/Python/THESE/RF_Temp_Fit/Time_and_temp_RFHEAT_cloudvar_N1024_DC00_RF00.npz\n",
      "/home/adrien/Documents/Programmes/Python/THESE/RF_Temp_Fit/Time_and_temp_RFHEAT_cloudvar_N1024_DC03_RF03.npz\n",
      "/home/adrien/Documents/Programmes/Python/THESE/RF_Temp_Fit/Time_and_temp_RFHEAT_cloudvar_N1024_DC06_RF06.npz\n",
      "/home/adrien/Documents/Programmes/Python/THESE/RF_Temp_Fit/Time_and_temp_RFHEAT_cloudvar_N1024_DC09_RF09.npz\n"
     ]
    }
   ],
   "source": [
    "## GUI for data loading\n",
    "# Select one data file all the way down to the directories\n",
    "# SELECT Temp_SimuTypeQ_N ... .dat\n",
    "\n",
    "file_path = filedialog.askopenfilename(multiple=True) # initialdir = dir_string\n",
    "# print(file_path)\n",
    "\n",
    "time       = []\n",
    "T_aux_avg  = []\n",
    "r2_v2_rlim      = []\n",
    "\n",
    "for i,j in enumerate(file_path):\n",
    "    print(j)\n",
    "    with load(j) as data:\n",
    "        time.append(data['time'])\n",
    "        T_aux_avg.append(data['temp'])\n",
    "        r2_v2_rlim.append(data['r2_v2_rlim'])"
   ]
  },
  {
   "cell_type": "code",
   "execution_count": 367,
   "id": "e36e2c87",
   "metadata": {},
   "outputs": [
    {
     "name": "stdout",
     "output_type": "stream",
     "text": [
      "402904.7794033073\n"
     ]
    }
   ],
   "source": [
    "to_fit = 2\n",
    "my_try = int(file_path[to_fit][file_path[to_fit].find('DC')+2:file_path[to_fit].find('DC')+4])\n",
    "Urf = array([65.70, 0, 0, 65.70,0, 0,  65.70, 0, 0, 65.70])\n",
    "q = array([0.64, 0, 0, 0.64, 0, 0, 0.64, 0, 0, 0.64])\n",
    "Udc = array([10.027, 0, 0, 13.848, 0, 0, 17.669, 0, 0, 21.49])\n",
    "# alpha = [0.49999436, 0.76323903, 1.08844661, 1.50041269] approx !!\n",
    "\n",
    "beta_guess = 0.423\n",
    "a = 0\n",
    "for k in range(250):\n",
    "    beta_guess = beta_continue_alamano(a,q,beta_guess)\n",
    "    beta_guess = sqrt(beta_guess)\n",
    "\n",
    "omega_z_2 = ( 2*pi*100e3 )**2 * array(Udc)\n",
    "omega_x_2 = ( beta_guess*Omega/2 )**2\n",
    "omega_r_2 = omega_x_2 - 0.5*omega_z_2\n",
    "print(sqrt(omega_r_2[my_try])/2/pi)\n",
    "\n",
    "x  = time[to_fit]-1e-3\n",
    "fs = 1/diff(x)[1]"
   ]
  },
  {
   "cell_type": "code",
   "execution_count": 408,
   "id": "cc32e692",
   "metadata": {},
   "outputs": [
    {
     "name": "stdout",
     "output_type": "stream",
     "text": [
      "[0.7062060995177023, 0.9885628558969654, 1.4777503483321646, 2.2062633702148275]\n"
     ]
    }
   ],
   "source": [
    "alpha = []\n",
    "for myRF in range(4):\n",
    "    R1 = r2_v2_rlim[myRF][6][50]*1000\n",
    "    R2 = r2_v2_rlim[myRF][6][50]*1000\n",
    "    L = r2_v2_rlim[myRF][8][50]*1000\n",
    "    alpha.append((R1+R2)/(2*L))\n",
    "# aws = 0\n",
    "# print((R+(1.48*aws/2))/(L+1.48*aws/2))\n",
    "print(alpha)"
   ]
  },
  {
   "cell_type": "code",
   "execution_count": 399,
   "id": "163bead1",
   "metadata": {},
   "outputs": [
    {
     "name": "stdout",
     "output_type": "stream",
     "text": [
      "file to analyze\n",
      "> 0 /home/adrien/Documents/Programmes/Python/THESE/RF_Temp_Fit/Time_and_temp_RFHEAT_cloudvar_N1024_DC00_RF00.npz\n",
      "func5 [ 1.49180305e-03  2.43910862e+00 -1.09107671e-01  6.68863539e-03\n",
      "  3.76309163e-01]\n"
     ]
    }
   ],
   "source": [
    "start_for_fit = 200\n",
    "T_crit = 0.5\n",
    "print('file to analyze')\n",
    "\n",
    "to_fit = 0 #11 19 8\n",
    "temp_to_end = 75\n",
    "\n",
    "my_try = int(file_path[to_fit][file_path[to_fit].find('DC')+2:file_path[to_fit].find('DC')+4])\n",
    "print('>',to_fit,file_path[to_fit])\n",
    "x  = time[to_fit]-1e-3\n",
    "y  = T_aux_avg[to_fit]\n",
    "\n",
    "max_f_r = sqrt(omega_r_2[my_try])/2/pi\n",
    "b, a = signal.butter(8,  max_f_r/fs*1.01)\n",
    "y_filt = signal.filtfilt(b, a, y, padlen=150)\n",
    "\n",
    "index_100K = argmin(abs(y_filt-temp_to_end))\n",
    "end_fit = index_100K\n",
    "\n",
    "t0_first_guess = x[where(min(abs(y_filt-T_crit))==abs(y_filt-T_crit))][0] # 2.5e-3\n",
    "B0 = log10(T_crit) # log10( y[where(min(abs(y-T_crit))==abs(y-T_crit))][0] )\n",
    "A0 = log10(max(y_filt[start_for_fit:end_fit]) - B0)\n",
    "\n",
    "\n",
    "\n",
    "p0 = [t0_first_guess,A0,B0,0.01,0.3]\n",
    "\n",
    "# proper fit of the smoothed curve limiter up to threshold T\n",
    "popt, pcov = curve_fit(func5, x[start_for_fit:end_fit],\n",
    "                              log10(y_filt[start_for_fit:end_fit]),\n",
    "                       p0, maxfev= 25000,\n",
    "                       bounds=((-np.inf,-np.inf,-np.inf,0,0),(np.inf,np.inf,2,1.01,1)))\n",
    "print('func5',popt)\n",
    "\n",
    "figname = 'testfitinlin0'\n",
    "figure(figname,clear='True')\n",
    "#xlim(0.8,6)\n",
    "ax2 = subplot(111)\n",
    "ax2.grid()\n",
    "ax2.semilogy(x*1e3, y ,label=r'$T$',color='C0',lw=0.3)\n",
    "ax2.semilogy(x*1e3, y_filt ,label=r'$T$ filtered',color='C1',ls=':',lw=3)\n",
    "ax2.vlines(x[end_fit]*1e3,1e-2,150,color='k')\n",
    "\n",
    "y_fit5 = func5(x[start_for_fit:end_fit],*popt)\n",
    "ax2.semilogy(x[start_for_fit:end_fit]*1e3,10**y_fit5,color='r',ls='--',label=r'$\\psi$',lw=2)\n",
    "\n",
    "nticks = 9\n",
    "maj_loc = ticker.LogLocator(numticks=nticks)\n",
    "min_loc = ticker.LogLocator(subs='all', numticks=nticks)\n",
    "ax2.yaxis.set_major_locator(maj_loc)\n",
    "ax2.yaxis.set_minor_locator(min_loc)\n",
    "\n",
    "ax2.set_xlabel('t [ms]')\n",
    "ax2.set_ylabel('T [K]')\n",
    "# ax2.set_xlim(-0.3,5.6)\n",
    "# ax2.set_ylim(2e-3,300)\n",
    "tight_layout()\n",
    "# savefig(figname+'.eps',dpi=300)"
   ]
  },
  {
   "cell_type": "code",
   "execution_count": 409,
   "id": "6b184e28",
   "metadata": {},
   "outputs": [
    {
     "data": {
      "text/plain": [
       "('/home/adrien/Documents/Programmes/Python/THESE/RF_Temp_Fit/Time_and_temp_RFHEAT_cloudvar_N1024_DC00_RF00.npz',\n",
       " '/home/adrien/Documents/Programmes/Python/THESE/RF_Temp_Fit/Time_and_temp_RFHEAT_cloudvar_N1024_DC03_RF03.npz',\n",
       " '/home/adrien/Documents/Programmes/Python/THESE/RF_Temp_Fit/Time_and_temp_RFHEAT_cloudvar_N1024_DC06_RF06.npz',\n",
       " '/home/adrien/Documents/Programmes/Python/THESE/RF_Temp_Fit/Time_and_temp_RFHEAT_cloudvar_N1024_DC09_RF09.npz')"
      ]
     },
     "execution_count": 409,
     "metadata": {},
     "output_type": "execute_result"
    }
   ],
   "source": [
    "file_path"
   ]
  },
  {
   "cell_type": "code",
   "execution_count": null,
   "id": "ab2fca20",
   "metadata": {},
   "outputs": [],
   "source": [
    "coucou = 'tonfichier.txt'.readline()\n",
    "len(coucou)"
   ]
  },
  {
   "cell_type": "code",
   "execution_count": 404,
   "id": "c1976c9d",
   "metadata": {},
   "outputs": [
    {
     "name": "stdout",
     "output_type": "stream",
     "text": [
      "file to analyze\n",
      "> 0 /home/adrien/Documents/Programmes/Python/THESE/RF_Temp_Fit/Time_and_temp_RFHEAT_cloudvar_N1024_DC00_RF00.npz\n",
      "[ 1.49179243e-03  2.44323142e+00 -1.09236842e-01  6.76962075e-03\n",
      "  3.75013005e-01]\n",
      "> 1 /home/adrien/Documents/Programmes/Python/THESE/RF_Temp_Fit/Time_and_temp_RFHEAT_cloudvar_N1024_DC03_RF03.npz\n",
      "[ 1.54251635e-03  2.20628510e+00 -7.52750030e-02  2.85780558e-03\n",
      "  4.67233024e-01]\n",
      "> 2 /home/adrien/Documents/Programmes/Python/THESE/RF_Temp_Fit/Time_and_temp_RFHEAT_cloudvar_N1024_DC06_RF06.npz\n",
      "[ 1.34606234e-03  2.16032454e+00 -4.05022708e-02  1.99220415e-03\n",
      "  5.11707250e-01]\n",
      "> 3 /home/adrien/Documents/Programmes/Python/THESE/RF_Temp_Fit/Time_and_temp_RFHEAT_cloudvar_N1024_DC09_RF09.npz\n",
      "[ 9.63454701e-04  2.26542042e+00 -7.60747586e-02  4.63993558e-03\n",
      "  4.16054539e-01]\n",
      "total amount of non fitted curves 0\n"
     ]
    }
   ],
   "source": [
    "# Fit all curves\n",
    "# Smooth data temperature\n",
    "# guess first parameter set\n",
    "# fit smoothed data up to threshold temperature\n",
    "# much more consistent than below\n",
    "\n",
    "popt_smooth = np.zeros((len(file_path),5))\n",
    "temp_to_end = [75, 75, 75, 75] # Temperature to stop the fit\n",
    "# 100, 100, 100, 100, 100, 100, 100, 100, 100   75, 75, 75, 75, 75, 75, 75, 75, 75\n",
    "start_for_fit = 200\n",
    "T_crit = 0.5\n",
    "print('file to analyze')\n",
    "not_fitted = 0\n",
    "for to_fit in range(len(file_path)):\n",
    "    j = file_path[to_fit]\n",
    "# retrive time and temperature from the curve\n",
    "    print('>',to_fit,j)\n",
    "    my_try = int(file_path[to_fit][file_path[to_fit].find('DC')+2:file_path[to_fit].find('DC')+4])\n",
    "    x  = time[to_fit]-1e-3\n",
    "    y  = T_aux_avg[to_fit]\n",
    "\n",
    "    # Smoothing signal with zero delay shift fit\n",
    "    max_f_r = sqrt(omega_r_2[my_try])/2/pi\n",
    "    b, a = signal.butter(8,  max_f_r/fs*2.01)\n",
    "    y_filt = signal.filtfilt(b, a, y, padlen=150)\n",
    "\n",
    "    # select index of temp where stop the fit\n",
    "    # I stop the fit when T reaches a given T\n",
    "    index_100K = argmin(abs(y_filt-temp_to_end[to_fit]))\n",
    "    end_fit = index_100K\n",
    "\n",
    "    # Fit parameters first guesses\n",
    "    t0_first_guess = x[where(min(abs(y_filt-T_crit))==abs(y_filt-T_crit))][0] # 2.5e-3\n",
    "    B0 = log10(T_crit) # log10( y[where(min(abs(y-T_crit))==abs(y-T_crit))][0] )\n",
    "    A0 = log10(max(y_filt[start_for_fit:end_fit]) - B0)\n",
    "\n",
    "    # set initial guess of fit parameters\n",
    "    p0 = [t0_first_guess,A0,B0,0.01,0.3]\n",
    "\n",
    "    # proper fit of the smoothed curve limiter up to threshold T\n",
    "    popt, pcov = curve_fit(func5, x[start_for_fit:end_fit],\n",
    "                                  log10(y_filt[start_for_fit:end_fit]),\n",
    "                           p0, maxfev= 25000,\n",
    "                           bounds=((-np.inf,-np.inf,-np.inf,0,0),(np.inf,np.inf,2,1.01,1)))\n",
    "    print(popt)\n",
    "    popt_smooth[to_fit,:] = popt\n",
    "\n",
    "print('total amount of non fitted curves',not_fitted)"
   ]
  },
  {
   "cell_type": "code",
   "execution_count": 405,
   "id": "f61fcf37",
   "metadata": {},
   "outputs": [],
   "source": [
    "q_rework = [0.64, 0.64, 0.64, 0.64]\n",
    "figure('fit_parameters',clear=True)\n",
    "ax1 = subplot(151)\n",
    "ax1.plot(alpha,array(popt_smooth)[:,0]*1e3-1,color=cm(6/10),ls=':',marker='P',label=N_rework[2])\n",
    "ax1.set_xlabel(r'$\\alpha $')\n",
    "ax1.set_ylabel('$t_0$ [ms]')\n",
    "ax1.grid()\n",
    "ax1.legend(title='N',fontsize=12)\n",
    "ax2 = subplot(152)\n",
    "ax2.plot(alpha,10**array(popt_smooth)[:,1],color=cm(6/10),ls=':',marker='P',label=N_rework[2])\n",
    "ax2.set_xlabel(r'$\\alpha $')\n",
    "ax2.set_ylabel('$10^A$ [K]')\n",
    "ax2.grid()\n",
    "ax2.legend(title='N',fontsize=12)\n",
    "ax3 = subplot(153)\n",
    "ax3.plot(alpha,10**array(popt_smooth)[:,2],color=cm(6/10),ls=':',marker='P',label=N_rework[2])\n",
    "ax3.set_xlabel(r'$\\alpha $')\n",
    "ax3.set_ylabel('$10^B$ [K]')\n",
    "ax3.grid()\n",
    "ax3.legend(title='N',fontsize=12)\n",
    "ax4 = subplot(154)\n",
    "ax4.plot(alpha,array(popt_smooth)[:,3]*1e3,color=cm(6/10),ls=':',marker='P',label=N_rework[2])\n",
    "ax4.set_xlabel(r'$\\alpha $')\n",
    "ax4.set_ylabel('$C$ [ms]')\n",
    "ax4.grid()\n",
    "ax4.legend(title='N',fontsize=12)\n",
    "ax5 = subplot(155)\n",
    "ax5.plot(alpha,array(popt_smooth)[:,4],color=cm(6/10),ls=':',marker='P',label=N_rework[2])\n",
    "ax5.set_xlabel(r'$\\alpha $')\n",
    "ax5.set_ylabel('$k$ [1]')\n",
    "ax5.grid()\n",
    "ax5.legend(title='N',fontsize=12)\n",
    "tight_layout()"
   ]
  },
  {
   "cell_type": "code",
   "execution_count": 407,
   "id": "8fdc9ca7",
   "metadata": {},
   "outputs": [
    {
     "data": {
      "text/plain": [
       "[0.7062060995177023,\n",
       " 0.9885628558969654,\n",
       " 1.4777503483321646,\n",
       " 2.2062633702148275]"
      ]
     },
     "execution_count": 407,
     "metadata": {},
     "output_type": "execute_result"
    }
   ],
   "source": [
    "alpha"
   ]
  },
  {
   "cell_type": "code",
   "execution_count": 410,
   "id": "73ed5f6e",
   "metadata": {},
   "outputs": [
    {
     "name": "stderr",
     "output_type": "stream",
     "text": [
      "The PostScript backend does not support transparency; partially transparent artists will be rendered opaque.\n"
     ]
    },
    {
     "name": "stdout",
     "output_type": "stream",
     "text": [
      "2 [ 9.63454701e-04  2.26542042e+00 -7.60747586e-02  4.63993558e-03\n",
      "  4.16054539e-01]\n"
     ]
    }
   ],
   "source": [
    "C = []\n",
    "D = []\n",
    "x_forfit = [linspace(0.555,0.71,200),linspace(0.555,0.71,200),linspace(0.535,0.71,200)]\n",
    "figname = 'fit_parameter_t0_log_alphavar'\n",
    "fig = figure(figname,clear=True)\n",
    "fig.set_size_inches(11.7, 8.3)\n",
    "ax1 = subplot(111)\n",
    "ax1.plot(alpha,array(popt_smooth)[:,0]*1e3,\n",
    "             color=cm(6/10),ls=':',marker='P',ms=10,mew=1,label=N_rework[2])\n",
    "# popt, pcov = curve_fit(func_lin, log10(array(popt_smooth)),log10(array(popt_smooth)[:,0]),maxfev= 5000)\n",
    "print(k,popt)\n",
    "ax1.set_xlabel(r'$\\alpha$')\n",
    "ax1.set_ylabel('$t_0$ [ms]')\n",
    "ax1.grid()\n",
    "ax1.legend(title='N',fontsize=18)\n",
    "tight_layout()\n",
    "\n",
    "savefig(figname+'.eps',dpi=300)"
   ]
  }
 ],
 "metadata": {
  "kernelspec": {
   "display_name": "Python 3 (ipykernel)",
   "language": "python",
   "name": "python3"
  },
  "language_info": {
   "codemirror_mode": {
    "name": "ipython",
    "version": 3
   },
   "file_extension": ".py",
   "mimetype": "text/x-python",
   "name": "python",
   "nbconvert_exporter": "python",
   "pygments_lexer": "ipython3",
   "version": "3.10.4"
  }
 },
 "nbformat": 4,
 "nbformat_minor": 5
}
