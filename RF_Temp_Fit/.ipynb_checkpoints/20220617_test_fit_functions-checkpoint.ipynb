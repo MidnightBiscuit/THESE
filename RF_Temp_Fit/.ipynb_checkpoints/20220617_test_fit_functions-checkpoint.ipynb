{
 "cells": [
  {
   "cell_type": "code",
   "execution_count": 1,
   "id": "2fdfc08b",
   "metadata": {
    "scrolled": true
   },
   "outputs": [
    {
     "ename": "ModuleNotFoundError",
     "evalue": "No module named 'watermark'",
     "output_type": "error",
     "traceback": [
      "\u001b[0;31m---------------------------------------------------------------------------\u001b[0m",
      "\u001b[0;31mModuleNotFoundError\u001b[0m                       Traceback (most recent call last)",
      "\u001b[0;32m/tmp/ipykernel_14703/323679751.py\u001b[0m in \u001b[0;36m<module>\u001b[0;34m\u001b[0m\n\u001b[0;32m----> 1\u001b[0;31m \u001b[0mget_ipython\u001b[0m\u001b[0;34m(\u001b[0m\u001b[0;34m)\u001b[0m\u001b[0;34m.\u001b[0m\u001b[0mrun_line_magic\u001b[0m\u001b[0;34m(\u001b[0m\u001b[0;34m'load_ext'\u001b[0m\u001b[0;34m,\u001b[0m \u001b[0;34m'watermark'\u001b[0m\u001b[0;34m)\u001b[0m\u001b[0;34m\u001b[0m\u001b[0;34m\u001b[0m\u001b[0m\n\u001b[0m\u001b[1;32m      2\u001b[0m \u001b[0mget_ipython\u001b[0m\u001b[0;34m(\u001b[0m\u001b[0;34m)\u001b[0m\u001b[0;34m.\u001b[0m\u001b[0mrun_line_magic\u001b[0m\u001b[0;34m(\u001b[0m\u001b[0;34m'watermark'\u001b[0m\u001b[0;34m,\u001b[0m \u001b[0;34m''\u001b[0m\u001b[0;34m)\u001b[0m\u001b[0;34m\u001b[0m\u001b[0;34m\u001b[0m\u001b[0m\n",
      "\u001b[0;32m/usr/lib/python3/dist-packages/IPython/core/interactiveshell.py\u001b[0m in \u001b[0;36mrun_line_magic\u001b[0;34m(self, magic_name, line, _stack_depth)\u001b[0m\n\u001b[1;32m   2362\u001b[0m                 \u001b[0mkwargs\u001b[0m\u001b[0;34m[\u001b[0m\u001b[0;34m'local_ns'\u001b[0m\u001b[0;34m]\u001b[0m \u001b[0;34m=\u001b[0m \u001b[0mself\u001b[0m\u001b[0;34m.\u001b[0m\u001b[0mget_local_scope\u001b[0m\u001b[0;34m(\u001b[0m\u001b[0mstack_depth\u001b[0m\u001b[0;34m)\u001b[0m\u001b[0;34m\u001b[0m\u001b[0;34m\u001b[0m\u001b[0m\n\u001b[1;32m   2363\u001b[0m             \u001b[0;32mwith\u001b[0m \u001b[0mself\u001b[0m\u001b[0;34m.\u001b[0m\u001b[0mbuiltin_trap\u001b[0m\u001b[0;34m:\u001b[0m\u001b[0;34m\u001b[0m\u001b[0;34m\u001b[0m\u001b[0m\n\u001b[0;32m-> 2364\u001b[0;31m                 \u001b[0mresult\u001b[0m \u001b[0;34m=\u001b[0m \u001b[0mfn\u001b[0m\u001b[0;34m(\u001b[0m\u001b[0;34m*\u001b[0m\u001b[0margs\u001b[0m\u001b[0;34m,\u001b[0m \u001b[0;34m**\u001b[0m\u001b[0mkwargs\u001b[0m\u001b[0;34m)\u001b[0m\u001b[0;34m\u001b[0m\u001b[0;34m\u001b[0m\u001b[0m\n\u001b[0m\u001b[1;32m   2365\u001b[0m             \u001b[0;32mreturn\u001b[0m \u001b[0mresult\u001b[0m\u001b[0;34m\u001b[0m\u001b[0;34m\u001b[0m\u001b[0m\n\u001b[1;32m   2366\u001b[0m \u001b[0;34m\u001b[0m\u001b[0m\n",
      "\u001b[0;32m<decorator-gen-57>\u001b[0m in \u001b[0;36mload_ext\u001b[0;34m(self, module_str)\u001b[0m\n",
      "\u001b[0;32m/usr/lib/python3/dist-packages/IPython/core/magic.py\u001b[0m in \u001b[0;36m<lambda>\u001b[0;34m(f, *a, **k)\u001b[0m\n\u001b[1;32m    185\u001b[0m     \u001b[0;31m# but it's overkill for just that one bit of state.\u001b[0m\u001b[0;34m\u001b[0m\u001b[0;34m\u001b[0m\u001b[0m\n\u001b[1;32m    186\u001b[0m     \u001b[0;32mdef\u001b[0m \u001b[0mmagic_deco\u001b[0m\u001b[0;34m(\u001b[0m\u001b[0marg\u001b[0m\u001b[0;34m)\u001b[0m\u001b[0;34m:\u001b[0m\u001b[0;34m\u001b[0m\u001b[0;34m\u001b[0m\u001b[0m\n\u001b[0;32m--> 187\u001b[0;31m         \u001b[0mcall\u001b[0m \u001b[0;34m=\u001b[0m \u001b[0;32mlambda\u001b[0m \u001b[0mf\u001b[0m\u001b[0;34m,\u001b[0m \u001b[0;34m*\u001b[0m\u001b[0ma\u001b[0m\u001b[0;34m,\u001b[0m \u001b[0;34m**\u001b[0m\u001b[0mk\u001b[0m\u001b[0;34m:\u001b[0m \u001b[0mf\u001b[0m\u001b[0;34m(\u001b[0m\u001b[0;34m*\u001b[0m\u001b[0ma\u001b[0m\u001b[0;34m,\u001b[0m \u001b[0;34m**\u001b[0m\u001b[0mk\u001b[0m\u001b[0;34m)\u001b[0m\u001b[0;34m\u001b[0m\u001b[0;34m\u001b[0m\u001b[0m\n\u001b[0m\u001b[1;32m    188\u001b[0m \u001b[0;34m\u001b[0m\u001b[0m\n\u001b[1;32m    189\u001b[0m         \u001b[0;32mif\u001b[0m \u001b[0mcallable\u001b[0m\u001b[0;34m(\u001b[0m\u001b[0marg\u001b[0m\u001b[0;34m)\u001b[0m\u001b[0;34m:\u001b[0m\u001b[0;34m\u001b[0m\u001b[0;34m\u001b[0m\u001b[0m\n",
      "\u001b[0;32m/usr/lib/python3/dist-packages/IPython/core/magics/extension.py\u001b[0m in \u001b[0;36mload_ext\u001b[0;34m(self, module_str)\u001b[0m\n\u001b[1;32m     31\u001b[0m         \u001b[0;32mif\u001b[0m \u001b[0;32mnot\u001b[0m \u001b[0mmodule_str\u001b[0m\u001b[0;34m:\u001b[0m\u001b[0;34m\u001b[0m\u001b[0;34m\u001b[0m\u001b[0m\n\u001b[1;32m     32\u001b[0m             \u001b[0;32mraise\u001b[0m \u001b[0mUsageError\u001b[0m\u001b[0;34m(\u001b[0m\u001b[0;34m'Missing module name.'\u001b[0m\u001b[0;34m)\u001b[0m\u001b[0;34m\u001b[0m\u001b[0;34m\u001b[0m\u001b[0m\n\u001b[0;32m---> 33\u001b[0;31m         \u001b[0mres\u001b[0m \u001b[0;34m=\u001b[0m \u001b[0mself\u001b[0m\u001b[0;34m.\u001b[0m\u001b[0mshell\u001b[0m\u001b[0;34m.\u001b[0m\u001b[0mextension_manager\u001b[0m\u001b[0;34m.\u001b[0m\u001b[0mload_extension\u001b[0m\u001b[0;34m(\u001b[0m\u001b[0mmodule_str\u001b[0m\u001b[0;34m)\u001b[0m\u001b[0;34m\u001b[0m\u001b[0;34m\u001b[0m\u001b[0m\n\u001b[0m\u001b[1;32m     34\u001b[0m \u001b[0;34m\u001b[0m\u001b[0m\n\u001b[1;32m     35\u001b[0m         \u001b[0;32mif\u001b[0m \u001b[0mres\u001b[0m \u001b[0;34m==\u001b[0m \u001b[0;34m'already loaded'\u001b[0m\u001b[0;34m:\u001b[0m\u001b[0;34m\u001b[0m\u001b[0;34m\u001b[0m\u001b[0m\n",
      "\u001b[0;32m/usr/lib/python3/dist-packages/IPython/core/extensions.py\u001b[0m in \u001b[0;36mload_extension\u001b[0;34m(self, module_str)\u001b[0m\n\u001b[1;32m     78\u001b[0m             \u001b[0;32mif\u001b[0m \u001b[0mmodule_str\u001b[0m \u001b[0;32mnot\u001b[0m \u001b[0;32min\u001b[0m \u001b[0msys\u001b[0m\u001b[0;34m.\u001b[0m\u001b[0mmodules\u001b[0m\u001b[0;34m:\u001b[0m\u001b[0;34m\u001b[0m\u001b[0;34m\u001b[0m\u001b[0m\n\u001b[1;32m     79\u001b[0m                 \u001b[0;32mwith\u001b[0m \u001b[0mprepended_to_syspath\u001b[0m\u001b[0;34m(\u001b[0m\u001b[0mself\u001b[0m\u001b[0;34m.\u001b[0m\u001b[0mipython_extension_dir\u001b[0m\u001b[0;34m)\u001b[0m\u001b[0;34m:\u001b[0m\u001b[0;34m\u001b[0m\u001b[0;34m\u001b[0m\u001b[0m\n\u001b[0;32m---> 80\u001b[0;31m                     \u001b[0mmod\u001b[0m \u001b[0;34m=\u001b[0m \u001b[0mimport_module\u001b[0m\u001b[0;34m(\u001b[0m\u001b[0mmodule_str\u001b[0m\u001b[0;34m)\u001b[0m\u001b[0;34m\u001b[0m\u001b[0;34m\u001b[0m\u001b[0m\n\u001b[0m\u001b[1;32m     81\u001b[0m                     \u001b[0;32mif\u001b[0m \u001b[0mmod\u001b[0m\u001b[0;34m.\u001b[0m\u001b[0m__file__\u001b[0m\u001b[0;34m.\u001b[0m\u001b[0mstartswith\u001b[0m\u001b[0;34m(\u001b[0m\u001b[0mself\u001b[0m\u001b[0;34m.\u001b[0m\u001b[0mipython_extension_dir\u001b[0m\u001b[0;34m)\u001b[0m\u001b[0;34m:\u001b[0m\u001b[0;34m\u001b[0m\u001b[0;34m\u001b[0m\u001b[0m\n\u001b[1;32m     82\u001b[0m                         print((\"Loading extensions from {dir} is deprecated. \"\n",
      "\u001b[0;32m/usr/lib/python3.10/importlib/__init__.py\u001b[0m in \u001b[0;36mimport_module\u001b[0;34m(name, package)\u001b[0m\n\u001b[1;32m    124\u001b[0m                 \u001b[0;32mbreak\u001b[0m\u001b[0;34m\u001b[0m\u001b[0;34m\u001b[0m\u001b[0m\n\u001b[1;32m    125\u001b[0m             \u001b[0mlevel\u001b[0m \u001b[0;34m+=\u001b[0m \u001b[0;36m1\u001b[0m\u001b[0;34m\u001b[0m\u001b[0;34m\u001b[0m\u001b[0m\n\u001b[0;32m--> 126\u001b[0;31m     \u001b[0;32mreturn\u001b[0m \u001b[0m_bootstrap\u001b[0m\u001b[0;34m.\u001b[0m\u001b[0m_gcd_import\u001b[0m\u001b[0;34m(\u001b[0m\u001b[0mname\u001b[0m\u001b[0;34m[\u001b[0m\u001b[0mlevel\u001b[0m\u001b[0;34m:\u001b[0m\u001b[0;34m]\u001b[0m\u001b[0;34m,\u001b[0m \u001b[0mpackage\u001b[0m\u001b[0;34m,\u001b[0m \u001b[0mlevel\u001b[0m\u001b[0;34m)\u001b[0m\u001b[0;34m\u001b[0m\u001b[0;34m\u001b[0m\u001b[0m\n\u001b[0m\u001b[1;32m    127\u001b[0m \u001b[0;34m\u001b[0m\u001b[0m\n\u001b[1;32m    128\u001b[0m \u001b[0;34m\u001b[0m\u001b[0m\n",
      "\u001b[0;32m/usr/lib/python3.10/importlib/_bootstrap.py\u001b[0m in \u001b[0;36m_gcd_import\u001b[0;34m(name, package, level)\u001b[0m\n",
      "\u001b[0;32m/usr/lib/python3.10/importlib/_bootstrap.py\u001b[0m in \u001b[0;36m_find_and_load\u001b[0;34m(name, import_)\u001b[0m\n",
      "\u001b[0;32m/usr/lib/python3.10/importlib/_bootstrap.py\u001b[0m in \u001b[0;36m_find_and_load_unlocked\u001b[0;34m(name, import_)\u001b[0m\n",
      "\u001b[0;31mModuleNotFoundError\u001b[0m: No module named 'watermark'"
     ]
    }
   ],
   "source": [
    "%load_ext watermark\n",
    "%watermark"
   ]
  },
  {
   "cell_type": "code",
   "execution_count": 2,
   "id": "2b7e5f6e",
   "metadata": {},
   "outputs": [
    {
     "data": {
      "text/html": [
       "<style>.container { width:95% !important; }</style>"
      ],
      "text/plain": [
       "<IPython.core.display.HTML object>"
      ]
     },
     "metadata": {},
     "output_type": "display_data"
    }
   ],
   "source": [
    "from IPython.display import display, HTML\n",
    "display(HTML(\"<style>.container { width:95% !important; }</style>\"))"
   ]
  },
  {
   "cell_type": "code",
   "execution_count": 3,
   "id": "daa8f4c3",
   "metadata": {},
   "outputs": [
    {
     "name": "stdout",
     "output_type": "stream",
     "text": [
      "Using matplotlib backend: TkAgg\n",
      "Populating the interactive namespace from numpy and matplotlib\n"
     ]
    }
   ],
   "source": [
    "%pylab"
   ]
  },
  {
   "cell_type": "code",
   "execution_count": 4,
   "id": "76e5594e",
   "metadata": {},
   "outputs": [],
   "source": [
    "from scipy.optimize import curve_fit\n",
    "\n",
    "import tkinter as tk\n",
    "from tkinter import filedialog\n",
    "\n",
    "import os\n",
    "\n",
    "from scipy import signal\n",
    "import scipy.integrate as integrate\n",
    "\n",
    "# %matplotlib qt"
   ]
  },
  {
   "cell_type": "code",
   "execution_count": 5,
   "id": "916883eb",
   "metadata": {
    "scrolled": true
   },
   "outputs": [],
   "source": [
    "%run functions\n",
    "matplotlib.rcParams.update({'font.size': 25})"
   ]
  },
  {
   "cell_type": "code",
   "execution_count": 6,
   "id": "efce5ee7",
   "metadata": {},
   "outputs": [
    {
     "name": "stdout",
     "output_type": "stream",
     "text": [
      "$\\kappa_{simion}$ = 0.270471\n"
     ]
    }
   ],
   "source": [
    "# Constantes de la physique\n",
    "# ABSOLUMENT RECHARGER APRÈS AVOIR EXECUTÉ LES CASES D'IMPORT AU DESSUS\n",
    "\n",
    "C_e = 1.602e-19        # Coulomb\n",
    "kb = 1.38064852*1e-23  # Boltzman\n",
    "m_Ca = 40.078*1.66054e-27 # masse Ca 40.078\n",
    "m_GM = 1e6*1.66054e-27 # la masse de la GMol\n",
    "eps0 = 8.854187*1e-12  # permittivité électrique du vide\n",
    "\n",
    "r0 = 2.5e-3 # 2.5e-3   # rayon piège Ca+\n",
    "d0 = 4e-3/2            # longueur piège Ca+\n",
    "\n",
    "Omega = 2.05e6*2*pi # 2.047e6\n",
    "\n",
    "bk = 4 # nombre de barreaux par groupe (2 -> 4-pole , 4 -> 8-pole ...)\n",
    "\n",
    "mkappa = 0.23          # écrantage piège réel GiantMol\n",
    "\n",
    "wzLC = (2*pi*90806.9982303)**2\n",
    "kappa_simion = m_Ca*d0**2*wzLC/(2*C_e)\n",
    "print('%s = %f' % ('$\\kappa_{simion}$',kappa_simion) )\n",
    "\n",
    "zeta = kappa_simion*r0**2/d0**2"
   ]
  },
  {
   "cell_type": "code",
   "execution_count": 969,
   "id": "58da8010",
   "metadata": {},
   "outputs": [
    {
     "name": "stdout",
     "output_type": "stream",
     "text": [
      "('/home/adrien/Documents/Programmes/Python/THESE/RF_Temp_Fit/Time_and_temp_RFHEAT_N0256_DC05_RF05.npz', '/home/adrien/Documents/Programmes/Python/THESE/RF_Temp_Fit/Time_and_temp_RFHEAT_N0256_DC06_RF06.npz', '/home/adrien/Documents/Programmes/Python/THESE/RF_Temp_Fit/Time_and_temp_RFHEAT_N0256_DC07_RF07.npz', '/home/adrien/Documents/Programmes/Python/THESE/RF_Temp_Fit/Time_and_temp_RFHEAT_N0256_DC08_RF08.npz', '/home/adrien/Documents/Programmes/Python/THESE/RF_Temp_Fit/Time_and_temp_RFHEAT_N0256_DC09_RF09.npz', '/home/adrien/Documents/Programmes/Python/THESE/RF_Temp_Fit/Time_and_temp_RFHEAT_N0256_DC10_RF10.npz', '/home/adrien/Documents/Programmes/Python/THESE/RF_Temp_Fit/Time_and_temp_RFHEAT_N0256_DC11_RF11.npz', '/home/adrien/Documents/Programmes/Python/THESE/RF_Temp_Fit/Time_and_temp_RFHEAT_N0256_DC12_RF12.npz', '/home/adrien/Documents/Programmes/Python/THESE/RF_Temp_Fit/Time_and_temp_RFHEAT_N0256_DC13_RF13.npz', '/home/adrien/Documents/Programmes/Python/THESE/RF_Temp_Fit/Time_and_temp_RFHEAT_N0512_DC03_RF03.npz', '/home/adrien/Documents/Programmes/Python/THESE/RF_Temp_Fit/Time_and_temp_RFHEAT_N0512_DC04_RF04.npz', '/home/adrien/Documents/Programmes/Python/THESE/RF_Temp_Fit/Time_and_temp_RFHEAT_N0512_DC05_RF05.npz', '/home/adrien/Documents/Programmes/Python/THESE/RF_Temp_Fit/Time_and_temp_RFHEAT_N0512_DC06_RF06.npz', '/home/adrien/Documents/Programmes/Python/THESE/RF_Temp_Fit/Time_and_temp_RFHEAT_N0512_DC07_RF07.npz', '/home/adrien/Documents/Programmes/Python/THESE/RF_Temp_Fit/Time_and_temp_RFHEAT_N0512_DC08_RF08.npz', '/home/adrien/Documents/Programmes/Python/THESE/RF_Temp_Fit/Time_and_temp_RFHEAT_N0512_DC09_RF09.npz', '/home/adrien/Documents/Programmes/Python/THESE/RF_Temp_Fit/Time_and_temp_RFHEAT_N0512_DC10_RF10.npz', '/home/adrien/Documents/Programmes/Python/THESE/RF_Temp_Fit/Time_and_temp_RFHEAT_N0512_DC11_RF11.npz', '/home/adrien/Documents/Programmes/Python/THESE/RF_Temp_Fit/Time_and_temp_RFHEAT_N0512_DC12_RF12.npz', '/home/adrien/Documents/Programmes/Python/THESE/RF_Temp_Fit/Time_and_temp_RFHEAT_N0512_DC13_RF13.npz', '/home/adrien/Documents/Programmes/Python/THESE/RF_Temp_Fit/Time_and_temp_RFHEAT_N1024_DC05_RF05.npz', '/home/adrien/Documents/Programmes/Python/THESE/RF_Temp_Fit/Time_and_temp_RFHEAT_N1024_DC06_RF06.npz', '/home/adrien/Documents/Programmes/Python/THESE/RF_Temp_Fit/Time_and_temp_RFHEAT_N1024_DC07_RF07.npz', '/home/adrien/Documents/Programmes/Python/THESE/RF_Temp_Fit/Time_and_temp_RFHEAT_N1024_DC08_RF08.npz', '/home/adrien/Documents/Programmes/Python/THESE/RF_Temp_Fit/Time_and_temp_RFHEAT_N1024_DC09_RF09.npz', '/home/adrien/Documents/Programmes/Python/THESE/RF_Temp_Fit/Time_and_temp_RFHEAT_N1024_DC10_RF10.npz', '/home/adrien/Documents/Programmes/Python/THESE/RF_Temp_Fit/Time_and_temp_RFHEAT_N1024_DC11_RF11.npz', '/home/adrien/Documents/Programmes/Python/THESE/RF_Temp_Fit/Time_and_temp_RFHEAT_N1024_DC12_RF12.npz', '/home/adrien/Documents/Programmes/Python/THESE/RF_Temp_Fit/Time_and_temp_RFHEAT_N1024_DC13_RF13.npz')\n"
     ]
    }
   ],
   "source": [
    "## GUI for data loading\n",
    "# Select one data file all the way down to the directories\n",
    "# SELECT Temp_SimuTypeQ_N ... .dat\n",
    "\n",
    "file_path = filedialog.askopenfilename(multiple=True) # initialdir = dir_string\n",
    "print(file_path)\n",
    "\n",
    "time       = []\n",
    "T_aux_avg  = []\n",
    "r2_v2_rlim      = []\n",
    "\n",
    "for i,j in enumerate(file_path):\n",
    "    with load(j) as data:\n",
    "        time.append(data['time'])\n",
    "        T_aux_avg.append(data['temp'])\n",
    "#         r2_v2_rlim.append(data['r2_v2_rlim'])"
   ]
  },
  {
   "cell_type": "code",
   "execution_count": 8,
   "id": "a70bc22b",
   "metadata": {},
   "outputs": [],
   "source": [
    "def tanh_to10(x,x0,K,theta):\n",
    "    return 10**( K*(1+tanh(theta*(x-x0))) )\n",
    "def tanh_plus_to10(x,x0,K,theta,a,b):\n",
    "    return 10**( K*(1+tanh(theta*(x-x0))) + a*(x)+b )\n",
    "\n",
    "def gen_logi_to10(x,A,K,C,B,M,nu):\n",
    "    return 10**( A + ( K-A ) / ( C+exp(-B*(x-M)) )**(nu) )\n",
    "\n",
    "def func2_to10(t, t0, A, B,  C, D):\n",
    "    return 10**( A*(t-t0)/(C+(t-t0)**2)**D + B )\n",
    "def func2abs_to10(t, t0, A, B,  C, D):\n",
    "    return 10**( A*(t-t0)/(C+abs(t-t0))**D + B )\n",
    "def func2ter_to10(t, t0, A, B, D):\n",
    "    return 10**( A*(t-t0)**(2*D) / (1+(t-t0)**2)**D + B )\n",
    "#def func2bis_to10(t, t0, A, B,  C, D):\n",
    "#    tau = t-t0\n",
    "#    return 10**( (A-B)*(tau) / (C+(tau**2)**(D/2))**(1/D) + B )\n",
    "def func3_to10(t, t0, A, B,  C):\n",
    "    return 10**( A*(t-t0) / (C+(t-t0)**2) + B )\n",
    "def func4_to10(t, t0, A, B, C):\n",
    "    return 10**( A*(t-t0) / (C+abs(t-t0)) + B )\n",
    "def func5_to10(t, t0, A, B, C, k):\n",
    "    return 10**( A*(t-t0) / (C+abs(t-t0)**k)**(1/k) + B )\n",
    "def func6_to10(t, t0, A, C, k):\n",
    "    return 10**( A*(t-t0) / (C+abs(t-t0)**k)**(1/k) )\n",
    "def func7_to10(t, t0, A, B, k):\n",
    "    return 10**( A*(t-t0) / (1+abs(t-t0)**k)**(1/k) + B)"
   ]
  },
  {
   "cell_type": "code",
   "execution_count": 25,
   "id": "d2c01640",
   "metadata": {},
   "outputs": [],
   "source": [
    "def func2(t, t0, A, B,  C, D):\n",
    "    return A*(t-t0)/(C+(t-t0)**2)**D + B\n",
    "def func2abs(t, t0, A, B,  C, D):\n",
    "    return A*(t-t0)/(C+abs(t-t0))**D + B\n",
    "def func5(t, t0, A, B, C, k):\n",
    "    return A*(t-t0) / (C+abs(t-t0)**k)**(1/k) + B"
   ]
  },
  {
   "cell_type": "code",
   "execution_count": 254,
   "id": "7291fd0b",
   "metadata": {},
   "outputs": [],
   "source": [
    "cm = pylab.get_cmap('turbo')"
   ]
  },
  {
   "cell_type": "code",
   "execution_count": 364,
   "id": "f7cde95a",
   "metadata": {},
   "outputs": [
    {
     "data": {
      "text/plain": [
       "[<matplotlib.lines.Line2D at 0x7f1106bb3490>]"
      ]
     },
     "execution_count": 364,
     "metadata": {},
     "output_type": "execute_result"
    }
   ],
   "source": [
    "figure('coucou').clf()\n",
    "x  = time[5]\n",
    "y  = T_aux_avg[5]\n",
    "semilogy(x,y)"
   ]
  },
  {
   "cell_type": "code",
   "execution_count": 360,
   "id": "6ca2ddc7",
   "metadata": {},
   "outputs": [],
   "source": [
    "# Temperature as a function of time\n",
    "to_fit = 2 #11\n",
    "x  = time[15]\n",
    "y  = T_aux_avg[15]\n",
    "\n",
    "#xlim(0.8,6)\n",
    "#plot(x*1e3, y ,label=r'$T$',color='C0')\n",
    "# b, a = signal.butter(8, 0.125)\n",
    "# y_filt = signal.filtfilt(b, a, y, padlen=150)\n",
    "# plot(x*1e3, y,label=r'$T filt$',color='C0')\n",
    "figure('testplotfunc5_to10',clear='True')\n",
    "subplot(121)\n",
    "plot(x*1e3, func5_to10(x*1e3, 10, log10(100), log10(1e-1),0.1, 0.5),color='k',ls='-')\n",
    "\n",
    "text(1,0.23,'$t_0=10$\\nA=log10(100)=2\\nB=log10(0.1)\\nC=0.1\\nk=0.5',fontsize = 12)\n",
    "# xlim(9.5,11.3)\n",
    "# ylim(-0.05,650)\n",
    "grid()\n",
    "# legend(fontsize=15)\n",
    "\n",
    "subplot(122)\n",
    "semilogy(x*1e3, func5_to10(x*1e3, 10, log10(100), log10(B[l]),0.1, 0.5),color='k',ls='-')\n",
    "\n",
    "text(1,0.23,'$t_0=10$\\nA=log10(100)=2\\nB=log10(0.1)\\nC=0.1\\nk=0.5',fontsize = 12)\n",
    "# xlim(7.9,12.2)\n",
    "# ylim(-0.05,550)\n",
    "grid()\n",
    "# legend(fontsize=15)\n",
    "tight_layout()"
   ]
  },
  {
   "cell_type": "code",
   "execution_count": 332,
   "id": "f4f82a25",
   "metadata": {},
   "outputs": [
    {
     "name": "stderr",
     "output_type": "stream",
     "text": [
      "/tmp/ipykernel_14703/1476596751.py:19: UserWarning: Attempted to set non-positive bottom ylim on a log-scaled axis.\n",
      "Invalid limit will be ignored.\n",
      "  ylim(-0.05,650)\n",
      "/tmp/ipykernel_14703/1476596751.py:31: UserWarning: Attempted to set non-positive bottom ylim on a log-scaled axis.\n",
      "Invalid limit will be ignored.\n",
      "  ylim(-0.05,60)\n",
      "/tmp/ipykernel_14703/1476596751.py:43: UserWarning: Attempted to set non-positive bottom ylim on a log-scaled axis.\n",
      "Invalid limit will be ignored.\n",
      "  ylim(-0.05,550)\n"
     ]
    },
    {
     "data": {
      "text/plain": [
       "<matplotlib.legend.Legend at 0x7f11076237f0>"
      ]
     },
     "execution_count": 332,
     "metadata": {},
     "output_type": "execute_result"
    }
   ],
   "source": [
    "# Temperature as a function of time\n",
    "to_fit = 2 #11\n",
    "x  = time[15]\n",
    "y  = T_aux_avg[15]\n",
    "\n",
    "#xlim(0.8,6)\n",
    "#plot(x*1e3, y ,label=r'$T$',color='C0')\n",
    "# b, a = signal.butter(8, 0.125)\n",
    "# y_filt = signal.filtfilt(b, a, y, padlen=150)\n",
    "# plot(x*1e3, y,label=r'$T filt$',color='C0')\n",
    "figure('testplotC',clear='True')\n",
    "C = [0,0.1,0.4,0.7,1,2]\n",
    "for k in range(len(C)):\n",
    "    semilogy(x*1e3, func5_to10(x*1e3, 10, log10(100), log10(1e-1),C[k], 0.5),\n",
    "         label=f'$C={C[k]:.2f}$',color=cm(k/5),ls=':')\n",
    "\n",
    "text(9.56,0.23,'$t_0=10$\\nA=log10(100)=2\\nB=log10(0.1)\\nk=0.5',fontsize = 12)\n",
    "xlim(9.5,11.3)\n",
    "ylim(-0.05,650)\n",
    "grid()\n",
    "legend(fontsize=15)\n",
    "\n",
    "figure('testplotk',clear='True')\n",
    "k = [0.1,0.4,0.7,1,2]\n",
    "for l in range(len(k)):\n",
    "    semilogy(x*1e3, func5_to10(x*1e3, 10, log10(100), log10(1e-1),0.1, k[l]),\n",
    "         label=f'$k={k[l]:.2f}$',color=cm(l/5),ls=':')\n",
    "\n",
    "text(8,0.2,'$t_0=10$\\nA=log10(100)=2\\nB=log10(0.1)\\nC=0.1',fontsize = 12)\n",
    "xlim(7.9,12.2)\n",
    "ylim(-0.05,60)\n",
    "grid()\n",
    "legend(fontsize=15)\n",
    "\n",
    "figure('testplotB',clear='True')\n",
    "B = [0.1,0.5,1,2,10]\n",
    "for l in range(len(B)):\n",
    "    semilogy(x*1e3, func5_to10(x*1e3, 10, log10(100), log10(B[l]),0.4, 0.5),\n",
    "         label=f'$B=log10({B[l]:.2f})$',color=cm(l/5),ls=':')\n",
    "\n",
    "text(8.1,10.2,'$t_0=10$\\nA=log10(100)=2\\nk=0.5\\nC=0.5',fontsize = 12)\n",
    "xlim(7.9,12.2)\n",
    "ylim(-0.05,250)\n",
    "grid()\n",
    "legend(fontsize=15)"
   ]
  },
  {
   "cell_type": "code",
   "execution_count": 10,
   "id": "e60a6835",
   "metadata": {},
   "outputs": [
    {
     "data": {
      "text/plain": [
       "<matplotlib.legend.Legend at 0x7f11186db610>"
      ]
     },
     "execution_count": 10,
     "metadata": {},
     "output_type": "execute_result"
    }
   ],
   "source": [
    "# Temperature as a function of time\n",
    "to_fit = 2 #11\n",
    "x  = time[to_fit]\n",
    "y  = T_aux_avg[to_fit]\n",
    "\n",
    "sigma_size = r2_v2_rlim[to_fit][0][:len(y)] + r2_v2_rlim[to_fit][1][:len(y)] + r2_v2_rlim[to_fit][2][:len(y)]\n",
    "\n",
    "figure('testfitfunctions',clear='True')\n",
    "#xlim(0.8,6)\n",
    "\n",
    "#plot(x*1e3, y ,label=r'$T$',color='C0')\n",
    "b, a = signal.butter(8, 0.125)\n",
    "y_filt = signal.filtfilt(b, a, y, padlen=150)\n",
    "plot(x*1e3, y,label=r'$T filt$',color='C0')\n",
    "plot(x*1e3, y_filt,label=r'$T filt$',color='C1',ls=':')\n",
    "grid()\n",
    "legend()\n",
    "\n",
    "figure('T fct size',clear='True')\n",
    "b, a = signal.butter(8, 0.01)\n",
    "y_filt = signal.filtfilt(b, a, y, padlen=150)\n",
    "plot(y,sigma_size,label=r'$T filt$',color='C0')\n",
    "plot(y_filt,sigma_size,label=r'$T filt$',color='C1',ls=':')\n",
    "grid()\n",
    "legend()"
   ]
  },
  {
   "cell_type": "code",
   "execution_count": 165,
   "id": "f1e0ead5",
   "metadata": {},
   "outputs": [
    {
     "name": "stdout",
     "output_type": "stream",
     "text": [
      "71.82789804478399\n",
      "70.76535057557307\n",
      "55.57550653761647\n"
     ]
    }
   ],
   "source": [
    "for k in range(3):\n",
    "    print(r2_v2_rlim[15][k+6][len(y)//100]*1000)"
   ]
  },
  {
   "cell_type": "code",
   "execution_count": 900,
   "id": "7d4ece5e",
   "metadata": {},
   "outputs": [
    {
     "name": "stdout",
     "output_type": "stream",
     "text": [
      "0 /home/adrien/Documents/Programmes/Python/THESE/RF_Temp_Fit/Time_and_temp_RFHEAT_N0256_DC05_RF05.npz\n",
      "1 /home/adrien/Documents/Programmes/Python/THESE/RF_Temp_Fit/Time_and_temp_RFHEAT_N0256_DC06_RF06.npz\n",
      "2 /home/adrien/Documents/Programmes/Python/THESE/RF_Temp_Fit/Time_and_temp_RFHEAT_N0256_DC07_RF07.npz\n",
      "3 /home/adrien/Documents/Programmes/Python/THESE/RF_Temp_Fit/Time_and_temp_RFHEAT_N0256_DC08_RF08.npz\n",
      "4 /home/adrien/Documents/Programmes/Python/THESE/RF_Temp_Fit/Time_and_temp_RFHEAT_N0256_DC09_RF09.npz\n",
      "5 /home/adrien/Documents/Programmes/Python/THESE/RF_Temp_Fit/Time_and_temp_RFHEAT_N0256_DC10_RF10.npz\n",
      "6 /home/adrien/Documents/Programmes/Python/THESE/RF_Temp_Fit/Time_and_temp_RFHEAT_N0256_DC11_RF11.npz\n",
      "7 /home/adrien/Documents/Programmes/Python/THESE/RF_Temp_Fit/Time_and_temp_RFHEAT_N0256_DC12_RF12.npz\n",
      "8 /home/adrien/Documents/Programmes/Python/THESE/RF_Temp_Fit/Time_and_temp_RFHEAT_N0256_DC13_RF13.npz\n",
      "9 /home/adrien/Documents/Programmes/Python/THESE/RF_Temp_Fit/Time_and_temp_RFHEAT_N0512_DC03_RF03.npz\n",
      "10 /home/adrien/Documents/Programmes/Python/THESE/RF_Temp_Fit/Time_and_temp_RFHEAT_N0512_DC04_RF04.npz\n",
      "11 /home/adrien/Documents/Programmes/Python/THESE/RF_Temp_Fit/Time_and_temp_RFHEAT_N0512_DC05_RF05.npz\n",
      "12 /home/adrien/Documents/Programmes/Python/THESE/RF_Temp_Fit/Time_and_temp_RFHEAT_N0512_DC06_RF06.npz\n",
      "13 /home/adrien/Documents/Programmes/Python/THESE/RF_Temp_Fit/Time_and_temp_RFHEAT_N0512_DC07_RF07.npz\n",
      "14 /home/adrien/Documents/Programmes/Python/THESE/RF_Temp_Fit/Time_and_temp_RFHEAT_N0512_DC08_RF08.npz\n",
      "15 /home/adrien/Documents/Programmes/Python/THESE/RF_Temp_Fit/Time_and_temp_RFHEAT_N0512_DC09_RF09.npz\n",
      "16 /home/adrien/Documents/Programmes/Python/THESE/RF_Temp_Fit/Time_and_temp_RFHEAT_N0512_DC10_RF10.npz\n",
      "17 /home/adrien/Documents/Programmes/Python/THESE/RF_Temp_Fit/Time_and_temp_RFHEAT_N0512_DC11_RF11.npz\n",
      "18 /home/adrien/Documents/Programmes/Python/THESE/RF_Temp_Fit/Time_and_temp_RFHEAT_N0512_DC12_RF12.npz\n",
      "19 /home/adrien/Documents/Programmes/Python/THESE/RF_Temp_Fit/Time_and_temp_RFHEAT_N0512_DC13_RF13.npz\n",
      "20 /home/adrien/Documents/Programmes/Python/THESE/RF_Temp_Fit/Time_and_temp_RFHEAT_N1024_DC05_RF05.npz\n",
      "21 /home/adrien/Documents/Programmes/Python/THESE/RF_Temp_Fit/Time_and_temp_RFHEAT_N1024_DC06_RF06.npz\n",
      "22 /home/adrien/Documents/Programmes/Python/THESE/RF_Temp_Fit/Time_and_temp_RFHEAT_N1024_DC07_RF07.npz\n",
      "23 /home/adrien/Documents/Programmes/Python/THESE/RF_Temp_Fit/Time_and_temp_RFHEAT_N1024_DC08_RF08.npz\n",
      "24 /home/adrien/Documents/Programmes/Python/THESE/RF_Temp_Fit/Time_and_temp_RFHEAT_N1024_DC09_RF09.npz\n",
      "25 /home/adrien/Documents/Programmes/Python/THESE/RF_Temp_Fit/Time_and_temp_RFHEAT_N1024_DC10_RF10.npz\n",
      "26 /home/adrien/Documents/Programmes/Python/THESE/RF_Temp_Fit/Time_and_temp_RFHEAT_N1024_DC11_RF11.npz\n",
      "27 /home/adrien/Documents/Programmes/Python/THESE/RF_Temp_Fit/Time_and_temp_RFHEAT_N1024_DC12_RF12.npz\n",
      "28 /home/adrien/Documents/Programmes/Python/THESE/RF_Temp_Fit/Time_and_temp_RFHEAT_N1024_DC13_RF13.npz\n"
     ]
    }
   ],
   "source": [
    "for i,j in enumerate(file_path):\n",
    "    print(i,j)"
   ]
  },
  {
   "cell_type": "code",
   "execution_count": 938,
   "id": "4d602f7c",
   "metadata": {},
   "outputs": [
    {
     "ename": "ValueError",
     "evalue": "max() arg is an empty sequence",
     "output_type": "error",
     "traceback": [
      "\u001b[0;31m---------------------------------------------------------------------------\u001b[0m",
      "\u001b[0;31mValueError\u001b[0m                                Traceback (most recent call last)",
      "\u001b[0;32m/tmp/ipykernel_14703/2751976832.py\u001b[0m in \u001b[0;36m<module>\u001b[0;34m\u001b[0m\n\u001b[1;32m     13\u001b[0m \u001b[0mt0_first_guess\u001b[0m \u001b[0;34m=\u001b[0m \u001b[0mx\u001b[0m\u001b[0;34m[\u001b[0m\u001b[0mwhere\u001b[0m\u001b[0;34m(\u001b[0m\u001b[0mmin\u001b[0m\u001b[0;34m(\u001b[0m\u001b[0mabs\u001b[0m\u001b[0;34m(\u001b[0m\u001b[0my\u001b[0m\u001b[0;34m-\u001b[0m\u001b[0mT_crit\u001b[0m\u001b[0;34m)\u001b[0m\u001b[0;34m)\u001b[0m\u001b[0;34m==\u001b[0m\u001b[0mabs\u001b[0m\u001b[0;34m(\u001b[0m\u001b[0my\u001b[0m\u001b[0;34m-\u001b[0m\u001b[0mT_crit\u001b[0m\u001b[0;34m)\u001b[0m\u001b[0;34m)\u001b[0m\u001b[0;34m]\u001b[0m\u001b[0;34m[\u001b[0m\u001b[0;36m0\u001b[0m\u001b[0;34m]\u001b[0m \u001b[0;31m# 2.5e-3\u001b[0m\u001b[0;34m\u001b[0m\u001b[0;34m\u001b[0m\u001b[0m\n\u001b[1;32m     14\u001b[0m \u001b[0mB0\u001b[0m \u001b[0;34m=\u001b[0m \u001b[0mlog10\u001b[0m\u001b[0;34m(\u001b[0m\u001b[0mT_crit\u001b[0m\u001b[0;34m)\u001b[0m \u001b[0;31m# log10( y[where(min(abs(y-T_crit))==abs(y-T_crit))][0] )\u001b[0m\u001b[0;34m\u001b[0m\u001b[0;34m\u001b[0m\u001b[0m\n\u001b[0;32m---> 15\u001b[0;31m \u001b[0mA0\u001b[0m \u001b[0;34m=\u001b[0m \u001b[0mlog10\u001b[0m\u001b[0;34m(\u001b[0m \u001b[0mmax\u001b[0m\u001b[0;34m(\u001b[0m\u001b[0my\u001b[0m\u001b[0;34m[\u001b[0m\u001b[0mstart_for_fit\u001b[0m\u001b[0;34m:\u001b[0m\u001b[0mend_fit\u001b[0m\u001b[0;34m]\u001b[0m\u001b[0;34m)\u001b[0m \u001b[0;34m)\u001b[0m \u001b[0;34m-\u001b[0m \u001b[0mB0\u001b[0m\u001b[0;34m\u001b[0m\u001b[0;34m\u001b[0m\u001b[0m\n\u001b[0m\u001b[1;32m     16\u001b[0m \u001b[0mfigure\u001b[0m\u001b[0;34m(\u001b[0m\u001b[0;34m'testfitinlin'\u001b[0m\u001b[0;34m,\u001b[0m\u001b[0mclear\u001b[0m\u001b[0;34m=\u001b[0m\u001b[0;34m'True'\u001b[0m\u001b[0;34m)\u001b[0m\u001b[0;34m\u001b[0m\u001b[0;34m\u001b[0m\u001b[0m\n\u001b[1;32m     17\u001b[0m \u001b[0;31m#xlim(0.8,6)\u001b[0m\u001b[0;34m\u001b[0m\u001b[0;34m\u001b[0m\u001b[0m\n",
      "\u001b[0;31mValueError\u001b[0m: max() arg is an empty sequence"
     ]
    }
   ],
   "source": [
    "to_fit = 25 #11\n",
    "start_for_fit = 1000\n",
    "end_for_fit = [int(500000-1),140000,17700,7000,4800, # 17700\n",
    "               470000,480000,490000,27500,5500, # 24000\n",
    "               50000,28500,23500,30000,14500,\n",
    "              0,0,0,0,0,\n",
    "              0,0,27000,0,0,\n",
    "              0,0,0,0,0]\n",
    "end_fit = end_for_fit[to_fit]\n",
    "x  = time[to_fit]\n",
    "y  = T_aux_avg[to_fit]\n",
    "T_crit = 0.5\n",
    "t0_first_guess = x[where(min(abs(y-T_crit))==abs(y-T_crit))][0] # 2.5e-3\n",
    "B0 = log10(T_crit) # log10( y[where(min(abs(y-T_crit))==abs(y-T_crit))][0] )\n",
    "A0 = log10( max(y[start_for_fit:end_fit]) ) - B0\n",
    "figure('testfitinlin',clear='True')\n",
    "#xlim(0.8,6)\n",
    "grid()\n",
    "plot(x*1e3, y ,label=r'$T$',color='C0')\n",
    "b, a = signal.butter(8, 0.125)\n",
    "y_filt = signal.filtfilt(b, a, y, padlen=150)\n",
    "plot(x*1e3, y_filt ,label=r'$T filt$',color='C1',ls=':')\n",
    "vlines(x[end_fit]*1e3,1e-2,150,color='k')\n",
    "\n",
    "p0 = [t0_first_guess,A0,B0,0.05,0.05]\n",
    "popt, pcov = curve_fit(func5_to10, x[start_for_fit:end_fit], log10(y[start_for_fit:end_fit]), p0, maxfev= 50000)\n",
    "print('func5',popt)\n",
    "kfunc5 = popt[4]\n",
    "y_fit5 = func5_to10(x[start_for_fit:end_fit],*popt)\n",
    "plot(x[start_for_fit:end_fit]*1e3,y_fit5,color='r',ls='--',label=r'5$|t-t_0|^k$')\n",
    "\n",
    "#p0 = [0.01400588, 1.98778611,0, 0.00722586, 0.39195976]\n",
    "#plot(x[start_for_fit:end_fit]*1e3,func5_to10(x[start_for_fit:end_fit],*p0),color='r',ls=':',label=r'$|t-t_0|^k$')\n",
    "\n",
    "p0 = [t0_first_guess,log10(120),7e-3,0.35]\n",
    "popt, pcov = curve_fit(func6_to10, x[start_for_fit:end_fit], y[start_for_fit:end_fit], p0, maxfev= 50000)\n",
    "print('func6',popt)\n",
    "kfunc6 = popt[3]\n",
    "y_fit6 = func6_to10(x[start_for_fit:end_fit],*popt)\n",
    "plot(x[start_for_fit:end_fit]*1e3,y_fit6,color='r',ls='--',label=r'6$|t-t_0|^k$')\n",
    "\n",
    "#p0 = [t0_first_guess,1000,log10(9e-3),1e-5]\n",
    "#plot(x[start_for_fit:end_fit]*1e3,func7_to10(x[start_for_fit:end_fit],*p0),color='chartreuse',ls='--',label=r'$|t-t_0|^k C=1$')\n",
    "\n",
    "p0 = [t0_first_guess,  A0, B0, 1e-10, 0.45]\n",
    "#p0 = [t0_first_guess,A0,B0,0.05,0.4]\n",
    "popt, pcov = curve_fit(func2_to10, x[start_for_fit:end_fit], y[start_for_fit:end_fit], p0, maxfev= 100000)\n",
    "print('func2',popt)\n",
    "y_fit2 = func2_to10(x[start_for_fit:end_fit],*popt)\n",
    "plot(x[start_for_fit:end_fit]*1e3,y_fit2,color='m',label=r'2$(t-t_0)^2$')\n",
    "\n",
    "p0 = [t0_first_guess,  A0, B0, 1e-10, 0.45]\n",
    "#p0 = [t0_first_guess,A0,B0,0.05,0.4]\n",
    "popt, pcov = curve_fit(func2abs_to10, x[start_for_fit:end_fit], y[start_for_fit:end_fit], p0, maxfev= 100000)\n",
    "print('func2abs',popt)\n",
    "y_fit2abs = func2abs_to10(x[start_for_fit:end_fit],*popt)\n",
    "plot(x[start_for_fit:end_fit]*1e3,y_fit2abs,color='m',ls=':',label=r'2abs$(t-t_0)^2$')\n",
    "\n",
    "'''\n",
    "p0 = [t0_first_guess,A0,B0,0.05**kfunc5,kfunc5*2]\n",
    "popt, pcov = curve_fit(func2bis_to10, x[start_for_fit:end_fit], y[start_for_fit:end_fit], p0, maxfev= 50000)\n",
    "print('func2bis',popt)\n",
    "kfunc2bis = popt[4]\n",
    "y_fit2bis = func2bis_to10(x[start_for_fit:end_fit],*popt)\n",
    "plot(x[start_for_fit:end_fit]*1e3,y_fit2bis,color='deeppink',label=r'2b$(t-t_0)^2D/2$')\n",
    "\n",
    "p0 = [t0_first_guess,log10(200),1e3]\n",
    "popt, pcov = curve_fit(tanh_to10, x[start_for_fit:end_fit], y[start_for_fit:end_fit], p0, maxfev= 50000)\n",
    "print('func2bis',popt)\n",
    "kfunc2tanh = popt[2]\n",
    "y_fittanh = tanh_to10(x[start_for_fit:end_fit],*popt)\n",
    "plot(x[start_for_fit:end_fit]*1e3,y_fittanh,color='deeppink',label=r'$\\tanh$')\n",
    "\n",
    "p0 = [t0_first_guess,A0,B0,0.001]\n",
    "popt, pcov = curve_fit(func4_to10, x[start_for_fit:end_fit], y[start_for_fit:end_fit], p0,  maxfev= 50000)\n",
    "y_fit4 = func4_to10(x[start_for_fit:end_fit],*popt)\n",
    "print('func4',popt)\n",
    "plot(x[start_for_fit:end_fit]*1e3,y_fit4,color='r',ls=':',label=r'$|x|$')\n",
    "\n",
    "p0 = [t0_first_guess,1000,log10(9e-3),1e-5]\n",
    "popt, pcov = curve_fit(func7_to10, x[start_for_fit:end_fit], y[start_for_fit:end_fit], p0, maxfev= 50000)\n",
    "print('func7',popt)\n",
    "kfunc7 = popt[3]\n",
    "y_fit7 = func7_to10(x[start_for_fit:end_fit],*popt)\n",
    "plot(x[start_for_fit:end_fit]*1e3,y_fit7,color='chartreuse',label=r'7$|t-t_0|^k$, $C=1$')\n",
    "\n",
    "'''\n",
    "\n",
    "'''\n",
    "p0 = [t0_first_guess,A0,100,100,0]\n",
    "popt, pcov = curve_fit(tanh_plus_to10, x[start_for_fit:end_fit], y[start_for_fit:end_fit], p0, maxfev= 50000)\n",
    "print('tanh_plus',popt)\n",
    "y_fittanh = tanh_plus_to10(x[start_for_fit:end_fit],*popt)\n",
    "plot(x[start_for_fit:end_fit]*1e3,10**y_fittanh,color='g',ls='-',label=r'tanh')\n",
    "'''\n",
    "\n",
    "#hlines(y[],1000,x[-1],color='k',ls=':')\n",
    "legend()\n",
    "#xlim(0.8,x[end_fit]*1e3+0.1)\n",
    "xlim(10,15)\n",
    "ylim(-1,80)"
   ]
  },
  {
   "cell_type": "code",
   "execution_count": 595,
   "id": "cff3f2b2",
   "metadata": {},
   "outputs": [],
   "source": [
    "# all temp plot\n",
    "to_fit = linspace(0, 8, 9, dtype='int')\n",
    "b, a = signal.butter(8, 0.125)\n",
    "figure('all_temp_plot').clf()\n",
    "for i,j in enumerate(to_fit):\n",
    "    semilogy(time[j]*1e3,T_aux_avg[j],color=cm(i/len(to_fit)),label=j) # loglog\n",
    "    y_filt = signal.filtfilt(b, a, T_aux_avg[j], padlen=150)\n",
    "    semilogy(time[j]*1e3,y_filt,color='k',ls=':')\n",
    "    \n",
    "grid()\n",
    "legend(loc=1)\n",
    "tight_layout()"
   ]
  },
  {
   "cell_type": "code",
   "execution_count": 986,
   "id": "8573a118",
   "metadata": {},
   "outputs": [
    {
     "name": "stdout",
     "output_type": "stream",
     "text": [
      "0.2298704999999308\n",
      "[8.88199322e-07 7.10559458e-06 2.48695810e-05 4.97391620e-05\n",
      " 6.21739525e-05 4.97391620e-05 2.48695810e-05 7.10559458e-06\n",
      " 8.88199322e-07]\n",
      "[  1.          -5.98842478  15.88837987 -24.35723742  23.57037937\n",
      " -14.72938334   5.80019014  -1.31502712   0.13135067]\n"
     ]
    }
   ],
   "source": [
    "b, a = signal.butter(8, 0.125)\n",
    "\n",
    "print(max_f_r/fs)\n",
    "print(b)\n",
    "print(a)"
   ]
  },
  {
   "cell_type": "code",
   "execution_count": 1009,
   "id": "90278974",
   "metadata": {},
   "outputs": [
    {
     "name": "stdout",
     "output_type": "stream",
     "text": [
      "332871.9432829988\n"
     ]
    }
   ],
   "source": [
    "my_try = int(file_path[to_fit][file_path[to_fit].find('DC')+2:file_path[to_fit].find('DC')+4])\n",
    "Urf = [0, 0, 0, 0, 0, 55.35111, 57.40115, 59.45119, 61.50124, 63.55128, 65.60132, 67.65136, 69.70140, 71.75144]\n",
    "q = [0, 0, 0, 0, 0, 0.54, 0.56,  0.58,  0.6, 0.62,  0.64,  0.66,  0.68,  0.7]\n",
    "Udc = [0, 0, 0, 0, 0, 11.10109, 12.0829, 13.12915, 14.24497, 15.43671, 16.71181, 18.07917, 19.54956, 21.13623]\n",
    "\n",
    "omega_z_2 = ( 2*pi*100e3 )**2 * array(Udc)\n",
    "omega_x_2 = ( beta_guess*Omega/2 )**2\n",
    "omega_r_2 = omega_x_2 - 0.5*omega_z_2\n",
    "print(sqrt(omega_r_2[my_try])/2/pi)\n",
    "\n",
    "fs = 1/diff(x)[1]"
   ]
  },
  {
   "cell_type": "code",
   "execution_count": 1014,
   "id": "0cc74bef",
   "metadata": {},
   "outputs": [
    {
     "name": "stdout",
     "output_type": "stream",
     "text": [
      "file to analyze /home/adrien/Documents/Programmes/Python/THESE/RF_Temp_Fit/Time_and_temp_RFHEAT_N1024_DC09_RF09.npz\n",
      "332871.9432829988\n",
      "11791\n",
      "func5 [ 1.77824241e-03  3.36043480e+00 -7.08647876e-02  2.27375198e-02\n",
      "  2.72271962e-01]\n"
     ]
    }
   ],
   "source": [
    "to_fit = 24 #11\n",
    "print('file to analyze',file_path[to_fit])\n",
    "my_try = int(file_path[to_fit][file_path[to_fit].find('DC')+2:file_path[to_fit].find('DC')+4])\n",
    "x  = time[to_fit]\n",
    "y  = T_aux_avg[to_fit]\n",
    "max_f_r = sqrt(omega_r_2[my_try])/2/pi\n",
    "print(max_f_r)\n",
    "\n",
    "b, a = signal.butter(8, max_f_r/fs*1)\n",
    "y_filt = signal.filtfilt(b, a, y, padlen=150)\n",
    "print(len(x))\n",
    "\n",
    "temp_to_end = 100\n",
    "index_100K = argmin(abs(y_filt-temp_to_end))\n",
    "end_fit = index_100K\n",
    "start_for_fit = 200\n",
    "\n",
    "T_crit = 0.3\n",
    "t0_first_guess = x[where(min(abs(y_filt-T_crit))==abs(y_filt-T_crit))][0] # 2.5e-3\n",
    "B0 = log10(T_crit) # log10( y[where(min(abs(y-T_crit))==abs(y-T_crit))][0] )\n",
    "A0 = log10(max(y_filt[start_for_fit:end_fit]) - B0)\n",
    "# popt, pcov = curve_fit(func5, x[start_for_fit:end_fit], log10(y_filt[start_for_fit:end_fit]),\n",
    "#                        p0, maxfev= 25000)\n",
    "# t0_second_guess = popt[0]\n",
    "# index_stoptime = argmin(abs(x-(t0_second_guess+2e-3)))\n",
    "# end_fit = index_stoptime\n",
    "\n",
    "figure('testfitinlin0',clear='True')\n",
    "#xlim(0.8,6)\n",
    "grid()\n",
    "plot(x*1e3, y ,label=r'$T$',color='C0',lw=0.3)\n",
    "\n",
    "semilogy(x*1e3, y_filt ,label=r'$T$ filtered',color='C1',ls=':',lw=2)\n",
    "# vlines(x[end_fit]*1e3,1e-2,150,color='k')\n",
    "\n",
    "p0 = [t0_first_guess,A0,B0,0.01,0.4]\n",
    "# popt, pcov = curve_fit(func5_to10, x[start_for_fit:end_fit], y[start_for_fit:end_fit],\n",
    "#                        p0, bounds=((t0_first_guess-5,log10(0),log10(0),0,0),(t0_first_guess+5,100000,1,1.01,1)), maxfev= 25000)\n",
    "popt, pcov = curve_fit(func5, x[start_for_fit:end_fit], log10(y_filt[start_for_fit:end_fit]),\n",
    "                       p0, maxfev= 25000)\n",
    "print('func5',popt)\n",
    "kfunc5 = popt[4]\n",
    "y_fit5 = func5(x[start_for_fit:end_fit],*popt)\n",
    "semilogy(x[start_for_fit:end_fit]*1e3,10**y_fit5,color='r',ls='--',label=r'$\\psi$',lw=1)\n",
    "\n",
    "# semilogy(x[start_for_fit:end_fit]*1e3,\n",
    "#          10**func5(x[start_for_fit:end_fit],\n",
    "#           1.32276138e-02, 2.57209259e+00, 1.38429920e-03, 1.32357980e-02,3.16543352e-01),\n",
    "#          color='g',ls=':')\n",
    "\n",
    "xlabel('t [ms]')\n",
    "ylabel('T [K]')\n",
    "# legend()\n",
    "\n",
    "#xlim(0.8,x[end_fit]*1e3+0.1)\n",
    "xlim(0.822,4.65)\n",
    "ylim(1e-3,200)\n",
    "tight_layout()"
   ]
  },
  {
   "cell_type": "code",
   "execution_count": 1015,
   "id": "68f6d826",
   "metadata": {},
   "outputs": [
    {
     "name": "stdout",
     "output_type": "stream",
     "text": [
      "file to analyze\n",
      "> 0 /home/adrien/Documents/Programmes/Python/THESE/RF_Temp_Fit/Time_and_temp_RFHEAT_N0256_DC05_RF05.npz\n",
      "Data skipped\n",
      "> 1 /home/adrien/Documents/Programmes/Python/THESE/RF_Temp_Fit/Time_and_temp_RFHEAT_N0256_DC06_RF06.npz\n",
      "[ 0.17784609  3.98621803 -0.00498872  0.05276297  0.12405983]\n",
      "> 2 /home/adrien/Documents/Programmes/Python/THESE/RF_Temp_Fit/Time_and_temp_RFHEAT_N0256_DC07_RF07.npz\n",
      "[0.0634296  3.42614554 0.01784857 0.04024991 0.17065122]\n",
      "> 3 /home/adrien/Documents/Programmes/Python/THESE/RF_Temp_Fit/Time_and_temp_RFHEAT_N0256_DC08_RF08.npz\n",
      "[ 0.02273362  3.66879795 -0.07281056  0.04347754  0.15364977]\n",
      "> 4 /home/adrien/Documents/Programmes/Python/THESE/RF_Temp_Fit/Time_and_temp_RFHEAT_N0256_DC09_RF09.npz\n",
      "[ 0.00837863  3.7764268  -0.13959148  0.04269578  0.16368226]\n",
      "> 5 /home/adrien/Documents/Programmes/Python/THESE/RF_Temp_Fit/Time_and_temp_RFHEAT_N0256_DC10_RF10.npz\n",
      "[ 4.08309746e-03  4.36551638e+00 -2.22786715e-01  4.94485957e-02\n",
      "  1.40104376e-01]\n",
      "> 6 /home/adrien/Documents/Programmes/Python/THESE/RF_Temp_Fit/Time_and_temp_RFHEAT_N0256_DC11_RF11.npz\n",
      "[ 2.52962668e-03  5.36154246e+00 -2.82352970e-01  5.84769713e-02\n",
      "  1.23639023e-01]\n",
      "> 7 /home/adrien/Documents/Programmes/Python/THESE/RF_Temp_Fit/Time_and_temp_RFHEAT_N0256_DC12_RF12.npz\n",
      "[ 1.80762805e-03  3.40620065e+00 -3.16360623e-01  2.81042401e-02\n",
      "  2.09903981e-01]\n",
      "> 8 /home/adrien/Documents/Programmes/Python/THESE/RF_Temp_Fit/Time_and_temp_RFHEAT_N0256_DC13_RF13.npz\n",
      "[ 1.43312255e-03  2.77663178e+00 -3.59897915e-01  1.36328131e-02\n",
      "  2.79953846e-01]\n",
      "> 9 /home/adrien/Documents/Programmes/Python/THESE/RF_Temp_Fit/Time_and_temp_RFHEAT_N0512_DC03_RF03.npz\n",
      "Data skipped\n",
      "> 10 /home/adrien/Documents/Programmes/Python/THESE/RF_Temp_Fit/Time_and_temp_RFHEAT_N0512_DC04_RF04.npz\n",
      "Data skipped\n",
      "> 11 /home/adrien/Documents/Programmes/Python/THESE/RF_Temp_Fit/Time_and_temp_RFHEAT_N0512_DC05_RF05.npz\n",
      "Data skipped\n",
      "> 12 /home/adrien/Documents/Programmes/Python/THESE/RF_Temp_Fit/Time_and_temp_RFHEAT_N0512_DC06_RF06.npz\n",
      "[0.07357711 3.08969093 0.03232737 0.03545739 0.18258631]\n",
      "> 13 /home/adrien/Documents/Programmes/Python/THESE/RF_Temp_Fit/Time_and_temp_RFHEAT_N0512_DC07_RF07.npz\n",
      "[0.0286946  2.74105186 0.0166321  0.02215744 0.25227107]\n",
      "> 14 /home/adrien/Documents/Programmes/Python/THESE/RF_Temp_Fit/Time_and_temp_RFHEAT_N0512_DC08_RF08.npz\n",
      "[1.32279772e-02 2.57089301e+00 1.29503264e-03 1.31981681e-02\n",
      " 3.17004245e-01]\n",
      "> 15 /home/adrien/Documents/Programmes/Python/THESE/RF_Temp_Fit/Time_and_temp_RFHEAT_N0512_DC09_RF09.npz\n",
      "[ 0.00515211  2.71507695 -0.02999616  0.01407781  0.31245848]\n",
      "> 16 /home/adrien/Documents/Programmes/Python/THESE/RF_Temp_Fit/Time_and_temp_RFHEAT_N0512_DC10_RF10.npz\n",
      "[ 0.00302407  2.88990077 -0.12396588  0.01918503  0.26219814]\n",
      "> 17 /home/adrien/Documents/Programmes/Python/THESE/RF_Temp_Fit/Time_and_temp_RFHEAT_N0512_DC11_RF11.npz\n",
      "[ 2.08409192e-03  2.48714223e+00 -1.70308737e-01  8.02353793e-03\n",
      "  3.53057846e-01]\n",
      "> 18 /home/adrien/Documents/Programmes/Python/THESE/RF_Temp_Fit/Time_and_temp_RFHEAT_N0512_DC12_RF12.npz\n"
     ]
    },
    {
     "name": "stderr",
     "output_type": "stream",
     "text": [
      "/tmp/ipykernel_14703/1162972204.py:41: RuntimeWarning: invalid value encountered in log10\n",
      "  log10(y_filt[start_for_fit:end_fit]),\n"
     ]
    },
    {
     "ename": "ValueError",
     "evalue": "array must not contain infs or NaNs",
     "output_type": "error",
     "traceback": [
      "\u001b[0;31m---------------------------------------------------------------------------\u001b[0m",
      "\u001b[0;31mValueError\u001b[0m                                Traceback (most recent call last)",
      "\u001b[0;32m/tmp/ipykernel_14703/1162972204.py\u001b[0m in \u001b[0;36m<module>\u001b[0;34m\u001b[0m\n\u001b[1;32m     38\u001b[0m         \u001b[0;32mtry\u001b[0m\u001b[0;34m:\u001b[0m\u001b[0;34m\u001b[0m\u001b[0;34m\u001b[0m\u001b[0m\n\u001b[1;32m     39\u001b[0m             \u001b[0;31m# proper fit of the smoothed curve limiter up to threshold T\u001b[0m\u001b[0;34m\u001b[0m\u001b[0;34m\u001b[0m\u001b[0m\n\u001b[0;32m---> 40\u001b[0;31m             popt, pcov = curve_fit(func5, x[start_for_fit:end_fit],\n\u001b[0m\u001b[1;32m     41\u001b[0m                                           \u001b[0mlog10\u001b[0m\u001b[0;34m(\u001b[0m\u001b[0my_filt\u001b[0m\u001b[0;34m[\u001b[0m\u001b[0mstart_for_fit\u001b[0m\u001b[0;34m:\u001b[0m\u001b[0mend_fit\u001b[0m\u001b[0;34m]\u001b[0m\u001b[0;34m)\u001b[0m\u001b[0;34m,\u001b[0m\u001b[0;34m\u001b[0m\u001b[0;34m\u001b[0m\u001b[0m\n\u001b[1;32m     42\u001b[0m                                    \u001b[0mp0\u001b[0m\u001b[0;34m,\u001b[0m \u001b[0mmaxfev\u001b[0m\u001b[0;34m=\u001b[0m \u001b[0;36m10000\u001b[0m\u001b[0;34m,\u001b[0m\u001b[0;34m\u001b[0m\u001b[0;34m\u001b[0m\u001b[0m\n",
      "\u001b[0;32m/usr/lib/python3/dist-packages/scipy/optimize/_minpack_py.py\u001b[0m in \u001b[0;36mcurve_fit\u001b[0;34m(f, xdata, ydata, p0, sigma, absolute_sigma, check_finite, bounds, method, jac, **kwargs)\u001b[0m\n\u001b[1;32m    733\u001b[0m     \u001b[0;31m# NaNs cannot be handled\u001b[0m\u001b[0;34m\u001b[0m\u001b[0;34m\u001b[0m\u001b[0m\n\u001b[1;32m    734\u001b[0m     \u001b[0;32mif\u001b[0m \u001b[0mcheck_finite\u001b[0m\u001b[0;34m:\u001b[0m\u001b[0;34m\u001b[0m\u001b[0;34m\u001b[0m\u001b[0m\n\u001b[0;32m--> 735\u001b[0;31m         \u001b[0mydata\u001b[0m \u001b[0;34m=\u001b[0m \u001b[0mnp\u001b[0m\u001b[0;34m.\u001b[0m\u001b[0masarray_chkfinite\u001b[0m\u001b[0;34m(\u001b[0m\u001b[0mydata\u001b[0m\u001b[0;34m,\u001b[0m \u001b[0mfloat\u001b[0m\u001b[0;34m)\u001b[0m\u001b[0;34m\u001b[0m\u001b[0;34m\u001b[0m\u001b[0m\n\u001b[0m\u001b[1;32m    736\u001b[0m     \u001b[0;32melse\u001b[0m\u001b[0;34m:\u001b[0m\u001b[0;34m\u001b[0m\u001b[0;34m\u001b[0m\u001b[0m\n\u001b[1;32m    737\u001b[0m         \u001b[0mydata\u001b[0m \u001b[0;34m=\u001b[0m \u001b[0mnp\u001b[0m\u001b[0;34m.\u001b[0m\u001b[0masarray\u001b[0m\u001b[0;34m(\u001b[0m\u001b[0mydata\u001b[0m\u001b[0;34m,\u001b[0m \u001b[0mfloat\u001b[0m\u001b[0;34m)\u001b[0m\u001b[0;34m\u001b[0m\u001b[0;34m\u001b[0m\u001b[0m\n",
      "\u001b[0;32m/usr/lib/python3/dist-packages/numpy/lib/function_base.py\u001b[0m in \u001b[0;36masarray_chkfinite\u001b[0;34m(a, dtype, order)\u001b[0m\n\u001b[1;32m    486\u001b[0m     \u001b[0ma\u001b[0m \u001b[0;34m=\u001b[0m \u001b[0masarray\u001b[0m\u001b[0;34m(\u001b[0m\u001b[0ma\u001b[0m\u001b[0;34m,\u001b[0m \u001b[0mdtype\u001b[0m\u001b[0;34m=\u001b[0m\u001b[0mdtype\u001b[0m\u001b[0;34m,\u001b[0m \u001b[0morder\u001b[0m\u001b[0;34m=\u001b[0m\u001b[0morder\u001b[0m\u001b[0;34m)\u001b[0m\u001b[0;34m\u001b[0m\u001b[0;34m\u001b[0m\u001b[0m\n\u001b[1;32m    487\u001b[0m     \u001b[0;32mif\u001b[0m \u001b[0ma\u001b[0m\u001b[0;34m.\u001b[0m\u001b[0mdtype\u001b[0m\u001b[0;34m.\u001b[0m\u001b[0mchar\u001b[0m \u001b[0;32min\u001b[0m \u001b[0mtypecodes\u001b[0m\u001b[0;34m[\u001b[0m\u001b[0;34m'AllFloat'\u001b[0m\u001b[0;34m]\u001b[0m \u001b[0;32mand\u001b[0m \u001b[0;32mnot\u001b[0m \u001b[0mnp\u001b[0m\u001b[0;34m.\u001b[0m\u001b[0misfinite\u001b[0m\u001b[0;34m(\u001b[0m\u001b[0ma\u001b[0m\u001b[0;34m)\u001b[0m\u001b[0;34m.\u001b[0m\u001b[0mall\u001b[0m\u001b[0;34m(\u001b[0m\u001b[0;34m)\u001b[0m\u001b[0;34m:\u001b[0m\u001b[0;34m\u001b[0m\u001b[0;34m\u001b[0m\u001b[0m\n\u001b[0;32m--> 488\u001b[0;31m         raise ValueError(\n\u001b[0m\u001b[1;32m    489\u001b[0m             \"array must not contain infs or NaNs\")\n\u001b[1;32m    490\u001b[0m     \u001b[0;32mreturn\u001b[0m \u001b[0ma\u001b[0m\u001b[0;34m\u001b[0m\u001b[0;34m\u001b[0m\u001b[0m\n",
      "\u001b[0;31mValueError\u001b[0m: array must not contain infs or NaNs"
     ]
    }
   ],
   "source": [
    "# Fit all curves\n",
    "# Smooth data temperature\n",
    "# guess first parameter set\n",
    "# fit smoothed data up to threshold temperature\n",
    "# much more consistent than below\n",
    "\n",
    "popt_smooth = []\n",
    "temp_to_end = 100 # Temperature to stop the fit\n",
    "start_for_fit = 200\n",
    "T_crit = 0.3\n",
    "print('file to analyze')\n",
    "not_fitted = 0\n",
    "for to_fit,j in enumerate(file_path):\n",
    "    if to_fit!=0 and to_fit!=9 and to_fit!=10 and to_fit!=11:\n",
    "    # retrive time and temperature from the curve\n",
    "        print('>',to_fit,j)\n",
    "        my_try = int(file_path[to_fit][file_path[to_fit].find('DC')+2:file_path[to_fit].find('DC')+4])\n",
    "        x  = time[to_fit]\n",
    "        y  = T_aux_avg[to_fit]\n",
    "                \n",
    "        # Smoothing signal with zero delay shift fit\n",
    "        max_f_r = sqrt(omega_r_2[my_try])/2/pi\n",
    "        b, a = signal.butter(8,  max_f_r/fs*1)\n",
    "        y_filt = signal.filtfilt(b, a, y, padlen=150)\n",
    "\n",
    "        # Fit parameters first guesses\n",
    "        t0_first_guess = x[where(min(abs(y_filt-T_crit))==abs(y_filt-T_crit))][0] # 2.5e-3\n",
    "        B0 = log10(T_crit) # log10( y[where(min(abs(y-T_crit))==abs(y-T_crit))][0] )\n",
    "        A0 = log10(max(y_filt[start_for_fit:end_fit]) - B0)\n",
    "                \n",
    "        # select index of temp where stop the fit\n",
    "        # I stop the fit when T reaches a given T\n",
    "        index_100K = argmin(abs(y_filt-temp_to_end))\n",
    "        end_fit = index_100K\n",
    "\n",
    "        # set initial guess of fit parameters\n",
    "        p0 = [t0_first_guess,A0,B0,0.01,0.2]\n",
    "        try:\n",
    "            # proper fit of the smoothed curve limiter up to threshold T\n",
    "            popt, pcov = curve_fit(func5, x[start_for_fit:end_fit],\n",
    "                                          log10(y_filt[start_for_fit:end_fit]),\n",
    "                                   p0, maxfev= 10000,\n",
    "                                   bounds=((-np.inf,-np.inf,-np.inf,0,0),(np.inf,np.inf,2,1.01,1)))\n",
    "            print(popt)\n",
    "            popt_smooth.append(popt)\n",
    "        except RuntimeError:\n",
    "            print('Optimal parameters not found: Number of calls to function has reached maxfev')\n",
    "            not_fitted += 1\n",
    "    else:\n",
    "        print('>',to_fit,j)\n",
    "        print('Data skipped')\n",
    "        not_fitted += 1\n",
    "print('total amount of non fitted curves',not_fitted)"
   ]
  },
  {
   "cell_type": "code",
   "execution_count": 868,
   "id": "72fc5a6a",
   "metadata": {
    "collapsed": true
   },
   "outputs": [
    {
     "name": "stdout",
     "output_type": "stream",
     "text": [
      "file to analyze\n",
      "> 0 /home/adrien/Documents/Programmes/Python/THESE/RF_Temp_Fit/Time_and_temp_RFHEAT_N0256_DC05_RF05.npz\n",
      "Data skipped\n",
      "> 1 /home/adrien/Documents/Programmes/Python/THESE/RF_Temp_Fit/Time_and_temp_RFHEAT_N0256_DC06_RF06.npz\n"
     ]
    },
    {
     "name": "stderr",
     "output_type": "stream",
     "text": [
      "/tmp/ipykernel_14703/1233543013.py:42: RuntimeWarning: divide by zero encountered in log10\n",
      "  bounds=((t0_first_guess-5,log10(0),log10(0),0,0),(t0_second_guess+5,100000,1,1.01,1)))\n"
     ]
    },
    {
     "name": "stdout",
     "output_type": "stream",
     "text": [
      "[ 0.1778441   4.91938257 -0.05077406  0.06004648  0.09206049]\n",
      "> 2 /home/adrien/Documents/Programmes/Python/THESE/RF_Temp_Fit/Time_and_temp_RFHEAT_N0256_DC07_RF07.npz\n",
      "[ 0.0634296   3.68824134 -0.01278016  0.04558552  0.14609868]\n",
      "> 3 /home/adrien/Documents/Programmes/Python/THESE/RF_Temp_Fit/Time_and_temp_RFHEAT_N0256_DC08_RF08.npz\n",
      "[ 0.02273412  3.60027054 -0.0682639   0.04220185  0.15900907]\n",
      "> 4 /home/adrien/Documents/Programmes/Python/THESE/RF_Temp_Fit/Time_and_temp_RFHEAT_N0256_DC09_RF09.npz\n",
      "[ 0.00837912  3.64241453 -0.1422611   0.04038523  0.17038517]\n",
      "> 5 /home/adrien/Documents/Programmes/Python/THESE/RF_Temp_Fit/Time_and_temp_RFHEAT_N0256_DC10_RF10.npz\n",
      "[ 0.0040831   2.79359971 -0.22443339  0.01944802  0.25536368]\n",
      "> 6 /home/adrien/Documents/Programmes/Python/THESE/RF_Temp_Fit/Time_and_temp_RFHEAT_N0256_DC11_RF11.npz\n",
      "[ 0.0025296   2.39103697 -0.28445302  0.00782706  0.3540984 ]\n",
      "> 7 /home/adrien/Documents/Programmes/Python/THESE/RF_Temp_Fit/Time_and_temp_RFHEAT_N0256_DC12_RF12.npz\n",
      "[ 1.80762695e-03  3.10464792e+00 -3.15762600e-01  2.20193615e-02\n",
      "  2.35783398e-01]\n",
      "> 8 /home/adrien/Documents/Programmes/Python/THESE/RF_Temp_Fit/Time_and_temp_RFHEAT_N0256_DC13_RF13.npz\n",
      "[ 1.43312173e-03  2.65052235e+00 -3.57692226e-01  1.07799929e-02\n",
      "  3.05440058e-01]\n",
      "> 9 /home/adrien/Documents/Programmes/Python/THESE/RF_Temp_Fit/Time_and_temp_RFHEAT_N0512_DC03_RF03.npz\n",
      "Data skipped\n",
      "> 10 /home/adrien/Documents/Programmes/Python/THESE/RF_Temp_Fit/Time_and_temp_RFHEAT_N0512_DC04_RF04.npz\n",
      "Data skipped\n",
      "> 11 /home/adrien/Documents/Programmes/Python/THESE/RF_Temp_Fit/Time_and_temp_RFHEAT_N0512_DC05_RF05.npz\n",
      "Data skipped\n",
      "> 12 /home/adrien/Documents/Programmes/Python/THESE/RF_Temp_Fit/Time_and_temp_RFHEAT_N0512_DC06_RF06.npz\n",
      "[ 0.01279757  2.61366412 -0.01908544  0.01585595  0.29167917]\n",
      "> 13 /home/adrien/Documents/Programmes/Python/THESE/RF_Temp_Fit/Time_and_temp_RFHEAT_N0512_DC07_RF07.npz\n",
      "[ 1.27128135e-03  2.75885404e+00 -2.99027338e-01  1.05675037e-02\n",
      "  3.10867549e-01]\n",
      "> 14 /home/adrien/Documents/Programmes/Python/THESE/RF_Temp_Fit/Time_and_temp_RFHEAT_N0512_DC08_RF08.npz\n",
      "[ 1.32276027e-02  2.56982910e+00 -1.86963293e-03  1.33336159e-02\n",
      "  3.14791651e-01]\n",
      "> 15 /home/adrien/Documents/Programmes/Python/THESE/RF_Temp_Fit/Time_and_temp_RFHEAT_N0512_DC09_RF09.npz\n",
      "[ 0.00515257  2.79041714 -0.01593388  0.01534486  0.30544419]\n",
      "> 16 /home/adrien/Documents/Programmes/Python/THESE/RF_Temp_Fit/Time_and_temp_RFHEAT_N0512_DC10_RF10.npz\n",
      "[ 0.003024    2.55956898 -0.12852439  0.01095372  0.32670838]\n",
      "> 17 /home/adrien/Documents/Programmes/Python/THESE/RF_Temp_Fit/Time_and_temp_RFHEAT_N0512_DC11_RF11.npz\n",
      "[ 2.08462437e-03  5.39617758e+02 -1.59301037e-01  1.52592054e-01\n",
      "  3.10323051e-02]\n",
      "> 18 /home/adrien/Documents/Programmes/Python/THESE/RF_Temp_Fit/Time_and_temp_RFHEAT_N0512_DC12_RF12.npz\n",
      "only first pass fit\n",
      "> 19 /home/adrien/Documents/Programmes/Python/THESE/RF_Temp_Fit/Time_and_temp_RFHEAT_N0512_DC13_RF13.npz\n",
      "[ 1.28862959e-03  5.52740081e+00 -3.26427215e-01  5.33871322e-02\n",
      "  1.36332853e-01]\n",
      "> 20 /home/adrien/Documents/Programmes/Python/THESE/RF_Temp_Fit/Time_and_temp_RFHEAT_N1024_DC05_RF05.npz\n"
     ]
    },
    {
     "name": "stderr",
     "output_type": "stream",
     "text": [
      "/tmp/ipykernel_14703/1233543013.py:40: RuntimeWarning: invalid value encountered in log10\n",
      "  log10(y_filt[start_for_fit:end_fit]),\n"
     ]
    },
    {
     "name": "stdout",
     "output_type": "stream",
     "text": [
      "[0.07092161 2.68356972 0.09789416 0.02478802 0.23362498]\n",
      "> 21 /home/adrien/Documents/Programmes/Python/THESE/RF_Temp_Fit/Time_and_temp_RFHEAT_N1024_DC06_RF06.npz\n",
      "[0.03160107 2.44662497 0.0806276  0.01332977 0.32154342]\n",
      "> 22 /home/adrien/Documents/Programmes/Python/THESE/RF_Temp_Fit/Time_and_temp_RFHEAT_N1024_DC07_RF07.npz\n",
      "[0.01400487 2.36926416 0.05062408 0.00949822 0.35957802]\n",
      "> 23 /home/adrien/Documents/Programmes/Python/THESE/RF_Temp_Fit/Time_and_temp_RFHEAT_N1024_DC08_RF08.npz\n",
      "[0.00725159 2.37394677 0.07537626 0.006037   0.4198597 ]\n",
      "> 24 /home/adrien/Documents/Programmes/Python/THESE/RF_Temp_Fit/Time_and_temp_RFHEAT_N1024_DC09_RF09.npz\n",
      "[ 1.95538664e-03  3.01171429e+00 -5.58062666e-02  1.71563590e-02\n",
      "  3.01037041e-01]\n",
      "> 25 /home/adrien/Documents/Programmes/Python/THESE/RF_Temp_Fit/Time_and_temp_RFHEAT_N1024_DC10_RF10.npz\n"
     ]
    },
    {
     "name": "stderr",
     "output_type": "stream",
     "text": [
      "/tmp/ipykernel_14703/2163242951.py:6: RuntimeWarning: invalid value encountered in power\n",
      "  return A*(t-t0) / (C+abs(t-t0)**k)**(1/k) + B\n"
     ]
    },
    {
     "name": "stdout",
     "output_type": "stream",
     "text": [
      "[ 0.00249094  2.43783227 -0.03438494  0.00707437  0.37338118]\n",
      "> 26 /home/adrien/Documents/Programmes/Python/THESE/RF_Temp_Fit/Time_and_temp_RFHEAT_N1024_DC11_RF11.npz\n",
      "[ 1.87060218e-03  3.72773224e+00 -8.20202862e-02  3.35775860e-02\n",
      "  1.93956760e-01]\n",
      "> 27 /home/adrien/Documents/Programmes/Python/THESE/RF_Temp_Fit/Time_and_temp_RFHEAT_N1024_DC12_RF12.npz\n",
      "[ 1.58812162e-03  5.35584143e+00 -1.28567839e-01  5.44284477e-02\n",
      "  1.28702591e-01]\n",
      "> 28 /home/adrien/Documents/Programmes/Python/THESE/RF_Temp_Fit/Time_and_temp_RFHEAT_N1024_DC13_RF13.npz\n",
      "[ 1.38060280e-03  5.15108125e+00 -1.62226109e-01  4.99056622e-02\n",
      "  1.50211268e-01]\n",
      "total amount of non fitted curves 4\n"
     ]
    }
   ],
   "source": [
    "# Fit all curves\n",
    "# with first fit with T threshold\n",
    "# then fit is done again\n",
    "# data cut after few ms after first t0\n",
    "popt_smooth = []\n",
    "temp_to_end = 100 # Temperature to stop the fit\n",
    "start_for_fit = 200\n",
    "T_crit = 0.2\n",
    "print('file to analyze')\n",
    "not_fitted = 0\n",
    "for to_fit,j in enumerate(file_path):\n",
    "    if to_fit!=0 and to_fit!=9 and to_fit!=10 and to_fit!=11:\n",
    "    # retrive time and temperature from the curve\n",
    "        print('>',to_fit,j)\n",
    "        x  = time[to_fit]\n",
    "        y  = T_aux_avg[to_fit]\n",
    "        \n",
    "        # Smoothing signal with zero delay shift fit\n",
    "        b, a = signal.butter(8, 0.125)\n",
    "        y_filt = signal.filtfilt(b, a, y, padlen=150)\n",
    "                        \n",
    "        # select index of temp where stop the fit\n",
    "        # I stop the fit when T reaches a given T\n",
    "        index_100K = argmin(abs(y_filt-temp_to_end))\n",
    "        end_fit = index_100K\n",
    "\n",
    "        # Fit parameters first guesses\n",
    "        t0_first_guess = x[where(min(abs(y_filt-T_crit))==abs(y_filt-T_crit))][0] # 2.5e-3\n",
    "        B0 = log10(T_crit) # log10( y[where(min(abs(y-T_crit))==abs(y-T_crit))][0] )\n",
    "        A0 = log10(max(y_filt[start_for_fit:end_fit]) - B0)\n",
    "        p0 = [t0_first_guess,A0,B0,0.01,0.2]\n",
    "        popt, pcov = curve_fit(func5, x[start_for_fit:end_fit], log10(y_filt[start_for_fit:end_fit]),\n",
    "                               p0, maxfev= 25000)\n",
    "        t0_second_guess = popt[0]\n",
    "        index_stoptime = argmin(abs(x-(t0_second_guess+2e-3)))\n",
    "        end_fit = index_stoptime\n",
    "\n",
    "        # set initial guess of fit parameters\n",
    "        p0 = [t0_second_guess,A0,B0,0.01,0.2]\n",
    "        try:\n",
    "            # proper fit of the smoothed curve limiter up to threshold T\n",
    "            popt, pcov = curve_fit(func5, x[start_for_fit:end_fit],\n",
    "                                          log10(y_filt[start_for_fit:end_fit]),\n",
    "                                   p0, maxfev= 25000,\n",
    "                                   bounds=((t0_first_guess-5,log10(0),log10(0),0,0),(t0_second_guess+5,100000,1,1.01,1)))\n",
    "            print(popt)\n",
    "            popt_smooth.append(popt)\n",
    "        except RuntimeError:\n",
    "            print('Optimal parameters not found: Number of calls to function has reached maxfev')\n",
    "            not_fitted += 1\n",
    "        except ValueError:\n",
    "            print('only first pass fit')\n",
    "            popt_smooth.append(popt)\n",
    "    else:\n",
    "        print('>',to_fit,j)\n",
    "        print('Data skipped')\n",
    "        not_fitted += 1\n",
    "print('total amount of non fitted curves',not_fitted)"
   ]
  },
  {
   "cell_type": "code",
   "execution_count": 792,
   "id": "0bed30b4",
   "metadata": {},
   "outputs": [
    {
     "data": {
      "text/plain": [
       "array([0.01279912, 0.00127116, 0.01150881, 0.00515209, 0.00302405,\n",
       "       0.00208403, 0.00168962, 0.00128867])"
      ]
     },
     "execution_count": 792,
     "metadata": {},
     "output_type": "execute_result"
    }
   ],
   "source": [
    "figure('coucou2')\n",
    "plot(array(popt_rework[1])[:,0])\n",
    "array(popt_rework[1])[:,0]"
   ]
  },
  {
   "cell_type": "code",
   "execution_count": 971,
   "id": "55e2a418",
   "metadata": {},
   "outputs": [
    {
     "name": "stdout",
     "output_type": "stream",
     "text": [
      "fit_params_0256ions\n",
      "fit_params_0512ions\n",
      "fit_params_1024ions\n"
     ]
    }
   ],
   "source": [
    "popt_rework = [popt_smooth[:8],\n",
    "              popt_smooth[8:16], # 7:15\n",
    "              popt_smooth[16:]]\n",
    "#  3     4     5     6     7     8     9     10    11    12    13\n",
    "# 31.0, 42.0, 55.4, 57.4, 59.5, 61.5, 63.6, 65.6, 67.7, 69.7, 71.8\n",
    "#             0.54  0.56  0.58  0.6   0.62  0.64  0.66  0.68  0.7\n",
    "Urf_rework = [[57.4, 59.5, 61.5, 63.6, 65.6, 67.7, 69.7, 71.8],\n",
    "             [57.4, 59.5, 61.5, 63.6, 65.6, 67.7, 69.7, 71.8], # 57.4, 59.5, \n",
    "             [55.4, 57.4, 59.5, 61.5, 63.6, 65.6, 67.7, 69.7, 71.8]]\n",
    "q_rework = [[0.56,  0.58,  0.6,   0.62,  0.64,  0.66,  0.68,  0.7],\n",
    "             [0.56,  0.58,  0.6,   0.62,  0.64,  0.66,  0.68,  0.7], # 57.4, 59.5, \n",
    "             [0.54, 0.56,  0.58,  0.6,   0.62,  0.64,  0.66,  0.68,  0.7]]\n",
    "N_rework = [256, 512, 1024]\n",
    "\n",
    "for k,l in enumerate(N_rework):\n",
    "    print(f'fit_params_{l:04d}ions')\n",
    "    np.savez( f'fit_params_{l:04d}ions', fit_param=popt_rework[k], Urf=Urf_rework[k], N=N_rework[k])\n",
    "\n",
    "# func5(t, t0, A, B, C, k)\n",
    "# with load('/home/adrien/Documents/Programmes/Python/THESE/RF_Temp_Fit/fit_params_0256ions.npz') as data:\n",
    "#     a = data['N']\n",
    "# print(a)"
   ]
  },
  {
   "cell_type": "code",
   "execution_count": 972,
   "id": "dfcc1c12",
   "metadata": {},
   "outputs": [],
   "source": [
    "figure('fit_parameters',clear=True)\n",
    "ax1 = subplot(151)\n",
    "for k in range(3):\n",
    "    ax1.plot(Urf_rework[k],array(popt_rework[k])[:,0]*1e3,color=cm(k/5),ls=':',marker='P',label=N_rework[k])\n",
    "    ax1.set_xlabel('$U_{RF}$ [V]')\n",
    "    ax1.set_ylabel('$t_0$ [ms]')\n",
    "    ax1.grid()\n",
    "    ax1.legend(title='N',fontsize=12)\n",
    "    ax2 = subplot(152)\n",
    "    ax2.plot(Urf_rework[k],array(popt_rework[k])[:,1],color=cm(k/5),ls=':',marker='P',label=N_rework[k])\n",
    "    ax2.set_xlabel('$U_{RF}$ [V]')\n",
    "    ax2.set_ylabel('$A$ [K]')\n",
    "    ax2.grid()\n",
    "    ax2.legend(title='N',fontsize=12)\n",
    "    ax3 = subplot(153)\n",
    "    ax3.plot(Urf_rework[k],10**array(popt_rework[k])[:,2],color=cm(k/5),ls=':',marker='P',label=N_rework[k])\n",
    "    ax3.set_xlabel('$U_{RF}$ [V]')\n",
    "    ax3.set_ylabel('$B$ [K]')\n",
    "    ax3.grid()\n",
    "    ax3.legend(title='N',fontsize=12)\n",
    "    ax4 = subplot(154)\n",
    "    ax4.plot(Urf_rework[k],array(popt_rework[k])[:,3]*1e3,color=cm(k/5),ls=':',marker='P',label=N_rework[k])\n",
    "    ax4.set_xlabel('$U_{RF}$ [V]')\n",
    "    ax4.set_ylabel('$C$ [ms]')\n",
    "    ax4.grid()\n",
    "    ax4.legend(title='N',fontsize=12)\n",
    "    ax5 = subplot(155)\n",
    "    ax5.plot(Urf_rework[k],array(popt_rework[k])[:,4],color=cm(k/5),ls=':',marker='P',label=N_rework[k])\n",
    "    ax5.set_xlabel('$U_{RF}$ [V]')\n",
    "    ax5.set_ylabel('$k$ [1]')\n",
    "    ax5.grid()\n",
    "    ax5.legend(title='N',fontsize=12)\n",
    "tight_layout()"
   ]
  },
  {
   "cell_type": "code",
   "execution_count": 1029,
   "id": "68ec8644",
   "metadata": {},
   "outputs": [],
   "source": [
    "fig = figure('fit_parameter_t0',clear=True)\n",
    "fig.set_size_inches(11.7, 8.3)\n",
    "ax1 = subplot(111)\n",
    "for k in range(3):\n",
    "    ax1.plot(Urf_rework[k],array(popt_rework[k])[:,0]*1e3,color=cm(k/5),ls=':',marker='P',ms=10,mew=1,label=N_rework[k])\n",
    "    ax1.set_xlabel('$U_{RF}$ [V]')\n",
    "    ax1.set_ylabel('$t_0$ [ms]')\n",
    "    ax1.grid()\n",
    "    ax1.legend(title='N',fontsize=12)\n",
    "tight_layout()\n",
    "    \n",
    "fig = figure('fit_parameter_t0_bis',clear=True)\n",
    "fig.set_size_inches(11.7, 8.3)\n",
    "ax1 = subplot(111)\n",
    "for k in range(3):\n",
    "    ax1.plot(array(q_rework[k]),(array(popt_rework[k])[:,0]*1e3)**(-1/2),color=cm(k/5),ls=':',marker='P',ms=10,label=N_rework[k])\n",
    "    ax1.set_xlabel('$q_x$')\n",
    "    ax1.set_ylabel('$t_0$ [ms]')\n",
    "    ax1.grid()\n",
    "    ax1.legend(title='N',fontsize=12)\n",
    "tight_layout()"
   ]
  },
  {
   "cell_type": "code",
   "execution_count": 1031,
   "id": "687f0fc9",
   "metadata": {},
   "outputs": [],
   "source": [
    "fig = figure('fit_parameter_B',clear=True)\n",
    "fig.set_size_inches(11.7, 8.3)\n",
    "ax1 = subplot(111)\n",
    "for k in range(3):\n",
    "    ax1.plot(Urf_rework[k],array(popt_rework[k])[:,2]*1e3,color=cm(k/5),ls=':',marker='P',ms=10,mew=1,label=N_rework[k])\n",
    "    ax1.set_xlabel('$U_{RF}$ [V]')\n",
    "    ax1.set_ylabel('$t_0$ [ms]')\n",
    "    ax1.grid()\n",
    "    ax1.legend(title='N',fontsize=12)\n",
    "tight_layout()\n",
    "    \n",
    "fig = figure('fit_parameter_B_bis',clear=True)\n",
    "fig.set_size_inches(11.7, 8.3)\n",
    "ax1 = subplot(111)\n",
    "for k in range(3):\n",
    "    ax1.plot(array(q_rework[k]),array(popt_rework[k])[:,2]*1e3,color=cm(k/5),ls=':',marker='P',ms=10,label=N_rework[k])\n",
    "    ax1.set_xlabel('$q_x$')\n",
    "    ax1.set_ylabel('$t_0$ [ms]')\n",
    "    ax1.grid()\n",
    "    ax1.legend(title='N',fontsize=12)\n",
    "tight_layout()"
   ]
  },
  {
   "cell_type": "code",
   "execution_count": 484,
   "id": "cca64a7f",
   "metadata": {},
   "outputs": [
    {
     "data": {
      "text/plain": [
       "(2238.72113856834, 0.05623413251903491, -2.0)"
      ]
     },
     "execution_count": 484,
     "metadata": {},
     "output_type": "execute_result"
    }
   ],
   "source": [
    "10**3.35,10**-1.25,log10(1e-2)"
   ]
  },
  {
   "cell_type": "code",
   "execution_count": 100,
   "id": "ac8a5ef0",
   "metadata": {},
   "outputs": [
    {
     "name": "stdout",
     "output_type": "stream",
     "text": [
      "func5 [ 1.40006246e-02  2.56120559e+01 -4.19957915e-02  7.66239917e-02\n",
      "  3.35693425e-02]\n"
     ]
    },
    {
     "name": "stderr",
     "output_type": "stream",
     "text": [
      "/tmp/ipykernel_14703/3574187304.py:36: UserWarning: Attempted to set non-positive bottom ylim on a log-scaled axis.\n",
      "Invalid limit will be ignored.\n",
      "  ylim(-1,80)\n"
     ]
    },
    {
     "data": {
      "text/plain": [
       "(0.0011348173066698466, 80)"
      ]
     },
     "execution_count": 100,
     "metadata": {},
     "output_type": "execute_result"
    }
   ],
   "source": [
    "to_fit = 22 #11\n",
    "start_for_fit = 1000\n",
    "end_for_fit = [int(500000-1),140000,17700,7000,4800, # 17700\n",
    "               470000,480000,490000,27500,5500, # 24000\n",
    "               50000,28500,23500,30000,14500,\n",
    "              0,0,0,0,0,\n",
    "              0,0,27000,0,0,\n",
    "              0,0,0,0,0]\n",
    "end_fit = end_for_fit[to_fit]\n",
    "x  = time[to_fit]\n",
    "y  = T_aux_avg[to_fit]\n",
    "T_crit = 0.5\n",
    "t0_first_guess = x[where(min(abs(y-T_crit))==abs(y-T_crit))][0] # 2.5e-3\n",
    "B0 = T_crit # log10( y[where(min(abs(y-T_crit))==abs(y-T_crit))][0] )\n",
    "A0 =  max(y[start_for_fit:end_fit]) - B0\n",
    "figure('testfitinlin',clear='True')\n",
    "#xlim(0.8,6)\n",
    "grid()\n",
    "plot(x*1e3, y ,label=r'$T$',color='C0')\n",
    "b, a = signal.butter(8, 0.125)\n",
    "y_filt = signal.filtfilt(b, a, y, padlen=150)\n",
    "semilogy(x*1e3, y_filt ,label=r'$T filt$',color='C1',ls=':')\n",
    "vlines(x[end_fit]*1e3,1e-2,150,color='k')\n",
    "\n",
    "p0 = [t0_first_guess,A0,B0,0.5,0.5]\n",
    "popt, pcov = curve_fit(func5, x[start_for_fit:end_fit], log10(y[start_for_fit:end_fit]), p0, maxfev= 25000)\n",
    "print('func5',popt)\n",
    "kfunc5 = popt[4]\n",
    "y_fit5 = func5(x[start_for_fit:end_fit],*popt)\n",
    "semilogy(x[start_for_fit:end_fit]*1e3,10**y_fit5,color='r',ls='--',label=r'5$|t-t_0|^k$')\n",
    "\n",
    "#hlines(y[],1000,x[-1],color='k',ls=':')\n",
    "legend()\n",
    "#xlim(0.8,x[end_fit]*1e3+0.1)\n",
    "xlim(10,15)\n",
    "ylim(-1,80)"
   ]
  },
  {
   "cell_type": "code",
   "execution_count": 85,
   "id": "77268327",
   "metadata": {},
   "outputs": [
    {
     "data": {
      "text/plain": [
       "[0.013997624500000002, 1.9295392143002807, -0.3010299956639812, 0.5, 0.5]"
      ]
     },
     "execution_count": 85,
     "metadata": {},
     "output_type": "execute_result"
    }
   ],
   "source": [
    "p0"
   ]
  },
  {
   "cell_type": "code",
   "execution_count": 387,
   "id": "ad197381",
   "metadata": {},
   "outputs": [
    {
     "data": {
      "text/plain": [
       "3.1030781265267713e-10"
      ]
     },
     "execution_count": 387,
     "metadata": {},
     "output_type": "execute_result"
    }
   ],
   "source": []
  },
  {
   "cell_type": "code",
   "execution_count": 321,
   "id": "d1cf999f",
   "metadata": {},
   "outputs": [
    {
     "data": {
      "text/plain": [
       "[<matplotlib.lines.Line2D at 0x7f1ea5665870>]"
      ]
     },
     "execution_count": 321,
     "metadata": {},
     "output_type": "execute_result"
    }
   ],
   "source": [
    "figure('displaylogfit',clear='True')\n",
    "#xlim(0.8,6)\n",
    "grid()\n",
    "#semilogy(x*1e3, y ,label=r'$T$',color='C0')\n",
    "plot(x*1e3, log(y) ,label=r'$T filt$',color='C0',lw=0.5)\n",
    "#plot(x*1e3, arctanh(y_filt) ,label=r'$T filt$',color='C1',ls=':')\n",
    "#semilogy(x[start_for_fit:end_fit]*1e3,y_fit6,color='r',ls='--',label=r'$|x|^k$')\n",
    "#semilogy(x[start_for_fit:end_fit]*1e3,y_fit2,color='m',label=r'$(t-t_0)^2$')"
   ]
  },
  {
   "cell_type": "code",
   "execution_count": 369,
   "id": "e0043c87",
   "metadata": {},
   "outputs": [
    {
     "name": "stdout",
     "output_type": "stream",
     "text": [
      "4.28 -0.28\n",
      "0.000252316507639044\n"
     ]
    }
   ],
   "source": [
    "xtest=linspace(0,50,10000)\n",
    "t0test=2\n",
    "figure('testplot',clear='True')\n",
    "#xlim(0.8,6)\n",
    "grid()\n",
    "#plot(x*1e3, y ,label=r'$T$',color='C0')\n",
    "#plot(x*1e3, y_filt ,label=r'$T filt$',color='C1',ls=':')\n",
    "\n",
    "B = -0.28 #log10(0.1)\n",
    "A = 4 - B\n",
    "print(A,B)\n",
    "p0 = [ 14,  log10(100), log10(1e-1),  1, 0.45]\n",
    "#plot(xtest,func5(xtest,*p0),color='r')\n",
    "plot(xtest,func2_to10(xtest,*p0),color='b')\n",
    "\n",
    "print(min(func2_to10(xtest,*p0)))\n",
    "tight_layout()"
   ]
  },
  {
   "cell_type": "code",
   "execution_count": 435,
   "id": "fdb66e59",
   "metadata": {},
   "outputs": [
    {
     "name": "stdout",
     "output_type": "stream",
     "text": [
      "/home/adrien/Documents/Programmes/Python/THESE/RF_Temp_Fit/Time_and_temp_RFHEAT_N1024_DC09_RF09.npz\n"
     ]
    }
   ],
   "source": [
    "# OK pour la temperature\n",
    "x = linspace(-10,10,1000)\n",
    "\n",
    "print(file_path[to_plot])\n",
    "# test plot\n",
    "index_max = 1900\n",
    "figure(1111,clear='True')\n",
    "#semilogy(time[to_plot]*1e3,T_aux_avg[to_plot],color='r')\n",
    "plot(x,tanh_plus(x,1,1,0,0.1,0),color='r')\n",
    "#b, a = signal.butter(8, 0.125)\n",
    "#y = signal.filtfilt(b, a, T_aux_avg[to_plot], padlen=150)\n",
    "#semilogy(time[to_plot]*1e3,y,color='b')\n",
    "xlabel('time [ms]')\n",
    "ylabel('T [K]')\n",
    "# xlim(1,1.1)\n",
    "grid()\n",
    "tight_layout()"
   ]
  },
  {
   "cell_type": "code",
   "execution_count": 495,
   "id": "0b2f64e0",
   "metadata": {},
   "outputs": [
    {
     "data": {
      "text/plain": [
       "24.60000000000015"
      ]
     },
     "execution_count": 495,
     "metadata": {},
     "output_type": "execute_result"
    }
   ],
   "source": [
    "N_period"
   ]
  },
  {
   "cell_type": "code",
   "execution_count": 241,
   "id": "060e30bd",
   "metadata": {},
   "outputs": [],
   "source": [
    "time_step = 48//4 # 488 # 488\n",
    "y_filt_diff = y_filt[time_step:]-y_filt[:-time_step]\n",
    "x_avg = (x[:-time_step]) *1e3 # x_avg = (x[time_step:]+x[:-time_step])/2 *1e3\n",
    "N_period = (x[time_step]-x[0])*(Omega/2/pi)\n",
    "\n",
    "figure(11,clear='True')\n",
    "plot(x_avg,y_filt_diff/N_period)\n",
    "plot(x[start_for_fit:end_fit-1]*1e3,\n",
    "     diff(y_fit2)/(diff(x[start_for_fit:end_fit])*(Omega/2/pi)),color='m' ) # / 10000000\n",
    "plot(x[start_for_fit:end_fit-1]*1e3,\n",
    "     diff(y_fit2bis)/(diff(x[start_for_fit:end_fit])*(Omega/2/pi)),color='deeppink' ) # / 10000000\n",
    "plot(x[start_for_fit:end_fit-1]*1e3,\n",
    "     diff(y_fit5)/(diff(x[start_for_fit:end_fit])*(Omega/2/pi)),color='r',ls='--' ) # / 10000000\n",
    "plot(x[start_for_fit:end_fit-1]*1e3,\n",
    "     diff(y_fit6)/(diff(x[start_for_fit:end_fit])*(Omega/2/pi)),color='r',ls=':') # / 10000000\n",
    "\n",
    "xlabel('t [ms]')\n",
    "ylabel('H [K/period]')\n",
    "grid()\n",
    "xlim(t0_first_guess*1e3-1,t0_first_guess*1e3+1)\n",
    "ylim(-1,1)\n",
    "tight_layout()"
   ]
  },
  {
   "cell_type": "code",
   "execution_count": 232,
   "id": "60112fdc",
   "metadata": {},
   "outputs": [
    {
     "data": {
      "text/plain": [
       "array([1.04030154, 1.04030154, 1.04030154, ..., 1.04030154, 1.04030154,\n",
       "       1.04030154])"
      ]
     },
     "execution_count": 232,
     "metadata": {},
     "output_type": "execute_result"
    }
   ],
   "source": [
    "y_fit7"
   ]
  }
 ],
 "metadata": {
  "kernelspec": {
   "display_name": "Python 3 (ipykernel)",
   "language": "python",
   "name": "python3"
  },
  "language_info": {
   "codemirror_mode": {
    "name": "ipython",
    "version": 3
   },
   "file_extension": ".py",
   "mimetype": "text/x-python",
   "name": "python",
   "nbconvert_exporter": "python",
   "pygments_lexer": "ipython3",
   "version": "3.10.4"
  }
 },
 "nbformat": 4,
 "nbformat_minor": 5
}
