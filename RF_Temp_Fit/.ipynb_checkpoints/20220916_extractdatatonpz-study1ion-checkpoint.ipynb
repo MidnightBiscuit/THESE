{
 "cells": [
  {
   "cell_type": "code",
   "execution_count": 3,
   "id": "daa8f4c3",
   "metadata": {},
   "outputs": [
    {
     "name": "stdout",
     "output_type": "stream",
     "text": [
      "Using matplotlib backend: TkAgg\n",
      "Populating the interactive namespace from numpy and matplotlib\n"
     ]
    }
   ],
   "source": [
    "%pylab"
   ]
  },
  {
   "cell_type": "code",
   "execution_count": 2,
   "id": "76e5594e",
   "metadata": {},
   "outputs": [],
   "source": [
    "import tkinter as tk\n",
    "from tkinter import filedialog\n",
    "\n",
    "from scipy import signal\n",
    "from scipy.signal import find_peaks\n",
    "\n",
    "# %matplotlib qt"
   ]
  },
  {
   "cell_type": "code",
   "execution_count": 4,
   "id": "916883eb",
   "metadata": {
    "scrolled": true
   },
   "outputs": [],
   "source": [
    "%run functions\n",
    "matplotlib.rcParams.update({'font.size': 25})"
   ]
  },
  {
   "cell_type": "code",
   "execution_count": 45,
   "id": "efce5ee7",
   "metadata": {},
   "outputs": [
    {
     "name": "stdout",
     "output_type": "stream",
     "text": [
      "$\\kappa_{simion}$ = 0.328007\n"
     ]
    }
   ],
   "source": [
    "# Constantes de la physique\n",
    "# ABSOLUMENT RECHARGER APRÈS AVOIR EXECUTÉ LES CASES D'IMPORT AU DESSUS\n",
    "\n",
    "C_e = 1.602e-19        # Coulomb\n",
    "kb = 1.38064852*1e-23  # Boltzman\n",
    "m_Ca = 40.078*1.66054e-27 # masse Ca 40.078\n",
    "m_GM = 1e6*1.66054e-27 # la masse de la GMol\n",
    "eps0 = 8.854187*1e-12  # permittivité électrique du vide\n",
    "\n",
    "r0 = 2.5e-3 # 2.5e-3   # rayon piège Ca+\n",
    "d0 = 4e-3/2            # longueur piège Ca+\n",
    "\n",
    "Omega = 2.0e6*2*pi # 2.047e6\n",
    "\n",
    "bk = 4 # nombre de barreaux par groupe (2 -> 4-pole , 4 -> 8-pole ...)\n",
    "\n",
    "mkappa = 0.23          # écrantage piège réel GiantMol\n",
    "\n",
    "wzLC = (2*pi*100000)**2\n",
    "kappa_simion = m_Ca*d0**2*wzLC/(2*C_e)\n",
    "print('%s = %f' % ('$\\kappa_{simion}$',kappa_simion) )\n",
    "\n",
    "zeta = kappa_simion*r0**2/d0**2"
   ]
  },
  {
   "cell_type": "code",
   "execution_count": 226,
   "id": "02204cee",
   "metadata": {},
   "outputs": [],
   "source": [
    "file_path = '/home/adrien/RemoteFS/Rivendel/Simulations/20220916' # 20220610\n",
    "# file_path = '/home/adrien/RemoteFS/Rivendel/Simulations/20220512'\n",
    "# file_path = '/home/adrien/RemoteFS/Rivendel/Simulations/20220510'\n",
    "\n",
    "all_subdir = []\n",
    "all_Temp = []\n",
    "all_trjN = []\n",
    "all_trj1 = []\n",
    "all_xva_3DHarmo = []\n",
    "all_xva_start = []\n",
    "\n",
    "# selection of all directories where\n",
    "# there are data files\n",
    "for i,j in enumerate(os.walk(file_path)):\n",
    "    if 'Try' in j[0]:\n",
    "        all_subdir.append(j[0])\n",
    "    # selection of all data files\n",
    "    # interesting me\n",
    "    for k,l in enumerate(j[2]):\n",
    "        if 'TrjN' in l:\n",
    "            all_trjN.append(j[0]+'/'+l)\n",
    "        if 'Trj1' in l:\n",
    "            all_trj1.append(j[0]+'/'+l)\n",
    "            #print(l)\n",
    "        if 'SimuType0' and '.dat' in l:\n",
    "            all_Temp.append(j[0]+'/'+l)\n",
    "        if 'xva_3D' in l:\n",
    "            all_xva_3DHarmo.append(j[0]+'/'+l)\n",
    "        if 'xva_start' in l:\n",
    "            all_xva_start.append(j[0]+'/'+l)\n",
    "        #print(j[0],'\\n')\n",
    "all_subdir.sort()\n",
    "all_Temp.sort()\n",
    "all_xva_3DHarmo.sort()\n",
    "all_xva_start.sort()\n",
    "all_trjN.sort()\n",
    "# for i in range(len(all_subdir)):\n",
    "#     print(all_subdir[i],'\\n',all_Temp[i],'\\n',all_trjN[i],'\\n')"
   ]
  },
  {
   "cell_type": "code",
   "execution_count": 227,
   "id": "11c88980",
   "metadata": {},
   "outputs": [
    {
     "data": {
      "text/plain": [
       "['/home/adrien/RemoteFS/Rivendel/Simulations/20220916/DC00_RF00/Try00/Temp_SimuType0_N00001_Vrf0010_Udc0.3346D+00V_nt1000.dat',\n",
       " '/home/adrien/RemoteFS/Rivendel/Simulations/20220916/DC10_RF10/Try00/Temp_SimuType0_N00001_Vrf0065_Udc0.1671D+02V_nt1000.dat']"
      ]
     },
     "execution_count": 227,
     "metadata": {},
     "output_type": "execute_result"
    }
   ],
   "source": [
    "all_Temp"
   ]
  },
  {
   "cell_type": "code",
   "execution_count": 228,
   "id": "afa2f85c",
   "metadata": {},
   "outputs": [
    {
     "name": "stdout",
     "output_type": "stream",
     "text": [
      "/home/adrien/RemoteFS/Rivendel/Simulations/20220916/DC00_RF00/Try00/Temp_SimuType0_N00001_Vrf0010_Udc0.3346D+00V_nt1000.dat\n",
      "DC00_RF00\n",
      "[360000]\n",
      "[360000]\n",
      "Time_and_temp_1ion_RFHEAT_N0001_DC00_RF00\n",
      "/home/adrien/RemoteFS/Rivendel/Simulations/20220916/DC10_RF10/Try00/Temp_SimuType0_N00001_Vrf0065_Udc0.1671D+02V_nt1000.dat\n",
      "DC10_RF10\n",
      "[360000]\n",
      "[360000]\n",
      "Time_and_temp_1ion_RFHEAT_N0001_DC10_RF10\n"
     ]
    }
   ],
   "source": [
    "for j,k in enumerate(all_subdir):\n",
    "    print(all_Temp[j])\n",
    "    str_N  = all_Temp[j].find('_N')\n",
    "    cond_N = all_Temp[j][str_N+3:str_N+7]\n",
    "    str_v  = all_subdir[j].find('DC')\n",
    "    cond   = all_Temp[j][str_v:str_v+9]\n",
    "    print(cond)\n",
    "    outfile = 'Time_and_temp_1ion_RFHEAT_N'+ str(cond_N) + '_' + str(cond)\n",
    "    \n",
    "    data = loadtxt(all_Temp[j])\n",
    "    time_s = data[:,0]\n",
    "    T_CM = data[:,1:4]\n",
    "    T_aux = data[:,4:]\n",
    "    T_aux_avg = mean(T_aux,axis=1)\n",
    "    r2_v2 = load_xv2rlim(all_trjN[j])\n",
    "    rv_1ion = load_x_afterstart(all_trjN[j][:-5]+'1.bin')\n",
    "    #r2    = r2_v2[0:3,:]\n",
    "    #v2    = r2_v2[3:6,:]\n",
    "    #rlim  = r2_v2[6:9,:]\n",
    "    \n",
    "    np.savez( outfile, time=time_s, temp=T_aux_avg, r2_v2_rlim=r2_v2, rv_1ion=rv_1ion) # dirname_hc=re.sub(r'\\\\',r'/',dirname_hc)\n",
    "    print(outfile) # , r2_v2_rlim=r2_v2"
   ]
  },
  {
   "cell_type": "code",
   "execution_count": 251,
   "id": "f6f549f2",
   "metadata": {},
   "outputs": [],
   "source": [
    "# infile = '/home/adrien/Documents/Programmes/Python/THESE/RF_Temp_Fit/Time_and_temp_1ion_RFHEAT_N0001_DC10_RF10.npz'\n",
    "infile = '/home/adrien/Documents/Programmes/Python/THESE/RF_Temp_Fit/Time_and_temp_1ion_RFHEAT_N0001_DC00_RF00.npz'\n",
    "with numpy.load(infile) as data:\n",
    "    a = data['time']\n",
    "    b = data['temp']\n",
    "    c = data['r2_v2_rlim']\n",
    "    d = data['rv_1ion']"
   ]
  },
  {
   "cell_type": "code",
   "execution_count": 252,
   "id": "7b2fbeda",
   "metadata": {},
   "outputs": [],
   "source": [
    "step_start = 1000\n",
    "step_stop = len(d[0]) - 1000\n",
    "dt = diff(a)[0]/1000\n",
    "fs = 1/dt\n",
    "\n",
    "time = linspace(min(a),max(a),len(d[0]))[step_start:step_stop]\n",
    "\n",
    "y = d[0][step_start:step_stop]\n",
    "\n",
    "figure('trajectory',clear=True)\n",
    "plot(time*1e3,y)\n",
    "xlabel('t [ms]')\n",
    "grid()\n",
    "tight_layout()\n",
    "\n",
    "sp = np.fft.fft(y)\n",
    "freq = np.fft.fftfreq(time.shape[-1],dt)*1e-3\n",
    "figure('FFT trajectory',clear=True)\n",
    "# plt.plot(freq, sp.real)\n",
    "plt.plot(freq, abs(sp.real))\n",
    "\n",
    "peaks, _ = find_peaks(abs(sp.real), distance = 10, height=0.0001)\n",
    "plt.plot(freq[peaks], abs(sp.real[peaks]), \"P\")\n",
    "\n",
    "xlabel('f [kHz]')\n",
    "\n",
    "grid()\n",
    "xlim(-1e1,2.8e3)\n",
    "tight_layout()"
   ]
  },
  {
   "cell_type": "code",
   "execution_count": 254,
   "id": "9d001712",
   "metadata": {},
   "outputs": [
    {
     "data": {
      "text/plain": [
       "array([   58.02319767,  1941.97640217,  2058.02279751,  3941.97600201,\n",
       "        4058.02239735, -4058.02239735, -3941.97600201, -2058.02279751,\n",
       "       -1941.97640217,   -58.02319767])"
      ]
     },
     "execution_count": 254,
     "metadata": {},
     "output_type": "execute_result"
    }
   ],
   "source": [
    "freq[peaks]"
   ]
  },
  {
   "cell_type": "code",
   "execution_count": 255,
   "id": "9b3a63ef",
   "metadata": {},
   "outputs": [
    {
     "data": {
      "text/plain": [
       "0.4963548937490371"
      ]
     },
     "execution_count": 255,
     "metadata": {},
     "output_type": "execute_result"
    }
   ],
   "source": [
    "( 58.023-57.735)/ 58.023 * 100"
   ]
  },
  {
   "cell_type": "code",
   "execution_count": 250,
   "id": "13ded12d",
   "metadata": {},
   "outputs": [
    {
     "data": {
      "text/plain": [
       "1.7668483317825228"
      ]
     },
     "execution_count": 250,
     "metadata": {},
     "output_type": "execute_result"
    }
   ],
   "source": [
    "(376.150-369.504)/376.150 * 100"
   ]
  },
  {
   "cell_type": "code",
   "execution_count": 256,
   "id": "5bbf195a",
   "metadata": {},
   "outputs": [
    {
     "data": {
      "text/plain": [
       "0.9649752086671018"
      ]
     },
     "execution_count": 256,
     "metadata": {},
     "output_type": "execute_result"
    }
   ],
   "source": [
    "369.504**2/376.150**2"
   ]
  },
  {
   "cell_type": "code",
   "execution_count": 247,
   "id": "75afdfa7",
   "metadata": {},
   "outputs": [
    {
     "data": {
      "text/plain": [
       "1999.9995998397503"
      ]
     },
     "execution_count": 247,
     "metadata": {},
     "output_type": "execute_result"
    }
   ],
   "source": [
    "(freq[peaks][1] + freq[peaks][2])/2"
   ]
  }
 ],
 "metadata": {
  "kernelspec": {
   "display_name": "Python 3 (ipykernel)",
   "language": "python",
   "name": "python3"
  },
  "language_info": {
   "codemirror_mode": {
    "name": "ipython",
    "version": 3
   },
   "file_extension": ".py",
   "mimetype": "text/x-python",
   "name": "python",
   "nbconvert_exporter": "python",
   "pygments_lexer": "ipython3",
   "version": "3.10.4"
  }
 },
 "nbformat": 4,
 "nbformat_minor": 5
}
