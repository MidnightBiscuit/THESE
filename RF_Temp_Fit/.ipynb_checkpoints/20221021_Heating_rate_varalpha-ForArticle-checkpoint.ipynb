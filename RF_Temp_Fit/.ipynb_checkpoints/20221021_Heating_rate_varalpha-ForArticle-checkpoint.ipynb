{
 "cells": [
  {
   "cell_type": "code",
   "execution_count": 1,
   "id": "2b7e5f6e",
   "metadata": {},
   "outputs": [
    {
     "data": {
      "text/html": [
       "<style>.container { width:95% !important; }</style>"
      ],
      "text/plain": [
       "<IPython.core.display.HTML object>"
      ]
     },
     "metadata": {},
     "output_type": "display_data"
    }
   ],
   "source": [
    "from IPython.display import display, HTML\n",
    "display(HTML(\"<style>.container { width:95% !important; }</style>\"))"
   ]
  },
  {
   "cell_type": "code",
   "execution_count": 2,
   "id": "daa8f4c3",
   "metadata": {},
   "outputs": [
    {
     "name": "stdout",
     "output_type": "stream",
     "text": [
      "Using matplotlib backend: TkAgg\n",
      "Populating the interactive namespace from numpy and matplotlib\n"
     ]
    }
   ],
   "source": [
    "%pylab"
   ]
  },
  {
   "cell_type": "code",
   "execution_count": 3,
   "id": "76e5594e",
   "metadata": {},
   "outputs": [],
   "source": [
    "from scipy.optimize import curve_fit\n",
    "\n",
    "import tkinter as tk\n",
    "from tkinter import filedialog\n",
    "\n",
    "import os\n",
    "\n",
    "from scipy import signal\n",
    "import scipy.integrate as integrate\n",
    "import matplotlib.ticker as ticker\n",
    "\n",
    "# %matplotlib qt"
   ]
  },
  {
   "cell_type": "code",
   "execution_count": 4,
   "id": "916883eb",
   "metadata": {
    "scrolled": true
   },
   "outputs": [],
   "source": [
    "%run functions\n",
    "matplotlib.rcParams.update({'font.size': 25})\n",
    "cm = pylab.get_cmap('tab10')\n",
    "cm2 = pylab.get_cmap('Set1')\n",
    "cm3 = pylab.get_cmap('turbo')"
   ]
  },
  {
   "cell_type": "code",
   "execution_count": 77,
   "id": "efce5ee7",
   "metadata": {},
   "outputs": [
    {
     "name": "stdout",
     "output_type": "stream",
     "text": [
      "$\\kappa_{simion}$ = 0.270471\n"
     ]
    }
   ],
   "source": [
    "# Constantes de la physique\n",
    "# ABSOLUMENT RECHARGER APRÈS AVOIR EXECUTÉ LES CASES D'IMPORT AU DESSUS\n",
    "\n",
    "C_e = 1.602e-19        # Coulomb\n",
    "kb = 1.38064852*1e-23  # Boltzman\n",
    "m_Ca = 40.078*1.66054e-27 # masse Ca 40.078\n",
    "m_GM = 1e6*1.66054e-27 # la masse de la GMol\n",
    "eps0 = 8.854187*1e-12  # permittivité électrique du vide\n",
    "\n",
    "r0 = 2.5e-3 # 2.5e-3   # rayon piège Ca+\n",
    "d0 = 4e-3/2            # longueur piège Ca+\n",
    "\n",
    "Omega = 2.0e6*2*pi # 2.047e6\n",
    "tauRF = 1/(Omega/2/pi)\n",
    "\n",
    "bk = 4 # nombre de barreaux par groupe (2 -> 4-pole , 4 -> 8-pole ...)\n",
    "\n",
    "mkappa = 0.23          # écrantage piège réel GiantMol\n",
    "\n",
    "wzLC = (2*pi*90806.9982303)**2\n",
    "kappa_simion = m_Ca*d0**2*wzLC/(2*C_e)\n",
    "print('%s = %f' % ('$\\kappa_{simion}$',kappa_simion) )\n",
    "\n",
    "zeta = kappa_simion*r0**2/d0**2"
   ]
  },
  {
   "cell_type": "code",
   "execution_count": 51,
   "id": "58da8010",
   "metadata": {
    "scrolled": true
   },
   "outputs": [
    {
     "name": "stdout",
     "output_type": "stream",
     "text": [
      "/home/adrien/RemoteFS/Rivendel/Simulations/20221021/Time_and_temp_RFHEAT_N1024_alphavar_DC02_RF02.npz\n",
      "/home/adrien/RemoteFS/Rivendel/Simulations/20221021/Time_and_temp_RFHEAT_N1024_alphavar_DC03_RF03.npz\n",
      "/home/adrien/RemoteFS/Rivendel/Simulations/20221021/Time_and_temp_RFHEAT_N1024_alphavar_DC04_RF04.npz\n",
      "/home/adrien/RemoteFS/Rivendel/Simulations/20221021/Time_and_temp_RFHEAT_N1024_alphavar_DC05_RF05.npz\n",
      "/home/adrien/RemoteFS/Rivendel/Simulations/20221021/Time_and_temp_RFHEAT_N1024_alphavar_DC06_RF06.npz\n",
      "/home/adrien/RemoteFS/Rivendel/Simulations/20221021/Time_and_temp_RFHEAT_N1024_alphavar_DC07_RF07.npz\n",
      "/home/adrien/RemoteFS/Rivendel/Simulations/20221021/Time_and_temp_RFHEAT_N1024_alphavar_DC08_RF08.npz\n",
      "/home/adrien/RemoteFS/Rivendel/Simulations/20221021/Time_and_temp_RFHEAT_N1024_DC08_RF08.npz\n"
     ]
    }
   ],
   "source": [
    "## GUI for data loading\n",
    "# Select one data file all the way down to the directories\n",
    "# SELECT Temp_SimuTypeQ_N ... .dat\n",
    "\n",
    "file_path = filedialog.askopenfilename(multiple=True) # initialdir = dir_string\n",
    "# print(file_path)\n",
    "\n",
    "# Use 20220617_extractdatatonpz before\n",
    "\n",
    "# Data is in the file /home/adrien/RemoteFS/Rivendel/Simulations/20221017\n",
    "\n",
    "time       = []\n",
    "T_aux_avg  = []\n",
    "r2_v2_rlim = []\n",
    "alpha       = []\n",
    "\n",
    "for i,j in enumerate(file_path):\n",
    "    print(j)\n",
    "    with load(j) as data:\n",
    "        time.append(data['time'])\n",
    "        T_aux_avg.append(data['temp'])\n",
    "        r2_v2_rlim.append(data['r2_v2_rlim'])\n",
    "        alpha.append(data['alpha'])"
   ]
  },
  {
   "cell_type": "code",
   "execution_count": 128,
   "id": "3efe5f87",
   "metadata": {},
   "outputs": [
    {
     "name": "stdout",
     "output_type": "stream",
     "text": [
      "99.33721982260205\n",
      "102.73855649040199\n",
      "61.057907332077164\n",
      "9.933721982260204e-05 0.000102738556490402 6.105790733207717e-05\n",
      "1454.8642267587973\n"
     ]
    }
   ],
   "source": [
    "myRF = 5\n",
    "\n",
    "for k in range(3):\n",
    "    print(r2_v2_rlim[myRF][k+6][50]*1000) # [condition][dim][time]\n",
    "\n",
    "R1 = r2_v2_rlim[myRF][6][50]*1e-3\n",
    "R2 = r2_v2_rlim[myRF][7][50]*1e-3\n",
    "L = r2_v2_rlim[myRF][8][50]*1e-3\n",
    "aws = 0\n",
    "print(R1,R2,L)\n",
    "print((R+(1.48*aws/2))/(L+1.48*aws/2))\n",
    "\n",
    "density = 1024 / (4/3*pi*R**2*L)"
   ]
  },
  {
   "cell_type": "code",
   "execution_count": 29,
   "id": "29c9b8cc",
   "metadata": {},
   "outputs": [],
   "source": [
    "def func2(t, t0, A, B,  C, D):\n",
    "    return A*(t-t0)/(C+(t-t0)**2)**D + B\n",
    "def func2abs(t, t0, A, B,  C, D):\n",
    "    return A*(t-t0)/(C+abs(t-t0))**D + B\n",
    "def func5(t, t0, A, B, C, k):\n",
    "    return A*(t-t0) / (C+abs(t-t0)**k)**(1/k) + B\n",
    "def dfunc5_dt(t,t0,A,B,C,k):\n",
    "    return A*C*(abs(t-t0)**k+C)**( -(k+1)/k )\n",
    "#     return A*(C+abs(t-t0)**k)**(-1/k)*(1 - ((t-t0)**2*abs(t-t0)**(k-2))/(C+abs(t-t0)**k) )"
   ]
  },
  {
   "cell_type": "code",
   "execution_count": 30,
   "id": "519def5e",
   "metadata": {},
   "outputs": [],
   "source": [
    "def func_lin(t,a,b):\n",
    "    return a*t+b\n",
    "def func_exp(x,a,b):\n",
    "    return b*exp(-a*x)\n",
    "def func_pow(t,A,B):\n",
    "    return t**A * 10**B"
   ]
  },
  {
   "cell_type": "code",
   "execution_count": 31,
   "id": "7d4ece5e",
   "metadata": {
    "scrolled": true
   },
   "outputs": [
    {
     "name": "stdout",
     "output_type": "stream",
     "text": [
      "0 /home/adrien/RemoteFS/Rivendel/Simulations/20221021/Time_and_temp_RFHEAT_N1024_alphavar_DC02_RF02.npz\n",
      "1 /home/adrien/RemoteFS/Rivendel/Simulations/20221021/Time_and_temp_RFHEAT_N1024_alphavar_DC03_RF03.npz\n",
      "2 /home/adrien/RemoteFS/Rivendel/Simulations/20221021/Time_and_temp_RFHEAT_N1024_alphavar_DC04_RF04.npz\n",
      "3 /home/adrien/RemoteFS/Rivendel/Simulations/20221021/Time_and_temp_RFHEAT_N1024_alphavar_DC05_RF05.npz\n",
      "4 /home/adrien/RemoteFS/Rivendel/Simulations/20221021/Time_and_temp_RFHEAT_N1024_alphavar_DC06_RF06.npz\n",
      "5 /home/adrien/RemoteFS/Rivendel/Simulations/20221021/Time_and_temp_RFHEAT_N1024_alphavar_DC07_RF07.npz\n",
      "6 /home/adrien/RemoteFS/Rivendel/Simulations/20221021/Time_and_temp_RFHEAT_N1024_alphavar_DC08_RF08.npz\n",
      "7 /home/adrien/RemoteFS/Rivendel/Simulations/20221021/Time_and_temp_RFHEAT_N1024_DC08_RF08.npz\n"
     ]
    }
   ],
   "source": [
    "for i,j in enumerate(file_path):\n",
    "    print(i,j)"
   ]
  },
  {
   "cell_type": "code",
   "execution_count": 64,
   "id": "ae8fe42c",
   "metadata": {},
   "outputs": [
    {
     "name": "stdout",
     "output_type": "stream",
     "text": [
      "[0.         0.         0.60093302 0.60093302 0.60093302 0.60093302\n",
      " 0.60093302 0.60093302]\n"
     ]
    }
   ],
   "source": [
    "61.596877310090996\n",
    "q = Urf*(4*C_e)/(m_Ca*r0**2*Omega**2)\n",
    "print(q)"
   ]
  },
  {
   "cell_type": "code",
   "execution_count": 95,
   "id": "7dc4532f",
   "metadata": {},
   "outputs": [
    {
     "data": {
      "text/plain": [
       "0.32800661561697236"
      ]
     },
     "execution_count": 95,
     "metadata": {},
     "output_type": "execute_result"
    }
   ],
   "source": [
    "K = 1e5*2*pi\n",
    "K**2*m_Ca*d0**2/C_e/2"
   ]
  },
  {
   "cell_type": "code",
   "execution_count": 152,
   "id": "3f46f3c6",
   "metadata": {},
   "outputs": [
    {
     "name": "stdout",
     "output_type": "stream",
     "text": [
      "[       nan        nan 0.41435642 0.57568591 0.76491277 0.99959955\n",
      " 1.26094637 1.59428022 2.013452   0.99959955]\n"
     ]
    },
    {
     "name": "stderr",
     "output_type": "stream",
     "text": [
      "/tmp/ipykernel_964599/2272210552.py:20: RuntimeWarning: invalid value encountered in true_divide\n",
      "  print(omega_z_2/omega_r_2)\n"
     ]
    }
   ],
   "source": [
    "to_fit = 0\n",
    "my_try = int(file_path[to_fit][file_path[to_fit].find('DC')+2:file_path[to_fit].find('DC')+4])\n",
    "Urf = array([0, 0, 61.596877310090996, 61.596877310090996, 61.596877310090996, 61.596877310090996, 61.596877310090996, 61.596877310090996])\n",
    "q = array([0, 0, 0.6, 0.6, 0.6, 0.6, 0.6, 0.6, 0.6, 0.6])\n",
    "Udc = array([0, 0, 7, 9, 11, 13.08, 15, 17, 19, 13.08 ])\n",
    "N_ions = array([1024,1024,1024,1024,1024,1024,1024,1024,1024])\n",
    "\n",
    "# Udc and Urf known\n",
    "omega_z_2 = K**2*Udc\n",
    "\n",
    "beta_guess = 0.423\n",
    "ax = -2/Omega**2*omega_z_2\n",
    "for i in range(50):\n",
    "    beta_guess = beta_continue_alamano(ax,q,beta_guess)\n",
    "    beta_guess = sqrt(beta_guess)\n",
    "omega_r_2 = ( beta_guess*Omega/2 )**2\n",
    "\n",
    "# print(sqrt(omega_z_2)/2/pi)\n",
    "# print(sqrt(omega_r_2)/2/pi)\n",
    "print(omega_z_2/omega_r_2)\n",
    "\n",
    "x  = time[to_fit]-1e-3\n",
    "fs = 1/diff(x)[1]"
   ]
  },
  {
   "cell_type": "code",
   "execution_count": 136,
   "id": "fc8b0aa9",
   "metadata": {},
   "outputs": [
    {
     "name": "stdout",
     "output_type": "stream",
     "text": [
      "0.5383005697773007\n",
      "0.550467833543083\n",
      "\n",
      "0.7004672369175238\n",
      "0.7168281007482754\n",
      "\n",
      "0.9034755612698988\n",
      "0.9199541796899857\n",
      "\n",
      "1.1159695737480668\n",
      "1.1402613579362277\n",
      "\n",
      "1.3849353934722435\n",
      "1.406731559726721\n",
      "\n",
      "1.7168666281024787\n",
      "1.7561186960623822\n",
      "\n",
      "2.146015422533444\n",
      "2.201627853001453\n",
      "\n",
      "1.1275838655493158\n",
      "1.154081577392648\n",
      "\n",
      "/home/adrien/RemoteFS/Rivendel/Simulations/20221021/Time_and_temp_RFHEAT_N1024_alphavar_DC02_RF02.npz\n"
     ]
    }
   ],
   "source": [
    "# Display R/L aspect ratio\n",
    "for cond in range(len(file_path)):\n",
    "    #print(r2_v2_rlim[myRF][k+6][50]*1000) # [condition][dim][time]\n",
    "    my_try = int(file_path[cond][file_path[cond].find('DC')+2:file_path[cond].find('DC')+4])\n",
    "    R = mean(r2_v2_rlim[cond][6][100:500])\n",
    "    L = mean(r2_v2_rlim[cond][8][100:500])\n",
    "    print(R/L)\n",
    "    print(alpha[cond])\n",
    "    print('')\n",
    "address = file_path[0]\n",
    "print(address)"
   ]
  },
  {
   "cell_type": "code",
   "execution_count": 137,
   "id": "b27f444e",
   "metadata": {},
   "outputs": [
    {
     "name": "stdout",
     "output_type": "stream",
     "text": [
      "|   cond  | N  | q_x|   f_x   |   f_z   |   ~a_x  | R/L | beta|\n",
      "|---------|----|----|---------|---------|---------|-----|-----|\n",
      "|DC02_RF02|1024|0.60|5.014e+05|2.646e+05|3.500e-02|0.550|0.411|\n",
      "|DC03_RF03|1024|0.60|5.122e+05|3.000e+05|4.500e-02|0.717|0.395|\n",
      "|DC04_RF04|1024|0.60|5.228e+05|3.317e+05|5.500e-02|0.920|0.379|\n",
      "|DC05_RF05|1024|0.60|5.338e+05|3.617e+05|6.540e-02|1.140|0.362|\n",
      "|DC06_RF06|1024|0.60|5.437e+05|3.873e+05|7.500e-02|1.407|0.345|\n",
      "|DC07_RF07|1024|0.60|5.540e+05|4.123e+05|8.500e-02|1.756|0.327|\n",
      "|DC08_RF08|1024|0.60|5.642e+05|4.359e+05|9.500e-02|2.202|0.307|\n",
      "|DC08_RF08|1024|0.60|5.642e+05|4.359e+05|9.500e-02|1.154|0.307|\n"
     ]
    }
   ],
   "source": [
    "# Display parameters of simus\n",
    "# in nice table\n",
    "\n",
    "print('|   cond  | N  | q_x|   f_x   |   f_z   |   ~a_x  | R/L | beta|',end='\\n')\n",
    "print('|---------|----|----|---------|---------|---------|-----|-----|',end='\\n')\n",
    "\n",
    "for cond in range(len(file_path)):\n",
    "    #print(r2_v2_rlim[myRF][k+6][50]*1000) # [condition][dim][time]\n",
    "    my_try = int(file_path[cond][file_path[cond].find('DC')+2:file_path[cond].find('DC')+4])\n",
    "    \n",
    "    print(f'|DC{my_try:02d}_RF{my_try:02d}|{N_ions[cond]:04d}|{q[my_try]:.2f}|{sqrt(omega_x_2)[my_try]/2/pi:.3e}|{sqrt(omega_z_2)[my_try]/2/pi:.3e}|{omega_z_2[my_try]/Omega**2*2:.3e}|{alpha[cond]:.3f}|{beta_guess[my_try]:.3f}|',end='\\n')"
   ]
  },
  {
   "cell_type": "code",
   "execution_count": 15,
   "id": "a88a1531",
   "metadata": {},
   "outputs": [],
   "source": [
    "# write parameters in a file\n",
    "with open('data_parameters.txt','w') as f:\n",
    "    f.write('2022 oct 24\\n')\n",
    "    f.write('Paramètres des simulations de chauffage RF\\n')\n",
    "    f.write('Simulations dans le dossier Rivendel/Simulations/20221021\\n\\n')\n",
    "    \n",
    "    f.write('|   cond  | N  | q_x|   f_x   |   f_z   |   ~a_x  | R/L | beta|\\n')\n",
    "    f.write('|---------|----|----|---------|---------|---------|-----|-----|\\n')\n",
    "\n",
    "    for cond in range(len(file_path)):\n",
    "        #print(r2_v2_rlim[myRF][k+6][50]*1000) # [condition][dim][time]\n",
    "        my_try = int(file_path[cond][file_path[cond].find('DC')+2:file_path[cond].find('DC')+4])\n",
    "\n",
    "        f.write(f'|DC{my_try:02d}_RF{my_try:02d}|{N_ions[cond]:04d}|{q[my_try]:.2f}|{sqrt(omega_x_2)[my_try]/2/pi:.3e}|{sqrt(omega_z_2)[my_try]/2/pi:.3e}|{omega_z_2[my_try]/Omega**2*2:.3e}|{alpha[cond]:.3f}|{beta_guess[my_try]:.3f}|\\n')"
   ]
  },
  {
   "cell_type": "code",
   "execution_count": 14,
   "id": "3848b36f",
   "metadata": {},
   "outputs": [
    {
     "name": "stdout",
     "output_type": "stream",
     "text": [
      "file to analyze\n",
      "> 0 /home/adrien/Documents/Programmes/Python/THESE/RF_Temp_Fit/Time_and_temp_RFHEAT_N1024_alphavar_DC02_RF02.npz\n",
      "func5 [ 0.00706656  2.67965622 -0.00754846  0.01509333  0.29860109]\n"
     ]
    }
   ],
   "source": [
    "start_for_fit = 200\n",
    "T_crit = 0.5\n",
    "print('file to analyze')\n",
    "\n",
    "to_fit = 0 #11 19 8\n",
    "temp_to_end = 100\n",
    "\n",
    "my_try = int(file_path[to_fit][file_path[to_fit].find('DC')+2:file_path[to_fit].find('DC')+4])\n",
    "print('>',to_fit,file_path[to_fit])\n",
    "x  = time[to_fit]-1e-3\n",
    "y  = T_aux_avg[to_fit]\n",
    "\n",
    "max_f_r = sqrt(omega_r_2[my_try])/2/pi\n",
    "b, a = signal.butter(8,  max_f_r/fs*2.01)\n",
    "y_filt = signal.filtfilt(b, a, y, padlen=150)\n",
    "\n",
    "index_100K = argmin(abs(y_filt-temp_to_end))\n",
    "end_fit = index_100K\n",
    "\n",
    "t0_first_guess = x[where(min(abs(y_filt-T_crit))==abs(y_filt-T_crit))][0] # 2.5e-3\n",
    "B0 = log10(T_crit) # log10( y[where(min(abs(y-T_crit))==abs(y-T_crit))][0] )\n",
    "A0 = log10(max(y_filt[start_for_fit:end_fit]) - B0)\n",
    "\n",
    "p0 = [t0_first_guess,A0,B0,0.01,0.3]\n",
    "\n",
    "# proper fit of the smoothed curve limiter up to threshold T\n",
    "popt, pcov = curve_fit(func5, x[start_for_fit:end_fit],\n",
    "                              log10(y_filt[start_for_fit:end_fit]),\n",
    "                       p0, maxfev= 25000,\n",
    "                       bounds=((-np.inf,-np.inf,-np.inf,0,0),(np.inf,np.inf,2,1.01,1)))\n",
    "print('func5',popt)\n",
    "\n",
    "figname = 'testfitinlin0'\n",
    "figure(figname,clear='True')\n",
    "#xlim(0.8,6)\n",
    "ax1 = subplot(111)\n",
    "ax1.grid()\n",
    "ax1.semilogy(x*1e3, y ,label=r'$T$',color='C0',lw=0.3)\n",
    "ax1.semilogy(x*1e3, y_filt ,label=r'$T$ filtered',color='C1',ls=':',lw=3)\n",
    "# ax2.vlines(x[end_fit]*1e3,1e-2,150,color='k')\n",
    "\n",
    "y_fit5 = func5(x[start_for_fit:end_fit],*popt)\n",
    "ax1.semilogy(x[start_for_fit:end_fit]*1e3,10**y_fit5,color='r',ls='--',label=r'$\\psi$',lw=2)\n",
    "\n",
    "nticks = 9\n",
    "maj_loc = ticker.LogLocator(numticks=nticks)\n",
    "min_loc = ticker.LogLocator(subs='all', numticks=nticks)\n",
    "ax1.yaxis.set_major_locator(maj_loc)\n",
    "ax1.yaxis.set_minor_locator(min_loc)\n",
    "\n",
    "ax1.set_xlabel('t [ms]')\n",
    "ax1.set_ylabel('T [K]')\n",
    "# ax1.set_xlim(-0.1,4.3)\n",
    "ax1.set_ylim(2e-3,300)\n",
    "ax1.legend()\n",
    "tight_layout()\n",
    "\n",
    "\n",
    "# savefig(figname+'.eps',dpi=300)"
   ]
  },
  {
   "cell_type": "code",
   "execution_count": 41,
   "id": "5a056d9c",
   "metadata": {},
   "outputs": [
    {
     "name": "stdout",
     "output_type": "stream",
     "text": [
      "file to analyze\n",
      "> 0 /home/adrien/RemoteFS/Rivendel/Simulations/20221021/Time_and_temp_RFHEAT_N1024_alphavar_DC02_RF02.npz\n",
      "[ 0.00706657  2.71073479 -0.00702288  0.01596185  0.29164447]\n",
      "> 1 /home/adrien/RemoteFS/Rivendel/Simulations/20221021/Time_and_temp_RFHEAT_N1024_alphavar_DC03_RF03.npz\n",
      "[ 0.00660354  2.47131623 -0.01743847  0.01038734  0.33875074]\n",
      "> 2 /home/adrien/RemoteFS/Rivendel/Simulations/20221021/Time_and_temp_RFHEAT_N1024_alphavar_DC04_RF04.npz\n",
      "[0.00670711 2.35272454 0.00789827 0.00674682 0.39333178]\n",
      "> 3 /home/adrien/RemoteFS/Rivendel/Simulations/20221021/Time_and_temp_RFHEAT_N1024_alphavar_DC05_RF05.npz\n",
      "[0.0066071  2.28760674 0.02535932 0.00558408 0.41410826]\n",
      "> 4 /home/adrien/RemoteFS/Rivendel/Simulations/20221021/Time_and_temp_RFHEAT_N1024_alphavar_DC06_RF06.npz\n",
      "[0.00522529 2.22932849 0.01371893 0.00432816 0.44555332]\n",
      "> 5 /home/adrien/RemoteFS/Rivendel/Simulations/20221021/Time_and_temp_RFHEAT_N1024_alphavar_DC07_RF07.npz\n",
      "[0.00411849 2.22494027 0.03141721 0.00330879 0.4850849 ]\n",
      "> 6 /home/adrien/RemoteFS/Rivendel/Simulations/20221021/Time_and_temp_RFHEAT_N1024_alphavar_DC08_RF08.npz\n",
      "[ 0.00336927  2.16819697 -0.02920314  0.00430876  0.44323167]\n",
      "> 7 /home/adrien/RemoteFS/Rivendel/Simulations/20221021/Time_and_temp_RFHEAT_N1024_DC08_RF08.npz\n",
      "[0.00672797 2.27981303 0.03927843 0.00489375 0.43307583]\n"
     ]
    }
   ],
   "source": [
    "start_for_fit = 10\n",
    "T_crit = 0.5\n",
    "print('file to analyze')\n",
    "not_fitted = 0\n",
    "# 29 and 30\n",
    "to_fit = 0\n",
    "temp_to_end = [100, 100, 100, 100, 100, 100, 100, 100, 100, 100, 100]\n",
    "popt_smooth = np.zeros((len(file_path),5))\n",
    "for to_fit in range(len(file_path)):\n",
    "    j = file_path[to_fit]\n",
    "# retrive time and temperature from the curve\n",
    "    print('>',to_fit,j)\n",
    "    my_try = int(file_path[to_fit][file_path[to_fit].find('DC')+2:file_path[to_fit].find('DC')+4])\n",
    "    x  = time[to_fit]-1e-3\n",
    "    y  = T_aux_avg[to_fit]\n",
    "\n",
    "    # Smoothing signal with zero delay shift fit\n",
    "    max_f_r = sqrt(omega_r_2[my_try])/2/pi\n",
    "    b, a = signal.butter(8,  max_f_r/fs*1.01)\n",
    "    y_filt = signal.filtfilt(b, a, y, padlen=150)\n",
    "    \n",
    "    # select index of temp where stop the fit\n",
    "    # I stop the fit when T reaches a given T\n",
    "    index_100K = argmin(abs(y_filt-temp_to_end[to_fit]))\n",
    "    end_fit = index_100K\n",
    "\n",
    "    # Fit parameters first guesses\n",
    "    t0_first_guess = x[where(min(abs(y_filt-T_crit))==abs(y_filt-T_crit))][0] # 2.5e-3\n",
    "    B0 = log10(T_crit) # log10( y[where(min(abs(y-T_crit))==abs(y-T_crit))][0] )\n",
    "    A0 = log10(max(y_filt[start_for_fit:end_fit]) - B0)\n",
    "\n",
    "    # set initial guess of fit parameters\n",
    "    p0 = [t0_first_guess,A0,B0,0.01,0.3]\n",
    "\n",
    "    # proper fit of the smoothed curve limiter up to threshold T\n",
    "    popt, pcov = curve_fit(func5, x[start_for_fit:end_fit],\n",
    "                                  log10(y_filt[start_for_fit:end_fit]),\n",
    "                           p0, maxfev= 25000,\n",
    "                           bounds=((-np.inf,-np.inf,-np.inf,0,0),(np.inf,np.inf,2,1.01,1)))\n",
    "    print(popt)\n",
    "    popt_smooth[to_fit,:] = popt\n",
    "# popt_smooth = popt"
   ]
  },
  {
   "cell_type": "code",
   "execution_count": 138,
   "id": "eb551dd5",
   "metadata": {},
   "outputs": [
    {
     "name": "stdout",
     "output_type": "stream",
     "text": [
      "[4.7651245e-03 3.9526245e-03 3.4686245e-03 1.9761245e-03 3.4362450e-04\n",
      " 6.2450000e-07 6.2450000e-07 1.9411245e-03]\n",
      "[0.00230144 0.00265091 0.00323849 0.00463098 0.00488166 0.00411787\n",
      " 0.00336865 0.00478684]\n"
     ]
    }
   ],
   "source": [
    "# when does fit crosses a given temperature\n",
    "# compute delta T between this moment and t0\n",
    "# computed above in the fit, from t=0\n",
    "T_thre = 1e-2\n",
    "fit_above_thresh = np.zeros((len(file_path)))\n",
    "for to_fit in range(len(file_path)):\n",
    "    j = file_path[to_fit]\n",
    "    x = time[to_fit]-1e-3\n",
    "    y_fit = func5(x,*popt_smooth[to_fit,:])\n",
    "    fit_above_thresh[to_fit] = x[where(min(abs(10**y_fit-T_thre))==abs(10**y_fit-T_thre))][0]\n",
    "print(fit_above_thresh)\n",
    "\n",
    "delta_T_explosion = popt_smooth[:,0] - fit_above_thresh\n",
    "print(delta_T_explosion)"
   ]
  },
  {
   "cell_type": "code",
   "execution_count": 60,
   "id": "00e3c1f0",
   "metadata": {},
   "outputs": [
    {
     "name": "stdout",
     "output_type": "stream",
     "text": [
      "0 0.006719302481688357 0.550467833543083\n",
      "1 0.0076504626636238445 0.7168281007482754\n",
      "2 0.008338609476584522 0.9199541796899857\n",
      "3 0.00926228817670808 1.1402613579362277\n",
      "4 0.009863205070058532 1.406731559726721\n",
      "5 0.010220964889861291 1.7561186960623822\n",
      "6 0.011068887264601621 2.201627853001453\n"
     ]
    }
   ],
   "source": [
    "for kk in range(7):\n",
    "    print(kk,min(10**func5(x,*popt_smooth[kk,:])),alpha[kk])"
   ]
  },
  {
   "cell_type": "code",
   "execution_count": 139,
   "id": "dd44e504",
   "metadata": {},
   "outputs": [
    {
     "name": "stdout",
     "output_type": "stream",
     "text": [
      "2 [0.00672797 2.27981303 0.03927843 0.00489375 0.43307583]\n",
      "[0.00672797 2.27981303 0.03927843 0.00489375 0.43307583]\n"
     ]
    }
   ],
   "source": [
    "C = []\n",
    "D = []\n",
    "# x_forfit = [linspace(0.555,0.71,200),linspace(0.555,0.71,200),linspace(0.535,0.71,200)]\n",
    "figname = 'fit_parameter_t0_log_alphavar'\n",
    "fig = figure(figname,clear=True)\n",
    "fig.set_size_inches(11.7, 8.3)\n",
    "ax1 = subplot(111)\n",
    "ax1.plot(alpha,delta_T_explosion*1e3,\n",
    "             color='k',ls=':',lw=2.5,marker='P',ms=17,mew=0,label='1024 ions')\n",
    "# popt, pcov = curve_fit(func_lin, alpha,delta_T_explosion*1e3,maxfev= 5000)\n",
    "# ax1.plot(linspace(min(alpha),max(alpha),100),\n",
    "#          func_lin(linspace(min(alpha),max(alpha),100),*popt),\n",
    "#         color=cm(6/10),ls=':',lw=2.5,label='Linear fit')\n",
    "print(k,popt)\n",
    "ax1.set_xlabel(r'$\\alpha$')\n",
    "ax1.set_ylabel('$\\Delta t$ [ms]')\n",
    "ax1.grid()\n",
    "# ax1.legend(title='N',fontsize=18)\n",
    "tight_layout()\n",
    "\n",
    "savefig(figname+'_high_alpha'+'.eps',dpi=300)\n",
    "print(popt)"
   ]
  },
  {
   "cell_type": "code",
   "execution_count": 144,
   "id": "7f1791eb",
   "metadata": {},
   "outputs": [
    {
     "name": "stdout",
     "output_type": "stream",
     "text": [
      "2 [0.00672797 2.27981303 0.03927843 0.00489375 0.43307583]\n",
      "[0.00672797 2.27981303 0.03927843 0.00489375 0.43307583]\n"
     ]
    }
   ],
   "source": [
    "C = []\n",
    "D = []\n",
    "# x_forfit = [linspace(0.555,0.71,200),linspace(0.555,0.71,200),linspace(0.535,0.71,200)]\n",
    "figname = 'fit_parameter_t0_wzwr'\n",
    "fig = figure(figname,clear=True)\n",
    "fig.set_size_inches(11.7, 8.3)\n",
    "ax1 = subplot(111)\n",
    "ax1.plot(omega_z_2[2:-1]/omega_r_2[2:-1],delta_T_explosion[:-1]*1e3,\n",
    "             color='k',ls=':',lw=2.5,marker='P',ms=17,mew=0,label='1024 ions')\n",
    "# popt, pcov = curve_fit(func_lin, alpha,delta_T_explosion*1e3,maxfev= 5000)\n",
    "# ax1.plot(linspace(min(alpha),max(alpha),100),\n",
    "#          func_lin(linspace(min(alpha),max(alpha),100),*popt),\n",
    "#         color=cm(6/10),ls=':',lw=2.5,label='Linear fit')\n",
    "print(k,popt)\n",
    "ax1.set_xlabel(r'$\\omega_z^2/\\omega_r^2$')\n",
    "ax1.set_ylabel('$\\Delta t$ (ms)')\n",
    "ax1.grid()\n",
    "# ax1.legend(title='N',fontsize=18)\n",
    "tight_layout()\n",
    "\n",
    "savefig(figname+'.eps',dpi=300)\n",
    "print(popt)"
   ]
  }
 ],
 "metadata": {
  "kernelspec": {
   "display_name": "Python 3 (ipykernel)",
   "language": "python",
   "name": "python3"
  },
  "language_info": {
   "codemirror_mode": {
    "name": "ipython",
    "version": 3
   },
   "file_extension": ".py",
   "mimetype": "text/x-python",
   "name": "python",
   "nbconvert_exporter": "python",
   "pygments_lexer": "ipython3",
   "version": "3.10.6"
  }
 },
 "nbformat": 4,
 "nbformat_minor": 5
}
