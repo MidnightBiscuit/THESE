{
 "cells": [
  {
   "cell_type": "code",
   "execution_count": 1,
   "id": "2fdfc08b",
   "metadata": {
    "collapsed": true
   },
   "outputs": [
    {
     "ename": "ModuleNotFoundError",
     "evalue": "No module named 'watermark'",
     "output_type": "error",
     "traceback": [
      "\u001b[0;31m---------------------------------------------------------------------------\u001b[0m",
      "\u001b[0;31mModuleNotFoundError\u001b[0m                       Traceback (most recent call last)",
      "\u001b[0;32m/tmp/ipykernel_8957/323679751.py\u001b[0m in \u001b[0;36m<module>\u001b[0;34m\u001b[0m\n\u001b[0;32m----> 1\u001b[0;31m \u001b[0mget_ipython\u001b[0m\u001b[0;34m(\u001b[0m\u001b[0;34m)\u001b[0m\u001b[0;34m.\u001b[0m\u001b[0mrun_line_magic\u001b[0m\u001b[0;34m(\u001b[0m\u001b[0;34m'load_ext'\u001b[0m\u001b[0;34m,\u001b[0m \u001b[0;34m'watermark'\u001b[0m\u001b[0;34m)\u001b[0m\u001b[0;34m\u001b[0m\u001b[0;34m\u001b[0m\u001b[0m\n\u001b[0m\u001b[1;32m      2\u001b[0m \u001b[0mget_ipython\u001b[0m\u001b[0;34m(\u001b[0m\u001b[0;34m)\u001b[0m\u001b[0;34m.\u001b[0m\u001b[0mrun_line_magic\u001b[0m\u001b[0;34m(\u001b[0m\u001b[0;34m'watermark'\u001b[0m\u001b[0;34m,\u001b[0m \u001b[0;34m''\u001b[0m\u001b[0;34m)\u001b[0m\u001b[0;34m\u001b[0m\u001b[0;34m\u001b[0m\u001b[0m\n",
      "\u001b[0;32m/usr/lib/python3/dist-packages/IPython/core/interactiveshell.py\u001b[0m in \u001b[0;36mrun_line_magic\u001b[0;34m(self, magic_name, line, _stack_depth)\u001b[0m\n\u001b[1;32m   2362\u001b[0m                 \u001b[0mkwargs\u001b[0m\u001b[0;34m[\u001b[0m\u001b[0;34m'local_ns'\u001b[0m\u001b[0;34m]\u001b[0m \u001b[0;34m=\u001b[0m \u001b[0mself\u001b[0m\u001b[0;34m.\u001b[0m\u001b[0mget_local_scope\u001b[0m\u001b[0;34m(\u001b[0m\u001b[0mstack_depth\u001b[0m\u001b[0;34m)\u001b[0m\u001b[0;34m\u001b[0m\u001b[0;34m\u001b[0m\u001b[0m\n\u001b[1;32m   2363\u001b[0m             \u001b[0;32mwith\u001b[0m \u001b[0mself\u001b[0m\u001b[0;34m.\u001b[0m\u001b[0mbuiltin_trap\u001b[0m\u001b[0;34m:\u001b[0m\u001b[0;34m\u001b[0m\u001b[0;34m\u001b[0m\u001b[0m\n\u001b[0;32m-> 2364\u001b[0;31m                 \u001b[0mresult\u001b[0m \u001b[0;34m=\u001b[0m \u001b[0mfn\u001b[0m\u001b[0;34m(\u001b[0m\u001b[0;34m*\u001b[0m\u001b[0margs\u001b[0m\u001b[0;34m,\u001b[0m \u001b[0;34m**\u001b[0m\u001b[0mkwargs\u001b[0m\u001b[0;34m)\u001b[0m\u001b[0;34m\u001b[0m\u001b[0;34m\u001b[0m\u001b[0m\n\u001b[0m\u001b[1;32m   2365\u001b[0m             \u001b[0;32mreturn\u001b[0m \u001b[0mresult\u001b[0m\u001b[0;34m\u001b[0m\u001b[0;34m\u001b[0m\u001b[0m\n\u001b[1;32m   2366\u001b[0m \u001b[0;34m\u001b[0m\u001b[0m\n",
      "\u001b[0;32m<decorator-gen-57>\u001b[0m in \u001b[0;36mload_ext\u001b[0;34m(self, module_str)\u001b[0m\n",
      "\u001b[0;32m/usr/lib/python3/dist-packages/IPython/core/magic.py\u001b[0m in \u001b[0;36m<lambda>\u001b[0;34m(f, *a, **k)\u001b[0m\n\u001b[1;32m    185\u001b[0m     \u001b[0;31m# but it's overkill for just that one bit of state.\u001b[0m\u001b[0;34m\u001b[0m\u001b[0;34m\u001b[0m\u001b[0m\n\u001b[1;32m    186\u001b[0m     \u001b[0;32mdef\u001b[0m \u001b[0mmagic_deco\u001b[0m\u001b[0;34m(\u001b[0m\u001b[0marg\u001b[0m\u001b[0;34m)\u001b[0m\u001b[0;34m:\u001b[0m\u001b[0;34m\u001b[0m\u001b[0;34m\u001b[0m\u001b[0m\n\u001b[0;32m--> 187\u001b[0;31m         \u001b[0mcall\u001b[0m \u001b[0;34m=\u001b[0m \u001b[0;32mlambda\u001b[0m \u001b[0mf\u001b[0m\u001b[0;34m,\u001b[0m \u001b[0;34m*\u001b[0m\u001b[0ma\u001b[0m\u001b[0;34m,\u001b[0m \u001b[0;34m**\u001b[0m\u001b[0mk\u001b[0m\u001b[0;34m:\u001b[0m \u001b[0mf\u001b[0m\u001b[0;34m(\u001b[0m\u001b[0;34m*\u001b[0m\u001b[0ma\u001b[0m\u001b[0;34m,\u001b[0m \u001b[0;34m**\u001b[0m\u001b[0mk\u001b[0m\u001b[0;34m)\u001b[0m\u001b[0;34m\u001b[0m\u001b[0;34m\u001b[0m\u001b[0m\n\u001b[0m\u001b[1;32m    188\u001b[0m \u001b[0;34m\u001b[0m\u001b[0m\n\u001b[1;32m    189\u001b[0m         \u001b[0;32mif\u001b[0m \u001b[0mcallable\u001b[0m\u001b[0;34m(\u001b[0m\u001b[0marg\u001b[0m\u001b[0;34m)\u001b[0m\u001b[0;34m:\u001b[0m\u001b[0;34m\u001b[0m\u001b[0;34m\u001b[0m\u001b[0m\n",
      "\u001b[0;32m/usr/lib/python3/dist-packages/IPython/core/magics/extension.py\u001b[0m in \u001b[0;36mload_ext\u001b[0;34m(self, module_str)\u001b[0m\n\u001b[1;32m     31\u001b[0m         \u001b[0;32mif\u001b[0m \u001b[0;32mnot\u001b[0m \u001b[0mmodule_str\u001b[0m\u001b[0;34m:\u001b[0m\u001b[0;34m\u001b[0m\u001b[0;34m\u001b[0m\u001b[0m\n\u001b[1;32m     32\u001b[0m             \u001b[0;32mraise\u001b[0m \u001b[0mUsageError\u001b[0m\u001b[0;34m(\u001b[0m\u001b[0;34m'Missing module name.'\u001b[0m\u001b[0;34m)\u001b[0m\u001b[0;34m\u001b[0m\u001b[0;34m\u001b[0m\u001b[0m\n\u001b[0;32m---> 33\u001b[0;31m         \u001b[0mres\u001b[0m \u001b[0;34m=\u001b[0m \u001b[0mself\u001b[0m\u001b[0;34m.\u001b[0m\u001b[0mshell\u001b[0m\u001b[0;34m.\u001b[0m\u001b[0mextension_manager\u001b[0m\u001b[0;34m.\u001b[0m\u001b[0mload_extension\u001b[0m\u001b[0;34m(\u001b[0m\u001b[0mmodule_str\u001b[0m\u001b[0;34m)\u001b[0m\u001b[0;34m\u001b[0m\u001b[0;34m\u001b[0m\u001b[0m\n\u001b[0m\u001b[1;32m     34\u001b[0m \u001b[0;34m\u001b[0m\u001b[0m\n\u001b[1;32m     35\u001b[0m         \u001b[0;32mif\u001b[0m \u001b[0mres\u001b[0m \u001b[0;34m==\u001b[0m \u001b[0;34m'already loaded'\u001b[0m\u001b[0;34m:\u001b[0m\u001b[0;34m\u001b[0m\u001b[0;34m\u001b[0m\u001b[0m\n",
      "\u001b[0;32m/usr/lib/python3/dist-packages/IPython/core/extensions.py\u001b[0m in \u001b[0;36mload_extension\u001b[0;34m(self, module_str)\u001b[0m\n\u001b[1;32m     78\u001b[0m             \u001b[0;32mif\u001b[0m \u001b[0mmodule_str\u001b[0m \u001b[0;32mnot\u001b[0m \u001b[0;32min\u001b[0m \u001b[0msys\u001b[0m\u001b[0;34m.\u001b[0m\u001b[0mmodules\u001b[0m\u001b[0;34m:\u001b[0m\u001b[0;34m\u001b[0m\u001b[0;34m\u001b[0m\u001b[0m\n\u001b[1;32m     79\u001b[0m                 \u001b[0;32mwith\u001b[0m \u001b[0mprepended_to_syspath\u001b[0m\u001b[0;34m(\u001b[0m\u001b[0mself\u001b[0m\u001b[0;34m.\u001b[0m\u001b[0mipython_extension_dir\u001b[0m\u001b[0;34m)\u001b[0m\u001b[0;34m:\u001b[0m\u001b[0;34m\u001b[0m\u001b[0;34m\u001b[0m\u001b[0m\n\u001b[0;32m---> 80\u001b[0;31m                     \u001b[0mmod\u001b[0m \u001b[0;34m=\u001b[0m \u001b[0mimport_module\u001b[0m\u001b[0;34m(\u001b[0m\u001b[0mmodule_str\u001b[0m\u001b[0;34m)\u001b[0m\u001b[0;34m\u001b[0m\u001b[0;34m\u001b[0m\u001b[0m\n\u001b[0m\u001b[1;32m     81\u001b[0m                     \u001b[0;32mif\u001b[0m \u001b[0mmod\u001b[0m\u001b[0;34m.\u001b[0m\u001b[0m__file__\u001b[0m\u001b[0;34m.\u001b[0m\u001b[0mstartswith\u001b[0m\u001b[0;34m(\u001b[0m\u001b[0mself\u001b[0m\u001b[0;34m.\u001b[0m\u001b[0mipython_extension_dir\u001b[0m\u001b[0;34m)\u001b[0m\u001b[0;34m:\u001b[0m\u001b[0;34m\u001b[0m\u001b[0;34m\u001b[0m\u001b[0m\n\u001b[1;32m     82\u001b[0m                         print((\"Loading extensions from {dir} is deprecated. \"\n",
      "\u001b[0;32m/usr/lib/python3.10/importlib/__init__.py\u001b[0m in \u001b[0;36mimport_module\u001b[0;34m(name, package)\u001b[0m\n\u001b[1;32m    124\u001b[0m                 \u001b[0;32mbreak\u001b[0m\u001b[0;34m\u001b[0m\u001b[0;34m\u001b[0m\u001b[0m\n\u001b[1;32m    125\u001b[0m             \u001b[0mlevel\u001b[0m \u001b[0;34m+=\u001b[0m \u001b[0;36m1\u001b[0m\u001b[0;34m\u001b[0m\u001b[0;34m\u001b[0m\u001b[0m\n\u001b[0;32m--> 126\u001b[0;31m     \u001b[0;32mreturn\u001b[0m \u001b[0m_bootstrap\u001b[0m\u001b[0;34m.\u001b[0m\u001b[0m_gcd_import\u001b[0m\u001b[0;34m(\u001b[0m\u001b[0mname\u001b[0m\u001b[0;34m[\u001b[0m\u001b[0mlevel\u001b[0m\u001b[0;34m:\u001b[0m\u001b[0;34m]\u001b[0m\u001b[0;34m,\u001b[0m \u001b[0mpackage\u001b[0m\u001b[0;34m,\u001b[0m \u001b[0mlevel\u001b[0m\u001b[0;34m)\u001b[0m\u001b[0;34m\u001b[0m\u001b[0;34m\u001b[0m\u001b[0m\n\u001b[0m\u001b[1;32m    127\u001b[0m \u001b[0;34m\u001b[0m\u001b[0m\n\u001b[1;32m    128\u001b[0m \u001b[0;34m\u001b[0m\u001b[0m\n",
      "\u001b[0;32m/usr/lib/python3.10/importlib/_bootstrap.py\u001b[0m in \u001b[0;36m_gcd_import\u001b[0;34m(name, package, level)\u001b[0m\n",
      "\u001b[0;32m/usr/lib/python3.10/importlib/_bootstrap.py\u001b[0m in \u001b[0;36m_find_and_load\u001b[0;34m(name, import_)\u001b[0m\n",
      "\u001b[0;32m/usr/lib/python3.10/importlib/_bootstrap.py\u001b[0m in \u001b[0;36m_find_and_load_unlocked\u001b[0;34m(name, import_)\u001b[0m\n",
      "\u001b[0;31mModuleNotFoundError\u001b[0m: No module named 'watermark'"
     ]
    }
   ],
   "source": [
    "%load_ext watermark\n",
    "%watermark"
   ]
  },
  {
   "cell_type": "code",
   "execution_count": 2,
   "id": "daa8f4c3",
   "metadata": {},
   "outputs": [
    {
     "name": "stdout",
     "output_type": "stream",
     "text": [
      "Using matplotlib backend: TkAgg\n",
      "Populating the interactive namespace from numpy and matplotlib\n"
     ]
    }
   ],
   "source": [
    "%pylab"
   ]
  },
  {
   "cell_type": "code",
   "execution_count": 24,
   "id": "76e5594e",
   "metadata": {},
   "outputs": [],
   "source": [
    "from scipy.optimize import curve_fit\n",
    "from scipy.signal import savgol_filter\n",
    "\n",
    "import tkinter as tk\n",
    "from tkinter import filedialog\n",
    "\n",
    "import os\n",
    "\n",
    "from scipy import signal\n",
    "import scipy.integrate as integrate\n",
    "\n",
    "# %matplotlib qt"
   ]
  },
  {
   "cell_type": "code",
   "execution_count": 659,
   "id": "0e1deda4",
   "metadata": {},
   "outputs": [],
   "source": [
    "def lin_func(x,a,b):\n",
    "    return a*x+b\n",
    "def exp_sigmoid(x,a,b,c,d):\n",
    "    return a/(1+exp(-c*(x+d))) + b\n",
    "def slexp_sigmoid(x,a,b,c,d):\n",
    "    return sqrt(-log(exp_sigmoid(-x,1,0,1,0)))\n",
    "def slexp_sigmoid2(x,a,c,t0,e):\n",
    "    return e*sqrt(-log( a/(1+exp(c*x-t0)) ))\n",
    "def logistic(x,K,a,r):\n",
    "    return K/(1+a*exp(-r*x))\n",
    "def logistic2(x,a,beta,xc,maxL,minL):\n",
    "    return (maxL-minL)/(1+a*exp(beta*(-x/xc)))+minL\n",
    "def five_param_logistic(x,p1,p2,p3,p4,p5):\n",
    "    c = 2*p3*p5/abs(p3+p5)\n",
    "    f = 1/(1+exp(-c*(p4-x)))\n",
    "    g = exp(p3*(p4-x))\n",
    "    h = exp(p5*(p4-x))\n",
    "    return p1 + p2/( 1+f*g+(1-f)*h )\n",
    "def func2(t, t0, A, B,  C, D):\n",
    "    return A*(t-t0) / (C+(t-t0)**2)**D + B"
   ]
  },
  {
   "cell_type": "code",
   "execution_count": 482,
   "id": "88bcc209",
   "metadata": {},
   "outputs": [],
   "source": [
    "x1 = linspace(-6,6,100)\n",
    "#y = exp_sigmoid(x,1,0,1,-1)\n",
    "#y = slexp_sigmoid2(x,1,1000,1.7,1)\n",
    "y1 = logistic(x,1,1,1)*200\n",
    "x2 = linspace(-10,10,100)\n",
    "y2 = logistic2(x,3,1,1,200,1e-2)\n",
    "figure(0,clear='True')\n",
    "plot(x1,y1,'P')\n",
    "plot(x2,y2,'P')\n",
    "grid()\n",
    "tight_layout()"
   ]
  },
  {
   "cell_type": "code",
   "execution_count": 4,
   "id": "39f3f8cf",
   "metadata": {},
   "outputs": [
    {
     "name": "stdout",
     "output_type": "stream",
     "text": [
      "[  1  65 129 193 257 321 385 449]\n",
      "[ 64 128 192 256 320 384 448 512]\n"
     ]
    }
   ],
   "source": [
    "n_core = 8\n",
    "N = 512\n",
    "print(linspace(1,N+1-N//n_core,n_core,dtype='int'))\n",
    "print(linspace(N//n_core,N,n_core,dtype='int'))\n",
    "\n",
    "n_dt = 5000\n",
    "\n",
    "# integer          , parameter :: ia(ni)=[1,257,513,769]\n",
    "# integer          , parameter :: ib(ni)=[256,512,768,1024]"
   ]
  },
  {
   "cell_type": "code",
   "execution_count": 5,
   "id": "916883eb",
   "metadata": {
    "scrolled": true
   },
   "outputs": [],
   "source": [
    "%run functions\n",
    "matplotlib.rcParams.update({'font.size': 25})"
   ]
  },
  {
   "cell_type": "code",
   "execution_count": 6,
   "id": "efce5ee7",
   "metadata": {},
   "outputs": [
    {
     "name": "stdout",
     "output_type": "stream",
     "text": [
      "$\\kappa_{simion}$ = 0.270471\n"
     ]
    }
   ],
   "source": [
    "# Constantes de la physique\n",
    "# ABSOLUMENT RECHARGER APRÈS AVOIR EXECUTÉ LES CASES D'IMPORT AU DESSUS\n",
    "\n",
    "C_e = 1.602e-19        # Coulomb\n",
    "kb = 1.38064852*1e-23  # Boltzman\n",
    "m_Ca = 40.078*1.66054e-27 # masse Ca 40.078\n",
    "m_GM = 1e6*1.66054e-27 # la masse de la GMol\n",
    "eps0 = 8.854187*1e-12  # permittivité électrique du vide\n",
    "\n",
    "r0 = 2.5e-3 # 2.5e-3   # rayon piège Ca+\n",
    "d0 = 4e-3/2            # longueur piège Ca+\n",
    "\n",
    "Omega = 2.05e6*2*pi # 2.047e6\n",
    "\n",
    "bk = 4 # nombre de barreaux par groupe (2 -> 4-pole , 4 -> 8-pole ...)\n",
    "\n",
    "mkappa = 0.23          # écrantage piège réel GiantMol\n",
    "\n",
    "wzLC = (2*pi*90806.9982303)**2\n",
    "kappa_simion = m_Ca*d0**2*wzLC/(2*C_e)\n",
    "print('%s = %f' % ('$\\kappa_{simion}$',kappa_simion) )\n",
    "\n",
    "zeta = kappa_simion*r0**2/d0**2"
   ]
  },
  {
   "cell_type": "code",
   "execution_count": 664,
   "id": "02204cee",
   "metadata": {},
   "outputs": [],
   "source": [
    "file_path = '/home/adrien/RemoteFS/Rivendel/Simulations/20220617' # 20220610\n",
    "# file_path = '/home/adrien/RemoteFS/Rivendel/Simulations/20220512'\n",
    "# file_path = '/home/adrien/RemoteFS/Rivendel/Simulations/20220510'\n",
    "\n",
    "all_subdir = []\n",
    "all_Temp = []\n",
    "all_trjN = []\n",
    "all_trj1 = []\n",
    "all_xva_3DHarmo = []\n",
    "all_xva_start = []\n",
    "\n",
    "# selection of all directories where\n",
    "# there are data files\n",
    "for i,j in enumerate(os.walk(file_path)):\n",
    "    if 'Try' in j[0]:\n",
    "        all_subdir.append(j[0])\n",
    "    # selection of all data files\n",
    "    # interesting me\n",
    "    for k,l in enumerate(j[2]):\n",
    "        if 'TrjN' in l:\n",
    "            all_trjN.append(j[0]+'/'+l)\n",
    "        if 'Trj1' in l:\n",
    "            all_trj1.append(j[0]+'/'+l)\n",
    "            #print(l)\n",
    "        if 'SimuType0' and '.dat' in l:\n",
    "            all_Temp.append(j[0]+'/'+l)\n",
    "        if 'xva_3D' in l:\n",
    "            all_xva_3DHarmo.append(j[0]+'/'+l)\n",
    "        if 'xva_start' in l:\n",
    "            all_xva_start.append(j[0]+'/'+l)\n",
    "        #print(j[0],'\\n')\n",
    "\n",
    "# for i in range(len(all_subdir)):\n",
    "#     print(all_subdir[i],'\\n',all_Temp[i],'\\n',all_trjN[i],'\\n')"
   ]
  },
  {
   "cell_type": "code",
   "execution_count": 665,
   "id": "602383a8",
   "metadata": {},
   "outputs": [
    {
     "data": {
      "text/plain": [
       "(['/home/adrien/RemoteFS/Rivendel/Simulations/20220617/DC07_RF07/Try00/Temp_SimuType0_N00512_Vrf0071_Udc0.2116D+02V_nt1000.dat',\n",
       "  '/home/adrien/RemoteFS/Rivendel/Simulations/20220617/DC06_RF06/Try00/Temp_SimuType0_N00512_Vrf0061_Udc0.1424D+02V_nt1000.dat',\n",
       "  '/home/adrien/RemoteFS/Rivendel/Simulations/20220617/DC04_RF04/Try00/Temp_SimuType0_N00512_Vrf0042_Udc0.6010D+01V_nt1000.dat',\n",
       "  '/home/adrien/RemoteFS/Rivendel/Simulations/20220617/DC05_RF05/Try00/Temp_SimuType0_N00512_Vrf0051_Udc0.9330D+01V_nt1000.dat',\n",
       "  '/home/adrien/RemoteFS/Rivendel/Simulations/20220617/DC03_RF03/Try00/Temp_SimuType0_N00512_Vrf0031_Udc0.3160D+01V_nt1000.dat'],\n",
       " [])"
      ]
     },
     "execution_count": 665,
     "metadata": {},
     "output_type": "execute_result"
    }
   ],
   "source": [
    "all_Temp,all_trj1"
   ]
  },
  {
   "cell_type": "code",
   "execution_count": 676,
   "id": "ac85917b",
   "metadata": {},
   "outputs": [
    {
     "name": "stdout",
     "output_type": "stream",
     "text": [
      "/home/adrien/RemoteFS/Rivendel/Simulations/20220617/DC07_RF07/Try00/Temp_SimuType0_N00512_Vrf0071_Udc0.2116D+02V_nt1000.dat\n"
     ]
    }
   ],
   "source": [
    "# OK pour la temperature\n",
    "load_number = 0\n",
    "print(all_Temp[load_number])\n",
    "data = loadtxt(all_Temp[load_number])\n",
    "time = data[:,0]\n",
    "T_CM = data[:,1:4]\n",
    "T_aux = data[:,4:]\n",
    "T_aux_avg = mean(T_aux,axis=1)\n",
    "\n",
    "# test plot\n",
    "index_max = 1900\n",
    "figure(1,clear='True')\n",
    "semilogy(time*1e3,T_aux,'P')\n",
    "semilogy(time*1e3,T_aux_avg,color='r')\n",
    "vlines(time[index_max]*1e3,1e-3,100)\n",
    "# vlines(time[2000]*1e3,1e-1,1)\n",
    "xlabel('time [ms]')\n",
    "ylabel('T [K]')\n",
    "# xlim(1,1.1)\n",
    "grid()\n",
    "tight_layout()"
   ]
  },
  {
   "cell_type": "code",
   "execution_count": 518,
   "id": "d54f8b59",
   "metadata": {},
   "outputs": [
    {
     "name": "stdout",
     "output_type": "stream",
     "text": [
      "/home/adrien/RemoteFS/Rivendel/Simulations/20220610/DC07_RF07/Try00/Temp_SimuType0_N00512_Vrf0071_Udc0.2116D+02V_nt1000.dat\n"
     ]
    },
    {
     "name": "stderr",
     "output_type": "stream",
     "text": [
      "/usr/lib/python3/dist-packages/scipy/optimize/_minpack_py.py:833: OptimizeWarning: Covariance of the parameters could not be estimated\n",
      "  warnings.warn('Covariance of the parameters could not be estimated',\n",
      "/tmp/ipykernel_8957/2691313375.py:39: RuntimeWarning: invalid value encountered in log\n",
      "  logit_T_aux_avg = log(T_aux_avg/(1-T_aux_avg))\n"
     ]
    },
    {
     "name": "stdout",
     "output_type": "stream",
     "text": [
      "(0.12016035163163255, 0.13725077089097168, 119423.98527906199)\n"
     ]
    }
   ],
   "source": [
    "# same as above\n",
    "# with fit temperature\n",
    "\n",
    "# OK pour la temperature\n",
    "load_number = 0\n",
    "print(all_Temp[load_number])\n",
    "data = loadtxt(all_Temp[load_number])\n",
    "time = data[:,0]\n",
    "T_CM = data[:,1:4]\n",
    "T_aux = data[:,4:]\n",
    "T_aux_avg = mean(T_aux,axis=1)\n",
    "\n",
    "x = linspace(1,1.9,1000)\n",
    "# y = exp_sigmoid(x,1,0,1,-1) for log plot\n",
    "# y = sqrt(-log(exp_sigmoid(-x,1,0,1,0))) # pas bon\n",
    "\n",
    "\n",
    "# test plot\n",
    "# logistic(x,K,a,r):\n",
    "index_max = 1900\n",
    "# p0 = array([50,1e-3,50])\n",
    "popt, pcov = curve_fit(logistic, time[:index_max], log10(T_aux_avg[:index_max]),\n",
    "                       p0,maxfev= 500000)\n",
    "fit_param = popt[0], popt[1], popt[2]\n",
    "fit_pcov  = pcov\n",
    "print(fit_param)\n",
    "\n",
    "figure(11,clear='True')\n",
    "semilogy(time*1e3,T_aux_avg,color='r')\n",
    "plot(time[:index_max]*1e3,logistic(time[:index_max]*1e3,50,1000,1),color='b')\n",
    "plot(time[:index_max]*1e3,logistic(time[:index_max]*1e3,*fit_param),color='k')\n",
    "\n",
    "xlabel('time [ms]')\n",
    "ylabel('T [K]')\n",
    "xlim(0.9,2.1)\n",
    "grid()\n",
    "tight_layout()\n",
    "\n"
   ]
  },
  {
   "cell_type": "code",
   "execution_count": 543,
   "id": "edea93d4",
   "metadata": {},
   "outputs": [
    {
     "name": "stderr",
     "output_type": "stream",
     "text": [
      "/tmp/ipykernel_8957/1270371780.py:8: RuntimeWarning: divide by zero encountered in true_divide\n",
      "  logit_p = log(T_aux_avg_lognorm/(1-T_aux_avg_lognorm))\n"
     ]
    }
   ],
   "source": [
    "# fit par logistic\n",
    "# en utilisant logit\n",
    "\n",
    "T_aux_avg_log = log(T_aux_avg_norm)\n",
    "T_aux_avg_lognorm = T_aux_avg_log + min(T_aux_avg_log)\n",
    "T_aux_avg_lognorm = T_aux_avg/max(T_aux_avg)\n",
    "\n",
    "logit_p = log(T_aux_avg_lognorm/(1-T_aux_avg_lognorm))\n",
    "#T_aux_avg_log = log(T_aux_avg_norm)/max(log(T_aux_avg_norm))\n",
    "#logit_T_aux_avg = log(T_aux_avg_log/(1-T_aux_avg_log))\n",
    "figure(12,clear='True')\n",
    "plot(time*1e3,logit_p/T_aux_avg_log,color='b')\n",
    "\n",
    "xlabel('time [ms]')\n",
    "ylabel('T [K]')\n",
    "xlim(0.9,2.1)\n",
    "grid()\n",
    "tight_layout()"
   ]
  },
  {
   "cell_type": "code",
   "execution_count": 651,
   "id": "fb7e6c80",
   "metadata": {},
   "outputs": [
    {
     "name": "stderr",
     "output_type": "stream",
     "text": [
      "/tmp/ipykernel_8957/1191193704.py:15: RuntimeWarning: overflow encountered in exp\n",
      "  f = 1/(1+exp(-c*(p4-x)))\n",
      "/usr/lib/python3/dist-packages/scipy/optimize/_minpack_py.py:833: OptimizeWarning: Covariance of the parameters could not be estimated\n",
      "  warnings.warn('Covariance of the parameters could not be estimated',\n"
     ]
    }
   ],
   "source": [
    "# test plot\n",
    "index_max = 1900\n",
    "# five_param_logistic(x,p1,p2,p3,p4,p5)\n",
    "# p0 = array([50,1e-8,50,-1.6])\n",
    "popt, pcov = curve_fit(five_param_logistic, time[:index_max]*1e3, log(T_aux_avg[:index_max]),\n",
    "                        maxfev= 500000)\n",
    "fit_param = popt[0], popt[1], popt[2], popt[3], popt[4]\n",
    "fit_pcov  = pcov\n",
    "\n",
    "figure(11,clear='True')\n",
    "#semilogy(time*1e3,T_aux_avg,color='r')\n",
    "#semilogy(time[:index_max]*1e3,five_param_logistic(time[:index_max]*1e3,*popt),color='b')\n",
    "#plot(time*1e3,log(T_aux_avg),color='r')\n",
    "plot((time)*1e3,\n",
    "         five_param_logistic((time-min(time))*1e3,1e-2,50,1,1,300),\n",
    "         color='k')\n",
    "#plot(time[:index_max]*1e3,exp_sigmoid(time[:index_max]*1e3,*fit_param),color='k')\n",
    "\n",
    "xlabel('time [ms]')\n",
    "ylabel('T [K]')\n",
    "#xlim(1,2.1)\n",
    "#ylim(-1e-3,55)\n",
    "grid()\n",
    "tight_layout()"
   ]
  },
  {
   "cell_type": "code",
   "execution_count": 49,
   "id": "11a765dc",
   "metadata": {},
   "outputs": [],
   "source": [
    "# plt.style.use('default')\n",
    "%run functions"
   ]
  },
  {
   "cell_type": "code",
   "execution_count": null,
   "id": "79835824",
   "metadata": {},
   "outputs": [],
   "source": []
  },
  {
   "cell_type": "code",
   "execution_count": null,
   "id": "6741fa93",
   "metadata": {},
   "outputs": [],
   "source": []
  },
  {
   "cell_type": "code",
   "execution_count": 50,
   "id": "c14b18de",
   "metadata": {},
   "outputs": [
    {
     "name": "stdout",
     "output_type": "stream",
     "text": [
      "/home/adrien/RemoteFS/Rivendel/Simulations/20220610/DC07_RF07/Try00/xva_SimuType0_N00512_Vrf0071_Udc0.2116D+02V_nt1000_TrjN.bin\n",
      "[720000]\n",
      "[720000]\n"
     ]
    }
   ],
   "source": [
    "# Retrieve r² and v² data\n",
    "\n",
    "print(all_trjN[load_number])\n",
    "r2_v2 = load_xv2rlim(all_trjN[load_number])"
   ]
  },
  {
   "cell_type": "code",
   "execution_count": 123,
   "id": "5c1326e8",
   "metadata": {},
   "outputs": [],
   "source": [
    "# test plot r² and v²\n",
    "\n",
    "figure(2,clear='True')\n",
    "for k in range(3):\n",
    "    plot(time*1e3,r2_v2[k,:len(time)],label=str(k))\n",
    "xlabel('time [ms]')\n",
    "ylabel('R² [m²]')\n",
    "# ylim(0,100)\n",
    "grid()\n",
    "\n",
    "legend()\n",
    "tight_layout()\n",
    "\n",
    "figure(3,clear='True')\n",
    "for k in range(3):\n",
    "    semilogy(time*1e3,r2_v2[k+3,:len(time)],label=str(k))\n",
    "xlabel('time [ms]')\n",
    "ylabel('V² [m/s ²]')\n",
    "grid()\n",
    "legend()\n",
    "tight_layout()\n",
    "\n",
    "figure(21,clear='True')\n",
    "for k in range(3):\n",
    "    plot(time*1e3,r2_v2[k+6,:len(time)],label=str(k))\n",
    "xlabel('time [ms]')\n",
    "ylabel('R_lim [m]')\n",
    "grid()\n",
    "tight_layout()\n",
    "\n",
    "b, a = signal.butter(8, 0.125)\n",
    "R_lim_x_filt = signal.filtfilt(b, a, r2_v2[6,:len(time)], padlen=150)\n",
    "figure(22,clear='True')\n",
    "plot(T_aux[:,0],r2_v2[6,:len(time)],label=str(k),marker='+',ls='')\n",
    "a = 2.5e-3\n",
    "b = 0.085\n",
    "plot(linspace(0,40,1000),a*linspace(0,40,1000)+b,label=str(k),ls='-')\n",
    "a = 2.7e-3\n",
    "b = 0.075\n",
    "plot(linspace(0,40,1000),a*linspace(0,40,1000)+b,label=str(k),ls='-')\n",
    "xlabel('Temperature [K]')\n",
    "ylabel('R_lim [m]')\n",
    "xlim(-0.5,42)\n",
    "ylim(0.02,0.22)\n",
    "grid()\n",
    "tight_layout()"
   ]
  },
  {
   "cell_type": "code",
   "execution_count": null,
   "id": "dccd6e54",
   "metadata": {},
   "outputs": [],
   "source": [
    "t = time - max(time)\n",
    "T = max(t)-min(t)\n",
    "dt = time[1]-time[0]\n",
    "N_samp = len(time)\n",
    "print(1/dt)\n",
    "print( 'fmax =',1/(2*dt),'Hz' )\n",
    "print( 'df =',1/(len(t)*dt),'Hz' )\n",
    "\n",
    "y = r2_v2[5,:len(t)]\n",
    "w = blackman(len(t))\n",
    "ywf = fft(y*w)\n",
    "xf = fftfreq(len(t), dt)[:N_samp//2]\n",
    "figure(31,clear='True')\n",
    "plt.semilogy(xf[1:N_samp//2], 2.0/N_samp * np.abs(ywf[1:N_samp//2]), '-r')\n",
    "plt.tight_layout()"
   ]
  },
  {
   "cell_type": "code",
   "execution_count": 19,
   "id": "0b12c87a",
   "metadata": {},
   "outputs": [
    {
     "name": "stdout",
     "output_type": "stream",
     "text": [
      "q 0.39000388637797107\n",
      "non adiab 0.28474130089623617\n",
      "adiab     0.27577439274697113\n",
      "non adiab 291.85983341864204\n",
      "adiab     282.66875256564543\n"
     ]
    }
   ],
   "source": [
    "# q = 0.56\n",
    "Urf = 42\n",
    "Udc = 6.05\n",
    "q = 4*C_e*Urf/(m_Ca*r0**2*Omega**2)\n",
    "print('q',q)\n",
    "q_fact = (1+1/8*q**2)\n",
    "q_omega = 1/8*q**2*Omega**2\n",
    "\n",
    "beta_guess = 0.423\n",
    "a = 0\n",
    "for k in range(15):\n",
    "    beta_guess = beta_continue_alamano(a,q,beta_guess)\n",
    "    beta_guess = sqrt(beta_guess)\n",
    "#     print(beta_guess)\n",
    "print('non adiab',beta_guess)\n",
    "print('adiab    ',sqrt(a+q**2/2))\n",
    "print('non adiab',0.5*beta_guess*Omega/1000/2/pi)\n",
    "print('adiab    ',0.5*sqrt(a+q**2/2)*Omega/1000/2/pi)\n",
    "\n",
    "omega_x = beta_guess*Omega/2 # 462249.463 *2*pi # 404799.82030008605\n",
    "omega_y = omega_x\n",
    "omega_z = 100000*sqrt(Udc) *2*pi\n",
    "\n",
    "Ekin = 0.5*m_Ca*( q_fact*(r2_v2[3]+r2_v2[4]) + r2_v2[5] + q_omega*(r2_v2[0]+r2_v2[1]) )\n",
    "\n",
    "Ekin_nig = 0.5*m_Ca * ( (q_fact*omega_x**2+q_omega)*r2_v2[0] \\\n",
    "                + (q_fact*omega_y**2+q_omega)*r2_v2[1] \\\n",
    "                + (omega_z**2)*r2_v2[2] )\n",
    "\n",
    "Heating_rate = Ekin[:len(time)] / Ekin_nig[:len(time)]"
   ]
  },
  {
   "cell_type": "code",
   "execution_count": 20,
   "id": "5bc3b6f3",
   "metadata": {},
   "outputs": [],
   "source": [
    "figure(4,clear='True')\n",
    "semilogy(time*1e3,Heating_rate[:len(time)])\n",
    "xlabel('time [ms]')\n",
    "ylabel('h [J/J /period]')\n",
    "grid()\n",
    "\n",
    "#semilogy(time,Ekin[:len(time)])\n",
    "#semilogy(time,Ekin_nig[:len(time)])\n",
    "tight_layout()"
   ]
  },
  {
   "cell_type": "code",
   "execution_count": null,
   "id": "935ca692",
   "metadata": {},
   "outputs": [],
   "source": [
    "# plot dE/dt always same problem (centered on 0)\n",
    "# plot dE/dT ? same pb\n",
    "figure(5,clear='True')\n",
    "plot(mean(T_aux,axis=1)[:-1],diff(Ekin[:len(time)]))\n",
    "xlabel('temperature [T]')\n",
    "ylabel('diff(Ekin)')\n",
    "grid()\n",
    "tight_layout()"
   ]
  },
  {
   "cell_type": "code",
   "execution_count": 21,
   "id": "b36271b1",
   "metadata": {},
   "outputs": [],
   "source": [
    "# Blumel style\n",
    "cloud_size   = sqrt(r2_v2[0]+r2_v2[1]+r2_v2[2])\n",
    "crystal_size = sqrt(r2_v2[0,5]+r2_v2[1,5]+r2_v2[2,5])\n",
    "\n",
    "figure(6,clear='True')\n",
    "plot(cloud_size[1:len(time)]/crystal_size,Heating_rate[1:len(time)])\n",
    "xlabel('size sigma')\n",
    "ylabel('h [J/J /period]')\n",
    "grid()\n",
    "tight_layout()"
   ]
  },
  {
   "cell_type": "code",
   "execution_count": null,
   "id": "595c6459",
   "metadata": {},
   "outputs": [],
   "source": [
    "# Drewsen style\n",
    "R = 88*1e-6\n",
    "V = 4/3*pi*R**3\n",
    "rho = N/V\n",
    "aws = (1/rho)**(1/3)\n",
    "temperature_gamma = C_e**2 / (4*pi*eps0*aws*kb*mean(T_aux,axis=1))\n",
    "\n",
    "figure(61,clear='True')\n",
    "plot(mean(T_aux,axis=1)[1:len(time)],Ekin[1:len(time)],\n",
    "     marker='.',\n",
    "     label='$E_{kin}^{adia}$') # Heating_rate Ekin[:len(time)]\n",
    "plot(mean(T_aux,axis=1)[1:len(time)],Ekin_nig[1:len(time)],\n",
    "     marker='.',\n",
    "     label='$E_{kin}^{nig}$')\n",
    "plot(mean(T_aux,axis=1)[1:len(time)],1/2*kb*N*n_dt**2*mean(T_aux,axis=1)[1:len(time)],\n",
    "     marker='.',\n",
    "     label='$E_{kin}^{nig}$')\n",
    "xlabel('Temperature [K]')\n",
    "ylabel('$E_{kin}^{adia}$ [J]')\n",
    "grid()\n",
    "tight_layout()\n",
    "\n",
    "figure(65,clear='True')\n",
    "plot(mean(T_aux,axis=1)[1:len(time)],\n",
    "     Ekin[1:len(time)] / (1/2*kb*N*n_dt**2*mean(T_aux,axis=1)[1:len(time)]),\n",
    "     marker='.',\n",
    "     label='$E_{kin}^{nig}$')\n",
    "xlabel('Temperature [K]')\n",
    "ylabel('$E_{kin}^{adia}$ [J]')\n",
    "grid()\n",
    "tight_layout()\n",
    "\n",
    "figure(66,clear='True')\n",
    "plot(time*1e3,\n",
    "     temperature_gamma,\n",
    "     marker='.',\n",
    "     label='$E_{kin}^{nig}$')\n",
    "xlabel('time [ms]')\n",
    "ylabel('$\\Gamma$')\n",
    "grid()\n",
    "tight_layout()\n",
    "\n",
    "# figure(62,clear='True')\n",
    "# plot(1/temperature_gamma[1:len(time)],Ekin_nig[1:len(time)],'+') # Heating_rate Ekin[:len(time)]\n",
    "# xlabel('Temperature [1/Gamma]')\n",
    "# ylabel('$E_{kin}^{nig}$ [J]')\n",
    "# grid()\n",
    "# tight_layout()\n",
    "\n",
    "# figure(64,clear='True')\n",
    "# loglog(1/temperature_gamma[1:len(time)],Heating_rate[1:len(time)],'+') # Heating_rate Ekin[:len(time)]\n",
    "# xlabel('Temperature [1/Gamma]')\n",
    "# ylabel('H [J/s]')\n",
    "# grid()\n",
    "# tight_layout()\n",
    "# Ekin[:len(time)] / Ekin_nig[:len(time)]"
   ]
  },
  {
   "cell_type": "code",
   "execution_count": 287,
   "id": "2c900df7",
   "metadata": {},
   "outputs": [],
   "source": [
    "figure(7,clear='True')\n",
    "b, a = signal.butter(8, 0.125)\n",
    "cloud_size_filt = signal.filtfilt(b, a, cloud_size[1:len(time)], padlen=150)\n",
    "plot(time[1:],cloud_size_filt*1e-6)\n",
    "xlabel('time [s]')\n",
    "ylabel('s [µm]')\n",
    "xlim(0.001,0.0025)\n",
    "ylim(0,4)\n",
    "\n",
    "grid()\n",
    "tight_layout()"
   ]
  },
  {
   "cell_type": "code",
   "execution_count": null,
   "id": "3fce0b4c",
   "metadata": {},
   "outputs": [],
   "source": [
    "# Retrieve r at end langevin\n",
    "load_number = 1\n",
    "file_to_open = all_xva_3DHarmo[load_number] # [load_number]all_xva_start\n",
    "print(file_to_open)\n",
    "xva_3DHarmo = load_x_3DHarmo(file_to_open)"
   ]
  },
  {
   "cell_type": "code",
   "execution_count": null,
   "id": "d2a61b86",
   "metadata": {},
   "outputs": [],
   "source": [
    "# Retrieve r at end langevin\n",
    "load_number = 1\n",
    "file_to_open = all_trj1[load_number] # [load_number]all_xva_start\n",
    "print(file_to_open)\n",
    "xva_trj1 = load_x_afterstart(file_to_open)"
   ]
  },
  {
   "cell_type": "code",
   "execution_count": null,
   "id": "b4075235",
   "metadata": {},
   "outputs": [],
   "source": [
    "time_thin = linspace(0,time[-1]-min(time),len(xva_trj1[0]))\n",
    "n_dt = 5000\n",
    "offset = 0*n_dt\n",
    "start = 0 + offset\n",
    "end = 200*n_dt + offset\n",
    "\n",
    "dim_to_plot = 0\n",
    "figure(88,clear='True')\n",
    "plot(time_thin[start:end]*1e6,xva_trj1[dim_to_plot,start:end]*1e6)\n",
    "xlabel('t [µs]')\n",
    "ylabel('x [µm]')\n",
    "grid()\n",
    "tight_layout()\n",
    "\n",
    "T = max(time_thin[start:end])\n",
    "dt = time_thin[1]-time_thin[0]\n",
    "N_samp = len(time_thin[start:end])\n",
    "# print(1/dt)\n",
    "# print( 'fmax =',1/(2*dt),'Hz' )\n",
    "# print( 'df =',1/(len(t)*dt),'Hz' )\n",
    "y = xva_trj1[dim_to_plot,start:end]\n",
    "w = blackman(len(y))\n",
    "len_pad = 2**20\n",
    "ywf = fft(y*w,n=len_pad)\n",
    "xf = fftfreq(len(y), dt)[:N_samp//2]\n",
    "figure(89,clear='True')\n",
    "plt.semilogy(xf[1:N_samp//2], 2.0/N_samp * np.abs(ywf[1:N_samp//2]), '-+r')\n",
    "xlim(0,1e7)\n",
    "plt.tight_layout()"
   ]
  },
  {
   "cell_type": "code",
   "execution_count": null,
   "id": "5c2a0d7c",
   "metadata": {},
   "outputs": [],
   "source": [
    "figure(8,clear='True')\n",
    "scatter(xva_3DHarmo[0]*1e6,xva_3DHarmo[1]*1e6)\n",
    "xlabel('x [µm]')\n",
    "ylabel('y [µm]')\n",
    "grid()\n",
    "tight_layout()\n",
    "\n",
    "figure(9,clear='True')\n",
    "scatter(xva_3DHarmo[2]*1e6,xva_3DHarmo[0]*1e6)\n",
    "xlabel('z [µm]')\n",
    "ylabel('x [µm]')\n",
    "grid()\n",
    "tight_layout()\n",
    "\n",
    "figure(10,clear='True')\n",
    "scatter(xva_3DHarmo[2]*1e6,xva_3DHarmo[1]*1e6)\n",
    "xlabel('z [µm]')\n",
    "ylabel('y [µm]')\n",
    "grid()\n",
    "tight_layout()"
   ]
  },
  {
   "cell_type": "code",
   "execution_count": null,
   "id": "fa454630",
   "metadata": {},
   "outputs": [],
   "source": [
    "# Compare Ekin pseudopot to ekin measured\n",
    "\n",
    "figure(11,clear='True')\n",
    "plot(time*1e3,0.5*m_Ca*sum(T_aux,axis=1)/m_Ca*kb*N*1000**2,label='Ekin meas')\n",
    "plot(time*1e3,Ekin[:len(time)],'--',label='Ekin pseudopot')\n",
    "xlabel('time [ms]')\n",
    "ylabel('Energy [J]')\n",
    "grid()\n",
    "legend()\n",
    "tight_layout()\n",
    "\n",
    "figure(12,clear='True')\n",
    "plot(time*1e3,Ekin[:len(time)] - 0.5*m_Ca*sum(T_aux,axis=1)/m_Ca*kb*N*1000**2)\n",
    "xlabel('time [ms]')\n",
    "ylabel('Energy diff [J]')\n",
    "grid()\n",
    "tight_layout()\n",
    "\n",
    "figure(num=122,clear='True')\n",
    "plot(time*1e3,Ekin[:len(time)]/(0.5*m_Ca*sum(T_aux,axis=1)/m_Ca*kb*N*1000**2))\n",
    "xlabel('time [ms]')\n",
    "ylabel('Energy ratio [J]')\n",
    "grid()\n",
    "tight_layout()\n",
    "\n",
    "# The problem here is that the energy measured in the simu\n",
    "# is significantly different from the energy in pseudo-pot approx\n",
    "# also Blümel relies on average values at equilibrium\n",
    "# so his h=E/E do not work for me"
   ]
  },
  {
   "cell_type": "code",
   "execution_count": null,
   "id": "63924c51",
   "metadata": {},
   "outputs": [],
   "source": [
    "# trim data from dirty edges\n",
    "start = 5\n",
    "end = len(time)-50\n",
    "time_good = time[start:end]\n",
    "T_good = mean(T_aux,axis=1)[start:end]\n",
    "cloud_size   = sqrt(r2_v2[0,start:end]+r2_v2[1,start:end]+r2_v2[2,start:end])\n",
    "crystal_size = sqrt(r2_v2[0,5]+r2_v2[1,5]+r2_v2[2,5])\n",
    "# filter data\n",
    "b, a = signal.butter(8, 0.125)\n",
    "y = signal.filtfilt(b, a, T_good, padlen=150)"
   ]
  },
  {
   "cell_type": "code",
   "execution_count": null,
   "id": "98fdbd21",
   "metadata": {},
   "outputs": [],
   "source": [
    "figure(14,clear='True')\n",
    "plot(time_good*1e3,T_good)\n",
    "plot(time_good*1e3,y,'--P')\n",
    "vlines(time_good[1500]*1e3,0,50)\n",
    "vlines(time_good[2000]*1e3,0,50)\n",
    "grid()\n",
    "#xlim(35.3,37.4)\n",
    "#ylim(-1,75)\n",
    "xlabel('time [ms]')\n",
    "ylabel('Temperature [K]')\n",
    "tight_layout()"
   ]
  },
  {
   "cell_type": "code",
   "execution_count": null,
   "id": "19b5bae0",
   "metadata": {},
   "outputs": [],
   "source": [
    "# Heating by differentiating\n",
    "# between points spaced by 50 RF periods\n",
    "time_step = 488 # 488 # 488\n",
    "N_period = (time_good[time_step]-time_good[0])*(Omega/2/pi)\n",
    "y_diff = (y[time_step:]-y[:-time_step])\n",
    "time_good_diff = time_good[time_step//2:-time_step//2]*1e3\n",
    "\n",
    "figure(141,clear='True')\n",
    "plot(time_good[:-time_step]*1e3,\n",
    "     y_diff/N_period)\n",
    "grid()\n",
    "#xlim(35.3,37.4)\n",
    "#ylim(-1,75)\n",
    "xlabel('time [ms]')\n",
    "ylabel('Heating rate [K/period]')\n",
    "tight_layout()\n",
    "\n",
    "figure(142,clear='True')\n",
    "plot(y[:-time_step],\n",
    "     y_diff/N_period)\n",
    "grid()\n",
    "#xlim(35.3,37.4)\n",
    "#ylim(-1,75)\n",
    "xlabel('Temperature [K]')\n",
    "ylabel('Heating rate [K/period]')\n",
    "tight_layout()\n",
    "\n",
    "figure(1421,clear='True')\n",
    "plot(y[1:-time_step],\n",
    "     diff(y_diff/N_period))\n",
    "grid()\n",
    "#xlim(35.3,37.4)\n",
    "#ylim(-1,75)\n",
    "xlabel('Temperature [K]')\n",
    "ylabel('Heating rate [K/period]')\n",
    "tight_layout()\n",
    "\n",
    "R = 88*1e-6\n",
    "V = 4/3*pi*R**3\n",
    "rho = N/V\n",
    "aws = (1/rho)**(1/3)\n",
    "temperature_gamma = C_e**2 / (4*pi*eps0*aws*kb*y)\n",
    "\n",
    "figure(143,clear='True')\n",
    "plot(1/temperature_gamma[:-time_step],\n",
    "     y_diff/N_period)\n",
    "grid()\n",
    "#xlim(35.3,37.4)\n",
    "#ylim(-1,75)\n",
    "xlabel('Temperature [1/$\\Gamma$]')\n",
    "ylabel('Heating rate [K/period]')\n",
    "tight_layout()\n",
    "\n",
    "figure(144,clear='True')\n",
    "loglog(1/temperature_gamma[:-time_step],\n",
    "     (Ekin[:len(y_diff)]/(y_diff/N_period))**-1)\n",
    "grid()\n",
    "#xlim(35.3,37.4)\n",
    "#ylim(-1,75)\n",
    "xlabel('Temperature [1/$\\Gamma$]')\n",
    "ylabel('Heating rate [K/period]')\n",
    "tight_layout()"
   ]
  },
  {
   "cell_type": "code",
   "execution_count": null,
   "id": "ff4a2377",
   "metadata": {},
   "outputs": [],
   "source": [
    "print(N_period)"
   ]
  },
  {
   "cell_type": "code",
   "execution_count": null,
   "id": "b98482a2",
   "metadata": {},
   "outputs": [],
   "source": [
    "figure(15,clear='True')\n",
    "plot(y[:-1],diff(y),'--P')\n",
    "xlabel('T [K]')\n",
    "ylabel('H [K/S]')\n",
    "grid()\n",
    "# xlim(35.3,37.4)\n",
    "# ylim(-0.05,0.15)\n",
    "tight_layout()"
   ]
  },
  {
   "cell_type": "code",
   "execution_count": null,
   "id": "4aa6515d",
   "metadata": {},
   "outputs": [],
   "source": [
    "figure(16,clear='True')\n",
    "plot(y[:-1],diff(y)/y[:-1],'--P')\n",
    "xlabel('T [K]')\n",
    "ylabel('H/T [K/S /K]')\n",
    "grid()\n",
    "# xlim(35.3,37.4)\n",
    "# ylim(-0.05,0.15)\n",
    "tight_layout()"
   ]
  },
  {
   "cell_type": "code",
   "execution_count": null,
   "id": "409e1c27",
   "metadata": {},
   "outputs": [],
   "source": [
    "len(y)"
   ]
  },
  {
   "cell_type": "code",
   "execution_count": null,
   "id": "a23f8ce8",
   "metadata": {},
   "outputs": [],
   "source": [
    "figure(17,clear='True')\n",
    "plot(cloud_size[:-1]/crystal_size,diff(y),'--P')\n",
    "xlabel('size [m]')\n",
    "ylabel('H [K/S]')\n",
    "grid()\n",
    "# xlim(35.3,37.4)\n",
    "# ylim(-0.05,0.15)\n",
    "tight_layout()\n",
    "\n",
    "figure(18,clear='True')\n",
    "plot(cloud_size[:-1]/crystal_size,diff(y)/y[:-1],'--P')\n",
    "xlabel('size [m]')\n",
    "ylabel('H/T [K/S /K]')\n",
    "grid()\n",
    "# xlim(35.3,37.4)\n",
    "# ylim(-0.05,0.15)\n",
    "tight_layout()"
   ]
  },
  {
   "cell_type": "markdown",
   "id": "cf7dc82d",
   "metadata": {},
   "source": [
    "# Extract data as npz"
   ]
  },
  {
   "cell_type": "code",
   "execution_count": null,
   "id": "d3d0aaaa",
   "metadata": {},
   "outputs": [],
   "source": [
    "file_path = load_file_GUI('/home/adrian/Documents/Programmes/Python/GiantMol/SimAnalysisPointbyPoint')\n",
    "print(file_path)"
   ]
  },
  {
   "cell_type": "code",
   "execution_count": null,
   "id": "00ae4466",
   "metadata": {},
   "outputs": [],
   "source": [
    "## GUI for data loading\n",
    "# Select one data file all the way down to the directories\n",
    "# SELECT Temp_SimuTypeQ_N ... .dat\n",
    "\n",
    "file_cfg, slash_cfg, all_subdir = load_gui(filter_nocomplete=1)\n",
    "\n",
    "file_path = file_cfg[0]\n",
    "dir_path = file_cfg[1]\n",
    "work_rep = file_cfg[2]\n",
    "filename = file_cfg[3]\n",
    "\n",
    "myslashpos = slash_cfg[0]\n",
    "slashcond = slash_cfg[1]"
   ]
  },
  {
   "cell_type": "code",
   "execution_count": null,
   "id": "264c6756",
   "metadata": {},
   "outputs": [],
   "source": [
    "## Condition for data\n",
    "points_and_coord, condition_parameters = simu_conditions(all_subdir, myslashpos, slashcond, filename)"
   ]
  },
  {
   "cell_type": "code",
   "execution_count": null,
   "id": "5928ff0e",
   "metadata": {
    "scrolled": true
   },
   "outputs": [],
   "source": [
    "## Data loading (1D arrays)\n",
    "data_name, num_runs, Time, Temperature \\\n",
    "= data_retrieve(all_subdir,points_and_coord,condition_parameters,slash_cfg) # stopping_power  ,forcenumtry=28"
   ]
  },
  {
   "cell_type": "code",
   "execution_count": null,
   "id": "05370717",
   "metadata": {
    "scrolled": false
   },
   "outputs": [],
   "source": [
    "for j,k in enumerate(data_name[0]):\n",
    "    cond = k[0][52:61]\n",
    "    print(cond)\n",
    "    outfile = 'Time_and_temp_RFHEAT_N0512_'+str(cond)\n",
    "    np.savez( outfile, time=Time[j], temp = mean(Temperature[j],axis=0)) # dirname_hc=re.sub(r'\\\\',r'/',dirname_hc)"
   ]
  },
  {
   "cell_type": "code",
   "execution_count": null,
   "id": "5214bd80",
   "metadata": {},
   "outputs": [],
   "source": [
    "# load check\n",
    "cond = 'DC11_RF18'\n",
    "outfile = 'Time_and_temp_RFHEAT_N0512_'+str(cond)\n",
    "with load(outfile+'.npz') as data:\n",
    "    a = data['time']\n",
    "    b = data['temp']\n",
    "print(a)\n",
    "print(b)\n",
    "print(shape(a))\n",
    "print(shape(b))"
   ]
  },
  {
   "cell_type": "code",
   "execution_count": null,
   "id": "e146a66f",
   "metadata": {
    "scrolled": true
   },
   "outputs": [],
   "source": [
    "whos"
   ]
  },
  {
   "cell_type": "markdown",
   "id": "3eb086d7",
   "metadata": {},
   "source": [
    "# Work with data"
   ]
  },
  {
   "cell_type": "code",
   "execution_count": null,
   "id": "4d60c175",
   "metadata": {},
   "outputs": [],
   "source": [
    "file_path = load_file_GUI('/home/adrian/Documents/Programmes/Python')\n",
    "print(file_path)\n",
    "\n",
    "for j,k in enumerate(file_path):\n",
    "    cond = k[0][52:61]"
   ]
  },
  {
   "cell_type": "code",
   "execution_count": null,
   "id": "7cdf8448",
   "metadata": {},
   "outputs": [],
   "source": [
    "all_Urf = [60,61,62,63,64,65,66,67,68,62.2,62.4,62.6,62.8,\n",
    "       63.2,63.4,63.6,63.8,40,45,50,55,70,75,80,85]\n",
    "Urf = []\n",
    "for j,k in enumerate(file_path):\n",
    "    str_pos = k.find('N0512_')\n",
    "    cond = k[str_pos+6:str_pos+15]\n",
    "    str_pos = cond.find('RF')\n",
    "    RF_cond = cond[str_pos+2:str_pos+4]\n",
    "    print(cond,RF_cond)\n",
    "    Urf.append(all_Urf[int(RF_cond)])\n",
    "print(sort(Urf))"
   ]
  },
  {
   "cell_type": "code",
   "execution_count": null,
   "id": "5ce7efd7",
   "metadata": {},
   "outputs": [],
   "source": [
    "# load check\n",
    "# cond = 'DC11_RF00'\n",
    "# outfile = 'Time_and_temp_RFHEAT_'+str(cond)\n",
    "Time = []\n",
    "Temperature = []\n",
    "for j,k in enumerate(file_path):\n",
    "    with load(k) as data:\n",
    "        Time.append( data['time'] )\n",
    "        Temperature.append( data['temp'] )\n",
    "    print(j,k)\n",
    "print(shape(Time))\n",
    "print(shape(Temperature))"
   ]
  },
  {
   "cell_type": "code",
   "execution_count": null,
   "id": "9f82c460",
   "metadata": {},
   "outputs": [],
   "source": [
    "imax = len(Urf)\n",
    "print('imax',imax)\n",
    "\n",
    "T_max = 50\n",
    "T_thr = 1\n",
    "\n",
    "figure(10); clf();\n",
    "i = 11\n",
    "print(i,Urf[i])\n",
    "#     subplot(1,9,i+1)\n",
    "semilogy(Time[i]*1e3,savgol_filter(Temperature[i],31,1),label=' Vrf = '+str(Urf[i]))\n",
    "#     semilogy(time[i][:]*1e3,Temp[i][:],label=' Vrf = '+str(Urf[i]))\n",
    "#         semilogy(time[k_thr],Temp[i,j,k_thr],'o')\n",
    "grid()\n",
    "legend(fontsize=12)"
   ]
  },
  {
   "cell_type": "code",
   "execution_count": null,
   "id": "e390a056",
   "metadata": {
    "scrolled": true
   },
   "outputs": [],
   "source": [
    "# plot all temperature curves\n",
    "\n",
    "imax = len(Urf)\n",
    "print('imax',imax)\n",
    "\n",
    "T_max = 50\n",
    "T_thr = 1\n",
    "\n",
    "figure(1); clf();\n",
    "for i in range(0,imax-1):\n",
    "    print(i)\n",
    "    k_max = argmin(abs(Temperature[i] - T_max))\n",
    "    k_thr = argmin(abs(Temperature[i] - T_thr))\n",
    "    k_min = k_thr - (k_max - k_thr)\n",
    "    if k_min < 0:\n",
    "        k_min = 0\n",
    "\n",
    "    i_aux = where(diff(abs(diff(Temperature[i][k_thr:k_max])))>2)\n",
    "    if size(i_aux) != 0 :\n",
    "        if (i_aux[0][0]+k_thr < k_max):\n",
    "            k_max = i_aux[0][0]+k_thr\n",
    "\n",
    "#     subplot(1,9,i+1)\n",
    "    subplot(imax//3,4,i+1)\n",
    "    semilogy(Time[i][k_min:k_max]*1e3,Temperature[i][k_min:k_max],label=' Vrf = '+str(Urf[i]))\n",
    "#     semilogy(time[i][:]*1e3,Temp[i][:],label=' Vrf = '+str(Urf[i]))\n",
    "#         semilogy(time[k_thr],Temp[i,j,k_thr],'o')\n",
    "    grid()\n",
    "    legend(fontsize=12)\n",
    "tight_layout()"
   ]
  },
  {
   "cell_type": "code",
   "execution_count": null,
   "id": "96ec70c4",
   "metadata": {},
   "outputs": [],
   "source": [
    "# Functions for fit\n",
    "\n",
    "def func2(t, t0, A, B,  C, D):\n",
    "    return A*(t-t0) / (C+(t-t0)**2)**D + B\n",
    "\n",
    "def func3(t, t0, A, B,  C, D):\n",
    "    return A*(t-t0) / (C+abs(t-t0))**D + B\n",
    "\n",
    "def dfunc2_dt(t, t0, A, B,  C, D):\n",
    "    return 10**(A*(C + (t - t0)**2)**(-D)*(t - t0) + B)*(-A*D*(C + (t - t0)**2)**(-D)*(t - t0)*(2*t - 2*t0)/(C + (t - t0)**2) + A*(C + (t - t0)**2)**(-D))*log(10)"
   ]
  },
  {
   "cell_type": "code",
   "execution_count": null,
   "id": "2d2a6969",
   "metadata": {
    "scrolled": true,
    "tags": []
   },
   "outputs": [],
   "source": [
    "# Fit all temperature curves with above function\n",
    "# savgol_filter used to filter a little bit\n",
    "# smooth the temperatures that oscillates a bit too much\n",
    "\n",
    "T_max = 85\n",
    "T_thr = 1\n",
    "fit_param = zeros((imax,5))\n",
    "fit_pcov  = zeros((imax,5,5))\n",
    "my_order = []\n",
    "gone_wrong = []\n",
    "\n",
    "figure(1); clf()\n",
    "for i in range(0,imax):\n",
    "    print('<<<',i,'>>>')\n",
    "    k_max = argmin(abs(Temperature[i] - T_max))\n",
    "    k_thr = argmin(abs(Temperature[i] - T_thr))\n",
    "\n",
    "    i_aux = where(diff(abs(diff(Temperature[i][k_thr:k_max])))>2)\n",
    "    if size(i_aux) != 0 :\n",
    "        if (i_aux[0][0]+k_thr < k_max):\n",
    "            k_max = i_aux[0][0]+k_thr\n",
    "\n",
    "    k_min = k_thr - int(2*(k_max - k_thr))\n",
    "    if k_min < 0: k_min = 0\n",
    "#         print(k_min)\n",
    "\n",
    "    x  = Time[i][k_min:k_max]\n",
    "    print(Urf[i])\n",
    "    print(len(Temperature[i]),k_max,k_thr,k_min)\n",
    "    try:\n",
    "        y  = savgol_filter(Temperature[i][k_min:k_max],31,1)\n",
    "    except:\n",
    "        y  = Temperature[i][k_min:k_max]\n",
    "        print('no filter')\n",
    "        \n",
    "    x0 = Time[i][k_thr]\n",
    "\n",
    "    A0  = 1\n",
    "    B0  = log10(Temperature[i][k_thr])\n",
    "    C0  = 1.0e-8\n",
    "    D0  = 0.5\n",
    "    p0  = array([x0, A0, B0,  C0, D0])\n",
    "    \n",
    "    my_order.append(i)\n",
    "\n",
    "    try:\n",
    "        popt, pcov = curve_fit(func2, x, log10(y), p0, maxfev= 500000)\n",
    "        fit_param[i,:] = popt[0], popt[1], popt[2], popt[3], popt[4]\n",
    "        fit_pcov[i,:]  = pcov\n",
    "\n",
    "        y_fit = func2(x,popt[0], popt[1], popt[2], popt[3], popt[4])\n",
    "        y_fit = 10**y_fit\n",
    "\n",
    "        subplot(6,4,i+1)\n",
    "        plot(x*1e3, y    ,label=' Vrf = '+str(Urf[i]))\n",
    "        plot(x*1e3, y_fit,label='Fit',ls='--')\n",
    "        grid()\n",
    "        legend(fontsize=10)\n",
    "        # select cases\n",
    "        # non zero fit value\n",
    "    except TypeError:\n",
    "        print('TypeError for ',Urf[i])\n",
    "        gone_wrong.append(i)\n",
    "tight_layout()"
   ]
  },
  {
   "cell_type": "code",
   "execution_count": null,
   "id": "dea265f6",
   "metadata": {},
   "outputs": [],
   "source": [
    "# select only Urf values\n",
    "# for which non zero fit\n",
    "# and sort ascending Urf\n",
    "Y = Urf\n",
    "X = my_order\n",
    "my_order = [x for _,x in sorted(zip(Y,X))]\n",
    "Urf_order = [x for x,_ in sorted(zip(Y,X))]\n",
    "# delete manually\n",
    "# other innapropriate values\n",
    "my_order.remove(17)\n",
    "Urf_order.remove(75)\n",
    "\n",
    "print(Urf_order)\n",
    "print(my_order)\n",
    "\n",
    "# resort all variables\n",
    "# in order so\n",
    "# Urf ascending\n",
    "imax_order = len(Urf_order)\n",
    "fit_param_order = zeros((imax_order,5))\n",
    "fit_pcov_order  = zeros((imax_order,5,5))\n",
    "Time_order = []\n",
    "Temperature_order = []\n",
    "for i,j in enumerate(my_order):\n",
    "    fit_param_order[i,:] = fit_param[j,:]\n",
    "    fit_pcov_order[i,:]  = fit_pcov[j,:]\n",
    "    Time_order.append(Time[j])\n",
    "    Temperature_order.append(Temperature[j])"
   ]
  },
  {
   "cell_type": "code",
   "execution_count": null,
   "id": "35f2891b",
   "metadata": {},
   "outputs": [],
   "source": [
    "# draw one temp and fit\n",
    "figure(3); clf()\n",
    "cm = pylab.get_cmap('jet')\n",
    "\n",
    "i = 0\n",
    "\n",
    "print(Urf_order[i])\n",
    "# print(fit_pcov_order[i,:])\n",
    "y_fit = func2(Time_order[i],\n",
    "              fit_param_order[i,0],\n",
    "              fit_param_order[i,1],\n",
    "              fit_param_order[i,2],\n",
    "              fit_param_order[i,3],\n",
    "              fit_param_order[i,4])\n",
    "y_fit = 10**y_fit\n",
    "subplot(121)\n",
    "plot((Time_order[i])*1e3,Temperature_order[i],color='r')\n",
    "plot((Time_order[i])*1e3,y_fit,'--',color='k')\n",
    "xlabel('time [ms]')\n",
    "ylabel('T [K]')\n",
    "grid()\n",
    "\n",
    "# xlim(3.6,3.7)\n",
    "# ylim(-1,10)\n",
    "subplot(122)\n",
    "semilogy((Time_order[i])*1e3,savgol_filter(Temperature_order[i],31,1),color='r')\n",
    "semilogy((Time_order[i])*1e3,y_fit,'--',color='k')\n",
    "xlabel('time [ms]')\n",
    "grid()\n",
    "tight_layout()"
   ]
  },
  {
   "cell_type": "code",
   "execution_count": null,
   "id": "40154799",
   "metadata": {},
   "outputs": [],
   "source": [
    "# draw fit parameters\n",
    "# as a function of Urf\n",
    "str_labels = ['t0', 'A', 'B', 'C', 'D']\n",
    "figure('Param'); clf();\n",
    "for i in range(0,5):\n",
    "    subplot(1,5,i+1)\n",
    "    if i == 2:\n",
    "        plot(Urf_order,10**(fit_param_order[:,i]),'o-', label=str_labels[i])\n",
    "    else:\n",
    "        plot(Urf_order,(fit_param_order[:,i]),'o-', label=str_labels[i])\n",
    "    xlabel('Urf')\n",
    "    grid()\n",
    "    legend()"
   ]
  },
  {
   "cell_type": "code",
   "execution_count": null,
   "id": "2c7620b7",
   "metadata": {},
   "outputs": [],
   "source": [
    "# Draw Heating rate H\n",
    "# as a function of temperature T\n",
    "xa = -2\n",
    "xb = 50\n",
    "ya = 6e-6\n",
    "yb = 1e0\n",
    "figure(29,clear='True')\n",
    "ax = subplot(111)\n",
    "for i in [0,1,13,17]: #  range(0,imax_order)\n",
    "    t0, A, B, C, D = fit_param_order[i,:]\n",
    "    y  = func2(Time_order[i],t0, A, B, C, D);\n",
    "    y  = 10**y\n",
    "    dy = dfunc2_dt(Time_order[i], t0, A, B,  C, D)\n",
    "#     ax.semilogy((Time_order[i]-t0)*1e3,dy*1e-6,label=str(Urf[i]),color=cm(i/imax_order))\n",
    "    ax.semilogy(savgol_filter(Temperature_order[i],31,1),dy*1e-6,label=str(Urf_order[i]),color=cm(i/imax_order))\n",
    "#     ax.semilogy(Temperature_order[i][:-1],diff(Temperature_order[i])*1e-6,label=str(Urf_order[i]),color=cm(i/imax_order))\n",
    "    ax.set_xlabel('T [K]')\n",
    "    ax.set_ylabel('Heating rate [K/µs]')\n",
    "#     scatter(t0,4e5,color=cm(i/imax),marker='+')\n",
    "#     semilogy(y,dy*1e-3,label=str(Urf[i]),color=cm(i/imax))\n",
    "ax.set_xlim([xa,xb])\n",
    "ax.set_ylim([ya,yb])\n",
    "        \n",
    "# locmaj = matplotlib.ticker.LogLocator(base=10,numticks=12) \n",
    "# ax.yaxis.set_major_locator(locmaj)\n",
    "# locmin = matplotlib.ticker.LogLocator(base=10.0,subs=(0.2,0.4,0.6,0.8),numticks=12)\n",
    "# ax.yaxis.set_minor_locator(locmin)\n",
    "# ax.yaxis.set_minor_formatter(matplotlib.ticker.NullFormatter())\n",
    "# ax.xaxis.set_major_locator(matplotlib.ticker.MultipleLocator(base=0.1))\n",
    "ax.legend(title=r'$U_{RF}$',ncol=2)\n",
    "ax.grid(b=True, which='major', linestyle='-')\n",
    "ax.grid(b=True, which='minor', linestyle='--')\n",
    "tight_layout()"
   ]
  },
  {
   "cell_type": "code",
   "execution_count": null,
   "id": "fc61e650",
   "metadata": {},
   "outputs": [],
   "source": [
    "# Draw Heating rate H\n",
    "# as a function of temperature T\n",
    "xa = -2\n",
    "xb = 50\n",
    "ya = 6e-6\n",
    "yb = 1e0\n",
    "coucou = []\n",
    "figure(31,clear='True')\n",
    "ax = subplot(111)\n",
    "for i in [0,1,13,17]: #  range(0,imax_order)\n",
    "    t0, A, B, C, D = fit_param_order[i,:]\n",
    "    x  = savgol_filter(Temperature_order[i],31,1)\n",
    "    y  = func2(Time_order[i],t0, A, B, C, D);\n",
    "    y  = 10**y\n",
    "    dy = dfunc2_dt(Time_order[i], t0, A, B,  C, D) /x\n",
    "#     ax.semilogy((Time_order[i]-t0)*1e3,dy*1e-6,label=str(Urf[i]),color=cm(i/imax_order))\n",
    "    ax.semilogy(x,dy*1e-6,label=str(Urf_order[i]),color=cm(i/imax_order),marker='+')\n",
    "#     ax.semilogy(Temperature_order[i][:-1],diff(Temperature_order[i])*1e-6,label=str(Urf_order[i]),color=cm(i/imax_order))\n",
    "    coucou.append( argmin(abs(x-0.5)) )\n",
    "\n",
    "#     ax.vlines(x[coucou],1e-5,0.5e0,color=cm(i/imax_order))\n",
    "    ax.set_xlabel('T [K]')\n",
    "    ax.set_ylabel('Heating rate / T [/µs]')\n",
    "#     scatter(t0,4e5,color=cm(i/imax),marker='+')\n",
    "#     semilogy(y,dy*1e-3,label=str(Urf[i]),color=cm(i/imax))\n",
    "ax.set_xlim([xa,xb])\n",
    "ax.set_ylim([ya,yb])\n",
    "        \n",
    "# locmaj = matplotlib.ticker.LogLocator(base=10,numticks=12) \n",
    "# ax.yaxis.set_major_locator(locmaj)\n",
    "# locmin = matplotlib.ticker.LogLocator(base=10.0,subs=(0.2,0.4,0.6,0.8),numticks=12)\n",
    "# ax.yaxis.set_minor_locator(locmin)\n",
    "# ax.yaxis.set_minor_formatter(matplotlib.ticker.NullFormatter())\n",
    "# ax.xaxis.set_major_locator(matplotlib.ticker.MultipleLocator(base=0.1))\n",
    "ax.legend(title=r'$U_{RF}$',ncol=2)\n",
    "ax.grid(b=True, which='major', linestyle='-')\n",
    "ax.grid(b=True, which='minor', linestyle='--')\n",
    "tight_layout()"
   ]
  },
  {
   "cell_type": "code",
   "execution_count": null,
   "id": "02830393",
   "metadata": {},
   "outputs": [],
   "source": [
    "X = []\n",
    "Y = []\n",
    "for i,j in enumerate([0,1,13,17]):\n",
    "#     x = savgol_filter(Temperature_order[i],31,1)\n",
    "    x  = func2(Time_order[i],t0, A, B, C, D)\n",
    "    X.append(Urf_order[j])\n",
    "    Y.append(x[coucou[i]])\n",
    "print(X,Y)\n",
    "figure('test',clear='True')\n",
    "plot(X,Y)"
   ]
  },
  {
   "cell_type": "code",
   "execution_count": null,
   "id": "83952510",
   "metadata": {},
   "outputs": [],
   "source": [
    "110/3493 * 15, x[15]"
   ]
  },
  {
   "cell_type": "markdown",
   "id": "f62f4cd1",
   "metadata": {},
   "source": [
    "# t0 and T as a function of Urf"
   ]
  },
  {
   "cell_type": "code",
   "execution_count": null,
   "id": "9ff7510f",
   "metadata": {},
   "outputs": [],
   "source": [
    "t0    = zeros(imax_order)\n",
    "y_t0  = zeros(imax_order)\n",
    "dy_t0 = zeros(imax_order)\n",
    "for i in range(0, imax_order):\n",
    "    t0[i], A, B, C, D = fit_param_order[i,:]\n",
    "    y  = func2(t0[i],t0[i], A, B, C, D);\n",
    "    y_t0[i]  = 10**y\n",
    "    dy_t0[i] = dfunc2_dt(t0[i], t0[i], A, B,  C, D)"
   ]
  },
  {
   "cell_type": "code",
   "execution_count": null,
   "id": "3fbc493f",
   "metadata": {},
   "outputs": [],
   "source": [
    "def my_lin(x,a,b):\n",
    "    return a*x+b\n",
    "def my_power_law(x,a,b):\n",
    "    return a*(x**-b)"
   ]
  },
  {
   "cell_type": "code",
   "execution_count": null,
   "id": "a7ac84e0",
   "metadata": {},
   "outputs": [],
   "source": [
    "# log plot\n",
    "figure(321,clear='True')\n",
    "ax = subplot(111)\n",
    "ax.loglog(Urf_order,t0*1e3,ls='-',marker='+',mew=5,ms=10)\n",
    "ax.set_xlabel('$U_{rf}$ [V]')\n",
    "ax.set_ylabel('$t_0$ [ms]') # '$T(t_0) / t_0$ [K/s]'\n",
    "ax.axis([5*10, 72, 1, 200])\n",
    "ax.grid(b=True, which='major', linestyle='-')\n",
    "ax.grid(b=True, which='minor', linestyle='--')\n",
    "\n",
    "tight_layout()"
   ]
  },
  {
   "cell_type": "code",
   "execution_count": null,
   "id": "4c8c26ac",
   "metadata": {},
   "outputs": [],
   "source": [
    "figure(322); clf();\n",
    "ax = subplot(111)\n",
    "ax.plot(Urf_order,y_t0,ls='-',marker='+',mew=5,ms=10)\n",
    "ax.grid()\n",
    "ax.set_xlabel('$U_{rf}$ [V]')\n",
    "ax.set_ylabel('$T(t_0)$ [K]') # '$T(t_0) / t_0$ [K/s]'\n",
    "\n",
    "popt, pcov = curve_fit(my_lin,Urf_order[2:-2],y_t0[2:-2])\n",
    "ax.plot(Urf_order[2:-2],my_lin(array(Urf_order[2:-2]),popt[0],popt[1]),\n",
    "    color='k',ls='--')\n",
    "\n",
    "ax.xaxis.set_major_locator(matplotlib.ticker.MultipleLocator(base=5))\n",
    "ax.yaxis.set_major_locator(matplotlib.ticker.MultipleLocator(base=0.1))\n",
    "\n",
    "ax.text(64,0.815,f'$T(t_0) = {popt[0]:.2e} U_{{rf}} + {popt[1]:.2f}$',\n",
    "            color='xkcd:black',fontsize='20',weight=\"bold\",\n",
    "            ha='left',va='center')\n",
    "\n",
    "tight_layout()\n",
    "\n",
    "# identique à 10**B"
   ]
  },
  {
   "cell_type": "code",
   "execution_count": null,
   "id": "eca6f417",
   "metadata": {},
   "outputs": [],
   "source": [
    "figure(323); clf();\n",
    "subplot(111)\n",
    "plot(Urf_order,y_t0,ls='-',marker='+',mew=5,ms=10)\n",
    "grid()\n",
    "xlabel('$U_{rf}$ [V]')\n",
    "ylabel('$T(t_0)$ [K]') # '$T(t_0) / t_0$ [K/s]'\n",
    "\n",
    "tight_layout()\n",
    "\n",
    "# identique à 10**B"
   ]
  },
  {
   "cell_type": "code",
   "execution_count": null,
   "id": "01bded76",
   "metadata": {},
   "outputs": [],
   "source": [
    "# check for frequencies"
   ]
  }
 ],
 "metadata": {
  "kernelspec": {
   "display_name": "Python 3 (ipykernel)",
   "language": "python",
   "name": "python3"
  },
  "language_info": {
   "codemirror_mode": {
    "name": "ipython",
    "version": 3
   },
   "file_extension": ".py",
   "mimetype": "text/x-python",
   "name": "python",
   "nbconvert_exporter": "python",
   "pygments_lexer": "ipython3",
   "version": "3.10.4"
  }
 },
 "nbformat": 4,
 "nbformat_minor": 5
}
