{
 "cells": [
  {
   "cell_type": "code",
   "execution_count": 1,
   "metadata": {},
   "outputs": [
    {
     "name": "stdout",
     "output_type": "stream",
     "text": [
      "Using matplotlib backend: Qt5Agg\n",
      "Populating the interactive namespace from numpy and matplotlib\n"
     ]
    }
   ],
   "source": [
    "%pylab"
   ]
  },
  {
   "cell_type": "code",
   "execution_count": 2,
   "metadata": {},
   "outputs": [],
   "source": [
    "from scipy.optimize import curve_fit\n",
    "\n",
    "import tkinter as tk\n",
    "from tkinter import filedialog\n",
    "%matplotlib qt"
   ]
  },
  {
   "cell_type": "code",
   "execution_count": 3,
   "metadata": {},
   "outputs": [],
   "source": [
    "def load_file_GUI(dir_string):\n",
    "\n",
    "    root = tk.Tk()\n",
    "    root.withdraw()\n",
    "\n",
    "    file_path = filedialog.askopenfilename(initialdir = dir_string,\n",
    "                                       multiple=True)\n",
    "    return file_path"
   ]
  },
  {
   "cell_type": "code",
   "execution_count": 4,
   "metadata": {},
   "outputs": [],
   "source": [
    "%run ../../GiantMol/Functions/1.2/data_fct_Adrien_point_by_point\n",
    "matplotlib.rcParams.update({'font.size': 25})"
   ]
  },
  {
   "cell_type": "code",
   "execution_count": 5,
   "metadata": {},
   "outputs": [
    {
     "name": "stdout",
     "output_type": "stream",
     "text": [
      "$\\kappa_{simion}$ = 0.270471\n"
     ]
    }
   ],
   "source": [
    "# Constantes de la physique\n",
    "# ABSOLUMENT RECHARGER APRÈS AVOIR EXECUTÉ LES CASES D'IMPORT AU DESSUS\n",
    "\n",
    "C_e = 1.602e-19        # Coulomb\n",
    "kb = 1.38064852*1e-23  # Boltzman\n",
    "m_Ca = 40.078*1.66054e-27 # masse Ca 40.078\n",
    "m_GM = 1e6*1.66054e-27 # la masse de la GMol\n",
    "eps0 = 8.854187*1e-12  # permittivité électrique du vide\n",
    "\n",
    "r0 = 2.5e-3 # 2.5e-3   # rayon piège Ca+\n",
    "d0 = 4e-3/2            # longueur piège Ca+\n",
    "\n",
    "Omega = 2.05e6*2*pi # 2.047e6\n",
    "\n",
    "bk = 4 # nombre de barreaux par groupe (2 -> 4-pole , 4 -> 8-pole ...)\n",
    "\n",
    "mkappa = 0.23          # écrantage piège réel GiantMol\n",
    "\n",
    "wzLC = (2*pi*90806.9982303)**2\n",
    "kappa_simion = m_Ca*d0**2*wzLC/(2*C_e)\n",
    "print('%s = %f' % ('$\\kappa_{simion}$',kappa_simion) )\n",
    "\n",
    "zeta = kappa_simion*r0**2/d0**2"
   ]
  },
  {
   "cell_type": "code",
   "execution_count": 6,
   "metadata": {},
   "outputs": [],
   "source": [
    "def data_retrieve(all_subdir,points_and_coord, condition_parameters, slash_cfg,**kwargs):\n",
    "\n",
    "    myslashpos = slash_cfg[0]\n",
    "    slashcond = slash_cfg[1]\n",
    "\n",
    "    # determining number of elements on each repetition\n",
    "    try:\n",
    "        num_runs = ['Try'+str(kwargs.get('forcenumtry'))]\n",
    "        num_runs_aux = [runs[myslashpos[slashcond+1]+1:] for runs in all_subdir if list(points_and_coord.keys())[0] in runs]\n",
    "        num_runs_aux = list(dict.fromkeys(num_runs_aux))\n",
    "        num_runs_aux = len(num_runs_aux)\n",
    "        all_subdir = [x for w,x in enumerate(all_subdir) if (w-kwargs.get('forcenumtry'))%num_runs_aux==0]\n",
    "    except:\n",
    "        num_runs = [runs[myslashpos[slashcond+1]+1:] for runs in all_subdir if list(points_and_coord.keys())[0] in runs]\n",
    "        num_runs = list(dict.fromkeys(num_runs))\n",
    "\n",
    "    # number of repetitions\n",
    "    print('> Points |',len(points_and_coord))\n",
    "    print('> Simulations pour chaque point |', num_runs)\n",
    "    \n",
    "    data0 = [[] for i in range(len(points_and_coord))] # file path to SimuType4\n",
    "    data_address = [[] for i in range(len(points_and_coord))]\n",
    "\n",
    "    # Variables à deux coordonnées : [point, try]\n",
    "    shapevar = (len(points_and_coord),len(num_runs))\n",
    "    Time        = []\n",
    "    Temperature = []\n",
    "    \n",
    "    t0 = time.clock()\n",
    "    print(\"Hello\")\n",
    "\n",
    "    # write variables\n",
    "    for k, address in enumerate(all_subdir):\n",
    "\n",
    "    # in-loop variables\n",
    "        pnt = k // len(num_runs)  # actual point\n",
    "        rep = k  % len(num_runs)          # actual repetition\n",
    "\n",
    "        # get only .dat files in each simulation directory\n",
    "        onlyfiles = [f for f in listdir(address) if isfile(join(address, f)) and not \"xva\" in f and \".dat\" in f]\n",
    "        # build path file\n",
    "        data0[pnt].append('{}/{}'.format(address,sort(onlyfiles)[0].strip('.dat')))\n",
    "        data_address[pnt].append(address)\n",
    "\n",
    "        # load fluorescence and T\n",
    "        Time.append( loadtxt(str(data0[pnt][0])+'.dat',unpack=True)[0] )\n",
    "        Temperature.append( loadtxt(str(data0[pnt][0])+'.dat',unpack=True)[4:7] )\n",
    "        \n",
    "        # load cloud size before injection\n",
    "        if not(rep % len(num_runs)):\n",
    "            print( \"Point n°\", pnt )\n",
    "        \n",
    "        print(f'{pnt:02}','-',f'{rep:02}',' > ',data0[pnt][rep])\n",
    "        \n",
    "        if k == len(points_and_coord)*len(num_runs) - 1:\n",
    "            break\n",
    "\n",
    "    t1 = time.clock() - t0\n",
    "    print(\"Time elapsed: \", t1, 's') # CPU seconds elapsed (floating point)\n",
    "    print(\"Time elapsed: \", t1/60, 'm') # CPU seconds elapsed (floating point)\n",
    "    \n",
    "    data_name = [data_address, data0]\n",
    "    \n",
    "    return data_name, num_runs, Time, Temperature "
   ]
  },
  {
   "cell_type": "markdown",
   "metadata": {},
   "source": [
    "# Extract data as npz"
   ]
  },
  {
   "cell_type": "code",
   "execution_count": 12,
   "metadata": {},
   "outputs": [
    {
     "name": "stdout",
     "output_type": "stream",
     "text": [
      "('/home/adrian/RemoteFS/Rivendel/Simulations/20211201/DC11_RF00/Try00/Temp_SimuType0_N01024_Vrf0060_Udc0.7000D+01V_nt1000.dat',)\n"
     ]
    }
   ],
   "source": [
    "file_path = load_file_GUI('/home/adrian/Documents/Programmes/Python/GiantMol/SimAnalysisPointbyPoint')\n",
    "print(file_path)"
   ]
  },
  {
   "cell_type": "code",
   "execution_count": 18,
   "metadata": {},
   "outputs": [
    {
     "name": "stdout",
     "output_type": "stream",
     "text": [
      "> Répertoire : /home/adrian/RemoteFS/Rivendel/Simulations/20211201/DC11_RF00/Try00\n",
      "> Filename : Temp_SimuType0_N01024_Vrf0060_Udc0.7000D+01V_nt1000.dat\n",
      "> myslashpos | [0, 5, 12, 21, 30, 42, 51, 61]\n",
      "> slashcond | 6\n",
      "Points deleted because they were not complete []   0 pt(s)\n",
      "Total number of data directories 17\n"
     ]
    }
   ],
   "source": [
    "## GUI for data loading\n",
    "# Select one data file all the way down to the directories\n",
    "# SELECT Temp_SimuTypeQ_N ... .dat\n",
    "\n",
    "file_cfg, slash_cfg, all_subdir = load_gui(filter_nocomplete=1)\n",
    "\n",
    "file_path = file_cfg[0]\n",
    "dir_path = file_cfg[1]\n",
    "work_rep = file_cfg[2]\n",
    "filename = file_cfg[3]\n",
    "\n",
    "myslashpos = slash_cfg[0]\n",
    "slashcond = slash_cfg[1]"
   ]
  },
  {
   "cell_type": "code",
   "execution_count": 19,
   "metadata": {},
   "outputs": [
    {
     "name": "stdout",
     "output_type": "stream",
     "text": [
      "['DC11_RF00', 'DC11_RF01', 'DC11_RF02', 'DC11_RF03', 'DC11_RF04', 'DC11_RF05', 'DC11_RF06', 'DC11_RF07', 'DC11_RF08', 'DC11_RF11', 'DC11_RF12', 'DC11_RF13', 'DC11_RF14', 'DC11_RF15', 'DC11_RF16', 'DC11_RF17', 'DC11_RF18']\n",
      "000 > DC11_RF00\n",
      "001 > DC11_RF01\n",
      "002 > DC11_RF02\n",
      "003 > DC11_RF03\n",
      "004 > DC11_RF04\n",
      "005 > DC11_RF05\n",
      "006 > DC11_RF06\n",
      "007 > DC11_RF07\n",
      "008 > DC11_RF08\n",
      "009 > DC11_RF11\n",
      "010 > DC11_RF12\n",
      "011 > DC11_RF13\n",
      "012 > DC11_RF14\n",
      "013 > DC11_RF15\n",
      "014 > DC11_RF16\n",
      "015 > DC11_RF17\n",
      "016 > DC11_RF18\n",
      "> condition names ['DC', 'RF']\n",
      "> number of points 17\n",
      "> N_ions = 1024\n",
      "> e_GMol = 50\n"
     ]
    }
   ],
   "source": [
    "## Condition for data\n",
    "points_and_coord, condition_parameters = simu_conditions(all_subdir, myslashpos, slashcond, filename)"
   ]
  },
  {
   "cell_type": "code",
   "execution_count": 259,
   "metadata": {
    "scrolled": true
   },
   "outputs": [
    {
     "name": "stdout",
     "output_type": "stream",
     "text": [
      "> Points | 17\n",
      "> Simulations pour chaque point | ['Try00']\n",
      "Hello\n",
      "Point n° 0\n",
      "00 - 00  >  /home/adrian/RemoteFS/Rivendel/Simulations/20211201/DC11_RF00/Try00/Temp_SimuType0_N01024_Vrf0060_Udc0.7000D+01V_nt1000\n",
      "Point n° 1\n",
      "01 - 00  >  /home/adrian/RemoteFS/Rivendel/Simulations/20211201/DC11_RF01/Try00/Temp_SimuType0_N01024_Vrf0061_Udc0.7000D+01V_nt1000\n",
      "Point n° 2\n",
      "02 - 00  >  /home/adrian/RemoteFS/Rivendel/Simulations/20211201/DC11_RF02/Try00/Temp_SimuType0_N01024_Vrf0062_Udc0.7000D+01V_nt1000\n",
      "Point n° 3\n",
      "03 - 00  >  /home/adrian/RemoteFS/Rivendel/Simulations/20211201/DC11_RF03/Try00/Temp_SimuType0_N01024_Vrf0063_Udc0.7000D+01V_nt1000\n",
      "Point n° 4\n",
      "04 - 00  >  /home/adrian/RemoteFS/Rivendel/Simulations/20211201/DC11_RF04/Try00/Temp_SimuType0_N01024_Vrf0064_Udc0.7000D+01V_nt1000\n",
      "Point n° 5\n",
      "05 - 00  >  /home/adrian/RemoteFS/Rivendel/Simulations/20211201/DC11_RF05/Try00/Temp_SimuType0_N01024_Vrf0065_Udc0.7000D+01V_nt1000\n",
      "Point n° 6\n",
      "06 - 00  >  /home/adrian/RemoteFS/Rivendel/Simulations/20211201/DC11_RF06/Try00/Temp_SimuType0_N01024_Vrf0066_Udc0.7000D+01V_nt1000\n",
      "Point n° 7\n",
      "07 - 00  >  /home/adrian/RemoteFS/Rivendel/Simulations/20211201/DC11_RF07/Try00/Temp_SimuType0_N01024_Vrf0067_Udc0.7000D+01V_nt1000\n",
      "Point n° 8\n",
      "08 - 00  >  /home/adrian/RemoteFS/Rivendel/Simulations/20211201/DC11_RF08/Try00/Temp_SimuType0_N01024_Vrf0068_Udc0.7000D+01V_nt1000\n",
      "Point n° 9\n",
      "09 - 00  >  /home/adrian/RemoteFS/Rivendel/Simulations/20211201/DC11_RF11/Try00/Temp_SimuType0_N01024_Vrf0062_Udc0.7000D+01V_nt1000\n",
      "Point n° 10\n",
      "10 - 00  >  /home/adrian/RemoteFS/Rivendel/Simulations/20211201/DC11_RF12/Try00/Temp_SimuType0_N01024_Vrf0062_Udc0.7000D+01V_nt1000\n",
      "Point n° 11\n",
      "11 - 00  >  /home/adrian/RemoteFS/Rivendel/Simulations/20211201/DC11_RF13/Try00/Temp_SimuType0_N01024_Vrf0062_Udc0.7000D+01V_nt1000\n",
      "Point n° 12\n",
      "12 - 00  >  /home/adrian/RemoteFS/Rivendel/Simulations/20211201/DC11_RF14/Try00/Temp_SimuType0_N01024_Vrf0062_Udc0.7000D+01V_nt1000\n",
      "Point n° 13\n",
      "13 - 00  >  /home/adrian/RemoteFS/Rivendel/Simulations/20211201/DC11_RF15/Try00/Temp_SimuType0_N01024_Vrf0063_Udc0.7000D+01V_nt1000\n",
      "Point n° 14\n",
      "14 - 00  >  /home/adrian/RemoteFS/Rivendel/Simulations/20211201/DC11_RF16/Try00/Temp_SimuType0_N01024_Vrf0063_Udc0.7000D+01V_nt1000\n",
      "Point n° 15\n",
      "15 - 00  >  /home/adrian/RemoteFS/Rivendel/Simulations/20211201/DC11_RF17/Try00/Temp_SimuType0_N01024_Vrf0063_Udc0.7000D+01V_nt1000\n",
      "Point n° 16\n",
      "16 - 00  >  /home/adrian/RemoteFS/Rivendel/Simulations/20211201/DC11_RF18/Try00/Temp_SimuType0_N01024_Vrf0063_Udc0.7000D+01V_nt1000\n",
      "Time elapsed:  7.512613999999985 s\n",
      "Time elapsed:  0.1252102333333331 m\n"
     ]
    }
   ],
   "source": [
    "## Data loading (1D arrays)\n",
    "data_name, num_runs, Time, Temperature \\\n",
    "= data_retrieve(all_subdir,points_and_coord,condition_parameters,slash_cfg) # stopping_power  ,forcenumtry=28"
   ]
  },
  {
   "cell_type": "code",
   "execution_count": 261,
   "metadata": {
    "scrolled": true
   },
   "outputs": [
    {
     "name": "stdout",
     "output_type": "stream",
     "text": [
      "DC11_RF00\n",
      "DC11_RF01\n",
      "DC11_RF02\n",
      "DC11_RF03\n",
      "DC11_RF04\n",
      "DC11_RF05\n",
      "DC11_RF06\n",
      "DC11_RF07\n",
      "DC11_RF08\n",
      "DC11_RF11\n",
      "DC11_RF12\n",
      "DC11_RF13\n",
      "DC11_RF14\n",
      "DC11_RF15\n",
      "DC11_RF16\n",
      "DC11_RF17\n",
      "DC11_RF18\n"
     ]
    }
   ],
   "source": [
    "for j,k in enumerate(data_name[0]):\n",
    "    cond = k[0][52:61]\n",
    "    print(cond)\n",
    "    outfile = 'Time_and_temp_RFHEAT_'+str(cond)\n",
    "    np.savez( outfile, time=Time[j], temp = mean(Temperature[j],axis=0)) # dirname_hc=re.sub(r'\\\\',r'/',dirname_hc)"
   ]
  },
  {
   "cell_type": "code",
   "execution_count": 89,
   "metadata": {},
   "outputs": [
    {
     "name": "stdout",
     "output_type": "stream",
     "text": [
      "[0.00100062 0.00100112 0.00100162 ... 0.01694512 0.01694562 0.01694612]\n",
      "[2.90497012e-03 3.30303028e-03 4.88729568e-03 ... 7.62134871e+01\n",
      " 5.83773394e+01 1.01402013e+02]\n",
      "(31892,)\n",
      "(31892,)\n"
     ]
    }
   ],
   "source": [
    "# load check\n",
    "cond = 'DC11_RF00'\n",
    "outfile = 'Time_and_temp_RFHEAT_'+str(cond)\n",
    "with load(outfile+'.npz') as data:\n",
    "    a = data['time']\n",
    "    b = data['temp']\n",
    "print(a)\n",
    "print(b)\n",
    "print(shape(a))\n",
    "print(shape(b))"
   ]
  },
  {
   "cell_type": "code",
   "execution_count": 90,
   "metadata": {
    "collapsed": true
   },
   "outputs": [
    {
     "name": "stdout",
     "output_type": "stream",
     "text": [
      "Variable                                       Type                          Data/Info\n",
      "--------------------------------------------------------------------------------------\n",
      "C_e                                            float                         1.602e-19\n",
      "Omega                                          float                         12880529.879718151\n",
      "Path                                           type                          <class 'pathlib.Path'>\n",
      "Temperature                                    list                          n=17\n",
      "Time                                           list                          n=17\n",
      "a                                              ndarray                       31892: 31892 elems, type `float64`, 255136 bytes (249.15625 kb)\n",
      "all_subdir                                     list                          n=17\n",
      "b                                              ndarray                       31892: 31892 elems, type `float64`, 255136 bytes (249.15625 kb)\n",
      "bk                                             int                           4\n",
      "cc                                             function                      <function cc at 0x7f94afc15e18>\n",
      "cloud_size                                     function                      <function cloud_size at 0x7f94afc15c80>\n",
      "cond                                           str                           DC11_RF00\n",
      "condition_parameters                           list                          n=3\n",
      "convert_dico_to_var                            function                      <function convert_dico_to_var at 0x7f94afc0ad08>\n",
      "curve_fit                                      function                      <function curve_fit at 0x7f94b1573488>\n",
      "d0                                             float                         0.002\n",
      "data                                           NpzFile                       <numpy.lib.npyio.NpzFile <...>object at 0x7f94aff43048>\n",
      "data_check                                     function                      <function data_check at 0x7f94afc15b70>\n",
      "data_name                                      list                          n=2\n",
      "data_retrieve                                  function                      <function data_retrieve at 0x7f94aff27b70>\n",
      "data_retrieve_RFRelax                          function                      <function data_retrieve_R<...>FRelax at 0x7f94afc159d8>\n",
      "data_retrieve_onefile                          function                      <function data_retrieve_o<...>nefile at 0x7f94afc15950>\n",
      "dir_path                                       PosixPath                     /home/adrian/RemoteFS/Riv<...>/20211201/DC11_RF00/Try00\n",
      "energy_lost                                    function                      <function energy_lost at 0x7f94afc15620>\n",
      "eps0                                           float                         8.854186999999999e-12\n",
      "fft                                            function                      <function fft at 0x7f94d812df28>\n",
      "file_cfg                                       list                          n=4\n",
      "file_name_retrieve                             function                      <function file_name_retrieve at 0x7f94afc15bf8>\n",
      "file_path                                      str                           /home/adrian/RemoteFS/Riv<...>Udc0.7000D+01V_nt1000.dat\n",
      "filedialog                                     module                        <module 'tkinter.filedial<...>6/tkinter/filedialog.py'>\n",
      "filename                                       str                           Temp_SimuType0_N01024_Vrf<...>Udc0.7000D+01V_nt1000.dat\n",
      "find_PM_variation_FinalT                       function                      <function find_PM_variati<...>FinalT at 0x7f94afc15598>\n",
      "get_sec                                        function                      <function get_sec at 0x7f94afc15ea0>\n",
      "import_data                                    function                      <function import_data at 0x7f94afc0ac80>\n",
      "info                                           module                        <module 'numpy.linalg.inf<...>es/numpy/linalg/info.py'>\n",
      "isfile                                         function                      <function isfile at 0x7f94efa74a60>\n",
      "j                                              int                           16\n",
      "join                                           function                      <function join at 0x7f94efa1e620>\n",
      "k                                              list                          n=1\n",
      "kappa_simion                                   float                         0.27047133360403336\n",
      "kb                                             float                         1.38064852e-23\n",
      "linalg                                         module                        <module 'numpy.linalg.lin<...>/numpy/linalg/linalg.py'>\n",
      "listdir                                        builtin_function_or_method    <built-in function listdir>\n",
      "load_RF_relax                                  function                      <function load_RF_relax at 0x7f94afc15d90>\n",
      "load_T_PM_cloud_GMol                           function                      <function load_T_PM_cloud_GMol at 0x7f94afc15d08>\n",
      "load_T_and_PM_simu                             function                      <function load_T_and_PM_simu at 0x7f94afc0ad90>\n",
      "load_T_and_PM_simu_noGMOL                      function                      <function load_T_and_PM_s<...>noGMOL at 0x7f94afc0ae18>\n",
      "load_Temp_init_bin_Lan                         function                      <function load_Temp_init_<...>in_Lan at 0x7f94afc15a60>\n",
      "load_cloud_trj                                 function                      <function load_cloud_trj at 0x7f94afc15730>\n",
      "load_file_GUI                                  function                      <function load_file_GUI at 0x7f94afc0ab70>\n",
      "load_gui                                       function                      <function load_gui at 0x7f94afc157b8>\n",
      "load_trj                                       function                      <function load_trj at 0x7f94afc156a8>\n",
      "load_xva_init_bin_Lan                          function                      <function load_xva_init_b<...>in_Lan at 0x7f94afc15ae8>\n",
      "load_xyz_init_bin_DP                           function                      <function load_xyz_init_bin_DP at 0x7f94afc0aea0>\n",
      "m_Ca                                           float                         6.655112212e-26\n",
      "m_GM                                           float                         1.66054e-21\n",
      "mcolors                                        module                        <module 'matplotlib.color<...>es/matplotlib/colors.py'>\n",
      "mkappa                                         float                         0.23\n",
      "myslashpos                                     list                          n=8\n",
      "natsorted                                      function                      <function natsorted at 0x7f94afbff158>\n",
      "num_runs                                       list                          n=1\n",
      "os                                             module                        <module 'os' from '/home/<...>307/lib/python3.6/os.py'>\n",
      "outfile                                        str                           Time_and_temp_RFHEAT_DC11_RF00\n",
      "plot_T_and_PM_Evol                             function                      <function plot_T_and_PM_Evol at 0x7f94afc15378>\n",
      "plot_T_and_PM_Init                             function                      <function plot_T_and_PM_Init at 0x7f94afc151e0>\n",
      "plot_T_and_PM_InitQ_Evol_AfterCool             function                      <function plot_T_and_PM_I<...>erCool at 0x7f94afc15510>\n",
      "plot_T_and_PM_InitQ_Inje                       function                      <function plot_T_and_PM_I<...>Q_Inje at 0x7f94afc15158>\n",
      "plot_T_and_PM_InitQ_Inje_Evol                  function                      <function plot_T_and_PM_I<...>e_Evol at 0x7f94afc150d0>\n",
      "plot_T_and_PM_Init_Inje_Evol                   function                      <function plot_T_and_PM_I<...>e_Evol at 0x7f94afc15048>\n",
      "plot_T_and_PM_Init_RFrelax_AfterCooling_Evol   function                      <function plot_T_and_PM_I<...>g_Evol at 0x7f94afc15400>\n",
      "plot_T_and_PM_Init_RFrelax_AfterInj_Evol       function                      <function plot_T_and_PM_I<...>j_Evol at 0x7f94afc15488>\n",
      "plot_T_and_PM_Inje                             function                      <function plot_T_and_PM_Inje at 0x7f94afc152f0>\n",
      "plot_T_and_PM_Quen                             function                      <function plot_T_and_PM_Quen at 0x7f94afc15268>\n",
      "plot_XYZ                                       function                      <function plot_XYZ at 0x7f94afc0af28>\n",
      "points_and_coord                               dict                          n=17\n",
      "power                                          builtin_function_or_method    <built-in method power of<...>object at 0x7f94d809bfc0>\n",
      "r0                                             float                         0.0025\n",
      "random                                         builtin_function_or_method    <built-in method random_s<...>object at 0x7f94d809bfc0>\n",
      "re                                             module                        <module 're' from '/home/<...>307/lib/python3.6/re.py'>\n",
      "simu_conditions                                function                      <function simu_conditions at 0x7f94afc15840>\n",
      "size_data                                      function                      <function size_data at 0x7f94afc0abf8>\n",
      "slash_cfg                                      list                          n=2\n",
      "slashcond                                      int                           6\n",
      "timeit                                         module                        <module 'timeit' from '/h<...>lib/python3.6/timeit.py'>\n",
      "tk                                             module                        <module 'tkinter' from '/<...>3.6/tkinter/__init__.py'>\n",
      "work_rep                                       str                           /home/adrian/RemoteFS/Riv<...>/20211201/DC11_RF00/Try00\n",
      "wzLC                                           float                         325535515128.0366\n",
      "zeta                                           float                         0.4226114587563022\n"
     ]
    }
   ],
   "source": [
    "whos"
   ]
  },
  {
   "cell_type": "markdown",
   "metadata": {},
   "source": [
    "# Work with data"
   ]
  },
  {
   "cell_type": "code",
   "execution_count": 7,
   "metadata": {},
   "outputs": [
    {
     "name": "stdout",
     "output_type": "stream",
     "text": [
      "('C:/Users/adr1e/Documents/GitHub/THESE/RF_Temp_Fit/Time_and_temp_RFHEAT_DC11_RF00.npz', 'C:/Users/adr1e/Documents/GitHub/THESE/RF_Temp_Fit/Time_and_temp_RFHEAT_DC11_RF01.npz', 'C:/Users/adr1e/Documents/GitHub/THESE/RF_Temp_Fit/Time_and_temp_RFHEAT_DC11_RF02.npz', 'C:/Users/adr1e/Documents/GitHub/THESE/RF_Temp_Fit/Time_and_temp_RFHEAT_DC11_RF03.npz', 'C:/Users/adr1e/Documents/GitHub/THESE/RF_Temp_Fit/Time_and_temp_RFHEAT_DC11_RF04.npz', 'C:/Users/adr1e/Documents/GitHub/THESE/RF_Temp_Fit/Time_and_temp_RFHEAT_DC11_RF05.npz', 'C:/Users/adr1e/Documents/GitHub/THESE/RF_Temp_Fit/Time_and_temp_RFHEAT_DC11_RF06.npz', 'C:/Users/adr1e/Documents/GitHub/THESE/RF_Temp_Fit/Time_and_temp_RFHEAT_DC11_RF07.npz', 'C:/Users/adr1e/Documents/GitHub/THESE/RF_Temp_Fit/Time_and_temp_RFHEAT_DC11_RF08.npz', 'C:/Users/adr1e/Documents/GitHub/THESE/RF_Temp_Fit/Time_and_temp_RFHEAT_DC11_RF11.npz', 'C:/Users/adr1e/Documents/GitHub/THESE/RF_Temp_Fit/Time_and_temp_RFHEAT_DC11_RF12.npz', 'C:/Users/adr1e/Documents/GitHub/THESE/RF_Temp_Fit/Time_and_temp_RFHEAT_DC11_RF13.npz', 'C:/Users/adr1e/Documents/GitHub/THESE/RF_Temp_Fit/Time_and_temp_RFHEAT_DC11_RF14.npz', 'C:/Users/adr1e/Documents/GitHub/THESE/RF_Temp_Fit/Time_and_temp_RFHEAT_DC11_RF15.npz', 'C:/Users/adr1e/Documents/GitHub/THESE/RF_Temp_Fit/Time_and_temp_RFHEAT_DC11_RF16.npz', 'C:/Users/adr1e/Documents/GitHub/THESE/RF_Temp_Fit/Time_and_temp_RFHEAT_DC11_RF17.npz', 'C:/Users/adr1e/Documents/GitHub/THESE/RF_Temp_Fit/Time_and_temp_RFHEAT_DC11_RF18.npz')\n"
     ]
    }
   ],
   "source": [
    "file_path = load_file_GUI('/home/adrian/Documents/Programmes/Python')\n",
    "print(file_path)"
   ]
  },
  {
   "cell_type": "code",
   "execution_count": 8,
   "metadata": {},
   "outputs": [
    {
     "name": "stdout",
     "output_type": "stream",
     "text": [
      "(17,)\n",
      "(17,)\n"
     ]
    }
   ],
   "source": [
    "# load check\n",
    "# cond = 'DC11_RF00'\n",
    "# outfile = 'Time_and_temp_RFHEAT_'+str(cond)\n",
    "Time = []\n",
    "Temperature = []\n",
    "for j,k in enumerate(file_path):\n",
    "    with load(k) as data:\n",
    "        Time.append( data['time'] )\n",
    "        Temperature.append( data['temp'] )\n",
    "print(shape(Time))\n",
    "print(shape(Temperature))"
   ]
  },
  {
   "cell_type": "code",
   "execution_count": 9,
   "metadata": {},
   "outputs": [
    {
     "name": "stdout",
     "output_type": "stream",
     "text": [
      "[60.0, 61.0, 62.0, 63.0, 64.0, 65.0, 66.0, 67.0, 68.0, 62.2, 62.4, 62.6, 62.8, 63.2, 63.4, 63.6, 63.8]\n"
     ]
    }
   ],
   "source": [
    "Urf = list(linspace(60,68,9)) + [62.2, 62.4, 62.6, 62.8, 63.2, 63.4, 63.6, 63.8]\n",
    "print(Urf)"
   ]
  },
  {
   "cell_type": "code",
   "execution_count": 10,
   "metadata": {},
   "outputs": [
    {
     "name": "stdout",
     "output_type": "stream",
     "text": [
      "imax 17\n",
      "0\n",
      "1\n",
      "2\n",
      "3\n",
      "4\n",
      "5\n",
      "6\n",
      "7\n",
      "8\n",
      "9\n",
      "10\n",
      "11\n",
      "12\n",
      "13\n",
      "14\n",
      "15\n"
     ]
    }
   ],
   "source": [
    "imax = len(Urf)\n",
    "print('imax',imax)\n",
    "\n",
    "T_max = 50\n",
    "T_thr = 1\n",
    "\n",
    "figure(1); clf();\n",
    "for i in range(0,imax-1):\n",
    "    print(i)\n",
    "    k_max = argmin(abs(Temperature[i] - T_max))\n",
    "    k_thr = argmin(abs(Temperature[i] - T_thr))\n",
    "    k_min = k_thr - (k_max - k_thr)\n",
    "    if k_min < 0:\n",
    "        k_min = 0\n",
    "\n",
    "    i_aux = where(diff(abs(diff(Temperature[i][k_thr:k_max])))>2)\n",
    "    if size(i_aux) != 0 :\n",
    "        if (i_aux[0][0]+k_thr < k_max):\n",
    "            k_max = i_aux[0][0]+k_thr\n",
    "\n",
    "#     subplot(1,9,i+1)\n",
    "    subplot(imax//3,4,i+1)\n",
    "    semilogy(Time[i][k_min:k_max]*1e3,Temperature[i][k_min:k_max],label=' Vrf = '+str(Urf[i]))\n",
    "#     semilogy(time[i][:]*1e3,Temp[i][:],label=' Vrf = '+str(Urf[i]))\n",
    "#         semilogy(time[k_thr],Temp[i,j,k_thr],'o')\n",
    "    grid()\n",
    "    legend(fontsize=12)"
   ]
  },
  {
   "cell_type": "code",
   "execution_count": 12,
   "metadata": {},
   "outputs": [],
   "source": [
    "def func2(t, t0, A, B,  C, D):\n",
    "    return A*(t-t0) / (C+(t-t0)**2)**D + B\n",
    "\n",
    "def dfunc2_dt(t, t0, A, B,  C, D):\n",
    "    return 10**(A*(C + (t - t0)**2)**(-D)*(t - t0) + B)*(-A*D*(C + (t - t0)**2)**(-D)*(t - t0)*(2*t - 2*t0)/(C + (t - t0)**2) + A*(C + (t - t0)**2)**(-D))*log(10)"
   ]
  },
  {
   "cell_type": "code",
   "execution_count": 13,
   "metadata": {
    "scrolled": true,
    "tags": []
   },
   "outputs": [
    {
     "name": "stderr",
     "output_type": "stream",
     "text": [
      "H:\\Programmes\\Anaconda3\\envs\\py307\\lib\\site-packages\\ipykernel_launcher.py:2: RuntimeWarning: invalid value encountered in power\n",
      "  \n",
      "H:\\Programmes\\Anaconda3\\envs\\py307\\lib\\site-packages\\ipykernel_launcher.py:2: RuntimeWarning: invalid value encountered in power\n",
      "  \n",
      "H:\\Programmes\\Anaconda3\\envs\\py307\\lib\\site-packages\\ipykernel_launcher.py:2: RuntimeWarning: invalid value encountered in power\n",
      "  \n",
      "H:\\Programmes\\Anaconda3\\envs\\py307\\lib\\site-packages\\ipykernel_launcher.py:2: RuntimeWarning: invalid value encountered in power\n",
      "  \n",
      "H:\\Programmes\\Anaconda3\\envs\\py307\\lib\\site-packages\\ipykernel_launcher.py:2: RuntimeWarning: invalid value encountered in power\n",
      "  \n",
      "H:\\Programmes\\Anaconda3\\envs\\py307\\lib\\site-packages\\ipykernel_launcher.py:2: RuntimeWarning: invalid value encountered in power\n",
      "  \n",
      "H:\\Programmes\\Anaconda3\\envs\\py307\\lib\\site-packages\\ipykernel_launcher.py:2: RuntimeWarning: invalid value encountered in power\n",
      "  \n",
      "H:\\Programmes\\Anaconda3\\envs\\py307\\lib\\site-packages\\ipykernel_launcher.py:2: RuntimeWarning: invalid value encountered in power\n",
      "  \n",
      "H:\\Programmes\\Anaconda3\\envs\\py307\\lib\\site-packages\\ipykernel_launcher.py:2: RuntimeWarning: invalid value encountered in power\n",
      "  \n",
      "H:\\Programmes\\Anaconda3\\envs\\py307\\lib\\site-packages\\ipykernel_launcher.py:2: RuntimeWarning: invalid value encountered in power\n",
      "  \n",
      "H:\\Programmes\\Anaconda3\\envs\\py307\\lib\\site-packages\\ipykernel_launcher.py:2: RuntimeWarning: invalid value encountered in power\n",
      "  \n",
      "H:\\Programmes\\Anaconda3\\envs\\py307\\lib\\site-packages\\ipykernel_launcher.py:2: RuntimeWarning: invalid value encountered in power\n",
      "  \n",
      "H:\\Programmes\\Anaconda3\\envs\\py307\\lib\\site-packages\\ipykernel_launcher.py:2: RuntimeWarning: invalid value encountered in power\n",
      "  \n",
      "H:\\Programmes\\Anaconda3\\envs\\py307\\lib\\site-packages\\ipykernel_launcher.py:2: RuntimeWarning: invalid value encountered in power\n",
      "  \n",
      "H:\\Programmes\\Anaconda3\\envs\\py307\\lib\\site-packages\\ipykernel_launcher.py:2: RuntimeWarning: invalid value encountered in power\n",
      "  \n",
      "H:\\Programmes\\Anaconda3\\envs\\py307\\lib\\site-packages\\ipykernel_launcher.py:2: RuntimeWarning: invalid value encountered in power\n",
      "  \n",
      "H:\\Programmes\\Anaconda3\\envs\\py307\\lib\\site-packages\\ipykernel_launcher.py:2: RuntimeWarning: invalid value encountered in power\n",
      "  \n"
     ]
    }
   ],
   "source": [
    "T_max = 200\n",
    "T_thr = 1\n",
    "fit_param = zeros((imax,5))\n",
    "\n",
    "figure(1); clf()\n",
    "for i in range(0,imax):\n",
    "    k_max = argmin(abs(Temperature[i] - T_max))\n",
    "    k_thr = argmin(abs(Temperature[i] - T_thr))\n",
    "\n",
    "    i_aux = where(diff(abs(diff(Temperature[i][k_thr:k_max])))>2)\n",
    "    if size(i_aux) != 0 :\n",
    "        if (i_aux[0][0]+k_thr < k_max):\n",
    "            k_max = i_aux[0][0]+k_thr\n",
    "\n",
    "    k_min = k_thr - int(2*(k_max - k_thr))\n",
    "    if k_min < 0: k_min = 0\n",
    "#         print(k_min)\n",
    "\n",
    "    x  = Time[i][k_min:k_max]\n",
    "    y  = Temperature[i][k_min:k_max]\n",
    "    x0 = Time[i][k_thr]\n",
    "\n",
    "    A0  = 1\n",
    "    B0  = log10(Temperature[i][k_thr])\n",
    "    C0  = 1.0e-8\n",
    "    D0  = 0.5\n",
    "    p0 = array([x0, A0, B0,  C0, D0])\n",
    "\n",
    "    popt, pcov = curve_fit(func2, x, log10(y), p0, maxfev= 500000)\n",
    "    fit_param[i,:] = popt[0], popt[1], popt[2], popt[3], popt[4]\n",
    "\n",
    "    y_fit = func2(x,popt[0], popt[1], popt[2], popt[3], popt[4])\n",
    "    y_fit = 10**y_fit\n",
    "\n",
    "#     print(popt[3])\n",
    "\n",
    "    subplot(imax//3,4,i+1)\n",
    "    semilogy(x*1e3, y    ,label=' Vrf = '+str(Urf[i]))\n",
    "    semilogy(x*1e3, y_fit,label='Fit')\n",
    "    grid()\n",
    "    legend(fontsize=10)\n"
   ]
  },
  {
   "cell_type": "code",
   "execution_count": 14,
   "metadata": {},
   "outputs": [
    {
     "data": {
      "text/plain": [
       "array([[ 1.63783806e-02,  3.99717677e+00, -4.09760773e-02,\n",
       "         3.78289626e-10,  4.40638163e-01],\n",
       "       [ 1.13164484e-02,  4.07750539e+00, -5.74850023e-02,\n",
       "         3.30606229e-10,  4.40435119e-01],\n",
       "       [ 7.08657476e-03,  4.44909236e+00, -8.17694960e-02,\n",
       "         2.31487767e-10,  4.36208576e-01],\n",
       "       [ 3.81543703e-03,  4.94892988e+00, -1.06373101e-01,\n",
       "         1.68249273e-10,  4.30951449e-01],\n",
       "       [ 3.65022138e-03,  4.39005760e+00, -1.21406572e-01,\n",
       "         1.87287094e-10,  4.39117492e-01],\n",
       "       [ 2.93072389e-03,  4.63842088e+00, -1.34082358e-01,\n",
       "         1.48359146e-10,  4.37334742e-01],\n",
       "       [ 2.47416630e-03,  4.85319961e+00, -1.55439893e-01,\n",
       "         1.20831039e-10,  4.35886100e-01],\n",
       "       [ 2.06501723e-03,  5.33590492e+00, -1.71489967e-01,\n",
       "         7.56743780e-11,  4.32014450e-01],\n",
       "       [ 1.48734643e-03,  4.24141635e+00, -1.79510582e-01,\n",
       "         8.61791830e-11,  4.45039156e-01],\n",
       "       [ 6.25930801e-03,  4.05140926e+00, -7.11423646e-02,\n",
       "         2.94456075e-10,  4.42232202e-01],\n",
       "       [ 4.08944634e-03,  4.14066212e+00, -7.91989813e-02,\n",
       "         2.80039420e-10,  4.41160281e-01],\n",
       "       [ 5.66779643e-03,  4.00767884e+00, -8.43704473e-02,\n",
       "         2.85465572e-10,  4.43355943e-01],\n",
       "       [ 4.92214522e-03,  4.39173117e+00, -9.45113585e-02,\n",
       "         1.91537444e-10,  4.38147727e-01],\n",
       "       [ 4.89478096e-03,  4.12770002e+00, -8.34287774e-02,\n",
       "         2.55550379e-10,  4.42369100e-01],\n",
       "       [ 4.15581299e-03,  4.09513368e+00, -9.78270444e-02,\n",
       "         2.78438639e-10,  4.43161148e-01],\n",
       "       [ 4.06305791e-03,  4.48255261e+00, -1.05001329e-01,\n",
       "         2.13665811e-10,  4.37738030e-01],\n",
       "       [ 4.04582898e-03,  4.24536843e+00, -1.15541047e-01,\n",
       "         2.12251476e-10,  4.41090508e-01]])"
      ]
     },
     "execution_count": 14,
     "metadata": {},
     "output_type": "execute_result"
    }
   ],
   "source": [
    "fit_param"
   ]
  },
  {
   "cell_type": "code",
   "execution_count": 88,
   "metadata": {},
   "outputs": [
    {
     "name": "stdout",
     "output_type": "stream",
     "text": [
      "[60.0, 61.0, 62.0, 63.0, 64.0, 65.0, 66.0, 67.0, 68.0, 62.2, 62.4, 62.6, 62.8, 63.2, 63.4, 63.6, 63.8]\n",
      "60.0\n",
      "61.0\n",
      "62.0\n",
      "62.2\n",
      "62.4\n",
      "62.6\n",
      "62.8\n",
      "63.0\n",
      "63.2\n",
      "63.4\n",
      "63.6\n",
      "63.8\n",
      "64.0\n",
      "65.0\n",
      "66.0\n",
      "67.0\n",
      "68.0\n"
     ]
    }
   ],
   "source": [
    "print(Urf)\n",
    "my_order = [0,1,2,9,10,11,12,3,13,14,15,16,4,5,6,7,8]\n",
    "for i in range(len(Urf)):\n",
    "    print(Urf[my_order[i]])\n",
    "    \n",
    "fit_param_order = zeros((imax,5))\n",
    "Urf_order = []\n",
    "Time_order = []\n",
    "Temperature_order = []\n",
    "for i,j in enumerate(my_order):\n",
    "    fit_param_order[i,:] = fit_param[j,:]\n",
    "    Urf_order.append(Urf[j])\n",
    "    Time_order.append(Time[j])\n",
    "    Temperature_order.append(Temperature[j])"
   ]
  },
  {
   "cell_type": "code",
   "execution_count": 89,
   "metadata": {},
   "outputs": [],
   "source": [
    "str_labels = ['t0', 'A', 'B', 'C', 'D']\n",
    "figure('Param'); clf();\n",
    "for i in range(0,5):\n",
    "    subplot(1,5,i+1)\n",
    "    if i == 2:\n",
    "        plot(Urf_order,10**(fit_param_order[:,i]),'o-', label=str_labels[i])\n",
    "    else:\n",
    "        plot(Urf_order,(fit_param_order[:,i]),'o-', label=str_labels[i])\n",
    "    xlabel('Urf')\n",
    "    grid()\n",
    "    legend()"
   ]
  },
  {
   "cell_type": "code",
   "execution_count": 90,
   "metadata": {},
   "outputs": [],
   "source": [
    "figure(29); clf()\n",
    "cm = pylab.get_cmap('jet')\n",
    "\n",
    "i = 0\n",
    "for i in range(0,imax):\n",
    "    t0, A, B, C, D = fit_param_order[i,:]\n",
    "    y  = func2(Time_order[i],t0, A, B, C, D);\n",
    "    y  = 10**y\n",
    "    dy = dfunc2_dt(Time_order[i], t0, A, B,  C, D)\n",
    "    semilogy((Time_order[i]-t0)*1e3,dy/y,color=cm(i/imax))\n",
    "    \n",
    "i = 1\n",
    "for i in range(0,imax):\n",
    "    t0, A, B, C, D = fit_param_order[i,:]\n",
    "    y  = func2(Time_order[i],t0, A, B, C, D);\n",
    "    y  = 10**y\n",
    "    dy = dfunc2_dt(Time_order[i], t0, A, B,  C, D)\n",
    "    semilogy((Time_order[i]-t0)*1e3,dy/y,'--',color=cm(i/imax))"
   ]
  },
  {
   "cell_type": "code",
   "execution_count": 91,
   "metadata": {},
   "outputs": [],
   "source": [
    "xa = -0.6\n",
    "xb = 0.6\n",
    "ya = 6e-6\n",
    "yb = 1e0\n",
    "figure(30); clf()\n",
    "ax = subplot(111)\n",
    "for i in range(0,imax):\n",
    "    t0, A, B, C, D = fit_param_order[i,:]\n",
    "    y  = func2(Time_order[i],t0, A, B, C, D);\n",
    "    y  = 10**y\n",
    "    dy = dfunc2_dt(Time_order[i], t0, A, B,  C, D)\n",
    "    ax.semilogy((Time_order[i]-t0)*1e3,dy*1e-6,label=str(Urf[i]),color=cm(i/imax))\n",
    "    ax.set_xlabel('$t-t_0$ [ms]')\n",
    "    ax.set_ylabel('Heating rate [K/µs]')\n",
    "#     scatter(t0,4e5,color=cm(i/imax),marker='+')\n",
    "#     semilogy(y,dy*1e-3,label=str(Urf[i]),color=cm(i/imax))\n",
    "    ax.set_xlim([xa,xb])\n",
    "    ax.set_ylim([ya,yb])\n",
    "    grid()\n",
    "    \n",
    "locmaj = matplotlib.ticker.LogLocator(base=10,numticks=12) \n",
    "ax.yaxis.set_major_locator(locmaj)\n",
    "locmin = matplotlib.ticker.LogLocator(base=10.0,subs=(0.2,0.4,0.6,0.8),numticks=12)\n",
    "ax.yaxis.set_minor_locator(locmin)\n",
    "ax.yaxis.set_minor_formatter(matplotlib.ticker.NullFormatter())\n",
    "ax.xaxis.set_major_locator(matplotlib.ticker.MultipleLocator(base=0.1))\n",
    "ax.grid(b=True, which='major', linestyle='-')\n",
    "ax.grid(b=True, which='minor', linestyle='--')\n",
    "tight_layout()"
   ]
  },
  {
   "cell_type": "code",
   "execution_count": 84,
   "metadata": {},
   "outputs": [],
   "source": [
    "xa = -0.05\n",
    "xb = 0.05\n",
    "ya = 1e-2\n",
    "yb = 6e-1\n",
    "figure(31); clf()\n",
    "ax = subplot(111)\n",
    "for i in range(0,imax):\n",
    "    t0, A, B, C, D = fit_param_order[i,:]\n",
    "    y  = func2(Time_order[i],t0, A, B, C, D);\n",
    "    y  = 10**y\n",
    "    dy = dfunc2_dt(Time_order[i], t0, A, B,  C, D)\n",
    "    ax.semilogy((Time_order[i]-t0)*1e3,dy*1e-6/y,label=str(Urf[i]),color=cm(i/imax))\n",
    "    ax.set_xlabel('$t-t_0$ [ms]')\n",
    "    ax.set_ylabel('Heating rate / T\\n[1/µs]')\n",
    "#     scatter(t0,4e5,color=cm(i/imax),marker='+')\n",
    "#     semilogy(y,dy*1e-3,label=str(Urf[i]),color=cm(i/imax))\n",
    "    ax.set_xlim([xa,xb])\n",
    "    ax.set_ylim([ya,yb])\n",
    "    grid()\n",
    "    \n",
    "locmaj = matplotlib.ticker.LogLocator(base=10,numticks=12) \n",
    "ax.yaxis.set_major_locator(locmaj)\n",
    "locmin = matplotlib.ticker.LogLocator(base=10.0,subs=(0.1,0.2,0.3,0.4,0.5,0.6,0.7,0.8,0.9),numticks=12)\n",
    "ax.yaxis.set_minor_locator(locmin)\n",
    "ax.yaxis.set_minor_formatter(matplotlib.ticker.NullFormatter())\n",
    "ax.xaxis.set_major_locator(matplotlib.ticker.MultipleLocator(base=0.02))\n",
    "ax.grid(b=True, which='major', linestyle='-')\n",
    "ax.grid(b=True, which='minor', linestyle='--')\n",
    "tight_layout()"
   ]
  },
  {
   "cell_type": "markdown",
   "metadata": {},
   "source": [
    "# t0 and T as a function of Urf"
   ]
  },
  {
   "cell_type": "code",
   "execution_count": 92,
   "metadata": {},
   "outputs": [],
   "source": [
    "t0    = zeros(imax)\n",
    "y_t0  = zeros(imax)\n",
    "dy_t0 = zeros(imax)\n",
    "for i in range(0, imax):\n",
    "    t0[i], A, B, C, D = fit_param_order[i,:]\n",
    "    y  = func2(t0[i],t0[i], A, B, C, D);\n",
    "    y_t0[i]  = 10**y\n",
    "    dy_t0[i] = dfunc2_dt(t0[i], t0[i], A, B,  C, D)"
   ]
  },
  {
   "cell_type": "code",
   "execution_count": 39,
   "metadata": {},
   "outputs": [],
   "source": [
    "def my_lin(x,a,b):\n",
    "    return a*x+b"
   ]
  },
  {
   "cell_type": "code",
   "execution_count": 128,
   "metadata": {},
   "outputs": [],
   "source": [
    "# linear plot\n",
    "figure(321); clf();\n",
    "subplot(111)\n",
    "plot(Urf_order,t0*1e3,ls='-',marker='+',mew=5,ms=10)\n",
    "grid()\n",
    "xlabel('$U_{rf}$ [V]')\n",
    "ylabel('$t_0$ [ms]') # '$T(t_0) / t_0$ [K/s]'\n",
    "\n",
    "tight_layout()"
   ]
  },
  {
   "cell_type": "code",
   "execution_count": 138,
   "metadata": {},
   "outputs": [],
   "source": [
    "# loglog plot to find the coefficient of power law\n",
    "xx = Urf_order - Urf_order[0]\n",
    "yy = (t0 - t0[0])*1e3 # (yy-min(t0))*1e3\n",
    "xx = xx[1:]\n",
    "yy = -yy[1:]\n",
    "\n",
    "figure(3210); clf();\n",
    "ax = subplot(111)\n",
    "ax.loglog(xx,yy,ls='-',marker='+',mew=5,ms=10)\n",
    "ax.grid()\n",
    "ax.set_xlabel('$U_{rf}$ [V]')\n",
    "ax.set_ylabel('$t_0$ [ms]') # '$T(t_0) / t_0$ [K/s]'\n",
    "\n",
    "popt, pcov = curve_fit(my_lin,log(xx),log(yy))\n",
    "ax.loglog(xx,my_lin(array(xx),popt[0],popt[1]),\n",
    "    color='k',ls='--')\n",
    "\n",
    "ax.text(4.15,2,f'$a={popt[0]:.2f}, b={popt[1]:.2f}$',\n",
    "            color='xkcd:black',fontsize='20',weight=\"bold\",\n",
    "            ha='left',va='center')\n",
    "\n",
    "tight_layout()\n",
    "\n",
    "popt\n",
    "exp(popt[1]),exp(popt[1])"
   ]
  },
  {
   "cell_type": "code",
   "execution_count": 140,
   "metadata": {},
   "outputs": [
    {
     "data": {
      "text/plain": [
       "array([0.43601352, 1.92015461])"
      ]
     },
     "execution_count": 140,
     "metadata": {},
     "output_type": "execute_result"
    }
   ],
   "source": [
    "popt\n",
    "exp(popt[1]),exp(popt[1])\n",
    "# la puissance de la loi c'est x^k avec k=0.436\n",
    "# mais attention j'ai pris -y pour avoir positives valeurs dans le log"
   ]
  },
  {
   "cell_type": "code",
   "execution_count": 108,
   "metadata": {},
   "outputs": [],
   "source": [
    "# 1/sqrt() plot\n",
    "figure(321); clf();\n",
    "ax = subplot(111)\n",
    "ax.plot(Urf_order,(t0*1e3)**-0.5,ls='-',marker='+',mew=5,ms=10)\n",
    "ax.grid()\n",
    "ax.set_xlabel('$U_{rf}$ [V]')\n",
    "ax.set_ylabel('$1/\\sqrt{t_0}$ [ms]') # '$T(t_0) / t_0$ [K/s]'\n",
    "\n",
    "popt, pcov = curve_fit(my_lin,Urf_order,(t0*1e3)**-0.5)\n",
    "ax.plot(Urf_order,my_lin(array(Urf_order),popt[0],popt[1]),\n",
    "    color='k',ls='--')\n",
    "\n",
    "ax.xaxis.set_major_locator(matplotlib.ticker.MultipleLocator(base=1))\n",
    "ax.yaxis.set_major_locator(matplotlib.ticker.MultipleLocator(base=0.1))\n",
    "\n",
    "ax.text(66.3,0.75,f'$1/\\sqrt{{t_0}} = {popt[0]:.2e} U_{{rf}} + {popt[1]:.2f}$',\n",
    "            color='xkcd:black',fontsize='20',weight=\"bold\",\n",
    "            ha='right',va='center')\n",
    "\n",
    "tight_layout()"
   ]
  },
  {
   "cell_type": "code",
   "execution_count": 83,
   "metadata": {},
   "outputs": [],
   "source": [
    "figure(322); clf();\n",
    "ax = subplot(111)\n",
    "ax.plot(Urf_order,y_t0,ls='-',marker='+',mew=5,ms=10)\n",
    "ax.grid()\n",
    "ax.set_xlabel('$U_{rf}$ [V]')\n",
    "ax.set_ylabel('$T(t_0)$ [K]') # '$T(t_0) / t_0$ [K/s]'\n",
    "\n",
    "popt, pcov = curve_fit(my_lin,Urf_order,y_t0)\n",
    "ax.plot(Urf_order,my_lin(array(Urf_order),popt[0],popt[1]),\n",
    "    color='k',ls='--')\n",
    "\n",
    "ax.xaxis.set_major_locator(matplotlib.ticker.MultipleLocator(base=1))\n",
    "ax.yaxis.set_major_locator(matplotlib.ticker.MultipleLocator(base=0.1))\n",
    "\n",
    "ax.text(64,0.815,f'$T(t_0) = {popt[0]:.2e} U_{{rf}} + {popt[1]:.2f}$',\n",
    "            color='xkcd:black',fontsize='20',weight=\"bold\",\n",
    "            ha='left',va='center')\n",
    "\n",
    "tight_layout()\n",
    "\n",
    "# identique à 10**B"
   ]
  },
  {
   "cell_type": "code",
   "execution_count": 82,
   "metadata": {},
   "outputs": [],
   "source": [
    "figure(323); clf();\n",
    "subplot(111)\n",
    "plot(Urf_order,y_t0,ls='-',marker='+',mew=5,ms=10)\n",
    "grid()\n",
    "xlabel('$U_{rf}$ [V]')\n",
    "ylabel('$T(t_0)$ [K]') # '$T(t_0) / t_0$ [K/s]'\n",
    "\n",
    "tight_layout()\n",
    "\n",
    "# identique à 10**B"
   ]
  },
  {
   "cell_type": "code",
   "execution_count": null,
   "metadata": {},
   "outputs": [],
   "source": [
    "savefig('T_t0_Udc.png')"
   ]
  },
  {
   "cell_type": "code",
   "execution_count": 79,
   "metadata": {},
   "outputs": [
    {
     "ename": "NameError",
     "evalue": "name 'Udc' is not defined",
     "output_type": "error",
     "traceback": [
      "\u001b[1;31m---------------------------------------------------------------------------\u001b[0m",
      "\u001b[1;31mNameError\u001b[0m                                 Traceback (most recent call last)",
      "\u001b[1;32m<ipython-input-79-e75ce09f9694>\u001b[0m in \u001b[0;36m<module>\u001b[1;34m\u001b[0m\n\u001b[0;32m      2\u001b[0m \u001b[0msubplot\u001b[0m\u001b[1;33m(\u001b[0m\u001b[1;36m121\u001b[0m\u001b[1;33m)\u001b[0m\u001b[1;33m\u001b[0m\u001b[1;33m\u001b[0m\u001b[0m\n\u001b[0;32m      3\u001b[0m \u001b[0mtitle\u001b[0m\u001b[1;33m(\u001b[0m\u001b[1;34m'Vrf = '\u001b[0m\u001b[1;33m+\u001b[0m\u001b[0mstr\u001b[0m\u001b[1;33m(\u001b[0m\u001b[0mUrf\u001b[0m\u001b[1;33m[\u001b[0m\u001b[1;36m2\u001b[0m\u001b[1;33m]\u001b[0m\u001b[1;33m)\u001b[0m\u001b[1;33m)\u001b[0m\u001b[1;33m\u001b[0m\u001b[1;33m\u001b[0m\u001b[0m\n\u001b[1;32m----> 4\u001b[1;33m \u001b[0mplot\u001b[0m\u001b[1;33m(\u001b[0m\u001b[0mUdc\u001b[0m\u001b[1;33m,\u001b[0m\u001b[0mt0_v\u001b[0m\u001b[1;33m,\u001b[0m\u001b[1;34m'o'\u001b[0m\u001b[1;33m)\u001b[0m\u001b[1;33m\u001b[0m\u001b[1;33m\u001b[0m\u001b[0m\n\u001b[0m\u001b[0;32m      5\u001b[0m \u001b[0mgrid\u001b[0m\u001b[1;33m(\u001b[0m\u001b[1;33m)\u001b[0m\u001b[1;33m\u001b[0m\u001b[1;33m\u001b[0m\u001b[0m\n\u001b[0;32m      6\u001b[0m \u001b[0mxlabel\u001b[0m\u001b[1;33m(\u001b[0m\u001b[1;34m'Udc[V]'\u001b[0m\u001b[1;33m)\u001b[0m\u001b[1;33m\u001b[0m\u001b[1;33m\u001b[0m\u001b[0m\n",
      "\u001b[1;31mNameError\u001b[0m: name 'Udc' is not defined"
     ]
    }
   ],
   "source": [
    "figure(33); clf();\n",
    "subplot(121)\n",
    "title('Vrf = '+str(Urf[2]))\n",
    "plot(Udc,t0_v,'o')\n",
    "grid()\n",
    "xlabel('Udc[V]')\n",
    "ylabel('T[t = t0] / t0 [K/s]')\n",
    "\n",
    "subplot(122)\n",
    "title('Vrf = '+str(Urf[3]))\n",
    "plot(Udc,t1_v,'o')\n",
    "grid()\n",
    "xlabel('Udc[V]')\n",
    "ylabel('T[t = t0] / t0 [K/s]')\n"
   ]
  },
  {
   "cell_type": "code",
   "execution_count": 223,
   "metadata": {},
   "outputs": [
    {
     "data": {
      "text/plain": [
       "Text(0, 0.5, 'T[t = t0] / t0 [K/s]')"
      ]
     },
     "execution_count": 223,
     "metadata": {},
     "output_type": "execute_result"
    }
   ],
   "source": [
    "figure(33); clf();\n",
    "subplot(121)\n",
    "title('Vrf = '+str(Urf[2]))\n",
    "plot(Udc,y_t0,'o')\n",
    "grid()\n",
    "xlabel('Udc[V]')\n",
    "ylabel('T[t = t0]')\n",
    "\n",
    "subplot(122)\n",
    "title('Vrf = '+str(Urf[3]))\n",
    "plot(Udc,y_t1,'o')\n",
    "grid()\n",
    "xlabel('Udc[V]')\n",
    "ylabel('T[t = t0]')\n"
   ]
  },
  {
   "cell_type": "code",
   "execution_count": 80,
   "metadata": {},
   "outputs": [
    {
     "ename": "NameError",
     "evalue": "name 'jmax' is not defined",
     "output_type": "error",
     "traceback": [
      "\u001b[1;31m---------------------------------------------------------------------------\u001b[0m",
      "\u001b[1;31mNameError\u001b[0m                                 Traceback (most recent call last)",
      "\u001b[1;32m<ipython-input-80-3ea0945f87f6>\u001b[0m in \u001b[0;36m<module>\u001b[1;34m\u001b[0m\n\u001b[0;32m      2\u001b[0m \u001b[1;33m\u001b[0m\u001b[0m\n\u001b[0;32m      3\u001b[0m \u001b[0mi\u001b[0m \u001b[1;33m=\u001b[0m \u001b[1;36m0\u001b[0m\u001b[1;33m\u001b[0m\u001b[1;33m\u001b[0m\u001b[0m\n\u001b[1;32m----> 4\u001b[1;33m \u001b[1;32mfor\u001b[0m \u001b[0mj\u001b[0m \u001b[1;32min\u001b[0m \u001b[0mrange\u001b[0m\u001b[1;33m(\u001b[0m\u001b[1;36m0\u001b[0m\u001b[1;33m,\u001b[0m\u001b[0mjmax\u001b[0m\u001b[1;33m)\u001b[0m\u001b[1;33m:\u001b[0m\u001b[1;33m\u001b[0m\u001b[1;33m\u001b[0m\u001b[0m\n\u001b[0m\u001b[0;32m      5\u001b[0m     \u001b[0mt0\u001b[0m\u001b[1;33m,\u001b[0m \u001b[0mA\u001b[0m\u001b[1;33m,\u001b[0m \u001b[0mB\u001b[0m\u001b[1;33m,\u001b[0m \u001b[0mC\u001b[0m\u001b[1;33m,\u001b[0m \u001b[0mD\u001b[0m \u001b[1;33m=\u001b[0m \u001b[0mfit_param\u001b[0m\u001b[1;33m[\u001b[0m\u001b[0mi\u001b[0m\u001b[1;33m,\u001b[0m\u001b[0mj\u001b[0m\u001b[1;33m,\u001b[0m\u001b[1;33m:\u001b[0m\u001b[1;33m]\u001b[0m\u001b[1;33m\u001b[0m\u001b[1;33m\u001b[0m\u001b[0m\n\u001b[0;32m      6\u001b[0m     \u001b[0my\u001b[0m  \u001b[1;33m=\u001b[0m \u001b[0mfunc2\u001b[0m\u001b[1;33m(\u001b[0m\u001b[0mtime\u001b[0m\u001b[1;33m,\u001b[0m\u001b[0mt0\u001b[0m\u001b[1;33m,\u001b[0m \u001b[0mA\u001b[0m\u001b[1;33m,\u001b[0m \u001b[0mB\u001b[0m\u001b[1;33m,\u001b[0m \u001b[0mC\u001b[0m\u001b[1;33m,\u001b[0m \u001b[0mD\u001b[0m\u001b[1;33m)\u001b[0m\u001b[1;33m;\u001b[0m\u001b[1;33m\u001b[0m\u001b[1;33m\u001b[0m\u001b[0m\n",
      "\u001b[1;31mNameError\u001b[0m: name 'jmax' is not defined"
     ]
    }
   ],
   "source": [
    "figure(31); clf()\n",
    "\n",
    "i = 0\n",
    "for j in range(0,jmax):\n",
    "    t0, A, B, C, D = fit_param[i,j,:]\n",
    "    y  = func2(time,t0, A, B, C, D);\n",
    "    y  = 10**y\n",
    "    dy = dfunc2_dt(time, t0, A, B,  C, D)\n",
    "    semilogy(time-t0,y)\n",
    "    \n",
    "i = 1\n",
    "for j in range(0,jmax):\n",
    "    t0, A, B, C, D = fit_param[i,j,:]\n",
    "    y  = func2(time,t0, A, B, C, D);\n",
    "    y  = 10**y\n",
    "    dy = dfunc2_dt(time, t0, A, B,  C, D)\n",
    "    title('Vrf = '+str(Urf[i+2]))\n",
    "    semilogy(time-t0,y,'--')"
   ]
  },
  {
   "cell_type": "code",
   "execution_count": 216,
   "metadata": {},
   "outputs": [],
   "source": []
  },
  {
   "cell_type": "code",
   "execution_count": null,
   "metadata": {},
   "outputs": [],
   "source": []
  }
 ],
 "metadata": {
  "kernelspec": {
   "display_name": "Python 3",
   "language": "python",
   "name": "python3"
  },
  "language_info": {
   "codemirror_mode": {
    "name": "ipython",
    "version": 3
   },
   "file_extension": ".py",
   "mimetype": "text/x-python",
   "name": "python",
   "nbconvert_exporter": "python",
   "pygments_lexer": "ipython3",
   "version": "3.7.6"
  }
 },
 "nbformat": 4,
 "nbformat_minor": 5
}
