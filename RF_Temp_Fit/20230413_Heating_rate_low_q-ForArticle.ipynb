{
 "cells": [
  {
   "cell_type": "markdown",
   "metadata": {},
   "source": [
    "# Analysis of RF heating (low $q_x$)\n",
    "This program is devoted to the analysis of RF heating simulations, done with MD program. Initially, first simulation were carried out in 2022, 30 of september (see `20220930`) but the aspect ratio of the potential was not close enough to 1. The problem was that the effect of the axial potential over radial direction was not properly considered. This implies to properly compute the beta parameter in a recursive way. The computation of the right beta is done in another Python program called `2021_Mathieu_parameters`. The data in `20220930` is viable, but do not have the symmetrical aspect ratio.\n",
    "The low q data used in the RF heating article (2023) are ultimately analysed with this program (from $q=0.2$ to $q=0.6$). Data is stored on Rivendel in the following folder `Rivendel/Simulations/20221017`, but you will have to manually add the $q_x=0.6$ from `20220617`. They are first pre-processed with a python program, `20220617_extractdatatonpz`, converting the raw data into `.npz` archives. Then the `.npz` archives are opened in this program and analysed.\n",
    "\n",
    "This analysis program first opens the `.npz`, proposes to plot some temperature curves. A temporal window average is carried out, then the heating rate is numerically computed. Analytical cooling power is computed, along with heating rate from the spontaneous emission. Those computations are compared in a figure.\n",
    "\n",
    "Keep in mind the analysis of low $q_x$ from $q_x=0.2$ to $q_x=0.6$ is done with another program called `20220617_Heating_rate_high_q-ForArticle`."
   ]
  },
  {
   "cell_type": "code",
   "execution_count": 1,
   "metadata": {},
   "outputs": [
    {
     "data": {
      "text/html": [
       "<style>.container { width:95% !important; }</style>"
      ],
      "text/plain": [
       "<IPython.core.display.HTML object>"
      ]
     },
     "metadata": {},
     "output_type": "display_data"
    }
   ],
   "source": [
    "from IPython.display import display, HTML\n",
    "display(HTML(\"<style>.container { width:95% !important; }</style>\"))"
   ]
  },
  {
   "cell_type": "code",
   "execution_count": 2,
   "metadata": {},
   "outputs": [
    {
     "name": "stdout",
     "output_type": "stream",
     "text": [
      "Using matplotlib backend: Qt5Agg\n",
      "Populating the interactive namespace from numpy and matplotlib\n"
     ]
    }
   ],
   "source": [
    "%pylab"
   ]
  },
  {
   "cell_type": "code",
   "execution_count": 3,
   "metadata": {},
   "outputs": [],
   "source": [
    "from scipy.optimize import curve_fit\n",
    "\n",
    "import tkinter as tk\n",
    "from tkinter import filedialog\n",
    "\n",
    "import os\n",
    "\n",
    "from scipy import signal\n",
    "import scipy.integrate as integrate\n",
    "import matplotlib.ticker as ticker\n",
    "\n",
    "# %matplotlib qt"
   ]
  },
  {
   "cell_type": "code",
   "execution_count": 6,
   "metadata": {
    "scrolled": true
   },
   "outputs": [],
   "source": [
    "%run functions\n",
    "matplotlib.rcParams.update({'font.size': 25})\n",
    "cm = pylab.get_cmap('tab10')\n",
    "cm2 = pylab.get_cmap('Set1')\n",
    "# cm3 = pylab.get_cmap('turbo')\n",
    "cm3j = pylab.get_cmap('jet')\n",
    "cm4 = pylab.get_cmap('viridis')"
   ]
  },
  {
   "cell_type": "code",
   "execution_count": 7,
   "metadata": {},
   "outputs": [
    {
     "name": "stdout",
     "output_type": "stream",
     "text": [
      "$\\kappa_{simion}$ = 0.270471\n"
     ]
    }
   ],
   "source": [
    "# Constantes de la physique\n",
    "# ABSOLUMENT RECHARGER APRÈS AVOIR EXECUTÉ LES CASES D'IMPORT AU DESSUS\n",
    "\n",
    "C_e = 1.602e-19        # Coulomb\n",
    "kb = 1.38064852*1e-23  # Boltzman\n",
    "m_Ca = 40.078*1.66054e-27 # masse Ca 40.078\n",
    "m_GM = 1e6*1.66054e-27 # la masse de la GMol\n",
    "eps0 = 8.854187*1e-12  # permittivité électrique du vide\n",
    "\n",
    "r0 = 2.5e-3 # 2.5e-3   # rayon piège Ca+\n",
    "d0 = 4e-3/2            # longueur piège Ca+\n",
    "\n",
    "Omega = 2.0e6*2*pi # 2.047e6\n",
    "tauRF = 1/(Omega/2/pi)\n",
    "\n",
    "bk = 4 # nombre de barreaux par groupe (2 -> 4-pole , 4 -> 8-pole ...)\n",
    "\n",
    "mkappa = 0.23          # écrantage piège réel GiantMol\n",
    "\n",
    "wzLC = (2*pi*90806.9982303)**2\n",
    "kappa_simion = m_Ca*d0**2*wzLC/(2*C_e)\n",
    "print('%s = %f' % ('$\\kappa_{simion}$',kappa_simion) )\n",
    "\n",
    "zeta = kappa_simion*r0**2/d0**2"
   ]
  },
  {
   "cell_type": "markdown",
   "metadata": {},
   "source": [
    "# Open data stored as `.npz`\n",
    "If you don't have the `.npz` archives please first convert the data using `20220617_extractdatatonpz` python program."
   ]
  },
  {
   "cell_type": "code",
   "execution_count": 8,
   "metadata": {
    "scrolled": true
   },
   "outputs": [
    {
     "name": "stdout",
     "output_type": "stream",
     "text": [
      "K:/Universite_Simus/20230413/Time_and_temp_RFHEAT_N1024_alphavar_DC02_RF02.npz\n"
     ]
    }
   ],
   "source": [
    "## GUI for data loading\n",
    "# Select one data file all the way down to the directories\n",
    "# SELECT Temp_SimuTypeQ_N ... .dat\n",
    "\n",
    "file_path = filedialog.askopenfilename(multiple=True) # initialdir = dir_string\n",
    "# print(file_path)\n",
    "\n",
    "# Use 20220617_extractdatatonpz before\n",
    "\n",
    "# Data is in the file /home/adrien/RemoteFS/Rivendel/Simulations/20221017\n",
    "\n",
    "time       = []\n",
    "T_aux_avg  = []\n",
    "r2_v2_rlim = []\n",
    "alpha       = []\n",
    "\n",
    "for i,j in enumerate(file_path):\n",
    "    print(j)\n",
    "    with load(j) as data:\n",
    "        time.append(data['time'])\n",
    "        T_aux_avg.append(data['temp'])\n",
    "        r2_v2_rlim.append(data['r2_v2_rlim'])\n",
    "        alpha.append(data['alpha'])\n",
    "        \n",
    "###########\n",
    "# You should have\n",
    "# Rivendel/Simulations/20221017/Time_and_temp_RFHEAT_N1024_DC02_RF02.npz\n",
    "# Rivendel/Simulations/20221017/Time_and_temp_RFHEAT_N1024_DC03_RF03.npz\n",
    "# Rivendel/Simulations/20221017/Time_and_temp_RFHEAT_N1024_DC04_RF04.npz\n",
    "# Rivendel/Simulations/20221017/Time_and_temp_RFHEAT_N1024_DC05_RF05.npz\n",
    "# Rivendel/Simulations/20221017/Time_and_temp_RFHEAT_N1024_DC08_RF08.npz\n",
    "\n",
    "# Beware that after 05 it is 08 it is fine"
   ]
  },
  {
   "cell_type": "code",
   "execution_count": 9,
   "metadata": {},
   "outputs": [
    {
     "name": "stdout",
     "output_type": "stream",
     "text": [
      "190.70858957729456\n",
      "188.5500129213134\n",
      "186.40296076747995\n",
      "0.00019070858957729456 0.00018640296076747996\n",
      "1.0230985001101214\n"
     ]
    }
   ],
   "source": [
    "# Checking aspect ratio\n",
    "myRF = 0\n",
    "\n",
    "for k in range(3):\n",
    "    print(r2_v2_rlim[myRF][k+6][50]*1000) # [condition][dim][time]\n",
    "\n",
    "R = r2_v2_rlim[myRF][6][50]*1e-3\n",
    "L = r2_v2_rlim[myRF][8][50]*1e-3\n",
    "aws = 0\n",
    "print(R,L)\n",
    "print((R+(1.48*aws/2))/(L+1.48*aws/2))\n",
    "\n",
    "density = 1024 / (4/3*pi*R**2*L)"
   ]
  },
  {
   "cell_type": "code",
   "execution_count": 10,
   "metadata": {},
   "outputs": [],
   "source": [
    "def func_lin(t,a,b):\n",
    "    return a*t+b\n",
    "def func_exp(x,a,b):\n",
    "    return b*exp(-a*x)\n",
    "def func_pow(t,A,B):\n",
    "    return t**A * exp(B)"
   ]
  },
  {
   "cell_type": "code",
   "execution_count": 11,
   "metadata": {},
   "outputs": [],
   "source": [
    "# Enters parameters\n",
    "to_fit = 0\n",
    "my_try = int(file_path[to_fit][file_path[to_fit].find('DC')+2:file_path[to_fit].find('DC')+4])\n",
    "Urf = array([0, 0, 20.532292436697, 30.798438655045, 41.065, 51.33073109174249,0,0,6.1597])\n",
    "q = array([0, 0, 0.2, 0.3, 0.4, 0.5, 0,0, 0.6])\n",
    "Udc = array([0, 0, 1.3454211755646195, 3.062127421577093, 5.706, 8.837305210834145, 0,0, 13.08323245])\n",
    "N_ions = array([1024,1024,1024,1024,1024])\n",
    "\n",
    "# Time is corrected so it starts at 0\n",
    "x  = time[to_fit]-1e-3\n",
    "fs = 1/diff(x)[1]"
   ]
  },
  {
   "cell_type": "code",
   "execution_count": 12,
   "metadata": {},
   "outputs": [
    {
     "name": "stdout",
     "output_type": "stream",
     "text": [
      "1.0041567568299214\n",
      "1.059416534255704\n",
      "\n",
      "K:/Universite_Simus/20230413/Time_and_temp_RFHEAT_N1024_alphavar_DC02_RF02.npz\n"
     ]
    }
   ],
   "source": [
    "# Display R/L aspect ratio\n",
    "# Computed from Fortran MD program\n",
    "for cond in range(len(file_path)):\n",
    "    #print(r2_v2_rlim[myRF][k+6][50]*1000) # [condition][dim][time]\n",
    "    my_try = int(file_path[cond][file_path[cond].find('DC')+2:file_path[cond].find('DC')+4])\n",
    "    R = mean(r2_v2_rlim[cond][6][100:500])\n",
    "    L = mean(r2_v2_rlim[cond][8][100:500])\n",
    "    print(R/L)\n",
    "    print(alpha[cond])\n",
    "    print('')\n",
    "address = file_path[0]\n",
    "print(address)"
   ]
  },
  {
   "cell_type": "code",
   "execution_count": 13,
   "metadata": {},
   "outputs": [
    {
     "name": "stdout",
     "output_type": "stream",
     "text": [
      "|   cond  | N  | q_x|   f_x   |   f_z   |   ~a_x  | R/L | beta|\n",
      "|---------|----|----|---------|---------|---------|-----|-----|\n"
     ]
    },
    {
     "ename": "NameError",
     "evalue": "name 'omega_x_2' is not defined",
     "output_type": "error",
     "traceback": [
      "\u001b[1;31m---------------------------------------------------------------------------\u001b[0m",
      "\u001b[1;31mNameError\u001b[0m                                 Traceback (most recent call last)",
      "\u001b[1;32m<ipython-input-13-fd77fdab8c0e>\u001b[0m in \u001b[0;36m<module>\u001b[1;34m\u001b[0m\n\u001b[0;32m      9\u001b[0m     \u001b[0mmy_try\u001b[0m \u001b[1;33m=\u001b[0m \u001b[0mint\u001b[0m\u001b[1;33m(\u001b[0m\u001b[0mfile_path\u001b[0m\u001b[1;33m[\u001b[0m\u001b[0mcond\u001b[0m\u001b[1;33m]\u001b[0m\u001b[1;33m[\u001b[0m\u001b[0mfile_path\u001b[0m\u001b[1;33m[\u001b[0m\u001b[0mcond\u001b[0m\u001b[1;33m]\u001b[0m\u001b[1;33m.\u001b[0m\u001b[0mfind\u001b[0m\u001b[1;33m(\u001b[0m\u001b[1;34m'DC'\u001b[0m\u001b[1;33m)\u001b[0m\u001b[1;33m+\u001b[0m\u001b[1;36m2\u001b[0m\u001b[1;33m:\u001b[0m\u001b[0mfile_path\u001b[0m\u001b[1;33m[\u001b[0m\u001b[0mcond\u001b[0m\u001b[1;33m]\u001b[0m\u001b[1;33m.\u001b[0m\u001b[0mfind\u001b[0m\u001b[1;33m(\u001b[0m\u001b[1;34m'DC'\u001b[0m\u001b[1;33m)\u001b[0m\u001b[1;33m+\u001b[0m\u001b[1;36m4\u001b[0m\u001b[1;33m]\u001b[0m\u001b[1;33m)\u001b[0m\u001b[1;33m\u001b[0m\u001b[1;33m\u001b[0m\u001b[0m\n\u001b[0;32m     10\u001b[0m \u001b[1;33m\u001b[0m\u001b[0m\n\u001b[1;32m---> 11\u001b[1;33m     \u001b[0mprint\u001b[0m\u001b[1;33m(\u001b[0m\u001b[1;34mf'|DC{my_try:02d}_RF{my_try:02d}|{N_ions[cond]:04d}|{q[my_try]:.2f}|{sqrt(omega_x_2)[my_try]/2/pi:.3e}|{sqrt(omega_z_2)[my_try]/2/pi:.3e}|{omega_z_2[my_try]/Omega**2*2:.3e}|{alpha[cond]:.3f}|{beta_guess[my_try]:.3f}|'\u001b[0m\u001b[1;33m,\u001b[0m\u001b[0mend\u001b[0m\u001b[1;33m=\u001b[0m\u001b[1;34m'\\n'\u001b[0m\u001b[1;33m)\u001b[0m\u001b[1;33m\u001b[0m\u001b[1;33m\u001b[0m\u001b[0m\n\u001b[0m",
      "\u001b[1;31mNameError\u001b[0m: name 'omega_x_2' is not defined"
     ]
    }
   ],
   "source": [
    "# Display parameters of simus\n",
    "# in nice table\n",
    "\n",
    "print('|   cond  | N  | q_x|   f_x   |   f_z   |   ~a_x  | R/L | beta|',end='\\n')\n",
    "print('|---------|----|----|---------|---------|---------|-----|-----|',end='\\n')\n",
    "\n",
    "for cond in range(len(file_path)):\n",
    "    #print(r2_v2_rlim[myRF][k+6][50]*1000) # [condition][dim][time]\n",
    "    my_try = int(file_path[cond][file_path[cond].find('DC')+2:file_path[cond].find('DC')+4])\n",
    "    \n",
    "    print(f'|DC{my_try:02d}_RF{my_try:02d}|{N_ions[cond]:04d}|{q[my_try]:.2f}|{sqrt(omega_x_2)[my_try]/2/pi:.3e}|{sqrt(omega_z_2)[my_try]/2/pi:.3e}|{omega_z_2[my_try]/Omega**2*2:.3e}|{alpha[cond]:.3f}|{beta_guess[my_try]:.3f}|',end='\\n')"
   ]
  },
  {
   "cell_type": "code",
   "execution_count": 160,
   "metadata": {},
   "outputs": [],
   "source": [
    "# write parameters in a file\n",
    "with open('data_parameters.txt','w') as f:\n",
    "    f.write('2022 oct 21\\n')\n",
    "    f.write('Paramètres des simulations de chauffage RF\\n')\n",
    "    f.write('Simulations dans le dossier Rivendel/Simulations/20221017\\n\\n')\n",
    "    \n",
    "    f.write('|   cond  | N  | q_x|   f_x   |   f_z   |   ~a_x  | R/L | beta|\\n')\n",
    "    f.write('|---------|----|----|---------|---------|---------|-----|-----|\\n')\n",
    "\n",
    "    for cond in range(len(file_path)):\n",
    "        #print(r2_v2_rlim[myRF][k+6][50]*1000) # [condition][dim][time]\n",
    "        my_try = int(file_path[cond][file_path[cond].find('DC')+2:file_path[cond].find('DC')+4])\n",
    "\n",
    "        f.write(f'|DC{my_try:02d}_RF{my_try:02d}|{N_ions[cond]:04d}|{q[my_try]:.2f}|{sqrt(omega_x_2)[my_try]/2/pi:.3e}|{sqrt(omega_z_2)[my_try]/2/pi:.3e}|{omega_z_2[my_try]/Omega**2*2:.3e}|{alpha[cond]:.3f}|{beta_guess[my_try]:.3f}|\\n')"
   ]
  },
  {
   "cell_type": "markdown",
   "metadata": {},
   "source": [
    "# Some plots of temperature"
   ]
  },
  {
   "cell_type": "code",
   "execution_count": 14,
   "metadata": {},
   "outputs": [
    {
     "name": "stdout",
     "output_type": "stream",
     "text": [
      "file to analyze\n",
      "> 0 K:/Universite_Simus/20230413/Time_and_temp_RFHEAT_N1024_alphavar_DC02_RF02.npz\n"
     ]
    },
    {
     "name": "stderr",
     "output_type": "stream",
     "text": [
      "H:\\Programmes\\Anaconda3\\envs\\py307\\lib\\site-packages\\ipykernel_launcher.py:32: UserWarning: Creating legend with loc=\"best\" can be slow with large amounts of data.\n",
      "H:\\Programmes\\Anaconda3\\envs\\py307\\lib\\site-packages\\ipykernel\\eventloops.py:106: UserWarning: Creating legend with loc=\"best\" can be slow with large amounts of data.\n",
      "  app.exec_()\n"
     ]
    }
   ],
   "source": [
    "start_for_fit = 200\n",
    "T_crit = 0.5\n",
    "print('file to analyze')\n",
    "\n",
    "to_fit = 0 #11 19 8\n",
    "temp_to_end = 50\n",
    "\n",
    "my_try = int(file_path[to_fit][file_path[to_fit].find('DC')+2:file_path[to_fit].find('DC')+4])\n",
    "print('>',to_fit,file_path[to_fit])\n",
    "x  = time[to_fit]-1e-3\n",
    "y  = T_aux_avg[to_fit]\n",
    "\n",
    "\n",
    "figname = 'testfitinlin0'\n",
    "figure(figname,clear='True')\n",
    "#xlim(0.8,6)\n",
    "ax1 = subplot(111)\n",
    "ax1.grid()\n",
    "ax1.semilogy(x*1e3, y ,label=r'$T$',color='C0',lw=0.3)\n",
    "\n",
    "nticks = 9\n",
    "maj_loc = ticker.LogLocator(numticks=nticks)\n",
    "min_loc = ticker.LogLocator(subs='all', numticks=nticks)\n",
    "ax1.yaxis.set_major_locator(maj_loc)\n",
    "ax1.yaxis.set_minor_locator(min_loc)\n",
    "\n",
    "ax1.set_xlabel('t [ms]')\n",
    "ax1.set_ylabel('T [K]')\n",
    "# ax1.set_xlim(-0.1,4.3)\n",
    "ax1.set_ylim(2e-3,300)\n",
    "ax1.legend()\n",
    "tight_layout()\n",
    "\n",
    "\n",
    "# savefig(figname+'.eps',dpi=300)"
   ]
  },
  {
   "cell_type": "markdown",
   "metadata": {},
   "source": [
    "# From fluo-variations_optimal-temp.ipynb"
   ]
  },
  {
   "cell_type": "markdown",
   "metadata": {},
   "source": [
    "# Functions used to describe ions\n",
    "### From fluo-variations_optimal-temp.ipynb\n",
    "I present the functions used to compute fluorescence and cooling power as a function of the temperature. See Foot chapter 7 and 9. The two basic functions are as follows.\n",
    "\n",
    "- $\\texttt{MB}(v)$ is the Maxwell-Boltzmann distribution for a given temperature. It provides the probability to find an atom with a given velocity in a gas with temperature T.\n",
    "\n",
    "- $\\texttt{pfl_dop}(v) = \\rho_{ee}(v)$ is the atomic ray profile with Doppler effect. It provides the probability of excitation of a single oscillator given Rabi frequency, detuning, lambda and its velocity. It is considered equal to the excited population, i.e the proportion of excited atoms. This function is used with fixed Rabi frequency, detuning and lambda.\n",
    "\n",
    "Those functions are used to compute the total fluorescence of the ion ensemble under laser cooling $F$, the cooling power of laser $G$, the heating induced by the spontaneous emission $G_{Hot}$.\n",
    "\n",
    "- $\\texttt{prob_fluo} = \\texttt{pfl_dop}\\times \\texttt{MB}$ is the probability of excitation of an ion with velocity v in an ensemble at temperature $T$. The sum $F=\\Gamma\\sum_v \\texttt{prob_fluo}\\; dv$ is the fluorescence emitted by an ensemble of ions with given temperature $T$.\n",
    "\n",
    "- $\\texttt{cool_power} = \\texttt{pfl_dop}\\times \\texttt{MB}\\times kv$ is used to compute the cooling energy of laser $G = \\sum_v \\texttt{cool_power}\\; \\mathrm{d}v \\times \\;\\hbar k \\Gamma$ [J].\n",
    "\n",
    "- $\\texttt{hot_power} = \\texttt{prob_fluo}$ is used to compute the heating induced by the spontaneous emission $G_{Hot} = \\sum_v \\texttt{hot_power}\\; \\mathrm{d}v \\times \\;\\hbar^2 k^2 \\Gamma/m$ [J].\n",
    "\n",
    "You can multiply $G$ and $G_{Hot}$ by $1/(k_b\\tau_{RF}$ to express those quantities in K/RF period. This transformation relies on the following formula : E = 3/2 k_bT.\n",
    "\n",
    "\n",
    "$\\texttt{MB} = \\sqrt{\\frac{m}{2\\pi k_BT}}\\exp{-\\frac{mv^2}{2k_BT}}$\n",
    "\n",
    "$\\texttt{pfl_dop} = \\rho_{ee} = \\frac{0.25\\Omega_R^2}{0.5\\Omega_R^2 + 0.25\\Gamma^2 + \\Delta^2} = \\frac{A/2}{A+B + \\Delta^2}$\n",
    "\n",
    "$\\texttt{cool_power} = \\texttt{pfl_dop}\\times \\texttt{MB}\\times kv$"
   ]
  },
  {
   "cell_type": "code",
   "execution_count": 15,
   "metadata": {},
   "outputs": [],
   "source": [
    "# Doppler profile\n",
    "def pfl_dop(v, delta, k, Rab, Gam):\n",
    "    return .25*Rab**2/(0.5*Rab**2+.25*Gam**2+(delta-k*v)**2)\n",
    "\n",
    "# Maxwell-Boltzmann distribution\n",
    "def MB(v, T):\n",
    "    kb = 1.38064852*1e-23  # Boltzman\n",
    "    m_Ca = 40.078*1.66054e-27 # masse Ca 40.078\n",
    "    return (m_Ca/(np.pi*2*kb*T))**(1/2) * np.exp(-m_Ca*v**2/(2*kb*T)) # **1 car vitesse par rapport au laser compte seulement (1D)\n",
    "\n",
    "# Probabilities product\n",
    "# For a range of velocities,\n",
    "# compute the prob_fluo\n",
    "# for a given T, delta, Rab, Gam\n",
    "def prob_fluo(vmin, vmax, nv, T, delta, k, Rab, Gam):\n",
    "    nu = k*np.linspace(vmin, vmax, nv)\n",
    "    return nu, pfl_dop(-nu/k, delta, k, Rab, Gam)*MB(nu/k, T)\n",
    "\n",
    "def cool_power(vmin, vmax, nv, T, delta, k, Rab, Gam):\n",
    "    nu = k*np.linspace(vmin, vmax, nv)\n",
    "    return nu, pfl_dop(-nu/k, delta, k, Rab, Gam)*MB(nu/k, T)*nu\n",
    "\n",
    "def hot_power(vmin, vmax, nv, T, delta, k, Rab, Gam):\n",
    "    nu = k*np.linspace(vmin, vmax, nv)\n",
    "    return nu, pfl_dop(-nu/k, delta, k, Rab, Gam)*MB(nu/k, T)\n",
    "\n",
    "def T_lim(delta):\n",
    "    return -0.5*hbar*Gam**2*(1+(2*delta/Gam)**2) / (4*delta)/kb"
   ]
  },
  {
   "cell_type": "code",
   "execution_count": 16,
   "metadata": {},
   "outputs": [
    {
     "name": "stdout",
     "output_type": "stream",
     "text": [
      "0.9994781288008786\n"
     ]
    }
   ],
   "source": [
    "T = 0.01\n",
    "v_thermique = sqrt(2*kb*T/m_Ca)\n",
    "nv = 2000\n",
    "dv = 6*v_thermique/nv\n",
    "dist_MB = []\n",
    "for v in linspace(-3*v_thermique,3*v_thermique,nv):\n",
    "    dist_MB.append(MB(v, T))\n",
    "print(sum(dist_MB)*dv)"
   ]
  },
  {
   "cell_type": "code",
   "execution_count": 17,
   "metadata": {},
   "outputs": [],
   "source": [
    "# Laser parameters\n",
    "lam = 397e-9 # m\n",
    "klam = 2*pi/lam # m^-1\n",
    "Gam = 21570000.0 *2*pi\n",
    "delta = Gam\n",
    "Rab = Gam\n",
    "I = 170 # W/m²"
   ]
  },
  {
   "cell_type": "code",
   "execution_count": 18,
   "metadata": {},
   "outputs": [],
   "source": [
    "c_light = 299792458\n",
    "h_pl = 6.62607015*1e-34\n",
    "h_pl_bar = h_pl/2/pi\n",
    "lam_397 = 396.84620*1e-9\n",
    "k=(2*pi)/lam_397\n",
    "gamma_SP = 21.57*1e6\n",
    "tau = 1/gamma_SP\n",
    "Omega = 2.0e6*2*pi\n",
    "tau_RF = 1/(Omega/(2*pi))"
   ]
  },
  {
   "cell_type": "code",
   "execution_count": 19,
   "metadata": {},
   "outputs": [
    {
     "name": "stdout",
     "output_type": "stream",
     "text": [
      "0.4634206649198229\n",
      "0.0010351970908243904\n"
     ]
    }
   ],
   "source": [
    "v_min = sqrt(h_pl_bar*Gam/m_Ca)\n",
    "print(v_min)\n",
    "print(m_Ca*v_min**2/kb)"
   ]
  },
  {
   "cell_type": "markdown",
   "metadata": {},
   "source": [
    "# Windowing"
   ]
  },
  {
   "cell_type": "code",
   "execution_count": 20,
   "metadata": {},
   "outputs": [
    {
     "name": "stdout",
     "output_type": "stream",
     "text": [
      "0\n",
      "0.10000000000000005 0.09999999999999999\n"
     ]
    }
   ],
   "source": [
    "# Windowing temperature\n",
    "window_samp = 200\n",
    "x_win = [] # zeros((len(y)//window_samp,len(file_path)))\n",
    "y_win = [] # zeros((len(y)//window_samp,len(file_path)))\n",
    "\n",
    "for to_fit in range(len(file_path)):\n",
    "    print(to_fit)\n",
    "    x_win.append([])\n",
    "    y_win.append([])\n",
    "    x = time[to_fit]-1e-3\n",
    "    y = T_aux_avg[to_fit]\n",
    "    for i in range(len(y)//window_samp-1):\n",
    "        x_win[to_fit].append( (x[i*window_samp]+x[(i+1)*window_samp])/2 ) # temps\n",
    "        y_win[to_fit].append( sum(y[i*window_samp:(i+1)*window_samp])/window_samp ) # temperature moyennée\n",
    "    \n",
    "print(diff(x_win[0])[0]*1e3,tau_RF*window_samp*1e3)"
   ]
  },
  {
   "cell_type": "code",
   "execution_count": 21,
   "metadata": {},
   "outputs": [],
   "source": [
    "# Plot windowed temperature\n",
    "to_plot = 0\n",
    "x  = time[to_plot]-1e-3\n",
    "y  = T_aux_avg[to_plot]\n",
    "figure('Windowed T',clear='True')\n",
    "semilogy(x, y,':',color='y')\n",
    "semilogy(x_win[to_plot], y_win[to_plot],'+')\n",
    "# hlines(500,0,0.02)\n",
    "grid()\n",
    "tight_layout()"
   ]
  },
  {
   "cell_type": "code",
   "execution_count": 24,
   "metadata": {},
   "outputs": [
    {
     "name": "stdout",
     "output_type": "stream",
     "text": [
      "K:/Universite_Simus/20230413/Time_and_temp_RFHEAT_N1024_alphavar_DC02_RF02.npz\n"
     ]
    }
   ],
   "source": [
    "# Plot windowed temperature\n",
    "# figure('Windowed T',clear='True')\n",
    "# semilogy(x_win*1e3, y_win,'+')\n",
    "# semilogy(x[::100]*1e3, y[::100],':',color='y')\n",
    "# grid()\n",
    "# tight_layout\n",
    "\n",
    "nv = 500\n",
    "log_temps = linspace(-3.1,3,nv)\n",
    "coolpow_05 = []\n",
    "coolpow_1 = []\n",
    "# coolpow_1_bis = []\n",
    "coolpow_2 = []\n",
    "coolpow_4 = []\n",
    "coolpow_6 = []\n",
    "# coolpow_8 = []\n",
    "coolpow_10 = []\n",
    "# coolpow_50 = []\n",
    "hotpow = []\n",
    "hotpow_1 = []\n",
    "for T in 10**log_temps:\n",
    "    v_thermique = sqrt(2*kb*T/m_Ca)\n",
    "    dv = 6*v_thermique/nv\n",
    "    coolpow_05.append( sum(cool_power(-3*v_thermique, 3*v_thermique, nv, T, -Gam/2, klam, Rab, Gam)[1])*dv*h_pl_bar*Gam/kb*tau_RF )\n",
    "    coolpow_1.append( sum(cool_power(-3*v_thermique, 3*v_thermique, nv, T, -Gam, klam, Rab, Gam)[1])*dv*h_pl_bar*Gam/kb*tau_RF )\n",
    "#     coolpow_1_bis.append( sum(cool_power(-3*v_thermique, 3*v_thermique, nv, T, -Gam, k, 2*Rab, Gam)[1])*dv*h_pl_bar*Gam/kb*tau_RF )\n",
    "    coolpow_2.append( sum(cool_power(-3*v_thermique, 3*v_thermique, nv, T, -2*Gam, klam, Rab, Gam)[1])*dv*h_pl_bar*Gam/kb*tau_RF )\n",
    "    coolpow_4.append( sum(cool_power(-3*v_thermique, 3*v_thermique, nv, T, -4*Gam, k, Rab, Gam)[1])*dv*h_pl_bar*Gam/kb*tau_RF )\n",
    "    coolpow_6.append( sum(cool_power(-3*v_thermique, 3*v_thermique, nv, T, -6*Gam, k, Rab, Gam)[1])*dv*h_pl_bar*Gam/kb*tau_RF )\n",
    "#     coolpow_8.append( sum(cool_power(-3*v_thermique, 3*v_thermique, nv, T, -8*Gam, k, Rab, Gam)[1])*dv*h_pl_bar*Gam/kb*tau_RF )\n",
    "    coolpow_10.append( sum(cool_power(-3*v_thermique, 3*v_thermique, nv, T, -10*Gam, k, Rab, Gam)[1])*dv*h_pl_bar*Gam/kb*tau_RF )\n",
    "#     coolpow_50.append( sum(cool_power(-3*v_thermique, 3*v_thermique, nv, T, -50*Gam, k, Rab, Gam)[1])*dv*h_pl_bar*Gam/kb*tau_RF )\n",
    "    hotpow.append( sum(hot_power(-dv*nv/2, dv*nv/2, nv, T, -Gam/2, klam, Rab, Gam))*dv*h_pl_bar**2*klam**2/m_Ca*Gam/kb*tau_RF )\n",
    "    hotpow_1.append( sum(hot_power(-dv*nv/2, dv*nv/2, nv, T, -Gam, klam, Rab, Gam))*dv*h_pl_bar**2*klam**2/m_Ca*Gam/kb*tau_RF )\n",
    "my_color=[7,2,6,3,3] # \n",
    "figname = 'dT_vs_T_g_10g'\n",
    "fig = figure(figname,clear='True')\n",
    "fig.set_size_inches(11.7, 8.3)\n",
    "ax1 = fig.add_subplot(111)\n",
    "\n",
    "# ax.semilogy(x_win[:-1]*1e3, diff(y_win)/window_samp,'+')\n",
    "incr = 0\n",
    "choosen_plot = [0]\n",
    "start_lim = [0,0,750,755,20]\n",
    "end_lim   = [1950,650,75,150,50]\n",
    "for to_plot in choosen_plot: # [4,15,24] 1,12,21 3,14,23\n",
    "    print(file_path[to_plot])\n",
    "    my_try = int(file_path[to_plot][file_path[to_plot].find('DC')+2:file_path[to_plot].find('DC')+4])\n",
    "    ax1.loglog(y_win[to_plot][start_lim[to_plot]:-1-end_lim[to_plot]],\n",
    "               diff(y_win[to_plot][start_lim[to_plot]:-end_lim[to_plot]])/window_samp, # dT par tau RF\n",
    "              marker='.',ms=14,mec='k',mew=0.2,ls='',color=cm4((incr+0.3)/4),\n",
    "              label=f'{q[my_try]}')\n",
    "    incr+=1\n",
    "\n",
    "max_H = 50\n",
    "ax1.loglog(y_win[0][max_H-50:max_H+15-1], diff(y_win[0][max_H-50:max_H+15])/window_samp,\n",
    "      marker=' ',ls=':',lw=2.5,color=cm4((0+0.3)/4))\n",
    "\n",
    "doyouwantallthelabels = False\n",
    "if doyouwantallthelabels == True:\n",
    "#     ax1.loglog(10**log_temps,coolpow_05,ls=\"-\",color='xkcd:red',lw=4,label='$-0.5\\Gamma$')\n",
    "    ax1.loglog(10**log_temps,coolpow_1,ls=\"-\",marker='+',color='xkcd:red',lw=4,label='$-\\Gamma$')\n",
    "#     ax1.loglog(10**log_temps,coolpow_4,ls=\"dashdot\",color='xkcd:red',lw=4,label='$-4\\Gamma$')  # cm3j(3/10)\n",
    "    ax1.loglog(10**log_temps,coolpow_10,ls=\"--\",color='xkcd:red',lw=4,label='$-10\\Gamma$') # cm3j(9/10) (0,(1,1))\n",
    "#     ax1.loglog(10**log_temps[:nv-50],hotpow[:nv-50],ls='-',color='k',lw=4,label='$H_e(-\\Gamma/2)$') # 'dashdot'\n",
    "    ax1.loglog(10**log_temps[:nv],hotpow_1[:nv],ls='-',color='k',lw=4,label='$H_e(-\\Gamma)$') # 'dashdot'\n",
    "else:\n",
    "#     ax1.loglog(10**log_temps,coolpow_05,ls=\"-\",color='xkcd:red',lw=4)\n",
    "    ax1.loglog(10**log_temps,coolpow_1,ls=\"-\",marker='P',color='xkcd:red',lw=4)\n",
    "#     ax1.loglog(10**log_temps,coolpow_4,ls=\"dashdot\",color='xkcd:red',lw=4)  # cm3j(3/10)\n",
    "    ax1.loglog(10**log_temps,coolpow_10,ls='--',color='xkcd:red',lw=4) # cm3j(9/10) (0, (3, 5, 1, 5, 1, 5)) (0,(1,1))\n",
    "#     ax1.loglog(10**log_temps[:nv-158],hotpow[:nv-158],ls='-',color='k',lw=4) # 'dashdot' xkcd:purple\n",
    "    ax1.loglog(10**log_temps[:nv-150],hotpow_1[:nv-150],ls='-',color='k',lw=4) # 'dashdot'\n",
    "\n",
    "\n",
    "ax1.set_xlabel('$T$ (K)')\n",
    "ax1.set_ylabel(r'$\\mathrm{d}T/\\mathrm{d}t\\; (K/\\tau_{RF})$')\n",
    "ax1.grid()\n",
    "ax1.grid(True, which=\"minor\", ls=\":\", color='0.80')\n",
    "ax1.legend(title=f'$q_x$',loc=4,ncol=1,fontsize=22)\n",
    "ax1.set_xlim(7e-3,0.3e3)\n",
    "ax1.set_ylim(1e-8,1e-1)\n",
    "\n",
    "tight_layout()\n",
    "\n",
    "# savefig(figname+'qvar'+'.eps',dpi=300)\n",
    "# savefig(figname+'qvar'+'.jpg',dpi=300)"
   ]
  },
  {
   "cell_type": "code",
   "execution_count": 248,
   "metadata": {},
   "outputs": [],
   "source": [
    "from scipy import signal"
   ]
  },
  {
   "cell_type": "code",
   "execution_count": 26,
   "metadata": {},
   "outputs": [
    {
     "name": "stderr",
     "output_type": "stream",
     "text": [
      "H:\\Programmes\\Anaconda3\\envs\\py307\\lib\\site-packages\\ipykernel_launcher.py:62: RuntimeWarning: invalid value encountered in log10\n",
      "H:\\Programmes\\Anaconda3\\envs\\py307\\lib\\site-packages\\ipykernel_launcher.py:71: RuntimeWarning: invalid value encountered in sign\n"
     ]
    },
    {
     "name": "stdout",
     "output_type": "stream",
     "text": [
      "[  0   1   2   3   4   5   6   7   8   9  10  11  12  13  14  15  16  17\n",
      "  18  19  20  21  22  23  24  25  26  27  28  29  30  31  32  33  34  35\n",
      "  36  37  38  39  40  41  42  43  44  45  46  47  48  49  50  51  52  53\n",
      "  54  55  56  57  58  59  60  61  62  63  64  65  66  67  68  69  70  71\n",
      "  72  73  74  75  76  77  78  79  80  81  82  83  84  85  86  87  88  89\n",
      "  90  91  92  93  94  95  96  97  98  99 100 101 102 103 104 105 106 107\n",
      " 108 109 110 111 112 113 114 115 116 117 118 119 120 121 122 123 124 125\n",
      " 126 127 128 129 130 131 132 133 134 135 136 137 138 139 140 141 142 143\n",
      " 144 145 146 147 148 149 150 151 152 153 154 155 156 157 158 159 160 161\n",
      " 162 163 164 165 166 167 168 169 170 171 172 173 174 175 176 177 178 179\n",
      " 180 181 182 183 184 185 186 187 188 189 190 191 192 193 194 195 196 197\n",
      " 198 199 200 201 202 203 204 205 206 207 208 209 210 211 212 213 214 215\n",
      " 216 217 218 219 220 221 222 223 224 225 226 227 228 229 230 231 232 233\n",
      " 234 235 236 237 238 239 240 241 242 243 244 245 246 247 248 249 250 251\n",
      " 252 253 254 255 256 257 258 259 260 261 262 263 264 265 266 267 268 269\n",
      " 270 271 272 273 274 275 276 277 278 279 280 281 282 283 284 285 286 287\n",
      " 288 289 290 291 292 293 294 295 296 297 298 299 300 301 302 303 304 305\n",
      " 306 307 308 309 310 311 312 313 314 315 316 317 318 319 320 321 322 323\n",
      " 324 325 326 327 328 329 330 331 332 333 334 335 336 337 338 339 340 341\n",
      " 342 343 344 345 346 347 348 349 350 351 352 353 354 355 356 357 358 359\n",
      " 360 361 362 363 364 365 366 367 368 369 370 371 372 373 374 375 376 377\n",
      " 378 379 380 381 382 383 384 385 386 387 388 389 390 391 392 393 394 395\n",
      " 396 397 398 399 400 401 402 403 404 405 406 407 408 409 410 411 412 413\n",
      " 414 415 416 417 418 419 420 421 422 423 424 425 426 427 428 429 430 431\n",
      " 432 433 434 435 436 437 438 439 440 441 442 443 444 445 446 447 448 449\n",
      " 450 451 452 453 454 455 456 457 458 459 460 461 462 463 464 465 466 467\n",
      " 468 469 470 471 472 473 474 475 476 477 478 479 480 481 482 483 484 485\n",
      " 486 487 488 489 490 491 492 493 494 495 496 497 498 499 500 501 502 503\n",
      " 504 505 506 507 508 509 510 511 512 513 514 515 516 517 518 519 520 521\n",
      " 522 523 524 525 526 527 528 529 530 531 532 533 534 535 536 537 538 539\n",
      " 540 541 542 543 544 545 546 547 548 549 550 551 552 553 554 555 556 557\n",
      " 558 559 560 561 562 563 564 565 566 567 568 569 570 571 572 573 574 575\n",
      " 576 577 578 579 580 581 582 583 584 585 586 587 588 589 590 591 592 593\n",
      " 594 595 596 597 598 599 600 601 602 603 604 605 606 607 608 609 610 611\n",
      " 612 613 614 615 616 617 618 619 620 621 622 623 624 625 626 627 628 629\n",
      " 630 631 632 633 634 635 636 637 638 639 640 641 642 643 644 645 646 647\n",
      " 648 649 650 651 652 653 654 655 656 657 658 659 660 661 662 663 664 665\n",
      " 666 667 668 669 670 671 672 673 674 675 676 677 678 679 680 681 682 683\n",
      " 684 685 686 687 688 689 690 691 692 693 694 695 696 697 698 699 700 701\n",
      " 702 703 704 705 706 707 708 709 710 711 712 713 714 715 716 717 718 719\n",
      " 720 721 722 723 724 725 726 727 728 729 730 731 732 733 734 735 736 737\n",
      " 738 739 740 741 742 743 744 745 746 747 748 749 750 751 752 753 754 755\n",
      " 756 757 758 759 760 761 762 763 764 765 766 767 768 769 770 771 772 773\n",
      " 774 775 776 777 778 779 780 781 782 783 784 785 786 787 788 789 790 791\n",
      " 792 793 794 795 796 797 798 799 800 801 802 803 804 805 806 807 808 809\n",
      " 810 811 812 813 814 815 816 817 818 819 820 821 822 823 824 825 826 827\n",
      " 828 829 830 831 832 833 834 835 836 837 838 839 840 841 842 843 844 845\n",
      " 846 847 848 849 850 851 852 853 854 855 856 857 858 859 860 861 862 863\n",
      " 864 865 866 867 868 869 870 871 872 873 874 875 876 877 878 879 880 881\n",
      " 882 883 884 885 886 887 888 889 890 891 892 893 894 895 896 897 898 899\n",
      " 900 901 902 903 904 905 906 907 908 909 910 911 912 913 914 915 916 917\n",
      " 918 919 920 921 922 923 924 925 926 927 928 929 930 931 932 933 934 935\n",
      " 936 937 938 939 940 941 942 943 944 945 946 947 948 949 950 951 952 953\n",
      " 954 955 956 957 958 959 960 961 962 963 964 965 966 967 968 969 970 971\n",
      " 972 973 974 975 976 977 978 979 980 981 982 983 984 985 986 987 988 989\n",
      " 990 991 992 993 994 995 996 997 998]\n",
      "0.050624500000000044 0.15062450000000008\n"
     ]
    }
   ],
   "source": [
    "# Find the Temperature for G = H\n",
    "# First I find, for each H curve, the point just below G\n",
    "# Then linear interpol between this point and the next\n",
    "# to refine intersection point\n",
    "# be careful linear in log\n",
    "\n",
    "\n",
    "idx = []\n",
    "heating = []\n",
    "x = []\n",
    "x_max = [60, 25, 850, 900, 100]\n",
    "\n",
    "# Generate G cooling curve\n",
    "# with the same H heating curve resolution\n",
    "coolpow_05_interpol = []\n",
    "coolpow_1_interpol  = []\n",
    "t0_interpol = []\n",
    "choosen_plot = [0]\n",
    "for to_plot in choosen_plot:\n",
    "    x.append(y_win[to_plot][:x_max[to_plot]])\n",
    "    coolpow_05_interpol.append([])\n",
    "    coolpow_1_interpol.append([])\n",
    "    for T in x[to_plot]:\n",
    "        v_thermique = sqrt(2*kb*T/m_Ca)\n",
    "        dv = 6*v_thermique/nv\n",
    "        coolpow_05_interpol[to_plot].append( sum(cool_power(-3*v_thermique, 3*v_thermique, nv, T, -Gam/2, klam, Rab, Gam)[1])*dv*h_pl_bar*Gam/kb*tau_RF )\n",
    "        coolpow_1_interpol[to_plot].append( sum(cool_power(-3*v_thermique, 3*v_thermique, nv, T, -Gam, klam, Rab, Gam)[1])*dv*h_pl_bar*Gam/kb*tau_RF )\n",
    "\n",
    "    heating.append(diff(x[to_plot])/window_samp)\n",
    "    # Find index where both curve crosses\n",
    "    # in fact the point just before crossing\n",
    "    idx_temp = np.argwhere(np.diff(np.sign( array( heating[to_plot] )  - array( coolpow_1_interpol[to_plot][:-1] ) ))).flatten()\n",
    "    try:\n",
    "        idx.append(idx_temp[0])\n",
    "    except :\n",
    "        idx.append(0)\n",
    "\n",
    "\n",
    "figname = 't0_interpol'\n",
    "fig = figure(figname,clear='True')\n",
    "fig.set_size_inches(11.7, 8.3)\n",
    "ax1 = fig.add_subplot(111)\n",
    "incr = 0\n",
    "# t0_interpol = []\n",
    "# Going to produce a linear interpolation\n",
    "# between the two points\n",
    "# For each heating rate curve\n",
    "# one point below the cooling\n",
    "# one point above\n",
    "# linear interpolation of both G and H\n",
    "# then find the intersection point\n",
    "\n",
    "t0_linear_interpol = []\n",
    "T_interpol = []\n",
    "for to_plot in choosen_plot:\n",
    "    ax1.loglog(x[to_plot][:-1], diff(x[to_plot])/window_samp, color=cm4((incr+0.3)/4),marker='o',ls='')\n",
    "    ax1.loglog(x[to_plot][idx[to_plot]], diff(x[to_plot])[idx[to_plot]]/window_samp, color=cm4((incr+0.3)/4),marker='x',ms=15,ls='')\n",
    "    ax1.loglog(10**log_temps,coolpow_1,ls=\"-\",marker='P',color='xkcd:red',lw=4)\n",
    "    \n",
    "    # create linear interpolations\n",
    "    x_lin = np.linspace( log10(x[to_plot][idx[to_plot]]),log10(x[to_plot][idx[to_plot]+1]),1000 )\n",
    "    y_win_lin = np.linspace( log10(diff(x[to_plot])[idx[to_plot]]/window_samp),log10(diff(x[to_plot])[idx[to_plot]+1]/window_samp),1000 )\n",
    "    coolpow_05_lin = []\n",
    "    coolpow_1_lin = []\n",
    "    for T in 10**x_lin:\n",
    "        v_thermique = sqrt(2*kb*T/m_Ca)\n",
    "        dv = 6*v_thermique/nv\n",
    "        coolpow_05_lin.append( sum(cool_power(-3*v_thermique, 3*v_thermique, nv, T, -Gam/2, klam, Rab, Gam)[1])*dv*h_pl_bar*Gam/kb*tau_RF )\n",
    "        coolpow_1_lin.append( sum(cool_power(-3*v_thermique, 3*v_thermique, nv, T, -Gam, klam, Rab, Gam)[1])*dv*h_pl_bar*Gam/kb*tau_RF )\n",
    "\n",
    "    idx_lin = np.argwhere(np.diff(np.sign( coolpow_1_lin - 10**y_win_lin ))).flatten()\n",
    "    print(idx_lin)\n",
    "    ax1.loglog(10**x_lin[idx_lin],10**y_win_lin[idx_lin], color=cm4((incr+0.3)/4),marker='P',ms=15,ls='')\n",
    "    \n",
    "    incr+=1\n",
    "    try:\n",
    "        T_interpol.append(x_lin[idx_lin][0])\n",
    "#         print(idx_lin[0])\n",
    "        print(x_win[to_plot][idx[to_plot]]*1e3,x_win[to_plot][idx[to_plot]+1]*1e3)\n",
    "#         print(to_plot)\n",
    "#        t0_linear_interpol.append()  \n",
    "    except :\n",
    "        T_interpol.append(-10)\n",
    "#         t0_linear_interpol.append() \n",
    "    \n",
    "#     \n",
    "ax1.set_xlabel('T')\n",
    "ax1.set_ylabel('dT/dt')\n",
    "grid()\n",
    "tight_layout()"
   ]
  }
 ],
 "metadata": {
  "kernelspec": {
   "display_name": "Python 3",
   "language": "python",
   "name": "python3"
  },
  "language_info": {
   "codemirror_mode": {
    "name": "ipython",
    "version": 3
   },
   "file_extension": ".py",
   "mimetype": "text/x-python",
   "name": "python",
   "nbconvert_exporter": "python",
   "pygments_lexer": "ipython3",
   "version": "3.7.6"
  }
 },
 "nbformat": 4,
 "nbformat_minor": 5
}
