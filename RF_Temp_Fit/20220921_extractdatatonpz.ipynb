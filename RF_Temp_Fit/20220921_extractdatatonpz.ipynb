{
 "cells": [
  {
   "cell_type": "code",
   "execution_count": 1,
   "id": "daa8f4c3",
   "metadata": {},
   "outputs": [
    {
     "name": "stdout",
     "output_type": "stream",
     "text": [
      "Using matplotlib backend: TkAgg\n",
      "Populating the interactive namespace from numpy and matplotlib\n"
     ]
    },
    {
     "data": {
      "text/html": [
       "<style>.container { width:95% !important; }</style>"
      ],
      "text/plain": [
       "<IPython.core.display.HTML object>"
      ]
     },
     "metadata": {},
     "output_type": "display_data"
    }
   ],
   "source": [
    "%pylab\n",
    "from IPython.display import display, HTML\n",
    "display(HTML(\"<style>.container { width:95% !important; }</style>\"))"
   ]
  },
  {
   "cell_type": "code",
   "execution_count": 2,
   "id": "76e5594e",
   "metadata": {},
   "outputs": [],
   "source": [
    "from scipy.optimize import curve_fit\n",
    "from scipy.signal import savgol_filter\n",
    "\n",
    "import tkinter as tk\n",
    "from tkinter import filedialog\n",
    "\n",
    "import os\n",
    "\n",
    "from scipy import signal\n",
    "import scipy.integrate as integrate\n",
    "\n",
    "# %matplotlib qt"
   ]
  },
  {
   "cell_type": "code",
   "execution_count": 3,
   "id": "39f3f8cf",
   "metadata": {},
   "outputs": [
    {
     "name": "stdout",
     "output_type": "stream",
     "text": [
      "[1, 13, 26, 39, 52, 65, 78, 91, 104, 117]\n",
      "[12, 24, 37, 50, 63, 76, 89, 102, 115, 128]\n"
     ]
    }
   ],
   "source": [
    "n_core = 10\n",
    "N = 256/2\n",
    "print(list(linspace(1,N+1-N//n_core,n_core,dtype='int')))\n",
    "print(list(linspace(N//n_core,N,n_core,dtype='int')))\n",
    "\n",
    "n_dt = 5000\n",
    "\n",
    "# integer          , parameter :: ia(ni)=[1,257,513,769]\n",
    "# integer          , parameter :: ib(ni)=[256,512,768,1024]"
   ]
  },
  {
   "cell_type": "code",
   "execution_count": 4,
   "id": "916883eb",
   "metadata": {
    "scrolled": true
   },
   "outputs": [],
   "source": [
    "%run functions\n",
    "matplotlib.rcParams.update({'font.size': 25})"
   ]
  },
  {
   "cell_type": "code",
   "execution_count": 5,
   "id": "efce5ee7",
   "metadata": {},
   "outputs": [
    {
     "name": "stdout",
     "output_type": "stream",
     "text": [
      "$\\kappa_{simion}$ = 0.270471\n"
     ]
    }
   ],
   "source": [
    "# Constantes de la physique\n",
    "# ABSOLUMENT RECHARGER APRÈS AVOIR EXECUTÉ LES CASES D'IMPORT AU DESSUS\n",
    "\n",
    "C_e = 1.602e-19        # Coulomb\n",
    "kb = 1.38064852*1e-23  # Boltzman\n",
    "m_Ca = 40.078*1.66054e-27 # masse Ca 40.078\n",
    "m_GM = 1e6*1.66054e-27 # la masse de la GMol\n",
    "eps0 = 8.854187*1e-12  # permittivité électrique du vide\n",
    "\n",
    "r0 = 2.5e-3 # 2.5e-3   # rayon piège Ca+\n",
    "d0 = 4e-3/2            # longueur piège Ca+\n",
    "\n",
    "Omega = 2.05e6*2*pi # 2.047e6\n",
    "\n",
    "bk = 4 # nombre de barreaux par groupe (2 -> 4-pole , 4 -> 8-pole ...)\n",
    "\n",
    "mkappa = 0.23          # écrantage piège réel GiantMol\n",
    "\n",
    "wzLC = (2*pi*90806.9982303)**2\n",
    "kappa_simion = m_Ca*d0**2*wzLC/(2*C_e)\n",
    "print('%s = %f' % ('$\\kappa_{simion}$',kappa_simion) )\n",
    "\n",
    "zeta = kappa_simion*r0**2/d0**2"
   ]
  },
  {
   "cell_type": "code",
   "execution_count": 8,
   "id": "02204cee",
   "metadata": {},
   "outputs": [
    {
     "name": "stdout",
     "output_type": "stream",
     "text": [
      "['/home/adrien/RemoteFS/Rivendel/Simulations/20221006/N1024/DC05_RF05/Try00', '/home/adrien/RemoteFS/Rivendel/Simulations/20221006/N1024/DC06_RF06/Try00', '/home/adrien/RemoteFS/Rivendel/Simulations/20221006/N1024/DC07_RF07/Try00', '/home/adrien/RemoteFS/Rivendel/Simulations/20221006/N1024/DC08_RF08/Try00', '/home/adrien/RemoteFS/Rivendel/Simulations/20221006/N1024/DC09_RF09/Try00', '/home/adrien/RemoteFS/Rivendel/Simulations/20221006/N1024/DC10_RF10/Try00', '/home/adrien/RemoteFS/Rivendel/Simulations/20221006/N1024/DC11_RF11/Try00', '/home/adrien/RemoteFS/Rivendel/Simulations/20221006/N1024/DC12_RF12/Try00', '/home/adrien/RemoteFS/Rivendel/Simulations/20221006/N1024/DC13_RF13/Try00', '/home/adrien/RemoteFS/Rivendel/Simulations/20221006/N1024/DC19_RF19/Try00', '/home/adrien/RemoteFS/Rivendel/Simulations/20221006/N1024/DC20_RF20/Try00', '/home/adrien/RemoteFS/Rivendel/Simulations/20221006/N1024/DC21_RF21/Try00', '/home/adrien/RemoteFS/Rivendel/Simulations/20221006/N1024/DC22_RF22/Try00', '/home/adrien/RemoteFS/Rivendel/Simulations/20221006/N1024/DC23_RF23/Try00', '/home/adrien/RemoteFS/Rivendel/Simulations/20221006/N1024/DC24_RF24/Try00', '/home/adrien/RemoteFS/Rivendel/Simulations/20221006/N1024/DC25_RF25/Try00', '/home/adrien/RemoteFS/Rivendel/Simulations/20221006/N1024/DC26_RF26/Try00', '/home/adrien/RemoteFS/Rivendel/Simulations/20221006/N1024/DC27_RF27/Try00', '/home/adrien/RemoteFS/Rivendel/Simulations/20221006/N1024/DC28_RF28/Try00', '/home/adrien/RemoteFS/Rivendel/Simulations/20221006/N1024_badRL/DC05_RF05/Try00', '/home/adrien/RemoteFS/Rivendel/Simulations/20221006/N1024_badRL/DC06_RF06/Try00', '/home/adrien/RemoteFS/Rivendel/Simulations/20221006/N1024_badRL/DC07_RF07/Try00', '/home/adrien/RemoteFS/Rivendel/Simulations/20221006/N1024_badRL/DC08_RF08/Try00', '/home/adrien/RemoteFS/Rivendel/Simulations/20221006/N1024_badRL/DC09_RF09/Try00', '/home/adrien/RemoteFS/Rivendel/Simulations/20221006/N1024_badRL/DC10_RF10/Try00', '/home/adrien/RemoteFS/Rivendel/Simulations/20221006/N1024_badRL/DC11_RF11/Try00', '/home/adrien/RemoteFS/Rivendel/Simulations/20221006/N1024_badRL/DC12_RF12/Try00', '/home/adrien/RemoteFS/Rivendel/Simulations/20221006/N1024_badRL/DC13_RF13/Try00', '/home/adrien/RemoteFS/Rivendel/Simulations/20221006/N256/DC05_RF05/Try00', '/home/adrien/RemoteFS/Rivendel/Simulations/20221006/N256/DC06_RF06/Try00', '/home/adrien/RemoteFS/Rivendel/Simulations/20221006/N256/DC07_RF07/Try00', '/home/adrien/RemoteFS/Rivendel/Simulations/20221006/N256/DC08_RF08/Try00', '/home/adrien/RemoteFS/Rivendel/Simulations/20221006/N256/DC09_RF09/Try00', '/home/adrien/RemoteFS/Rivendel/Simulations/20221006/N256/DC10_RF10/Try00', '/home/adrien/RemoteFS/Rivendel/Simulations/20221006/N256/DC11_RF11/Try00', '/home/adrien/RemoteFS/Rivendel/Simulations/20221006/N256/DC12_RF12/Try00', '/home/adrien/RemoteFS/Rivendel/Simulations/20221006/N256/DC13_RF13/Try00', '/home/adrien/RemoteFS/Rivendel/Simulations/20221006/N512/DC05_RF05/Try00', '/home/adrien/RemoteFS/Rivendel/Simulations/20221006/N512/DC06_RF06/Try00', '/home/adrien/RemoteFS/Rivendel/Simulations/20221006/N512/DC07_RF07/Try00', '/home/adrien/RemoteFS/Rivendel/Simulations/20221006/N512/DC08_RF08/Try00', '/home/adrien/RemoteFS/Rivendel/Simulations/20221006/N512/DC09_RF09/Try00', '/home/adrien/RemoteFS/Rivendel/Simulations/20221006/N512/DC10_RF10/Try00', '/home/adrien/RemoteFS/Rivendel/Simulations/20221006/N512/DC11_RF11/Try00', '/home/adrien/RemoteFS/Rivendel/Simulations/20221006/N512/DC12_RF12/Try00', '/home/adrien/RemoteFS/Rivendel/Simulations/20221006/N512/DC13_RF13/Try00']\n"
     ]
    }
   ],
   "source": [
    "file_path = '/home/adrien/RemoteFS/Rivendel/Simulations/20221006' # 20220610\n",
    "# file_path = '/home/adrien/RemoteFS/Rivendel/Simulations/20220930' # 20220610\n",
    "# file_path = '/home/adrien/RemoteFS/Rivendel/Simulations/20220512'\n",
    "# file_path = '/home/adrien/RemoteFS/Rivendel/Simulations/20220510'\n",
    "\n",
    "all_subdir = []\n",
    "all_Temp = []\n",
    "all_trjN = []\n",
    "all_trj1 = []\n",
    "all_xva_3DHarmo = []\n",
    "all_xva_start = []\n",
    "\n",
    "# selection of all directories where\n",
    "# there are data files\n",
    "for i,j in enumerate(os.walk(file_path)):\n",
    "#     print(i,j)\n",
    "    if 'Try' in j[0]:\n",
    "        all_subdir.append(j[0])\n",
    "    # selection of all data files\n",
    "    # interesting me\n",
    "    for k,l in enumerate(j[2]):\n",
    "#         print(k,l)\n",
    "        if 'TrjN' in l:\n",
    "            all_trjN.append(j[0]+'/'+l)\n",
    "        if 'Trj1' in l:\n",
    "            all_trj1.append(j[0]+'/'+l)\n",
    "            #print(l)\n",
    "        if 'Temp_SimuType0' in l and '.dat' in l:\n",
    "            all_Temp.append(j[0]+'/'+l)\n",
    "        if 'xva_3D' in l:\n",
    "            all_xva_3DHarmo.append(j[0]+'/'+l)\n",
    "        if 'xva_start' in l:\n",
    "            all_xva_start.append(j[0]+'/'+l)\n",
    "all_subdir.sort()\n",
    "all_Temp.sort()\n",
    "all_xva_3DHarmo.sort()\n",
    "all_xva_start.sort()\n",
    "all_trjN.sort()\n",
    "# for i in range(len(all_subdir)):\n",
    "#     print(all_subdir[i],'\\n',all_Temp[i],'\\n',all_trjN[i],'\\n')\n",
    "print(all_subdir)"
   ]
  },
  {
   "cell_type": "code",
   "execution_count": 7,
   "id": "afa2f85c",
   "metadata": {
    "collapsed": true
   },
   "outputs": [
    {
     "name": "stdout",
     "output_type": "stream",
     "text": [
      "DC13_RF13\n",
      "[36000000]\n"
     ]
    },
    {
     "ename": "KeyboardInterrupt",
     "evalue": "",
     "output_type": "error",
     "traceback": [
      "\u001b[0;31m---------------------------------------------------------------------------\u001b[0m",
      "\u001b[0;31mKeyboardInterrupt\u001b[0m                         Traceback (most recent call last)",
      "\u001b[0;32m/tmp/ipykernel_4619/1274010008.py\u001b[0m in \u001b[0;36m<module>\u001b[0;34m\u001b[0m\n\u001b[1;32m     12\u001b[0m     \u001b[0mT_aux\u001b[0m \u001b[0;34m=\u001b[0m \u001b[0mdata\u001b[0m\u001b[0;34m[\u001b[0m\u001b[0;34m:\u001b[0m\u001b[0;34m,\u001b[0m\u001b[0;36m4\u001b[0m\u001b[0;34m:\u001b[0m\u001b[0;34m]\u001b[0m\u001b[0;34m\u001b[0m\u001b[0;34m\u001b[0m\u001b[0m\n\u001b[1;32m     13\u001b[0m     \u001b[0mT_aux_avg\u001b[0m \u001b[0;34m=\u001b[0m \u001b[0mmean\u001b[0m\u001b[0;34m(\u001b[0m\u001b[0mT_aux\u001b[0m\u001b[0;34m,\u001b[0m\u001b[0maxis\u001b[0m\u001b[0;34m=\u001b[0m\u001b[0;36m1\u001b[0m\u001b[0;34m)\u001b[0m\u001b[0;34m\u001b[0m\u001b[0;34m\u001b[0m\u001b[0m\n\u001b[0;32m---> 14\u001b[0;31m     \u001b[0mr2_v2\u001b[0m \u001b[0;34m=\u001b[0m \u001b[0mload_xv2rlim\u001b[0m\u001b[0;34m(\u001b[0m\u001b[0mall_trjN\u001b[0m\u001b[0;34m[\u001b[0m\u001b[0mj\u001b[0m\u001b[0;34m]\u001b[0m\u001b[0;34m)\u001b[0m\u001b[0;34m\u001b[0m\u001b[0;34m\u001b[0m\u001b[0m\n\u001b[0m\u001b[1;32m     15\u001b[0m     \u001b[0;31m#r2    = r2_v2[0:3,:]\u001b[0m\u001b[0;34m\u001b[0m\u001b[0;34m\u001b[0m\u001b[0m\n\u001b[1;32m     16\u001b[0m     \u001b[0;31m#v2    = r2_v2[3:6,:]\u001b[0m\u001b[0;34m\u001b[0m\u001b[0;34m\u001b[0m\u001b[0m\n",
      "\u001b[0;32m~/Documents/Programmes/Python/THESE/RF_Temp_Fit/functions.py\u001b[0m in \u001b[0;36mload_xv2rlim\u001b[0;34m(filename)\u001b[0m\n\u001b[1;32m     48\u001b[0m         \u001b[0mjunk\u001b[0m \u001b[0;34m=\u001b[0m \u001b[0mfromfile\u001b[0m\u001b[0;34m(\u001b[0m\u001b[0mfid\u001b[0m\u001b[0;34m,\u001b[0m \u001b[0mint32\u001b[0m\u001b[0;34m,\u001b[0m\u001b[0;36m1\u001b[0m\u001b[0;34m)\u001b[0m        \u001b[0;31m# Read record start tag\u001b[0m\u001b[0;34m\u001b[0m\u001b[0;34m\u001b[0m\u001b[0m\n\u001b[1;32m     49\u001b[0m         \u001b[0mprint\u001b[0m\u001b[0;34m(\u001b[0m\u001b[0mjunk\u001b[0m\u001b[0;34m)\u001b[0m\u001b[0;34m\u001b[0m\u001b[0;34m\u001b[0m\u001b[0m\n\u001b[0;32m---> 50\u001b[0;31m         \u001b[0mr2_v2\u001b[0m  \u001b[0;34m=\u001b[0m \u001b[0mfromfile\u001b[0m\u001b[0;34m(\u001b[0m\u001b[0mfid\u001b[0m\u001b[0;34m,\u001b[0m \u001b[0mfloat64\u001b[0m\u001b[0;34m,\u001b[0m \u001b[0mjunk\u001b[0m\u001b[0;34m[\u001b[0m\u001b[0;36m0\u001b[0m\u001b[0;34m]\u001b[0m\u001b[0;34m//\u001b[0m\u001b[0;36m8\u001b[0m\u001b[0;34m)\u001b[0m\u001b[0;34m;\u001b[0m\u001b[0;34m\u001b[0m\u001b[0;34m\u001b[0m\u001b[0m\n\u001b[0m\u001b[1;32m     51\u001b[0m         \u001b[0mjunk\u001b[0m \u001b[0;34m=\u001b[0m \u001b[0mfromfile\u001b[0m\u001b[0;34m(\u001b[0m\u001b[0mfid\u001b[0m\u001b[0;34m,\u001b[0m \u001b[0mint32\u001b[0m\u001b[0;34m,\u001b[0m\u001b[0;36m1\u001b[0m\u001b[0;34m)\u001b[0m        \u001b[0;31m# Read record stop tag\u001b[0m\u001b[0;34m\u001b[0m\u001b[0;34m\u001b[0m\u001b[0m\n\u001b[1;32m     52\u001b[0m         \u001b[0mprint\u001b[0m\u001b[0;34m(\u001b[0m\u001b[0mjunk\u001b[0m\u001b[0;34m)\u001b[0m\u001b[0;34m\u001b[0m\u001b[0;34m\u001b[0m\u001b[0m\n",
      "\u001b[0;31mKeyboardInterrupt\u001b[0m: "
     ]
    }
   ],
   "source": [
    "for j,k in enumerate(all_subdir):\n",
    "    str_N  = all_Temp[j].find('_N')\n",
    "    cond_N = all_Temp[j][str_N+3:str_N+7]\n",
    "    str_v  = all_subdir[j].find('DC')\n",
    "    cond   = all_Temp[j][str_v:str_v+9]\n",
    "    print(cond)\n",
    "    outfile = 'Time_and_temp_RFHEAT_N'+ str(cond_N) + '_' + str(cond)\n",
    "    \n",
    "    data = loadtxt(all_Temp[j])\n",
    "    time_s = data[:,0]\n",
    "    T_CM = data[:,1:4]\n",
    "    T_aux = data[:,4:]\n",
    "    T_aux_avg = mean(T_aux,axis=1)\n",
    "    r2_v2 = load_xv2rlim(all_trjN[j])\n",
    "    #r2    = r2_v2[0:3,:]\n",
    "    #v2    = r2_v2[3:6,:]\n",
    "    #rlim  = r2_v2[6:9,:]\n",
    "    \n",
    "    np.savez( outfile, time=time_s, temp=T_aux_avg, r2_v2_rlim=r2_v2) # dirname_hc=re.sub(r'\\\\',r'/',dirname_hc)\n",
    "    print(outfile) # , r2_v2_rlim=r2_v2"
   ]
  },
  {
   "cell_type": "code",
   "execution_count": 9,
   "id": "08fc756c",
   "metadata": {},
   "outputs": [],
   "source": [
    "def load_xyz_init_bin_DP(str_load):\n",
    "    fid = open(str_load+'.bin',  'rb')   \n",
    "    a    = fromfile(fid,  int32, 1)        # Read record start tag   \n",
    "    aux  = fromfile(fid,  int32, 1)   \n",
    "    junk = fromfile(fid,  int32, 1)        # Read record stop tag   \n",
    "    N_ions = aux[0]   \n",
    "\n",
    "    b    = fromfile(fid,  int32, 1)        # Read record start tag   \n",
    "    aux  = fromfile(fid,  int32, 1)   \n",
    "    junk = fromfile(fid,  int32, 1)        # Read record stop tag   \n",
    "    j_save = aux[0]     \n",
    "\n",
    "    d    = fromfile(fid,  int32, 1)        # Read record start tag   \n",
    "    dt   = fromfile(fid,  float64, 1)   \n",
    "    junk = fromfile(fid,  int32, 1)        # Read record stop tag\n",
    "    \n",
    "    e    = fromfile(fid,  int32,   1   )        # Read record start tag   \n",
    "    iRF  = fromfile(fid,  int32, 3)   \n",
    "    junk = fromfile(fid,  int32,   1   )        # Read record stop tag   \n",
    "\n",
    "    f    = fromfile(fid,  int32,   1   )        # Read record start tag \n",
    "    print(f)\n",
    "    save_xva = fromfile(fid,  float64, 12*N_ions)   \n",
    "    junk = fromfile(fid,  int32,   1   )        # Read record stop tag\n",
    "    print(junk)\n",
    "\n",
    "    fid.close\n",
    "    save_xva = reshape(save_xva, (12,N_ions), order='F')\n",
    "\n",
    "    return save_xva\n",
    "\n",
    "def plot_XYZ(file_name,fig_name='2',fig_title='XYZ'):\n",
    "    save_xva = load_xyz_init_bin_DP(file_name)\n",
    "    r_LC = save_xva[0:3,:] \n",
    "    v_LC = save_xva[3:6,:]\n",
    "    a_LC = save_xva[6:9,:]\n",
    "    v_LC_avg = save_xva[9:,:]\n",
    "    print(r_LC)\n",
    "    fig = figure(fig_name); clf()\n",
    "#     title(fig_title)\n",
    "    gs = GridSpec(2,2, figure=fig)\n",
    "    ax1 = fig.add_subplot(gs[0, :])\n",
    "    ax2 = fig.add_subplot(gs[1, 0],aspect=1.0)\n",
    "    ax3 = fig.add_subplot(gs[1, 1],aspect=1.0)\n",
    "    ax1.plot(r_LC[2,:]*1e6,r_LC[0,:]*1e6,'8',color='xkcd:purplish blue')\n",
    "    ax1.set_xlabel('z [µm]')\n",
    "    ax1.set_ylabel('x [µm]')\n",
    "    ax1.grid()\n",
    "\n",
    "    # subplot(212,aspect=1.0)\n",
    "    ax2.plot(r_LC[2,:]*1e6,r_LC[0,:]*1e6,'8',color='xkcd:purplish blue')\n",
    "    ax2.set_xlabel('z [µm]')\n",
    "    ax2.set_ylabel('x [µm]')\n",
    "    ax2.grid()\n",
    "    \n",
    "    ax3.plot(r_LC[0,:]*1e6,r_LC[1,:]*1e6,'8',color='xkcd:purplish blue')\n",
    "    ax3.set_xlabel('x [µm]')\n",
    "    ax3.set_ylabel('y [µm]')\n",
    "    ax3.grid()\n",
    "    \n",
    "    tight_layout()\n",
    "\n",
    "def load_xva_init_bin_Lan(str_load, flag_print):      \n",
    "    fid = open(str_load+'.bin',  'rb')   \n",
    "    a    = fromfile(fid,  int32, 1)        # Read record start tag   \n",
    "    aux  = fromfile(fid,  int32, 1)   \n",
    "    junk = fromfile(fid,  int32, 1)        # Read record stop tag   \n",
    "    N_ions = aux[0]   \n",
    "\n",
    "    b    = fromfile(fid,  int32, 1)        # Read record start tag   \n",
    "    aux  = fromfile(fid,  int32, 1)   \n",
    "    junk = fromfile(fid,  int32, 1)        # Read record stop tag   \n",
    "    j_save = aux[0]     \n",
    "\n",
    "    d    = fromfile(fid,  int32, 1)        # Read record start tag   \n",
    "    dt   = fromfile(fid,  float64, 1)   \n",
    "    junk = fromfile(fid,  int32, 1)        # Read record stop tag\n",
    "    \n",
    "    e    = fromfile(fid,  int32,   1   )        # Read record start tag   \n",
    "    iRF  = fromfile(fid,  int32, 3)   \n",
    "    junk = fromfile(fid,  int32,   1   )        # Read record stop tag   \n",
    "\n",
    "    f    = fromfile(fid,  int32,   1   )        # Read record start tag \n",
    "    print(f)\n",
    "    save_xva = fromfile(fid,  float64, 12*N_ions)   \n",
    "    junk = fromfile(fid,  int32,   1   )        # Read record stop tag\n",
    "    print(junk)\n",
    "\n",
    "    fid.close\n",
    "    save_xva = reshape(save_xva, (12,N_ions), order='F')\n",
    "\n",
    "    return N_ions, j_save, dt, iRF, save_xva"
   ]
  },
  {
   "cell_type": "code",
   "execution_count": 10,
   "id": "cc4e1e3a",
   "metadata": {},
   "outputs": [
    {
     "name": "stdout",
     "output_type": "stream",
     "text": [
      "0 /home/adrien/RemoteFS/Rivendel/Simulations/20221006/N1024/DC05_RF05/Try00\n",
      "1 /home/adrien/RemoteFS/Rivendel/Simulations/20221006/N1024/DC06_RF06/Try00\n",
      "2 /home/adrien/RemoteFS/Rivendel/Simulations/20221006/N1024/DC07_RF07/Try00\n",
      "3 /home/adrien/RemoteFS/Rivendel/Simulations/20221006/N1024/DC08_RF08/Try00\n",
      "4 /home/adrien/RemoteFS/Rivendel/Simulations/20221006/N1024/DC09_RF09/Try00\n",
      "5 /home/adrien/RemoteFS/Rivendel/Simulations/20221006/N1024/DC10_RF10/Try00\n",
      "6 /home/adrien/RemoteFS/Rivendel/Simulations/20221006/N1024/DC11_RF11/Try00\n",
      "7 /home/adrien/RemoteFS/Rivendel/Simulations/20221006/N1024/DC12_RF12/Try00\n",
      "8 /home/adrien/RemoteFS/Rivendel/Simulations/20221006/N1024/DC13_RF13/Try00\n",
      "9 /home/adrien/RemoteFS/Rivendel/Simulations/20221006/N1024/DC19_RF19/Try00\n",
      "10 /home/adrien/RemoteFS/Rivendel/Simulations/20221006/N1024/DC20_RF20/Try00\n",
      "11 /home/adrien/RemoteFS/Rivendel/Simulations/20221006/N1024/DC21_RF21/Try00\n",
      "12 /home/adrien/RemoteFS/Rivendel/Simulations/20221006/N1024/DC22_RF22/Try00\n",
      "13 /home/adrien/RemoteFS/Rivendel/Simulations/20221006/N1024/DC23_RF23/Try00\n",
      "14 /home/adrien/RemoteFS/Rivendel/Simulations/20221006/N1024/DC24_RF24/Try00\n",
      "15 /home/adrien/RemoteFS/Rivendel/Simulations/20221006/N1024/DC25_RF25/Try00\n",
      "16 /home/adrien/RemoteFS/Rivendel/Simulations/20221006/N1024/DC26_RF26/Try00\n",
      "17 /home/adrien/RemoteFS/Rivendel/Simulations/20221006/N1024/DC27_RF27/Try00\n",
      "18 /home/adrien/RemoteFS/Rivendel/Simulations/20221006/N1024/DC28_RF28/Try00\n",
      "19 /home/adrien/RemoteFS/Rivendel/Simulations/20221006/N1024_badRL/DC05_RF05/Try00\n",
      "20 /home/adrien/RemoteFS/Rivendel/Simulations/20221006/N1024_badRL/DC06_RF06/Try00\n",
      "21 /home/adrien/RemoteFS/Rivendel/Simulations/20221006/N1024_badRL/DC07_RF07/Try00\n",
      "22 /home/adrien/RemoteFS/Rivendel/Simulations/20221006/N1024_badRL/DC08_RF08/Try00\n",
      "23 /home/adrien/RemoteFS/Rivendel/Simulations/20221006/N1024_badRL/DC09_RF09/Try00\n",
      "24 /home/adrien/RemoteFS/Rivendel/Simulations/20221006/N1024_badRL/DC10_RF10/Try00\n",
      "25 /home/adrien/RemoteFS/Rivendel/Simulations/20221006/N1024_badRL/DC11_RF11/Try00\n",
      "26 /home/adrien/RemoteFS/Rivendel/Simulations/20221006/N1024_badRL/DC12_RF12/Try00\n",
      "27 /home/adrien/RemoteFS/Rivendel/Simulations/20221006/N1024_badRL/DC13_RF13/Try00\n",
      "28 /home/adrien/RemoteFS/Rivendel/Simulations/20221006/N256/DC05_RF05/Try00\n",
      "29 /home/adrien/RemoteFS/Rivendel/Simulations/20221006/N256/DC06_RF06/Try00\n",
      "30 /home/adrien/RemoteFS/Rivendel/Simulations/20221006/N256/DC07_RF07/Try00\n",
      "31 /home/adrien/RemoteFS/Rivendel/Simulations/20221006/N256/DC08_RF08/Try00\n",
      "32 /home/adrien/RemoteFS/Rivendel/Simulations/20221006/N256/DC09_RF09/Try00\n",
      "33 /home/adrien/RemoteFS/Rivendel/Simulations/20221006/N256/DC10_RF10/Try00\n",
      "34 /home/adrien/RemoteFS/Rivendel/Simulations/20221006/N256/DC11_RF11/Try00\n",
      "35 /home/adrien/RemoteFS/Rivendel/Simulations/20221006/N256/DC12_RF12/Try00\n",
      "36 /home/adrien/RemoteFS/Rivendel/Simulations/20221006/N256/DC13_RF13/Try00\n",
      "37 /home/adrien/RemoteFS/Rivendel/Simulations/20221006/N512/DC05_RF05/Try00\n",
      "38 /home/adrien/RemoteFS/Rivendel/Simulations/20221006/N512/DC06_RF06/Try00\n",
      "39 /home/adrien/RemoteFS/Rivendel/Simulations/20221006/N512/DC07_RF07/Try00\n",
      "40 /home/adrien/RemoteFS/Rivendel/Simulations/20221006/N512/DC08_RF08/Try00\n",
      "41 /home/adrien/RemoteFS/Rivendel/Simulations/20221006/N512/DC09_RF09/Try00\n",
      "42 /home/adrien/RemoteFS/Rivendel/Simulations/20221006/N512/DC10_RF10/Try00\n",
      "43 /home/adrien/RemoteFS/Rivendel/Simulations/20221006/N512/DC11_RF11/Try00\n",
      "44 /home/adrien/RemoteFS/Rivendel/Simulations/20221006/N512/DC12_RF12/Try00\n",
      "45 /home/adrien/RemoteFS/Rivendel/Simulations/20221006/N512/DC13_RF13/Try00\n"
     ]
    }
   ],
   "source": [
    "for k,l in enumerate(all_subdir):\n",
    "    print(k,l)"
   ]
  },
  {
   "cell_type": "code",
   "execution_count": 181,
   "id": "3ce99128",
   "metadata": {
    "collapsed": true
   },
   "outputs": [
    {
     "name": "stdout",
     "output_type": "stream",
     "text": [
      "/home/adrien/RemoteFS/Rivendel/Simulations/20221006/N256/DC05_RF05/Try00\n",
      "[24576]\n",
      "[24576]\n",
      "[36000000]\n",
      "[36000000]\n",
      "/home/adrien/RemoteFS/Rivendel/Simulations/20221006/N256/DC05_RF05/Try00/xva_SimuType0_N00256_Vrf0055_Udc0.1041D+02V_nt1000_TrjN.bin\n",
      "[24576]\n",
      "[24576]\n",
      "[[-5.20007270e-05 -3.88117609e-05  2.73763410e-05 -5.06988488e-07\n",
      "   5.41729406e-06 -2.94024247e-05 -3.15080708e-05  5.15122317e-05\n",
      "   1.67525338e-05 -5.08459111e-06  2.39433215e-05 -5.29374490e-05\n",
      "  -4.08781267e-05 -3.45857365e-05 -5.23063364e-05 -6.54807214e-06\n",
      "  -1.22532216e-05 -2.48488641e-05 -2.13186705e-05  5.58496484e-05\n",
      "  -2.70298768e-05 -5.62049170e-06  1.38179833e-05 -1.40889779e-05\n",
      "  -9.77927348e-06  4.42215970e-05  1.73038491e-05 -3.79663613e-05\n",
      "  -1.80347198e-05 -2.18658654e-05 -6.04641688e-06  5.06647593e-05\n",
      "  -3.94548939e-05 -4.19102493e-05 -2.34805917e-06 -1.14594163e-05\n",
      "  -3.16848241e-05  1.83565231e-05 -4.63527643e-05 -1.97874188e-05\n",
      "  -8.13144341e-06  4.20372076e-06  2.67939279e-05  3.57160958e-05\n",
      "   8.14085408e-06  1.16435860e-05  3.80050066e-05  1.20661440e-05\n",
      "  -9.50055825e-06  1.09242211e-05  3.31607497e-05 -3.73789627e-05\n",
      "   2.11565007e-05  3.72759135e-05 -1.76769967e-05 -4.10193321e-05\n",
      "   8.12059149e-06  2.64149248e-05 -2.43973720e-05 -2.56265320e-06\n",
      "   4.64406399e-05 -3.48627896e-05 -1.70475689e-05 -1.41569762e-05\n",
      "  -1.08850727e-05  3.65355786e-05 -1.04852694e-05  2.40018724e-05\n",
      "   3.53981658e-05  6.38527683e-07  1.17360953e-05  4.23561247e-06\n",
      "   1.55898957e-05 -9.08344775e-06 -1.78757883e-06 -2.38931859e-06\n",
      "   1.32935361e-05  3.09408416e-07 -1.84932481e-05 -2.02136871e-05\n",
      "  -2.49543653e-05 -1.14120046e-05 -4.29082464e-05  2.20712553e-06\n",
      "   2.54732976e-05  2.72424232e-05 -3.17981557e-05 -4.83409816e-05\n",
      "   2.26432368e-05  2.02125124e-05 -1.95246914e-05  9.38585883e-06\n",
      "   2.34014984e-05  1.17263926e-05 -7.48346230e-06 -2.69606918e-05\n",
      "   1.13431818e-05  3.95371458e-05  3.35265146e-05 -5.43909269e-07\n",
      "   5.30857470e-05 -2.31782412e-07  5.32773730e-05  3.17578055e-05\n",
      "   3.61899570e-06 -3.54580147e-05  2.30809396e-05  2.32641501e-05\n",
      "   2.51664325e-05  2.17031779e-05 -1.59911722e-05 -4.40631059e-05\n",
      "   5.23361546e-05  1.35170793e-05 -2.14963744e-05 -4.38962144e-07\n",
      "   3.85699844e-05  1.46849489e-05  1.95184808e-05 -1.32851645e-05\n",
      "  -1.31102308e-05 -4.57866465e-05 -1.98982413e-05  2.98634450e-05\n",
      "   1.25513206e-05  2.35031268e-05  3.63201139e-05 -5.15902989e-05\n",
      "   1.94400716e-07 -2.11606951e-05  3.11070000e-06 -3.10061619e-05\n",
      "  -1.00678379e-05 -2.94453677e-05  1.59288372e-06 -8.15788132e-07\n",
      "   8.90329134e-06  7.03194891e-06 -3.31388816e-05 -3.20630195e-05\n",
      "   3.35845100e-05 -7.53713605e-06 -2.43003872e-05 -2.13817382e-05\n",
      "   1.82251686e-05  1.13771952e-05 -2.89748130e-05  2.50437994e-05\n",
      "   4.63285161e-06 -2.52847241e-05 -4.45959421e-05  3.40121758e-05\n",
      "   5.49080924e-06  1.74521048e-05  2.78222811e-06  4.39878807e-07\n",
      "  -3.01208807e-05 -1.19429892e-05  2.54493328e-05 -1.61678391e-05\n",
      "   4.59117943e-05  3.24064629e-05 -7.30251454e-06  4.45213295e-05\n",
      "   3.55327942e-05 -5.13233613e-07 -3.39008230e-05 -5.29954303e-05\n",
      "  -1.12706939e-05  2.49885156e-05 -2.86952671e-06  2.94216281e-05\n",
      "  -2.08969142e-05 -1.59665067e-05  8.18071818e-06  1.13227762e-05\n",
      "  -7.86632472e-06 -1.00589285e-05 -2.06832728e-05 -2.35031059e-05\n",
      "  -2.60878579e-05  4.17988653e-05 -6.07118146e-06  3.52929353e-06\n",
      "  -4.23503823e-05 -1.05837545e-05 -3.04038669e-05  4.71839291e-05\n",
      "  -3.62974672e-05  3.31820180e-05  2.14252473e-05  3.40631100e-05\n",
      "   1.13641988e-05 -3.58638806e-05 -2.63905765e-05  4.13253364e-05\n",
      "   7.47209317e-06  2.63302017e-05 -9.41043281e-06 -4.79105353e-05\n",
      "   4.52299442e-05 -3.17237031e-05 -2.92933294e-05 -1.30474776e-05\n",
      "  -4.16851844e-05  4.11681972e-05  4.65113097e-06  1.59519761e-05\n",
      "  -8.30921071e-06  2.08944039e-06  4.91293627e-06 -1.95215106e-05\n",
      "   1.02913988e-05  5.30255621e-05  1.83520435e-05  3.23634985e-05\n",
      "   1.45526104e-05  3.11526683e-05  8.72243919e-06 -4.54844803e-05\n",
      "  -1.61439015e-05 -3.62765958e-05 -4.59309323e-06  4.39700845e-05\n",
      "   2.47685645e-05  4.15219952e-05 -2.19070268e-05 -1.82657500e-05\n",
      "   1.40207379e-05  2.28898365e-05 -4.50176552e-05  4.30395720e-05\n",
      "   2.77701797e-05  1.26001545e-07 -7.72261323e-06  3.42479600e-05\n",
      "   1.06156661e-05 -1.08438569e-05 -3.51965912e-05  2.17160578e-05\n",
      "   1.23650581e-06 -5.53452845e-05 -3.55424808e-06 -2.33302105e-05\n",
      "   1.35739002e-05  4.52306217e-05  1.21883711e-05  1.32218478e-06\n",
      "   1.71545407e-05 -1.87034139e-05  3.22340549e-05 -3.48611666e-05\n",
      "   1.77305809e-05 -2.38569721e-05  4.54090666e-05 -5.16696469e-05]\n",
      " [-8.58114440e-06  1.88536365e-05 -1.01310905e-05  6.39579370e-06\n",
      "  -1.02243601e-05 -4.53782581e-05  1.77448380e-05 -1.53421914e-05\n",
      "  -5.57695480e-06  2.13082168e-05  2.59697245e-05  1.15694958e-05\n",
      "   7.57760609e-06  3.99745360e-05  1.96974931e-05  5.56740586e-05\n",
      "  -5.06640758e-05  2.08116417e-05 -1.47049595e-05 -1.28580146e-06\n",
      "   1.42732292e-05  4.07367467e-05  2.03634674e-05 -3.17104346e-05\n",
      "   3.73532968e-05  2.98010697e-05 -1.00106902e-07 -1.30811069e-05\n",
      "  -3.59975902e-05 -1.26248123e-05 -4.44993143e-05 -2.19349085e-05\n",
      "   1.16268451e-06  3.27097183e-05 -2.45911077e-05 -5.28503578e-05\n",
      "  -2.04005323e-05 -1.95128522e-05  1.82133790e-05  9.18390581e-06\n",
      "  -1.22191718e-05  3.24726631e-05  5.65667629e-06 -1.72406337e-05\n",
      "  -3.88228047e-05 -4.10555765e-05 -4.11619160e-06  3.58276509e-05\n",
      "  -1.65757016e-07 -4.00983632e-05  4.03017813e-05 -7.76103596e-06\n",
      "   4.89239078e-06  1.51322417e-05  3.48122689e-06 -1.05932638e-05\n",
      "   3.90929265e-05 -4.74570494e-05  2.73602049e-05 -2.88501247e-05\n",
      "   1.51526492e-05 -2.06762834e-05  2.49752835e-05  3.22228710e-05\n",
      "  -3.92633806e-05  3.97670105e-05  1.84268814e-05  2.46677339e-05\n",
      "  -2.29342464e-05  4.18152640e-06  1.66639286e-05 -2.21319167e-05\n",
      "   4.59059728e-05  5.21261371e-05 -4.24502541e-05  2.14631170e-05\n",
      "   1.78195469e-05  4.30346450e-05 -1.59414348e-06  3.17092681e-05\n",
      "   4.13413581e-05 -1.74537640e-06 -8.54100679e-06 -2.95196864e-05\n",
      "   1.01920460e-05  5.70568780e-06  2.08623429e-05 -3.88963793e-06\n",
      "  -1.40563604e-05 -4.73128280e-05 -5.08826418e-05  1.27676221e-05\n",
      "   4.98041131e-05 -8.98583800e-07  1.46589093e-05 -9.76610281e-06\n",
      "  -4.05459281e-06 -3.59065442e-05  1.80077495e-05  2.46034895e-05\n",
      "   2.63252505e-06 -5.50379533e-05  1.16699185e-05 -4.25452577e-05\n",
      "  -3.21412031e-05 -3.33431032e-05  7.59519961e-06 -3.14990850e-05\n",
      "  -2.72582572e-05  4.18456593e-05 -1.16314794e-05 -3.03249843e-05\n",
      "  -9.81117529e-06  3.66406399e-07 -3.10863940e-05  8.71869425e-06\n",
      "   2.67728939e-05  1.43899079e-05  2.82558290e-05 -1.34110423e-05\n",
      "   8.81128236e-06  2.40117549e-05 -4.45859012e-05 -8.55874455e-06\n",
      "   3.93585961e-05 -9.75820956e-06  3.69408631e-05 -2.09342390e-05\n",
      "   4.48304579e-05  2.76401889e-05  2.51921056e-05  4.26414683e-05\n",
      "   1.28386793e-05  9.16836286e-06  1.00068975e-05 -1.35308220e-07\n",
      "   3.18286718e-05 -1.36100365e-05 -4.21486761e-05 -2.42927510e-05\n",
      "  -3.80526193e-05 -4.07409125e-05  4.60728016e-05 -2.34363182e-05\n",
      "   1.93231254e-05  1.85335237e-05  3.06727633e-05  2.96150442e-05\n",
      "   1.00476324e-05 -4.29258216e-05 -2.30024816e-05 -2.04785084e-05\n",
      "  -1.65609615e-05 -1.58435972e-05 -1.01372477e-05 -1.52552564e-05\n",
      "  -2.42764597e-06  1.94043817e-05  4.71311249e-05 -2.08131538e-05\n",
      "   2.76548793e-05  1.86172802e-05  3.58907649e-05 -1.29368371e-05\n",
      "   2.40918825e-07 -4.84194430e-05 -3.48679068e-05  4.14402774e-06\n",
      "  -4.86948741e-06 -3.32288603e-05  4.70675109e-05 -3.54588018e-06\n",
      "   7.83656974e-06  5.00104963e-05 -5.40060788e-05 -6.59693152e-06\n",
      "  -2.06352216e-05  3.29416316e-05  2.14734183e-05 -3.05773651e-05\n",
      "  -2.00894154e-05  1.19729533e-06 -7.44088287e-07  3.73063341e-06\n",
      "   9.02682198e-06 -2.49152874e-05 -8.55047119e-07  4.49612997e-06\n",
      "   2.30474169e-06 -3.49997706e-06  2.91524415e-05 -1.91914237e-05\n",
      "  -1.99559313e-05  1.78145246e-05 -9.63142259e-07 -2.43340764e-05\n",
      "   8.88831612e-06  3.67507143e-05 -3.34251491e-05  6.78359389e-06\n",
      "   2.27736351e-05 -1.11508245e-05 -2.58745125e-05  3.69373084e-05\n",
      "  -3.49487611e-05  6.72137045e-06  5.31520423e-05 -2.55024324e-05\n",
      "   2.08926169e-05  2.86232418e-05 -5.15277786e-05 -3.52960427e-05\n",
      "   5.39245009e-05  1.74709345e-05 -4.62311560e-05 -3.73488096e-05\n",
      "  -1.96823672e-05  1.78875581e-05 -3.41078879e-05  3.04592160e-05\n",
      "   1.03213065e-05  2.92699192e-05 -2.13592471e-05 -3.17006264e-05\n",
      "  -2.84031203e-05  7.65279137e-06  5.04401091e-05  4.17032704e-05\n",
      "  -3.65214503e-05  8.95011457e-06 -2.16917482e-05 -9.10649920e-06\n",
      "  -1.44885110e-05 -1.09411320e-05 -9.05406452e-06  1.37743152e-05\n",
      "   5.03254060e-05 -2.31689923e-05  9.30369245e-06 -2.92369518e-05\n",
      "   2.79690644e-05 -1.68735044e-06 -2.94967250e-06 -2.41521614e-06\n",
      "   3.55559934e-05 -2.59578368e-05 -2.47710858e-05 -3.41413116e-05\n",
      "  -3.60527149e-06 -1.07842317e-05  3.09189171e-05  3.55169125e-05\n",
      "  -5.17135161e-05  9.68709292e-06 -8.04542361e-06 -1.43373793e-05]\n",
      " [-1.63481911e-05 -3.13593064e-05  2.60770447e-05  5.10039716e-05\n",
      "   3.47567661e-05 -9.76595368e-06  3.83043030e-05  1.49278065e-05\n",
      "  -4.87652288e-05  3.04928494e-05 -1.46734397e-05 -1.03366126e-05\n",
      "   3.39263926e-05 -3.38731715e-06  5.38469553e-06  1.94679161e-07\n",
      "   1.59807092e-05  2.23673275e-05  4.47066427e-05 -3.03802046e-07\n",
      "  -4.17712761e-05  9.56483609e-06  2.83693721e-05  2.14627976e-05\n",
      "   3.70082985e-05  1.13233695e-05  3.42017738e-05  3.42997678e-05\n",
      "   3.57409540e-05 -4.88310807e-06  2.88072794e-05 -1.65707815e-06\n",
      "  -1.28666646e-05  1.21854573e-05 -2.85059787e-05 -1.17068595e-05\n",
      "   6.72258392e-06 -2.45263288e-05  2.20911023e-05  1.12521367e-05\n",
      "  -1.60572760e-05  2.12077700e-05 -2.76849026e-05 -7.75537223e-06\n",
      "  -3.59502119e-05  3.11419902e-05 -3.71520469e-05 -3.81972847e-05\n",
      "   1.82764973e-05  8.61659240e-06  1.52969320e-05  1.59158936e-05\n",
      "  -1.16202694e-05 -3.53546723e-05 -4.87130187e-05 -2.68491844e-06\n",
      "   3.52538784e-05 -8.67628280e-06 -9.20195616e-06 -4.29505676e-05\n",
      "   2.16460385e-05 -3.45349760e-05 -4.16316821e-05  2.26080602e-05\n",
      "  -3.45649065e-05  4.23100871e-08  4.70388345e-05 -4.06417998e-05\n",
      "  -3.07385210e-05 -8.96428502e-06  4.77016438e-05 -1.25302774e-05\n",
      "   2.25951298e-05 -1.67032286e-05 -8.64219227e-06 -3.03735895e-05\n",
      "  -3.84941853e-06 -8.35245502e-06 -1.51179957e-05  7.55037456e-06\n",
      "   2.58071396e-05  2.77583934e-08 -2.99678077e-05  2.02607355e-06\n",
      "   2.43110868e-05 -4.42565133e-05  6.97128718e-06  2.58358882e-05\n",
      "   4.46830178e-05  1.96523770e-05  1.81595730e-06 -1.87955781e-05\n",
      "   6.69237976e-06  2.13292305e-06 -4.82454030e-05 -4.42200430e-05\n",
      "   4.96618572e-05 -4.82199837e-06 -3.86899651e-06 -1.24994865e-05\n",
      "   1.53418697e-05  3.10908445e-06 -1.16331370e-05  6.82771944e-06\n",
      "   2.07212448e-05  2.21534836e-05  4.55633862e-05  3.49940991e-05\n",
      "  -1.42246499e-05 -2.55539267e-05  3.01631812e-05  7.87151266e-06\n",
      "  -1.31829264e-05  1.91191586e-05  7.59570452e-06  5.31213344e-06\n",
      "   2.69140569e-05 -4.70562174e-05  4.00702658e-05 -3.11675500e-05\n",
      "  -3.22340381e-05 -1.85705009e-05 -2.35725993e-05 -2.05662636e-05\n",
      "   7.36186430e-06  1.08596598e-05 -1.60767149e-05 -4.34998896e-06\n",
      "  -2.87643299e-05  3.83866609e-05 -4.48517236e-05  1.14783652e-05\n",
      "  -1.68738288e-05 -2.24266203e-05  2.07032621e-05 -2.38471381e-05\n",
      "  -2.39812541e-05 -3.23046080e-05  6.48390478e-06 -8.63444802e-06\n",
      "  -2.02200345e-05  6.95787594e-06 -1.48600593e-05 -2.13044927e-05\n",
      "  -2.86148031e-05  1.22620162e-05 -3.22678135e-05  1.49092682e-06\n",
      "   3.58781750e-05  2.07218253e-05 -2.04321419e-05  3.55959098e-05\n",
      "  -4.88115813e-05 -5.01582417e-06  1.86645287e-05  4.89852599e-05\n",
      "   4.21630322e-05 -1.53221318e-06 -1.00357555e-05 -4.43449761e-05\n",
      "  -5.47120004e-06  1.34537205e-05 -3.85643866e-05 -2.63452766e-05\n",
      "   1.74191196e-05 -2.47306435e-05 -2.33507244e-05  1.36628495e-05\n",
      "   4.97829798e-05 -3.30177549e-05  2.61531893e-05 -3.07881987e-06\n",
      "   4.60654385e-05  1.53914423e-05 -1.11670030e-05 -1.57748660e-05\n",
      "   1.31582124e-05 -2.05897674e-05 -2.36955791e-05 -3.55211972e-05\n",
      "   2.19134240e-05 -1.23540822e-05  3.50230509e-05 -5.13546341e-05\n",
      "   3.56736387e-06  4.38763076e-05  4.31330568e-06 -2.66255812e-05\n",
      "  -3.85383507e-05  4.08546329e-05  1.67104908e-05  1.06937905e-05\n",
      "   1.02605335e-05 -9.67179604e-06  2.72021722e-05  2.35794426e-05\n",
      "  -3.51368909e-05  2.93357234e-05 -1.88676404e-05 -2.49176631e-05\n",
      "  -2.14825257e-05 -2.01108849e-05  3.61304596e-05 -4.85603448e-06\n",
      "  -6.84043502e-06  3.32613359e-05  1.25750081e-05 -4.21396896e-05\n",
      "   1.40188626e-05  3.40248190e-06  1.83570091e-05 -6.90400627e-06\n",
      "  -2.84241433e-06  4.38227327e-06 -2.29421090e-05  2.32434069e-05\n",
      "   2.74496317e-05  3.77380294e-05 -2.16465189e-05 -3.61110306e-06\n",
      "   3.04710196e-05  2.72248987e-05  3.00178965e-05  9.47339607e-06\n",
      "   1.81954308e-06  3.63611123e-06 -7.54643930e-08 -2.85103997e-05\n",
      "  -7.10604924e-06  6.69017133e-06  2.25614353e-05  4.54673615e-06\n",
      "  -4.09940875e-05  9.41759865e-07 -5.05950108e-05 -1.83184397e-05\n",
      "  -1.86039954e-05 -3.53618743e-06  1.94243223e-05  1.72309838e-05\n",
      "   4.38493561e-05 -1.01387998e-06 -3.84511181e-05 -3.07292542e-05\n",
      "  -8.83059093e-06 -1.67538270e-05  4.40648361e-05  3.94019443e-05\n",
      "  -3.21945238e-05  1.15221614e-05 -2.91283302e-05 -1.94213769e-05\n",
      "   2.63430443e-06 -5.08609192e-06  2.74072159e-05  1.05036057e-05]]\n"
     ]
    }
   ],
   "source": [
    "to_plot = 11\n",
    "address = all_subdir[to_plot]\n",
    "print(address)\n",
    "save_xva = load_xyz_init_bin_DP(all_xva_start[to_plot].strip('.bin'))\n",
    "r2_v2 = load_xv2rlim(all_trjN[to_plot])\n",
    "print(all_trjN[to_plot])\n",
    "# my_file = 'xva_3D_Harmo_N1024_T01000uK_F0.50D-19Kg_s_5'\n",
    "# print(address+'/'+my_file)\n",
    "# N_ions, j_save, dt, iRF, save_xva = load_xva_init_bin_Lan(address+'/'+my_file,1)\n",
    "\n",
    "# print(N_ions, j_save, dt, iRF, save_xva)\n",
    "# figure('XYZ_Lan',clear=True)\n",
    "# ax = subplot(111)\n",
    "# ax.plot(save_xva[0],save_xva[1],marker='.',ls='')\n",
    "# ax.grid()\n",
    "# ax.set_aspect('equal')\n",
    "\n",
    "plot_XYZ(all_xva_start[to_plot].strip('.bin'),\n",
    "         fig_name='2',fig_title='XYZ')"
   ]
  },
  {
   "cell_type": "code",
   "execution_count": 183,
   "id": "a3283517",
   "metadata": {},
   "outputs": [
    {
     "name": "stdout",
     "output_type": "stream",
     "text": [
      "55.849648388842354 55.6740586282741 56.05780991841506 51.35463408834121\n",
      "1.0950058709493284\n",
      "1.0915632025664916\n",
      "\n",
      "[0.06554856 0.99635363 1.04542395 ... 0.9967976  0.99525332 0.99955557]\n"
     ]
    }
   ],
   "source": [
    "print(max(save_xva[0])*1e6,max(save_xva[1])*1e6,max(sqrt(save_xva[0]**2+save_xva[1]**2))*1e6,max(abs(save_xva[2]))*1e6)\n",
    "print(max(save_xva[0])/max(save_xva[2]))\n",
    "print(max(save_xva[1])/max(save_xva[2]))\n",
    "print('')\n",
    "print(r2_v2[1]/r2_v2[0])\n",
    "# print(r2_v2[1]/r2_v2[2])"
   ]
  },
  {
   "cell_type": "code",
   "execution_count": 180,
   "id": "b68559d7",
   "metadata": {},
   "outputs": [],
   "source": [
    "figure('histogramme',clear='True')\n",
    "subplot(211)\n",
    "plt.hist(sqrt(save_xva[0]**2+save_xva[1]**2)*1e3,edgecolor='k', bins=np.linspace(0,1e-1,100)) # np.linspace(0,100,20)\n",
    "grid()\n",
    "xlabel('r [mm]')\n",
    "subplot(212)\n",
    "plt.hist(abs(save_xva)[2]*1e3,edgecolor='k', bins=np.linspace(-0,1e-1,100)) # np.linspace(0,100,20)\n",
    "grid()\n",
    "xlabel('z [mm]')\n",
    "tight_layout()"
   ]
  },
  {
   "cell_type": "code",
   "execution_count": 20,
   "id": "da067ee8",
   "metadata": {},
   "outputs": [
    {
     "name": "stdout",
     "output_type": "stream",
     "text": [
      "DC28_RF28\n",
      "[36000000]\n",
      "[36000000]\n",
      "Time_and_temp_RFHEAT_N1024_DC28_RF28\n"
     ]
    }
   ],
   "source": [
    "j = 18 # all_subdir[3]\n",
    "str_N  = all_Temp[j].find('_N')\n",
    "cond_N = all_Temp[j][str_N+3:str_N+7]\n",
    "str_v  = all_subdir[j].find('DC')\n",
    "cond   = all_Temp[j][str_v:str_v+9]\n",
    "print(cond)\n",
    "outfile = 'Time_and_temp_RFHEAT_N'+ str(cond_N) + '_' + str(cond)\n",
    "\n",
    "data = loadtxt(all_Temp[j])\n",
    "time_s = data[:,0]\n",
    "T_CM = data[:,1:4]\n",
    "T_aux = data[:,4:]\n",
    "T_aux_avg = mean(T_aux,axis=1)\n",
    "r2_v2 = load_xv2rlim(all_trjN[j])\n",
    "#r2    = r2_v2[0:3,:]\n",
    "#v2    = r2_v2[3:6,:]\n",
    "#rlim  = r2_v2[6:9,:]\n",
    "\n",
    "np.savez( outfile, time=time_s, temp=T_aux_avg, r2_v2_rlim=r2_v2) # dirname_hc=re.sub(r'\\\\',r'/',dirname_hc)\n",
    "print(outfile) # , r2_v2_rlim=r2_v2"
   ]
  },
  {
   "cell_type": "markdown",
   "id": "2d640646",
   "metadata": {},
   "source": [
    "# With extended"
   ]
  },
  {
   "cell_type": "code",
   "execution_count": 335,
   "id": "1e563652",
   "metadata": {},
   "outputs": [],
   "source": [
    "file_path = '/home/adrien/RemoteFS/Rivendel/Simulations/20220930' # 20220610\n",
    "# file_path = '/home/adrien/RemoteFS/Rivendel/Simulations/20220512'\n",
    "# file_path = '/home/adrien/RemoteFS/Rivendel/Simulations/20220510'\n",
    "\n",
    "all_subdir = []\n",
    "all_Temp = []\n",
    "all_Temp_extended = []\n",
    "all_trjN = []\n",
    "all_trjN_extended = []\n",
    "all_trj1 = []\n",
    "all_xva_3DHarmo = []\n",
    "all_xva_start = []\n",
    "\n",
    "# selection of all directories where\n",
    "# there are data files\n",
    "for i,j in enumerate(os.walk(file_path)):\n",
    "#     print(i)\n",
    "    if 'Try' in j[0]:\n",
    "        all_subdir.append(j[0])\n",
    "    # selection of all data files\n",
    "    # interesting me\n",
    "    for k,l in enumerate(j[2]):\n",
    "        if 'TrjN' in l:\n",
    "            all_trjN.append(j[0]+'/'+l)\n",
    "            all_trjN_extended.append('')\n",
    "        if 'TrjN' in l and 'extended' in l:\n",
    "            all_trjN_extended[i-2] = f'{j[0]}/{l}'\n",
    "        if 'Trj1' in l:\n",
    "            all_trj1.append(j[0]+'/'+l)\n",
    "            #print(l)\n",
    "        if 'Temp_SimuType0' in l and '.dat' in l and not 'extended' in l:\n",
    "            all_Temp.append(j[0]+'/'+l)\n",
    "            all_Temp_extended.append('')\n",
    "        if 'Temp_SimuType0' in l and '.dat' in l and 'extended' in l:\n",
    "            all_Temp_extended[i-2] = f'{j[0]}/{l}'\n",
    "        if 'xva_3D' in l:\n",
    "            all_xva_3DHarmo.append(j[0]+'/'+l)\n",
    "        if 'xva_start' in l:\n",
    "            all_xva_start.append(j[0]+'/'+l)\n",
    "# all_subdir.sort()\n",
    "# all_Temp.sort()\n",
    "# all_Temp_extended.sort()\n",
    "# all_xva_3DHarmo.sort()\n",
    "# all_xva_start.sort()\n",
    "# all_trjN.sort()\n",
    "# for i in range(len(all_subdir)):\n",
    "#     print(all_subdir[i],'\\n',all_Temp[i],'\\n',all_trjN[i],'\\n')"
   ]
  },
  {
   "cell_type": "code",
   "execution_count": 322,
   "id": "17f7b58d",
   "metadata": {},
   "outputs": [
    {
     "name": "stdout",
     "output_type": "stream",
     "text": [
      "DC04_RF04\n",
      "[101524680]\n",
      "[101524680]\n",
      "xxxxTime_and_temp_RFHEAT_N0512_DC04_RF04\n",
      "DC04_RF04\n",
      "[101524680]\n",
      "[101524680]\n",
      "xxxxTime_and_temp_RFHEAT_N0512_DC04_RF04\n",
      "DC04_RF04\n",
      "[50762304]\n",
      "[50762304]\n",
      "xxxxTime_and_temp_RFHEAT_N0512_DC04_RF04\n"
     ]
    }
   ],
   "source": [
    "for j,k in enumerate(all_subdir):\n",
    "    str_N  = all_Temp[j].find('_N')\n",
    "    cond_N = all_Temp[j][str_N+3:str_N+7]\n",
    "    str_v  = all_subdir[j].find('DC')\n",
    "    cond   = all_Temp[j][str_v:str_v+9]\n",
    "    print(cond)\n",
    "    outfile = 'xxxxTime_and_temp_RFHEAT_N'+ str(cond_N) + '_' + str(cond)\n",
    "    \n",
    "    data = loadtxt(all_Temp[j])\n",
    "    try:\n",
    "        data_extended = loadtxt(all_Temp_extended[j])\n",
    "        time_s = hstack((data[:,0],data_extended[:,0]))\n",
    "        T_CM = hstack((data[:,1:4],data_extended[:,1:4]))\n",
    "        T_aux = hstack((data[:,4:],data_extended[:,4:]))\n",
    "        T_aux_avg = mean(T_aux,axis=1)\n",
    "        r2_v2 = load_xv2rlim(all_trjN[j])\n",
    "        r2_v2_extended = load_xv2rlim(all_trjN_extended[j])\n",
    "        r2_v2 = hstack((r2_v2 ,r2_v2_extended))\n",
    "        print('coucou')\n",
    "    except:\n",
    "        time_s = data[:,0]\n",
    "        T_CM = data[:,1:4]\n",
    "        T_aux = data[:,4:]\n",
    "        T_aux_avg = mean(T_aux,axis=1)\n",
    "        r2_v2 = load_xv2rlim(all_trjN[j])\n",
    "        print('pas coucou')\n",
    "        #r2    = r2_v2[0:3,:]\n",
    "        #v2    = r2_v2[3:6,:]\n",
    "        #rlim  = r2_v2[6:9,:]\n",
    "    \n",
    "    np.savez( outfile, time=time_s, temp=T_aux_avg, r2_v2_rlim=r2_v2) # dirname_hc=re.sub(r'\\\\',r'/',dirname_hc)\n",
    "    print(outfile) # , r2_v2_rlim=r2_v2"
   ]
  },
  {
   "cell_type": "code",
   "execution_count": 325,
   "id": "b7b9aa80",
   "metadata": {},
   "outputs": [
    {
     "data": {
      "text/plain": [
       "'/home/adrien/RemoteFS/Rivendel/Simulations/20220930/DC04_RF04/Try01'"
      ]
     },
     "execution_count": 325,
     "metadata": {},
     "output_type": "execute_result"
    }
   ],
   "source": [
    "all_subdir[1]"
   ]
  },
  {
   "cell_type": "code",
   "execution_count": 438,
   "id": "267f32a6",
   "metadata": {},
   "outputs": [
    {
     "name": "stdout",
     "output_type": "stream",
     "text": [
      "/home/adrien/RemoteFS/Rivendel/Simulations/20220930/DC04_RF04/Try01\n",
      "DC04_RF04\n",
      "[101524680]\n",
      "[101524680]\n",
      "[50762304]\n",
      "[50762304]\n",
      "coucou\n",
      "xxxxstackTime_and_temp_RFHEAT_N0512_DC04_RF04\n",
      "fini\n"
     ]
    }
   ],
   "source": [
    "j = 1\n",
    "print(all_subdir[j])\n",
    "str_N  = all_Temp[j].find('_N')\n",
    "cond_N = all_Temp[j][str_N+3:str_N+7]\n",
    "str_v  = all_subdir[j].find('DC')\n",
    "cond   = all_Temp[j][str_v:str_v+9]\n",
    "print(cond)\n",
    "outfile = 'xxxxstackTime_and_temp_RFHEAT_N'+ str(cond_N) + '_' + str(cond)\n",
    "\n",
    "data = loadtxt(all_Temp[j])\n",
    "try:\n",
    "    data_extended = loadtxt(all_Temp_extended[j])\n",
    "    time_s = hstack((data[:,0],array(data_extended[:,0])+max(data[:,0])-min(data[:,0])))\n",
    "    T_CM = vstack((data[:,1:4],data_extended[:,1:4]))\n",
    "    T_aux = vstack((data[:,4:],data_extended[:,4:]))\n",
    "    T_aux_avg = mean(T_aux,axis=1)\n",
    "    r2_v2 = load_xv2rlim(all_trjN[j])\n",
    "    r2_v2_extended = load_xv2rlim(all_trjN_extended[j])\n",
    "    r2_v2 = hstack((r2_v2 ,r2_v2_extended))\n",
    "    print('coucou')\n",
    "except:\n",
    "    time_s = data[:,0]\n",
    "    T_CM = data[:,1:4]\n",
    "    T_aux = data[:,4:]\n",
    "    T_aux_avg = mean(T_aux,axis=1)\n",
    "    r2_v2 = load_xv2rlim(all_trjN[j])\n",
    "    print('pas coucou')\n",
    "    #r2    = r2_v2[0:3,:]\n",
    "    #v2    = r2_v2[3:6,:]\n",
    "    #rlim  = r2_v2[6:9,:]\n",
    "\n",
    "np.savez( outfile, time=time_s, temp=T_aux_avg, r2_v2_rlim=r2_v2) # dirname_hc=re.sub(r'\\\\',r'/',dirname_hc)\n",
    "print(outfile) # , r2_v2_rlim=r2_v2\n",
    "print('fini')"
   ]
  },
  {
   "cell_type": "code",
   "execution_count": 437,
   "id": "b4b31783",
   "metadata": {},
   "outputs": [
    {
     "data": {
      "text/plain": [
       "array([0.00100062, 0.00100112, 0.00100162, ..., 0.35351512, 0.35351562,\n",
       "       0.35351612])"
      ]
     },
     "execution_count": 437,
     "metadata": {},
     "output_type": "execute_result"
    }
   ],
   "source": []
  },
  {
   "cell_type": "code",
   "execution_count": 430,
   "id": "a5732bd2",
   "metadata": {},
   "outputs": [
    {
     "data": {
      "text/plain": [
       "(array([1.00062450e-03, 1.03382074e-05, 1.37773710e-05, 7.12058867e-05,\n",
       "        6.20725325e-03, 1.01597441e-02, 9.23096771e-03]),\n",
       " array([1.00062450e-03, 1.03382074e-05, 1.37773710e-05, 7.12058867e-05,\n",
       "        6.20725325e-03, 1.01597441e-02, 9.23096771e-03]))"
      ]
     },
     "execution_count": 430,
     "metadata": {},
     "output_type": "execute_result"
    }
   ],
   "source": [
    "loadtxt(all_Temp[1])[0],time_s_extended"
   ]
  },
  {
   "cell_type": "code",
   "execution_count": 416,
   "id": "6e050a81",
   "metadata": {},
   "outputs": [
    {
     "data": {
      "text/plain": [
       "(2115097,)"
      ]
     },
     "execution_count": 416,
     "metadata": {},
     "output_type": "execute_result"
    }
   ],
   "source": [
    "T_aux = vstack((data[:,4:],data_extended[:,4:]))\n",
    "shape(T_aux)\n",
    "shape(mean(T_aux,axis=1))"
   ]
  }
 ],
 "metadata": {
  "kernelspec": {
   "display_name": "Python 3 (ipykernel)",
   "language": "python",
   "name": "python3"
  },
  "language_info": {
   "codemirror_mode": {
    "name": "ipython",
    "version": 3
   },
   "file_extension": ".py",
   "mimetype": "text/x-python",
   "name": "python",
   "nbconvert_exporter": "python",
   "pygments_lexer": "ipython3",
   "version": "3.10.6"
  }
 },
 "nbformat": 4,
 "nbformat_minor": 5
}
