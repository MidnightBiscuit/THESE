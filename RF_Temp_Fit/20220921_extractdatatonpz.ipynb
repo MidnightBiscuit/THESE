{
 "cells": [
  {
   "cell_type": "code",
   "execution_count": 441,
   "id": "daa8f4c3",
   "metadata": {},
   "outputs": [
    {
     "name": "stdout",
     "output_type": "stream",
     "text": [
      "Using matplotlib backend: TkAgg\n",
      "Populating the interactive namespace from numpy and matplotlib\n"
     ]
    }
   ],
   "source": [
    "%pylab"
   ]
  },
  {
   "cell_type": "code",
   "execution_count": 442,
   "id": "76e5594e",
   "metadata": {},
   "outputs": [],
   "source": [
    "from scipy.optimize import curve_fit\n",
    "from scipy.signal import savgol_filter\n",
    "\n",
    "import tkinter as tk\n",
    "from tkinter import filedialog\n",
    "\n",
    "import os\n",
    "\n",
    "from scipy import signal\n",
    "import scipy.integrate as integrate\n",
    "\n",
    "# %matplotlib qt"
   ]
  },
  {
   "cell_type": "code",
   "execution_count": 443,
   "id": "39f3f8cf",
   "metadata": {},
   "outputs": [
    {
     "name": "stdout",
     "output_type": "stream",
     "text": [
      "[1, 13, 26, 39, 52, 65, 78, 91, 104, 117]\n",
      "[12, 24, 37, 50, 63, 76, 89, 102, 115, 128]\n"
     ]
    }
   ],
   "source": [
    "n_core = 10\n",
    "N = 256/2\n",
    "print(list(linspace(1,N+1-N//n_core,n_core,dtype='int')))\n",
    "print(list(linspace(N//n_core,N,n_core,dtype='int')))\n",
    "\n",
    "n_dt = 5000\n",
    "\n",
    "# integer          , parameter :: ia(ni)=[1,257,513,769]\n",
    "# integer          , parameter :: ib(ni)=[256,512,768,1024]"
   ]
  },
  {
   "cell_type": "code",
   "execution_count": 444,
   "id": "916883eb",
   "metadata": {
    "scrolled": true
   },
   "outputs": [],
   "source": [
    "%run functions\n",
    "matplotlib.rcParams.update({'font.size': 25})"
   ]
  },
  {
   "cell_type": "code",
   "execution_count": 445,
   "id": "efce5ee7",
   "metadata": {},
   "outputs": [
    {
     "name": "stdout",
     "output_type": "stream",
     "text": [
      "$\\kappa_{simion}$ = 0.270471\n"
     ]
    }
   ],
   "source": [
    "# Constantes de la physique\n",
    "# ABSOLUMENT RECHARGER APRÈS AVOIR EXECUTÉ LES CASES D'IMPORT AU DESSUS\n",
    "\n",
    "C_e = 1.602e-19        # Coulomb\n",
    "kb = 1.38064852*1e-23  # Boltzman\n",
    "m_Ca = 40.078*1.66054e-27 # masse Ca 40.078\n",
    "m_GM = 1e6*1.66054e-27 # la masse de la GMol\n",
    "eps0 = 8.854187*1e-12  # permittivité électrique du vide\n",
    "\n",
    "r0 = 2.5e-3 # 2.5e-3   # rayon piège Ca+\n",
    "d0 = 4e-3/2            # longueur piège Ca+\n",
    "\n",
    "Omega = 2.05e6*2*pi # 2.047e6\n",
    "\n",
    "bk = 4 # nombre de barreaux par groupe (2 -> 4-pole , 4 -> 8-pole ...)\n",
    "\n",
    "mkappa = 0.23          # écrantage piège réel GiantMol\n",
    "\n",
    "wzLC = (2*pi*90806.9982303)**2\n",
    "kappa_simion = m_Ca*d0**2*wzLC/(2*C_e)\n",
    "print('%s = %f' % ('$\\kappa_{simion}$',kappa_simion) )\n",
    "\n",
    "zeta = kappa_simion*r0**2/d0**2"
   ]
  },
  {
   "cell_type": "code",
   "execution_count": 451,
   "id": "02204cee",
   "metadata": {},
   "outputs": [
    {
     "name": "stdout",
     "output_type": "stream",
     "text": [
      "['/home/adrien/RemoteFS/Rivendel/Simulations/20221006/N1024/DC05_RF05/Try00', '/home/adrien/RemoteFS/Rivendel/Simulations/20221006/N1024/DC06_RF06/Try00', '/home/adrien/RemoteFS/Rivendel/Simulations/20221006/N1024/DC07_RF07/Try00', '/home/adrien/RemoteFS/Rivendel/Simulations/20221006/N1024/DC08_RF08/Try00', '/home/adrien/RemoteFS/Rivendel/Simulations/20221006/N1024/DC09_RF09/Try00']\n"
     ]
    }
   ],
   "source": [
    "file_path = '/home/adrien/RemoteFS/Rivendel/Simulations/20221006' # 20220610\n",
    "# file_path = '/home/adrien/RemoteFS/Rivendel/Simulations/20220930' # 20220610\n",
    "# file_path = '/home/adrien/RemoteFS/Rivendel/Simulations/20220512'\n",
    "# file_path = '/home/adrien/RemoteFS/Rivendel/Simulations/20220510'\n",
    "\n",
    "all_subdir = []\n",
    "all_Temp = []\n",
    "all_trjN = []\n",
    "all_trj1 = []\n",
    "all_xva_3DHarmo = []\n",
    "all_xva_start = []\n",
    "\n",
    "# selection of all directories where\n",
    "# there are data files\n",
    "for i,j in enumerate(os.walk(file_path)):\n",
    "#     print(i,j)\n",
    "    if 'Try' in j[0]:\n",
    "        all_subdir.append(j[0])\n",
    "    # selection of all data files\n",
    "    # interesting me\n",
    "    for k,l in enumerate(j[2]):\n",
    "#         print(k,l)\n",
    "        if 'TrjN' in l:\n",
    "            all_trjN.append(j[0]+'/'+l)\n",
    "        if 'Trj1' in l:\n",
    "            all_trj1.append(j[0]+'/'+l)\n",
    "            #print(l)\n",
    "        if 'Temp_SimuType0' in l and '.dat' in l:\n",
    "            all_Temp.append(j[0]+'/'+l)\n",
    "        if 'xva_3D' in l:\n",
    "            all_xva_3DHarmo.append(j[0]+'/'+l)\n",
    "        if 'xva_start' in l:\n",
    "            all_xva_start.append(j[0]+'/'+l)\n",
    "all_subdir.sort()\n",
    "all_Temp.sort()\n",
    "all_xva_3DHarmo.sort()\n",
    "all_xva_start.sort()\n",
    "all_trjN.sort()\n",
    "# for i in range(len(all_subdir)):\n",
    "#     print(all_subdir[i],'\\n',all_Temp[i],'\\n',all_trjN[i],'\\n')\n",
    "print(all_subdir)"
   ]
  },
  {
   "cell_type": "code",
   "execution_count": 453,
   "id": "afa2f85c",
   "metadata": {},
   "outputs": [
    {
     "name": "stdout",
     "output_type": "stream",
     "text": [
      "DC05_RF05\n",
      "[36000000]\n",
      "[36000000]\n",
      "Time_and_temp_RFHEAT_N1024_DC05_RF05\n",
      "DC06_RF06\n",
      "[36000000]\n",
      "[36000000]\n",
      "Time_and_temp_RFHEAT_N1024_DC06_RF06\n",
      "DC07_RF07\n",
      "[36000000]\n",
      "[36000000]\n",
      "Time_and_temp_RFHEAT_N1024_DC07_RF07\n",
      "DC08_RF08\n",
      "[36000000]\n",
      "[36000000]\n",
      "Time_and_temp_RFHEAT_N1024_DC08_RF08\n"
     ]
    },
    {
     "ename": "IndexError",
     "evalue": "list index out of range",
     "output_type": "error",
     "traceback": [
      "\u001b[0;31m---------------------------------------------------------------------------\u001b[0m",
      "\u001b[0;31mIndexError\u001b[0m                                Traceback (most recent call last)",
      "\u001b[0;32m/tmp/ipykernel_33027/1274010008.py\u001b[0m in \u001b[0;36m<module>\u001b[0;34m\u001b[0m\n\u001b[1;32m      1\u001b[0m \u001b[0;32mfor\u001b[0m \u001b[0mj\u001b[0m\u001b[0;34m,\u001b[0m\u001b[0mk\u001b[0m \u001b[0;32min\u001b[0m \u001b[0menumerate\u001b[0m\u001b[0;34m(\u001b[0m\u001b[0mall_subdir\u001b[0m\u001b[0;34m)\u001b[0m\u001b[0;34m:\u001b[0m\u001b[0;34m\u001b[0m\u001b[0;34m\u001b[0m\u001b[0m\n\u001b[0;32m----> 2\u001b[0;31m     \u001b[0mstr_N\u001b[0m  \u001b[0;34m=\u001b[0m \u001b[0mall_Temp\u001b[0m\u001b[0;34m[\u001b[0m\u001b[0mj\u001b[0m\u001b[0;34m]\u001b[0m\u001b[0;34m.\u001b[0m\u001b[0mfind\u001b[0m\u001b[0;34m(\u001b[0m\u001b[0;34m'_N'\u001b[0m\u001b[0;34m)\u001b[0m\u001b[0;34m\u001b[0m\u001b[0;34m\u001b[0m\u001b[0m\n\u001b[0m\u001b[1;32m      3\u001b[0m     \u001b[0mcond_N\u001b[0m \u001b[0;34m=\u001b[0m \u001b[0mall_Temp\u001b[0m\u001b[0;34m[\u001b[0m\u001b[0mj\u001b[0m\u001b[0;34m]\u001b[0m\u001b[0;34m[\u001b[0m\u001b[0mstr_N\u001b[0m\u001b[0;34m+\u001b[0m\u001b[0;36m3\u001b[0m\u001b[0;34m:\u001b[0m\u001b[0mstr_N\u001b[0m\u001b[0;34m+\u001b[0m\u001b[0;36m7\u001b[0m\u001b[0;34m]\u001b[0m\u001b[0;34m\u001b[0m\u001b[0;34m\u001b[0m\u001b[0m\n\u001b[1;32m      4\u001b[0m     \u001b[0mstr_v\u001b[0m  \u001b[0;34m=\u001b[0m \u001b[0mall_subdir\u001b[0m\u001b[0;34m[\u001b[0m\u001b[0mj\u001b[0m\u001b[0;34m]\u001b[0m\u001b[0;34m.\u001b[0m\u001b[0mfind\u001b[0m\u001b[0;34m(\u001b[0m\u001b[0;34m'DC'\u001b[0m\u001b[0;34m)\u001b[0m\u001b[0;34m\u001b[0m\u001b[0;34m\u001b[0m\u001b[0m\n\u001b[1;32m      5\u001b[0m     \u001b[0mcond\u001b[0m   \u001b[0;34m=\u001b[0m \u001b[0mall_Temp\u001b[0m\u001b[0;34m[\u001b[0m\u001b[0mj\u001b[0m\u001b[0;34m]\u001b[0m\u001b[0;34m[\u001b[0m\u001b[0mstr_v\u001b[0m\u001b[0;34m:\u001b[0m\u001b[0mstr_v\u001b[0m\u001b[0;34m+\u001b[0m\u001b[0;36m9\u001b[0m\u001b[0;34m]\u001b[0m\u001b[0;34m\u001b[0m\u001b[0;34m\u001b[0m\u001b[0m\n",
      "\u001b[0;31mIndexError\u001b[0m: list index out of range"
     ]
    }
   ],
   "source": [
    "for j,k in enumerate(all_subdir):\n",
    "    str_N  = all_Temp[j].find('_N')\n",
    "    cond_N = all_Temp[j][str_N+3:str_N+7]\n",
    "    str_v  = all_subdir[j].find('DC')\n",
    "    cond   = all_Temp[j][str_v:str_v+9]\n",
    "    print(cond)\n",
    "    outfile = 'Time_and_temp_RFHEAT_N'+ str(cond_N) + '_' + str(cond)\n",
    "    \n",
    "    data = loadtxt(all_Temp[j])\n",
    "    time_s = data[:,0]\n",
    "    T_CM = data[:,1:4]\n",
    "    T_aux = data[:,4:]\n",
    "    T_aux_avg = mean(T_aux,axis=1)\n",
    "    r2_v2 = load_xv2rlim(all_trjN[j])\n",
    "    #r2    = r2_v2[0:3,:]\n",
    "    #v2    = r2_v2[3:6,:]\n",
    "    #rlim  = r2_v2[6:9,:]\n",
    "    \n",
    "    np.savez( outfile, time=time_s, temp=T_aux_avg, r2_v2_rlim=r2_v2) # dirname_hc=re.sub(r'\\\\',r'/',dirname_hc)\n",
    "    print(outfile) # , r2_v2_rlim=r2_v2"
   ]
  },
  {
   "cell_type": "code",
   "execution_count": 516,
   "id": "08fc756c",
   "metadata": {},
   "outputs": [],
   "source": [
    "def load_xyz_init_bin_DP(str_load):\n",
    "    fid = open(str_load+'.bin',  'rb')   \n",
    "    a    = fromfile(fid,  int32, 1)        # Read record start tag   \n",
    "    aux  = fromfile(fid,  int32, 1)   \n",
    "    junk = fromfile(fid,  int32, 1)        # Read record stop tag   \n",
    "    N_ions = aux[0]   \n",
    "\n",
    "    b    = fromfile(fid,  int32, 1)        # Read record start tag   \n",
    "    aux  = fromfile(fid,  int32, 1)   \n",
    "    junk = fromfile(fid,  int32, 1)        # Read record stop tag   \n",
    "    j_save = aux[0]     \n",
    "\n",
    "    d    = fromfile(fid,  int32, 1)        # Read record start tag   \n",
    "    dt   = fromfile(fid,  float64, 1)   \n",
    "    junk = fromfile(fid,  int32, 1)        # Read record stop tag\n",
    "    \n",
    "    e    = fromfile(fid,  int32,   1   )        # Read record start tag   \n",
    "    iRF  = fromfile(fid,  int32, 3)   \n",
    "    junk = fromfile(fid,  int32,   1   )        # Read record stop tag   \n",
    "\n",
    "    f    = fromfile(fid,  int32,   1   )        # Read record start tag \n",
    "    print(f)\n",
    "    save_xva = fromfile(fid,  float64, 12*N_ions)   \n",
    "    junk = fromfile(fid,  int32,   1   )        # Read record stop tag\n",
    "    print(junk)\n",
    "\n",
    "    fid.close\n",
    "    save_xva = reshape(save_xva, (12,N_ions), order='F')\n",
    "\n",
    "    return save_xva\n",
    "\n",
    "def plot_XYZ(file_name,fig_name='2',fig_title='XYZ'):\n",
    "    save_xva = load_xyz_init_bin_DP(file_name)\n",
    "    r_LC = save_xva[0:3,:] \n",
    "    v_LC = save_xva[3:6,:]\n",
    "    a_LC = save_xva[6:9,:]\n",
    "    v_LC_avg = save_xva[9:,:]\n",
    "    print(r_LC)\n",
    "    figure(fig_name); clf()\n",
    "    title(fig_title)\n",
    "    subplot(211)\n",
    "    plot(r_LC [0,:]*1e6,r_LC [1,:]*1e6,'8',color='xkcd:purplish blue')\n",
    "    xlabel('x [µm]')\n",
    "    ylabel('y [µm]')\n",
    "    grid()\n",
    "\n",
    "    # subplot(212,aspect=1.0)\n",
    "    subplot(212,aspect=1.0)\n",
    "    plot(r_LC [2,:]*1e6,r_LC [1,:]*1e6,'8',color='xkcd:purplish blue')\n",
    "    xlabel('z [µm]')\n",
    "    ylabel('y [µm]')\n",
    "    grid()\n",
    "    \n",
    "    tight_layout()\n",
    "\n",
    "def load_xva_init_bin_Lan(str_load, flag_print):      \n",
    "    fid = open(str_load+'.bin',  'rb')   \n",
    "    a    = fromfile(fid,  int32, 1)        # Read record start tag   \n",
    "    aux  = fromfile(fid,  int32, 1)   \n",
    "    junk = fromfile(fid,  int32, 1)        # Read record stop tag   \n",
    "    N_ions = aux[0]   \n",
    "\n",
    "    b    = fromfile(fid,  int32, 1)        # Read record start tag   \n",
    "    aux  = fromfile(fid,  int32, 1)   \n",
    "    junk = fromfile(fid,  int32, 1)        # Read record stop tag   \n",
    "    j_save = aux[0]     \n",
    "\n",
    "    d    = fromfile(fid,  int32, 1)        # Read record start tag   \n",
    "    dt   = fromfile(fid,  float64, 1)   \n",
    "    junk = fromfile(fid,  int32, 1)        # Read record stop tag\n",
    "    \n",
    "    e    = fromfile(fid,  int32,   1   )        # Read record start tag   \n",
    "    iRF  = fromfile(fid,  int32, 3)   \n",
    "    junk = fromfile(fid,  int32,   1   )        # Read record stop tag   \n",
    "\n",
    "    f    = fromfile(fid,  int32,   1   )        # Read record start tag \n",
    "    print(f)\n",
    "    save_xva = fromfile(fid,  float64, 12*N_ions)   \n",
    "    junk = fromfile(fid,  int32,   1   )        # Read record stop tag\n",
    "    print(junk)\n",
    "\n",
    "    fid.close\n",
    "    save_xva = reshape(save_xva, (12,N_ions), order='F')\n",
    "\n",
    "    return N_ions, j_save, dt, iRF, save_xva"
   ]
  },
  {
   "cell_type": "code",
   "execution_count": 517,
   "id": "3ce99128",
   "metadata": {},
   "outputs": [
    {
     "name": "stdout",
     "output_type": "stream",
     "text": [
      "[98304]\n",
      "[98304]\n",
      "[[ 0.00000000e+00  0.00000000e+00  0.00000000e+00 ...  0.00000000e+00\n",
      "   0.00000000e+00  0.00000000e+00]\n",
      " [-1.18323180e-05 -4.03081013e-05 -5.66392728e-05 ... -3.63880998e-06\n",
      "   2.48691839e-06  1.61542457e-05]\n",
      " [-3.58423720e-05  2.06557802e-06 -7.68712401e-05 ...  2.35443288e-05\n",
      "   6.41459681e-05  4.79419551e-05]]\n"
     ]
    }
   ],
   "source": [
    "# address = all_subdir[0]\n",
    "# print(address)\n",
    "# my_file = 'xva_3D_Harmo_N1024_T01000uK_F0.50D-19Kg_s_5'\n",
    "# print(address+'/'+my_file)\n",
    "# N_ions, j_save, dt, iRF, save_xva = load_xva_init_bin_Lan(address+'/'+my_file,1)\n",
    "\n",
    "# print(N_ions, j_save, dt, iRF, save_xva)\n",
    "# figure('XYZ_Lan',clear=True)\n",
    "# ax = subplot(111)\n",
    "# ax.plot(save_xva[0],save_xva[1],marker='.',ls='')\n",
    "# ax.grid()\n",
    "# ax.set_aspect('equal')\n",
    "\n",
    "plot_XYZ(address+'/xva_start_SimuType0_N01024_Vrf0055_Udc0.7928D+01V_nt1000',\n",
    "         fig_name='2',fig_title='XYZ')"
   ]
  },
  {
   "cell_type": "code",
   "execution_count": 8,
   "id": "da067ee8",
   "metadata": {},
   "outputs": [
    {
     "name": "stdout",
     "output_type": "stream",
     "text": [
      "DC04_RF04\n",
      "[101524680]\n",
      "[101524680]\n",
      "Time_and_temp_RFHEAT_N0512_DC04_RF04\n"
     ]
    }
   ],
   "source": [
    "j = 1 # all_subdir[3]\n",
    "str_N  = all_Temp[j].find('_N')\n",
    "cond_N = all_Temp[j][str_N+3:str_N+7]\n",
    "str_v  = all_subdir[j].find('DC')\n",
    "cond   = all_Temp[j][str_v:str_v+9]\n",
    "print(cond)\n",
    "outfile = 'Time_and_temp_RFHEAT_N'+ str(cond_N) + '_' + str(cond)\n",
    "\n",
    "data = loadtxt(all_Temp[j])\n",
    "time_s = data[:,0]\n",
    "T_CM = data[:,1:4]\n",
    "T_aux = data[:,4:]\n",
    "T_aux_avg = mean(T_aux,axis=1)\n",
    "r2_v2 = load_xv2rlim(all_trjN[j])\n",
    "#r2    = r2_v2[0:3,:]\n",
    "#v2    = r2_v2[3:6,:]\n",
    "#rlim  = r2_v2[6:9,:]\n",
    "\n",
    "np.savez( outfile, time=time_s, temp=T_aux_avg, r2_v2_rlim=r2_v2) # dirname_hc=re.sub(r'\\\\',r'/',dirname_hc)\n",
    "print(outfile) # , r2_v2_rlim=r2_v2"
   ]
  },
  {
   "cell_type": "markdown",
   "id": "2d640646",
   "metadata": {},
   "source": [
    "# With extended"
   ]
  },
  {
   "cell_type": "code",
   "execution_count": 335,
   "id": "1e563652",
   "metadata": {},
   "outputs": [],
   "source": [
    "file_path = '/home/adrien/RemoteFS/Rivendel/Simulations/20220930' # 20220610\n",
    "# file_path = '/home/adrien/RemoteFS/Rivendel/Simulations/20220512'\n",
    "# file_path = '/home/adrien/RemoteFS/Rivendel/Simulations/20220510'\n",
    "\n",
    "all_subdir = []\n",
    "all_Temp = []\n",
    "all_Temp_extended = []\n",
    "all_trjN = []\n",
    "all_trjN_extended = []\n",
    "all_trj1 = []\n",
    "all_xva_3DHarmo = []\n",
    "all_xva_start = []\n",
    "\n",
    "# selection of all directories where\n",
    "# there are data files\n",
    "for i,j in enumerate(os.walk(file_path)):\n",
    "#     print(i)\n",
    "    if 'Try' in j[0]:\n",
    "        all_subdir.append(j[0])\n",
    "    # selection of all data files\n",
    "    # interesting me\n",
    "    for k,l in enumerate(j[2]):\n",
    "        if 'TrjN' in l:\n",
    "            all_trjN.append(j[0]+'/'+l)\n",
    "            all_trjN_extended.append('')\n",
    "        if 'TrjN' in l and 'extended' in l:\n",
    "            all_trjN_extended[i-2] = f'{j[0]}/{l}'\n",
    "        if 'Trj1' in l:\n",
    "            all_trj1.append(j[0]+'/'+l)\n",
    "            #print(l)\n",
    "        if 'Temp_SimuType0' in l and '.dat' in l and not 'extended' in l:\n",
    "            all_Temp.append(j[0]+'/'+l)\n",
    "            all_Temp_extended.append('')\n",
    "        if 'Temp_SimuType0' in l and '.dat' in l and 'extended' in l:\n",
    "            all_Temp_extended[i-2] = f'{j[0]}/{l}'\n",
    "        if 'xva_3D' in l:\n",
    "            all_xva_3DHarmo.append(j[0]+'/'+l)\n",
    "        if 'xva_start' in l:\n",
    "            all_xva_start.append(j[0]+'/'+l)\n",
    "# all_subdir.sort()\n",
    "# all_Temp.sort()\n",
    "# all_Temp_extended.sort()\n",
    "# all_xva_3DHarmo.sort()\n",
    "# all_xva_start.sort()\n",
    "# all_trjN.sort()\n",
    "# for i in range(len(all_subdir)):\n",
    "#     print(all_subdir[i],'\\n',all_Temp[i],'\\n',all_trjN[i],'\\n')"
   ]
  },
  {
   "cell_type": "code",
   "execution_count": 322,
   "id": "17f7b58d",
   "metadata": {},
   "outputs": [
    {
     "name": "stdout",
     "output_type": "stream",
     "text": [
      "DC04_RF04\n",
      "[101524680]\n",
      "[101524680]\n",
      "xxxxTime_and_temp_RFHEAT_N0512_DC04_RF04\n",
      "DC04_RF04\n",
      "[101524680]\n",
      "[101524680]\n",
      "xxxxTime_and_temp_RFHEAT_N0512_DC04_RF04\n",
      "DC04_RF04\n",
      "[50762304]\n",
      "[50762304]\n",
      "xxxxTime_and_temp_RFHEAT_N0512_DC04_RF04\n"
     ]
    }
   ],
   "source": [
    "for j,k in enumerate(all_subdir):\n",
    "    str_N  = all_Temp[j].find('_N')\n",
    "    cond_N = all_Temp[j][str_N+3:str_N+7]\n",
    "    str_v  = all_subdir[j].find('DC')\n",
    "    cond   = all_Temp[j][str_v:str_v+9]\n",
    "    print(cond)\n",
    "    outfile = 'xxxxTime_and_temp_RFHEAT_N'+ str(cond_N) + '_' + str(cond)\n",
    "    \n",
    "    data = loadtxt(all_Temp[j])\n",
    "    try:\n",
    "        data_extended = loadtxt(all_Temp_extended[j])\n",
    "        time_s = hstack((data[:,0],data_extended[:,0]))\n",
    "        T_CM = hstack((data[:,1:4],data_extended[:,1:4]))\n",
    "        T_aux = hstack((data[:,4:],data_extended[:,4:]))\n",
    "        T_aux_avg = mean(T_aux,axis=1)\n",
    "        r2_v2 = load_xv2rlim(all_trjN[j])\n",
    "        r2_v2_extended = load_xv2rlim(all_trjN_extended[j])\n",
    "        r2_v2 = hstack((r2_v2 ,r2_v2_extended))\n",
    "        print('coucou')\n",
    "    except:\n",
    "        time_s = data[:,0]\n",
    "        T_CM = data[:,1:4]\n",
    "        T_aux = data[:,4:]\n",
    "        T_aux_avg = mean(T_aux,axis=1)\n",
    "        r2_v2 = load_xv2rlim(all_trjN[j])\n",
    "        print('pas coucou')\n",
    "        #r2    = r2_v2[0:3,:]\n",
    "        #v2    = r2_v2[3:6,:]\n",
    "        #rlim  = r2_v2[6:9,:]\n",
    "    \n",
    "    np.savez( outfile, time=time_s, temp=T_aux_avg, r2_v2_rlim=r2_v2) # dirname_hc=re.sub(r'\\\\',r'/',dirname_hc)\n",
    "    print(outfile) # , r2_v2_rlim=r2_v2"
   ]
  },
  {
   "cell_type": "code",
   "execution_count": 325,
   "id": "b7b9aa80",
   "metadata": {},
   "outputs": [
    {
     "data": {
      "text/plain": [
       "'/home/adrien/RemoteFS/Rivendel/Simulations/20220930/DC04_RF04/Try01'"
      ]
     },
     "execution_count": 325,
     "metadata": {},
     "output_type": "execute_result"
    }
   ],
   "source": [
    "all_subdir[1]"
   ]
  },
  {
   "cell_type": "code",
   "execution_count": 438,
   "id": "267f32a6",
   "metadata": {},
   "outputs": [
    {
     "name": "stdout",
     "output_type": "stream",
     "text": [
      "/home/adrien/RemoteFS/Rivendel/Simulations/20220930/DC04_RF04/Try01\n",
      "DC04_RF04\n",
      "[101524680]\n",
      "[101524680]\n",
      "[50762304]\n",
      "[50762304]\n",
      "coucou\n",
      "xxxxstackTime_and_temp_RFHEAT_N0512_DC04_RF04\n",
      "fini\n"
     ]
    }
   ],
   "source": [
    "j = 1\n",
    "print(all_subdir[j])\n",
    "str_N  = all_Temp[j].find('_N')\n",
    "cond_N = all_Temp[j][str_N+3:str_N+7]\n",
    "str_v  = all_subdir[j].find('DC')\n",
    "cond   = all_Temp[j][str_v:str_v+9]\n",
    "print(cond)\n",
    "outfile = 'xxxxstackTime_and_temp_RFHEAT_N'+ str(cond_N) + '_' + str(cond)\n",
    "\n",
    "data = loadtxt(all_Temp[j])\n",
    "try:\n",
    "    data_extended = loadtxt(all_Temp_extended[j])\n",
    "    time_s = hstack((data[:,0],array(data_extended[:,0])+max(data[:,0])-min(data[:,0])))\n",
    "    T_CM = vstack((data[:,1:4],data_extended[:,1:4]))\n",
    "    T_aux = vstack((data[:,4:],data_extended[:,4:]))\n",
    "    T_aux_avg = mean(T_aux,axis=1)\n",
    "    r2_v2 = load_xv2rlim(all_trjN[j])\n",
    "    r2_v2_extended = load_xv2rlim(all_trjN_extended[j])\n",
    "    r2_v2 = hstack((r2_v2 ,r2_v2_extended))\n",
    "    print('coucou')\n",
    "except:\n",
    "    time_s = data[:,0]\n",
    "    T_CM = data[:,1:4]\n",
    "    T_aux = data[:,4:]\n",
    "    T_aux_avg = mean(T_aux,axis=1)\n",
    "    r2_v2 = load_xv2rlim(all_trjN[j])\n",
    "    print('pas coucou')\n",
    "    #r2    = r2_v2[0:3,:]\n",
    "    #v2    = r2_v2[3:6,:]\n",
    "    #rlim  = r2_v2[6:9,:]\n",
    "\n",
    "np.savez( outfile, time=time_s, temp=T_aux_avg, r2_v2_rlim=r2_v2) # dirname_hc=re.sub(r'\\\\',r'/',dirname_hc)\n",
    "print(outfile) # , r2_v2_rlim=r2_v2\n",
    "print('fini')"
   ]
  },
  {
   "cell_type": "code",
   "execution_count": 437,
   "id": "b4b31783",
   "metadata": {},
   "outputs": [
    {
     "data": {
      "text/plain": [
       "array([0.00100062, 0.00100112, 0.00100162, ..., 0.35351512, 0.35351562,\n",
       "       0.35351612])"
      ]
     },
     "execution_count": 437,
     "metadata": {},
     "output_type": "execute_result"
    }
   ],
   "source": []
  },
  {
   "cell_type": "code",
   "execution_count": 430,
   "id": "a5732bd2",
   "metadata": {},
   "outputs": [
    {
     "data": {
      "text/plain": [
       "(array([1.00062450e-03, 1.03382074e-05, 1.37773710e-05, 7.12058867e-05,\n",
       "        6.20725325e-03, 1.01597441e-02, 9.23096771e-03]),\n",
       " array([1.00062450e-03, 1.03382074e-05, 1.37773710e-05, 7.12058867e-05,\n",
       "        6.20725325e-03, 1.01597441e-02, 9.23096771e-03]))"
      ]
     },
     "execution_count": 430,
     "metadata": {},
     "output_type": "execute_result"
    }
   ],
   "source": [
    "loadtxt(all_Temp[1])[0],time_s_extended"
   ]
  },
  {
   "cell_type": "code",
   "execution_count": 416,
   "id": "6e050a81",
   "metadata": {},
   "outputs": [
    {
     "data": {
      "text/plain": [
       "(2115097,)"
      ]
     },
     "execution_count": 416,
     "metadata": {},
     "output_type": "execute_result"
    }
   ],
   "source": [
    "T_aux = vstack((data[:,4:],data_extended[:,4:]))\n",
    "shape(T_aux)\n",
    "shape(mean(T_aux,axis=1))"
   ]
  }
 ],
 "metadata": {
  "kernelspec": {
   "display_name": "Python 3 (ipykernel)",
   "language": "python",
   "name": "python3"
  },
  "language_info": {
   "codemirror_mode": {
    "name": "ipython",
    "version": 3
   },
   "file_extension": ".py",
   "mimetype": "text/x-python",
   "name": "python",
   "nbconvert_exporter": "python",
   "pygments_lexer": "ipython3",
   "version": "3.10.6"
  }
 },
 "nbformat": 4,
 "nbformat_minor": 5
}
