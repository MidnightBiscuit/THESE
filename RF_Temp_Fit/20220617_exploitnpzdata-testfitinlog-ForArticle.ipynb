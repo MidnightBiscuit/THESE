{
 "cells": [
  {
   "cell_type": "code",
   "execution_count": 1,
   "id": "2b7e5f6e",
   "metadata": {},
   "outputs": [
    {
     "data": {
      "text/html": [
       "<style>.container { width:95% !important; }</style>"
      ],
      "text/plain": [
       "<IPython.core.display.HTML object>"
      ]
     },
     "metadata": {},
     "output_type": "display_data"
    }
   ],
   "source": [
    "from IPython.display import display, HTML\n",
    "display(HTML(\"<style>.container { width:95% !important; }</style>\"))"
   ]
  },
  {
   "cell_type": "code",
   "execution_count": 2,
   "id": "daa8f4c3",
   "metadata": {},
   "outputs": [
    {
     "name": "stdout",
     "output_type": "stream",
     "text": [
      "Using matplotlib backend: TkAgg\n",
      "Populating the interactive namespace from numpy and matplotlib\n"
     ]
    }
   ],
   "source": [
    "%pylab"
   ]
  },
  {
   "cell_type": "code",
   "execution_count": 3,
   "id": "76e5594e",
   "metadata": {},
   "outputs": [],
   "source": [
    "from scipy.optimize import curve_fit\n",
    "\n",
    "import tkinter as tk\n",
    "from tkinter import filedialog\n",
    "\n",
    "import os\n",
    "\n",
    "from scipy import signal\n",
    "import scipy.integrate as integrate\n",
    "\n",
    "# %matplotlib qt"
   ]
  },
  {
   "cell_type": "code",
   "execution_count": 4,
   "id": "916883eb",
   "metadata": {
    "scrolled": true
   },
   "outputs": [],
   "source": [
    "%run functions\n",
    "matplotlib.rcParams.update({'font.size': 25})"
   ]
  },
  {
   "cell_type": "code",
   "execution_count": 5,
   "id": "efce5ee7",
   "metadata": {},
   "outputs": [
    {
     "name": "stdout",
     "output_type": "stream",
     "text": [
      "$\\kappa_{simion}$ = 0.270471\n"
     ]
    }
   ],
   "source": [
    "# Constantes de la physique\n",
    "# ABSOLUMENT RECHARGER APRÈS AVOIR EXECUTÉ LES CASES D'IMPORT AU DESSUS\n",
    "\n",
    "C_e = 1.602e-19        # Coulomb\n",
    "kb = 1.38064852*1e-23  # Boltzman\n",
    "m_Ca = 40.078*1.66054e-27 # masse Ca 40.078\n",
    "m_GM = 1e6*1.66054e-27 # la masse de la GMol\n",
    "eps0 = 8.854187*1e-12  # permittivité électrique du vide\n",
    "\n",
    "r0 = 2.5e-3 # 2.5e-3   # rayon piège Ca+\n",
    "d0 = 4e-3/2            # longueur piège Ca+\n",
    "\n",
    "Omega = 2.05e6*2*pi # 2.047e6\n",
    "\n",
    "bk = 4 # nombre de barreaux par groupe (2 -> 4-pole , 4 -> 8-pole ...)\n",
    "\n",
    "mkappa = 0.23          # écrantage piège réel GiantMol\n",
    "\n",
    "wzLC = (2*pi*90806.9982303)**2\n",
    "kappa_simion = m_Ca*d0**2*wzLC/(2*C_e)\n",
    "print('%s = %f' % ('$\\kappa_{simion}$',kappa_simion) )\n",
    "\n",
    "zeta = kappa_simion*r0**2/d0**2"
   ]
  },
  {
   "cell_type": "code",
   "execution_count": 188,
   "id": "58da8010",
   "metadata": {
    "scrolled": true
   },
   "outputs": [
    {
     "name": "stdout",
     "output_type": "stream",
     "text": [
      "/home/adrien/Documents/Programmes/Python/THESE/RF_Temp_Fit/Time_and_temp_RFHEAT_N0256_DC05_RF05.npz\n",
      "/home/adrien/Documents/Programmes/Python/THESE/RF_Temp_Fit/Time_and_temp_RFHEAT_N0256_DC06_RF06.npz\n",
      "/home/adrien/Documents/Programmes/Python/THESE/RF_Temp_Fit/Time_and_temp_RFHEAT_N0256_DC07_RF07.npz\n",
      "/home/adrien/Documents/Programmes/Python/THESE/RF_Temp_Fit/Time_and_temp_RFHEAT_N0256_DC08_RF08.npz\n",
      "/home/adrien/Documents/Programmes/Python/THESE/RF_Temp_Fit/Time_and_temp_RFHEAT_N0256_DC09_RF09.npz\n",
      "/home/adrien/Documents/Programmes/Python/THESE/RF_Temp_Fit/Time_and_temp_RFHEAT_N0256_DC10_RF10.npz\n",
      "/home/adrien/Documents/Programmes/Python/THESE/RF_Temp_Fit/Time_and_temp_RFHEAT_N0256_DC11_RF11.npz\n",
      "/home/adrien/Documents/Programmes/Python/THESE/RF_Temp_Fit/Time_and_temp_RFHEAT_N0256_DC12_RF12.npz\n",
      "/home/adrien/Documents/Programmes/Python/THESE/RF_Temp_Fit/Time_and_temp_RFHEAT_N0256_DC13_RF13.npz\n",
      "/home/adrien/Documents/Programmes/Python/THESE/RF_Temp_Fit/Time_and_temp_RFHEAT_N0512_DC03_RF03.npz\n",
      "/home/adrien/Documents/Programmes/Python/THESE/RF_Temp_Fit/Time_and_temp_RFHEAT_N0512_DC04_RF04.npz\n",
      "/home/adrien/Documents/Programmes/Python/THESE/RF_Temp_Fit/Time_and_temp_RFHEAT_N0512_DC05_RF05.npz\n",
      "/home/adrien/Documents/Programmes/Python/THESE/RF_Temp_Fit/Time_and_temp_RFHEAT_N0512_DC06_RF06.npz\n",
      "/home/adrien/Documents/Programmes/Python/THESE/RF_Temp_Fit/Time_and_temp_RFHEAT_N0512_DC07_RF07.npz\n",
      "/home/adrien/Documents/Programmes/Python/THESE/RF_Temp_Fit/Time_and_temp_RFHEAT_N0512_DC08_RF08.npz\n",
      "/home/adrien/Documents/Programmes/Python/THESE/RF_Temp_Fit/Time_and_temp_RFHEAT_N0512_DC09_RF09.npz\n",
      "/home/adrien/Documents/Programmes/Python/THESE/RF_Temp_Fit/Time_and_temp_RFHEAT_N0512_DC10_RF10.npz\n",
      "/home/adrien/Documents/Programmes/Python/THESE/RF_Temp_Fit/Time_and_temp_RFHEAT_N0512_DC11_RF11.npz\n",
      "/home/adrien/Documents/Programmes/Python/THESE/RF_Temp_Fit/Time_and_temp_RFHEAT_N0512_DC12_RF12.npz\n",
      "/home/adrien/Documents/Programmes/Python/THESE/RF_Temp_Fit/Time_and_temp_RFHEAT_N0512_DC13_RF13.npz\n",
      "/home/adrien/Documents/Programmes/Python/THESE/RF_Temp_Fit/Time_and_temp_RFHEAT_N1024_DC05_RF05.npz\n",
      "/home/adrien/Documents/Programmes/Python/THESE/RF_Temp_Fit/Time_and_temp_RFHEAT_N1024_DC06_RF06.npz\n",
      "/home/adrien/Documents/Programmes/Python/THESE/RF_Temp_Fit/Time_and_temp_RFHEAT_N1024_DC07_RF07.npz\n",
      "/home/adrien/Documents/Programmes/Python/THESE/RF_Temp_Fit/Time_and_temp_RFHEAT_N1024_DC08_RF08.npz\n",
      "/home/adrien/Documents/Programmes/Python/THESE/RF_Temp_Fit/Time_and_temp_RFHEAT_N1024_DC09_RF09.npz\n",
      "/home/adrien/Documents/Programmes/Python/THESE/RF_Temp_Fit/Time_and_temp_RFHEAT_N1024_DC10_RF10.npz\n",
      "/home/adrien/Documents/Programmes/Python/THESE/RF_Temp_Fit/Time_and_temp_RFHEAT_N1024_DC11_RF11.npz\n",
      "/home/adrien/Documents/Programmes/Python/THESE/RF_Temp_Fit/Time_and_temp_RFHEAT_N1024_DC12_RF12.npz\n",
      "/home/adrien/Documents/Programmes/Python/THESE/RF_Temp_Fit/Time_and_temp_RFHEAT_N1024_DC13_RF13.npz\n",
      "/home/adrien/Documents/Programmes/Python/THESE/RF_Temp_Fit/Time_and_temp_RFHEAT_N1024_DC19_RF19.npz\n",
      "/home/adrien/Documents/Programmes/Python/THESE/RF_Temp_Fit/Time_and_temp_RFHEAT_N1024_DC20_RF20.npz\n",
      "/home/adrien/Documents/Programmes/Python/THESE/RF_Temp_Fit/Time_and_temp_RFHEAT_N1024_DC21_RF21.npz\n",
      "/home/adrien/Documents/Programmes/Python/THESE/RF_Temp_Fit/Time_and_temp_RFHEAT_N1024_DC22_RF22.npz\n",
      "/home/adrien/Documents/Programmes/Python/THESE/RF_Temp_Fit/Time_and_temp_RFHEAT_N1024_DC23_RF23.npz\n",
      "/home/adrien/Documents/Programmes/Python/THESE/RF_Temp_Fit/Time_and_temp_RFHEAT_N1024_DC24_RF24.npz\n"
     ]
    }
   ],
   "source": [
    "## GUI for data loading\n",
    "# Select one data file all the way down to the directories\n",
    "# SELECT Temp_SimuTypeQ_N ... .dat\n",
    "\n",
    "file_path = filedialog.askopenfilename(multiple=True) # initialdir = dir_string\n",
    "# print(file_path)\n",
    "\n",
    "time       = []\n",
    "T_aux_avg  = []\n",
    "r2_v2_rlim      = []\n",
    "\n",
    "for i,j in enumerate(file_path):\n",
    "    print(j)\n",
    "    with load(j) as data:\n",
    "        time.append(data['time'])\n",
    "        T_aux_avg.append(data['temp'])\n",
    "        r2_v2_rlim.append(data['r2_v2_rlim'])"
   ]
  },
  {
   "cell_type": "code",
   "execution_count": 129,
   "id": "3efe5f87",
   "metadata": {},
   "outputs": [
    {
     "name": "stdout",
     "output_type": "stream",
     "text": [
      "88.4032051741599\n",
      "91.99671408043952\n",
      "70.20884466891401\n",
      "1.2591462741061412\n"
     ]
    }
   ],
   "source": [
    "myRF = 24\n",
    "\n",
    "for k in range(3):\n",
    "    print(r2_v2_rlim[myRF][k+6][50]*1000) # [condition][dim][time]\n",
    "\n",
    "\n",
    "R = r2_v2_rlim[myRF][6][50]*1000\n",
    "L = r2_v2_rlim[myRF][8][50]*1000\n",
    "aws = 0\n",
    "print((R+(1.48*aws/2))/(L+1.48*aws/2))"
   ]
  },
  {
   "cell_type": "code",
   "execution_count": 7,
   "id": "a70bc22b",
   "metadata": {},
   "outputs": [],
   "source": [
    "def tanh_to10(x,x0,K,theta):\n",
    "    return 10**( K*(1+tanh(theta*(x-x0))) )\n",
    "def tanh_plus_to10(x,x0,K,theta,a,b):\n",
    "    return 10**( K*(1+tanh(theta*(x-x0))) + a*(x)+b )\n",
    "\n",
    "def gen_logi_to10(x,A,K,C,B,M,nu):\n",
    "    return 10**( A + ( K-A ) / ( C+exp(-B*(x-M)) )**(nu) )\n",
    "\n",
    "def func2_to10(t, t0, A, B,  C, D):\n",
    "    return 10**( A*(t-t0)/(C+(t-t0)**2)**D + B )\n",
    "def func2abs_to10(t, t0, A, B,  C, D):\n",
    "    return 10**( A*(t-t0)/(C+abs(t-t0))**D + B )\n",
    "def func2ter_to10(t, t0, A, B, D):\n",
    "    return 10**( A*(t-t0)**(2*D) / (1+(t-t0)**2)**D + B )\n",
    "#def func2bis_to10(t, t0, A, B,  C, D):\n",
    "#    tau = t-t0\n",
    "#    return 10**( (A-B)*(tau) / (C+(tau**2)**(D/2))**(1/D) + B )\n",
    "def func3_to10(t, t0, A, B,  C):\n",
    "    return 10**( A*(t-t0) / (C+(t-t0)**2) + B )\n",
    "def func4_to10(t, t0, A, B, C):\n",
    "    return 10**( A*(t-t0) / (C+abs(t-t0)) + B )\n",
    "def func5_to10(t, t0, A, B, C, k):\n",
    "    return 10**( A*(t-t0) / (C+abs(t-t0)**k)**(1/k) + B )\n",
    "def func6_to10(t, t0, A, C, k):\n",
    "    return 10**( A*(t-t0) / (C+abs(t-t0)**k)**(1/k) )\n",
    "def func7_to10(t, t0, A, B, k):\n",
    "    return 10**( A*(t-t0) / (1+abs(t-t0)**k)**(1/k) + B)"
   ]
  },
  {
   "cell_type": "code",
   "execution_count": 8,
   "id": "29c9b8cc",
   "metadata": {},
   "outputs": [],
   "source": [
    "def func2(t, t0, A, B,  C, D):\n",
    "    return A*(t-t0)/(C+(t-t0)**2)**D + B\n",
    "def func2abs(t, t0, A, B,  C, D):\n",
    "    return A*(t-t0)/(C+abs(t-t0))**D + B\n",
    "def func5(t, t0, A, B, C, k):\n",
    "    return A*(t-t0) / (C+abs(t-t0)**k)**(1/k) + B"
   ]
  },
  {
   "cell_type": "code",
   "execution_count": 139,
   "id": "519def5e",
   "metadata": {},
   "outputs": [],
   "source": [
    "def func_lin(t,a,b):\n",
    "    return a*t+b\n",
    "def func_exp(x,a,b):\n",
    "    return b*exp(-a*x)\n",
    "def func_pow(t,A,B):\n",
    "    return t**A * 10**B"
   ]
  },
  {
   "cell_type": "code",
   "execution_count": 172,
   "id": "cdab71ce",
   "metadata": {},
   "outputs": [],
   "source": [
    "cm = pylab.get_cmap('tab10')"
   ]
  },
  {
   "cell_type": "code",
   "execution_count": 13,
   "id": "7d4ece5e",
   "metadata": {
    "collapsed": true
   },
   "outputs": [
    {
     "name": "stdout",
     "output_type": "stream",
     "text": [
      "0 /home/adrien/Documents/Programmes/Python/THESE/RF_Temp_Fit/Time_and_temp_RFHEAT_N0256_DC05_RF05.npz\n",
      "1 /home/adrien/Documents/Programmes/Python/THESE/RF_Temp_Fit/Time_and_temp_RFHEAT_N0256_DC06_RF06.npz\n",
      "2 /home/adrien/Documents/Programmes/Python/THESE/RF_Temp_Fit/Time_and_temp_RFHEAT_N0256_DC07_RF07.npz\n",
      "3 /home/adrien/Documents/Programmes/Python/THESE/RF_Temp_Fit/Time_and_temp_RFHEAT_N0256_DC08_RF08.npz\n",
      "4 /home/adrien/Documents/Programmes/Python/THESE/RF_Temp_Fit/Time_and_temp_RFHEAT_N0256_DC09_RF09.npz\n",
      "5 /home/adrien/Documents/Programmes/Python/THESE/RF_Temp_Fit/Time_and_temp_RFHEAT_N0256_DC10_RF10.npz\n",
      "6 /home/adrien/Documents/Programmes/Python/THESE/RF_Temp_Fit/Time_and_temp_RFHEAT_N0256_DC11_RF11.npz\n",
      "7 /home/adrien/Documents/Programmes/Python/THESE/RF_Temp_Fit/Time_and_temp_RFHEAT_N0256_DC12_RF12.npz\n",
      "8 /home/adrien/Documents/Programmes/Python/THESE/RF_Temp_Fit/Time_and_temp_RFHEAT_N0256_DC13_RF13.npz\n",
      "9 /home/adrien/Documents/Programmes/Python/THESE/RF_Temp_Fit/Time_and_temp_RFHEAT_N0512_DC03_RF03.npz\n",
      "10 /home/adrien/Documents/Programmes/Python/THESE/RF_Temp_Fit/Time_and_temp_RFHEAT_N0512_DC04_RF04.npz\n",
      "11 /home/adrien/Documents/Programmes/Python/THESE/RF_Temp_Fit/Time_and_temp_RFHEAT_N0512_DC05_RF05.npz\n",
      "12 /home/adrien/Documents/Programmes/Python/THESE/RF_Temp_Fit/Time_and_temp_RFHEAT_N0512_DC06_RF06.npz\n",
      "13 /home/adrien/Documents/Programmes/Python/THESE/RF_Temp_Fit/Time_and_temp_RFHEAT_N0512_DC07_RF07.npz\n",
      "14 /home/adrien/Documents/Programmes/Python/THESE/RF_Temp_Fit/Time_and_temp_RFHEAT_N0512_DC08_RF08.npz\n",
      "15 /home/adrien/Documents/Programmes/Python/THESE/RF_Temp_Fit/Time_and_temp_RFHEAT_N0512_DC09_RF09.npz\n",
      "16 /home/adrien/Documents/Programmes/Python/THESE/RF_Temp_Fit/Time_and_temp_RFHEAT_N0512_DC10_RF10.npz\n",
      "17 /home/adrien/Documents/Programmes/Python/THESE/RF_Temp_Fit/Time_and_temp_RFHEAT_N0512_DC11_RF11.npz\n",
      "18 /home/adrien/Documents/Programmes/Python/THESE/RF_Temp_Fit/Time_and_temp_RFHEAT_N0512_DC12_RF12.npz\n",
      "19 /home/adrien/Documents/Programmes/Python/THESE/RF_Temp_Fit/Time_and_temp_RFHEAT_N0512_DC13_RF13.npz\n",
      "20 /home/adrien/Documents/Programmes/Python/THESE/RF_Temp_Fit/Time_and_temp_RFHEAT_N1024_DC05_RF05.npz\n",
      "21 /home/adrien/Documents/Programmes/Python/THESE/RF_Temp_Fit/Time_and_temp_RFHEAT_N1024_DC06_RF06.npz\n",
      "22 /home/adrien/Documents/Programmes/Python/THESE/RF_Temp_Fit/Time_and_temp_RFHEAT_N1024_DC07_RF07.npz\n",
      "23 /home/adrien/Documents/Programmes/Python/THESE/RF_Temp_Fit/Time_and_temp_RFHEAT_N1024_DC08_RF08.npz\n",
      "24 /home/adrien/Documents/Programmes/Python/THESE/RF_Temp_Fit/Time_and_temp_RFHEAT_N1024_DC09_RF09.npz\n",
      "25 /home/adrien/Documents/Programmes/Python/THESE/RF_Temp_Fit/Time_and_temp_RFHEAT_N1024_DC10_RF10.npz\n",
      "26 /home/adrien/Documents/Programmes/Python/THESE/RF_Temp_Fit/Time_and_temp_RFHEAT_N1024_DC11_RF11.npz\n",
      "27 /home/adrien/Documents/Programmes/Python/THESE/RF_Temp_Fit/Time_and_temp_RFHEAT_N1024_DC12_RF12.npz\n",
      "28 /home/adrien/Documents/Programmes/Python/THESE/RF_Temp_Fit/Time_and_temp_RFHEAT_N1024_DC13_RF13.npz\n",
      "29 /home/adrien/Documents/Programmes/Python/THESE/RF_Temp_Fit/Time_and_temp_RFHEAT_N1024_DC91_RF91.npz\n",
      "30 /home/adrien/Documents/Programmes/Python/THESE/RF_Temp_Fit/Time_and_temp_RFHEAT_N1024_DC92_RF92.npz\n"
     ]
    }
   ],
   "source": [
    "for i,j in enumerate(file_path):\n",
    "    print(i,j)"
   ]
  },
  {
   "cell_type": "code",
   "execution_count": 191,
   "id": "3f46f3c6",
   "metadata": {},
   "outputs": [
    {
     "name": "stdout",
     "output_type": "stream",
     "text": [
      "401073.4060130965\n"
     ]
    }
   ],
   "source": [
    "my_try = int(file_path[to_fit][file_path[to_fit].find('DC')+2:file_path[to_fit].find('DC')+4])\n",
    "Urf = array([0, 0, 0, 0, 0, 55.35111, 57.40115, 59.45119, 61.50124, 63.55128, 65.60132, 67.65136, 69.70140, 71.75144,0, 0, 0, 0, 0, 64.6, 62.5, 62.83, 63.03, 63.24, 63.44])\n",
    "q = array([0, 0, 0, 0, 0, 0.54, 0.56,  0.58,  0.6, 0.62,  0.64,  0.66,  0.68,  0.7, 0, 0, 0, 0, 0, 0.63, 0.61, 0.612, 0.614, 0.616, 0.618])\n",
    "Udc = array([0, 0, 0, 0, 0, 11.10109, 12.0829, 13.12915, 14.24497, 15.43671, 16.71181, 18.07917, 19.54956, 21.13623, 0, 0, 0, 0, 0, 16.0, 14.8, 14.95, 15.07, 15.19, 15.31])\n",
    "\n",
    "beta_guess = 0.423\n",
    "a = 0\n",
    "for k in range(250):\n",
    "    beta_guess = beta_continue_alamano(a,q,beta_guess)\n",
    "    beta_guess = sqrt(beta_guess)\n",
    "\n",
    "omega_z_2 = ( 2*pi*100e3 )**2 * array(Udc)\n",
    "omega_x_2 = ( beta_guess*Omega/2 )**2\n",
    "omega_r_2 = omega_x_2 - 0.5*omega_z_2\n",
    "print(sqrt(omega_r_2[my_try])/2/pi)\n",
    "\n",
    "fs = 1/diff(x)[1]"
   ]
  },
  {
   "cell_type": "code",
   "execution_count": 18,
   "id": "5f38bf75",
   "metadata": {},
   "outputs": [],
   "source": [
    "import matplotlib.ticker as ticker"
   ]
  },
  {
   "cell_type": "code",
   "execution_count": 169,
   "id": "3848b36f",
   "metadata": {
    "collapsed": true
   },
   "outputs": [
    {
     "name": "stdout",
     "output_type": "stream",
     "text": [
      "file to analyze\n",
      "> 0 /home/adrien/Documents/Programmes/Python/THESE/RF_Temp_Fit/Time_and_temp_RFHEAT_N0256_DC05_RF05.npz\n"
     ]
    },
    {
     "ename": "KeyboardInterrupt",
     "evalue": "",
     "output_type": "error",
     "traceback": [
      "\u001b[0;31m---------------------------------------------------------------------------\u001b[0m",
      "\u001b[0;31mKeyboardInterrupt\u001b[0m                         Traceback (most recent call last)",
      "\u001b[0;32m/tmp/ipykernel_10309/2686756093.py\u001b[0m in \u001b[0;36m<module>\u001b[0;34m\u001b[0m\n\u001b[1;32m     27\u001b[0m \u001b[0;34m\u001b[0m\u001b[0m\n\u001b[1;32m     28\u001b[0m \u001b[0;31m# proper fit of the smoothed curve limiter up to threshold T\u001b[0m\u001b[0;34m\u001b[0m\u001b[0;34m\u001b[0m\u001b[0m\n\u001b[0;32m---> 29\u001b[0;31m popt, pcov = curve_fit(func5, x[start_for_fit:end_fit],\n\u001b[0m\u001b[1;32m     30\u001b[0m                               \u001b[0mlog10\u001b[0m\u001b[0;34m(\u001b[0m\u001b[0my_filt\u001b[0m\u001b[0;34m[\u001b[0m\u001b[0mstart_for_fit\u001b[0m\u001b[0;34m:\u001b[0m\u001b[0mend_fit\u001b[0m\u001b[0;34m]\u001b[0m\u001b[0;34m)\u001b[0m\u001b[0;34m,\u001b[0m\u001b[0;34m\u001b[0m\u001b[0;34m\u001b[0m\u001b[0m\n\u001b[1;32m     31\u001b[0m                        \u001b[0mp0\u001b[0m\u001b[0;34m,\u001b[0m \u001b[0mmaxfev\u001b[0m\u001b[0;34m=\u001b[0m \u001b[0;36m25000\u001b[0m\u001b[0;34m,\u001b[0m\u001b[0;34m\u001b[0m\u001b[0;34m\u001b[0m\u001b[0m\n",
      "\u001b[0;32m/usr/lib/python3/dist-packages/scipy/optimize/_minpack_py.py\u001b[0m in \u001b[0;36mcurve_fit\u001b[0;34m(f, xdata, ydata, p0, sigma, absolute_sigma, check_finite, bounds, method, jac, **kwargs)\u001b[0m\n\u001b[1;32m    798\u001b[0m             \u001b[0mkwargs\u001b[0m\u001b[0;34m[\u001b[0m\u001b[0;34m'max_nfev'\u001b[0m\u001b[0;34m]\u001b[0m \u001b[0;34m=\u001b[0m \u001b[0mkwargs\u001b[0m\u001b[0;34m.\u001b[0m\u001b[0mpop\u001b[0m\u001b[0;34m(\u001b[0m\u001b[0;34m'maxfev'\u001b[0m\u001b[0;34m,\u001b[0m \u001b[0;32mNone\u001b[0m\u001b[0;34m)\u001b[0m\u001b[0;34m\u001b[0m\u001b[0;34m\u001b[0m\u001b[0m\n\u001b[1;32m    799\u001b[0m \u001b[0;34m\u001b[0m\u001b[0m\n\u001b[0;32m--> 800\u001b[0;31m         res = least_squares(func, p0, jac=jac, bounds=bounds, method=method,\n\u001b[0m\u001b[1;32m    801\u001b[0m                             **kwargs)\n\u001b[1;32m    802\u001b[0m \u001b[0;34m\u001b[0m\u001b[0m\n",
      "\u001b[0;32m/usr/lib/python3/dist-packages/scipy/optimize/_lsq/least_squares.py\u001b[0m in \u001b[0;36mleast_squares\u001b[0;34m(fun, x0, jac, bounds, method, ftol, xtol, gtol, x_scale, loss, f_scale, diff_step, tr_solver, tr_options, jac_sparsity, max_nfev, verbose, args, kwargs)\u001b[0m\n\u001b[1;32m    926\u001b[0m \u001b[0;34m\u001b[0m\u001b[0m\n\u001b[1;32m    927\u001b[0m     \u001b[0;32melif\u001b[0m \u001b[0mmethod\u001b[0m \u001b[0;34m==\u001b[0m \u001b[0;34m'trf'\u001b[0m\u001b[0;34m:\u001b[0m\u001b[0;34m\u001b[0m\u001b[0;34m\u001b[0m\u001b[0m\n\u001b[0;32m--> 928\u001b[0;31m         result = trf(fun_wrapped, jac_wrapped, x0, f0, J0, lb, ub, ftol, xtol,\n\u001b[0m\u001b[1;32m    929\u001b[0m                      \u001b[0mgtol\u001b[0m\u001b[0;34m,\u001b[0m \u001b[0mmax_nfev\u001b[0m\u001b[0;34m,\u001b[0m \u001b[0mx_scale\u001b[0m\u001b[0;34m,\u001b[0m \u001b[0mloss_function\u001b[0m\u001b[0;34m,\u001b[0m \u001b[0mtr_solver\u001b[0m\u001b[0;34m,\u001b[0m\u001b[0;34m\u001b[0m\u001b[0;34m\u001b[0m\u001b[0m\n\u001b[1;32m    930\u001b[0m                      tr_options.copy(), verbose)\n",
      "\u001b[0;32m/usr/lib/python3/dist-packages/scipy/optimize/_lsq/trf.py\u001b[0m in \u001b[0;36mtrf\u001b[0;34m(fun, jac, x0, f0, J0, lb, ub, ftol, xtol, gtol, max_nfev, x_scale, loss_function, tr_solver, tr_options, verbose)\u001b[0m\n\u001b[1;32m    121\u001b[0m             loss_function, tr_solver, tr_options, verbose)\n\u001b[1;32m    122\u001b[0m     \u001b[0;32melse\u001b[0m\u001b[0;34m:\u001b[0m\u001b[0;34m\u001b[0m\u001b[0;34m\u001b[0m\u001b[0m\n\u001b[0;32m--> 123\u001b[0;31m         return trf_bounds(\n\u001b[0m\u001b[1;32m    124\u001b[0m             \u001b[0mfun\u001b[0m\u001b[0;34m,\u001b[0m \u001b[0mjac\u001b[0m\u001b[0;34m,\u001b[0m \u001b[0mx0\u001b[0m\u001b[0;34m,\u001b[0m \u001b[0mf0\u001b[0m\u001b[0;34m,\u001b[0m \u001b[0mJ0\u001b[0m\u001b[0;34m,\u001b[0m \u001b[0mlb\u001b[0m\u001b[0;34m,\u001b[0m \u001b[0mub\u001b[0m\u001b[0;34m,\u001b[0m \u001b[0mftol\u001b[0m\u001b[0;34m,\u001b[0m \u001b[0mxtol\u001b[0m\u001b[0;34m,\u001b[0m \u001b[0mgtol\u001b[0m\u001b[0;34m,\u001b[0m \u001b[0mmax_nfev\u001b[0m\u001b[0;34m,\u001b[0m \u001b[0mx_scale\u001b[0m\u001b[0;34m,\u001b[0m\u001b[0;34m\u001b[0m\u001b[0;34m\u001b[0m\u001b[0m\n\u001b[1;32m    125\u001b[0m             loss_function, tr_solver, tr_options, verbose)\n",
      "\u001b[0;32m/usr/lib/python3/dist-packages/scipy/optimize/_lsq/trf.py\u001b[0m in \u001b[0;36mtrf_bounds\u001b[0;34m(fun, jac, x0, f0, J0, lb, ub, ftol, xtol, gtol, max_nfev, x_scale, loss_function, tr_solver, tr_options, verbose)\u001b[0m\n\u001b[1;32m    299\u001b[0m             \u001b[0mJ_h\u001b[0m \u001b[0;34m=\u001b[0m \u001b[0mJ_augmented\u001b[0m\u001b[0;34m[\u001b[0m\u001b[0;34m:\u001b[0m\u001b[0mm\u001b[0m\u001b[0;34m]\u001b[0m  \u001b[0;31m# Memory view.\u001b[0m\u001b[0;34m\u001b[0m\u001b[0;34m\u001b[0m\u001b[0m\n\u001b[1;32m    300\u001b[0m             \u001b[0mJ_augmented\u001b[0m\u001b[0;34m[\u001b[0m\u001b[0mm\u001b[0m\u001b[0;34m:\u001b[0m\u001b[0;34m]\u001b[0m \u001b[0;34m=\u001b[0m \u001b[0mnp\u001b[0m\u001b[0;34m.\u001b[0m\u001b[0mdiag\u001b[0m\u001b[0;34m(\u001b[0m\u001b[0mdiag_h\u001b[0m\u001b[0;34m**\u001b[0m\u001b[0;36m0.5\u001b[0m\u001b[0;34m)\u001b[0m\u001b[0;34m\u001b[0m\u001b[0;34m\u001b[0m\u001b[0m\n\u001b[0;32m--> 301\u001b[0;31m             \u001b[0mU\u001b[0m\u001b[0;34m,\u001b[0m \u001b[0ms\u001b[0m\u001b[0;34m,\u001b[0m \u001b[0mV\u001b[0m \u001b[0;34m=\u001b[0m \u001b[0msvd\u001b[0m\u001b[0;34m(\u001b[0m\u001b[0mJ_augmented\u001b[0m\u001b[0;34m,\u001b[0m \u001b[0mfull_matrices\u001b[0m\u001b[0;34m=\u001b[0m\u001b[0;32mFalse\u001b[0m\u001b[0;34m)\u001b[0m\u001b[0;34m\u001b[0m\u001b[0;34m\u001b[0m\u001b[0m\n\u001b[0m\u001b[1;32m    302\u001b[0m             \u001b[0mV\u001b[0m \u001b[0;34m=\u001b[0m \u001b[0mV\u001b[0m\u001b[0;34m.\u001b[0m\u001b[0mT\u001b[0m\u001b[0;34m\u001b[0m\u001b[0;34m\u001b[0m\u001b[0m\n\u001b[1;32m    303\u001b[0m             \u001b[0muf\u001b[0m \u001b[0;34m=\u001b[0m \u001b[0mU\u001b[0m\u001b[0;34m.\u001b[0m\u001b[0mT\u001b[0m\u001b[0;34m.\u001b[0m\u001b[0mdot\u001b[0m\u001b[0;34m(\u001b[0m\u001b[0mf_augmented\u001b[0m\u001b[0;34m)\u001b[0m\u001b[0;34m\u001b[0m\u001b[0;34m\u001b[0m\u001b[0m\n",
      "\u001b[0;32m/usr/lib/python3/dist-packages/scipy/linalg/_decomp_svd.py\u001b[0m in \u001b[0;36msvd\u001b[0;34m(a, full_matrices, compute_uv, overwrite_a, check_finite, lapack_driver)\u001b[0m\n\u001b[1;32m    106\u001b[0m \u001b[0;34m\u001b[0m\u001b[0m\n\u001b[1;32m    107\u001b[0m     \"\"\"\n\u001b[0;32m--> 108\u001b[0;31m     \u001b[0ma1\u001b[0m \u001b[0;34m=\u001b[0m \u001b[0m_asarray_validated\u001b[0m\u001b[0;34m(\u001b[0m\u001b[0ma\u001b[0m\u001b[0;34m,\u001b[0m \u001b[0mcheck_finite\u001b[0m\u001b[0;34m=\u001b[0m\u001b[0mcheck_finite\u001b[0m\u001b[0;34m)\u001b[0m\u001b[0;34m\u001b[0m\u001b[0;34m\u001b[0m\u001b[0m\n\u001b[0m\u001b[1;32m    109\u001b[0m     \u001b[0;32mif\u001b[0m \u001b[0mlen\u001b[0m\u001b[0;34m(\u001b[0m\u001b[0ma1\u001b[0m\u001b[0;34m.\u001b[0m\u001b[0mshape\u001b[0m\u001b[0;34m)\u001b[0m \u001b[0;34m!=\u001b[0m \u001b[0;36m2\u001b[0m\u001b[0;34m:\u001b[0m\u001b[0;34m\u001b[0m\u001b[0;34m\u001b[0m\u001b[0m\n\u001b[1;32m    110\u001b[0m         \u001b[0;32mraise\u001b[0m \u001b[0mValueError\u001b[0m\u001b[0;34m(\u001b[0m\u001b[0;34m'expected matrix'\u001b[0m\u001b[0;34m)\u001b[0m\u001b[0;34m\u001b[0m\u001b[0;34m\u001b[0m\u001b[0m\n",
      "\u001b[0;32m/usr/lib/python3/dist-packages/scipy/_lib/_util.py\u001b[0m in \u001b[0;36m_asarray_validated\u001b[0;34m(a, check_finite, sparse_ok, objects_ok, mask_ok, as_inexact)\u001b[0m\n\u001b[1;32m    285\u001b[0m             \u001b[0;32mraise\u001b[0m \u001b[0mValueError\u001b[0m\u001b[0;34m(\u001b[0m\u001b[0;34m'masked arrays are not supported'\u001b[0m\u001b[0;34m)\u001b[0m\u001b[0;34m\u001b[0m\u001b[0;34m\u001b[0m\u001b[0m\n\u001b[1;32m    286\u001b[0m     \u001b[0mtoarray\u001b[0m \u001b[0;34m=\u001b[0m \u001b[0mnp\u001b[0m\u001b[0;34m.\u001b[0m\u001b[0masarray_chkfinite\u001b[0m \u001b[0;32mif\u001b[0m \u001b[0mcheck_finite\u001b[0m \u001b[0;32melse\u001b[0m \u001b[0mnp\u001b[0m\u001b[0;34m.\u001b[0m\u001b[0masarray\u001b[0m\u001b[0;34m\u001b[0m\u001b[0;34m\u001b[0m\u001b[0m\n\u001b[0;32m--> 287\u001b[0;31m     \u001b[0ma\u001b[0m \u001b[0;34m=\u001b[0m \u001b[0mtoarray\u001b[0m\u001b[0;34m(\u001b[0m\u001b[0ma\u001b[0m\u001b[0;34m)\u001b[0m\u001b[0;34m\u001b[0m\u001b[0;34m\u001b[0m\u001b[0m\n\u001b[0m\u001b[1;32m    288\u001b[0m     \u001b[0;32mif\u001b[0m \u001b[0;32mnot\u001b[0m \u001b[0mobjects_ok\u001b[0m\u001b[0;34m:\u001b[0m\u001b[0;34m\u001b[0m\u001b[0;34m\u001b[0m\u001b[0m\n\u001b[1;32m    289\u001b[0m         \u001b[0;32mif\u001b[0m \u001b[0ma\u001b[0m\u001b[0;34m.\u001b[0m\u001b[0mdtype\u001b[0m \u001b[0;32mis\u001b[0m \u001b[0mnp\u001b[0m\u001b[0;34m.\u001b[0m\u001b[0mdtype\u001b[0m\u001b[0;34m(\u001b[0m\u001b[0;34m'O'\u001b[0m\u001b[0;34m)\u001b[0m\u001b[0;34m:\u001b[0m\u001b[0;34m\u001b[0m\u001b[0;34m\u001b[0m\u001b[0m\n",
      "\u001b[0;32m/usr/lib/python3/dist-packages/numpy/lib/function_base.py\u001b[0m in \u001b[0;36masarray_chkfinite\u001b[0;34m(a, dtype, order)\u001b[0m\n\u001b[1;32m    485\u001b[0m     \"\"\"\n\u001b[1;32m    486\u001b[0m     \u001b[0ma\u001b[0m \u001b[0;34m=\u001b[0m \u001b[0masarray\u001b[0m\u001b[0;34m(\u001b[0m\u001b[0ma\u001b[0m\u001b[0;34m,\u001b[0m \u001b[0mdtype\u001b[0m\u001b[0;34m=\u001b[0m\u001b[0mdtype\u001b[0m\u001b[0;34m,\u001b[0m \u001b[0morder\u001b[0m\u001b[0;34m=\u001b[0m\u001b[0morder\u001b[0m\u001b[0;34m)\u001b[0m\u001b[0;34m\u001b[0m\u001b[0;34m\u001b[0m\u001b[0m\n\u001b[0;32m--> 487\u001b[0;31m     \u001b[0;32mif\u001b[0m \u001b[0ma\u001b[0m\u001b[0;34m.\u001b[0m\u001b[0mdtype\u001b[0m\u001b[0;34m.\u001b[0m\u001b[0mchar\u001b[0m \u001b[0;32min\u001b[0m \u001b[0mtypecodes\u001b[0m\u001b[0;34m[\u001b[0m\u001b[0;34m'AllFloat'\u001b[0m\u001b[0;34m]\u001b[0m \u001b[0;32mand\u001b[0m \u001b[0;32mnot\u001b[0m \u001b[0mnp\u001b[0m\u001b[0;34m.\u001b[0m\u001b[0misfinite\u001b[0m\u001b[0;34m(\u001b[0m\u001b[0ma\u001b[0m\u001b[0;34m)\u001b[0m\u001b[0;34m.\u001b[0m\u001b[0mall\u001b[0m\u001b[0;34m(\u001b[0m\u001b[0;34m)\u001b[0m\u001b[0;34m:\u001b[0m\u001b[0;34m\u001b[0m\u001b[0;34m\u001b[0m\u001b[0m\n\u001b[0m\u001b[1;32m    488\u001b[0m         raise ValueError(\n\u001b[1;32m    489\u001b[0m             \"array must not contain infs or NaNs\")\n",
      "\u001b[0;31mKeyboardInterrupt\u001b[0m: "
     ]
    }
   ],
   "source": [
    "start_for_fit = 200\n",
    "T_crit = 0.5\n",
    "print('file to analyze')\n",
    "\n",
    "to_fit = 0 #11 19 8\n",
    "temp_to_end = 100\n",
    "\n",
    "my_try = int(file_path[to_fit][file_path[to_fit].find('DC')+2:file_path[to_fit].find('DC')+4])\n",
    "print('>',to_fit,file_path[to_fit])\n",
    "x  = time[to_fit]-1e-3\n",
    "y  = T_aux_avg[to_fit]\n",
    "\n",
    "max_f_r = sqrt(omega_r_2[my_try])/2/pi\n",
    "b, a = signal.butter(8,  max_f_r/fs*1.01)\n",
    "y_filt = signal.filtfilt(b, a, y, padlen=150)\n",
    "\n",
    "index_100K = argmin(abs(y_filt-temp_to_end))\n",
    "end_fit = index_100K\n",
    "\n",
    "t0_first_guess = x[where(min(abs(y_filt-T_crit))==abs(y_filt-T_crit))][0] # 2.5e-3\n",
    "B0 = log10(T_crit) # log10( y[where(min(abs(y-T_crit))==abs(y-T_crit))][0] )\n",
    "A0 = log10(max(y_filt[start_for_fit:end_fit]) - B0)\n",
    "\n",
    "\n",
    "\n",
    "p0 = [t0_first_guess,A0,B0,0.01,0.3]\n",
    "\n",
    "# proper fit of the smoothed curve limiter up to threshold T\n",
    "popt, pcov = curve_fit(func5, x[start_for_fit:end_fit],\n",
    "                              log10(y_filt[start_for_fit:end_fit]),\n",
    "                       p0, maxfev= 25000,\n",
    "                       bounds=((-np.inf,-np.inf,-np.inf,0,0),(np.inf,np.inf,2,1.01,1)))\n",
    "print('func5',popt)\n",
    "\n",
    "figname = 'testfitinlin0'\n",
    "figure(figname,clear='True')\n",
    "#xlim(0.8,6)\n",
    "ax2 = subplot(111)\n",
    "ax2.grid()\n",
    "ax2.semilogy(x*1e3, y ,label=r'$T$',color='C0',lw=0.3)\n",
    "ax2.semilogy(x*1e3, y_filt ,label=r'$T$ filtered',color='C1',ls=':',lw=3)\n",
    "ax2.vlines(x[end_fit]*1e3,1e-2,150,color='k')\n",
    "\n",
    "y_fit5 = func5(x[start_for_fit:end_fit],*popt)\n",
    "ax2.semilogy(x[start_for_fit:end_fit]*1e3,10**y_fit5,color='r',ls='--',label=r'$\\psi$',lw=2)\n",
    "\n",
    "nticks = 9\n",
    "maj_loc = ticker.LogLocator(numticks=nticks)\n",
    "min_loc = ticker.LogLocator(subs='all', numticks=nticks)\n",
    "ax2.yaxis.set_major_locator(maj_loc)\n",
    "ax2.yaxis.set_minor_locator(min_loc)\n",
    "\n",
    "ax2.set_xlabel('t [ms]')\n",
    "ax2.set_ylabel('T [K]')\n",
    "# ax2.set_xlim(-0.3,5.6)\n",
    "# ax2.set_ylim(2e-3,300)\n",
    "tight_layout()\n",
    "# savefig(figname+'.eps',dpi=300)"
   ]
  },
  {
   "cell_type": "code",
   "execution_count": 197,
   "id": "4c030cc6",
   "metadata": {},
   "outputs": [
    {
     "name": "stdout",
     "output_type": "stream",
     "text": [
      "file to analyze\n",
      "> 0 /home/adrien/Documents/Programmes/Python/THESE/RF_Temp_Fit/Time_and_temp_RFHEAT_N0256_DC05_RF05.npz\n",
      "Data skipped\n",
      "> 1 /home/adrien/Documents/Programmes/Python/THESE/RF_Temp_Fit/Time_and_temp_RFHEAT_N0256_DC06_RF06.npz\n",
      "[ 0.18492212  3.98391909 -0.01898171  0.05204516  0.11902239]\n",
      "> 2 /home/adrien/Documents/Programmes/Python/THESE/RF_Temp_Fit/Time_and_temp_RFHEAT_N0256_DC07_RF07.npz\n",
      "[ 0.06242862  3.62601072 -0.01101076  0.0445645   0.15040419]\n",
      "> 3 /home/adrien/Documents/Programmes/Python/THESE/RF_Temp_Fit/Time_and_temp_RFHEAT_N0256_DC08_RF08.npz\n",
      "[ 0.02173411  3.60442781 -0.0693643   0.04231391  0.15852348]\n",
      "> 4 /home/adrien/Documents/Programmes/Python/THESE/RF_Temp_Fit/Time_and_temp_RFHEAT_N0256_DC09_RF09.npz\n",
      "[ 0.00737913  3.59901386 -0.14109287  0.03953713  0.17363417]\n",
      "> 5 /home/adrien/Documents/Programmes/Python/THESE/RF_Temp_Fit/Time_and_temp_RFHEAT_N0256_DC10_RF10.npz\n",
      "[ 0.00308311  2.78613363 -0.22488433  0.01926918  0.25635418]\n",
      "> 6 /home/adrien/Documents/Programmes/Python/THESE/RF_Temp_Fit/Time_and_temp_RFHEAT_N0256_DC11_RF11.npz\n",
      "[ 1.41201411e-03  2.80575072e+00 -2.63118592e-01  1.72116875e-02\n",
      "  2.69798588e-01]\n",
      "> 7 /home/adrien/Documents/Programmes/Python/THESE/RF_Temp_Fit/Time_and_temp_RFHEAT_N0256_DC12_RF12.npz\n",
      "[ 8.07633485e-04  2.39074907e+00 -3.12025927e-01  6.01829615e-03\n",
      "  3.77461183e-01]\n",
      "> 8 /home/adrien/Documents/Programmes/Python/THESE/RF_Temp_Fit/Time_and_temp_RFHEAT_N0256_DC13_RF13.npz\n",
      "[ 4.33151003e-04  2.48578350e+00 -3.54741696e-01  7.24541110e-03\n",
      "  3.47912564e-01]\n",
      "> 9 /home/adrien/Documents/Programmes/Python/THESE/RF_Temp_Fit/Time_and_temp_RFHEAT_N0512_DC03_RF03.npz\n",
      "Data skipped\n",
      "> 10 /home/adrien/Documents/Programmes/Python/THESE/RF_Temp_Fit/Time_and_temp_RFHEAT_N0512_DC04_RF04.npz\n",
      "Data skipped\n",
      "> 11 /home/adrien/Documents/Programmes/Python/THESE/RF_Temp_Fit/Time_and_temp_RFHEAT_N0512_DC05_RF05.npz\n",
      "Data skipped\n",
      "> 12 /home/adrien/Documents/Programmes/Python/THESE/RF_Temp_Fit/Time_and_temp_RFHEAT_N0512_DC06_RF06.npz\n",
      "[0.07257661 3.22985831 0.00684819 0.03924249 0.16207771]\n",
      "> 13 /home/adrien/Documents/Programmes/Python/THESE/RF_Temp_Fit/Time_and_temp_RFHEAT_N0512_DC07_RF07.npz\n",
      "[ 0.0276936   2.80017519 -0.00585929  0.02511567  0.22968588]\n",
      "> 14 /home/adrien/Documents/Programmes/Python/THESE/RF_Temp_Fit/Time_and_temp_RFHEAT_N0512_DC08_RF08.npz\n",
      "[ 0.01222754  2.57508196 -0.00821844  0.01384136  0.3084702 ]\n",
      "> 15 /home/adrien/Documents/Programmes/Python/THESE/RF_Temp_Fit/Time_and_temp_RFHEAT_N0512_DC09_RF09.npz\n",
      "[ 0.00415158  2.68655092 -0.04852653  0.01429603  0.3064139 ]\n",
      "> 16 /home/adrien/Documents/Programmes/Python/THESE/RF_Temp_Fit/Time_and_temp_RFHEAT_N0512_DC10_RF10.npz\n",
      "[ 2.02394212e-03  2.47779661e+00 -1.31526076e-01  9.01464890e-03\n",
      "  3.48594233e-01]\n",
      "> 17 /home/adrien/Documents/Programmes/Python/THESE/RF_Temp_Fit/Time_and_temp_RFHEAT_N0512_DC11_RF11.npz\n",
      "[ 1.08407885e-03  2.49155978e+00 -1.70633233e-01  8.11443552e-03\n",
      "  3.51832810e-01]\n",
      "> 18 /home/adrien/Documents/Programmes/Python/THESE/RF_Temp_Fit/Time_and_temp_RFHEAT_N0512_DC12_RF12.npz\n",
      "[ 6.89655053e-04  2.64574386e+00 -2.09078862e-01  1.03612808e-02\n",
      "  3.16832595e-01]\n",
      "> 19 /home/adrien/Documents/Programmes/Python/THESE/RF_Temp_Fit/Time_and_temp_RFHEAT_N0512_DC13_RF13.npz\n",
      "[ 2.89113905e-04  2.48904538e+00 -3.03933620e-01  5.16133834e-03\n",
      "  3.87937744e-01]\n",
      "> 20 /home/adrien/Documents/Programmes/Python/THESE/RF_Temp_Fit/Time_and_temp_RFHEAT_N1024_DC05_RF05.npz\n",
      "[0.06992296 2.66158197 0.11360162 0.02328793 0.2460759 ]\n",
      "> 21 /home/adrien/Documents/Programmes/Python/THESE/RF_Temp_Fit/Time_and_temp_RFHEAT_N1024_DC06_RF06.npz\n",
      "[0.03060111 2.44615398 0.08500806 0.01307055 0.32517541]\n",
      "> 22 /home/adrien/Documents/Programmes/Python/THESE/RF_Temp_Fit/Time_and_temp_RFHEAT_N1024_DC07_RF07.npz\n",
      "[0.01300411 2.36712166 0.03860547 0.01005895 0.34897249]\n",
      "> 23 /home/adrien/Documents/Programmes/Python/THESE/RF_Temp_Fit/Time_and_temp_RFHEAT_N1024_DC08_RF08.npz\n",
      "[0.00624911 2.27253666 0.02066434 0.00560801 0.41440543]\n",
      "> 24 /home/adrien/Documents/Programmes/Python/THESE/RF_Temp_Fit/Time_and_temp_RFHEAT_N1024_DC09_RF09.npz\n",
      "[ 9.55119322e-04  3.40234163e+00 -5.77688936e-02  2.53595457e-02\n",
      "  2.57262553e-01]\n",
      "> 25 /home/adrien/Documents/Programmes/Python/THESE/RF_Temp_Fit/Time_and_temp_RFHEAT_N1024_DC10_RF10.npz\n",
      "[ 1.49092933e-03  2.40094928e+00 -3.57988576e-02  6.27264113e-03\n",
      "  3.86842202e-01]\n",
      "> 26 /home/adrien/Documents/Programmes/Python/THESE/RF_Temp_Fit/Time_and_temp_RFHEAT_N1024_DC11_RF11.npz\n",
      "[ 8.70610813e-04  2.53320537e+00 -8.10971298e-02  8.68018232e-03\n",
      "  3.40992702e-01]\n",
      "> 27 /home/adrien/Documents/Programmes/Python/THESE/RF_Temp_Fit/Time_and_temp_RFHEAT_N1024_DC12_RF12.npz\n",
      "[ 5.88108203e-04  2.81848347e+00 -1.22008048e-01  1.53943492e-02\n",
      "  2.65603493e-01]\n",
      "> 28 /home/adrien/Documents/Programmes/Python/THESE/RF_Temp_Fit/Time_and_temp_RFHEAT_N1024_DC13_RF13.npz\n",
      "[ 3.80612512e-04  2.60312840e+00 -1.48011145e-01  9.98877942e-03\n",
      "  3.05519375e-01]\n",
      "> 29 /home/adrien/Documents/Programmes/Python/THESE/RF_Temp_Fit/Time_and_temp_RFHEAT_N1024_DC19_RF19.npz\n",
      "[1.84709035e-03 2.95989494e+00 6.17607057e-03 1.89168203e-02\n",
      " 2.70898069e-01]\n",
      "> 30 /home/adrien/Documents/Programmes/Python/THESE/RF_Temp_Fit/Time_and_temp_RFHEAT_N1024_DC20_RF20.npz\n",
      "[0.00370658 2.30198785 0.02010304 0.00529095 0.42022099]\n",
      "> 31 /home/adrien/Documents/Programmes/Python/THESE/RF_Temp_Fit/Time_and_temp_RFHEAT_N1024_DC21_RF21.npz\n",
      "[0.00352008 2.25645343 0.02678657 0.0037159  0.46149378]\n",
      "> 32 /home/adrien/Documents/Programmes/Python/THESE/RF_Temp_Fit/Time_and_temp_RFHEAT_N1024_DC22_RF22.npz\n",
      "[ 1.08711157e-03  3.29084469e+00 -1.93168412e-03  2.21570801e-02\n",
      "  2.76852595e-01]\n",
      "total amount of non fitted curves 4\n"
     ]
    }
   ],
   "source": [
    "# Fit all curves\n",
    "# Smooth data temperature\n",
    "# guess first parameter set\n",
    "# fit smoothed data up to threshold temperature\n",
    "# much more consistent than below\n",
    "\n",
    "popt_smooth = np.zeros((len(file_path),5))\n",
    "temp_to_end = [100, 100, 75, 50, 50, 50, 50, 50, 50,\n",
    "               75, 75, 75, 75, 75, 75, 75, 75, 75, 75, 75,\n",
    "               100, 100, 100, 100, 100, 100, 100, 100, 75, 150, 100, 100, 100, 100, 100] # Temperature to stop the fit\n",
    "# 100, 100, 100, 100, 100, 100, 100, 100, 100   75, 75, 75, 75, 75, 75, 75, 75, 75\n",
    "start_for_fit = 200\n",
    "T_crit = 0.5\n",
    "print('file to analyze')\n",
    "not_fitted = 0\n",
    "for to_fit in range(len(file_path[:-2])):\n",
    "    j = file_path[to_fit]\n",
    "# to_fit = 30\n",
    "# j = file_path[to_fit]\n",
    "    if to_fit!=0 and to_fit!=9 and to_fit!=10 and to_fit!=11:\n",
    "    # retrive time and temperature from the curve\n",
    "        print('>',to_fit,j)\n",
    "        my_try = int(file_path[to_fit][file_path[to_fit].find('DC')+2:file_path[to_fit].find('DC')+4])\n",
    "        x  = time[to_fit]-1e-3\n",
    "        y  = T_aux_avg[to_fit]\n",
    "\n",
    "        # Smoothing signal with zero delay shift fit\n",
    "        max_f_r = sqrt(omega_r_2[my_try])/2/pi\n",
    "        b, a = signal.butter(8,  max_f_r/fs*2.01)\n",
    "        y_filt = signal.filtfilt(b, a, y, padlen=150)\n",
    "\n",
    "        # Fit parameters first guesses\n",
    "        t0_first_guess = x[where(min(abs(y_filt-T_crit))==abs(y_filt-T_crit))][0] # 2.5e-3\n",
    "        B0 = log10(T_crit) # log10( y[where(min(abs(y-T_crit))==abs(y-T_crit))][0] )\n",
    "        A0 = log10(max(y_filt[start_for_fit:end_fit]) - B0)\n",
    "\n",
    "        # select index of temp where stop the fit\n",
    "        # I stop the fit when T reaches a given T\n",
    "        index_100K = argmin(abs(y_filt-temp_to_end[to_fit]))\n",
    "        end_fit = index_100K\n",
    "\n",
    "        # set initial guess of fit parameters\n",
    "        p0 = [t0_first_guess,A0,B0,0.01,0.3]\n",
    "        try:\n",
    "            # proper fit of the smoothed curve limiter up to threshold T\n",
    "            popt, pcov = curve_fit(func5, x[start_for_fit:end_fit],\n",
    "                                          log10(y_filt[start_for_fit:end_fit]),\n",
    "                                   p0, maxfev= 25000,\n",
    "                                   bounds=((-np.inf,-np.inf,-np.inf,0,0),(np.inf,np.inf,2,1.01,1)))\n",
    "            print(popt)\n",
    "            popt_smooth[to_fit,:] = popt\n",
    "        except RuntimeError:\n",
    "            print('Optimal parameters not found: Number of calls to function has reached maxfev')\n",
    "            not_fitted += 1\n",
    "    else:\n",
    "        print('>',to_fit,j)\n",
    "        print('Data skipped')\n",
    "        not_fitted += 1\n",
    "    #     if to_fit == 28:\n",
    "    #         tm.sleep(5)\n",
    "    #     else:\n",
    "    #         tm.sleep(0.5)\n",
    "print('total amount of non fitted curves',not_fitted)"
   ]
  },
  {
   "cell_type": "code",
   "execution_count": 199,
   "id": "5a056d9c",
   "metadata": {},
   "outputs": [
    {
     "name": "stdout",
     "output_type": "stream",
     "text": [
      "file to analyze\n",
      "> 34 /home/adrien/Documents/Programmes/Python/THESE/RF_Temp_Fit/Time_and_temp_RFHEAT_N1024_DC24_RF24.npz\n",
      "[0.00303696 2.25705018 0.00976478 0.00367462 0.4602244 ]\n"
     ]
    }
   ],
   "source": [
    "start_for_fit = 200\n",
    "T_crit = 0.5\n",
    "print('file to analyze')\n",
    "not_fitted = 0\n",
    "# 29 and 30\n",
    "to_fit = 34\n",
    "temp_to_end = [100, 100, 75, 50, 50, 50, 50, 50, 50,\n",
    "               75, 75, 75, 75, 75, 75, 75, 75, 75, 75, 75,\n",
    "               100, 100, 100, 100, 100, 100, 100, 100, 75, 150, 100, 100, 100, 100, 100]\n",
    "j = file_path[to_fit]\n",
    "# retrive time and temperature from the curve\n",
    "print('>',to_fit,j)\n",
    "my_try = int(file_path[to_fit][file_path[to_fit].find('DC')+2:file_path[to_fit].find('DC')+4])\n",
    "x  = time[to_fit]-1e-3\n",
    "y  = T_aux_avg[to_fit]\n",
    "\n",
    "# Smoothing signal with zero delay shift fit\n",
    "max_f_r = sqrt(omega_r_2[my_try])/2/pi\n",
    "b, a = signal.butter(8,  max_f_r/fs*1.01)\n",
    "y_filt = signal.filtfilt(b, a, y, padlen=150)\n",
    "\n",
    "# Fit parameters first guesses\n",
    "t0_first_guess = x[where(min(abs(y_filt-T_crit))==abs(y_filt-T_crit))][0] # 2.5e-3\n",
    "B0 = log10(T_crit) # log10( y[where(min(abs(y-T_crit))==abs(y-T_crit))][0] )\n",
    "A0 = log10(max(y_filt[start_for_fit:end_fit]) - B0)\n",
    "\n",
    "# select index of temp where stop the fit\n",
    "# I stop the fit when T reaches a given T\n",
    "index_100K = argmin(abs(y_filt-temp_to_end[to_fit]))\n",
    "end_fit = index_100K\n",
    "\n",
    "# set initial guess of fit parameters\n",
    "p0 = [t0_first_guess,A0,B0,0.01,0.3]\n",
    "\n",
    "# proper fit of the smoothed curve limiter up to threshold T\n",
    "popt, pcov = curve_fit(func5, x[start_for_fit:end_fit],\n",
    "                              log10(y_filt[start_for_fit:end_fit]),\n",
    "                       p0, maxfev= 25000,\n",
    "                       bounds=((-np.inf,-np.inf,-np.inf,0,0),(np.inf,np.inf,2,1.01,1)))\n",
    "print(popt)\n",
    "popt_smooth[to_fit,:] = popt"
   ]
  },
  {
   "cell_type": "code",
   "execution_count": null,
   "id": "9fa445c0",
   "metadata": {},
   "outputs": [],
   "source": [
    "figure('coucou2')\n",
    "plot(array(popt_rework[1])[:,0])\n",
    "array(popt_rework[1])[:,0]"
   ]
  },
  {
   "cell_type": "code",
   "execution_count": 200,
   "id": "dea0e663",
   "metadata": {},
   "outputs": [
    {
     "name": "stdout",
     "output_type": "stream",
     "text": [
      "fit_params_0256ions\n",
      "fit_params_0512ions\n",
      "fit_params_1024ions\n"
     ]
    }
   ],
   "source": [
    "popt_rework = [popt_smooth[1:9],\n",
    "              popt_smooth[12:20], # 7:15\n",
    "              popt_smooth[20:]]\n",
    "#  3     4     5     6     7     8     9     10    11    12    13\n",
    "# 31.0, 42.0, 55.4, 57.4, 59.5, 61.5, 63.6, 65.6, 67.7, 69.7, 71.8\n",
    "#             0.54  0.56  0.58  0.6   0.62  0.64  0.66  0.68  0.7\n",
    "Urf_rework = [[57.4, 59.5, 61.5, 63.6, 65.6, 67.7, 69.7, 71.8],\n",
    "             [57.4, 59.5, 61.5, 63.6, 65.6, 67.7, 69.7, 71.8], # 57.4, 59.5, \n",
    "             [55.4, 57.4, 59.5, 61.5, 63.6, 65.6, 67.7, 69.7, 71.8, 64.6, 62.5, 62.83, 63.03, 63.24, 63.44]]\n",
    "q_rework = [[0.56,  0.58,  0.6,   0.62,  0.64,  0.66,  0.68,  0.7],\n",
    "             [0.56,  0.58,  0.6,   0.62,  0.64,  0.66,  0.68,  0.7 ], # 57.4, 59.5, \n",
    "             [0.54, 0.56,  0.58,  0.6,   0.62,  0.64,  0.66,  0.68,  0.7, 0.63, 0.61, 0.612, 0.614, 0.616, 0.618]]\n",
    "N_rework = [256, 512, 1024]\n",
    "\n",
    "for k,l in enumerate(N_rework):\n",
    "    print(f'fit_params_{l:04d}ions')\n",
    "    np.savez( f'fit_params_{l:04d}ions', fit_param=popt_rework[k], Urf=Urf_rework[k], N=N_rework[k])\n",
    "\n",
    "# func5(t, t0, A, B, C, k)\n",
    "# with load('/home/adrien/Documents/Programmes/Python/THESE/RF_Temp_Fit/fit_params_0256ions.npz') as data:\n",
    "#     a = data['N']\n",
    "# print(a)"
   ]
  },
  {
   "cell_type": "code",
   "execution_count": 201,
   "id": "fdf893bf",
   "metadata": {},
   "outputs": [
    {
     "name": "stdout",
     "output_type": "stream",
     "text": [
      "0\n",
      "1\n",
      "2\n"
     ]
    }
   ],
   "source": [
    "figure('fit_parameters',clear=True)\n",
    "ax1 = subplot(151)\n",
    "for k in range(3):\n",
    "    print(k)\n",
    "    ax1.plot(Urf_rework[k],array(popt_rework[k])[:,0]*1e3-1,color=cm(k/10),ls=':',marker='P',label=N_rework[k])\n",
    "    ax1.set_xlabel('$U_{RF}$ [V]')\n",
    "    ax1.set_ylabel('$t_0$ [ms]')\n",
    "    ax1.grid()\n",
    "    ax1.legend(title='N',fontsize=12)\n",
    "    ax2 = subplot(152)\n",
    "    ax2.plot(Urf_rework[k],10**array(popt_rework[k])[:,1],color=cm(k/10),ls=':',marker='P',label=N_rework[k])\n",
    "    ax2.set_xlabel('$U_{RF}$ [V]')\n",
    "    ax2.set_ylabel('$10^A$ [K]')\n",
    "    ax2.grid()\n",
    "    ax2.legend(title='N',fontsize=12)\n",
    "    ax3 = subplot(153)\n",
    "    ax3.plot(Urf_rework[k],10**array(popt_rework[k])[:,2],color=cm(k/10),ls=':',marker='P',label=N_rework[k])\n",
    "    ax3.set_xlabel('$U_{RF}$ [V]')\n",
    "    ax3.set_ylabel('$10^B$ [K]')\n",
    "    ax3.grid()\n",
    "    ax3.legend(title='N',fontsize=12)\n",
    "    ax4 = subplot(154)\n",
    "    ax4.plot(Urf_rework[k],array(popt_rework[k])[:,3]*1e3,color=cm(k/10),ls=':',marker='P',label=N_rework[k])\n",
    "    ax4.set_xlabel('$U_{RF}$ [V]')\n",
    "    ax4.set_ylabel('$C$ [ms]')\n",
    "    ax4.grid()\n",
    "    ax4.legend(title='N',fontsize=12)\n",
    "    ax5 = subplot(155)\n",
    "    ax5.plot(Urf_rework[k],array(popt_rework[k])[:,4],color=cm(k/10),ls=':',marker='P',label=N_rework[k])\n",
    "    ax5.set_xlabel('$U_{RF}$ [V]')\n",
    "    ax5.set_ylabel('$k$ [1]')\n",
    "    ax5.grid()\n",
    "    ax5.legend(title='N',fontsize=12)\n",
    "tight_layout()"
   ]
  },
  {
   "cell_type": "code",
   "execution_count": 202,
   "id": "ce676d1a",
   "metadata": {},
   "outputs": [
    {
     "name": "stdout",
     "output_type": "stream",
     "text": [
      "0 [-27.44310085  -7.73212055]\n",
      "1 [-24.39301074  -7.34163438]\n",
      "2 [-20.37905235  -6.79732172]\n"
     ]
    },
    {
     "name": "stderr",
     "output_type": "stream",
     "text": [
      "The PostScript backend does not support transparency; partially transparent artists will be rendered opaque.\n"
     ]
    }
   ],
   "source": [
    "C = []\n",
    "D = []\n",
    "x_forfit = [linspace(0.555,0.71,200),linspace(0.555,0.71,200),linspace(0.535,0.71,200)]\n",
    "figname = 'fit_parameter_t0_log'\n",
    "fig = figure(figname,clear=True)\n",
    "fig.set_size_inches(11.7, 8.3)\n",
    "ax1 = subplot(111)\n",
    "for k in range(3):\n",
    "    ax1.loglog(q_rework[k],array(popt_rework[k])[:,0]*1e3,\n",
    "                 color=cm(k/10),ls='',marker='P',ms=10,mew=1,label=N_rework[k])\n",
    "    popt, pcov = curve_fit(func_lin, log10(array(q_rework[k])),log10(array(popt_rework[k])[:,0]),maxfev= 5000)\n",
    "    print(k,popt)\n",
    "    C.append(10**popt[1])\n",
    "    D.append(popt[0])\n",
    "    ax1.loglog(x_forfit[k],func_pow(x_forfit[k],popt[0],popt[1])*1e3,\n",
    "                 ls='--',color=cm(k/10))\n",
    "    ax1.set_xlabel('$q_{x}$')\n",
    "    ax1.set_ylabel('$t_0$ [ms]')\n",
    "    ax1.grid()\n",
    "    ax1.legend(title='N',fontsize=18)\n",
    "# popt, pcov = curve_fit(func_lin, hstack([log10(array(q_rework[k][:5])),log10(array(q_rework[k][6:]))]),\n",
    "#                        hstack([log10(array(popt_rework[k])[:,0][:5]),log10(array(popt_rework[k])[:,0][6:])])\n",
    "#                        ,maxfev= 5000)\n",
    "# ax1.loglog(x_forfit[k],func_pow(x_forfit[k],popt[0],popt[1])*1e3,\n",
    "#                  ls='--',color=cm(k/10))\n",
    "ax1.set_xticks([0.54,0.56,0.58,0.6,0.62,0.64,0.66,0.68,0.7])\n",
    "ax1.get_xaxis().set_major_formatter(matplotlib.ticker.ScalarFormatter())\n",
    "ax1.grid(visible=True, which='major', color='0.2', linestyle='-')\n",
    "ax1.grid(visible=True, which='minor', color='0.7', linestyle='--')\n",
    "tight_layout()\n",
    "savefig(figname+'.eps',dpi=300)\n",
    "    \n",
    "fig = figure('fit_parameter_t0_bis',clear=True)\n",
    "fig.set_size_inches(11.7, 8.3)\n",
    "ax1 = subplot(111)\n",
    "for k in range(3):\n",
    "    ax1.plot(array(q_rework[k]),(array(popt_rework[k])[:,0]*1e3)**(-1/2),color=cm(k/4),\n",
    "             ls=':',marker='P',ms=10,label=N_rework[k])\n",
    "    popt, pcov = curve_fit(func_lin, array(q_rework[k]),(array(popt_rework[k])[:,0]*1e3)**(-1/2),maxfev= 15000)\n",
    "    ax1.plot(array(q_rework[k]),func_lin(array(q_rework[k]),popt[0],popt[1]),color=cm(k/3))\n",
    "    ax1.set_xlabel('$q_x$')\n",
    "    ax1.set_ylabel('$t_0^{-1/2}$ [ms$^{-1/2}$]')\n",
    "    ax1.grid()\n",
    "    ax1.legend(title='N',fontsize=12)\n",
    "tight_layout()"
   ]
  },
  {
   "cell_type": "code",
   "execution_count": 203,
   "id": "e95100dd",
   "metadata": {},
   "outputs": [
    {
     "data": {
      "text/plain": [
       "([1.853017211046684e-08, 4.5537126206658615e-08, 1.594697394309545e-07],\n",
       " [-27.443100851149545, -24.393010737102532, -20.37905235420479])"
      ]
     },
     "execution_count": 203,
     "metadata": {},
     "output_type": "execute_result"
    }
   ],
   "source": [
    "C,D"
   ]
  },
  {
   "cell_type": "code",
   "execution_count": 117,
   "id": "2ea9720e",
   "metadata": {},
   "outputs": [],
   "source": [
    "fig = figure('fit_parameter_B',clear=True)\n",
    "fig.set_size_inches(11.7, 8.3)\n",
    "ax1 = subplot(111)\n",
    "for k in range(3):\n",
    "    ax1.plot(Urf_rework[k],array(popt_rework[k])[:,2]*1e3,color=cm(k/5),ls=':',marker='P',ms=10,mew=1,label=N_rework[k])\n",
    "    ax1.set_xlabel('$U_{RF}$ [V]')\n",
    "    ax1.set_ylabel('$t_0$ [ms]')\n",
    "    ax1.grid()\n",
    "    ax1.legend(title='N',fontsize=12)\n",
    "tight_layout()\n",
    "    \n",
    "figname = 'fit_parameter_B_bis'\n",
    "fig = figure(figname,clear=True)\n",
    "fig.set_size_inches(11.7, 8.3)\n",
    "ax1 = subplot(111)\n",
    "for k in range(3):\n",
    "    ax1.plot(array(q_rework[k]),10**array(popt_rework[k])[:,2],\n",
    "             color=cm(k/10),ls='',marker='P',ms=10,label=N_rework[k])\n",
    "    popt, pcov = curve_fit(func_lin, array(q_rework[k]),(10**array(popt_rework[k])[:,2]),maxfev= 15000)\n",
    "    ax1.plot(array(q_rework[k]),func_lin(array(q_rework[k]),popt[0],popt[1]),\n",
    "             color=cm(k/10),ls='--')\n",
    "    ax1.set_xlabel('$q_x$')\n",
    "    ax1.set_ylabel('$B=T(t=t_0)$ [K]')\n",
    "    ax1.grid()\n",
    "    ax1.legend(title='N',fontsize=18)\n",
    "tight_layout()\n",
    "savefig(figname+'.png',dpi=300)"
   ]
  },
  {
   "cell_type": "markdown",
   "id": "3858ee0c",
   "metadata": {},
   "source": [
    "# Derivate study"
   ]
  },
  {
   "cell_type": "code",
   "execution_count": null,
   "id": "690303ff",
   "metadata": {},
   "outputs": [],
   "source": [
    "c_light = 299792458\n",
    "h_pl = 6.62607015*1e-34\n",
    "h_pl_bar = h_pl/2/pi\n",
    "lam_397 = 396.84620*1e-9\n",
    "k=(2*pi)/lam_397\n",
    "gamma_SP = 21.57*1e6\n",
    "tau = 1/gamma_SP\n",
    "Omega = 2.0e6*2*pi\n",
    "tau_RF = 1/(Omega/(2*pi))"
   ]
  },
  {
   "cell_type": "code",
   "execution_count": null,
   "id": "909b9340",
   "metadata": {},
   "outputs": [],
   "source": [
    "to_fit = 24\n",
    "x  = time[to_fit]-1e-3\n",
    "dx = x[3]-x[2]\n",
    "y  = T_aux_avg[to_fit]\n",
    "b, a = signal.butter(8,  max_f_r/fs*1.01)\n",
    "y_filt = signal.filtfilt(b, a, y, padlen=150)\n",
    "\n",
    "dT_dt = -1/tau*sqrt(m_Ca*y_filt/kb)*h_pl_bar*k/m_Ca\n",
    "\n",
    "fig = figure('temperature derivate',clear=True)\n",
    "fig.set_size_inches(11.7, 8.3)\n",
    "ax1 = fig.add_subplot(111)\n",
    "\n",
    "# ax1.semilogy(x*1e3,y_filt)\n",
    "# ax1.plot(x[:-1]*1e3,diff(y_filt))\n",
    "ax1.plot(y_filt[:-1],diff(y_filt)*1e3)\n",
    "ax1.plot(y_filt,-dT_dt*tau_RF*1e3)\n",
    "\n",
    "# ax1.set_xlim(0.7,1.2)\n",
    "# ax1.set_ylim(-0.02,0.3*1e6)\n",
    "\n",
    "ax1.set_xlim(-2,50)\n",
    "ax1.set_ylim(-1,3.3*1e3)\n",
    "ax1.set_xlabel('T [K]')\n",
    "ax1.set_ylabel('T [mK/RF period]')\n",
    "\n",
    "ax1.grid()\n",
    "tight_layout()"
   ]
  },
  {
   "cell_type": "markdown",
   "id": "45448b11",
   "metadata": {},
   "source": [
    "# From fluo-variations_optimal-temp.ipynb"
   ]
  },
  {
   "cell_type": "markdown",
   "id": "3cef85a5",
   "metadata": {},
   "source": [
    "# Functions used to describe ions\n",
    "\n",
    "$\\texttt{MB}$ is the Maxwell-Boltzmann distribution. It provides the probability to find an atom with a given velocity in a gas with temperature T.\n",
    "\n",
    "$\\texttt{pfl_dop} = \\rho_{ee}$ is the atomic ray profile with Doppler effect. It provides the probability of excitation given Rabi frequency, detuning, lambda and velocity of atom. It is considered equal to the excited population, i.e the proportion of excited atoms.\n",
    "\n",
    "$ \\texttt{MB} = \\sqrt{\\frac{m}{2\\pi k_BT}}\\exp{-\\frac{mv^2}{2k_BT}}$\n",
    "\n",
    "$\\texttt{pfl_dop} = \\rho_{ee} = \\frac{0.25\\Omega_R^2}{0.5\\Omega_R^2 + 0.25\\Gamma^2 + \\Delta^2} = \\frac{A/2}{A+B + \\Delta^2}$"
   ]
  },
  {
   "cell_type": "code",
   "execution_count": null,
   "id": "cc5dcc84",
   "metadata": {},
   "outputs": [],
   "source": [
    "# Doppler profile\n",
    "def pfl_dop(v, delta, k, Rab, Gam):\n",
    "    return .25*Rab**2/(0.5*Rab**2+.25*Gam**2+(delta-k*v)**2)\n",
    "\n",
    "# Maxwell-Boltzmann distribution\n",
    "def MB(v, T):\n",
    "    kb = 1.38e-23\n",
    "    m_Ca = 40*1.66e-27\n",
    "    return (m_Ca/(np.pi*2*kb*T))**(1/2) * np.exp(-m_Ca*v**2/(2*kb*T)) # **1 car vitesse par rapport au laser compte seulement (1D)\n",
    "\n",
    "# Probabilities product\n",
    "# For a range of velocities,\n",
    "# compute the prob_fluo\n",
    "# for a given T, delta, Rab, Gam\n",
    "def prob_fluo(vmin, vmax, nv, T, delta, k, Rab, Gam):\n",
    "    nu = k*np.linspace(vmin, vmax, nv)\n",
    "    return nu, pfl_dop(-nu/k, delta, k, Rab, Gam)*MB(nu/k, T)\n",
    "\n",
    "def T_lim(delta):\n",
    "    return -0.5*hbar*Gam**2*(1+(2*delta/Gam)**2) / (4*delta)/kb"
   ]
  },
  {
   "cell_type": "code",
   "execution_count": null,
   "id": "56e16e9a",
   "metadata": {},
   "outputs": [],
   "source": [
    "# Laser parameters\n",
    "k = 15826663 # m^-1\n",
    "Gam = 21570000.0 *2*pi\n",
    "delta = Gam\n",
    "lam = 397e-9 # m\n",
    "I = 170 # W/m²"
   ]
  },
  {
   "cell_type": "markdown",
   "id": "dd3c040a",
   "metadata": {},
   "source": [
    "# Fluorescence\n",
    "\n",
    "For a single ion the fluorescence $F \\propto \\rho$. For an ensemble of ions, the fluorescence F is related to the product of both probabilities $ F \\propto \\texttt{MB} \\times \\texttt{pfl_dop} = \\texttt{prob_fluo}$. Maxwell-Boltzmann is not necessarily the best to describe the cold crystal ensemble but lets use it. This product is still a probability, lets call it $P$. $dP/dT = 0$ gives us the temperature for which the fluo is maximum, $d^2P/dT^2 = 0$ gives us the temperature for which the fluorescence variation  $dP/dT$ is maximum.\n",
    "\n",
    "### Analytically with $\\rho$\n",
    "\n",
    "$\\frac{d\\rho}{dv} = \\frac{A}{2}\\frac{2\\sqrt{z}}{(C+z)^2}, z=(\\delta-v)^2, C = A + B$\n",
    "\n",
    "$\\frac{d^2\\rho}{dv^2} = \\frac{f}{g} = [-2(C+z)^2 + 8z(C+z)]\\frac{A}{2(\\dots)^4}$\n",
    "\n",
    "The idea is to search for the setting where the variation of fluorescence is the highest for a given input in energy. The energy introduced by the GiantMolecule is brought under the form of thermal energy. Thus we want to set the cloud in a configuration with the best variation of fluorescence for a variation in temperature. There are two ways of achieving this. Considering infinitesimal differences, this requires to compute $\\frac{d^2\\rho}{dv^2} = 0$.\n",
    "\n",
    "$\\frac{d^2\\rho}{dv^2} = 0 \\Rightarrow f = 0 \\Rightarrow z = \\frac{1}{3}C \\Rightarrow \\delta - v = \\pm \\sqrt{\\frac{C}{3}} = \\pm \\sqrt{\\frac{A+B}{3}} $\n",
    "\n",
    "Considering the thermal velocity $v = \\sqrt{2k_BT/m}$ it is possible to rewrite $v = \\delta - z$  as $2k_BT/m = (\\delta - z)^2$ then $T = \\frac{m(\\delta - z)^2}{(2k_B)}\\frac{1}{k^2}$ \n",
    "\n",
    "The above computation is done just below"
   ]
  },
  {
   "cell_type": "code",
   "execution_count": null,
   "id": "f9aee421",
   "metadata": {},
   "outputs": [],
   "source": [
    "# Plot the MBxpfl-dop vs Temperature\n",
    "\n",
    "N = N_rework[2]\n",
    "\n",
    "Tmin = .0005\n",
    "Tmax = 10\n",
    "vmin = sqrt(2*kb*Tmin/m_Ca)\n",
    "vmax = sqrt(2*kb*Tmax/m_Ca)\n",
    "nu = -k*np.linspace(vmin,vmax,1000)\n",
    "dv = mean(diff(nu))/k\n",
    "\n",
    "Rab = Gam # or np.sqrt(3*lam**3*Gam/(4*np.pi**2*hbar*c) * I) \n",
    "\n",
    "vmoins = -20\n",
    "vplus = 20\n",
    "nv = 1000\n",
    "dv = (vplus-vmoins)/nv\n",
    "\n",
    "pfl0 = []\n",
    "pfl05 = []\n",
    "pfl1 = []\n",
    "pfl2 = []\n",
    "\n",
    "Temps = linspace(0.005,10,1000)\n",
    "for T in Temps:\n",
    "    pfl0.append( sum(prob_fluo(vmoins, vplus, nv, T, 0, k, Rab, Gam)[1])*dv*Gam * N )\n",
    "    pfl05.append( sum(prob_fluo(vmoins, vplus, nv, T, -Gam/2, k, Rab, Gam)[1])*dv*Gam * N )\n",
    "    pfl1.append( sum(prob_fluo(vmoins, vplus, nv, T, -Gam, k, Rab, Gam)[1])*dv*Gam * N )\n",
    "    pfl2.append( sum(prob_fluo(vmoins, vplus, nv, T, Gam, k, Rab, Gam)[1])*dv*Gam * N )\n",
    "# pfl3 = pfl_dop(nu/k, +3*Gam, k, Rab, Gam)\n",
    "\n",
    "fig = plt.figure('MBxDop prof fluo tot',clear='True')\n",
    "fig.set_size_inches(11.7, 8.3)\n",
    "ax = fig.add_subplot(111)\n",
    "\n",
    "ax.plot(Temps, array(pfl0)*1e-9, '-',color='xkcd:green',label=r'$\\delta = 0$')\n",
    "ax.plot(Temps, array(pfl05)*1e-9, ':',color='xkcd:black',label=r'$\\delta = -\\Gamma/2$')\n",
    "ax.plot(Temps, array(pfl2)*1e-9, '-',color='xkcd:blue',label=r'$\\delta = \\Gamma$')\n",
    "ax.plot(Temps, array(pfl1)*1e-9, '--',color='xkcd:red',label=r'$\\delta = -\\Gamma$')\n",
    "# ax.plot((nu/k)**2*m_Ca/2/kb, pfl3, '-',color='xkcd:black',label=r'$\\delta = \\Gamma$')\n",
    "\n",
    "ax.hlines((pfl2[0]-sqrt(pfl2[0]))*1e-9,0,1,color='xkcd:red',ls=':',lw = 3)\n",
    "ax.hlines((pfl2[0]+sqrt(pfl2[0]))*1e-9,0,1,color='xkcd:red',ls=':',lw = 3)\n",
    "# ax.hlines(pfl0[0]-sqrt(pfl0[0]),0,0.1,color='xkcd:green',ls=':',lw = 3)\n",
    "# ax.hlines(pfl05[0]-sqrt(pfl05[0]),0,0.1,color='xkcd:blue',ls=':',lw = 3)\n",
    "\n",
    "\n",
    "ax.set_xlabel(r'T [K]')\n",
    "ax.set_ylabel(r'Fluorescence $F$ [kcts/µs]')\n",
    "ax.set_xlim(-0.02,2.22)\n",
    "# ax.set_ylim(12,46)\n",
    "\n",
    "ax.grid()\n",
    "ax.legend(title='detuning',loc=1,fontsize=15)\n",
    "\n",
    "plt.tight_layout()\n",
    "# subplots_adjust(top=0.96,\n",
    "# bottom=0.135,\n",
    "# left=0.115,\n",
    "# right=0.965,\n",
    "# hspace=0.2,\n",
    "# wspace=0.2)"
   ]
  },
  {
   "cell_type": "code",
   "execution_count": null,
   "id": "6f92de2a",
   "metadata": {},
   "outputs": [],
   "source": [
    "fig = plt.figure('d/dt MBxDop prof fluo tot',clear='True')\n",
    "fig.set_size_inches(11.7, 8.3)\n",
    "ax = fig.add_subplot(111)\n",
    "\n",
    "ax.plot(Temps[:-1], diff(array(pfl0))*1e-9, '-',color='xkcd:green',label=r'$\\delta = 0$')\n",
    "ax.plot(Temps[:-1], diff(array(pfl05))*1e-9, ':',color='xkcd:black',label=r'$\\delta = -\\Gamma/2$')\n",
    "ax.plot(Temps[:-1], diff(array(pfl1))*1e-9, '--',color='xkcd:red',label=r'$\\delta = -\\Gamma$')\n",
    "ax.grid()\n",
    "ax.set_xlim(0,1)\n",
    "ax.legend(title='detuning',loc=1,fontsize=15)"
   ]
  },
  {
   "cell_type": "code",
   "execution_count": null,
   "id": "2c2c6ee1",
   "metadata": {},
   "outputs": [],
   "source": []
  }
 ],
 "metadata": {
  "kernelspec": {
   "display_name": "Python 3 (ipykernel)",
   "language": "python",
   "name": "python3"
  },
  "language_info": {
   "codemirror_mode": {
    "name": "ipython",
    "version": 3
   },
   "file_extension": ".py",
   "mimetype": "text/x-python",
   "name": "python",
   "nbconvert_exporter": "python",
   "pygments_lexer": "ipython3",
   "version": "3.10.4"
  }
 },
 "nbformat": 4,
 "nbformat_minor": 5
}
