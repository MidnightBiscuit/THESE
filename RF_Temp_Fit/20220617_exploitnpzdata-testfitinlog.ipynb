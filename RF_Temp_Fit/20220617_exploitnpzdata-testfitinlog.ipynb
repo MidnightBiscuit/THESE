{
 "cells": [
  {
   "cell_type": "code",
   "execution_count": 1,
   "id": "2fdfc08b",
   "metadata": {
    "collapsed": true
   },
   "outputs": [
    {
     "ename": "ModuleNotFoundError",
     "evalue": "No module named 'watermark'",
     "output_type": "error",
     "traceback": [
      "\u001b[0;31m---------------------------------------------------------------------------\u001b[0m",
      "\u001b[0;31mModuleNotFoundError\u001b[0m                       Traceback (most recent call last)",
      "\u001b[0;32m/tmp/ipykernel_204264/323679751.py\u001b[0m in \u001b[0;36m<module>\u001b[0;34m\u001b[0m\n\u001b[0;32m----> 1\u001b[0;31m \u001b[0mget_ipython\u001b[0m\u001b[0;34m(\u001b[0m\u001b[0;34m)\u001b[0m\u001b[0;34m.\u001b[0m\u001b[0mrun_line_magic\u001b[0m\u001b[0;34m(\u001b[0m\u001b[0;34m'load_ext'\u001b[0m\u001b[0;34m,\u001b[0m \u001b[0;34m'watermark'\u001b[0m\u001b[0;34m)\u001b[0m\u001b[0;34m\u001b[0m\u001b[0;34m\u001b[0m\u001b[0m\n\u001b[0m\u001b[1;32m      2\u001b[0m \u001b[0mget_ipython\u001b[0m\u001b[0;34m(\u001b[0m\u001b[0;34m)\u001b[0m\u001b[0;34m.\u001b[0m\u001b[0mrun_line_magic\u001b[0m\u001b[0;34m(\u001b[0m\u001b[0;34m'watermark'\u001b[0m\u001b[0;34m,\u001b[0m \u001b[0;34m''\u001b[0m\u001b[0;34m)\u001b[0m\u001b[0;34m\u001b[0m\u001b[0;34m\u001b[0m\u001b[0m\n",
      "\u001b[0;32m/usr/lib/python3/dist-packages/IPython/core/interactiveshell.py\u001b[0m in \u001b[0;36mrun_line_magic\u001b[0;34m(self, magic_name, line, _stack_depth)\u001b[0m\n\u001b[1;32m   2362\u001b[0m                 \u001b[0mkwargs\u001b[0m\u001b[0;34m[\u001b[0m\u001b[0;34m'local_ns'\u001b[0m\u001b[0;34m]\u001b[0m \u001b[0;34m=\u001b[0m \u001b[0mself\u001b[0m\u001b[0;34m.\u001b[0m\u001b[0mget_local_scope\u001b[0m\u001b[0;34m(\u001b[0m\u001b[0mstack_depth\u001b[0m\u001b[0;34m)\u001b[0m\u001b[0;34m\u001b[0m\u001b[0;34m\u001b[0m\u001b[0m\n\u001b[1;32m   2363\u001b[0m             \u001b[0;32mwith\u001b[0m \u001b[0mself\u001b[0m\u001b[0;34m.\u001b[0m\u001b[0mbuiltin_trap\u001b[0m\u001b[0;34m:\u001b[0m\u001b[0;34m\u001b[0m\u001b[0;34m\u001b[0m\u001b[0m\n\u001b[0;32m-> 2364\u001b[0;31m                 \u001b[0mresult\u001b[0m \u001b[0;34m=\u001b[0m \u001b[0mfn\u001b[0m\u001b[0;34m(\u001b[0m\u001b[0;34m*\u001b[0m\u001b[0margs\u001b[0m\u001b[0;34m,\u001b[0m \u001b[0;34m**\u001b[0m\u001b[0mkwargs\u001b[0m\u001b[0;34m)\u001b[0m\u001b[0;34m\u001b[0m\u001b[0;34m\u001b[0m\u001b[0m\n\u001b[0m\u001b[1;32m   2365\u001b[0m             \u001b[0;32mreturn\u001b[0m \u001b[0mresult\u001b[0m\u001b[0;34m\u001b[0m\u001b[0;34m\u001b[0m\u001b[0m\n\u001b[1;32m   2366\u001b[0m \u001b[0;34m\u001b[0m\u001b[0m\n",
      "\u001b[0;32m<decorator-gen-57>\u001b[0m in \u001b[0;36mload_ext\u001b[0;34m(self, module_str)\u001b[0m\n",
      "\u001b[0;32m/usr/lib/python3/dist-packages/IPython/core/magic.py\u001b[0m in \u001b[0;36m<lambda>\u001b[0;34m(f, *a, **k)\u001b[0m\n\u001b[1;32m    185\u001b[0m     \u001b[0;31m# but it's overkill for just that one bit of state.\u001b[0m\u001b[0;34m\u001b[0m\u001b[0;34m\u001b[0m\u001b[0m\n\u001b[1;32m    186\u001b[0m     \u001b[0;32mdef\u001b[0m \u001b[0mmagic_deco\u001b[0m\u001b[0;34m(\u001b[0m\u001b[0marg\u001b[0m\u001b[0;34m)\u001b[0m\u001b[0;34m:\u001b[0m\u001b[0;34m\u001b[0m\u001b[0;34m\u001b[0m\u001b[0m\n\u001b[0;32m--> 187\u001b[0;31m         \u001b[0mcall\u001b[0m \u001b[0;34m=\u001b[0m \u001b[0;32mlambda\u001b[0m \u001b[0mf\u001b[0m\u001b[0;34m,\u001b[0m \u001b[0;34m*\u001b[0m\u001b[0ma\u001b[0m\u001b[0;34m,\u001b[0m \u001b[0;34m**\u001b[0m\u001b[0mk\u001b[0m\u001b[0;34m:\u001b[0m \u001b[0mf\u001b[0m\u001b[0;34m(\u001b[0m\u001b[0;34m*\u001b[0m\u001b[0ma\u001b[0m\u001b[0;34m,\u001b[0m \u001b[0;34m**\u001b[0m\u001b[0mk\u001b[0m\u001b[0;34m)\u001b[0m\u001b[0;34m\u001b[0m\u001b[0;34m\u001b[0m\u001b[0m\n\u001b[0m\u001b[1;32m    188\u001b[0m \u001b[0;34m\u001b[0m\u001b[0m\n\u001b[1;32m    189\u001b[0m         \u001b[0;32mif\u001b[0m \u001b[0mcallable\u001b[0m\u001b[0;34m(\u001b[0m\u001b[0marg\u001b[0m\u001b[0;34m)\u001b[0m\u001b[0;34m:\u001b[0m\u001b[0;34m\u001b[0m\u001b[0;34m\u001b[0m\u001b[0m\n",
      "\u001b[0;32m/usr/lib/python3/dist-packages/IPython/core/magics/extension.py\u001b[0m in \u001b[0;36mload_ext\u001b[0;34m(self, module_str)\u001b[0m\n\u001b[1;32m     31\u001b[0m         \u001b[0;32mif\u001b[0m \u001b[0;32mnot\u001b[0m \u001b[0mmodule_str\u001b[0m\u001b[0;34m:\u001b[0m\u001b[0;34m\u001b[0m\u001b[0;34m\u001b[0m\u001b[0m\n\u001b[1;32m     32\u001b[0m             \u001b[0;32mraise\u001b[0m \u001b[0mUsageError\u001b[0m\u001b[0;34m(\u001b[0m\u001b[0;34m'Missing module name.'\u001b[0m\u001b[0;34m)\u001b[0m\u001b[0;34m\u001b[0m\u001b[0;34m\u001b[0m\u001b[0m\n\u001b[0;32m---> 33\u001b[0;31m         \u001b[0mres\u001b[0m \u001b[0;34m=\u001b[0m \u001b[0mself\u001b[0m\u001b[0;34m.\u001b[0m\u001b[0mshell\u001b[0m\u001b[0;34m.\u001b[0m\u001b[0mextension_manager\u001b[0m\u001b[0;34m.\u001b[0m\u001b[0mload_extension\u001b[0m\u001b[0;34m(\u001b[0m\u001b[0mmodule_str\u001b[0m\u001b[0;34m)\u001b[0m\u001b[0;34m\u001b[0m\u001b[0;34m\u001b[0m\u001b[0m\n\u001b[0m\u001b[1;32m     34\u001b[0m \u001b[0;34m\u001b[0m\u001b[0m\n\u001b[1;32m     35\u001b[0m         \u001b[0;32mif\u001b[0m \u001b[0mres\u001b[0m \u001b[0;34m==\u001b[0m \u001b[0;34m'already loaded'\u001b[0m\u001b[0;34m:\u001b[0m\u001b[0;34m\u001b[0m\u001b[0;34m\u001b[0m\u001b[0m\n",
      "\u001b[0;32m/usr/lib/python3/dist-packages/IPython/core/extensions.py\u001b[0m in \u001b[0;36mload_extension\u001b[0;34m(self, module_str)\u001b[0m\n\u001b[1;32m     78\u001b[0m             \u001b[0;32mif\u001b[0m \u001b[0mmodule_str\u001b[0m \u001b[0;32mnot\u001b[0m \u001b[0;32min\u001b[0m \u001b[0msys\u001b[0m\u001b[0;34m.\u001b[0m\u001b[0mmodules\u001b[0m\u001b[0;34m:\u001b[0m\u001b[0;34m\u001b[0m\u001b[0;34m\u001b[0m\u001b[0m\n\u001b[1;32m     79\u001b[0m                 \u001b[0;32mwith\u001b[0m \u001b[0mprepended_to_syspath\u001b[0m\u001b[0;34m(\u001b[0m\u001b[0mself\u001b[0m\u001b[0;34m.\u001b[0m\u001b[0mipython_extension_dir\u001b[0m\u001b[0;34m)\u001b[0m\u001b[0;34m:\u001b[0m\u001b[0;34m\u001b[0m\u001b[0;34m\u001b[0m\u001b[0m\n\u001b[0;32m---> 80\u001b[0;31m                     \u001b[0mmod\u001b[0m \u001b[0;34m=\u001b[0m \u001b[0mimport_module\u001b[0m\u001b[0;34m(\u001b[0m\u001b[0mmodule_str\u001b[0m\u001b[0;34m)\u001b[0m\u001b[0;34m\u001b[0m\u001b[0;34m\u001b[0m\u001b[0m\n\u001b[0m\u001b[1;32m     81\u001b[0m                     \u001b[0;32mif\u001b[0m \u001b[0mmod\u001b[0m\u001b[0;34m.\u001b[0m\u001b[0m__file__\u001b[0m\u001b[0;34m.\u001b[0m\u001b[0mstartswith\u001b[0m\u001b[0;34m(\u001b[0m\u001b[0mself\u001b[0m\u001b[0;34m.\u001b[0m\u001b[0mipython_extension_dir\u001b[0m\u001b[0;34m)\u001b[0m\u001b[0;34m:\u001b[0m\u001b[0;34m\u001b[0m\u001b[0;34m\u001b[0m\u001b[0m\n\u001b[1;32m     82\u001b[0m                         print((\"Loading extensions from {dir} is deprecated. \"\n",
      "\u001b[0;32m/usr/lib/python3.10/importlib/__init__.py\u001b[0m in \u001b[0;36mimport_module\u001b[0;34m(name, package)\u001b[0m\n\u001b[1;32m    124\u001b[0m                 \u001b[0;32mbreak\u001b[0m\u001b[0;34m\u001b[0m\u001b[0;34m\u001b[0m\u001b[0m\n\u001b[1;32m    125\u001b[0m             \u001b[0mlevel\u001b[0m \u001b[0;34m+=\u001b[0m \u001b[0;36m1\u001b[0m\u001b[0;34m\u001b[0m\u001b[0;34m\u001b[0m\u001b[0m\n\u001b[0;32m--> 126\u001b[0;31m     \u001b[0;32mreturn\u001b[0m \u001b[0m_bootstrap\u001b[0m\u001b[0;34m.\u001b[0m\u001b[0m_gcd_import\u001b[0m\u001b[0;34m(\u001b[0m\u001b[0mname\u001b[0m\u001b[0;34m[\u001b[0m\u001b[0mlevel\u001b[0m\u001b[0;34m:\u001b[0m\u001b[0;34m]\u001b[0m\u001b[0;34m,\u001b[0m \u001b[0mpackage\u001b[0m\u001b[0;34m,\u001b[0m \u001b[0mlevel\u001b[0m\u001b[0;34m)\u001b[0m\u001b[0;34m\u001b[0m\u001b[0;34m\u001b[0m\u001b[0m\n\u001b[0m\u001b[1;32m    127\u001b[0m \u001b[0;34m\u001b[0m\u001b[0m\n\u001b[1;32m    128\u001b[0m \u001b[0;34m\u001b[0m\u001b[0m\n",
      "\u001b[0;32m/usr/lib/python3.10/importlib/_bootstrap.py\u001b[0m in \u001b[0;36m_gcd_import\u001b[0;34m(name, package, level)\u001b[0m\n",
      "\u001b[0;32m/usr/lib/python3.10/importlib/_bootstrap.py\u001b[0m in \u001b[0;36m_find_and_load\u001b[0;34m(name, import_)\u001b[0m\n",
      "\u001b[0;32m/usr/lib/python3.10/importlib/_bootstrap.py\u001b[0m in \u001b[0;36m_find_and_load_unlocked\u001b[0;34m(name, import_)\u001b[0m\n",
      "\u001b[0;31mModuleNotFoundError\u001b[0m: No module named 'watermark'"
     ]
    }
   ],
   "source": [
    "%load_ext watermark\n",
    "%watermark"
   ]
  },
  {
   "cell_type": "code",
   "execution_count": 2,
   "id": "2b7e5f6e",
   "metadata": {},
   "outputs": [
    {
     "data": {
      "text/html": [
       "<style>.container { width:95% !important; }</style>"
      ],
      "text/plain": [
       "<IPython.core.display.HTML object>"
      ]
     },
     "metadata": {},
     "output_type": "display_data"
    }
   ],
   "source": [
    "from IPython.display import display, HTML\n",
    "display(HTML(\"<style>.container { width:95% !important; }</style>\"))"
   ]
  },
  {
   "cell_type": "code",
   "execution_count": 3,
   "id": "daa8f4c3",
   "metadata": {},
   "outputs": [
    {
     "name": "stdout",
     "output_type": "stream",
     "text": [
      "Using matplotlib backend: TkAgg\n",
      "Populating the interactive namespace from numpy and matplotlib\n"
     ]
    }
   ],
   "source": [
    "%pylab"
   ]
  },
  {
   "cell_type": "code",
   "execution_count": 4,
   "id": "76e5594e",
   "metadata": {},
   "outputs": [],
   "source": [
    "from scipy.optimize import curve_fit\n",
    "\n",
    "import tkinter as tk\n",
    "from tkinter import filedialog\n",
    "\n",
    "import os\n",
    "\n",
    "from scipy import signal\n",
    "import scipy.integrate as integrate\n",
    "\n",
    "# %matplotlib qt"
   ]
  },
  {
   "cell_type": "code",
   "execution_count": 5,
   "id": "916883eb",
   "metadata": {
    "scrolled": true
   },
   "outputs": [],
   "source": [
    "%run functions\n",
    "matplotlib.rcParams.update({'font.size': 25})"
   ]
  },
  {
   "cell_type": "code",
   "execution_count": 6,
   "id": "efce5ee7",
   "metadata": {},
   "outputs": [
    {
     "name": "stdout",
     "output_type": "stream",
     "text": [
      "$\\kappa_{simion}$ = 0.270471\n"
     ]
    }
   ],
   "source": [
    "# Constantes de la physique\n",
    "# ABSOLUMENT RECHARGER APRÈS AVOIR EXECUTÉ LES CASES D'IMPORT AU DESSUS\n",
    "\n",
    "C_e = 1.602e-19        # Coulomb\n",
    "kb = 1.38064852*1e-23  # Boltzman\n",
    "m_Ca = 40.078*1.66054e-27 # masse Ca 40.078\n",
    "m_GM = 1e6*1.66054e-27 # la masse de la GMol\n",
    "eps0 = 8.854187*1e-12  # permittivité électrique du vide\n",
    "\n",
    "r0 = 2.5e-3 # 2.5e-3   # rayon piège Ca+\n",
    "d0 = 4e-3/2            # longueur piège Ca+\n",
    "\n",
    "Omega = 2.05e6*2*pi # 2.047e6\n",
    "\n",
    "bk = 4 # nombre de barreaux par groupe (2 -> 4-pole , 4 -> 8-pole ...)\n",
    "\n",
    "mkappa = 0.23          # écrantage piège réel GiantMol\n",
    "\n",
    "wzLC = (2*pi*90806.9982303)**2\n",
    "kappa_simion = m_Ca*d0**2*wzLC/(2*C_e)\n",
    "print('%s = %f' % ('$\\kappa_{simion}$',kappa_simion) )\n",
    "\n",
    "zeta = kappa_simion*r0**2/d0**2"
   ]
  },
  {
   "cell_type": "code",
   "execution_count": 7,
   "id": "58da8010",
   "metadata": {},
   "outputs": [
    {
     "name": "stdout",
     "output_type": "stream",
     "text": [
      "('/home/adrien/Documents/Programmes/Python/THESE/RF_Temp_Fit/Time_and_temp_RFHEAT_N0256_DC05_RF05.npz', '/home/adrien/Documents/Programmes/Python/THESE/RF_Temp_Fit/Time_and_temp_RFHEAT_N0256_DC06_RF06.npz', '/home/adrien/Documents/Programmes/Python/THESE/RF_Temp_Fit/Time_and_temp_RFHEAT_N0256_DC07_RF07.npz', '/home/adrien/Documents/Programmes/Python/THESE/RF_Temp_Fit/Time_and_temp_RFHEAT_N0256_DC08_RF08.npz', '/home/adrien/Documents/Programmes/Python/THESE/RF_Temp_Fit/Time_and_temp_RFHEAT_N0256_DC09_RF09.npz', '/home/adrien/Documents/Programmes/Python/THESE/RF_Temp_Fit/Time_and_temp_RFHEAT_N0256_DC10_RF10.npz', '/home/adrien/Documents/Programmes/Python/THESE/RF_Temp_Fit/Time_and_temp_RFHEAT_N0256_DC11_RF11.npz', '/home/adrien/Documents/Programmes/Python/THESE/RF_Temp_Fit/Time_and_temp_RFHEAT_N0256_DC12_RF12.npz', '/home/adrien/Documents/Programmes/Python/THESE/RF_Temp_Fit/Time_and_temp_RFHEAT_N0256_DC13_RF13.npz', '/home/adrien/Documents/Programmes/Python/THESE/RF_Temp_Fit/Time_and_temp_RFHEAT_N0512_DC03_RF03.npz', '/home/adrien/Documents/Programmes/Python/THESE/RF_Temp_Fit/Time_and_temp_RFHEAT_N0512_DC04_RF04.npz', '/home/adrien/Documents/Programmes/Python/THESE/RF_Temp_Fit/Time_and_temp_RFHEAT_N0512_DC05_RF05.npz', '/home/adrien/Documents/Programmes/Python/THESE/RF_Temp_Fit/Time_and_temp_RFHEAT_N0512_DC06_RF06.npz', '/home/adrien/Documents/Programmes/Python/THESE/RF_Temp_Fit/Time_and_temp_RFHEAT_N0512_DC07_RF07.npz', '/home/adrien/Documents/Programmes/Python/THESE/RF_Temp_Fit/Time_and_temp_RFHEAT_N0512_DC08_RF08.npz', '/home/adrien/Documents/Programmes/Python/THESE/RF_Temp_Fit/Time_and_temp_RFHEAT_N0512_DC09_RF09.npz', '/home/adrien/Documents/Programmes/Python/THESE/RF_Temp_Fit/Time_and_temp_RFHEAT_N0512_DC10_RF10.npz', '/home/adrien/Documents/Programmes/Python/THESE/RF_Temp_Fit/Time_and_temp_RFHEAT_N0512_DC11_RF11.npz', '/home/adrien/Documents/Programmes/Python/THESE/RF_Temp_Fit/Time_and_temp_RFHEAT_N0512_DC12_RF12.npz', '/home/adrien/Documents/Programmes/Python/THESE/RF_Temp_Fit/Time_and_temp_RFHEAT_N0512_DC13_RF13.npz', '/home/adrien/Documents/Programmes/Python/THESE/RF_Temp_Fit/Time_and_temp_RFHEAT_N1024_DC05_RF05.npz', '/home/adrien/Documents/Programmes/Python/THESE/RF_Temp_Fit/Time_and_temp_RFHEAT_N1024_DC06_RF06.npz', '/home/adrien/Documents/Programmes/Python/THESE/RF_Temp_Fit/Time_and_temp_RFHEAT_N1024_DC07_RF07.npz', '/home/adrien/Documents/Programmes/Python/THESE/RF_Temp_Fit/Time_and_temp_RFHEAT_N1024_DC08_RF08.npz', '/home/adrien/Documents/Programmes/Python/THESE/RF_Temp_Fit/Time_and_temp_RFHEAT_N1024_DC09_RF09.npz', '/home/adrien/Documents/Programmes/Python/THESE/RF_Temp_Fit/Time_and_temp_RFHEAT_N1024_DC10_RF10.npz', '/home/adrien/Documents/Programmes/Python/THESE/RF_Temp_Fit/Time_and_temp_RFHEAT_N1024_DC11_RF11.npz', '/home/adrien/Documents/Programmes/Python/THESE/RF_Temp_Fit/Time_and_temp_RFHEAT_N1024_DC12_RF12.npz', '/home/adrien/Documents/Programmes/Python/THESE/RF_Temp_Fit/Time_and_temp_RFHEAT_N1024_DC13_RF13.npz')\n"
     ]
    }
   ],
   "source": [
    "## GUI for data loading\n",
    "# Select one data file all the way down to the directories\n",
    "# SELECT Temp_SimuTypeQ_N ... .dat\n",
    "\n",
    "file_path = filedialog.askopenfilename(multiple=True) # initialdir = dir_string\n",
    "print(file_path)\n",
    "\n",
    "time       = []\n",
    "T_aux_avg  = []\n",
    "r2_v2_rlim      = []\n",
    "\n",
    "for i,j in enumerate(file_path):\n",
    "    with load(j) as data:\n",
    "        time.append(data['time'])\n",
    "        T_aux_avg.append(data['temp'])\n",
    "        r2_v2_rlim.append(data['r2_v2_rlim'])"
   ]
  },
  {
   "cell_type": "code",
   "execution_count": 10,
   "id": "a70bc22b",
   "metadata": {},
   "outputs": [],
   "source": [
    "def tanh_to10(x,x0,K,theta):\n",
    "    return 10**( K*(1+tanh(theta*(x-x0))) )\n",
    "def tanh_plus_to10(x,x0,K,theta,a,b):\n",
    "    return 10**( K*(1+tanh(theta*(x-x0))) + a*(x)+b )\n",
    "\n",
    "def gen_logi_to10(x,A,K,C,B,M,nu):\n",
    "    return 10**( A + ( K-A ) / ( C+exp(-B*(x-M)) )**(nu) )\n",
    "\n",
    "def func2_to10(t, t0, A, B,  C, D):\n",
    "    return 10**( A*(t-t0)/(C+(t-t0)**2)**D + B )\n",
    "def func2abs_to10(t, t0, A, B,  C, D):\n",
    "    return 10**( A*(t-t0)/(C+abs(t-t0))**D + B )\n",
    "def func2ter_to10(t, t0, A, B, D):\n",
    "    return 10**( A*(t-t0)**(2*D) / (1+(t-t0)**2)**D + B )\n",
    "#def func2bis_to10(t, t0, A, B,  C, D):\n",
    "#    tau = t-t0\n",
    "#    return 10**( (A-B)*(tau) / (C+(tau**2)**(D/2))**(1/D) + B )\n",
    "def func3_to10(t, t0, A, B,  C):\n",
    "    return 10**( A*(t-t0) / (C+(t-t0)**2) + B )\n",
    "def func4_to10(t, t0, A, B, C):\n",
    "    return 10**( A*(t-t0) / (C+abs(t-t0)) + B )\n",
    "def func5_to10(t, t0, A, B, C, k):\n",
    "    return 10**( A*(t-t0) / (C+abs(t-t0)**k)**(1/k) + B )\n",
    "def func6_to10(t, t0, A, C, k):\n",
    "    return 10**( A*(t-t0) / (C+abs(t-t0)**k)**(1/k) )\n",
    "def func7_to10(t, t0, A, B, k):\n",
    "    return 10**( A*(t-t0) / (1+abs(t-t0)**k)**(1/k) + B)"
   ]
  },
  {
   "cell_type": "code",
   "execution_count": 28,
   "id": "0ab8ba22",
   "metadata": {},
   "outputs": [
    {
     "data": {
      "text/plain": [
       "(53465,)"
      ]
     },
     "execution_count": 28,
     "metadata": {},
     "output_type": "execute_result"
    }
   ],
   "source": [
    "shape(y)"
   ]
  },
  {
   "cell_type": "code",
   "execution_count": 31,
   "id": "e60a6835",
   "metadata": {},
   "outputs": [
    {
     "data": {
      "text/plain": [
       "<matplotlib.legend.Legend at 0x7f3bd0885e40>"
      ]
     },
     "execution_count": 31,
     "metadata": {},
     "output_type": "execute_result"
    }
   ],
   "source": [
    "# Temperature as a function of time\n",
    "to_fit = 22 #11\n",
    "x  = time[to_fit]\n",
    "y  = T_aux_avg[to_fit]\n",
    "\n",
    "sigma_size = r2_v2_rlim[to_fit][0][:len(y)] + r2_v2_rlim[to_fit][1][:len(y)] + r2_v2_rlim[to_fit][2][:len(y)]\n",
    "\n",
    "figure('testfitfunctions',clear='True')\n",
    "#xlim(0.8,6)\n",
    "\n",
    "#plot(x*1e3, y ,label=r'$T$',color='C0')\n",
    "b, a = signal.butter(8, 0.125)\n",
    "y_filt = signal.filtfilt(b, a, y, padlen=150)\n",
    "plot(x*1e3, y,label=r'$T filt$',color='C0')\n",
    "plot(x*1e3, y_filt,label=r'$T filt$',color='C1',ls=':')\n",
    "\n",
    "\n",
    "grid()\n",
    "#hlines(y[],1000,x[-1],color='k',ls=':')\n",
    "legend()\n",
    "#xlim(0.8,x[end_fit]*1e3+0.1)\n",
    "#xlim(13,15)\n",
    "#ylim(-2,60)"
   ]
  },
  {
   "cell_type": "code",
   "execution_count": 32,
   "id": "b688b5f7",
   "metadata": {},
   "outputs": [
    {
     "data": {
      "text/plain": [
       "<matplotlib.legend.Legend at 0x7f3bcd11b1c0>"
      ]
     },
     "execution_count": 32,
     "metadata": {},
     "output_type": "execute_result"
    }
   ],
   "source": [
    "# Size as a function of temperature\n",
    "to_fit = 22 #11\n",
    "x  = time[to_fit]\n",
    "y  = T_aux_avg[to_fit]\n",
    "\n",
    "sigma_size = r2_v2_rlim[to_fit][0][:len(y)] + r2_v2_rlim[to_fit][1][:len(y)] + r2_v2_rlim[to_fit][2][:len(y)]\n",
    "\n",
    "figure('T fct size',clear='True')\n",
    "#xlim(0.8,6)\n",
    "\n",
    "#plot(x*1e3, y ,label=r'$T$',color='C0')\n",
    "b, a = signal.butter(8, 0.125)\n",
    "y_filt = signal.filtfilt(b, a, y, padlen=150)\n",
    "plot(y,sigma_size,label=r'$T filt$',color='C0')\n",
    "plot(y_filt,sigma_size,label=r'$T filt$',color='C1',ls=':')\n",
    "\n",
    "\n",
    "grid()\n",
    "#hlines(y[],1000,x[-1],color='k',ls=':')\n",
    "legend()\n",
    "#xlim(0.8,x[end_fit]*1e3+0.1)\n",
    "#xlim(13,15)\n",
    "#ylim(-2,60)"
   ]
  },
  {
   "cell_type": "code",
   "execution_count": 34,
   "id": "1eb49c73",
   "metadata": {},
   "outputs": [
    {
     "data": {
      "text/plain": [
       "<matplotlib.legend.Legend at 0x7f3bcfa0a9b0>"
      ]
     },
     "execution_count": 34,
     "metadata": {},
     "output_type": "execute_result"
    }
   ],
   "source": [
    "# Heat content as function of temperature\n",
    "to_fit = 22 #11\n",
    "x  = time[to_fit]\n",
    "y  = T_aux_avg[to_fit]\n",
    "\n",
    "sigma_size = r2_v2_rlim[to_fit][0][:len(y)] + r2_v2_rlim[to_fit][1][:len(y)] + r2_v2_rlim[to_fit][2][:len(y)]\n",
    "R = r2_v2_rlim[to_fit][6][20]\n",
    "V = 4/3*pi*R**3\n",
    "rho = 256/V\n",
    "aws = (1/rho)**(1/3)\n",
    "temperature_gamma = C_e**2 / (4*pi*eps0*aws*kb*y)\n",
    "\n",
    "figure('T fct size',clear='True')\n",
    "#xlim(0.8,6)\n",
    "\n",
    "#plot(x*1e3, y ,label=r'$T$',color='C0')\n",
    "b, a = signal.butter(8, 0.125)\n",
    "y_filt = signal.filtfilt(b, a, y, padlen=150)\n",
    "# plot(y,label=r'$T filt$',color='C0')\n",
    "plot(y_filt[:-1],diff(y_filt),label=r'$T filt$',color='C1',ls=':')\n",
    "\n",
    "\n",
    "grid()\n",
    "#hlines(y[],1000,x[-1],color='k',ls=':')\n",
    "legend()\n",
    "#xlim(0.8,x[end_fit]*1e3+0.1)\n",
    "#xlim(13,15)\n",
    "#ylim(-2,60)"
   ]
  },
  {
   "cell_type": "code",
   "execution_count": 64,
   "id": "f1e0ead5",
   "metadata": {},
   "outputs": [
    {
     "name": "stdout",
     "output_type": "stream",
     "text": [
      "59.36495461747589\n",
      "58.44011608904669\n",
      "48.22632969977023\n"
     ]
    },
    {
     "name": "stderr",
     "output_type": "stream",
     "text": [
      "Exception in Tkinter callback\n",
      "Traceback (most recent call last):\n",
      "  File \"/usr/lib/python3.10/tkinter/__init__.py\", line 1921, in __call__\n",
      "    return self.func(*args)\n",
      "  File \"/usr/lib/python3.10/tkinter/__init__.py\", line 839, in callit\n",
      "    func(*args)\n",
      "  File \"/usr/lib/python3/dist-packages/matplotlib/backends/_backend_tk.py\", line 489, in delayed_destroy\n",
      "    self.window.destroy()\n",
      "  File \"/usr/lib/python3.10/tkinter/__init__.py\", line 2341, in destroy\n",
      "    self.tk.call('destroy', self._w)\n",
      "_tkinter.TclError: can't invoke \"destroy\" command: application has been destroyed\n"
     ]
    }
   ],
   "source": [
    "for k in range(3):\n",
    "    print(r2_v2_rlim[0][k+6][len(y)//100]*1000)"
   ]
  },
  {
   "cell_type": "code",
   "execution_count": 48,
   "id": "7d4ece5e",
   "metadata": {},
   "outputs": [
    {
     "name": "stdout",
     "output_type": "stream",
     "text": [
      "0 /home/adrien/Documents/Programmes/Python/THESE/RF_Temp_Fit/Time_and_temp_RFHEAT_N0256_DC05_RF05.npz\n",
      "1 /home/adrien/Documents/Programmes/Python/THESE/RF_Temp_Fit/Time_and_temp_RFHEAT_N0256_DC06_RF06.npz\n",
      "2 /home/adrien/Documents/Programmes/Python/THESE/RF_Temp_Fit/Time_and_temp_RFHEAT_N0256_DC07_RF07.npz\n",
      "3 /home/adrien/Documents/Programmes/Python/THESE/RF_Temp_Fit/Time_and_temp_RFHEAT_N0256_DC08_RF08.npz\n",
      "4 /home/adrien/Documents/Programmes/Python/THESE/RF_Temp_Fit/Time_and_temp_RFHEAT_N0256_DC09_RF09.npz\n",
      "5 /home/adrien/Documents/Programmes/Python/THESE/RF_Temp_Fit/Time_and_temp_RFHEAT_N0256_DC10_RF10.npz\n",
      "6 /home/adrien/Documents/Programmes/Python/THESE/RF_Temp_Fit/Time_and_temp_RFHEAT_N0256_DC11_RF11.npz\n",
      "7 /home/adrien/Documents/Programmes/Python/THESE/RF_Temp_Fit/Time_and_temp_RFHEAT_N0256_DC12_RF12.npz\n",
      "8 /home/adrien/Documents/Programmes/Python/THESE/RF_Temp_Fit/Time_and_temp_RFHEAT_N0256_DC13_RF13.npz\n",
      "9 /home/adrien/Documents/Programmes/Python/THESE/RF_Temp_Fit/Time_and_temp_RFHEAT_N0512_DC03_RF03.npz\n",
      "10 /home/adrien/Documents/Programmes/Python/THESE/RF_Temp_Fit/Time_and_temp_RFHEAT_N0512_DC04_RF04.npz\n",
      "11 /home/adrien/Documents/Programmes/Python/THESE/RF_Temp_Fit/Time_and_temp_RFHEAT_N0512_DC05_RF05.npz\n",
      "12 /home/adrien/Documents/Programmes/Python/THESE/RF_Temp_Fit/Time_and_temp_RFHEAT_N0512_DC06_RF06.npz\n",
      "13 /home/adrien/Documents/Programmes/Python/THESE/RF_Temp_Fit/Time_and_temp_RFHEAT_N0512_DC07_RF07.npz\n",
      "14 /home/adrien/Documents/Programmes/Python/THESE/RF_Temp_Fit/Time_and_temp_RFHEAT_N0512_DC08_RF08.npz\n",
      "15 /home/adrien/Documents/Programmes/Python/THESE/RF_Temp_Fit/Time_and_temp_RFHEAT_N0512_DC09_RF09.npz\n",
      "16 /home/adrien/Documents/Programmes/Python/THESE/RF_Temp_Fit/Time_and_temp_RFHEAT_N0512_DC10_RF10.npz\n",
      "17 /home/adrien/Documents/Programmes/Python/THESE/RF_Temp_Fit/Time_and_temp_RFHEAT_N0512_DC11_RF11.npz\n",
      "18 /home/adrien/Documents/Programmes/Python/THESE/RF_Temp_Fit/Time_and_temp_RFHEAT_N0512_DC12_RF12.npz\n",
      "19 /home/adrien/Documents/Programmes/Python/THESE/RF_Temp_Fit/Time_and_temp_RFHEAT_N0512_DC13_RF13.npz\n",
      "20 /home/adrien/Documents/Programmes/Python/THESE/RF_Temp_Fit/Time_and_temp_RFHEAT_N1024_DC05_RF05.npz\n",
      "21 /home/adrien/Documents/Programmes/Python/THESE/RF_Temp_Fit/Time_and_temp_RFHEAT_N1024_DC06_RF06.npz\n",
      "22 /home/adrien/Documents/Programmes/Python/THESE/RF_Temp_Fit/Time_and_temp_RFHEAT_N1024_DC07_RF07.npz\n",
      "23 /home/adrien/Documents/Programmes/Python/THESE/RF_Temp_Fit/Time_and_temp_RFHEAT_N1024_DC08_RF08.npz\n",
      "24 /home/adrien/Documents/Programmes/Python/THESE/RF_Temp_Fit/Time_and_temp_RFHEAT_N1024_DC09_RF09.npz\n",
      "25 /home/adrien/Documents/Programmes/Python/THESE/RF_Temp_Fit/Time_and_temp_RFHEAT_N1024_DC10_RF10.npz\n",
      "26 /home/adrien/Documents/Programmes/Python/THESE/RF_Temp_Fit/Time_and_temp_RFHEAT_N1024_DC11_RF11.npz\n",
      "27 /home/adrien/Documents/Programmes/Python/THESE/RF_Temp_Fit/Time_and_temp_RFHEAT_N1024_DC12_RF12.npz\n",
      "28 /home/adrien/Documents/Programmes/Python/THESE/RF_Temp_Fit/Time_and_temp_RFHEAT_N1024_DC13_RF13.npz\n"
     ]
    }
   ],
   "source": [
    "for i,j in enumerate(file_path):\n",
    "    print(i,j)"
   ]
  },
  {
   "cell_type": "code",
   "execution_count": 113,
   "id": "ac85917b",
   "metadata": {},
   "outputs": [
    {
     "name": "stdout",
     "output_type": "stream",
     "text": [
      "/home/adrien/Documents/Programmes/Python/THESE/RF_Temp_Fit/Time_and_temp_RFHEAT_N1024_DC09_RF09.npz\n"
     ]
    },
    {
     "name": "stderr",
     "output_type": "stream",
     "text": [
      "/usr/lib/python3/dist-packages/scipy/optimize/_minpack_py.py:833: OptimizeWarning: Covariance of the parameters could not be estimated\n",
      "  warnings.warn('Covariance of the parameters could not be estimated',\n"
     ]
    },
    {
     "name": "stdout",
     "output_type": "stream",
     "text": [
      "[ 2.25086968e+03  1.02252835e+01  1.53877294e+00  7.22290265e-01\n",
      " -4.50178924e+03]\n",
      "[-6.96613793e+02  1.46465340e+01  1.00072493e+00  7.34778003e+00\n",
      "  6.18398243e-01  2.53304942e+01]\n",
      "[ 2.40563243e-03  1.28719328e+01 -1.71381882e+00  2.14636270e-01\n",
      "  2.69872890e-01]\n"
     ]
    },
    {
     "name": "stderr",
     "output_type": "stream",
     "text": [
      "/tmp/ipykernel_90434/3493093275.py:16: RuntimeWarning: invalid value encountered in power\n",
      "  return A*(t-t0) / (C+abs(t-t0)**k)**(1/k) + B\n"
     ]
    }
   ],
   "source": [
    "# OK pour la temperature\n",
    "to_plot = 12\n",
    "end_fit = len(time[to_plot])//8-150 # 125500\n",
    "\n",
    "print(file_path[to_plot])\n",
    "# test plot\n",
    "index_max = 1900\n",
    "figure(1,clear='True')\n",
    "#semilogy(time[to_plot]*1e3,T_aux_avg[to_plot],color='r')\n",
    "plot(time[to_plot]*1e3,T_aux_avg[to_plot],color='r')\n",
    "\n",
    "#p0 = [1.8, 60, 63.45, 0.002,4e-3] # 124850\n",
    "popt, pcov = curve_fit(tanh_plus_to10,\n",
    "                       time[to_plot][:end_fit]*1e3, T_aux_avg[to_plot][:end_fit],\n",
    "                       maxfev= 50000)\n",
    "print(popt)\n",
    "plot(time[to_plot][:end_fit]*1e3,tanh_plus_to10(time[to_plot][:end_fit]*1e3,*popt),\n",
    "     color='k')\n",
    "\n",
    "#plot(time[to_plot][end_fit:]*1e3,tanh_plus_to10(time[to_plot][end_fit:]*1e3,\n",
    "#                                            1635.3,\n",
    "#                                            14.075,\n",
    "#                                            63.132,\n",
    "#                                            0.87,\n",
    "#                                            -3324.94),\n",
    "#     color='g',ls=':')\n",
    "\n",
    "\n",
    "#p0 = [5e-3,500,1,2,65,2] # 124850\n",
    "popt, pcov = curve_fit(gen_logi_to10,\n",
    "                       time[to_plot][:end_fit]*1e3, T_aux_avg[to_plot][:end_fit],\n",
    "                       maxfev= 50000)\n",
    "print(popt)\n",
    "plot(time[to_plot][:end_fit]*1e3,gen_logi_to10(time[to_plot][:end_fit]*1e3,*popt),\n",
    "     color='xkcd:azul')\n",
    "\n",
    "p0 = [1.95*1e-3,log10(500)/2,0.1,1e-1,0.3]\n",
    "popt, pcov = curve_fit(func5, x[:end_fit], log10(y[:end_fit]), p0, maxfev= 50000)\n",
    "print(popt)\n",
    "y_fit = func5(x[:end_fit],*popt)\n",
    "plot(x[:end_fit]*1e3,10**y_fit,color='g')\n",
    "plot(x[:end_fit]*1e3,10**func5(x[:end_fit],1.95*1e-3,log10(500),0.1,1e-1,0.3),\n",
    "     color='xkcd:rouge')\n",
    "\n",
    "vlines(time[to_plot][end_fit]*1e3,0,50)\n",
    "#b, a = signal.butter(8, 0.125)\n",
    "#y = signal.filtfilt(b, a, T_aux_avg[to_plot], padlen=150)\n",
    "#semilogy(time[to_plot]*1e3,y,color='b')\n",
    "xlabel('time [ms]')\n",
    "ylabel('T [K]')\n",
    "#xlim(61,64)\n",
    "#ylim(-1,20)\n",
    "grid()\n",
    "tight_layout()"
   ]
  },
  {
   "cell_type": "code",
   "execution_count": 629,
   "id": "ad18fe5e",
   "metadata": {},
   "outputs": [
    {
     "data": {
      "text/plain": [
       "(0.013997624500000002, 41.99381961231696, 0.517953442987538)"
      ]
     },
     "execution_count": 629,
     "metadata": {},
     "output_type": "execute_result"
    }
   ],
   "source": [
    "t0_first_guess,A0,B0"
   ]
  },
  {
   "cell_type": "code",
   "execution_count": 630,
   "id": "a9e27d48",
   "metadata": {},
   "outputs": [
    {
     "name": "stdout",
     "output_type": "stream",
     "text": [
      "func4 [1.86812450e-03 4.92689014e+02 5.13132937e-01 1.00000000e-03]\n"
     ]
    },
    {
     "name": "stderr",
     "output_type": "stream",
     "text": [
      "/tmp/ipykernel_90434/817932116.py:15: RuntimeWarning: overflow encountered in power\n",
      "  return 10**( A*(t-t0) / (C+abs(t-t0)) + B )\n",
      "/usr/lib/python3/dist-packages/scipy/optimize/_minpack_py.py:792: RuntimeWarning: overflow encountered in square\n",
      "  cost = np.sum(infodict['fvec'] ** 2)\n",
      "/usr/lib/python3/dist-packages/scipy/optimize/_minpack_py.py:833: OptimizeWarning: Covariance of the parameters could not be estimated\n",
      "  warnings.warn('Covariance of the parameters could not be estimated',\n",
      "/tmp/ipykernel_90434/803482994.py:27: RuntimeWarning: overflow encountered in power\n",
      "  plot(x[start_for_fit:end_fit]*1e3,10**y_fit4,color='r',ls=':',label=r'$|x|$')\n"
     ]
    },
    {
     "data": {
      "text/plain": [
       "\"\\np0 = [t0_first_guess,A0,B0,0.05,0.05]\\npopt, pcov = curve_fit(func5, x[start_for_fit:end_fit], log10(y[start_for_fit:end_fit]), p0, maxfev= 50000)\\nprint('func5',popt)\\nkfunc5 = popt[4]\\ny_fit5 = func5(x[start_for_fit:end_fit],*popt)\\nsemilogy(x[start_for_fit:end_fit]*1e3,10**y_fit5,color='r',ls='--',label=r'$|x|^k$')\\n\\np0 = [t0_first_guess,A0,B0,0.05,0.4]\\npopt, pcov = curve_fit(func2, x[start_for_fit:end_fit], log10(y[start_for_fit:end_fit]), p0, maxfev= 50000)\\nprint('func2',popt)\\ny_fit2 = func2(x[start_for_fit:end_fit],*popt)\\nsemilogy(x[start_for_fit:end_fit]*1e3,10**y_fit2,color='m',label=r'$(t-t_0)^2$')\\n\\np0 = [t0_first_guess,A0,B0,0.05**kfunc5,kfunc5*2]\\npopt, pcov = curve_fit(func2bis, x[start_for_fit:end_fit], log10(y[start_for_fit:end_fit]), p0, maxfev= 50000)\\nprint('func2bis',popt)\\nkfunc2bis = popt[4]\\ny_fit2bis = func2bis(x[start_for_fit:end_fit],*popt)\\nsemilogy(x[start_for_fit:end_fit]*1e3,10**y_fit2bis,color='orange',label=r'$(t-t_0)^{2D/2}$')\\n\\np0 = [t0_first_guess,A0,100,100,0]\\npopt, pcov = curve_fit(tanh_plus, x[start_for_fit:end_fit], log10(y[start_for_fit:end_fit]), p0, maxfev= 50000)\\nprint('tanh_plus',popt)\\ny_fittanh = tanh_plus(x[start_for_fit:end_fit],*popt)\\nsemilogy(x[start_for_fit:end_fit]*1e3,10**y_fittanh,color='g',ls='-',label=r'tanh')\\n\\n#hlines(y[],1000,x[-1],color='k',ls=':')\\nlegend()\\nxlim(0.8,x[end_fit]*1e3+0.1)\\n#xlim(1.7,2.3)\\nylim(8e-4,120)\\n\""
      ]
     },
     "execution_count": 630,
     "metadata": {},
     "output_type": "execute_result"
    }
   ],
   "source": [
    "to_fit = 22 #11\n",
    "start_for_fit = 1000\n",
    "end_for_fit = [int(500000-1),140000,17700,7000,4800, # 17700\n",
    "               470000,480000,490000,27500,5500, # 24000\n",
    "               50000,28500,23500,30000,14500,\n",
    "              0,0,0,0,0,\n",
    "              0,0,0,0,0,\n",
    "              0,28500]\n",
    "end_fit = end_for_fit[to_fit]\n",
    "x  = time[to_fit]\n",
    "y  = T_aux_avg[to_fit]\n",
    "T_crit = 0.5\n",
    "t0_first_guess = x[where(min(abs(y-T_crit))==abs(y-T_crit))][0] # 2.5e-3\n",
    "A0 = log10(max(y[start_for_fit:end_fit]))\n",
    "B0 = log10(y[where(min(abs(y-T_crit))==abs(y-T_crit))][0])\n",
    "figure('testfitinlog',clear='True')\n",
    "#xlim(0.8,6)\n",
    "grid()\n",
    "semilogy(x*1e3, y ,label=r'$T$',color='C0')\n",
    "b, a = signal.butter(8, 0.125)\n",
    "y_filt = signal.filtfilt(b, a, y, padlen=150)\n",
    "semilogy(x*1e3, y_filt ,label=r'$T filt$',color='C1',ls=':')\n",
    "vlines(x[end_fit]*1e3,1e-2,150,color='k')\n",
    "\n",
    "p0 = [t0_first_guess,A0,B0,0.001]\n",
    "popt, pcov = curve_fit(func4, x[start_for_fit:end_fit], log10(y[start_for_fit:end_fit]), p0,  maxfev= 50000)\n",
    "y_fit4 = func4(x[start_for_fit:end_fit],*popt)\n",
    "print('func4',popt)\n",
    "semilogy(x[start_for_fit:end_fit]*1e3,10**y_fit4,color='r',ls=':',label=r'$|x|$')\n",
    "\n",
    "\n",
    "p0 = [t0_first_guess,A0,B0,0.05,0.05]\n",
    "popt, pcov = curve_fit(func5, x[start_for_fit:end_fit], log10(y[start_for_fit:end_fit]), p0, maxfev= 50000)\n",
    "print('func5',popt)\n",
    "kfunc5 = popt[4]\n",
    "y_fit5 = func5(x[start_for_fit:end_fit],*popt)\n",
    "semilogy(x[start_for_fit:end_fit]*1e3,10**y_fit5,color='r',ls='--',label=r'$|x|^k$')\n",
    "\n",
    "p0 = [t0_first_guess,A0,B0,0.05,0.4]\n",
    "popt, pcov = curve_fit(func2, x[start_for_fit:end_fit], log10(y[start_for_fit:end_fit]), p0, maxfev= 50000)\n",
    "print('func2',popt)\n",
    "y_fit2 = func2(x[start_for_fit:end_fit],*popt)\n",
    "semilogy(x[start_for_fit:end_fit]*1e3,10**y_fit2,color='m',label=r'$(t-t_0)^2$')\n",
    "\n",
    "p0 = [t0_first_guess,A0,B0,0.05**kfunc5,kfunc5*2]\n",
    "popt, pcov = curve_fit(func2bis, x[start_for_fit:end_fit], log10(y[start_for_fit:end_fit]), p0, maxfev= 50000)\n",
    "print('func2bis',popt)\n",
    "kfunc2bis = popt[4]\n",
    "y_fit2bis = func2bis(x[start_for_fit:end_fit],*popt)\n",
    "semilogy(x[start_for_fit:end_fit]*1e3,10**y_fit2bis,color='orange',label=r'$(t-t_0)^{2D/2}$')\n",
    "\n",
    "p0 = [t0_first_guess,A0,100,100,0]\n",
    "popt, pcov = curve_fit(tanh_plus, x[start_for_fit:end_fit], log10(y[start_for_fit:end_fit]), p0, maxfev= 50000)\n",
    "print('tanh_plus',popt)\n",
    "y_fittanh = tanh_plus(x[start_for_fit:end_fit],*popt)\n",
    "semilogy(x[start_for_fit:end_fit]*1e3,10**y_fittanh,color='g',ls='-',label=r'tanh')\n",
    "\n",
    "#hlines(y[],1000,x[-1],color='k',ls=':')\n",
    "legend()\n",
    "xlim(0.8,x[end_fit]*1e3+0.1)\n",
    "#xlim(1.7,2.3)\n",
    "ylim(8e-4,120)"
   ]
  },
  {
   "cell_type": "code",
   "execution_count": 391,
   "id": "4d602f7c",
   "metadata": {},
   "outputs": [
    {
     "name": "stderr",
     "output_type": "stream",
     "text": [
      "/tmp/ipykernel_184041/4030997247.py:23: RuntimeWarning: invalid value encountered in power\n",
      "  return 10**( A*(t-t0) / (C+abs(t-t0)**k)**(1/k) + B )\n"
     ]
    },
    {
     "name": "stdout",
     "output_type": "stream",
     "text": [
      "func5 [ 1.39996885e-02  3.63325811e+02 -3.60601330e+02  1.38183167e-04\n",
      "  1.87281447e-01]\n",
      "func6 [0.01400588 2.26778114 0.00722573 0.39196203]\n",
      "func2 [ 1.39675873e-02  1.30272867e+01 -9.50820729e+00  2.40880072e-10\n",
      "  4.89555670e-01]\n",
      "func2abs [ 1.39976245e-02  1.92953921e+00 -3.01029996e-01  1.00000000e-10\n",
      "  4.50000000e-01]\n"
     ]
    },
    {
     "name": "stderr",
     "output_type": "stream",
     "text": [
      "/tmp/ipykernel_184041/4030997247.py:12: RuntimeWarning: invalid value encountered in power\n",
      "  return 10**( A*(t-t0)/(C+abs(t-t0))**D + B )\n",
      "/tmp/ipykernel_184041/4030997247.py:12: RuntimeWarning: divide by zero encountered in true_divide\n",
      "  return 10**( A*(t-t0)/(C+abs(t-t0))**D + B )\n",
      "/tmp/ipykernel_184041/4030997247.py:12: RuntimeWarning: overflow encountered in true_divide\n",
      "  return 10**( A*(t-t0)/(C+abs(t-t0))**D + B )\n",
      "/tmp/ipykernel_184041/4030997247.py:12: RuntimeWarning: overflow encountered in power\n",
      "  return 10**( A*(t-t0)/(C+abs(t-t0))**D + B )\n"
     ]
    },
    {
     "data": {
      "text/plain": [
       "(0.0008, 80.0)"
      ]
     },
     "execution_count": 391,
     "metadata": {},
     "output_type": "execute_result"
    }
   ],
   "source": [
    "to_fit = 22 #11\n",
    "start_for_fit = 1000\n",
    "end_for_fit = [int(500000-1),140000,17700,7000,4800, # 17700\n",
    "               470000,480000,490000,27500,5500, # 24000\n",
    "               50000,28500,23500,30000,14500,\n",
    "              0,0,0,0,0,\n",
    "              0,0,27000,0,0,\n",
    "              0,0,0,0,0]\n",
    "end_fit = end_for_fit[to_fit]\n",
    "x  = time[to_fit]\n",
    "y  = T_aux_avg[to_fit]\n",
    "T_crit = 0.5\n",
    "t0_first_guess = x[where(min(abs(y-T_crit))==abs(y-T_crit))][0] # 2.5e-3\n",
    "B0 = log10(T_crit) # log10( y[where(min(abs(y-T_crit))==abs(y-T_crit))][0] )\n",
    "A0 = log10( max(y[start_for_fit:end_fit]) ) - B0\n",
    "figure('testfitinlin',clear='True')\n",
    "#xlim(0.8,6)\n",
    "grid()\n",
    "plot(x*1e3, y ,label=r'$T$',color='C0')\n",
    "b, a = signal.butter(8, 0.125)\n",
    "y_filt = signal.filtfilt(b, a, y, padlen=150)\n",
    "plot(x*1e3, y_filt ,label=r'$T filt$',color='C1',ls=':')\n",
    "vlines(x[end_fit]*1e3,1e-2,150,color='k')\n",
    "\n",
    "p0 = [t0_first_guess,A0,B0,0.05,0.05]\n",
    "popt, pcov = curve_fit(func5_to10, x[start_for_fit:end_fit], y[start_for_fit:end_fit], p0, maxfev= 50000)\n",
    "print('func5',popt)\n",
    "kfunc5 = popt[4]\n",
    "y_fit5 = func5_to10(x[start_for_fit:end_fit],*popt)\n",
    "plot(x[start_for_fit:end_fit]*1e3,y_fit5,color='r',ls='--',label=r'5$|t-t_0|^k$')\n",
    "\n",
    "#p0 = [0.01400588, 1.98778611,0, 0.00722586, 0.39195976]\n",
    "#plot(x[start_for_fit:end_fit]*1e3,func5_to10(x[start_for_fit:end_fit],*p0),color='r',ls=':',label=r'$|t-t_0|^k$')\n",
    "\n",
    "p0 = [t0_first_guess,log10(120),7e-3,0.35]\n",
    "popt, pcov = curve_fit(func6_to10, x[start_for_fit:end_fit], y[start_for_fit:end_fit], p0, maxfev= 50000)\n",
    "print('func6',popt)\n",
    "kfunc6 = popt[3]\n",
    "y_fit6 = func6_to10(x[start_for_fit:end_fit],*popt)\n",
    "plot(x[start_for_fit:end_fit]*1e3,y_fit6,color='r',ls='--',label=r'6$|t-t_0|^k$')\n",
    "\n",
    "#p0 = [t0_first_guess,1000,log10(9e-3),1e-5]\n",
    "#plot(x[start_for_fit:end_fit]*1e3,func7_to10(x[start_for_fit:end_fit],*p0),color='chartreuse',ls='--',label=r'$|t-t_0|^k C=1$')\n",
    "\n",
    "p0 = [t0_first_guess,  A0, B0, 1e-10, 0.45]\n",
    "#p0 = [t0_first_guess,A0,B0,0.05,0.4]\n",
    "popt, pcov = curve_fit(func2_to10, x[start_for_fit:end_fit], y[start_for_fit:end_fit], p0, maxfev= 100000)\n",
    "print('func2',popt)\n",
    "y_fit2 = func2_to10(x[start_for_fit:end_fit],*popt)\n",
    "plot(x[start_for_fit:end_fit]*1e3,y_fit2,color='m',label=r'2$(t-t_0)^2$')\n",
    "\n",
    "p0 = [t0_first_guess,  A0, B0, 1e-10, 0.45]\n",
    "#p0 = [t0_first_guess,A0,B0,0.05,0.4]\n",
    "popt, pcov = curve_fit(func2abs_to10, x[start_for_fit:end_fit], y[start_for_fit:end_fit], p0, maxfev= 100000)\n",
    "print('func2abs',popt)\n",
    "y_fit2abs = func2abs_to10(x[start_for_fit:end_fit],*popt)\n",
    "plot(x[start_for_fit:end_fit]*1e3,y_fit2abs,color='m',ls=':',label=r'2abs$(t-t_0)^2$')\n",
    "\n",
    "'''\n",
    "p0 = [t0_first_guess,A0,B0,0.05**kfunc5,kfunc5*2]\n",
    "popt, pcov = curve_fit(func2bis_to10, x[start_for_fit:end_fit], y[start_for_fit:end_fit], p0, maxfev= 50000)\n",
    "print('func2bis',popt)\n",
    "kfunc2bis = popt[4]\n",
    "y_fit2bis = func2bis_to10(x[start_for_fit:end_fit],*popt)\n",
    "plot(x[start_for_fit:end_fit]*1e3,y_fit2bis,color='deeppink',label=r'2b$(t-t_0)^2D/2$')\n",
    "\n",
    "p0 = [t0_first_guess,log10(200),1e3]\n",
    "popt, pcov = curve_fit(tanh_to10, x[start_for_fit:end_fit], y[start_for_fit:end_fit], p0, maxfev= 50000)\n",
    "print('func2bis',popt)\n",
    "kfunc2tanh = popt[2]\n",
    "y_fittanh = tanh_to10(x[start_for_fit:end_fit],*popt)\n",
    "plot(x[start_for_fit:end_fit]*1e3,y_fittanh,color='deeppink',label=r'$\\tanh$')\n",
    "\n",
    "p0 = [t0_first_guess,A0,B0,0.001]\n",
    "popt, pcov = curve_fit(func4_to10, x[start_for_fit:end_fit], y[start_for_fit:end_fit], p0,  maxfev= 50000)\n",
    "y_fit4 = func4_to10(x[start_for_fit:end_fit],*popt)\n",
    "print('func4',popt)\n",
    "plot(x[start_for_fit:end_fit]*1e3,y_fit4,color='r',ls=':',label=r'$|x|$')\n",
    "\n",
    "p0 = [t0_first_guess,1000,log10(9e-3),1e-5]\n",
    "popt, pcov = curve_fit(func7_to10, x[start_for_fit:end_fit], y[start_for_fit:end_fit], p0, maxfev= 50000)\n",
    "print('func7',popt)\n",
    "kfunc7 = popt[3]\n",
    "y_fit7 = func7_to10(x[start_for_fit:end_fit],*popt)\n",
    "plot(x[start_for_fit:end_fit]*1e3,y_fit7,color='chartreuse',label=r'7$|t-t_0|^k$, $C=1$')\n",
    "\n",
    "'''\n",
    "\n",
    "'''\n",
    "p0 = [t0_first_guess,A0,100,100,0]\n",
    "popt, pcov = curve_fit(tanh_plus_to10, x[start_for_fit:end_fit], y[start_for_fit:end_fit], p0, maxfev= 50000)\n",
    "print('tanh_plus',popt)\n",
    "y_fittanh = tanh_plus_to10(x[start_for_fit:end_fit],*popt)\n",
    "plot(x[start_for_fit:end_fit]*1e3,10**y_fittanh,color='g',ls='-',label=r'tanh')\n",
    "'''\n",
    "\n",
    "#hlines(y[],1000,x[-1],color='k',ls=':')\n",
    "legend()\n",
    "#xlim(0.8,x[end_fit]*1e3+0.1)\n",
    "xlim(10,15)\n",
    "ylim(-1,80)"
   ]
  },
  {
   "cell_type": "code",
   "execution_count": 387,
   "id": "ad197381",
   "metadata": {},
   "outputs": [
    {
     "data": {
      "text/plain": [
       "3.1030781265267713e-10"
      ]
     },
     "execution_count": 387,
     "metadata": {},
     "output_type": "execute_result"
    }
   ],
   "source": [
    "10**(-9.50820729e+00)"
   ]
  },
  {
   "cell_type": "code",
   "execution_count": 321,
   "id": "d1cf999f",
   "metadata": {},
   "outputs": [
    {
     "data": {
      "text/plain": [
       "[<matplotlib.lines.Line2D at 0x7f1ea5665870>]"
      ]
     },
     "execution_count": 321,
     "metadata": {},
     "output_type": "execute_result"
    }
   ],
   "source": [
    "figure('displaylogfit',clear='True')\n",
    "#xlim(0.8,6)\n",
    "grid()\n",
    "#semilogy(x*1e3, y ,label=r'$T$',color='C0')\n",
    "plot(x*1e3, log(y) ,label=r'$T filt$',color='C0',lw=0.5)\n",
    "#plot(x*1e3, arctanh(y_filt) ,label=r'$T filt$',color='C1',ls=':')\n",
    "#semilogy(x[start_for_fit:end_fit]*1e3,y_fit6,color='r',ls='--',label=r'$|x|^k$')\n",
    "#semilogy(x[start_for_fit:end_fit]*1e3,y_fit2,color='m',label=r'$(t-t_0)^2$')"
   ]
  },
  {
   "cell_type": "code",
   "execution_count": 369,
   "id": "e0043c87",
   "metadata": {},
   "outputs": [
    {
     "name": "stdout",
     "output_type": "stream",
     "text": [
      "4.28 -0.28\n",
      "0.000252316507639044\n"
     ]
    }
   ],
   "source": [
    "xtest=linspace(0,50,10000)\n",
    "t0test=2\n",
    "figure('testplot',clear='True')\n",
    "#xlim(0.8,6)\n",
    "grid()\n",
    "#plot(x*1e3, y ,label=r'$T$',color='C0')\n",
    "#plot(x*1e3, y_filt ,label=r'$T filt$',color='C1',ls=':')\n",
    "\n",
    "B = -0.28 #log10(0.1)\n",
    "A = 4 - B\n",
    "print(A,B)\n",
    "p0 = [ 14,  log10(100), log10(1e-1),  1, 0.45]\n",
    "#plot(xtest,func5(xtest,*p0),color='r')\n",
    "plot(xtest,func2_to10(xtest,*p0),color='b')\n",
    "\n",
    "print(min(func2_to10(xtest,*p0)))\n",
    "tight_layout()"
   ]
  },
  {
   "cell_type": "code",
   "execution_count": 435,
   "id": "fdb66e59",
   "metadata": {},
   "outputs": [
    {
     "name": "stdout",
     "output_type": "stream",
     "text": [
      "/home/adrien/Documents/Programmes/Python/THESE/RF_Temp_Fit/Time_and_temp_RFHEAT_N1024_DC09_RF09.npz\n"
     ]
    }
   ],
   "source": [
    "# OK pour la temperature\n",
    "x = linspace(-10,10,1000)\n",
    "\n",
    "print(file_path[to_plot])\n",
    "# test plot\n",
    "index_max = 1900\n",
    "figure(1111,clear='True')\n",
    "#semilogy(time[to_plot]*1e3,T_aux_avg[to_plot],color='r')\n",
    "plot(x,tanh_plus(x,1,1,0,0.1,0),color='r')\n",
    "#b, a = signal.butter(8, 0.125)\n",
    "#y = signal.filtfilt(b, a, T_aux_avg[to_plot], padlen=150)\n",
    "#semilogy(time[to_plot]*1e3,y,color='b')\n",
    "xlabel('time [ms]')\n",
    "ylabel('T [K]')\n",
    "# xlim(1,1.1)\n",
    "grid()\n",
    "tight_layout()"
   ]
  },
  {
   "cell_type": "code",
   "execution_count": 495,
   "id": "0b2f64e0",
   "metadata": {},
   "outputs": [
    {
     "data": {
      "text/plain": [
       "24.60000000000015"
      ]
     },
     "execution_count": 495,
     "metadata": {},
     "output_type": "execute_result"
    }
   ],
   "source": [
    "N_period"
   ]
  },
  {
   "cell_type": "code",
   "execution_count": 241,
   "id": "060e30bd",
   "metadata": {},
   "outputs": [],
   "source": [
    "time_step = 48//4 # 488 # 488\n",
    "y_filt_diff = y_filt[time_step:]-y_filt[:-time_step]\n",
    "x_avg = (x[:-time_step]) *1e3 # x_avg = (x[time_step:]+x[:-time_step])/2 *1e3\n",
    "N_period = (x[time_step]-x[0])*(Omega/2/pi)\n",
    "\n",
    "figure(11,clear='True')\n",
    "plot(x_avg,y_filt_diff/N_period)\n",
    "plot(x[start_for_fit:end_fit-1]*1e3,\n",
    "     diff(y_fit2)/(diff(x[start_for_fit:end_fit])*(Omega/2/pi)),color='m' ) # / 10000000\n",
    "plot(x[start_for_fit:end_fit-1]*1e3,\n",
    "     diff(y_fit2bis)/(diff(x[start_for_fit:end_fit])*(Omega/2/pi)),color='deeppink' ) # / 10000000\n",
    "plot(x[start_for_fit:end_fit-1]*1e3,\n",
    "     diff(y_fit5)/(diff(x[start_for_fit:end_fit])*(Omega/2/pi)),color='r',ls='--' ) # / 10000000\n",
    "plot(x[start_for_fit:end_fit-1]*1e3,\n",
    "     diff(y_fit6)/(diff(x[start_for_fit:end_fit])*(Omega/2/pi)),color='r',ls=':') # / 10000000\n",
    "\n",
    "xlabel('t [ms]')\n",
    "ylabel('H [K/period]')\n",
    "grid()\n",
    "xlim(t0_first_guess*1e3-1,t0_first_guess*1e3+1)\n",
    "ylim(-1,1)\n",
    "tight_layout()"
   ]
  },
  {
   "cell_type": "code",
   "execution_count": 232,
   "id": "60112fdc",
   "metadata": {},
   "outputs": [
    {
     "data": {
      "text/plain": [
       "array([1.04030154, 1.04030154, 1.04030154, ..., 1.04030154, 1.04030154,\n",
       "       1.04030154])"
      ]
     },
     "execution_count": 232,
     "metadata": {},
     "output_type": "execute_result"
    }
   ],
   "source": [
    "y_fit7"
   ]
  }
 ],
 "metadata": {
  "kernelspec": {
   "display_name": "Python 3 (ipykernel)",
   "language": "python",
   "name": "python3"
  },
  "language_info": {
   "codemirror_mode": {
    "name": "ipython",
    "version": 3
   },
   "file_extension": ".py",
   "mimetype": "text/x-python",
   "name": "python",
   "nbconvert_exporter": "python",
   "pygments_lexer": "ipython3",
   "version": "3.10.4"
  }
 },
 "nbformat": 4,
 "nbformat_minor": 5
}
