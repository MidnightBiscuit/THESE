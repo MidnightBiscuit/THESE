{
 "cells": [
  {
   "cell_type": "code",
   "execution_count": 1,
   "id": "c517753f",
   "metadata": {},
   "outputs": [
    {
     "name": "stdout",
     "output_type": "stream",
     "text": [
      "2022-04-26T11:37:55+02:00\n",
      "\n",
      "CPython 3.6.7\n",
      "IPython 6.4.0\n",
      "\n",
      "compiler   : GCC 7.3.0\n",
      "system     : Linux\n",
      "release    : 4.15.0-175-generic\n",
      "machine    : x86_64\n",
      "processor  : x86_64\n",
      "CPU cores  : 8\n",
      "interpreter: 64bit\n"
     ]
    }
   ],
   "source": [
    "%load_ext watermark\n",
    "%watermark"
   ]
  },
  {
   "cell_type": "code",
   "execution_count": 2,
   "id": "a83f039b",
   "metadata": {},
   "outputs": [
    {
     "name": "stdout",
     "output_type": "stream",
     "text": [
      "Using matplotlib backend: TkAgg\n",
      "Populating the interactive namespace from numpy and matplotlib\n"
     ]
    }
   ],
   "source": [
    "%pylab"
   ]
  },
  {
   "cell_type": "code",
   "execution_count": 3,
   "id": "25c8aac1",
   "metadata": {},
   "outputs": [
    {
     "name": "stdout",
     "output_type": "stream",
     "text": [
      "Warning: Cannot change to a different GUI toolkit: qt. Using tk instead.\n"
     ]
    }
   ],
   "source": [
    "from scipy.optimize import curve_fit\n",
    "from scipy.signal import savgol_filter\n",
    "\n",
    "import tkinter as tk\n",
    "from tkinter import filedialog\n",
    "%matplotlib qt"
   ]
  },
  {
   "cell_type": "code",
   "execution_count": 4,
   "id": "6ba66049",
   "metadata": {},
   "outputs": [
    {
     "name": "stdout",
     "output_type": "stream",
     "text": [
      "[  1  52 103 154 205 257 308 359 410 462]\n",
      "[ 51 102 153 204 255 307 358 409 460 512]\n"
     ]
    }
   ],
   "source": [
    "n_core = 10\n",
    "N = 512\n",
    "print(linspace(1,N+1-N//n_core,n_core,dtype='int'))\n",
    "print(linspace(N//n_core,N,n_core,dtype='int'))\n",
    "\n",
    "# integer          , parameter :: ia(ni)=[1,257,513,769]\n",
    "# integer          , parameter :: ib(ni)=[256,512,768,1024]"
   ]
  },
  {
   "cell_type": "code",
   "execution_count": 5,
   "id": "ee93ef80",
   "metadata": {},
   "outputs": [],
   "source": [
    "def load_file_GUI(dir_string):\n",
    "\n",
    "    root = tk.Tk()\n",
    "    root.withdraw()\n",
    "\n",
    "    file_path = filedialog.askopenfilename(initialdir = dir_string,\n",
    "                                       multiple=True)\n",
    "    return file_path"
   ]
  },
  {
   "cell_type": "code",
   "execution_count": 6,
   "id": "9a4e4939",
   "metadata": {},
   "outputs": [],
   "source": [
    "%run ../../GiantMol/Functions/1.2/data_fct_Adrien_point_by_point\n",
    "matplotlib.rcParams.update({'font.size': 25})"
   ]
  },
  {
   "cell_type": "code",
   "execution_count": 7,
   "id": "1b080c8a",
   "metadata": {},
   "outputs": [
    {
     "name": "stdout",
     "output_type": "stream",
     "text": [
      "$\\kappa_{simion}$ = 0.270471\n"
     ]
    }
   ],
   "source": [
    "# Constantes de la physique\n",
    "# ABSOLUMENT RECHARGER APRÈS AVOIR EXECUTÉ LES CASES D'IMPORT AU DESSUS\n",
    "\n",
    "C_e = 1.602e-19        # Coulomb\n",
    "kb = 1.38064852*1e-23  # Boltzman\n",
    "m_Ca = 40.078*1.66054e-27 # masse Ca 40.078\n",
    "m_GM = 1e6*1.66054e-27 # la masse de la GMol\n",
    "eps0 = 8.854187*1e-12  # permittivité électrique du vide\n",
    "\n",
    "r0 = 2.5e-3 # 2.5e-3   # rayon piège Ca+\n",
    "d0 = 4e-3/2            # longueur piège Ca+\n",
    "\n",
    "Omega = 2.05e6*2*pi # 2.047e6\n",
    "\n",
    "bk = 4 # nombre de barreaux par groupe (2 -> 4-pole , 4 -> 8-pole ...)\n",
    "\n",
    "mkappa = 0.23          # écrantage piège réel GiantMol\n",
    "\n",
    "wzLC = (2*pi*90806.9982303)**2\n",
    "kappa_simion = m_Ca*d0**2*wzLC/(2*C_e)\n",
    "print('%s = %f' % ('$\\kappa_{simion}$',kappa_simion) )\n",
    "\n",
    "zeta = kappa_simion*r0**2/d0**2"
   ]
  },
  {
   "cell_type": "code",
   "execution_count": 8,
   "id": "55774421",
   "metadata": {},
   "outputs": [],
   "source": [
    "def data_retrieve(all_subdir,points_and_coord, condition_parameters, slash_cfg,**kwargs):\n",
    "\n",
    "    myslashpos = slash_cfg[0]\n",
    "    slashcond = slash_cfg[1]\n",
    "\n",
    "    # determining number of elements on each repetition\n",
    "    try:\n",
    "        num_runs = ['Try'+str(kwargs.get('forcenumtry'))]\n",
    "        num_runs_aux = [runs[myslashpos[slashcond+1]+1:] for runs in all_subdir if list(points_and_coord.keys())[0] in runs]\n",
    "        num_runs_aux = list(dict.fromkeys(num_runs_aux))\n",
    "        num_runs_aux = len(num_runs_aux)\n",
    "        all_subdir = [x for w,x in enumerate(all_subdir) if (w-kwargs.get('forcenumtry'))%num_runs_aux==0]\n",
    "    except:\n",
    "        num_runs = [runs[myslashpos[slashcond+1]+1:] for runs in all_subdir if list(points_and_coord.keys())[0] in runs]\n",
    "        num_runs = list(dict.fromkeys(num_runs))\n",
    "\n",
    "    # number of repetitions\n",
    "    print('> Points |',len(points_and_coord))\n",
    "    print('> Simulations pour chaque point |', num_runs)\n",
    "    \n",
    "    data0 = [[] for i in range(len(points_and_coord))] # file path to SimuType4\n",
    "    data_address = [[] for i in range(len(points_and_coord))]\n",
    "\n",
    "    # Variables à deux coordonnées : [point, try]\n",
    "    shapevar = (len(points_and_coord),len(num_runs))\n",
    "    Time        = []\n",
    "    Temperature = []\n",
    "    \n",
    "    t0 = time.clock()\n",
    "    print(\"Hello\")\n",
    "\n",
    "    # write variables\n",
    "    for k, address in enumerate(all_subdir):\n",
    "\n",
    "    # in-loop variables\n",
    "        pnt = k // len(num_runs)  # actual point\n",
    "        rep = k  % len(num_runs)          # actual repetition\n",
    "\n",
    "        # get only .dat files in each simulation directory\n",
    "        onlyfiles = [f for f in listdir(address) if isfile(join(address, f)) and not \"xva\" in f and \".dat\" in f]\n",
    "        # build path file\n",
    "        data0[pnt].append('{}/{}'.format(address,sort(onlyfiles)[0].strip('.dat')))\n",
    "        data_address[pnt].append(address)\n",
    "\n",
    "        # load fluorescence and T\n",
    "        Time.append( loadtxt(str(data0[pnt][0])+'.dat',unpack=True)[0] )\n",
    "        Temperature.append( loadtxt(str(data0[pnt][0])+'.dat',unpack=True)[4:7] )\n",
    "        \n",
    "        # load cloud size before injection\n",
    "        if not(rep % len(num_runs)):\n",
    "            print( \"Point n°\", pnt )\n",
    "        \n",
    "        print(f'{pnt:02}','-',f'{rep:02}',' > ',data0[pnt][rep])\n",
    "        \n",
    "        if k == len(points_and_coord)*len(num_runs) - 1:\n",
    "            break\n",
    "\n",
    "    t1 = time.clock() - t0\n",
    "    print(\"Time elapsed: \", t1, 's') # CPU seconds elapsed (floating point)\n",
    "    print(\"Time elapsed: \", t1/60, 'm') # CPU seconds elapsed (floating point)\n",
    "    \n",
    "    data_name = [data_address, data0]\n",
    "    \n",
    "    return data_name, num_runs, Time, Temperature "
   ]
  },
  {
   "cell_type": "markdown",
   "id": "01f6f167",
   "metadata": {},
   "source": [
    "# Extract data as npz"
   ]
  },
  {
   "cell_type": "code",
   "execution_count": 25,
   "id": "e6455e89",
   "metadata": {},
   "outputs": [
    {
     "name": "stdout",
     "output_type": "stream",
     "text": [
      "('/home/adrian/RemoteFS/Rivendel/Simulations/20220421/DC11_RF00/Try00/Temp_SimuType0_N00512_Vrf0060_Udc0.7000D+01V_nt1000.dat',)\n"
     ]
    }
   ],
   "source": [
    "file_path = load_file_GUI('/home/adrian/Documents/Programmes/Python/GiantMol/SimAnalysisPointbyPoint')\n",
    "print(file_path)"
   ]
  },
  {
   "cell_type": "code",
   "execution_count": 26,
   "id": "91605b8d",
   "metadata": {},
   "outputs": [
    {
     "name": "stdout",
     "output_type": "stream",
     "text": [
      "> Répertoire : /home/adrian/RemoteFS/Rivendel/Simulations/20220421/DC11_RF00/Try00\n",
      "> Filename : Temp_SimuType0_N00512_Vrf0060_Udc0.7000D+01V_nt1000.dat\n",
      "> myslashpos | [0, 5, 12, 21, 30, 42, 51, 61]\n",
      "> slashcond | 6\n",
      "Points deleted because they were not complete []   0 pt(s)\n",
      "Total number of data directories 19\n"
     ]
    }
   ],
   "source": [
    "## GUI for data loading\n",
    "# Select one data file all the way down to the directories\n",
    "# SELECT Temp_SimuTypeQ_N ... .dat\n",
    "\n",
    "file_cfg, slash_cfg, all_subdir = load_gui(filter_nocomplete=1)\n",
    "\n",
    "file_path = file_cfg[0]\n",
    "dir_path = file_cfg[1]\n",
    "work_rep = file_cfg[2]\n",
    "filename = file_cfg[3]\n",
    "\n",
    "myslashpos = slash_cfg[0]\n",
    "slashcond = slash_cfg[1]"
   ]
  },
  {
   "cell_type": "code",
   "execution_count": 27,
   "id": "f263b363",
   "metadata": {},
   "outputs": [
    {
     "name": "stdout",
     "output_type": "stream",
     "text": [
      "['DC11_RF00', 'DC11_RF01', 'DC11_RF02', 'DC11_RF03', 'DC11_RF04', 'DC11_RF05', 'DC11_RF06', 'DC11_RF07', 'DC11_RF08', 'DC11_RF11', 'DC11_RF12', 'DC11_RF13', 'DC11_RF14', 'DC11_RF15', 'DC11_RF16', 'DC11_RF17', 'DC11_RF18', 'DC11_RF22', 'DC11_RF23']\n",
      "000 > DC11_RF00\n",
      "001 > DC11_RF01\n",
      "002 > DC11_RF02\n",
      "003 > DC11_RF03\n",
      "004 > DC11_RF04\n",
      "005 > DC11_RF05\n",
      "006 > DC11_RF06\n",
      "007 > DC11_RF07\n",
      "008 > DC11_RF08\n",
      "009 > DC11_RF11\n",
      "010 > DC11_RF12\n",
      "011 > DC11_RF13\n",
      "012 > DC11_RF14\n",
      "013 > DC11_RF15\n",
      "014 > DC11_RF16\n",
      "015 > DC11_RF17\n",
      "016 > DC11_RF18\n",
      "017 > DC11_RF22\n",
      "018 > DC11_RF23\n",
      "> condition names ['DC', 'RF']\n",
      "> number of points 19\n",
      "> N_ions = 512\n",
      "> e_GMol = 50\n"
     ]
    }
   ],
   "source": [
    "## Condition for data\n",
    "points_and_coord, condition_parameters = simu_conditions(all_subdir, myslashpos, slashcond, filename)"
   ]
  },
  {
   "cell_type": "code",
   "execution_count": 28,
   "id": "f522c551",
   "metadata": {
    "scrolled": true
   },
   "outputs": [
    {
     "name": "stdout",
     "output_type": "stream",
     "text": [
      "> Points | 19\n",
      "> Simulations pour chaque point | ['Try00']\n",
      "Hello\n",
      "Point n° 0\n",
      "00 - 00  >  /home/adrian/RemoteFS/Rivendel/Simulations/20220421/DC11_RF00/Try00/Temp_SimuType0_N00512_Vrf0060_Udc0.7000D+01V_nt1000\n",
      "Point n° 1\n",
      "01 - 00  >  /home/adrian/RemoteFS/Rivendel/Simulations/20220421/DC11_RF01/Try00/Temp_SimuType0_N00512_Vrf0061_Udc0.7000D+01V_nt1000\n",
      "Point n° 2\n",
      "02 - 00  >  /home/adrian/RemoteFS/Rivendel/Simulations/20220421/DC11_RF02/Try00/Temp_SimuType0_N00512_Vrf0062_Udc0.7000D+01V_nt1000\n",
      "Point n° 3\n",
      "03 - 00  >  /home/adrian/RemoteFS/Rivendel/Simulations/20220421/DC11_RF03/Try00/Temp_SimuType0_N00512_Vrf0063_Udc0.7000D+01V_nt1000\n",
      "Point n° 4\n",
      "04 - 00  >  /home/adrian/RemoteFS/Rivendel/Simulations/20220421/DC11_RF04/Try00/Temp_SimuType0_N00512_Vrf0064_Udc0.7000D+01V_nt1000\n",
      "Point n° 5\n",
      "05 - 00  >  /home/adrian/RemoteFS/Rivendel/Simulations/20220421/DC11_RF05/Try00/Temp_SimuType0_N00512_Vrf0065_Udc0.7000D+01V_nt1000\n",
      "Point n° 6\n",
      "06 - 00  >  /home/adrian/RemoteFS/Rivendel/Simulations/20220421/DC11_RF06/Try00/Temp_SimuType0_N00512_Vrf0066_Udc0.7000D+01V_nt1000\n",
      "Point n° 7\n",
      "07 - 00  >  /home/adrian/RemoteFS/Rivendel/Simulations/20220421/DC11_RF07/Try00/Temp_SimuType0_N00512_Vrf0067_Udc0.7000D+01V_nt1000\n",
      "Point n° 8\n",
      "08 - 00  >  /home/adrian/RemoteFS/Rivendel/Simulations/20220421/DC11_RF08/Try00/Temp_SimuType0_N00512_Vrf0068_Udc0.7000D+01V_nt1000\n",
      "Point n° 9\n",
      "09 - 00  >  /home/adrian/RemoteFS/Rivendel/Simulations/20220421/DC11_RF11/Try00/Temp_SimuType0_N00512_Vrf0062_Udc0.7000D+01V_nt1000\n",
      "Point n° 10\n",
      "10 - 00  >  /home/adrian/RemoteFS/Rivendel/Simulations/20220421/DC11_RF12/Try00/Temp_SimuType0_N00512_Vrf0062_Udc0.7000D+01V_nt1000\n",
      "Point n° 11\n",
      "11 - 00  >  /home/adrian/RemoteFS/Rivendel/Simulations/20220421/DC11_RF13/Try00/Temp_SimuType0_N00512_Vrf0062_Udc0.7000D+01V_nt1000\n",
      "Point n° 12\n",
      "12 - 00  >  /home/adrian/RemoteFS/Rivendel/Simulations/20220421/DC11_RF14/Try00/Temp_SimuType0_N00512_Vrf0062_Udc0.7000D+01V_nt1000\n",
      "Point n° 13\n",
      "13 - 00  >  /home/adrian/RemoteFS/Rivendel/Simulations/20220421/DC11_RF15/Try00/Temp_SimuType0_N00512_Vrf0063_Udc0.7000D+01V_nt1000\n",
      "Point n° 14\n",
      "14 - 00  >  /home/adrian/RemoteFS/Rivendel/Simulations/20220421/DC11_RF16/Try00/Temp_SimuType0_N00512_Vrf0063_Udc0.7000D+01V_nt1000\n",
      "Point n° 15\n",
      "15 - 00  >  /home/adrian/RemoteFS/Rivendel/Simulations/20220421/DC11_RF17/Try00/Temp_SimuType0_N00512_Vrf0063_Udc0.7000D+01V_nt1000\n",
      "Point n° 16\n",
      "16 - 00  >  /home/adrian/RemoteFS/Rivendel/Simulations/20220421/DC11_RF18/Try00/Temp_SimuType0_N00512_Vrf0063_Udc0.7000D+01V_nt1000\n",
      "Point n° 17\n",
      "17 - 00  >  /home/adrian/RemoteFS/Rivendel/Simulations/20220421/DC11_RF22/Try00/Temp_SimuType0_N00512_Vrf0055_Udc0.7000D+01V_nt1000\n",
      "Point n° 18\n",
      "18 - 00  >  /home/adrian/RemoteFS/Rivendel/Simulations/20220421/DC11_RF23/Try00/Temp_SimuType0_N00512_Vrf0070_Udc0.7000D+01V_nt1000\n",
      "Time elapsed:  32.7348479999996 s\n",
      "Time elapsed:  0.5455807999999933 m\n"
     ]
    }
   ],
   "source": [
    "## Data loading (1D arrays)\n",
    "data_name, num_runs, Time, Temperature \\\n",
    "= data_retrieve(all_subdir,points_and_coord,condition_parameters,slash_cfg) # stopping_power  ,forcenumtry=28"
   ]
  },
  {
   "cell_type": "code",
   "execution_count": 29,
   "id": "8d9a3308",
   "metadata": {
    "scrolled": false
   },
   "outputs": [
    {
     "name": "stdout",
     "output_type": "stream",
     "text": [
      "DC11_RF00\n",
      "DC11_RF01\n",
      "DC11_RF02\n",
      "DC11_RF03\n",
      "DC11_RF04\n",
      "DC11_RF05\n",
      "DC11_RF06\n",
      "DC11_RF07\n",
      "DC11_RF08\n",
      "DC11_RF11\n",
      "DC11_RF12\n",
      "DC11_RF13\n",
      "DC11_RF14\n",
      "DC11_RF15\n",
      "DC11_RF16\n",
      "DC11_RF17\n",
      "DC11_RF18\n",
      "DC11_RF22\n",
      "DC11_RF23\n"
     ]
    }
   ],
   "source": [
    "for j,k in enumerate(data_name[0]):\n",
    "    cond = k[0][52:61]\n",
    "    print(cond)\n",
    "    outfile = 'Time_and_temp_RFHEAT_N0512_'+str(cond)\n",
    "    np.savez( outfile, time=Time[j], temp = mean(Temperature[j],axis=0)) # dirname_hc=re.sub(r'\\\\',r'/',dirname_hc)"
   ]
  },
  {
   "cell_type": "code",
   "execution_count": 31,
   "id": "e32bc956",
   "metadata": {},
   "outputs": [
    {
     "name": "stdout",
     "output_type": "stream",
     "text": [
      "[0.00100062 0.00100112 0.00100162 ... 0.01005262 0.01005312 0.01005362]\n",
      "[1.92375278e-03 2.42508665e-03 2.52911492e-03 ... 9.08200632e+01\n",
      " 7.94317444e+01 1.00054870e+02]\n",
      "(18107,)\n",
      "(18107,)\n"
     ]
    }
   ],
   "source": [
    "# load check\n",
    "cond = 'DC11_RF18'\n",
    "outfile = 'Time_and_temp_RFHEAT_N0512_'+str(cond)\n",
    "with load(outfile+'.npz') as data:\n",
    "    a = data['time']\n",
    "    b = data['temp']\n",
    "print(a)\n",
    "print(b)\n",
    "print(shape(a))\n",
    "print(shape(b))"
   ]
  },
  {
   "cell_type": "code",
   "execution_count": 32,
   "id": "e62306a4",
   "metadata": {
    "collapsed": true
   },
   "outputs": [
    {
     "name": "stdout",
     "output_type": "stream",
     "text": [
      "Variable                                       Type                          Data/Info\n",
      "--------------------------------------------------------------------------------------\n",
      "C_e                                            float                         1.602e-19\n",
      "N                                              int                           512\n",
      "Omega                                          float                         12880529.879718151\n",
      "Path                                           type                          <class 'pathlib.Path'>\n",
      "Temperature                                    list                          n=19\n",
      "Time                                           list                          n=19\n",
      "a                                              ndarray                       18107: 18107 elems, type `float64`, 144856 bytes (141.4609375 kb)\n",
      "all_subdir                                     list                          n=19\n",
      "b                                              ndarray                       18107: 18107 elems, type `float64`, 144856 bytes (141.4609375 kb)\n",
      "bk                                             int                           4\n",
      "cc                                             function                      <function cc at 0x7fcf10b0db70>\n",
      "cloud_size                                     function                      <function cloud_size at 0x7fcf10b0d9d8>\n",
      "cond                                           str                           DC11_RF18\n",
      "condition_parameters                           list                          n=3\n",
      "convert_dico_to_var                            function                      <function convert_dico_to_var at 0x7fcf10afa730>\n",
      "curve_fit                                      function                      <function curve_fit at 0x7fcedf8f0400>\n",
      "d0                                             float                         0.002\n",
      "data                                           NpzFile                       <numpy.lib.npyio.NpzFile <...>object at 0x7fcf10823e48>\n",
      "data_check                                     function                      <function data_check at 0x7fcf10b0d8c8>\n",
      "data_name                                      list                          n=2\n",
      "data_retrieve                                  function                      <function data_retrieve at 0x7fcf10855488>\n",
      "data_retrieve_RFRelax                          function                      <function data_retrieve_R<...>FRelax at 0x7fcf10b0d730>\n",
      "data_retrieve_onefile                          function                      <function data_retrieve_o<...>nefile at 0x7fcf10b0d6a8>\n",
      "dir_path                                       PosixPath                     /home/adrian/RemoteFS/Riv<...>/20220421/DC11_RF00/Try00\n",
      "energy_lost                                    function                      <function energy_lost at 0x7fcf10b0d378>\n",
      "eps0                                           float                         8.854186999999999e-12\n",
      "fft                                            function                      <function fft at 0x7fcee84bef28>\n",
      "file_cfg                                       list                          n=4\n",
      "file_name_retrieve                             function                      <function file_name_retrieve at 0x7fcf10b0d950>\n",
      "file_path                                      str                           /home/adrian/RemoteFS/Riv<...>Udc0.7000D+01V_nt1000.dat\n",
      "filedialog                                     module                        <module 'tkinter.filedial<...>6/tkinter/filedialog.py'>\n",
      "filename                                       str                           Temp_SimuType0_N00512_Vrf<...>Udc0.7000D+01V_nt1000.dat\n",
      "find_PM_variation_FinalT                       function                      <function find_PM_variati<...>FinalT at 0x7fcf10b0d2f0>\n",
      "get_sec                                        function                      <function get_sec at 0x7fcf10b0dbf8>\n",
      "import_data                                    function                      <function import_data at 0x7fcf10afa6a8>\n",
      "info                                           module                        <module 'numpy.linalg.inf<...>es/numpy/linalg/info.py'>\n",
      "isfile                                         function                      <function isfile at 0x7fcf1dddca60>\n",
      "j                                              int                           18\n",
      "join                                           function                      <function join at 0x7fcf1dd86620>\n",
      "k                                              list                          n=1\n",
      "kappa_simion                                   float                         0.27047133360403336\n",
      "kb                                             float                         1.38064852e-23\n",
      "linalg                                         module                        <module 'numpy.linalg.lin<...>/numpy/linalg/linalg.py'>\n",
      "listdir                                        builtin_function_or_method    <built-in function listdir>\n",
      "load_RF_relax                                  function                      <function load_RF_relax at 0x7fcf10b0dae8>\n",
      "load_T_PM_cloud_GMol                           function                      <function load_T_PM_cloud_GMol at 0x7fcf10b0da60>\n",
      "load_T_and_PM_simu                             function                      <function load_T_and_PM_simu at 0x7fcf10afa7b8>\n",
      "load_T_and_PM_simu_noGMOL                      function                      <function load_T_and_PM_s<...>noGMOL at 0x7fcf10afa840>\n",
      "load_Temp_init_bin_Lan                         function                      <function load_Temp_init_<...>in_Lan at 0x7fcf10b0d7b8>\n",
      "load_cloud_trj                                 function                      <function load_cloud_trj at 0x7fcf10b0d488>\n",
      "load_file_GUI                                  function                      <function load_file_GUI at 0x7fcf10afa378>\n",
      "load_gui                                       function                      <function load_gui at 0x7fcf10b0d510>\n",
      "load_trj                                       function                      <function load_trj at 0x7fcf10b0d400>\n",
      "load_xva_init_bin_Lan                          function                      <function load_xva_init_b<...>in_Lan at 0x7fcf10b0d840>\n",
      "load_xyz_init_bin_DP                           function                      <function load_xyz_init_bin_DP at 0x7fcf10afabf8>\n",
      "m_Ca                                           float                         6.655112212e-26\n",
      "m_GM                                           float                         1.66054e-21\n",
      "mcolors                                        module                        <module 'matplotlib.color<...>es/matplotlib/colors.py'>\n",
      "mkappa                                         float                         0.23\n",
      "myslashpos                                     list                          n=8\n",
      "n_core                                         int                           10\n",
      "natsorted                                      function                      <function natsorted at 0x7fcf10837ae8>\n",
      "num_runs                                       list                          n=1\n",
      "os                                             module                        <module 'os' from '/home/<...>307/lib/python3.6/os.py'>\n",
      "outfile                                        str                           Time_and_temp_RFHEAT_N0512_DC11_RF18\n",
      "plot_T_and_PM_Evol                             function                      <function plot_T_and_PM_Evol at 0x7fcf10b0d0d0>\n",
      "plot_T_and_PM_Init                             function                      <function plot_T_and_PM_Init at 0x7fcf10afaea0>\n",
      "plot_T_and_PM_InitQ_Evol_AfterCool             function                      <function plot_T_and_PM_I<...>erCool at 0x7fcf10b0d268>\n",
      "plot_T_and_PM_InitQ_Inje                       function                      <function plot_T_and_PM_I<...>Q_Inje at 0x7fcf10afae18>\n",
      "plot_T_and_PM_InitQ_Inje_Evol                  function                      <function plot_T_and_PM_I<...>e_Evol at 0x7fcf10afad90>\n",
      "plot_T_and_PM_Init_Inje_Evol                   function                      <function plot_T_and_PM_I<...>e_Evol at 0x7fcf10afad08>\n",
      "plot_T_and_PM_Init_RFrelax_AfterCooling_Evol   function                      <function plot_T_and_PM_I<...>g_Evol at 0x7fcf10b0d158>\n",
      "plot_T_and_PM_Init_RFrelax_AfterInj_Evol       function                      <function plot_T_and_PM_I<...>j_Evol at 0x7fcf10b0d1e0>\n",
      "plot_T_and_PM_Inje                             function                      <function plot_T_and_PM_Inje at 0x7fcf10b0d048>\n",
      "plot_T_and_PM_Quen                             function                      <function plot_T_and_PM_Quen at 0x7fcf10afaf28>\n",
      "plot_XYZ                                       function                      <function plot_XYZ at 0x7fcf10afac80>\n",
      "points_and_coord                               dict                          n=19\n",
      "power                                          builtin_function_or_method    <built-in method power of<...>object at 0x7fcee8224f30>\n",
      "r0                                             float                         0.0025\n",
      "random                                         builtin_function_or_method    <built-in method random_s<...>object at 0x7fcee8224f30>\n",
      "re                                             module                        <module 're' from '/home/<...>307/lib/python3.6/re.py'>\n",
      "savgol_filter                                  function                      <function savgol_filter at 0x7fcedbd55e18>\n",
      "simu_conditions                                function                      <function simu_conditions at 0x7fcf10b0d598>\n",
      "size_data                                      function                      <function size_data at 0x7fcf10afa598>\n",
      "slash_cfg                                      list                          n=2\n",
      "slashcond                                      int                           6\n",
      "timeit                                         module                        <module 'timeit' from '/h<...>lib/python3.6/timeit.py'>\n",
      "tk                                             module                        <module 'tkinter' from '/<...>3.6/tkinter/__init__.py'>\n",
      "work_rep                                       str                           /home/adrian/RemoteFS/Riv<...>/20220421/DC11_RF00/Try00\n",
      "wzLC                                           float                         325535515128.0366\n",
      "zeta                                           float                         0.4226114587563022\n"
     ]
    }
   ],
   "source": [
    "whos"
   ]
  },
  {
   "cell_type": "markdown",
   "id": "2ef8b8b0",
   "metadata": {},
   "source": [
    "# Work with data"
   ]
  },
  {
   "cell_type": "code",
   "execution_count": 32,
   "id": "b97be955",
   "metadata": {
    "scrolled": true
   },
   "outputs": [
    {
     "name": "stdout",
     "output_type": "stream",
     "text": [
      "['/home/adrian/Documents/Programmes/Python/THESE/RF_Temp_Fit/Time_and_temp_RFHEAT_N0512_DC11_RF00.npz'\n",
      " '/home/adrian/Documents/Programmes/Python/THESE/RF_Temp_Fit/Time_and_temp_RFHEAT_N0512_DC11_RF01.npz'\n",
      " '/home/adrian/Documents/Programmes/Python/THESE/RF_Temp_Fit/Time_and_temp_RFHEAT_N0512_DC11_RF02.npz'\n",
      " '/home/adrian/Documents/Programmes/Python/THESE/RF_Temp_Fit/Time_and_temp_RFHEAT_N0512_DC11_RF03.npz'\n",
      " '/home/adrian/Documents/Programmes/Python/THESE/RF_Temp_Fit/Time_and_temp_RFHEAT_N0512_DC11_RF04.npz'\n",
      " '/home/adrian/Documents/Programmes/Python/THESE/RF_Temp_Fit/Time_and_temp_RFHEAT_N0512_DC11_RF05.npz'\n",
      " '/home/adrian/Documents/Programmes/Python/THESE/RF_Temp_Fit/Time_and_temp_RFHEAT_N0512_DC11_RF06.npz'\n",
      " '/home/adrian/Documents/Programmes/Python/THESE/RF_Temp_Fit/Time_and_temp_RFHEAT_N0512_DC11_RF07.npz'\n",
      " '/home/adrian/Documents/Programmes/Python/THESE/RF_Temp_Fit/Time_and_temp_RFHEAT_N0512_DC11_RF08.npz'\n",
      " '/home/adrian/Documents/Programmes/Python/THESE/RF_Temp_Fit/Time_and_temp_RFHEAT_N0512_DC11_RF11.npz'\n",
      " '/home/adrian/Documents/Programmes/Python/THESE/RF_Temp_Fit/Time_and_temp_RFHEAT_N0512_DC11_RF12.npz'\n",
      " '/home/adrian/Documents/Programmes/Python/THESE/RF_Temp_Fit/Time_and_temp_RFHEAT_N0512_DC11_RF13.npz'\n",
      " '/home/adrian/Documents/Programmes/Python/THESE/RF_Temp_Fit/Time_and_temp_RFHEAT_N0512_DC11_RF14.npz'\n",
      " '/home/adrian/Documents/Programmes/Python/THESE/RF_Temp_Fit/Time_and_temp_RFHEAT_N0512_DC11_RF15.npz'\n",
      " '/home/adrian/Documents/Programmes/Python/THESE/RF_Temp_Fit/Time_and_temp_RFHEAT_N0512_DC11_RF16.npz'\n",
      " '/home/adrian/Documents/Programmes/Python/THESE/RF_Temp_Fit/Time_and_temp_RFHEAT_N0512_DC11_RF17.npz'\n",
      " '/home/adrian/Documents/Programmes/Python/THESE/RF_Temp_Fit/Time_and_temp_RFHEAT_N0512_DC11_RF18.npz'\n",
      " '/home/adrian/Documents/Programmes/Python/THESE/RF_Temp_Fit/Time_and_temp_RFHEAT_N0512_DC11_RF22.npz'\n",
      " '/home/adrian/Documents/Programmes/Python/THESE/RF_Temp_Fit/Time_and_temp_RFHEAT_N0512_DC11_RF23.npz'\n",
      " '/home/adrian/Documents/Programmes/Python/THESE/RF_Temp_Fit/Time_and_temp_RFHEAT_N1024_DC11_RF00.npz'\n",
      " '/home/adrian/Documents/Programmes/Python/THESE/RF_Temp_Fit/Time_and_temp_RFHEAT_N1024_DC11_RF01.npz'\n",
      " '/home/adrian/Documents/Programmes/Python/THESE/RF_Temp_Fit/Time_and_temp_RFHEAT_N1024_DC11_RF02.npz'\n",
      " '/home/adrian/Documents/Programmes/Python/THESE/RF_Temp_Fit/Time_and_temp_RFHEAT_N1024_DC11_RF03.npz'\n",
      " '/home/adrian/Documents/Programmes/Python/THESE/RF_Temp_Fit/Time_and_temp_RFHEAT_N1024_DC11_RF04.npz'\n",
      " '/home/adrian/Documents/Programmes/Python/THESE/RF_Temp_Fit/Time_and_temp_RFHEAT_N1024_DC11_RF05.npz'\n",
      " '/home/adrian/Documents/Programmes/Python/THESE/RF_Temp_Fit/Time_and_temp_RFHEAT_N1024_DC11_RF06.npz'\n",
      " '/home/adrian/Documents/Programmes/Python/THESE/RF_Temp_Fit/Time_and_temp_RFHEAT_N1024_DC11_RF07.npz'\n",
      " '/home/adrian/Documents/Programmes/Python/THESE/RF_Temp_Fit/Time_and_temp_RFHEAT_N1024_DC11_RF08.npz'\n",
      " '/home/adrian/Documents/Programmes/Python/THESE/RF_Temp_Fit/Time_and_temp_RFHEAT_N1024_DC11_RF11.npz'\n",
      " '/home/adrian/Documents/Programmes/Python/THESE/RF_Temp_Fit/Time_and_temp_RFHEAT_N1024_DC11_RF12.npz'\n",
      " '/home/adrian/Documents/Programmes/Python/THESE/RF_Temp_Fit/Time_and_temp_RFHEAT_N1024_DC11_RF13.npz'\n",
      " '/home/adrian/Documents/Programmes/Python/THESE/RF_Temp_Fit/Time_and_temp_RFHEAT_N1024_DC11_RF14.npz'\n",
      " '/home/adrian/Documents/Programmes/Python/THESE/RF_Temp_Fit/Time_and_temp_RFHEAT_N1024_DC11_RF15.npz'\n",
      " '/home/adrian/Documents/Programmes/Python/THESE/RF_Temp_Fit/Time_and_temp_RFHEAT_N1024_DC11_RF16.npz'\n",
      " '/home/adrian/Documents/Programmes/Python/THESE/RF_Temp_Fit/Time_and_temp_RFHEAT_N1024_DC11_RF17.npz'\n",
      " '/home/adrian/Documents/Programmes/Python/THESE/RF_Temp_Fit/Time_and_temp_RFHEAT_N1024_DC11_RF18.npz'\n",
      " '/home/adrian/Documents/Programmes/Python/THESE/RF_Temp_Fit/Time_and_temp_RFHEAT_N1024_DC11_RF19.npz'\n",
      " '/home/adrian/Documents/Programmes/Python/THESE/RF_Temp_Fit/Time_and_temp_RFHEAT_N1024_DC11_RF20.npz'\n",
      " '/home/adrian/Documents/Programmes/Python/THESE/RF_Temp_Fit/Time_and_temp_RFHEAT_N1024_DC11_RF21.npz'\n",
      " '/home/adrian/Documents/Programmes/Python/THESE/RF_Temp_Fit/Time_and_temp_RFHEAT_N1024_DC11_RF22.npz'\n",
      " '/home/adrian/Documents/Programmes/Python/THESE/RF_Temp_Fit/Time_and_temp_RFHEAT_N1024_DC11_RF23.npz'\n",
      " '/home/adrian/Documents/Programmes/Python/THESE/RF_Temp_Fit/Time_and_temp_RFHEAT_N1024_DC11_RF24.npz'\n",
      " '/home/adrian/Documents/Programmes/Python/THESE/RF_Temp_Fit/Time_and_temp_RFHEAT_N1024_DC11_RF25.npz'\n",
      " '/home/adrian/Documents/Programmes/Python/THESE/RF_Temp_Fit/Time_and_temp_RFHEAT_N1024_DC11_RF26.npz']\n"
     ]
    }
   ],
   "source": [
    "file_path = array(load_file_GUI('/home/adrian/Documents/Programmes/Python'))\n",
    "print(file_path)\n",
    "\n",
    "for j,k in enumerate(file_path):\n",
    "    cond = k[0][52:61]"
   ]
  },
  {
   "cell_type": "code",
   "execution_count": 53,
   "id": "2b7f41cc",
   "metadata": {},
   "outputs": [
    {
     "name": "stdout",
     "output_type": "stream",
     "text": [
      "1024\n",
      "[40.  45.  50.  55.  60.  61.  62.  62.2 62.4 62.6 62.8 63.  63.2 63.4\n",
      " 63.6 63.8 64.  65.  66.  67.  68.  70.  75.  80.  85. ]\n",
      "512\n",
      "[55.  60.  61.  62.  62.2 62.4 62.6 62.8 63.  63.2 63.4 63.6 63.8 64.\n",
      " 65.  66.  67.  68.  70. ]\n"
     ]
    }
   ],
   "source": [
    "all_Urf = [60,61,62,63,64,65,66,67,68,\n",
    "           00,00,\n",
    "           62.2,62.4,62.6,62.8,63.2,63.4,63.6,63.8,40,45,50,55,70,75,80,85]\n",
    "all_N = [1024,512]\n",
    "Urf = []\n",
    "file_path_tmp = []\n",
    "for l,m in enumerate(all_N):\n",
    "    N_str = str(m)\n",
    "    print(N_str)\n",
    "    Urf.append([])\n",
    "    file_path_tmp.append([])\n",
    "    for j,k in enumerate(file_path):\n",
    "        if str(m) in k:            \n",
    "#             print(str(m),k)\n",
    "            str_pos = k.find(N_str)\n",
    "            cond = k[str_pos+5:str_pos+14]\n",
    "#             print(cond)\n",
    "            str_pos = cond.find('RF')\n",
    "            RF_cond = cond[str_pos+2:str_pos+4]        \n",
    "#             print(cond,RF_cond)\n",
    "            Urf[l].append(all_Urf[int(RF_cond)])\n",
    "            file_path_tmp[l].append(k)\n",
    "#             print('not found')\n",
    "    print(sort(Urf[l]))"
   ]
  },
  {
   "cell_type": "code",
   "execution_count": 76,
   "id": "4da5e36a",
   "metadata": {},
   "outputs": [
    {
     "name": "stdout",
     "output_type": "stream",
     "text": [
      "0 /home/adrian/Documents/Programmes/Python/THESE/RF_Temp_Fit/Time_and_temp_RFHEAT_N1024_DC11_RF00.npz\n",
      "1 /home/adrian/Documents/Programmes/Python/THESE/RF_Temp_Fit/Time_and_temp_RFHEAT_N1024_DC11_RF01.npz\n",
      "2 /home/adrian/Documents/Programmes/Python/THESE/RF_Temp_Fit/Time_and_temp_RFHEAT_N1024_DC11_RF02.npz\n",
      "3 /home/adrian/Documents/Programmes/Python/THESE/RF_Temp_Fit/Time_and_temp_RFHEAT_N1024_DC11_RF03.npz\n",
      "4 /home/adrian/Documents/Programmes/Python/THESE/RF_Temp_Fit/Time_and_temp_RFHEAT_N1024_DC11_RF04.npz\n",
      "5 /home/adrian/Documents/Programmes/Python/THESE/RF_Temp_Fit/Time_and_temp_RFHEAT_N1024_DC11_RF05.npz\n",
      "6 /home/adrian/Documents/Programmes/Python/THESE/RF_Temp_Fit/Time_and_temp_RFHEAT_N1024_DC11_RF06.npz\n",
      "7 /home/adrian/Documents/Programmes/Python/THESE/RF_Temp_Fit/Time_and_temp_RFHEAT_N1024_DC11_RF07.npz\n",
      "8 /home/adrian/Documents/Programmes/Python/THESE/RF_Temp_Fit/Time_and_temp_RFHEAT_N1024_DC11_RF08.npz\n",
      "9 /home/adrian/Documents/Programmes/Python/THESE/RF_Temp_Fit/Time_and_temp_RFHEAT_N1024_DC11_RF11.npz\n",
      "10 /home/adrian/Documents/Programmes/Python/THESE/RF_Temp_Fit/Time_and_temp_RFHEAT_N1024_DC11_RF12.npz\n",
      "11 /home/adrian/Documents/Programmes/Python/THESE/RF_Temp_Fit/Time_and_temp_RFHEAT_N1024_DC11_RF13.npz\n",
      "12 /home/adrian/Documents/Programmes/Python/THESE/RF_Temp_Fit/Time_and_temp_RFHEAT_N1024_DC11_RF14.npz\n",
      "13 /home/adrian/Documents/Programmes/Python/THESE/RF_Temp_Fit/Time_and_temp_RFHEAT_N1024_DC11_RF15.npz\n",
      "14 /home/adrian/Documents/Programmes/Python/THESE/RF_Temp_Fit/Time_and_temp_RFHEAT_N1024_DC11_RF16.npz\n",
      "15 /home/adrian/Documents/Programmes/Python/THESE/RF_Temp_Fit/Time_and_temp_RFHEAT_N1024_DC11_RF17.npz\n",
      "16 /home/adrian/Documents/Programmes/Python/THESE/RF_Temp_Fit/Time_and_temp_RFHEAT_N1024_DC11_RF18.npz\n",
      "17 /home/adrian/Documents/Programmes/Python/THESE/RF_Temp_Fit/Time_and_temp_RFHEAT_N1024_DC11_RF19.npz\n",
      "18 /home/adrian/Documents/Programmes/Python/THESE/RF_Temp_Fit/Time_and_temp_RFHEAT_N1024_DC11_RF20.npz\n",
      "19 /home/adrian/Documents/Programmes/Python/THESE/RF_Temp_Fit/Time_and_temp_RFHEAT_N1024_DC11_RF21.npz\n",
      "20 /home/adrian/Documents/Programmes/Python/THESE/RF_Temp_Fit/Time_and_temp_RFHEAT_N1024_DC11_RF22.npz\n",
      "21 /home/adrian/Documents/Programmes/Python/THESE/RF_Temp_Fit/Time_and_temp_RFHEAT_N1024_DC11_RF23.npz\n",
      "22 /home/adrian/Documents/Programmes/Python/THESE/RF_Temp_Fit/Time_and_temp_RFHEAT_N1024_DC11_RF24.npz\n",
      "23 /home/adrian/Documents/Programmes/Python/THESE/RF_Temp_Fit/Time_and_temp_RFHEAT_N1024_DC11_RF25.npz\n",
      "24 /home/adrian/Documents/Programmes/Python/THESE/RF_Temp_Fit/Time_and_temp_RFHEAT_N1024_DC11_RF26.npz\n",
      "(1, 25)\n",
      "(1, 25)\n",
      "0 /home/adrian/Documents/Programmes/Python/THESE/RF_Temp_Fit/Time_and_temp_RFHEAT_N0512_DC11_RF00.npz\n",
      "1 /home/adrian/Documents/Programmes/Python/THESE/RF_Temp_Fit/Time_and_temp_RFHEAT_N0512_DC11_RF01.npz\n",
      "2 /home/adrian/Documents/Programmes/Python/THESE/RF_Temp_Fit/Time_and_temp_RFHEAT_N0512_DC11_RF02.npz\n",
      "3 /home/adrian/Documents/Programmes/Python/THESE/RF_Temp_Fit/Time_and_temp_RFHEAT_N0512_DC11_RF03.npz\n",
      "4 /home/adrian/Documents/Programmes/Python/THESE/RF_Temp_Fit/Time_and_temp_RFHEAT_N0512_DC11_RF04.npz\n",
      "5 /home/adrian/Documents/Programmes/Python/THESE/RF_Temp_Fit/Time_and_temp_RFHEAT_N0512_DC11_RF05.npz\n",
      "6 /home/adrian/Documents/Programmes/Python/THESE/RF_Temp_Fit/Time_and_temp_RFHEAT_N0512_DC11_RF06.npz\n",
      "7 /home/adrian/Documents/Programmes/Python/THESE/RF_Temp_Fit/Time_and_temp_RFHEAT_N0512_DC11_RF07.npz\n",
      "8 /home/adrian/Documents/Programmes/Python/THESE/RF_Temp_Fit/Time_and_temp_RFHEAT_N0512_DC11_RF08.npz\n",
      "9 /home/adrian/Documents/Programmes/Python/THESE/RF_Temp_Fit/Time_and_temp_RFHEAT_N0512_DC11_RF11.npz\n",
      "10 /home/adrian/Documents/Programmes/Python/THESE/RF_Temp_Fit/Time_and_temp_RFHEAT_N0512_DC11_RF12.npz\n",
      "11 /home/adrian/Documents/Programmes/Python/THESE/RF_Temp_Fit/Time_and_temp_RFHEAT_N0512_DC11_RF13.npz\n",
      "12 /home/adrian/Documents/Programmes/Python/THESE/RF_Temp_Fit/Time_and_temp_RFHEAT_N0512_DC11_RF14.npz\n",
      "13 /home/adrian/Documents/Programmes/Python/THESE/RF_Temp_Fit/Time_and_temp_RFHEAT_N0512_DC11_RF15.npz\n",
      "14 /home/adrian/Documents/Programmes/Python/THESE/RF_Temp_Fit/Time_and_temp_RFHEAT_N0512_DC11_RF16.npz\n",
      "15 /home/adrian/Documents/Programmes/Python/THESE/RF_Temp_Fit/Time_and_temp_RFHEAT_N0512_DC11_RF17.npz\n",
      "16 /home/adrian/Documents/Programmes/Python/THESE/RF_Temp_Fit/Time_and_temp_RFHEAT_N0512_DC11_RF18.npz\n",
      "17 /home/adrian/Documents/Programmes/Python/THESE/RF_Temp_Fit/Time_and_temp_RFHEAT_N0512_DC11_RF22.npz\n",
      "18 /home/adrian/Documents/Programmes/Python/THESE/RF_Temp_Fit/Time_and_temp_RFHEAT_N0512_DC11_RF23.npz\n",
      "(2,)\n",
      "(2,)\n"
     ]
    }
   ],
   "source": [
    "# load check\n",
    "# cond = 'DC11_RF00'\n",
    "# outfile = 'Time_and_temp_RFHEAT_'+str(cond)\n",
    "Time = []\n",
    "Temperature = []\n",
    "for l,m in enumerate(all_N):\n",
    "    Time.append([])\n",
    "    Temperature.append([])    \n",
    "    for j,k in enumerate(file_path_tmp[l]):\n",
    "        with load(k) as data:\n",
    "            Time[l].append( data['time'] )\n",
    "            Temperature[l].append( data['temp'] )\n",
    "        print(j,k)\n",
    "    print(shape(Time))\n",
    "    print(shape(Temperature))"
   ]
  },
  {
   "cell_type": "code",
   "execution_count": 92,
   "id": "965cc29b",
   "metadata": {},
   "outputs": [
    {
     "name": "stdout",
     "output_type": "stream",
     "text": [
      "imax 2\n",
      "1 11 62.6\n"
     ]
    },
    {
     "data": {
      "text/plain": [
       "<matplotlib.legend.Legend at 0x7fea66bbd9e8>"
      ]
     },
     "execution_count": 92,
     "metadata": {},
     "output_type": "execute_result"
    }
   ],
   "source": [
    "imax = len(Urf)\n",
    "print('imax',imax)\n",
    "\n",
    "T_max = 50\n",
    "T_thr = 1\n",
    "\n",
    "figure(10); clf();\n",
    "j = 1\n",
    "l = 11\n",
    "print(j,l,Urf[j][l])\n",
    "#     subplot(1,9,i+1)\n",
    "semilogy(Time[j][l]*1e3,savgol_filter(Temperature[j][l],31,1),label=' Vrf = '+str(Urf[j][l]))\n",
    "#     semilogy(time[i][:]*1e3,Temp[i][:],label=' Vrf = '+str(Urf[i]))\n",
    "#         semilogy(time[k_thr],Temp[i,j,k_thr],'o')\n",
    "grid()\n",
    "legend(fontsize=12)"
   ]
  },
  {
   "cell_type": "code",
   "execution_count": 55,
   "id": "60cfa5b5",
   "metadata": {},
   "outputs": [],
   "source": [
    "# Functions for fit\n",
    "\n",
    "def func2(t, t0, A, B,  C, D):\n",
    "    return A*(t-t0) / (C+(t-t0)**2)**D + B\n",
    "\n",
    "def func3(t, t0, A, B,  C, D):\n",
    "    return A*(t-t0) / (C+abs(t-t0))**D + B\n",
    "\n",
    "def dfunc2_dt(t, t0, A, B,  C, D):\n",
    "    return 10**(A*(C + (t - t0)**2)**(-D)*(t - t0) + B)*(-A*D*(C + (t - t0)**2)**(-D)*(t - t0)*(2*t - 2*t0)/(C + (t - t0)**2) + A*(C + (t - t0)**2)**(-D))*log(10)"
   ]
  },
  {
   "cell_type": "code",
   "execution_count": 213,
   "id": "349d09b5",
   "metadata": {
    "scrolled": true,
    "tags": []
   },
   "outputs": [
    {
     "name": "stdout",
     "output_type": "stream",
     "text": [
      "<<< 0 >>>\n",
      "60\n",
      "31892 31732 30753 28795\n",
      "<<< 1 >>>\n",
      "61\n",
      "23609 21381 20630 19128\n",
      "<<< 2 >>>\n",
      "62\n",
      "13529 12618 12171 11277\n",
      "<<< 3 >>>\n",
      "63\n",
      "8329 5953 5630 4984\n",
      "<<< 4 >>>\n"
     ]
    },
    {
     "name": "stderr",
     "output_type": "stream",
     "text": [
      "/home/adrian/.local/lib/python3.6/site-packages/ipykernel_launcher.py:4: RuntimeWarning: invalid value encountered in power\n",
      "  after removing the cwd from sys.path.\n"
     ]
    },
    {
     "name": "stdout",
     "output_type": "stream",
     "text": [
      "64\n",
      "5901 5898 5300 4104\n",
      "<<< 5 >>>\n",
      "65\n",
      "6127 4549 3861 2485\n",
      "<<< 6 >>>\n",
      "66\n",
      "3489 3475 2948 1894\n",
      "<<< 7 >>>\n",
      "67\n",
      "4980 2467 2130 1456\n",
      "<<< 8 >>>\n",
      "68\n",
      "4388 1399 974 124\n",
      "<<< 9 >>>\n",
      "62.2\n",
      "13609 11524 10515 8497\n",
      "<<< 10 >>>\n",
      "62.4\n",
      "5485 3176 2419 905\n",
      "<<< 11 >>>\n",
      "62.6\n",
      "13522 10221 9333 7557\n",
      "<<< 12 >>>\n",
      "62.8\n",
      "11919 8457 7843 6615\n",
      "<<< 13 >>>\n",
      "63.2\n",
      "10089 8804 7787 5753\n",
      "<<< 14 >>>\n",
      "63.4\n",
      "9969 7276 6310 4378\n",
      "<<< 15 >>>\n",
      "63.6\n",
      "10673 6787 6125 4801\n",
      "<<< 16 >>>\n",
      "63.8\n",
      "9071 6734 6090 4802\n",
      "<<< 17 >>>\n",
      "40\n",
      "100000 372 372 372\n",
      "no filter\n",
      "TypeError for  40\n",
      "<<< 18 >>>\n",
      "45\n",
      "100000 850 850 850\n",
      "no filter\n",
      "TypeError for  45\n",
      "<<< 19 >>>\n",
      "50\n",
      "500000 43 43 43\n",
      "no filter\n",
      "TypeError for  50\n",
      "<<< 20 >>>\n",
      "55\n",
      "271474 270390 269529 267807\n",
      "<<< 21 >>>\n",
      "70\n",
      "3493 1306 943 217\n",
      "<<< 22 >>>\n",
      "75\n",
      "1185 33 0 0\n"
     ]
    },
    {
     "name": "stderr",
     "output_type": "stream",
     "text": [
      "/home/adrian/.local/lib/python3.6/site-packages/ipykernel_launcher.py:4: RuntimeWarning: divide by zero encountered in true_divide\n",
      "  after removing the cwd from sys.path.\n"
     ]
    },
    {
     "name": "stdout",
     "output_type": "stream",
     "text": [
      "<<< 23 >>>\n",
      "80\n",
      "1903 9 6 0\n",
      "no filter\n",
      "<<< 24 >>>\n",
      "85\n",
      "882 1 0 0\n",
      "no filter\n",
      "TypeError for  85\n",
      "<<< 0 >>>\n",
      "60\n",
      "73159 72307 71469 69793\n",
      "<<< 1 >>>\n",
      "61\n",
      "48657 43243 42559 41191\n",
      "<<< 2 >>>\n",
      "62\n",
      "38680 31068 30739 30081\n",
      "<<< 3 >>>\n",
      "63\n",
      "8911 3110 2368 884\n",
      "<<< 4 >>>\n",
      "64\n",
      "11607 11251 10623 9367\n",
      "<<< 5 >>>\n",
      "65\n",
      "9057 6779 6401 5645\n",
      "<<< 6 >>>\n",
      "66\n",
      "10146 5100 4427 3081\n",
      "<<< 7 >>>\n",
      "67\n",
      "5333 3937 3182 1672\n",
      "<<< 8 >>>\n",
      "68\n",
      "6220 915 273 0\n",
      "<<< 9 >>>\n",
      "62.2\n",
      "25868 23344 22612 21148\n",
      "<<< 10 >>>\n",
      "62.4\n",
      "2901 2342 1808 740\n",
      "<<< 11 >>>\n",
      "62.6\n",
      "25602 21265 20745 19705\n",
      "<<< 12 >>>\n",
      "62.8\n",
      "4267 1897 1332 202\n",
      "<<< 13 >>>\n",
      "63.2\n",
      "22535 15325 14697 13441\n",
      "<<< 14 >>>\n",
      "63.4\n",
      "16338 14206 13654 12550\n",
      "<<< 15 >>>\n",
      "63.6\n",
      "17650 12061 11290 9748\n",
      "<<< 16 >>>\n",
      "63.8\n",
      "18107 12886 12348 11272\n",
      "<<< 17 >>>\n",
      "55\n",
      "500000 498729 498729 498729\n",
      "no filter\n",
      "TypeError for  55\n",
      "<<< 18 >>>\n",
      "70\n",
      "3167 1543 1149 361\n"
     ]
    }
   ],
   "source": [
    "# Fit all temperature curves with above function\n",
    "# savgol_filter used to filter a little bit\n",
    "# smooth the temperatures that oscillates a bit too much\n",
    "imax = 26\n",
    "T_max = 85\n",
    "T_thr = 1\n",
    "fit_param  = [] # zeros((len(all_N),imax,5))\n",
    "fit_pcov   = [] # zeros((len(all_N),imax,5,5))\n",
    "my_Urf     = []\n",
    "my_order   = []\n",
    "gone_wrong = []\n",
    "\n",
    "figure(1).clf()\n",
    "for l,m in enumerate(all_N):\n",
    "    fit_param.append([])\n",
    "    fit_pcov.append([])\n",
    "    my_Urf.append([])\n",
    "    my_order.append([])\n",
    "    for j,k in enumerate(file_path_tmp[l]):\n",
    "        print('<<<',j,'>>>')\n",
    "        k_max = argmin(abs(Temperature[l][j] - T_max))\n",
    "        k_thr = argmin(abs(Temperature[l][j] - T_thr))\n",
    "\n",
    "        i_aux = where(diff(abs(diff(Temperature[l][j][k_thr:k_max])))>2)\n",
    "        if size(i_aux) != 0 :\n",
    "            if (i_aux[0][0]+k_thr < k_max):\n",
    "                k_max = i_aux[0][0]+k_thr\n",
    "\n",
    "        k_min = k_thr - int(2*(k_max - k_thr))\n",
    "        if k_min < 0: k_min = 0\n",
    "    #         print(k_min)\n",
    "\n",
    "        x  = Time[l][j][k_min:k_max]\n",
    "        print(Urf[l][j])\n",
    "        print(len(Temperature[l][j]),k_max,k_thr,k_min)\n",
    "        try:\n",
    "            y  = savgol_filter(Temperature[l][j][k_min:k_max],31,1)\n",
    "        except:\n",
    "            y  = Temperature[l][j][k_min:k_max]\n",
    "            print('no filter')\n",
    "\n",
    "        x0 = Time[l][j][k_thr]\n",
    "\n",
    "        A0  = 1\n",
    "        B0  = log10(Temperature[l][j][k_thr])\n",
    "        C0  = 1.0e-8\n",
    "        D0  = 0.5\n",
    "        p0  = array([x0, A0, B0,  C0, D0])\n",
    "\n",
    "        my_order[l].append(j)\n",
    "\n",
    "        try:\n",
    "            popt, pcov = curve_fit(func2, x, log10(y), p0, maxfev= 500000)\n",
    "            \n",
    "            if popt[1] > 1e-5:\n",
    "                fit_param[l].append([popt[0], popt[1], popt[2], popt[3], popt[4]])\n",
    "                fit_pcov[l].append(pcov)\n",
    "                my_Urf[l].append(Urf[l][j])\n",
    "                        \n",
    "                y_fit = func2(x,popt[0], popt[1], popt[2], popt[3], popt[4])\n",
    "                y_fit = 10**y_fit\n",
    "\n",
    "                subplot(8,8,j+1+(l*25))\n",
    "                plot(x*1e3, y    ,label=' Vrf = '+str(Urf[l][j]))\n",
    "                plot(x*1e3, y_fit,label='Fit',ls='--')\n",
    "                grid()\n",
    "                legend(fontsize=10)\n",
    "    #             plt.gca().invert_xaxis()\n",
    "    #             plt.gca().invert_yaxis()\n",
    "                # select cases\n",
    "                # non zero fit value\n",
    "        except TypeError:\n",
    "            print('TypeError for ',Urf[l][j])\n",
    "#             gone_wrong.append(i)\n",
    "tight_layout()"
   ]
  },
  {
   "cell_type": "code",
   "execution_count": 230,
   "id": "223d3b9f",
   "metadata": {},
   "outputs": [
    {
     "name": "stdout",
     "output_type": "stream",
     "text": [
      "40\n",
      "45\n",
      "50\n"
     ]
    },
    {
     "ename": "IndexError",
     "evalue": "list index out of range",
     "output_type": "error",
     "traceback": [
      "\u001b[0;31m---------------------------------------------------------------------------\u001b[0m",
      "\u001b[0;31mIndexError\u001b[0m                                Traceback (most recent call last)",
      "\u001b[0;32m<ipython-input-230-8a62a8234dfe>\u001b[0m in \u001b[0;36m<module>\u001b[0;34m()\u001b[0m\n\u001b[1;32m     27\u001b[0m     \u001b[0mTemperature_order\u001b[0m\u001b[0;34m.\u001b[0m\u001b[0mappend\u001b[0m\u001b[0;34m(\u001b[0m\u001b[0;34m[\u001b[0m\u001b[0;34m]\u001b[0m\u001b[0;34m)\u001b[0m\u001b[0;34m\u001b[0m\u001b[0;34m\u001b[0m\u001b[0m\n\u001b[1;32m     28\u001b[0m     \u001b[0;32mfor\u001b[0m \u001b[0mi\u001b[0m\u001b[0;34m,\u001b[0m\u001b[0mj\u001b[0m \u001b[0;32min\u001b[0m \u001b[0menumerate\u001b[0m\u001b[0;34m(\u001b[0m\u001b[0mmy_order_tmp\u001b[0m\u001b[0;34m[\u001b[0m\u001b[0ml\u001b[0m\u001b[0;34m]\u001b[0m\u001b[0;34m)\u001b[0m\u001b[0;34m:\u001b[0m\u001b[0;34m\u001b[0m\u001b[0;34m\u001b[0m\u001b[0m\n\u001b[0;32m---> 29\u001b[0;31m         \u001b[0mfit_param_order\u001b[0m\u001b[0;34m[\u001b[0m\u001b[0ml\u001b[0m\u001b[0;34m]\u001b[0m \u001b[0;34m=\u001b[0m \u001b[0mfit_param\u001b[0m\u001b[0;34m[\u001b[0m\u001b[0ml\u001b[0m\u001b[0;34m]\u001b[0m\u001b[0;34m[\u001b[0m\u001b[0mj\u001b[0m\u001b[0;34m]\u001b[0m\u001b[0;34m\u001b[0m\u001b[0;34m\u001b[0m\u001b[0m\n\u001b[0m\u001b[1;32m     30\u001b[0m         \u001b[0mfit_pcov_order\u001b[0m\u001b[0;34m[\u001b[0m\u001b[0ml\u001b[0m\u001b[0;34m]\u001b[0m  \u001b[0;34m=\u001b[0m \u001b[0mfit_pcov\u001b[0m\u001b[0;34m[\u001b[0m\u001b[0ml\u001b[0m\u001b[0;34m]\u001b[0m\u001b[0;34m[\u001b[0m\u001b[0mj\u001b[0m\u001b[0;34m]\u001b[0m\u001b[0;34m\u001b[0m\u001b[0;34m\u001b[0m\u001b[0m\n\u001b[1;32m     31\u001b[0m         \u001b[0mTime_order\u001b[0m\u001b[0;34m[\u001b[0m\u001b[0ml\u001b[0m\u001b[0;34m]\u001b[0m\u001b[0;34m.\u001b[0m\u001b[0mappend\u001b[0m\u001b[0;34m(\u001b[0m\u001b[0mTime\u001b[0m\u001b[0;34m[\u001b[0m\u001b[0ml\u001b[0m\u001b[0;34m]\u001b[0m\u001b[0;34m[\u001b[0m\u001b[0mj\u001b[0m\u001b[0;34m]\u001b[0m\u001b[0;34m)\u001b[0m\u001b[0;34m\u001b[0m\u001b[0;34m\u001b[0m\u001b[0m\n",
      "\u001b[0;31mIndexError\u001b[0m: list index out of range"
     ]
    }
   ],
   "source": [
    "# select only Urf values\n",
    "# for which non zero fit\n",
    "# and sort ascending Urf\n",
    "Y = Urf\n",
    "X = my_order\n",
    "Urf_order = [[],[]]\n",
    "my_order_tmp  = [[],[]]\n",
    "imax_order = []\n",
    "for l,m in enumerate(all_N):    \n",
    "    Urf_order[l] = [x for x,_ in sorted(zip(Y[l],X[l]))]\n",
    "    my_order_tmp[l] = [x for _,x in sorted(zip(Y[l],X[l]))]\n",
    "#     imax_order.append(len(Time[l]))\n",
    "#     print('==')\n",
    "\n",
    "# resort all variables\n",
    "# in order so\n",
    "# Urf ascending\n",
    "\n",
    "fit_param_order = [] # zeros((len(all_N),max(imax_order),5))\n",
    "fit_pcov_order  = [] # zeros((len(all_N),max(imax_order),5,5))\n",
    "Time_order = []\n",
    "Temperature_order = []\n",
    "for l,m in enumerate(all_N):\n",
    "    fit_param_order.append([])\n",
    "    fit_pcov_order.append([])\n",
    "    Time_order.append([])\n",
    "    Temperature_order.append([])\n",
    "    for i,j in enumerate(my_order_tmp[l]):\n",
    "        fit_param_order[l] = fit_param[l][j]\n",
    "        fit_pcov_order[l]  = fit_pcov[l][j]\n",
    "        Time_order[l].append(Time[l][j])\n",
    "        Temperature_order[l].append(Temperature[l][j])\n",
    "        print(Urf[l][j])"
   ]
  },
  {
   "cell_type": "code",
   "execution_count": 167,
   "id": "61b4f248",
   "metadata": {},
   "outputs": [
    {
     "name": "stdout",
     "output_type": "stream",
     "text": [
      "70\n"
     ]
    }
   ],
   "source": [
    "# draw one temp and fit\n",
    "figure(3); clf()\n",
    "cm = pylab.get_cmap('jet')\n",
    "\n",
    "l = 1\n",
    "j = 18\n",
    "\n",
    "print(Urf_order[l][j])\n",
    "# print(fit_pcov_order[i,:])\n",
    "y_fit = func2(Time_order[l][j],\n",
    "              fit_param_order[l,j,0],\n",
    "              fit_param_order[l,j,1],\n",
    "              fit_param_order[l,j,2],\n",
    "              fit_param_order[l,j,3],\n",
    "              fit_param_order[l,j,4])\n",
    "y_fit = 10**y_fit\n",
    "subplot(121)\n",
    "plot((Time_order[l][j])*1e3,Temperature_order[l][j],color='r')\n",
    "plot((Time_order[l][j])*1e3,y_fit,'--',color='k')\n",
    "xlabel('time [ms]')\n",
    "ylabel('T [K]')\n",
    "grid()\n",
    "\n",
    "# xlim(3.6,3.7)\n",
    "# ylim(-1,10)\n",
    "subplot(122)\n",
    "semilogy((Time_order[l][j])*1e3,savgol_filter(Temperature_order[l][j],31,1),color='r')\n",
    "semilogy((Time_order[l][j])*1e3,y_fit,'--',color='k')\n",
    "xlabel('time [ms]')\n",
    "grid()\n",
    "tight_layout()"
   ]
  },
  {
   "cell_type": "code",
   "execution_count": 130,
   "id": "b6cc5c39",
   "metadata": {},
   "outputs": [
    {
     "data": {
      "text/plain": [
       "0.0025310848757068563"
      ]
     },
     "execution_count": 130,
     "metadata": {},
     "output_type": "execute_result"
    }
   ],
   "source": [
    "Temperature_order[l][j]"
   ]
  },
  {
   "cell_type": "code",
   "execution_count": 75,
   "id": "1d040cf6",
   "metadata": {},
   "outputs": [],
   "source": [
    "# draw fit parameters\n",
    "# as a function of Urf\n",
    "str_labels = ['t0', 'A', 'B', 'C', 'D']\n",
    "figure('Param'); clf();\n",
    "for i in range(0,5):\n",
    "    subplot(1,5,i+1)\n",
    "    if i == 2:\n",
    "        plot(Urf_order,10**(fit_param_order[:,i]),'o-', label=str_labels[i])\n",
    "    else:\n",
    "        plot(Urf_order,(fit_param_order[:,i]),'o-', label=str_labels[i])\n",
    "    xlabel('Urf')\n",
    "    grid()\n",
    "    legend()"
   ]
  },
  {
   "cell_type": "code",
   "execution_count": 65,
   "id": "d6593e8f",
   "metadata": {},
   "outputs": [],
   "source": [
    "# Draw Heating rate H\n",
    "# as a function of temperature T\n",
    "xa = -2\n",
    "xb = 50\n",
    "ya = 6e-6\n",
    "yb = 1e0\n",
    "figure(29,clear='True')\n",
    "ax = subplot(111)\n",
    "for i in [0,1,13,17]: #  range(0,imax_order)\n",
    "    t0, A, B, C, D = fit_param_order[i,:]\n",
    "    y  = func2(Time_order[i],t0, A, B, C, D);\n",
    "    y  = 10**y\n",
    "    dy = dfunc2_dt(Time_order[i], t0, A, B,  C, D)\n",
    "#     ax.semilogy((Time_order[i]-t0)*1e3,dy*1e-6,label=str(Urf[i]),color=cm(i/imax_order))\n",
    "    ax.semilogy(savgol_filter(Temperature_order[i],31,1),dy*1e-6,label=str(Urf_order[i]),color=cm(i/imax_order))\n",
    "#     ax.semilogy(Temperature_order[i][:-1],diff(Temperature_order[i])*1e-6,label=str(Urf_order[i]),color=cm(i/imax_order))\n",
    "    ax.set_xlabel('T [K]')\n",
    "    ax.set_ylabel('Heating rate [K/µs]')\n",
    "#     scatter(t0,4e5,color=cm(i/imax),marker='+')\n",
    "#     semilogy(y,dy*1e-3,label=str(Urf[i]),color=cm(i/imax))\n",
    "ax.set_xlim([xa,xb])\n",
    "ax.set_ylim([ya,yb])\n",
    "        \n",
    "# locmaj = matplotlib.ticker.LogLocator(base=10,numticks=12) \n",
    "# ax.yaxis.set_major_locator(locmaj)\n",
    "# locmin = matplotlib.ticker.LogLocator(base=10.0,subs=(0.2,0.4,0.6,0.8),numticks=12)\n",
    "# ax.yaxis.set_minor_locator(locmin)\n",
    "# ax.yaxis.set_minor_formatter(matplotlib.ticker.NullFormatter())\n",
    "# ax.xaxis.set_major_locator(matplotlib.ticker.MultipleLocator(base=0.1))\n",
    "ax.legend(title=r'$U_{RF}$',ncol=2)\n",
    "ax.grid(b=True, which='major', linestyle='-')\n",
    "ax.grid(b=True, which='minor', linestyle='--')\n",
    "tight_layout()"
   ]
  },
  {
   "cell_type": "code",
   "execution_count": 66,
   "id": "2b470497",
   "metadata": {},
   "outputs": [],
   "source": [
    "# Draw Heating rate H\n",
    "# as a function of temperature T\n",
    "xa = -2\n",
    "xb = 50\n",
    "ya = 6e-6\n",
    "yb = 1e0\n",
    "coucou = []\n",
    "figure(31,clear='True')\n",
    "ax = subplot(111)\n",
    "for i in [0,1,13,17]: #  range(0,imax_order)\n",
    "    t0, A, B, C, D = fit_param_order[i,:]\n",
    "    x  = savgol_filter(Temperature_order[i],31,1)\n",
    "    y  = func2(Time_order[i],t0, A, B, C, D);\n",
    "    y  = 10**y\n",
    "    dy = dfunc2_dt(Time_order[i], t0, A, B,  C, D) /x\n",
    "#     ax.semilogy((Time_order[i]-t0)*1e3,dy*1e-6,label=str(Urf[i]),color=cm(i/imax_order))\n",
    "    ax.semilogy(x,dy*1e-6,label=str(Urf_order[i]),color=cm(i/imax_order),marker='+')\n",
    "#     ax.semilogy(Temperature_order[i][:-1],diff(Temperature_order[i])*1e-6,label=str(Urf_order[i]),color=cm(i/imax_order))\n",
    "    coucou.append( argmin(abs(x-0.5)) )\n",
    "\n",
    "#     ax.vlines(x[coucou],1e-5,0.5e0,color=cm(i/imax_order))\n",
    "    ax.set_xlabel('T [K]')\n",
    "    ax.set_ylabel('Heating rate / T [/µs]')\n",
    "#     scatter(t0,4e5,color=cm(i/imax),marker='+')\n",
    "#     semilogy(y,dy*1e-3,label=str(Urf[i]),color=cm(i/imax))\n",
    "ax.set_xlim([xa,xb])\n",
    "ax.set_ylim([ya,yb])\n",
    "        \n",
    "# locmaj = matplotlib.ticker.LogLocator(base=10,numticks=12) \n",
    "# ax.yaxis.set_major_locator(locmaj)\n",
    "# locmin = matplotlib.ticker.LogLocator(base=10.0,subs=(0.2,0.4,0.6,0.8),numticks=12)\n",
    "# ax.yaxis.set_minor_locator(locmin)\n",
    "# ax.yaxis.set_minor_formatter(matplotlib.ticker.NullFormatter())\n",
    "# ax.xaxis.set_major_locator(matplotlib.ticker.MultipleLocator(base=0.1))\n",
    "ax.legend(title=r'$U_{RF}$',ncol=2)\n",
    "ax.grid(b=True, which='major', linestyle='-')\n",
    "ax.grid(b=True, which='minor', linestyle='--')\n",
    "tight_layout()"
   ]
  },
  {
   "cell_type": "code",
   "execution_count": 508,
   "id": "bd92be04",
   "metadata": {},
   "outputs": [
    {
     "name": "stdout",
     "output_type": "stream",
     "text": [
      "[55.0, 60.0, 65.0, 70.0] [3.816836351572443, 2.82087657947867, 2.031329563329401, -0.43716055296305467]\n"
     ]
    },
    {
     "data": {
      "text/plain": [
       "[<matplotlib.lines.Line2D at 0x7f0d803cdcc0>]"
      ]
     },
     "execution_count": 508,
     "metadata": {},
     "output_type": "execute_result"
    }
   ],
   "source": [
    "X = []\n",
    "Y = []\n",
    "for i,j in enumerate([0,1,13,17]):\n",
    "#     x = savgol_filter(Temperature_order[i],31,1)\n",
    "    x  = func2(Time_order[i],t0, A, B, C, D)\n",
    "    X.append(Urf_order[j])\n",
    "    Y.append(x[coucou[i]])\n",
    "print(X,Y)\n",
    "figure('test',clear='True')\n",
    "plot(X,Y)"
   ]
  },
  {
   "cell_type": "code",
   "execution_count": 489,
   "id": "47515f1e",
   "metadata": {},
   "outputs": [
    {
     "data": {
      "text/plain": [
       "(0.47237331806470084, 0.00586806794642175)"
      ]
     },
     "execution_count": 489,
     "metadata": {},
     "output_type": "execute_result"
    }
   ],
   "source": [
    "110/3493 * 15, x[15]"
   ]
  },
  {
   "cell_type": "markdown",
   "id": "a7e26a9f",
   "metadata": {},
   "source": [
    "# t0 and T as a function of Urf"
   ]
  },
  {
   "cell_type": "code",
   "execution_count": 103,
   "id": "3eba5e5d",
   "metadata": {},
   "outputs": [
    {
     "name": "stderr",
     "output_type": "stream",
     "text": [
      "/home/adrian/.local/lib/python3.6/site-packages/ipykernel_launcher.py:10: RuntimeWarning: invalid value encountered in double_scalars\n",
      "  # Remove the CWD from sys.path while we load stuff.\n"
     ]
    }
   ],
   "source": [
    "t0    = zeros((len(all_N),imax_order))\n",
    "y_t0  = zeros((len(all_N),imax_order))\n",
    "dy_t0 = zeros((len(all_N),imax_order))\n",
    "for l,m in enumerate(all_N):\n",
    "    for i,j in enumerate(Urf_order[l]):\n",
    "        t0[l,i], A, B, C, D = fit_param_order[l,i,:]\n",
    "        y  = func2(t0[l,i],t0[l,i], A, B, C, D);\n",
    "        y_t0[l,i]  = 10**y\n",
    "        dy_t0[l,i] = dfunc2_dt(t0[l,i], t0[l,i], A, B,  C, D)"
   ]
  },
  {
   "cell_type": "code",
   "execution_count": 105,
   "id": "50f94e3e",
   "metadata": {},
   "outputs": [],
   "source": [
    "def my_lin(x,a,b):\n",
    "    return a*x+b\n",
    "def my_power_law(x,a,b):\n",
    "    return a*(x**-b)"
   ]
  },
  {
   "cell_type": "code",
   "execution_count": 118,
   "id": "548d7bbc",
   "metadata": {},
   "outputs": [
    {
     "data": {
      "text/plain": [
       "([40,\n",
       "  45,\n",
       "  50,\n",
       "  55,\n",
       "  60,\n",
       "  61,\n",
       "  62,\n",
       "  62.2,\n",
       "  62.4,\n",
       "  62.6,\n",
       "  62.8,\n",
       "  63,\n",
       "  63.2,\n",
       "  63.4,\n",
       "  63.6,\n",
       "  63.8,\n",
       "  64,\n",
       "  65,\n",
       "  66,\n",
       "  67,\n",
       "  68,\n",
       "  70,\n",
       "  85],\n",
       " array([11.31542034,  7.08538976,  6.25818546,  2.20963856,  2.92928387,\n",
       "         2.47258066,  2.06312651,  3.81413069,  4.89359772,  4.15467384,\n",
       "         1.48552736,  4.06182884,  4.04450634,  3.64891376, 16.37744656,\n",
       "         0.        ,  0.        ,  5.66667292,  4.92087739,  1.46905812,\n",
       "         0.98799315,  1.00462449,  0.        ,  0.        ,  0.        ]))"
      ]
     },
     "execution_count": 118,
     "metadata": {},
     "output_type": "execute_result"
    }
   ],
   "source": [
    "Urf_order[0],t0[0]*1e3"
   ]
  },
  {
   "cell_type": "code",
   "execution_count": 126,
   "id": "028f1dc1",
   "metadata": {},
   "outputs": [],
   "source": [
    "# log plot\n",
    "figure(321,clear='True')\n",
    "ax = subplot(111)\n",
    "ax.loglog(Urf_order[1],t0[1][:-6]*1e3,ls='-',marker='+',mew=5,ms=10)\n",
    "ax.set_xlabel('$U_{rf}$ [V]')\n",
    "ax.set_ylabel('$t_0$ [ms]') # '$T(t_0) / t_0$ [K/s]'\n",
    "# ax.axis([5*10, 72, 1, 200])\n",
    "ax.grid(b=True, which='major', linestyle='-')\n",
    "ax.grid(b=True, which='minor', linestyle='--')\n",
    "\n",
    "tight_layout()"
   ]
  },
  {
   "cell_type": "code",
   "execution_count": 84,
   "id": "3454e1ce",
   "metadata": {},
   "outputs": [],
   "source": [
    "figure(322); clf();\n",
    "ax = subplot(111)\n",
    "ax.plot(Urf_order,y_t0,ls='-',marker='+',mew=5,ms=10)\n",
    "ax.grid()\n",
    "ax.set_xlabel('$U_{rf}$ [V]')\n",
    "ax.set_ylabel('$T(t_0)$ [K]') # '$T(t_0) / t_0$ [K/s]'\n",
    "\n",
    "popt, pcov = curve_fit(my_lin,Urf_order[2:-2],y_t0[2:-2])\n",
    "ax.plot(Urf_order[2:-2],my_lin(array(Urf_order[2:-2]),popt[0],popt[1]),\n",
    "    color='k',ls='--')\n",
    "\n",
    "ax.xaxis.set_major_locator(matplotlib.ticker.MultipleLocator(base=5))\n",
    "ax.yaxis.set_major_locator(matplotlib.ticker.MultipleLocator(base=0.1))\n",
    "\n",
    "ax.text(64,0.815,f'$T(t_0) = {popt[0]:.2e} U_{{rf}} + {popt[1]:.2f}$',\n",
    "            color='xkcd:black',fontsize='20',weight=\"bold\",\n",
    "            ha='left',va='center')\n",
    "\n",
    "tight_layout()\n",
    "\n",
    "# identique à 10**B"
   ]
  },
  {
   "cell_type": "code",
   "execution_count": 85,
   "id": "bcd72935",
   "metadata": {},
   "outputs": [],
   "source": [
    "figure(323); clf();\n",
    "subplot(111)\n",
    "plot(Urf_order,y_t0,ls='-',marker='+',mew=5,ms=10)\n",
    "grid()\n",
    "xlabel('$U_{rf}$ [V]')\n",
    "ylabel('$T(t_0)$ [K]') # '$T(t_0) / t_0$ [K/s]'\n",
    "\n",
    "tight_layout()\n",
    "\n",
    "# identique à 10**B"
   ]
  },
  {
   "cell_type": "code",
   "execution_count": null,
   "id": "45c71cc8",
   "metadata": {},
   "outputs": [],
   "source": [
    "# check for frequencies"
   ]
  }
 ],
 "metadata": {
  "kernelspec": {
   "display_name": "Python 3 (ipykernel)",
   "language": "python",
   "name": "python3"
  },
  "language_info": {
   "codemirror_mode": {
    "name": "ipython",
    "version": 3
   },
   "file_extension": ".py",
   "mimetype": "text/x-python",
   "name": "python",
   "nbconvert_exporter": "python",
   "pygments_lexer": "ipython3",
   "version": "3.10.4"
  }
 },
 "nbformat": 4,
 "nbformat_minor": 5
}
