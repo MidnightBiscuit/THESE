{
 "cells": [
  {
   "cell_type": "code",
   "execution_count": 1,
   "id": "2b7e5f6e",
   "metadata": {},
   "outputs": [
    {
     "data": {
      "text/html": [
       "<style>.container { width:95% !important; }</style>"
      ],
      "text/plain": [
       "<IPython.core.display.HTML object>"
      ]
     },
     "metadata": {},
     "output_type": "display_data"
    }
   ],
   "source": [
    "from IPython.display import display, HTML\n",
    "display(HTML(\"<style>.container { width:95% !important; }</style>\"))"
   ]
  },
  {
   "cell_type": "code",
   "execution_count": 2,
   "id": "daa8f4c3",
   "metadata": {},
   "outputs": [
    {
     "name": "stdout",
     "output_type": "stream",
     "text": [
      "Using matplotlib backend: TkAgg\n",
      "Populating the interactive namespace from numpy and matplotlib\n"
     ]
    }
   ],
   "source": [
    "%pylab"
   ]
  },
  {
   "cell_type": "code",
   "execution_count": 3,
   "id": "76e5594e",
   "metadata": {},
   "outputs": [],
   "source": [
    "from scipy.optimize import curve_fit\n",
    "\n",
    "import tkinter as tk\n",
    "from tkinter import filedialog\n",
    "\n",
    "import os\n",
    "\n",
    "from scipy import signal\n",
    "import scipy.integrate as integrate\n",
    "import matplotlib.ticker as ticker\n",
    "\n",
    "# %matplotlib qt"
   ]
  },
  {
   "cell_type": "code",
   "execution_count": 4,
   "id": "916883eb",
   "metadata": {
    "scrolled": true
   },
   "outputs": [],
   "source": [
    "%run functions\n",
    "matplotlib.rcParams.update({'font.size': 25})\n",
    "cm = pylab.get_cmap('tab10')\n",
    "cm2 = pylab.get_cmap('Set1')\n",
    "cm3 = pylab.get_cmap('turbo')"
   ]
  },
  {
   "cell_type": "code",
   "execution_count": 5,
   "id": "efce5ee7",
   "metadata": {},
   "outputs": [
    {
     "name": "stdout",
     "output_type": "stream",
     "text": [
      "$\\kappa_{simion}$ = 0.270471\n"
     ]
    }
   ],
   "source": [
    "# Constantes de la physique\n",
    "# ABSOLUMENT RECHARGER APRÈS AVOIR EXECUTÉ LES CASES D'IMPORT AU DESSUS\n",
    "\n",
    "C_e = 1.602e-19        # Coulomb\n",
    "kb = 1.38064852*1e-23  # Boltzman\n",
    "m_Ca = 40.078*1.66054e-27 # masse Ca 40.078\n",
    "m_GM = 1e6*1.66054e-27 # la masse de la GMol\n",
    "eps0 = 8.854187*1e-12  # permittivité électrique du vide\n",
    "\n",
    "r0 = 2.5e-3 # 2.5e-3   # rayon piège Ca+\n",
    "d0 = 4e-3/2            # longueur piège Ca+\n",
    "\n",
    "Omega = 2.0e6*2*pi # 2.047e6\n",
    "tauRF = 1/(Omega/2/pi)\n",
    "\n",
    "bk = 4 # nombre de barreaux par groupe (2 -> 4-pole , 4 -> 8-pole ...)\n",
    "\n",
    "mkappa = 0.23          # écrantage piège réel GiantMol\n",
    "\n",
    "wzLC = (2*pi*90806.9982303)**2\n",
    "kappa_simion = m_Ca*d0**2*wzLC/(2*C_e)\n",
    "print('%s = %f' % ('$\\kappa_{simion}$',kappa_simion) )\n",
    "\n",
    "zeta = kappa_simion*r0**2/d0**2"
   ]
  },
  {
   "cell_type": "code",
   "execution_count": 6,
   "id": "58da8010",
   "metadata": {
    "scrolled": true
   },
   "outputs": [
    {
     "name": "stdout",
     "output_type": "stream",
     "text": [
      "/home/adrien/Documents/Programmes/Python/THESE/RF_Temp_Fit/Time_and_temp_RFHEAT_N0512_DC04_RF04.npz\n"
     ]
    }
   ],
   "source": [
    "## GUI for data loading\n",
    "# Select one data file all the way down to the directories\n",
    "# SELECT Temp_SimuTypeQ_N ... .dat\n",
    "\n",
    "file_path = filedialog.askopenfilename(multiple=True) # initialdir = dir_string\n",
    "# print(file_path)\n",
    "\n",
    "time       = []\n",
    "T_aux_avg  = []\n",
    "r2_v2_rlim      = []\n",
    "\n",
    "for i,j in enumerate(file_path):\n",
    "    print(j)\n",
    "    with load(j) as data:\n",
    "        time.append(data['time'])\n",
    "        T_aux_avg.append(data['temp'])\n",
    "        r2_v2_rlim.append(data['r2_v2_rlim'])"
   ]
  },
  {
   "cell_type": "code",
   "execution_count": 7,
   "id": "3efe5f87",
   "metadata": {},
   "outputs": [
    {
     "name": "stdout",
     "output_type": "stream",
     "text": [
      "87.30815264212421\n",
      "89.63580687855745\n",
      "81.39786922471767\n",
      "8.730815264212421e-05 8.139786922471767e-05\n",
      "1.0726098050686048\n"
     ]
    }
   ],
   "source": [
    "myRF = 0\n",
    "\n",
    "for k in range(3):\n",
    "    print(r2_v2_rlim[myRF][k+6][50]*1000) # [condition][dim][time]\n",
    "\n",
    "\n",
    "R = r2_v2_rlim[myRF][6][50]*1e-3\n",
    "L = r2_v2_rlim[myRF][8][50]*1e-3\n",
    "aws = 0\n",
    "print(R,L)\n",
    "print((R+(1.48*aws/2))/(L+1.48*aws/2))\n",
    "\n",
    "density = 1024 / (4/3*pi*R**2*L)"
   ]
  },
  {
   "cell_type": "code",
   "execution_count": 9,
   "id": "29c9b8cc",
   "metadata": {},
   "outputs": [],
   "source": [
    "def func2(t, t0, A, B,  C, D):\n",
    "    return A*(t-t0)/(C+(t-t0)**2)**D + B\n",
    "def func2abs(t, t0, A, B,  C, D):\n",
    "    return A*(t-t0)/(C+abs(t-t0))**D + B\n",
    "def func5(t, t0, A, B, C, k):\n",
    "    return A*(t-t0) / (C+abs(t-t0)**k)**(1/k) + B\n",
    "def dfunc5_dt(t,t0,A,B,C,k):\n",
    "    return A*C*(abs(t-t0)**k+C)**( -(k+1)/k )\n",
    "#     return A*(C+abs(t-t0)**k)**(-1/k)*(1 - ((t-t0)**2*abs(t-t0)**(k-2))/(C+abs(t-t0)**k) )"
   ]
  },
  {
   "cell_type": "code",
   "execution_count": 10,
   "id": "519def5e",
   "metadata": {},
   "outputs": [],
   "source": [
    "def func_lin(t,a,b):\n",
    "    return a*t+b\n",
    "def func_exp(x,a,b):\n",
    "    return b*exp(-a*x)\n",
    "def func_pow(t,A,B):\n",
    "    return t**A * 10**B"
   ]
  },
  {
   "cell_type": "code",
   "execution_count": 11,
   "id": "7d4ece5e",
   "metadata": {
    "scrolled": true
   },
   "outputs": [
    {
     "name": "stdout",
     "output_type": "stream",
     "text": [
      "0 /home/adrien/Documents/Programmes/Python/THESE/RF_Temp_Fit/Time_and_temp_RFHEAT_N0512_DC04_RF04.npz\n"
     ]
    }
   ],
   "source": [
    "for i,j in enumerate(file_path):\n",
    "    print(i,j)"
   ]
  },
  {
   "cell_type": "code",
   "execution_count": 15,
   "id": "3f46f3c6",
   "metadata": {},
   "outputs": [
    {
     "name": "stdout",
     "output_type": "stream",
     "text": [
      "238882.79155328486\n"
     ]
    }
   ],
   "source": [
    "to_fit = 0\n",
    "my_try = int(file_path[to_fit][file_path[to_fit].find('DC')+2:file_path[to_fit].find('DC')+4])\n",
    "Urf = array([0, 0, 0, 0, 41.065, 55.35111, 57.40115, 59.45119, 61.50124, 63.55128, 65.60132, 67.65136, 69.70140, 71.75144,0, 0, 0, 0, 0,\n",
    "             64.6, 62.5, 62.83, 63.03, 63.24, 63.44, 63.86, 64.06, 64.27, 64.47, 62.7262, 62.93, 63.14, 63.34, 63.55, 63.75, 63.96, 64.16, 64.37, 65.74])\n",
    "q = array([0, 0, 0, 0, 0.4, 0.54, 0.56,  0.58,  0.6, 0.62,  0.64,  0.66,  0.68,  0.7, 0, 0, 0, 0, 0,\n",
    "           0.63, 0.61, 0.612, 0.614, 0.616, 0.618, 0.622, 0.624, 0.66, 0.68, 0.611, 0.613, 0.615, 0.617, 0.619, 0.621, 0.623, 0.625, 0.627, 0.629])\n",
    "Udc = array([0, 0, 0, 0, 5.706, 11.10109, 12.0829, 13.12915, 14.24497, 15.43671, 16.71181, 18.07917, 19.54956, 21.13623, 0, 0, 0, 0, 0,\n",
    "             16.0, 14.8, 14.95, 15.07, 15.19, 15.31, 15.56, 15.68, 15.81, 15.94, 14.89, 15.01, 15.13, 15.25, 15.37, 15.50, 15.62, 15.75, 15.87, 16.00])\n",
    "\n",
    "beta_guess = 0.423\n",
    "a = 0\n",
    "for k in range(250):\n",
    "    beta_guess = beta_continue_alamano(a,q,beta_guess)\n",
    "    beta_guess = sqrt(beta_guess)\n",
    "\n",
    "omega_z_2 = ( 2*pi*100e3 )**2 * array(Udc)\n",
    "omega_x_2 = ( beta_guess*Omega/2 )**2\n",
    "omega_r_2 = omega_x_2 - 0.5*omega_z_2\n",
    "print(sqrt(omega_r_2[my_try])/2/pi)\n",
    "\n",
    "x  = time[to_fit]-1e-3\n",
    "fs = 1/diff(x)[1]"
   ]
  },
  {
   "cell_type": "code",
   "execution_count": 29,
   "id": "3848b36f",
   "metadata": {},
   "outputs": [
    {
     "name": "stdout",
     "output_type": "stream",
     "text": [
      "file to analyze\n",
      "> 0 /home/adrien/Documents/Programmes/Python/THESE/RF_Temp_Fit/Time_and_temp_RFHEAT_N0512_DC04_RF04.npz\n",
      "func5 [15.04875443  2.62734606 -2.45540678  0.60951931  0.10261462]\n"
     ]
    }
   ],
   "source": [
    "start_for_fit = 200\n",
    "T_crit = 0.5\n",
    "print('file to analyze')\n",
    "\n",
    "to_fit = 0 #11 19 8\n",
    "temp_to_end = 100\n",
    "\n",
    "my_try = int(file_path[to_fit][file_path[to_fit].find('DC')+2:file_path[to_fit].find('DC')+4])\n",
    "print('>',to_fit,file_path[to_fit])\n",
    "x  = time[to_fit]-1e-3\n",
    "y  = T_aux_avg[to_fit]\n",
    "\n",
    "max_f_r = sqrt(omega_r_2[my_try])/2/pi\n",
    "b, a = signal.butter(8,  max_f_r/fs*2.01)\n",
    "y_filt = signal.filtfilt(b, a, y, padlen=150)\n",
    "\n",
    "index_100K = argmin(abs(y_filt-temp_to_end))\n",
    "end_fit = index_100K\n",
    "\n",
    "# t0_first_guess = x[where(min(abs(y_filt-T_crit))==abs(y_filt-T_crit))][0] # 2.5e-3\n",
    "# B0 = log10(T_crit) # log10( y[where(min(abs(y-T_crit))==abs(y-T_crit))][0] )\n",
    "# A0 = log10(max(y_filt[start_for_fit:end_fit]) - B0)\n",
    "\n",
    "# p0 = [t0_first_guess,A0,B0,0.01,0.3]\n",
    "\n",
    "# proper fit of the smoothed curve limiter up to threshold T\n",
    "# popt, pcov = curve_fit(func5, x[start_for_fit:end_fit],\n",
    "#                               log10(y_filt[start_for_fit:end_fit]),\n",
    "#                        p0, maxfev= 25000,\n",
    "#                        bounds=((-np.inf,-np.inf,-np.inf,0,0),(np.inf,np.inf,2,1.01,1)))\n",
    "print('func5',popt)\n",
    "\n",
    "figname = 'testfitinlin0'\n",
    "figure(figname,clear='True')\n",
    "#xlim(0.8,6)\n",
    "ax1 = subplot(111)\n",
    "ax1.grid()\n",
    "ax1.semilogy(x*1e3, y ,label=r'$T$',color='C0',lw=0.3)\n",
    "ax1.semilogy(x*1e3, y_filt ,label=r'$T$ filtered',color='C1',ls=':',lw=3)\n",
    "# ax2.vlines(x[end_fit]*1e3,1e-2,150,color='k')\n",
    "\n",
    "y_fit5 = func5(x[start_for_fit:end_fit],*popt)\n",
    "ax1.semilogy(x[start_for_fit:end_fit]*1e3,10**y_fit5,color='r',ls='--',label=r'$\\psi$',lw=2)\n",
    "\n",
    "nticks = 9\n",
    "maj_loc = ticker.LogLocator(numticks=nticks)\n",
    "min_loc = ticker.LogLocator(subs='all', numticks=nticks)\n",
    "ax1.yaxis.set_major_locator(maj_loc)\n",
    "ax1.yaxis.set_minor_locator(min_loc)\n",
    "\n",
    "ax1.set_xlabel('t [ms]')\n",
    "ax1.set_ylabel('T [K]')\n",
    "# ax1.set_xlim(-0.1,4.3)\n",
    "ax1.set_ylim(2e-3,300)\n",
    "ax1.legend()\n",
    "tight_layout()\n",
    "\n",
    "\n",
    "# savefig(figname+'.eps',dpi=300)"
   ]
  },
  {
   "cell_type": "code",
   "execution_count": 199,
   "id": "5a056d9c",
   "metadata": {},
   "outputs": [
    {
     "name": "stdout",
     "output_type": "stream",
     "text": [
      "file to analyze\n",
      "> 34 /home/adrien/Documents/Programmes/Python/THESE/RF_Temp_Fit/Time_and_temp_RFHEAT_N1024_DC24_RF24.npz\n",
      "[0.00303696 2.25705018 0.00976478 0.00367462 0.4602244 ]\n"
     ]
    }
   ],
   "source": [
    "start_for_fit = 200\n",
    "T_crit = 0.5\n",
    "print('file to analyze')\n",
    "not_fitted = 0\n",
    "# 29 and 30\n",
    "to_fit = 34\n",
    "temp_to_end = [100, 100, 75, 50, 50, 50, 50, 50, 50,\n",
    "               75, 75, 75, 75, 75, 75, 75, 75, 75, 75, 75,\n",
    "               100, 100, 100, 100, 100, 100, 100, 100, 75, 150, 100, 100, 100, 100, 100]\n",
    "j = file_path[to_fit]\n",
    "# retrive time and temperature from the curve\n",
    "print('>',to_fit,j)\n",
    "my_try = int(file_path[to_fit][file_path[to_fit].find('DC')+2:file_path[to_fit].find('DC')+4])\n",
    "x  = time[to_fit]-1e-3\n",
    "y  = T_aux_avg[to_fit]\n",
    "\n",
    "# Smoothing signal with zero delay shift fit\n",
    "max_f_r = sqrt(omega_r_2[my_try])/2/pi\n",
    "b, a = signal.butter(8,  max_f_r/fs*1.01)\n",
    "y_filt = signal.filtfilt(b, a, y, padlen=150)\n",
    "\n",
    "# Fit parameters first guesses\n",
    "t0_first_guess = x[where(min(abs(y_filt-T_crit))==abs(y_filt-T_crit))][0] # 2.5e-3\n",
    "B0 = log10(T_crit) # log10( y[where(min(abs(y-T_crit))==abs(y-T_crit))][0] )\n",
    "A0 = log10(max(y_filt[start_for_fit:end_fit]) - B0)\n",
    "\n",
    "# select index of temp where stop the fit\n",
    "# I stop the fit when T reaches a given T\n",
    "index_100K = argmin(abs(y_filt-temp_to_end[to_fit]))\n",
    "end_fit = index_100K\n",
    "\n",
    "# set initial guess of fit parameters\n",
    "p0 = [t0_first_guess,A0,B0,0.01,0.3]\n",
    "\n",
    "# proper fit of the smoothed curve limiter up to threshold T\n",
    "popt, pcov = curve_fit(func5, x[start_for_fit:end_fit],\n",
    "                              log10(y_filt[start_for_fit:end_fit]),\n",
    "                       p0, maxfev= 25000,\n",
    "                       bounds=((-np.inf,-np.inf,-np.inf,0,0),(np.inf,np.inf,2,1.01,1)))\n",
    "print(popt)\n",
    "popt_smooth[to_fit,:] = popt"
   ]
  },
  {
   "cell_type": "code",
   "execution_count": 563,
   "id": "eb551dd5",
   "metadata": {},
   "outputs": [
    {
     "name": "stdout",
     "output_type": "stream",
     "text": [
      "[0.00000000e+00 1.71190125e-01 5.56541245e-02 1.83171245e-02\n",
      " 5.82162450e-03 2.34662450e-03 9.71624500e-04 5.74624500e-04\n",
      " 2.86124500e-04 0.00000000e+00 0.00000000e+00 0.00000000e+00\n",
      " 6.03991245e-02 2.16131245e-02 9.15512450e-03 2.56212450e-03\n",
      " 1.11812450e-03 5.49124500e-04 3.50124500e-04 1.29624500e-04\n",
      " 4.60261245e-02 1.73616245e-02 4.73012450e-03 1.16162450e-03\n",
      " 8.01245000e-05 9.86245000e-05 1.71245000e-05 6.24500000e-07\n",
      " 6.24500000e-07 3.61624500e-04 1.70624500e-04 1.02624500e-04\n",
      " 5.31245000e-05 1.37624500e-04 2.78624500e-04 6.24500000e-07\n",
      " 6.24500000e-07 6.24500000e-07 4.96245000e-05 1.21624500e-04\n",
      " 2.16124500e-04 9.51245000e-05 2.31124500e-04 6.24500000e-07\n",
      " 2.84124500e-04 6.24500000e-07 1.71245000e-05 6.24500000e-07\n",
      " 1.25124500e-04]\n",
      "[0.         0.01373146 0.00677548 0.00341695 0.0015575  0.00073649\n",
      " 0.00044009 0.00023299 0.00014701 0.         0.         0.\n",
      " 0.01217749 0.00608048 0.00307242 0.00158946 0.00090579 0.00053495\n",
      " 0.00033974 0.00015958 0.02389647 0.01323983 0.00827399 0.00508749\n",
      " 0.00087499 0.00139235 0.00085378 0.00058749 0.00038043 0.00148547\n",
      " 0.00353596 0.00341745 0.00103397 0.00292483 0.00275833 0.00123291\n",
      " 0.00184738 0.00215716 0.00073713 0.000307   0.00317845 0.00036332\n",
      " 0.00290616 0.00261045 0.0010639  0.00121348 0.00215281 0.0019188\n",
      " 0.00135247]\n"
     ]
    }
   ],
   "source": [
    "# when does fit crosses a given temperature\n",
    "# compute delta T between this moment and t0\n",
    "# computed above in the fit, from t=0\n",
    "T_thre = 1e-2\n",
    "fit_above_thresh = np.zeros((len(file_path)))\n",
    "for to_fit in range(len(file_path)):\n",
    "    j = file_path[to_fit]\n",
    "    if to_fit!=0 and to_fit!=9 and to_fit!=10 and to_fit!=11:\n",
    "        x = time[to_fit]-1e-3\n",
    "        y_fit = func5(x,*popt_smooth[to_fit,:])\n",
    "        fit_above_thresh[to_fit] = x[where(min(abs(10**y_fit-T_thre))==abs(10**y_fit-T_thre))][0]\n",
    "print(fit_above_thresh)\n",
    "\n",
    "delta_T_explosion = popt_smooth[:,0] - fit_above_thresh\n",
    "print(delta_T_explosion)"
   ]
  },
  {
   "cell_type": "code",
   "execution_count": 556,
   "id": "dea0e663",
   "metadata": {},
   "outputs": [
    {
     "name": "stdout",
     "output_type": "stream",
     "text": [
      "fit_params_0256ions\n",
      "fit_params_0512ions\n",
      "fit_params_1024ions\n"
     ]
    },
    {
     "name": "stderr",
     "output_type": "stream",
     "text": [
      "/tmp/ipykernel_4864/2263118837.py:5: VisibleDeprecationWarning: Creating an ndarray from ragged nested sequences (which is a list-or-tuple of lists-or-tuples-or ndarrays with different lengths or shapes) is deprecated. If you meant to do this, you must specify 'dtype=object' when creating the ndarray.\n",
      "  delta_T_explosion_rework = array([delta_T_explosion[1:9],\n"
     ]
    }
   ],
   "source": [
    "popt_rework = [popt_smooth[1:9],\n",
    "              popt_smooth[12:20], # 7:15\n",
    "              popt_smooth[20:]]\n",
    "\n",
    "delta_T_explosion_rework = array([delta_T_explosion[1:9],\n",
    "                            delta_T_explosion[12:20], # 7:15\n",
    "                            delta_T_explosion[20:]])\n",
    "\n",
    "#  3     4     5     6     7     8     9     10    11    12    13\n",
    "# 31.0, 42.0, 55.4, 57.4, 59.5, 61.5, 63.6, 65.6, 67.7, 69.7, 71.8\n",
    "#             0.54  0.56  0.58  0.6   0.62  0.64  0.66  0.68  0.7\n",
    "Urf_rework = [[57.4, 59.5, 61.5, 63.6, 65.6, 67.7, 69.7, 71.8],\n",
    "             [57.4, 59.5, 61.5, 63.6, 65.6, 67.7, 69.7, 71.8], # 57.4, 59.5, \n",
    "             [55.4, 57.4, 59.5, 61.5, 63.6, 65.6, 67.7, 69.7, 71.8,\n",
    "                      64.6, 62.5, 62.83, 63.03, 63.24, 63.44, 63.86, 64.06, 64.27, 64.47,\n",
    "                      62.7262, 62.93, 63.14, 63.34, 63.55, 63.75, 63.96, 64.16, 64.37, 65.74]]\n",
    "q_rework = [[0.56,  0.58,  0.6,   0.62,  0.64,  0.66,  0.68,  0.7],\n",
    "             [0.56,  0.58,  0.6,   0.62,  0.64,  0.66,  0.68,  0.7 ], # 57.4, 59.5, \n",
    "             [0.54, 0.56,  0.58,  0.6,   0.62,  0.64,  0.66,  0.68,  0.7,\n",
    "                      0.63, 0.61, 0.612, 0.614, 0.616, 0.618, 0.622, 0.624, 0.626, 0.628,\n",
    "                      0.611, 0.613, 0.615, 0.617, 0.619, 0.621, 0.623, 0.625, 0.627, 0.629]]\n",
    "N_rework = [256, 512, 1024]\n",
    "\n",
    "\n",
    "for k,l in enumerate(N_rework):\n",
    "    print(f'fit_params_{l:04d}ions')\n",
    "    np.savez( f'fit_params_{l:04d}ions', fit_param=popt_rework[k], Urf=Urf_rework[k], N=N_rework[k])\n",
    "\n",
    "# func5(t, t0, A, B, C, k)\n",
    "# with load('/home/adrien/Documents/Programmes/Python/THESE/RF_Temp_Fit/fit_params_0256ions.npz') as data:\n",
    "#     a = data['N']\n",
    "# print(a)"
   ]
  },
  {
   "cell_type": "code",
   "execution_count": 683,
   "id": "fdf893bf",
   "metadata": {},
   "outputs": [
    {
     "name": "stdout",
     "output_type": "stream",
     "text": [
      "0\n",
      "1\n",
      "2\n"
     ]
    }
   ],
   "source": [
    "figure('fit_parameters',clear=True)\n",
    "ax1 = subplot(151)\n",
    "for k in range(3):\n",
    "    print(k)\n",
    "    ax1.plot(Urf_rework[k],array(popt_rework[k])[:,0]*1e3-1,color=cm(k/10),ls=':',marker='P',label=N_rework[k])\n",
    "    ax1.set_xlabel('$U_{RF}$ [V]')\n",
    "    ax1.set_ylabel('$t_0$ [ms]')\n",
    "    ax1.grid()\n",
    "    ax1.legend(title='N',fontsize=12)\n",
    "    ax2 = subplot(152)\n",
    "    ax2.plot(Urf_rework[k],10**array(popt_rework[k])[:,1],color=cm(k/10),ls=':',marker='P',label=N_rework[k])\n",
    "    ax2.set_xlabel('$U_{RF}$ [V]')\n",
    "    ax2.set_ylabel('$10^A$ [K]')\n",
    "    ax2.grid()\n",
    "    ax2.legend(title='N',fontsize=12)\n",
    "    ax3 = subplot(153)\n",
    "    ax3.plot(Urf_rework[k],10**array(popt_rework[k])[:,2],color=cm(k/10),ls=':',marker='P',label=N_rework[k])\n",
    "    ax3.set_xlabel('$U_{RF}$ [V]')\n",
    "    ax3.set_ylabel('$10^B$ [K]')\n",
    "    ax3.grid()\n",
    "    ax3.legend(title='N',fontsize=12)\n",
    "    ax4 = subplot(154)\n",
    "    ax4.plot(Urf_rework[k],array(popt_rework[k])[:,3]*1e3,color=cm(k/10),ls=':',marker='P',label=N_rework[k])\n",
    "    ax4.set_xlabel('$U_{RF}$ [V]')\n",
    "    ax4.set_ylabel('$C$ [ms]')\n",
    "    ax4.grid()\n",
    "    ax4.legend(title='N',fontsize=12)\n",
    "    ax5 = subplot(155)\n",
    "    ax5.plot(Urf_rework[k],array(popt_rework[k])[:,4],color=cm(k/10),ls=':',marker='P',label=N_rework[k])\n",
    "    ax5.set_xlabel('$U_{RF}$ [V]')\n",
    "    ax5.set_ylabel('$k$ [1]')\n",
    "    ax5.grid()\n",
    "    ax5.legend(title='N',fontsize=12)\n",
    "tight_layout()"
   ]
  },
  {
   "cell_type": "code",
   "execution_count": 596,
   "id": "ce676d1a",
   "metadata": {},
   "outputs": [
    {
     "name": "stdout",
     "output_type": "stream",
     "text": [
      "0 [-20.76954597  -7.09906652]\n",
      "1 [-18.91190709  -6.69447078]\n",
      "2 [-16.39356832  -6.04042229]\n"
     ]
    },
    {
     "name": "stderr",
     "output_type": "stream",
     "text": [
      "The PostScript backend does not support transparency; partially transparent artists will be rendered opaque.\n"
     ]
    }
   ],
   "source": [
    "C = []\n",
    "D = []\n",
    "x_forfit = [linspace(0.555,0.71,200),linspace(0.555,0.71,200),linspace(0.535,0.71,200)]\n",
    "figname = 'fit_parameter_t0_log'\n",
    "fig = figure(figname,clear=True)\n",
    "fig.set_size_inches(11.7, 8.3)\n",
    "ax1 = subplot(111)\n",
    "for k in range(2):\n",
    "    ax1.loglog(q_rework[k],delta_T_explosion_rework[k]*1e3,\n",
    "                 color=cm(k/10),ls='',marker='P',ms=10,mew=1,label=N_rework[k])\n",
    "    popt, pcov = curve_fit(func_lin, log10(array(q_rework[k])),log10(delta_T_explosion_rework[k]),maxfev= 5000)\n",
    "    print(k,popt)\n",
    "    C.append(10**popt[1])\n",
    "    D.append(popt[0])\n",
    "    ax1.loglog(x_forfit[k],func_pow(x_forfit[k],popt[0],popt[1])*1e3,\n",
    "                 ls='--',color=cm(k/10))\n",
    "    ax1.set_xlabel('$q_{x}$')\n",
    "    ax1.set_ylabel('$\\Delta t$ [ms]')\n",
    "    ax1.grid()\n",
    "    \n",
    "k = 2\n",
    "ax1.loglog(q_rework[2][:9],delta_T_explosion_rework[2][:9]*1e3,\n",
    "                 color=cm(2/10),ls='',marker='P',ms=10,mew=1,label=N_rework[2])\n",
    "popt, pcov = curve_fit(func_lin, log10(array(q_rework[2][:9])),\n",
    "                       log10(delta_T_explosion_rework[2][:9]),\n",
    "                       maxfev= 5000)\n",
    "print(k,popt)\n",
    "ax1.loglog(x_forfit[2],func_pow(x_forfit[2],popt[0],popt[1])*1e3,\n",
    "                 ls='--',color=cm(2/10))\n",
    "ax1.set_xticks([0.54,0.56,0.58,0.6,0.62,0.64,0.66,0.68,0.7])\n",
    "# ax1.set_xticklabels(rotation=45, ha='right')\n",
    "ax1.get_xaxis().set_major_formatter(matplotlib.ticker.ScalarFormatter())\n",
    "ax1.grid(visible=True, which='major', color='0.2', linestyle='-')\n",
    "ax1.grid(visible=True, which='minor', color='0.7', linestyle='--')\n",
    "ax1.legend(title='N',fontsize=18)\n",
    "tight_layout()\n",
    "\n",
    "savefig(figname+'.eps',dpi=300)\n",
    "    \n",
    "# fig = figure('fit_parameter_t0_bis',clear=True)\n",
    "# fig.set_size_inches(11.7, 8.3)\n",
    "# ax1 = subplot(111)\n",
    "# for k in range(3):\n",
    "#     ax1.plot(array(q_rework[k]),(array(popt_rework[k])[:,0]*1e3)**(-1/2),color=cm(k/4),\n",
    "#              ls=':',marker='P',ms=10,label=N_rework[k])\n",
    "#     popt, pcov = curve_fit(func_lin, array(q_rework[k]),(array(popt_rework[k])[:,0]*1e3)**(-1/2),maxfev= 15000)\n",
    "#     ax1.plot(array(q_rework[k]),func_lin(array(q_rework[k]),popt[0],popt[1]),color=cm(k/3))\n",
    "#     ax1.set_xlabel('$q_x$')\n",
    "#     ax1.set_ylabel('$t_0^{-1/2}$ [ms$^{-1/2}$]')\n",
    "#     ax1.grid()\n",
    "#     ax1.legend(title='N',fontsize=12)\n",
    "# tight_layout()"
   ]
  },
  {
   "cell_type": "code",
   "execution_count": 597,
   "id": "33ad4535",
   "metadata": {},
   "outputs": [
    {
     "name": "stderr",
     "output_type": "stream",
     "text": [
      "The PostScript backend does not support transparency; partially transparent artists will be rendered opaque.\n"
     ]
    }
   ],
   "source": [
    "# Around specific values\n",
    "\n",
    "k = 2\n",
    "x = hstack((q_rework[k][4],q_rework[k][9:]))\n",
    "y = hstack((delta_T_explosion_rework[k][4]*1e3,delta_T_explosion_rework[k][9:]*1e3))\n",
    "\n",
    "x, y = zip(*sorted(zip(x, y)))\n",
    "figname='fit_parameter_t0_zoom'\n",
    "fig = figure(figname,clear=True)\n",
    "fig.set_size_inches(11.7, 8.3)\n",
    "ax1 = subplot(111)\n",
    "ax1.plot(x,y,\n",
    "             color=cm(k/10),ls=':',marker='P',ms=10,mew=1,label=N_rework[k])\n",
    "ax1.plot(linspace(0.61,0.63,200),func_pow(linspace(0.61,0.63,200),popt[0],popt[1])*1e3,\n",
    "                 ls='--',color=cm(2/10))\n",
    "ticks = np.linspace(0.61,0.63,11)\n",
    "ax1.set_xticks(ticks)\n",
    "ax1.xaxis.set_minor_formatter(mticker.ScalarFormatter())\n",
    "plt.xticks(rotation = 45)\n",
    "ax1.set_xlabel('$q_{x}$')\n",
    "ax1.set_ylabel('$\\Delta t$ [ms]')\n",
    "ax1.grid()\n",
    "ax1.legend(title='N',fontsize=18)\n",
    "tight_layout()\n",
    "savefig(figname+'.eps',dpi=300)"
   ]
  },
  {
   "cell_type": "markdown",
   "id": "3858ee0c",
   "metadata": {},
   "source": [
    "# Derivate study"
   ]
  },
  {
   "cell_type": "code",
   "execution_count": 18,
   "id": "690303ff",
   "metadata": {},
   "outputs": [],
   "source": [
    "c_light = 299792458\n",
    "h_pl = 6.62607015*1e-34\n",
    "h_pl_bar = h_pl/2/pi\n",
    "lam_397 = 396.84620*1e-9\n",
    "k=(2*pi)/lam_397\n",
    "gamma_SP = 21.57*1e6\n",
    "tau = 1/gamma_SP\n",
    "Omega = 2.0e6*2*pi\n",
    "tau_RF = 1/(Omega/(2*pi))"
   ]
  },
  {
   "cell_type": "code",
   "execution_count": null,
   "id": "572d7893",
   "metadata": {},
   "outputs": [],
   "source": []
  },
  {
   "cell_type": "code",
   "execution_count": 693,
   "id": "e3790001",
   "metadata": {},
   "outputs": [
    {
     "data": {
      "text/plain": [
       "(4, 5)"
      ]
     },
     "execution_count": 693,
     "metadata": {},
     "output_type": "execute_result"
    }
   ],
   "source": [
    "shape(popt_smooth)"
   ]
  },
  {
   "cell_type": "markdown",
   "id": "66e2a982",
   "metadata": {},
   "source": [
    "# Windowing"
   ]
  },
  {
   "cell_type": "code",
   "execution_count": 20,
   "id": "32469b0b",
   "metadata": {},
   "outputs": [
    {
     "name": "stdout",
     "output_type": "stream",
     "text": [
      "0.10000000000000005 0.09999999999999999\n"
     ]
    }
   ],
   "source": [
    "# Windowing temperature\n",
    "window_samp = 200\n",
    "x_win = [] # zeros((len(y)//window_samp,len(file_path)))\n",
    "y_win = [] # zeros((len(y)//window_samp,len(file_path)))\n",
    "\n",
    "for to_fit in range(len(file_path)):\n",
    "#     print(to_fit)\n",
    "    x_win.append([])\n",
    "    y_win.append([])\n",
    "    x = time[to_fit]-1e-3\n",
    "    y = T_aux_avg[to_fit]\n",
    "    for i in range(len(y)//window_samp-1):\n",
    "        x_win[to_fit].append( (x[i*window_samp]+x[(i+1)*window_samp])/2 )\n",
    "        y_win[to_fit].append( sum(y[i*window_samp:(i+1)*window_samp])/window_samp )\n",
    "    \n",
    "print(diff(x_win[0])[0]*1e3,tau_RF*window_samp*1e3)"
   ]
  },
  {
   "cell_type": "code",
   "execution_count": 21,
   "id": "34fb2f52",
   "metadata": {},
   "outputs": [],
   "source": [
    "# Plot windowed temperature\n",
    "to_plot = 0\n",
    "x  = time[to_plot]-1e-3\n",
    "y  = T_aux_avg[to_plot]\n",
    "figure('Windowed T',clear='True')\n",
    "semilogy(x, y,':',color='y')\n",
    "semilogy(x_win[to_plot], y_win[to_plot],'+')\n",
    "hlines(500,0,0.02)\n",
    "grid()\n",
    "tight_layout()"
   ]
  },
  {
   "cell_type": "code",
   "execution_count": 24,
   "id": "adb19310",
   "metadata": {},
   "outputs": [
    {
     "name": "stdout",
     "output_type": "stream",
     "text": [
      "/home/adrien/Documents/Programmes/Python/THESE/RF_Temp_Fit/Time_and_temp_RFHEAT_N0512_DC04_RF04.npz\n"
     ]
    }
   ],
   "source": [
    "figname = 'Windowed_dT_dt'\n",
    "fig = figure(figname,clear='True')\n",
    "fig.set_size_inches(11.7, 8.3)\n",
    "ax = fig.add_subplot(111)\n",
    "# ax.semilogy(x_win[:-1]*1e3, diff(y_win)/window_samp,'+')\n",
    "for to_plot in [0]: # [21,23,25,27] [12,14,16,18] [1,3,5,7]\n",
    "    my_try = int(file_path[to_plot][file_path[to_plot].find('DC')+2:file_path[to_plot].find('DC')+4])\n",
    "    print(file_path[to_plot])\n",
    "    ax.loglog(y_win[to_plot][:-1], diff(y_win[to_plot])/window_samp,\n",
    "              marker='.',ms=20,mec='k',mew=0.3,ls=':',\n",
    "              label=f'{q[my_try]}')\n",
    "# semilogy(x[::100]*1e3, y[::100],':',color='y')\n",
    "# ax.set_xlabel('t [ms]')\n",
    "ax.set_xlabel('T [K]')\n",
    "ax.set_ylabel('$H=dT/dt$ [K/RF period]')\n",
    "ax.set_xlim(5e-3,1e-3)\n",
    "ax.grid()\n",
    "legend(title='$q_x$, $N=1024$',loc=0)\n",
    "tight_layout()\n",
    "# savefig(figname+'N1024_zoom'+'.eps',dpi=300)"
   ]
  },
  {
   "cell_type": "code",
   "execution_count": 1268,
   "id": "cc39d1cb",
   "metadata": {},
   "outputs": [
    {
     "name": "stdout",
     "output_type": "stream",
     "text": [
      "/home/adrien/Documents/Programmes/Python/THESE/RF_Temp_Fit/Time_and_temp_RFHEAT_N0256_DC08_RF08.npz\n",
      "/home/adrien/Documents/Programmes/Python/THESE/RF_Temp_Fit/Time_and_temp_RFHEAT_N0512_DC08_RF08.npz\n",
      "/home/adrien/Documents/Programmes/Python/THESE/RF_Temp_Fit/Time_and_temp_RFHEAT_N1024_DC08_RF08.npz\n"
     ]
    },
    {
     "name": "stderr",
     "output_type": "stream",
     "text": [
      "The PostScript backend does not support transparency; partially transparent artists will be rendered opaque.\n"
     ]
    }
   ],
   "source": [
    "# Plot windowed temperature\n",
    "# figure('Windowed T',clear='True')\n",
    "# semilogy(x_win*1e3, y_win,'+')\n",
    "# semilogy(x[::100]*1e3, y[::100],':',color='y')\n",
    "# grid()\n",
    "# tight_layout()\n",
    "figname = 'Windowed_dT_dt'\n",
    "fig = figure(figname,clear='True')\n",
    "fig.set_size_inches(11.7, 8.3)\n",
    "ax = fig.add_subplot(111)\n",
    "# ax.semilogy(x_win[:-1]*1e3, diff(y_win)/window_samp,'+')\n",
    "incr = 0\n",
    "for to_plot in [3,14,23]: # [4,15,24]\n",
    "    print(file_path[to_plot])\n",
    "    my_try = int(file_path[to_plot][file_path[to_plot].find('DC')+2:file_path[to_plot].find('DC')+4])\n",
    "    ax.loglog(y_win[to_plot][:-1], diff(y_win[to_plot])/window_samp,\n",
    "              marker='.',ms=20,mec='k',mew=0.3,ls='',\n",
    "              label=f'{N_rework[incr]}')\n",
    "    incr+=1\n",
    "# semilogy(x[::100]*1e3, y[::100],':',color='y')\n",
    "# ax.set_xlabel('t [ms]')\n",
    "ax.set_xlabel('T [K]')\n",
    "ax.set_ylabel('$H=\\mathrm{d}T/\\mathrm{d}t$ [K/RF period]')\n",
    "# ax.set_xlim(3e-3,11)\n",
    "ax.grid()\n",
    "legend(title=f'$N$, $q_x={q[my_try]}$',loc=4)\n",
    "tight_layout()\n",
    "\n",
    "savefig(figname+'q0.60'+'.eps',dpi=300)"
   ]
  },
  {
   "cell_type": "code",
   "execution_count": 1729,
   "id": "cf6420fe",
   "metadata": {},
   "outputs": [
    {
     "name": "stderr",
     "output_type": "stream",
     "text": [
      "/tmp/ipykernel_4864/3519428968.py:34: UserWarning: Attempted to set non-positive left xlim on a log-scaled axis.\n",
      "Invalid limit will be ignored.\n",
      "  fig = figure(figname,clear='True')\n",
      "/tmp/ipykernel_4864/3519428968.py:34: UserWarning: Attempted to set non-positive bottom ylim on a log-scaled axis.\n",
      "Invalid limit will be ignored.\n",
      "  fig = figure(figname,clear='True')\n"
     ]
    },
    {
     "name": "stdout",
     "output_type": "stream",
     "text": [
      "/home/adrien/Documents/Programmes/Python/THESE/RF_Temp_Fit/Time_and_temp_RFHEAT_N0256_DC08_RF08.npz\n",
      "/home/adrien/Documents/Programmes/Python/THESE/RF_Temp_Fit/Time_and_temp_RFHEAT_N0512_DC08_RF08.npz\n",
      "/home/adrien/Documents/Programmes/Python/THESE/RF_Temp_Fit/Time_and_temp_RFHEAT_N1024_DC08_RF08.npz\n",
      "/home/adrien/Documents/Programmes/Python/THESE/RF_Temp_Fit/Time_and_temp_RFHEAT_N1024_DC06_RF06.npz\n",
      "/home/adrien/Documents/Programmes/Python/THESE/RF_Temp_Fit/Time_and_temp_RFHEAT_N1024_DC08_RF08.npz\n",
      "/home/adrien/Documents/Programmes/Python/THESE/RF_Temp_Fit/Time_and_temp_RFHEAT_N1024_DC09_RF09.npz\n",
      "/home/adrien/Documents/Programmes/Python/THESE/RF_Temp_Fit/Time_and_temp_RFHEAT_N1024_DC12_RF12.npz\n"
     ]
    },
    {
     "name": "stderr",
     "output_type": "stream",
     "text": [
      "The PostScript backend does not support transparency; partially transparent artists will be rendered opaque.\n"
     ]
    }
   ],
   "source": [
    "# Plot windowed temperature\n",
    "# figure('Windowed T',clear='True')\n",
    "# semilogy(x_win*1e3, y_win,'+')\n",
    "# semilogy(x[::100]*1e3, y[::100],':',color='y')\n",
    "# grid()\n",
    "# tight_layout\n",
    "\n",
    "nv = 500\n",
    "log_temps = linspace(-3.1,3,nv)\n",
    "coolpow_05 = []\n",
    "coolpow_1 = []\n",
    "# coolpow_1_bis = []\n",
    "coolpow_2 = []\n",
    "# coolpow_4 = []\n",
    "# coolpow_6 = []\n",
    "# coolpow_8 = []\n",
    "# coolpow_10 = []\n",
    "# coolpow_50 = []\n",
    "for T in 10**log_temps:\n",
    "    v_thermique = sqrt(2*kb*T/m_Ca)\n",
    "    dv = 6*v_thermique/nv\n",
    "    coolpow_05.append( sum(cool_power(-3*v_thermique, 3*v_thermique, nv, T, -Gam/2, klam, Rab, Gam)[1])*dv*h_pl_bar*Gam/kb*tau_RF )\n",
    "    coolpow_1.append( sum(cool_power(-3*v_thermique, 3*v_thermique, nv, T, -Gam, klam, Rab, Gam)[1])*dv*h_pl_bar*Gam/kb*tau_RF )\n",
    "#     coolpow_1_bis.append( sum(cool_power(-3*v_thermique, 3*v_thermique, nv, T, -Gam, k, 2*Rab, Gam)[1])*dv*h_pl_bar*Gam/kb*tau_RF )\n",
    "    coolpow_2.append( sum(cool_power(-3*v_thermique, 3*v_thermique, nv, T, -2*Gam, klam, Rab, Gam)[1])*dv*h_pl_bar*Gam/kb*tau_RF )\n",
    "#     coolpow_4.append( sum(cool_power(-3*v_thermique, 3*v_thermique, nv, T, -4*Gam, k, Rab, Gam)[1])*dv*h_pl_bar*Gam/kb*tau_RF )\n",
    "#     coolpow_6.append( sum(cool_power(-3*v_thermique, 3*v_thermique, nv, T, -6*Gam, k, Rab, Gam)[1])*dv*h_pl_bar*Gam/kb*tau_RF )\n",
    "#     coolpow_8.append( sum(cool_power(-3*v_thermique, 3*v_thermique, nv, T, -8*Gam, k, Rab, Gam)[1])*dv*h_pl_bar*Gam/kb*tau_RF )\n",
    "#     coolpow_10.append( sum(cool_power(-3*v_thermique, 3*v_thermique, nv, T, -10*Gam, k, Rab, Gam)[1])*dv*h_pl_bar*Gam/kb*tau_RF )\n",
    "#     coolpow_50.append( sum(cool_power(-3*v_thermique, 3*v_thermique, nv, T, -50*Gam, k, Rab, Gam)[1])*dv*h_pl_bar*Gam/kb*tau_RF )\n",
    "\n",
    "my_color=[7,2,6,3] # \n",
    "figname = 'Windowed_dT_dt_q_N'\n",
    "fig = figure(figname,clear='True')\n",
    "# fig.set_size_inches(11.7, 8.3)\n",
    "ax1 = fig.add_subplot(121)\n",
    "\n",
    "# ax.semilogy(x_win[:-1]*1e3, diff(y_win)/window_samp,'+')\n",
    "incr = 0\n",
    "choosen_plot = [3,14,23]\n",
    "for to_plot in choosen_plot: # [4,15,24] 1,12,21 3,14,23\n",
    "    print(file_path[to_plot])\n",
    "    my_try = int(file_path[to_plot][file_path[to_plot].find('DC')+2:file_path[to_plot].find('DC')+4])\n",
    "    ax1.loglog(y_win[to_plot][:-1], diff(y_win[to_plot])/window_samp,\n",
    "              marker='.',ms=14,mec='k',mew=0,ls='',color=cm(incr/8),\n",
    "              label=f'{N_rework[incr]}')\n",
    "    incr+=1\n",
    "# to_plot = 20\n",
    "# ax1.loglog(y_win[to_plot][:-1], diff(y_win[to_plot])/window_samp,\n",
    "#           marker='.',ms=14,mec='k',mew=0,ls='',color=cm(4/8),\n",
    "#           label=f'{N_rework[2]}')\n",
    "\n",
    "ax1.loglog(y_win[choosen_plot[0]][205:-251],\n",
    "           diff(y_win[choosen_plot[0]][205:-250])/window_samp,\n",
    "          marker='',ls=':',color=cm(0/8))\n",
    "ax1.loglog(y_win[choosen_plot[1]][115:-200],\n",
    "           diff(y_win[choosen_plot[1]][115:-199])/window_samp,\n",
    "          marker='',ls=':',color=cm(1/8))\n",
    "ax1.loglog(y_win[choosen_plot[2]][35:-80],\n",
    "           diff(y_win[choosen_plot[2]][35:-79])/window_samp,\n",
    "          marker='',ls=':',color=cm(2/8))\n",
    "    \n",
    "ax1.loglog(10**log_temps,coolpow_05,ls=\"-\",color='k',label='$-0.5\\Gamma$')\n",
    "ax1.loglog(10**log_temps,coolpow_1,ls=\"--\",color='k',label='$-\\Gamma$')\n",
    "# ax1.loglog(10**log_temps,coolpow_1_bis,ls=\"--\",color='r',label='$-\\Gamma$')\n",
    "ax1.loglog(10**log_temps,coolpow_2,ls=\":\",color='k',label='$-2\\Gamma$')\n",
    "# ax1.loglog(10**log_temps,coolpow_4,ls=\":\",color='xkcd:yellow',label='$-4\\Gamma$')  \n",
    "# ax1.loglog(10**log_temps,coolpow_6,ls=\":\",color='xkcd:green',label='$-6\\Gamma$')\n",
    "# ax1.loglog(10**log_temps,coolpow_8,ls=\":\",color='xkcd:blue',label='$-8\\Gamma$')  \n",
    "# ax1.loglog(10**log_temps,coolpow_10,ls=\":\",color='xkcd:purple',label='$-10\\Gamma$')\n",
    "# ax1.loglog(10**log_temps,coolpow_50,ls=\":\",color='xkcd:black',label='$-50\\Gamma$') \n",
    "    \n",
    "ax1.set_xlabel('T [K]')\n",
    "ax1.set_ylabel('$H=\\mathrm{d}T/\\mathrm{d}t$ [K/RF period]')\n",
    "ax1.grid()\n",
    "ax1.grid(True, which=\"minor\", ls=\":\", color='0.80')\n",
    "ax1.legend(title=f'$N$, $q_x={q[my_try]}$',loc=4,ncol=2)\n",
    "\n",
    "ax2 = fig.add_subplot(122,sharey=ax1,sharex=ax1)\n",
    "# ax.semilogy(x_win[:-1]*1e3, diff(y_win)/window_samp,'+')\n",
    "incr = 0\n",
    "for to_plot in [21,23,24,27]: # [21,23,25,27] [12,14,16,18] [1,3,5,7]\n",
    "    my_try = int(file_path[to_plot][file_path[to_plot].find('DC')+2:file_path[to_plot].find('DC')+4])\n",
    "    print(file_path[to_plot])\n",
    "    ax2.loglog(y_win[to_plot][:-1], diff(y_win[to_plot])/window_samp,\n",
    "              marker='.',ms=14,mec='k',mew=0,ls='',\n",
    "              label=f'{q[my_try]}',color=cm2(my_color[incr]/8))\n",
    "    incr+=1\n",
    "    \n",
    "ax2.loglog(y_win[21][len(y_win[21])//2+100:len(y_win[21])//2+150],\n",
    "           diff(y_win[21][len(y_win[21])//2+100:len(y_win[21])//2+151])/window_samp,\n",
    "          marker='',ls=':',color=cm2(7/8))\n",
    "ax2.loglog(y_win[23][len(y_win[23])//2-30:len(y_win[23])//2-4],\n",
    "           diff(y_win[23][len(y_win[23])//2-30:len(y_win[23])//2-3])/window_samp,\n",
    "          marker='',ls=':',color=cm2(2/8))\n",
    "ax2.loglog(y_win[24][len(y_win[24])//2-200:len(y_win[24])//2-150],\n",
    "           diff(y_win[24][len(y_win[24])//2-200:len(y_win[24])//2-149])/window_samp,\n",
    "          marker='',ls=':',color=cm2(6/8))\n",
    "ax2.loglog(y_win[27][len(y_win[27])//2-50:len(y_win[27])//2],\n",
    "           diff(y_win[27][len(y_win[27])//2-50:len(y_win[27])//2+1])/window_samp,\n",
    "          marker='',ls=':',color=cm2(3/8))\n",
    "\n",
    "ax2.loglog(10**log_temps,coolpow_05,ls=\"-\",color='k',label='-$0.5\\Gamma$')\n",
    "ax2.loglog(10**log_temps,coolpow_1,ls=\"--\",color='k',label='-$\\Gamma$')\n",
    "ax2.loglog(10**log_temps,coolpow_2,ls=\":\",color='k',label='$-2\\Gamma$')    \n",
    "# semilogy(x[::100]*1e3, y[::100],':',color='y')\n",
    "# ax.set_xlabel('t [ms]')\n",
    "ax2.set_xlabel('T [K]')\n",
    "ax2.grid(True, which=\"minor\", ls=\":\", color='0.80')\n",
    "ax2.set_ylim(1e-9,0.55)\n",
    "ax2.set_xlim(3e-3,500)\n",
    "ax2.grid()\n",
    "ax2.legend(title='$q_x$, $N=1024$',loc=4)\n",
    "\n",
    "tight_layout()\n",
    "\n",
    "savefig(figname+'varq_varN_with0.60_guides'+'.eps',dpi=300)"
   ]
  },
  {
   "cell_type": "code",
   "execution_count": 887,
   "id": "f495b1c2",
   "metadata": {},
   "outputs": [
    {
     "name": "stdout",
     "output_type": "stream",
     "text": [
      "267.325\n",
      "53465\n"
     ]
    }
   ],
   "source": [
    "window_samp = 200\n",
    "window_size = tau_RF * window_samp\n",
    "window_num = len(y)/window_samp\n",
    "print(window_num)\n",
    "print(len(y))"
   ]
  },
  {
   "cell_type": "markdown",
   "id": "45448b11",
   "metadata": {},
   "source": [
    "# From fluo-variations_optimal-temp.ipynb"
   ]
  },
  {
   "cell_type": "markdown",
   "id": "3cef85a5",
   "metadata": {},
   "source": [
    "# Functions used to describe ions\n",
    "\n",
    "$\\texttt{MB}$ is the Maxwell-Boltzmann distribution. It provides the probability to find an atom with a given velocity in a gas with temperature T.\n",
    "\n",
    "$\\texttt{pfl_dop} = \\rho_{ee}$ is the atomic ray profile with Doppler effect. It provides the probability of excitation given Rabi frequency, detuning, lambda and velocity of atom. It is considered equal to the excited population, i.e the proportion of excited atoms.\n",
    "\n",
    "$ \\texttt{MB} = \\sqrt{\\frac{m}{2\\pi k_BT}}\\exp{-\\frac{mv^2}{2k_BT}}$\n",
    "\n",
    "$\\texttt{pfl_dop} = \\rho_{ee} = \\frac{0.25\\Omega_R^2}{0.5\\Omega_R^2 + 0.25\\Gamma^2 + \\Delta^2} = \\frac{A/2}{A+B + \\Delta^2}$"
   ]
  },
  {
   "cell_type": "code",
   "execution_count": 1320,
   "id": "cc5dcc84",
   "metadata": {},
   "outputs": [],
   "source": [
    "# Doppler profile\n",
    "def pfl_dop(v, delta, k, Rab, Gam):\n",
    "    return .25*Rab**2/(0.5*Rab**2+.25*Gam**2+(delta-k*v)**2)\n",
    "\n",
    "# Maxwell-Boltzmann distribution\n",
    "def MB(v, T):\n",
    "    kb = 1.38064852*1e-23  # Boltzman\n",
    "    m_Ca = 40.078*1.66054e-27 # masse Ca 40.078\n",
    "    return (m_Ca/(np.pi*2*kb*T))**(1/2) * np.exp(-m_Ca*v**2/(2*kb*T)) # **1 car vitesse par rapport au laser compte seulement (1D)\n",
    "\n",
    "# Probabilities product\n",
    "# For a range of velocities,\n",
    "# compute the prob_fluo\n",
    "# for a given T, delta, Rab, Gam\n",
    "def prob_fluo(vmin, vmax, nv, T, delta, k, Rab, Gam):\n",
    "    nu = k*np.linspace(vmin, vmax, nv)\n",
    "    return nu, pfl_dop(-nu/k, delta, k, Rab, Gam)*MB(nu/k, T)\n",
    "\n",
    "def cool_power(vmin, vmax, nv, T, delta, k, Rab, Gam):\n",
    "    nu = k*np.linspace(vmin, vmax, nv)\n",
    "    return nu, pfl_dop(-nu/k, delta, k, Rab, Gam)*MB(nu/k, T)*nu\n",
    "\n",
    "def T_lim(delta):\n",
    "    return -0.5*hbar*Gam**2*(1+(2*delta/Gam)**2) / (4*delta)/kb"
   ]
  },
  {
   "cell_type": "code",
   "execution_count": 1358,
   "id": "270255ba",
   "metadata": {},
   "outputs": [
    {
     "name": "stdout",
     "output_type": "stream",
     "text": [
      "0.9994781288008786\n"
     ]
    }
   ],
   "source": [
    "T = 0.01\n",
    "v_thermique = sqrt(2*kb*T/m_Ca)\n",
    "nv = 2000\n",
    "dv = 6*v_thermique/nv\n",
    "dist_MB = []\n",
    "for v in linspace(-3*v_thermique,3*v_thermique,nv):\n",
    "    dist_MB.append(MB(v, T))\n",
    "print(sum(dist_MB)*dv)"
   ]
  },
  {
   "cell_type": "code",
   "execution_count": 1727,
   "id": "56e16e9a",
   "metadata": {},
   "outputs": [],
   "source": [
    "# Laser parameters\n",
    "lam = 397e-9 # m\n",
    "klam = 2*pi/lam # m^-1\n",
    "Gam = 21570000.0 *2*pi\n",
    "delta = Gam\n",
    "I = 170 # W/m²"
   ]
  },
  {
   "cell_type": "markdown",
   "id": "1653b175",
   "metadata": {},
   "source": [
    "# Cooling energy\n",
    "\n",
    "Work of cooling force is $\\vec{F}\\cdot\\vec{v} = \\hbar k\\Gamma\\rho_{22}(\\vec{v})\\cdot\\vec{v}$. The energy is the work integrated over velocity $G$ :\n",
    "\n",
    "$G = \\hbar k\\Gamma \\int \\rho_{22}(\\vec{v})\\cdot\\vec{v} \\mathrm{d}v$ ."
   ]
  },
  {
   "cell_type": "code",
   "execution_count": 1359,
   "id": "f9aee421",
   "metadata": {},
   "outputs": [],
   "source": [
    "# Plot the MBxpfl-dop vs Temperature\n",
    "\n",
    "N = N_rework[2]\n",
    "\n",
    "Tmin = .0005\n",
    "Tmax = 10\n",
    "vmin = sqrt(2*kb*Tmin/m_Ca)\n",
    "vmax = sqrt(2*kb*Tmax/m_Ca)\n",
    "nv = 500\n",
    "nu = -k*np.linspace(vmin,vmax,nv)\n",
    "dv = mean(diff(nu))/k\n",
    "\n",
    "Rab = Gam # or np.sqrt(3*lam**3*Gam/(4*np.pi**2*hbar*c) * I) \n",
    "\n",
    "T_moy = Tmax\n",
    "v_moy = sqrt(8*kb*T_moy/pi/m_Ca)\n",
    "vmoins = -10*v_moy\n",
    "vplus = 10*v_moy\n",
    "\n",
    "dv = (vplus-vmoins)/nv\n",
    "\n",
    "pfl0 = []\n",
    "pfl05 = []\n",
    "pfl1 = []\n",
    "pfl2 = []\n",
    "coolpow = []\n",
    "\n",
    "Temps = linspace(Tmin,200,nv)\n",
    "for T in Temps:\n",
    "    v_thermique = sqrt(2*kb*T/m_Ca)\n",
    "    dv = 6*v_thermique/nv\n",
    "#     pfl0.append( sum(prob_fluo(vmoins, vplus, nv, T, 0, k, Rab, Gam)[1])*dv*Gam * N )\n",
    "    pfl05.append( sum(prob_fluo(vmoins, vplus, nv, T, -Gam/2, k, Rab, Gam)[1])*dv*h_pl_bar*k*Gam *2/3/kb*tau_RF ) # /kb/5e-7*2/3\n",
    "    pfl1.append( sum(prob_fluo(vmoins, vplus, nv, T, -Gam, k, Rab, Gam)[1])*dv*h_pl_bar*k*Gam *2/3/kb*tau_RF )\n",
    "    coolpow.append( sum(cool_power(-3*v_thermique, 3*v_thermique, nv, T, -Gam/2, k, Rab, Gam)[1])*dv*h_pl_bar*Gam/kb*tau_RF )\n",
    "#     pfl2.append( sum(prob_fluo(vmoins, vplus, nv, T, Gam, k, Rab, Gam)[1])*dv*Gam * N )\n",
    "# pfl3 = pfl_dop(nu/k, +3*Gam, k, Rab, Gam)\n",
    "\n",
    "fig = plt.figure('MBxDop prof fluo tot',clear='True')\n",
    "fig.set_size_inches(11.7, 8.3)\n",
    "ax = fig.add_subplot(111)\n",
    "\n",
    "# ax.plot(Temps, array(pfl0)*1e-9, '-',color='xkcd:green',label=r'$\\delta = 0$')\n",
    "ax.plot(Temps, array(pfl05)*1e-9, ':',color='xkcd:black',label=r'$\\delta = -\\Gamma/2$')\n",
    "# ax.plot(Temps, array(pfl2)*1e-9, '-',color='xkcd:blue',label=r'$\\delta = \\Gamma$')\n",
    "ax.plot(Temps, array(pfl1)*1e-9, '--',color='xkcd:red',label=r'$\\delta = -\\Gamma$')\n",
    "# ax.plot((nu/k)**2*m_Ca/2/kb, pfl3, '-',color='xkcd:black',label=r'$\\delta = \\Gamma$')\n",
    "\n",
    "# ax.hlines((pfl2[0]-sqrt(pfl2[0]))*1e-9,0,1,color='xkcd:red',ls=':',lw = 3)\n",
    "# ax.hlines((pfl2[0]+sqrt(pfl2[0]))*1e-9,0,1,color='xkcd:red',ls=':',lw = 3)\n",
    "# ax.hlines(pfl0[0]-sqrt(pfl0[0]),0,0.1,color='xkcd:green',ls=':',lw = 3)\n",
    "# ax.hlines(pfl05[0]-sqrt(pfl05[0]),0,0.1,color='xkcd:blue',ls=':',lw = 3)\n",
    "\n",
    "\n",
    "ax.set_xlabel(r'T [K]')\n",
    "ax.set_ylabel(r'Cooling energy $G$ [K/RF period]')\n",
    "ax.set_xlim(-0.02,2.22)\n",
    "# ax.set_ylim(12,46)\n",
    "\n",
    "ax.grid()\n",
    "ax.legend(title='detuning',loc=1,fontsize=15)\n",
    "\n",
    "plt.tight_layout()\n",
    "# subplots_adjust(top=0.96,\n",
    "# bottom=0.135,\n",
    "# left=0.115,\n",
    "# right=0.965,\n",
    "# hspace=0.2,\n",
    "# wspace=0.2)"
   ]
  },
  {
   "cell_type": "code",
   "execution_count": 1297,
   "id": "6f92de2a",
   "metadata": {},
   "outputs": [
    {
     "ename": "ValueError",
     "evalue": "x and y must have same first dimension, but have shapes (4999,) and (0,)",
     "output_type": "error",
     "traceback": [
      "\u001b[0;31m---------------------------------------------------------------------------\u001b[0m",
      "\u001b[0;31mValueError\u001b[0m                                Traceback (most recent call last)",
      "\u001b[0;32m/tmp/ipykernel_4864/4274130420.py\u001b[0m in \u001b[0;36m<module>\u001b[0;34m\u001b[0m\n\u001b[1;32m      3\u001b[0m \u001b[0max\u001b[0m \u001b[0;34m=\u001b[0m \u001b[0mfig\u001b[0m\u001b[0;34m.\u001b[0m\u001b[0madd_subplot\u001b[0m\u001b[0;34m(\u001b[0m\u001b[0;36m111\u001b[0m\u001b[0;34m)\u001b[0m\u001b[0;34m\u001b[0m\u001b[0;34m\u001b[0m\u001b[0m\n\u001b[1;32m      4\u001b[0m \u001b[0;34m\u001b[0m\u001b[0m\n\u001b[0;32m----> 5\u001b[0;31m \u001b[0max\u001b[0m\u001b[0;34m.\u001b[0m\u001b[0mplot\u001b[0m\u001b[0;34m(\u001b[0m\u001b[0mTemps\u001b[0m\u001b[0;34m[\u001b[0m\u001b[0;34m:\u001b[0m\u001b[0;34m-\u001b[0m\u001b[0;36m1\u001b[0m\u001b[0;34m]\u001b[0m\u001b[0;34m,\u001b[0m \u001b[0mdiff\u001b[0m\u001b[0;34m(\u001b[0m\u001b[0marray\u001b[0m\u001b[0;34m(\u001b[0m\u001b[0mpfl0\u001b[0m\u001b[0;34m)\u001b[0m\u001b[0;34m)\u001b[0m\u001b[0;34m*\u001b[0m\u001b[0;36m1e-9\u001b[0m\u001b[0;34m,\u001b[0m \u001b[0;34m'-'\u001b[0m\u001b[0;34m,\u001b[0m\u001b[0mcolor\u001b[0m\u001b[0;34m=\u001b[0m\u001b[0;34m'xkcd:green'\u001b[0m\u001b[0;34m,\u001b[0m\u001b[0mlabel\u001b[0m\u001b[0;34m=\u001b[0m\u001b[0;34mr'$\\delta = 0$'\u001b[0m\u001b[0;34m)\u001b[0m\u001b[0;34m\u001b[0m\u001b[0;34m\u001b[0m\u001b[0m\n\u001b[0m\u001b[1;32m      6\u001b[0m \u001b[0max\u001b[0m\u001b[0;34m.\u001b[0m\u001b[0mplot\u001b[0m\u001b[0;34m(\u001b[0m\u001b[0mTemps\u001b[0m\u001b[0;34m[\u001b[0m\u001b[0;34m:\u001b[0m\u001b[0;34m-\u001b[0m\u001b[0;36m1\u001b[0m\u001b[0;34m]\u001b[0m\u001b[0;34m,\u001b[0m \u001b[0mdiff\u001b[0m\u001b[0;34m(\u001b[0m\u001b[0marray\u001b[0m\u001b[0;34m(\u001b[0m\u001b[0mpfl05\u001b[0m\u001b[0;34m)\u001b[0m\u001b[0;34m)\u001b[0m\u001b[0;34m*\u001b[0m\u001b[0;36m1e-9\u001b[0m\u001b[0;34m,\u001b[0m \u001b[0;34m':'\u001b[0m\u001b[0;34m,\u001b[0m\u001b[0mcolor\u001b[0m\u001b[0;34m=\u001b[0m\u001b[0;34m'xkcd:black'\u001b[0m\u001b[0;34m,\u001b[0m\u001b[0mlabel\u001b[0m\u001b[0;34m=\u001b[0m\u001b[0;34mr'$\\delta = -\\Gamma/2$'\u001b[0m\u001b[0;34m)\u001b[0m\u001b[0;34m\u001b[0m\u001b[0;34m\u001b[0m\u001b[0m\n\u001b[1;32m      7\u001b[0m \u001b[0max\u001b[0m\u001b[0;34m.\u001b[0m\u001b[0mplot\u001b[0m\u001b[0;34m(\u001b[0m\u001b[0mTemps\u001b[0m\u001b[0;34m[\u001b[0m\u001b[0;34m:\u001b[0m\u001b[0;34m-\u001b[0m\u001b[0;36m1\u001b[0m\u001b[0;34m]\u001b[0m\u001b[0;34m,\u001b[0m \u001b[0mdiff\u001b[0m\u001b[0;34m(\u001b[0m\u001b[0marray\u001b[0m\u001b[0;34m(\u001b[0m\u001b[0mpfl1\u001b[0m\u001b[0;34m)\u001b[0m\u001b[0;34m)\u001b[0m\u001b[0;34m*\u001b[0m\u001b[0;36m1e-9\u001b[0m\u001b[0;34m,\u001b[0m \u001b[0;34m'--'\u001b[0m\u001b[0;34m,\u001b[0m\u001b[0mcolor\u001b[0m\u001b[0;34m=\u001b[0m\u001b[0;34m'xkcd:red'\u001b[0m\u001b[0;34m,\u001b[0m\u001b[0mlabel\u001b[0m\u001b[0;34m=\u001b[0m\u001b[0;34mr'$\\delta = -\\Gamma$'\u001b[0m\u001b[0;34m)\u001b[0m\u001b[0;34m\u001b[0m\u001b[0;34m\u001b[0m\u001b[0m\n",
      "\u001b[0;32m/usr/lib/python3/dist-packages/matplotlib/axes/_axes.py\u001b[0m in \u001b[0;36mplot\u001b[0;34m(self, scalex, scaley, data, *args, **kwargs)\u001b[0m\n\u001b[1;32m   1630\u001b[0m         \"\"\"\n\u001b[1;32m   1631\u001b[0m         \u001b[0mkwargs\u001b[0m \u001b[0;34m=\u001b[0m \u001b[0mcbook\u001b[0m\u001b[0;34m.\u001b[0m\u001b[0mnormalize_kwargs\u001b[0m\u001b[0;34m(\u001b[0m\u001b[0mkwargs\u001b[0m\u001b[0;34m,\u001b[0m \u001b[0mmlines\u001b[0m\u001b[0;34m.\u001b[0m\u001b[0mLine2D\u001b[0m\u001b[0;34m)\u001b[0m\u001b[0;34m\u001b[0m\u001b[0;34m\u001b[0m\u001b[0m\n\u001b[0;32m-> 1632\u001b[0;31m         \u001b[0mlines\u001b[0m \u001b[0;34m=\u001b[0m \u001b[0;34m[\u001b[0m\u001b[0;34m*\u001b[0m\u001b[0mself\u001b[0m\u001b[0;34m.\u001b[0m\u001b[0m_get_lines\u001b[0m\u001b[0;34m(\u001b[0m\u001b[0;34m*\u001b[0m\u001b[0margs\u001b[0m\u001b[0;34m,\u001b[0m \u001b[0mdata\u001b[0m\u001b[0;34m=\u001b[0m\u001b[0mdata\u001b[0m\u001b[0;34m,\u001b[0m \u001b[0;34m**\u001b[0m\u001b[0mkwargs\u001b[0m\u001b[0;34m)\u001b[0m\u001b[0;34m]\u001b[0m\u001b[0;34m\u001b[0m\u001b[0;34m\u001b[0m\u001b[0m\n\u001b[0m\u001b[1;32m   1633\u001b[0m         \u001b[0;32mfor\u001b[0m \u001b[0mline\u001b[0m \u001b[0;32min\u001b[0m \u001b[0mlines\u001b[0m\u001b[0;34m:\u001b[0m\u001b[0;34m\u001b[0m\u001b[0;34m\u001b[0m\u001b[0m\n\u001b[1;32m   1634\u001b[0m             \u001b[0mself\u001b[0m\u001b[0;34m.\u001b[0m\u001b[0madd_line\u001b[0m\u001b[0;34m(\u001b[0m\u001b[0mline\u001b[0m\u001b[0;34m)\u001b[0m\u001b[0;34m\u001b[0m\u001b[0;34m\u001b[0m\u001b[0m\n",
      "\u001b[0;32m/usr/lib/python3/dist-packages/matplotlib/axes/_base.py\u001b[0m in \u001b[0;36m__call__\u001b[0;34m(self, data, *args, **kwargs)\u001b[0m\n\u001b[1;32m    310\u001b[0m                 \u001b[0mthis\u001b[0m \u001b[0;34m+=\u001b[0m \u001b[0margs\u001b[0m\u001b[0;34m[\u001b[0m\u001b[0;36m0\u001b[0m\u001b[0;34m]\u001b[0m\u001b[0;34m,\u001b[0m\u001b[0;34m\u001b[0m\u001b[0;34m\u001b[0m\u001b[0m\n\u001b[1;32m    311\u001b[0m                 \u001b[0margs\u001b[0m \u001b[0;34m=\u001b[0m \u001b[0margs\u001b[0m\u001b[0;34m[\u001b[0m\u001b[0;36m1\u001b[0m\u001b[0;34m:\u001b[0m\u001b[0;34m]\u001b[0m\u001b[0;34m\u001b[0m\u001b[0;34m\u001b[0m\u001b[0m\n\u001b[0;32m--> 312\u001b[0;31m             \u001b[0;32myield\u001b[0m \u001b[0;32mfrom\u001b[0m \u001b[0mself\u001b[0m\u001b[0;34m.\u001b[0m\u001b[0m_plot_args\u001b[0m\u001b[0;34m(\u001b[0m\u001b[0mthis\u001b[0m\u001b[0;34m,\u001b[0m \u001b[0mkwargs\u001b[0m\u001b[0;34m)\u001b[0m\u001b[0;34m\u001b[0m\u001b[0;34m\u001b[0m\u001b[0m\n\u001b[0m\u001b[1;32m    313\u001b[0m \u001b[0;34m\u001b[0m\u001b[0m\n\u001b[1;32m    314\u001b[0m     \u001b[0;32mdef\u001b[0m \u001b[0mget_next_color\u001b[0m\u001b[0;34m(\u001b[0m\u001b[0mself\u001b[0m\u001b[0;34m)\u001b[0m\u001b[0;34m:\u001b[0m\u001b[0;34m\u001b[0m\u001b[0;34m\u001b[0m\u001b[0m\n",
      "\u001b[0;32m/usr/lib/python3/dist-packages/matplotlib/axes/_base.py\u001b[0m in \u001b[0;36m_plot_args\u001b[0;34m(self, tup, kwargs, return_kwargs)\u001b[0m\n\u001b[1;32m    496\u001b[0m \u001b[0;34m\u001b[0m\u001b[0m\n\u001b[1;32m    497\u001b[0m         \u001b[0;32mif\u001b[0m \u001b[0mx\u001b[0m\u001b[0;34m.\u001b[0m\u001b[0mshape\u001b[0m\u001b[0;34m[\u001b[0m\u001b[0;36m0\u001b[0m\u001b[0;34m]\u001b[0m \u001b[0;34m!=\u001b[0m \u001b[0my\u001b[0m\u001b[0;34m.\u001b[0m\u001b[0mshape\u001b[0m\u001b[0;34m[\u001b[0m\u001b[0;36m0\u001b[0m\u001b[0;34m]\u001b[0m\u001b[0;34m:\u001b[0m\u001b[0;34m\u001b[0m\u001b[0;34m\u001b[0m\u001b[0m\n\u001b[0;32m--> 498\u001b[0;31m             raise ValueError(f\"x and y must have same first dimension, but \"\n\u001b[0m\u001b[1;32m    499\u001b[0m                              f\"have shapes {x.shape} and {y.shape}\")\n\u001b[1;32m    500\u001b[0m         \u001b[0;32mif\u001b[0m \u001b[0mx\u001b[0m\u001b[0;34m.\u001b[0m\u001b[0mndim\u001b[0m \u001b[0;34m>\u001b[0m \u001b[0;36m2\u001b[0m \u001b[0;32mor\u001b[0m \u001b[0my\u001b[0m\u001b[0;34m.\u001b[0m\u001b[0mndim\u001b[0m \u001b[0;34m>\u001b[0m \u001b[0;36m2\u001b[0m\u001b[0;34m:\u001b[0m\u001b[0;34m\u001b[0m\u001b[0;34m\u001b[0m\u001b[0m\n",
      "\u001b[0;31mValueError\u001b[0m: x and y must have same first dimension, but have shapes (4999,) and (0,)"
     ]
    }
   ],
   "source": [
    "fig = plt.figure('d/dt MBxDop prof fluo tot',clear='True')\n",
    "fig.set_size_inches(11.7, 8.3)\n",
    "ax = fig.add_subplot(111)\n",
    "\n",
    "ax.plot(Temps[:-1], diff(array(pfl0))*1e-9, '-',color='xkcd:green',label=r'$\\delta = 0$')\n",
    "ax.plot(Temps[:-1], diff(array(pfl05))*1e-9, ':',color='xkcd:black',label=r'$\\delta = -\\Gamma/2$')\n",
    "ax.plot(Temps[:-1], diff(array(pfl1))*1e-9, '--',color='xkcd:red',label=r'$\\delta = -\\Gamma$')\n",
    "ax.grid()\n",
    "ax.set_xlim(0,1)\n",
    "ax.legend(title='detuning',loc=1,fontsize=15)"
   ]
  },
  {
   "cell_type": "markdown",
   "id": "8ef51910",
   "metadata": {},
   "source": [
    "# alpha variation"
   ]
  },
  {
   "cell_type": "code",
   "execution_count": 1730,
   "id": "04e2a538",
   "metadata": {},
   "outputs": [
    {
     "name": "stdout",
     "output_type": "stream",
     "text": [
      "/home/adrien/Documents/Programmes/Python/THESE/RF_Temp_Fit/Time_and_temp_RFHEAT_cloudvar_N1024_DC00_RF00.npz\n",
      "/home/adrien/Documents/Programmes/Python/THESE/RF_Temp_Fit/Time_and_temp_RFHEAT_cloudvar_N1024_DC02_RF02.npz\n",
      "/home/adrien/Documents/Programmes/Python/THESE/RF_Temp_Fit/Time_and_temp_RFHEAT_cloudvar_N1024_DC03_RF03.npz\n",
      "/home/adrien/Documents/Programmes/Python/THESE/RF_Temp_Fit/Time_and_temp_RFHEAT_cloudvar_N1024_DC05_RF05.npz\n",
      "/home/adrien/Documents/Programmes/Python/THESE/RF_Temp_Fit/Time_and_temp_RFHEAT_cloudvar_N1024_DC06_RF06.npz\n",
      "/home/adrien/Documents/Programmes/Python/THESE/RF_Temp_Fit/Time_and_temp_RFHEAT_cloudvar_N1024_DC08_RF08.npz\n",
      "/home/adrien/Documents/Programmes/Python/THESE/RF_Temp_Fit/Time_and_temp_RFHEAT_cloudvar_N1024_DC09_RF09.npz\n"
     ]
    }
   ],
   "source": [
    "## GUI for data loading\n",
    "# Select one data file all the way down to the directories\n",
    "# SELECT Temp_SimuTypeQ_N ... .dat\n",
    "\n",
    "file_path_alpha = filedialog.askopenfilename(multiple=True) # initialdir = dir_string\n",
    "# print(file_path)\n",
    "\n",
    "time_alpha       = []\n",
    "T_aux_avg_alpha  = []\n",
    "r2_v2_rlim_alpha      = []\n",
    "\n",
    "for i,j in enumerate(file_path_alpha):\n",
    "    print(j)\n",
    "    with load(j) as data:\n",
    "        time_alpha.append(data['time'])\n",
    "        T_aux_avg_alpha.append(data['temp'])\n",
    "        r2_v2_rlim_alpha.append(data['r2_v2_rlim'])"
   ]
  },
  {
   "cell_type": "code",
   "execution_count": 1747,
   "id": "ad47330f",
   "metadata": {},
   "outputs": [
    {
     "name": "stdout",
     "output_type": "stream",
     "text": [
      "425954.529575667\n"
     ]
    }
   ],
   "source": [
    "to_fit = 2\n",
    "my_try = int(file_path_alpha[to_fit][file_path_alpha[to_fit].find('DC')+2:file_path_alpha[to_fit].find('DC')+4])\n",
    "Urf_alpha = array([65.70, 0, 65.70, 65.70,0, 65.70,  65.70, 0, 65.70, 65.70])\n",
    "q_alpha = array([0.64, 0, 0.64, 0.64, 0, 0.64, 0.64, 0, 0.64, 0.64])\n",
    "Udc_alpha = array([10.027, 0, 12, 13.848, 0, 15.85, 17.669, 0, 19.7, 21.49])\n",
    "# alpha = [0.49999436, 0.76323903, 1.08844661, 1.50041269] approx !!\n",
    "\n",
    "beta_guess_alpha = 0.423\n",
    "a = 0\n",
    "for k in range(250):\n",
    "    beta_guess_alpha = beta_continue_alamano(a,q_alpha,beta_guess_alpha)\n",
    "    beta_guess_alpha = sqrt(beta_guess_alpha)\n",
    "\n",
    "omega_z_2_alpha = ( 2*pi*100e3 )**2 * array(Udc_alpha)\n",
    "omega_x_2_alpha = ( beta_guess_alpha*Omega/2 )**2\n",
    "omega_r_2_alpha = omega_x_2_alpha - 0.5*omega_z_2_alpha\n",
    "print(sqrt(omega_r_2_alpha[my_try])/2/pi)\n",
    "\n",
    "x  = time_alpha[to_fit]-1e-3\n",
    "fs = 1/diff(x)[1]"
   ]
  },
  {
   "cell_type": "code",
   "execution_count": 1769,
   "id": "bc4f2e44",
   "metadata": {},
   "outputs": [
    {
     "name": "stdout",
     "output_type": "stream",
     "text": [
      "[0.7087212989783399, 0.8441735019072001, 0.9927493495124887, 1.3009005624995362, 1.4606914381178755, 1.778121478433288, 2.2062633702148275]\n"
     ]
    }
   ],
   "source": [
    "alpha = []\n",
    "R1 = []\n",
    "R2 = []\n",
    "L = []\n",
    "for myRF in range(len(file_path_alpha)):\n",
    "    R1.append(r2_v2_rlim_alpha[myRF][6][50]*1000)\n",
    "    R2.append(r2_v2_rlim_alpha[myRF][6][50]*1000)\n",
    "    L.append(r2_v2_rlim_alpha[myRF][8][50]*1000)\n",
    "    alpha.append((R1[myRF]+R2[myRF])/(2*L[myRF]))\n",
    "V = 4/3*pi*((array(R1)+array(R2))/2)**2*array(L)# aws = 0\n",
    "# print((R+(1.48*aws/2))/(L+1.48*aws/2))\n",
    "print(alpha)"
   ]
  },
  {
   "cell_type": "code",
   "execution_count": 1749,
   "id": "23a58f7a",
   "metadata": {},
   "outputs": [
    {
     "name": "stdout",
     "output_type": "stream",
     "text": [
      "file to analyze\n",
      "> 3 /home/adrien/Documents/Programmes/Python/THESE/RF_Temp_Fit/Time_and_temp_RFHEAT_cloudvar_N1024_DC05_RF05.npz\n",
      "func5 [ 1.46856196e-03  2.12529486e+00 -6.04640057e-02  1.89875761e-03\n",
      "  5.12394936e-01]\n"
     ]
    }
   ],
   "source": [
    "start_for_fit = 200\n",
    "T_crit = 0.5\n",
    "print('file to analyze')\n",
    "\n",
    "to_fit = 3 #11 19 8\n",
    "temp_to_end = 75\n",
    "\n",
    "my_try = int(file_path_alpha[to_fit][file_path_alpha[to_fit].find('DC')+2:file_path_alpha[to_fit].find('DC')+4])\n",
    "print('>',to_fit,file_path_alpha[to_fit])\n",
    "x  = time_alpha[to_fit]-1e-3\n",
    "y  = T_aux_avg_alpha[to_fit]\n",
    "\n",
    "max_f_r = sqrt(omega_r_2_alpha[my_try])/2/pi\n",
    "b, a = signal.butter(8,  max_f_r/fs*1.01)\n",
    "y_filt = signal.filtfilt(b, a, y, padlen=150)\n",
    "\n",
    "index_100K = argmin(abs(y_filt-temp_to_end))\n",
    "end_fit = index_100K\n",
    "\n",
    "t0_first_guess = x[where(min(abs(y_filt-T_crit))==abs(y_filt-T_crit))][0] # 2.5e-3\n",
    "B0 = log10(T_crit) # log10( y[where(min(abs(y-T_crit))==abs(y-T_crit))][0] )\n",
    "A0 = log10(max(y_filt[start_for_fit:end_fit]) - B0)\n",
    "\n",
    "\n",
    "\n",
    "p0 = [t0_first_guess,A0,B0,0.01,0.3]\n",
    "\n",
    "# proper fit of the smoothed curve limiter up to threshold T\n",
    "popt, pcov = curve_fit(func5, x[start_for_fit:end_fit],\n",
    "                              log10(y_filt[start_for_fit:end_fit]),\n",
    "                       p0, maxfev= 25000,\n",
    "                       bounds=((-np.inf,-np.inf,-np.inf,0,0),(np.inf,np.inf,2,1.01,1)))\n",
    "print('func5',popt)\n",
    "\n",
    "figname = 'testfitinlin0'\n",
    "figure(figname,clear='True')\n",
    "#xlim(0.8,6)\n",
    "ax2 = subplot(111)\n",
    "ax2.grid()\n",
    "ax2.semilogy(x*1e3, y ,label=r'$T$',color='C0',lw=0.3)\n",
    "ax2.semilogy(x*1e3, y_filt ,label=r'$T$ filtered',color='C1',ls=':',lw=3)\n",
    "ax2.vlines(x[end_fit]*1e3,1e-2,150,color='k')\n",
    "\n",
    "y_fit5 = func5(x[start_for_fit:end_fit],*popt)\n",
    "ax2.semilogy(x[start_for_fit:end_fit]*1e3,10**y_fit5,color='r',ls='--',label=r'$\\psi$',lw=2)\n",
    "\n",
    "nticks = 9\n",
    "maj_loc = ticker.LogLocator(numticks=nticks)\n",
    "min_loc = ticker.LogLocator(subs='all', numticks=nticks)\n",
    "ax2.yaxis.set_major_locator(maj_loc)\n",
    "ax2.yaxis.set_minor_locator(min_loc)\n",
    "\n",
    "ax2.set_xlabel('t [ms]')\n",
    "ax2.set_ylabel('T [K]')\n",
    "# ax2.set_xlim(-0.3,5.6)\n",
    "# ax2.set_ylim(2e-3,300)\n",
    "tight_layout()\n",
    "# savefig(figname+'.eps',dpi=300)"
   ]
  },
  {
   "cell_type": "code",
   "execution_count": 1756,
   "id": "ea8ed8bd",
   "metadata": {},
   "outputs": [
    {
     "name": "stdout",
     "output_type": "stream",
     "text": [
      "file to analyze\n",
      "> 0 /home/adrien/Documents/Programmes/Python/THESE/RF_Temp_Fit/Time_and_temp_RFHEAT_cloudvar_N1024_DC00_RF00.npz\n",
      "[ 1.45907051e-03  2.48460207e+00 -1.18877874e-01  7.88838367e-03\n",
      "  3.56457138e-01]\n",
      "> 1 /home/adrien/Documents/Programmes/Python/THESE/RF_Temp_Fit/Time_and_temp_RFHEAT_cloudvar_N1024_DC02_RF02.npz\n",
      "[ 1.51078274e-03  2.29131299e+00 -8.80323004e-02  3.86505020e-03\n",
      "  4.36363868e-01]\n",
      "> 2 /home/adrien/Documents/Programmes/Python/THESE/RF_Temp_Fit/Time_and_temp_RFHEAT_cloudvar_N1024_DC03_RF03.npz\n",
      "[ 1.49349973e-03  2.17026402e+00 -3.11160605e-02  1.28908676e-03\n",
      "  5.64157004e-01]\n",
      "> 3 /home/adrien/Documents/Programmes/Python/THESE/RF_Temp_Fit/Time_and_temp_RFHEAT_cloudvar_N1024_DC05_RF05.npz\n",
      "[ 1.46855473e-03  2.12954566e+00 -6.06828307e-02  1.95065494e-03\n",
      "  5.09523337e-01]\n",
      "> 4 /home/adrien/Documents/Programmes/Python/THESE/RF_Temp_Fit/Time_and_temp_RFHEAT_cloudvar_N1024_DC06_RF06.npz\n",
      "[ 1.31862270e-03  2.22336564e+00 -6.31644674e-02  3.60106196e-03\n",
      "  4.43448525e-01]\n",
      "> 5 /home/adrien/Documents/Programmes/Python/THESE/RF_Temp_Fit/Time_and_temp_RFHEAT_cloudvar_N1024_DC08_RF08.npz\n",
      "[ 1.11436687e-03  2.20838088e+00 -7.31582390e-02  3.60779879e-03\n",
      "  4.42090923e-01]\n",
      "> 6 /home/adrien/Documents/Programmes/Python/THESE/RF_Temp_Fit/Time_and_temp_RFHEAT_cloudvar_N1024_DC09_RF09.npz\n",
      "[ 9.63454701e-04  2.26542042e+00 -7.60747586e-02  4.63993558e-03\n",
      "  4.16054539e-01]\n",
      "total amount of non fitted curves 0\n"
     ]
    }
   ],
   "source": [
    "# Fit all curves\n",
    "# Smooth data temperature\n",
    "# guess first parameter set\n",
    "# fit smoothed data up to threshold temperature\n",
    "# much more consistent than below\n",
    "\n",
    "popt_smooth_alpha = np.zeros((len(file_path_alpha),5))\n",
    "temp_to_end = [75, 75, 75, 75, 75, 75, 75, 75] # Temperature to stop the fit\n",
    "# 100, 100, 100, 100, 100, 100, 100, 100, 100   75, 75, 75, 75, 75, 75, 75, 75, 75\n",
    "start_for_fit = 200\n",
    "T_crit = 0.5\n",
    "print('file to analyze')\n",
    "not_fitted = 0\n",
    "for to_fit in range(len(file_path_alpha)):\n",
    "    j = file_path_alpha[to_fit]\n",
    "# retrive time and temperature from the curve\n",
    "    print('>',to_fit,j)\n",
    "    my_try = int(file_path_alpha[to_fit][file_path_alpha[to_fit].find('DC')+2:file_path_alpha[to_fit].find('DC')+4])\n",
    "    x  = time_alpha[to_fit]-1e-3\n",
    "    y  = T_aux_avg_alpha[to_fit]\n",
    "\n",
    "    # Smoothing signal with zero delay shift fit\n",
    "    max_f_r = sqrt(omega_r_2_alpha[my_try])/2/pi\n",
    "    b, a = signal.butter(8,  max_f_r/fs*2.01)\n",
    "    y_filt = signal.filtfilt(b, a, y, padlen=150)\n",
    "\n",
    "    # select index of temp where stop the fit\n",
    "    # I stop the fit when T reaches a given T\n",
    "    index_100K = argmin(abs(y_filt-temp_to_end[to_fit]))\n",
    "    end_fit = index_100K\n",
    "\n",
    "    # Fit parameters first guesses\n",
    "    t0_first_guess = x[where(min(abs(y_filt-T_crit))==abs(y_filt-T_crit))][0] # 2.5e-3\n",
    "    B0 = log10(T_crit) # log10( y[where(min(abs(y-T_crit))==abs(y-T_crit))][0] )\n",
    "    A0 = log10(max(y_filt[start_for_fit:end_fit]) - B0)\n",
    "\n",
    "    # set initial guess of fit parameters\n",
    "    p0 = [t0_first_guess,A0,B0,0.01,0.3]\n",
    "\n",
    "    # proper fit of the smoothed curve limiter up to threshold T\n",
    "    popt, pcov = curve_fit(func5, x[start_for_fit:end_fit],\n",
    "                                  log10(y_filt[start_for_fit:end_fit]),\n",
    "                           p0, maxfev= 25000,\n",
    "                           bounds=((-np.inf,-np.inf,-np.inf,0,0),(np.inf,np.inf,2,1.01,1)))\n",
    "    print(popt)\n",
    "    popt_smooth_alpha[to_fit,:] = popt\n",
    "\n",
    "print('total amount of non fitted curves',not_fitted)"
   ]
  },
  {
   "cell_type": "code",
   "execution_count": 1757,
   "id": "7a351324",
   "metadata": {},
   "outputs": [
    {
     "name": "stdout",
     "output_type": "stream",
     "text": [
      "[7.436245e-04 6.041245e-04 2.626245e-04 6.245000e-07 6.245000e-07\n",
      " 6.245000e-07 6.245000e-07]\n",
      "[0.00071545 0.00090666 0.00123088 0.00146793 0.001318   0.00111374\n",
      " 0.00096283]\n"
     ]
    }
   ],
   "source": [
    "# when does fit crosses a given temperature\n",
    "# compute delta T between this moment and t0\n",
    "# computed above in the fit, from t=0\n",
    "T_thre = 1e-2\n",
    "fit_above_thresh_alpha = np.zeros((len(file_path_alpha)))\n",
    "for to_fit in range(len(file_path_alpha)):\n",
    "    j = file_path_alpha[to_fit]\n",
    "    x = time_alpha[to_fit]-1e-3\n",
    "    y_fit = func5(x,*popt_smooth_alpha[to_fit,:])\n",
    "    fit_above_thresh_alpha[to_fit] = x[where(min(abs(10**y_fit-T_thre))==abs(10**y_fit-T_thre))][0]\n",
    "print(fit_above_thresh_alpha)\n",
    "\n",
    "delta_T_explosion_alpha = popt_smooth_alpha[:,0] - fit_above_thresh_alpha\n",
    "print(delta_T_explosion_alpha)"
   ]
  },
  {
   "cell_type": "code",
   "execution_count": 1761,
   "id": "3ea94ee1",
   "metadata": {},
   "outputs": [],
   "source": [
    "q_rework = [0.64, 0.64, 0.64, 0.64, 0.64, 0.64, 0.64, 0.64]\n",
    "figure('fit_parameters',clear=True)\n",
    "ax1 = subplot(151)\n",
    "ax1.plot(alpha,array(popt_smooth_alpha)[:,0]*1e3-1,color=cm(6/10),ls=':',marker='P',label=N_rework[2])\n",
    "ax1.set_xlabel(r'$\\alpha $')\n",
    "ax1.set_ylabel('$t_0$ [ms]')\n",
    "ax1.grid()\n",
    "ax1.legend(title='N',fontsize=12)\n",
    "ax2 = subplot(152)\n",
    "ax2.plot(alpha,10**array(popt_smooth_alpha)[:,1],color=cm(6/10),ls=':',marker='P',label=N_rework[2])\n",
    "ax2.set_xlabel(r'$\\alpha $')\n",
    "ax2.set_ylabel('$10^A$ [K]')\n",
    "ax2.grid()\n",
    "ax2.legend(title='N',fontsize=12)\n",
    "ax3 = subplot(153)\n",
    "ax3.plot(alpha,10**array(popt_smooth_alpha)[:,2],color=cm(6/10),ls=':',marker='P',label=N_rework[2])\n",
    "ax3.set_xlabel(r'$\\alpha $')\n",
    "ax3.set_ylabel('$10^B$ [K]')\n",
    "ax3.grid()\n",
    "ax3.legend(title='N',fontsize=12)\n",
    "ax4 = subplot(154)\n",
    "ax4.plot(alpha,array(popt_smooth_alpha)[:,3]*1e3,color=cm(6/10),ls=':',marker='P',label=N_rework[2])\n",
    "ax4.set_xlabel(r'$\\alpha $')\n",
    "ax4.set_ylabel('$C$ [ms]')\n",
    "ax4.grid()\n",
    "ax4.legend(title='N',fontsize=12)\n",
    "ax5 = subplot(155)\n",
    "ax5.plot(alpha,array(popt_smooth_alpha)[:,4],color=cm(6/10),ls=':',marker='P',label=N_rework[2])\n",
    "ax5.set_xlabel(r'$\\alpha $')\n",
    "ax5.set_ylabel('$k$ [1]')\n",
    "ax5.grid()\n",
    "ax5.legend(title='N',fontsize=12)\n",
    "tight_layout()"
   ]
  },
  {
   "cell_type": "code",
   "execution_count": 1763,
   "id": "49855a81",
   "metadata": {},
   "outputs": [
    {
     "name": "stderr",
     "output_type": "stream",
     "text": [
      "The PostScript backend does not support transparency; partially transparent artists will be rendered opaque.\n"
     ]
    },
    {
     "name": "stdout",
     "output_type": "stream",
     "text": [
      "249 [ 9.63454701e-04  2.26542042e+00 -7.60747586e-02  4.63993558e-03\n",
      "  4.16054539e-01]\n"
     ]
    }
   ],
   "source": [
    "C = []\n",
    "D = []\n",
    "x_forfit = [linspace(0.555,0.71,200),linspace(0.555,0.71,200),linspace(0.535,0.71,200)]\n",
    "figname = 'fit_parameter_t0_log_alphavar'\n",
    "fig = figure(figname,clear=True)\n",
    "fig.set_size_inches(11.7, 8.3)\n",
    "ax1 = subplot(111)\n",
    "ax1.plot(alpha,delta_T_explosion_alpha*1e3,\n",
    "             color=cm(6/10),ls=':',marker='P',ms=10,mew=1,label=N_rework[2])\n",
    "# popt, pcov = curve_fit(func_lin, log10(array(popt_smooth)),log10(array(popt_smooth)[:,0]),maxfev= 5000)\n",
    "print(k,popt)\n",
    "ax1.set_xlabel(r'$\\alpha$')\n",
    "ax1.set_ylabel('$\\Delta t$ [ms]')\n",
    "ax1.grid()\n",
    "ax1.legend(title='N',fontsize=18)\n",
    "tight_layout()\n",
    "\n",
    "savefig(figname+'.eps',dpi=300)"
   ]
  },
  {
   "cell_type": "code",
   "execution_count": 1773,
   "id": "a48e2c78",
   "metadata": {},
   "outputs": [
    {
     "name": "stderr",
     "output_type": "stream",
     "text": [
      "The PostScript backend does not support transparency; partially transparent artists will be rendered opaque.\n"
     ]
    },
    {
     "name": "stdout",
     "output_type": "stream",
     "text": [
      "249 [ 9.63454701e-04  2.26542042e+00 -7.60747586e-02  4.63993558e-03\n",
      "  4.16054539e-01]\n"
     ]
    }
   ],
   "source": [
    "C = []\n",
    "D = []\n",
    "x_forfit = [linspace(0.555,0.71,200),linspace(0.555,0.71,200),linspace(0.535,0.71,200)]\n",
    "figname = 'fit_parameter_t0_log_volume'\n",
    "fig = figure(figname,clear=True)\n",
    "fig.set_size_inches(11.7, 8.3)\n",
    "ax1 = subplot(111)\n",
    "ax1.plot(V,delta_T_explosion_alpha*1e3,\n",
    "             color=cm(6/10),ls=':',marker='P',ms=10,mew=1,label=N_rework[2])\n",
    "# popt, pcov = curve_fit(func_lin, log10(array(popt_smooth)),log10(array(popt_smooth)[:,0]),maxfev= 5000)\n",
    "print(k,popt)\n",
    "ax1.set_xlabel(r'$V$ [µm$^3$]')\n",
    "ax1.set_ylabel('$\\Delta t$ [ms]')\n",
    "ax1.grid()\n",
    "ax1.legend(title='N',fontsize=18)\n",
    "tight_layout()\n",
    "\n",
    "savefig(figname+'.eps',dpi=300)"
   ]
  },
  {
   "cell_type": "code",
   "execution_count": 1772,
   "id": "fb440ebe",
   "metadata": {
    "scrolled": false
   },
   "outputs": [
    {
     "data": {
      "text/plain": [
       "[73.53248789201217,\n",
       " 76.63694787239713,\n",
       " 79.05919733415752,\n",
       " 90.68546351793599,\n",
       " 93.2353944379524,\n",
       " 100.14717060599104,\n",
       " 107.18596992947039]"
      ]
     },
     "execution_count": 1772,
     "metadata": {},
     "output_type": "execute_result"
    }
   ],
   "source": [
    "R1(R1+R2)/(2*L)"
   ]
  },
  {
   "cell_type": "code",
   "execution_count": 1774,
   "id": "a14c8542",
   "metadata": {},
   "outputs": [
    {
     "name": "stdout",
     "output_type": "stream",
     "text": [
      "0.10000000000000005 0.09999999999999999\n"
     ]
    }
   ],
   "source": [
    "# Windowing temperature\n",
    "window_samp_alpha = 200\n",
    "x_win_alpha = [] # zeros((len(y)//window_samp,len(file_path)))\n",
    "y_win_alpha = [] # zeros((len(y)//window_samp,len(file_path)))\n",
    "\n",
    "for to_fit in range(len(file_path_alpha)):\n",
    "#     print(to_fit)\n",
    "    x_win_alpha.append([])\n",
    "    y_win_alpha.append([])\n",
    "    x = time_alpha[to_fit]-1e-3\n",
    "    y = T_aux_avg_alpha[to_fit]\n",
    "    for i in range(len(y)//window_samp_alpha-1):\n",
    "        x_win_alpha[to_fit].append( (x[i*window_samp_alpha]+x[(i+1)*window_samp_alpha])/2 )\n",
    "        y_win_alpha[to_fit].append( sum(y[i*window_samp_alpha:(i+1)*window_samp_alpha])/window_samp_alpha )\n",
    "    \n",
    "print(diff(x_win_alpha[0])[0]*1e3,tau_RF*window_samp_alpha*1e3)"
   ]
  },
  {
   "cell_type": "code",
   "execution_count": 1776,
   "id": "a19cf774",
   "metadata": {},
   "outputs": [],
   "source": [
    "# Plot windowed temperature\n",
    "to_plot = 4\n",
    "x  = time_alpha[to_plot]-1e-3\n",
    "y  = T_aux_avg_alpha[to_plot]\n",
    "figure('Windowed T',clear='True')\n",
    "semilogy(x, y,':',color='y')\n",
    "semilogy(x_win_alpha[to_plot], y_win_alpha[to_plot],'+')\n",
    "hlines(500,0,0.02)\n",
    "grid()\n",
    "tight_layout()"
   ]
  },
  {
   "cell_type": "code",
   "execution_count": 1818,
   "id": "cbcacf44",
   "metadata": {},
   "outputs": [
    {
     "name": "stdout",
     "output_type": "stream",
     "text": [
      "/home/adrien/Documents/Programmes/Python/THESE/RF_Temp_Fit/Time_and_temp_RFHEAT_cloudvar_N1024_DC00_RF00.npz\n",
      "/home/adrien/Documents/Programmes/Python/THESE/RF_Temp_Fit/Time_and_temp_RFHEAT_cloudvar_N1024_DC02_RF02.npz\n",
      "/home/adrien/Documents/Programmes/Python/THESE/RF_Temp_Fit/Time_and_temp_RFHEAT_cloudvar_N1024_DC03_RF03.npz\n",
      "/home/adrien/Documents/Programmes/Python/THESE/RF_Temp_Fit/Time_and_temp_RFHEAT_cloudvar_N1024_DC05_RF05.npz\n",
      "/home/adrien/Documents/Programmes/Python/THESE/RF_Temp_Fit/Time_and_temp_RFHEAT_cloudvar_N1024_DC06_RF06.npz\n",
      "/home/adrien/Documents/Programmes/Python/THESE/RF_Temp_Fit/Time_and_temp_RFHEAT_cloudvar_N1024_DC08_RF08.npz\n",
      "/home/adrien/Documents/Programmes/Python/THESE/RF_Temp_Fit/Time_and_temp_RFHEAT_cloudvar_N1024_DC09_RF09.npz\n"
     ]
    },
    {
     "name": "stderr",
     "output_type": "stream",
     "text": [
      "The PostScript backend does not support transparency; partially transparent artists will be rendered opaque.\n"
     ]
    }
   ],
   "source": [
    "# Plot windowed temperature\n",
    "# figure('Windowed T',clear='True')\n",
    "# semilogy(x_win*1e3, y_win,'+')\n",
    "# semilogy(x[::100]*1e3, y[::100],':',color='y')\n",
    "# grid()\n",
    "# tight_layout\n",
    "\n",
    "nv = 500\n",
    "log_temps = linspace(-3.1,3,nv)\n",
    "coolpow_05_alpha = []\n",
    "coolpow_1_alpha = []\n",
    "# coolpow_1_bis = []\n",
    "coolpow_2_alpha = []\n",
    "# coolpow_4 = []\n",
    "# coolpow_6 = []\n",
    "# coolpow_8 = []\n",
    "# coolpow_10 = []\n",
    "# coolpow_50 = []\n",
    "for T in 10**log_temps:\n",
    "    v_thermique = sqrt(2*kb*T/m_Ca)\n",
    "    dv = 6*v_thermique/nv\n",
    "    coolpow_05_alpha.append( sum(cool_power(-3*v_thermique, 3*v_thermique, nv, T, -Gam/2, klam, Rab, Gam)[1])*dv*h_pl_bar*Gam/kb*tau_RF )\n",
    "    coolpow_1_alpha.append( sum(cool_power(-3*v_thermique, 3*v_thermique, nv, T, -Gam, klam, Rab, Gam)[1])*dv*h_pl_bar*Gam/kb*tau_RF )\n",
    "#     coolpow_1_bis.append( sum(cool_power(-3*v_thermique, 3*v_thermique, nv, T, -Gam, k, 2*Rab, Gam)[1])*dv*h_pl_bar*Gam/kb*tau_RF )\n",
    "    coolpow_2_alpha.append( sum(cool_power(-3*v_thermique, 3*v_thermique, nv, T, -2*Gam, klam, Rab, Gam)[1])*dv*h_pl_bar*Gam/kb*tau_RF )\n",
    "#     coolpow_4.append( sum(cool_power(-3*v_thermique, 3*v_thermique, nv, T, -4*Gam, k, Rab, Gam)[1])*dv*h_pl_bar*Gam/kb*tau_RF )\n",
    "#     coolpow_6.append( sum(cool_power(-3*v_thermique, 3*v_thermique, nv, T, -6*Gam, k, Rab, Gam)[1])*dv*h_pl_bar*Gam/kb*tau_RF )\n",
    "#     coolpow_8.append( sum(cool_power(-3*v_thermique, 3*v_thermique, nv, T, -8*Gam, k, Rab, Gam)[1])*dv*h_pl_bar*Gam/kb*tau_RF )\n",
    "#     coolpow_10.append( sum(cool_power(-3*v_thermique, 3*v_thermique, nv, T, -10*Gam, k, Rab, Gam)[1])*dv*h_pl_bar*Gam/kb*tau_RF )\n",
    "#     coolpow_50.append( sum(cool_power(-3*v_thermique, 3*v_thermique, nv, T, -50*Gam, k, Rab, Gam)[1])*dv*h_pl_bar*Gam/kb*tau_RF )\n",
    "\n",
    "my_color=[7,2,6,3] # \n",
    "figname = 'Windowed_dT_dt_alpha'\n",
    "fig = figure(figname,clear='True')\n",
    "fig.set_size_inches(11.7, 8.3)\n",
    "ax1 = fig.add_subplot(111)\n",
    "\n",
    "# ax.semilogy(x_win[:-1]*1e3, diff(y_win)/window_samp,'+')\n",
    "incr = 0\n",
    "choosen_plot = [0,1,2,3,4,5,6]\n",
    "for to_plot in choosen_plot: # [4,15,24] 1,12,21 3,14,23\n",
    "    print(file_path_alpha[to_plot])\n",
    "    my_try = int(file_path_alpha[to_plot][file_path_alpha[to_plot].find('DC')+2:file_path_alpha[to_plot].find('DC')+4])\n",
    "    ax1.loglog(y_win_alpha[to_plot][:-1], diff(y_win_alpha[to_plot])/window_samp_alpha,\n",
    "              marker='.',ms=14,mec='k',mew=0,ls='',color=cm3(to_plot/7),\n",
    "              label=f'{alpha[to_plot]:.2f}')\n",
    "    incr+=1\n",
    "# to_plot = 20\n",
    "# ax1.loglog(y_win[to_plot][:-1], diff(y_win[to_plot])/window_samp,\n",
    "#           marker='.',ms=14,mec='k',mew=0,ls='',color=cm(4/8),\n",
    "#           label=f'{N_rework[2]}')\n",
    "\n",
    "ax1.loglog(y_win_alpha[choosen_plot[0]][205:-251],\n",
    "           diff(y_win_alpha[choosen_plot[0]][205:-250])/window_samp_alpha,\n",
    "          marker='',ls=':',color=cm(0/8))\n",
    "ax1.loglog(y_win_alpha[choosen_plot[1]][115:-200],\n",
    "           diff(y_win_alpha[choosen_plot[1]][115:-199])/window_samp_alpha,\n",
    "          marker='',ls=':',color=cm(1/8))\n",
    "ax1.loglog(y_win_alpha[choosen_plot[2]][35:-80],\n",
    "           diff(y_win_alpha[choosen_plot[2]][35:-79])/window_samp_alpha,\n",
    "          marker='',ls=':',color=cm(2/8))\n",
    "    \n",
    "ax1.loglog(10**log_temps,coolpow_05_alpha,ls=\"-\",color='k',label='$-0.5\\Gamma$')\n",
    "ax1.loglog(10**log_temps,coolpow_1_alpha,ls=\"--\",color='k',label='$-\\Gamma$')\n",
    "# ax1.loglog(10**log_temps,coolpow_1_bis,ls=\"--\",color='r',label='$-\\Gamma$')\n",
    "ax1.loglog(10**log_temps,coolpow_2_alpha,ls=\":\",color='k',label='$-2\\Gamma$')\n",
    "# ax1.loglog(10**log_temps,coolpow_4,ls=\":\",color='xkcd:yellow',label='$-4\\Gamma$')  \n",
    "# ax1.loglog(10**log_temps,coolpow_6,ls=\":\",color='xkcd:green',label='$-6\\Gamma$')\n",
    "# ax1.loglog(10**log_temps,coolpow_8,ls=\":\",color='xkcd:blue',label='$-8\\Gamma$')  \n",
    "# ax1.loglog(10**log_temps,coolpow_10,ls=\":\",color='xkcd:purple',label='$-10\\Gamma$')\n",
    "# ax1.loglog(10**log_temps,coolpow_50,ls=\":\",color='xkcd:black',label='$-50\\Gamma$') \n",
    "    \n",
    "ax1.set_xlabel('T [K]')\n",
    "ax1.set_ylabel('$H=\\mathrm{d}T/\\mathrm{d}t$ [K/RF period]')\n",
    "ax1.grid()\n",
    "ax1.grid(True, which=\"minor\", ls=\":\", color='0.80')\n",
    "ax1.legend(title=r'$\\alpha $',loc=4,ncol=2)\n",
    "\n",
    "ax1.grid(True, which=\"minor\", ls=\":\", color='0.80')\n",
    "ax1.set_ylim(1e-7,0.55)\n",
    "ax1.set_xlim(6e-3,520)\n",
    "\n",
    "tight_layout()\n",
    "# \n",
    "savefig(figname+'.eps',dpi=300)"
   ]
  }
 ],
 "metadata": {
  "kernelspec": {
   "display_name": "Python 3 (ipykernel)",
   "language": "python",
   "name": "python3"
  },
  "language_info": {
   "codemirror_mode": {
    "name": "ipython",
    "version": 3
   },
   "file_extension": ".py",
   "mimetype": "text/x-python",
   "name": "python",
   "nbconvert_exporter": "python",
   "pygments_lexer": "ipython3",
   "version": "3.10.6"
  }
 },
 "nbformat": 4,
 "nbformat_minor": 5
}
