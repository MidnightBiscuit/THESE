{
 "cells": [
  {
   "cell_type": "code",
   "execution_count": 18,
   "id": "cf513875",
   "metadata": {},
   "outputs": [
    {
     "name": "stdout",
     "output_type": "stream",
     "text": [
      "Using matplotlib backend: TkAgg\n",
      "Populating the interactive namespace from numpy and matplotlib\n",
      "Warning: Cannot change to a different GUI toolkit: qt. Using tk instead.\n"
     ]
    },
    {
     "name": "stderr",
     "output_type": "stream",
     "text": [
      "/usr/lib/python3/dist-packages/IPython/core/magics/pylab.py:159: UserWarning: pylab import has clobbered these variables: ['time']\n",
      "`%matplotlib` prevents importing * from pylab and numpy\n",
      "  warn(\"pylab import has clobbered these variables: %s\"  % clobbered +\n"
     ]
    }
   ],
   "source": [
    "%pylab\n",
    "%matplotlib qt"
   ]
  },
  {
   "cell_type": "code",
   "execution_count": 2,
   "id": "6561b087",
   "metadata": {},
   "outputs": [],
   "source": [
    "from scipy.optimize import curve_fit"
   ]
  },
  {
   "cell_type": "code",
   "execution_count": 5,
   "id": "04d75fdf",
   "metadata": {},
   "outputs": [],
   "source": [
    "data = load('../Re _Temperature_for_fit/Temperature_DC05V_RF64V.npz')\n",
    "time = data['time']\n",
    "Temp = data['temperature']\n",
    "i = argmin(abs(time-0.002))\n"
   ]
  },
  {
   "cell_type": "code",
   "execution_count": 6,
   "id": "d03b7af3",
   "metadata": {},
   "outputs": [
    {
     "data": {
      "text/plain": [
       "[<matplotlib.lines.Line2D at 0x7f7f521517b0>]"
      ]
     },
     "execution_count": 6,
     "metadata": {},
     "output_type": "execute_result"
    },
    {
     "data": {
      "image/png": "[encoded data removed]",
      "text/plain": [
       "<Figure size 432x288 with 1 Axes>"
      ]
     },
     "metadata": {
      "needs_background": "light"
     },
     "output_type": "display_data"
    }
   ],
   "source": [
    "figure(0); clf()\n",
    "semilogy(time*1e3,Temp)\n"
   ]
  },
  {
   "cell_type": "code",
   "execution_count": 7,
   "id": "d973298a",
   "metadata": {},
   "outputs": [],
   "source": [
    "x0 = (time[i:]-time[i])*1e3\n",
    "y0 = log10(Temp[i:])\n",
    "imax = argmax(diff(y0))"
   ]
  },
  {
   "cell_type": "raw",
   "id": "5fa3c9f2",
   "metadata": {},
   "source": [
    "I need to plot heating rate vs T"
   ]
  },
  {
   "cell_type": "markdown",
   "id": "37c4cfeb",
   "metadata": {},
   "source": [
    "$$\n",
    "T(t, a,b,c,d)= 10^{\\frac{a(t-t_0)}{(c+(t-t_0)^2)^{d}}+b}\n",
    "$$"
   ]
  },
  {
   "cell_type": "code",
   "execution_count": 8,
   "id": "3491984f",
   "metadata": {},
   "outputs": [],
   "source": [
    "def func2(t, t0, A, B,  C, D):\n",
    "    return A*(t-t0) / (C+(t-t0)**2)**D + B\n",
    "\n",
    "def dfunc2_dt(t, t0, A, B,  C, D):\n",
    "    return 10**(A*(C + (t - t0)**2)**(-D)*(t - t0) + B)*(-A*D*(C + (t - t0)**2)**(-D)*(t - t0)*(2*t - 2*t0)/(C + (t - t0)**2) + A*(C + (t - t0)**2)**(-D))*log(10)"
   ]
  },
  {
   "cell_type": "code",
   "execution_count": 9,
   "id": "41f971b6",
   "metadata": {},
   "outputs": [
    {
     "name": "stderr",
     "output_type": "stream",
     "text": [
      "/tmp/ipykernel_204157/3628520452.py:2: RuntimeWarning: invalid value encountered in power\n",
      "  return A*(t-t0) / (C+(t-t0)**2)**D + B\n"
     ]
    }
   ],
   "source": [
    "t0 = x0[imax]\n",
    "A  = 1\n",
    "B  = 0\n",
    "C  = 1\n",
    "D  = 1/2.5\n",
    "p0 = array([t0,A, B,  C, D])\n",
    "popt, pcov = curve_fit(func2, x0, y0, p0)\n",
    "t0, A, B, C, D = popt[0], popt[1], popt[2], popt[3], popt[4]\n",
    "y1 = func2(x0,t0, A, B, C, D)\n",
    "Temp_fit = 10**(y1)\n",
    "\n",
    "dt = (x0[1] - x0[0])*1e-3 # Because I had put x0 in ms\n",
    "dT_dt = 1e3*dfunc2_dt(x0,t0, A, B, C, D)"
   ]
  },
  {
   "cell_type": "code",
   "execution_count": 10,
   "id": "567acbaf",
   "metadata": {},
   "outputs": [
    {
     "data": {
      "text/plain": [
       "0.00022282844374599367"
      ]
     },
     "execution_count": 10,
     "metadata": {},
     "output_type": "execute_result"
    }
   ],
   "source": [
    "C"
   ]
  },
  {
   "cell_type": "code",
   "execution_count": 11,
   "id": "0c49357c",
   "metadata": {},
   "outputs": [
    {
     "name": "stdout",
     "output_type": "stream",
     "text": [
      "4.652893009076305\n"
     ]
    }
   ],
   "source": [
    "tmax = t0 + sqrt(0.80445*C)\n",
    "dT_dt_tmax = 1.0e3*dfunc2_dt(tmax,t0, A, B, C, D)\n",
    "T_tmax     = 10**func2(tmax,t0, A, B, C, D)\n",
    "# dT_dt_tmax = (10**(B + 2**(-D)*A*C**(1/2 - D))*2**(-D)*A*C**(-D)*(1 - D)*log(10))*1e3\n",
    "# T_tmax     = 10**(B + 2**(-D)*A*C**(1/2 - D))\n",
    "\n",
    "print(T_tmax)"
   ]
  },
  {
   "cell_type": "code",
   "execution_count": 12,
   "id": "64627424",
   "metadata": {},
   "outputs": [
    {
     "name": "stdout",
     "output_type": "stream",
     "text": [
      "0.724528316786703\n"
     ]
    }
   ],
   "source": [
    "dT_dt_tmax2 = 1.0e3*dfunc2_dt(t0,t0, A, B, C, D)\n",
    "T_tmax2     = 10**func2(t0,t0, A, B, C, D)\n",
    "print(T_tmax2)"
   ]
  },
  {
   "cell_type": "code",
   "execution_count": 13,
   "id": "a1f55252",
   "metadata": {},
   "outputs": [
    {
     "data": {
      "text/plain": [
       "2.196205441060345"
      ]
     },
     "execution_count": 13,
     "metadata": {},
     "output_type": "execute_result"
    }
   ],
   "source": [
    "tmax3 = t0 + 0.5*sqrt(3)*sqrt(C)/sqrt(abs(2*D - 1))\n",
    "dT_dt_tmax3 = 1.0e3*dfunc2_dt(tmax3,t0, A, B, C, D)\n",
    "T_tmax3     = 10**func2(tmax3,t0, A, B, C, D)\n",
    "tmax3"
   ]
  },
  {
   "cell_type": "code",
   "execution_count": 14,
   "id": "f0d4ef09",
   "metadata": {},
   "outputs": [
    {
     "data": {
      "text/plain": [
       "-0.07742560666066543j"
      ]
     },
     "execution_count": 14,
     "metadata": {},
     "output_type": "execute_result"
    }
   ],
   "source": [
    "sqrt(3)*sqrt(C)/(1j*sqrt((1-2*D)))"
   ]
  },
  {
   "cell_type": "code",
   "execution_count": 15,
   "id": "f23d0dfc",
   "metadata": {},
   "outputs": [
    {
     "data": {
      "text/plain": [
       "0.013388589976971677"
      ]
     },
     "execution_count": 15,
     "metadata": {},
     "output_type": "execute_result"
    }
   ],
   "source": [
    "tmax -t0"
   ]
  },
  {
   "cell_type": "code",
   "execution_count": 16,
   "id": "0399d410",
   "metadata": {},
   "outputs": [
    {
     "data": {
      "text/plain": [
       "[<matplotlib.lines.Line2D at 0x7f7f49e25fc0>]"
      ]
     },
     "execution_count": 16,
     "metadata": {},
     "output_type": "execute_result"
    },
    {
     "data": {
      "image/png": "[encoded data removed]",
      "text/plain": [
       "<Figure size 432x288 with 1 Axes>"
      ]
     },
     "metadata": {
      "needs_background": "light"
     },
     "output_type": "display_data"
    }
   ],
   "source": [
    "m = linspace(0.8, 0.9, 1000)\n",
    "test = (C*(m + 1))**(-D - 4)*(A*C**4*(m + 1)**2*(2*D*m - m - 1)**2*log(10) + 2*C**(3/2)*D*sqrt(m)*(C*(m + 1))**(D + 2)*(2*D*m - m - 3))\n",
    "figure('test'); clf();\n",
    "semilogy(m,abs(test))"
   ]
  },
  {
   "cell_type": "code",
   "execution_count": 19,
   "id": "92c5f487",
   "metadata": {},
   "outputs": [],
   "source": [
    "figure(3); clf()\n",
    "subplot(221)\n",
    "semilogy(x0,Temp[i:], label='Data')\n",
    "semilogy(x0,Temp_fit , label='Fit')\n",
    "grid()\n",
    "xlabel('time[ms]')\n",
    "ylabel('Temperature[K]')\n",
    "\n",
    "subplot(223)\n",
    "semilogy(x0,dT_dt*1e-3,label='x/(1+x^2)')\n",
    "semilogy(tmax,dT_dt_tmax*1e-3,'o',label='x/(1+x^2)')\n",
    "semilogy(t0,dT_dt_tmax2*1e-3,'s',label='x/(1+x^2)')\n",
    "xlabel('time[ms]')\n",
    "ylabel('Heating Rate [K/ms]')\n",
    "grid()\n",
    "\n",
    "subplot(222)\n",
    "semilogx(Temp_fit, dT_dt*1e-3 )\n",
    "semilogx(T_tmax, dT_dt_tmax*1e-3,'o')\n",
    "semilogx(T_tmax2, dT_dt_tmax2*1e-3,'s')\n",
    "xlabel('T[K]')\n",
    "ylabel('Heating Rate [K/ms]')\n",
    "grid()\n",
    "\n",
    "subplot(224)\n",
    "semilogx(Temp_fit, dT_dt*1e-3/Temp_fit )\n",
    "semilogx(T_tmax, dT_dt_tmax*1e-3/T_tmax,'o')\n",
    "semilogx(T_tmax2, dT_dt_tmax2*1e-3/T_tmax2,'s')\n",
    "xlabel('T[K]')\n",
    "ylabel('Heating Rate [K/ms] / T[K]')\n",
    "grid()"
   ]
  },
  {
   "cell_type": "code",
   "execution_count": 20,
   "id": "5634648a",
   "metadata": {},
   "outputs": [],
   "source": [
    "savefig('Heating_Rate_from_Fit.png')"
   ]
  },
  {
   "cell_type": "code",
   "execution_count": null,
   "id": "ddfe65f6",
   "metadata": {},
   "outputs": [],
   "source": []
  }
 ],
 "metadata": {
  "kernelspec": {
   "display_name": "Python 3 (ipykernel)",
   "language": "python",
   "name": "python3"
  },
  "language_info": {
   "codemirror_mode": {
    "name": "ipython",
    "version": 3
   },
   "file_extension": ".py",
   "mimetype": "text/x-python",
   "name": "python",
   "nbconvert_exporter": "python",
   "pygments_lexer": "ipython3",
   "version": "3.10.4"
  }
 },
 "nbformat": 4,
 "nbformat_minor": 5
}
