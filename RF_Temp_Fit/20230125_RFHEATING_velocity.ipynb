{
 "cells": [
  {
   "cell_type": "code",
   "execution_count": 1,
   "id": "81a632e6",
   "metadata": {},
   "outputs": [
    {
     "data": {
      "text/html": [
       "<style>.container { width:95% !important; }</style>"
      ],
      "text/plain": [
       "<IPython.core.display.HTML object>"
      ]
     },
     "metadata": {},
     "output_type": "display_data"
    },
    {
     "name": "stdout",
     "output_type": "stream",
     "text": [
      "Using matplotlib backend: TkAgg\n",
      "Populating the interactive namespace from numpy and matplotlib\n"
     ]
    }
   ],
   "source": [
    "from IPython.display import display, HTML\n",
    "display(HTML(\"<style>.container { width:95% !important; }</style>\"))\n",
    "%pylab\n",
    "from scipy.optimize import curve_fit\n",
    "\n",
    "import tkinter as tk\n",
    "from tkinter import filedialog\n",
    "\n",
    "import os\n",
    "\n",
    "from scipy import signal\n",
    "1\n",
    "from IPython.display import display, HTML\n",
    "2\n",
    "display(HTML(\"<style>.container { width:95% !important; }</style>\"))\n",
    "3\n",
    "%pylab\n",
    "4\n",
    "from scipy.optimize import curve_fit\n",
    "5\n",
    "​\n",
    "6\n",
    "import tkinter as tk\n",
    "7\n",
    "from tkinter import filedialog\n",
    "8\n",
    "​\n",
    "9\n",
    "import os\n",
    "10\n",
    "​\n",
    "11\n",
    "from scipy import signal\n",
    "12\n",
    "import scipy.integrate as integrate\n",
    "13\n",
    "import matplotlib.ticker as ticker\n",
    "14\n",
    "​\n",
    "15\n",
    "# %matplotlib qt\n",
    "16\n",
    "​\n",
    "17\n",
    "%run functions\n",
    "18\n",
    "matplotlib.rcParams.update({'font.size': 25})\n",
    "19\n",
    "# cm = pylab.get_cmap('tab10')\n",
    "20\n",
    "# cm2 = pylab.get_cmap('Set1')\n",
    "21\n",
    "cm = pylab.get_cmap('turbo')\n",
    "import scipy.integrate as integrate\n",
    "import matplotlib.ticker as ticker\n",
    "\n",
    "# %matplotlib qt\n",
    "\n",
    "%run functions\n",
    "matplotlib.rcParams.update({'font.size': 25})\n",
    "# cm = pylab.get_cmap('tab10')\n",
    "# cm2 = pylab.get_cmap('Set1')\n",
    "cm = pylab.get_cmap('turbo')"
   ]
  },
  {
   "cell_type": "code",
   "execution_count": 2,
   "id": "e33606e9",
   "metadata": {},
   "outputs": [
    {
     "name": "stdout",
     "output_type": "stream",
     "text": [
      "$\\kappa_{simion}$ = 0.270471\n"
     ]
    }
   ],
   "source": [
    "# Constantes de la physique\n",
    "# ABSOLUMENT RECHARGER APRÈS AVOIR EXECUTÉ LES CASES D'IMPORT AU DESSUS\n",
    "\n",
    "C_e = 1.602e-19        # Coulomb\n",
    "kb = 1.38064852*1e-23  # Boltzman\n",
    "m_Ca = 40.078*1.66054e-27 # masse Ca 40.078\n",
    "m_GM = 1e6*1.66054e-27 # la masse de la GMol\n",
    "eps0 = 8.854187*1e-12  # permittivité électrique du vide\n",
    "\n",
    "r0 = 2.5e-3 # 2.5e-3   # rayon piège Ca+\n",
    "d0 = 4e-3/2            # longueur piège Ca+\n",
    "\n",
    "Omega = 2.0e6*2*pi # 2.047e6\n",
    "tauRF = 1/(Omega/2/pi)\n",
    "\n",
    "bk = 4 # nombre de barreaux par groupe (2 -> 4-pole , 4 -> 8-pole ...)\n",
    "\n",
    "mkappa = 0.23          # écrantage piège réel GiantMol\n",
    "\n",
    "wzLC = (2*pi*90806.9982303)**2\n",
    "kappa_simion = m_Ca*d0**2*wzLC/(2*C_e)\n",
    "print('%s = %f' % ('$\\kappa_{simion}$',kappa_simion) )\n",
    "\n",
    "zeta = kappa_simion*r0**2/d0**2"
   ]
  },
  {
   "cell_type": "code",
   "execution_count": 347,
   "id": "cab16fcd",
   "metadata": {},
   "outputs": [],
   "source": [
    "n_dt = 500\n",
    "n_save_trj = 50"
   ]
  },
  {
   "cell_type": "code",
   "execution_count": 541,
   "id": "9363b0e0",
   "metadata": {},
   "outputs": [],
   "source": [
    "def MB_dist_i(T,vi):\n",
    "    deuxkT = 2*kb*T\n",
    "    dv = diff(vi)[2]\n",
    "    return sqrt(m_Ca/(deuxkT*pi))*exp(-m_Ca*vi**2/deuxkT)\n",
    "def MB_dist(T,v):\n",
    "    deuxkT = 2*kb*T\n",
    "    dv = diff(v)[2]\n",
    "    return sqrt(2/pi)*(m_Ca/(kb*T))**(3/2)*v**2*exp(-m_Ca*v**2/deuxkT)"
   ]
  },
  {
   "cell_type": "code",
   "execution_count": 293,
   "id": "a33765c6",
   "metadata": {},
   "outputs": [],
   "source": [
    "# To load pos and velocity in time\n",
    "# stored in a binary file\n",
    "def load_xv(filename):\n",
    "    fid = open(filename, 'rb')\n",
    "    junk = fromfile(fid, int32,1)        # Read record start tag\n",
    "    n_ions  = fromfile(fid, int32, 1)\n",
    "    print(n_ions)\n",
    "    junk = fromfile(fid, int32,1)        # Read record stop tag\n",
    "\n",
    "    junk = fromfile(fid, int32,1)        # Read record start tag\n",
    "    allocate  = fromfile(fid, int32, 1)\n",
    "    print(allocate)\n",
    "    junk = fromfile(fid, int32,1)        # Read record stop tag\n",
    "    \n",
    "    junk = fromfile(fid, int32,1)        # Read record start tag\n",
    "    j_save_temp  = fromfile(fid, int32, 1);\n",
    "    print(j_save_temp)\n",
    "    junk = fromfile(fid, int32,1)        # Read record stop tag\n",
    "\n",
    "    junk = fromfile(fid, int32,1)        # Read record start tag\n",
    "    print(junk)\n",
    "    ri_vi  = fromfile(fid, float64, junk[0]//8);\n",
    "    junk = fromfile(fid, int32,1)        # Read record stop tag\n",
    "    print(junk)\n",
    "\n",
    "    fid.close\n",
    "    print(junk[0]//8//6//n_ions[0])\n",
    "\n",
    "    ri_vi = reshape(ri_vi, (n_ions[0],6, junk[0]//8//6//n_ions[0]),order='F')\n",
    "    return n_ions, allocate, j_save_temp, ri_vi\n",
    "\n",
    "# 24576000 = 1024*6*500*8"
   ]
  },
  {
   "cell_type": "code",
   "execution_count": 305,
   "id": "70c081e3",
   "metadata": {},
   "outputs": [],
   "source": [
    "# load temperature of the cloud as save in .dat\n",
    "file_path = '/home/adrien/RemoteFS/Rivendel/Simulations/20230125'\n",
    "all_subdir = []\n",
    "all_Temp = []\n",
    "all_trjN = []\n",
    "all_trj1 = []\n",
    "all_xva_3DHarmo = []\n",
    "all_xva_start = []\n",
    "\n",
    "# selection of all directories where\n",
    "# there are data files\n",
    "for i,j in enumerate(os.walk(file_path)):\n",
    "    if 'Try' in j[0]:\n",
    "        all_subdir.append(j[0])\n",
    "    # selection of all data files\n",
    "    # interesting me\n",
    "    for k,l in enumerate(j[2]):\n",
    "        if 'TrjN' in l:\n",
    "            all_trjN.append(j[0]+'/'+l)\n",
    "        if 'Trj1' in l:\n",
    "            all_trj1.append(j[0]+'/'+l)\n",
    "            #print(l)\n",
    "        if 'SimuType0' and '.dat' in l:\n",
    "            all_Temp.append(j[0]+'/'+l)\n",
    "        if 'xva_3D' in l:\n",
    "            all_xva_3DHarmo.append(j[0]+'/'+l)\n",
    "        if 'xva_start' in l:\n",
    "            all_xva_start.append(j[0]+'/'+l)\n",
    "        #print(j[0],'\\n')\n",
    "all_subdir.sort()\n",
    "all_Temp.sort()\n",
    "all_xva_3DHarmo.sort()\n",
    "all_xva_start.sort()\n",
    "all_trjN.sort()\n",
    "# for i in range(len(all_subdir)):\n",
    "#     print(all_subdir[i],'\\n',all_Temp[i],'\\n',all_trjN[i],'\\n')"
   ]
  },
  {
   "cell_type": "code",
   "execution_count": 306,
   "id": "1e1e51d0",
   "metadata": {},
   "outputs": [
    {
     "name": "stdout",
     "output_type": "stream",
     "text": [
      "DC10_RF10\n"
     ]
    }
   ],
   "source": [
    "for j,k in enumerate(all_subdir):\n",
    "    str_N  = all_Temp[j].find('_N')\n",
    "    cond_N = all_Temp[j][str_N+3:str_N+7]\n",
    "    str_v  = all_subdir[j].find('DC')\n",
    "    cond   = all_Temp[j][str_v:str_v+9]\n",
    "    print(cond)\n",
    "#     outfile = 'Time_and_temp_RFHEAT_N'+ str(cond_N) + '_alphavar_' + str(cond)\n",
    "    \n",
    "    data = loadtxt(all_Temp[j])\n",
    "    time_s = data[:,0]\n",
    "    T_CM = data[:,1:4]\n",
    "    T_aux = data[:,4:]\n",
    "    T_aux_avg = mean(T_aux,axis=1)\n",
    "    save_xva = load_xyz_init_bin_DP(all_xva_start[j].strip('.bin'))\n",
    "    alpha = max(sqrt(save_xva[0]**2+save_xva[1]**2))/max(save_xva[2])\n",
    "    #r2    = r2_v2[0:3,:]\n",
    "    #v2    = r2_v2[3:6,:]\n",
    "    #rlim  = r2_v2[6:9,:]\n",
    "    \n",
    "#     np.savez( outfile, time=time_s, temp=T_aux_avg, r2_v2_rlim=r2_v2, alpha=alpha) # dirname_hc=re.sub(r'\\\\',r'/',dirname_hc)\n",
    "#     print(outfile) # , r2_v2_rlim=r2_v2"
   ]
  },
  {
   "cell_type": "code",
   "execution_count": 309,
   "id": "7a8d96e3",
   "metadata": {},
   "outputs": [],
   "source": [
    "# plot temperature\n",
    "figname = 'T_vs_time'\n",
    "figure(figname,clear='True')\n",
    "#xlim(0.8,6)\n",
    "ax1 = subplot(111)\n",
    "ax1.grid()\n",
    "ax1.semilogy(time_s*1e3, T_aux_avg ,label=r'$T$',color='C0',lw=2)\n",
    "# ax1.semilogy(time_s*1e3, T_aux[:,0],color='C2')\n",
    "# ax1.semilogy(time_s*1e3, T_aux[:,2],color='C9')\n",
    "ax1.semilogy(time_s[::n_save_trj][1:]*1e3, T_aux_avg[::n_save_trj][1:] ,label=r'$T$',color='C2',marker='P',ls='')\n",
    "tight_layout()\n",
    "# subplots_adjust(top=0.93,\n",
    "# bottom=0.21)\n",
    "# savefig(figname+'1024.eps',dpi=300)"
   ]
  },
  {
   "cell_type": "code",
   "execution_count": 304,
   "id": "d5a62090",
   "metadata": {},
   "outputs": [
    {
     "name": "stdout",
     "output_type": "stream",
     "text": [
      "[1024]\n",
      "[9935]\n",
      "[64]\n",
      "[491520000]\n",
      "[491520000]\n",
      "10000\n"
     ]
    }
   ],
   "source": [
    "dirname = '/home/adrien/RemoteFS/Rivendel/Simulations/20230125/DC10_RF10/Try00'\n",
    "filename = '/xva_SimuType0_N01024_Vrf0065_Udc0.1508D+02V_nt1000_TrjN.bin'\n",
    "n_ions, allocate, j_save_temp, ri_vi = load_xv(dirname+filename)"
   ]
  },
  {
   "cell_type": "code",
   "execution_count": 317,
   "id": "bab4cfe1",
   "metadata": {},
   "outputs": [],
   "source": [
    "# ri_vi = ri_vi/n_dt"
   ]
  },
  {
   "cell_type": "markdown",
   "id": "82c1fb60",
   "metadata": {},
   "source": [
    "# T = 1.00e-02\n",
    "for `time_to_plot = 2`"
   ]
  },
  {
   "cell_type": "code",
   "execution_count": 620,
   "id": "ecb389b8",
   "metadata": {},
   "outputs": [
    {
     "name": "stdout",
     "output_type": "stream",
     "text": [
      "[64]\n",
      "0.001050624\n"
     ]
    }
   ],
   "source": [
    "print(j_save_temp)\n",
    "time_to_plot = 2\n",
    "print(time_s[::50][time_to_plot])"
   ]
  },
  {
   "cell_type": "code",
   "execution_count": 614,
   "id": "0d92f0fd",
   "metadata": {},
   "outputs": [],
   "source": [
    "# plot ions positions\n",
    "figname = 'y_vs_x'\n",
    "figure(figname,clear='True')\n",
    "#xlim(0.8,6)\n",
    "ax1 = subplot(111)\n",
    "ax1.grid()\n",
    "ax1.plot(ri_vi[:,0,time_to_plot]*1e6,ri_vi[:,1,time_to_plot]*1e6,label=r'$T$',color='C0',marker='o',ls='')\n",
    "ax1.set_xlabel('x [µm]')\n",
    "ax1.set_ylabel('y [µm]')\n",
    "tight_layout()\n",
    "\n",
    "# subplots_adjust(top=0.93,\n",
    "# bottom=0.21)\n",
    "savefig(f'{figname}_{T:.2e}K_1024.eps',dpi=300)"
   ]
  },
  {
   "cell_type": "code",
   "execution_count": 613,
   "id": "c5785205",
   "metadata": {},
   "outputs": [],
   "source": [
    "# plot pos vs velocity\n",
    "figname = 'vx_vs_x'\n",
    "figure(figname,clear='True')\n",
    "#xlim(0.8,6)\n",
    "ax1 = subplot(111)\n",
    "ax1.grid()\n",
    "ax1.plot(ri_vi[:,0,time_to_plot]*1e6,ri_vi[:,3,time_to_plot],label=r'$T$',color='C0',marker='o',ls='')\n",
    "ax1.set_xlabel('x [µm]')\n",
    "ax1.set_ylabel('$v_x$ [m/s]')\n",
    "tight_layout()\n",
    "# subplots_adjust(top=0.93,\n",
    "# bottom=0.21)\n",
    "savefig(f'{figname}_{T:.2e}K_1024.eps',dpi=300)"
   ]
  },
  {
   "cell_type": "code",
   "execution_count": 612,
   "id": "758e74ba",
   "metadata": {},
   "outputs": [
    {
     "name": "stdout",
     "output_type": "stream",
     "text": [
      "T = 1.00e-02 K\n"
     ]
    }
   ],
   "source": [
    "# plot pos vs velocity x direction\n",
    "vi = arange(-5,5,0.5)\n",
    "T = T_aux[::n_save_trj][time_to_plot+1][0]\n",
    "figname = 'vx_hist'\n",
    "figure(figname,clear='True')\n",
    "#xlim(0.8,6)\n",
    "ax1 = subplot(111)\n",
    "ax1.grid()\n",
    "ax1.hist(ri_vi[:,3,time_to_plot], bins=arange(-10,10,0.5),ec='k') # bins='auto'\n",
    "ax1.plot(vi,MB_dist_i(T,vi)*1024*0.5)\n",
    "ax1.set_xlabel('$v_x$ [m/s]')\n",
    "print(f'T = {T:.2e} K')\n",
    "# ax1.set_ylabel('$v_x$ [m/s]')\n",
    "ax1.set_xlim(-5,5)\n",
    "tight_layout()\n",
    "# subplots_adjust(top=0.93,\n",
    "# bottom=0.21)\n",
    "savefig(f'{figname}_{T:.2e}K_1024.eps',dpi=300)"
   ]
  },
  {
   "cell_type": "code",
   "execution_count": 526,
   "id": "f9a26e53",
   "metadata": {},
   "outputs": [
    {
     "data": {
      "text/plain": [
       "0.9994820403782344"
      ]
     },
     "execution_count": 526,
     "metadata": {},
     "output_type": "execute_result"
    }
   ],
   "source": [
    "sum(MB_dist_i(T,vi))"
   ]
  },
  {
   "cell_type": "code",
   "execution_count": 610,
   "id": "26e6dbd9",
   "metadata": {},
   "outputs": [
    {
     "name": "stdout",
     "output_type": "stream",
     "text": [
      "T = 2.18e-03 K\n"
     ]
    }
   ],
   "source": [
    "# plot pos vs velocity z direction\n",
    "vi = arange(-10,10,0.1)\n",
    "T = T_aux[::n_save_trj][time_to_plot+1][2]\n",
    "figname = 'vz_hist'\n",
    "figure(figname,clear='True')\n",
    "#xlim(0.8,6)\n",
    "ax1 = subplot(111)\n",
    "ax1.grid()\n",
    "ax1.hist(ri_vi[:,5,time_to_plot], bins=arange(-10,10,0.1),ec='k') # bins='auto'\n",
    "ax1.plot(vi,MB_dist_i(T,vi)*1024*0.1)\n",
    "ax1.set_xlabel('$v_z$ [m/s]')\n",
    "print(f'T = {T:.2e} K')\n",
    "# ax1.set_ylabel('$v_x$ [m/s]')\n",
    "ax1.set_xlim(-2.5,2.5)\n",
    "tight_layout()\n",
    "# subplots_adjust(top=0.93,\n",
    "# bottom=0.21)\n",
    "savefig(f'{figname}_{T:.2e}K_1024.eps',dpi=300)"
   ]
  },
  {
   "cell_type": "code",
   "execution_count": 573,
   "id": "f2897b33",
   "metadata": {},
   "outputs": [
    {
     "data": {
      "text/plain": [
       "1.0000000000000036"
      ]
     },
     "execution_count": 573,
     "metadata": {},
     "output_type": "execute_result"
    }
   ],
   "source": [
    "sum(MB_dist_i(T,vi))*0.1"
   ]
  },
  {
   "cell_type": "code",
   "execution_count": 621,
   "id": "4af3d3b9",
   "metadata": {},
   "outputs": [
    {
     "name": "stdout",
     "output_type": "stream",
     "text": [
      "T = 4.42e-03 K\n"
     ]
    }
   ],
   "source": [
    "# plot pos vs velocity one direction\n",
    "v = arange(0,5,0.1)\n",
    "T = T_aux_avg[::n_save_trj][time_to_plot+1]\n",
    "figname = 'v_hist'\n",
    "figure(figname,clear='True')\n",
    "#xlim(0.8,6)\n",
    "ax1 = subplot(111)\n",
    "ax1.grid()\n",
    "ax1.hist(sqrt(sum(ri_vi[:,3:,time_to_plot]**2,axis=1)), bins=arange(-10,10,0.1),ec='k') # bins='auto'\n",
    "ax1.plot(v,MB_dist(T,v)*1024*0.1)\n",
    "ax1.set_xlabel('$v$ [m/s]')\n",
    "print(f'T = {T:.2e} K')\n",
    "# ax1.set_ylabel('$v_x$ [m/s]')\n",
    "ax1.set_xlim(-1,5)\n",
    "tight_layout()\n",
    "# subplots_adjust(top=0.93,\n",
    "# bottom=0.21)\n",
    "savefig(f'{figname}_{T:.2e}K_1024.eps',dpi=300)"
   ]
  },
  {
   "cell_type": "code",
   "execution_count": 515,
   "id": "bfad715e",
   "metadata": {},
   "outputs": [
    {
     "data": {
      "text/plain": [
       "1.0000000000000002"
      ]
     },
     "execution_count": 515,
     "metadata": {},
     "output_type": "execute_result"
    }
   ],
   "source": [
    "sum(MB_dist(T,v))"
   ]
  },
  {
   "cell_type": "code",
   "execution_count": null,
   "id": "312b0d89",
   "metadata": {},
   "outputs": [],
   "source": []
  },
  {
   "cell_type": "markdown",
   "id": "4222ec93",
   "metadata": {},
   "source": [
    "# T = 1.00e-02\n",
    "for `time_to_plot = 58`"
   ]
  },
  {
   "cell_type": "code",
   "execution_count": 622,
   "id": "60c44675",
   "metadata": {},
   "outputs": [
    {
     "name": "stdout",
     "output_type": "stream",
     "text": [
      "[64]\n",
      "0.002450624\n"
     ]
    }
   ],
   "source": [
    "print(j_save_temp)\n",
    "time_to_plot = 58\n",
    "print(time_s[::50][time_to_plot])"
   ]
  },
  {
   "cell_type": "code",
   "execution_count": 606,
   "id": "ed909e35",
   "metadata": {},
   "outputs": [],
   "source": [
    "# plot ions positions\n",
    "figname = 'y_vs_x'\n",
    "figure(figname,clear='True')\n",
    "#xlim(0.8,6)\n",
    "ax1 = subplot(111)\n",
    "ax1.grid()\n",
    "ax1.plot(ri_vi[:,0,time_to_plot]*1e6,ri_vi[:,1,time_to_plot]*1e6,label=r'$T$',color='C0',marker='o',ls='')\n",
    "ax1.set_xlabel('x [µm]')\n",
    "ax1.set_ylabel('y [µm]')\n",
    "tight_layout()\n",
    "\n",
    "# subplots_adjust(top=0.93,\n",
    "# bottom=0.21)\n",
    "savefig(f'{figname}_{T:.2e}K_1024.eps',dpi=300)"
   ]
  },
  {
   "cell_type": "code",
   "execution_count": 604,
   "id": "0c2b6712",
   "metadata": {},
   "outputs": [],
   "source": [
    "# plot pos vs velocity\n",
    "figname = 'vx_vs_x'\n",
    "figure(figname,clear='True')\n",
    "#xlim(0.8,6)\n",
    "ax1 = subplot(111)\n",
    "ax1.grid()\n",
    "ax1.plot(ri_vi[:,0,time_to_plot]*1e6,ri_vi[:,3,time_to_plot],label=r'$T$',color='C0',marker='o',ls='')\n",
    "ax1.set_xlabel('x [µm]')\n",
    "ax1.set_ylabel('$v_x$ [m/s]')\n",
    "tight_layout()\n",
    "# subplots_adjust(top=0.93,\n",
    "# bottom=0.21)\n",
    "savefig(f'{figname}_{T:.2e}K_1024.eps',dpi=300)"
   ]
  },
  {
   "cell_type": "code",
   "execution_count": 603,
   "id": "d1151884",
   "metadata": {},
   "outputs": [
    {
     "name": "stdout",
     "output_type": "stream",
     "text": [
      "T = 2.85e+00 K\n"
     ]
    }
   ],
   "source": [
    "# plot pos vs velocity x direction\n",
    "vi = arange(-75,75,5)\n",
    "T = T_aux[::n_save_trj][time_to_plot+1][0]\n",
    "figname = 'vx_hist'\n",
    "figure(figname,clear='True')\n",
    "#xlim(0.8,6)\n",
    "ax1 = subplot(111)\n",
    "ax1.grid()\n",
    "ax1.hist(ri_vi[:,3,time_to_plot], bins=arange(-100,100,5),ec='k') # bins='auto'\n",
    "ax1.plot(vi,MB_dist_i(T,vi)*1024*5)\n",
    "ax1.set_xlabel('$v_x$ [m/s]')\n",
    "print(f'T = {T:.2e} K')\n",
    "# ax1.set_ylabel('$v_x$ [m/s]')\n",
    "ax1.set_xlim(-90,90)\n",
    "tight_layout()\n",
    "# subplots_adjust(top=0.93,\n",
    "# bottom=0.21)\n",
    "savefig(f'{figname}_{T:.2e}K_1024.eps',dpi=300)"
   ]
  },
  {
   "cell_type": "code",
   "execution_count": 602,
   "id": "9fcc5dcf",
   "metadata": {},
   "outputs": [
    {
     "name": "stdout",
     "output_type": "stream",
     "text": [
      "T = 4.02e+00 K\n"
     ]
    }
   ],
   "source": [
    "# plot pos vs velocity z direction\n",
    "vi = arange(-100,100,5)\n",
    "T = T_aux[::n_save_trj][time_to_plot+1][2]\n",
    "figname = 'vz_hist'\n",
    "figure(figname,clear='True')\n",
    "#xlim(0.8,6)\n",
    "ax1 = subplot(111)\n",
    "ax1.grid()\n",
    "ax1.hist(ri_vi[:,5,time_to_plot], bins=arange(-100,100,5),ec='k') # bins='auto'\n",
    "ax1.plot(vi,MB_dist_i(T,vi)*1024*5)\n",
    "ax1.set_xlabel('$v_z$ [m/s]')\n",
    "print(f'T = {T:.2e} K')\n",
    "# ax1.set_ylabel('$v_x$ [m/s]')\n",
    "ax1.set_xlim(-100,100)\n",
    "tight_layout()\n",
    "# subplots_adjust(top=0.93,\n",
    "# bottom=0.21)\n",
    "savefig(f'{figname}_{T:.2e}K_1024.eps',dpi=300)"
   ]
  },
  {
   "cell_type": "code",
   "execution_count": 623,
   "id": "ca6daba3",
   "metadata": {},
   "outputs": [
    {
     "name": "stdout",
     "output_type": "stream",
     "text": [
      "T = 3.18e+00 K\n"
     ]
    }
   ],
   "source": [
    "# plot pos vs velocity one direction\n",
    "v = arange(0,250,5)\n",
    "T = T_aux_avg[::n_save_trj][time_to_plot+1]\n",
    "figname = 'v_hist'\n",
    "figure(figname,clear='True')\n",
    "#xlim(0.8,6)\n",
    "ax1 = subplot(111)\n",
    "ax1.grid()\n",
    "ax1.hist(sqrt(sum(ri_vi[:,3:,time_to_plot]**2,axis=1)), bins=arange(-100,100,5),ec='k') # bins='auto'\n",
    "ax1.plot(v,MB_dist(T,v)*1024*5)\n",
    "ax1.set_xlabel('$v$ [m/s]')\n",
    "print(f'T = {T:.2e} K')\n",
    "# ax1.set_ylabel('$v_x$ [m/s]')\n",
    "ax1.set_xlim(-1,100)\n",
    "tight_layout()\n",
    "# subplots_adjust(top=0.93,\n",
    "# bottom=0.21)\n",
    "savefig(f'{figname}_{T:.2e}K_1024.eps',dpi=300)"
   ]
  }
 ],
 "metadata": {
  "kernelspec": {
   "display_name": "Python 3 (ipykernel)",
   "language": "python",
   "name": "python3"
  },
  "language_info": {
   "codemirror_mode": {
    "name": "ipython",
    "version": 3
   },
   "file_extension": ".py",
   "mimetype": "text/x-python",
   "name": "python",
   "nbconvert_exporter": "python",
   "pygments_lexer": "ipython3",
   "version": "3.10.6"
  }
 },
 "nbformat": 4,
 "nbformat_minor": 5
}
