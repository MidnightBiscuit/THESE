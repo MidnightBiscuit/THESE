{
 "cells": [
  {
   "cell_type": "code",
   "execution_count": 1,
   "id": "2fdfc08b",
   "metadata": {},
   "outputs": [
    {
     "ename": "ModuleNotFoundError",
     "evalue": "No module named 'watermark'",
     "output_type": "error",
     "traceback": [
      "\u001b[0;31m---------------------------------------------------------------------------\u001b[0m",
      "\u001b[0;31mModuleNotFoundError\u001b[0m                       Traceback (most recent call last)",
      "\u001b[0;32m/tmp/ipykernel_8733/323679751.py\u001b[0m in \u001b[0;36m<module>\u001b[0;34m\u001b[0m\n\u001b[0;32m----> 1\u001b[0;31m \u001b[0mget_ipython\u001b[0m\u001b[0;34m(\u001b[0m\u001b[0;34m)\u001b[0m\u001b[0;34m.\u001b[0m\u001b[0mrun_line_magic\u001b[0m\u001b[0;34m(\u001b[0m\u001b[0;34m'load_ext'\u001b[0m\u001b[0;34m,\u001b[0m \u001b[0;34m'watermark'\u001b[0m\u001b[0;34m)\u001b[0m\u001b[0;34m\u001b[0m\u001b[0;34m\u001b[0m\u001b[0m\n\u001b[0m\u001b[1;32m      2\u001b[0m \u001b[0mget_ipython\u001b[0m\u001b[0;34m(\u001b[0m\u001b[0;34m)\u001b[0m\u001b[0;34m.\u001b[0m\u001b[0mrun_line_magic\u001b[0m\u001b[0;34m(\u001b[0m\u001b[0;34m'watermark'\u001b[0m\u001b[0;34m,\u001b[0m \u001b[0;34m''\u001b[0m\u001b[0;34m)\u001b[0m\u001b[0;34m\u001b[0m\u001b[0;34m\u001b[0m\u001b[0m\n",
      "\u001b[0;32m/usr/lib/python3/dist-packages/IPython/core/interactiveshell.py\u001b[0m in \u001b[0;36mrun_line_magic\u001b[0;34m(self, magic_name, line, _stack_depth)\u001b[0m\n\u001b[1;32m   2362\u001b[0m                 \u001b[0mkwargs\u001b[0m\u001b[0;34m[\u001b[0m\u001b[0;34m'local_ns'\u001b[0m\u001b[0;34m]\u001b[0m \u001b[0;34m=\u001b[0m \u001b[0mself\u001b[0m\u001b[0;34m.\u001b[0m\u001b[0mget_local_scope\u001b[0m\u001b[0;34m(\u001b[0m\u001b[0mstack_depth\u001b[0m\u001b[0;34m)\u001b[0m\u001b[0;34m\u001b[0m\u001b[0;34m\u001b[0m\u001b[0m\n\u001b[1;32m   2363\u001b[0m             \u001b[0;32mwith\u001b[0m \u001b[0mself\u001b[0m\u001b[0;34m.\u001b[0m\u001b[0mbuiltin_trap\u001b[0m\u001b[0;34m:\u001b[0m\u001b[0;34m\u001b[0m\u001b[0;34m\u001b[0m\u001b[0m\n\u001b[0;32m-> 2364\u001b[0;31m                 \u001b[0mresult\u001b[0m \u001b[0;34m=\u001b[0m \u001b[0mfn\u001b[0m\u001b[0;34m(\u001b[0m\u001b[0;34m*\u001b[0m\u001b[0margs\u001b[0m\u001b[0;34m,\u001b[0m \u001b[0;34m**\u001b[0m\u001b[0mkwargs\u001b[0m\u001b[0;34m)\u001b[0m\u001b[0;34m\u001b[0m\u001b[0;34m\u001b[0m\u001b[0m\n\u001b[0m\u001b[1;32m   2365\u001b[0m             \u001b[0;32mreturn\u001b[0m \u001b[0mresult\u001b[0m\u001b[0;34m\u001b[0m\u001b[0;34m\u001b[0m\u001b[0m\n\u001b[1;32m   2366\u001b[0m \u001b[0;34m\u001b[0m\u001b[0m\n",
      "\u001b[0;32m<decorator-gen-57>\u001b[0m in \u001b[0;36mload_ext\u001b[0;34m(self, module_str)\u001b[0m\n",
      "\u001b[0;32m/usr/lib/python3/dist-packages/IPython/core/magic.py\u001b[0m in \u001b[0;36m<lambda>\u001b[0;34m(f, *a, **k)\u001b[0m\n\u001b[1;32m    185\u001b[0m     \u001b[0;31m# but it's overkill for just that one bit of state.\u001b[0m\u001b[0;34m\u001b[0m\u001b[0;34m\u001b[0m\u001b[0m\n\u001b[1;32m    186\u001b[0m     \u001b[0;32mdef\u001b[0m \u001b[0mmagic_deco\u001b[0m\u001b[0;34m(\u001b[0m\u001b[0marg\u001b[0m\u001b[0;34m)\u001b[0m\u001b[0;34m:\u001b[0m\u001b[0;34m\u001b[0m\u001b[0;34m\u001b[0m\u001b[0m\n\u001b[0;32m--> 187\u001b[0;31m         \u001b[0mcall\u001b[0m \u001b[0;34m=\u001b[0m \u001b[0;32mlambda\u001b[0m \u001b[0mf\u001b[0m\u001b[0;34m,\u001b[0m \u001b[0;34m*\u001b[0m\u001b[0ma\u001b[0m\u001b[0;34m,\u001b[0m \u001b[0;34m**\u001b[0m\u001b[0mk\u001b[0m\u001b[0;34m:\u001b[0m \u001b[0mf\u001b[0m\u001b[0;34m(\u001b[0m\u001b[0;34m*\u001b[0m\u001b[0ma\u001b[0m\u001b[0;34m,\u001b[0m \u001b[0;34m**\u001b[0m\u001b[0mk\u001b[0m\u001b[0;34m)\u001b[0m\u001b[0;34m\u001b[0m\u001b[0;34m\u001b[0m\u001b[0m\n\u001b[0m\u001b[1;32m    188\u001b[0m \u001b[0;34m\u001b[0m\u001b[0m\n\u001b[1;32m    189\u001b[0m         \u001b[0;32mif\u001b[0m \u001b[0mcallable\u001b[0m\u001b[0;34m(\u001b[0m\u001b[0marg\u001b[0m\u001b[0;34m)\u001b[0m\u001b[0;34m:\u001b[0m\u001b[0;34m\u001b[0m\u001b[0;34m\u001b[0m\u001b[0m\n",
      "\u001b[0;32m/usr/lib/python3/dist-packages/IPython/core/magics/extension.py\u001b[0m in \u001b[0;36mload_ext\u001b[0;34m(self, module_str)\u001b[0m\n\u001b[1;32m     31\u001b[0m         \u001b[0;32mif\u001b[0m \u001b[0;32mnot\u001b[0m \u001b[0mmodule_str\u001b[0m\u001b[0;34m:\u001b[0m\u001b[0;34m\u001b[0m\u001b[0;34m\u001b[0m\u001b[0m\n\u001b[1;32m     32\u001b[0m             \u001b[0;32mraise\u001b[0m \u001b[0mUsageError\u001b[0m\u001b[0;34m(\u001b[0m\u001b[0;34m'Missing module name.'\u001b[0m\u001b[0;34m)\u001b[0m\u001b[0;34m\u001b[0m\u001b[0;34m\u001b[0m\u001b[0m\n\u001b[0;32m---> 33\u001b[0;31m         \u001b[0mres\u001b[0m \u001b[0;34m=\u001b[0m \u001b[0mself\u001b[0m\u001b[0;34m.\u001b[0m\u001b[0mshell\u001b[0m\u001b[0;34m.\u001b[0m\u001b[0mextension_manager\u001b[0m\u001b[0;34m.\u001b[0m\u001b[0mload_extension\u001b[0m\u001b[0;34m(\u001b[0m\u001b[0mmodule_str\u001b[0m\u001b[0;34m)\u001b[0m\u001b[0;34m\u001b[0m\u001b[0;34m\u001b[0m\u001b[0m\n\u001b[0m\u001b[1;32m     34\u001b[0m \u001b[0;34m\u001b[0m\u001b[0m\n\u001b[1;32m     35\u001b[0m         \u001b[0;32mif\u001b[0m \u001b[0mres\u001b[0m \u001b[0;34m==\u001b[0m \u001b[0;34m'already loaded'\u001b[0m\u001b[0;34m:\u001b[0m\u001b[0;34m\u001b[0m\u001b[0;34m\u001b[0m\u001b[0m\n",
      "\u001b[0;32m/usr/lib/python3/dist-packages/IPython/core/extensions.py\u001b[0m in \u001b[0;36mload_extension\u001b[0;34m(self, module_str)\u001b[0m\n\u001b[1;32m     78\u001b[0m             \u001b[0;32mif\u001b[0m \u001b[0mmodule_str\u001b[0m \u001b[0;32mnot\u001b[0m \u001b[0;32min\u001b[0m \u001b[0msys\u001b[0m\u001b[0;34m.\u001b[0m\u001b[0mmodules\u001b[0m\u001b[0;34m:\u001b[0m\u001b[0;34m\u001b[0m\u001b[0;34m\u001b[0m\u001b[0m\n\u001b[1;32m     79\u001b[0m                 \u001b[0;32mwith\u001b[0m \u001b[0mprepended_to_syspath\u001b[0m\u001b[0;34m(\u001b[0m\u001b[0mself\u001b[0m\u001b[0;34m.\u001b[0m\u001b[0mipython_extension_dir\u001b[0m\u001b[0;34m)\u001b[0m\u001b[0;34m:\u001b[0m\u001b[0;34m\u001b[0m\u001b[0;34m\u001b[0m\u001b[0m\n\u001b[0;32m---> 80\u001b[0;31m                     \u001b[0mmod\u001b[0m \u001b[0;34m=\u001b[0m \u001b[0mimport_module\u001b[0m\u001b[0;34m(\u001b[0m\u001b[0mmodule_str\u001b[0m\u001b[0;34m)\u001b[0m\u001b[0;34m\u001b[0m\u001b[0;34m\u001b[0m\u001b[0m\n\u001b[0m\u001b[1;32m     81\u001b[0m                     \u001b[0;32mif\u001b[0m \u001b[0mmod\u001b[0m\u001b[0;34m.\u001b[0m\u001b[0m__file__\u001b[0m\u001b[0;34m.\u001b[0m\u001b[0mstartswith\u001b[0m\u001b[0;34m(\u001b[0m\u001b[0mself\u001b[0m\u001b[0;34m.\u001b[0m\u001b[0mipython_extension_dir\u001b[0m\u001b[0;34m)\u001b[0m\u001b[0;34m:\u001b[0m\u001b[0;34m\u001b[0m\u001b[0;34m\u001b[0m\u001b[0m\n\u001b[1;32m     82\u001b[0m                         print((\"Loading extensions from {dir} is deprecated. \"\n",
      "\u001b[0;32m/usr/lib/python3.10/importlib/__init__.py\u001b[0m in \u001b[0;36mimport_module\u001b[0;34m(name, package)\u001b[0m\n\u001b[1;32m    124\u001b[0m                 \u001b[0;32mbreak\u001b[0m\u001b[0;34m\u001b[0m\u001b[0;34m\u001b[0m\u001b[0m\n\u001b[1;32m    125\u001b[0m             \u001b[0mlevel\u001b[0m \u001b[0;34m+=\u001b[0m \u001b[0;36m1\u001b[0m\u001b[0;34m\u001b[0m\u001b[0;34m\u001b[0m\u001b[0m\n\u001b[0;32m--> 126\u001b[0;31m     \u001b[0;32mreturn\u001b[0m \u001b[0m_bootstrap\u001b[0m\u001b[0;34m.\u001b[0m\u001b[0m_gcd_import\u001b[0m\u001b[0;34m(\u001b[0m\u001b[0mname\u001b[0m\u001b[0;34m[\u001b[0m\u001b[0mlevel\u001b[0m\u001b[0;34m:\u001b[0m\u001b[0;34m]\u001b[0m\u001b[0;34m,\u001b[0m \u001b[0mpackage\u001b[0m\u001b[0;34m,\u001b[0m \u001b[0mlevel\u001b[0m\u001b[0;34m)\u001b[0m\u001b[0;34m\u001b[0m\u001b[0;34m\u001b[0m\u001b[0m\n\u001b[0m\u001b[1;32m    127\u001b[0m \u001b[0;34m\u001b[0m\u001b[0m\n\u001b[1;32m    128\u001b[0m \u001b[0;34m\u001b[0m\u001b[0m\n",
      "\u001b[0;32m/usr/lib/python3.10/importlib/_bootstrap.py\u001b[0m in \u001b[0;36m_gcd_import\u001b[0;34m(name, package, level)\u001b[0m\n",
      "\u001b[0;32m/usr/lib/python3.10/importlib/_bootstrap.py\u001b[0m in \u001b[0;36m_find_and_load\u001b[0;34m(name, import_)\u001b[0m\n",
      "\u001b[0;32m/usr/lib/python3.10/importlib/_bootstrap.py\u001b[0m in \u001b[0;36m_find_and_load_unlocked\u001b[0;34m(name, import_)\u001b[0m\n",
      "\u001b[0;31mModuleNotFoundError\u001b[0m: No module named 'watermark'"
     ]
    }
   ],
   "source": [
    "%load_ext watermark\n",
    "%watermark"
   ]
  },
  {
   "cell_type": "code",
   "execution_count": null,
   "id": "2b7e5f6e",
   "metadata": {},
   "outputs": [],
   "source": [
    "from IPython.display import display, HTML\n",
    "display(HTML(\"<style>.container { width:95% !important; }</style>\"))"
   ]
  },
  {
   "cell_type": "code",
   "execution_count": 2,
   "id": "daa8f4c3",
   "metadata": {},
   "outputs": [
    {
     "name": "stdout",
     "output_type": "stream",
     "text": [
      "Using matplotlib backend: TkAgg\n",
      "Populating the interactive namespace from numpy and matplotlib\n"
     ]
    }
   ],
   "source": [
    "%pylab"
   ]
  },
  {
   "cell_type": "code",
   "execution_count": 3,
   "id": "76e5594e",
   "metadata": {},
   "outputs": [],
   "source": [
    "from scipy.optimize import curve_fit\n",
    "\n",
    "import tkinter as tk\n",
    "from tkinter import filedialog\n",
    "\n",
    "import os\n",
    "\n",
    "from scipy import signal\n",
    "import scipy.integrate as integrate\n",
    "\n",
    "# %matplotlib qt"
   ]
  },
  {
   "cell_type": "code",
   "execution_count": 4,
   "id": "916883eb",
   "metadata": {
    "scrolled": true
   },
   "outputs": [],
   "source": [
    "%run functions\n",
    "matplotlib.rcParams.update({'font.size': 25})"
   ]
  },
  {
   "cell_type": "code",
   "execution_count": 5,
   "id": "efce5ee7",
   "metadata": {},
   "outputs": [
    {
     "name": "stdout",
     "output_type": "stream",
     "text": [
      "$\\kappa_{simion}$ = 0.270471\n"
     ]
    }
   ],
   "source": [
    "# Constantes de la physique\n",
    "# ABSOLUMENT RECHARGER APRÈS AVOIR EXECUTÉ LES CASES D'IMPORT AU DESSUS\n",
    "\n",
    "C_e = 1.602e-19        # Coulomb\n",
    "kb = 1.38064852*1e-23  # Boltzman\n",
    "m_Ca = 40.078*1.66054e-27 # masse Ca 40.078\n",
    "m_GM = 1e6*1.66054e-27 # la masse de la GMol\n",
    "eps0 = 8.854187*1e-12  # permittivité électrique du vide\n",
    "\n",
    "r0 = 2.5e-3 # 2.5e-3   # rayon piège Ca+\n",
    "d0 = 4e-3/2            # longueur piège Ca+\n",
    "\n",
    "Omega = 2.05e6*2*pi # 2.047e6\n",
    "\n",
    "bk = 4 # nombre de barreaux par groupe (2 -> 4-pole , 4 -> 8-pole ...)\n",
    "\n",
    "mkappa = 0.23          # écrantage piège réel GiantMol\n",
    "\n",
    "wzLC = (2*pi*90806.9982303)**2\n",
    "kappa_simion = m_Ca*d0**2*wzLC/(2*C_e)\n",
    "print('%s = %f' % ('$\\kappa_{simion}$',kappa_simion) )\n",
    "\n",
    "zeta = kappa_simion*r0**2/d0**2"
   ]
  },
  {
   "cell_type": "code",
   "execution_count": 7,
   "id": "58da8010",
   "metadata": {},
   "outputs": [
    {
     "name": "stdout",
     "output_type": "stream",
     "text": [
      "('/home/adrien/Documents/Programmes/Python/THESE/RF_Temp_Fit/Time_and_temp_RFHEAT_N0256_DC05_RF05.npz', '/home/adrien/Documents/Programmes/Python/THESE/RF_Temp_Fit/Time_and_temp_RFHEAT_N0256_DC06_RF06.npz', '/home/adrien/Documents/Programmes/Python/THESE/RF_Temp_Fit/Time_and_temp_RFHEAT_N0256_DC07_RF07.npz', '/home/adrien/Documents/Programmes/Python/THESE/RF_Temp_Fit/Time_and_temp_RFHEAT_N0256_DC08_RF08.npz', '/home/adrien/Documents/Programmes/Python/THESE/RF_Temp_Fit/Time_and_temp_RFHEAT_N0256_DC09_RF09.npz', '/home/adrien/Documents/Programmes/Python/THESE/RF_Temp_Fit/Time_and_temp_RFHEAT_N0256_DC10_RF10.npz', '/home/adrien/Documents/Programmes/Python/THESE/RF_Temp_Fit/Time_and_temp_RFHEAT_N0256_DC11_RF11.npz', '/home/adrien/Documents/Programmes/Python/THESE/RF_Temp_Fit/Time_and_temp_RFHEAT_N0256_DC12_RF12.npz', '/home/adrien/Documents/Programmes/Python/THESE/RF_Temp_Fit/Time_and_temp_RFHEAT_N0256_DC13_RF13.npz', '/home/adrien/Documents/Programmes/Python/THESE/RF_Temp_Fit/Time_and_temp_RFHEAT_N0512_DC03_RF03.npz', '/home/adrien/Documents/Programmes/Python/THESE/RF_Temp_Fit/Time_and_temp_RFHEAT_N0512_DC04_RF04.npz', '/home/adrien/Documents/Programmes/Python/THESE/RF_Temp_Fit/Time_and_temp_RFHEAT_N0512_DC05_RF05.npz', '/home/adrien/Documents/Programmes/Python/THESE/RF_Temp_Fit/Time_and_temp_RFHEAT_N0512_DC06_RF06.npz', '/home/adrien/Documents/Programmes/Python/THESE/RF_Temp_Fit/Time_and_temp_RFHEAT_N0512_DC07_RF07.npz', '/home/adrien/Documents/Programmes/Python/THESE/RF_Temp_Fit/Time_and_temp_RFHEAT_N0512_DC08_RF08.npz', '/home/adrien/Documents/Programmes/Python/THESE/RF_Temp_Fit/Time_and_temp_RFHEAT_N0512_DC09_RF09.npz', '/home/adrien/Documents/Programmes/Python/THESE/RF_Temp_Fit/Time_and_temp_RFHEAT_N0512_DC10_RF10.npz', '/home/adrien/Documents/Programmes/Python/THESE/RF_Temp_Fit/Time_and_temp_RFHEAT_N0512_DC11_RF11.npz', '/home/adrien/Documents/Programmes/Python/THESE/RF_Temp_Fit/Time_and_temp_RFHEAT_N0512_DC12_RF12.npz', '/home/adrien/Documents/Programmes/Python/THESE/RF_Temp_Fit/Time_and_temp_RFHEAT_N0512_DC13_RF13.npz', '/home/adrien/Documents/Programmes/Python/THESE/RF_Temp_Fit/Time_and_temp_RFHEAT_N1024_DC05_RF05.npz', '/home/adrien/Documents/Programmes/Python/THESE/RF_Temp_Fit/Time_and_temp_RFHEAT_N1024_DC06_RF06.npz', '/home/adrien/Documents/Programmes/Python/THESE/RF_Temp_Fit/Time_and_temp_RFHEAT_N1024_DC07_RF07.npz', '/home/adrien/Documents/Programmes/Python/THESE/RF_Temp_Fit/Time_and_temp_RFHEAT_N1024_DC08_RF08.npz', '/home/adrien/Documents/Programmes/Python/THESE/RF_Temp_Fit/Time_and_temp_RFHEAT_N1024_DC09_RF09.npz', '/home/adrien/Documents/Programmes/Python/THESE/RF_Temp_Fit/Time_and_temp_RFHEAT_N1024_DC10_RF10.npz', '/home/adrien/Documents/Programmes/Python/THESE/RF_Temp_Fit/Time_and_temp_RFHEAT_N1024_DC11_RF11.npz', '/home/adrien/Documents/Programmes/Python/THESE/RF_Temp_Fit/Time_and_temp_RFHEAT_N1024_DC12_RF12.npz', '/home/adrien/Documents/Programmes/Python/THESE/RF_Temp_Fit/Time_and_temp_RFHEAT_N1024_DC13_RF13.npz')\n"
     ]
    }
   ],
   "source": [
    "## GUI for data loading\n",
    "# Select one data file all the way down to the directories\n",
    "# SELECT Temp_SimuTypeQ_N ... .dat\n",
    "\n",
    "file_path = filedialog.askopenfilename(multiple=True) # initialdir = dir_string\n",
    "print(file_path)\n",
    "\n",
    "time       = []\n",
    "T_aux_avg  = []\n",
    "r2_v2_rlim      = []\n",
    "\n",
    "for i,j in enumerate(file_path):\n",
    "    with load(j) as data:\n",
    "        time.append(data['time'])\n",
    "        T_aux_avg.append(data['temp'])\n",
    "        r2_v2_rlim.append(data['r2_v2_rlim'])"
   ]
  },
  {
   "cell_type": "code",
   "execution_count": 8,
   "id": "a70bc22b",
   "metadata": {},
   "outputs": [],
   "source": [
    "def tanh_simple(x,x0,K,theta):\n",
    "    return K*(1+tanh(theta*(x-x0)))\n",
    "def tanh_plus(x,x0,K,theta,a,b):\n",
    "    return K*(1+tanh(theta*(x-x0))) + a*(x-x0)+b\n",
    "\n",
    "def gen_logi(x,A,K,C,B,M,nu):\n",
    "    return A + ( K-A ) / ( C+exp(-B*(x-M)) )**(nu)\n",
    "\n",
    "def func2(t, t0, A, B,  C, D):\n",
    "    return A*(t-t0)/(C+(t-t0)**2)**D + B\n",
    "def func2abs(t, t0, A, B,  C, D):\n",
    "    return A*(t-t0)/(C+abs(t-t0))**D + B\n",
    "def func2ter(t, t0, A, B, D):\n",
    "    return A*(t-t0)**(2*D) / (1+(t-t0)**2)**D + B\n",
    "#def func2bis_to10(t, t0, A, B,  C, D):\n",
    "#    tau = t-t0\n",
    "#    return 10**( (A-B)*(tau) / (C+(tau**2)**(D/2))**(1/D) + B )\n",
    "def func3(t, t0, A, B,  C):\n",
    "    return A*(t-t0) / (C+(t-t0)**2) + B\n",
    "def func4(t, t0, A, B, C):\n",
    "    return A*(t-t0) / (C+abs(t-t0)) + B\n",
    "def func5(t, t0, A, B, C, k):\n",
    "    return A*(t-t0) / (C+abs(t-t0)**k)**(1/k) + B\n",
    "def func6(t, t0, A, C, k):\n",
    "    return A*(t-t0) / (C+abs(t-t0)**k)**(1/k)\n",
    "def func7(t, t0, A, B, k):\n",
    "    return A*(t-t0) / (1+abs(t-t0)**k)**(1/k) + B"
   ]
  },
  {
   "cell_type": "code",
   "execution_count": 9,
   "id": "a85dd8ed",
   "metadata": {},
   "outputs": [
    {
     "ename": "NameError",
     "evalue": "name 'end_fit' is not defined",
     "output_type": "error",
     "traceback": [
      "\u001b[0;31m---------------------------------------------------------------------------\u001b[0m",
      "\u001b[0;31mNameError\u001b[0m                                 Traceback (most recent call last)",
      "\u001b[0;32m/tmp/ipykernel_8733/3902361132.py\u001b[0m in \u001b[0;36m<module>\u001b[0;34m\u001b[0m\n\u001b[1;32m      9\u001b[0m \u001b[0my_filt\u001b[0m \u001b[0;34m=\u001b[0m \u001b[0msignal\u001b[0m\u001b[0;34m.\u001b[0m\u001b[0mfiltfilt\u001b[0m\u001b[0;34m(\u001b[0m\u001b[0mb\u001b[0m\u001b[0;34m,\u001b[0m \u001b[0ma\u001b[0m\u001b[0;34m,\u001b[0m \u001b[0my\u001b[0m\u001b[0;34m,\u001b[0m \u001b[0mpadlen\u001b[0m\u001b[0;34m=\u001b[0m\u001b[0;36m150\u001b[0m\u001b[0;34m)\u001b[0m\u001b[0;34m\u001b[0m\u001b[0;34m\u001b[0m\u001b[0m\n\u001b[1;32m     10\u001b[0m \u001b[0mplot\u001b[0m\u001b[0;34m(\u001b[0m\u001b[0mx\u001b[0m\u001b[0;34m*\u001b[0m\u001b[0;36m1e3\u001b[0m\u001b[0;34m,\u001b[0m \u001b[0my_filt\u001b[0m\u001b[0;34m+\u001b[0m\u001b[0;36m10\u001b[0m\u001b[0;34m,\u001b[0m\u001b[0mlabel\u001b[0m\u001b[0;34m=\u001b[0m\u001b[0;34mr'$T filt$'\u001b[0m\u001b[0;34m,\u001b[0m\u001b[0mcolor\u001b[0m\u001b[0;34m=\u001b[0m\u001b[0;34m'C1'\u001b[0m\u001b[0;34m,\u001b[0m\u001b[0mls\u001b[0m\u001b[0;34m=\u001b[0m\u001b[0;34m':'\u001b[0m\u001b[0;34m)\u001b[0m\u001b[0;34m\u001b[0m\u001b[0;34m\u001b[0m\u001b[0m\n\u001b[0;32m---> 11\u001b[0;31m \u001b[0mvlines\u001b[0m\u001b[0;34m(\u001b[0m\u001b[0mx\u001b[0m\u001b[0;34m[\u001b[0m\u001b[0mend_fit\u001b[0m\u001b[0;34m]\u001b[0m\u001b[0;34m*\u001b[0m\u001b[0;36m1e3\u001b[0m\u001b[0;34m,\u001b[0m\u001b[0;36m1e-2\u001b[0m\u001b[0;34m,\u001b[0m\u001b[0;36m150\u001b[0m\u001b[0;34m,\u001b[0m\u001b[0mcolor\u001b[0m\u001b[0;34m=\u001b[0m\u001b[0;34m'k'\u001b[0m\u001b[0;34m)\u001b[0m\u001b[0;34m\u001b[0m\u001b[0;34m\u001b[0m\u001b[0m\n\u001b[0m\u001b[1;32m     12\u001b[0m \u001b[0;34m\u001b[0m\u001b[0m\n\u001b[1;32m     13\u001b[0m \u001b[0;34m\u001b[0m\u001b[0m\n",
      "\u001b[0;31mNameError\u001b[0m: name 'end_fit' is not defined"
     ]
    }
   ],
   "source": [
    "to_fit = 22 #11\n",
    "x  = time[to_fit]\n",
    "y  = T_aux_avg[to_fit]\n",
    "figure('testfitfunctions',clear='True')\n",
    "#xlim(0.8,6)\n",
    "\n",
    "#plot(x*1e3, y ,label=r'$T$',color='C0')\n",
    "b, a = signal.butter(8, 0.125)\n",
    "y_filt = signal.filtfilt(b, a, y, padlen=150)\n",
    "plot(x*1e3, y_filt+10,label=r'$T filt$',color='C1',ls=':')\n",
    "vlines(x[end_fit]*1e3,1e-2,150,color='k')\n",
    "\n",
    "\n",
    "#p0 = [t0_first_guess,2*10**3,0,1]\n",
    "#plot(x[start_for_fit:end_fit]*1e3,func7_to10(x[start_for_fit:end_fit],*p0),color='chartreuse',label=r'$|t-t_0|^k, C=1$')\n",
    "\n",
    "grid()\n",
    "#hlines(y[],1000,x[-1],color='k',ls=':')\n",
    "legend()\n",
    "#xlim(0.8,x[end_fit]*1e3+0.1)\n",
    "#xlim(13,15)\n",
    "#ylim(-2,60)\n"
   ]
  },
  {
   "cell_type": "code",
   "execution_count": 404,
   "id": "7d4ece5e",
   "metadata": {},
   "outputs": [
    {
     "name": "stdout",
     "output_type": "stream",
     "text": [
      "0 /home/adrien/Documents/Programmes/Python/THESE/RF_Temp_Fit/Time_and_temp_RFHEAT_N0256_DC05_RF05.npz\n",
      "1 /home/adrien/Documents/Programmes/Python/THESE/RF_Temp_Fit/Time_and_temp_RFHEAT_N0256_DC06_RF06.npz\n",
      "2 /home/adrien/Documents/Programmes/Python/THESE/RF_Temp_Fit/Time_and_temp_RFHEAT_N0256_DC07_RF07.npz\n",
      "3 /home/adrien/Documents/Programmes/Python/THESE/RF_Temp_Fit/Time_and_temp_RFHEAT_N0256_DC08_RF08.npz\n",
      "4 /home/adrien/Documents/Programmes/Python/THESE/RF_Temp_Fit/Time_and_temp_RFHEAT_N0256_DC09_RF09.npz\n",
      "5 /home/adrien/Documents/Programmes/Python/THESE/RF_Temp_Fit/Time_and_temp_RFHEAT_N0256_DC10_RF10.npz\n",
      "6 /home/adrien/Documents/Programmes/Python/THESE/RF_Temp_Fit/Time_and_temp_RFHEAT_N0256_DC11_RF11.npz\n",
      "7 /home/adrien/Documents/Programmes/Python/THESE/RF_Temp_Fit/Time_and_temp_RFHEAT_N0256_DC12_RF12.npz\n",
      "8 /home/adrien/Documents/Programmes/Python/THESE/RF_Temp_Fit/Time_and_temp_RFHEAT_N0256_DC13_RF13.npz\n",
      "9 /home/adrien/Documents/Programmes/Python/THESE/RF_Temp_Fit/Time_and_temp_RFHEAT_N0512_DC03_RF03.npz\n",
      "10 /home/adrien/Documents/Programmes/Python/THESE/RF_Temp_Fit/Time_and_temp_RFHEAT_N0512_DC04_RF04.npz\n",
      "11 /home/adrien/Documents/Programmes/Python/THESE/RF_Temp_Fit/Time_and_temp_RFHEAT_N0512_DC05_RF05.npz\n",
      "12 /home/adrien/Documents/Programmes/Python/THESE/RF_Temp_Fit/Time_and_temp_RFHEAT_N0512_DC06_RF06.npz\n",
      "13 /home/adrien/Documents/Programmes/Python/THESE/RF_Temp_Fit/Time_and_temp_RFHEAT_N0512_DC07_RF07.npz\n",
      "14 /home/adrien/Documents/Programmes/Python/THESE/RF_Temp_Fit/Time_and_temp_RFHEAT_N0512_DC08_RF08.npz\n",
      "15 /home/adrien/Documents/Programmes/Python/THESE/RF_Temp_Fit/Time_and_temp_RFHEAT_N0512_DC09_RF09.npz\n",
      "16 /home/adrien/Documents/Programmes/Python/THESE/RF_Temp_Fit/Time_and_temp_RFHEAT_N0512_DC10_RF10.npz\n",
      "17 /home/adrien/Documents/Programmes/Python/THESE/RF_Temp_Fit/Time_and_temp_RFHEAT_N0512_DC11_RF11.npz\n",
      "18 /home/adrien/Documents/Programmes/Python/THESE/RF_Temp_Fit/Time_and_temp_RFHEAT_N0512_DC12_RF12.npz\n",
      "19 /home/adrien/Documents/Programmes/Python/THESE/RF_Temp_Fit/Time_and_temp_RFHEAT_N0512_DC13_RF13.npz\n",
      "20 /home/adrien/Documents/Programmes/Python/THESE/RF_Temp_Fit/Time_and_temp_RFHEAT_N1024_DC05_RF05.npz\n",
      "21 /home/adrien/Documents/Programmes/Python/THESE/RF_Temp_Fit/Time_and_temp_RFHEAT_N1024_DC06_RF06.npz\n",
      "22 /home/adrien/Documents/Programmes/Python/THESE/RF_Temp_Fit/Time_and_temp_RFHEAT_N1024_DC07_RF07.npz\n",
      "23 /home/adrien/Documents/Programmes/Python/THESE/RF_Temp_Fit/Time_and_temp_RFHEAT_N1024_DC08_RF08.npz\n",
      "24 /home/adrien/Documents/Programmes/Python/THESE/RF_Temp_Fit/Time_and_temp_RFHEAT_N1024_DC09_RF09.npz\n",
      "25 /home/adrien/Documents/Programmes/Python/THESE/RF_Temp_Fit/Time_and_temp_RFHEAT_N1024_DC10_RF10.npz\n",
      "26 /home/adrien/Documents/Programmes/Python/THESE/RF_Temp_Fit/Time_and_temp_RFHEAT_N1024_DC11_RF11.npz\n",
      "27 /home/adrien/Documents/Programmes/Python/THESE/RF_Temp_Fit/Time_and_temp_RFHEAT_N1024_DC12_RF12.npz\n",
      "28 /home/adrien/Documents/Programmes/Python/THESE/RF_Temp_Fit/Time_and_temp_RFHEAT_N1024_DC13_RF13.npz\n"
     ]
    }
   ],
   "source": [
    "for i,j in enumerate(file_path):\n",
    "    print(i,j)"
   ]
  },
  {
   "cell_type": "code",
   "execution_count": 406,
   "id": "ac85917b",
   "metadata": {},
   "outputs": [
    {
     "name": "stdout",
     "output_type": "stream",
     "text": [
      "/home/adrien/Documents/Programmes/Python/THESE/RF_Temp_Fit/Time_and_temp_RFHEAT_N0512_DC06_RF06.npz\n",
      "[-2.80274141e+02 -7.01651070e+01 -7.33856344e-03]\n"
     ]
    },
    {
     "name": "stderr",
     "output_type": "stream",
     "text": [
      "/tmp/ipykernel_184041/2210644391.py:7: RuntimeWarning: overflow encountered in power\n",
      "  return A + ( K-A ) / ( C+exp(-B*(x-M)) )**(nu)\n"
     ]
    },
    {
     "name": "stdout",
     "output_type": "stream",
     "text": [
      "[-6.04263167 -2.01310632  1.00387135  0.96321514 -4.94272902  8.5009146 ]\n",
      "[ 1.45413564e-03  1.38134073e-01 -2.07795199e+00  2.11476108e-02\n",
      "  5.92726444e-01]\n"
     ]
    }
   ],
   "source": [
    "# OK pour la temperature\n",
    "to_plot = 12\n",
    "end_fit = len(time[to_plot])//8-150 # 125500\n",
    "\n",
    "print(file_path[to_plot])\n",
    "# test plot\n",
    "index_max = 1900\n",
    "figure(1,clear='True')\n",
    "#semilogy(time[to_plot]*1e3,T_aux_avg[to_plot],color='r')\n",
    "plot(time[to_plot]*1e3,T_aux_avg[to_plot],color='r')\n",
    "\n",
    "#p0 = [1.8, 60, 63.45, 0.002,4e-3] # 124850\n",
    "popt, pcov = curve_fit(tanh_simple,\n",
    "                       time[to_plot][:end_fit]*1e3, log10(T_aux_avg[to_plot][:end_fit]),\n",
    "                       maxfev = 50000)\n",
    "print(popt)\n",
    "plot(time[to_plot][:end_fit]*1e3,tanh_simple(time[to_plot][:end_fit]*1e3,*popt),\n",
    "     color='k')\n",
    "\n",
    "#plot(time[to_plot][end_fit:]*1e3,tanh_plus_to10(time[to_plot][end_fit:]*1e3,\n",
    "#                                            1635.3,\n",
    "#                                            14.075,\n",
    "#                                            63.132,\n",
    "#                                            0.87,\n",
    "#                                            -3324.94),\n",
    "#     color='g',ls=':')\n",
    "\n",
    "\n",
    "#p0 = [5e-3,500,1,2,65,2] # 124850\n",
    "popt, pcov = curve_fit(gen_logi,\n",
    "                       time[to_plot][:end_fit]*1e3, log10(T_aux_avg[to_plot][:end_fit]),\n",
    "                       maxfev = 50000)\n",
    "print(popt)\n",
    "plot(time[to_plot][:end_fit]*1e3,gen_logi(time[to_plot][:end_fit]*1e3,*popt),\n",
    "     color='xkcd:azul')\n",
    "\n",
    "p0 = [1.95*1e-3,log10(500)/2,0.1,1e-1,0.3]\n",
    "popt, pcov = curve_fit(func5, x[:end_fit], log10(y[:end_fit]), p0, maxfev= 50000)\n",
    "print(popt)\n",
    "y_fit = func5(x[:end_fit],*popt)\n",
    "plot(x[:end_fit]*1e3,10**y_fit,color='g')\n",
    "plot(x[:end_fit]*1e3,10**func5(x[:end_fit],1.95*1e-3,log10(500),0.1,1e-1,0.3),\n",
    "     color='xkcd:rouge')\n",
    "\n",
    "vlines(time[to_plot][end_fit]*1e3,0,50)\n",
    "#b, a = signal.butter(8, 0.125)\n",
    "#y = signal.filtfilt(b, a, T_aux_avg[to_plot], padlen=150)\n",
    "#semilogy(time[to_plot]*1e3,y,color='b')\n",
    "xlabel('time [ms]')\n",
    "ylabel('T [K]')\n",
    "#xlim(61,64)\n",
    "#ylim(-1,20)\n",
    "grid()\n",
    "tight_layout()"
   ]
  },
  {
   "cell_type": "code",
   "execution_count": 629,
   "id": "ad18fe5e",
   "metadata": {},
   "outputs": [
    {
     "data": {
      "text/plain": [
       "(0.013997624500000002, 41.99381961231696, 0.517953442987538)"
      ]
     },
     "execution_count": 629,
     "metadata": {},
     "output_type": "execute_result"
    }
   ],
   "source": [
    "t0_first_guess,A0,B0"
   ]
  },
  {
   "cell_type": "code",
   "execution_count": 410,
   "id": "239e0f61",
   "metadata": {},
   "outputs": [
    {
     "data": {
      "text/plain": [
       "array([], dtype=float64)"
      ]
     },
     "execution_count": 410,
     "metadata": {},
     "output_type": "execute_result"
    }
   ],
   "source": [
    "y[start_for_fit:end_fit]"
   ]
  },
  {
   "cell_type": "code",
   "execution_count": 673,
   "id": "a9e27d48",
   "metadata": {},
   "outputs": [
    {
     "name": "stdout",
     "output_type": "stream",
     "text": [
      "func2bis [ 1.80774027e-03  2.57773524e+00 -3.02554923e-01  9.10802316e-03\n",
      "  3.37204569e-01]\n"
     ]
    }
   ],
   "source": [
    "to_fit = 7 #11\n",
    "start_for_fit = 10\n",
    "end_for_fit = [int(500000-1),140000,17700,7000,4800, # 17700\n",
    "               470000,480000,2450,27500,5500, # 24000\n",
    "               50000,28500,23500,30000,14500,\n",
    "              0,0,0,0,0,\n",
    "              0,0,27000,0,0,\n",
    "              0,0]\n",
    "end_fit = end_for_fit[to_fit]\n",
    "x  = time[to_fit]\n",
    "y  = T_aux_avg[to_fit]\n",
    "T_crit = 0.5\n",
    "t0_first_guess = x[where(min(abs(y-T_crit))==abs(y-T_crit))][0] # 2.5e-3\n",
    "A0 = log10(max(y[start_for_fit:end_fit]))\n",
    "B0 = log10(y[where(min(abs(y-T_crit))==abs(y-T_crit))][0])\n",
    "figure('testfitinlog',clear='True')\n",
    "#xlim(0.8,6)\n",
    "grid()\n",
    "semilogy(x*1e3, y ,label=r'$T$',color='C0')\n",
    "b, a = signal.butter(8, 0.125)\n",
    "y_filt = signal.filtfilt(b, a, y, padlen=150)\n",
    "semilogy(x*1e3, y_filt ,label=r'$T filt$',color='k',ls=':',lw=3)\n",
    "vlines(x[end_fit]*1e3,1e-2,150,color='k')\n",
    "\n",
    "'''\n",
    "p0 = [t0_first_guess,A0,B0,1e-3,0.4]\n",
    "popt, pcov = curve_fit(func5, x[start_for_fit:end_fit], log10(y_filt[start_for_fit:end_fit]), p0, maxfev= 50000)\n",
    "print('func5',popt)\n",
    "kfunc5 = popt[4]\n",
    "y_fit5 = func5(x[start_for_fit:end_fit],*popt)\n",
    "semilogy(x[start_for_fit:end_fit]*1e3,10**y_fit5,color='r',ls='--',label=r'func5')\n",
    "\n",
    "p0 = [t0_first_guess,A0,B0,0.05,0.4]\n",
    "popt2, pcov = curve_fit(func2, x[start_for_fit:end_fit], log10(y_filt[start_for_fit:end_fit]), p0, maxfev= 50000)\n",
    "print('func2',popt)\n",
    "y_fit2 = func2(x[start_for_fit:end_fit],*popt2)\n",
    "semilogy(x[start_for_fit:end_fit]*1e3,10**y_fit2,color='m',label=r'func2')\n",
    "perr2 = np.sqrt(np.diag(pcov))\n",
    "'''\n",
    "'''\n",
    "p0 = [t0_first_guess,A0,B0,0.05,0.45]\n",
    "popt, pcov = curve_fit(func2bis, x[start_for_fit:end_fit], log10(y_filt[start_for_fit:end_fit]), p0, maxfev= 100000)\n",
    "print('func2bis',popt)\n",
    "kfunc2bis = popt[4]\n",
    "y_fit2bis = func2bis(x[start_for_fit:end_fit],*popt)\n",
    "semilogy(x[start_for_fit:end_fit]*1e3,10**y_fit2bis,color='orange',ls=':',label=r'func2bis')\n",
    "perr2bis = np.sqrt(np.diag(pcov))\n",
    "'''\n",
    "'''\n",
    "p0 = [t0_first_guess,log10(100),1,1,log10(0.1)]\n",
    "popt, pcov = curve_fit(tanh_plus, x[start_for_fit:end_fit], log10(y_filt[start_for_fit:end_fit]), p0, maxfev= 50000)\n",
    "print('tanh_simple',popt)\n",
    "y_fittanh = tanh_plus(x[start_for_fit:end_fit],*popt)\n",
    "semilogy(x[start_for_fit:end_fit]*1e3,10**y_fittanh,color='chartreuse',ls='-',label=r'tanh')\n",
    "\n",
    "p0 = [t0_first_guess,A0,B0,0.001]\n",
    "popt, pcov = curve_fit(func4, x[start_for_fit:end_fit], log10(y[start_for_fit:end_fit]), p0,  maxfev= 50000)\n",
    "y_fit4 = func4(x[start_for_fit:end_fit],*popt)\n",
    "print('func4',popt)\n",
    "semilogy(x[start_for_fit:end_fit]*1e3,10**y_fit4,color='g',ls='--',label=r'$|x|$')\n",
    "'''\n",
    "'''\n",
    "p0 = [t0_first_guess,A0,0.05,0.05]\n",
    "popt, pcov = curve_fit(func6, x[start_for_fit:end_fit], log10(y_filt[start_for_fit:end_fit]), p0, maxfev= 50000)\n",
    "print('func6',popt)\n",
    "y_fit6 = func6(x[start_for_fit:end_fit],*popt)\n",
    "semilogy(x[start_for_fit:end_fit]*1e3,10**y_fit6,color='r',ls=':',label=r'$|x|^k$')\n",
    "'''\n",
    "\n",
    "#hlines(y[],1000,x[-1],color='k',ls=':')\n",
    "legend()\n",
    "xlim(0.8,x[end_fit]*1e3+0.1)\n",
    "#xlim(1.7,2.3)\n",
    "ylim(8e-4,120)\n",
    "xlabel('time [ms]')\n",
    "ylabel('Temp [K]')\n",
    "tight_layout()"
   ]
  },
  {
   "cell_type": "code",
   "execution_count": 649,
   "id": "577116d5",
   "metadata": {},
   "outputs": [
    {
     "name": "stdout",
     "output_type": "stream",
     "text": [
      "[1.87452044e-07 2.58802874e-02 5.56797250e-02 9.77561395e-13\n",
      " 1.09557827e-03]\n",
      "[1.76120806e-04 4.22847727e+03 4.22846309e+03 6.45935540e+05\n",
      " 8.53425162e-01]\n"
     ]
    }
   ],
   "source": [
    "print(perr2)\n",
    "print(perr2bis)"
   ]
  },
  {
   "cell_type": "code",
   "execution_count": 451,
   "id": "4d602f7c",
   "metadata": {},
   "outputs": [
    {
     "data": {
      "text/plain": [
       "<matplotlib.legend.Legend at 0x7f1ea52499f0>"
      ]
     },
     "execution_count": 451,
     "metadata": {},
     "output_type": "execute_result"
    }
   ],
   "source": [
    "figure('testfitinlin',clear='True')\n",
    "#xlim(0.8,6)\n",
    "grid()\n",
    "plot(x*1e3, y ,label=r'$T$',color='C0')\n",
    "b, a = signal.butter(8, 0.125)\n",
    "y_filt = signal.filtfilt(b, a, y, padlen=150)\n",
    "plot(x*1e3, y_filt ,label=r'$T filt$',color='C1',ls=':')\n",
    "vlines(x[end_fit]*1e3,1e-2,150,color='k')\n",
    "\n",
    "# plot(x[start_for_fit:end_fit]*1e3,10**y_fit4,color='r',ls=':',label=r'$|x|$')\n",
    "\n",
    "plot(x[start_for_fit:end_fit]*1e3,10**y_fit5,color='r',ls='--',label=r'$|x|^k$')\n",
    "\n",
    "plot(x[start_for_fit:end_fit]*1e3,10**y_fit2,color='m',label=r'$(t-t_0)^2$')\n",
    "\n",
    "plot(x[start_for_fit:end_fit]*1e3,10**y_fit2bis,color='orange',label=r'$(t-t_0)^{2D/2}$')\n",
    "\n",
    "plot(x[start_for_fit:end_fit]*1e3,10**y_fittanh,color='g',ls='-',label=r'tanh')\n",
    "\n",
    "#hlines(y[],1000,x[-1],color='k',ls=':')\n",
    "legend()\n",
    "#xlim(0.8,x[end_fit]*1e3+0.1)\n",
    "#xlim(1.7,2.3)\n",
    "#ylim(8e-4,120)"
   ]
  },
  {
   "cell_type": "code",
   "execution_count": 603,
   "id": "d8b8834a",
   "metadata": {},
   "outputs": [
    {
     "data": {
      "text/plain": [
       "(974,)"
      ]
     },
     "execution_count": 603,
     "metadata": {},
     "output_type": "execute_result"
    }
   ],
   "source": [
    "shape(x[start_for_fit:end_fit-1])"
   ]
  },
  {
   "cell_type": "code",
   "execution_count": 624,
   "id": "c53da85e",
   "metadata": {},
   "outputs": [
    {
     "name": "stdout",
     "output_type": "stream",
     "text": [
      "2.638888888888889 MHz\n"
     ]
    }
   ],
   "source": [
    "DeltaF = 19\n",
    "DeltaV = 7.2\n",
    "\n",
    "print(DeltaF/DeltaV*1e-3 * 1e3,'MHz')"
   ]
  },
  {
   "cell_type": "code",
   "execution_count": 704,
   "id": "52aa7221",
   "metadata": {},
   "outputs": [
    {
     "data": {
      "text/plain": [
       "3689.9999999999995"
      ]
     },
     "execution_count": 704,
     "metadata": {},
     "output_type": "execute_result"
    }
   ],
   "source": [
    "(Omega/2/pi)*1.8e-3"
   ]
  },
  {
   "cell_type": "code",
   "execution_count": 709,
   "id": "060e30bd",
   "metadata": {},
   "outputs": [],
   "source": [
    "time_step = 48//2 # 488 # 488\n",
    "y_filt_diff = y_filt[time_step:]-y_filt[:-time_step]\n",
    "x_avg = (x[:-time_step]) *1e3 # x_avg = (x[time_step:]+x[:-time_step])/2 *1e3\n",
    "N_period = (x[time_step]-x[0])*(Omega/2/pi)\n",
    "\n",
    "figure(11,clear='True')\n",
    "plot(x_avg*(Omega/2/pi),y_filt_diff/N_period,color='k',ls=':',lw=3,label='Difference derivate')\n",
    "plot(x[start_for_fit:end_fit-1]*1e3*(Omega/2/pi),\n",
    "     diff(y_fit2)/(diff(x[start_for_fit:end_fit])*(Omega/2/pi)),color='m',label=r'func2') # / 10000000\n",
    "#plot(x[start_for_fit:end_fit-1]*1e3,\n",
    "#     diff(y_fit2bis)/(diff(x[start_for_fit:end_fit])*(Omega/2/pi)),color='orange' ) # / 10000000\n",
    "plot(x[start_for_fit:end_fit-1]*1e3*(Omega/2/pi),\n",
    "     diff(y_fit5)/(diff(x[start_for_fit:end_fit])*(Omega/2/pi)),color='r',ls=':',label=r'func5') # / 10000000\n",
    "\n",
    "xlabel('t [period]')\n",
    "ylabel('H [K/period]')\n",
    "legend()\n",
    "grid()\n",
    "#xlim(t0_first_guess*1e3-0.2,t0_first_guess*1e3+1)\n",
    "xlim(3.6e6,4e6)\n",
    "ylim(-0.051,0.35)\n",
    "tight_layout()"
   ]
  },
  {
   "cell_type": "code",
   "execution_count": 729,
   "id": "cb7137e1",
   "metadata": {},
   "outputs": [
    {
     "data": {
      "text/plain": [
       "4.878048780487805e-07"
      ]
     },
     "execution_count": 729,
     "metadata": {},
     "output_type": "execute_result"
    }
   ],
   "source": []
  },
  {
   "cell_type": "code",
   "execution_count": 730,
   "id": "e007fd86",
   "metadata": {},
   "outputs": [],
   "source": [
    "# as function of temperature\n",
    "\n",
    "c_light = 299792458\n",
    "h_pl = 6.62607015*1e-34\n",
    "h_pl_bar = h_pl/2/pi\n",
    "lam_397 = 396.84620*1e-9\n",
    "k=(2*pi)/lam_397\n",
    "gamma_SP = 21.57*1e6\n",
    "tau = 1/gamma_SP\n",
    "tau_RF = 1/(Omega/(2*pi))\n",
    "dT_dt = -1/tau*sqrt(m_Ca*y_filt[:-time_step]/kb)*h_pl_bar*k/m_Ca\n",
    "\n",
    "time_step = 48//2 # 488 # 488\n",
    "y_filt_diff = y_filt[time_step:]-y_filt[:-time_step]\n",
    "x_avg = (x[:-time_step]) *1e3 # x_avg = (x[time_step:]+x[:-time_step])/2 *1e3\n",
    "N_period = (x[time_step]-x[0])*(Omega/2/pi)\n",
    "\n",
    "figure(11,clear='True')\n",
    "plot(y_filt[:-time_step],y_filt_diff/N_period,color='k',ls=':',lw=3,label='Difference derivate')\n",
    "plot(y_filt[:-time_step],-dT_dt*tau_RF,color='b',ls=':',lw=3,label='Cooling power')\n",
    "plot(y_filt[:len(y_fit2)-1],\n",
    "     diff(y_fit2)/(diff(x[start_for_fit:end_fit])*(Omega/2/pi)),color='m',label=r'func2') # / 10000000\n",
    "#plot(x[start_for_fit:end_fit-1]*1e3,\n",
    "#     diff(y_fit2bis)/(diff(x[start_for_fit:end_fit])*(Omega/2/pi)),color='orange' ) # / 10000000\n",
    "plot(y_filt[:len(y_fit5)-1],\n",
    "     diff(y_fit5)/(diff(x[start_for_fit:end_fit])*(Omega/2/pi)),color='r',ls=':',label=r'func5') # / 10000000\n",
    "\n",
    "xlabel('T [K]')\n",
    "ylabel('H [K/period]')\n",
    "legend()\n",
    "grid()\n",
    "#xlim(t0_first_guess*1e3-0.2,t0_first_guess*1e3+1)\n",
    "xlim(-0.2,10)\n",
    "ylim(-0.05,0.35)\n",
    "tight_layout()"
   ]
  },
  {
   "cell_type": "code",
   "execution_count": 514,
   "id": "60112fdc",
   "metadata": {},
   "outputs": [
    {
     "name": "stdout",
     "output_type": "stream",
     "text": [
      "test\n",
      "-10\n",
      "-9\n",
      "-8\n",
      "-7\n",
      "-6\n"
     ]
    }
   ],
   "source": [
    "# effect of C in func2\n",
    "cm = pylab.get_cmap('jet')\n",
    "xtest=linspace(0,20e-3,1000)*(Omega/2/pi)\n",
    "\n",
    "print('test')\n",
    "figure('test C in func2',clear='True')\n",
    "i = 0\n",
    "minC = -10\n",
    "maxC = -5\n",
    "for powC in range(minC,maxC):\n",
    "    C = 10**(-powC)\n",
    "    print(powC)\n",
    "    pfit = [5e-3*(Omega/2/pi),log10(100),log10(1e-1),C,0.45]\n",
    "    semilogy(xtest*1e3,10**func2(xtest,*pfit),color=cm(i/(maxC-minC-1)),label=f'C={powC}')\n",
    "    i=i+1\n",
    "grid()\n",
    "legend()\n",
    "tight_layout()"
   ]
  },
  {
   "cell_type": "code",
   "execution_count": 544,
   "id": "b33e2e6b",
   "metadata": {},
   "outputs": [
    {
     "name": "stdout",
     "output_type": "stream",
     "text": [
      "test\n",
      "-3\n",
      "-2\n",
      "-1\n",
      "0\n",
      "1\n"
     ]
    },
    {
     "data": {
      "text/plain": [
       "<function __main__.func5(t, t0, A, B, C, k)>"
      ]
     },
     "execution_count": 544,
     "metadata": {},
     "output_type": "execute_result"
    }
   ],
   "source": [
    "# effect of C in func2\n",
    "cm = pylab.get_cmap('jet')\n",
    "xtest=linspace(0,20e-3,1000)*(Omega/2/pi)\n",
    "\n",
    "print('test')\n",
    "figure('test C in func5',clear='True')\n",
    "i = 0\n",
    "minC = -3\n",
    "maxC = 2\n",
    "for powC in range(minC,maxC):\n",
    "    C = 10**(-powC)\n",
    "    print(powC)\n",
    "    pfit = [5e-3*(Omega/2/pi),log10(100),log10(1e-1),C,0.45]\n",
    "    semilogy(xtest*1e3,10**func5(xtest,*pfit),color=cm(i/(maxC-minC-1)),label=f'C={powC}')\n",
    "    i=i+1\n",
    "grid()\n",
    "legend()\n",
    "tight_layout()\n",
    "\n",
    "func5"
   ]
  },
  {
   "cell_type": "code",
   "execution_count": 569,
   "id": "eb27391a",
   "metadata": {},
   "outputs": [
    {
     "data": {
      "text/plain": [
       "-3.0"
      ]
     },
     "execution_count": 569,
     "metadata": {},
     "output_type": "execute_result"
    }
   ],
   "source": [
    "log10(0.01e-1)"
   ]
  },
  {
   "cell_type": "code",
   "execution_count": 574,
   "id": "049f8679",
   "metadata": {},
   "outputs": [
    {
     "name": "stdout",
     "output_type": "stream",
     "text": [
      "test\n"
     ]
    },
    {
     "data": {
      "text/plain": [
       "<function __main__.func5(t, t0, A, B, C, k)>"
      ]
     },
     "execution_count": 574,
     "metadata": {},
     "output_type": "execute_result"
    }
   ],
   "source": [
    "# effect of C in func2\n",
    "cm = pylab.get_cmap('jet')\n",
    "xtest=linspace(0,20e-3,50000)*(Omega/2/pi)\n",
    "\n",
    "print('test')\n",
    "figure('test k in func5',clear='True')\n",
    "i = 0\n",
    "powk = linspace(0.001,0.01,10)\n",
    "for powk_loop in powk:\n",
    "    #[ 1.807e-03, 2.386e+00,-3.072e-01, 6.085e-03, 3.752e-01]\n",
    "    pfit = [1.8e-3*(Omega/2/pi),log10(100),log10(1e-1),6e-3,powk_loop]\n",
    "    plot(xtest*1e3,10**func5(xtest,*pfit),color=cm(i/(maxC-minC-1)),label=f'C={powk_loop:.2f}')\n",
    "    i=i+1\n",
    "grid()\n",
    "legend(title = 'powk')\n",
    "tight_layout()\n",
    "\n",
    "func5"
   ]
  }
 ],
 "metadata": {
  "kernelspec": {
   "display_name": "Python 3 (ipykernel)",
   "language": "python",
   "name": "python3"
  },
  "language_info": {
   "codemirror_mode": {
    "name": "ipython",
    "version": 3
   },
   "file_extension": ".py",
   "mimetype": "text/x-python",
   "name": "python",
   "nbconvert_exporter": "python",
   "pygments_lexer": "ipython3",
   "version": "3.10.4"
  }
 },
 "nbformat": 4,
 "nbformat_minor": 5
}
