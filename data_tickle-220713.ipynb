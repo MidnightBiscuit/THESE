{
 "cells": [
  {
   "cell_type": "code",
   "execution_count": 1,
   "metadata": {},
   "outputs": [],
   "source": [
    "import numpy\n",
    "import matplotlib\n",
    "from matplotlib import pylab, mlab, pyplot\n",
    "from mpl_toolkits.mplot3d import Axes3D\n",
    "np = numpy\n",
    "plt = pyplot\n",
    "\n",
    "from pylab import *\n",
    "from numpy import *"
   ]
  },
  {
   "cell_type": "code",
   "execution_count": 52,
   "metadata": {},
   "outputs": [],
   "source": [
    "from scipy.signal import argrelextrema, argrelmin, find_peaks"
   ]
  },
  {
   "cell_type": "code",
   "execution_count": 3,
   "metadata": {},
   "outputs": [],
   "source": [
    "# import glob\n",
    "from matplotlib import cm"
   ]
  },
  {
   "cell_type": "code",
   "execution_count": 4,
   "metadata": {},
   "outputs": [],
   "source": [
    "%matplotlib qt\n",
    "matplotlib.rcParams['figure.figsize'] = [10.5,7]\n",
    "matplotlib.rcParams.update({'font.size': 20})"
   ]
  },
  {
   "cell_type": "code",
   "execution_count": 9,
   "metadata": {},
   "outputs": [],
   "source": [
    "def beta_continue_alamano(a,q,beta_guess): #a l'air ok\n",
    "    C1 = q**2/( (beta_guess+2)**2 - a - q**2/( (beta_guess+4)**2 - a - q**2/( (beta_guess+6)**2 - a - q**2/( (beta_guess+8)**2 - a - q**2/( (beta_guess+10)**2 - a ) ) ) ) )\n",
    "    C2 = q**2/( (beta_guess-2)**2 - a - q**2/( (beta_guess-4)**2 - a - q**2/( (beta_guess-6)**2 - a - q**2/( (beta_guess-8)**2 - a - q**2/( (beta_guess-10)**2 - a  ) ) ) ) )\n",
    "    return a + C1 + C2"
   ]
  },
  {
   "cell_type": "code",
   "execution_count": 5,
   "metadata": {},
   "outputs": [
    {
     "name": "stdout",
     "output_type": "stream",
     "text": [
      "$\\kappa_{simion}$ = 0.270471\n"
     ]
    }
   ],
   "source": [
    "# Constantes de la physique\n",
    "# ABSOLUMENT RECHARGER APRÈS AVOIR EXECUTÉ LES CASES D'IMPORT AU DESSUS\n",
    "\n",
    "C_e = 1.602e-19        # Coulomb\n",
    "kb = 1.38064852*1e-23  # Boltzman\n",
    "m_Ca = 40.078*1.66054e-27 # masse Ca 40.078\n",
    "m_GM = 1e6*1.66054e-27 # la masse de la GMol\n",
    "eps0 = 8.854187*1e-12  # permittivité électrique du vide\n",
    "\n",
    "\n",
    "r0 = 2.5e-3 # 2.5e-3   # rayon piège Ca+\n",
    "d0 = (4e-3)/2            # longueur piège Ca+\n",
    "Omega = 2.045e6*2*pi # 2.047e6\n",
    "bk = 4 # nombre de barreaux par groupe (2 -> 4-pole , 4 -> 8-pole ...)\n",
    "\n",
    "mkappa = 0.23          # écrantage piège réel GiantMol\n",
    "wzLC = (2*pi*90806.9982303)**2\n",
    "kappa_simion = m_Ca*d0**2*wzLC/(2*C_e)\n",
    "mkappa = 0.23\n",
    "print('%s = %f' % ('$\\kappa_{simion}$',kappa_simion) )\n",
    "\n",
    "zeta = kappa_simion*r0**2/d0**2"
   ]
  },
  {
   "cell_type": "code",
   "execution_count": 270,
   "metadata": {},
   "outputs": [
    {
     "name": "stdout",
     "output_type": "stream",
     "text": [
      "Urf = 42.43\n",
      "non adiab 0.2893714927759571\n",
      "adiab     0.27996179910892666\n",
      "alpha = 0.16019062867858752\n",
      "qx = 0.395925773246216\n",
      "ax = 0.0\n",
      "az = 0.006706850094761201\n",
      "f_z = 118423.42413463586\n",
      "f_x = 295882.3513634161\n",
      "f_r = 283785.679970745\n"
     ]
    }
   ],
   "source": [
    "# Computation of secular frequencies\n",
    "\n",
    "# set voltages\n",
    "Udc = 2 # 2.8628*4   9.014464\n",
    "Urf = 42.43 # q*(m_Ca*r0**2*Omega**2)/( 4*C_e)\n",
    "q = ( (m_Ca*r0**2*Omega**2)/( 4*C_e)/Urf )**(-1)\n",
    "print('Urf =',Urf)\n",
    "\n",
    "# compute beta\n",
    "beta_guess = 0.423\n",
    "a = 0\n",
    "for k in range(15):\n",
    "    beta_guess = beta_continue_alamano(a,q,beta_guess)\n",
    "    beta_guess = sqrt(beta_guess)\n",
    "#     print(beta_guess)\n",
    "print('non adiab',beta_guess)\n",
    "print('adiab    ',sqrt(a+q**2/2))\n",
    "\n",
    "# compute angular frequencies\n",
    "omega_z_2 = 2*C_e*(mkappa)*Udc/m_Ca/d0**2\n",
    "# omega_x_2 = 2*(C_e*Urf/m_Ca/Omega/r0**2)**2\n",
    "omega_x_2 = ( beta_guess*Omega/2 )**2\n",
    "omega_r_2 = omega_x_2 - 0.5*omega_z_2\n",
    "\n",
    "# compute Mathieu parameters\n",
    "qx = 4*C_e*Urf/(m_Ca*r0**2*Omega**2)\n",
    "ax = 8*C_e*0/(m_Ca*r0**2*Omega**2)\n",
    "az = 2*omega_z_2/Omega**2\n",
    "\n",
    "print('alpha =',omega_z_2/omega_x_2)\n",
    "print('qx =',qx)\n",
    "print('ax =',ax)\n",
    "print('az =',az)\n",
    "print('f_z =',sqrt(omega_z_2)/2/pi)\n",
    "print('f_x =',sqrt(omega_x_2)/2/pi)\n",
    "print('f_r =',sqrt(omega_r_2)/2/pi)"
   ]
  },
  {
   "cell_type": "markdown",
   "metadata": {},
   "source": [
    "# Extraction de données"
   ]
  },
  {
   "cell_type": "code",
   "execution_count": 15,
   "metadata": {},
   "outputs": [],
   "source": [
    "filename=[]"
   ]
  },
  {
   "cell_type": "code",
   "execution_count": 137,
   "metadata": {},
   "outputs": [
    {
     "name": "stdout",
     "output_type": "stream",
     "text": [
      "('K:/20220713/tickle_169.9Vpp_2500mV_0_0_100k_400k_000.dat', 'K:/20220713/tickle_170Vpp_2500mV_0_0_100k_400k_000.dat', 'K:/20220713/tickle_170Vpp_2500mV_0_0_100k_400k_001.dat', 'K:/20220713/tickle_170Vpp_2500mV_0_0_400k_100k_000.dat', 'K:/20220713/tickle_170Vpp_2500mV_0_0_400k_100k_001.dat', 'K:/20220713/tickle_170Vpp_2500mV_0_0_400k_100k_002.dat', 'K:/20220713/tickle_170Vpp_2500mV_0_0_100k_400k_002.dat', 'K:/20220713/tickle_170Vpp_2500mV_0_0_100k_400k_003.dat', 'K:/20220713/tickle_170Vpp_2000mV_0_0_100k_400k_000.dat', 'K:/20220713/tickle_170Vpp_2000mV_0_0_100k_400k_001.dat', 'K:/20220713/tickle_170Vpp_2000mV_0_0_100k_400k_002.dat', 'K:/20220713/tickle_170Vpp_1500mV_0_0_100k_400k_000.dat', 'K:/20220713/tickle_170Vpp_1500mV_0_0_100k_400k_001.dat', 'K:/20220713/tickle_170Vpp_1000mV_0_0_050k_350k_000.dat', 'K:/20220713/tickle_170Vpp_1000mV_0_0_050k_350k_001.dat', 'K:/20220713/tickle_170Vpp_1000mV_0_0_050k_350k_002.dat', 'K:/20220713/tickle_170Vpp_1000mV_0_0_050k_350k_003.dat', 'K:/20220713/tickle_170Vpp_1000mV_0_0_050k_350k_004.dat', 'K:/20220713/tickle_150Vpp_1000mV_0_0_050k_350k_000.dat', 'K:/20220713/tickle_150Vpp_1000mV_0_0_050k_350k_001.dat', 'K:/20220713/tickle_150Vpp_1000mV_0_0_050k_350k_002.dat', 'K:/20220713/tickle_150Vpp_1000mV_0_0_050k_350k_003.dat', 'K:/20220713/tickle_130Vpp_1000mV_0_0_050k_350k_000.dat', 'K:/20220713/tickle_130Vpp_1000mV_0_0_050k_350k_001.dat', 'K:/20220713/tickle_130Vpp_1000mV_0_0_050k_350k_002.dat')\n"
     ]
    }
   ],
   "source": [
    "# sélection des fichiers\n",
    "import tkinter as tk\n",
    "from tkinter import filedialog\n",
    "\n",
    "root = tk.Tk()\n",
    "root.withdraw()\n",
    "\n",
    "file_path = filedialog.askopenfilename(initialdir = '/home/adrian/Documents/Mesures',multiple=True)"
   ]
  },
  {
   "cell_type": "code",
   "execution_count": 138,
   "metadata": {},
   "outputs": [
    {
     "data": {
      "text/plain": [
       "('K:/20220713/tickle_169.9Vpp_2500mV_0_0_100k_400k_000.dat',\n",
       " 'K:/20220713/tickle_170Vpp_2500mV_0_0_100k_400k_000.dat',\n",
       " 'K:/20220713/tickle_170Vpp_2500mV_0_0_100k_400k_001.dat',\n",
       " 'K:/20220713/tickle_170Vpp_2500mV_0_0_400k_100k_000.dat',\n",
       " 'K:/20220713/tickle_170Vpp_2500mV_0_0_400k_100k_001.dat',\n",
       " 'K:/20220713/tickle_170Vpp_2500mV_0_0_400k_100k_002.dat',\n",
       " 'K:/20220713/tickle_170Vpp_2500mV_0_0_100k_400k_002.dat',\n",
       " 'K:/20220713/tickle_170Vpp_2500mV_0_0_100k_400k_003.dat',\n",
       " 'K:/20220713/tickle_170Vpp_2000mV_0_0_100k_400k_000.dat',\n",
       " 'K:/20220713/tickle_170Vpp_2000mV_0_0_100k_400k_001.dat',\n",
       " 'K:/20220713/tickle_170Vpp_2000mV_0_0_100k_400k_002.dat',\n",
       " 'K:/20220713/tickle_170Vpp_1500mV_0_0_100k_400k_000.dat',\n",
       " 'K:/20220713/tickle_170Vpp_1500mV_0_0_100k_400k_001.dat',\n",
       " 'K:/20220713/tickle_170Vpp_1000mV_0_0_050k_350k_000.dat',\n",
       " 'K:/20220713/tickle_170Vpp_1000mV_0_0_050k_350k_001.dat',\n",
       " 'K:/20220713/tickle_170Vpp_1000mV_0_0_050k_350k_002.dat',\n",
       " 'K:/20220713/tickle_170Vpp_1000mV_0_0_050k_350k_003.dat',\n",
       " 'K:/20220713/tickle_170Vpp_1000mV_0_0_050k_350k_004.dat',\n",
       " 'K:/20220713/tickle_150Vpp_1000mV_0_0_050k_350k_000.dat',\n",
       " 'K:/20220713/tickle_150Vpp_1000mV_0_0_050k_350k_001.dat',\n",
       " 'K:/20220713/tickle_150Vpp_1000mV_0_0_050k_350k_002.dat',\n",
       " 'K:/20220713/tickle_150Vpp_1000mV_0_0_050k_350k_003.dat',\n",
       " 'K:/20220713/tickle_130Vpp_1000mV_0_0_050k_350k_000.dat',\n",
       " 'K:/20220713/tickle_130Vpp_1000mV_0_0_050k_350k_001.dat',\n",
       " 'K:/20220713/tickle_130Vpp_1000mV_0_0_050k_350k_002.dat')"
      ]
     },
     "execution_count": 138,
     "metadata": {},
     "output_type": "execute_result"
    }
   ],
   "source": [
    "file_path"
   ]
  },
  {
   "cell_type": "code",
   "execution_count": 139,
   "metadata": {},
   "outputs": [],
   "source": [
    "# open the files and save the data\n",
    "# TP is time\n",
    "# PM is fluo\n",
    "# VB is voltage applied to the GBF\n",
    "filename=file_path\n",
    "m=len(filename)\n",
    "n=len(loadtxt('%s' %filename[1],usecols=(0),unpack=True))\n",
    "shape=(m,n)\n",
    "# Temps, PM, Tension Pzt bleu\n",
    "TP = zeros(shape)\n",
    "PM = zeros(shape)\n",
    "VB = zeros(shape)\n",
    "for k in range(0,len(filename),1):\n",
    "    TP[:][k],PM[:][k],VB[:][k] = loadtxt('%s' %filename[k],usecols=(0,1,3),unpack=True)   "
   ]
  },
  {
   "cell_type": "code",
   "execution_count": null,
   "metadata": {},
   "outputs": [],
   "source": [
    "# chose a file and plot it\n",
    "to_plot = 8\n",
    "pos_freq = file_path[to_plot].find('0_0_')\n",
    "freq_start = int(file_path[to_plot][pos_freq+4:pos_freq+7])\n",
    "freq_end   = int(file_path[to_plot][pos_freq+9:pos_freq+12])\n",
    "freq = linspace(freq_start,freq_end,len(TP[:][to_plot]))\n",
    "# print(freq)\n",
    "#pos_min = find_peaks(PM[:][to_plot],prominence=(250,None))[0] # max(PM[:][to_plot])/2,distance=50\n",
    "pos_min = argrelextrema(PM[:][to_plot],less,order=50)\n",
    "\n",
    "figure('Plot tickle').clf()\n",
    "\n",
    "plot(freq,PM[to_plot],'')\n",
    "plot(freq[pos_min],PM[to_plot][pos_min],'P') # [800]*len(freq[pos_min])\n",
    "# plot(freq[1000-2:-1],PM[1],'r')\n",
    "xlabel('Tickle frequency [kHz]')\n",
    "ylabel('Fluorescence [cnt/250ms]')\n",
    "grid()\n",
    "plt.tight_layout()"
   ]
  },
  {
   "cell_type": "code",
   "execution_count": null,
   "metadata": {},
   "outputs": [],
   "source": [
    "# bad start\n",
    "# 0 1\n",
    "# bad resonance\n",
    "# 2 3     4 5 6 7 24 bad also\n",
    "\n",
    "# exploitable\n",
    "# 8 9 10 11 12 13 14 15 16 17 18 19 20 21 22? 23?"
   ]
  },
  {
   "cell_type": "code",
   "execution_count": 231,
   "metadata": {},
   "outputs": [
    {
     "data": {
      "text/plain": [
       "array([ 48, 141, 267, 398, 464, 533, 608, 703, 842, 950], dtype=int64)"
      ]
     },
     "execution_count": 231,
     "metadata": {},
     "output_type": "execute_result"
    }
   ],
   "source": [
    "argrelextrema(PM_170_2000,less,order=50)[0]"
   ]
  },
  {
   "cell_type": "code",
   "execution_count": 262,
   "metadata": {},
   "outputs": [],
   "source": [
    "# let's compare\n",
    "# 8 9 10           tickle_170Vpp_2000mV_0_0_100k_400k\n",
    "PM_170_2000 = mean(PM[:][8:11],axis=0)\n",
    "freq_170_2000 = linspace(100,400,len(TP[:][13]))\n",
    "pos_min_170_2000 = argrelextrema(PM_170_2000,less,order=80)[0]\n",
    "# 13 14 15 16 17   tickle_170Vpp_1000mV_0_0_050k_350k\n",
    "PM_170_1000 = mean(PM[:][13:18],axis=0)\n",
    "freq_170_1000 = linspace(50,350,len(TP[:][13]))\n",
    "pos_min_170_1000 = argrelextrema(PM_170_1000,less,order=80)[0]"
   ]
  },
  {
   "cell_type": "code",
   "execution_count": 272,
   "metadata": {},
   "outputs": [],
   "source": [
    "figure('Plot tickle 170_2000').clf()\n",
    "\n",
    "plot(freq_170_2000,PM_170_2000)\n",
    "plot(freq_170_2000[pos_min_170_2000],PM_170_2000[pos_min_170_2000],'P')\n",
    "\n",
    "for i,j in enumerate(pos_min_170_2000):\n",
    "    text(freq_170_2000[j],PM_170_2000[j]*0.975,f'{freq_170_2000[j]:.1f}',fontsize=12)\n",
    "# plot(freq_170_1000,PM[:][10])\n",
    "# plot(freq[pos_min],PM[to_plot][pos_min],'P') # [800]*len(freq[pos_min])\n",
    "# plot(freq[1000-2:-1],PM[1],'r')\n",
    "xlabel('Tickle frequency [kHz]')\n",
    "ylabel('Fluorescence [cnt/60ms]')\n",
    "grid()\n",
    "plt.tight_layout()"
   ]
  },
  {
   "cell_type": "code",
   "execution_count": 271,
   "metadata": {},
   "outputs": [
    {
     "name": "stdout",
     "output_type": "stream",
     "text": [
      "[ 64.42885772  92.38476954 130.26052104 189.47895792 232.76553106\n",
      " 261.32264529 303.10621242 335.57114228]\n"
     ]
    }
   ],
   "source": [
    "# plot freq of peaks\n",
    "print(freq_170_1000[pos_min_170_2000])\n",
    "\n",
    "# compare with expecteed values\n",
    "# for Urf = 42.43 V, Udc = 2 V\n",
    "# f_z = 118423.42413463586\n",
    "# f_x = 295882.3513634161\n",
    "# f_r = 283785.679970745"
   ]
  },
  {
   "cell_type": "code",
   "execution_count": 273,
   "metadata": {},
   "outputs": [],
   "source": [
    "figure('Plot tickle 170_1000').clf()\n",
    "\n",
    "plot(freq_170_1000,PM_170_1000)\n",
    "plot(freq_170_1000[pos_min_170_1000],PM_170_1000[pos_min_170_1000],'P')\n",
    "\n",
    "for i,j in enumerate(pos_min_170_1000):\n",
    "    text(freq_170_1000[j],PM_170_1000[j]*0.975,f'{freq_170_1000[j]:.1f}',fontsize=12)\n",
    "# plot(freq_170_1000,PM[:][10])\n",
    "# plot(freq[pos_min],PM[to_plot][pos_min],'P') # [800]*len(freq[pos_min])\n",
    "# plot(freq[1000-2:-1],PM[1],'r')\n",
    "xlabel('Tickle frequency [kHz]')\n",
    "ylabel('Fluorescence [cnt/60ms]')\n",
    "grid()\n",
    "plt.tight_layout()"
   ]
  },
  {
   "cell_type": "code",
   "execution_count": 269,
   "metadata": {},
   "outputs": [
    {
     "name": "stdout",
     "output_type": "stream",
     "text": [
      "[ 86.37274549 149.19839679 220.44088176 274.5490982  321.44288577]\n"
     ]
    }
   ],
   "source": [
    "# plot freq of peaks\n",
    "print(freq_170_1000[pos_min_170_1000])\n",
    "\n",
    "# compare with expecteed values\n",
    "# for Urf = 42.43 V, Udc = 1 V\n",
    "# f_z = 83738.00625693168\n",
    "# f_x = 295882.3513634161\n",
    "# f_r = 289897.1179615297"
   ]
  },
  {
   "cell_type": "code",
   "execution_count": null,
   "metadata": {},
   "outputs": [],
   "source": []
  },
  {
   "cell_type": "code",
   "execution_count": null,
   "metadata": {},
   "outputs": [],
   "source": []
  },
  {
   "cell_type": "code",
   "execution_count": null,
   "metadata": {},
   "outputs": [],
   "source": []
  }
 ],
 "metadata": {
  "kernelspec": {
   "display_name": "Python 3",
   "language": "python",
   "name": "python3"
  },
  "language_info": {
   "codemirror_mode": {
    "name": "ipython",
    "version": 3
   },
   "file_extension": ".py",
   "mimetype": "text/x-python",
   "name": "python",
   "nbconvert_exporter": "python",
   "pygments_lexer": "ipython3",
   "version": "3.7.6"
  }
 },
 "nbformat": 4,
 "nbformat_minor": 1
}
