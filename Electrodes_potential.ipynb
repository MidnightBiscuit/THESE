{
 "cells": [
  {
   "cell_type": "code",
   "execution_count": 3,
   "metadata": {},
   "outputs": [],
   "source": [
    "# %pylab\n",
    "\n",
    "import numpy\n",
    "import matplotlib\n",
    "from matplotlib import pylab, mlab, pyplot\n",
    "from mpl_toolkits.mplot3d import Axes3D\n",
    "np = numpy\n",
    "plt = pyplot\n",
    "\n",
    "from pylab import *\n",
    "from numpy import *\n",
    "\n",
    "%matplotlib qt"
   ]
  },
  {
   "cell_type": "code",
   "execution_count": 11,
   "metadata": {},
   "outputs": [],
   "source": [
    "from scipy.integrate import ode as ode\n",
    "from matplotlib import cm\n",
    "from itertools import product\n",
    "%matplotlib qt"
   ]
  },
  {
   "cell_type": "code",
   "execution_count": 1,
   "metadata": {},
   "outputs": [],
   "source": [
    "class charge:\n",
    "    def __init__(self, q, pos):\n",
    "        self.q=q\n",
    "        self.pos=pos\n",
    " \n",
    "def E_point_charge(q, a, x, y):\n",
    "    return q*(x-a[0])/((x-a[0])**2+(y-a[1])**2)**(1.5), \\\n",
    "        q*(y-a[1])/((x-a[0])**2+(y-a[1])**2)**(1.5)\n",
    " \n",
    "def E_total(x, y, charges):\n",
    "    Ex, Ey=0, 0\n",
    "    for C in charges:\n",
    "        E=E_point_charge(C.q, C.pos, x, y)\n",
    "        Ex=Ex+E[0]\n",
    "        Ey=Ey+E[1]\n",
    "    return [ Ex, Ey ]\n",
    "\n",
    "def E_dir(t, y, charges):\n",
    "    Ex, Ey=E_total(y[0], y[1], charges)\n",
    "    n=np.sqrt(Ex**2+Ey*Ey)\n",
    "    return [Ex/n, Ey/n]\n",
    "\n",
    "def V_point_charge(q, a, x, y):\n",
    "    return q/((x-a[0])**2+(y-a[1])**2)**(0.5)\n",
    "\n",
    "def V_total(x, y, charges):\n",
    "    V=0\n",
    "    for C in charges:\n",
    "        Vp=V_point_charge(C.q, C.pos, x, y)\n",
    "        V = V+Vp\n",
    "    return V"
   ]
  },
  {
   "cell_type": "code",
   "execution_count": 22,
   "metadata": {},
   "outputs": [],
   "source": [
    "# charges and positions\n",
    "# charges=[ charge(-1, [-1, 0]), charge(-1, [1, 0]), charge(1, [0, 1]), charge(1, [0, -1]) ]\n",
    "charges=[ charge(-1, [0,1]),charge(-1, [0,0.8]),charge(-1, [0,0.6]),charge(-1, [0,0.4]),charge(-1, [0,0.2]),\n",
    "        charge(-1, [0,-1]),charge(-1, [0,-0.8]),charge(-1, [0,-0.6]),charge(-1, [0,-0.4]),charge(-1, [0,-0.2]),\n",
    "         charge(1, [-1,1]),charge(1, [-1,0.8]),charge(1, [-1,0.6]),charge(1, [-1,0.4]),charge(1, [-1,0.2]),\n",
    "        charge(1, [-1,-1]),charge(1, [-1,-0.8]),charge(1, [-1,-0.6]),charge(1, [-1,-0.4]),charge(1, [-1,-0.2])]\n",
    " \n",
    "# calculate field lines\n",
    "x0, x1=-3, 3\n",
    "y0, y1=-3, 3\n",
    "R=0.01\n",
    "# loop over all charges\n",
    "xs,ys = [],[]\n",
    "for C in charges:\n",
    "    # plot field lines starting in current charge\n",
    "    dt=0.8*R\n",
    "    if C.q<0:\n",
    "        dt=-dt\n",
    "    # loop over field lines starting in different directions \n",
    "    # around current charge\n",
    "    for alpha in np.linspace(0, 2*np.pi*15/16, 16):\n",
    "        r=ode(E_dir)\n",
    "        r.set_integrator('vode')\n",
    "        r.set_f_params(charges)\n",
    "        x=[ C.pos[0] + np.cos(alpha)*R ]\n",
    "        y=[ C.pos[1] + np.sin(alpha)*R ]\n",
    "        r.set_initial_value([x[0], y[0]], 0)\n",
    "        while r.successful():\n",
    "            r.integrate(r.t+dt)\n",
    "            x.append(r.y[0])\n",
    "            y.append(r.y[1])\n",
    "            hit_charge=False\n",
    "            # check if field line left drwaing area or ends in some charge\n",
    "            for C2 in charges:\n",
    "                if np.sqrt((r.y[0]-C2.pos[0])**2+(r.y[1]-C2.pos[1])**2)<R:\n",
    "                    hit_charge=True\n",
    "            if hit_charge or (not (x0<r.y[0] and r.y[0]<x1)) or \\\n",
    "                    (not (y0<r.y[1] and r.y[1]<y1)):\n",
    "                break\n",
    "        xs.append(x)\n",
    "        ys.append(y)"
   ]
  },
  {
   "cell_type": "code",
   "execution_count": 23,
   "metadata": {},
   "outputs": [],
   "source": [
    "# calculate electric potential\n",
    "vvs = []\n",
    "xxs = []\n",
    "yys = []\n",
    "numcalcv = 300\n",
    "for xx,yy in product(np.linspace(x0,x1,numcalcv),np.linspace(y0,y1,numcalcv)):\n",
    "    xxs.append(xx)\n",
    "    yys.append(yy)\n",
    "    vvs.append(V_total(xx,yy,charges))\n",
    "xxs = np.array(xxs)\n",
    "yys = np.array(yys)\n",
    "vvs = np.array(vvs)"
   ]
  },
  {
   "cell_type": "code",
   "execution_count": 24,
   "metadata": {},
   "outputs": [
    {
     "name": "stderr",
     "output_type": "stream",
     "text": [
      "/home/adrian/.local/lib/python3.6/site-packages/matplotlib/cbook/deprecation.py:107: MatplotlibDeprecationWarning: Adding an axes using the same arguments as a previous axes currently reuses the earlier instance.  In a future version, a new instance will always be created and returned.  Meanwhile, this warning can be suppressed, and the future behavior ensured, by passing a unique label to each axes instance.\n",
      "  warnings.warn(message, mplDeprecation, stacklevel=1)\n"
     ]
    }
   ],
   "source": [
    "plt.figure(figsize=(5.5, 4.5),facecolor=\"w\")\n",
    "\n",
    "# plot field line\n",
    "for x, y in zip(xs,ys):\n",
    "    plt.plot(x, y, color=\"k\")\n",
    "\n",
    "# plot point charges\n",
    "for C in charges:\n",
    "    if C.q>0:\n",
    "        plt.plot(C.pos[0], C.pos[1], 'ro', ms=8*np.sqrt(C.q))\n",
    "    if C.q<0:\n",
    "        plt.plot(C.pos[0], C.pos[1], 'bo', ms=8*np.sqrt(-C.q))\n",
    "\n",
    "# plot electric potential\n",
    "clim0,clim1 = -2,2\n",
    "vvs[np.where(vvs<clim0)] = clim0*0.999999 # to avoid error\n",
    "vvs[np.where(vvs>clim1)] = clim1*0.999999 # to avoid error\n",
    "plt.tricontour(xxs,yys,vvs,10,colors=\"0.3\")\n",
    "plt.tricontourf(xxs,yys,vvs,100,cmap=cm.jet)\n",
    "cbar = plt.colorbar()\n",
    "cbar.set_clim(clim0,clim1)\n",
    "cbar.set_ticks([-2,-1.5,-1,-0.5,0,0.5,1,1.5,2])\n",
    "cbar.set_label(\"Electric Potential\")\n",
    "plt.xlabel('$x$')\n",
    "plt.ylabel('$y$')\n",
    "plt.xlim(x0, x1)\n",
    "plt.ylim(y0, y1)\n",
    "plt.axes().set_aspect('equal','datalim')\n",
    "# plt.savefig('electric_force_lines_1.png',dpi=250,bbox_inches=\"tight\",pad_inches=0.02)\n",
    "plt.show()"
   ]
  },
  {
   "cell_type": "code",
   "execution_count": null,
   "metadata": {},
   "outputs": [],
   "source": []
  },
  {
   "cell_type": "code",
   "execution_count": null,
   "metadata": {},
   "outputs": [],
   "source": []
  }
 ],
 "metadata": {
  "kernelspec": {
   "display_name": "Python 3",
   "language": "python",
   "name": "python3"
  },
  "language_info": {
   "codemirror_mode": {
    "name": "ipython",
    "version": 3
   },
   "file_extension": ".py",
   "mimetype": "text/x-python",
   "name": "python",
   "nbconvert_exporter": "python",
   "pygments_lexer": "ipython3",
   "version": "3.6.7"
  }
 },
 "nbformat": 4,
 "nbformat_minor": 2
}
