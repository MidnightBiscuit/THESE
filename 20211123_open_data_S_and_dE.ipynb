{
 "cells": [
  {
   "cell_type": "code",
   "execution_count": 1,
   "metadata": {},
   "outputs": [],
   "source": [
    "# %pylab\n",
    "\n",
    "import numpy\n",
    "import matplotlib\n",
    "from matplotlib import pylab, mlab, pyplot\n",
    "from mpl_toolkits.mplot3d import Axes3D\n",
    "np = numpy\n",
    "plt = pyplot\n",
    "\n",
    "from pylab import *\n",
    "from numpy import *\n",
    "\n",
    "%matplotlib qt"
   ]
  },
  {
   "cell_type": "code",
   "execution_count": 2,
   "metadata": {},
   "outputs": [],
   "source": [
    "import scipy.fftpack\n",
    "from scipy.signal import gaussian\n",
    "from scipy.signal import savgol_filter\n",
    "from scipy.optimize import curve_fit\n",
    "matplotlib.rcParams['figure.figsize'] = [10.5,7]\n",
    "matplotlib.rcParams.update({'font.size': 25})\n",
    "%matplotlib qt"
   ]
  },
  {
   "cell_type": "code",
   "execution_count": 127,
   "metadata": {},
   "outputs": [],
   "source": [
    "matplotlib.rcParams.update({'font.size': 25})"
   ]
  },
  {
   "cell_type": "code",
   "execution_count": 3,
   "metadata": {},
   "outputs": [],
   "source": [
    "def my_lin(x,a,b):\n",
    "    return a*x+b\n",
    "\n",
    "def my_power_law(x,a,b):\n",
    "    return a*(x**b)\n",
    "\n",
    "def my_log(x,a,b):\n",
    "    return a*log(k*(x-x_0))+b"
   ]
  },
  {
   "cell_type": "code",
   "execution_count": 4,
   "metadata": {},
   "outputs": [],
   "source": [
    "my_color = ['C0','C1','C2','C3','C4']"
   ]
  },
  {
   "cell_type": "code",
   "execution_count": 57,
   "metadata": {},
   "outputs": [],
   "source": [
    "%run ../../RF_heating/fct_RF_heating"
   ]
  },
  {
   "cell_type": "code",
   "execution_count": 8,
   "metadata": {},
   "outputs": [
    {
     "name": "stdout",
     "output_type": "stream",
     "text": [
      "$\\kappa_{simion}$ = 0.270471\n"
     ]
    }
   ],
   "source": [
    "# Constantes de la physique\n",
    "# ABSOLUMENT RECHARGER APRÈS AVOIR EXECUTÉ LES CASES D'IMPORT AU DESSUS\n",
    "\n",
    "C_e = 1.602e-19        # Coulomb\n",
    "kb = 1.38064852*1e-23  # Boltzman\n",
    "ke = 8.987551787e9\n",
    "m_Ca = 40.078*1.66054e-27 # masse Ca 40.078\n",
    "m_GM = 1e6*1.66054e-27 # la masse de la GMol\n",
    "eps0 = 8.854187*1e-12  # permittivité électrique du vide\n",
    "\n",
    "r0 = 2.5e-3 # 2.5e-3   # rayon piège Ca+\n",
    "d0 = 4e-3/2            # longueur piège Ca+\n",
    "\n",
    "Omega = 2.05e6*2*pi # 2.047e6\n",
    "\n",
    "bk = 4 # nombre de barreaux par groupe (2 -> 4-pole , 4 -> 8-pole ...)\n",
    "\n",
    "mkappa = 0.23          # écrantage piège réel GiantMol\n",
    "wzLC = (2*pi*90806.9982303)**2\n",
    "kappa_simion = m_Ca*d0**2*wzLC/(2*C_e)\n",
    "print('%s = %f' % ('$\\kappa_{simion}$',kappa_simion) )\n",
    "\n",
    "zeta = kappa_simion*r0**2/d0**2"
   ]
  },
  {
   "cell_type": "code",
   "execution_count": 10,
   "metadata": {},
   "outputs": [
    {
     "name": "stdout",
     "output_type": "stream",
     "text": [
      "U_rf must be greater than 18.20 V\n"
     ]
    }
   ],
   "source": [
    "# calculate limit voltages\n",
    "Udc = 3\n",
    "omega_z_2 = Udc*(2*pi*100000)**2 # 90806.9982303\n",
    "Urf_max = omega_z_2 * ( Omega * r0**2 * m_Ca /2/C_e)**2\n",
    "print('U_rf must be greater than',f'{sqrt(Urf_max):.2f} V')"
   ]
  },
  {
   "cell_type": "code",
   "execution_count": 11,
   "metadata": {},
   "outputs": [
    {
     "name": "stdout",
     "output_type": "stream",
     "text": [
      "alpha = 0.15865901318020556\n",
      "qx = 0.5999559785447788\n",
      "f_z = 173205.0807568877\n",
      "f_x = 434838.7643634847\n",
      "f_r = 417234.6474025882\n"
     ]
    }
   ],
   "source": [
    "Udc = 3\n",
    "Urf = 64.61\n",
    "omega_z_2 = Udc*(2*pi*100e3)**2\n",
    "omega_x_2 = 2*(C_e*Urf/m_Ca/Omega/r0**2)**2\n",
    "omega_r_2 = omega_x_2 - 0.5*omega_z_2\n",
    "\n",
    "qx = 4*C_e*Urf/(m_Ca*r0**2*Omega**2)\n",
    "ax = 8*C_e*0/(m_Ca*r0**2*Omega**2)\n",
    "\n",
    "print('alpha =',omega_z_2/omega_x_2)\n",
    "print('qx =',qx)\n",
    "print('f_z =',sqrt(omega_z_2)/2/pi)\n",
    "print('f_x =',sqrt(omega_x_2)/2/pi)\n",
    "print('f_r =',sqrt(omega_r_2)/2/pi)"
   ]
  },
  {
   "cell_type": "code",
   "execution_count": 12,
   "metadata": {},
   "outputs": [],
   "source": [
    "N_ions = 1024\n",
    "n_dt = 500\n",
    "# dt = 100e-9/n_dt\n",
    "dt = 2*pi/(500*2e6*2*pi)"
   ]
  },
  {
   "cell_type": "code",
   "execution_count": 17,
   "metadata": {},
   "outputs": [
    {
     "name": "stdout",
     "output_type": "stream",
     "text": [
      "/home/adrian/RemoteFS/Rivendel/Simulations/20211123/DC03V_RF64V/eta_5-20/\n",
      "/home/adrian/RemoteFS/Rivendel/Simulations/20211123/DC03V_RF64V/eta_5-20/Temp_SimuType0_N01024_Vrf0064_Udc0.3000D+01V_nt500\n"
     ]
    }
   ],
   "source": [
    "# rep_name = '/home/adrian/RemoteFS/Hobitton/20210324/DC35V_RF64V/n_dt_'+str(n_dt)+'/' # DC05V_RF10V\n",
    "# rep_name = '/home/adrian/RemoteFS/Rivendel/Simulations/20210830/DC03V_RF64V_1ion/eta_1-20/' # DC05V_RF10V\n",
    "rep_name = '/home/adrian/RemoteFS/Rivendel/Simulations/20211123/DC03V_RF64V/eta_5-20/' # DC05V_RF10V\n",
    "cond_name = 'Vrf0064_Udc0.3000D+01V'\n",
    "# cond_name = 'Vrf0010_Udc0.5000D+02V'\n",
    "print(rep_name)\n",
    "\n",
    "# file = rep_name + 'Temp_SimuType0_N00128_Vrf0010_Udc0.5000D+00V_nt100'\n",
    "file_SimuType0 = rep_name + f'Temp_SimuType0_N{N_ions:05d}_' + cond_name + '_nt500'\n",
    "print(file_SimuType0)\n",
    "# time, T_CM, T_aux, samp_dE_dt, S_heating = load_T_and_dE_S_simu(file_SimuType0)\n",
    "# print(samp_dE_dt)\n",
    "# file_energies = rep_name + 'Energies_ndt100_vdt2'\n",
    "# j_save_E, size_Energy_array, dE_dt = load_energies(file_energies,flag_print=1)\n",
    "# full_dE_dt = reshape(dE_dt,(int(size_Energy_array),6),order='F')[:,3]\n",
    "# print(full_dE_dt)"
   ]
  },
  {
   "cell_type": "code",
   "execution_count": 115,
   "metadata": {},
   "outputs": [
    {
     "name": "stdout",
     "output_type": "stream",
     "text": [
      "/home/adrian/RemoteFS/Rivendel/Simulations/20211123/DC03V_RF64V/eta_5-20/xva_3D_Harmo_N1024_T***uK_F0.50D-19Kg_s_5 \n",
      " /home/adrian/RemoteFS/Rivendel/Simulations/20211123/DC03V_RF64V/eta_5-20/trjN_L\n"
     ]
    }
   ],
   "source": [
    "str_load_Lan = rep_name + f'xva_3D_Harmo_N{N_ions:04d}_T***uK_F0.50D-19Kg_s_5'\n",
    "str_load_Lan_xva = rep_name + f'trjN_L'\n",
    "print(str_load_Lan,'\\n',str_load_Lan_xva)\n",
    "# print(str_load_Lan)\n",
    "# xva_pos = str_load_Lan.find('xva')\n",
    "# print(str_load_Lan[:xva_pos]+'Langevin_cooling'+'.info')\n",
    "# print(str_load_Lan+'.bin')\n",
    "# plot_XYZ_Lan(str_load_Lan)"
   ]
  },
  {
   "cell_type": "code",
   "execution_count": 116,
   "metadata": {},
   "outputs": [],
   "source": [
    "str_load_Ver = rep_name + f'xva_SimuType0_N{N_ions:05d}_' + cond_name + '_var_dt'\n",
    "# xva_pos = str_load_Ver.find('xva')\n",
    "# print(str_load_Ver[:xva_pos]+'Langevin_cooling'+'.info')\n",
    "# print(str_load_Ver+'.bin')\n",
    "# plot_XYZ(str_load_Ver)"
   ]
  },
  {
   "cell_type": "code",
   "execution_count": 117,
   "metadata": {},
   "outputs": [
    {
     "name": "stderr",
     "output_type": "stream",
     "text": [
      "/home/adrian/Documents/Programmes/RF_heating/fct_RF_heating.py:145: VisibleDeprecationWarning: Reading unicode strings without specifying the encoding argument is deprecated. Set the encoding, use None for the system default.\n",
      "  aux_info = genfromtxt(str_load[:xva_pos]+'Langevin_cooling'+'.info',comments='%',dtype=None)\n"
     ]
    },
    {
     "name": "stdout",
     "output_type": "stream",
     "text": [
      "1024\n",
      "b'xva_3D_Harmo_N1024_T***uK_F0.50D-19Kg_s_5'\n"
     ]
    }
   ],
   "source": [
    "r_LC,v_LC,a_LC,v_LC_avg = load_xyz_init_bin_DP_Lan(str_load_Lan)\n",
    "zline = r_LC[2,:]*1000\n",
    "xline = r_LC[0,:]*1000\n",
    "yline = r_LC[1,:]*1000\n",
    "fname='3D_cloud'\n",
    "fig = plt.figure(num=fname)\n",
    "ax = plt.axes(projection='3d')\n",
    "ax.plot3D(xline, yline, zline, color='xkcd:purplish blue',ls='',marker='o')\n",
    "xaxisline = [0]*1000\n",
    "yaxisline = [0]*1000\n",
    "zaxisline = linspace(-1,1,1000)\n",
    "ax.plot3D(xaxisline, yaxisline, zaxisline, color='xkcd:black',ls=':')\n",
    "# ax.set_xlim(-0.3,0.3)\n",
    "# ax.set_ylim(-0.3,0.3)\n",
    "# ax.set_zlim(-0.3,0.3)\n",
    "tight_layout()\n",
    "# savefig(rep_name+'3D_cloud_Lan')"
   ]
  },
  {
   "cell_type": "code",
   "execution_count": 119,
   "metadata": {},
   "outputs": [],
   "source": [
    "%run ../../RF_heating/fct_RF_heating"
   ]
  },
  {
   "cell_type": "code",
   "execution_count": 196,
   "metadata": {
    "scrolled": true
   },
   "outputs": [
    {
     "name": "stdout",
     "output_type": "stream",
     "text": [
      "len save_T [56000]\n",
      "[5.00000000e-07 1.76446008e-03 1.75323433e-03 1.79439639e-07\n",
      " 1.86741573e+01 3.08753989e+01 1.44442744e+02]\n",
      "-8.563361725481116e-07\n"
     ]
    }
   ],
   "source": [
    "# Temperature and dE/dt\n",
    "\n",
    "tt, tt1, T_CM, T_aux, dE, S_heating = plot_T_and_dE_S(rep_name,str_load_Lan,str_load_Ver,\n",
    "                                                      flag_plot=1,temp_avg=1,\n",
    "                                                      fig_name=str_load_Ver[40:66],\n",
    "                                                      xlim1=(-0.2,5.78),ylim1=(5e-4,2e2),ylim2=(-0.9,0.9))\n",
    "print(min(dE))\n",
    "# savefig(rep_name+'T_dE')\n",
    "# tt[1980],tt1[0]"
   ]
  },
  {
   "cell_type": "code",
   "execution_count": 199,
   "metadata": {},
   "outputs": [],
   "source": [
    "# Plot temperature Langevin + md laser  ALL SimuType   ALL TEMP SEPARATED\n",
    "\n",
    "#fig_name = file_name[-9:]\n",
    "fname = 'T'\n",
    "fig, ax = plt.subplots(1,1,num=fname,clear=True,sharex=True,sharey=True) \n",
    "fig.set_size_inches(11.69,4.5)\n",
    "\n",
    "ax.plot(tt*1000,T_aux,color='red')\n",
    "\n",
    "ax.grid()\n",
    "ax.set_xlabel('time [ms]')\n",
    "ax.set_ylabel(r'T [K]')\n",
    "\n",
    "ax.set_xlim(4.1, 5.75)\n",
    "# ax.set_ylim(0.0001, 1200)\n",
    "\n",
    "plt.tight_layout()\n",
    "subplots_adjust(hspace=0.0)\n",
    "# savefig(fname = figname+'_'+re.sub('/','_',dirname_hc[31:-1])+'.png',dpi=300)\n",
    "# savefig(fname+'_D'+str(Detuning)+'_50eV'+'.png',dpi=300)"
   ]
  },
  {
   "cell_type": "code",
   "execution_count": 198,
   "metadata": {},
   "outputs": [],
   "source": [
    "# Plot temperature Langevin + md laser  ALL SimuType   ALL TEMP SEPARATED\n",
    "\n",
    "#fig_name = file_name[-9:]\n",
    "fname = 'dT/dt'\n",
    "fig, ax = plt.subplots(1,1,num=fname,clear=True,sharex=True,sharey=True) \n",
    "fig.set_size_inches(11.69,4.5)\n",
    "\n",
    "ax.plot(tt[1:]*1000,diff(T_aux),color='red')\n",
    "\n",
    "ax.grid()\n",
    "ax.set_xlabel('time [ms]')\n",
    "ax.set_ylabel(r'T [K]')\n",
    "\n",
    "# ax.set_xlim(4.1, 5.75)\n",
    "# ax.set_ylim(0.0001, 1200)\n",
    "\n",
    "plt.tight_layout()\n",
    "subplots_adjust(hspace=0.0)\n",
    "# savefig(fname = figname+'_'+re.sub('/','_',dirname_hc[31:-1])+'.png',dpi=300)\n",
    "# savefig(fname+'_D'+str(Detuning)+'_50eV'+'.png',dpi=300)"
   ]
  },
  {
   "cell_type": "code",
   "execution_count": 195,
   "metadata": {},
   "outputs": [],
   "source": [
    "# Plot temperature Langevin + md laser  ALL SimuType   ALL TEMP SEPARATED\n",
    "\n",
    "#fig_name = file_name[-9:]\n",
    "fname = 'DE'\n",
    "fig, ax = plt.subplots(1,1,num=fname,clear=True,sharex=True,sharey=True) \n",
    "fig.set_size_inches(11.69,8.27)\n",
    "\n",
    "ax.plot(tt1*1000,S_heating*1e6)\n",
    "ax.plot(tt*1000,T_aux)\n",
    "\n",
    "ax.grid()\n",
    "ax.set_xlabel('time [ms]')\n",
    "ax.set_ylabel(r'$\\frac{\\mathrm{d}E}{\\mathrm{d}t}$ [$10^{-6}$]')\n",
    "\n",
    "# ax.set_xlim(-0.15, 10.75)\n",
    "# ax.set_ylim(0.0001, 1200)\n",
    "\n",
    "plt.tight_layout()\n",
    "subplots_adjust(hspace=0.0)\n",
    "# savefig(fname = figname+'_'+re.sub('/','_',dirname_hc[31:-1])+'.png',dpi=300)\n",
    "# savefig(fname+'_D'+str(Detuning)+'_50eV'+'.png',dpi=300)"
   ]
  },
  {
   "cell_type": "code",
   "execution_count": null,
   "metadata": {},
   "outputs": [],
   "source": [
    "# Plot temperature Langevin + md laser  ALL SimuType   ALL TEMP SEPARATED\n",
    "\n",
    "#fig_name = file_name[-9:]\n",
    "figname = 'DE'\n",
    "fig, ax = plt.subplots(1,1,num=fname,clear=True,sharex=True,sharey=True) \n",
    "fig.set_size_inches(11.69,8.27)\n",
    "\n",
    "ax.plot(tt1*1000,S_heating*1e6)\n",
    "ax.plot(tt*1000,T_aux)\n",
    "\n",
    "ax.grid()\n",
    "ax.set_xlabel('time [ms]')\n",
    "ax.set_ylabel(r'$\\frac{\\mathrm{d}E}{\\mathrm{d}t}$ [$10^{-6}$]')\n",
    "\n",
    "# ax.set_xlim(-0.15, 10.75)\n",
    "# ax.set_ylim(0.0001, 1200)\n",
    "\n",
    "plt.tight_layout()\n",
    "subplots_adjust(hspace=0.0)\n",
    "# savefig(fname = figname+'_'+re.sub('/','_',dirname_hc[31:-1])+'.png',dpi=300)\n",
    "# savefig(fname+'_D'+str(Detuning)+'_50eV'+'.png',dpi=300)"
   ]
  },
  {
   "cell_type": "code",
   "execution_count": 174,
   "metadata": {},
   "outputs": [],
   "source": [
    "def my_tanh(time,Nh,xoff):\n",
    "    return 1+tanh(2*Nh*(time+xoff))"
   ]
  },
  {
   "cell_type": "code",
   "execution_count": 176,
   "metadata": {},
   "outputs": [],
   "source": [
    "time = linspace(-2,2,1000)\n",
    "\n",
    "#fig_name = file_name[-9:]\n",
    "figname = 'TanH'\n",
    "fig, ax = plt.subplots(1,1,num=fname,clear=True,sharex=True,sharey=True) \n",
    "fig.set_size_inches(11.69,8.27)\n",
    "\n",
    "for k in range(1,10):\n",
    "    ax.plot(time,my_tanh(time,k,0))\n",
    "\n",
    "ax.grid()\n",
    "ax.set_xlabel('time [ms]')\n",
    "ax.set_ylabel(r'my_tanh')\n",
    "\n",
    "# ax.set_xlim(-0.15, 10.75)\n",
    "# ax.set_ylim(0.0001, 1200)\n",
    "\n",
    "plt.tight_layout()\n",
    "subplots_adjust(hspace=0.0)\n",
    "# savefig(fname = figname+'_'+re.sub('/','_',dirname_hc[31:-1])+'.png',dpi=300)\n",
    "# savefig(fname+'_D'+str(Detuning)+'_50eV'+'.png',dpi=300)"
   ]
  },
  {
   "cell_type": "code",
   "execution_count": null,
   "metadata": {},
   "outputs": [],
   "source": []
  },
  {
   "cell_type": "code",
   "execution_count": null,
   "metadata": {},
   "outputs": [],
   "source": []
  },
  {
   "cell_type": "code",
   "execution_count": 31,
   "metadata": {},
   "outputs": [
    {
     "name": "stdout",
     "output_type": "stream",
     "text": [
      "1024\n"
     ]
    }
   ],
   "source": [
    "plot_XYZ(str_load_Ver,fig_name='2',fig_title='XYZ')"
   ]
  },
  {
   "cell_type": "code",
   "execution_count": null,
   "metadata": {},
   "outputs": [],
   "source": [
    "# position for every time step"
   ]
  },
  {
   "cell_type": "code",
   "execution_count": 32,
   "metadata": {},
   "outputs": [],
   "source": [
    "ion_number = 15"
   ]
  },
  {
   "cell_type": "code",
   "execution_count": 33,
   "metadata": {},
   "outputs": [
    {
     "ename": "FileNotFoundError",
     "evalue": "[Errno 2] Aucun fichier ou dossier de ce type: '/home/adrian/RemoteFS/Rivendel/Simulations/20211123/DC03V_RF64V/eta_5-20/xva_SimuType0_N01024_Vrf0064_Udc0.3000D+01V_var_dt_TrjN_all_steps.bin'",
     "output_type": "error",
     "traceback": [
      "\u001b[0;31m---------------------------------------------------------------------------\u001b[0m",
      "\u001b[0;31mFileNotFoundError\u001b[0m                         Traceback (most recent call last)",
      "\u001b[0;32m<ipython-input-33-6fe207887c67>\u001b[0m in \u001b[0;36m<module>\u001b[0;34m()\u001b[0m\n\u001b[1;32m      1\u001b[0m \u001b[0;31m# xva_SimuType0_N00001_Vrf0064_Udc0.0000D+00V_var_dt_TrjN\u001b[0m\u001b[0;34m\u001b[0m\u001b[0;34m\u001b[0m\u001b[0;34m\u001b[0m\u001b[0m\n\u001b[0;32m----> 2\u001b[0;31m \u001b[0mj_save_temp\u001b[0m\u001b[0;34m,\u001b[0m \u001b[0mn_ions\u001b[0m\u001b[0;34m,\u001b[0m \u001b[0msave_trj_Cloud\u001b[0m \u001b[0;34m=\u001b[0m \u001b[0mload_cloud_trj\u001b[0m\u001b[0;34m(\u001b[0m\u001b[0mstr_load_Ver\u001b[0m\u001b[0;34m+\u001b[0m\u001b[0;34m'_TrjN_all_steps'\u001b[0m\u001b[0;34m)\u001b[0m\u001b[0;34m\u001b[0m\u001b[0;34m\u001b[0m\u001b[0m\n\u001b[0m\u001b[1;32m      3\u001b[0m \u001b[0mlonlon\u001b[0m \u001b[0;34m=\u001b[0m \u001b[0mj_save_temp\u001b[0m\u001b[0;34m+\u001b[0m\u001b[0;36m9\u001b[0m\u001b[0;34m\u001b[0m\u001b[0;34m\u001b[0m\u001b[0m\n\u001b[1;32m      4\u001b[0m \u001b[0mprint\u001b[0m\u001b[0;34m(\u001b[0m\u001b[0mlonlon\u001b[0m\u001b[0;34m)\u001b[0m\u001b[0;34m\u001b[0m\u001b[0;34m\u001b[0m\u001b[0m\n\u001b[1;32m      5\u001b[0m \u001b[0msave_trj_Cloud_bis\u001b[0m \u001b[0;34m=\u001b[0m \u001b[0mreshape\u001b[0m\u001b[0;34m(\u001b[0m\u001b[0msave_trj_Cloud\u001b[0m\u001b[0;34m,\u001b[0m \u001b[0;34m(\u001b[0m\u001b[0mN_ions\u001b[0m\u001b[0;34m,\u001b[0m\u001b[0;36m6\u001b[0m\u001b[0;34m,\u001b[0m\u001b[0mlonlon\u001b[0m\u001b[0;34m)\u001b[0m\u001b[0;34m,\u001b[0m \u001b[0morder\u001b[0m\u001b[0;34m=\u001b[0m\u001b[0;34m'F'\u001b[0m\u001b[0;34m)\u001b[0m\u001b[0;34m\u001b[0m\u001b[0;34m\u001b[0m\u001b[0m\n",
      "\u001b[0;32m~/Documents/Programmes/RF_heating/fct_RF_heating.py\u001b[0m in \u001b[0;36mload_cloud_trj\u001b[0;34m(str_load)\u001b[0m\n\u001b[1;32m    446\u001b[0m \u001b[0;34m\u001b[0m\u001b[0m\n\u001b[1;32m    447\u001b[0m \u001b[0;32mdef\u001b[0m \u001b[0mload_cloud_trj\u001b[0m\u001b[0;34m(\u001b[0m\u001b[0mstr_load\u001b[0m\u001b[0;34m)\u001b[0m\u001b[0;34m:\u001b[0m\u001b[0;34m\u001b[0m\u001b[0;34m\u001b[0m\u001b[0m\n\u001b[0;32m--> 448\u001b[0;31m     \u001b[0mfid\u001b[0m \u001b[0;34m=\u001b[0m \u001b[0mopen\u001b[0m\u001b[0;34m(\u001b[0m\u001b[0mstr_load\u001b[0m \u001b[0;34m+\u001b[0m \u001b[0;34m'.bin'\u001b[0m\u001b[0;34m,\u001b[0m \u001b[0;34m'rb'\u001b[0m\u001b[0;34m)\u001b[0m\u001b[0;34m\u001b[0m\u001b[0;34m\u001b[0m\u001b[0m\n\u001b[0m\u001b[1;32m    449\u001b[0m \u001b[0;34m\u001b[0m\u001b[0m\n\u001b[1;32m    450\u001b[0m     \u001b[0mjunk0\u001b[0m \u001b[0;34m=\u001b[0m \u001b[0mfromfile\u001b[0m\u001b[0;34m(\u001b[0m\u001b[0mfid\u001b[0m\u001b[0;34m,\u001b[0m \u001b[0mint32\u001b[0m\u001b[0;34m,\u001b[0m \u001b[0;36m1\u001b[0m\u001b[0;34m)\u001b[0m  \u001b[0;31m# Read record start tag\u001b[0m\u001b[0;34m\u001b[0m\u001b[0;34m\u001b[0m\u001b[0m\n",
      "\u001b[0;31mFileNotFoundError\u001b[0m: [Errno 2] Aucun fichier ou dossier de ce type: '/home/adrian/RemoteFS/Rivendel/Simulations/20211123/DC03V_RF64V/eta_5-20/xva_SimuType0_N01024_Vrf0064_Udc0.3000D+01V_var_dt_TrjN_all_steps.bin'"
     ]
    }
   ],
   "source": [
    "# xva_SimuType0_N00001_Vrf0064_Udc0.0000D+00V_var_dt_TrjN   \n",
    "j_save_temp, n_ions, save_trj_Cloud = load_cloud_trj(str_load_Ver+'_TrjN_all_steps')\n",
    "lonlon = j_save_temp+9\n",
    "print(lonlon)\n",
    "save_trj_Cloud_bis = reshape(save_trj_Cloud, (N_ions,6,lonlon), order='F')\n",
    "\n",
    "j_save_E, size_Energy_array,dE_dt = load_energies_var_dt(rep_name+'Energies_ndt100_vdt2', flag_print=0)\n",
    "time = reshape(dE_dt, (lonlon,4), order='F')[:,0]\n",
    "\n",
    "print(len(time),len(save_trj_Cloud_bis[ion_number,0,:]))"
   ]
  },
  {
   "cell_type": "code",
   "execution_count": 468,
   "metadata": {},
   "outputs": [
    {
     "name": "stdout",
     "output_type": "stream",
     "text": [
      "50010\n"
     ]
    }
   ],
   "source": [
    "figure('coucou',clear='True')\n",
    "print(len(save_trj_Cloud_bis[ion_number,0,:]))\n",
    "plot(time*1e6,save_trj_Cloud_bis[ion_number,0,:]*1e6,'.') # 1024, 6, duration\n",
    "plot(time*1e6,save_trj_Cloud_bis[ion_number,1,:]*1e6,'.')\n",
    "# plot(time*1e6,save_trj_Cloud_bis[0,2,:],'.')\n",
    "# plot(my_time*1e6,save_trj_Cloud_bis[0,2,:],'.')\n",
    "xlabel('t [ms]')\n",
    "ylabel('position [µm]')\n",
    "xlim(498,552)\n",
    "grid()\n",
    "tight_layout()"
   ]
  },
  {
   "cell_type": "code",
   "execution_count": 469,
   "metadata": {},
   "outputs": [],
   "source": [
    "# position for every temp point"
   ]
  },
  {
   "cell_type": "code",
   "execution_count": 34,
   "metadata": {},
   "outputs": [
    {
     "ename": "FileNotFoundError",
     "evalue": "[Errno 2] Aucun fichier ou dossier de ce type: '/home/adrian/RemoteFS/Rivendel/Simulations/20211123/DC03V_RF64V/eta_5-20/xva_SimuType0_N01024_Vrf0064_Udc0.3000D+01V_var_dt_TrjN.bin'",
     "output_type": "error",
     "traceback": [
      "\u001b[0;31m---------------------------------------------------------------------------\u001b[0m",
      "\u001b[0;31mFileNotFoundError\u001b[0m                         Traceback (most recent call last)",
      "\u001b[0;32m<ipython-input-34-e33840bbccb7>\u001b[0m in \u001b[0;36m<module>\u001b[0;34m()\u001b[0m\n\u001b[1;32m      1\u001b[0m \u001b[0;31m# xva_SimuType0_N00001_Vrf0064_Udc0.0000D+00V_var_dt_TrjN\u001b[0m\u001b[0;34m\u001b[0m\u001b[0;34m\u001b[0m\u001b[0;34m\u001b[0m\u001b[0m\n\u001b[0;32m----> 2\u001b[0;31m \u001b[0mj_save_temp\u001b[0m\u001b[0;34m,\u001b[0m \u001b[0mn_ions\u001b[0m\u001b[0;34m,\u001b[0m \u001b[0msave_trj_Cloud\u001b[0m \u001b[0;34m=\u001b[0m \u001b[0mload_cloud_trj\u001b[0m\u001b[0;34m(\u001b[0m\u001b[0mstr_load_Ver\u001b[0m\u001b[0;34m+\u001b[0m\u001b[0;34m'_TrjN'\u001b[0m\u001b[0;34m)\u001b[0m\u001b[0;34m\u001b[0m\u001b[0;34m\u001b[0m\u001b[0m\n\u001b[0m\u001b[1;32m      3\u001b[0m \u001b[0mlonlon\u001b[0m \u001b[0;34m=\u001b[0m \u001b[0mj_save_temp\u001b[0m\u001b[0;34m+\u001b[0m\u001b[0;36m10\u001b[0m\u001b[0;34m\u001b[0m\u001b[0;34m\u001b[0m\u001b[0m\n\u001b[1;32m      4\u001b[0m \u001b[0mprint\u001b[0m\u001b[0;34m(\u001b[0m\u001b[0mlonlon\u001b[0m\u001b[0;34m)\u001b[0m\u001b[0;34m\u001b[0m\u001b[0;34m\u001b[0m\u001b[0m\n\u001b[1;32m      5\u001b[0m \u001b[0msave_trj_Cloud_bis\u001b[0m \u001b[0;34m=\u001b[0m \u001b[0mreshape\u001b[0m\u001b[0;34m(\u001b[0m\u001b[0msave_trj_Cloud\u001b[0m\u001b[0;34m,\u001b[0m \u001b[0;34m(\u001b[0m\u001b[0mN_ions\u001b[0m\u001b[0;34m,\u001b[0m\u001b[0;36m6\u001b[0m\u001b[0;34m,\u001b[0m\u001b[0mlonlon\u001b[0m\u001b[0;34m)\u001b[0m\u001b[0;34m,\u001b[0m \u001b[0morder\u001b[0m\u001b[0;34m=\u001b[0m\u001b[0;34m'F'\u001b[0m\u001b[0;34m)\u001b[0m\u001b[0;34m\u001b[0m\u001b[0;34m\u001b[0m\u001b[0m\n",
      "\u001b[0;32m~/Documents/Programmes/RF_heating/fct_RF_heating.py\u001b[0m in \u001b[0;36mload_cloud_trj\u001b[0;34m(str_load)\u001b[0m\n\u001b[1;32m    446\u001b[0m \u001b[0;34m\u001b[0m\u001b[0m\n\u001b[1;32m    447\u001b[0m \u001b[0;32mdef\u001b[0m \u001b[0mload_cloud_trj\u001b[0m\u001b[0;34m(\u001b[0m\u001b[0mstr_load\u001b[0m\u001b[0;34m)\u001b[0m\u001b[0;34m:\u001b[0m\u001b[0;34m\u001b[0m\u001b[0;34m\u001b[0m\u001b[0m\n\u001b[0;32m--> 448\u001b[0;31m     \u001b[0mfid\u001b[0m \u001b[0;34m=\u001b[0m \u001b[0mopen\u001b[0m\u001b[0;34m(\u001b[0m\u001b[0mstr_load\u001b[0m \u001b[0;34m+\u001b[0m \u001b[0;34m'.bin'\u001b[0m\u001b[0;34m,\u001b[0m \u001b[0;34m'rb'\u001b[0m\u001b[0;34m)\u001b[0m\u001b[0;34m\u001b[0m\u001b[0;34m\u001b[0m\u001b[0m\n\u001b[0m\u001b[1;32m    449\u001b[0m \u001b[0;34m\u001b[0m\u001b[0m\n\u001b[1;32m    450\u001b[0m     \u001b[0mjunk0\u001b[0m \u001b[0;34m=\u001b[0m \u001b[0mfromfile\u001b[0m\u001b[0;34m(\u001b[0m\u001b[0mfid\u001b[0m\u001b[0;34m,\u001b[0m \u001b[0mint32\u001b[0m\u001b[0;34m,\u001b[0m \u001b[0;36m1\u001b[0m\u001b[0;34m)\u001b[0m  \u001b[0;31m# Read record start tag\u001b[0m\u001b[0;34m\u001b[0m\u001b[0;34m\u001b[0m\u001b[0m\n",
      "\u001b[0;31mFileNotFoundError\u001b[0m: [Errno 2] Aucun fichier ou dossier de ce type: '/home/adrian/RemoteFS/Rivendel/Simulations/20211123/DC03V_RF64V/eta_5-20/xva_SimuType0_N01024_Vrf0064_Udc0.3000D+01V_var_dt_TrjN.bin'"
     ]
    }
   ],
   "source": [
    "# xva_SimuType0_N00001_Vrf0064_Udc0.0000D+00V_var_dt_TrjN   \n",
    "j_save_temp, n_ions, save_trj_Cloud = load_cloud_trj(str_load_Ver+'_TrjN')\n",
    "lonlon = j_save_temp+10\n",
    "print(lonlon)\n",
    "save_trj_Cloud_bis = reshape(save_trj_Cloud, (N_ions,6,lonlon), order='F')\n",
    "\n",
    "time = linspace(500,500+lonlon*(dt*1e6*500),lonlon)\n",
    "\n",
    "print(len(time),len(save_trj_Cloud_bis[0,0,:]))"
   ]
  },
  {
   "cell_type": "code",
   "execution_count": 471,
   "metadata": {},
   "outputs": [
    {
     "name": "stdout",
     "output_type": "stream",
     "text": [
      "110\n"
     ]
    }
   ],
   "source": [
    "# figure('coucou',clear='False')\n",
    "print(len(save_trj_Cloud_bis[ion_number,0,:]))\n",
    "plot(time,save_trj_Cloud_bis[ion_number,0,:]*1e6,ms=5,marker='+') # 1024, 6, duration\n",
    "plot(time,save_trj_Cloud_bis[ion_number,1,:]*1e6,ms=5,marker='+')\n",
    "# plot(time*1e6,save_trj_Cloud_bis[0,2,:],'.')\n",
    "# plot(my_time*1e6,save_trj_Cloud_bis[0,2,:],'.')\n",
    "# xlabel('t [ms]')\n",
    "# xlim(498,552)\n",
    "grid()\n",
    "tight_layout()"
   ]
  },
  {
   "cell_type": "code",
   "execution_count": 200,
   "metadata": {},
   "outputs": [],
   "source": [
    "outfile = 'Temperature_DC05V_RF64V'\n",
    "np.savez( outfile, time=tt, temperature = T_aux)"
   ]
  }
 ],
 "metadata": {
  "kernelspec": {
   "display_name": "Python 3",
   "language": "python",
   "name": "python3"
  },
  "language_info": {
   "codemirror_mode": {
    "name": "ipython",
    "version": 3
   },
   "file_extension": ".py",
   "mimetype": "text/x-python",
   "name": "python",
   "nbconvert_exporter": "python",
   "pygments_lexer": "ipython3",
   "version": "3.6.7"
  }
 },
 "nbformat": 4,
 "nbformat_minor": 4
}
