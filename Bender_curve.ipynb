{
 "cells": [
  {
   "cell_type": "code",
   "execution_count": 1,
   "metadata": {},
   "outputs": [],
   "source": [
    "# %pylab\n",
    "\n",
    "import numpy\n",
    "import matplotlib\n",
    "from matplotlib import pylab, mlab, pyplot\n",
    "from mpl_toolkits.mplot3d import Axes3D\n",
    "np = numpy\n",
    "plt = pyplot\n",
    "\n",
    "from pylab import *\n",
    "from numpy import *\n",
    "\n",
    "%matplotlib qt"
   ]
  },
  {
   "cell_type": "code",
   "execution_count": 2,
   "metadata": {},
   "outputs": [
    {
     "name": "stderr",
     "output_type": "stream",
     "text": [
      "ERROR:root:File `'/home/adrian/Documents/Programmes/Python/GiantMol/Functions/turbo_colormap.py'` not found.\n"
     ]
    }
   ],
   "source": [
    "%matplotlib qt\n",
    "%run /home/adrian/Documents/Programmes/Python/GiantMol/Functions/turbo_colormap.py"
   ]
  },
  {
   "cell_type": "code",
   "execution_count": 3,
   "metadata": {},
   "outputs": [],
   "source": [
    "matplotlib.rcParams.update({'font.size': 20})"
   ]
  },
  {
   "cell_type": "code",
   "execution_count": 4,
   "metadata": {},
   "outputs": [],
   "source": [
    "# Constantes de la physique\n",
    "# ABSOLUMENT RECHARGER APRÈS AVOIR EXECUTÉ LES CASES D'IMPORT AU DESSUS\n",
    "\n",
    "C_e = 1.602e-19        # Coulomb\n",
    "kb = 1.38064852*1e-23  # Boltzman\n",
    "m_Ca = 40.078*1.66054e-27 # masse Ca 40.078\n",
    "m_GM = 1e6*1.66054e-27 # la masse de la GMol\n",
    "eps0 = 8.854187*1e-12  # permittivité électrique du vide\n",
    "\n",
    "Na = 6.022e23\n",
    "Rgp = Na*kb\n",
    "\n",
    "# Rgp = Rgp*10"
   ]
  },
  {
   "cell_type": "markdown",
   "metadata": {},
   "source": [
    "# small good computation from 29 10 21"
   ]
  },
  {
   "cell_type": "code",
   "execution_count": null,
   "metadata": {},
   "outputs": [],
   "source": [
    "# V_s = 180 -> v = 18639\n",
    "# V_s = 200 -> v = 19647"
   ]
  },
  {
   "cell_type": "code",
   "execution_count": 53,
   "metadata": {},
   "outputs": [
    {
     "name": "stdout",
     "output_type": "stream",
     "text": [
      "0.013449956672411141 0.0154\n",
      "152.5563623627399\n",
      "349.3495239587309\n"
     ]
    }
   ],
   "source": [
    "# L = 2 pi rho\n",
    "\n",
    "V_s = 200\n",
    "r_p   = 5e-3\n",
    "r_4   = (15.4)*1e-3\n",
    "a = (r_p*sqrt(2) + r_4*(sqrt(2)-1))\n",
    "\n",
    "r_bender   = (15.4)*1e-3 # (46/2)*1e-3\n",
    "\n",
    "V0 = V_s * a**2 * r_bender**(-2)\n",
    "\n",
    "print(a,r_4)\n",
    "print(V0)\n",
    "\n",
    "V0rigidiy = 2*V_s*a/r_bender\n",
    "print(V0rigidiy)"
   ]
  },
  {
   "cell_type": "code",
   "execution_count": 55,
   "metadata": {},
   "outputs": [
    {
     "name": "stdout",
     "output_type": "stream",
     "text": [
      "0.013449956672411141 0.0154\n",
      "188.34118810214804\n",
      "349.3495239587309\n"
     ]
    }
   ],
   "source": [
    "# L quelconque un peu plus petit que 2 pi rho\n",
    "\n",
    "V_s = 200\n",
    "r_p   = 5e-3\n",
    "r_4   = (15.4)*1e-3\n",
    "a = (r_p*sqrt(2) + r_4*(sqrt(2)-1))\n",
    "\n",
    "r_bender   = (15.4)*1e-3 # (46/2)*1e-3\n",
    "\n",
    "L = 0.9*pi*r_bender/2\n",
    "V0 = V_s * a**2 * (pi/2/L)**2\n",
    "\n",
    "print(a,r_4)\n",
    "print(V0)\n",
    "\n",
    "V0rigidiy = 2*V_s*a/r_bender\n",
    "print(V0rigidiy)"
   ]
  },
  {
   "cell_type": "markdown",
   "metadata": {},
   "source": [
    "# from computation (analytical)"
   ]
  },
  {
   "cell_type": "code",
   "execution_count": 19,
   "metadata": {},
   "outputs": [
    {
     "data": {
      "text/plain": [
       "(0.013449956672411141, 0.01544055025992799)"
      ]
     },
     "execution_count": 19,
     "metadata": {},
     "output_type": "execute_result"
    }
   ],
   "source": [
    "r_B,1.148*r_B"
   ]
  },
  {
   "cell_type": "code",
   "execution_count": 20,
   "metadata": {},
   "outputs": [
    {
     "name": "stdout",
     "output_type": "stream",
     "text": [
      "0.023 0.013449956672411141\n",
      "-105.26053047973937\n"
     ]
    }
   ],
   "source": [
    "rho_B = (46/2) *1e-3\n",
    "r_4   = 15.4*1e-3\n",
    "\n",
    "r_p   = 5e-3\n",
    "r_B   = (r_p*sqrt(2) + r_4*(sqrt(2)-1)) # + r_p\n",
    "# r_B = 0.5*r_B\n",
    "print(rho_B,r_B)\n",
    "\n",
    "V_s = 180\n",
    "Chi_E = -2*V_s\n",
    "\n",
    "V0 = Chi_E/(2*rho_B)*r_B\n",
    "print(V0)"
   ]
  },
  {
   "cell_type": "markdown",
   "metadata": {},
   "source": [
    "# from matrices (numerical)"
   ]
  },
  {
   "cell_type": "code",
   "execution_count": 108,
   "metadata": {},
   "outputs": [],
   "source": [
    "V_s = 180\n",
    "Chi_E = 2*V_s\n",
    "\n",
    "V_0 = linspace(1,2000,2000)\n",
    "r_4   = (15.4+5)*1e-3\n",
    "a = 0.013449956672411141\n",
    "theta_x = -pi/4\n",
    "theta_y = -3*pi/4\n",
    "\n",
    "r_4   = 15.4*1e-3\n",
    "L = 2*pi*r_4/4\n",
    "k = 2*V_0/(a**2*Chi_E)\n",
    "\n",
    "one = a*cos(sqrt(k)*L)-pi/4/sqrt(k)*sin(sqrt(k)*L)"
   ]
  },
  {
   "cell_type": "code",
   "execution_count": 109,
   "metadata": {},
   "outputs": [
    {
     "data": {
      "text/plain": [
       "[<matplotlib.lines.Line2D at 0x7f943849d0b8>]"
      ]
     },
     "execution_count": 109,
     "metadata": {},
     "output_type": "execute_result"
    }
   ],
   "source": [
    "figure('k')\n",
    "\n",
    "plot(V_0,k)"
   ]
  },
  {
   "cell_type": "code",
   "execution_count": 97,
   "metadata": {},
   "outputs": [
    {
     "data": {
      "text/plain": [
       "<matplotlib.collections.LineCollection at 0x7f942df864e0>"
      ]
     },
     "execution_count": 97,
     "metadata": {},
     "output_type": "execute_result"
    }
   ],
   "source": [
    "figure('coucou').clf()\n",
    "\n",
    "plot(V_0,one)\n",
    "hlines(a,0,2500)"
   ]
  },
  {
   "cell_type": "code",
   "execution_count": 99,
   "metadata": {},
   "outputs": [
    {
     "data": {
      "text/plain": [
       "(-2, 2)"
      ]
     },
     "execution_count": 99,
     "metadata": {},
     "output_type": "execute_result"
    }
   ],
   "source": [
    "theta_xprime = -a*sqrt(k)*sin(L*sqrt(k)) + theta_x*cos(L*sqrt(k))\n",
    "theta_yprime = -a*sqrt(k)*sinh(L*sqrt(k)) + theta_y*cosh(L*sqrt(k))\n",
    "\n",
    "figure('coucou').clf()\n",
    "\n",
    "plot(V_0,theta_xprime)\n",
    "plot(V_0,theta_yprime)\n",
    "hlines(pi/4,0,2500)\n",
    "hlines(-pi/4,0,2500,linestyle=':')\n",
    "grid()\n",
    "ylim(-2,2)"
   ]
  },
  {
   "cell_type": "code",
   "execution_count": null,
   "metadata": {},
   "outputs": [],
   "source": []
  },
  {
   "cell_type": "markdown",
   "metadata": {},
   "source": [
    "# coordonnees x y passe pas par les poles"
   ]
  },
  {
   "cell_type": "code",
   "execution_count": 126,
   "metadata": {},
   "outputs": [],
   "source": [
    "V_s = 180\n",
    "Chi_E = 2*V_s\n",
    "\n",
    "V_0 = linspace(1,2000,2000)\n",
    "\n",
    "r_bender   = (46/2)*1e-3\n",
    "\n",
    "a = 0.013449956672411141\n",
    "L = 2*pi*r_4/4\n",
    "k = 2*V_0/(a**2*Chi_E)\n",
    "\n",
    "one = -pi/2/sqrt(k)*sin(L*sqrt(k))"
   ]
  },
  {
   "cell_type": "code",
   "execution_count": 127,
   "metadata": {},
   "outputs": [
    {
     "data": {
      "text/plain": [
       "<matplotlib.collections.LineCollection at 0x7f942d92bc88>"
      ]
     },
     "execution_count": 127,
     "metadata": {},
     "output_type": "execute_result"
    }
   ],
   "source": [
    "figure('coucou2').clf()\n",
    "\n",
    "plot(V_0,one)\n",
    "hlines(b,0,2500)"
   ]
  },
  {
   "cell_type": "code",
   "execution_count": null,
   "metadata": {},
   "outputs": [],
   "source": []
  },
  {
   "cell_type": "code",
   "execution_count": null,
   "metadata": {},
   "outputs": [],
   "source": []
  }
 ],
 "metadata": {
  "kernelspec": {
   "display_name": "Python 3",
   "language": "python",
   "name": "python3"
  },
  "language_info": {
   "codemirror_mode": {
    "name": "ipython",
    "version": 3
   },
   "file_extension": ".py",
   "mimetype": "text/x-python",
   "name": "python",
   "nbconvert_exporter": "python",
   "pygments_lexer": "ipython3",
   "version": "3.7.6"
  }
 },
 "nbformat": 4,
 "nbformat_minor": 2
}
