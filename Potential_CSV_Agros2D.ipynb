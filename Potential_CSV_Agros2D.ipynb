{
 "cells": [
  {
   "cell_type": "code",
   "execution_count": 1,
   "metadata": {},
   "outputs": [],
   "source": [
    "###########################################################\n",
    "#                                                         #\n",
    "#                         CSV                             #\n",
    "#                                                         #\n",
    "#                         avec                            #\n",
    "#                                                         #\n",
    "#                          10/2021     Adrien Poindron    #\n",
    "###########################################################"
   ]
  },
  {
   "cell_type": "code",
   "execution_count": 1,
   "metadata": {},
   "outputs": [],
   "source": [
    "import pylab\n",
    "import numpy as np\n",
    "import scipy\n",
    "import matplotlib\n",
    "\n",
    "%matplotlib qt"
   ]
  },
  {
   "cell_type": "code",
   "execution_count": 2,
   "metadata": {},
   "outputs": [],
   "source": [
    "matplotlib.rcParams['figure.figsize'] = [10.5,7]\n",
    "matplotlib.rcParams.update({'font.size': 25})"
   ]
  },
  {
   "cell_type": "code",
   "execution_count": 3,
   "metadata": {},
   "outputs": [],
   "source": [
    "%run C:\\Users\\adr1e\\Documents\\GitHub\\GiantMol\\Functions\\1.2\\data_fct_Adrien_point_by_point.py"
   ]
  },
  {
   "cell_type": "code",
   "execution_count": 4,
   "metadata": {},
   "outputs": [],
   "source": [
    "def retrieve_pot_plasym_data(dico):\n",
    "\n",
    "    file_path = list(dico.keys()) # all the keys from dico\n",
    "\n",
    "    # création variables courantes\n",
    "    n = len(dico)  # nombre de fichiers\n",
    "    m = len(dico.get(file_path[0])[0])  # longueur colones\n",
    "    p = len(dico.get(file_path[0])[1:])  # nombre de col : temps + canaux oscillo\n",
    "    shape = (n, m)\n",
    "    V = zeros(shape)  # time\n",
    "    XY = zeros((n, p, m))  # les canaux de l'oscillo (p-1)  CH[file:channel:time]\n",
    "\n",
    "    for k in range(0, n):\n",
    "        V[k, :] = dico.get(file_path[k])[0, :]\n",
    "        for l in range(1, p+1):\n",
    "            XY[k, l-1, :] = dico.get(file_path[k])[l, :]\n",
    "\n",
    "    return V,XY\n",
    "\n",
    "def retrieve_pot_axisym_data(dico):\n",
    "\n",
    "    file_path = list(dico.keys()) # all the keys from dico\n",
    "\n",
    "    # création variables courantes\n",
    "    n = len(dico)  # nombre de fichiers\n",
    "    m = len(dico.get(file_path[0])[0])  # longueur colones\n",
    "    shape = (n, m)\n",
    "    R = zeros(shape)  # time\n",
    "    V = zeros(shape)\n",
    "    Z = zeros(shape)\n",
    "    \n",
    "    for k in range(0, n):\n",
    "        R[k, :] = dico.get(file_path[k])[0, :]\n",
    "        V[k, :] = dico.get(file_path[k])[1, :]\n",
    "        Z[k, :] = dico.get(file_path[k])[2, :]\n",
    "    return R,V,Z"
   ]
  },
  {
   "cell_type": "code",
   "execution_count": 5,
   "metadata": {},
   "outputs": [
    {
     "name": "stdout",
     "output_type": "stream",
     "text": [
      "('J:/Programmes/Layout_Agros/Rad_centre_einzel_sortieoctopole.csv', 'J:/Programmes/Layout_Agros/rad_entrance_bender.csv')\n"
     ]
    }
   ],
   "source": [
    "# sélection des fichiers donnée (Python 3)\n",
    "file_path = load_file_GUI('J:\\Programmes\\Layout_Agros')\n",
    "filename = file_path\n",
    "print(filename)"
   ]
  },
  {
   "cell_type": "code",
   "execution_count": 7,
   "metadata": {},
   "outputs": [
    {
     "name": "stdout",
     "output_type": "stream",
     "text": [
      "> 00 - J:/Programmes/Layout_Agros/Rad_centre_einzel_sortieoctopole.csv\n",
      "> 01 - J:/Programmes/Layout_Agros/rad_entrance_bender.csv\n"
     ]
    }
   ],
   "source": [
    "for i,j in enumerate(filename):\n",
    "    print('>', f'{i:02d}','-',j)"
   ]
  },
  {
   "cell_type": "code",
   "execution_count": 8,
   "metadata": {},
   "outputs": [],
   "source": [
    "# Retrieve data from axi sym\n",
    "\n",
    "the_col_to_read = (6,7,8)     # lecroy  (3,4,5) (0,1,2)     labview  (0,1)\n",
    "the_row_to_skip = 1           # lecroy  11         2        labview  1\n",
    "the_delim = ';'               # lecroy  ','       ','       labview  '\\t'\n",
    "\n",
    "data_dico = {}\n",
    "data_dico = import_data(file_path,\n",
    "                        row_skip=the_row_to_skip,\n",
    "                        col_to_read=the_col_to_read,\n",
    "                        delim=the_delim)\n",
    "\n",
    "R,V,Z = retrieve_pot_axisym_data(data_dico)"
   ]
  },
  {
   "cell_type": "code",
   "execution_count": 9,
   "metadata": {},
   "outputs": [
    {
     "ename": "IndexError",
     "evalue": "index 9 is out of bounds for axis 0 with size 2",
     "output_type": "error",
     "traceback": [
      "\u001b[1;31m---------------------------------------------------------------------------\u001b[0m",
      "\u001b[1;31mIndexError\u001b[0m                                Traceback (most recent call last)",
      "\u001b[1;32m<ipython-input-9-274542017e12>\u001b[0m in \u001b[0;36m<module>\u001b[1;34m\u001b[0m\n\u001b[0;32m      4\u001b[0m \u001b[1;33m\u001b[0m\u001b[0m\n\u001b[0;32m      5\u001b[0m \u001b[0mto_plot\u001b[0m  \u001b[1;33m=\u001b[0m \u001b[1;33m[\u001b[0m\u001b[1;36m9\u001b[0m\u001b[1;33m,\u001b[0m\u001b[1;36m7\u001b[0m\u001b[1;33m,\u001b[0m\u001b[1;36m8\u001b[0m\u001b[1;33m]\u001b[0m\u001b[1;33m\u001b[0m\u001b[1;33m\u001b[0m\u001b[0m\n\u001b[1;32m----> 6\u001b[1;33m \u001b[0mnew_V\u001b[0m \u001b[1;33m=\u001b[0m \u001b[0mV\u001b[0m\u001b[1;33m[\u001b[0m\u001b[0mto_plot\u001b[0m\u001b[1;33m,\u001b[0m\u001b[1;33m:\u001b[0m\u001b[1;33m]\u001b[0m\u001b[1;33m\u001b[0m\u001b[1;33m\u001b[0m\u001b[0m\n\u001b[0m\u001b[0;32m      7\u001b[0m \u001b[0mnew_V\u001b[0m\u001b[1;33m[\u001b[0m\u001b[0mnew_V\u001b[0m\u001b[1;33m==\u001b[0m\u001b[1;36m0\u001b[0m\u001b[1;33m]\u001b[0m \u001b[1;33m=\u001b[0m \u001b[0mVa\u001b[0m\u001b[1;33m\u001b[0m\u001b[1;33m\u001b[0m\u001b[0m\n",
      "\u001b[1;31mIndexError\u001b[0m: index 9 is out of bounds for axis 0 with size 2"
     ]
    }
   ],
   "source": [
    "# Replacing zeros by a value\n",
    "\n",
    "Va = 100 #V\n",
    "\n",
    "to_plot  = [9,7,8]\n",
    "new_V = V[to_plot,:]\n",
    "new_V[new_V==0] = Va"
   ]
  },
  {
   "cell_type": "code",
   "execution_count": 10,
   "metadata": {},
   "outputs": [
    {
     "ename": "NameError",
     "evalue": "name 'new_V' is not defined",
     "output_type": "error",
     "traceback": [
      "\u001b[1;31m---------------------------------------------------------------------------\u001b[0m",
      "\u001b[1;31mNameError\u001b[0m                                 Traceback (most recent call last)",
      "\u001b[1;32m<ipython-input-10-ba78622bf391>\u001b[0m in \u001b[0;36m<module>\u001b[1;34m\u001b[0m\n\u001b[0;32m     11\u001b[0m \u001b[0max\u001b[0m \u001b[1;33m=\u001b[0m \u001b[0mfig\u001b[0m\u001b[1;33m.\u001b[0m\u001b[0madd_subplot\u001b[0m\u001b[1;33m(\u001b[0m\u001b[1;36m1\u001b[0m\u001b[1;33m,\u001b[0m \u001b[1;36m1\u001b[0m\u001b[1;33m,\u001b[0m \u001b[1;36m1\u001b[0m\u001b[1;33m)\u001b[0m\u001b[1;33m\u001b[0m\u001b[1;33m\u001b[0m\u001b[0m\n\u001b[0;32m     12\u001b[0m \u001b[1;33m\u001b[0m\u001b[0m\n\u001b[1;32m---> 13\u001b[1;33m \u001b[1;32mfor\u001b[0m \u001b[0mj\u001b[0m\u001b[1;33m,\u001b[0m\u001b[0mk\u001b[0m \u001b[1;32min\u001b[0m \u001b[0menumerate\u001b[0m\u001b[1;33m(\u001b[0m\u001b[0mnew_V\u001b[0m\u001b[1;33m)\u001b[0m\u001b[1;33m:\u001b[0m\u001b[1;33m\u001b[0m\u001b[1;33m\u001b[0m\u001b[0m\n\u001b[0m\u001b[0;32m     14\u001b[0m     ax.plot(R[to_plot[j],:]*1000,k,\n\u001b[0;32m     15\u001b[0m             \u001b[0mcolor\u001b[0m\u001b[1;33m=\u001b[0m\u001b[0mmy_color\u001b[0m\u001b[1;33m[\u001b[0m\u001b[0mj\u001b[0m\u001b[1;33m]\u001b[0m\u001b[1;33m,\u001b[0m\u001b[0mlabel\u001b[0m\u001b[1;33m=\u001b[0m\u001b[0mmy_label\u001b[0m\u001b[1;33m[\u001b[0m\u001b[0mj\u001b[0m\u001b[1;33m]\u001b[0m\u001b[1;33m,\u001b[0m\u001b[1;33m\u001b[0m\u001b[1;33m\u001b[0m\u001b[0m\n",
      "\u001b[1;31mNameError\u001b[0m: name 'new_V' is not defined"
     ]
    }
   ],
   "source": [
    "# plot with complicated scan plot only crystal part at the end\n",
    "\n",
    "my_color = ['xkcd:azul','xkcd:blue','C1']\n",
    "my_ls    = ['dashed',(0,(3, 6)),(0, (3, 14))]\n",
    "# my_label = ['Octopole output (1)','Post bender (2)','Pre trap (3)']\n",
    "my_label = [r'$r_0=1.5$ mm, $z_0=5$ mm',\n",
    "            r'$r_0=2.5$ mm, $z_0=5$ mm',\n",
    "            r'$r_0=2.5$ mm, $z_0=10$ mm']\n",
    "\n",
    "fig = figure('Radial_potentials',clear='True')\n",
    "ax = fig.add_subplot(1, 1, 1)\n",
    "\n",
    "for j,k in enumerate(new_V):\n",
    "    ax.plot(R[to_plot[j],:]*1000,k,\n",
    "            color=my_color[j],label=my_label[j],\n",
    "            lw=3,ls=my_ls[j]) # xkcd:prussian blue\n",
    "\n",
    "\n",
    "ax.yaxis.set_major_locator(matplotlib.ticker.MultipleLocator(base=2))\n",
    "# text(-0.83, 8000, f'FWHM = ${2*sqrt(2*log(2)) * sig[to_plot] * 1000:.2f}$ MHz\\n        T = {temperature:.2f} K',\n",
    "# rotation=0,\n",
    "# horizontalalignment='left',\n",
    "# verticalalignment='bottom',\n",
    "# color='xkcd:vermillion',\n",
    "# fontsize=17,\n",
    "#      bbox=dict(facecolor='white'))\n",
    "\n",
    "# ax.set_xlim(-11.18,4.3)\n",
    "# ax.set_ylim(-0.01,1.10)\n",
    "ax.set_xlabel(r'$R$ [mm]')\n",
    "ax.set_ylabel(r'$U$ [V]')\n",
    "ax.legend(title='Einzel lens',fontsize=18)\n",
    "\n",
    "ax.grid(b=True, which='major', linestyle='-')\n",
    "ax.grid(b=True, which='minor', color='silver', linestyle='--')\n",
    "minorticks_on()\n",
    "tight_layout()\n",
    "\n",
    "# savefig('Radial_potentials',dpi=300)"
   ]
  },
  {
   "cell_type": "code",
   "execution_count": 100,
   "metadata": {},
   "outputs": [
    {
     "data": {
      "text/plain": [
       "(3.3333333333333335, 2.0, 4.0)"
      ]
     },
     "execution_count": 100,
     "metadata": {},
     "output_type": "execute_result"
    }
   ],
   "source": [
    "5/1.5,5/2.5,10/2.5"
   ]
  },
  {
   "cell_type": "code",
   "execution_count": null,
   "metadata": {},
   "outputs": [],
   "source": []
  },
  {
   "cell_type": "code",
   "execution_count": 129,
   "metadata": {},
   "outputs": [],
   "source": [
    "# Retrieve data from axi sym\n",
    "\n",
    "the_col_to_read = (6,7,8)     # lecroy  (3,4,5) (0,1,2)     labview  (0,1)\n",
    "the_row_to_skip = 1           # lecroy  11         2        labview  1\n",
    "the_delim = ';'               # lecroy  ','       ','       labview  '\\t'\n",
    "\n",
    "data_dico = {}\n",
    "data_dico = import_data(file_path,\n",
    "                        row_skip=the_row_to_skip,\n",
    "                        col_to_read=the_col_to_read,\n",
    "                        delim=the_delim)\n",
    "\n",
    "R,V,Z = retrieve_pot_axisym_data(data_dico)"
   ]
  },
  {
   "cell_type": "code",
   "execution_count": 130,
   "metadata": {},
   "outputs": [],
   "source": [
    "# Replacing zeros by a value\n",
    "\n",
    "Va = 100 #V\n",
    "\n",
    "to_plot  = [3,1,2]\n",
    "new_V = V[to_plot,:]\n",
    "new_V[new_V==0] = Va"
   ]
  },
  {
   "cell_type": "code",
   "execution_count": 139,
   "metadata": {},
   "outputs": [],
   "source": [
    "# plot with complicated scan plot only crystal part at the end\n",
    "\n",
    "my_color = ['xkcd:azul','xkcd:blue','C1']\n",
    "my_ls    = ['dashed',(0,(3, 6)),(0, (3, 14))]\n",
    "# my_label = ['Octopole output (1)','Post bender (2)','Pre trap (3)']\n",
    "my_label = [r'$r_0=1.5$ mm, $z_0=5$ mm',\n",
    "            r'$r_0=2.5$ mm, $z_0=5$ mm',\n",
    "            r'$r_0=2.5$ mm, $z_0=10$ mm']\n",
    "\n",
    "fig = figure('Longitudinal_potentials',clear='True')\n",
    "ax = fig.add_subplot(1, 1, 1)\n",
    "\n",
    "for j,k in enumerate(new_V):\n",
    "    ax.plot(Z[to_plot[j],len(k)//2:]*1000,k[len(k)//2:],\n",
    "            color=my_color[j],label=my_label[j],\n",
    "            lw=3,ls=my_ls[j]) # xkcd:prussian blue\n",
    "\n",
    "\n",
    "ax.yaxis.set_major_locator(matplotlib.ticker.MultipleLocator(base=10))\n",
    "# text(-0.83, 8000, f'FWHM = ${2*sqrt(2*log(2)) * sig[to_plot] * 1000:.2f}$ MHz\\n        T = {temperature:.2f} K',\n",
    "# rotation=0,\n",
    "# horizontalalignment='left',\n",
    "# verticalalignment='bottom',\n",
    "# color='xkcd:vermillion',\n",
    "# fontsize=17,\n",
    "#      bbox=dict(facecolor='white'))\n",
    "\n",
    "ax.set_xlim(-0.25,15.6)\n",
    "# ax.set_ylim(-0.01,1.10)\n",
    "ax.set_xlabel(r'$Z$ [mm]')\n",
    "ax.set_ylabel(r'$U$ [V]')\n",
    "ax.legend(title='Einzel lens',fontsize=18)\n",
    "\n",
    "ax.grid(b=True, which='major', linestyle='-')\n",
    "# ax.grid(b=True, which='minor', color='silver', linestyle='--')\n",
    "# minorticks_on()\n",
    "tight_layout()\n",
    "\n",
    "savefig('Longitudinal_potentials',dpi=300)"
   ]
  }
 ],
 "metadata": {
  "kernelspec": {
   "display_name": "Python 3",
   "language": "python",
   "name": "python3"
  },
  "language_info": {
   "codemirror_mode": {
    "name": "ipython",
    "version": 3
   },
   "file_extension": ".py",
   "mimetype": "text/x-python",
   "name": "python",
   "nbconvert_exporter": "python",
   "pygments_lexer": "ipython3",
   "version": "3.7.6"
  }
 },
 "nbformat": 4,
 "nbformat_minor": 4
}
