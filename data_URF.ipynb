{
 "cells": [
  {
   "cell_type": "code",
   "execution_count": 3,
   "metadata": {},
   "outputs": [
    {
     "name": "stdout",
     "output_type": "stream",
     "text": [
      "Using matplotlib backend: TkAgg\n",
      "Populating the interactive namespace from numpy and matplotlib\n"
     ]
    }
   ],
   "source": [
    "%pylab"
   ]
  },
  {
   "cell_type": "code",
   "execution_count": 4,
   "metadata": {},
   "outputs": [],
   "source": [
    "from matplotlib import cm\n",
    "from scipy.optimize import curve_fit\n",
    "from scipy.signal import argrelextrema"
   ]
  },
  {
   "cell_type": "code",
   "execution_count": 5,
   "metadata": {},
   "outputs": [],
   "source": [
    "matplotlib.rcParams['figure.figsize'] = [10.5,7]\n",
    "matplotlib.rcParams.update({'font.size': 20})"
   ]
  },
  {
   "cell_type": "code",
   "execution_count": 6,
   "metadata": {},
   "outputs": [],
   "source": [
    "# pas top pour avoir cov avec barre erreur\n",
    "def lin_fit(y1,y2,deg):\n",
    "    p=polyfit(y1,y2,deg) # obtention coefficients fit\n",
    "    return poly1d(p) # génération fonction"
   ]
  },
  {
   "cell_type": "code",
   "execution_count": 5,
   "metadata": {},
   "outputs": [],
   "source": [
    "# # Mathieu Barre erreur\n",
    "# # on peut lui donner barre erreur pour calcul variance\n",
    "# def function_(x,a,b) :\n",
    "#     return cos(a*x+b)*rand(1)*x\n",
    "# x=arange(0,10,0.1)\n",
    "# A = rand(1)\n",
    "# B=0.2*rand(1)\n",
    "# to_fit = function_(x,A,B) # pts xp\n",
    "# fit_ , pcov = curve_fit(function_,x,to_fit,p0=[A,B]) # le fit\n",
    "# ERR_fit = np.sqrt(np.diag(pcov)) # 1sigma variance\n",
    "# figure('function_').clf()\n",
    "# plt.plot(x,to_fit,label='data')\n",
    "# plt.errorbar(x,function_(x,fit_[0],fit_[1]),yerr=ERR_fit[0],label='FIT')\n",
    "# plt.legend()"
   ]
  },
  {
   "cell_type": "markdown",
   "metadata": {},
   "source": [
    "# Extraction de données"
   ]
  },
  {
   "cell_type": "code",
   "execution_count": 6,
   "metadata": {},
   "outputs": [],
   "source": [
    "filename=[]"
   ]
  },
  {
   "cell_type": "code",
   "execution_count": 1,
   "metadata": {},
   "outputs": [
    {
     "name": "stdout",
     "output_type": "stream",
     "text": [
      "('/home/adrian/Documents/Mesures/GiantMol_Ions/20180503/tickle_120-8vpp_2500mv_167k_367k_000.dat', '/home/adrian/Documents/Mesures/GiantMol_Ions/20180503/tickle_129-8vpp_2500mv_167k_367k_000.dat', '/home/adrian/Documents/Mesures/GiantMol_Ions/20180503/tickle_129-9vpp_2500mv_167k_367k_000.dat', '/home/adrian/Documents/Mesures/GiantMol_Ions/20180503/tickle_139-8vpp_2500mv_167k_367k_000.dat', '/home/adrian/Documents/Mesures/GiantMol_Ions/20180503/tickle_149-7vpp_2500mv_167k_367k_000.dat', '/home/adrian/Documents/Mesures/GiantMol_Ions/20180503/tickle_160-3vpp_2500mv_167k_367k_000.dat', '/home/adrian/Documents/Mesures/GiantMol_Ions/20180503/tickle_170-3vpp_2500mv_167k_367k_000.dat', '/home/adrian/Documents/Mesures/GiantMol_Ions/20180503/tickle_180-3vpp_2500mv_167k_367k_000.dat', '/home/adrian/Documents/Mesures/GiantMol_Ions/20180503/tickle_190-3vpp_2500mv_167k_367k_001.dat')\n"
     ]
    }
   ],
   "source": [
    "# sélection des fichiers (Python 3)\n",
    "import tkinter as tk\n",
    "from tkinter import filedialog\n",
    "\n",
    "root = tk.Tk()\n",
    "root.withdraw()\n",
    "\n",
    "file_path = filedialog.askopenfilename(initialdir = '/home/adrian/Documents/Mesures',multiple=True)\n",
    "print(file_path)\n",
    "# /home/adrian/Documents/Mesures/20180503/"
   ]
  },
  {
   "cell_type": "code",
   "execution_count": 7,
   "metadata": {},
   "outputs": [],
   "source": [
    "filename=file_path\n",
    "# Temps, PM, Tension Pzt bleu\n",
    "TP = zeros((len(filename),999))\n",
    "PM = zeros((len(filename),999),int)\n",
    "VB = zeros((len(filename),999))\n",
    "for k in range(0,len(filename),1):\n",
    "    TP[:][k],PM[:][k],VB[:][k] = loadtxt('%s' %filename[k],usecols=(0,1,3),unpack=True)  "
   ]
  },
  {
   "cell_type": "code",
   "execution_count": 8,
   "metadata": {},
   "outputs": [
    {
     "name": "stdout",
     "output_type": "stream",
     "text": [
      "Ions/20180503/tickle_1\n",
      "Ions/20180503/tickle_1\n",
      "Ions/20180503/tickle_1\n",
      "Ions/20180503/tickle_1\n",
      "Ions/20180503/tickle_1\n",
      "Ions/20180503/tickle_1\n",
      "Ions/20180503/tickle_1\n",
      "Ions/20180503/tickle_1\n",
      "Ions/20180503/tickle_1\n",
      "9-8vpp_25\n"
     ]
    }
   ],
   "source": [
    "for k in range(0,len(file_path)):\n",
    "    print(file_path[k][40:62])\n",
    "print(file_path[1][63:72])"
   ]
  },
  {
   "cell_type": "code",
   "execution_count": 9,
   "metadata": {},
   "outputs": [
    {
     "name": "stdout",
     "output_type": "stream",
     "text": [
      "test_min =  [[167.2, 181.2, 205.4, 253.0, 293.2, 330.6, 350.6, 366.0], [167.8, 185.2, 201.0, 223.2, 260.2, 280.8, 309.20000000000005, 321.8, 348.4], [171.6, 201.0, 223.2, 260.8, 284.4, 321.0, 350.20000000000005, 364.4], [192.2, 204.8, 223.0, 243.2, 262.2, 307.8, 324.0, 343.6, 364.8], [171.4, 187.6, 230.4, 244.2, 263.4, 280.8, 302.8, 325.4, 347.4, 366.4], [167.2, 211.6, 226.2, 262.2, 283.8, 317.0, 333.0, 353.8], [178.8, 199.6, 217.8, 262.4, 288.2, 303.8, 327.6, 349.8, 365.6], [170.8, 184.4, 217.2, 235.0, 261.8, 279.4, 290.2, 309.8, 325.0, 355.0], [167.4, 211.4, 223.6, 243.60000000000002, 262.8, 301.4, 331.6, 345.8]]\n"
     ]
    }
   ],
   "source": [
    "# plot tickle\n",
    "cm = pylab.get_cmap('jet')\n",
    "# cmap=cm(1.*to_plot/len(file_path))\n",
    "\n",
    "freq=linspace(167,367,len(PM[0]))\n",
    "test_min=[]\n",
    "\n",
    "figure('Plot tickle').clf()\n",
    "rows=[multiply(asarray(argrelextrema(PM[k],less,order=50)),0.2)+167 for k in range(0,len(file_path))]\n",
    "\n",
    "for k in range(0,len(file_path)):\n",
    "    toto=[]\n",
    "    for l in range(0,shape(rows[k])[1]):\n",
    "        toto.append(rows[k].item(l))\n",
    "    test_min.append(toto)\n",
    "print('test_min = ',test_min)\n",
    "\n",
    "# test_min=[[rows[lin].item(col) for lin in range(0,len(file_path))] for col in enumerate(rows(col))]\n",
    "# find minimum\n",
    "# for k in range(0,len(file_path)):\n",
    "#     test_min[k,]=multiply(argrelextrema(PM[k],less,order=50),0.2)+167\n",
    "#     print('row',row)\n",
    "# #     test_min.append(row)\n",
    "#     row[k][:]=[row[k,x] for x in range(0,8)]\n",
    "#     plot(freq[0:len(PM[k])],PM[k],color = cm(1.*k/len(file_path)))\n",
    "#     plt.vlines(x=row,ymin=0,ymax=80000,linestyle=':',color = cm(1.*k/len(file_path)))\n",
    "    \n",
    "# test_min = np.array(list(test_min))\n",
    "    \n",
    "xlabel('Frequency (kHz)')\n",
    "ylabel('Fluorescence (counts)')\n",
    "grid()\n",
    "plt.tight_layout()"
   ]
  },
  {
   "cell_type": "code",
   "execution_count": 14,
   "metadata": {},
   "outputs": [
    {
     "ename": "IndexError",
     "evalue": "list index out of range",
     "output_type": "error",
     "traceback": [
      "\u001b[0;31m---------------------------------------------------------------------------\u001b[0m",
      "\u001b[0;31mIndexError\u001b[0m                                Traceback (most recent call last)",
      "\u001b[0;32m<ipython-input-14-8da817e964ec>\u001b[0m in \u001b[0;36m<module>\u001b[0;34m()\u001b[0m\n\u001b[1;32m      1\u001b[0m \u001b[0mtest_min\u001b[0m \u001b[0;34m=\u001b[0m  \u001b[0;34m[\u001b[0m\u001b[0;34m[\u001b[0m\u001b[0;36m167.2\u001b[0m\u001b[0;34m,\u001b[0m \u001b[0;36m181.2\u001b[0m\u001b[0;34m,\u001b[0m \u001b[0;36m205.4\u001b[0m\u001b[0;34m,\u001b[0m \u001b[0;36m253.0\u001b[0m\u001b[0;34m,\u001b[0m \u001b[0;36m293.2\u001b[0m\u001b[0;34m,\u001b[0m \u001b[0;36m330.6\u001b[0m\u001b[0;34m,\u001b[0m \u001b[0;36m350.6\u001b[0m\u001b[0;34m,\u001b[0m \u001b[0;36m366.0\u001b[0m\u001b[0;34m]\u001b[0m\u001b[0;34m,\u001b[0m \u001b[0;34m[\u001b[0m\u001b[0;36m167.8\u001b[0m\u001b[0;34m,\u001b[0m \u001b[0;36m185.2\u001b[0m\u001b[0;34m,\u001b[0m \u001b[0;36m201.0\u001b[0m\u001b[0;34m,\u001b[0m \u001b[0;36m223.2\u001b[0m\u001b[0;34m,\u001b[0m \u001b[0;36m260.2\u001b[0m\u001b[0;34m,\u001b[0m \u001b[0;36m280.8\u001b[0m\u001b[0;34m,\u001b[0m \u001b[0;36m309.20000000000005\u001b[0m\u001b[0;34m,\u001b[0m \u001b[0;36m321.8\u001b[0m\u001b[0;34m,\u001b[0m \u001b[0;36m348.4\u001b[0m\u001b[0;34m]\u001b[0m\u001b[0;34m,\u001b[0m \u001b[0;34m[\u001b[0m\u001b[0;36m192.2\u001b[0m\u001b[0;34m,\u001b[0m \u001b[0;36m204.8\u001b[0m\u001b[0;34m,\u001b[0m \u001b[0;36m223.0\u001b[0m\u001b[0;34m,\u001b[0m \u001b[0;36m243.2\u001b[0m\u001b[0;34m,\u001b[0m \u001b[0;36m262.2\u001b[0m\u001b[0;34m,\u001b[0m \u001b[0;36m307.8\u001b[0m\u001b[0;34m,\u001b[0m \u001b[0;36m324.0\u001b[0m\u001b[0;34m,\u001b[0m \u001b[0;36m343.6\u001b[0m\u001b[0;34m,\u001b[0m \u001b[0;36m364.8\u001b[0m\u001b[0;34m]\u001b[0m\u001b[0;34m,\u001b[0m \u001b[0;34m[\u001b[0m\u001b[0;36m171.4\u001b[0m\u001b[0;34m,\u001b[0m \u001b[0;36m187.6\u001b[0m\u001b[0;34m,\u001b[0m \u001b[0;36m230.4\u001b[0m\u001b[0;34m,\u001b[0m \u001b[0;36m244.2\u001b[0m\u001b[0;34m,\u001b[0m \u001b[0;36m263.4\u001b[0m\u001b[0;34m,\u001b[0m \u001b[0;36m280.8\u001b[0m\u001b[0;34m,\u001b[0m \u001b[0;36m302.8\u001b[0m\u001b[0;34m,\u001b[0m \u001b[0;36m325.4\u001b[0m\u001b[0;34m,\u001b[0m \u001b[0;36m347.4\u001b[0m\u001b[0;34m,\u001b[0m \u001b[0;36m366.4\u001b[0m\u001b[0;34m]\u001b[0m\u001b[0;34m,\u001b[0m \u001b[0;34m[\u001b[0m\u001b[0;36m167.2\u001b[0m\u001b[0;34m,\u001b[0m \u001b[0;36m211.6\u001b[0m\u001b[0;34m,\u001b[0m \u001b[0;36m226.2\u001b[0m\u001b[0;34m,\u001b[0m \u001b[0;36m262.2\u001b[0m\u001b[0;34m,\u001b[0m \u001b[0;36m283.8\u001b[0m\u001b[0;34m,\u001b[0m \u001b[0;36m317.0\u001b[0m\u001b[0;34m,\u001b[0m \u001b[0;36m333.0\u001b[0m\u001b[0;34m,\u001b[0m \u001b[0;36m353.8\u001b[0m\u001b[0;34m]\u001b[0m\u001b[0;34m,\u001b[0m \u001b[0;34m[\u001b[0m\u001b[0;36m178.8\u001b[0m\u001b[0;34m,\u001b[0m \u001b[0;36m199.6\u001b[0m\u001b[0;34m,\u001b[0m \u001b[0;36m217.8\u001b[0m\u001b[0;34m,\u001b[0m \u001b[0;36m262.4\u001b[0m\u001b[0;34m,\u001b[0m \u001b[0;36m288.2\u001b[0m\u001b[0;34m,\u001b[0m \u001b[0;36m303.8\u001b[0m\u001b[0;34m,\u001b[0m \u001b[0;36m327.6\u001b[0m\u001b[0;34m,\u001b[0m \u001b[0;36m349.8\u001b[0m\u001b[0;34m,\u001b[0m \u001b[0;36m365.6\u001b[0m\u001b[0;34m]\u001b[0m\u001b[0;34m,\u001b[0m \u001b[0;34m[\u001b[0m\u001b[0;36m170.8\u001b[0m\u001b[0;34m,\u001b[0m \u001b[0;36m184.4\u001b[0m\u001b[0;34m,\u001b[0m \u001b[0;36m217.2\u001b[0m\u001b[0;34m,\u001b[0m \u001b[0;36m235.0\u001b[0m\u001b[0;34m,\u001b[0m \u001b[0;36m261.8\u001b[0m\u001b[0;34m,\u001b[0m \u001b[0;36m279.4\u001b[0m\u001b[0;34m,\u001b[0m \u001b[0;36m290.2\u001b[0m\u001b[0;34m,\u001b[0m \u001b[0;36m309.8\u001b[0m\u001b[0;34m,\u001b[0m \u001b[0;36m325.0\u001b[0m\u001b[0;34m,\u001b[0m \u001b[0;36m355.0\u001b[0m\u001b[0;34m]\u001b[0m\u001b[0;34m,\u001b[0m \u001b[0;34m[\u001b[0m\u001b[0;36m167.4\u001b[0m\u001b[0;34m,\u001b[0m \u001b[0;36m211.4\u001b[0m\u001b[0;34m,\u001b[0m \u001b[0;36m223.6\u001b[0m\u001b[0;34m,\u001b[0m \u001b[0;36m243.60000000000002\u001b[0m\u001b[0;34m,\u001b[0m \u001b[0;36m262.8\u001b[0m\u001b[0;34m,\u001b[0m \u001b[0;36m301.4\u001b[0m\u001b[0;34m,\u001b[0m \u001b[0;36m331.6\u001b[0m\u001b[0;34m,\u001b[0m \u001b[0;36m345.8\u001b[0m\u001b[0;34m]\u001b[0m\u001b[0;34m]\u001b[0m\u001b[0;34m\u001b[0m\u001b[0;34m\u001b[0m\u001b[0m\n\u001b[0;32m----> 2\u001b[0;31m \u001b[0mfreq_min\u001b[0m \u001b[0;34m=\u001b[0m \u001b[0;34m[\u001b[0m\u001b[0mmultiply\u001b[0m\u001b[0;34m(\u001b[0m\u001b[0mtest_min\u001b[0m\u001b[0;34m[\u001b[0m\u001b[0mk\u001b[0m\u001b[0;34m]\u001b[0m\u001b[0;34m,\u001b[0m\u001b[0;36m0.2\u001b[0m\u001b[0;34m)\u001b[0m\u001b[0;34m+\u001b[0m\u001b[0;36m167\u001b[0m \u001b[0;32mfor\u001b[0m \u001b[0mk\u001b[0m \u001b[0;32min\u001b[0m \u001b[0mrange\u001b[0m\u001b[0;34m(\u001b[0m\u001b[0;36m0\u001b[0m\u001b[0;34m,\u001b[0m\u001b[0mlen\u001b[0m\u001b[0;34m(\u001b[0m\u001b[0mfile_path\u001b[0m\u001b[0;34m)\u001b[0m\u001b[0;34m)\u001b[0m\u001b[0;34m]\u001b[0m\u001b[0;34m\u001b[0m\u001b[0;34m\u001b[0m\u001b[0m\n\u001b[0m\u001b[1;32m      3\u001b[0m \u001b[0mfreq_min\u001b[0m\u001b[0;34m\u001b[0m\u001b[0;34m\u001b[0m\u001b[0m\n",
      "\u001b[0;32m<ipython-input-14-8da817e964ec>\u001b[0m in \u001b[0;36m<listcomp>\u001b[0;34m(.0)\u001b[0m\n\u001b[1;32m      1\u001b[0m \u001b[0mtest_min\u001b[0m \u001b[0;34m=\u001b[0m  \u001b[0;34m[\u001b[0m\u001b[0;34m[\u001b[0m\u001b[0;36m167.2\u001b[0m\u001b[0;34m,\u001b[0m \u001b[0;36m181.2\u001b[0m\u001b[0;34m,\u001b[0m \u001b[0;36m205.4\u001b[0m\u001b[0;34m,\u001b[0m \u001b[0;36m253.0\u001b[0m\u001b[0;34m,\u001b[0m \u001b[0;36m293.2\u001b[0m\u001b[0;34m,\u001b[0m \u001b[0;36m330.6\u001b[0m\u001b[0;34m,\u001b[0m \u001b[0;36m350.6\u001b[0m\u001b[0;34m,\u001b[0m \u001b[0;36m366.0\u001b[0m\u001b[0;34m]\u001b[0m\u001b[0;34m,\u001b[0m \u001b[0;34m[\u001b[0m\u001b[0;36m167.8\u001b[0m\u001b[0;34m,\u001b[0m \u001b[0;36m185.2\u001b[0m\u001b[0;34m,\u001b[0m \u001b[0;36m201.0\u001b[0m\u001b[0;34m,\u001b[0m \u001b[0;36m223.2\u001b[0m\u001b[0;34m,\u001b[0m \u001b[0;36m260.2\u001b[0m\u001b[0;34m,\u001b[0m \u001b[0;36m280.8\u001b[0m\u001b[0;34m,\u001b[0m \u001b[0;36m309.20000000000005\u001b[0m\u001b[0;34m,\u001b[0m \u001b[0;36m321.8\u001b[0m\u001b[0;34m,\u001b[0m \u001b[0;36m348.4\u001b[0m\u001b[0;34m]\u001b[0m\u001b[0;34m,\u001b[0m \u001b[0;34m[\u001b[0m\u001b[0;36m192.2\u001b[0m\u001b[0;34m,\u001b[0m \u001b[0;36m204.8\u001b[0m\u001b[0;34m,\u001b[0m \u001b[0;36m223.0\u001b[0m\u001b[0;34m,\u001b[0m \u001b[0;36m243.2\u001b[0m\u001b[0;34m,\u001b[0m \u001b[0;36m262.2\u001b[0m\u001b[0;34m,\u001b[0m \u001b[0;36m307.8\u001b[0m\u001b[0;34m,\u001b[0m \u001b[0;36m324.0\u001b[0m\u001b[0;34m,\u001b[0m \u001b[0;36m343.6\u001b[0m\u001b[0;34m,\u001b[0m \u001b[0;36m364.8\u001b[0m\u001b[0;34m]\u001b[0m\u001b[0;34m,\u001b[0m \u001b[0;34m[\u001b[0m\u001b[0;36m171.4\u001b[0m\u001b[0;34m,\u001b[0m \u001b[0;36m187.6\u001b[0m\u001b[0;34m,\u001b[0m \u001b[0;36m230.4\u001b[0m\u001b[0;34m,\u001b[0m \u001b[0;36m244.2\u001b[0m\u001b[0;34m,\u001b[0m \u001b[0;36m263.4\u001b[0m\u001b[0;34m,\u001b[0m \u001b[0;36m280.8\u001b[0m\u001b[0;34m,\u001b[0m \u001b[0;36m302.8\u001b[0m\u001b[0;34m,\u001b[0m \u001b[0;36m325.4\u001b[0m\u001b[0;34m,\u001b[0m \u001b[0;36m347.4\u001b[0m\u001b[0;34m,\u001b[0m \u001b[0;36m366.4\u001b[0m\u001b[0;34m]\u001b[0m\u001b[0;34m,\u001b[0m \u001b[0;34m[\u001b[0m\u001b[0;36m167.2\u001b[0m\u001b[0;34m,\u001b[0m \u001b[0;36m211.6\u001b[0m\u001b[0;34m,\u001b[0m \u001b[0;36m226.2\u001b[0m\u001b[0;34m,\u001b[0m \u001b[0;36m262.2\u001b[0m\u001b[0;34m,\u001b[0m \u001b[0;36m283.8\u001b[0m\u001b[0;34m,\u001b[0m \u001b[0;36m317.0\u001b[0m\u001b[0;34m,\u001b[0m \u001b[0;36m333.0\u001b[0m\u001b[0;34m,\u001b[0m \u001b[0;36m353.8\u001b[0m\u001b[0;34m]\u001b[0m\u001b[0;34m,\u001b[0m \u001b[0;34m[\u001b[0m\u001b[0;36m178.8\u001b[0m\u001b[0;34m,\u001b[0m \u001b[0;36m199.6\u001b[0m\u001b[0;34m,\u001b[0m \u001b[0;36m217.8\u001b[0m\u001b[0;34m,\u001b[0m \u001b[0;36m262.4\u001b[0m\u001b[0;34m,\u001b[0m \u001b[0;36m288.2\u001b[0m\u001b[0;34m,\u001b[0m \u001b[0;36m303.8\u001b[0m\u001b[0;34m,\u001b[0m \u001b[0;36m327.6\u001b[0m\u001b[0;34m,\u001b[0m \u001b[0;36m349.8\u001b[0m\u001b[0;34m,\u001b[0m \u001b[0;36m365.6\u001b[0m\u001b[0;34m]\u001b[0m\u001b[0;34m,\u001b[0m \u001b[0;34m[\u001b[0m\u001b[0;36m170.8\u001b[0m\u001b[0;34m,\u001b[0m \u001b[0;36m184.4\u001b[0m\u001b[0;34m,\u001b[0m \u001b[0;36m217.2\u001b[0m\u001b[0;34m,\u001b[0m \u001b[0;36m235.0\u001b[0m\u001b[0;34m,\u001b[0m \u001b[0;36m261.8\u001b[0m\u001b[0;34m,\u001b[0m \u001b[0;36m279.4\u001b[0m\u001b[0;34m,\u001b[0m \u001b[0;36m290.2\u001b[0m\u001b[0;34m,\u001b[0m \u001b[0;36m309.8\u001b[0m\u001b[0;34m,\u001b[0m \u001b[0;36m325.0\u001b[0m\u001b[0;34m,\u001b[0m \u001b[0;36m355.0\u001b[0m\u001b[0;34m]\u001b[0m\u001b[0;34m,\u001b[0m \u001b[0;34m[\u001b[0m\u001b[0;36m167.4\u001b[0m\u001b[0;34m,\u001b[0m \u001b[0;36m211.4\u001b[0m\u001b[0;34m,\u001b[0m \u001b[0;36m223.6\u001b[0m\u001b[0;34m,\u001b[0m \u001b[0;36m243.60000000000002\u001b[0m\u001b[0;34m,\u001b[0m \u001b[0;36m262.8\u001b[0m\u001b[0;34m,\u001b[0m \u001b[0;36m301.4\u001b[0m\u001b[0;34m,\u001b[0m \u001b[0;36m331.6\u001b[0m\u001b[0;34m,\u001b[0m \u001b[0;36m345.8\u001b[0m\u001b[0;34m]\u001b[0m\u001b[0;34m]\u001b[0m\u001b[0;34m\u001b[0m\u001b[0;34m\u001b[0m\u001b[0m\n\u001b[0;32m----> 2\u001b[0;31m \u001b[0mfreq_min\u001b[0m \u001b[0;34m=\u001b[0m \u001b[0;34m[\u001b[0m\u001b[0mmultiply\u001b[0m\u001b[0;34m(\u001b[0m\u001b[0mtest_min\u001b[0m\u001b[0;34m[\u001b[0m\u001b[0mk\u001b[0m\u001b[0;34m]\u001b[0m\u001b[0;34m,\u001b[0m\u001b[0;36m0.2\u001b[0m\u001b[0;34m)\u001b[0m\u001b[0;34m+\u001b[0m\u001b[0;36m167\u001b[0m \u001b[0;32mfor\u001b[0m \u001b[0mk\u001b[0m \u001b[0;32min\u001b[0m \u001b[0mrange\u001b[0m\u001b[0;34m(\u001b[0m\u001b[0;36m0\u001b[0m\u001b[0;34m,\u001b[0m\u001b[0mlen\u001b[0m\u001b[0;34m(\u001b[0m\u001b[0mfile_path\u001b[0m\u001b[0;34m)\u001b[0m\u001b[0;34m)\u001b[0m\u001b[0;34m]\u001b[0m\u001b[0;34m\u001b[0m\u001b[0;34m\u001b[0m\u001b[0m\n\u001b[0m\u001b[1;32m      3\u001b[0m \u001b[0mfreq_min\u001b[0m\u001b[0;34m\u001b[0m\u001b[0;34m\u001b[0m\u001b[0m\n",
      "\u001b[0;31mIndexError\u001b[0m: list index out of range"
     ]
    }
   ],
   "source": [
    "test_min =  [[167.2, 181.2, 205.4, 253.0, 293.2, 330.6, 350.6, 366.0], [167.8, 185.2, 201.0, 223.2, 260.2, 280.8, 309.20000000000005, 321.8, 348.4], [192.2, 204.8, 223.0, 243.2, 262.2, 307.8, 324.0, 343.6, 364.8], [171.4, 187.6, 230.4, 244.2, 263.4, 280.8, 302.8, 325.4, 347.4, 366.4], [167.2, 211.6, 226.2, 262.2, 283.8, 317.0, 333.0, 353.8], [178.8, 199.6, 217.8, 262.4, 288.2, 303.8, 327.6, 349.8, 365.6], [170.8, 184.4, 217.2, 235.0, 261.8, 279.4, 290.2, 309.8, 325.0, 355.0], [167.4, 211.4, 223.6, 243.60000000000002, 262.8, 301.4, 331.6, 345.8]]\n",
    "freq_min = [multiply(test_min[k],0.2)+167 for k in range(0,len(file_path))]\n",
    "freq_min"
   ]
  },
  {
   "cell_type": "code",
   "execution_count": 14,
   "metadata": {},
   "outputs": [],
   "source": [
    "# true_min=[]\n",
    "# for k in range(0,len(file_path)):\n",
    "#     temp_min=[]\n",
    "#     for l in range(0,3):\n",
    "#         idx = argmin(asarray(test_min[0])[:])\n",
    "#         temp_min.append(idx)\n",
    "#         delete(test_min,idx)\n",
    "#     true_min.append(temp_min)\n",
    "# print(true_min)\n",
    "\n",
    "to_plot = 3\n",
    "figure('Plot tickle seul').clf()\n",
    "plot(freq[0:len(PM[to_plot])],PM[to_plot],color = cm(1.*to_plot/len(file_path)))\n",
    "plt.vlines(x=test_min[to_plot],ymin = 0,ymax = 80000,linestyle = ':',color = cm(1.*k/len(file_path)))\n",
    "xlabel('Frequency (kHz)')\n",
    "ylabel('Fluorescence (counts)')\n",
    "grid()\n",
    "plt.tight_layout()"
   ]
  },
  {
   "cell_type": "code",
   "execution_count": 13,
   "metadata": {},
   "outputs": [
    {
     "data": {
      "text/plain": [
       "[[167.2, 181.2, 205.4, 253.0, 293.2, 330.6, 350.6, 366.0],\n",
       " [167.8, 185.2, 201.0, 223.2, 260.2, 280.8, 309.20000000000005, 321.8, 348.4],\n",
       " [171.6, 201.0, 223.2, 260.8, 284.4, 321.0, 350.20000000000005, 364.4],\n",
       " [192.2, 204.8, 223.0, 243.2, 262.2, 307.8, 324.0, 343.6, 364.8],\n",
       " [171.4, 187.6, 230.4, 244.2, 263.4, 280.8, 302.8, 325.4, 347.4, 366.4],\n",
       " [167.2, 211.6, 226.2, 262.2, 283.8, 317.0, 333.0, 353.8],\n",
       " [178.8, 199.6, 217.8, 262.4, 288.2, 303.8, 327.6, 349.8, 365.6],\n",
       " [170.8, 184.4, 217.2, 235.0, 261.8, 279.4, 290.2, 309.8, 325.0, 355.0],\n",
       " [167.4, 211.4, 223.6, 243.60000000000002, 262.8, 301.4, 331.6, 345.8]]"
      ]
     },
     "execution_count": 13,
     "metadata": {},
     "output_type": "execute_result"
    }
   ],
   "source": [
    "test_min"
   ]
  },
  {
   "cell_type": "code",
   "execution_count": 12,
   "metadata": {},
   "outputs": [
    {
     "name": "stderr",
     "output_type": "stream",
     "text": [
      "/home/adrian/.local/lib/python3.6/site-packages/ipykernel_launcher.py:12: DeprecationWarning: in the future out of bounds indices will raise an error instead of being ignored by `numpy.delete`.\n",
      "  if sys.path[0] == '':\n"
     ]
    },
    {
     "ename": "IndexError",
     "evalue": "list index out of range",
     "output_type": "error",
     "traceback": [
      "\u001b[0;31m---------------------------------------------------------------------------\u001b[0m",
      "\u001b[0;31mIndexError\u001b[0m                                Traceback (most recent call last)",
      "\u001b[0;32m<ipython-input-12-a87d4330bf50>\u001b[0m in \u001b[0;36m<module>\u001b[0;34m()\u001b[0m\n\u001b[1;32m     10\u001b[0m \u001b[0mtrue_test_min\u001b[0m\u001b[0;34m=\u001b[0m\u001b[0;34m[\u001b[0m\u001b[0;34m]\u001b[0m\u001b[0;34m\u001b[0m\u001b[0;34m\u001b[0m\u001b[0m\n\u001b[1;32m     11\u001b[0m \u001b[0;32mfor\u001b[0m \u001b[0mk\u001b[0m \u001b[0;32min\u001b[0m \u001b[0mrange\u001b[0m\u001b[0;34m(\u001b[0m\u001b[0;36m0\u001b[0m\u001b[0;34m,\u001b[0m\u001b[0mlen\u001b[0m\u001b[0;34m(\u001b[0m\u001b[0mfile_path\u001b[0m\u001b[0;34m)\u001b[0m\u001b[0;34m)\u001b[0m\u001b[0;34m:\u001b[0m\u001b[0;34m\u001b[0m\u001b[0;34m\u001b[0m\u001b[0m\n\u001b[0;32m---> 12\u001b[0;31m     \u001b[0mtrue_test_min\u001b[0m\u001b[0;34m.\u001b[0m\u001b[0mappend\u001b[0m\u001b[0;34m(\u001b[0m\u001b[0mlist\u001b[0m\u001b[0;34m(\u001b[0m\u001b[0mdelete\u001b[0m\u001b[0;34m(\u001b[0m\u001b[0mtest_min\u001b[0m\u001b[0;34m[\u001b[0m\u001b[0mk\u001b[0m\u001b[0;34m]\u001b[0m\u001b[0;34m,\u001b[0m\u001b[0mto_delete\u001b[0m\u001b[0;34m[\u001b[0m\u001b[0mk\u001b[0m\u001b[0;34m]\u001b[0m\u001b[0;34m)\u001b[0m\u001b[0;34m)\u001b[0m\u001b[0;34m)\u001b[0m\u001b[0;34m\u001b[0m\u001b[0;34m\u001b[0m\u001b[0m\n\u001b[0m\u001b[1;32m     13\u001b[0m \u001b[0;34m\u001b[0m\u001b[0m\n\u001b[1;32m     14\u001b[0m \u001b[0mtrue_test_min\u001b[0m\u001b[0;34m[\u001b[0m\u001b[0;36m3\u001b[0m\u001b[0;34m]\u001b[0m\u001b[0;34m=\u001b[0m\u001b[0;34m[\u001b[0m\u001b[0;36m244.2\u001b[0m\u001b[0;34m,\u001b[0m\u001b[0;36m259\u001b[0m\u001b[0;34m,\u001b[0m\u001b[0;36m263.4\u001b[0m\u001b[0;34m]\u001b[0m\u001b[0;34m\u001b[0m\u001b[0;34m\u001b[0m\u001b[0m\n",
      "\u001b[0;31mIndexError\u001b[0m: list index out of range"
     ]
    }
   ],
   "source": [
    "to_delete=[[0,4,5,6,7],\n",
    "[0,1,5,6,7,8,9],\n",
    "[0,1,5,6,7,8,9],\n",
    "[0,1,2,6,7,8,9],\n",
    "[0,1,2,5,6,7],\n",
    "[0,1,2,6,7,8],\n",
    "[0,1,2,3,5,6,9],\n",
    "[0,1,2,3,5]]\n",
    "\n",
    "true_test_min=[]\n",
    "for k in range(0,len(file_path)):\n",
    "    true_test_min.append(list(delete(test_min[k],to_delete[k])))\n",
    "\n",
    "true_test_min[3]=[244.2,259,263.4]\n",
    "true_test_min[4]=[262.2,267,283.8]\n",
    "\n",
    "true_test_min"
   ]
  },
  {
   "cell_type": "code",
   "execution_count": 387,
   "metadata": {},
   "outputs": [],
   "source": [
    "# plot one curve\n",
    "\n",
    "to_plot=7\n",
    "figure('Plot tickle seul').clf()\n",
    "plot(freq[0:len(PM[to_plot])],PM[to_plot],color = cm(1.*to_plot/len(file_path)))\n",
    "plt.vlines(x=true_test_min[to_plot],ymin=0,ymax=80000,linestyle=':',color = cm(1.*k/len(file_path)))\n",
    "xlabel('Frequency (kHz)')\n",
    "ylabel('Fluorescence (counts)')\n",
    "grid()\n",
    "plt.tight_layout()"
   ]
  },
  {
   "cell_type": "code",
   "execution_count": null,
   "metadata": {},
   "outputs": [],
   "source": [
    "# choose only good minimum\n",
    "\n",
    "# test_min[to_plot] = delete(test_min[to_plot],(0,1,2,3,5))\n",
    "# figure('Plot tickle seul').clf()\n",
    "# plot(freq[0:len(PM[to_plot])],PM[to_plot],color = cm(1.*to_plot/len(file_path)))\n",
    "# plt.vlines(x=test_min[to_plot],ymin=0,ymax=80000,linestyle=':',color = cm(1.*k/len(file_path)))\n",
    "# xlabel('Frequency (kHz)')\n",
    "# ylabel('Fluorescence (counts)')\n",
    "# grid()\n",
    "# plt.tight_layout()"
   ]
  },
  {
   "cell_type": "code",
   "execution_count": 11,
   "metadata": {},
   "outputs": [
    {
     "ename": "NameError",
     "evalue": "name 'true_test_min' is not defined",
     "output_type": "error",
     "traceback": [
      "\u001b[0;31m---------------------------------------------------------------------------\u001b[0m",
      "\u001b[0;31mNameError\u001b[0m                                 Traceback (most recent call last)",
      "\u001b[0;32m<ipython-input-11-07bec1ece539>\u001b[0m in \u001b[0;36m<module>\u001b[0;34m()\u001b[0m\n\u001b[0;32m----> 1\u001b[0;31m \u001b[0msave_min\u001b[0m\u001b[0;34m=\u001b[0m\u001b[0mtrue_test_min\u001b[0m\u001b[0;34m\u001b[0m\u001b[0;34m\u001b[0m\u001b[0m\n\u001b[0m\u001b[1;32m      2\u001b[0m \u001b[0mlz\u001b[0m\u001b[0;34m=\u001b[0m\u001b[0;34m[\u001b[0m\u001b[0;36m2\u001b[0m\u001b[0;34m,\u001b[0m\u001b[0;36m2\u001b[0m\u001b[0;34m,\u001b[0m\u001b[0;36m2\u001b[0m\u001b[0;34m,\u001b[0m\u001b[0;36m2\u001b[0m\u001b[0;34m,\u001b[0m\u001b[0;36m0\u001b[0m\u001b[0;34m,\u001b[0m\u001b[0;36m0\u001b[0m\u001b[0;34m,\u001b[0m\u001b[0;36m0\u001b[0m\u001b[0;34m,\u001b[0m\u001b[0;36m0\u001b[0m\u001b[0;34m]\u001b[0m\u001b[0;34m\u001b[0m\u001b[0;34m\u001b[0m\u001b[0m\n\u001b[1;32m      3\u001b[0m \u001b[0mwz\u001b[0m\u001b[0;34m=\u001b[0m\u001b[0;34m[\u001b[0m\u001b[0;34m]\u001b[0m\u001b[0;34m\u001b[0m\u001b[0;34m\u001b[0m\u001b[0m\n\u001b[1;32m      4\u001b[0m \u001b[0;32mfor\u001b[0m \u001b[0mk\u001b[0m \u001b[0;32min\u001b[0m \u001b[0mrange\u001b[0m\u001b[0;34m(\u001b[0m\u001b[0;36m0\u001b[0m\u001b[0;34m,\u001b[0m\u001b[0mlen\u001b[0m\u001b[0;34m(\u001b[0m\u001b[0mfile_path\u001b[0m\u001b[0;34m)\u001b[0m\u001b[0;34m)\u001b[0m\u001b[0;34m:\u001b[0m\u001b[0;34m\u001b[0m\u001b[0;34m\u001b[0m\u001b[0m\n\u001b[1;32m      5\u001b[0m     \u001b[0mwz\u001b[0m\u001b[0;34m.\u001b[0m\u001b[0mappend\u001b[0m\u001b[0;34m(\u001b[0m\u001b[0msave_min\u001b[0m\u001b[0;34m[\u001b[0m\u001b[0mk\u001b[0m\u001b[0;34m]\u001b[0m\u001b[0;34m[\u001b[0m\u001b[0mlz\u001b[0m\u001b[0;34m[\u001b[0m\u001b[0mk\u001b[0m\u001b[0;34m]\u001b[0m\u001b[0;34m]\u001b[0m\u001b[0;34m/\u001b[0m\u001b[0;36m2\u001b[0m\u001b[0;34m)\u001b[0m\u001b[0;34m\u001b[0m\u001b[0;34m\u001b[0m\u001b[0m\n",
      "\u001b[0;31mNameError\u001b[0m: name 'true_test_min' is not defined"
     ]
    }
   ],
   "source": [
    "save_min=true_test_min\n",
    "lz=[2,2,2,2,0,0,0,0]\n",
    "wz=[]\n",
    "for k in range(0,len(file_path)):\n",
    "    wz.append(save_min[k][lz[k]]/2)\n",
    "print(wz)\n",
    "save_min=np.column_stack((save_min,wz))\n",
    "save_min"
   ]
  },
  {
   "cell_type": "code",
   "execution_count": 10,
   "metadata": {},
   "outputs": [
    {
     "name": "stderr",
     "output_type": "stream",
     "text": [
      "/home/adrian/.local/lib/python3.6/site-packages/ipykernel_launcher.py:9: DeprecationWarning: object of type <class 'float'> cannot be safely interpreted as an integer.\n",
      "  if __name__ == '__main__':\n"
     ]
    },
    {
     "ename": "NameError",
     "evalue": "name 'save_min' is not defined",
     "output_type": "error",
     "traceback": [
      "\u001b[0;31m---------------------------------------------------------------------------\u001b[0m",
      "\u001b[0;31mNameError\u001b[0m                                 Traceback (most recent call last)",
      "\u001b[0;32m<ipython-input-10-e5d34d13e4ab>\u001b[0m in \u001b[0;36m<module>\u001b[0;34m()\u001b[0m\n\u001b[1;32m     16\u001b[0m     \u001b[0;32mfor\u001b[0m \u001b[0ml\u001b[0m \u001b[0;32min\u001b[0m \u001b[0mrange\u001b[0m\u001b[0;34m(\u001b[0m\u001b[0;36m0\u001b[0m\u001b[0;34m,\u001b[0m\u001b[0;36m4\u001b[0m\u001b[0;34m)\u001b[0m\u001b[0;34m:\u001b[0m\u001b[0;34m\u001b[0m\u001b[0;34m\u001b[0m\u001b[0m\n\u001b[1;32m     17\u001b[0m \u001b[0;31m#         plot(URF[k],asmatrix(save_min[k]),'+',color=cm(1.*k/len(file_path)),mew=2,ms=8,label='_nolegend_')\u001b[0m\u001b[0;34m\u001b[0m\u001b[0;34m\u001b[0m\u001b[0;34m\u001b[0m\u001b[0m\n\u001b[0;32m---> 18\u001b[0;31m         \u001b[0merrorbar\u001b[0m\u001b[0;34m(\u001b[0m\u001b[0mURF\u001b[0m\u001b[0;34m[\u001b[0m\u001b[0mk\u001b[0m\u001b[0;34m]\u001b[0m\u001b[0;34m,\u001b[0m\u001b[0masmatrix\u001b[0m\u001b[0;34m(\u001b[0m\u001b[0msave_min\u001b[0m\u001b[0;34m[\u001b[0m\u001b[0mk\u001b[0m\u001b[0;34m,\u001b[0m\u001b[0mlines\u001b[0m\u001b[0;34m[\u001b[0m\u001b[0ml\u001b[0m\u001b[0;34m,\u001b[0m\u001b[0mk\u001b[0m\u001b[0;34m]\u001b[0m\u001b[0;34m]\u001b[0m\u001b[0;34m)\u001b[0m\u001b[0;34m,\u001b[0m\u001b[0myerr\u001b[0m\u001b[0;34m=\u001b[0m\u001b[0mdy\u001b[0m\u001b[0;34m[\u001b[0m\u001b[0ml\u001b[0m\u001b[0;34m]\u001b[0m\u001b[0;34m,\u001b[0m\u001b[0mfmt\u001b[0m\u001b[0;34m=\u001b[0m\u001b[0;34m'x'\u001b[0m\u001b[0;34m,\u001b[0m\u001b[0mmew\u001b[0m\u001b[0;34m=\u001b[0m\u001b[0;36m1\u001b[0m\u001b[0;34m,\u001b[0m\u001b[0mms\u001b[0m\u001b[0;34m=\u001b[0m\u001b[0;36m6\u001b[0m\u001b[0;34m,\u001b[0m\u001b[0mcolor\u001b[0m\u001b[0;34m=\u001b[0m\u001b[0;34m'black'\u001b[0m\u001b[0;34m,\u001b[0m\u001b[0mecolor\u001b[0m\u001b[0;34m=\u001b[0m\u001b[0mcm2\u001b[0m\u001b[0;34m(\u001b[0m\u001b[0;36m1.\u001b[0m\u001b[0;34m*\u001b[0m\u001b[0ml\u001b[0m\u001b[0;34m/\u001b[0m\u001b[0;36m4\u001b[0m\u001b[0;34m)\u001b[0m\u001b[0;34m,\u001b[0m\u001b[0melinewidth\u001b[0m\u001b[0;34m=\u001b[0m\u001b[0;36m2\u001b[0m\u001b[0;34m,\u001b[0m\u001b[0mcapsize\u001b[0m\u001b[0;34m=\u001b[0m\u001b[0;36m5\u001b[0m\u001b[0;34m,\u001b[0m\u001b[0mlabel\u001b[0m\u001b[0;34m=\u001b[0m\u001b[0;34m'_nolegend_'\u001b[0m\u001b[0;34m)\u001b[0m\u001b[0;34m\u001b[0m\u001b[0;34m\u001b[0m\u001b[0m\n\u001b[0m\u001b[1;32m     19\u001b[0m \u001b[0;31m#         plot(URF,wz,'+',color=cm(1.*k/len(file_path)),mew=2,ms=8)\u001b[0m\u001b[0;34m\u001b[0m\u001b[0;34m\u001b[0m\u001b[0;34m\u001b[0m\u001b[0m\n\u001b[1;32m     20\u001b[0m \u001b[0;31m#         toto[k,l]=save_min.item(k,lines.item(l,k))\u001b[0m\u001b[0;34m\u001b[0m\u001b[0;34m\u001b[0m\u001b[0;34m\u001b[0m\u001b[0m\n",
      "\u001b[0;31mNameError\u001b[0m: name 'save_min' is not defined"
     ]
    }
   ],
   "source": [
    "URF=divide([120.8,129.9,139.8,147.7,160.3,170.3,180.3,190.3],4)\n",
    "lines=[[0,0,0,0,1,1,1,1], # 30 175\n",
    "       [1,1,1,1,2,2,2,2], # 30 200\n",
    "       [2,2,2,2,0,0,0,0], # 30 250 2wz\n",
    "       [3,3,3,3,3,3,3,3]] # wz\n",
    "lines=asmatrix(lines)\n",
    "\n",
    "cm2 = pylab.get_cmap('brg')\n",
    "span=linspace(29,48,1e4)\n",
    "\n",
    "fig=figure('tickle minimum')\n",
    "ax = fig.add_subplot(1, 1, 1)\n",
    "\n",
    "dy=[1,1,5,2.5]\n",
    "for k in range(0,len(file_path)): # URF\n",
    "    for l in range(0,4):\n",
    "#         plot(URF[k],asmatrix(save_min[k]),'+',color=cm(1.*k/len(file_path)),mew=2,ms=8,label='_nolegend_')\n",
    "        errorbar(URF[k],asmatrix(save_min[k,lines[l,k]]),yerr=dy[l],fmt='x',mew=1,ms=6,color='black',ecolor=cm2(1.*l/4),elinewidth=2,capsize=5,label='_nolegend_')\n",
    "#         plot(URF,wz,'+',color=cm(1.*k/len(file_path)),mew=2,ms=8)\n",
    "#         toto[k,l]=save_min.item(k,lines.item(l,k))\n",
    "#         print(save_min[k],URF[k])\n",
    "\n",
    "# plt.errorbar(URF, y, yerr=dy, fmt='o', color='black',\n",
    "#              ecolor='lightgray', elinewidth=3, capsize=0);\n",
    "    \n",
    "R=[[],[],[],[]]\n",
    "lstyle=['--', '--', ':', ':','-', '--', '-.', ':']\n",
    "for l in range(0,4):\n",
    "    lefit=[]\n",
    "    for k in range(0,len(file_path)):\n",
    "        lefit.append(save_min[k].item(lines.item(l,k)))\n",
    "    poly_fit=lin_fit(URF,lefit,1)\n",
    "    plot(span,poly_fit(span),linestyle=lstyle[l],color=cm2(1.*l/4))\n",
    "    print(poly_fit)\n",
    "    R[l]=corrcoef(URF,lefit)\n",
    "\n",
    "# font = {'family': 'sans-serif',\n",
    "#         'weight': 'normal',\n",
    "#         'size': 20,\n",
    "#         }\n",
    "# props = dict(facecolor='white', alpha=1)\n",
    "# xpos=[43.5,43.5,43.5,43.5]\n",
    "# ypos=[282,340,247,145]\n",
    "# for k in range(0,4,1):\n",
    "#     plt.text(xpos[k],ypos[k],'R = {:.4f}'.format(R[k].item(0,1)),\n",
    "#              fontdict=font,color=cm2(1.*k/4),bbox=props)\n",
    "\n",
    "ax.xaxis.set_major_locator(matplotlib.ticker.MultipleLocator(base=2.5))\n",
    "ax.yaxis.set_major_locator(matplotlib.ticker.MultipleLocator(base=25)) \n",
    "    \n",
    "legend(['$\\omega_x$','$\\omega_y$','$2\\omega_z$','$\\omega_z$'])\n",
    "    \n",
    "xlabel('$U_{RF}$')\n",
    "ylabel('Tickle frequency response (kHz)')\n",
    "grid()\n",
    "tight_layout()"
   ]
  },
  {
   "cell_type": "code",
   "execution_count": 392,
   "metadata": {},
   "outputs": [],
   "source": [
    "e=1.602e-19\n",
    "m=40.078*1.66054e-27 # 40.078\n",
    "\n",
    "r0=2.5e-3 # 2.5e-3\n",
    "d0=4e-3/2\n",
    "\n",
    "Omega=2.047e6*2*pi # 2.047e6"
   ]
  },
  {
   "cell_type": "code",
   "execution_count": 393,
   "metadata": {},
   "outputs": [],
   "source": [
    "Udc=0\n",
    "kappa=0.22481324\n",
    "zeta=kappa*r0**2/d0**2\n",
    "Vend=2.5"
   ]
  },
  {
   "cell_type": "code",
   "execution_count": 401,
   "metadata": {},
   "outputs": [
    {
     "name": "stdout",
     "output_type": "stream",
     "text": [
      "dw\n",
      "42.3 kHz\n",
      "58.4 kHz\n",
      "72.8 kHz\n",
      "83.2 kHz\n",
      "98.3 kHz\n",
      "109.6 kHz\n",
      "120.4 kHz\n",
      "130.9 kHz\n",
      "dw2\n",
      "42.3 kHz\n",
      "58.4 kHz\n",
      "72.8 kHz\n",
      "83.2 kHz\n",
      "98.3 kHz\n",
      "109.6 kHz\n",
      "120.4 kHz\n",
      "130.9 kHz\n",
      "dw2\n",
      "nan kHz\n",
      "nan kHz\n",
      "nan kHz\n",
      "nan kHz\n",
      "nan kHz\n",
      "nan kHz\n",
      "nan kHz\n",
      "36.3 kHz\n"
     ]
    },
    {
     "name": "stderr",
     "output_type": "stream",
     "text": [
      "/home/adrian/.local/lib/python3.6/site-packages/ipykernel_launcher.py:14: RuntimeWarning: invalid value encountered in sqrt\n",
      "  \n"
     ]
    }
   ],
   "source": [
    "dw=r0**(-1)*sqrt((e/m)*(Udc-zeta*Vend+0.5*e/(m*r0**2*Omega**2)*URF**2))\n",
    "print('dw')\n",
    "for k in range(0,len(dw)):\n",
    "    print('{:.1f}'.format(dw[k]/1000/(2*pi)),'kHz')\n",
    "    \n",
    "dw2=Omega*0.5*sqrt(4*e/(m*r0**2*Omega**2)*(Udc-zeta*Vend)+2*(e/(m*r0**2*Omega**2))**2*URF**2)\n",
    "print('dw2')\n",
    "for k in range(0,len(dw2)):\n",
    "    print('{:.1f}'.format(dw2[k]/1000/(2*pi)),'kHz')\n",
    "\n",
    "    \n",
    "ax=4*e/(m*r0**2*Omega**2)*(Udc-Vend)\n",
    "q=2*e*URF/(m*r0**2*Omega**2)\n",
    "dw3=Omega*0.5*sqrt(ax+q**2/2)\n",
    "print('dw2')\n",
    "for k in range(0,len(dw2)):\n",
    "    print('{:.1f}'.format(dw3[k]/1000/(2*pi)),'kHz')"
   ]
  },
  {
   "cell_type": "code",
   "execution_count": 397,
   "metadata": {},
   "outputs": [
    {
     "name": "stdout",
     "output_type": "stream",
     "text": [
      "dwmes [24.2 22.2 20.2 14.8 16.8 15.6 15.2 14.2] kHz\n"
     ]
    }
   ],
   "source": [
    "w=[]\n",
    "for k in range(0,len(file_path)): # URF\n",
    "    temp=[]\n",
    "    for l in range(0,4):\n",
    "#         plot(URF[k],asmatrix(save_min[k]),'+',color=cm(1.*k/len(file_path)),mew=2,ms=8,label='_nolegend_')\n",
    "        temp.append(save_min[k,lines[l,k]])\n",
    "    w.append(temp)\n",
    "w=asmatrix(w)\n",
    "dwmes=zeros(8)\n",
    "for k in range(0,8):\n",
    "    dwmes[k]=w[k,1]-w[k,0]\n",
    "print('dwmes',dwmes,'kHz')"
   ]
  },
  {
   "cell_type": "code",
   "execution_count": 396,
   "metadata": {},
   "outputs": [
    {
     "data": {
      "text/plain": [
       "(-0.87817671875,\n",
       " array([0.03515674, 0.03780514, 0.04068636, 0.04298552, 0.04665253,\n",
       "        0.04956286, 0.05247319, 0.05538351]))"
      ]
     },
     "execution_count": 396,
     "metadata": {},
     "output_type": "execute_result"
    }
   ],
   "source": [
    "-zeta*Vend,0.5*e/(m*r0**2*Omega**2)*URF"
   ]
  },
  {
   "cell_type": "code",
   "execution_count": null,
   "metadata": {},
   "outputs": [],
   "source": []
  }
 ],
 "metadata": {
  "kernelspec": {
   "display_name": "Python 3",
   "language": "python",
   "name": "python3"
  },
  "language_info": {
   "codemirror_mode": {
    "name": "ipython",
    "version": 3
   },
   "file_extension": ".py",
   "mimetype": "text/x-python",
   "name": "python",
   "nbconvert_exporter": "python",
   "pygments_lexer": "ipython3",
   "version": "3.6.7"
  }
 },
 "nbformat": 4,
 "nbformat_minor": 1
}
