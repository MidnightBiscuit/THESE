{
 "cells": [
  {
   "cell_type": "code",
   "execution_count": 93,
   "metadata": {},
   "outputs": [],
   "source": [
    "import numpy\n",
    "import matplotlib\n",
    "from matplotlib import pylab, mlab, pyplot\n",
    "from mpl_toolkits.mplot3d import Axes3D\n",
    "np = numpy\n",
    "plt = pyplot\n",
    "\n",
    "from pylab import *\n",
    "from numpy import *\n",
    "\n",
    "%matplotlib qt"
   ]
  },
  {
   "cell_type": "code",
   "execution_count": 96,
   "metadata": {},
   "outputs": [],
   "source": [
    "from matplotlib import cm\n",
    "from scipy.optimize import curve_fit\n",
    "from scipy.signal import argrelextrema"
   ]
  },
  {
   "cell_type": "code",
   "execution_count": 247,
   "metadata": {},
   "outputs": [],
   "source": [
    "matplotlib.rcParams['figure.figsize'] = [10.5,7]\n",
    "matplotlib.rcParams.update({'font.size': 20})"
   ]
  },
  {
   "cell_type": "code",
   "execution_count": 304,
   "metadata": {},
   "outputs": [],
   "source": [
    "# pas top pour avoir cov avec barre erreur\n",
    "def lin_fit(y1,y2,deg):\n",
    "    p=polyfit(y1,y2,deg) # obtention coefficients fit\n",
    "    return poly1d(p) # génération fonction"
   ]
  },
  {
   "cell_type": "code",
   "execution_count": 260,
   "metadata": {},
   "outputs": [
    {
     "name": "stdout",
     "output_type": "stream",
     "text": [
      "$\\kappa_{simion}$ = 0.270471\n"
     ]
    }
   ],
   "source": [
    "# Constantes de la physique\n",
    "# ABSOLUMENT RECHARGER APRÈS AVOIR EXECUTÉ LES CASES D'IMPORT AU DESSUS\n",
    "\n",
    "C_e = 1.602e-19        # Coulomb\n",
    "kb = 1.38064852*1e-23  # Boltzman\n",
    "m_Ca = 40.078*1.66054e-27 # masse Ca 40.078\n",
    "m_GM = 1e6*1.66054e-27 # la masse de la GMol\n",
    "eps0 = 8.854187*1e-12  # permittivité électrique du vide\n",
    "\n",
    "\n",
    "r0 = 2.5e-3 # 2.5e-3   # rayon piège Ca+\n",
    "d0 = (4e-3)/2            # longueur piège Ca+\n",
    "Omega = 2.045e6*2*pi # 2.047e6\n",
    "bk = 4 # nombre de barreaux par groupe (2 -> 4-pole , 4 -> 8-pole ...)\n",
    "\n",
    "mkappa = 0.23          # écrantage piège réel GiantMol\n",
    "wzLC = (2*pi*90806.9982303)**2\n",
    "kappa_simion = m_Ca*d0**2*wzLC/(2*C_e)\n",
    "print('%s = %f' % ('$\\kappa_{simion}$',kappa_simion) )\n",
    "\n",
    "zeta = kappa_simion*r0**2/d0**2"
   ]
  },
  {
   "cell_type": "code",
   "execution_count": 5,
   "metadata": {},
   "outputs": [],
   "source": [
    "# # Mathieu Barre erreur\n",
    "# # on peut lui donner barre erreur pour calcul variance\n",
    "# def function_(x,a,b) :\n",
    "#     return cos(a*x+b)*rand(1)*x\n",
    "# x=arange(0,10,0.1)\n",
    "# A = rand(1)\n",
    "# B=0.2*rand(1)\n",
    "# to_fit = function_(x,A,B) # pts xp\n",
    "# fit_ , pcov = curve_fit(function_,x,to_fit,p0=[A,B]) # le fit\n",
    "# ERR_fit = np.sqrt(np.diag(pcov)) # 1sigma variance\n",
    "# figure('function_').clf()\n",
    "# plt.plot(x,to_fit,label='data')\n",
    "# plt.errorbar(x,function_(x,fit_[0],fit_[1]),yerr=ERR_fit[0],label='FIT')\n",
    "# plt.legend()"
   ]
  },
  {
   "cell_type": "markdown",
   "metadata": {},
   "source": [
    "# Extraction de données"
   ]
  },
  {
   "cell_type": "code",
   "execution_count": 6,
   "metadata": {},
   "outputs": [],
   "source": [
    "filename=[]"
   ]
  },
  {
   "cell_type": "code",
   "execution_count": 221,
   "metadata": {},
   "outputs": [
    {
     "data": {
      "text/plain": [
       "('/home/adrian/Documents/Mesures/GiantMol_Ions/20180503/tickle_120-8vpp_2500mv_167k_367k_000.dat',\n",
       " '/home/adrian/Documents/Mesures/GiantMol_Ions/20180503/tickle_129-9vpp_2500mv_167k_367k_000.dat',\n",
       " '/home/adrian/Documents/Mesures/GiantMol_Ions/20180503/tickle_139-8vpp_2500mv_167k_367k_000.dat',\n",
       " '/home/adrian/Documents/Mesures/GiantMol_Ions/20180503/tickle_149-7vpp_2500mv_167k_367k_000.dat',\n",
       " '/home/adrian/Documents/Mesures/GiantMol_Ions/20180503/tickle_160-3vpp_2500mv_167k_367k_000.dat',\n",
       " '/home/adrian/Documents/Mesures/GiantMol_Ions/20180503/tickle_170-3vpp_2500mv_167k_367k_000.dat',\n",
       " '/home/adrian/Documents/Mesures/GiantMol_Ions/20180503/tickle_180-3vpp_2500mv_167k_367k_000.dat',\n",
       " '/home/adrian/Documents/Mesures/GiantMol_Ions/20180503/tickle_190-3vpp_2500mv_167k_367k_001.dat')"
      ]
     },
     "execution_count": 221,
     "metadata": {},
     "output_type": "execute_result"
    }
   ],
   "source": [
    "# sélection des fichiers (Python 3)\n",
    "import tkinter as tk\n",
    "from tkinter import filedialog\n",
    "\n",
    "root = tk.Tk()\n",
    "root.withdraw()\n",
    "\n",
    "file_path = filedialog.askopenfilename(initialdir = '/home/adrian/Documents/Mesures',multiple=True)\n",
    "file_path\n",
    "# /home/adrian/Documents/Mesures/20180503/"
   ]
  },
  {
   "cell_type": "code",
   "execution_count": 222,
   "metadata": {},
   "outputs": [],
   "source": [
    "filename=file_path\n",
    "# Temps, PM, Tension Pzt bleu\n",
    "TP = zeros((len(filename),999))\n",
    "PM = zeros((len(filename),999),int)\n",
    "VB = zeros((len(filename),999))\n",
    "for k in range(0,len(filename),1):\n",
    "    TP[:][k],PM[:][k],VB[:][k] = loadtxt('%s' %filename[k],usecols=(0,1,3),unpack=True)  "
   ]
  },
  {
   "cell_type": "code",
   "execution_count": 223,
   "metadata": {},
   "outputs": [
    {
     "name": "stdout",
     "output_type": "stream",
     "text": [
      "_120-8vpp_2500mv_167k_367k_000\n",
      "_129-9vpp_2500mv_167k_367k_000\n",
      "_139-8vpp_2500mv_167k_367k_000\n",
      "_149-7vpp_2500mv_167k_367k_000\n",
      "_160-3vpp_2500mv_167k_367k_000\n",
      "_170-3vpp_2500mv_167k_367k_000\n",
      "_180-3vpp_2500mv_167k_367k_000\n",
      "_190-3vpp_2500mv_167k_367k_001\n",
      "9-9vpp_2500mv_167k_367\n"
     ]
    }
   ],
   "source": [
    "for k in range(0,len(file_path)):\n",
    "    print(file_path[k][60:90])\n",
    "print(file_path[1][63:85])"
   ]
  },
  {
   "cell_type": "code",
   "execution_count": 242,
   "metadata": {},
   "outputs": [
    {
     "name": "stdout",
     "output_type": "stream",
     "text": [
      "3\n",
      "3\n",
      "3\n",
      "7\n",
      "2\n",
      "4\n",
      "4\n",
      "3\n"
     ]
    }
   ],
   "source": [
    "start = 167\n",
    "end = 367\n",
    "n_pts = len(PM[0])\n",
    "delta = (end - start)/n_pts\n",
    "\n",
    "freq=linspace(start,end,n_pts)\n",
    "\n",
    "test_min = []\n",
    "for k in range(len(file_path)):\n",
    "    test_min.append([])\n",
    "    max_PM = max(PM[k])\n",
    "    rows = argrelextrema(PM[k],less,order=50)\n",
    "    for l,m in enumerate(rows[0]):\n",
    "        if PM[k,m] < 0.85*max_PM:\n",
    "            test_min[k].append( m*delta + start )\n",
    "    print(len(test_min[k]))"
   ]
  },
  {
   "cell_type": "code",
   "execution_count": 234,
   "metadata": {},
   "outputs": [],
   "source": [
    "cm = pylab.get_cmap('rainbow')\n",
    "\n",
    "to_plot =  3\n",
    "figure('Plot tickle seul').clf()\n",
    "plot(freq[0:len(PM[to_plot])],PM[to_plot],color = cm(1.*to_plot/len(file_path)))\n",
    "plt.vlines(x=test_min[to_plot],ymin = 0,ymax = 80000,linestyle = ':',color = cm(1.*k/len(file_path)))\n",
    "xlabel('Frequency (kHz)')\n",
    "ylabel('Fluorescence (counts)')\n",
    "grid()\n",
    "plt.tight_layout()"
   ]
  },
  {
   "cell_type": "code",
   "execution_count": 243,
   "metadata": {},
   "outputs": [
    {
     "name": "stdout",
     "output_type": "stream",
     "text": [
      "3\n",
      "3\n",
      "3\n",
      "3\n",
      "3\n",
      "3\n",
      "3\n",
      "3\n"
     ]
    }
   ],
   "source": [
    "to_delete=[[],\n",
    "[],\n",
    "[],\n",
    "[2,3,4,5,6],\n",
    "[],\n",
    "[3],\n",
    "[3],\n",
    "[]]\n",
    "\n",
    "for k in range(len(file_path)):\n",
    "    test_min[k] = list(delete(test_min[k],to_delete[k]))\n",
    "\n",
    "test_min[3] = [244.27727727727728,0, 263.4964964964965]\n",
    "test_min[4] = [0,262.2952952952953, 283.91691691691693]\n",
    "for k in range(len(file_path)):\n",
    "    print(len(test_min[k]))"
   ]
  },
  {
   "cell_type": "code",
   "execution_count": 301,
   "metadata": {},
   "outputs": [],
   "source": [
    "# plot one curve\n",
    "\n",
    "to_plot = 2\n",
    "figure('Plot tickle seul').clf()\n",
    "plot(freq[0:len(PM[to_plot])],PM[to_plot],color = cm(1.*to_plot/len(file_path)))\n",
    "plt.vlines(x=test_min[to_plot],ymin=0,ymax=80000,linestyle=':',color = cm(1.*k/len(file_path)))\n",
    "xlabel('Frequency (kHz)')\n",
    "ylabel('Fluorescence (counts)')\n",
    "grid()\n",
    "plt.tight_layout()"
   ]
  },
  {
   "cell_type": "code",
   "execution_count": 229,
   "metadata": {},
   "outputs": [],
   "source": [
    "# true_min=[]\n",
    "# for k in range(0,len(file_path)):\n",
    "#     temp_min=[]\n",
    "#     for l in range(0,3):\n",
    "#         idx = argmin(asarray(test_min[0])[:])\n",
    "#         temp_min.append(idx)\n",
    "#         delete(test_min,idx)\n",
    "#     true_min.append(temp_min)\n",
    "# print(true_min)\n",
    "figure('Plot tickle blabl')\n",
    "clf()\n",
    "\n",
    "for to_plot in range(0,len(file_path)):\n",
    "    subplot(4,2,to_plot+1)\n",
    "    \n",
    "    title('UDC = '+ file_path[to_plot][76:80] + ' V ')\n",
    "#     title('UDC = '+ file_path[to_plot][65:73] + ' V : ' + file_path[to_plot][90:93])\n",
    "\n",
    "    plot(freq[0:len(PM[to_plot])],PM[to_plot],color = cm(1.*to_plot/len(file_path)))\n",
    "    plt.vlines(x=test_min[to_plot],ymin=0,ymax=80000,linestyle=':',color = cm(1.*k/len(file_path)))\n",
    "\n",
    "#     for k in range(0,len(file_path)):\n",
    "#         plt.text(toto[to_plot,k],10000,k,fontsize=10,ha='center')\n",
    "    \n",
    "    grid()\n",
    "    \n",
    "tight_layout()"
   ]
  },
  {
   "cell_type": "code",
   "execution_count": 509,
   "metadata": {},
   "outputs": [],
   "source": [
    "kappa_from_fit = 0.22692826986753578\n",
    "\n",
    "def f_r_fit(x,a):\n",
    "    aazz = 8*kappa_from_fit*C_e/(m*d0**2*Omega**2)*2.5\n",
    "    qq = 2*C_e/(m_Ca*r0**2*Omega**2)\n",
    "    return 0.5*2.05e6*sqrt(0.5*(qq*x)**2+a-0.5*aazz)"
   ]
  },
  {
   "cell_type": "code",
   "execution_count": 510,
   "metadata": {},
   "outputs": [
    {
     "name": "stdout",
     "output_type": "stream",
     "text": [
      "[0.04413983] [[6.78592471e-05]]\n"
     ]
    }
   ],
   "source": [
    "popt, pcov = curve_fit(f_r_fit,URF_for_fit,w_for_fit*1000,p0=[1e-3])\n",
    "print(popt,pcov)"
   ]
  },
  {
   "cell_type": "code",
   "execution_count": 551,
   "metadata": {},
   "outputs": [
    {
     "name": "stderr",
     "output_type": "stream",
     "text": [
      "/home/adrian/.local/lib/python3.6/site-packages/ipykernel_launcher.py:6: RuntimeWarning: invalid value encountered in sqrt\n",
      "  \n"
     ]
    }
   ],
   "source": [
    "URF=divide([120.8,129.9,139.8,149.7,160.3,170.3,180.3,190.3],4)\n",
    "lines=[[0,0,0,0,0,1,1,1], # fx\n",
    "       [1,1,1,1,2,2,2,2], # fy\n",
    "       [2,2,2,2,1,0,0,0]] # 2fz\n",
    "lines=asmatrix(lines)\n",
    "\n",
    "# w = zeros((3,8))\n",
    "# for k in range(3):\n",
    "#     for l in range(len(URF)):\n",
    "#         w[k,l] = test_min[l][lines[k,l]]\n",
    "\n",
    "cm2 = pylab.get_cmap('hsv')\n",
    "span=linspace(29,48.5,10000)\n",
    "f_z_theo = 1/2/pi*sqrt(2*C_e*kappa_from_fit/m_Ca/d0**2*2.5)\n",
    "f_u_theo = sqrt(2*(C_e*span/m_Ca/Omega/r0**2)**2)/2/pi\n",
    "f_r_theo = sqrt(f_u_theo**2-0.5*f_z_theo**2)\n",
    "\n",
    "my_labels = [r'$f_x$',r'$f_y$',r'$2f_z$']\n",
    "my_k = [1,2,0]\n",
    "dy=[2,3,6]\n",
    "\n",
    "fig=figure('tickle minimum',clear='True')\n",
    "fig.set_size_inches(12, 7)\n",
    "ax = fig.add_subplot(1, 1, 1)\n",
    "for k in range(3): # URF\n",
    "#         plot(URF[k],asmatrix(save_min[k]),'+',color=cm(1.*k/len(file_path)),mew=2,ms=8,label='_nolegend_')\n",
    "    ax.errorbar(URF,w[k],yerr=dy[k],\n",
    "             fmt='+',mew='4',ms='12',color=cm2(1.*my_k[k]/3),\n",
    "             ecolor='black',elinewidth=2,capsize=0,\n",
    "            label=my_labels[k])\n",
    "    \n",
    "ax.hlines(f_z_theo/1000*2,29,48.5,\n",
    "          linestyle=':',color='xkcd:black',label='$2f_z$ theoretical')\n",
    "ax.plot(span,f_r_theo/1000,\n",
    "          linestyle=(0, (3, 10, 1, 10, 1, 10)),color='xkcd:black',label='$f_r$ theoretical')\n",
    "\n",
    "\n",
    "w_for_fit = w[0]\n",
    "w_for_fit = w_for_fit[w_for_fit != 0]\n",
    "URF_for_fit = array( [URF[x] for x in range(len(URF)) if w[0,x]!=0] )\n",
    "\n",
    "ax.scatter(URF_for_fit,w_for_fit,marker='4',s=300)\n",
    "\n",
    "popt, pcov = curve_fit(f_r_fit,URF_for_fit,w_for_fit*1000)\n",
    "ax.plot(span,f_r_fit(span,popt )/1000 )\n",
    "\n",
    "\n",
    "f_z_mano = 1/2/pi*sqrt(2*C_e*kappa_from_fit/m_Ca/d0**2*2.5)\n",
    "f_u_mano = sqrt(2*(C_e*span/m_Ca/Omega/r0**2)**2)/2/pi*1.08\n",
    "f_r_mano = sqrt(f_u_mano**2-0.5*f_z_mano**2)\n",
    "ax.plot(span,sqrt( f_r_mano**2 - 0.5*f_z_mano )/1000)\n",
    "\n",
    "# (0, (3, 10, 1, 10, 1, 10))\n",
    "\n",
    "ax.xaxis.set_major_locator(matplotlib.ticker.MultipleLocator(base=2.5))\n",
    "ax.yaxis.set_major_locator(matplotlib.ticker.MultipleLocator(base=25)) \n",
    "    \n",
    "ax.legend()\n",
    "    \n",
    "ax.set_xlabel('$U_{RF}$ [V]')\n",
    "ax.set_ylabel('Frequency [kHz]')\n",
    "ax.set_ylim(174,353)\n",
    "grid()\n",
    "tight_layout()"
   ]
  },
  {
   "cell_type": "code",
   "execution_count": 487,
   "metadata": {},
   "outputs": [
    {
     "data": {
      "text/plain": [
       "array([0.04413982])"
      ]
     },
     "execution_count": 487,
     "metadata": {},
     "output_type": "execute_result"
    }
   ],
   "source": [
    "popt"
   ]
  },
  {
   "cell_type": "code",
   "execution_count": null,
   "metadata": {},
   "outputs": [],
   "source": []
  },
  {
   "cell_type": "code",
   "execution_count": 401,
   "metadata": {},
   "outputs": [
    {
     "name": "stdout",
     "output_type": "stream",
     "text": [
      "[0.001] [[inf]]\n"
     ]
    },
    {
     "name": "stderr",
     "output_type": "stream",
     "text": [
      "/home/adrian/.local/lib/python3.6/site-packages/scipy/optimize/minpack.py:794: OptimizeWarning: Covariance of the parameters could not be estimated\n",
      "  category=OptimizeWarning)\n"
     ]
    }
   ],
   "source": [
    "popt, pcov = curve_fit(f_r_fit,URF_for_fit,w_for_fit,p0=[1e-3] )\n",
    "print(popt,pcov)"
   ]
  },
  {
   "cell_type": "code",
   "execution_count": 384,
   "metadata": {},
   "outputs": [
    {
     "data": {
      "text/plain": [
       "(array([2.27015943e-48]), array([[inf]]))"
      ]
     },
     "execution_count": 384,
     "metadata": {},
     "output_type": "execute_result"
    }
   ],
   "source": [
    "popt,pcov"
   ]
  },
  {
   "cell_type": "code",
   "execution_count": 389,
   "metadata": {},
   "outputs": [
    {
     "data": {
      "text/plain": [
       "2.5223993670479615e-49"
      ]
     },
     "execution_count": 389,
     "metadata": {},
     "output_type": "execute_result"
    }
   ],
   "source": [
    "(2*C_e/m/r0**2/Omega/(2*sqrt(2)*pi))**2"
   ]
  },
  {
   "cell_type": "code",
   "execution_count": 368,
   "metadata": {},
   "outputs": [
    {
     "name": "stdout",
     "output_type": "stream",
     "text": [
      "[30.2, 32.475, 34.95, 37.425, 42.575, 45.075, 47.575]\n"
     ]
    }
   ],
   "source": [
    "URF_for_fit = [URF[x] for x in range(len(URF)) if w[0,x]!=0]\n",
    "print(URF_for_fit)"
   ]
  },
  {
   "cell_type": "code",
   "execution_count": null,
   "metadata": {},
   "outputs": [],
   "source": []
  },
  {
   "cell_type": "code",
   "execution_count": 392,
   "metadata": {},
   "outputs": [],
   "source": [
    "e=1.602e-19\n",
    "m=40.078*1.66054e-27 # 40.078\n",
    "\n",
    "r0=2.5e-3 # 2.5e-3\n",
    "d0=4e-3/2\n",
    "\n",
    "Omega=2.047e6*2*pi # 2.047e6"
   ]
  },
  {
   "cell_type": "code",
   "execution_count": 393,
   "metadata": {},
   "outputs": [],
   "source": [
    "Udc=0\n",
    "kappa=0.22481324\n",
    "zeta=kappa*r0**2/d0**2\n",
    "Vend=2.5"
   ]
  },
  {
   "cell_type": "code",
   "execution_count": 401,
   "metadata": {},
   "outputs": [
    {
     "name": "stdout",
     "output_type": "stream",
     "text": [
      "dw\n",
      "42.3 kHz\n",
      "58.4 kHz\n",
      "72.8 kHz\n",
      "83.2 kHz\n",
      "98.3 kHz\n",
      "109.6 kHz\n",
      "120.4 kHz\n",
      "130.9 kHz\n",
      "dw2\n",
      "42.3 kHz\n",
      "58.4 kHz\n",
      "72.8 kHz\n",
      "83.2 kHz\n",
      "98.3 kHz\n",
      "109.6 kHz\n",
      "120.4 kHz\n",
      "130.9 kHz\n",
      "dw2\n",
      "nan kHz\n",
      "nan kHz\n",
      "nan kHz\n",
      "nan kHz\n",
      "nan kHz\n",
      "nan kHz\n",
      "nan kHz\n",
      "36.3 kHz\n"
     ]
    },
    {
     "name": "stderr",
     "output_type": "stream",
     "text": [
      "/home/adrian/.local/lib/python3.6/site-packages/ipykernel_launcher.py:14: RuntimeWarning: invalid value encountered in sqrt\n",
      "  \n"
     ]
    }
   ],
   "source": [
    "dw=r0**(-1)*sqrt((e/m)*(Udc-zeta*Vend+0.5*e/(m*r0**2*Omega**2)*URF**2))\n",
    "print('dw')\n",
    "for k in range(0,len(dw)):\n",
    "    print('{:.1f}'.format(dw[k]/1000/(2*pi)),'kHz')\n",
    "    \n",
    "dw2=Omega*0.5*sqrt(4*e/(m*r0**2*Omega**2)*(Udc-zeta*Vend)+2*(e/(m*r0**2*Omega**2))**2*URF**2)\n",
    "print('dw2')\n",
    "for k in range(0,len(dw2)):\n",
    "    print('{:.1f}'.format(dw2[k]/1000/(2*pi)),'kHz')\n",
    "\n",
    "    \n",
    "ax=4*e/(m*r0**2*Omega**2)*(Udc-Vend)\n",
    "q=2*e*URF/(m*r0**2*Omega**2)\n",
    "dw3=Omega*0.5*sqrt(ax+q**2/2)\n",
    "print('dw2')\n",
    "for k in range(0,len(dw2)):\n",
    "    print('{:.1f}'.format(dw3[k]/1000/(2*pi)),'kHz')"
   ]
  },
  {
   "cell_type": "code",
   "execution_count": 397,
   "metadata": {},
   "outputs": [
    {
     "name": "stdout",
     "output_type": "stream",
     "text": [
      "dwmes [24.2 22.2 20.2 14.8 16.8 15.6 15.2 14.2] kHz\n"
     ]
    }
   ],
   "source": [
    "w=[]\n",
    "for k in range(0,len(file_path)): # URF\n",
    "    temp=[]\n",
    "    for l in range(0,4):\n",
    "#         plot(URF[k],asmatrix(save_min[k]),'+',color=cm(1.*k/len(file_path)),mew=2,ms=8,label='_nolegend_')\n",
    "        temp.append(save_min[k,lines[l,k]])\n",
    "    w.append(temp)\n",
    "w=asmatrix(w)\n",
    "dwmes=zeros(8)\n",
    "for k in range(0,8):\n",
    "    dwmes[k]=w[k,1]-w[k,0]\n",
    "print('dwmes',dwmes,'kHz')"
   ]
  },
  {
   "cell_type": "code",
   "execution_count": 396,
   "metadata": {},
   "outputs": [
    {
     "data": {
      "text/plain": [
       "(-0.87817671875,\n",
       " array([0.03515674, 0.03780514, 0.04068636, 0.04298552, 0.04665253,\n",
       "        0.04956286, 0.05247319, 0.05538351]))"
      ]
     },
     "execution_count": 396,
     "metadata": {},
     "output_type": "execute_result"
    }
   ],
   "source": [
    "-zeta*Vend,0.5*e/(m*r0**2*Omega**2)*URF"
   ]
  },
  {
   "cell_type": "code",
   "execution_count": null,
   "metadata": {},
   "outputs": [],
   "source": []
  }
 ],
 "metadata": {
  "kernelspec": {
   "display_name": "Python 3",
   "language": "python",
   "name": "python3"
  },
  "language_info": {
   "codemirror_mode": {
    "name": "ipython",
    "version": 3
   },
   "file_extension": ".py",
   "mimetype": "text/x-python",
   "name": "python",
   "nbconvert_exporter": "python",
   "pygments_lexer": "ipython3",
   "version": "3.6.7"
  }
 },
 "nbformat": 4,
 "nbformat_minor": 1
}
