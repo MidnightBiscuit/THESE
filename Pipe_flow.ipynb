{
 "cells": [
  {
   "cell_type": "code",
   "execution_count": 1,
   "metadata": {},
   "outputs": [
    {
     "name": "stdout",
     "output_type": "stream",
     "text": [
      "Last updated: 2022-02-18T15:48:35.857577+01:00\n",
      "\n",
      "Python implementation: CPython\n",
      "Python version       : 3.7.6\n",
      "IPython version      : 7.12.0\n",
      "\n",
      "Compiler    : MSC v.1916 64 bit (AMD64)\n",
      "OS          : Windows\n",
      "Release     : 10\n",
      "Machine     : AMD64\n",
      "Processor   : AMD64 Family 23 Model 8 Stepping 2, AuthenticAMD\n",
      "CPU cores   : 12\n",
      "Architecture: 64bit\n",
      "\n"
     ]
    }
   ],
   "source": [
    "%load_ext watermark\n",
    "%watermark"
   ]
  },
  {
   "cell_type": "code",
   "execution_count": 2,
   "metadata": {},
   "outputs": [],
   "source": [
    "# %pylab\n",
    "\n",
    "import numpy\n",
    "import matplotlib\n",
    "from matplotlib import pylab, mlab, pyplot\n",
    "np = numpy\n",
    "plt = pyplot\n",
    "\n",
    "from pylab import *\n",
    "from numpy import *\n",
    "\n",
    "%matplotlib qt"
   ]
  },
  {
   "cell_type": "code",
   "execution_count": 3,
   "metadata": {},
   "outputs": [
    {
     "name": "stderr",
     "output_type": "stream",
     "text": [
      "ERROR:root:File `'/home/adrian/Documents/Programmes/Python/GiantMol/Functions/turbo_colormap.py'` not found.\n"
     ]
    }
   ],
   "source": [
    "%matplotlib qt\n",
    "%run /home/adrian/Documents/Programmes/Python/GiantMol/Functions/turbo_colormap.py"
   ]
  },
  {
   "cell_type": "code",
   "execution_count": 6,
   "metadata": {},
   "outputs": [
    {
     "name": "stdout",
     "output_type": "stream",
     "text": [
      "$\\kappa_{simion}$ = 0.270471\n"
     ]
    }
   ],
   "source": [
    "# Constantes de la physique\n",
    "# ABSOLUMENT RECHARGER APRÈS AVOIR EXECUTÉ LES CASES D'IMPORT AU DESSUS\n",
    "\n",
    "C_e = 1.602e-19        # Coulomb\n",
    "kb = 1.38064852*1e-23  # Boltzman\n",
    "m_Ca = 40.078*1.66054e-27 # masse Ca 40.078\n",
    "m_GM = 1e6*1.66054e-27 # la masse de la GMol\n",
    "eps0 = 8.854187*1e-12  # permittivité électrique du vide\n",
    "\n",
    "\n",
    "r0 = 2.5e-3 # 2.5e-3   # rayon piège Ca+\n",
    "d0 = 4e-3/2            # longueur piège Ca+\n",
    "Omega = 2.045e6*2*pi # 2.047e6\n",
    "bk = 4 # nombre de barreaux par groupe (2 -> 4-pole , 4 -> 8-pole ...)\n",
    "\n",
    "mkappa = 0.23          # écrantage piège réel GiantMol\n",
    "wzLC = (2*pi*90806.9982303)**2\n",
    "kappa_simion = m_Ca*d0**2*wzLC/(2*C_e)\n",
    "print('%s = %f' % ('$\\kappa_{simion}$',kappa_simion) )\n",
    "\n",
    "zeta = kappa_simion*r0**2/d0**2\n",
    "\n",
    "Na = 6.022e23\n",
    "Rgp = Na*kb"
   ]
  },
  {
   "cell_type": "markdown",
   "metadata": {},
   "source": [
    "# Parameters of Capillary according to Livesey"
   ]
  },
  {
   "cell_type": "code",
   "execution_count": 7,
   "metadata": {},
   "outputs": [
    {
     "name": "stdout",
     "output_type": "stream",
     "text": [
      "1.765080287311246e-07\n"
     ]
    }
   ],
   "source": [
    "L = 115e-3\n",
    "R = 0.4e-3 / 2\n",
    "A = pi*R**2\n",
    "B = 2*pi*R\n",
    "D = 4*A/B\n",
    "\n",
    "pin = 1*1e5\n",
    "pout = 1e-3*1e5\n",
    "K = pin/pout\n",
    "\n",
    "delta = 0.1\n",
    "\n",
    "Ge = pi*(2*R)**4/128\n",
    "Sf = 0.5*A**3/B**2/Ge\n",
    "\n",
    "T = 273.15+100\n",
    "Pmean = 1.01325/2*1e5\n",
    "Patm = 1.01325*1e5\n",
    "Mmol = 28.9647/1000\n",
    "viscosity = 2.791e-7*T**(0.7355)\n",
    "\n",
    "u = 0.4987445\n",
    "rho = Pmean*Mmol/(Rgp*T)\n",
    "mfp_alt = sqrt(pi/8)*viscosity/u/sqrt(rho*Pmean)\n",
    "print(mfp_alt)\n",
    "\n",
    "# \n",
    "# mfp = viscosity/Pmean*sqrt(pi*Rgp*T/(2*Mmol))\n",
    "Kn = mfp_alt/D"
   ]
  },
  {
   "cell_type": "code",
   "execution_count": 8,
   "metadata": {},
   "outputs": [
    {
     "ename": "NameError",
     "evalue": "name 'mfp' is not defined",
     "output_type": "error",
     "traceback": [
      "\u001b[1;31m---------------------------------------------------------------------------\u001b[0m",
      "\u001b[1;31mNameError\u001b[0m                                 Traceback (most recent call last)",
      "\u001b[1;32m<ipython-input-8-ddbd5e7d4b8f>\u001b[0m in \u001b[0;36m<module>\u001b[1;34m\u001b[0m\n\u001b[1;32m----> 1\u001b[1;33m \u001b[0mKn\u001b[0m\u001b[1;33m,\u001b[0m\u001b[0mmfp\u001b[0m\u001b[1;33m\u001b[0m\u001b[1;33m\u001b[0m\u001b[0m\n\u001b[0m",
      "\u001b[1;31mNameError\u001b[0m: name 'mfp' is not defined"
     ]
    }
   ],
   "source": [
    "Kn,mfp"
   ]
  },
  {
   "cell_type": "code",
   "execution_count": 9,
   "metadata": {},
   "outputs": [
    {
     "name": "stdout",
     "output_type": "stream",
     "text": [
      "287.5\n",
      "886688.2941380631\n"
     ]
    }
   ],
   "source": [
    "# Testing Livesey conditoin for low flow rate\n",
    "\n",
    "print(L/D)\n",
    "print(sqrt(pi/2)*(K-1)/(32*delta*Sf*Kn))\n",
    "\n",
    "# Livesey criterion for low rate L/D > sqrt(...)\n",
    "# Not good Livesey low flow rate cannot be applied"
   ]
  },
  {
   "cell_type": "markdown",
   "metadata": {},
   "source": [
    "# Wutz/Adam turbulent"
   ]
  },
  {
   "cell_type": "code",
   "execution_count": 10,
   "metadata": {},
   "outputs": [
    {
     "name": "stdout",
     "output_type": "stream",
     "text": [
      "22.01621321036367\n",
      "18.106878545963998\n"
     ]
    }
   ],
   "source": [
    "L = 115e-1  # cm\n",
    "r = 0.4 / 2 # cm\n",
    "d = 2*r     # cm\n",
    "\n",
    "pin  = 1e3  # mbar\n",
    "pout = 1    # mbar\n",
    "deltaP2 = pin**2-pout**2 # mbar²\n",
    "\n",
    "T0 = 273.15+20 # K\n",
    "T = 273.15+100 # K\n",
    "Pmean = 1/2*1e3 \n",
    "Patm = 1*1e3\n",
    "Mmol = 28.9647/1000 # kg/mol\n",
    "\n",
    "# sutherland viscosity\n",
    "Tsut0 = 291.15\n",
    "C = 120\n",
    "viscosity_Sut0 = 18.2\n",
    "viscosity_Sut = viscosity_Sut0 * (Tsut0+C)/(T+C)*(T/Tsut0)**(3/2)\n",
    "print(viscosity_Sut)\n",
    "# viscosity = 2.791e-7*T**(0.7355) /100 # kg/cm/s\n",
    "viscosity = viscosity_Sut\n",
    "\n",
    "u = 0.4987445\n",
    "rho = Pmean*Mmol/(Rgp*T)\n",
    "mfp_alt = sqrt(pi/8)*viscosity/u/sqrt(rho*Pmean)\n",
    "print(mfp_alt)\n",
    "\n",
    "# mfp = viscosity/Pmean*sqrt(pi*Rgp*T/(2*Mmol))\n",
    "Kn = mfp_alt/D"
   ]
  },
  {
   "cell_type": "code",
   "execution_count": 11,
   "metadata": {},
   "outputs": [
    {
     "name": "stdout",
     "output_type": "stream",
     "text": [
      "0.001114800822996065 185.5214644011146\n"
     ]
    }
   ],
   "source": [
    "# # Flow from W/A\n",
    "# Q = d*(0.39*pi**2*d**3*deltaP2/(2*L))**(4/7) * (Rgp/Mmol*T0)**(3/7) * (4/pi/viscosity)**(1/7)/pin\n",
    "# Qsimp = 134*d*(d**3/(2*L)*deltaP2)**(4/7)/pin\n",
    "# print(Q,Qsimp)\n",
    "\n",
    "lami_const = pi/128/(viscosity)\n",
    "turb_const = (0.39*pi**2)**(4/7) * (Rgp/Mmol*T0)**(3/7) * (4/pi/viscosity)**(1/7)\n",
    "print(lami_const,turb_const)"
   ]
  },
  {
   "cell_type": "code",
   "execution_count": 12,
   "metadata": {},
   "outputs": [
    {
     "name": "stdout",
     "output_type": "stream",
     "text": [
      "1.6666666666666667e-06\n",
      "0.22496655631578272 0.00022496655631578272\n"
     ]
    }
   ],
   "source": [
    "# Reynolds Livesey corrected\n",
    "Q = 0.1*1e-3/60\n",
    "print(Q)\n",
    "Rein = 4*Mmol/1000*Q/(Rgp*T*B*viscosity*1e-6)*pin/1000*1e5\n",
    "Reout = 4*Mmol/1000*Q/(Rgp*T*B*viscosity*1e-6)*pout/1000*1e5\n",
    "print(Rein,Reout)"
   ]
  },
  {
   "cell_type": "code",
   "execution_count": 270,
   "metadata": {},
   "outputs": [
    {
     "data": {
      "text/plain": [
       "1.5899999999999999"
      ]
     },
     "execution_count": 270,
     "metadata": {},
     "output_type": "execute_result"
    }
   ],
   "source": [
    "2.65e-5*1000*60"
   ]
  }
 ],
 "metadata": {
  "kernelspec": {
   "display_name": "Python 3",
   "language": "python",
   "name": "python3"
  },
  "language_info": {
   "codemirror_mode": {
    "name": "ipython",
    "version": 3
   },
   "file_extension": ".py",
   "mimetype": "text/x-python",
   "name": "python",
   "nbconvert_exporter": "python",
   "pygments_lexer": "ipython3",
   "version": "3.7.6"
  }
 },
 "nbformat": 4,
 "nbformat_minor": 2
}
