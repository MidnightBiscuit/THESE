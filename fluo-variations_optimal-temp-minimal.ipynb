{
 "cells": [
  {
   "cell_type": "markdown",
   "metadata": {},
   "source": [
    "Created on Mon Oct 11 14:54:29 2021\n",
    "\n",
    "@author: Gregoire, Adrien"
   ]
  },
  {
   "cell_type": "markdown",
   "metadata": {},
   "source": [
    "# Imports"
   ]
  },
  {
   "cell_type": "code",
   "execution_count": 1,
   "metadata": {},
   "outputs": [],
   "source": [
    "import numpy\n",
    "import matplotlib\n",
    "from matplotlib import pylab, mlab, pyplot\n",
    "from mpl_toolkits.mplot3d import Axes3D\n",
    "np = numpy\n",
    "plt = pyplot\n",
    "\n",
    "from pylab import *\n",
    "from numpy import *"
   ]
  },
  {
   "cell_type": "code",
   "execution_count": 2,
   "metadata": {},
   "outputs": [],
   "source": [
    "from mpl_toolkits.mplot3d import Axes3D\n",
    "from mpl_toolkits.mplot3d import proj3d\n",
    "from matplotlib.collections import PolyCollection\n",
    "from matplotlib import colors as mcolors\n",
    "from matplotlib.patches import FancyArrowPatch\n",
    "\n",
    "def polygon_under_graph(xlist, ylist):\n",
    "    '''\n",
    "    Construct the vertex list which defines the polygon filling the space under\n",
    "    the (xlist, ylist) line graph.  Assumes the xs are in ascending order.\n",
    "    '''\n",
    "    return [(xlist[0], 0.), *zip(xlist, ylist), (xlist[-1], 0.)]\n",
    "def cc(arg,alpha):\n",
    "    '''\n",
    "    Shorthand to convert 'named' colors to rgba format at 60% opacity.\n",
    "    '''\n",
    "    return mcolors.to_rgba(arg, alpha)"
   ]
  },
  {
   "cell_type": "code",
   "execution_count": 3,
   "metadata": {},
   "outputs": [
    {
     "name": "stdout",
     "output_type": "stream",
     "text": [
      "Using matplotlib backend: TkAgg\n"
     ]
    }
   ],
   "source": [
    "%matplotlib\n",
    "matplotlib.rcParams['figure.figsize'] = [10.5,7]\n",
    "matplotlib.rcParams.update({'font.size': 25})"
   ]
  },
  {
   "cell_type": "code",
   "execution_count": 4,
   "metadata": {},
   "outputs": [],
   "source": [
    "# Constantes de la physique\n",
    "# ABSOLUMENT RECHARGER APRÈS AVOIR EXECUTÉ LES CASES D'IMPORT AU DESSUS\n",
    "\n",
    "C_e = 1.602e-19        # Coulomb\n",
    "kb = 1.38064852*1e-23  # Boltzman\n",
    "m_Ca = 40.078*1.66054e-27 # masse Ca 40.078\n",
    "m_GM = 1e6*1.66054e-27 # la masse de la GMol\n",
    "eps0 = 8.854187*1e-12  # permittivité électrique du vide\n",
    "\n",
    "hbar = 1.0545718e-34\n",
    "c = 299792458\n",
    "\n",
    "N = 1024"
   ]
  },
  {
   "cell_type": "markdown",
   "metadata": {},
   "source": [
    "# Functions used to describe ions\n",
    "\n",
    "$\\texttt{MB}$ is the Maxwell-Boltzmann distribution. It provides the probability to find an atom with a given velocity in a gas with temperature T.\n",
    "\n",
    "$\\texttt{pfl_dop} = \\rho_{ee}$ is the atomic ray profile with Doppler effect. It provides the probability of excitation given Rabi frequency, detuning, lambda and velocity of atom. It is considered equal to the excited population, i.e the proportion of excited atoms.\n",
    "\n",
    "$ \\texttt{MB} = \\sqrt{\\frac{m}{2\\pi k_BT}}\\exp{-\\frac{mv^2}{2k_BT}}$\n",
    "\n",
    "$\\texttt{pfl_dop} = \\rho_{ee} = \\frac{0.25\\Omega_R^2}{0.5\\Omega_R^2 + 0.25\\Gamma^2 + \\Delta^2} = \\frac{A/2}{A+B + \\Delta^2}$"
   ]
  },
  {
   "cell_type": "code",
   "execution_count": 5,
   "metadata": {},
   "outputs": [],
   "source": [
    "# Doppler profile\n",
    "def pfl_dop(v, delta, k, Rab, Gam):\n",
    "    return .25*Rab**2/(0.5*Rab**2+.25*Gam**2+(delta-k*v)**2)\n",
    "\n",
    "# Maxwell-Boltzmann distribution\n",
    "def MB(v, T):\n",
    "    kb = 1.38e-23\n",
    "    m_Ca = 40*1.66e-27\n",
    "    return (m_Ca/(np.pi*2*kb*T))**(1/2) * np.exp(-m_Ca*v**2/(2*kb*T)) # **1 car vitesse par rapport au laser compte seulement (1D)\n",
    "\n",
    "# Probabilities product\n",
    "# For a range of velocities,\n",
    "# compute the prob_fluo\n",
    "# for a given T, delta, Rab, Gam\n",
    "def prob_fluo(vmin, vmax, nv, T, delta, k, Rab, Gam):\n",
    "    nu = k*np.linspace(vmin, vmax, nv)\n",
    "    return nu, pfl_dop(-nu/k, delta, k, Rab, Gam)*MB(nu/k, T)\n",
    "\n",
    "def T_lim(delta):\n",
    "    return -0.5*hbar*Gam**2*(1+(2*delta/Gam)**2) / (4*delta)/kb"
   ]
  },
  {
   "cell_type": "code",
   "execution_count": 6,
   "metadata": {},
   "outputs": [],
   "source": [
    "# Laser parameters\n",
    "k = 15826663 # m^-1\n",
    "Gam = 21570000.0 *2*pi\n",
    "delta = Gam\n",
    "lam = 397e-9 # m\n",
    "I = 170 # W/m²"
   ]
  },
  {
   "cell_type": "markdown",
   "metadata": {},
   "source": [
    "# Fluorescence\n",
    "\n",
    "For a single ion the fluorescence $F \\propto \\rho$. For an ensemble of ions, the fluorescence F is related to the product of both probabilities $ F \\propto \\texttt{MB} \\times \\texttt{pfl_dop} = \\texttt{prob_fluo}$. Maxwell-Boltzmann is not necessarily the best to describe the cold crystal ensemble but lets use it. This product is still a probability, lets call it $P$. $dP/dT = 0$ gives us the temperature for which the fluo is maximum, $d^2P/dT^2 = 0$ gives us the temperature for which the fluorescence variation  $dP/dT$ is maximum.\n",
    "\n",
    "### Analytically with $\\rho$\n",
    "\n",
    "$\\frac{d\\rho}{dv} = \\frac{A}{2}\\frac{2\\sqrt{z}}{(C+z)^2}, z=(\\delta-v)^2, C = A + B$\n",
    "\n",
    "$\\frac{d^2\\rho}{dv^2} = \\frac{f}{g} = [-2(C+z)^2 + 8z(C+z)]\\frac{A}{2(\\dots)^4}$\n",
    "\n",
    "The idea is to search for the setting where the variation of fluorescence is the highest for a given input in energy. The energy introduced by the GiantMolecule is brought under the form of thermal energy. Thus we want to set the cloud in a configuration with the best variation of fluorescence for a variation in temperature. There are two ways of achieving this. Considering infinitesimal differences, this requires to compute $\\frac{d^2\\rho}{dv^2} = 0$.\n",
    "\n",
    "$\\frac{d^2\\rho}{dv^2} = 0 \\Rightarrow f = 0 \\Rightarrow z = \\frac{1}{3}C \\Rightarrow \\delta - v = \\pm \\sqrt{\\frac{C}{3}} = \\pm \\sqrt{\\frac{A+B}{3}} $\n",
    "\n",
    "Considering the thermal velocity $v = \\sqrt{2k_BT/m}$ it is possible to rewrite $v = \\delta - z$  as $2k_BT/m = (\\delta - z)^2$ then $T = \\frac{m(\\delta - z)^2}{(2k_B)}\\frac{1}{k^2}$ \n",
    "\n",
    "The above computation is done just below"
   ]
  },
  {
   "cell_type": "code",
   "execution_count": 7,
   "metadata": {},
   "outputs": [
    {
     "name": "stdout",
     "output_type": "stream",
     "text": [
      "44.1838525472236 mK\n",
      "397.65467292501233 mK\n",
      "Seems OK to me when looking data from simu article\n"
     ]
    }
   ],
   "source": [
    "# T = 0.005\n",
    "# v = sqrt(2*kb*T/m_Ca)\n",
    "# s = 2 # dans le code 2 correspond a omega_rabi=Gam\n",
    "# s0 = 1\n",
    "omega_rabi = Gam # sqrt(2*s*(0.25*Gam**2+(delta-k*v)**2))\n",
    "# omega_rabi = sqrt( 2*s0*0.25*Gam**2 )\n",
    "A = 0.5*omega_rabi**2\n",
    "B = 0.25*Gam**2\n",
    "zz = sqrt( (A+B)/3 )\n",
    "Tplus = m_Ca*(delta-zz)**2/(2*kb)/k**2\n",
    "Tmoins = m_Ca*(delta+zz)**2/(2*kb)/k**2\n",
    "print(Tplus*1e3,'mK')\n",
    "print(Tmoins*1e3,'mK')\n",
    "\n",
    "print('Seems OK to me when looking data from simu article')"
   ]
  },
  {
   "cell_type": "markdown",
   "metadata": {},
   "source": [
    "# Numerical computation of fluorescence"
   ]
  },
  {
   "cell_type": "markdown",
   "metadata": {},
   "source": [
    "### Below some plots in order to see the fluo of a single ion"
   ]
  },
  {
   "cell_type": "code",
   "execution_count": 8,
   "metadata": {},
   "outputs": [
    {
     "name": "stderr",
     "output_type": "stream",
     "text": [
      "H:\\Programmes\\Anaconda3\\envs\\py307\\lib\\site-packages\\ipykernel_launcher.py:46: UserWarning: Tight layout not applied. The left and right margins cannot be made large enough to accommodate all axes decorations. \n"
     ]
    }
   ],
   "source": [
    "# Plot the pfl-dop probability vs Temperature\n",
    "\n",
    "Tmin = .0005\n",
    "Tmax = 10\n",
    "vmin = sqrt(2*kb*Tmin/m_Ca)\n",
    "vmax = sqrt(2*kb*Tmax/m_Ca)\n",
    "nu = -k*np.linspace(vmin,vmax,1000)\n",
    "dv = mean(diff(nu))/k\n",
    "\n",
    "Rab = Gam # or np.sqrt(3*lam**3*Gam/(4*np.pi**2*hbar*c) * I) \n",
    "\n",
    "pfl0 = pfl_dop(nu/k, 0, k, Rab, Gam)\n",
    "pfl05 = pfl_dop(nu/k, -Gam/2, k, Rab, Gam)\n",
    "pfl1 = pfl_dop(nu/k, -Gam, k, Rab, Gam)\n",
    "pfl2 = pfl_dop(nu/k, +Gam, k, Rab, Gam)\n",
    "# pfl3 = pfl_dop(nu/k, +3*Gam, k, Rab, Gam)\n",
    "\n",
    "fig = plt.figure('Dop prof',clear='True')\n",
    "ax = fig.add_subplot(111)\n",
    "ax.plot((nu/k)**2*m_Ca/2/kb, pfl1, '-',color='xkcd:red',label=r'$\\delta = -\\Gamma$')\n",
    "ax.plot((nu/k)**2*m_Ca/2/kb, pfl05, ':',color='xkcd:black',label=r'$\\delta = -\\frac{1}{2}\\Gamma$')\n",
    "ax.plot((nu/k)**2*m_Ca/2/kb, pfl0, '-',color='xkcd:green',label=r'$\\delta = 0$')\n",
    "ax.plot((nu/k)**2*m_Ca/2/kb, pfl2, '-',color='xkcd:blue',label=r'$\\delta = \\Gamma$')\n",
    "# ax.plot((nu/k)**2*m_Ca/2/kb, pfl3, '-',color='xkcd:black',label=r'$\\delta = \\Gamma$')\n",
    "# ax.vlines(0,0,1)\n",
    "\n",
    "# ax.arrow(-Gam*1e-6+10, 1.05,\n",
    "#          Gam*1e-6-20, 0,\n",
    "#          color='xkcd:rouge',\n",
    "#          width=1e-2,head_width=5e-2,head_length=10,zorder=100)\n",
    "# ax.arrow(-10, 1.05,\n",
    "#          -Gam*1e-6+20, 0,\n",
    "#          color='xkcd:rouge',\n",
    "#          width=1e-2,head_width=5e-2,head_length=10)\n",
    "\n",
    "ax.set_xlabel(r'T [K]')\n",
    "ax.set_ylabel(r'Probability $\\rho_{ee}$')\n",
    "ax.set_xlim(-0.05,1.35)\n",
    "ax.set_ylim(-0.05,0.38)\n",
    "ax.annotate(r'$\\Gamma$', xy=(-Gam*1e-6/2,1.075), xycoords='data',\n",
    "    size=25, ha='center', va='bottom', color='xkcd:rouge')\n",
    "\n",
    "ax.grid()\n",
    "ax.legend(title='detuning',loc=1,fontsize=15)\n",
    "\n",
    "tight_layout()"
   ]
  },
  {
   "cell_type": "code",
   "execution_count": 9,
   "metadata": {},
   "outputs": [],
   "source": [
    "# Plot the pfl-dop fluorescence vs Temperature\n",
    "\n",
    "Tmin = .0005\n",
    "Tmax = 10\n",
    "vmin = sqrt(2*kb*Tmin/m_Ca)\n",
    "vmax = sqrt(2*kb*Tmax/m_Ca)\n",
    "nu = -k*np.linspace(vmin,vmax,1000)\n",
    "dv = mean(diff(nu))/k\n",
    "\n",
    "Rab = Gam # or np.sqrt(3*lam**3*Gam/(4*np.pi**2*hbar*c) * I) \n",
    "\n",
    "pfl0 = pfl_dop(nu/k, 0, k, Rab, Gam)*Gam     *1e-6\n",
    "pfl05 = pfl_dop(nu/k, -Gam/2, k, Rab, Gam)*Gam     *1e-6\n",
    "\n",
    "pfl1 = pfl_dop(nu/k, -Gam, k, Rab, Gam)*Gam  *1e-6\n",
    "pfl2 = pfl_dop(nu/k, +Gam, k, Rab, Gam)*Gam  *1e-6\n",
    "# pfl3 = pfl_dop(nu/k, +3*Gam, k, Rab, Gam)\n",
    "\n",
    "fig = plt.figure('Dop prof fluo tot',clear='True')\n",
    "ax = fig.add_subplot(111)\n",
    "ax.plot((nu/k)**2*m_Ca/2/kb, pfl1, '-',color='xkcd:red',label=r'$\\delta = -\\Gamma$')\n",
    "ax.plot((nu/k)**2*m_Ca/2/kb, pfl05, ':',color='xkcd:black',label=r'$\\delta = -\\frac{1}{2}\\Gamma$')\n",
    "ax.plot((nu/k)**2*m_Ca/2/kb, pfl0, '-',color='xkcd:green',label=r'$\\delta = 0$')\n",
    "ax.plot((nu/k)**2*m_Ca/2/kb, pfl2, '-',color='xkcd:blue',label=r'$\\delta = \\Gamma$')\n",
    "# ax.plot((nu/k)**2*m_Ca/2/kb, pfl3, '-',color='xkcd:black',label=r'$\\delta = \\Gamma$')\n",
    "\n",
    "ax.hlines(pfl1[0]-sqrt(pfl1[0]),0,1,color='xkcd:red',ls=':',lw = 3)\n",
    "ax.hlines(pfl1[0]+sqrt(pfl1[0]),0,1,color='xkcd:red',ls=':',lw = 3)\n",
    "ax.hlines(pfl0[0]-sqrt(pfl0[0]),0,0.1,color='xkcd:green',ls=':',lw = 3)\n",
    "ax.hlines(pfl2[0]-sqrt(pfl2[0]),0,0.1,color='xkcd:blue',ls=':',lw = 3)\n",
    "\n",
    "ax.set_xlabel(r'T [K]')\n",
    "ax.set_ylabel(r'Fluorescence $F$ [cts/µs]')\n",
    "ax.set_xlim(-0.05,1.55)\n",
    "# ax.set_ylim(-0.05,0.55)\n",
    "ax.grid()\n",
    "ax.legend(title='detuning',loc=1,fontsize=15)\n",
    "\n",
    "plt.tight_layout()\n",
    "subplots_adjust(top=0.96,\n",
    "bottom=0.135,\n",
    "left=0.115,\n",
    "right=0.965,\n",
    "hspace=0.2,\n",
    "wspace=0.2)"
   ]
  },
  {
   "cell_type": "markdown",
   "metadata": {},
   "source": [
    "### Check the derivates"
   ]
  },
  {
   "cell_type": "code",
   "execution_count": 225,
   "metadata": {},
   "outputs": [],
   "source": [
    "# Plot the pfl-dop fluorescence derivates vs Temperature\n",
    "\n",
    "Tmin = .0005\n",
    "Tmax = 10\n",
    "vmin = sqrt(2*kb*Tmin/m_Ca)\n",
    "vmax = sqrt(2*kb*Tmax/m_Ca)\n",
    "nu = -k*np.linspace(vmin,vmax,1000)\n",
    "dv = mean(diff(nu))/k\n",
    "\n",
    "Rab = Gam # or np.sqrt(3*lam**3*Gam/(4*np.pi**2*hbar*c) * I) \n",
    "\n",
    "pfl1 = pfl_dop(nu/k, -Gam, k, Rab, Gam)*Gam  *1e-6\n",
    "# pfl3 = pfl_dop(nu/k, +3*Gam, k, Rab, Gam)\n",
    "\n",
    "fig = plt.figure('Dop prof fluo tot deriv',clear='True')\n",
    "ax = fig.add_subplot(111)\n",
    "ax.plot((nu/k)**2*m_Ca/2/kb, pfl1, '-',color='xkcd:red',label=r'$F$')\n",
    "ax.plot((nu[:-1]/k)**2*m_Ca/2/kb, diff(pfl1), '--',color='xkcd:red',label=r'$dF/dT$')\n",
    "ax.plot((nu[:-2]/k)**2*m_Ca/2/kb, diff(pfl1,n=2), ':',color='xkcd:red',label=r'$d^2F/dT^2$')\n",
    "# ax.plot((nu/k)**2*m_Ca/2/kb, pfl3, '-',color='xkcd:black',label=r'$\\delta = \\Gamma$')\n",
    "\n",
    "ax.set_xlabel(r'T [K]')\n",
    "# ax.set_ylabel(r'$dF/dT$')\n",
    "# ax.set_xlim(-0.05,1.55)\n",
    "# ax.set_ylim(-0.05,0.55)\n",
    "\n",
    "\n",
    "ax.grid()\n",
    "ax.legend(title='detuning',loc=1,fontsize=15)\n",
    "\n",
    "plt.tight_layout()\n",
    "subplots_adjust(top=0.96,\n",
    "bottom=0.135,\n",
    "left=0.115,\n",
    "right=0.965,\n",
    "hspace=0.2,\n",
    "wspace=0.2)"
   ]
  },
  {
   "cell_type": "markdown",
   "metadata": {},
   "source": [
    "### Fluo for an ensemble of ions"
   ]
  },
  {
   "cell_type": "code",
   "execution_count": 8,
   "metadata": {},
   "outputs": [],
   "source": [
    "# Plot the MBxpfl-dop vs Temperature\n",
    "\n",
    "Tmin = .0005\n",
    "Tmax = 10\n",
    "vmin = sqrt(2*kb*Tmin/m_Ca)\n",
    "vmax = sqrt(2*kb*Tmax/m_Ca)\n",
    "nu = -k*np.linspace(vmin,vmax,1000)\n",
    "dv = mean(diff(nu))/k\n",
    "\n",
    "Rab = Gam # or np.sqrt(3*lam**3*Gam/(4*np.pi**2*hbar*c) * I) \n",
    "\n",
    "vmoins = -20\n",
    "vplus = 20\n",
    "nv = 1000\n",
    "dv = (vplus-vmoins)/nv\n",
    "\n",
    "pfl0 = []\n",
    "pfl05 = []\n",
    "pfl1 = []\n",
    "pfl2 = []\n",
    "\n",
    "Temps = linspace(0.005,10,1000)\n",
    "for T in Temps:\n",
    "    pfl0.append( sum(prob_fluo(vmoins, vplus, nv, T, 0, k, Rab, Gam)[1])*dv*Gam * N )\n",
    "    pfl05.append( sum(prob_fluo(vmoins, vplus, nv, T, -Gam/2, k, Rab, Gam)[1])*dv*Gam * N )\n",
    "    pfl1.append( sum(prob_fluo(vmoins, vplus, nv, T, -Gam, k, Rab, Gam)[1])*dv*Gam * N )\n",
    "    pfl2.append( sum(prob_fluo(vmoins, vplus, nv, T, Gam, k, Rab, Gam)[1])*dv*Gam * N )\n",
    "# pfl3 = pfl_dop(nu/k, +3*Gam, k, Rab, Gam)\n",
    "\n",
    "fig = plt.figure('MBxDop prof fluo tot',clear='True')\n",
    "ax = fig.add_subplot(111)\n",
    "\n",
    "ax.plot(Temps, array(pfl0)*1e-9, '-',color='xkcd:green',label=r'$\\delta = 0$')\n",
    "ax.plot(Temps, array(pfl05)*1e-9, ':',color='xkcd:black',label=r'$\\delta = -\\Gamma/2$')\n",
    "ax.plot(Temps, array(pfl2)*1e-9, '-',color='xkcd:blue',label=r'$\\delta = \\Gamma$')\n",
    "ax.plot(Temps, array(pfl1)*1e-9, '--',color='xkcd:red',label=r'$\\delta = -\\Gamma$')\n",
    "# ax.plot((nu/k)**2*m_Ca/2/kb, pfl3, '-',color='xkcd:black',label=r'$\\delta = \\Gamma$')\n",
    "\n",
    "ax.hlines((pfl2[0]-sqrt(pfl2[0]))*1e-9,0,1,color='xkcd:red',ls=':',lw = 3)\n",
    "ax.hlines((pfl2[0]+sqrt(pfl2[0]))*1e-9,0,1,color='xkcd:red',ls=':',lw = 3)\n",
    "# ax.hlines(pfl0[0]-sqrt(pfl0[0]),0,0.1,color='xkcd:green',ls=':',lw = 3)\n",
    "# ax.hlines(pfl05[0]-sqrt(pfl05[0]),0,0.1,color='xkcd:blue',ls=':',lw = 3)\n",
    "\n",
    "\n",
    "ax.set_xlabel(r'T [K]')\n",
    "ax.set_ylabel(r'Fluorescence $F$ [kcts/µs]')\n",
    "ax.set_xlim(-0.02,2.22)\n",
    "# ax.set_ylim(12,46)\n",
    "\n",
    "ax.grid()\n",
    "ax.legend(title='detuning',loc=1,fontsize=15)\n",
    "\n",
    "plt.tight_layout()\n",
    "subplots_adjust(top=0.96,\n",
    "bottom=0.135,\n",
    "left=0.115,\n",
    "right=0.965,\n",
    "hspace=0.2,\n",
    "wspace=0.2)"
   ]
  },
  {
   "cell_type": "code",
   "execution_count": 9,
   "metadata": {},
   "outputs": [],
   "source": [
    "# comparison formula single ion, and MB\n",
    "\n",
    "Tmin = .0005\n",
    "Tmax = 10\n",
    "vmin = sqrt(2*kb*Tmin/m_Ca)\n",
    "vmax = sqrt(2*kb*Tmax/m_Ca)\n",
    "nu = -k*np.linspace(vmin,vmax,1000)\n",
    "dv = mean(diff(nu))/k\n",
    "\n",
    "Rab = Gam # or np.sqrt(3*lam**3*Gam/(4*np.pi**2*hbar*c) * I) \n",
    "\n",
    "vmoins = -50\n",
    "vplus = 50\n",
    "nv = 1000\n",
    "dv = (vplus-vmoins)/nv\n",
    "\n",
    "pfl0 = pfl_dop(nu/k, -Gam, k, Rab, Gam)*Gam\n",
    "\n",
    "\n",
    "pfl1 = []\n",
    "Temps = linspace(0.005,10,1000)\n",
    "for T in Temps:\n",
    "    pfl1.append( sum(prob_fluo(vmoins, vplus, nv, T, -Gam, k, Rab, Gam)[1])*dv*Gam * N )\n",
    "# pfl3 = pfl_dop(nu/k, +3*Gam, k, Rab, Gam)\n",
    "\n",
    "fig = plt.figure('MBxDop vs single',clear='True')\n",
    "ax = fig.add_subplot(111)\n",
    "\n",
    "# ax.plot(Temps, array(pfl0)*1e-9, '-',color='xkcd:green',label=r'single')\n",
    "ax.plot((nu/k)**2*m_Ca/2/kb, pfl0/max(pfl0), '-',color='xkcd:red',label=r'Single ion (Eq. 4.12)')\n",
    "ax.plot(Temps, array(pfl1)/max(pfl1), '--',color='xkcd:blue',label=r'N ions with MB (Eq. 4.24)')\n",
    "# ax.plot((nu/k)**2*m_Ca/2/kb, pfl3, '-',color='xkcd:black',label=r'$\\delta = \\Gamma$')\n",
    "\n",
    "ax.set_xlabel(r'T [K]')\n",
    "ax.set_ylabel(r'Norm. fluo. $F$ [a.u]')\n",
    "ax.set_xlim(-0.1,10.1)\n",
    "# ax.set_ylim(12,46)\n",
    "\n",
    "ax.grid()\n",
    "ax.legend(title='',loc=1,fontsize=15)\n",
    "\n",
    "plt.tight_layout()\n",
    "# subplots_adjust(top=0.96,\n",
    "# bottom=0.16,\n",
    "# left=0.115,\n",
    "# right=0.965,\n",
    "# hspace=0.2,\n",
    "# wspace=0.2)"
   ]
  },
  {
   "cell_type": "code",
   "execution_count": 10,
   "metadata": {},
   "outputs": [],
   "source": [
    "# Plot the MB distribution and \\rho\n",
    "\n",
    "T = .001\n",
    "nu = k*np.linspace(-20,20,10000)\n",
    "dv = mean(diff(nu))/k\n",
    "y = MB(nu/k, T)\n",
    "\n",
    "Rab = Gam # or np.sqrt(3*lam**3*Gam/(4*np.pi**2*hbar*c) * I) \n",
    "\n",
    "pfl = pfl_dop(nu/k, delta, k, Rab, Gam)\n",
    "pfl2 = pfl_dop(nu/k, -delta, k, Rab, Gam)\n",
    "\n",
    "fig = plt.figure('MB and Dop prof',clear='True')\n",
    "ax = fig.add_subplot(111)\n",
    "ax.plot(nu*1e-6, y/np.max(y),label=f'{T*1e3:.1f} mK MB profile')\n",
    "ax.plot(nu*1e-6, pfl/np.max(pfl), '-',label=r'$\\rho_{ee}$ (counter-propagating)')\n",
    "ax.plot(nu*1e-6, pfl2/np.max(pfl2), '-',label=r'$\\rho_{ee}$ (co-propagating)')\n",
    "\n",
    "ax.arrow(-Gam*1e-6+10, 1.05,\n",
    "         Gam*1e-6-20, 0,\n",
    "         color='xkcd:rouge',\n",
    "         width=1e-2,head_width=5e-2,head_length=10,zorder=100)\n",
    "ax.arrow(-10, 1.05,\n",
    "         -Gam*1e-6+20, 0,\n",
    "         color='xkcd:rouge',\n",
    "         width=1e-2,head_width=5e-2,head_length=10)\n",
    "\n",
    "ax.set_xlabel(r'$\\nu = k v$ [MHz]')\n",
    "ax.set_ylabel(r'Probability')\n",
    "ax.set_ylim(-0.05,1.35)\n",
    "ax.annotate(r'$\\Gamma$', xy=(-Gam*1e-6/2,1.075), xycoords='data',\n",
    "    size=25, ha='center', va='bottom', color='xkcd:rouge')\n",
    "\n",
    "below = []\n",
    "for i in range(len(y)):\n",
    "    if y[i]/np.max(y)>pfl[i]/np.max(pfl):\n",
    "        below.append(pfl[i]/np.max(pfl))\n",
    "    else:\n",
    "        below.append(y[i]/np.max(y))\n",
    "verts1 = []\n",
    "verts1.append(polygon_under_graph(nu*1e-6,below))\n",
    "\n",
    "poly1 = PolyCollection(verts1, facecolors=cc('xkcd:purplish blue',0.85), hatch = '..')\n",
    "ax.add_collection(poly1)\n",
    "\n",
    "ax.grid()\n",
    "ax.legend(loc=1,fontsize=15)\n",
    "\n",
    "tight_layout()"
   ]
  },
  {
   "cell_type": "code",
   "execution_count": 215,
   "metadata": {},
   "outputs": [],
   "source": [
    "# >>> Takes few minutes <<<\n",
    "\n",
    "vmin = -20 # from \n",
    "vmax = 20  # to\n",
    "nv = 1000  # resolution\n",
    "\n",
    "temps = np.linspace(.00055, 5, 2000)  # temperatures tested\n",
    "deltas = np.linspace(-1,1, 51)*Gam # detunings tested\n",
    "z = [] # z is the integral MBxDopProfile : z[T,delta]\n",
    "for i, temp in enumerate(temps): # for a set of T\n",
    "    z.append([])    \n",
    "    for j, delta in enumerate(deltas): # for a set of deltas\n",
    "        # dop is the product MB*\\rho in function of v\n",
    "        # dop is an array with length nv\n",
    "        # for each iteration it is computed for one T, one delta\n",
    "        # and a range of velocities from vmin to vmax\n",
    "        nunu, dop = prob_fluo(vmin, vmax, nv, temp, delta, k, Rab, Gam)\n",
    "        \n",
    "        dv = mean(diff(nunu))/k\n",
    "        # then I integrate the product over v\n",
    "        z[i].append(np.sum(dop)*dv) # the integrals are normalised\n",
    "                                     # by dv the step in v \n",
    "z = array(z)"
   ]
  },
  {
   "cell_type": "markdown",
   "metadata": {},
   "source": [
    "# What the above loop do\n",
    "Just to be clear\n",
    "\n",
    "$\\texttt{prob_fluo}$ computes the product MB*\\rho\n",
    "\n",
    "with MB and \\rho plotted against velocity ranging from vmin to vmax. At every loop step, it is computed for one given T and delta, Rab, Gam.\n",
    "\n",
    "The result of one computation is an integral, stored in `z[T][delta]`\n",
    "\n",
    "Then the loop changes delta then T and in the end all the integrals are stored in `z[T][delta]`\n",
    "\n",
    "Below is an example of z[:][delta], a curve of fluo in function of T, for a given delta. It is possible to write $F \\propto$ `z[T][delta]` or again $F(T) \\propto$ `z[:][delta]`, or $F(\\delta) \\propto$ `z[T][:]`."
   ]
  },
  {
   "cell_type": "code",
   "execution_count": 234,
   "metadata": {},
   "outputs": [
    {
     "name": "stdout",
     "output_type": "stream",
     "text": [
      "Detuning -1.0 $\\Gamma$\n",
      "Max fluo for T = 170.70145145145148 mK\n",
      "Max fluo var for T = 25.572272272272276 mK\n"
     ]
    }
   ],
   "source": [
    "# The temperature\n",
    "# For which fluo is max\n",
    "temps = np.linspace(.00055, 5, 1000)\n",
    "j = 0\n",
    "print('Detuning',deltas[j]/Gam,'$\\Gamma$')\n",
    "print('Max fluo for T =',temps[argmax(z[:,j])]*1e3,'mK')\n",
    "print('Max fluo var for T =',temps[argmin(diff(abs(z[:,j]),n=2))]*1e3,'mK')"
   ]
  },
  {
   "cell_type": "code",
   "execution_count": 224,
   "metadata": {},
   "outputs": [
    {
     "name": "stdout",
     "output_type": "stream",
     "text": [
      "-1.0\n"
     ]
    }
   ],
   "source": [
    "# Plot z\n",
    "# the excited population\n",
    "\n",
    "fig = plt.figure('ex curve 0',clear='True')\n",
    "ax = fig.add_subplot(111)\n",
    "# plt.title('Optimal temperature')\n",
    "for_detuning = 0\n",
    "print(deltas[for_detuning]/Gam)\n",
    "\n",
    "ax.plot(temps[:-2]*1e3, diff(z[:,for_detuning],n=2),\n",
    "        marker='',ls='-',color = 'blue')\n",
    "\n",
    "ax.set_xlabel('Temperature [mK]')\n",
    "ax.set_ylabel('P')\n",
    "ax.grid()\n",
    "# ax.legend(fontsize=15)\n",
    "tight_layout()"
   ]
  },
  {
   "cell_type": "markdown",
   "metadata": {},
   "source": [
    "# Numerical derivation of derivate\n",
    "\n",
    "Then, $\\frac{dF}{dT} = $ `diff(np.array(z)[:,i])` is the fluo variation in function of temperature, and $\\frac{d^2F}{dT^2} = $ `diff(np.array(z)[:,i],n=2)` the second order derivate of fluo against temperature. \n",
    "\n",
    "Below are computed the temperature for which $\\frac{dF}{dT} = 0$ (in fact when $|\\frac{dF}{dT}|$ is minimum), for all the tested detunings. Also when $\\frac{d^2F}{dT^2} = 0$ ($|\\frac{d^2F}{dT^2}|$ minimum)."
   ]
  },
  {
   "cell_type": "code",
   "execution_count": 237,
   "metadata": {},
   "outputs": [],
   "source": [
    "# Search integrals maximum\n",
    "# with derivative method\n",
    "# pos of optimal temp\n",
    "\n",
    "# z[temperature,detuning] is the integral MBxDopProfile\n",
    "\n",
    "n = np.shape(z)[1]\n",
    "T0 = []\n",
    "F0 = []\n",
    "for i in np.arange(0,n,1):\n",
    "    T0.append([])\n",
    "    F0.append([])\n",
    "    # Temperature\n",
    "    # when first and second derivate are 0 (minimum abs)\n",
    "    T0[i].append( temps[ argmin(abs(diff(np.array(z)[:,i]))) ] )\n",
    "    T0[i].append( temps[ argmin(abs(diff(np.array(z)[:,i],n=2))) ] )\n",
    "    # the fluo itself\n",
    "    # when the two above conditions are fullfiled\n",
    "    F0[i].append(array(z)[argmin(abs(diff(np.array(z)[:,i]))),i])\n",
    "    F0[i].append(array(z)[argmin(abs(diff(np.array(z)[:,i],n=2))),i])\n",
    "    \n",
    "T0 = array(T0)\n",
    "F0 = array(F0)\n",
    "\n",
    "# True_min = T0[:,1]\n",
    "# True_max = T0[:,2]\n",
    "# True_deltas = hstack((deltas[:],deltas[:]))\n",
    "# True_true = hstack((True_min,True_max))\n",
    "\n",
    "# Frue_min = F0[:,1]\n",
    "# Frue_max = F0[:,2]\n",
    "# Frue_true = hstack((Frue_min,Frue_max))\n",
    "\n",
    "# ou Fluo est max c'est le min de la valeur absolue de diff(z)"
   ]
  },
  {
   "cell_type": "code",
   "execution_count": 238,
   "metadata": {},
   "outputs": [
    {
     "name": "stdout",
     "output_type": "stream",
     "text": [
      "-1.0\n"
     ]
    }
   ],
   "source": [
    "# Plot Temperature\n",
    "# for maximum fluo\n",
    "# for max fluo var\n",
    "# For all detunings\n",
    "\n",
    "fig = plt.figure('ex curve',clear='True')\n",
    "ax = fig.add_subplot(111)\n",
    "# plt.title('Optimal temperature')\n",
    "for_detuning = 0\n",
    "print(deltas[for_detuning]/Gam)\n",
    "\n",
    "ax.plot(deltas/Gam, T0[:,0],\n",
    "        marker='+',ls='-',\n",
    "       label='$\\frac{dF}{dT}$')\n",
    "ax.plot(deltas/Gam, T0[:,1],\n",
    "        marker='+',ls='-',\n",
    "       label='$\\frac{d^2F}{dT^2}$')\n",
    "\n",
    "ax.set_xlabel('Detuning [$\\Gamma$]')\n",
    "ax.set_ylabel('Temperature [K]')\n",
    "ax.grid()\n",
    "# ax.legend(fontsize=15)\n",
    "tight_layout()"
   ]
  },
  {
   "cell_type": "markdown",
   "metadata": {},
   "source": [
    "# Second method with temperature variation known\n",
    "\n",
    "Consider that the temperature variation is known. In our case, with a GiantMolecule with mass $10^6$ Da, charge $Q=ze=e$, injection energy $50$ eV injection velocity $v\\approx 100$ m/s. In the cases where detection is delivered, the giant molecule loses 50meV, transfers enough energy to raise the cloud temperature from 1mK to 100mK approximately. For a given $\\delta T = 100$ mK, it is possible to compute the $\\Delta P$, for different initial temperatures.\n",
    "\n",
    "It is also possible to compute with the higher $\\Delta T = 100$ K as if the simulation worked."
   ]
  },
  {
   "cell_type": "markdown",
   "metadata": {},
   "source": [
    "When taking final temperature 0.1 K, the optimum initial temperature that provides the higher fluorescence difference, between initial and final, is 68 mK, which is around the temperature where fluo is maximum. This is not surprising at all because obviously if one wants the highest fluo diff, starts from the highest fluo and go to the lower, which is shown below."
   ]
  },
  {
   "cell_type": "code",
   "execution_count": 239,
   "metadata": {},
   "outputs": [],
   "source": [
    "# plot P = MB x DopProfile\n",
    "\n",
    "vmin = -20 # from \n",
    "vmax = 20  # to\n",
    "nv = 5000  # resolution\n",
    "Tinit = 0.005   # temperature\n",
    "Tfinal = 10   # temperature\n",
    "deltaT = Tfinal-Tinit\n",
    "delta = -Gam\n",
    "\n",
    "nunuinit, dopinit = prob_fluo(vmin, vmax, nv, Tinit, delta, k, Rab, Gam)\n",
    "nunufinal, dopfinal = prob_fluo(vmin, vmax, nv, Tfinal, delta, k, Rab, Gam)\n",
    "\n",
    "fig = plt.figure('MB x DopProfile two temperatures',clear='True')\n",
    "ax = fig.add_subplot(111)\n",
    "ax.plot(nunuinit, dopinit,label=f'{Tinit} K')\n",
    "ax.plot(nunufinal, dopfinal,label=f'{Tfinal} K')\n",
    "\n",
    "ax.set_xlabel(r'$\\nu = k v$ [Hz]')\n",
    "ax.set_ylabel(r'Probability')\n",
    "\n",
    "ax.grid()\n",
    "ax.legend(loc=3,fontsize=15)\n",
    "\n",
    "tight_layout()"
   ]
  },
  {
   "cell_type": "code",
   "execution_count": 240,
   "metadata": {},
   "outputs": [],
   "source": [
    "temps2 = linspace(.001, Tfinal, nv)  # temperatures\n",
    "fluo_diff = [] # Here is stored the integral MBxDopProfile over detunings\n",
    "for i, tempinit in enumerate(temps2):\n",
    "    fluo_diff.append([])    \n",
    "    for j, delta in enumerate(deltas):\n",
    "        nunuinit, dopinit = prob_fluo(vmin, vmax, nv, tempinit, delta, k, Rab, Gam)\n",
    "        nunufinal, dopfinal = prob_fluo(vmin, vmax, nv, Tfinal, delta, k, Rab, Gam)\n",
    "        fluo_diff[i].append(sum(dopfinal)*dv-sum(dopinit)*dv) # *dv\n",
    "fluo_diff = array(fluo_diff)"
   ]
  },
  {
   "cell_type": "code",
   "execution_count": 170,
   "metadata": {},
   "outputs": [
    {
     "name": "stdout",
     "output_type": "stream",
     "text": [
      "171.01700340068015 mK\n",
      "This value for the initial temp providing highest fluo diff with final temp 10 K\n",
      "equals the temp for max fluo computed first above\n",
      "171.548 mK\n"
     ]
    }
   ],
   "source": [
    "# The ideal initial temperature\n",
    "# Giving the highest fluo difference\n",
    "# When going from that initial temp\n",
    "# to the defined final temp\n",
    "\n",
    "print(temps2[argmin(fluo_diff[:,51//2])]*1e3,'mK')\n",
    "print('This value for the initial temp providing highest fluo diff with final temp 10 K')\n",
    "print('equals the temp for max fluo computed first above')\n",
    "print('171.548 mK')"
   ]
  },
  {
   "cell_type": "code",
   "execution_count": 161,
   "metadata": {},
   "outputs": [],
   "source": [
    "# plot P = MB x DopProfile\n",
    "\n",
    "fig = plt.figure('fluo_diff',clear='True')\n",
    "ax = fig.add_subplot(111)\n",
    "ax.plot(temps2, fluo_diff[:,51//2])\n",
    "# ax.vlines(T_lim,-0.0015,0.0015)\n",
    "\n",
    "ax.set_xlabel(r'$T_{init}$ [K]')\n",
    "ax.set_ylabel(r'$\\Delta F$')\n",
    "\n",
    "ax.grid()\n",
    "# ax.legend(loc=3,fontsize=15)\n",
    "\n",
    "tight_layout()"
   ]
  }
 ],
 "metadata": {
  "kernelspec": {
   "display_name": "Python 3 (ipykernel)",
   "language": "python",
   "name": "python3"
  },
  "language_info": {
   "codemirror_mode": {
    "name": "ipython",
    "version": 3
   },
   "file_extension": ".py",
   "mimetype": "text/x-python",
   "name": "python",
   "nbconvert_exporter": "python",
   "pygments_lexer": "ipython3",
   "version": "3.10.6"
  }
 },
 "nbformat": 4,
 "nbformat_minor": 2
}
