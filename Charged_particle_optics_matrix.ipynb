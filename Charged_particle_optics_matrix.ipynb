{
 "cells": [
  {
   "cell_type": "code",
   "execution_count": 1,
   "metadata": {},
   "outputs": [],
   "source": [
    "# %pylab\n",
    "\n",
    "import numpy\n",
    "import matplotlib\n",
    "from matplotlib import pylab, mlab, pyplot\n",
    "from mpl_toolkits.mplot3d import Axes3D\n",
    "np = numpy\n",
    "plt = pyplot\n",
    "\n",
    "from pylab import *\n",
    "from numpy import *\n",
    "\n",
    "%matplotlib qt\n",
    "matplotlib.rcParams.update({'font.size': 25})"
   ]
  },
  {
   "cell_type": "code",
   "execution_count": 2,
   "metadata": {},
   "outputs": [],
   "source": [
    "matplotlib.rcParams['figure.figsize'] = [10.5,7]\n",
    "matplotlib.rcParams.update({'font.size': 25})\n",
    "%matplotlib qt"
   ]
  },
  {
   "cell_type": "code",
   "execution_count": 3,
   "metadata": {},
   "outputs": [
    {
     "name": "stdout",
     "output_type": "stream",
     "text": [
      "$\\kappa_{simion}$ = 0.270471\n"
     ]
    }
   ],
   "source": [
    "# Constantes de la physique\n",
    "# ABSOLUMENT RECHARGER APRÈS AVOIR EXECUTÉ LES CASES D'IMPORT AU DESSUS\n",
    "\n",
    "C_e = 1.602e-19        # Coulomb\n",
    "kb = 1.38064852*1e-23  # Boltzman\n",
    "m_Ca = 40.078*1.66054e-27 # masse Ca 40.078\n",
    "m_GM = 1e6*1.66054e-27 # la masse de la GMol\n",
    "eps0 = 8.854187*1e-12  # permittivité électrique du vide\n",
    "\n",
    "\n",
    "r0 = 2.5e-3 # 2.5e-3   # rayon piège Ca+\n",
    "d0 = 4e-3/2            # longueur piège Ca+\n",
    "Omega = 2.045e6*2*pi # 2.047e6\n",
    "bk = 4 # nombre de barreaux par groupe (2 -> 4-pole , 4 -> 8-pole ...)\n",
    "\n",
    "mkappa = 0.23          # écrantage piège réel GiantMol\n",
    "wzLC = (2*pi*90806.9982303)**2\n",
    "kappa_simion = m_Ca*d0**2*wzLC/(2*C_e)\n",
    "print('%s = %f' % ('$\\kappa_{simion}$',kappa_simion) )\n",
    "\n",
    "zeta = kappa_simion*r0**2/d0**2"
   ]
  },
  {
   "cell_type": "code",
   "execution_count": 8,
   "metadata": {},
   "outputs": [
    {
     "name": "stdout",
     "output_type": "stream",
     "text": [
      "[[1, 2], [3, 4]]\n",
      "[[1 2]\n",
      " [3 4]]\n",
      "[[ 7 10]\n",
      " [15 22]]\n"
     ]
    }
   ],
   "source": [
    "x = [[1,2], [3,4]]\n",
    "print(x)\n",
    "x = np.matrix(x)\n",
    "print(x)\n",
    "print(x*x)"
   ]
  },
  {
   "cell_type": "code",
   "execution_count": 26,
   "metadata": {},
   "outputs": [],
   "source": [
    "# Single plana electrode"
   ]
  },
  {
   "cell_type": "code",
   "execution_count": 77,
   "metadata": {},
   "outputs": [
    {
     "name": "stderr",
     "output_type": "stream",
     "text": [
      "/home/adrian/.local/lib/python3.6/site-packages/ipykernel_launcher.py:6: RuntimeWarning: divide by zero encountered in true_divide\n",
      "  \n"
     ]
    }
   ],
   "source": [
    "US = -200\n",
    "lEm = 12*1e-3\n",
    "lEp = 5*1e-3\n",
    "UE = linspace(0,200,500)\n",
    "\n",
    "f_o = 4*(UE-US)/(UE/lEp--UE/lEm)"
   ]
  },
  {
   "cell_type": "code",
   "execution_count": 25,
   "metadata": {
    "scrolled": true
   },
   "outputs": [],
   "source": [
    "# plot with complicated scan plot only crystal part at the end\n",
    "fname='single_plan_elec'\n",
    "fig = figure(fname,clear='True')\n",
    "ax = fig.add_subplot(1, 1, 1)\n",
    "\n",
    "\n",
    "ax.plot(UE,f_o,'-',color='C0',lw=2)\n",
    "\n",
    "ax.xaxis.set_major_locator(matplotlib.ticker.MultipleLocator(base=20))\n",
    "ax.yaxis.set_major_locator(matplotlib.ticker.MultipleLocator(base=0.2))\n",
    "\n",
    "ax.set_xlim(-1,110)\n",
    "ax.set_ylim(-0.01,0.8)\n",
    "ax.set_xlabel(r'$U_E$ [V]')\n",
    "ax.set_ylabel('$f_o$ [m]')\n",
    "\n",
    "ax.grid()\n",
    "tight_layout()\n",
    "\n",
    "savefig(fname,dpi=300)"
   ]
  },
  {
   "cell_type": "code",
   "execution_count": null,
   "metadata": {},
   "outputs": [],
   "source": [
    "# Einzel lens"
   ]
  },
  {
   "cell_type": "code",
   "execution_count": 45,
   "metadata": {},
   "outputs": [
    {
     "name": "stderr",
     "output_type": "stream",
     "text": [
      "/home/adrian/.local/lib/python3.6/site-packages/ipykernel_launcher.py:9: RuntimeWarning: divide by zero encountered in double_scalars\n",
      "  if __name__ == '__main__':\n",
      "/home/adrian/.local/lib/python3.6/site-packages/ipykernel_launcher.py:12: RuntimeWarning: divide by zero encountered in double_scalars\n",
      "  if sys.path[0] == '':\n",
      "/home/adrian/.local/lib/python3.6/site-packages/ipykernel_launcher.py:15: RuntimeWarning: divide by zero encountered in double_scalars\n",
      "  from ipykernel import kernelapp as app\n"
     ]
    }
   ],
   "source": [
    "US = -200\n",
    "lEm = 12*1e-3\n",
    "lEp = 5*1e-3\n",
    "\n",
    "UE = linspace(0,200,500)\n",
    "\n",
    "f_L = []\n",
    "for pot in UE:\n",
    "    f_O1 = 4*(0-US)/(pot/lEp)\n",
    "    O1 = matrix([[1,0],[-1/f_O1,0]])\n",
    "    \n",
    "    f_i = 4*(pot-US)/(pot/lEp--pot/lEp)\n",
    "    I = matrix([[1,0],[-1/f_i,0]])\n",
    "    \n",
    "    f_O2 = 4*(0-US)/(-pot/lEp)\n",
    "    O2 = matrix([[1,0],[-1/f_O1,0]])\n",
    "\n",
    "    # espace aval\n",
    "    deltastar2 = (0-US)/(pot-US)\n",
    "    h12 = 2*lEp/(1+sqrt(deltastar2))\n",
    "    h22 = sqrt(1/deltastar2)\n",
    "    H2 = matrix([[1,h12],[0,h22]])\n",
    "\n",
    "    # espace amont\n",
    "    deltastar1 = (pot-US)/(0-US)\n",
    "    h11 = 2*lEp/(1+sqrt(deltastar1))\n",
    "    h21 = sqrt(1/deltastar1)\n",
    "    H1 = matrix([[1,h11],[0,h21]])\n",
    "    \n",
    "    M_L = O1*H1*I*H2*O2\n",
    "    f_L.append(M_L[1,0])"
   ]
  },
  {
   "cell_type": "code",
   "execution_count": 46,
   "metadata": {},
   "outputs": [],
   "source": [
    "# plot with complicated scan plot only crystal part at the end\n",
    "fname='einzel_elec'\n",
    "fig = figure(fname,clear='True')\n",
    "ax = fig.add_subplot(1, 1, 1)\n",
    "\n",
    "\n",
    "ax.plot(UE,f_L,'-',color='C0',lw=2)\n",
    "\n",
    "# ax.xaxis.set_major_locator(matplotlib.ticker.MultipleLocator(base=20))\n",
    "# ax.yaxis.set_major_locator(matplotlib.ticker.MultipleLocator(base=0.2))\n",
    "\n",
    "# ax.set_xlim(-1,110)\n",
    "# ax.set_ylim(-0.01,0.8)\n",
    "ax.set_xlabel(r'$U_E$ [V]')\n",
    "ax.set_ylabel('$f_L$ [m]')\n",
    "\n",
    "ax.grid()\n",
    "tight_layout()\n",
    "\n",
    "# savefig(fname,dpi=300)"
   ]
  },
  {
   "cell_type": "code",
   "execution_count": 90,
   "metadata": {},
   "outputs": [
    {
     "name": "stderr",
     "output_type": "stream",
     "text": [
      "/home/adrian/.local/lib/python3.6/site-packages/ipykernel_launcher.py:10: RuntimeWarning: divide by zero encountered in double_scalars\n",
      "  # Remove the CWD from sys.path while we load stuff.\n",
      "/home/adrian/.local/lib/python3.6/site-packages/ipykernel_launcher.py:12: RuntimeWarning: divide by zero encountered in double_scalars\n",
      "  if sys.path[0] == '':\n",
      "/home/adrian/.local/lib/python3.6/site-packages/ipykernel_launcher.py:15: RuntimeWarning: divide by zero encountered in double_scalars\n",
      "  from ipykernel import kernelapp as app\n",
      "/home/adrian/.local/lib/python3.6/site-packages/ipykernel_launcher.py:31: RuntimeWarning: divide by zero encountered in double_scalars\n"
     ]
    }
   ],
   "source": [
    "US = -200\n",
    "lEm = 12*1e-3\n",
    "lEp = 5*1e-3\n",
    "\n",
    "UE = linspace(0,200,500)\n",
    "UL0 = 0\n",
    "\n",
    "f_L = []\n",
    "for pot in UE:\n",
    "    f_O1 = 4*(0-US)/(pot/lEp)\n",
    "    O1 = matrix([[1,0],[-1/f_O1,1]])\n",
    "    f_O2 = -4*(0-US)/(pot/lEp)\n",
    "    O2 = matrix([[1,0],[-1/f_O1,1]])\n",
    "    \n",
    "    f_i = 2*lEp*(pot-US)/(UL0)\n",
    "    I = matrix([[1,0],[-1/f_i,1]])\n",
    "\n",
    "    # espace aval\n",
    "    deltastar2 = (UL0-US)/(pot-US)\n",
    "    h12 = 2*lEp/(1+sqrt(deltastar2))\n",
    "    h22 = sqrt(1/deltastar2)\n",
    "    H2 = matrix([[1,h12],[0,h22]])\n",
    "\n",
    "    # espace amont\n",
    "    deltastar1 = (pot-US)/(UL0-US)\n",
    "    h11 = 2*lEp/(1+sqrt(deltastar1))\n",
    "    h21 = sqrt(1/deltastar1)\n",
    "    H1 = matrix([[1,h11],[0,h21]])\n",
    "    \n",
    "    M_L = O2*H2*I*H1*O1\n",
    "    f_L.append(-1/M_L[1,0])"
   ]
  },
  {
   "cell_type": "code",
   "execution_count": 98,
   "metadata": {},
   "outputs": [],
   "source": [
    "# plot with complicated scan plot only crystal part at the end\n",
    "fname='einzel_elec'\n",
    "fig = figure(fname,clear='True')\n",
    "ax = fig.add_subplot(1, 1, 1)\n",
    "\n",
    "ax.plot(UE,array(f_o)*1e3,'-',color='C0',lw=2,label='Single planar lens')\n",
    "ax.plot(UE,array(f_L)*1e3,'-',color='C1',lw=2,label='Einzel lens')\n",
    "\n",
    "ax.xaxis.set_major_locator(matplotlib.ticker.MultipleLocator(base=20))\n",
    "ax.yaxis.set_major_locator(matplotlib.ticker.MultipleLocator(base=50))\n",
    "\n",
    "ax.set_xlim(-1,201)\n",
    "ax.set_ylim(-10,500)\n",
    "ax.set_xlabel(r'$U_E$ [V]')\n",
    "ax.set_ylabel('$f$ [mm]')\n",
    "\n",
    "ax.legend()\n",
    "\n",
    "ax.grid()\n",
    "tight_layout()\n",
    "\n",
    "savefig(fname,dpi=300)"
   ]
  }
 ],
 "metadata": {
  "kernelspec": {
   "display_name": "Python 3",
   "language": "python",
   "name": "python3"
  },
  "language_info": {
   "codemirror_mode": {
    "name": "ipython",
    "version": 3
   },
   "file_extension": ".py",
   "mimetype": "text/x-python",
   "name": "python",
   "nbconvert_exporter": "python",
   "pygments_lexer": "ipython3",
   "version": "3.7.6"
  }
 },
 "nbformat": 4,
 "nbformat_minor": 2
}
