{
 "cells": [
  {
   "cell_type": "code",
   "execution_count": 1,
   "metadata": {},
   "outputs": [],
   "source": [
    "# %pylab\n",
    "\n",
    "import numpy\n",
    "import matplotlib\n",
    "from matplotlib import pylab, mlab, pyplot\n",
    "from mpl_toolkits.mplot3d import Axes3D\n",
    "np = numpy\n",
    "plt = pyplot\n",
    "\n",
    "from pylab import *\n",
    "from numpy import *\n",
    "\n",
    "%matplotlib qt"
   ]
  },
  {
   "cell_type": "code",
   "execution_count": 2,
   "metadata": {},
   "outputs": [
    {
     "name": "stderr",
     "output_type": "stream",
     "text": [
      "ERROR:root:File `'/home/adrian/Documents/Programmes/Python/GiantMol/Functions/turbo_colormap.py'` not found.\n"
     ]
    }
   ],
   "source": [
    "%matplotlib qt\n",
    "%run /home/adrian/Documents/Programmes/Python/GiantMol/Functions/turbo_colormap.py"
   ]
  },
  {
   "cell_type": "code",
   "execution_count": 18,
   "metadata": {},
   "outputs": [],
   "source": [
    "matplotlib.rcParams.update({'font.size': 20})"
   ]
  },
  {
   "cell_type": "code",
   "execution_count": 3,
   "metadata": {},
   "outputs": [
    {
     "name": "stdout",
     "output_type": "stream",
     "text": [
      "$\\kappa_{simion}$ = 0.270471\n"
     ]
    }
   ],
   "source": [
    "# Constantes de la physique\n",
    "# ABSOLUMENT RECHARGER APRÈS AVOIR EXECUTÉ LES CASES D'IMPORT AU DESSUS\n",
    "\n",
    "C_e = 1.602e-19        # Coulomb\n",
    "kb = 1.38064852*1e-23  # Boltzman\n",
    "m_Ca = 40.078*1.66054e-27 # masse Ca 40.078\n",
    "m_GM = 1e6*1.66054e-27 # la masse de la GMol\n",
    "eps0 = 8.854187*1e-12  # permittivité électrique du vide\n",
    "\n",
    "\n",
    "r0 = 2.5e-3 # 2.5e-3   # rayon piège Ca+\n",
    "d0 = 4e-3/2            # longueur piège Ca+\n",
    "Omega = 2.045e6*2*pi # 2.047e6\n",
    "bk = 4 # nombre de barreaux par groupe (2 -> 4-pole , 4 -> 8-pole ...)\n",
    "\n",
    "mkappa = 0.23          # écrantage piège réel GiantMol\n",
    "wzLC = (2*pi*90806.9982303)**2\n",
    "kappa_simion = m_Ca*d0**2*wzLC/(2*C_e)\n",
    "print('%s = %f' % ('$\\kappa_{simion}$',kappa_simion) )\n",
    "\n",
    "zeta = kappa_simion*r0**2/d0**2"
   ]
  },
  {
   "cell_type": "code",
   "execution_count": 96,
   "metadata": {},
   "outputs": [
    {
     "name": "stdout",
     "output_type": "stream",
     "text": [
      "0.472849923623768 2.17204133331882e-05\n"
     ]
    }
   ],
   "source": [
    "delta_p = linspace(0,101300,1000)\n",
    "p = 1013e2/2\n",
    "R = 0.2e-3\n",
    "A = pi*R**2\n",
    "L = 114.5*1e-3\n",
    "\n",
    "Mair = 28.976/1000\n",
    "\n",
    "\n",
    "T = 273.15 + 100\n",
    "C = 110.4\n",
    "vis_ref = 1.715*1e-5\n",
    "viscosity = vis_ref * (Tref + C) / (T + C) * (T/Tref)**(3/2)\n",
    "\n",
    "rho = p/(287.06*T)\n",
    "# rho = p*Mair/(8.314*T)\n",
    "\n",
    "Qber = A*sqrt(2*delta_p/rho) *1000*60\n",
    "Qpoi = A**2/(8*pi*viscosity*L)*delta_p *1000*60\n",
    "\n",
    "print(rho,viscosity)"
   ]
  },
  {
   "cell_type": "code",
   "execution_count": 97,
   "metadata": {},
   "outputs": [],
   "source": [
    "# chjeck cercle\n",
    "fig = plt.figure('Bernoulli vs Poiseuille',clear='True')\n",
    "ax = fig.add_subplot(111)\n",
    "\n",
    "ax.plot(delta_p/100,Qber,label='Bernoulli')\n",
    "ax.plot(delta_p/100,Qpoi,label='Hagen-Poiseuille')\n",
    "# ax.set_aspect('equal', adjustable='box')\n",
    "ax.grid(b=True, which='major', color='grey', linestyle='-')\n",
    "ax.grid(b=True, which='minor', color='silver', linestyle='--')\n",
    "ax.set_xlabel(r'$\\Delta$P [hPa]')\n",
    "ax.set_ylabel(r'Q [L/min]')\n",
    "ax.set_xlim(-35,1035)\n",
    "ax.set_ylim(-0.05,6.25)\n",
    "\n",
    "plt.setp(ax.xaxis.get_majorticklabels(), rotation=45, ha='right')\n",
    "ax.xaxis.set_major_locator(matplotlib.ticker.MultipleLocator(base=200))\n",
    "\n",
    "ax.legend(fontsize=15)\n",
    "plt.minorticks_on()\n",
    "\n",
    "tight_layout()"
   ]
  }
 ],
 "metadata": {
  "kernelspec": {
   "display_name": "Python 3",
   "language": "python",
   "name": "python3"
  },
  "language_info": {
   "codemirror_mode": {
    "name": "ipython",
    "version": 3
   },
   "file_extension": ".py",
   "mimetype": "text/x-python",
   "name": "python",
   "nbconvert_exporter": "python",
   "pygments_lexer": "ipython3",
   "version": "3.7.6"
  }
 },
 "nbformat": 4,
 "nbformat_minor": 4
}
