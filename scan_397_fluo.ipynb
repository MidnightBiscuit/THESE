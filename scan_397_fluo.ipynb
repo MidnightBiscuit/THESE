{
 "cells": [
  {
   "cell_type": "code",
   "execution_count": 1,
   "metadata": {},
   "outputs": [],
   "source": [
    "# %pylab\n",
    "\n",
    "import numpy\n",
    "import matplotlib\n",
    "from matplotlib import pylab, mlab, pyplot\n",
    "from mpl_toolkits.mplot3d import Axes3D\n",
    "np = numpy\n",
    "plt = pyplot\n",
    "\n",
    "from pylab import *\n",
    "from numpy import *"
   ]
  },
  {
   "cell_type": "code",
   "execution_count": 2,
   "metadata": {},
   "outputs": [
    {
     "name": "stdout",
     "output_type": "stream",
     "text": [
      "Using matplotlib backend: TkAgg\n"
     ]
    }
   ],
   "source": [
    "from scipy.optimize import curve_fit\n",
    "import tkinter as tk\n",
    "from tkinter import filedialog\n",
    "\n",
    "matplotlib.rcParams['figure.figsize'] = [10.5,7]\n",
    "matplotlib.rcParams.update({'font.size': 25})\n",
    "%matplotlib"
   ]
  },
  {
   "cell_type": "code",
   "execution_count": 3,
   "metadata": {},
   "outputs": [],
   "source": [
    "def gaussian(x, A, mu, sig):\n",
    "    return A*exp(-power(x - mu, 2.) / (2 * power(sig, 2.)))"
   ]
  },
  {
   "cell_type": "code",
   "execution_count": 4,
   "metadata": {},
   "outputs": [],
   "source": [
    "matplotlib.rcParams.update({'font.size': 25})"
   ]
  },
  {
   "cell_type": "code",
   "execution_count": 5,
   "metadata": {},
   "outputs": [
    {
     "name": "stdout",
     "output_type": "stream",
     "text": [
      "('/home/adrien/Documents/Mesures/laser_scan/20220706/scan397_000.dat', '/home/adrien/Documents/Mesures/laser_scan/20220706/scan397_001.dat')\n"
     ]
    }
   ],
   "source": [
    "# sélection des fichiers (Python 3)\n",
    "import tkinter as tk\n",
    "from tkinter import filedialog\n",
    "\n",
    "root = tk.Tk()\n",
    "root.withdraw()\n",
    "\n",
    "file_path = filedialog.askopenfilename(initialdir = '/home/adrian/Documents/Mesures',multiple=True)\n",
    "print(file_path)\n",
    "\n",
    "# ('/home/adrian/Documents/Mesures/GiantMol_Ions/20180606/fluo_temp_scan866__000_000.dat',\n",
    "# '/home/adrian/Documents/Mesures/GiantMol_Ions/20180606/fluo_temp_scan866__000_001.dat',\n",
    "# '/home/adrian/Documents/Mesures/GiantMol_Ions/20180606/fluo_temp_scan866__000_002.dat')\n",
    "\n",
    "# ('/home/adrian/Documents/Mesures/laser_scan/20210416/fluo_dip_re_000.dat', '/home/adrian/Documents/Mesures/laser_scan/20210416/fluo_dip_re_001.dat')"
   ]
  },
  {
   "cell_type": "code",
   "execution_count": null,
   "metadata": {},
   "outputs": [],
   "source": [
    "('/home/adrian/Documents/Mesures/laser_scan/20210416/fluo_dip_re_000.dat', '/home/adrian/Documents/Mesures/laser_scan/20210416/fluo_dip_re_001.dat')"
   ]
  },
  {
   "cell_type": "code",
   "execution_count": 6,
   "metadata": {},
   "outputs": [
    {
     "data": {
      "text/plain": [
       "('/home/adrien/Documents/Mesures/laser_scan/20220706/scan397_000.dat',\n",
       " '/home/adrien/Documents/Mesures/laser_scan/20220706/scan397_001.dat')"
      ]
     },
     "execution_count": 6,
     "metadata": {},
     "output_type": "execute_result"
    }
   ],
   "source": [
    "file_path"
   ]
  },
  {
   "cell_type": "code",
   "execution_count": 7,
   "metadata": {},
   "outputs": [],
   "source": [
    "# Array rectangle\n",
    "# Allocation à l'avance\n",
    "\n",
    "filename=file_path\n",
    "m = loadtxt(file_path[0],usecols=(2),delimiter='\\t',skiprows=0,unpack=True).size\n",
    "n = len(file_path)\n",
    "shape = (m, n)\n",
    "\n",
    "TIME = zeros(shape)\n",
    "PM = zeros(shape)\n",
    "CH2 = zeros(shape)\n",
    "\n",
    "for k in range(0,len(filename)):\n",
    "    TIME[:,k], PM[:,k] = loadtxt(file_path[k],usecols=(0,1),delimiter='\\t',skiprows=0,unpack=True)"
   ]
  },
  {
   "cell_type": "code",
   "execution_count": 13,
   "metadata": {},
   "outputs": [
    {
     "name": "stdout",
     "output_type": "stream",
     "text": [
      "/home/adrien/Documents/Mesures/laser_scan/20220706/scan397_000.dat\n"
     ]
    }
   ],
   "source": [
    "# plot for simple scan\n",
    "\n",
    "to_plot = 0\n",
    "print(file_path[to_plot])\n",
    "fig = figure('One res_noire',clear='True')\n",
    "ax = fig.add_subplot(1, 1, 1)\n",
    "\n",
    "ax.plot(TIME[:,to_plot],PM[:,to_plot],'+',color='xkcd:prussian blue',label='cloud fluo.')\n",
    "\n",
    "xlabel(r'$\\Delta \\nu_{397}$ [MHz]')\n",
    "ylabel('fluo. [cts/5ms]')\n",
    "ax.legend(fontsize=18)\n",
    "\n",
    "grid()\n",
    "tight_layout()"
   ]
  },
  {
   "cell_type": "code",
   "execution_count": 8,
   "metadata": {},
   "outputs": [],
   "source": [
    "fond = 0\n",
    "PM = PM - fond"
   ]
  },
  {
   "cell_type": "code",
   "execution_count": 9,
   "metadata": {},
   "outputs": [
    {
     "name": "stdout",
     "output_type": "stream",
     "text": [
      "397.70012 397.69972000000007\n"
     ]
    }
   ],
   "source": [
    "# en longueurs d'onde\n",
    "n = 1.0002746\n",
    "c = 299792458\n",
    "l397_1 = 397.70012*1e-9\n",
    "l397_2 = 397.69972*1e-9\n",
    "print(l397_1*1e9,l397_2*1e9)\n",
    "\n",
    "l_397 = linspace(l397_2*1e9,l397_1*1e9,len(TIME[:,0])) # nm\n",
    "f_397 = c/(n*l_397*1e-9) # Hz"
   ]
  },
  {
   "cell_type": "code",
   "execution_count": 109,
   "metadata": {},
   "outputs": [],
   "source": [
    "# en fréquence\n",
    "n = 1.0002746\n",
    "c = 299792458\n",
    "f397_1 = 755.22170*1e12\n",
    "f397_2 = 755.22245*1e12\n",
    "\n",
    "f_397 = linspace(f397_1,f397_2,len(TIME[:,0])) # nm"
   ]
  },
  {
   "cell_type": "code",
   "execution_count": 41,
   "metadata": {},
   "outputs": [],
   "source": [
    "test_gauss = gaussian(TIME[:,0],1500,15,3)\n",
    "fit_PM = zeros((len(file_path),3))\n",
    "fit_PM = zeros((len(file_path),3))\n",
    "covar_PM = [zeros((3,3)) for k in range(0,len(file_path))]\n",
    "\n",
    "A = zeros(len(file_path))\n",
    "mu = zeros(len(file_path))\n",
    "sig = zeros(len(file_path))\n",
    "            \n",
    "fit_gauss = zeros((len(TIME[:,0]),(len(file_path))))\n",
    "\n",
    "start = 0"
   ]
  },
  {
   "cell_type": "code",
   "execution_count": 27,
   "metadata": {},
   "outputs": [],
   "source": [
    "import matplotlib.patches as patches"
   ]
  },
  {
   "cell_type": "code",
   "execution_count": 110,
   "metadata": {},
   "outputs": [
    {
     "name": "stdout",
     "output_type": "stream",
     "text": [
      "/home/adrien/Documents/Mesures/laser_scan/20220706/scan397_001.dat\n"
     ]
    }
   ],
   "source": [
    "# plot for simple scan\n",
    "\n",
    "to_plot = 1\n",
    "print(file_path[to_plot])\n",
    "f_755 = 755.222765897*1e12\n",
    "bckg =  min(PM[:,to_plot])\n",
    "start = 0\n",
    "stop = -1\n",
    "\n",
    "start_exclude = 670\n",
    "stop_exclude = 780\n",
    "x = (f_397[start:]-f_755)*1e-9\n",
    "fig = figure('One res_noire 1',clear='True')\n",
    "ax = fig.add_subplot(1, 1, 1)\n",
    "\n",
    "\n",
    "# plot(l_866,PM[:,to_plot],'+',color='xkcd:prussian blue')\n",
    "# ax.plot(tata,PM[start:,to_plot],'+',color='xkcd:prussian blue',label='cloud fluo.')\n",
    "ax.plot(x,PM[start:,to_plot],'+',color='xkcd:prussian blue',label='cloud fluo.') #tata\n",
    "xlabel(r'$\\Delta \\nu_{397}$ [GHz]')\n",
    "ylabel('fluo. [cts/5ms]')\n",
    "# ax.legend(fontsize=18)\n",
    "\n",
    "grid()\n",
    "tight_layout()"
   ]
  },
  {
   "cell_type": "code",
   "execution_count": 104,
   "metadata": {},
   "outputs": [
    {
     "name": "stdout",
     "output_type": "stream",
     "text": [
      "/home/adrien/Documents/Mesures/laser_scan/20220706/scan397_000.dat\n",
      "4463.510541837598 -0.35673391698750473 0.19079357047463197\n"
     ]
    }
   ],
   "source": [
    "# plot for simple scan\n",
    "\n",
    "to_plot = 0\n",
    "print(file_path[to_plot])\n",
    "f_755 = 755.222765897*1e12\n",
    "bckg =  min(PM[:,to_plot])\n",
    "start = 0\n",
    "stop = -1\n",
    "\n",
    "start_exclude = 670\n",
    "stop_exclude = 780\n",
    "x = (f_397[start:]-f_755)*1e-9\n",
    "x_fit = linspace(x[0],x[-1],50000)\n",
    "\n",
    "PMPM = hstack((PM[start:start_exclude,to_plot],PM[stop_exclude:,to_plot]))\n",
    "xx =  hstack((x[:start_exclude],x[stop_exclude:]))\n",
    "\n",
    "\n",
    "fit_PM[to_plot,:], covar_PM[to_plot] = curve_fit(gaussian,xx,PMPM-bckg,\n",
    "                                                    p0=[5000,-0.45,0.5],maxfev = 50000)\n",
    "\n",
    "A[to_plot] = fit_PM[to_plot,0]\n",
    "mu[to_plot] = fit_PM[to_plot,1]\n",
    "sig[to_plot] = fit_PM[to_plot,2]\n",
    "FWHM = 2*sqrt(2*log(2)) * sig[to_plot] # GHz\n",
    "temperature = 40 * (FWHM*1e9/f_755/(7.16*1e-7))**2\n",
    "\n",
    "print(A[to_plot],mu[to_plot],sig[to_plot])\n",
    "fit_gauss[:,to_plot] = gaussian(x,A[to_plot],mu[to_plot],sig[to_plot])\n",
    "my_fit_gauss = gaussian(x,A[to_plot],mu[to_plot],sig[to_plot])\n",
    "\n",
    "fig = figure('One res_noire',clear='True')\n",
    "ax = fig.add_subplot(1, 1, 1)\n",
    "\n",
    "# tata = (x[::-1])*1000 # MHz\n",
    "tete = my_fit_gauss\n",
    "# tete = tete + bckg\n",
    "# x_fit = x_fit[::-1]\n",
    "\n",
    "\n",
    "# plot(l_866,PM[:,to_plot],'+',color='xkcd:prussian blue')\n",
    "# ax.plot(tata,PM[start:,to_plot],'+',color='xkcd:prussian blue',label='cloud fluo.')\n",
    "ax.plot(x,PM[start:,to_plot],'+',color='xkcd:prussian blue',label='cloud fluo.') #tata\n",
    "ax.plot(x,tete+bckg,color='xkcd:vermillion',label='Gaussian fit')\n",
    "# vlines(mu[to_plot]*1000,0,15000,linestyles=':',color='xkcd:vermillion')    \n",
    "\n",
    "rect = patches.Rectangle((x[start_exclude], 5500), (x[stop_exclude]-x[start_exclude]), 12000-5500,\n",
    "                         linewidth=1, edgecolor='black', facecolor='gray',alpha=.3,hatch='xxxx',label='fit exclusion')\n",
    "# Add the patch to the Axes\n",
    "ax.add_patch(rect)\n",
    "\n",
    "    \n",
    "text( -1, 9500, f'FWHM = ${2*sqrt(2*log(2)) * sig[to_plot] * 1000:.0f}$ MHz\\nT = {temperature:.0f} K',\n",
    "rotation=0,\n",
    "horizontalalignment='left',\n",
    "verticalalignment='bottom',\n",
    "color='xkcd:vermillion',\n",
    "fontsize=17)\n",
    "\n",
    "# ax.set_xlim(-1000,1050)\n",
    "# ax.set_ylim(2800,15200)\n",
    "xlabel(r'$\\Delta \\nu_{397}$ [GHz]')\n",
    "ylabel('fluo. [cts/5ms]')\n",
    "ax.legend(fontsize=18)\n",
    "\n",
    "grid()\n",
    "tight_layout()"
   ]
  },
  {
   "cell_type": "code",
   "execution_count": 72,
   "metadata": {},
   "outputs": [
    {
     "data": {
      "text/plain": [
       "538.2817631047924"
      ]
     },
     "execution_count": 72,
     "metadata": {},
     "output_type": "execute_result"
    }
   ],
   "source": [
    "temperature"
   ]
  },
  {
   "cell_type": "code",
   "execution_count": 45,
   "metadata": {},
   "outputs": [
    {
     "name": "stdout",
     "output_type": "stream",
     "text": [
      "/home/adrian/Documents/Mesures/laser_scan/20210416/fluo_dip_re_001.dat\n",
      "4359.215689935037 -1613.5975316223546 0.032963022813756876\n"
     ]
    }
   ],
   "source": [
    "# plot with complicated scan plot only crystal part at the end\n",
    "\n",
    "to_plot = 1\n",
    "print(file_path[to_plot])\n",
    "f_755 = 755222.765897\n",
    "\n",
    "start = 0\n",
    "stop = -1\n",
    "\n",
    "start_exclude = 0\n",
    "stop_exclude = 1350\n",
    "x = f_397-f_755\n",
    "\n",
    "tata = (x[::-1]) # Ghz\n",
    "x_fit = linspace(tata[stop_exclude-300],tata[-1],5000)\n",
    "\n",
    "xx = concatenate(( tata[:start_exclude],tata[stop_exclude:] ))\n",
    "PMPM = concatenate(( PM[:start_exclude,to_plot],PM[stop_exclude:,to_plot] ))\n",
    "\n",
    "bckg = min(PMPM)\n",
    "fit_PM[to_plot,:], covar_PM[to_plot] = curve_fit(gaussian,xx,PMPM,\n",
    "                                                    p0=[5000,-1613.6,0.05],maxfev = 50000)\n",
    "\n",
    "A[to_plot] = fit_PM[to_plot,0]\n",
    "mu[to_plot] = fit_PM[to_plot,1]\n",
    "sig[to_plot] = fit_PM[to_plot,2]\n",
    "FWHM = 2*sqrt(2*log(2)) * sig[to_plot] * 1000 # MHz\n",
    "temperature = 40 * (FWHM*1e-3/f_755/(7.16*1e-7))**2\n",
    "\n",
    "print(A[to_plot],mu[to_plot],sig[to_plot])\n",
    "# fit_gauss[:,to_plot] = gaussian(x,A[to_plot],mu[to_plot],sig[to_plot])\n",
    "my_fit_gauss = gaussian(x_fit,A[to_plot],mu[to_plot],sig[to_plot])\n",
    "\n",
    "f_397 = c/(1.0002746*l_397*1e-9) * 1e-9 # GHz\n",
    "\n",
    "x_offset = 1614\n",
    "\n",
    "fig = figure('One res_noire',clear='True')\n",
    "ax = fig.add_subplot(1, 1, 1)\n",
    "\n",
    "# plot(l_866,PM[:,to_plot],'+',color='xkcd:prussian blue')\n",
    "ax.plot((tata+x_offset)*1e3,PM[start:,to_plot],'+',color='xkcd:prussian blue',label='cloud fluo.')\n",
    "# ax.plot(xx,PMPM,'4',color='k',label='cloud fluo.')\n",
    "ax.plot((x_fit+x_offset)*1e3,my_fit_gauss+bckg,color='xkcd:vermillion',label='Gaussian fit')\n",
    "# vlines(mu[to_plot]*1000,0,15000,linestyles=':',color='xkcd:vermillion')    \n",
    "\n",
    "rect = patches.Rectangle(((tata[start_exclude]+x_offset)*1e3, 0), (tata[stop_exclude]-tata[start_exclude])*1e3, 16000,\n",
    "                         linewidth=1, edgecolor='black', facecolor='gray',alpha=.3,hatch='xxxx',label='fit exclusion')\n",
    "# Add the patch to the Axes\n",
    "ax.add_patch(rect)\n",
    "\n",
    "\n",
    "ax.annotate(\"\", xy=((-1613.689+x_offset)*1e3,2000), xytext=((-1613.689+x_offset)*1e3,3500),\n",
    "            arrowprops=dict(width=1,facecolor='k'))\n",
    "# rect = patches.Rectangle((-1613.7, 0), (0.025), 16000,\n",
    "#                          linewidth=1, edgecolor='black', facecolor='gray',alpha=.3,hatch='',label='fit exclusion')\n",
    "# # Add the patch to the Axes\n",
    "# ax.add_patch(rect)\n",
    "\n",
    "    \n",
    "text((-1613.87+x_offset)*1e3, 3000, f'FWHM = ${2*sqrt(2*log(2)) * sig[to_plot] * 1000:.0f}$ MHz\\n        T = {temperature:.0f} K',\n",
    "rotation=0,\n",
    "horizontalalignment='left',\n",
    "verticalalignment='bottom',\n",
    "color='xkcd:vermillion',\n",
    "fontsize=17,\n",
    "     bbox=dict(facecolor='white'))\n",
    "\n",
    "ax.set_xlim((-1614.37+x_offset)*1e3,(-1613.55+x_offset)*1e3)\n",
    "# ax.set_ylim(2800,15200)\n",
    "xlabel(r'$\\Delta \\nu_{397} +$' + f'{x_offset*1e3:.0f}' + ' [MHz]')\n",
    "ylabel('fluo. [cts/5ms]')\n",
    "ax.legend(fontsize=18)\n",
    "\n",
    "grid()\n",
    "tight_layout()\n",
    "\n",
    "savefig('397scan.png',dpi=300)"
   ]
  },
  {
   "cell_type": "code",
   "execution_count": 19,
   "metadata": {},
   "outputs": [
    {
     "data": {
      "text/plain": [
       "[<matplotlib.lines.Line2D at 0x7f4b654f9930>]"
      ]
     },
     "execution_count": 19,
     "metadata": {},
     "output_type": "execute_result"
    }
   ],
   "source": [
    "figure('coucou',clear='True')\n",
    "\n",
    "plot(xx,PMPM,'+',ls='--')"
   ]
  },
  {
   "cell_type": "code",
   "execution_count": 398,
   "metadata": {},
   "outputs": [
    {
     "name": "stdout",
     "output_type": "stream",
     "text": [
      "3.9269074839873697\n"
     ]
    }
   ],
   "source": [
    "f_346 = 346000.234867\n",
    "# FWHM = 1.75*1e3\n",
    "temperature = 40 * (FWHM*1e-3/f_346/(7.16*1e-7))**2\n",
    "print(temperature)"
   ]
  },
  {
   "cell_type": "code",
   "execution_count": 59,
   "metadata": {},
   "outputs": [
    {
     "data": {
      "text/plain": [
       "array([2590., 2590., 2590., ..., 2590., 2590., 2590.])"
      ]
     },
     "execution_count": 59,
     "metadata": {},
     "output_type": "execute_result"
    }
   ],
   "source": [
    "tete"
   ]
  },
  {
   "cell_type": "code",
   "execution_count": null,
   "metadata": {},
   "outputs": [],
   "source": []
  }
 ],
 "metadata": {
  "kernelspec": {
   "display_name": "Python 3 (ipykernel)",
   "language": "python",
   "name": "python3"
  },
  "language_info": {
   "codemirror_mode": {
    "name": "ipython",
    "version": 3
   },
   "file_extension": ".py",
   "mimetype": "text/x-python",
   "name": "python",
   "nbconvert_exporter": "python",
   "pygments_lexer": "ipython3",
   "version": "3.10.4"
  }
 },
 "nbformat": 4,
 "nbformat_minor": 2
}
