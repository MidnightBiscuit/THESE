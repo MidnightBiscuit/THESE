{
 "cells": [
  {
   "cell_type": "code",
   "execution_count": 1,
   "metadata": {},
   "outputs": [],
   "source": [
    "###########################################################\n",
    "#                                                         #\n",
    "#                   IMAGE ANALYSIS                        #\n",
    "#                                                         #\n",
    "#                          02/2019     Adrien Poindron    #\n",
    "###########################################################"
   ]
  },
  {
   "cell_type": "code",
   "execution_count": 1,
   "metadata": {},
   "outputs": [],
   "source": [
    "import numpy as np\n",
    "import scipy\n",
    "import matplotlib\n",
    "import matplotlib.image as mpimg\n",
    "%matplotlib qt\n",
    "\n",
    "import matplotlib.cbook as cbook\n",
    "from matplotlib_scalebar.scalebar import ScaleBar\n",
    "import ntpath\n",
    "\n",
    "from scipy.signal import savgol_filter\n",
    "from scipy import ndimage"
   ]
  },
  {
   "cell_type": "code",
   "execution_count": 2,
   "metadata": {},
   "outputs": [],
   "source": [
    "from scipy.optimize import curve_fit\n",
    "\n",
    "def my_lin_func(x,a,b):\n",
    "    return b + a*x"
   ]
  },
  {
   "cell_type": "code",
   "execution_count": 3,
   "metadata": {},
   "outputs": [],
   "source": [
    "matplotlib.rcParams['figure.figsize'] = [10.5,7]\n",
    "matplotlib.rcParams.update({'font.size': 20})"
   ]
  },
  {
   "cell_type": "code",
   "execution_count": 4,
   "metadata": {},
   "outputs": [],
   "source": [
    "%run /home/adrian/PycharmProjects/data_analysis/data_fct_Adrien.py"
   ]
  },
  {
   "cell_type": "code",
   "execution_count": 5,
   "metadata": {},
   "outputs": [
    {
     "name": "stdout",
     "output_type": "stream",
     "text": [
      "$\\kappa_{simion}$ = 0.270471\n"
     ]
    }
   ],
   "source": [
    "# Constantes de la physique\n",
    "# ABSOLUMENT RECHARGER APRÈS AVOIR EXECUTÉ LES CASES D'IMPORT AU DESSUS\n",
    "\n",
    "C_e = 1.602e-19        # Coulomb\n",
    "kb = 1.38064852*1e-23  # Boltzman\n",
    "m_Ca = 40.078*1.66054e-27 # masse Ca 40.078\n",
    "m_GM = 1e6*1.66054e-27 # la masse de la GMol\n",
    "eps0 = 8.854187*1e-12  # permittivité électrique du vide\n",
    "\n",
    "\n",
    "r0 = 2.5e-3 # 2.5e-3   # rayon piège Ca+\n",
    "d0 = 4e-3/2            # longueur piège Ca+\n",
    "Omega = 2.045e6*2*pi # 2.047e6\n",
    "bk = 4 # nombre de barreaux par groupe (2 -> 4-pole , 4 -> 8-pole ...)\n",
    "\n",
    "mkappa = 0.23          # écrantage piège réel GiantMol\n",
    "wzLC = (2*pi*90806.9982303)**2\n",
    "kappa_simion = m_Ca*d0**2*wzLC/(2*C_e)\n",
    "print('%s = %f' % ('$\\kappa_{simion}$',kappa_simion) )\n",
    "\n",
    "zeta = kappa_simion*r0**2/d0**2"
   ]
  },
  {
   "cell_type": "code",
   "execution_count": 6,
   "metadata": {},
   "outputs": [
    {
     "name": "stdout",
     "output_type": "stream",
     "text": [
      "========== Fichiers sélectionnés ==========\n",
      "> 00 | /home/adrian/Documents/Mesures/Compensation/210702/cloud_varDC_noEGun_lowRF_small_1_1.jpg\n",
      "> 01 | /home/adrian/Documents/Mesures/Compensation/210702/cloud_varDC_noEGun_lowRF_small_2_1.jpg\n",
      "> 02 | /home/adrian/Documents/Mesures/Compensation/210702/cloud_varDC_noEGun_lowRF_small_3_1.jpg\n",
      "> 03 | /home/adrian/Documents/Mesures/Compensation/210702/cloud_varDC_noEGun_lowRF_small_4_1.jpg\n",
      "> 04 | /home/adrian/Documents/Mesures/Compensation/210702/cloud_varDC_noEGun_lowRF_small_5_1.jpg\n",
      "> 05 | /home/adrian/Documents/Mesures/Compensation/210702/cloud_varDC_noEGun_lowRF_small_6_1.jpg\n",
      "> 06 | /home/adrian/Documents/Mesures/Compensation/210702/cloud_varDC_noEGun_lowRF_small_7_1.jpg\n",
      "> 07 | /home/adrian/Documents/Mesures/Compensation/210702/cloud_varDC_noEGun_lowRF_small_8_1.jpg\n",
      "> 08 | /home/adrian/Documents/Mesures/Compensation/210702/cloud_varDC_noEGun_lowRF_small_9_1.jpg\n",
      "> 09 | /home/adrian/Documents/Mesures/Compensation/210702/cloud_varDC_noEGun_lowRF_small_10_1.jpg\n",
      "> 10 | /home/adrian/Documents/Mesures/Compensation/210702/cloud_varDC_noEGun_lowRF_small_11_1.jpg\n",
      "> 11 | /home/adrian/Documents/Mesures/Compensation/210702/cloud_varDC_noEGun_lowRF_small_12_1.jpg\n",
      "> 12 | /home/adrian/Documents/Mesures/Compensation/210702/cloud_varDC_noEGun_lowRF_small_13_1.jpg\n",
      "> 13 | /home/adrian/Documents/Mesures/Compensation/210702/cloud_varDC_noEGun_lowRF_small_14_1.jpg\n",
      "> 14 | /home/adrian/Documents/Mesures/Compensation/210702/cloud_varDC_noEGun_lowRF_small_15_1.jpg\n",
      "> 15 | /home/adrian/Documents/Mesures/Compensation/210702/cloud_varDC_noEGun_lowRF_small_16_1.jpg\n",
      "> 16 | /home/adrian/Documents/Mesures/Compensation/210702/cloud_varDC_noEGun_lowRF_small_17_1.jpg\n",
      "> 17 | /home/adrian/Documents/Mesures/Compensation/210702/cloud_varDC_noEGun_lowRF_small_18_1.jpg\n",
      "> 18 | /home/adrian/Documents/Mesures/Compensation/210702/cloud_varDC_noEGun_lowRF_small_19_1.jpg\n",
      "> 19 | /home/adrian/Documents/Mesures/Compensation/210702/cloud_varDC_noEGun_lowRF_small_20_1.jpg\n",
      "> 20 | /home/adrian/Documents/Mesures/Compensation/210702/cloud_varDC_noEGun_lowRF_small_21_1.jpg\n",
      "> 21 | /home/adrian/Documents/Mesures/Compensation/210702/cloud_varDC_noEGun_lowRF_small_22_1.jpg\n",
      "> 22 | /home/adrian/Documents/Mesures/Compensation/210702/cloud_varDC_noEGun_lowRF_small_23_1.jpg\n",
      "> 23 | /home/adrian/Documents/Mesures/Compensation/210702/cloud_varDC_noEGun_lowRF_small_24_1.jpg\n",
      "> 24 | /home/adrian/Documents/Mesures/Compensation/210702/cloud_varDC_noEGun_lowRF_small_25_1.jpg\n",
      "> 25 | /home/adrian/Documents/Mesures/Compensation/210702/cloud_varDC_noEGun_lowRF_small_26_1.jpg\n",
      "44 ['cloud_varDC_noEGun_lowRF_small_1_1', 'cloud_varDC_noEGun_lowRF_small_2_1', 'cloud_varDC_noEGun_lowRF_small_3_1', 'cloud_varDC_noEGun_lowRF_small_4_1', 'cloud_varDC_noEGun_lowRF_small_5_1', 'cloud_varDC_noEGun_lowRF_small_6_1', 'cloud_varDC_noEGun_lowRF_small_7_1', 'cloud_varDC_noEGun_lowRF_small_8_1', 'cloud_varDC_noEGun_lowRF_small_9_1', 'cloud_varDC_noEGun_lowRF_small_10_1', 'cloud_varDC_noEGun_lowRF_small_11_1', 'cloud_varDC_noEGun_lowRF_small_12_1', 'cloud_varDC_noEGun_lowRF_small_13_1', 'cloud_varDC_noEGun_lowRF_small_14_1', 'cloud_varDC_noEGun_lowRF_small_15_1', 'cloud_varDC_noEGun_lowRF_small_16_1', 'cloud_varDC_noEGun_lowRF_small_17_1', 'cloud_varDC_noEGun_lowRF_small_18_1', 'cloud_varDC_noEGun_lowRF_small_19_1', 'cloud_varDC_noEGun_lowRF_small_20_1', 'cloud_varDC_noEGun_lowRF_small_21_1', 'cloud_varDC_noEGun_lowRF_small_22_1', 'cloud_varDC_noEGun_lowRF_small_23_1', 'cloud_varDC_noEGun_lowRF_small_24_1', 'cloud_varDC_noEGun_lowRF_small_25_1', 'cloud_varDC_noEGun_lowRF_small_26_1']\n",
      "(26, 2040, 2048)\n"
     ]
    }
   ],
   "source": [
    "filename = load_file_GUI('/home/adrian/Documents/Mesures/Compensation/210702') # '/home/adrian/Documents/Mesures/Profils/190204'\n",
    "my_str = filename[0].find('210702')\n",
    "image_name = []\n",
    "print('========== Fichiers sélectionnés ==========')\n",
    "for k,l in enumerate(filename):\n",
    "    print(f'> {k:02} | {l}')\n",
    "    image_name.append(filename[k][my_str+7:].strip('.jpg'))\n",
    "\n",
    "print(my_str,image_name)\n",
    "\n",
    "img = []\n",
    "for k, l in enumerate(filename):\n",
    "    img.append(mpimg.imread(l))\n",
    "print(shape(img))"
   ]
  },
  {
   "cell_type": "markdown",
   "metadata": {},
   "source": [
    "## Trois affichages différents d'un nuage"
   ]
  },
  {
   "cell_type": "code",
   "execution_count": 7,
   "metadata": {},
   "outputs": [],
   "source": [
    "# affiche image et integrale\n",
    "to_plot = 3\n",
    "image = img[to_plot]\n",
    "\n",
    "x_pro = 1073\n",
    "x_pro_1 = 0\n",
    "x_pro_2 = 2048\n",
    "y_pro_1 = 0\n",
    "y_pro_2 = 2040\n",
    "y_pro = 836\n",
    "\n",
    "fig = plt.figure(num='plot image integrale')\n",
    "fig.set_size_inches(8,8)\n",
    "clf()\n",
    "grid = plt.GridSpec(1000,2000, hspace=0.2, wspace=0.2) # , hspace=0.2, wspace=0.2\n",
    "main_ax = fig.add_subplot(grid[:780, 300:])\n",
    "main_ax.xaxis.tick_top()\n",
    "main_ax.yaxis.tick_right()\n",
    "\n",
    "x_hist = fig.add_subplot(grid[790:950, 375:1925], sharex=main_ax)\n",
    "y_hist = fig.add_subplot(grid[1:780, 1:350], sharey=main_ax)\n",
    "\n",
    "main_ax.imshow(image, cmap='gray',aspect='equal',origin='upper')\n",
    "main_ax.set_xlim(0,2048)\n",
    "main_ax.set_ylim(0,2048)\n",
    "main_ax.invert_yaxis()\n",
    "\n",
    "integrale_x = []\n",
    "integrale_y = []\n",
    "\n",
    "for k in range(x_pro_2):\n",
    "    integrale_x.append(sum(image[:,k])/y_pro_2)\n",
    "for k in range(y_pro_2):\n",
    "    integrale_y.append(sum(image[k,:])/x_pro_2)\n",
    "\n",
    "smth_integrale_x = savgol_filter(integrale_x, window_length=51, polyorder=1)\n",
    "smth_integrale_y = savgol_filter(integrale_y, window_length=51, polyorder=1)\n",
    "    \n",
    "x_hist.plot(arange(x_pro_2),integrale_x,\n",
    "            color='xkcd:vermillion',marker='+',linestyle='')\n",
    "x_hist.plot(arange(len(smth_integrale_x)),smth_integrale_x,\n",
    "            color='xkcd:black',marker='',linestyle='-')\n",
    "x_hist.yaxis.tick_right()\n",
    "x_hist.yaxis.set_major_locator(matplotlib.ticker.MultipleLocator(base=10))\n",
    "setp(x_hist.yaxis.get_majorticklabels(), rotation=30,fontsize=11)\n",
    "setp(x_hist.xaxis.get_majorticklabels(), rotation=0,fontsize=11)\n",
    "\n",
    "\n",
    "y_hist.plot(integrale_y,arange(0,y_pro_2),\n",
    "            color='xkcd:azul',marker='+',linestyle='')\n",
    "y_hist.plot(smth_integrale_y,arange(len(smth_integrale_y)),\n",
    "            color='xkcd:black',marker='',linestyle='-')\n",
    "y_hist.xaxis.tick_top()\n",
    "y_hist.xaxis.set_major_locator(matplotlib.ticker.MultipleLocator(base=10))\n",
    "setp(y_hist.xaxis.get_majorticklabels(), rotation=30,fontsize=11)\n",
    "setp(y_hist.yaxis.get_majorticklabels(), rotation=0,fontsize=11)\n",
    "\n",
    "scalebar = ScaleBar(6.5e-6/12,location=3,\n",
    "                    length_fraction=0.15,border_pad=2,frameon='True') # size of 1 pixel\n",
    "main_ax.add_artist(scalebar)\n",
    "\n",
    "plt.show()\n",
    "# plt.tight_layout()\n",
    "# fig.subplots_adjust(top=0.94, bottom=0.05, left = 0.05, right = 0.99)\n",
    "# savefig(ntpath.basename(l[:-5]) + '.png', dpi = 100) # récupère seulement "
   ]
  },
  {
   "cell_type": "code",
   "execution_count": 8,
   "metadata": {},
   "outputs": [
    {
     "name": "stdout",
     "output_type": "stream",
     "text": [
      "102.35301806997307 923\n",
      "102.1965571384804 1145\n"
     ]
    }
   ],
   "source": [
    "max_smth_integrale_x = max(smth_integrale_x)\n",
    "i_max_smth_integrale_x = int( where(smth_integrale_x == max(smth_integrale_x))[0])\n",
    "\n",
    "max_smth_integrale_y = max(smth_integrale_y)\n",
    "i_max_smth_integrale_y = int( where(smth_integrale_y == max(smth_integrale_y))[0])\n",
    "\n",
    "print(max_smth_integrale_x,i_max_smth_integrale_x)\n",
    "print(max_smth_integrale_y,i_max_smth_integrale_y)"
   ]
  },
  {
   "cell_type": "code",
   "execution_count": 9,
   "metadata": {},
   "outputs": [],
   "source": [
    "# affiche image et profil\n",
    "image = img[to_plot]\n",
    "\n",
    "x_pro = i_max_smth_integrale_x\n",
    "y_pro_1 = 0\n",
    "y_pro_2 = 2040\n",
    "y_pro = i_max_smth_integrale_y\n",
    "x_pro_1 = 0\n",
    "x_pro_2 = 2048\n",
    "\n",
    "\n",
    "fig = plt.figure(num='profil image')\n",
    "fig.set_size_inches(8,8)\n",
    "clf()\n",
    "grid = plt.GridSpec(1000,2000, hspace=0.2, wspace=0.2) # , hspace=0.2, wspace=0.2\n",
    "main_ax = fig.add_subplot(grid[:780, 300:])\n",
    "main_ax.xaxis.tick_top()\n",
    "main_ax.yaxis.tick_right()\n",
    "\n",
    "x_hist = fig.add_subplot(grid[790:950, 375:1925], sharex=main_ax)\n",
    "y_hist = fig.add_subplot(grid[1:780, 1:350], sharey=main_ax)\n",
    "\n",
    "main_ax.imshow(image, cmap='gray',aspect='equal',origin='upper')\n",
    "main_ax.set_xlim(0,2048)\n",
    "main_ax.set_ylim(0,2048)\n",
    "main_ax.invert_yaxis()\n",
    "main_ax.vlines(x_pro,y_pro_1,y_pro_2,color='xkcd:azul',linestyles='--', alpha=0.5)\n",
    "main_ax.hlines(y_pro,x_pro_1,x_pro_2,color='xkcd:vermillion',linestyles='--', alpha=0.5)\n",
    "\n",
    "x_hist.plot(arange(x_pro_1,x_pro_2),image[y_pro,x_pro_1:x_pro_2],\n",
    "            color='xkcd:vermillion',marker='+',linestyle='')\n",
    "x_hist.yaxis.tick_right()\n",
    "x_hist.yaxis.set_major_locator(matplotlib.ticker.MultipleLocator(base=40))\n",
    "setp(x_hist.yaxis.get_majorticklabels(), rotation=30,fontsize=11)\n",
    "setp(x_hist.xaxis.get_majorticklabels(), rotation=0,fontsize=11)\n",
    "\n",
    "\n",
    "y_hist.plot(image[y_pro_1:y_pro_2,x_pro],arange(y_pro_1,y_pro_2),\n",
    "            color='xkcd:azul',marker='+',linestyle='')\n",
    "y_hist.xaxis.tick_top()\n",
    "y_hist.xaxis.set_major_locator(matplotlib.ticker.MultipleLocator(base=40))\n",
    "setp(y_hist.xaxis.get_majorticklabels(), rotation=30,fontsize=11)\n",
    "setp(y_hist.yaxis.get_majorticklabels(), rotation=0,fontsize=11)\n",
    "\n",
    "scalebar = ScaleBar(6.5e-6/12,location=3,\n",
    "                    length_fraction=0.15,border_pad=2,frameon='True') # size of 1 pixel\n",
    "main_ax.add_artist(scalebar)\n",
    "\n",
    "plt.show()\n",
    "# plt.tight_layout()\n",
    "# fig.subplots_adjust(top=0.94, bottom=0.05, left = 0.05, right = 0.99)\n",
    "# savefig(ntpath.basename(l[:-5]) + '.png', dpi = 100) # récupère seulement "
   ]
  },
  {
   "cell_type": "code",
   "execution_count": 13,
   "metadata": {},
   "outputs": [],
   "source": [
    "# affiche image et profil avec lissage\n",
    "image = ndimage.gaussian_filter(img[to_plot], sigma=5)\n",
    "\n",
    "x_pro = i_max_smth_integrale_x\n",
    "y_pro_1 = 0\n",
    "y_pro_2 = 2040\n",
    "y_pro = i_max_smth_integrale_y\n",
    "x_pro_1 = 0\n",
    "x_pro_2 = 2048\n",
    "\n",
    "\n",
    "fig = plt.figure(num='profil image')\n",
    "fig.set_size_inches(8,8)\n",
    "clf()\n",
    "grid = plt.GridSpec(1000,2000, hspace=0.2, wspace=0.2) # , hspace=0.2, wspace=0.2\n",
    "main_ax = fig.add_subplot(grid[:780, 300:])\n",
    "main_ax.xaxis.tick_top()\n",
    "main_ax.yaxis.tick_right()\n",
    "\n",
    "x_hist = fig.add_subplot(grid[790:950, 375:1925], sharex=main_ax)\n",
    "y_hist = fig.add_subplot(grid[1:780, 1:350], sharey=main_ax)\n",
    "\n",
    "main_ax.imshow(image, cmap='gray',aspect='equal',origin='upper')\n",
    "main_ax.set_xlim(0,2048)\n",
    "main_ax.set_ylim(0,2048)\n",
    "main_ax.invert_yaxis()\n",
    "main_ax.vlines(x_pro,y_pro_1,y_pro_2,color='xkcd:azul',linestyles='--', alpha=0.5)\n",
    "main_ax.hlines(y_pro,x_pro_1,x_pro_2,color='xkcd:vermillion',linestyles='--', alpha=0.5)\n",
    "\n",
    "x_hist.plot(arange(x_pro_1,x_pro_2),image[y_pro,x_pro_1:x_pro_2],\n",
    "            color='xkcd:vermillion',marker='+',linestyle='')\n",
    "x_hist.yaxis.tick_right()\n",
    "x_hist.yaxis.set_major_locator(matplotlib.ticker.MultipleLocator(base=20))\n",
    "setp(x_hist.yaxis.get_majorticklabels(), rotation=30,fontsize=11)\n",
    "setp(x_hist.xaxis.get_majorticklabels(), rotation=0,fontsize=11)\n",
    "\n",
    "\n",
    "y_hist.plot(image[y_pro_1:y_pro_2,x_pro],arange(y_pro_1,y_pro_2),\n",
    "            color='xkcd:azul',marker='+',linestyle='')\n",
    "y_hist.xaxis.tick_top()\n",
    "y_hist.xaxis.set_major_locator(matplotlib.ticker.MultipleLocator(base=40))\n",
    "setp(y_hist.xaxis.get_majorticklabels(), rotation=30,fontsize=11)\n",
    "setp(y_hist.yaxis.get_majorticklabels(), rotation=0,fontsize=11)\n",
    "\n",
    "scalebar = ScaleBar(6.5e-6/12,location=3,\n",
    "                    length_fraction=0.15,border_pad=2,frameon='True') # size of 1 pixel\n",
    "main_ax.add_artist(scalebar)\n",
    "\n",
    "plt.show()\n",
    "# plt.tight_layout()\n",
    "# fig.subplots_adjust(top=0.94, bottom=0.05, left = 0.05, right = 0.99)\n",
    "# savefig(ntpath.basename(l[:-5]) + '.png', dpi = 100) # récupère seulement "
   ]
  },
  {
   "cell_type": "markdown",
   "metadata": {},
   "source": [
    "## Traitement de toutes les images sélectionnées"
   ]
  },
  {
   "cell_type": "code",
   "execution_count": 10,
   "metadata": {
    "scrolled": true
   },
   "outputs": [
    {
     "name": "stdout",
     "output_type": "stream",
     "text": [
      "96.413825\n",
      "cloud_varDC_noEGun_lowRF_small_1_1\n",
      "The ellipse is given by -4.92e-07x^2 + 2.11e-08xy+-4.97e-07y^2+0.000954x+0.00102y = 1\n"
     ]
    },
    {
     "name": "stderr",
     "output_type": "stream",
     "text": [
      "/home/adrian/.local/lib/python3.6/site-packages/ipykernel_launcher.py:53: FutureWarning: `rcond` parameter will change to the default of machine precision times ``max(M, N)`` where M and N are the input matrix dimensions.\n",
      "To use the future default and silence this warning we advise to pass `rcond=None`, to keep using the old, explicitly pass `rcond=-1`.\n"
     ]
    },
    {
     "name": "stdout",
     "output_type": "stream",
     "text": [
      "-9.774970360351992e-13 1091.5535502925816 1151.8999766657253\n",
      "100.37725\n",
      "cloud_varDC_noEGun_lowRF_small_2_1\n",
      "The ellipse is given by -5.58e-07x^2 + 2.3e-08xy+-4.62e-07y^2+0.0011x+0.000907y = 1\n",
      "-1.0314212861474929e-12 1108.3419919437554 1106.241537630315\n",
      "100.6024\n",
      "cloud_varDC_noEGun_lowRF_small_3_1\n",
      "The ellipse is given by -6.53e-07x^2 + 3.01e-08xy+-4.3e-07y^2+0.0013x+0.000759y = 1\n",
      "-1.1226008499172585e-12 1119.8327401536967 1018.5134507355285\n",
      "105.68685\n",
      "cloud_varDC_noEGun_lowRF_small_4_1\n",
      "The ellipse is given by -7.28e-07x^2 + 4.31e-08xy+-4.26e-07y^2+0.00146x+0.000655y = 1\n",
      "-1.2387970659533808e-12 1124.526407133134 920.1524823516833\n",
      "111.1104\n",
      "cloud_varDC_noEGun_lowRF_small_5_1\n",
      "The ellipse is given by -8.58e-07x^2 + 4.84e-08xy+-3.63e-07y^2+0.00174x+0.00039y = 1\n",
      "-1.2440202222097796e-12 1130.1463010697144 705.6246184339865\n",
      "111.679825\n",
      "cloud_varDC_noEGun_lowRF_small_6_1\n",
      "The ellipse is given by -8.61e-07x^2 + 5.78e-08xy+-3.75e-07y^2+0.00174x+0.000396y = 1\n",
      "-1.2892273120157443e-12 1129.0601620575285 707.8067063426821\n",
      "121.209025\n",
      "cloud_varDC_noEGun_lowRF_small_7_1\n",
      "The ellipse is given by -9.08e-07x^2 + 2.48e-08xy+-2.63e-07y^2+0.00187x+0.000198y = 1\n",
      "-9.557073486799967e-13 1135.807209326895 524.4527955498218\n",
      "109.54495\n",
      "cloud_varDC_noEGun_lowRF_small_8_1\n",
      "The ellipse is given by -4.8e-07x^2 + 1.98e-08xy+-4.93e-07y^2+0.000938x+0.00102y = 1\n",
      "-9.464971928247483e-13 1098.4780992535343 1158.2811481933702\n",
      "118.628375\n",
      "cloud_varDC_noEGun_lowRF_small_9_1\n",
      "The ellipse is given by -4.32e-07x^2 + 1.31e-08xy+-5.22e-07y^2+0.000828x+0.00112y = 1\n",
      "-9.006778725378079e-13 1075.0544929716189 1182.8156197741118\n",
      "122.3844\n",
      "cloud_varDC_noEGun_lowRF_small_10_1\n",
      "The ellipse is given by -4.35e-07x^2 + 7.14e-09xy+-5.2e-07y^2+0.000813x+0.00114y = 1\n",
      "-9.039711083272937e-13 1043.934807248194 1198.8249260272519\n",
      "126.0825\n",
      "cloud_varDC_noEGun_lowRF_small_11_1\n",
      "The ellipse is given by -4.76e-07x^2 + -1.29e-09xy+-5.04e-07y^2+0.000855x+0.00112y = 1\n"
     ]
    },
    {
     "name": "stderr",
     "output_type": "stream",
     "text": [
      "/home/adrian/.local/lib/python3.6/site-packages/ipykernel_launcher.py:77: RuntimeWarning: invalid value encountered in sqrt\n"
     ]
    },
    {
     "name": "stdout",
     "output_type": "stream",
     "text": [
      "-9.597894134831998e-13 995.7709395573415 1211.8998246180265\n",
      "137.017675\n",
      "cloud_varDC_noEGun_lowRF_small_12_1\n",
      "The ellipse is given by -5.74e-07x^2 + -4.68e-07xy+-1.57e-07y^2+0.00145x+0.000735y = 1\n",
      "-1.411191667374349e-13 886.7030656031378 1270.0154489448453\n",
      "134.62324999999998\n",
      "cloud_varDC_noEGun_lowRF_small_13_1\n",
      "The ellipse is given by -9.94e-08x^2 + 6.51e-08xy+-2.98e-07y^2+-0.000104x+0.00109y = 1\n",
      "-1.1442905369870262e-13 177.63898136194612 1939.9176098524301\n",
      "114.3408\n",
      "cloud_varDC_noEGun_lowRF_small_14_1\n",
      "The ellipse is given by -4.77e-07x^2 + 1.79e-08xy+-5e-07y^2+0.000929x+0.00104y = 1\n",
      "-9.54529617569967e-13 1092.575413019098 1157.1116657623757\n",
      "116.13555\n",
      "cloud_varDC_noEGun_lowRF_small_15_1\n",
      "The ellipse is given by -5.27e-07x^2 + 8.7e-09xy+-4.65e-07y^2+0.00106x+0.000936y = 1\n",
      "-9.804701734300601e-13 1111.2310205702217 1115.4487773741844\n",
      "115.583525\n",
      "cloud_varDC_noEGun_lowRF_small_16_1\n",
      "The ellipse is given by -5.82e-07x^2 + -1.3e-10xy+-4.64e-07y^2+0.00119x+0.000862y = 1\n",
      "-1.0795840987971375e-12 1122.8118627663466 1029.5694754899423\n",
      "115.049075\n",
      "cloud_varDC_noEGun_lowRF_small_17_1\n",
      "The ellipse is given by -6.62e-07x^2 + 1.66e-08xy+-4.76e-07y^2+0.00135x+0.000772y = 1\n",
      "-1.2591426911031298e-12 1126.5460858968781 929.8388664364911\n",
      "114.800475\n",
      "cloud_varDC_noEGun_lowRF_small_18_1\n",
      "The ellipse is given by -8.13e-07x^2 + 3.21e-08xy+-4.13e-07y^2+0.00166x+0.000486y = 1\n",
      "-1.340976861338598e-12 1133.3270971188313 728.4171633710737\n",
      "114.634025\n",
      "cloud_varDC_noEGun_lowRF_small_19_1\n",
      "The ellipse is given by -8.69e-07x^2 + -1.93e-08xy+-3.22e-07y^2+0.00181x+0.000306y = 1\n",
      "-1.120447542002669e-12 1137.152114481449 543.4669160645565\n",
      "115.04735\n",
      "cloud_varDC_noEGun_lowRF_small_20_1\n",
      "The ellipse is given by -8.84e-07x^2 + -3.99e-08xy+-1.99e-07y^2+0.00186x+0.000174y = 1\n",
      "-7.003389060835452e-13 1146.4636469396921 433.49597160617367\n",
      "115.408725\n",
      "cloud_varDC_noEGun_lowRF_small_21_1\n",
      "The ellipse is given by -4.65e-07x^2 + -5.51e-10xy+-4.8e-07y^2+0.000929x+0.00102y = 1\n",
      "-8.927614424950635e-13 1099.037577711076 1163.0502902884944\n",
      "114.912375\n",
      "cloud_varDC_noEGun_lowRF_small_22_1\n",
      "The ellipse is given by -4.62e-07x^2 + 1.55e-08xy+-4.96e-07y^2+0.000883x+0.00106y = 1\n",
      "-9.1517865785451e-13 1074.319877775939 1186.781247555043\n",
      "115.285\n",
      "cloud_varDC_noEGun_lowRF_small_23_1\n",
      "The ellipse is given by -4.88e-07x^2 + 3.05e-08xy+-4.97e-07y^2+0.00089x+0.00106y = 1\n",
      "-9.707658655622086e-13 1045.9065720622773 1198.9166783995192\n",
      "115.3655\n",
      "cloud_varDC_noEGun_lowRF_small_24_1\n",
      "The ellipse is given by -5e-07x^2 + -7.32e-08xy+-4.24e-07y^2+0.000983x+0.00101y = 1\n",
      "-8.418868664900056e-13 1002.2419243255939 1211.215658376808\n",
      "115.1692\n",
      "cloud_varDC_noEGun_lowRF_small_25_1\n",
      "The ellipse is given by -4.05e-07x^2 + -2.91e-07xy+-3.89e-07y^2+0.000969x+0.0011y = 1\n",
      "-5.455791668574419e-13 894.86243131648 1218.3539463215911\n",
      "114.98225\n",
      "cloud_varDC_noEGun_lowRF_small_26_1\n",
      "===> No ellipse found, carry out with next picture <===\n",
      "[1091.5535502925816, 1108.3419919437554, 1119.8327401536967, 1124.526407133134, 1130.1463010697144, 1129.0601620575285, 1135.807209326895, 1098.4780992535343, 1075.0544929716189, 1043.934807248194, 995.7709395573415, 886.7030656031378, 177.63898136194612, 1092.575413019098, 1111.2310205702217, 1122.8118627663466, 1126.5460858968781, 1133.3270971188313, 1137.152114481449, 1146.4636469396921, 1099.037577711076, 1074.319877775939, 1045.9065720622773, 1002.2419243255939, 894.86243131648, -1000] [1151.8999766657253, 1106.241537630315, 1018.5134507355285, 920.1524823516833, 705.6246184339865, 707.8067063426821, 524.4527955498218, 1158.2811481933702, 1182.8156197741118, 1198.8249260272519, 1211.8998246180265, 1270.0154489448453, 1939.9176098524301, 1157.1116657623757, 1115.4487773741844, 1029.5694754899423, 929.8388664364911, 728.4171633710737, 543.4669160645565, 433.49597160617367, 1163.0502902884944, 1186.781247555043, 1198.9166783995192, 1211.215658376808, 1218.3539463215911, -1000]\n"
     ]
    }
   ],
   "source": [
    "# fit ellipse avec masque\n",
    "\n",
    "x0_nuage = []\n",
    "y0_nuage = []\n",
    "\n",
    "a_ellipse = []\n",
    "b_ellipse = []\n",
    "theta_ellipse = []\n",
    "\n",
    "for to_plot in range(len(filename)):\n",
    "    \n",
    "    # define image and bckg threshold\n",
    "    image = ndimage.gaussian_filter(img[to_plot], sigma=3)\n",
    "    bckg = mean(img[to_plot][0:20,0:2000])+10\n",
    "    print(bckg)\n",
    "\n",
    "    mask = image > bckg\n",
    "\n",
    "    fig = plt.figure(num='profil image mask')\n",
    "    fig.set_size_inches(8,8)\n",
    "    clf()\n",
    "    grid = plt.GridSpec(1000,2000, hspace=0.2, wspace=0.2) # , hspace=0.2, wspace=0.2\n",
    "    main_ax = fig.add_subplot(grid[:780, 300:])\n",
    "    main_ax.xaxis.tick_top()\n",
    "    main_ax.yaxis.tick_right()\n",
    "\n",
    "    x_hist = fig.add_subplot(grid[790:950, 375:1925], sharex=main_ax)\n",
    "    y_hist = fig.add_subplot(grid[0:775, 1:350], sharey=main_ax)\n",
    "\n",
    "    main_ax.imshow(img[to_plot], cmap='gray',aspect='equal',origin='upper')  # img[to_plot] image\n",
    "    main_ax.set_xlim(0,2048)\n",
    "    main_ax.set_ylim(0,2048)\n",
    "    main_ax.invert_yaxis()\n",
    "#     main_ax.vlines(x_pro,y_pro_1,y_pro_2,color='xkcd:azul',linestyles='--', alpha=0.3)\n",
    "#     main_ax.hlines(y_pro,x_pro_1,x_pro_2,color='xkcd:vermillion',linestyles='--', alpha=0.3)\n",
    "    scalebar = ScaleBar(6.5e-6/12,location=3,\n",
    "                        length_fraction=0.15,border_pad=2,frameon='True') # size of 1 pixel\n",
    "    main_ax.add_artist(scalebar)\n",
    "\n",
    "    # ROI to ignore points in detector edge\n",
    "    ROI = [100, 1900, 100, 2000] # [1425,850,100,1900]\n",
    "    # Points in mask edge\n",
    "    x_edge, y_edge = where(diff(mask[ROI[0]:ROI[1],ROI[2]:ROI[3]]) != 0)\n",
    "#     main_ax.scatter(y_edge+ROI[2],x_edge+ROI[0],alpha = 0.1, s = 20)\n",
    "\n",
    "    x_edge = x_edge[:,np.newaxis]\n",
    "    y_edge = y_edge[:,np.newaxis]\n",
    "    # Formulate and solve the least squares problem ||Ax - b ||^2\n",
    "    A = np.hstack([x_edge**2, x_edge * y_edge, y_edge**2, x_edge, y_edge])\n",
    "    b = np.ones_like(x_edge)\n",
    "    \n",
    "    try:\n",
    "        x = np.linalg.lstsq(A, b)[0].squeeze()\n",
    "\n",
    "        # Plot the least squares ellipse\n",
    "        print(image_name[to_plot])\n",
    "        print('The ellipse is given by {0:.3}x^2 + {1:.3}xy+{2:.3}y^2+{3:.3}x+{4:.3}y = 1'.format(x[0], x[1],x[2],x[3],x[4]))\n",
    "        x_coord = np.linspace(0,2040,2040)\n",
    "        y_coord = np.linspace(0,2040,2040)\n",
    "        X_coord, Y_coord = np.meshgrid(x_coord, y_coord)\n",
    "        Z_coord = x[0] * X_coord ** 2 + x[1] * X_coord * Y_coord + x[2] * Y_coord**2 + x[3] * X_coord + x[4] * Y_coord\n",
    "        main_ax.contour(Y_coord+ROI[2],X_coord+ROI[0], Z_coord, levels=[1], colors=('r'), linewidths=2)\n",
    "    \n",
    "        # center of ellispe\n",
    "        delta = ( x[1]**2-4*x[0]*x[2] )\n",
    "        x0 = ( 2*x[2]*x[3] - x[1]*x[4] ) / delta\n",
    "        y0 = ( 2*x[0]*x[4] - x[1]*x[3] ) / delta\n",
    "        \n",
    "        # ellipse axes\n",
    "        discriminant = x[1]**2 - 4*x[0]*x[2]\n",
    "        F = -1\n",
    "        terme_1 = x[0]*x[4]**2 + x[2]*x[3]**2 - x[1]*x[3]*x[4] + discriminant*F\n",
    "        terme_2 = (x[0] + x[2]) + sqrt((x[0]-x[2])**2 + x[1]**2)\n",
    "        terme_2_bis = (x[0] + x[2]) - sqrt((x[0]-x[2])**2 + x[1]**2)\n",
    "        a_ellipse.append(-sqrt( 2*terme_1 * terme_2)/discriminant)\n",
    "        b_ellipse.append(-sqrt( 2*terme_1 * terme_2_bis)/discriminant)\n",
    "        theta_ellipse.append( arctan( ( x[2]-x[0]-sqrt((x[0]-x[2])**2 + x[1]) )/x[1] ) )\n",
    "\n",
    "#         print(a_ellipse,b_ellipse)\n",
    "\n",
    "        x0_nuage.append(x0+ROI[0])\n",
    "        y0_nuage.append(y0+ROI[2])\n",
    "\n",
    "        print(delta,x0_nuage[-1],y0_nuage[-1])\n",
    "        main_ax.vlines(y0_nuage[-1],y_pro_1,y_pro_2,color='xkcd:red',linestyles=':', alpha=0.5)\n",
    "        main_ax.hlines(x0_nuage[-1],x_pro_1,x_pro_2,color='xkcd:red',linestyles=':', alpha=0.5)\n",
    "        \n",
    "        x_hist.plot(arange(x_pro_1,x_pro_2),image[int(y0_nuage[-1]),x_pro_1:x_pro_2],\n",
    "                    color='xkcd:vermillion',marker='+',linestyle='')\n",
    "        x_hist.set_xlabel('z [px]')\n",
    "        x_hist.yaxis.tick_right()\n",
    "        x_hist.grid()\n",
    "        x_hist.yaxis.set_major_locator(matplotlib.ticker.MultipleLocator(base=10))\n",
    "        setp(x_hist.yaxis.get_majorticklabels(), rotation=30,fontsize=11)\n",
    "        setp(x_hist.xaxis.get_majorticklabels(), rotation=0,fontsize=11)\n",
    "\n",
    "\n",
    "        y_hist.plot(image[y_pro_1:y_pro_2,int(x0_nuage[-1])],arange(y_pro_1,y_pro_2),\n",
    "                    color='xkcd:azul',marker='+',linestyle='')\n",
    "        y_hist.set_ylabel('x [px]')\n",
    "        y_hist.xaxis.tick_top()\n",
    "        y_hist.invert_xaxis()\n",
    "        y_hist.grid()\n",
    "        y_hist.xaxis.set_major_locator(matplotlib.ticker.MultipleLocator(base=10))\n",
    "        setp(y_hist.xaxis.get_majorticklabels(), rotation=30,fontsize=11)\n",
    "        setp(y_hist.yaxis.get_majorticklabels(), rotation=0,fontsize=11)\n",
    "        \n",
    "    except:\n",
    "        print(image_name[to_plot])\n",
    "        print('===> No ellipse found, carry out with next picture <===')\n",
    "        x0_nuage.append(-1000)\n",
    "        y0_nuage.append(-1000)\n",
    "        a_ellipse.append(-1000)\n",
    "        b_ellipse.append(-1000)\n",
    "        theta_ellipse.append(-1000)\n",
    "\n",
    "    plt.show()\n",
    "#     plt.savefig('/home/adrian/Documents/Mesures/Compensation/210702/fit_ellipse/2/' + image_name[to_plot])\n",
    "    \n",
    "print(x0_nuage,y0_nuage)"
   ]
  },
  {
   "cell_type": "code",
   "execution_count": 11,
   "metadata": {},
   "outputs": [
    {
     "name": "stdout",
     "output_type": "stream",
     "text": [
      "151.12891677214358 154.4698759717179 -89.991677158416\n",
      "147.8790852785407 162.97108449290272 -89.991313821013\n",
      "146.1456961937338 180.50685295990692 -89.99004206425437\n",
      "140.73692563241698 184.48445248636736 -89.98808112277848\n",
      "126.60773967463535 195.1245986299825 -89.9873646443533\n",
      "130.29955118697828 198.10844566712643 -89.98619344132977\n",
      "110.90110087999366 206.16503052666027 -89.99093995204433\n",
      "141.23295887865234 144.65322122056108 -89.99194863429717\n",
      "126.03083792487531 138.66760047641236 -89.9934577867877\n",
      "120.70658068884806 131.99655599048728 -89.99516486260033\n",
      "111.6199370298994 114.78936119509378 nan\n",
      "36.38795801122506 131.55581209288033 nan\n",
      "76.64220998881946 137.60656400836518 -89.98539434019777\n",
      "143.27306128210068 147.59877153983382 -89.99233141635122\n",
      "134.97129532892072 143.76030273489386 -89.99465083767592\n",
      "129.4519697806157 145.06362719567394 nan\n",
      "128.41325143628683 151.58843661927833 -89.99259669952586\n",
      "110.95184663005396 155.87404161539658 -89.98970766806015\n",
      "92.56452527850522 152.08506320424527 nan\n",
      "64.77934855098539 136.89710831058622 nan\n",
      "122.03731228597749 124.0669333663957 nan\n",
      "121.11573274967958 125.93108281713334 -89.9928646787164\n",
      "108.30976925713455 111.85979586532942 -89.98999807592716\n",
      "83.08769661449165 93.18976268610987 nan\n",
      "48.96480289874061 71.9638347448595 nan\n",
      "-1000 -1000 -57295.77951308232\n"
     ]
    }
   ],
   "source": [
    "for k in range(len(filename)):\n",
    "    print(a_ellipse[k],b_ellipse[k],theta_ellipse[k]*180/pi)"
   ]
  },
  {
   "cell_type": "code",
   "execution_count": 32,
   "metadata": {},
   "outputs": [
    {
     "name": "stdout",
     "output_type": "stream",
     "text": [
      "126.209025\n",
      "cloud_varDC_noEGun_lowRF_small_7_1\n",
      "The ellipse is given by -8.97e-07x^2 + 1.49e-08xy+-2.82e-07y^2+0.00186x+0.000224y = 1\n"
     ]
    },
    {
     "name": "stderr",
     "output_type": "stream",
     "text": [
      "/home/adrian/.local/lib/python3.6/site-packages/ipykernel_launcher.py:45: FutureWarning: `rcond` parameter will change to the default of machine precision times ``max(M, N)`` where M and N are the input matrix dimensions.\n",
      "To use the future default and silence this warning we advise to pass `rcond=None`, to keep using the old, explicitly pass `rcond=-1`.\n"
     ]
    },
    {
     "name": "stdout",
     "output_type": "stream",
     "text": [
      "-1.0124896699379718e-12 1037.3762047142225 423.8768973489463\n"
     ]
    }
   ],
   "source": [
    "# fit ellipse avec masque\n",
    "# Juste une image\n",
    "\n",
    "# for to_plot in range(len(filename)):\n",
    "to_plot = 6\n",
    "# define image and bckg threshold\n",
    "image = ndimage.gaussian_filter(img[to_plot], sigma=3)\n",
    "bckg = mean(img[to_plot][0:20,0:2000])+15\n",
    "print(bckg)\n",
    "\n",
    "mask = image > bckg\n",
    "\n",
    "fig = plt.figure(num='profil image mask')\n",
    "fig.set_size_inches(8,8)\n",
    "clf()\n",
    "grid = plt.GridSpec(1000,2000, hspace=0.2, wspace=0.2) # , hspace=0.2, wspace=0.2\n",
    "main_ax = fig.add_subplot(grid[:780, 300:])\n",
    "main_ax.xaxis.tick_top()\n",
    "main_ax.yaxis.tick_right()\n",
    "\n",
    "x_hist = fig.add_subplot(grid[790:950, 375:1925], sharex=main_ax)\n",
    "y_hist = fig.add_subplot(grid[0:775, 1:350], sharey=main_ax)\n",
    "\n",
    "main_ax.imshow(img[to_plot], cmap='gray',aspect='equal',origin='upper')  # img[to_plot] image\n",
    "main_ax.set_xlim(0,2048)\n",
    "main_ax.set_ylim(0,2048)\n",
    "main_ax.invert_yaxis()\n",
    "#     main_ax.vlines(x_pro,y_pro_1,y_pro_2,color='xkcd:azul',linestyles='--', alpha=0.3)\n",
    "#     main_ax.hlines(y_pro,x_pro_1,x_pro_2,color='xkcd:vermillion',linestyles='--', alpha=0.3)\n",
    "scalebar = ScaleBar(6.5e-6/12,location=3,\n",
    "                    length_fraction=0.15,border_pad=2,frameon='True') # size of 1 pixel\n",
    "main_ax.add_artist(scalebar)\n",
    "\n",
    "# ROI to ignore points in detector edge\n",
    "ROI = [100, 1900, 100, 2000] # [1425,850,100,1900]\n",
    "# Points in mask edge\n",
    "x_edge, y_edge = where(diff(mask[ROI[0]:ROI[1],ROI[2]:ROI[3]]) != 0)\n",
    "#     main_ax.scatter(y_edge+ROI[2],x_edge+ROI[0],alpha = 0.1, s = 20)\n",
    "\n",
    "x_edge = x_edge[:,np.newaxis]\n",
    "y_edge = y_edge[:,np.newaxis]\n",
    "# Formulate and solve the least squares problem ||Ax - b ||^2\n",
    "A = np.hstack([x_edge**2, x_edge * y_edge, y_edge**2, x_edge, y_edge])\n",
    "b = np.ones_like(x_edge)\n",
    "x = np.linalg.lstsq(A, b)[0].squeeze()\n",
    "\n",
    "# Plot the least squares ellipse\n",
    "print(image_name[to_plot])\n",
    "print('The ellipse is given by {0:.3}x^2 + {1:.3}xy+{2:.3}y^2+{3:.3}x+{4:.3}y = 1'.format(x[0], x[1],x[2],x[3],x[4]))\n",
    "x_coord = np.linspace(0,2040,2040)\n",
    "y_coord = np.linspace(0,2040,2040)\n",
    "X_coord, Y_coord = np.meshgrid(x_coord, y_coord)\n",
    "Z_coord = x[0] * X_coord ** 2 + x[1] * X_coord * Y_coord + x[2] * Y_coord**2 + x[3] * X_coord + x[4] * Y_coord\n",
    "main_ax.contour(Y_coord+ROI[2],X_coord+ROI[0], Z_coord, levels=[1], colors=('r'), linewidths=2)\n",
    "\n",
    "# center of ellispe\n",
    "delta = ( x[1]**2-4*x[0]*x[2] )\n",
    "x0 = ( 2*x[2]*x[3] - x[1]*x[4] ) / delta\n",
    "y0 = ( 2*x[0]*x[4] - x[1]*x[3] ) / delta\n",
    "\n",
    "x0_nuage.append(x0+ROI[0])\n",
    "y0_nuage.append(y0+ROI[2])\n",
    "\n",
    "print(delta,x0,y0)\n",
    "main_ax.vlines(y0_nuage[-1],y_pro_1,y_pro_2,color='xkcd:red',linestyles=':', alpha=0.5)\n",
    "main_ax.hlines(x0_nuage[-1],x_pro_1,x_pro_2,color='xkcd:red',linestyles=':', alpha=0.5)\n",
    "\n",
    "x_hist.plot(arange(x_pro_1,x_pro_2),image[int(x0_nuage[-1]),x_pro_1:x_pro_2],\n",
    "            color='xkcd:vermillion',marker='+',linestyle='')\n",
    "\n",
    "x_hist.yaxis.tick_right()\n",
    "x_hist.grid()\n",
    "x_hist.yaxis.set_major_locator(matplotlib.ticker.MultipleLocator(base=40))\n",
    "setp(x_hist.yaxis.get_majorticklabels(), rotation=30,fontsize=11)\n",
    "setp(x_hist.xaxis.get_majorticklabels(), rotation=0,fontsize=11)\n",
    "x_hist.set_ylim(75,200)\n",
    "\n",
    "\n",
    "y_hist.plot(image[y_pro_1:y_pro_2,int(y0_nuage[-1])],arange(y_pro_1,y_pro_2),\n",
    "            color='xkcd:azul',marker='+',linestyle='')\n",
    "y_hist.xaxis.tick_top()\n",
    "y_hist.invert_xaxis()\n",
    "y_hist.grid()\n",
    "y_hist.xaxis.set_major_locator(matplotlib.ticker.MultipleLocator(base=40))\n",
    "setp(y_hist.xaxis.get_majorticklabels(), rotation=30,fontsize=11)\n",
    "setp(y_hist.yaxis.get_majorticklabels(), rotation=0,fontsize=11)\n",
    "y_hist.set_xlim(75,220)\n",
    "\n",
    "plt.show()\n",
    "plt.subplots_adjust(top=0.88,\n",
    "bottom=0.06,\n",
    "left=0.09,\n",
    "right=0.9,\n",
    "hspace=0.2,\n",
    "wspace=0.2)\n",
    "plt.savefig('/home/adrian/Documents/Mesures/Compensation/210702/fit_ellipse/1_2/' + image_name[to_plot])"
   ]
  },
  {
   "cell_type": "code",
   "execution_count": 20,
   "metadata": {},
   "outputs": [
    {
     "data": {
      "text/plain": [
       "[1091.5535502925816,\n",
       " 1108.3419919437554,\n",
       " 1119.8327401536967,\n",
       " 1124.526407133134,\n",
       " 1130.1463010697144,\n",
       " 1129.0601620575285,\n",
       " 1135.807209326895,\n",
       " 1098.4780992535343,\n",
       " 1075.0544929716189,\n",
       " 1043.934807248194,\n",
       " 995.7709395573415,\n",
       " 886.7030656031378,\n",
       " 177.63898136194612,\n",
       " 1092.575413019098,\n",
       " 1111.2310205702217,\n",
       " 1122.8118627663466,\n",
       " 1126.5460858968781,\n",
       " 1133.3270971188313,\n",
       " 1137.152114481449,\n",
       " 1146.4636469396921,\n",
       " 1099.037577711076,\n",
       " 1074.319877775939,\n",
       " 1045.9065720622773,\n",
       " 1002.2419243255939,\n",
       " 894.86243131648,\n",
       " -1000,\n",
       " 1143.4520210023024,\n",
       " 1143.4520210023024,\n",
       " 1143.4520210023024,\n",
       " 1143.4520210023024]"
      ]
     },
     "execution_count": 20,
     "metadata": {},
     "output_type": "execute_result"
    }
   ],
   "source": [
    "x0_nuage"
   ]
  },
  {
   "cell_type": "code",
   "execution_count": 21,
   "metadata": {},
   "outputs": [
    {
     "name": "stdout",
     "output_type": "stream",
     "text": [
      "79.15116274162597 127.92545089585599\n"
     ]
    }
   ],
   "source": [
    "# calcul demi grands axes\n",
    "\n",
    "discriminant = x[1]**2 - 4*x[0]*x[2]\n",
    "F = -1\n",
    "terme_1 = x[0]*x[4]**2 + x[2]*x[3]**2 - x[1]*x[3]*x[4] + discriminant*F\n",
    "terme_2 = (x[0] + x[2]) + sqrt((x[0]-x[2])**2 + x[1]**2)\n",
    "terme_2_bis = (x[0] + x[2]) - sqrt((x[0]-x[2])**2 + x[1]**2)\n",
    "\n",
    "a_ellipse = -sqrt( 2*terme_1 * terme_2)/discriminant\n",
    "b_ellipse = -sqrt( 2*terme_1 * terme_2_bis)/discriminant\n",
    "\n",
    "print(a_ellipse,b_ellipse)"
   ]
  },
  {
   "cell_type": "code",
   "execution_count": 22,
   "metadata": {},
   "outputs": [
    {
     "name": "stdout",
     "output_type": "stream",
     "text": [
      "24 24\n",
      "['cloud_varDC_noEGun_lowRF_small_1_1', 'cloud_varDC_noEGun_lowRF_small_2_1', 'cloud_varDC_noEGun_lowRF_small_3_1', 'cloud_varDC_noEGun_lowRF_small_4_1', 'cloud_varDC_noEGun_lowRF_small_5_1', 'cloud_varDC_noEGun_lowRF_small_6_1', 'cloud_varDC_noEGun_lowRF_small_7_1', 'cloud_varDC_noEGun_lowRF_small_8_1', 'cloud_varDC_noEGun_lowRF_small_9_1', 'cloud_varDC_noEGun_lowRF_small_10_1', 'cloud_varDC_noEGun_lowRF_small_11_1', 'cloud_varDC_noEGun_lowRF_small_12_1', 'cloud_varDC_noEGun_lowRF_small_14_1', 'cloud_varDC_noEGun_lowRF_small_15_1', 'cloud_varDC_noEGun_lowRF_small_16_1', 'cloud_varDC_noEGun_lowRF_small_17_1', 'cloud_varDC_noEGun_lowRF_small_18_1', 'cloud_varDC_noEGun_lowRF_small_19_1', 'cloud_varDC_noEGun_lowRF_small_20_1', 'cloud_varDC_noEGun_lowRF_small_21_1', 'cloud_varDC_noEGun_lowRF_small_22_1', 'cloud_varDC_noEGun_lowRF_small_23_1', 'cloud_varDC_noEGun_lowRF_small_24_1', 'cloud_varDC_noEGun_lowRF_small_25_1']\n"
     ]
    }
   ],
   "source": [
    "px_size = 6.5 # µm\n",
    "grandissement = 12\n",
    "x0_nuage = multiply(x0_nuage,px_size/grandissement)\n",
    "y0_nuage = multiply(y0_nuage,px_size/grandissement)\n",
    "\n",
    "# 1_1\n",
    "# to_keep = [0,1,2,4,5,6,7,8,9,10,11]\n",
    "# x0_nuage = [x0_nuage[k] for k in to_keep]\n",
    "# y0_nuage = [y0_nuage[k] for k in to_keep]\n",
    "\n",
    "# 1_2\n",
    "# x0_nuage = [x0_nuage[k] for k in range(0,9)]\n",
    "# y0_nuage = [y0_nuage[k] for k in range(0,9)]\n",
    "\n",
    "# 1_4\n",
    "# to_keep = [0,1,2,3,4,5]\n",
    "# x0_nuage = [x0_nuage[k] for k in to_keep]\n",
    "# y0_nuage = [y0_nuage[k] for k in to_keep]\n",
    "\n",
    "# 2\n",
    "to_keep = [0,1,2,3,4,5,6,7,8,9,10,11,13,14,15,16,17,18,19,20,21,22,23,24]\n",
    "x0_nuage = [x0_nuage[k] for k in to_keep]\n",
    "y0_nuage = [y0_nuage[k] for k in to_keep]\n",
    "\n",
    "print(len(x0_nuage),len(y0_nuage))\n",
    "print([image_name[kk] for kk in to_keep])"
   ]
  },
  {
   "cell_type": "code",
   "execution_count": 23,
   "metadata": {
    "scrolled": true
   },
   "outputs": [
    {
     "ename": "ValueError",
     "evalue": "x and y must have same first dimension, but have shapes (10,) and (23,)",
     "output_type": "error",
     "traceback": [
      "\u001b[0;31m---------------------------------------------------------------------------\u001b[0m",
      "\u001b[0;31mValueError\u001b[0m                                Traceback (most recent call last)",
      "\u001b[0;32m<ipython-input-23-74c2429b355a>\u001b[0m in \u001b[0;36m<module>\u001b[0;34m()\u001b[0m\n\u001b[1;32m      3\u001b[0m \u001b[0mU_dc\u001b[0m \u001b[0;34m=\u001b[0m \u001b[0;34m[\u001b[0m\u001b[0;36m7\u001b[0m\u001b[0;34m,\u001b[0m\u001b[0;36m6\u001b[0m\u001b[0;34m,\u001b[0m\u001b[0;36m5\u001b[0m\u001b[0;34m,\u001b[0m\u001b[0;36m5.5\u001b[0m\u001b[0;34m,\u001b[0m\u001b[0;36m3\u001b[0m\u001b[0;34m,\u001b[0m\u001b[0;36m2\u001b[0m\u001b[0;34m,\u001b[0m\u001b[0;36m1.5\u001b[0m\u001b[0;34m,\u001b[0m\u001b[0;36m1\u001b[0m\u001b[0;34m,\u001b[0m\u001b[0;36m0.7\u001b[0m\u001b[0;34m,\u001b[0m\u001b[0;36m0.5\u001b[0m\u001b[0;34m]\u001b[0m\u001b[0;34m\u001b[0m\u001b[0;34m\u001b[0m\u001b[0m\n\u001b[1;32m      4\u001b[0m \u001b[0mfig\u001b[0m \u001b[0;34m=\u001b[0m \u001b[0mplt\u001b[0m\u001b[0;34m.\u001b[0m\u001b[0mfigure\u001b[0m\u001b[0;34m(\u001b[0m\u001b[0mnum\u001b[0m\u001b[0;34m=\u001b[0m\u001b[0;34m'pos nuage en fct DC'\u001b[0m\u001b[0;34m)\u001b[0m\u001b[0;34m.\u001b[0m\u001b[0mclf\u001b[0m\u001b[0;34m(\u001b[0m\u001b[0;34m)\u001b[0m\u001b[0;34m\u001b[0m\u001b[0;34m\u001b[0m\u001b[0m\n\u001b[0;32m----> 5\u001b[0;31m \u001b[0mplot\u001b[0m\u001b[0;34m(\u001b[0m\u001b[0mU_dc\u001b[0m\u001b[0;34m,\u001b[0m\u001b[0mx0_nuage\u001b[0m\u001b[0;34m[\u001b[0m\u001b[0;34m:\u001b[0m\u001b[0;34m-\u001b[0m\u001b[0;36m1\u001b[0m\u001b[0;34m]\u001b[0m\u001b[0;34m,\u001b[0m\u001b[0mmarker\u001b[0m\u001b[0;34m=\u001b[0m\u001b[0;34m'+'\u001b[0m\u001b[0;34m,\u001b[0m\u001b[0mls\u001b[0m\u001b[0;34m=\u001b[0m\u001b[0;34m''\u001b[0m\u001b[0;34m,\u001b[0m\u001b[0mlabel\u001b[0m\u001b[0;34m=\u001b[0m\u001b[0;34m'x0'\u001b[0m\u001b[0;34m,\u001b[0m\u001b[0mms\u001b[0m\u001b[0;34m=\u001b[0m\u001b[0;36m10\u001b[0m\u001b[0;34m,\u001b[0m\u001b[0mmew\u001b[0m\u001b[0;34m=\u001b[0m\u001b[0;36m3\u001b[0m\u001b[0;34m)\u001b[0m\u001b[0;34m\u001b[0m\u001b[0;34m\u001b[0m\u001b[0m\n\u001b[0m\u001b[1;32m      6\u001b[0m \u001b[0mplot\u001b[0m\u001b[0;34m(\u001b[0m\u001b[0mU_dc\u001b[0m\u001b[0;34m,\u001b[0m\u001b[0my0_nuage\u001b[0m\u001b[0;34m[\u001b[0m\u001b[0;34m:\u001b[0m\u001b[0;34m-\u001b[0m\u001b[0;36m1\u001b[0m\u001b[0;34m]\u001b[0m\u001b[0;34m,\u001b[0m\u001b[0mmarker\u001b[0m\u001b[0;34m=\u001b[0m\u001b[0;34m'+'\u001b[0m\u001b[0;34m,\u001b[0m\u001b[0mls\u001b[0m\u001b[0;34m=\u001b[0m\u001b[0;34m''\u001b[0m\u001b[0;34m,\u001b[0m\u001b[0mlabel\u001b[0m\u001b[0;34m=\u001b[0m\u001b[0;34m'y0'\u001b[0m\u001b[0;34m,\u001b[0m\u001b[0mms\u001b[0m\u001b[0;34m=\u001b[0m\u001b[0;36m10\u001b[0m\u001b[0;34m,\u001b[0m\u001b[0mmew\u001b[0m\u001b[0;34m=\u001b[0m\u001b[0;36m3\u001b[0m\u001b[0;34m)\u001b[0m\u001b[0;34m\u001b[0m\u001b[0;34m\u001b[0m\u001b[0m\n\u001b[1;32m      7\u001b[0m \u001b[0mxlabel\u001b[0m\u001b[0;34m(\u001b[0m\u001b[0;34m'U_dc [V]'\u001b[0m\u001b[0;34m)\u001b[0m\u001b[0;34m\u001b[0m\u001b[0;34m\u001b[0m\u001b[0m\n",
      "\u001b[0;32m~/.local/lib/python3.6/site-packages/matplotlib/pyplot.py\u001b[0m in \u001b[0;36mplot\u001b[0;34m(*args, **kwargs)\u001b[0m\n\u001b[1;32m   3356\u001b[0m                       mplDeprecation)\n\u001b[1;32m   3357\u001b[0m     \u001b[0;32mtry\u001b[0m\u001b[0;34m:\u001b[0m\u001b[0;34m\u001b[0m\u001b[0;34m\u001b[0m\u001b[0m\n\u001b[0;32m-> 3358\u001b[0;31m         \u001b[0mret\u001b[0m \u001b[0;34m=\u001b[0m \u001b[0max\u001b[0m\u001b[0;34m.\u001b[0m\u001b[0mplot\u001b[0m\u001b[0;34m(\u001b[0m\u001b[0;34m*\u001b[0m\u001b[0margs\u001b[0m\u001b[0;34m,\u001b[0m \u001b[0;34m**\u001b[0m\u001b[0mkwargs\u001b[0m\u001b[0;34m)\u001b[0m\u001b[0;34m\u001b[0m\u001b[0;34m\u001b[0m\u001b[0m\n\u001b[0m\u001b[1;32m   3359\u001b[0m     \u001b[0;32mfinally\u001b[0m\u001b[0;34m:\u001b[0m\u001b[0;34m\u001b[0m\u001b[0;34m\u001b[0m\u001b[0m\n\u001b[1;32m   3360\u001b[0m         \u001b[0max\u001b[0m\u001b[0;34m.\u001b[0m\u001b[0m_hold\u001b[0m \u001b[0;34m=\u001b[0m \u001b[0mwashold\u001b[0m\u001b[0;34m\u001b[0m\u001b[0;34m\u001b[0m\u001b[0m\n",
      "\u001b[0;32m~/.local/lib/python3.6/site-packages/matplotlib/__init__.py\u001b[0m in \u001b[0;36minner\u001b[0;34m(ax, *args, **kwargs)\u001b[0m\n\u001b[1;32m   1853\u001b[0m                         \u001b[0;34m\"the Matplotlib list!)\"\u001b[0m \u001b[0;34m%\u001b[0m \u001b[0;34m(\u001b[0m\u001b[0mlabel_namer\u001b[0m\u001b[0;34m,\u001b[0m \u001b[0mfunc\u001b[0m\u001b[0;34m.\u001b[0m\u001b[0m__name__\u001b[0m\u001b[0;34m)\u001b[0m\u001b[0;34m,\u001b[0m\u001b[0;34m\u001b[0m\u001b[0;34m\u001b[0m\u001b[0m\n\u001b[1;32m   1854\u001b[0m                         RuntimeWarning, stacklevel=2)\n\u001b[0;32m-> 1855\u001b[0;31m             \u001b[0;32mreturn\u001b[0m \u001b[0mfunc\u001b[0m\u001b[0;34m(\u001b[0m\u001b[0max\u001b[0m\u001b[0;34m,\u001b[0m \u001b[0;34m*\u001b[0m\u001b[0margs\u001b[0m\u001b[0;34m,\u001b[0m \u001b[0;34m**\u001b[0m\u001b[0mkwargs\u001b[0m\u001b[0;34m)\u001b[0m\u001b[0;34m\u001b[0m\u001b[0;34m\u001b[0m\u001b[0m\n\u001b[0m\u001b[1;32m   1856\u001b[0m \u001b[0;34m\u001b[0m\u001b[0m\n\u001b[1;32m   1857\u001b[0m         inner.__doc__ = _add_data_doc(inner.__doc__,\n",
      "\u001b[0;32m~/.local/lib/python3.6/site-packages/matplotlib/axes/_axes.py\u001b[0m in \u001b[0;36mplot\u001b[0;34m(self, *args, **kwargs)\u001b[0m\n\u001b[1;32m   1525\u001b[0m         \u001b[0mkwargs\u001b[0m \u001b[0;34m=\u001b[0m \u001b[0mcbook\u001b[0m\u001b[0;34m.\u001b[0m\u001b[0mnormalize_kwargs\u001b[0m\u001b[0;34m(\u001b[0m\u001b[0mkwargs\u001b[0m\u001b[0;34m,\u001b[0m \u001b[0m_alias_map\u001b[0m\u001b[0;34m)\u001b[0m\u001b[0;34m\u001b[0m\u001b[0;34m\u001b[0m\u001b[0m\n\u001b[1;32m   1526\u001b[0m \u001b[0;34m\u001b[0m\u001b[0m\n\u001b[0;32m-> 1527\u001b[0;31m         \u001b[0;32mfor\u001b[0m \u001b[0mline\u001b[0m \u001b[0;32min\u001b[0m \u001b[0mself\u001b[0m\u001b[0;34m.\u001b[0m\u001b[0m_get_lines\u001b[0m\u001b[0;34m(\u001b[0m\u001b[0;34m*\u001b[0m\u001b[0margs\u001b[0m\u001b[0;34m,\u001b[0m \u001b[0;34m**\u001b[0m\u001b[0mkwargs\u001b[0m\u001b[0;34m)\u001b[0m\u001b[0;34m:\u001b[0m\u001b[0;34m\u001b[0m\u001b[0;34m\u001b[0m\u001b[0m\n\u001b[0m\u001b[1;32m   1528\u001b[0m             \u001b[0mself\u001b[0m\u001b[0;34m.\u001b[0m\u001b[0madd_line\u001b[0m\u001b[0;34m(\u001b[0m\u001b[0mline\u001b[0m\u001b[0;34m)\u001b[0m\u001b[0;34m\u001b[0m\u001b[0;34m\u001b[0m\u001b[0m\n\u001b[1;32m   1529\u001b[0m             \u001b[0mlines\u001b[0m\u001b[0;34m.\u001b[0m\u001b[0mappend\u001b[0m\u001b[0;34m(\u001b[0m\u001b[0mline\u001b[0m\u001b[0;34m)\u001b[0m\u001b[0;34m\u001b[0m\u001b[0;34m\u001b[0m\u001b[0m\n",
      "\u001b[0;32m~/.local/lib/python3.6/site-packages/matplotlib/axes/_base.py\u001b[0m in \u001b[0;36m_grab_next_args\u001b[0;34m(self, *args, **kwargs)\u001b[0m\n\u001b[1;32m    404\u001b[0m                 \u001b[0mthis\u001b[0m \u001b[0;34m+=\u001b[0m \u001b[0margs\u001b[0m\u001b[0;34m[\u001b[0m\u001b[0;36m0\u001b[0m\u001b[0;34m]\u001b[0m\u001b[0;34m,\u001b[0m\u001b[0;34m\u001b[0m\u001b[0;34m\u001b[0m\u001b[0m\n\u001b[1;32m    405\u001b[0m                 \u001b[0margs\u001b[0m \u001b[0;34m=\u001b[0m \u001b[0margs\u001b[0m\u001b[0;34m[\u001b[0m\u001b[0;36m1\u001b[0m\u001b[0;34m:\u001b[0m\u001b[0;34m]\u001b[0m\u001b[0;34m\u001b[0m\u001b[0;34m\u001b[0m\u001b[0m\n\u001b[0;32m--> 406\u001b[0;31m             \u001b[0;32mfor\u001b[0m \u001b[0mseg\u001b[0m \u001b[0;32min\u001b[0m \u001b[0mself\u001b[0m\u001b[0;34m.\u001b[0m\u001b[0m_plot_args\u001b[0m\u001b[0;34m(\u001b[0m\u001b[0mthis\u001b[0m\u001b[0;34m,\u001b[0m \u001b[0mkwargs\u001b[0m\u001b[0;34m)\u001b[0m\u001b[0;34m:\u001b[0m\u001b[0;34m\u001b[0m\u001b[0;34m\u001b[0m\u001b[0m\n\u001b[0m\u001b[1;32m    407\u001b[0m                 \u001b[0;32myield\u001b[0m \u001b[0mseg\u001b[0m\u001b[0;34m\u001b[0m\u001b[0;34m\u001b[0m\u001b[0m\n\u001b[1;32m    408\u001b[0m \u001b[0;34m\u001b[0m\u001b[0m\n",
      "\u001b[0;32m~/.local/lib/python3.6/site-packages/matplotlib/axes/_base.py\u001b[0m in \u001b[0;36m_plot_args\u001b[0;34m(self, tup, kwargs)\u001b[0m\n\u001b[1;32m    381\u001b[0m             \u001b[0mx\u001b[0m\u001b[0;34m,\u001b[0m \u001b[0my\u001b[0m \u001b[0;34m=\u001b[0m \u001b[0mindex_of\u001b[0m\u001b[0;34m(\u001b[0m\u001b[0mtup\u001b[0m\u001b[0;34m[\u001b[0m\u001b[0;34m-\u001b[0m\u001b[0;36m1\u001b[0m\u001b[0;34m]\u001b[0m\u001b[0;34m)\u001b[0m\u001b[0;34m\u001b[0m\u001b[0;34m\u001b[0m\u001b[0m\n\u001b[1;32m    382\u001b[0m \u001b[0;34m\u001b[0m\u001b[0m\n\u001b[0;32m--> 383\u001b[0;31m         \u001b[0mx\u001b[0m\u001b[0;34m,\u001b[0m \u001b[0my\u001b[0m \u001b[0;34m=\u001b[0m \u001b[0mself\u001b[0m\u001b[0;34m.\u001b[0m\u001b[0m_xy_from_xy\u001b[0m\u001b[0;34m(\u001b[0m\u001b[0mx\u001b[0m\u001b[0;34m,\u001b[0m \u001b[0my\u001b[0m\u001b[0;34m)\u001b[0m\u001b[0;34m\u001b[0m\u001b[0;34m\u001b[0m\u001b[0m\n\u001b[0m\u001b[1;32m    384\u001b[0m \u001b[0;34m\u001b[0m\u001b[0m\n\u001b[1;32m    385\u001b[0m         \u001b[0;32mif\u001b[0m \u001b[0mself\u001b[0m\u001b[0;34m.\u001b[0m\u001b[0mcommand\u001b[0m \u001b[0;34m==\u001b[0m \u001b[0;34m'plot'\u001b[0m\u001b[0;34m:\u001b[0m\u001b[0;34m\u001b[0m\u001b[0;34m\u001b[0m\u001b[0m\n",
      "\u001b[0;32m~/.local/lib/python3.6/site-packages/matplotlib/axes/_base.py\u001b[0m in \u001b[0;36m_xy_from_xy\u001b[0;34m(self, x, y)\u001b[0m\n\u001b[1;32m    240\u001b[0m         \u001b[0;32mif\u001b[0m \u001b[0mx\u001b[0m\u001b[0;34m.\u001b[0m\u001b[0mshape\u001b[0m\u001b[0;34m[\u001b[0m\u001b[0;36m0\u001b[0m\u001b[0;34m]\u001b[0m \u001b[0;34m!=\u001b[0m \u001b[0my\u001b[0m\u001b[0;34m.\u001b[0m\u001b[0mshape\u001b[0m\u001b[0;34m[\u001b[0m\u001b[0;36m0\u001b[0m\u001b[0;34m]\u001b[0m\u001b[0;34m:\u001b[0m\u001b[0;34m\u001b[0m\u001b[0;34m\u001b[0m\u001b[0m\n\u001b[1;32m    241\u001b[0m             raise ValueError(\"x and y must have same first dimension, but \"\n\u001b[0;32m--> 242\u001b[0;31m                              \"have shapes {} and {}\".format(x.shape, y.shape))\n\u001b[0m\u001b[1;32m    243\u001b[0m         \u001b[0;32mif\u001b[0m \u001b[0mx\u001b[0m\u001b[0;34m.\u001b[0m\u001b[0mndim\u001b[0m \u001b[0;34m>\u001b[0m \u001b[0;36m2\u001b[0m \u001b[0;32mor\u001b[0m \u001b[0my\u001b[0m\u001b[0;34m.\u001b[0m\u001b[0mndim\u001b[0m \u001b[0;34m>\u001b[0m \u001b[0;36m2\u001b[0m\u001b[0;34m:\u001b[0m\u001b[0;34m\u001b[0m\u001b[0;34m\u001b[0m\u001b[0m\n\u001b[1;32m    244\u001b[0m             raise ValueError(\"x and y can be no greater than 2-D, but have \"\n",
      "\u001b[0;31mValueError\u001b[0m: x and y must have same first dimension, but have shapes (10,) and (23,)"
     ]
    }
   ],
   "source": [
    "# plot pos en fct DC 1_1\n",
    "\n",
    "U_dc = [7,6,5,5.5,3,2,1.5,1,0.7,0.5]\n",
    "fig = plt.figure(num='pos nuage en fct DC').clf()\n",
    "plot(U_dc,x0_nuage[:-1],marker='+',ls='',label='x0',ms=10,mew=3)\n",
    "plot(U_dc,y0_nuage[:-1],marker='+',ls='',label='y0',ms=10,mew=3)\n",
    "xlabel('U_dc [V]')\n",
    "ylabel('position [µm]')\n",
    "plt.grid()\n",
    "plt.legend()\n",
    "tight_layout()"
   ]
  },
  {
   "cell_type": "code",
   "execution_count": 868,
   "metadata": {
    "scrolled": true
   },
   "outputs": [
    {
     "ename": "ValueError",
     "evalue": "x and y must have same first dimension, but have shapes (9,) and (24,)",
     "output_type": "error",
     "traceback": [
      "\u001b[0;31m---------------------------------------------------------------------------\u001b[0m",
      "\u001b[0;31mValueError\u001b[0m                                Traceback (most recent call last)",
      "\u001b[0;32m<ipython-input-868-4cb10eeea8ea>\u001b[0m in \u001b[0;36m<module>\u001b[0;34m()\u001b[0m\n\u001b[1;32m      3\u001b[0m \u001b[0mU_dc\u001b[0m \u001b[0;34m=\u001b[0m \u001b[0;34m[\u001b[0m\u001b[0;36m2\u001b[0m\u001b[0;34m,\u001b[0m\u001b[0;36m1.7\u001b[0m\u001b[0;34m,\u001b[0m\u001b[0;36m1.4\u001b[0m\u001b[0;34m,\u001b[0m\u001b[0;36m1.1\u001b[0m\u001b[0;34m,\u001b[0m\u001b[0;36m0.9\u001b[0m\u001b[0;34m,\u001b[0m\u001b[0;36m0.7\u001b[0m\u001b[0;34m,\u001b[0m\u001b[0;36m0.5\u001b[0m\u001b[0;34m,\u001b[0m\u001b[0;36m0.5\u001b[0m\u001b[0;34m,\u001b[0m\u001b[0;36m0.42\u001b[0m\u001b[0;34m]\u001b[0m\u001b[0;34m\u001b[0m\u001b[0;34m\u001b[0m\u001b[0m\n\u001b[1;32m      4\u001b[0m \u001b[0mfig\u001b[0m \u001b[0;34m=\u001b[0m \u001b[0mplt\u001b[0m\u001b[0;34m.\u001b[0m\u001b[0mfigure\u001b[0m\u001b[0;34m(\u001b[0m\u001b[0mnum\u001b[0m\u001b[0;34m=\u001b[0m\u001b[0;34m'pos nuage en fct DC'\u001b[0m\u001b[0;34m)\u001b[0m\u001b[0;34m.\u001b[0m\u001b[0mclf\u001b[0m\u001b[0;34m(\u001b[0m\u001b[0;34m)\u001b[0m\u001b[0;34m\u001b[0m\u001b[0;34m\u001b[0m\u001b[0m\n\u001b[0;32m----> 5\u001b[0;31m \u001b[0mplot\u001b[0m\u001b[0;34m(\u001b[0m\u001b[0mU_dc\u001b[0m\u001b[0;34m,\u001b[0m\u001b[0mx0_nuage\u001b[0m\u001b[0;34m,\u001b[0m\u001b[0mmarker\u001b[0m\u001b[0;34m=\u001b[0m\u001b[0;34m'+'\u001b[0m\u001b[0;34m,\u001b[0m\u001b[0mls\u001b[0m\u001b[0;34m=\u001b[0m\u001b[0;34m''\u001b[0m\u001b[0;34m,\u001b[0m\u001b[0mlabel\u001b[0m\u001b[0;34m=\u001b[0m\u001b[0;34m'x0'\u001b[0m\u001b[0;34m,\u001b[0m\u001b[0mms\u001b[0m\u001b[0;34m=\u001b[0m\u001b[0;36m10\u001b[0m\u001b[0;34m,\u001b[0m\u001b[0mmew\u001b[0m\u001b[0;34m=\u001b[0m\u001b[0;36m3\u001b[0m\u001b[0;34m)\u001b[0m\u001b[0;34m\u001b[0m\u001b[0;34m\u001b[0m\u001b[0m\n\u001b[0m\u001b[1;32m      6\u001b[0m \u001b[0mplot\u001b[0m\u001b[0;34m(\u001b[0m\u001b[0mU_dc\u001b[0m\u001b[0;34m,\u001b[0m\u001b[0my0_nuage\u001b[0m\u001b[0;34m,\u001b[0m\u001b[0mmarker\u001b[0m\u001b[0;34m=\u001b[0m\u001b[0;34m'+'\u001b[0m\u001b[0;34m,\u001b[0m\u001b[0mls\u001b[0m\u001b[0;34m=\u001b[0m\u001b[0;34m''\u001b[0m\u001b[0;34m,\u001b[0m\u001b[0mlabel\u001b[0m\u001b[0;34m=\u001b[0m\u001b[0;34m'y0'\u001b[0m\u001b[0;34m,\u001b[0m\u001b[0mms\u001b[0m\u001b[0;34m=\u001b[0m\u001b[0;36m10\u001b[0m\u001b[0;34m,\u001b[0m\u001b[0mmew\u001b[0m\u001b[0;34m=\u001b[0m\u001b[0;36m3\u001b[0m\u001b[0;34m)\u001b[0m\u001b[0;34m\u001b[0m\u001b[0;34m\u001b[0m\u001b[0m\n\u001b[1;32m      7\u001b[0m \u001b[0mxlabel\u001b[0m\u001b[0;34m(\u001b[0m\u001b[0;34m'U_dc [V]'\u001b[0m\u001b[0;34m)\u001b[0m\u001b[0;34m\u001b[0m\u001b[0;34m\u001b[0m\u001b[0m\n",
      "\u001b[0;32m~/.local/lib/python3.6/site-packages/matplotlib/pyplot.py\u001b[0m in \u001b[0;36mplot\u001b[0;34m(*args, **kwargs)\u001b[0m\n\u001b[1;32m   3356\u001b[0m                       mplDeprecation)\n\u001b[1;32m   3357\u001b[0m     \u001b[0;32mtry\u001b[0m\u001b[0;34m:\u001b[0m\u001b[0;34m\u001b[0m\u001b[0;34m\u001b[0m\u001b[0m\n\u001b[0;32m-> 3358\u001b[0;31m         \u001b[0mret\u001b[0m \u001b[0;34m=\u001b[0m \u001b[0max\u001b[0m\u001b[0;34m.\u001b[0m\u001b[0mplot\u001b[0m\u001b[0;34m(\u001b[0m\u001b[0;34m*\u001b[0m\u001b[0margs\u001b[0m\u001b[0;34m,\u001b[0m \u001b[0;34m**\u001b[0m\u001b[0mkwargs\u001b[0m\u001b[0;34m)\u001b[0m\u001b[0;34m\u001b[0m\u001b[0;34m\u001b[0m\u001b[0m\n\u001b[0m\u001b[1;32m   3359\u001b[0m     \u001b[0;32mfinally\u001b[0m\u001b[0;34m:\u001b[0m\u001b[0;34m\u001b[0m\u001b[0;34m\u001b[0m\u001b[0m\n\u001b[1;32m   3360\u001b[0m         \u001b[0max\u001b[0m\u001b[0;34m.\u001b[0m\u001b[0m_hold\u001b[0m \u001b[0;34m=\u001b[0m \u001b[0mwashold\u001b[0m\u001b[0;34m\u001b[0m\u001b[0;34m\u001b[0m\u001b[0m\n",
      "\u001b[0;32m~/.local/lib/python3.6/site-packages/matplotlib/__init__.py\u001b[0m in \u001b[0;36minner\u001b[0;34m(ax, *args, **kwargs)\u001b[0m\n\u001b[1;32m   1853\u001b[0m                         \u001b[0;34m\"the Matplotlib list!)\"\u001b[0m \u001b[0;34m%\u001b[0m \u001b[0;34m(\u001b[0m\u001b[0mlabel_namer\u001b[0m\u001b[0;34m,\u001b[0m \u001b[0mfunc\u001b[0m\u001b[0;34m.\u001b[0m\u001b[0m__name__\u001b[0m\u001b[0;34m)\u001b[0m\u001b[0;34m,\u001b[0m\u001b[0;34m\u001b[0m\u001b[0;34m\u001b[0m\u001b[0m\n\u001b[1;32m   1854\u001b[0m                         RuntimeWarning, stacklevel=2)\n\u001b[0;32m-> 1855\u001b[0;31m             \u001b[0;32mreturn\u001b[0m \u001b[0mfunc\u001b[0m\u001b[0;34m(\u001b[0m\u001b[0max\u001b[0m\u001b[0;34m,\u001b[0m \u001b[0;34m*\u001b[0m\u001b[0margs\u001b[0m\u001b[0;34m,\u001b[0m \u001b[0;34m**\u001b[0m\u001b[0mkwargs\u001b[0m\u001b[0;34m)\u001b[0m\u001b[0;34m\u001b[0m\u001b[0;34m\u001b[0m\u001b[0m\n\u001b[0m\u001b[1;32m   1856\u001b[0m \u001b[0;34m\u001b[0m\u001b[0m\n\u001b[1;32m   1857\u001b[0m         inner.__doc__ = _add_data_doc(inner.__doc__,\n",
      "\u001b[0;32m~/.local/lib/python3.6/site-packages/matplotlib/axes/_axes.py\u001b[0m in \u001b[0;36mplot\u001b[0;34m(self, *args, **kwargs)\u001b[0m\n\u001b[1;32m   1525\u001b[0m         \u001b[0mkwargs\u001b[0m \u001b[0;34m=\u001b[0m \u001b[0mcbook\u001b[0m\u001b[0;34m.\u001b[0m\u001b[0mnormalize_kwargs\u001b[0m\u001b[0;34m(\u001b[0m\u001b[0mkwargs\u001b[0m\u001b[0;34m,\u001b[0m \u001b[0m_alias_map\u001b[0m\u001b[0;34m)\u001b[0m\u001b[0;34m\u001b[0m\u001b[0;34m\u001b[0m\u001b[0m\n\u001b[1;32m   1526\u001b[0m \u001b[0;34m\u001b[0m\u001b[0m\n\u001b[0;32m-> 1527\u001b[0;31m         \u001b[0;32mfor\u001b[0m \u001b[0mline\u001b[0m \u001b[0;32min\u001b[0m \u001b[0mself\u001b[0m\u001b[0;34m.\u001b[0m\u001b[0m_get_lines\u001b[0m\u001b[0;34m(\u001b[0m\u001b[0;34m*\u001b[0m\u001b[0margs\u001b[0m\u001b[0;34m,\u001b[0m \u001b[0;34m**\u001b[0m\u001b[0mkwargs\u001b[0m\u001b[0;34m)\u001b[0m\u001b[0;34m:\u001b[0m\u001b[0;34m\u001b[0m\u001b[0;34m\u001b[0m\u001b[0m\n\u001b[0m\u001b[1;32m   1528\u001b[0m             \u001b[0mself\u001b[0m\u001b[0;34m.\u001b[0m\u001b[0madd_line\u001b[0m\u001b[0;34m(\u001b[0m\u001b[0mline\u001b[0m\u001b[0;34m)\u001b[0m\u001b[0;34m\u001b[0m\u001b[0;34m\u001b[0m\u001b[0m\n\u001b[1;32m   1529\u001b[0m             \u001b[0mlines\u001b[0m\u001b[0;34m.\u001b[0m\u001b[0mappend\u001b[0m\u001b[0;34m(\u001b[0m\u001b[0mline\u001b[0m\u001b[0;34m)\u001b[0m\u001b[0;34m\u001b[0m\u001b[0;34m\u001b[0m\u001b[0m\n",
      "\u001b[0;32m~/.local/lib/python3.6/site-packages/matplotlib/axes/_base.py\u001b[0m in \u001b[0;36m_grab_next_args\u001b[0;34m(self, *args, **kwargs)\u001b[0m\n\u001b[1;32m    404\u001b[0m                 \u001b[0mthis\u001b[0m \u001b[0;34m+=\u001b[0m \u001b[0margs\u001b[0m\u001b[0;34m[\u001b[0m\u001b[0;36m0\u001b[0m\u001b[0;34m]\u001b[0m\u001b[0;34m,\u001b[0m\u001b[0;34m\u001b[0m\u001b[0;34m\u001b[0m\u001b[0m\n\u001b[1;32m    405\u001b[0m                 \u001b[0margs\u001b[0m \u001b[0;34m=\u001b[0m \u001b[0margs\u001b[0m\u001b[0;34m[\u001b[0m\u001b[0;36m1\u001b[0m\u001b[0;34m:\u001b[0m\u001b[0;34m]\u001b[0m\u001b[0;34m\u001b[0m\u001b[0;34m\u001b[0m\u001b[0m\n\u001b[0;32m--> 406\u001b[0;31m             \u001b[0;32mfor\u001b[0m \u001b[0mseg\u001b[0m \u001b[0;32min\u001b[0m \u001b[0mself\u001b[0m\u001b[0;34m.\u001b[0m\u001b[0m_plot_args\u001b[0m\u001b[0;34m(\u001b[0m\u001b[0mthis\u001b[0m\u001b[0;34m,\u001b[0m \u001b[0mkwargs\u001b[0m\u001b[0;34m)\u001b[0m\u001b[0;34m:\u001b[0m\u001b[0;34m\u001b[0m\u001b[0;34m\u001b[0m\u001b[0m\n\u001b[0m\u001b[1;32m    407\u001b[0m                 \u001b[0;32myield\u001b[0m \u001b[0mseg\u001b[0m\u001b[0;34m\u001b[0m\u001b[0;34m\u001b[0m\u001b[0m\n\u001b[1;32m    408\u001b[0m \u001b[0;34m\u001b[0m\u001b[0m\n",
      "\u001b[0;32m~/.local/lib/python3.6/site-packages/matplotlib/axes/_base.py\u001b[0m in \u001b[0;36m_plot_args\u001b[0;34m(self, tup, kwargs)\u001b[0m\n\u001b[1;32m    381\u001b[0m             \u001b[0mx\u001b[0m\u001b[0;34m,\u001b[0m \u001b[0my\u001b[0m \u001b[0;34m=\u001b[0m \u001b[0mindex_of\u001b[0m\u001b[0;34m(\u001b[0m\u001b[0mtup\u001b[0m\u001b[0;34m[\u001b[0m\u001b[0;34m-\u001b[0m\u001b[0;36m1\u001b[0m\u001b[0;34m]\u001b[0m\u001b[0;34m)\u001b[0m\u001b[0;34m\u001b[0m\u001b[0;34m\u001b[0m\u001b[0m\n\u001b[1;32m    382\u001b[0m \u001b[0;34m\u001b[0m\u001b[0m\n\u001b[0;32m--> 383\u001b[0;31m         \u001b[0mx\u001b[0m\u001b[0;34m,\u001b[0m \u001b[0my\u001b[0m \u001b[0;34m=\u001b[0m \u001b[0mself\u001b[0m\u001b[0;34m.\u001b[0m\u001b[0m_xy_from_xy\u001b[0m\u001b[0;34m(\u001b[0m\u001b[0mx\u001b[0m\u001b[0;34m,\u001b[0m \u001b[0my\u001b[0m\u001b[0;34m)\u001b[0m\u001b[0;34m\u001b[0m\u001b[0;34m\u001b[0m\u001b[0m\n\u001b[0m\u001b[1;32m    384\u001b[0m \u001b[0;34m\u001b[0m\u001b[0m\n\u001b[1;32m    385\u001b[0m         \u001b[0;32mif\u001b[0m \u001b[0mself\u001b[0m\u001b[0;34m.\u001b[0m\u001b[0mcommand\u001b[0m \u001b[0;34m==\u001b[0m \u001b[0;34m'plot'\u001b[0m\u001b[0;34m:\u001b[0m\u001b[0;34m\u001b[0m\u001b[0;34m\u001b[0m\u001b[0m\n",
      "\u001b[0;32m~/.local/lib/python3.6/site-packages/matplotlib/axes/_base.py\u001b[0m in \u001b[0;36m_xy_from_xy\u001b[0;34m(self, x, y)\u001b[0m\n\u001b[1;32m    240\u001b[0m         \u001b[0;32mif\u001b[0m \u001b[0mx\u001b[0m\u001b[0;34m.\u001b[0m\u001b[0mshape\u001b[0m\u001b[0;34m[\u001b[0m\u001b[0;36m0\u001b[0m\u001b[0;34m]\u001b[0m \u001b[0;34m!=\u001b[0m \u001b[0my\u001b[0m\u001b[0;34m.\u001b[0m\u001b[0mshape\u001b[0m\u001b[0;34m[\u001b[0m\u001b[0;36m0\u001b[0m\u001b[0;34m]\u001b[0m\u001b[0;34m:\u001b[0m\u001b[0;34m\u001b[0m\u001b[0;34m\u001b[0m\u001b[0m\n\u001b[1;32m    241\u001b[0m             raise ValueError(\"x and y must have same first dimension, but \"\n\u001b[0;32m--> 242\u001b[0;31m                              \"have shapes {} and {}\".format(x.shape, y.shape))\n\u001b[0m\u001b[1;32m    243\u001b[0m         \u001b[0;32mif\u001b[0m \u001b[0mx\u001b[0m\u001b[0;34m.\u001b[0m\u001b[0mndim\u001b[0m \u001b[0;34m>\u001b[0m \u001b[0;36m2\u001b[0m \u001b[0;32mor\u001b[0m \u001b[0my\u001b[0m\u001b[0;34m.\u001b[0m\u001b[0mndim\u001b[0m \u001b[0;34m>\u001b[0m \u001b[0;36m2\u001b[0m\u001b[0;34m:\u001b[0m\u001b[0;34m\u001b[0m\u001b[0;34m\u001b[0m\u001b[0m\n\u001b[1;32m    244\u001b[0m             raise ValueError(\"x and y can be no greater than 2-D, but have \"\n",
      "\u001b[0;31mValueError\u001b[0m: x and y must have same first dimension, but have shapes (9,) and (24,)"
     ]
    }
   ],
   "source": [
    "# plot pos en fct DC 1_2\n",
    "\n",
    "U_dc = [2,1.7,1.4,1.1,0.9,0.7,0.5,0.5,0.42]\n",
    "fig = plt.figure(num='pos nuage en fct DC').clf()\n",
    "plot(U_dc,x0_nuage,marker='+',ls='',label='x0',ms=10,mew=3)\n",
    "plot(U_dc,y0_nuage,marker='+',ls='',label='y0',ms=10,mew=3)\n",
    "xlabel('U_dc [V]')\n",
    "ylabel('position [µm]')\n",
    "plt.grid()\n",
    "plt.legend()\n",
    "tight_layout()"
   ]
  },
  {
   "cell_type": "code",
   "execution_count": 846,
   "metadata": {},
   "outputs": [],
   "source": [
    "# plot pos en fct DC 1_4 sans EGun\n",
    "\n",
    "U_dc = [2,1.7,1.4,1.1,0.9,0.7]\n",
    "fig = plt.figure(num='pos nuage en fct DC').clf()\n",
    "plot(U_dc,x0_nuage[:],marker='+',ls='',label='x0',ms=10,mew=3)\n",
    "plot(U_dc,y0_nuage[:],marker='+',ls='',label='y0',ms=10,mew=3)\n",
    "xlabel('U_dc [V]')\n",
    "ylabel('position [µm]')\n",
    "plt.grid()\n",
    "plt.legend()\n",
    "tight_layout()"
   ]
  },
  {
   "cell_type": "code",
   "execution_count": 79,
   "metadata": {},
   "outputs": [],
   "source": [
    "# plot pos en fct DC 2 sans EGun\n",
    "\n",
    "U_dc = [4,3,2,1.5,1,0.8,0.7,4,5,6,7,8, 4,3,2,1.5,1,0.8,0.7,4,5,6,7,8]\n",
    "fig = plt.figure(num='pos nuage en fct DC').clf()\n",
    "plot(U_dc[:12],x0_nuage[:12],marker='+',ls='',label='$r^\\star$',color='C0',ms=10,mew=3)\n",
    "plot(U_dc[12:],x0_nuage[12:],marker='+',ls='',label='',color='C0',ms=10,mew=3)\n",
    "plot(U_dc[:12],y0_nuage[:12],marker='+',ls='',label='$z$',color='C1',ms=10,mew=3)\n",
    "plot(U_dc[12:],y0_nuage[12:],marker='+',ls='',label='',color='C1',ms=10,mew=3)\n",
    "xlabel('$U_{DC}$ [V]')\n",
    "ylabel('Position [µm]')\n",
    "plt.grid()\n",
    "plt.legend()\n",
    "tight_layout()"
   ]
  },
  {
   "cell_type": "code",
   "execution_count": 87,
   "metadata": {},
   "outputs": [
    {
     "data": {
      "text/plain": [
       "24"
      ]
     },
     "execution_count": 87,
     "metadata": {},
     "output_type": "execute_result"
    }
   ],
   "source": [
    "len(x0_nuage)"
   ]
  },
  {
   "cell_type": "code",
   "execution_count": 74,
   "metadata": {},
   "outputs": [
    {
     "name": "stdout",
     "output_type": "stream",
     "text": [
      "[-8.95690488e+13  7.07709523e+02] [[ 1.11111654e+24 -1.87742524e+12]\n",
      " [-1.87742524e+12  5.28635563e+00]]\n"
     ]
    }
   ],
   "source": [
    "# plot pos en fct DC 2 sans EGun\n",
    "\n",
    "U_dc = [4,3,2,1.5,1,0.8,0.7,4,5,6,7,8, 4,3,2,1.5,1,0.8,0.7,4,5,6,7,8]\n",
    "w_z = multiply(2*C_e*mkappa/m_Ca/d0**2,U_dc)\n",
    "\n",
    "keep_forfit = [0,1,2,3,4,7,8,9,10,12,13,14,15,16,17,18,19,20,21,22,23]\n",
    "w_z_forplot = [1/w_z[ll] for ll in keep_forfit]\n",
    "x0_nuage_forfit = [x0_nuage[ll] for ll in keep_forfit]\n",
    "y0_nuage_forfit = [y0_nuage[ll] for ll in keep_forfit]\n",
    "\n",
    "fig = figure(num='pos nuage en fct DC wz',clear='True')\n",
    "ax = fig.add_subplot(1, 1, 1)\n",
    "ax.plot(w_z_forplot,x0_nuage_forfit,marker='+',ls='',label='$r^\\star$',color='C0',ms=10,mew=3)\n",
    "ax.plot(w_z_forplot,y0_nuage_forfit,marker='+',ls='',label='$z$',color='C1',ms=10,mew=3)\n",
    "\n",
    "keep_forfit = [0,1,2,3,4,7,8,9,10,12,13,14,15,16,17,18,19,20,21,22,23]\n",
    "w_z_forplot = [1/w_z[ll] for ll in keep_forfit]\n",
    "y0_nuage_forfit = [y0_nuage[ll] for ll in keep_forfit]\n",
    "\n",
    "my_lin_fit, my_lin_corr = curve_fit( my_lin_func, w_z_forplot, y0_nuage_forfit, p0=[-1e12,725])\n",
    "my_lin_fit_x = linspace(3.12e-13,0.533e-11,1000)\n",
    "print(my_lin_fit,my_lin_corr)\n",
    "ax.plot(my_lin_fit_x,my_lin_func(my_lin_fit_x,*my_lin_fit),marker='',ls='--',label='lin. fit',color='C1',ms=10,mew=3)\n",
    "\n",
    "ax.yaxis.set_major_locator(matplotlib.ticker.MultipleLocator(base=50)) \n",
    "\n",
    "ax.set_xlabel('$\\omega_z^{-2}$ [Hz$^{-2}$]')\n",
    "ax.set_ylabel('Position [µm]')\n",
    "ax.set_xlim(-1e-13,5.36e-12)\n",
    "\n",
    "ax.text(3e-12,450,f'z = {my_lin_fit[0]:.3e}x + {my_lin_fit[1]:.1f}',color='C3')\n",
    "\n",
    "plt.grid()\n",
    "plt.legend()\n",
    "tight_layout()"
   ]
  },
  {
   "cell_type": "code",
   "execution_count": 67,
   "metadata": {},
   "outputs": [
    {
     "name": "stdout",
     "output_type": "stream",
     "text": [
      "-89.56904878005483\n",
      "-0.148836971374124\n"
     ]
    }
   ],
   "source": [
    "# calcul potentiel contact\n",
    "print(my_lin_fit[0]*1e-12)\n",
    "V_c = 2*m_Ca*d0/C_e * (my_lin_fit[0]*1e-6)\n",
    "print(V_c)"
   ]
  },
  {
   "cell_type": "code",
   "execution_count": 65,
   "metadata": {},
   "outputs": [
    {
     "data": {
      "text/plain": [
       "0.002"
      ]
     },
     "execution_count": 65,
     "metadata": {},
     "output_type": "execute_result"
    }
   ],
   "source": [
    "d0"
   ]
  },
  {
   "cell_type": "code",
   "execution_count": 58,
   "metadata": {},
   "outputs": [
    {
     "data": {
      "text/plain": [
       "<matplotlib.image.AxesImage at 0x7fa030674780>"
      ]
     },
     "execution_count": 58,
     "metadata": {},
     "output_type": "execute_result"
    }
   ],
   "source": [
    "# affiche image et profil\n",
    "to_plot = 3\n",
    "image = img[to_plot]\n",
    "w = 2048/300\n",
    "h = 2040/300\n",
    "fname = image_name[to_plot]\n",
    "fig = plt.figure(frameon=False,num=fname)\n",
    "fig.set_size_inches(w,h)\n",
    "\n",
    "ax = plt.Axes(fig, [0., 0., 1., 1.])\n",
    "ax.set_axis_off()\n",
    "fig.add_axes(ax)\n",
    "\n",
    "scalebar = ScaleBar(6.5e-6/12,location=3,\n",
    "                    length_fraction=0.15,border_pad=2,frameon='True') # size of 1 pixel\n",
    "ax.add_artist(scalebar)\n",
    "\n",
    "ax.imshow(image, cmap='gray', aspect='auto', origin='upper')\n",
    "# fig.savefig(fname, dpi=300)"
   ]
  },
  {
   "cell_type": "code",
   "execution_count": 59,
   "metadata": {},
   "outputs": [
    {
     "data": {
      "text/plain": [
       "-35.995900230260645"
      ]
     },
     "execution_count": 59,
     "metadata": {},
     "output_type": "execute_result"
    }
   ],
   "source": [
    "y0_nuage[0]-y0_nuage[-1]"
   ]
  }
 ],
 "metadata": {
  "kernelspec": {
   "display_name": "Python 3",
   "language": "python",
   "name": "python3"
  },
  "language_info": {
   "codemirror_mode": {
    "name": "ipython",
    "version": 3
   },
   "file_extension": ".py",
   "mimetype": "text/x-python",
   "name": "python",
   "nbconvert_exporter": "python",
   "pygments_lexer": "ipython3",
   "version": "3.6.7"
  }
 },
 "nbformat": 4,
 "nbformat_minor": 2
}
