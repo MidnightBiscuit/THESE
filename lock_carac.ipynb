{
 "cells": [
  {
   "cell_type": "code",
   "execution_count": 1,
   "metadata": {},
   "outputs": [],
   "source": [
    "import pylab\n",
    "import numpy as np\n",
    "import scipy\n",
    "import matplotlib\n",
    "\n",
    "%matplotlib qt"
   ]
  },
  {
   "cell_type": "code",
   "execution_count": 2,
   "metadata": {},
   "outputs": [],
   "source": [
    "from scipy.signal import decimate, periodogram, welch, windows, argrelextrema, find_peaks\n",
    "from matplotlib import cm\n",
    "from scipy.optimize import curve_fit\n",
    "# cm = pylab.get_cmap('jet')\n",
    "from mpl_toolkits.axes_grid1.inset_locator import zoomed_inset_axes\n",
    "from mpl_toolkits.axes_grid1.inset_locator import mark_inset"
   ]
  },
  {
   "cell_type": "code",
   "execution_count": 3,
   "metadata": {},
   "outputs": [],
   "source": [
    "%matplotlib qt\n",
    "matplotlib.rcParams['figure.figsize'] = [10.5,7]\n",
    "matplotlib.rcParams.update({'font.size': 25})\n",
    "\n",
    "\n",
    "# # Say, \"the default sans-serif font is COMIC SANS\"\n",
    "# matplotlib.rcParams['font.sans-serif'] = \"Myriad pro\"\n",
    "# # Then, \"ALWAYS use sans-serif fonts\"\n",
    "# matplotlib.rcParams['font.family'] = \"sans-serif\""
   ]
  },
  {
   "cell_type": "code",
   "execution_count": 4,
   "metadata": {},
   "outputs": [],
   "source": [
    "%run /home/adrian/PycharmProjects/data_analysis/data_fct_Adrien.py"
   ]
  },
  {
   "cell_type": "code",
   "execution_count": 5,
   "metadata": {},
   "outputs": [],
   "source": [
    "# sélection des fichiers donnée (Python 3)\n",
    "file_path = load_file_GUI('/home/adrian/Documents/Mesures/')\n",
    "filename = file_path\n",
    "# print(file_path)"
   ]
  },
  {
   "cell_type": "code",
   "execution_count": 6,
   "metadata": {},
   "outputs": [],
   "source": [
    "the_col_to_read = (0,1)     # lecroy  (3,4,5) (0,1,2)     labview  (0,1)\n",
    "the_row_to_skip = 5           # lecroy  11         2        labview  1\n",
    "the_delim = ';'               # lecroy  ','       ','       labview  '\\t'\n",
    "\n",
    "data_dico = {}\n",
    "data_dico = import_data(file_path,\n",
    "                        row_skip=the_row_to_skip,\n",
    "                        col_to_read=the_col_to_read,\n",
    "                        delim=the_delim)\n",
    "\n",
    "TP,CH = convert_dico_to_var(data_dico)"
   ]
  },
  {
   "cell_type": "code",
   "execution_count": 7,
   "metadata": {},
   "outputs": [
    {
     "name": "stdout",
     "output_type": "stream",
     "text": [
      "dt[0] = 2.0000e-07sec\n",
      "dt[1] = 2.0000e-07sec\n",
      "dt[2] = 2.0000e-07sec\n",
      "dt[3] = 2.0000e-07sec\n"
     ]
    }
   ],
   "source": [
    "# temps entre deux échantillons (si constant)\n",
    "dt = [TP[k][590] - TP[k][589] for k in range(0,len(file_path))]\n",
    "# sample_start = 50000\n",
    "# sample_end = 25000*60+50000\n",
    "for k in range(0,len(file_path)):\n",
    "    print('{}{}{}{:.4e}{}'.format('dt[', k, '] = ',dt[k],'sec'))"
   ]
  },
  {
   "cell_type": "code",
   "execution_count": 8,
   "metadata": {},
   "outputs": [],
   "source": [
    "cm = pylab.get_cmap('gist_rainbow')"
   ]
  },
  {
   "cell_type": "code",
   "execution_count": 91,
   "metadata": {},
   "outputs": [],
   "source": [
    "# plot all\n",
    "# start = 4000\n",
    "# end = 33200\n",
    "# sc = ['U1','U7','U111']\n",
    "\n",
    "my_label = ['HC signal [1V/div]', '793 phot.d. [0.5V/div]', '397 phot.d. [0.5V/div]','Rampe']\n",
    "my_color = ['xkcd:dark yellow','xkcd:rouge','xkcd:azul']\n",
    "my_scale = [1,20,20,1]\n",
    "\n",
    "fig,ax = plt.subplots(1,1, sharex=True, sharey=True,num='lock_cavite',clear=True)\n",
    "# clf()\n",
    "fig.set_size_inches(11.69,8.27)\n",
    "\n",
    "# title('Scans 866')\n",
    "# ax2 = fig.add_subplot(212,sharex=ax1)\n",
    "cnt = 0\n",
    "for patate in range(3):\n",
    "    ax.plot(TP[patate]*1000, CH[patate,0,:]*my_scale[patate],\n",
    "            color=my_color[patate],marker='',ms=2,ls='-',\n",
    "            label = my_label [patate])\n",
    "    \n",
    "ax.set_xlabel('Time [ms]')\n",
    "ax.set_ylabel('Oscilloscope divisions')   \n",
    "ax.set_xlim(-16,22)\n",
    "\n",
    "\n",
    "ax.xaxis.set_major_locator(matplotlib.ticker.MultipleLocator(base=5))\n",
    "ax.yaxis.set_major_locator(matplotlib.ticker.MultipleLocator(base=1))\n",
    "# ax.set_xlim(-20,150)\n",
    "    # ax1.set_xlim(-10.5,11)\n",
    "    # ax1.set_ylim(0,4)\n",
    "ax.grid()\n",
    "leg = legend(loc=4)\n",
    "# leg.get_title().set_fontsize(15)\n",
    "# cnt += 1\n",
    "\n",
    "# ax1.set_xlim(-3,128)\n",
    "# ax1.set_ylim(-7,1.5)\n",
    "plt.tight_layout()\n",
    "# fig.subplots_adjust(hspace=0.020, wspace=0.020,top=0.94)"
   ]
  },
  {
   "cell_type": "code",
   "execution_count": 16,
   "metadata": {},
   "outputs": [
    {
     "data": {
      "text/plain": [
       "(9.99998000004, 6720.421119866916)"
      ]
     },
     "execution_count": 16,
     "metadata": {},
     "output_type": "execute_result"
    }
   ],
   "source": [
    "10*1e6/len(TP[0]),1/(TP[0,-1]/1000)"
   ]
  },
  {
   "cell_type": "code",
   "execution_count": 19,
   "metadata": {},
   "outputs": [
    {
     "data": {
      "text/plain": [
       "(65537, 65536)"
      ]
     },
     "execution_count": 19,
     "metadata": {},
     "output_type": "execute_result"
    }
   ],
   "source": [
    "len(psd),2**16"
   ]
  },
  {
   "cell_type": "code",
   "execution_count": 85,
   "metadata": {},
   "outputs": [
    {
     "name": "stderr",
     "output_type": "stream",
     "text": [
      "/home/adrian/.local/lib/python3.6/site-packages/matplotlib/axes/_base.py:3129: UserWarning: Attempted to set non-positive xlimits for log-scale axis; invalid limits will be ignored.\n",
      "  'Attempted to set non-positive xlimits for log-scale axis; '\n"
     ]
    }
   ],
   "source": [
    "from scipy import signal\n",
    "\n",
    "\n",
    "# my_label = ['HC signal 1V/div', '793 pht.d. 0.5V/div', '397 pht.d. 0.5V/div','Rampe']\n",
    "# my_color = ['xkcd:dark yellow','xkcd:rouge','xkcd:azul']\n",
    "# my_scale = [1,20,20,1]\n",
    "\n",
    "fig,ax = plt.subplots(2,1, sharex=True, sharey=False,num='PSD_lock_cavite',clear=True)\n",
    "my_sub=[0,1,1]\n",
    "my_fact=[1,1e6,1e6]\n",
    "fig.set_size_inches(11.69,6)\n",
    "\n",
    "for patate in range(3):\n",
    "    freqs, psd = signal.welch(CH[patate,0,:],1/dt[patate],nperseg=2**17)\n",
    "    ax[my_sub[patate]].semilogx(freqs[1:],psd[1:]*my_fact[patate],\n",
    "            color=my_color[patate],marker='+',ms=8,mew=3,ls=':')\n",
    "\n",
    "    \n",
    "ax[1].set_xlabel('frequency [Hz]')\n",
    "ax[0].set_ylabel(r'PSD' '\\n' '[V**2/Hz]')   \n",
    "ax[1].set_ylabel(r'$10^6\\times$PSD' '\\n' '[V**2/Hz]',labelpad=20) \n",
    "ax[0].set_xlim(23,31000)\n",
    "\n",
    "# ax[0].xaxis.set_ticklabels([])\n",
    "# ax[0].get_xaxis().set_visible(False)\n",
    "ax[0].grid(True, which=\"major\")\n",
    "ax[1].grid(True, which=\"major\")\n",
    "\n",
    "ax[0].grid(b=True, which='minor', linestyle='--')\n",
    "ax[1].grid(b=True, which='minor', linestyle='--')\n",
    "# ax[0].grid()\n",
    "# ax[1].grid()\n",
    "\n",
    "\n",
    "# ax.xaxis.set_major_locator(matplotlib.ticker.MultipleLocator(base=5))\n",
    "# ax.yaxis.set_major_locator(matplotlib.ticker.MultipleLocator(base=1))\n",
    "\n",
    "\n",
    "plt.tight_layout()\n",
    "subplots_adjust(left=None, bottom=None, right=None, top=None,hspace=0.0)"
   ]
  }
 ],
 "metadata": {
  "kernelspec": {
   "display_name": "Python 3",
   "language": "python",
   "name": "python3"
  },
  "language_info": {
   "codemirror_mode": {
    "name": "ipython",
    "version": 3
   },
   "file_extension": ".py",
   "mimetype": "text/x-python",
   "name": "python",
   "nbconvert_exporter": "python",
   "pygments_lexer": "ipython3",
   "version": "3.6.7"
  }
 },
 "nbformat": 4,
 "nbformat_minor": 2
}
