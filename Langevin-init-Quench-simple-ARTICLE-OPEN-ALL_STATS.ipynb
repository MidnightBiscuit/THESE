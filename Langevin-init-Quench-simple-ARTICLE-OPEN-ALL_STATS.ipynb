{
 "cells": [
  {
   "cell_type": "code",
   "execution_count": 1,
   "metadata": {},
   "outputs": [],
   "source": [
    "###########################################################\n",
    "#                                                         #\n",
    "#               TRAITEMENT SIMUS FORTRAN                  #\n",
    "#                     STATISTIQUES                        #\n",
    "#                          11/2020     Adrien Poindron    #\n",
    "###########################################################"
   ]
  },
  {
   "cell_type": "markdown",
   "metadata": {},
   "source": [
    "# Imports"
   ]
  },
  {
   "cell_type": "code",
   "execution_count": 2,
   "metadata": {},
   "outputs": [],
   "source": [
    "# %pylab\n",
    "\n",
    "import numpy\n",
    "import matplotlib\n",
    "from matplotlib import pylab, mlab, pyplot\n",
    "from mpl_toolkits.mplot3d import Axes3D\n",
    "np = numpy\n",
    "plt = pyplot\n",
    "\n",
    "from pylab import *\n",
    "from numpy import *"
   ]
  },
  {
   "cell_type": "code",
   "execution_count": 3,
   "metadata": {},
   "outputs": [],
   "source": [
    "import os\n",
    "from os import listdir\n",
    "from os.path import isfile, join\n",
    "\n",
    "import tkinter as tk\n",
    "from tkinter import filedialog\n",
    "%matplotlib qt\n",
    "\n",
    "from pathlib import Path"
   ]
  },
  {
   "cell_type": "code",
   "execution_count": 4,
   "metadata": {},
   "outputs": [],
   "source": [
    "from natsort import natsorted   # natural sort marche de ouf\n",
    "import re                       # find '/' in strings\n",
    "import timeit\n",
    "cm = pylab.get_cmap('summer')   # colormap par défaut color=cm(k/len(array))"
   ]
  },
  {
   "cell_type": "code",
   "execution_count": 5,
   "metadata": {},
   "outputs": [],
   "source": [
    "from pathlib import Path\n",
    "from matplotlib import gridspec\n",
    "from mpl_toolkits.axes_grid1.inset_locator import zoomed_inset_axes\n",
    "from mpl_toolkits.axes_grid1.inset_locator import mark_inset\n",
    "from scipy.signal import savgol_filter"
   ]
  },
  {
   "cell_type": "code",
   "execution_count": 6,
   "metadata": {},
   "outputs": [],
   "source": [
    "# Fonctions persos de Jofre et Adrien\n",
    "\n",
    "# %run function_jofre.ipy\n",
    "# %run ../../Functions/1.2/data_fct_Adrien_point_by_point\n",
    "%run ../GiantMol/Functions/1.2/data_fct_Adrien_point_by_point\n",
    "\n",
    "matplotlib.rcParams.update({'font.size': 25})"
   ]
  },
  {
   "cell_type": "code",
   "execution_count": 7,
   "metadata": {},
   "outputs": [
    {
     "name": "stdout",
     "output_type": "stream",
     "text": [
      "$\\kappa_{simion}$ = 0.270471\n"
     ]
    }
   ],
   "source": [
    "# Constantes de la physique\n",
    "# ABSOLUMENT RECHARGER APRÈS AVOIR EXECUTÉ LES CASES D'IMPORT AU DESSUS\n",
    "\n",
    "C_e = 1.602e-19        # Coulomb\n",
    "kb = 1.38064852*1e-23  # Boltzman\n",
    "m_Ca = 40.078*1.66054e-27 # masse Ca 40.078\n",
    "m_GM = 1e6*1.66054e-27 # la masse de la GMol\n",
    "eps0 = 8.854187*1e-12  # permittivité électrique du vide\n",
    "\n",
    "r0 = 2.5e-3 # 2.5e-3   # rayon piège Ca+\n",
    "d0 = 4e-3/2            # longueur piège Ca+\n",
    "\n",
    "Omega = 2.00e6*2*pi # 2.047e6\n",
    "\n",
    "bk = 4 # nombre de barreaux par groupe (2 -> 4-pole , 4 -> 8-pole ...)\n",
    "\n",
    "mkappa = 0.23  # écrantage piège réel GiantMol\n",
    "wzLC = (2*pi*90806.9982303)**2\n",
    "kappa_simion = m_Ca*d0**2*wzLC/(2*C_e)\n",
    "print('%s = %f' % ('$\\kappa_{simion}$',kappa_simion) )\n",
    "\n",
    "zeta = kappa_simion*r0**2/d0**2"
   ]
  },
  {
   "cell_type": "code",
   "execution_count": 8,
   "metadata": {},
   "outputs": [],
   "source": [
    "renorm = 0.5*m_GM/C_e"
   ]
  },
  {
   "cell_type": "markdown",
   "metadata": {},
   "source": [
    "# Sélection fichiers et chargement des données"
   ]
  },
  {
   "cell_type": "code",
   "execution_count": 9,
   "metadata": {},
   "outputs": [],
   "source": [
    "def load_file_GUI(dir_string):\n",
    "\n",
    "    root = tk.Tk()\n",
    "    root.withdraw()\n",
    "\n",
    "    file_path = filedialog.askopenfilename(initialdir = dir_string,\n",
    "                                       multiple=True)\n",
    "    return file_path"
   ]
  },
  {
   "cell_type": "code",
   "execution_count": 10,
   "metadata": {},
   "outputs": [
    {
     "name": "stdout",
     "output_type": "stream",
     "text": [
      "('/home/adrian/Documents/Programmes/Python/GiantMol/SimAnalysisPointbyPoint/2.1/All_stat_DC01_RF08_50eV.npz', '/home/adrian/Documents/Programmes/Python/GiantMol/SimAnalysisPointbyPoint/2.1/All_stat_DC01_RF09_50eV.npz', '/home/adrian/Documents/Programmes/Python/GiantMol/SimAnalysisPointbyPoint/2.1/All_stat_DC01_RF10_50eV.npz', '/home/adrian/Documents/Programmes/Python/GiantMol/SimAnalysisPointbyPoint/2.1/All_stat_DC01_RF11_50eV.npz', '/home/adrian/Documents/Programmes/Python/GiantMol/SimAnalysisPointbyPoint/2.1/All_stat_DC03_RF08_50eV.npz', '/home/adrian/Documents/Programmes/Python/GiantMol/SimAnalysisPointbyPoint/2.1/All_stat_DC03_RF09_50eV.npz', '/home/adrian/Documents/Programmes/Python/GiantMol/SimAnalysisPointbyPoint/2.1/All_stat_DC03_RF10_50eV.npz', '/home/adrian/Documents/Programmes/Python/GiantMol/SimAnalysisPointbyPoint/2.1/All_stat_DC03_RF11_50eV.npz', '/home/adrian/Documents/Programmes/Python/GiantMol/SimAnalysisPointbyPoint/2.1/All_stat_DC05_RF08_50eV.npz', '/home/adrian/Documents/Programmes/Python/GiantMol/SimAnalysisPointbyPoint/2.1/All_stat_DC05_RF09_50eV.npz', '/home/adrian/Documents/Programmes/Python/GiantMol/SimAnalysisPointbyPoint/2.1/All_stat_DC05_RF10_50eV.npz', '/home/adrian/Documents/Programmes/Python/GiantMol/SimAnalysisPointbyPoint/2.1/All_stat_DC05_RF11_50eV.npz', '/home/adrian/Documents/Programmes/Python/GiantMol/SimAnalysisPointbyPoint/2.1/All_stat_DC07_RF08_50eV.npz', '/home/adrian/Documents/Programmes/Python/GiantMol/SimAnalysisPointbyPoint/2.1/All_stat_DC07_RF09_50eV.npz', '/home/adrian/Documents/Programmes/Python/GiantMol/SimAnalysisPointbyPoint/2.1/All_stat_DC07_RF10_50eV.npz', '/home/adrian/Documents/Programmes/Python/GiantMol/SimAnalysisPointbyPoint/2.1/All_stat_DC07_RF11_50eV.npz', '/home/adrian/Documents/Programmes/Python/GiantMol/SimAnalysisPointbyPoint/2.1/All_stat_DC09_RF08_50eV.npz', '/home/adrian/Documents/Programmes/Python/GiantMol/SimAnalysisPointbyPoint/2.1/All_stat_DC09_RF09_50eV.npz', '/home/adrian/Documents/Programmes/Python/GiantMol/SimAnalysisPointbyPoint/2.1/All_stat_DC09_RF10_50eV.npz', '/home/adrian/Documents/Programmes/Python/GiantMol/SimAnalysisPointbyPoint/2.1/All_stat_DC09_RF11_50eV.npz', '/home/adrian/Documents/Programmes/Python/GiantMol/SimAnalysisPointbyPoint/2.1/All_stat_DC11_RF08_50eV.npz', '/home/adrian/Documents/Programmes/Python/GiantMol/SimAnalysisPointbyPoint/2.1/All_stat_DC11_RF09_50eV.npz', '/home/adrian/Documents/Programmes/Python/GiantMol/SimAnalysisPointbyPoint/2.1/All_stat_DC11_RF10_50eV.npz', '/home/adrian/Documents/Programmes/Python/GiantMol/SimAnalysisPointbyPoint/2.1/All_stat_DC11_RF11_50eV.npz', '/home/adrian/Documents/Programmes/Python/GiantMol/SimAnalysisPointbyPoint/2.1/All_stat_DC18_RF08_50eV.npz', '/home/adrian/Documents/Programmes/Python/GiantMol/SimAnalysisPointbyPoint/2.1/All_stat_DC18_RF09_50eV.npz', '/home/adrian/Documents/Programmes/Python/GiantMol/SimAnalysisPointbyPoint/2.1/All_stat_DC18_RF10_50eV.npz', '/home/adrian/Documents/Programmes/Python/GiantMol/SimAnalysisPointbyPoint/2.1/All_stat_DC18_RF11_50eV.npz')\n"
     ]
    }
   ],
   "source": [
    "file_path = load_file_GUI('/home/adrian/Documents/Programmes/Python/GiantMol/SimAnalysisPointbyPoint')\n",
    "print(file_path)"
   ]
  },
  {
   "cell_type": "code",
   "execution_count": 11,
   "metadata": {},
   "outputs": [],
   "source": [
    "# load check\n",
    "time         = []\n",
    "Temperature  = []\n",
    "Temp_var     = []\n",
    "Fluorescence = []\n",
    "Fluo_var     = []\n",
    "SNR          = []\n",
    "Ray          = []\n",
    "Len          = []\n",
    "DeltaEc      = []\n",
    "condition    = []\n",
    "\n",
    "for outfile in file_path:\n",
    "    with load(outfile) as data:\n",
    "        time.append(data['time'])\n",
    "        Temperature.append(data['Temperature'])\n",
    "        Temp_var.append(data['Temp_var'])\n",
    "        Fluorescence.append(data['Fluo'])\n",
    "        Fluo_var.append(data['Fluo_var'])\n",
    "        SNR.append(data['SNR'])\n",
    "        Ray.append(data['Ray'])\n",
    "        Len.append(data['Len'])\n",
    "        DeltaEc.append(data['DeltaEc'])\n",
    "        condition.append(data['condition'])\n",
    "\n",
    "DeltaEc = multiply(DeltaEc,renorm)\n",
    "# Temperature,Temp_var,\n",
    "# Fluo, Fluo_var, SNR,\n",
    "# Ray, Len,\n",
    "# DeltaEc,\n",
    "# condition"
   ]
  },
  {
   "cell_type": "code",
   "execution_count": 25,
   "metadata": {},
   "outputs": [],
   "source": [
    "detect_rate = []\n",
    "\n",
    "for k,l in enumerate(SNR):\n",
    "    alors = 0\n",
    "    for m,n in enumerate(l):\n",
    "        if n>=1:\n",
    "            alors += 1\n",
    "    detect_rate.append(alors)"
   ]
  },
  {
   "cell_type": "code",
   "execution_count": 26,
   "metadata": {},
   "outputs": [
    {
     "data": {
      "text/plain": [
       "[63,\n",
       " 100,\n",
       " 100,\n",
       " 100,\n",
       " 14,\n",
       " 99,\n",
       " 100,\n",
       " 100,\n",
       " 0,\n",
       " 30,\n",
       " 98,\n",
       " 100,\n",
       " 0,\n",
       " 5,\n",
       " 71,\n",
       " 100,\n",
       " 0,\n",
       " 31,\n",
       " 34,\n",
       " 100,\n",
       " 0,\n",
       " 0,\n",
       " 39,\n",
       " 100,\n",
       " 0,\n",
       " 0,\n",
       " 86,\n",
       " 92]"
      ]
     },
     "execution_count": 26,
     "metadata": {},
     "output_type": "execute_result"
    }
   ],
   "source": [
    "detect_rate"
   ]
  },
  {
   "cell_type": "code",
   "execution_count": 13,
   "metadata": {},
   "outputs": [
    {
     "name": "stdout",
     "output_type": "stream",
     "text": [
      "[array('DC01_RF08', dtype='<U9'), array('DC01_RF09', dtype='<U9'), array('DC01_RF10', dtype='<U9'), array('DC01_RF11', dtype='<U9'), array('DC03_RF08', dtype='<U9'), array('DC03_RF09', dtype='<U9'), array('DC03_RF10', dtype='<U9'), array('DC03_RF11', dtype='<U9'), array('DC05_RF08', dtype='<U9'), array('DC05_RF09', dtype='<U9'), array('DC05_RF10', dtype='<U9'), array('DC05_RF11', dtype='<U9'), array('DC07_RF08', dtype='<U9'), array('DC07_RF09', dtype='<U9'), array('DC07_RF10', dtype='<U9'), array('DC07_RF11', dtype='<U9'), array('DC09_RF08', dtype='<U9'), array('DC09_RF09', dtype='<U9'), array('DC09_RF10', dtype='<U9'), array('DC09_RF11', dtype='<U9'), array('DC11_RF08', dtype='<U9'), array('DC11_RF09', dtype='<U9'), array('DC11_RF10', dtype='<U9'), array('DC11_RF11', dtype='<U9'), array('DC18_RF08', dtype='<U9'), array('DC18_RF09', dtype='<U9'), array('DC18_RF10', dtype='<U9'), array('DC18_RF11', dtype='<U9')]\n"
     ]
    }
   ],
   "source": [
    "print(condition)\n",
    "my_order = [0,1,2,3,4,5,6,7,8,9,10,11,12,13,14,15,16,17,18,19,24,25,26,27,20,21,22,23]"
   ]
  },
  {
   "cell_type": "code",
   "execution_count": 14,
   "metadata": {},
   "outputs": [
    {
     "data": {
      "text/plain": [
       "(0.2346062574342376, 0.04677566713029322)"
      ]
     },
     "execution_count": 14,
     "metadata": {},
     "output_type": "execute_result"
    }
   ],
   "source": [
    "Len[10][28],Ray[10][28]"
   ]
  },
  {
   "cell_type": "markdown",
   "metadata": {},
   "source": [
    "# Traitement des données"
   ]
  },
  {
   "cell_type": "code",
   "execution_count": 15,
   "metadata": {},
   "outputs": [
    {
     "data": {
      "text/plain": [
       "((28, 100, 20850), (28, 100, 20850, 3), (28, 100, 19860))"
      ]
     },
     "execution_count": 15,
     "metadata": {},
     "output_type": "execute_result"
    }
   ],
   "source": [
    "shape(time),shape(Temperature),shape(Fluorescence)"
   ]
  },
  {
   "cell_type": "code",
   "execution_count": 21,
   "metadata": {},
   "outputs": [
    {
     "name": "stdout",
     "output_type": "stream",
     "text": [
      "(20850,) (20850, 3) (19860,)\n",
      "5e-09\n",
      "990\n"
     ]
    }
   ],
   "source": [
    "cond_num = len(condition)\n",
    "\n",
    "plot_point = 8\n",
    "plot_try   = 2\n",
    "\n",
    "tt    = time[plot_point][plot_try]\n",
    "T_all = Temperature[plot_point][plot_try]\n",
    "PM    = Fluorescence[plot_point][plot_try]\n",
    "\n",
    "print(shape(tt),shape(T_all),shape(PM))\n",
    "\n",
    "n_dt = 100\n",
    "dt  = 2*pi / (n_dt*Omega)\n",
    "i_free__fly_Lan = 1000*n_dt\n",
    "i_laser_fly = 6000*n_dt\n",
    "i_laser_fly_quench = 8000*n_dt\n",
    "print(dt)\n",
    "diff_time = len(tt)-len(PM)\n",
    "print(diff_time)"
   ]
  },
  {
   "cell_type": "code",
   "execution_count": 24,
   "metadata": {},
   "outputs": [
    {
     "name": "stderr",
     "output_type": "stream",
     "text": [
      "/home/adrian/.local/lib/python3.6/site-packages/matplotlib/figure.py:2267: UserWarning: This figure includes Axes that are not compatible with tight_layout, so results might be incorrect.\n",
      "  warnings.warn(\"This figure includes Axes that are not compatible \"\n"
     ]
    }
   ],
   "source": [
    "# Plot Delta E en fct L\n",
    "# Avec discri detec et non detec\n",
    "\n",
    "import matplotlib.pyplot as plt\n",
    "import matplotlib.patches as patches\n",
    "\n",
    "# Plot temperature Langevin + md laser  ALL SimuType  ALL TEMP MEAN\n",
    "matplotlib.rcParams.update({'font.size': 25})\n",
    "\n",
    "#fig_name = file_name[-9:]\n",
    "figname = 'T_and_PM_plot_example'\n",
    "fig1 = plt.figure(num=figname,clear='True')\n",
    "fig1.set_size_inches(11.69,8.27)\n",
    "# set height ratios for sublots\n",
    "gs = gridspec.GridSpec(2, 1, height_ratios=[7, 3]) \n",
    "# the fisrt subplot\n",
    "ax1 = plt.subplot(gs[0])\n",
    "\n",
    "ax1.semilogy(tt*1e3,savgol_filter(mean(T_all,axis=1),25,1), label='Tx',color='red',lw=2.5)\n",
    "\n",
    "time_switch = i_free__fly_Lan*dt\n",
    "ax1.vlines(time_switch*1e3,1e-5,1e4,color='black')\n",
    "time_switch = (i_free__fly_Lan+i_laser_fly)*dt\n",
    "ax1.vlines(time_switch*1e3,1e-5,1e4,color='black',linestyle='--')\n",
    "time_switch = (i_free__fly_Lan+i_laser_fly+i_laser_fly_quench)*dt\n",
    "ax1.vlines(time_switch*1e3,1e-4,1e4,color='black',linestyle='-')\n",
    "time_switch = (i_free__fly_Lan+i_laser_fly*2+i_laser_fly_quench)*dt\n",
    "# ax1.vlines((ta[2])*1e3,1e-4,1e4,color='black')\n",
    "# ax1.hlines(0.5,7.5,8.5, linestyle=':')\n",
    "# ax1.vlines((time_switch+ta[2]-ta[1])*1e3,1e-4,1e4,color='purple')\n",
    "ax1.grid()\n",
    "ylabel('T [K]')\n",
    "\n",
    "ax1.annotate('1', xy=(0.22,1.3e-4), xycoords='data',\n",
    "size=15, ha='center', va='top', color='xkcd:black',\n",
    "bbox=dict(fc='white',edgecolor='black'))\n",
    "ax1.annotate('2', xy=(2,1.3e-4), xycoords='data',\n",
    "size=15, ha='center', va='top', color='xkcd:black',\n",
    "bbox=dict(fc='white',edgecolor='black'))\n",
    "ax1.annotate('3', xy=((3.5+7.5)/2,1.3e-4), xycoords='data',\n",
    "size=15, ha='center', va='top', color='xkcd:black',\n",
    "bbox=dict(fc='white',edgecolor='black'))\n",
    "# ax1.annotate('4', xy=((7.5+7.57)/2,2.5e-4), xycoords='data',\n",
    "# size=15, ha='center', va='top', color='xkcd:black',\n",
    "# bbox=dict(fc='white',edgecolor='black'))\n",
    "ax1.annotate('5', xy=((7.5+10.5)/2,1.3e-4), xycoords='data',\n",
    "size=15, ha='center', va='top', color='xkcd:black',\n",
    "bbox=dict(fc='white',edgecolor='black'))\n",
    "\n",
    "# annotate('Laser ON', xy=(0.5,350), xycoords='data',\n",
    "# size=24, ha='left', va='top', color='xkcd:azul',\n",
    "# bbox=dict(boxstyle='round', fc='white',edgecolor='xkcd:azul')\n",
    "\n",
    "# ~ xlabel('time[ms]')\n",
    "# ~ ylabel('T[K]')\n",
    "plt.setp(ax1.get_xticklabels(),visible=False)\n",
    "\n",
    "# ax2 = subplot(212,sharex=ax1)\n",
    "ax2 = plt.subplot(gs[1], sharex = ax1)\n",
    "\n",
    "# ax2.plot(tt_md*1e3,PM, label='Tx')\n",
    "\n",
    "tt_1ms_step = tt[diff_time::2000]\n",
    "PM_1ms = PM[::2000]\n",
    "tt_1us_step = tt[diff_time::2]\n",
    "PM_1us = PM[::2]\n",
    "\n",
    "ax2.scatter(tt_1ms_step*1e3,PM_1ms, label='cts/ms',marker='P',s=200,lw=1.5,color='black',zorder=100)\n",
    "ax2.plot(tt_1us_step[:-500]*1e3,PM_1us[:-500], label='cts/µs',color='blue')\n",
    "ax2.legend()\n",
    "time_switch = i_free__fly_Lan*dt\n",
    "ax2.vlines(time_switch*1e3,1e-4,150,color='black')\n",
    "time_switch = (i_free__fly_Lan+i_laser_fly)*dt\n",
    "# ax2.vlines(time_switch*1e3,1e-4,150,color='black',linestyle='--')\n",
    "time_switch = (i_free__fly_Lan+i_laser_fly+i_laser_fly_quench)*dt\n",
    "# ax2.vlines(time_switch*1e3,1e-4,70,color='orange')\n",
    "time_switch = (i_free__fly_Lan+i_laser_fly*2+i_laser_fly_quench)*dt\n",
    "# ax2.vlines((time_switch+ta[2]-ta[1])*1e3,1e-4,90,color='purple')\n",
    "ax2.grid()\n",
    "# ax2.yaxis.set_major_locator(matplotlib.ticker.MultipleLocator(base=20))\n",
    "# annotate('laser off après injection', xy=(0.5,350), xycoords='data',\n",
    "# size=24, ha='left', va='top', color='xkcd:azul',\n",
    "# bbox=dict(boxstyle='round', fc='white',edgecolor='xkcd:azul'))\n",
    "\n",
    "xlabel('time [ms]')\n",
    "ylabel('PM signal')\n",
    "\n",
    "left, bottom, width, height = [0.345, 0.565, 0.35, 0.38] # cadre zoom\n",
    "axins = fig1.add_axes([left, bottom, width, height])\n",
    "\n",
    "axins.semilogy(tt*1e3,mean(T_all,axis=1), label='Tx',color='red',lw=2.5,marker='x')\n",
    "# axins.hlines(0.5,7.4,7.66, linestyle=':')\n",
    "time_switch = (i_free__fly_Lan+i_laser_fly+i_laser_fly_quench)*dt\n",
    "axins.vlines(time_switch*1e3,1e-4,1e4,color='black',linestyle='-')\n",
    "time_switch = (i_free__fly_Lan+i_laser_fly  +i_laser_fly_quench)*dt\n",
    "# axins.vlines(ta[2]*1e3,1e-4,1e4,color='black')\n",
    "\n",
    "# axins.add_patch(\n",
    "#      patches.Rectangle(\n",
    "#         (t_in*1000, 3e-4),\n",
    "#         (t_out - t_in)*1000,\n",
    "#         0.1,\n",
    "#         edgecolor ='k',\n",
    "#         facecolor =  cc('grey',0.5),\n",
    "#         fill=True\n",
    "#      ) )\n",
    "\n",
    "x1, x2, y1, y2 = 7.44, 7.63, 0.00012, 50 # limites zoom\n",
    "axins.set_xlim(x1, x2)\n",
    "axins.set_ylim(y1, y2)\n",
    "\n",
    "# axins.yaxis.tick_right()\n",
    "\n",
    "locmaj = matplotlib.ticker.LogLocator(base=10,numticks=12) \n",
    "axins.yaxis.set_major_locator(locmaj)\n",
    "locmin = matplotlib.ticker.LogLocator(base=10.0,subs=(0.2,0.4,0.6,0.8),numticks=12)\n",
    "axins.yaxis.set_minor_locator(locmin)\n",
    "axins.yaxis.set_minor_formatter(matplotlib.ticker.NullFormatter())\n",
    "plt.setp(axins.get_xticklabels(), backgroundcolor=\"w\")\n",
    "plt.setp(axins.get_yticklabels(), backgroundcolor=\"w\")\n",
    "\n",
    "axins.grid(b=True, which='major', linestyle='-')\n",
    "axins.grid(b=True, which='minor', linestyle='--')\n",
    "\n",
    "# axins.tick_params(axis=\"y\",direction=\"in\", pad=-53)\n",
    "mark_inset(ax1, axins, loc1=1, loc2=3, fc=\"none\", ec=\"0.25\")\n",
    "\n",
    "axins.annotate('3', xy=(7.48,30), xycoords='data',\n",
    "size=15, ha='center', va='top', color='xkcd:black',\n",
    "bbox=dict(fc='white',edgecolor='black'))\n",
    "axins.annotate('4', xy=((7.5+7.53)/2,30), xycoords='data',\n",
    "size=15, ha='center', va='top', color='xkcd:black',\n",
    "bbox=dict(fc='white',edgecolor='black'))\n",
    "axins.annotate('5', xy=(7.55,30), xycoords='data',\n",
    "size=15, ha='center', va='top', color='xkcd:black',\n",
    "bbox=dict(fc='white',edgecolor='black'))\n",
    "\n",
    "ax1.set_xlim(-0.15, 10.75)\n",
    "ax1.set_ylim(0.00005, 1000)\n",
    "ax2.set_ylim(-0, 135)\n",
    "\n",
    "plt.tight_layout()\n",
    "subplots_adjust(hspace=0.0,bottom=0.11,left=0.12,right=0.98,top=0.97)\n",
    "# savefig(fname = figname+'_'+re.sub('/','_',dirname_hc[31:-1])+'.png',dpi=300)\n",
    "# savefig(figname+'_D'+str(Detuning)+'_50eV'+'.png',dpi=300)"
   ]
  },
  {
   "cell_type": "code",
   "execution_count": 18,
   "metadata": {
    "scrolled": true
   },
   "outputs": [
    {
     "name": "stdout",
     "output_type": "stream",
     "text": [
      "0 DC01_RF08\n"
     ]
    },
    {
     "ename": "AttributeError",
     "evalue": "Unknown property ls",
     "output_type": "error",
     "traceback": [
      "\u001b[0;31m---------------------------------------------------------------------------\u001b[0m",
      "\u001b[0;31mAttributeError\u001b[0m                            Traceback (most recent call last)",
      "\u001b[0;32m<ipython-input-18-3beb5dc2ed99>\u001b[0m in \u001b[0;36m<module>\u001b[0;34m()\u001b[0m\n\u001b[1;32m     16\u001b[0m     ax.text(mean(Len[ii])*1e3,max(DeltaEc[ii][:])*1000+8-1.5**(i%4), ii,\n\u001b[1;32m     17\u001b[0m             fontsize='10',ha='center')\n\u001b[0;32m---> 18\u001b[0;31m     \u001b[0max\u001b[0m\u001b[0;34m.\u001b[0m\u001b[0mvlines\u001b[0m\u001b[0;34m(\u001b[0m\u001b[0mmean\u001b[0m\u001b[0;34m(\u001b[0m\u001b[0mLen\u001b[0m\u001b[0;34m[\u001b[0m\u001b[0mii\u001b[0m\u001b[0;34m]\u001b[0m\u001b[0;34m)\u001b[0m\u001b[0;34m*\u001b[0m\u001b[0;36m1e3\u001b[0m\u001b[0;34m,\u001b[0m\u001b[0mmax\u001b[0m\u001b[0;34m(\u001b[0m\u001b[0mDeltaEc\u001b[0m\u001b[0;34m[\u001b[0m\u001b[0mii\u001b[0m\u001b[0;34m]\u001b[0m\u001b[0;34m[\u001b[0m\u001b[0;34m:\u001b[0m\u001b[0;34m]\u001b[0m\u001b[0;34m)\u001b[0m\u001b[0;34m*\u001b[0m\u001b[0;36m1000\u001b[0m\u001b[0;34m+\u001b[0m\u001b[0;36m8\u001b[0m\u001b[0;34m-\u001b[0m\u001b[0;36m1.5\u001b[0m\u001b[0;34m**\u001b[0m\u001b[0;34m(\u001b[0m\u001b[0mi\u001b[0m\u001b[0;34m%\u001b[0m\u001b[0;36m4\u001b[0m\u001b[0;34m)\u001b[0m\u001b[0;34m,\u001b[0m\u001b[0mmax\u001b[0m\u001b[0;34m(\u001b[0m\u001b[0mDeltaEc\u001b[0m\u001b[0;34m[\u001b[0m\u001b[0mii\u001b[0m\u001b[0;34m]\u001b[0m\u001b[0;34m[\u001b[0m\u001b[0;34m:\u001b[0m\u001b[0;34m]\u001b[0m\u001b[0;34m)\u001b[0m\u001b[0;34m*\u001b[0m\u001b[0;36m1000\u001b[0m\u001b[0;34m+\u001b[0m\u001b[0;36m0.5\u001b[0m\u001b[0;34m,\u001b[0m\u001b[0mls\u001b[0m\u001b[0;34m=\u001b[0m\u001b[0;34m':'\u001b[0m\u001b[0;34m)\u001b[0m\u001b[0;34m\u001b[0m\u001b[0;34m\u001b[0m\u001b[0m\n\u001b[0m\u001b[1;32m     19\u001b[0m \u001b[0;31m# ax.set_xlabel(r'$\\langle L \\rangle /2$'\u001b[0m\u001b[0;34m\u001b[0m\u001b[0;34m\u001b[0m\u001b[0;34m\u001b[0m\u001b[0m\n\u001b[1;32m     20\u001b[0m \u001b[0max\u001b[0m\u001b[0;34m.\u001b[0m\u001b[0mset_xlabel\u001b[0m\u001b[0;34m(\u001b[0m\u001b[0;34mr'$ L /2$ [µm]'\u001b[0m\u001b[0;34m)\u001b[0m\u001b[0;34m\u001b[0m\u001b[0;34m\u001b[0m\u001b[0m\n",
      "\u001b[0;32m~/.local/lib/python3.6/site-packages/matplotlib/__init__.py\u001b[0m in \u001b[0;36minner\u001b[0;34m(ax, *args, **kwargs)\u001b[0m\n\u001b[1;32m   1853\u001b[0m                         \u001b[0;34m\"the Matplotlib list!)\"\u001b[0m \u001b[0;34m%\u001b[0m \u001b[0;34m(\u001b[0m\u001b[0mlabel_namer\u001b[0m\u001b[0;34m,\u001b[0m \u001b[0mfunc\u001b[0m\u001b[0;34m.\u001b[0m\u001b[0m__name__\u001b[0m\u001b[0;34m)\u001b[0m\u001b[0;34m,\u001b[0m\u001b[0;34m\u001b[0m\u001b[0;34m\u001b[0m\u001b[0m\n\u001b[1;32m   1854\u001b[0m                         RuntimeWarning, stacklevel=2)\n\u001b[0;32m-> 1855\u001b[0;31m             \u001b[0;32mreturn\u001b[0m \u001b[0mfunc\u001b[0m\u001b[0;34m(\u001b[0m\u001b[0max\u001b[0m\u001b[0;34m,\u001b[0m \u001b[0;34m*\u001b[0m\u001b[0margs\u001b[0m\u001b[0;34m,\u001b[0m \u001b[0;34m**\u001b[0m\u001b[0mkwargs\u001b[0m\u001b[0;34m)\u001b[0m\u001b[0;34m\u001b[0m\u001b[0;34m\u001b[0m\u001b[0m\n\u001b[0m\u001b[1;32m   1856\u001b[0m \u001b[0;34m\u001b[0m\u001b[0m\n\u001b[1;32m   1857\u001b[0m         inner.__doc__ = _add_data_doc(inner.__doc__,\n",
      "\u001b[0;32m~/.local/lib/python3.6/site-packages/matplotlib/axes/_axes.py\u001b[0m in \u001b[0;36mvlines\u001b[0;34m(self, x, ymin, ymax, colors, linestyles, label, **kwargs)\u001b[0m\n\u001b[1;32m   1053\u001b[0m                                      linestyles=linestyles, label=label)\n\u001b[1;32m   1054\u001b[0m         \u001b[0mself\u001b[0m\u001b[0;34m.\u001b[0m\u001b[0madd_collection\u001b[0m\u001b[0;34m(\u001b[0m\u001b[0mlines\u001b[0m\u001b[0;34m,\u001b[0m \u001b[0mautolim\u001b[0m\u001b[0;34m=\u001b[0m\u001b[0;32mFalse\u001b[0m\u001b[0;34m)\u001b[0m\u001b[0;34m\u001b[0m\u001b[0;34m\u001b[0m\u001b[0m\n\u001b[0;32m-> 1055\u001b[0;31m         \u001b[0mlines\u001b[0m\u001b[0;34m.\u001b[0m\u001b[0mupdate\u001b[0m\u001b[0;34m(\u001b[0m\u001b[0mkwargs\u001b[0m\u001b[0;34m)\u001b[0m\u001b[0;34m\u001b[0m\u001b[0;34m\u001b[0m\u001b[0m\n\u001b[0m\u001b[1;32m   1056\u001b[0m \u001b[0;34m\u001b[0m\u001b[0m\n\u001b[1;32m   1057\u001b[0m         \u001b[0;32mif\u001b[0m \u001b[0mlen\u001b[0m\u001b[0;34m(\u001b[0m\u001b[0mx\u001b[0m\u001b[0;34m)\u001b[0m \u001b[0;34m>\u001b[0m \u001b[0;36m0\u001b[0m\u001b[0;34m:\u001b[0m\u001b[0;34m\u001b[0m\u001b[0;34m\u001b[0m\u001b[0m\n",
      "\u001b[0;32m~/.local/lib/python3.6/site-packages/matplotlib/artist.py\u001b[0m in \u001b[0;36mupdate\u001b[0;34m(self, props)\u001b[0m\n\u001b[1;32m    886\u001b[0m         \u001b[0;32mtry\u001b[0m\u001b[0;34m:\u001b[0m\u001b[0;34m\u001b[0m\u001b[0;34m\u001b[0m\u001b[0m\n\u001b[1;32m    887\u001b[0m             ret = [_update_property(self, k, v)\n\u001b[0;32m--> 888\u001b[0;31m                    for k, v in props.items()]\n\u001b[0m\u001b[1;32m    889\u001b[0m         \u001b[0;32mfinally\u001b[0m\u001b[0;34m:\u001b[0m\u001b[0;34m\u001b[0m\u001b[0;34m\u001b[0m\u001b[0m\n\u001b[1;32m    890\u001b[0m             \u001b[0mself\u001b[0m\u001b[0;34m.\u001b[0m\u001b[0meventson\u001b[0m \u001b[0;34m=\u001b[0m \u001b[0mstore\u001b[0m\u001b[0;34m\u001b[0m\u001b[0;34m\u001b[0m\u001b[0m\n",
      "\u001b[0;32m~/.local/lib/python3.6/site-packages/matplotlib/artist.py\u001b[0m in \u001b[0;36m<listcomp>\u001b[0;34m(.0)\u001b[0m\n\u001b[1;32m    886\u001b[0m         \u001b[0;32mtry\u001b[0m\u001b[0;34m:\u001b[0m\u001b[0;34m\u001b[0m\u001b[0;34m\u001b[0m\u001b[0m\n\u001b[1;32m    887\u001b[0m             ret = [_update_property(self, k, v)\n\u001b[0;32m--> 888\u001b[0;31m                    for k, v in props.items()]\n\u001b[0m\u001b[1;32m    889\u001b[0m         \u001b[0;32mfinally\u001b[0m\u001b[0;34m:\u001b[0m\u001b[0;34m\u001b[0m\u001b[0;34m\u001b[0m\u001b[0m\n\u001b[1;32m    890\u001b[0m             \u001b[0mself\u001b[0m\u001b[0;34m.\u001b[0m\u001b[0meventson\u001b[0m \u001b[0;34m=\u001b[0m \u001b[0mstore\u001b[0m\u001b[0;34m\u001b[0m\u001b[0;34m\u001b[0m\u001b[0m\n",
      "\u001b[0;32m~/.local/lib/python3.6/site-packages/matplotlib/artist.py\u001b[0m in \u001b[0;36m_update_property\u001b[0;34m(self, k, v)\u001b[0m\n\u001b[1;32m    879\u001b[0m                 \u001b[0mfunc\u001b[0m \u001b[0;34m=\u001b[0m \u001b[0mgetattr\u001b[0m\u001b[0;34m(\u001b[0m\u001b[0mself\u001b[0m\u001b[0;34m,\u001b[0m \u001b[0;34m'set_'\u001b[0m \u001b[0;34m+\u001b[0m \u001b[0mk\u001b[0m\u001b[0;34m,\u001b[0m \u001b[0;32mNone\u001b[0m\u001b[0;34m)\u001b[0m\u001b[0;34m\u001b[0m\u001b[0;34m\u001b[0m\u001b[0m\n\u001b[1;32m    880\u001b[0m                 \u001b[0;32mif\u001b[0m \u001b[0;32mnot\u001b[0m \u001b[0mcallable\u001b[0m\u001b[0;34m(\u001b[0m\u001b[0mfunc\u001b[0m\u001b[0;34m)\u001b[0m\u001b[0;34m:\u001b[0m\u001b[0;34m\u001b[0m\u001b[0;34m\u001b[0m\u001b[0m\n\u001b[0;32m--> 881\u001b[0;31m                     \u001b[0;32mraise\u001b[0m \u001b[0mAttributeError\u001b[0m\u001b[0;34m(\u001b[0m\u001b[0;34m'Unknown property %s'\u001b[0m \u001b[0;34m%\u001b[0m \u001b[0mk\u001b[0m\u001b[0;34m)\u001b[0m\u001b[0;34m\u001b[0m\u001b[0;34m\u001b[0m\u001b[0m\n\u001b[0m\u001b[1;32m    882\u001b[0m                 \u001b[0;32mreturn\u001b[0m \u001b[0mfunc\u001b[0m\u001b[0;34m(\u001b[0m\u001b[0mv\u001b[0m\u001b[0;34m)\u001b[0m\u001b[0;34m\u001b[0m\u001b[0;34m\u001b[0m\u001b[0m\n\u001b[1;32m    883\u001b[0m \u001b[0;34m\u001b[0m\u001b[0m\n",
      "\u001b[0;31mAttributeError\u001b[0m: Unknown property ls"
     ]
    }
   ],
   "source": [
    "# Len.append(data['Len'])\n",
    "# DeltaEc.append(data['DeltaEc'])\n",
    "\n",
    "figname = 'DE_vs_L'\n",
    "fig, ax = plt.subplots(1, 1,num=figname,clear=True,sharex=True,sharey=True)\n",
    "fig.set_size_inches(14,6)\n",
    "\n",
    "for i,j in enumerate(condition):\n",
    "    ii = my_order[i]\n",
    "    print(ii,j)\n",
    "    for k,l in enumerate(Len[ii][:]):\n",
    "        if SNR[ii][k] > 1:\n",
    "            ax.scatter(l*1e3,DeltaEc[ii][k]*1000,color='xkcd:green',marker='3')\n",
    "        else:\n",
    "            ax.scatter(l*1e3,DeltaEc[ii][k]*1000,color='xkcd:rouge',marker='4')\n",
    "    ax.text(mean(Len[ii])*1e3,max(DeltaEc[ii][:])*1000+8-1.5**(i%4), ii,\n",
    "            fontsize='10',ha='center')\n",
    "    ax.vlines(mean(Len[ii])*1e3,max(DeltaEc[ii][:])*1000+8-1.5**(i%4),max(DeltaEc[ii][:])*1000+0.5,ls=':')\n",
    "# ax.set_xlabel(r'$\\langle L \\rangle /2$'\n",
    "ax.set_xlabel(r'$ L /2$ [µm]')\n",
    "ax.set_ylabel(r'$\\Delta E_c$ [meV]')\n",
    "ax.set_ylim(-76,9)\n",
    "ax.grid()\n",
    "\n",
    "tight_layout()\n",
    "\n",
    "# savefig(figname+'.png',dpi=600)"
   ]
  },
  {
   "cell_type": "code",
   "execution_count": 1,
   "metadata": {},
   "outputs": [
    {
     "ename": "NameError",
     "evalue": "name 'detect_rate' is not defined",
     "output_type": "error",
     "traceback": [
      "\u001b[0;31m---------------------------------------------------------------------------\u001b[0m",
      "\u001b[0;31mNameError\u001b[0m                                 Traceback (most recent call last)",
      "\u001b[0;32m<ipython-input-1-0f365c6be0a8>\u001b[0m in \u001b[0;36m<module>\u001b[0;34m()\u001b[0m\n\u001b[1;32m     43\u001b[0m     \u001b[0mx\u001b[0m\u001b[0;34m.\u001b[0m\u001b[0mappend\u001b[0m\u001b[0;34m(\u001b[0m\u001b[0mmy_udc\u001b[0m\u001b[0;34m)\u001b[0m\u001b[0;34m\u001b[0m\u001b[0;34m\u001b[0m\u001b[0m\n\u001b[1;32m     44\u001b[0m     \u001b[0my\u001b[0m\u001b[0;34m.\u001b[0m\u001b[0mappend\u001b[0m\u001b[0;34m(\u001b[0m\u001b[0mmy_urf\u001b[0m\u001b[0;34m)\u001b[0m\u001b[0;34m\u001b[0m\u001b[0;34m\u001b[0m\u001b[0m\n\u001b[0;32m---> 45\u001b[0;31m     \u001b[0mz\u001b[0m\u001b[0;34m.\u001b[0m\u001b[0mappend\u001b[0m\u001b[0;34m(\u001b[0m\u001b[0mdetect_rate\u001b[0m\u001b[0;34m[\u001b[0m\u001b[0mg\u001b[0m\u001b[0;34m]\u001b[0m\u001b[0;34m)\u001b[0m\u001b[0;34m\u001b[0m\u001b[0;34m\u001b[0m\u001b[0m\n\u001b[0m\u001b[1;32m     46\u001b[0m \u001b[0;34m\u001b[0m\u001b[0m\n\u001b[1;32m     47\u001b[0m \u001b[0;31m# calcul des paramètres Mathieu et frequences propres\u001b[0m\u001b[0;34m\u001b[0m\u001b[0;34m\u001b[0m\u001b[0;34m\u001b[0m\u001b[0m\n",
      "\u001b[0;31mNameError\u001b[0m: name 'detect_rate' is not defined"
     ]
    }
   ],
   "source": [
    "# Plot Delta en fct omega_r\n",
    "\n",
    "points_and_coord = {'DC01_RF08': ['01', '08'],\n",
    " 'DC01_RF09': ['01', '09'],\n",
    " 'DC01_RF10': ['01', '10'],\n",
    " 'DC01_RF11': ['01', '11'],\n",
    " 'DC03_RF08': ['03', '08'],\n",
    " 'DC03_RF09': ['03', '09'],\n",
    " 'DC03_RF10': ['03', '10'],\n",
    " 'DC03_RF11': ['03', '11'],\n",
    " 'DC05_RF08': ['05', '08'],\n",
    " 'DC05_RF09': ['05', '09'],\n",
    " 'DC05_RF10': ['05', '10'],\n",
    " 'DC05_RF11': ['05', '11'],\n",
    " 'DC07_RF08': ['07', '08'],\n",
    " 'DC07_RF09': ['07', '09'],\n",
    " 'DC07_RF10': ['07', '10'],\n",
    " 'DC07_RF11': ['07', '11'],\n",
    " 'DC09_RF08': ['09', '08'],\n",
    " 'DC09_RF09': ['09', '09'],\n",
    " 'DC09_RF10': ['09', '10'],\n",
    " 'DC09_RF11': ['09', '11'],\n",
    " 'DC11_RF08': ['11', '08'],\n",
    " 'DC11_RF09': ['11', '09'],\n",
    " 'DC11_RF10': ['11', '10'],\n",
    " 'DC11_RF11': ['11', '11'],\n",
    " 'DC18_RF08': ['18', '08'],\n",
    " 'DC18_RF09': ['18', '09'],\n",
    " 'DC18_RF10': ['18', '10'],\n",
    " 'DC18_RF11': ['18', '11']}\n",
    "\n",
    "Udc = [0.5, 1, 1.5, 2, 2.5, 3, 3.5, 4, 4.5, 5, 6, 7, 7.5, 3.33, 3.66, 4.5, 5.33, 5.66, 6, 6.5]\n",
    "Urf = [10.77, 16.15, 21.54, 26.92, 32.31, 37.69, 43.08, 48.46, 53.85, 59.23, 64.61,\n",
    "       70.00, 75.38, 80.77, 61.02, 62.82, 66.41, 68.20, 71.79, 55.64, 57.43]\n",
    "\n",
    "x = []\n",
    "y = []\n",
    "z = []\n",
    "\n",
    "for g,h in enumerate(points_and_coord):\n",
    "    my_udc = Udc[int(points_and_coord[h][0])]\n",
    "    my_urf = Urf[int(points_and_coord[h][1])]\n",
    "    x.append(my_udc)\n",
    "    y.append(my_urf)\n",
    "    z.append(detect_rate[g])\n",
    "    \n",
    "# calcul des paramètres Mathieu et frequences propres\n",
    "\n",
    "wr = np.zeros((len(points_and_coord)))\n",
    "wz = np.zeros((len(points_and_coord)))\n",
    "w_ratio = np.zeros((len(points_and_coord)))\n",
    "\n",
    "for i,j in enumerate(points_and_coord):\n",
    "    # voltage recovery\n",
    "    coucou_DC = int(j[j.find('DC')+2:j.find('DC')+4])\n",
    "    coucou_RF = int(j[j.find('RF')+2:j.find('RF')+4])\n",
    "#     print(Udc[coucou_DC],'   ',Urf[coucou_RF])\n",
    "    ax = 4*(C_e/m_Ca)*Udc[coucou_DC]/(r0**2*Omega**2)\n",
    "    az = 8*mkappa*(C_e/m_Ca)*Udc[coucou_DC]/(d0**2*Omega**2)\n",
    "    qx = -4*(C_e/m_Ca)*Urf[coucou_RF]/(r0**2*Omega**2)\n",
    "    wr[i] = Omega/2*sqrt(qx**2/2+ax-0.5*az)/(2*pi)\n",
    "    wz[i] = sqrt(2*mkappa*C_e*Udc[coucou_DC]/(m_Ca*d0**2))/(2*pi)\n",
    "    w_ratio[i] = wz[i]/wr[i]\n",
    "print(i,wr)\n",
    "\n",
    "# Len.append(data['Len'])\n",
    "# DeltaEc.append(data['DeltaEc'])\n",
    "\n",
    "figname = 'DE_vs_wr'\n",
    "fig, ax = plt.subplots(1, 1,num=figname,clear=True,sharex=True,sharey=True)\n",
    "fig.set_size_inches(14,6)\n",
    "\n",
    "for i,j in enumerate(condition):\n",
    "    ii = my_order[i]\n",
    "    print(ii,j)\n",
    "    for k,l in enumerate(DeltaEc[ii]):\n",
    "        if SNR[ii][k] > 1:\n",
    "            ax.scatter(wr[i]*1e-3,l*1000,color='xkcd:green',marker='3')\n",
    "        else:\n",
    "            ax.scatter(wr[i]*1e-3,l*1000,color='xkcd:rouge',marker='4')\n",
    "    ax.text(wr[i]*1e-3+1,max(DeltaEc[ii][:])*1000+1, i,\n",
    "            fontsize='10',ha='center')\n",
    "#     ax.vlines(wr[i]*1e-3+3,max(DeltaEc[ii][:])*1000+2.8,max(DeltaEc[ii][:])*1000+0.2,ls=':')\n",
    "# ax.set_xlabel(r'$\\langle L \\rangle /2$'\n",
    "ax.set_xlabel(r'$f_r$ [kHz]')\n",
    "ax.set_ylabel(r'$\\Delta E_c$ [meV]')\n",
    "ax.set_ylim(-76,9)\n",
    "ax.grid()\n",
    "\n",
    "tight_layout()\n",
    "\n",
    "# savefig(figname+'.png',dpi=600)"
   ]
  },
  {
   "cell_type": "code",
   "execution_count": 154,
   "metadata": {},
   "outputs": [
    {
     "name": "stdout",
     "output_type": "stream",
     "text": [
      "0 DC01_RF08\n",
      "1 DC01_RF09\n",
      "2 DC01_RF10\n",
      "3 DC01_RF11\n",
      "4 DC03_RF08\n",
      "5 DC03_RF09\n",
      "6 DC03_RF10\n",
      "7 DC03_RF11\n",
      "8 DC05_RF08\n",
      "9 DC05_RF09\n",
      "10 DC05_RF10\n",
      "11 DC05_RF11\n",
      "12 DC07_RF08\n",
      "13 DC07_RF09\n",
      "14 DC07_RF10\n",
      "15 DC07_RF11\n",
      "16 DC09_RF08\n",
      "17 DC09_RF09\n",
      "18 DC09_RF10\n",
      "19 DC09_RF11\n",
      "24 DC11_RF08\n",
      "25 DC11_RF09\n",
      "26 DC11_RF10\n",
      "27 DC11_RF11\n",
      "20 DC18_RF08\n",
      "21 DC18_RF09\n",
      "22 DC18_RF10\n",
      "23 DC18_RF11\n"
     ]
    }
   ],
   "source": [
    "# Plot f_r en fct L/2\n",
    "\n",
    "figname = 'wr_vs_L'\n",
    "fig, ax = plt.subplots(1, 1,num=figname,clear=True,sharex=True,sharey=True)\n",
    "fig.set_size_inches(14,6)\n",
    "\n",
    "for i,j in enumerate(condition):\n",
    "    ii = my_order[i]\n",
    "    print(ii,j)\n",
    "    for k,l in enumerate(Len[ii][:]):\n",
    "        if SNR[ii][k] > 1:\n",
    "            ax.scatter(l*1e3,wr[i]*1e-3,color='xkcd:green',marker='3')\n",
    "        else:\n",
    "            ax.scatter(l*1e3,wr[i]*1e-3,color='xkcd:rouge',marker='4')\n",
    "    ax.text(l*1e3,wr[i]*1e-3+4, ii,\n",
    "            fontsize='10',ha='center')\n",
    "#     ax.vlines(wr[i]*1e-3+3,max(DeltaEc[ii][:])*1000+2.8,max(DeltaEc[ii][:])*1000+0.2,ls=':')\n",
    "# ax.set_xlabel(r'$\\langle L \\rangle /2$'\n",
    "ax.set_xlabel(r'$ L/2$ [µm]')\n",
    "ax.set_ylabel(r'$f_r$ [kHz]')\n",
    "ax.set_ylim(365,545)\n",
    "ax.grid()\n",
    "\n",
    "tight_layout()\n",
    "\n",
    "savefig(figname+'.png',dpi=600)"
   ]
  },
  {
   "cell_type": "markdown",
   "metadata": {},
   "source": [
    "# Histogram"
   ]
  },
  {
   "cell_type": "code",
   "execution_count": 33,
   "metadata": {},
   "outputs": [
    {
     "data": {
      "text/plain": [
       "(28, 100)"
      ]
     },
     "execution_count": 33,
     "metadata": {},
     "output_type": "execute_result"
    }
   ],
   "source": [
    "shape(SNR)"
   ]
  },
  {
   "cell_type": "code",
   "execution_count": 75,
   "metadata": {},
   "outputs": [],
   "source": [
    "# Plot DE_hist\n",
    "\n",
    "figname = 'DE_hist'\n",
    "fig, ax = plt.subplots(1, 1,num=figname,clear=True,sharex=True,sharey=True)\n",
    "fig.set_size_inches(14,6)\n",
    "\n",
    "my_condition = 22\n",
    "\n",
    "y_all = DeltaEc[my_condition]*1000\n",
    "y_detec    = y_all[SNR[my_condition]>=1]\n",
    "y_nondetec = y_all[SNR[my_condition]<1]\n",
    "my_bins = arange(-50,0,1)\n",
    "ax.hist(y_detec,bins=my_bins ,color='xkcd:green', alpha=0.6, hatch='O', edgecolor='black', linewidth=1.2)\n",
    "ax.hist(y_nondetec,bins=my_bins ,color='xkcd:rouge', alpha=0.6, hatch='.', edgecolor='black', linewidth=1.2)\n",
    "\n",
    "ax.annotate(my_condition, xy=(0.015, 0.96), xycoords='axes fraction', # pts_concerned[to_plot]\n",
    "size=15, ha='left', va='top',weight='bold',\n",
    "bbox=dict(boxstyle='round',color='w',ec='k'))\n",
    "\n",
    "ax.yaxis.set_major_locator(matplotlib.ticker.MultipleLocator(base=1))\n",
    "ax.xaxis.set_major_locator(matplotlib.ticker.MultipleLocator(base=5))\n",
    "\n",
    "\n",
    "ax.set_xlabel(r'$ \\Delta E_c$ [meV]')\n",
    "ax.set_ylabel(r'Histogram')\n",
    "# ax.set_ylim(365,545)\n",
    "ax.grid()\n",
    "\n",
    "tight_layout()\n",
    "\n",
    "savefig(figname+'_cond'+str(my_condition)+'.png',dpi=600)"
   ]
  },
  {
   "cell_type": "code",
   "execution_count": 29,
   "metadata": {},
   "outputs": [
    {
     "data": {
      "text/plain": [
       "array([-22.55356777, -23.06663856, -19.09993267, -23.01902536,\n",
       "       -16.41717955, -27.91413796, -24.44090508,  -9.07595517,\n",
       "       -30.28335729, -26.19080316, -11.52014783, -13.72661721,\n",
       "       -36.70497006, -19.20046538, -17.85505688, -15.74405256,\n",
       "       -24.60518283,  -8.37319142, -12.41937931, -32.85891349,\n",
       "       -29.91337287, -12.85233224, -18.35371161, -21.14506021,\n",
       "       -19.03754399, -11.08734724, -36.47494191, -14.32207278,\n",
       "       -11.41839006, -15.06560315, -20.551722  , -18.57154072,\n",
       "       -18.27026513, -18.71142799, -27.53770675, -17.51469107,\n",
       "       -17.06521836, -16.3298058 ,  -7.72380952, -21.11164664,\n",
       "       -35.47740434, -21.8579618 , -27.63333997, -23.16851187,\n",
       "       -19.40382131, -19.04988488,  -9.02098075, -21.95797639,\n",
       "       -27.85515171, -28.23215053, -24.92966867, -30.02354583,\n",
       "       -16.9136825 , -15.203937  , -18.79957084,  -9.92300481,\n",
       "       -24.61602929, -13.27141596, -25.85712334, -16.67924466,\n",
       "       -19.40765733, -15.82114006, -16.3503022 , -24.17045593,\n",
       "       -20.64658898, -23.24495884, -36.49827261, -18.8897094 ,\n",
       "       -18.14370107,  -9.67163415, -11.6025739 , -26.67378392,\n",
       "       -29.86086212, -24.0702156 , -22.92631489, -28.44863226,\n",
       "       -30.25603651, -16.64676037, -17.52978392, -27.02305426,\n",
       "       -15.86486341, -16.89930076,  -7.30093892, -25.28254263,\n",
       "       -19.51809444, -22.69055483, -17.85870821, -26.30651012,\n",
       "       -15.88968354, -12.0664351 , -18.54648237, -24.74158748,\n",
       "       -12.15044956, -14.21180096, -13.91087244, -16.29758333,\n",
       "        -7.79394484, -20.75616933, -20.9865254 , -17.03375744])"
      ]
     },
     "execution_count": 29,
     "metadata": {},
     "output_type": "execute_result"
    }
   ],
   "source": [
    "y"
   ]
  },
  {
   "cell_type": "markdown",
   "metadata": {},
   "source": [
    "# Gamma Plasma"
   ]
  },
  {
   "cell_type": "code",
   "execution_count": 50,
   "metadata": {},
   "outputs": [
    {
     "data": {
      "text/plain": [
       "3"
      ]
     },
     "execution_count": 50,
     "metadata": {},
     "output_type": "execute_result"
    }
   ],
   "source": [
    "n0 = list(n0)\n",
    "n0.index(min(n0))\n",
    "n0.index(max(n0))"
   ]
  },
  {
   "cell_type": "code",
   "execution_count": 42,
   "metadata": {},
   "outputs": [],
   "source": [
    "Len_moy = mean(Len,axis=1)*1e-3\n",
    "Ray_moy = mean(Ray,axis=1)*1e-3\n",
    "N_ions = 1024\n",
    "# gamma plasma\n",
    "V = 4/3*pi*Ray_moy**2*Len_moy\n",
    "n0 = N_ions/(V)\n",
    "aws = ( 3/(4*pi*n0) )**(1/3)\n",
    "temperature_ex = linspace(1e-4,1000,10000)\n",
    "\n",
    "# determine the extremum density\n",
    "indmin = list(n0).index(min(n0))\n",
    "indmax = list(n0).index(max(n0))\n",
    "\n",
    "gamma_plasma = []\n",
    "for i,j in enumerate(aws):\n",
    "    gamma_plasma.append(C_e**2/(4*pi*eps0*kb*temperature_ex*j))\n",
    "    \n",
    "# Plot Gamma plasma\n",
    "figname = 'Gamma_plasma'\n",
    "fig, ax = plt.subplots(1, 1,num=figname,clear=True,sharex=True,sharey=True)\n",
    "fig.set_size_inches(8,6)\n",
    "\n",
    "my_label = [n0[indmin],n0[indmax]]\n",
    "\n",
    "for j,k in enumerate([indmin,indmax]):\n",
    "    ax.plot(temperature_ex,gamma_plasma[k],label=f'{my_label[j]:.2e}')\n",
    "plt.yscale(\"log\")\n",
    "plt.xscale(\"log\")\n",
    "\n",
    "ax.hlines(2,1e-5,1e4,linestyle=':',lw=2)\n",
    "ax.hlines(278,1e-5,1e4,linestyle=':',lw=2)\n",
    "\n",
    "\n",
    "locmaj = matplotlib.ticker.LogLocator(base=10,numticks=12) \n",
    "ax.xaxis.set_major_locator(locmaj)\n",
    "ax.yaxis.set_major_locator(locmaj)\n",
    "locmin = matplotlib.ticker.LogLocator(base=10.0,subs=(0.2,0.4,0.6,0.8),numticks=12)\n",
    "ax.xaxis.set_minor_locator(locmin)\n",
    "ax.yaxis.set_minor_locator(locmin)\n",
    "\n",
    "ax.grid(b=True, which='major', linestyle='-')\n",
    "ax.grid(b=True, which='minor', linestyle='--')\n",
    "\n",
    "\n",
    "ax.annotate('Crystal', xy=(0.97, 0.885), xycoords='axes fraction', # pts_concerned[to_plot]\n",
    "size=15, ha='right', va='top',weight='bold',\n",
    "bbox=dict(boxstyle='round',color='w',ec='k'))\n",
    "\n",
    "ax.annotate('Liquid', xy=(0.97, 0.61), xycoords='axes fraction', # pts_concerned[to_plot]\n",
    "size=15, ha='right', va='top',weight='bold',\n",
    "bbox=dict(boxstyle='round',color='w',ec='k'))\n",
    "\n",
    "ax.annotate('Gas', xy=(0.97, 0.235), xycoords='axes fraction', # pts_concerned[to_plot]\n",
    "size=15, ha='right', va='top',weight='bold',\n",
    "bbox=dict(boxstyle='round',color='w',ec='k'))\n",
    "\n",
    "# ax.yaxis.set_major_locator(matplotlib.ticker.MultipleLocator(base=1))\n",
    "# ax.xaxis.set_major_locator(matplotlib.ticker.MultipleLocator(base=5))\n",
    "\n",
    "\n",
    "ax.set_xlabel(r'Temperature [K]')\n",
    "ax.set_ylabel(r'$\\Gamma_p$')\n",
    "ax.set_xlim(9e-5,1.2e3)\n",
    "ax.legend(title='Density [#ions/m$^3$]',loc=3,fontsize=18)\n",
    "# ax.grid()\n",
    "\n",
    "tight_layout()\n",
    "\n",
    "savefig('gamma_p_vs_temperature',dpi=600)"
   ]
  }
 ],
 "metadata": {
  "kernelspec": {
   "display_name": "Python 3",
   "language": "python",
   "name": "python3"
  },
  "language_info": {
   "codemirror_mode": {
    "name": "ipython",
    "version": 3
   },
   "file_extension": ".py",
   "mimetype": "text/x-python",
   "name": "python",
   "nbconvert_exporter": "python",
   "pygments_lexer": "ipython3",
   "version": "3.6.7"
  }
 },
 "nbformat": 4,
 "nbformat_minor": 4
}
