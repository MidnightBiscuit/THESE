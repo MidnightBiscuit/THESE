{
 "cells": [
  {
   "cell_type": "code",
   "execution_count": 8,
   "metadata": {},
   "outputs": [],
   "source": [
    "###########################################################\n",
    "#                                                         #\n",
    "#               TRAITEMENT SIMUS FORTRAN                  #\n",
    "#                     STATISTIQUES                        #\n",
    "#                          11/2020     Adrien Poindron    #\n",
    "###########################################################"
   ]
  },
  {
   "cell_type": "markdown",
   "metadata": {},
   "source": [
    "# Imports"
   ]
  },
  {
   "cell_type": "code",
   "execution_count": 9,
   "metadata": {},
   "outputs": [],
   "source": [
    "# %pylab\n",
    "\n",
    "import numpy\n",
    "import matplotlib\n",
    "from matplotlib import pylab, mlab, pyplot\n",
    "from mpl_toolkits.mplot3d import Axes3D\n",
    "np = numpy\n",
    "plt = pyplot\n",
    "\n",
    "from pylab import *\n",
    "from numpy import *"
   ]
  },
  {
   "cell_type": "code",
   "execution_count": 10,
   "metadata": {},
   "outputs": [],
   "source": [
    "import os\n",
    "from os import listdir\n",
    "from os.path import isfile, join\n",
    "\n",
    "import tkinter as tk\n",
    "from tkinter import filedialog\n",
    "%matplotlib qt\n",
    "\n",
    "from pathlib import Path"
   ]
  },
  {
   "cell_type": "code",
   "execution_count": 11,
   "metadata": {},
   "outputs": [],
   "source": [
    "from natsort import natsorted   # natural sort marche de ouf\n",
    "import re                       # find '/' in strings\n",
    "import timeit\n",
    "cm = pylab.get_cmap('summer')   # colormap par défaut color=cm(k/len(array))"
   ]
  },
  {
   "cell_type": "code",
   "execution_count": 12,
   "metadata": {},
   "outputs": [],
   "source": [
    "from pathlib import Path\n",
    "from matplotlib import gridspec\n",
    "from mpl_toolkits.axes_grid1.inset_locator import zoomed_inset_axes\n",
    "from mpl_toolkits.axes_grid1.inset_locator import mark_inset\n",
    "from scipy.signal import savgol_filter"
   ]
  },
  {
   "cell_type": "code",
   "execution_count": 14,
   "metadata": {},
   "outputs": [],
   "source": [
    "# Fonctions persos de Jofre et Adrien\n",
    "\n",
    "# %run function_jofre.ipy\n",
    "%run ../../Functions/1.2/data_fct_Adrien_point_by_point\n",
    "\n",
    "matplotlib.rcParams.update({'font.size': 25})"
   ]
  },
  {
   "cell_type": "code",
   "execution_count": 91,
   "metadata": {},
   "outputs": [
    {
     "name": "stdout",
     "output_type": "stream",
     "text": [
      "$\\kappa_{simion}$ = 0.270471\n"
     ]
    }
   ],
   "source": [
    "# Constantes de la physique\n",
    "# ABSOLUMENT RECHARGER APRÈS AVOIR EXECUTÉ LES CASES D'IMPORT AU DESSUS\n",
    "\n",
    "C_e = 1.602e-19        # Coulomb\n",
    "kb = 1.38064852*1e-23  # Boltzman\n",
    "m_Ca = 40.078*1.66054e-27 # masse Ca 40.078\n",
    "m_GM = 1e6*1.66054e-27 # la masse de la GMol\n",
    "eps0 = 8.854187*1e-12  # permittivité électrique du vide\n",
    "\n",
    "r0 = 2.5e-3 # 2.5e-3   # rayon piège Ca+\n",
    "d0 = 4e-3/2            # longueur piège Ca+\n",
    "\n",
    "Omega = 2.00e6*2*pi # 2.047e6\n",
    "\n",
    "bk = 4 # nombre de barreaux par groupe (2 -> 4-pole , 4 -> 8-pole ...)\n",
    "\n",
    "mkappa = 0.23          # écrantage piège réel GiantMol\n",
    "wzLC = (2*pi*90806.9982303)**2\n",
    "kappa_simion = m_Ca*d0**2*wzLC/(2*C_e)\n",
    "print('%s = %f' % ('$\\kappa_{simion}$',kappa_simion) )\n",
    "\n",
    "zeta = kappa_simion*r0**2/d0**2"
   ]
  },
  {
   "cell_type": "markdown",
   "metadata": {},
   "source": [
    "# Sélection fichiers et chargement des données"
   ]
  },
  {
   "cell_type": "code",
   "execution_count": 44,
   "metadata": {},
   "outputs": [],
   "source": [
    "def load_file_GUI(dir_string):\n",
    "\n",
    "    root = tk.Tk()\n",
    "    root.withdraw()\n",
    "\n",
    "    file_path = filedialog.askopenfilename(initialdir = dir_string,\n",
    "                                       multiple=True)\n",
    "    return file_path"
   ]
  },
  {
   "cell_type": "code",
   "execution_count": 48,
   "metadata": {},
   "outputs": [
    {
     "name": "stdout",
     "output_type": "stream",
     "text": [
      "('/home/adrian/Documents/Programmes/Python/GiantMol/SimAnalysisPointbyPoint/2.1/All_stat_DC01_RF08_50eV.npz', '/home/adrian/Documents/Programmes/Python/GiantMol/SimAnalysisPointbyPoint/2.1/All_stat_DC01_RF09_50eV.npz', '/home/adrian/Documents/Programmes/Python/GiantMol/SimAnalysisPointbyPoint/2.1/All_stat_DC01_RF10_50eV.npz', '/home/adrian/Documents/Programmes/Python/GiantMol/SimAnalysisPointbyPoint/2.1/All_stat_DC01_RF11_50eV.npz', '/home/adrian/Documents/Programmes/Python/GiantMol/SimAnalysisPointbyPoint/2.1/All_stat_DC03_RF08_50eV.npz', '/home/adrian/Documents/Programmes/Python/GiantMol/SimAnalysisPointbyPoint/2.1/All_stat_DC03_RF09_50eV.npz', '/home/adrian/Documents/Programmes/Python/GiantMol/SimAnalysisPointbyPoint/2.1/All_stat_DC03_RF10_50eV.npz', '/home/adrian/Documents/Programmes/Python/GiantMol/SimAnalysisPointbyPoint/2.1/All_stat_DC03_RF11_50eV.npz', '/home/adrian/Documents/Programmes/Python/GiantMol/SimAnalysisPointbyPoint/2.1/All_stat_DC05_RF08_50eV.npz', '/home/adrian/Documents/Programmes/Python/GiantMol/SimAnalysisPointbyPoint/2.1/All_stat_DC05_RF09_50eV.npz', '/home/adrian/Documents/Programmes/Python/GiantMol/SimAnalysisPointbyPoint/2.1/All_stat_DC05_RF10_50eV.npz', '/home/adrian/Documents/Programmes/Python/GiantMol/SimAnalysisPointbyPoint/2.1/All_stat_DC05_RF11_50eV.npz', '/home/adrian/Documents/Programmes/Python/GiantMol/SimAnalysisPointbyPoint/2.1/All_stat_DC07_RF08_50eV.npz', '/home/adrian/Documents/Programmes/Python/GiantMol/SimAnalysisPointbyPoint/2.1/All_stat_DC07_RF09_50eV.npz', '/home/adrian/Documents/Programmes/Python/GiantMol/SimAnalysisPointbyPoint/2.1/All_stat_DC07_RF10_50eV.npz', '/home/adrian/Documents/Programmes/Python/GiantMol/SimAnalysisPointbyPoint/2.1/All_stat_DC07_RF11_50eV.npz', '/home/adrian/Documents/Programmes/Python/GiantMol/SimAnalysisPointbyPoint/2.1/All_stat_DC09_RF08_50eV.npz', '/home/adrian/Documents/Programmes/Python/GiantMol/SimAnalysisPointbyPoint/2.1/All_stat_DC09_RF09_50eV.npz', '/home/adrian/Documents/Programmes/Python/GiantMol/SimAnalysisPointbyPoint/2.1/All_stat_DC09_RF10_50eV.npz', '/home/adrian/Documents/Programmes/Python/GiantMol/SimAnalysisPointbyPoint/2.1/All_stat_DC09_RF11_50eV.npz', '/home/adrian/Documents/Programmes/Python/GiantMol/SimAnalysisPointbyPoint/2.1/All_stat_DC11_RF08_50eV.npz', '/home/adrian/Documents/Programmes/Python/GiantMol/SimAnalysisPointbyPoint/2.1/All_stat_DC11_RF09_50eV.npz', '/home/adrian/Documents/Programmes/Python/GiantMol/SimAnalysisPointbyPoint/2.1/All_stat_DC11_RF10_50eV.npz', '/home/adrian/Documents/Programmes/Python/GiantMol/SimAnalysisPointbyPoint/2.1/All_stat_DC11_RF11_50eV.npz', '/home/adrian/Documents/Programmes/Python/GiantMol/SimAnalysisPointbyPoint/2.1/All_stat_DC18_RF08_50eV.npz', '/home/adrian/Documents/Programmes/Python/GiantMol/SimAnalysisPointbyPoint/2.1/All_stat_DC18_RF09_50eV.npz', '/home/adrian/Documents/Programmes/Python/GiantMol/SimAnalysisPointbyPoint/2.1/All_stat_DC18_RF10_50eV.npz', '/home/adrian/Documents/Programmes/Python/GiantMol/SimAnalysisPointbyPoint/2.1/All_stat_DC18_RF11_50eV.npz')\n"
     ]
    }
   ],
   "source": [
    "file_path = load_file_GUI('/home/adrian/Documents/Programmes/Python/GiantMol/SimAnalysisPointbyPoint')\n",
    "print(file_path)"
   ]
  },
  {
   "cell_type": "code",
   "execution_count": 62,
   "metadata": {},
   "outputs": [],
   "source": [
    "# load check\n",
    "time         = []\n",
    "Temperature  = []\n",
    "Temp_var     = []\n",
    "Fluorescence = []\n",
    "Fluo_var     = []\n",
    "SNR          = []\n",
    "Ray          = []\n",
    "Len          = []\n",
    "DeltaEc      = []\n",
    "condition    = []\n",
    "\n",
    "for outfile in file_path:\n",
    "    with load(outfile) as data:\n",
    "        time.append(data['time'])\n",
    "        Temperature.append(data['Temperature'])\n",
    "        Temp_var.append(data['Temp_var'])\n",
    "        Fluorescence.append(data['Fluo'])\n",
    "        Fluo_var.append(data['Fluo_var'])\n",
    "        SNR.append(data['SNR'])\n",
    "        Ray.append(data['Ray'])\n",
    "        Len.append(data['Len'])\n",
    "        DeltaEc.append(data['DeltaEc'])\n",
    "        condition.append(data['condition'])\n",
    "\n",
    "# Temperature,Temp_var,\n",
    "# Fluo, Fluo_var, SNR,\n",
    "# Ray, Len,\n",
    "# DeltaEc,\n",
    "# condition"
   ]
  },
  {
   "cell_type": "markdown",
   "metadata": {},
   "source": [
    "# Traitement des données"
   ]
  },
  {
   "cell_type": "code",
   "execution_count": 64,
   "metadata": {},
   "outputs": [
    {
     "data": {
      "text/plain": [
       "((28, 100, 20850), (28, 100, 20850, 3), (28, 100, 19860))"
      ]
     },
     "execution_count": 64,
     "metadata": {},
     "output_type": "execute_result"
    }
   ],
   "source": [
    "shape(time),shape(Temperature),shape(Fluorescence)"
   ]
  },
  {
   "cell_type": "code",
   "execution_count": 95,
   "metadata": {},
   "outputs": [
    {
     "name": "stdout",
     "output_type": "stream",
     "text": [
      "(20850,) (20850, 3) (19860,)\n",
      "5e-09\n",
      "990\n"
     ]
    }
   ],
   "source": [
    "cond_num = len(condition)\n",
    "\n",
    "plot_point = 10\n",
    "plot_try   = 25\n",
    "\n",
    "tt    = time[plot_point][plot_try]\n",
    "T_all = Temperature[plot_point][plot_try]\n",
    "PM    = Fluorescence[plot_point][plot_try]\n",
    "\n",
    "print(shape(tt),shape(T_all),shape(PM))\n",
    "\n",
    "n_dt = 100\n",
    "dt  = 2*pi / (n_dt*Omega)\n",
    "i_free__fly_Lan = 1000\n",
    "i_laser_fly = 6000\n",
    "i_laser_fly_quench = 8000\n",
    "print(dt)\n",
    "diff_time = len(tt)-len(PM)\n",
    "print(diff_time)"
   ]
  },
  {
   "cell_type": "code",
   "execution_count": 102,
   "metadata": {},
   "outputs": [
    {
     "ename": "NameError",
     "evalue": "name 'ta' is not defined",
     "output_type": "error",
     "traceback": [
      "\u001b[0;31m---------------------------------------------------------------------------\u001b[0m",
      "\u001b[0;31mNameError\u001b[0m                                 Traceback (most recent call last)",
      "\u001b[0;32m<ipython-input-102-03d18f0871e6>\u001b[0m in \u001b[0;36m<module>\u001b[0;34m()\u001b[0m\n\u001b[1;32m     91\u001b[0m \u001b[0maxins\u001b[0m\u001b[0;34m.\u001b[0m\u001b[0mvlines\u001b[0m\u001b[0;34m(\u001b[0m\u001b[0mtime_switch\u001b[0m\u001b[0;34m*\u001b[0m\u001b[0;36m1e3\u001b[0m\u001b[0;34m,\u001b[0m\u001b[0;36m1e-4\u001b[0m\u001b[0;34m,\u001b[0m\u001b[0;36m1e4\u001b[0m\u001b[0;34m,\u001b[0m\u001b[0mcolor\u001b[0m\u001b[0;34m=\u001b[0m\u001b[0;34m'black'\u001b[0m\u001b[0;34m,\u001b[0m\u001b[0mlinestyle\u001b[0m\u001b[0;34m=\u001b[0m\u001b[0;34m'-'\u001b[0m\u001b[0;34m)\u001b[0m\u001b[0;34m\u001b[0m\u001b[0;34m\u001b[0m\u001b[0m\n\u001b[1;32m     92\u001b[0m \u001b[0mtime_switch\u001b[0m \u001b[0;34m=\u001b[0m \u001b[0;34m(\u001b[0m\u001b[0mi_free__fly_Lan\u001b[0m\u001b[0;34m+\u001b[0m\u001b[0mi_laser_fly\u001b[0m  \u001b[0;34m+\u001b[0m\u001b[0mi_laser_fly_quench\u001b[0m\u001b[0;34m)\u001b[0m\u001b[0;34m*\u001b[0m\u001b[0mdt\u001b[0m\u001b[0;34m\u001b[0m\u001b[0;34m\u001b[0m\u001b[0m\n\u001b[0;32m---> 93\u001b[0;31m \u001b[0maxins\u001b[0m\u001b[0;34m.\u001b[0m\u001b[0mvlines\u001b[0m\u001b[0;34m(\u001b[0m\u001b[0mta\u001b[0m\u001b[0;34m[\u001b[0m\u001b[0;36m2\u001b[0m\u001b[0;34m]\u001b[0m\u001b[0;34m*\u001b[0m\u001b[0;36m1e3\u001b[0m\u001b[0;34m,\u001b[0m\u001b[0;36m1e-4\u001b[0m\u001b[0;34m,\u001b[0m\u001b[0;36m1e4\u001b[0m\u001b[0;34m,\u001b[0m\u001b[0mcolor\u001b[0m\u001b[0;34m=\u001b[0m\u001b[0;34m'black'\u001b[0m\u001b[0;34m)\u001b[0m\u001b[0;34m\u001b[0m\u001b[0;34m\u001b[0m\u001b[0m\n\u001b[0m\u001b[1;32m     94\u001b[0m \u001b[0;34m\u001b[0m\u001b[0m\n\u001b[1;32m     95\u001b[0m axins.add_patch(\n",
      "\u001b[0;31mNameError\u001b[0m: name 'ta' is not defined"
     ]
    }
   ],
   "source": [
    "import matplotlib.pyplot as plt\n",
    "import matplotlib.patches as patches\n",
    "\n",
    "# Plot temperature Langevin + md laser  ALL SimuType  ALL TEMP MEAN\n",
    "matplotlib.rcParams.update({'font.size': 25})\n",
    "\n",
    "#fig_name = file_name[-9:]\n",
    "figname = 'T_and_PM_plot_example'\n",
    "fig1 = plt.figure(num=figname,clear='True')\n",
    "fig1.set_size_inches(11.69,8.27)\n",
    "# set height ratios for sublots\n",
    "gs = gridspec.GridSpec(2, 1, height_ratios=[7, 3]) \n",
    "# the fisrt subplot\n",
    "ax1 = plt.subplot(gs[0])\n",
    "\n",
    "ax1.semilogy(tt*1e3,savgol_filter(mean(T_all,axis=1),25,1), label='Tx',color='red',lw=2.5)\n",
    "\n",
    "time_switch = i_free__fly_Lan*dt\n",
    "ax1.vlines(time_switch*1e3,1e-5,1e4,color='black')\n",
    "time_switch = (i_free__fly_Lan+i_laser_fly)*dt\n",
    "ax1.vlines(time_switch*1e3,1e-5,1e4,color='black',linestyle='--')\n",
    "time_switch = (i_free__fly_Lan+i_laser_fly+i_laser_fly_quench)*dt\n",
    "ax1.vlines(time_switch*1e3,1e-4,1e4,color='black',linestyle='-')\n",
    "time_switch = (i_free__fly_Lan+i_laser_fly*2+i_laser_fly_quench)*dt\n",
    "# ax1.vlines((ta[2])*1e3,1e-4,1e4,color='black')\n",
    "# ax1.hlines(0.5,7.5,8.5, linestyle=':')\n",
    "# ax1.vlines((time_switch+ta[2]-ta[1])*1e3,1e-4,1e4,color='purple')\n",
    "ax1.grid()\n",
    "ylabel('T [K]')\n",
    "\n",
    "ax1.annotate('1', xy=(0.22,1.3e-4), xycoords='data',\n",
    "size=15, ha='center', va='top', color='xkcd:black',\n",
    "bbox=dict(fc='white',edgecolor='black'))\n",
    "ax1.annotate('2', xy=(2,1.3e-4), xycoords='data',\n",
    "size=15, ha='center', va='top', color='xkcd:black',\n",
    "bbox=dict(fc='white',edgecolor='black'))\n",
    "ax1.annotate('3', xy=((3.5+7.5)/2,1.3e-4), xycoords='data',\n",
    "size=15, ha='center', va='top', color='xkcd:black',\n",
    "bbox=dict(fc='white',edgecolor='black'))\n",
    "# ax1.annotate('4', xy=((7.5+7.57)/2,2.5e-4), xycoords='data',\n",
    "# size=15, ha='center', va='top', color='xkcd:black',\n",
    "# bbox=dict(fc='white',edgecolor='black'))\n",
    "ax1.annotate('5', xy=((7.5+10.5)/2,1.3e-4), xycoords='data',\n",
    "size=15, ha='center', va='top', color='xkcd:black',\n",
    "bbox=dict(fc='white',edgecolor='black'))\n",
    "\n",
    "# annotate('Laser ON', xy=(0.5,350), xycoords='data',\n",
    "# size=24, ha='left', va='top', color='xkcd:azul',\n",
    "# bbox=dict(boxstyle='round', fc='white',edgecolor='xkcd:azul')\n",
    "\n",
    "# ~ xlabel('time[ms]')\n",
    "# ~ ylabel('T[K]')\n",
    "plt.setp(ax1.get_xticklabels(),visible=False)\n",
    "\n",
    "# ax2 = subplot(212,sharex=ax1)\n",
    "ax2 = plt.subplot(gs[1], sharex = ax1)\n",
    "\n",
    "# ax2.plot(tt_md*1e3,PM, label='Tx')\n",
    "\n",
    "tt_1ms_step = tt[diff_time::2000]\n",
    "PM_1ms = PM[::2000]\n",
    "tt_1us_step = tt[diff_time::2]\n",
    "PM_1us = PM[::2]\n",
    "\n",
    "ax2.scatter(tt_1ms_step*1e3,PM_1ms, label='cts/ms',marker='P',s=200,lw=1.5,color='black',zorder=100)\n",
    "ax2.plot(tt_1us_step[:-500]*1e3,PM_1us[:-500], label='cts/µs',color='blue')\n",
    "ax2.legend()\n",
    "time_switch = i_free__fly_Lan*dt\n",
    "ax2.vlines(time_switch*1e3,1e-4,150,color='black')\n",
    "time_switch = (i_free__fly_Lan+i_laser_fly)*dt\n",
    "# ax2.vlines(time_switch*1e3,1e-4,150,color='black',linestyle='--')\n",
    "time_switch = (i_free__fly_Lan+i_laser_fly+i_laser_fly_quench)*dt\n",
    "# ax2.vlines(time_switch*1e3,1e-4,70,color='orange')\n",
    "time_switch = (i_free__fly_Lan+i_laser_fly*2+i_laser_fly_quench)*dt\n",
    "# ax2.vlines((time_switch+ta[2]-ta[1])*1e3,1e-4,90,color='purple')\n",
    "ax2.grid()\n",
    "# ax2.yaxis.set_major_locator(matplotlib.ticker.MultipleLocator(base=20))\n",
    "# annotate('laser off après injection', xy=(0.5,350), xycoords='data',\n",
    "# size=24, ha='left', va='top', color='xkcd:azul',\n",
    "# bbox=dict(boxstyle='round', fc='white',edgecolor='xkcd:azul'))\n",
    "\n",
    "xlabel('time [ms]')\n",
    "ylabel('PM signal')\n",
    "\n",
    "left, bottom, width, height = [0.345, 0.565, 0.35, 0.38] # cadre zoom\n",
    "axins = fig1.add_axes([left, bottom, width, height])\n",
    "\n",
    "axins.semilogy(tt*1e3,mean(T_all,axis=1), label='Tx',color='red',lw=2.5,marker='x')\n",
    "# axins.hlines(0.5,7.4,7.66, linestyle=':')\n",
    "time_switch = (i_free__fly_Lan+i_laser_fly+i_laser_fly_quench)*dt\n",
    "axins.vlines(time_switch*1e3,1e-4,1e4,color='black',linestyle='-')\n",
    "time_switch = (i_free__fly_Lan+i_laser_fly  +i_laser_fly_quench)*dt\n",
    "axins.vlines(ta[2]*1e3,1e-4,1e4,color='black')\n",
    "\n",
    "axins.add_patch(\n",
    "     patches.Rectangle(\n",
    "        (t_in*1000, 3e-4),\n",
    "        (t_out - t_in)*1000,\n",
    "        0.1,\n",
    "        edgecolor ='k',\n",
    "        facecolor =  cc('grey',0.5),\n",
    "        fill=True\n",
    "     ) )\n",
    "\n",
    "x1, x2, y1, y2 = 7.44, 7.63, 0.00012, 50 # limites zoom\n",
    "axins.set_xlim(x1, x2)\n",
    "axins.set_ylim(y1, y2)\n",
    "\n",
    "# axins.yaxis.tick_right()\n",
    "\n",
    "\n",
    "locmaj = matplotlib.ticker.LogLocator(base=10,numticks=12) \n",
    "axins.yaxis.set_major_locator(locmaj)\n",
    "locmin = matplotlib.ticker.LogLocator(base=10.0,subs=(0.2,0.4,0.6,0.8),numticks=12)\n",
    "axins.yaxis.set_minor_locator(locmin)\n",
    "axins.yaxis.set_minor_formatter(matplotlib.ticker.NullFormatter())\n",
    "plt.setp(axins.get_xticklabels(), backgroundcolor=\"w\")\n",
    "plt.setp(axins.get_yticklabels(), backgroundcolor=\"w\")\n",
    "\n",
    "axins.grid(b=True, which='major', linestyle='-')\n",
    "axins.grid(b=True, which='minor', linestyle='--')\n",
    "\n",
    "# axins.tick_params(axis=\"y\",direction=\"in\", pad=-53)\n",
    "mark_inset(ax1, axins, loc1=1, loc2=3, fc=\"none\", ec=\"0.25\")\n",
    "\n",
    "axins.annotate('3', xy=(7.48,30), xycoords='data',\n",
    "size=15, ha='center', va='top', color='xkcd:black',\n",
    "bbox=dict(fc='white',edgecolor='black'))\n",
    "axins.annotate('4', xy=((7.5+7.53)/2,30), xycoords='data',\n",
    "size=15, ha='center', va='top', color='xkcd:black',\n",
    "bbox=dict(fc='white',edgecolor='black'))\n",
    "axins.annotate('5', xy=(7.55,30), xycoords='data',\n",
    "size=15, ha='center', va='top', color='xkcd:black',\n",
    "bbox=dict(fc='white',edgecolor='black'))\n",
    "\n",
    "ax1.set_xlim(-0.15, 10.75)\n",
    "ax1.set_ylim(0.00005, 1000)\n",
    "ax2.set_ylim(-0, 135)\n",
    "\n",
    "plt.tight_layout()\n",
    "subplots_adjust(hspace=0.0,bottom=0.11,left=0.12,right=0.98,top=0.97)\n",
    "# savefig(fname = figname+'_'+re.sub('/','_',dirname_hc[31:-1])+'.png',dpi=300)\n",
    "# savefig(figname+'_D'+str(Detuning)+'_50eV'+'.png',dpi=300)"
   ]
  },
  {
   "cell_type": "code",
   "execution_count": null,
   "metadata": {},
   "outputs": [],
   "source": []
  }
 ],
 "metadata": {
  "kernelspec": {
   "display_name": "Python 3",
   "language": "python",
   "name": "python3"
  },
  "language_info": {
   "codemirror_mode": {
    "name": "ipython",
    "version": 3
   },
   "file_extension": ".py",
   "mimetype": "text/x-python",
   "name": "python",
   "nbconvert_exporter": "python",
   "pygments_lexer": "ipython3",
   "version": "3.6.7"
  }
 },
 "nbformat": 4,
 "nbformat_minor": 4
}
