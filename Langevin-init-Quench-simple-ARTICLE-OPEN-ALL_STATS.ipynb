{
 "cells": [
  {
   "cell_type": "code",
   "execution_count": 8,
   "metadata": {},
   "outputs": [],
   "source": [
    "###########################################################\n",
    "#                                                         #\n",
    "#               TRAITEMENT SIMUS FORTRAN                  #\n",
    "#                     STATISTIQUES                        #\n",
    "#                          11/2020     Adrien Poindron    #\n",
    "###########################################################"
   ]
  },
  {
   "cell_type": "markdown",
   "metadata": {},
   "source": [
    "# Imports"
   ]
  },
  {
   "cell_type": "code",
   "execution_count": 1,
   "metadata": {},
   "outputs": [],
   "source": [
    "# %pylab\n",
    "\n",
    "import numpy\n",
    "import matplotlib\n",
    "from matplotlib import pylab, mlab, pyplot\n",
    "from mpl_toolkits.mplot3d import Axes3D\n",
    "np = numpy\n",
    "plt = pyplot\n",
    "\n",
    "from pylab import *\n",
    "from numpy import *"
   ]
  },
  {
   "cell_type": "code",
   "execution_count": 2,
   "metadata": {},
   "outputs": [],
   "source": [
    "import os\n",
    "from os import listdir\n",
    "from os.path import isfile, join\n",
    "\n",
    "import tkinter as tk\n",
    "from tkinter import filedialog\n",
    "%matplotlib qt\n",
    "\n",
    "from pathlib import Path"
   ]
  },
  {
   "cell_type": "code",
   "execution_count": 3,
   "metadata": {},
   "outputs": [],
   "source": [
    "from natsort import natsorted   # natural sort marche de ouf\n",
    "import re                       # find '/' in strings\n",
    "import timeit\n",
    "cm = pylab.get_cmap('summer')   # colormap par défaut color=cm(k/len(array))"
   ]
  },
  {
   "cell_type": "code",
   "execution_count": 4,
   "metadata": {},
   "outputs": [],
   "source": [
    "from pathlib import Path\n",
    "from matplotlib import gridspec\n",
    "from mpl_toolkits.axes_grid1.inset_locator import zoomed_inset_axes\n",
    "from mpl_toolkits.axes_grid1.inset_locator import mark_inset\n",
    "from scipy.signal import savgol_filter"
   ]
  },
  {
   "cell_type": "code",
   "execution_count": 43,
   "metadata": {},
   "outputs": [],
   "source": [
    "# Fonctions persos de Jofre et Adrien\n",
    "\n",
    "# %run function_jofre.ipy\n",
    "# %run ../../Functions/1.2/data_fct_Adrien_point_by_point\n",
    "%run ../GiantMol/Functions/1.2/data_fct_Adrien_point_by_point\n",
    "\n",
    "matplotlib.rcParams.update({'font.size': 25})"
   ]
  },
  {
   "cell_type": "code",
   "execution_count": 7,
   "metadata": {},
   "outputs": [
    {
     "name": "stdout",
     "output_type": "stream",
     "text": [
      "$\\kappa_{simion}$ = 0.270471\n"
     ]
    }
   ],
   "source": [
    "# Constantes de la physique\n",
    "# ABSOLUMENT RECHARGER APRÈS AVOIR EXECUTÉ LES CASES D'IMPORT AU DESSUS\n",
    "\n",
    "C_e = 1.602e-19        # Coulomb\n",
    "kb = 1.38064852*1e-23  # Boltzman\n",
    "m_Ca = 40.078*1.66054e-27 # masse Ca 40.078\n",
    "m_GM = 1e6*1.66054e-27 # la masse de la GMol\n",
    "eps0 = 8.854187*1e-12  # permittivité électrique du vide\n",
    "\n",
    "r0 = 2.5e-3 # 2.5e-3   # rayon piège Ca+\n",
    "d0 = 4e-3/2            # longueur piège Ca+\n",
    "\n",
    "Omega = 2.00e6*2*pi # 2.047e6\n",
    "\n",
    "bk = 4 # nombre de barreaux par groupe (2 -> 4-pole , 4 -> 8-pole ...)\n",
    "\n",
    "mkappa = 0.23          b# écrantage piège réel GiantMol\n",
    "wzLC = (2*pi*90806.9982303)**2\n",
    "kappa_simion = m_Ca*d0**2*wzLC/(2*C_e)\n",
    "print('%s = %f' % ('$\\kappa_{simion}$',kappa_simion) )\n",
    "\n",
    "zeta = kappa_simion*r0**2/d0**2"
   ]
  },
  {
   "cell_type": "code",
   "execution_count": 81,
   "metadata": {},
   "outputs": [],
   "source": [
    "renorm = 0.5*m_GM/C_e"
   ]
  },
  {
   "cell_type": "markdown",
   "metadata": {},
   "source": [
    "# Sélection fichiers et chargement des données"
   ]
  },
  {
   "cell_type": "code",
   "execution_count": 8,
   "metadata": {},
   "outputs": [],
   "source": [
    "def load_file_GUI(dir_string):\n",
    "\n",
    "    root = tk.Tk()\n",
    "    root.withdraw()\n",
    "\n",
    "    file_path = filedialog.askopenfilename(initialdir = dir_string,\n",
    "                                       multiple=True)\n",
    "    return file_path"
   ]
  },
  {
   "cell_type": "code",
   "execution_count": 10,
   "metadata": {},
   "outputs": [
    {
     "name": "stdout",
     "output_type": "stream",
     "text": [
      "('J:/20200903/All_stat_DC01_RF08_50eV.npz', 'J:/20200903/All_stat_DC01_RF09_50eV.npz', 'J:/20200903/All_stat_DC01_RF10_50eV.npz', 'J:/20200903/All_stat_DC01_RF11_50eV.npz', 'J:/20200903/All_stat_DC03_RF08_50eV.npz', 'J:/20200903/All_stat_DC03_RF09_50eV.npz', 'J:/20200903/All_stat_DC03_RF10_50eV.npz', 'J:/20200903/All_stat_DC03_RF11_50eV.npz', 'J:/20200903/All_stat_DC05_RF08_50eV.npz', 'J:/20200903/All_stat_DC05_RF09_50eV.npz', 'J:/20200903/All_stat_DC05_RF10_50eV.npz', 'J:/20200903/All_stat_DC05_RF11_50eV.npz', 'J:/20200903/All_stat_DC07_RF08_50eV.npz', 'J:/20200903/All_stat_DC07_RF09_50eV.npz', 'J:/20200903/All_stat_DC07_RF10_50eV.npz', 'J:/20200903/All_stat_DC07_RF11_50eV.npz', 'J:/20200903/All_stat_DC09_RF08_50eV.npz', 'J:/20200903/All_stat_DC09_RF09_50eV.npz', 'J:/20200903/All_stat_DC09_RF10_50eV.npz', 'J:/20200903/All_stat_DC09_RF11_50eV.npz', 'J:/20200903/All_stat_DC11_RF08_50eV.npz', 'J:/20200903/All_stat_DC11_RF09_50eV.npz', 'J:/20200903/All_stat_DC11_RF10_50eV.npz', 'J:/20200903/All_stat_DC11_RF11_50eV.npz', 'J:/20200903/All_stat_DC18_RF08_50eV.npz', 'J:/20200903/All_stat_DC18_RF09_50eV.npz', 'J:/20200903/All_stat_DC18_RF10_50eV.npz', 'J:/20200903/All_stat_DC18_RF11_50eV.npz')\n"
     ]
    }
   ],
   "source": [
    "file_path = load_file_GUI('/home/adrian/Documents/Programmes/Python/GiantMol/SimAnalysisPointbyPoint')\n",
    "print(file_path)"
   ]
  },
  {
   "cell_type": "code",
   "execution_count": 44,
   "metadata": {},
   "outputs": [],
   "source": [
    "# load check\n",
    "time         = []\n",
    "Temperature  = []\n",
    "Temp_var     = []\n",
    "Fluorescence = []\n",
    "Fluo_var     = []\n",
    "SNR          = []\n",
    "Ray          = []\n",
    "Len          = []\n",
    "DeltaEc      = []\n",
    "condition    = []\n",
    "\n",
    "for outfile in file_path:\n",
    "    with load(outfile) as data:\n",
    "        time.append(data['time'])\n",
    "        Temperature.append(data['Temperature'])\n",
    "        Temp_var.append(data['Temp_var'])\n",
    "        Fluorescence.append(data['Fluo'])\n",
    "        Fluo_var.append(data['Fluo_var'])\n",
    "        SNR.append(data['SNR'])\n",
    "        Ray.append(data['Ray'])\n",
    "        Len.append(data['Len'])\n",
    "        DeltaEc.append(data['DeltaEc'])\n",
    "        condition.append(data['condition'])\n",
    "\n",
    "DeltaEc = multiply(DeltaEc,renorm)\n",
    "# Temperature,Temp_var,\n",
    "# Fluo, Fluo_var, SNR,\n",
    "# Ray, Len,\n",
    "# DeltaEc,\n",
    "# condition"
   ]
  },
  {
   "cell_type": "code",
   "execution_count": 129,
   "metadata": {},
   "outputs": [],
   "source": [
    "detect_rate = []\n",
    "\n",
    "for k,l in enumerate(SNR):\n",
    "    alors = 0\n",
    "    for m,n in enumerate(l):\n",
    "        if n>=1:\n",
    "            alors += 1\n",
    "    detect_rate.append(alors)"
   ]
  },
  {
   "cell_type": "code",
   "execution_count": 63,
   "metadata": {},
   "outputs": [
    {
     "name": "stdout",
     "output_type": "stream",
     "text": [
      "[array('DC01_RF08', dtype='<U9'), array('DC01_RF09', dtype='<U9'), array('DC01_RF10', dtype='<U9'), array('DC01_RF11', dtype='<U9'), array('DC03_RF08', dtype='<U9'), array('DC03_RF09', dtype='<U9'), array('DC03_RF10', dtype='<U9'), array('DC03_RF11', dtype='<U9'), array('DC05_RF08', dtype='<U9'), array('DC05_RF09', dtype='<U9'), array('DC05_RF10', dtype='<U9'), array('DC05_RF11', dtype='<U9'), array('DC07_RF08', dtype='<U9'), array('DC07_RF09', dtype='<U9'), array('DC07_RF10', dtype='<U9'), array('DC07_RF11', dtype='<U9'), array('DC09_RF08', dtype='<U9'), array('DC09_RF09', dtype='<U9'), array('DC09_RF10', dtype='<U9'), array('DC09_RF11', dtype='<U9'), array('DC11_RF08', dtype='<U9'), array('DC11_RF09', dtype='<U9'), array('DC11_RF10', dtype='<U9'), array('DC11_RF11', dtype='<U9'), array('DC18_RF08', dtype='<U9'), array('DC18_RF09', dtype='<U9'), array('DC18_RF10', dtype='<U9'), array('DC18_RF11', dtype='<U9')]\n"
     ]
    }
   ],
   "source": [
    "print(condition)\n",
    "my_order = [0,1,2,3,4,5,6,7,8,9,10,11,12,13,14,15,16,17,18,19,24,25,26,27,20,21,22,23]"
   ]
  },
  {
   "cell_type": "markdown",
   "metadata": {},
   "source": [
    "# Traitement des données"
   ]
  },
  {
   "cell_type": "code",
   "execution_count": 12,
   "metadata": {},
   "outputs": [
    {
     "data": {
      "text/plain": [
       "((28, 100, 20850), (28, 100, 20850, 3), (28, 100, 19860))"
      ]
     },
     "execution_count": 12,
     "metadata": {},
     "output_type": "execute_result"
    }
   ],
   "source": [
    "shape(time),shape(Temperature),shape(Fluorescence)"
   ]
  },
  {
   "cell_type": "code",
   "execution_count": 24,
   "metadata": {},
   "outputs": [
    {
     "name": "stdout",
     "output_type": "stream",
     "text": [
      "(20850,) (20850, 3) (19860,)\n",
      "5e-09\n",
      "990\n"
     ]
    }
   ],
   "source": [
    "cond_num = len(condition)\n",
    "\n",
    "plot_point = 18\n",
    "plot_try   = 2\n",
    "\n",
    "tt    = time[plot_point][plot_try]\n",
    "T_all = Temperature[plot_point][plot_try]\n",
    "PM    = Fluorescence[plot_point][plot_try]\n",
    "\n",
    "print(shape(tt),shape(T_all),shape(PM))\n",
    "\n",
    "n_dt = 100\n",
    "dt  = 2*pi / (n_dt*Omega)\n",
    "i_free__fly_Lan = 1000*n_dt\n",
    "i_laser_fly = 6000*n_dt\n",
    "i_laser_fly_quench = 8000*n_dt\n",
    "print(dt)\n",
    "diff_time = len(tt)-len(PM)\n",
    "print(diff_time)"
   ]
  },
  {
   "cell_type": "code",
   "execution_count": 25,
   "metadata": {},
   "outputs": [
    {
     "name": "stderr",
     "output_type": "stream",
     "text": [
      "H:\\Programmes\\Anaconda3\\envs\\py307\\lib\\site-packages\\ipykernel_launcher.py:139: UserWarning: This figure includes Axes that are not compatible with tight_layout, so results might be incorrect.\n"
     ]
    }
   ],
   "source": [
    "# Plot Delta E en fct L\n",
    "# Avec discri detec et non detec\n",
    "\n",
    "import matplotlib.pyplot as plt\n",
    "import matplotlib.patches as patches\n",
    "\n",
    "# Plot temperature Langevin + md laser  ALL SimuType  ALL TEMP MEAN\n",
    "matplotlib.rcParams.update({'font.size': 25})\n",
    "\n",
    "#fig_name = file_name[-9:]\n",
    "figname = 'T_and_PM_plot_example'\n",
    "fig1 = plt.figure(num=figname,clear='True')\n",
    "fig1.set_size_inches(11.69,8.27)\n",
    "# set height ratios for sublots\n",
    "gs = gridspec.GridSpec(2, 1, height_ratios=[7, 3]) \n",
    "# the fisrt subplot\n",
    "ax1 = plt.subplot(gs[0])\n",
    "\n",
    "ax1.semilogy(tt*1e3,savgol_filter(mean(T_all,axis=1),25,1), label='Tx',color='red',lw=2.5)\n",
    "\n",
    "time_switch = i_free__fly_Lan*dt\n",
    "ax1.vlines(time_switch*1e3,1e-5,1e4,color='black')\n",
    "time_switch = (i_free__fly_Lan+i_laser_fly)*dt\n",
    "ax1.vlines(time_switch*1e3,1e-5,1e4,color='black',linestyle='--')\n",
    "time_switch = (i_free__fly_Lan+i_laser_fly+i_laser_fly_quench)*dt\n",
    "ax1.vlines(time_switch*1e3,1e-4,1e4,color='black',linestyle='-')\n",
    "time_switch = (i_free__fly_Lan+i_laser_fly*2+i_laser_fly_quench)*dt\n",
    "# ax1.vlines((ta[2])*1e3,1e-4,1e4,color='black')\n",
    "# ax1.hlines(0.5,7.5,8.5, linestyle=':')\n",
    "# ax1.vlines((time_switch+ta[2]-ta[1])*1e3,1e-4,1e4,color='purple')\n",
    "ax1.grid()\n",
    "ylabel('T [K]')\n",
    "\n",
    "ax1.annotate('1', xy=(0.22,1.3e-4), xycoords='data',\n",
    "size=15, ha='center', va='top', color='xkcd:black',\n",
    "bbox=dict(fc='white',edgecolor='black'))\n",
    "ax1.annotate('2', xy=(2,1.3e-4), xycoords='data',\n",
    "size=15, ha='center', va='top', color='xkcd:black',\n",
    "bbox=dict(fc='white',edgecolor='black'))\n",
    "ax1.annotate('3', xy=((3.5+7.5)/2,1.3e-4), xycoords='data',\n",
    "size=15, ha='center', va='top', color='xkcd:black',\n",
    "bbox=dict(fc='white',edgecolor='black'))\n",
    "# ax1.annotate('4', xy=((7.5+7.57)/2,2.5e-4), xycoords='data',\n",
    "# size=15, ha='center', va='top', color='xkcd:black',\n",
    "# bbox=dict(fc='white',edgecolor='black'))\n",
    "ax1.annotate('5', xy=((7.5+10.5)/2,1.3e-4), xycoords='data',\n",
    "size=15, ha='center', va='top', color='xkcd:black',\n",
    "bbox=dict(fc='white',edgecolor='black'))\n",
    "\n",
    "# annotate('Laser ON', xy=(0.5,350), xycoords='data',\n",
    "# size=24, ha='left', va='top', color='xkcd:azul',\n",
    "# bbox=dict(boxstyle='round', fc='white',edgecolor='xkcd:azul')\n",
    "\n",
    "# ~ xlabel('time[ms]')\n",
    "# ~ ylabel('T[K]')\n",
    "plt.setp(ax1.get_xticklabels(),visible=False)\n",
    "\n",
    "# ax2 = subplot(212,sharex=ax1)\n",
    "ax2 = plt.subplot(gs[1], sharex = ax1)\n",
    "\n",
    "# ax2.plot(tt_md*1e3,PM, label='Tx')\n",
    "\n",
    "tt_1ms_step = tt[diff_time::2000]\n",
    "PM_1ms = PM[::2000]\n",
    "tt_1us_step = tt[diff_time::2]\n",
    "PM_1us = PM[::2]\n",
    "\n",
    "ax2.scatter(tt_1ms_step*1e3,PM_1ms, label='cts/ms',marker='P',s=200,lw=1.5,color='black',zorder=100)\n",
    "ax2.plot(tt_1us_step[:-500]*1e3,PM_1us[:-500], label='cts/µs',color='blue')\n",
    "ax2.legend()\n",
    "time_switch = i_free__fly_Lan*dt\n",
    "ax2.vlines(time_switch*1e3,1e-4,150,color='black')\n",
    "time_switch = (i_free__fly_Lan+i_laser_fly)*dt\n",
    "# ax2.vlines(time_switch*1e3,1e-4,150,color='black',linestyle='--')\n",
    "time_switch = (i_free__fly_Lan+i_laser_fly+i_laser_fly_quench)*dt\n",
    "# ax2.vlines(time_switch*1e3,1e-4,70,color='orange')\n",
    "time_switch = (i_free__fly_Lan+i_laser_fly*2+i_laser_fly_quench)*dt\n",
    "# ax2.vlines((time_switch+ta[2]-ta[1])*1e3,1e-4,90,color='purple')\n",
    "ax2.grid()\n",
    "# ax2.yaxis.set_major_locator(matplotlib.ticker.MultipleLocator(base=20))\n",
    "# annotate('laser off après injection', xy=(0.5,350), xycoords='data',\n",
    "# size=24, ha='left', va='top', color='xkcd:azul',\n",
    "# bbox=dict(boxstyle='round', fc='white',edgecolor='xkcd:azul'))\n",
    "\n",
    "xlabel('time [ms]')\n",
    "ylabel('PM signal')\n",
    "\n",
    "left, bottom, width, height = [0.345, 0.565, 0.35, 0.38] # cadre zoom\n",
    "axins = fig1.add_axes([left, bottom, width, height])\n",
    "\n",
    "axins.semilogy(tt*1e3,mean(T_all,axis=1), label='Tx',color='red',lw=2.5,marker='x')\n",
    "# axins.hlines(0.5,7.4,7.66, linestyle=':')\n",
    "time_switch = (i_free__fly_Lan+i_laser_fly+i_laser_fly_quench)*dt\n",
    "axins.vlines(time_switch*1e3,1e-4,1e4,color='black',linestyle='-')\n",
    "time_switch = (i_free__fly_Lan+i_laser_fly  +i_laser_fly_quench)*dt\n",
    "# axins.vlines(ta[2]*1e3,1e-4,1e4,color='black')\n",
    "\n",
    "# axins.add_patch(\n",
    "#      patches.Rectangle(\n",
    "#         (t_in*1000, 3e-4),\n",
    "#         (t_out - t_in)*1000,\n",
    "#         0.1,\n",
    "#         edgecolor ='k',\n",
    "#         facecolor =  cc('grey',0.5),\n",
    "#         fill=True\n",
    "#      ) )\n",
    "\n",
    "x1, x2, y1, y2 = 7.44, 7.63, 0.00012, 50 # limites zoom\n",
    "axins.set_xlim(x1, x2)\n",
    "axins.set_ylim(y1, y2)\n",
    "\n",
    "# axins.yaxis.tick_right()\n",
    "\n",
    "locmaj = matplotlib.ticker.LogLocator(base=10,numticks=12) \n",
    "axins.yaxis.set_major_locator(locmaj)\n",
    "locmin = matplotlib.ticker.LogLocator(base=10.0,subs=(0.2,0.4,0.6,0.8),numticks=12)\n",
    "axins.yaxis.set_minor_locator(locmin)\n",
    "axins.yaxis.set_minor_formatter(matplotlib.ticker.NullFormatter())\n",
    "plt.setp(axins.get_xticklabels(), backgroundcolor=\"w\")\n",
    "plt.setp(axins.get_yticklabels(), backgroundcolor=\"w\")\n",
    "\n",
    "axins.grid(b=True, which='major', linestyle='-')\n",
    "axins.grid(b=True, which='minor', linestyle='--')\n",
    "\n",
    "# axins.tick_params(axis=\"y\",direction=\"in\", pad=-53)\n",
    "mark_inset(ax1, axins, loc1=1, loc2=3, fc=\"none\", ec=\"0.25\")\n",
    "\n",
    "axins.annotate('3', xy=(7.48,30), xycoords='data',\n",
    "size=15, ha='center', va='top', color='xkcd:black',\n",
    "bbox=dict(fc='white',edgecolor='black'))\n",
    "axins.annotate('4', xy=((7.5+7.53)/2,30), xycoords='data',\n",
    "size=15, ha='center', va='top', color='xkcd:black',\n",
    "bbox=dict(fc='white',edgecolor='black'))\n",
    "axins.annotate('5', xy=(7.55,30), xycoords='data',\n",
    "size=15, ha='center', va='top', color='xkcd:black',\n",
    "bbox=dict(fc='white',edgecolor='black'))\n",
    "\n",
    "ax1.set_xlim(-0.15, 10.75)\n",
    "ax1.set_ylim(0.00005, 1000)\n",
    "ax2.set_ylim(-0, 135)\n",
    "\n",
    "plt.tight_layout()\n",
    "subplots_adjust(hspace=0.0,bottom=0.11,left=0.12,right=0.98,top=0.97)\n",
    "# savefig(fname = figname+'_'+re.sub('/','_',dirname_hc[31:-1])+'.png',dpi=300)\n",
    "# savefig(figname+'_D'+str(Detuning)+'_50eV'+'.png',dpi=300)"
   ]
  },
  {
   "cell_type": "code",
   "execution_count": 112,
   "metadata": {
    "scrolled": true
   },
   "outputs": [
    {
     "name": "stdout",
     "output_type": "stream",
     "text": [
      "0 DC01_RF08\n",
      "1 DC01_RF09\n",
      "2 DC01_RF10\n",
      "3 DC01_RF11\n",
      "4 DC03_RF08\n",
      "5 DC03_RF09\n",
      "6 DC03_RF10\n",
      "7 DC03_RF11\n",
      "8 DC05_RF08\n",
      "9 DC05_RF09\n",
      "10 DC05_RF10\n",
      "11 DC05_RF11\n",
      "12 DC07_RF08\n",
      "13 DC07_RF09\n",
      "14 DC07_RF10\n",
      "15 DC07_RF11\n",
      "16 DC09_RF08\n",
      "17 DC09_RF09\n",
      "18 DC09_RF10\n",
      "19 DC09_RF11\n",
      "24 DC11_RF08\n",
      "25 DC11_RF09\n",
      "26 DC11_RF10\n",
      "27 DC11_RF11\n",
      "20 DC18_RF08\n",
      "21 DC18_RF09\n",
      "22 DC18_RF10\n",
      "23 DC18_RF11\n"
     ]
    }
   ],
   "source": [
    "# Len.append(data['Len'])\n",
    "# DeltaEc.append(data['DeltaEc'])\n",
    "\n",
    "figname = 'DE_vs_L'\n",
    "fig, ax = plt.subplots(1, 1,num=figname,clear=True,sharex=True,sharey=True)\n",
    "fig.set_size_inches(14,6)\n",
    "\n",
    "for i,j in enumerate(condition):\n",
    "    ii = my_order[i]\n",
    "    print(ii,j)\n",
    "    for k,l in enumerate(Len[ii][:]):\n",
    "        if SNR[ii][k] > 1:\n",
    "            ax.scatter(l*1e3,DeltaEc[ii][k]*1000,color='xkcd:green',marker='3')\n",
    "        else:\n",
    "            ax.scatter(l*1e3,DeltaEc[ii][k]*1000,color='xkcd:rouge',marker='4')\n",
    "    ax.text(mean(Len[ii])*1e3,max(DeltaEc[ii][:])*1000+8-1.5**(i%4), ii,\n",
    "            fontsize='10',ha='center')\n",
    "    ax.vlines(mean(Len[ii])*1e3,max(DeltaEc[ii][:])*1000+8-1.5**(i%4),max(DeltaEc[ii][:])*1000+0.5,ls=':')\n",
    "# ax.set_xlabel(r'$\\langle L \\rangle /2$'\n",
    "ax.set_xlabel(r'$ L /2$ [µm]')\n",
    "ax.set_ylabel(r'$\\Delta E_c$ [meV]')\n",
    "ax.set_ylim(-76,9)\n",
    "ax.grid()\n",
    "\n",
    "tight_layout()\n",
    "\n",
    "savefig(figname+'.png',dpi=600)"
   ]
  },
  {
   "cell_type": "code",
   "execution_count": 157,
   "metadata": {},
   "outputs": [
    {
     "name": "stdout",
     "output_type": "stream",
     "text": [
      "27 [379801.19433665 416173.71922269 452666.58862231 489320.9523725\n",
      " 387941.77547966 423615.90918474 459518.13282799 495666.08555912\n",
      " 395915.00995173 430929.59106702 466269.00855675 501931.01350312\n",
      " 403730.81260643 438121.20058262 472923.52688702 508118.7029219\n",
      " 411398.15628004 445196.65356191 479485.69970963 514231.94202792\n",
      " 426319.35315694 459020.48780883 492347.72682685 526245.41621504\n",
      " 418925.19252652 452161.40291437 485959.2680141  520273.35521298]\n",
      "0 DC01_RF08\n",
      "1 DC01_RF09\n",
      "2 DC01_RF10\n",
      "3 DC01_RF11\n",
      "4 DC03_RF08\n",
      "5 DC03_RF09\n",
      "6 DC03_RF10\n",
      "7 DC03_RF11\n",
      "8 DC05_RF08\n",
      "9 DC05_RF09\n",
      "10 DC05_RF10\n",
      "11 DC05_RF11\n",
      "12 DC07_RF08\n",
      "13 DC07_RF09\n",
      "14 DC07_RF10\n",
      "15 DC07_RF11\n",
      "16 DC09_RF08\n",
      "17 DC09_RF09\n",
      "18 DC09_RF10\n",
      "19 DC09_RF11\n",
      "24 DC11_RF08\n",
      "25 DC11_RF09\n",
      "26 DC11_RF10\n",
      "27 DC11_RF11\n",
      "20 DC18_RF08\n",
      "21 DC18_RF09\n",
      "22 DC18_RF10\n",
      "23 DC18_RF11\n"
     ]
    }
   ],
   "source": [
    "# Plot Delta en fct omega_r\n",
    "\n",
    "points_and_coord = {'DC01_RF08': ['01', '08'],\n",
    " 'DC01_RF09': ['01', '09'],\n",
    " 'DC01_RF10': ['01', '10'],\n",
    " 'DC01_RF11': ['01', '11'],\n",
    " 'DC03_RF08': ['03', '08'],\n",
    " 'DC03_RF09': ['03', '09'],\n",
    " 'DC03_RF10': ['03', '10'],\n",
    " 'DC03_RF11': ['03', '11'],\n",
    " 'DC05_RF08': ['05', '08'],\n",
    " 'DC05_RF09': ['05', '09'],\n",
    " 'DC05_RF10': ['05', '10'],\n",
    " 'DC05_RF11': ['05', '11'],\n",
    " 'DC07_RF08': ['07', '08'],\n",
    " 'DC07_RF09': ['07', '09'],\n",
    " 'DC07_RF10': ['07', '10'],\n",
    " 'DC07_RF11': ['07', '11'],\n",
    " 'DC09_RF08': ['09', '08'],\n",
    " 'DC09_RF09': ['09', '09'],\n",
    " 'DC09_RF10': ['09', '10'],\n",
    " 'DC09_RF11': ['09', '11'],\n",
    " 'DC11_RF08': ['11', '08'],\n",
    " 'DC11_RF09': ['11', '09'],\n",
    " 'DC11_RF10': ['11', '10'],\n",
    " 'DC11_RF11': ['11', '11'],\n",
    " 'DC18_RF08': ['18', '08'],\n",
    " 'DC18_RF09': ['18', '09'],\n",
    " 'DC18_RF10': ['18', '10'],\n",
    " 'DC18_RF11': ['18', '11']}\n",
    "\n",
    "Udc = [0.5, 1, 1.5, 2, 2.5, 3, 3.5, 4, 4.5, 5, 6, 7, 7.5, 3.33, 3.66, 4.5, 5.33, 5.66, 6, 6.5]\n",
    "Urf = [10.77, 16.15, 21.54, 26.92, 32.31, 37.69, 43.08, 48.46, 53.85, 59.23, 64.61,\n",
    "       70.00, 75.38, 80.77, 61.02, 62.82, 66.41, 68.20, 71.79, 55.64, 57.43]\n",
    "\n",
    "x = []\n",
    "y = []\n",
    "z = []\n",
    "\n",
    "for g,h in enumerate(points_and_coord):\n",
    "    my_udc = Udc[int(points_and_coord[h][0])]\n",
    "    my_urf = Urf[int(points_and_coord[h][1])]\n",
    "    x.append(my_udc)\n",
    "    y.append(my_urf)\n",
    "    z.append(detect_rate[g])\n",
    "    \n",
    "# calcul des paramètres Mathieu et frequences propres\n",
    "\n",
    "wr = np.zeros((len(points_and_coord)))\n",
    "wz = np.zeros((len(points_and_coord)))\n",
    "w_ratio = np.zeros((len(points_and_coord)))\n",
    "\n",
    "for i,j in enumerate(points_and_coord):\n",
    "    # voltage recovery\n",
    "    coucou_DC = int(j[j.find('DC')+2:j.find('DC')+4])\n",
    "    coucou_RF = int(j[j.find('RF')+2:j.find('RF')+4])\n",
    "#     print(Udc[coucou_DC],'   ',Urf[coucou_RF])\n",
    "    ax = 4*(C_e/m_Ca)*Udc[coucou_DC]/(r0**2*Omega**2)\n",
    "    az = 8*mkappa*(C_e/m_Ca)*Udc[coucou_DC]/(d0**2*Omega**2)\n",
    "    qx = -4*(C_e/m_Ca)*Urf[coucou_RF]/(r0**2*Omega**2)\n",
    "    wr[i] = Omega/2*sqrt(qx**2/2+ax-0.5*az)/(2*pi)\n",
    "    wz[i] = sqrt(2*mkappa*C_e*Udc[coucou_DC]/(m_Ca*d0**2))/(2*pi)\n",
    "    w_ratio[i] = wz[i]/wr[i]\n",
    "print(i,wr)\n",
    "\n",
    "# Len.append(data['Len'])\n",
    "# DeltaEc.append(data['DeltaEc'])\n",
    "\n",
    "figname = 'DE_vs_wr'\n",
    "fig, ax = plt.subplots(1, 1,num=figname,clear=True,sharex=True,sharey=True)\n",
    "fig.set_size_inches(14,6)\n",
    "\n",
    "for i,j in enumerate(condition):\n",
    "    ii = my_order[i]\n",
    "    print(ii,j)\n",
    "    for k,l in enumerate(DeltaEc[ii]):\n",
    "        if SNR[ii][k] > 1:\n",
    "            ax.scatter(wr[i]*1e-3,l*1000,color='xkcd:green',marker='3')\n",
    "        else:\n",
    "            ax.scatter(wr[i]*1e-3,l*1000,color='xkcd:rouge',marker='4')\n",
    "    ax.text(wr[i]*1e-3+1,max(DeltaEc[ii][:])*1000+1, i,\n",
    "            fontsize='10',ha='center')\n",
    "#     ax.vlines(wr[i]*1e-3+3,max(DeltaEc[ii][:])*1000+2.8,max(DeltaEc[ii][:])*1000+0.2,ls=':')\n",
    "# ax.set_xlabel(r'$\\langle L \\rangle /2$'\n",
    "ax.set_xlabel(r'$f_r$ [kHz]')\n",
    "ax.set_ylabel(r'$\\Delta E_c$ [meV]')\n",
    "ax.set_ylim(-76,9)\n",
    "ax.grid()\n",
    "\n",
    "tight_layout()\n",
    "\n",
    "savefig(figname+'.png',dpi=600)"
   ]
  },
  {
   "cell_type": "code",
   "execution_count": 154,
   "metadata": {},
   "outputs": [
    {
     "name": "stdout",
     "output_type": "stream",
     "text": [
      "0 DC01_RF08\n",
      "1 DC01_RF09\n",
      "2 DC01_RF10\n",
      "3 DC01_RF11\n",
      "4 DC03_RF08\n",
      "5 DC03_RF09\n",
      "6 DC03_RF10\n",
      "7 DC03_RF11\n",
      "8 DC05_RF08\n",
      "9 DC05_RF09\n",
      "10 DC05_RF10\n",
      "11 DC05_RF11\n",
      "12 DC07_RF08\n",
      "13 DC07_RF09\n",
      "14 DC07_RF10\n",
      "15 DC07_RF11\n",
      "16 DC09_RF08\n",
      "17 DC09_RF09\n",
      "18 DC09_RF10\n",
      "19 DC09_RF11\n",
      "24 DC11_RF08\n",
      "25 DC11_RF09\n",
      "26 DC11_RF10\n",
      "27 DC11_RF11\n",
      "20 DC18_RF08\n",
      "21 DC18_RF09\n",
      "22 DC18_RF10\n",
      "23 DC18_RF11\n"
     ]
    }
   ],
   "source": [
    "# Plot f_r en fct L/2\n",
    "\n",
    "figname = 'wr_vs_L'\n",
    "fig, ax = plt.subplots(1, 1,num=figname,clear=True,sharex=True,sharey=True)\n",
    "fig.set_size_inches(14,6)\n",
    "\n",
    "for i,j in enumerate(condition):\n",
    "    ii = my_order[i]\n",
    "    print(ii,j)\n",
    "    for k,l in enumerate(Len[ii][:]):\n",
    "        if SNR[ii][k] > 1:\n",
    "            ax.scatter(l*1e3,wr[i]*1e-3,color='xkcd:green',marker='3')\n",
    "        else:\n",
    "            ax.scatter(l*1e3,wr[i]*1e-3,color='xkcd:rouge',marker='4')\n",
    "    ax.text(l*1e3,wr[i]*1e-3+4, ii,\n",
    "            fontsize='10',ha='center')\n",
    "#     ax.vlines(wr[i]*1e-3+3,max(DeltaEc[ii][:])*1000+2.8,max(DeltaEc[ii][:])*1000+0.2,ls=':')\n",
    "# ax.set_xlabel(r'$\\langle L \\rangle /2$'\n",
    "ax.set_xlabel(r'$ L/2$ [µm]')\n",
    "ax.set_ylabel(r'$f_r$ [kHz]')\n",
    "ax.set_ylim(365,545)\n",
    "ax.grid()\n",
    "\n",
    "tight_layout()\n",
    "\n",
    "savefig(figname+'.png',dpi=600)"
   ]
  },
  {
   "cell_type": "code",
   "execution_count": 146,
   "metadata": {},
   "outputs": [
    {
     "data": {
      "text/plain": [
       "(28, 100)"
      ]
     },
     "execution_count": 146,
     "metadata": {},
     "output_type": "execute_result"
    }
   ],
   "source": [
    "shape(Len)"
   ]
  }
 ],
 "metadata": {
  "kernelspec": {
   "display_name": "Python 3",
   "language": "python",
   "name": "python3"
  },
  "language_info": {
   "codemirror_mode": {
    "name": "ipython",
    "version": 3
   },
   "file_extension": ".py",
   "mimetype": "text/x-python",
   "name": "python",
   "nbconvert_exporter": "python",
   "pygments_lexer": "ipython3",
   "version": "3.7.6"
  }
 },
 "nbformat": 4,
 "nbformat_minor": 4
}
