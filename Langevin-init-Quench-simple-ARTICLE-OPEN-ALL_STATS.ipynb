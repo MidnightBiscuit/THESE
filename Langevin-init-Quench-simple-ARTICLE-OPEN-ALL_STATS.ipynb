{
 "cells": [
  {
   "cell_type": "code",
   "execution_count": 1,
   "metadata": {},
   "outputs": [],
   "source": [
    "###########################################################\n",
    "#                                                         #\n",
    "#               TRAITEMENT SIMUS FORTRAN                  #\n",
    "#                     STATISTIQUES                        #\n",
    "#                          11/2020     Adrien Poindron    #\n",
    "###########################################################"
   ]
  },
  {
   "cell_type": "markdown",
   "metadata": {},
   "source": [
    "# Imports"
   ]
  },
  {
   "cell_type": "code",
   "execution_count": 1,
   "metadata": {},
   "outputs": [],
   "source": [
    "# %pylab\n",
    "\n",
    "import numpy\n",
    "import matplotlib\n",
    "from matplotlib import pylab, mlab, pyplot\n",
    "from mpl_toolkits.mplot3d import Axes3D\n",
    "np = numpy\n",
    "plt = pyplot\n",
    "\n",
    "from pylab import *\n",
    "from numpy import *"
   ]
  },
  {
   "cell_type": "code",
   "execution_count": 2,
   "metadata": {},
   "outputs": [],
   "source": [
    "import os\n",
    "from os import listdir\n",
    "from os.path import isfile, join\n",
    "\n",
    "import tkinter as tk\n",
    "from tkinter import filedialog\n",
    "%matplotlib qt\n",
    "from pathlib import Path"
   ]
  },
  {
   "cell_type": "code",
   "execution_count": 3,
   "metadata": {},
   "outputs": [],
   "source": [
    "from natsort import natsorted   # natural sort marche de ouf\n",
    "import re                       # find '/' in strings\n",
    "import timeit\n",
    "cm = pylab.get_cmap('summer')   # colormap par défaut color=cm(k/len(array))"
   ]
  },
  {
   "cell_type": "code",
   "execution_count": 4,
   "metadata": {},
   "outputs": [],
   "source": [
    "from pathlib import Path\n",
    "from matplotlib import gridspec\n",
    "from mpl_toolkits.axes_grid1.inset_locator import zoomed_inset_axes\n",
    "from mpl_toolkits.axes_grid1.inset_locator import mark_inset\n",
    "from scipy.signal import savgol_filter"
   ]
  },
  {
   "cell_type": "code",
   "execution_count": 5,
   "metadata": {},
   "outputs": [],
   "source": [
    "def beta_continue_alamano(a,q,beta_guess): #a l'air ok\n",
    "    C1 = q**2/( (beta_guess+2)**2 - a - q**2/( (beta_guess+4)**2 - a - q**2/( (beta_guess+6)**2 - a - q**2/( (beta_guess+8)**2 - a - q**2/( (beta_guess+10)**2 - a ) ) ) ) )\n",
    "    C2 = q**2/( (beta_guess-2)**2 - a - q**2/( (beta_guess-4)**2 - a - q**2/( (beta_guess-6)**2 - a - q**2/( (beta_guess-8)**2 - a - q**2/( (beta_guess-10)**2 - a  ) ) ) ) )\n",
    "    return a + C1 + C2"
   ]
  },
  {
   "cell_type": "code",
   "execution_count": 6,
   "metadata": {},
   "outputs": [],
   "source": [
    "# Fonctions persos de Jofre et Adrien\n",
    "\n",
    "# %run function_jofre.ipy\n",
    "# %run ../../Functions/1.2/data_fct_Adrien_point_by_point\n",
    "%run ../GiantMol/Functions/1.2/data_fct_Adrien_point_by_point\n",
    "\n",
    "matplotlib.rcParams.update({'font.size': 25})"
   ]
  },
  {
   "cell_type": "code",
   "execution_count": 7,
   "metadata": {},
   "outputs": [
    {
     "name": "stdout",
     "output_type": "stream",
     "text": [
      "$\\kappa_{simion}$ = 0.270471\n"
     ]
    }
   ],
   "source": [
    "# Constantes de la physique\n",
    "# ABSOLUMENT RECHARGER APRÈS AVOIR EXECUTÉ LES CASES D'IMPORT AU DESSUS\n",
    "\n",
    "C_e = 1.602e-19        # Coulomb\n",
    "kb = 1.38064852*1e-23  # Boltzman\n",
    "m_Ca = 40.078*1.66054e-27 # masse Ca 40.078\n",
    "m_GM = 1e6*1.66054e-27 # la masse de la GMol\n",
    "eps0 = 8.854187*1e-12  # permittivité électrique du vide\n",
    "\n",
    "r0 = 2.5e-3 # 2.5e-3   # rayon piège Ca+\n",
    "d0 = 4e-3/2            # longueur piège Ca+\n",
    "\n",
    "Omega = 2.00e6*2*pi # 2.047e6\n",
    "\n",
    "bk = 4 # nombre de barreaux par groupe (2 -> 4-pole , 4 -> 8-pole ...)\n",
    "\n",
    "mkappa = 0.23  # écrantage piège réel GiantMol\n",
    "wzLC = (2*pi*90806.9982303)**2\n",
    "kappa_simion = m_Ca*d0**2*wzLC/(2*C_e)\n",
    "print('%s = %f' % ('$\\kappa_{simion}$',kappa_simion) )\n",
    "\n",
    "zeta = kappa_simion*r0**2/d0**2"
   ]
  },
  {
   "cell_type": "code",
   "execution_count": 8,
   "metadata": {},
   "outputs": [],
   "source": [
    "renorm = 0.5*m_GM/C_e"
   ]
  },
  {
   "cell_type": "markdown",
   "metadata": {},
   "source": [
    "# Sélection fichiers et chargement des données"
   ]
  },
  {
   "cell_type": "code",
   "execution_count": 9,
   "metadata": {},
   "outputs": [],
   "source": [
    "def load_file_GUI(dir_string):\n",
    "\n",
    "    root = tk.Tk()\n",
    "    root.withdraw()\n",
    "\n",
    "    file_path = filedialog.askopenfilename(initialdir = dir_string,\n",
    "                                       multiple=True)\n",
    "    return file_path"
   ]
  },
  {
   "cell_type": "code",
   "execution_count": 10,
   "metadata": {},
   "outputs": [
    {
     "name": "stdout",
     "output_type": "stream",
     "text": [
      "('/home/adrian/RemoteFS/Rivendel/Simulations/20200903/All_stat_DC01_RF08_50eV.npz', '/home/adrian/RemoteFS/Rivendel/Simulations/20200903/All_stat_DC01_RF09_50eV.npz', '/home/adrian/RemoteFS/Rivendel/Simulations/20200903/All_stat_DC01_RF10_50eV.npz', '/home/adrian/RemoteFS/Rivendel/Simulations/20200903/All_stat_DC01_RF11_50eV.npz', '/home/adrian/RemoteFS/Rivendel/Simulations/20200903/All_stat_DC03_RF08_50eV.npz', '/home/adrian/RemoteFS/Rivendel/Simulations/20200903/All_stat_DC03_RF09_50eV.npz', '/home/adrian/RemoteFS/Rivendel/Simulations/20200903/All_stat_DC03_RF10_50eV.npz', '/home/adrian/RemoteFS/Rivendel/Simulations/20200903/All_stat_DC03_RF11_50eV.npz', '/home/adrian/RemoteFS/Rivendel/Simulations/20200903/All_stat_DC05_RF08_50eV.npz', '/home/adrian/RemoteFS/Rivendel/Simulations/20200903/All_stat_DC05_RF09_50eV.npz', '/home/adrian/RemoteFS/Rivendel/Simulations/20200903/All_stat_DC05_RF10_50eV.npz', '/home/adrian/RemoteFS/Rivendel/Simulations/20200903/All_stat_DC05_RF11_50eV.npz', '/home/adrian/RemoteFS/Rivendel/Simulations/20200903/All_stat_DC07_RF08_50eV.npz', '/home/adrian/RemoteFS/Rivendel/Simulations/20200903/All_stat_DC07_RF09_50eV.npz', '/home/adrian/RemoteFS/Rivendel/Simulations/20200903/All_stat_DC07_RF10_50eV.npz', '/home/adrian/RemoteFS/Rivendel/Simulations/20200903/All_stat_DC07_RF11_50eV.npz', '/home/adrian/RemoteFS/Rivendel/Simulations/20200903/All_stat_DC09_RF08_50eV.npz', '/home/adrian/RemoteFS/Rivendel/Simulations/20200903/All_stat_DC09_RF09_50eV.npz', '/home/adrian/RemoteFS/Rivendel/Simulations/20200903/All_stat_DC09_RF10_50eV.npz', '/home/adrian/RemoteFS/Rivendel/Simulations/20200903/All_stat_DC09_RF11_50eV.npz', '/home/adrian/RemoteFS/Rivendel/Simulations/20200903/All_stat_DC11_RF08_50eV.npz', '/home/adrian/RemoteFS/Rivendel/Simulations/20200903/All_stat_DC11_RF09_50eV.npz', '/home/adrian/RemoteFS/Rivendel/Simulations/20200903/All_stat_DC11_RF10_50eV.npz', '/home/adrian/RemoteFS/Rivendel/Simulations/20200903/All_stat_DC11_RF11_50eV.npz', '/home/adrian/RemoteFS/Rivendel/Simulations/20200903/All_stat_DC18_RF08_50eV.npz', '/home/adrian/RemoteFS/Rivendel/Simulations/20200903/All_stat_DC18_RF09_50eV.npz', '/home/adrian/RemoteFS/Rivendel/Simulations/20200903/All_stat_DC18_RF10_50eV.npz', '/home/adrian/RemoteFS/Rivendel/Simulations/20200903/All_stat_DC18_RF11_50eV.npz')\n"
     ]
    }
   ],
   "source": [
    "file_path = load_file_GUI('/home/adrian/Documents/Programmes/Python/GiantMol/SimAnalysisPointbyPoint')\n",
    "print(file_path)"
   ]
  },
  {
   "cell_type": "code",
   "execution_count": 11,
   "metadata": {},
   "outputs": [],
   "source": [
    "# load check\n",
    "time         = []\n",
    "Temperature  = []\n",
    "Temp_var     = []\n",
    "Fluorescence = []\n",
    "Fluo_var     = []\n",
    "SNR          = []\n",
    "Ray          = []\n",
    "Len          = []\n",
    "DeltaEc      = []\n",
    "condition    = []\n",
    "\n",
    "for outfile in file_path:\n",
    "    with load(outfile) as data:\n",
    "        time.append(data['time'])\n",
    "        Temperature.append(data['Temperature'])\n",
    "        Temp_var.append(data['Temp_var'])\n",
    "        Fluorescence.append(data['Fluo'])\n",
    "        Fluo_var.append(data['Fluo_var'])\n",
    "        SNR.append(data['SNR'])\n",
    "        Ray.append(data['Ray'])\n",
    "        Len.append(data['Len'])\n",
    "        DeltaEc.append(data['DeltaEc'])\n",
    "        condition.append(data['condition'])\n",
    "\n",
    "DeltaEc = multiply(DeltaEc,renorm)\n",
    "# Temperature,Temp_var,\n",
    "# Fluo, Fluo_var, SNR,\n",
    "# Ray, Len,\n",
    "# DeltaEc,\n",
    "# condition"
   ]
  },
  {
   "cell_type": "code",
   "execution_count": 12,
   "metadata": {},
   "outputs": [
    {
     "name": "stdout",
     "output_type": "stream",
     "text": [
      "[array('DC01_RF08', dtype='<U9'), array('DC01_RF09', dtype='<U9'), array('DC01_RF10', dtype='<U9'), array('DC01_RF11', dtype='<U9'), array('DC03_RF08', dtype='<U9'), array('DC03_RF09', dtype='<U9'), array('DC03_RF10', dtype='<U9'), array('DC03_RF11', dtype='<U9'), array('DC05_RF08', dtype='<U9'), array('DC05_RF09', dtype='<U9'), array('DC05_RF10', dtype='<U9'), array('DC05_RF11', dtype='<U9'), array('DC07_RF08', dtype='<U9'), array('DC07_RF09', dtype='<U9'), array('DC07_RF10', dtype='<U9'), array('DC07_RF11', dtype='<U9'), array('DC09_RF08', dtype='<U9'), array('DC09_RF09', dtype='<U9'), array('DC09_RF10', dtype='<U9'), array('DC09_RF11', dtype='<U9'), array('DC11_RF08', dtype='<U9'), array('DC11_RF09', dtype='<U9'), array('DC11_RF10', dtype='<U9'), array('DC11_RF11', dtype='<U9'), array('DC18_RF08', dtype='<U9'), array('DC18_RF09', dtype='<U9'), array('DC18_RF10', dtype='<U9'), array('DC18_RF11', dtype='<U9')]\n"
     ]
    }
   ],
   "source": [
    "E0_GMol = 50\n",
    "kappa = 0.23\n",
    "print(condition)\n",
    "my_order = [0,1,2,3,4,5,6,7,8,9,10,11,12,13,14,15,16,17,18,19,24,25,26,27,20,21,22,23]"
   ]
  },
  {
   "cell_type": "code",
   "execution_count": 13,
   "metadata": {},
   "outputs": [],
   "source": [
    "detect_rate = []\n",
    "\n",
    "for k,l in enumerate(SNR):\n",
    "    alors = 0\n",
    "    for m,n in enumerate(l):\n",
    "        if n>=1:\n",
    "            alors += 1\n",
    "    detect_rate.append(alors)"
   ]
  },
  {
   "cell_type": "markdown",
   "metadata": {},
   "source": [
    "# Traitement des données"
   ]
  },
  {
   "cell_type": "code",
   "execution_count": 14,
   "metadata": {},
   "outputs": [
    {
     "data": {
      "text/plain": [
       "((28, 100, 20850), (28, 100, 20850, 3), (28, 100, 19860))"
      ]
     },
     "execution_count": 14,
     "metadata": {},
     "output_type": "execute_result"
    }
   ],
   "source": [
    "shape(time),shape(Temperature),shape(Fluorescence)"
   ]
  },
  {
   "cell_type": "code",
   "execution_count": 15,
   "metadata": {},
   "outputs": [
    {
     "name": "stdout",
     "output_type": "stream",
     "text": [
      "(20850,) (20850, 3) (19860,)\n",
      "5e-09\n",
      "990\n"
     ]
    }
   ],
   "source": [
    "cond_num = len(condition)\n",
    "\n",
    "plot_point = 10\n",
    "plot_try   = 28\n",
    "\n",
    "tt    = time[plot_point][plot_try]\n",
    "T_all = Temperature[plot_point][plot_try]\n",
    "PM    = Fluorescence[plot_point][plot_try]\n",
    "\n",
    "print(shape(tt),shape(T_all),shape(PM))\n",
    "\n",
    "n_dt = 100\n",
    "dt  = 2*pi / (n_dt*Omega)\n",
    "i_free__fly_Lan = 1000*n_dt\n",
    "i_laser_fly = 6000*n_dt\n",
    "i_laser_fly_quench = 8000*n_dt\n",
    "print(dt)\n",
    "diff_time = len(tt)-len(PM)\n",
    "print(diff_time)"
   ]
  },
  {
   "cell_type": "code",
   "execution_count": 16,
   "metadata": {},
   "outputs": [
    {
     "name": "stderr",
     "output_type": "stream",
     "text": [
      "H:\\Programmes\\Anaconda3\\envs\\py307\\lib\\site-packages\\ipykernel_launcher.py:142: UserWarning: This figure includes Axes that are not compatible with tight_layout, so results might be incorrect.\n"
     ]
    }
   ],
   "source": [
    "# Plot Delta E en fct L\n",
    "# Avec discri detec et non detec\n",
    "\n",
    "import matplotlib.pyplot as plt\n",
    "import matplotlib.patches as patches\n",
    "\n",
    "# Plot temperature Langevin + md laser  ALL SimuType  ALL TEMP MEAN\n",
    "matplotlib.rcParams.update({'font.size': 25})\n",
    "\n",
    "#fig_name = file_name[-9:]\n",
    "figname = 'T_and_PM_plot_example'\n",
    "fig1 = plt.figure(num=figname,clear='True')\n",
    "fig1.set_size_inches(11.69,8.27)\n",
    "# set height ratios for sublots\n",
    "gs = gridspec.GridSpec(2, 1, height_ratios=[7, 3]) \n",
    "# the fisrt subplot\n",
    "ax1 = plt.subplot(gs[0])\n",
    "\n",
    "ax1.semilogy(tt*1e3,savgol_filter(mean(T_all,axis=1),25,1), label='Tx',color='red',lw=2.5)\n",
    "\n",
    "time_switch = i_free__fly_Lan*dt\n",
    "ax1.vlines(time_switch*1e3,1e-5,1e4,color='black')\n",
    "time_switch = (i_free__fly_Lan+i_laser_fly)*dt\n",
    "ax1.vlines(time_switch*1e3,1e-5,1e4,color='black',linestyle='--')\n",
    "time_switch = (i_free__fly_Lan+i_laser_fly+i_laser_fly_quench)*dt\n",
    "ax1.vlines(time_switch*1e3,1e-4,1e4,color='black',linestyle='-')\n",
    "time_switch = (i_free__fly_Lan+i_laser_fly*2+i_laser_fly_quench)*dt\n",
    "# ax1.vlines((ta[2])*1e3,1e-4,1e4,color='black')\n",
    "# ax1.hlines(0.5,7.5,8.5, linestyle=':')\n",
    "# ax1.vlines((time_switch+ta[2]-ta[1])*1e3,1e-4,1e4,color='purple')\n",
    "ax1.grid()\n",
    "ylabel('T [K]')\n",
    "\n",
    "ax1.annotate('1', xy=(0.22,1.3e-4), xycoords='data',\n",
    "size=15, ha='center', va='top', color='xkcd:black',\n",
    "bbox=dict(fc='white',edgecolor='black'))\n",
    "ax1.annotate('2', xy=(2,1.3e-4), xycoords='data',\n",
    "size=15, ha='center', va='top', color='xkcd:black',\n",
    "bbox=dict(fc='white',edgecolor='black'))\n",
    "ax1.annotate('3', xy=((3.5+7.5)/2,1.3e-4), xycoords='data',\n",
    "size=15, ha='center', va='top', color='xkcd:black',\n",
    "bbox=dict(fc='white',edgecolor='black'))\n",
    "# ax1.annotate('4', xy=((7.5+7.57)/2,2.5e-4), xycoords='data',\n",
    "# size=15, ha='center', va='top', color='xkcd:black',\n",
    "# bbox=dict(fc='white',edgecolor='black'))\n",
    "ax1.annotate('5', xy=((7.5+10.5)/2,1.3e-4), xycoords='data',\n",
    "size=15, ha='center', va='top', color='xkcd:black',\n",
    "bbox=dict(fc='white',edgecolor='black'))\n",
    "\n",
    "# annotate('Laser ON', xy=(0.5,350), xycoords='data',\n",
    "# size=24, ha='left', va='top', color='xkcd:azul',\n",
    "# bbox=dict(boxstyle='round', fc='white',edgecolor='xkcd:azul')\n",
    "\n",
    "# ~ xlabel('time[ms]')\n",
    "# ~ ylabel('T[K]')\n",
    "plt.setp(ax1.get_xticklabels(),visible=False)\n",
    "\n",
    "# ax2 = subplot(212,sharex=ax1)\n",
    "ax2 = plt.subplot(gs[1], sharex = ax1)\n",
    "\n",
    "# ax2.plot(tt_md*1e3,PM, label='Tx')\n",
    "\n",
    "tt_1ms_step = tt[diff_time::2000]\n",
    "PM_1ms = PM[::2000]\n",
    "tt_1us_step = tt[diff_time::2]\n",
    "PM_1us = PM[::2]\n",
    "\n",
    "ax2.scatter(tt_1ms_step*1e3,PM_1ms, label='cts/ms',marker='P',s=200,lw=1.5,color='black',zorder=100)\n",
    "ax2.plot(tt_1us_step[:-500]*1e3,PM_1us[:-500], label='cts/µs',color='blue')\n",
    "ax2.legend()\n",
    "time_switch = i_free__fly_Lan*dt\n",
    "ax2.vlines(time_switch*1e3,1e-4,150,color='black')\n",
    "time_switch = (i_free__fly_Lan+i_laser_fly)*dt\n",
    "# ax2.vlines(time_switch*1e3,1e-4,150,color='black',linestyle='--')\n",
    "time_switch = (i_free__fly_Lan+i_laser_fly+i_laser_fly_quench)*dt\n",
    "# ax2.vlines(time_switch*1e3,1e-4,70,color='orange')\n",
    "time_switch = (i_free__fly_Lan+i_laser_fly*2+i_laser_fly_quench)*dt\n",
    "# ax2.vlines((time_switch+ta[2]-ta[1])*1e3,1e-4,90,color='purple')\n",
    "ax2.grid()\n",
    "# ax2.yaxis.set_major_locator(matplotlib.ticker.MultipleLocator(base=20))\n",
    "# annotate('laser off après injection', xy=(0.5,350), xycoords='data',\n",
    "# size=24, ha='left', va='top', color='xkcd:azul',\n",
    "# bbox=dict(boxstyle='round', fc='white',edgecolor='xkcd:azul'))\n",
    "\n",
    "xlabel('time [ms]')\n",
    "ylabel('PM signal')\n",
    "\n",
    "left, bottom, width, height = [0.345, 0.565, 0.35, 0.38] # cadre zoom\n",
    "axins = fig1.add_axes([left, bottom, width, height])\n",
    "\n",
    "axins.semilogy(tt*1e3,mean(T_all,axis=1), label='Tx',color='red',lw=2.5,marker='x')\n",
    "# axins.hlines(0.5,7.4,7.66, linestyle=':')\n",
    "time_switch = (i_free__fly_Lan+i_laser_fly+i_laser_fly_quench)*dt\n",
    "axins.vlines(time_switch*1e3,1e-4,1e4,color='black',linestyle='-')\n",
    "time_switch = (i_free__fly_Lan+i_laser_fly  +i_laser_fly_quench)*dt\n",
    "# axins.vlines(ta[2]*1e3,1e-4,1e4,color='black')\n",
    "\n",
    "# axins.add_patch(\n",
    "#      patches.Rectangle(\n",
    "#         (t_in*1000, 3e-4),\n",
    "#         (t_out - t_in)*1000,\n",
    "#         0.1,\n",
    "#         edgecolor ='k',\n",
    "#         facecolor =  cc('grey',0.5),\n",
    "#         fill=True\n",
    "#      ) )\n",
    "\n",
    "x1, x2, y1, y2 = 7.44, 7.63, 0.00012, 50 # limites zoom\n",
    "axins.set_xlim(x1, x2)\n",
    "axins.set_ylim(y1, y2)\n",
    "\n",
    "# axins.yaxis.tick_right()\n",
    "\n",
    "locmaj = matplotlib.ticker.LogLocator(base=10,numticks=12) \n",
    "axins.yaxis.set_major_locator(locmaj)\n",
    "locmin = matplotlib.ticker.LogLocator(base=10.0,subs=(0.2,0.4,0.6,0.8),numticks=12)\n",
    "axins.yaxis.set_minor_locator(locmin)\n",
    "axins.yaxis.set_minor_formatter(matplotlib.ticker.NullFormatter())\n",
    "plt.setp(axins.get_xticklabels(), backgroundcolor=\"w\")\n",
    "plt.setp(axins.get_yticklabels(), backgroundcolor=\"w\")\n",
    "\n",
    "axins.grid(b=True, which='major', linestyle='-')\n",
    "axins.grid(b=True, which='minor', linestyle='--')\n",
    "\n",
    "# axins.tick_params(axis=\"y\",direction=\"in\", pad=-53)\n",
    "mark_inset(ax1, axins, loc1=1, loc2=3, fc=\"none\", ec=\"0.25\")\n",
    "\n",
    "axins.annotate('3', xy=(7.48,30), xycoords='data',\n",
    "size=15, ha='center', va='top', color='xkcd:black',\n",
    "bbox=dict(fc='white',edgecolor='black'))\n",
    "axins.annotate('4', xy=((7.5+7.53)/2,30), xycoords='data',\n",
    "size=15, ha='center', va='top', color='xkcd:black',\n",
    "bbox=dict(fc='white',edgecolor='black'))\n",
    "axins.annotate('5', xy=(7.55,30), xycoords='data',\n",
    "size=15, ha='center', va='top', color='xkcd:black',\n",
    "bbox=dict(fc='white',edgecolor='black'))\n",
    "\n",
    "ax1.set_xlim(-0.15, 10.75)\n",
    "ax1.set_ylim(0.00005, 1000)\n",
    "ax2.set_ylim(-0, 135)\n",
    "\n",
    "plt.tight_layout()\n",
    "subplots_adjust(hspace=0.0,bottom=0.11,left=0.12,right=0.98,top=0.97)\n",
    "# savefig(fname = figname+'_'+re.sub('/','_',dirname_hc[31:-1])+'.png',dpi=300)\n",
    "# savefig(figname+'_D'+str(Detuning)+'_50eV'+'.png',dpi=300)"
   ]
  },
  {
   "cell_type": "code",
   "execution_count": 77,
   "metadata": {},
   "outputs": [
    {
     "name": "stdout",
     "output_type": "stream",
     "text": [
      "0.3953515610162703\n",
      "0.4418091979592634\n",
      "0.49118672052083756\n",
      "0.544606486211833\n",
      "0.3953515610162703\n",
      "0.4418091979592634\n",
      "0.49118672052083756\n",
      "0.544606486211833\n",
      "0.3953515610162703\n",
      "0.4418091979592634\n",
      "0.49118672052083756\n",
      "0.544606486211833\n",
      "0.3953515610162703\n",
      "0.4418091979592634\n",
      "0.49118672052083756\n",
      "0.544606486211833\n",
      "0.3953515610162703\n",
      "0.4418091979592634\n",
      "0.49118672052083756\n",
      "0.544606486211833\n",
      "0.3953515610162703\n",
      "0.4418091979592634\n",
      "0.49118672052083756\n",
      "0.544606486211833\n",
      "0.3953515610162703\n",
      "0.4418091979592634\n",
      "0.49118672052083756\n",
      "0.544606486211833\n"
     ]
    }
   ],
   "source": [
    "# Plot Delta en fct omega_r\n",
    "\n",
    "points_and_coord = {'DC01_RF08': ['01', '08'],\n",
    " 'DC01_RF09': ['01', '09'],\n",
    " 'DC01_RF10': ['01', '10'],\n",
    " 'DC01_RF11': ['01', '11'],\n",
    " 'DC03_RF08': ['03', '08'],\n",
    " 'DC03_RF09': ['03', '09'],\n",
    " 'DC03_RF10': ['03', '10'],\n",
    " 'DC03_RF11': ['03', '11'],\n",
    " 'DC05_RF08': ['05', '08'],\n",
    " 'DC05_RF09': ['05', '09'],\n",
    " 'DC05_RF10': ['05', '10'],\n",
    " 'DC05_RF11': ['05', '11'],\n",
    " 'DC07_RF08': ['07', '08'],\n",
    " 'DC07_RF09': ['07', '09'],\n",
    " 'DC07_RF10': ['07', '10'],\n",
    " 'DC07_RF11': ['07', '11'],\n",
    " 'DC09_RF08': ['09', '08'],\n",
    " 'DC09_RF09': ['09', '09'],\n",
    " 'DC09_RF10': ['09', '10'],\n",
    " 'DC09_RF11': ['09', '11'],\n",
    " 'DC11_RF08': ['11', '08'],\n",
    " 'DC11_RF09': ['11', '09'],\n",
    " 'DC11_RF10': ['11', '10'],\n",
    " 'DC11_RF11': ['11', '11'],\n",
    " 'DC18_RF08': ['18', '08'],\n",
    " 'DC18_RF09': ['18', '09'],\n",
    " 'DC18_RF10': ['18', '10'],\n",
    " 'DC18_RF11': ['18', '11']}\n",
    "\n",
    "Udc = [0.5, 1, 1.5, 2, 2.5, 3, 3.5, 4, 4.5, 5, 6, 7, 7.5, 3.33, 3.66, 4.5, 5.33, 5.66, 6, 6.5]\n",
    "Urf = [10.77, 16.15, 21.54, 26.92, 32.31, 37.69, 43.08, 48.46, 53.85, 59.23, 64.61,\n",
    "       70.00, 75.38, 80.77, 61.02, 62.82, 66.41, 68.20, 71.79, 55.64, 57.43]\n",
    "\n",
    "x = []\n",
    "y = []\n",
    "z = []\n",
    "\n",
    "omegaz_2 = zeros(len(list(points_and_coord)))\n",
    "omegax = zeros(len(list(points_and_coord)))\n",
    "omegap_2 = zeros(len(list(points_and_coord)))\n",
    "\n",
    "for g,h in enumerate(points_and_coord):\n",
    "    my_udc = Udc[int(points_and_coord[h][0])]\n",
    "    my_urf = Urf[int(points_and_coord[h][1])]\n",
    "    x.append(my_udc)\n",
    "    y.append(my_urf)\n",
    "    z.append(detect_rate[g])\n",
    "\n",
    "    \n",
    "    beta_guess = 0.402\n",
    "#     a = 8*C_e*kappa/(m_Ca*d0**2*Omega**2)*my_udc\n",
    "    a = 0\n",
    "    q = 4*C_e/(m_Ca*r0**2*Omega**2)*my_urf\n",
    "    for k in range(15):\n",
    "        beta_guess = beta_continue_alamano(a,q,beta_guess)\n",
    "        beta_guess = sqrt(beta_guess)\n",
    "    print(beta_guess)\n",
    "\n",
    "    omegax[g] = 0.5*beta_guess*Omega\n",
    "    omegaz_2[g] = 2*kappa*my_udc*C_e/(m_Ca*d0**2)\n",
    "    omegap_2[g] = omegax[g]**2 - 0.5*omegaz_2[g]\n",
    "    \n",
    "xL = mean(Len,axis=1)*1000\n",
    "yfx = omegax /2/pi"
   ]
  },
  {
   "cell_type": "code",
   "execution_count": 92,
   "metadata": {},
   "outputs": [
    {
     "data": {
      "text/plain": [
       "array([380.63441837, 388.87737695, 395.94693127, 402.34305919,\n",
       "       273.30711815, 282.51192408, 289.41200279, 295.40532108,\n",
       "       219.83442633, 227.99040842, 236.3928712 , 243.606327  ,\n",
       "       188.17885618, 196.00437223, 202.69656474, 208.60346411,\n",
       "       164.96736041, 173.38108147, 180.44780753, 185.93778415,\n",
       "       132.61265899, 141.15457193, 148.65637591, 155.00307152,\n",
       "       146.97393442, 155.66334381, 162.8463366 , 169.01810552])"
      ]
     },
     "execution_count": 92,
     "metadata": {},
     "output_type": "execute_result"
    }
   ],
   "source": [
    "xL"
   ]
  },
  {
   "cell_type": "code",
   "execution_count": 94,
   "metadata": {},
   "outputs": [
    {
     "name": "stderr",
     "output_type": "stream",
     "text": [
      "H:\\Programmes\\Anaconda3\\envs\\py307\\lib\\site-packages\\ipykernel_launcher.py:46: UserWarning: Tight layout not applied. The bottom and top margins cannot be made large enough to accommodate all axes decorations. \n"
     ]
    }
   ],
   "source": [
    "# x.append(L)\n",
    "# y.append(my_fx)\n",
    "# z.append(detect_rate[g])\n",
    "        \n",
    "cluster = array([1,2,3,4,1,2,3,4,1,2,3,4,1,2,3,4,1,2,3,4,1,2,3,4,1,2,3,4])\n",
    "my_marker = ['v','s','p','H']\n",
    "\n",
    "x=np.array(xL)\n",
    "y=np.array(yfx)*1e-3\n",
    "z=np.array(detect_rate,dtype='int')\n",
    "\n",
    "fname = '2D_GMol_var_fluo_freqx_L'\n",
    "fig = plt.figure(fname,clear=True)\n",
    "ax = fig.add_subplot(111)\n",
    "# title(all_subdir[0][myslashpos[slashcond-1]:-15]+'__E0='+str(E0_GMol)+'eV',fontsize=25)\n",
    "\n",
    "for kk in range(4):\n",
    "    im = ax.scatter(list(x[cluster==kk+1])+[0,0],list(y[cluster==kk+1])+[0,0],\n",
    "        marker=my_marker[kk%4],s=600,edgecolor='black',zorder = 1000,\n",
    "        c = list(z[cluster==kk+1])+[0,100], cmap='viridis') # discrete_cmap(len(num_runs), 'jet')\n",
    "ax.set_xlabel(r'$\\langle L \\rangle /2$ [µm]')\n",
    "ax.set_ylabel(r'$f_{x}$ [kHz]')\n",
    "ax.grid(visible='both')\n",
    "\n",
    "for ii,jj in enumerate(my_order):\n",
    "    ax.text(x[ii],y[ii]+12,str(ii),zorder = 10000,\n",
    "            color='xkcd:black',fontsize='12',weight=\"bold\",\n",
    "            ha='center',va='center')\n",
    "\n",
    "imbar = ax.scatter(x,y,\n",
    "        marker=my_marker[1],s=0,edgecolor='black',zorder = 1000,\n",
    "        c = z, cmap='viridis')\n",
    "cbar = plt.colorbar(imbar, ax=ax)\n",
    "# cbar.ax.set_ylabel(r'Detection rate (SNR > '+str(detect_threshold)+ ', Detuning -'+ str(Detuning) +   ')\\n ('+str(len(num_runs))+' runs for each point)', rotation=90)\n",
    "cbar.ax.set_ylabel(r'Detection rate [%]', rotation=90)\n",
    "\n",
    "ax.set_xlim(125,410)\n",
    "ax.set_ylim(380,565)\n",
    "ax.annotate(r'$ \\mathbf{q_x=0.6} $', (0.22,64.3),fontsize=15,weight=\"bold\")\n",
    "ax.annotate(r'$\\mathbf{q_x=0.5}$', (0.22,53.6),fontsize=15,weight=\"bold\")\n",
    "\n",
    "# ax.grid()\n",
    "# ax.xaxis.set_major_locator(matplotlib.ticker.MultipleLocator(base=1))\n",
    "fig.set_size_inches(14,6)\n",
    "\n",
    "fig.tight_layout()\n",
    "subplots_adjust(hspace=0.10, bottom=0.163, top = 0.94,left=0.10,right=1.03)\n",
    "savefig('2D_GMol_var_fluo_freqx_L_D1_0_50eV.png',dpi=300)\n",
    "# savefig(fname+'_D1.0'+'_'+str(E0_GMol)+'eV'+'.png',dpi=300)\n",
    "# savefig(fname+'_D1.0'+'_'+str(E0_GMol)+'eV'+'.eps',dpi=300,format='eps')"
   ]
  },
  {
   "cell_type": "code",
   "execution_count": 26,
   "metadata": {},
   "outputs": [
    {
     "name": "stderr",
     "output_type": "stream",
     "text": [
      "H:\\Programmes\\Anaconda3\\envs\\py307\\lib\\site-packages\\ipykernel_launcher.py:46: UserWarning: Tight layout not applied. The bottom and top margins cannot be made large enough to accommodate all axes decorations. \n"
     ]
    }
   ],
   "source": [
    "# x.append(L)\n",
    "# y.append(my_fx)\n",
    "# z.append(detect_rate[g])\n",
    "        \n",
    "cluster = array([1,2,3,4,1,2,3,4,1,2,3,4,1,2,3,4,1,2,3,4,1,2,3,4,1,2,3,4])\n",
    "my_marker = ['v','s','p','H']\n",
    "\n",
    "x=np.array(sqrt(omegaz_2)/2/pi)*1e-3\n",
    "y=np.array(yfx)*1e-3\n",
    "z=np.array(detect_rate,dtype='int')\n",
    "\n",
    "fname = '2D_GMol_var_fluo_freqx_freqz'\n",
    "fig = plt.figure(fname,clear=True)\n",
    "ax = fig.add_subplot(111)\n",
    "# title(all_subdir[0][myslashpos[slashcond-1]:-15]+'__E0='+str(E0_GMol)+'eV',fontsize=25)\n",
    "\n",
    "for kk in range(4):\n",
    "    im = ax.scatter(list(x[cluster==kk+1])+[0,0],list(y[cluster==kk+1])+[0,0],\n",
    "        marker=my_marker[kk%4],s=600,edgecolor='black',zorder = 1000,\n",
    "        c = list(z[cluster==kk+1])+[0,100], cmap='viridis') # discrete_cmap(len(num_runs), 'jet')\n",
    "ax.set_xlabel(r'$f_{z}$ [kHz]')\n",
    "ax.set_ylabel(r'$f_{x}$ [kHz]')\n",
    "ax.grid(visible='both')\n",
    "\n",
    "for ii,jj in enumerate(my_order):\n",
    "    ax.text(x[ii],y[ii]+13.5,str(ii),zorder = 10000,\n",
    "            color='xkcd:black',fontsize='12',weight=\"bold\",\n",
    "            ha='center',va='center')\n",
    "\n",
    "imbar = ax.scatter(x,y,\n",
    "        marker=my_marker[1],s=0,edgecolor='black',zorder = 1000,\n",
    "        c = z, cmap='viridis')\n",
    "cbar = plt.colorbar(imbar, ax=ax)\n",
    "# cbar.ax.set_ylabel(r'Detection rate (SNR > '+str(detect_threshold)+ ', Detuning -'+ str(Detuning) +   ')\\n ('+str(len(num_runs))+' runs for each point)', rotation=90)\n",
    "cbar.ax.set_ylabel(r'Detection rate [%]', rotation=90)\n",
    "\n",
    "ax.set_xlim(70,230)\n",
    "ax.set_ylim(380,565)\n",
    "ax.annotate(r'$ \\mathbf{q_x=0.6} $', (0.22,64.3),fontsize=15,weight=\"bold\")\n",
    "ax.annotate(r'$\\mathbf{q_x=0.5}$', (0.22,53.6),fontsize=15,weight=\"bold\")\n",
    "\n",
    "# ax.grid()\n",
    "# ax.xaxis.set_major_locator(matplotlib.ticker.MultipleLocator(base=1))\n",
    "fig.set_size_inches(14,6)\n",
    "\n",
    "fig.tight_layout()\n",
    "subplots_adjust(hspace=0.10, bottom=0.163, top = 0.94,left=0.10,right=1.03)\n",
    "savefig('2D_GMol_var_fluo_freqx_freqz_D1_0_50eV.png',dpi=300)\n",
    "# savefig(fname+'_D1.0'+'_'+str(E0_GMol)+'eV'+'.png',dpi=300)\n",
    "# savefig(fname+'_D1.0'+'_'+str(E0_GMol)+'eV'+'.eps',dpi=300,format='eps')"
   ]
  },
  {
   "cell_type": "code",
   "execution_count": 95,
   "metadata": {
    "scrolled": true
   },
   "outputs": [
    {
     "data": {
      "text/plain": [
       "array([-0.02194448, -0.02772925, -0.03513065, -0.04128209, -0.01897329,\n",
       "       -0.04117643, -0.02938714, -0.02171292, -0.00945064, -0.01266775,\n",
       "       -0.02001991, -0.03517142, -0.01710595, -0.0088239 , -0.01080696,\n",
       "       -0.01436896, -0.00779019, -0.01770155, -0.00852097, -0.01028037,\n",
       "       -0.00360305, -0.00419978, -0.00951352, -0.01628801, -0.00429723,\n",
       "       -0.00788992, -0.01821858, -0.00824137])"
      ]
     },
     "execution_count": 95,
     "metadata": {},
     "output_type": "execute_result"
    }
   ],
   "source": [
    "z"
   ]
  },
  {
   "cell_type": "code",
   "execution_count": 96,
   "metadata": {},
   "outputs": [
    {
     "name": "stderr",
     "output_type": "stream",
     "text": [
      "H:\\Programmes\\Anaconda3\\envs\\py307\\lib\\site-packages\\ipykernel_launcher.py:42: UserWarning: Tight layout not applied. The bottom and top margins cannot be made large enough to accommodate all axes decorations. \n"
     ]
    }
   ],
   "source": [
    "cluster = array([1,2,3,4,1,2,3,4,1,2,3,4,1,2,3,4,1,2,3,4,1,2,3,4,1,2,3,4])\n",
    "my_marker = ['v','s','p','H']\n",
    "\n",
    "x=np.array(xL)\n",
    "y=np.array(yfx)*1e-3\n",
    "z=np.array(mean(DeltaEc,axis=1))*1e3\n",
    "\n",
    "fname = '2D_GMol_var_ener_freqx_L'\n",
    "fig = plt.figure(fname,clear=True)\n",
    "ax = fig.add_subplot(111)\n",
    "# title(all_subdir[0][myslashpos[slashcond-1]:-15]+'__E0='+str(E0_GMol)+'eV',fontsize=25)\n",
    "\n",
    "for kk in range(4):\n",
    "    im = ax.scatter(list(x[cluster==kk+1])+[0,0],list(y[cluster==kk+1])+[0,0],\n",
    "        marker=my_marker[kk%4],s=600,edgecolor='black',zorder = 1000,\n",
    "        c = list(z[cluster==kk+1])+[0,min(z)], cmap='Purples_r') # discrete_cmap(len(num_runs), 'jet')\n",
    "ax.set_xlabel(r'$\\langle L \\rangle /2$ [µm]')\n",
    "ax.set_ylabel(r'$f_{x}$ [kHz]')\n",
    "ax.grid(visible='both')\n",
    "\n",
    "for ii,jj in enumerate(my_order):\n",
    "    ax.text(x[ii],y[ii]+13.5,str(ii),zorder = 10000,\n",
    "            color='xkcd:black',fontsize='12',weight=\"bold\",\n",
    "            ha='center',va='center')\n",
    "\n",
    "imbar = ax.scatter(x,y,\n",
    "        marker=my_marker[1],s=0,edgecolor='black',zorder = 1000,\n",
    "        c = z, cmap='Purples_r')\n",
    "cbar = plt.colorbar(imbar, ax=ax)\n",
    "# cbar.ax.set_ylabel(r'Detection rate (SNR > '+str(detect_threshold)+ ', Detuning -'+ str(Detuning) +   ')\\n ('+str(len(num_runs))+' runs for each point)', rotation=90)\n",
    "cbar.ax.set_ylabel(r'Mean $\\Delta E$ [meV]', rotation=90)\n",
    "\n",
    "ax.set_xlim(125,410)\n",
    "ax.set_ylim(380,565)\n",
    "ax.annotate(r'$ \\mathbf{q_x=0.6} $', (0.22,64.3),fontsize=15,weight=\"bold\")\n",
    "ax.annotate(r'$\\mathbf{q_x=0.5}$', (0.22,53.6),fontsize=15,weight=\"bold\")\n",
    "\n",
    "# ax.grid()\n",
    "# ax.xaxis.set_major_locator(matplotlib.ticker.MultipleLocator(base=1))\n",
    "fig.set_size_inches(14,6)\n",
    "\n",
    "fig.tight_layout()\n",
    "subplots_adjust(hspace=0.05, bottom=0.163, top = 0.94,left=0.10,right=1.02)\n",
    "savefig('2D_GMol_var_ener_freqx_L_D1_0_50eV.png',dpi=300)\n",
    "\n",
    "# savefig(fname+'_D1.0'+'_'+str(E0_GMol)+'eV'+'.png',dpi=300)\n",
    "# savefig(fname+'_D1.0'+'_'+str(E0_GMol)+'eV'+'.eps',dpi=300,format='eps')"
   ]
  },
  {
   "cell_type": "code",
   "execution_count": 58,
   "metadata": {},
   "outputs": [
    {
     "data": {
      "text/plain": [
       "[-41.28209375061351,\n",
       " -21.712916779611177,\n",
       " -35.171422924965384,\n",
       " -14.368957433694924,\n",
       " -10.280368757697158,\n",
       " -16.28801309610591,\n",
       " -8.241368035772208,\n",
       " 0,\n",
       " -41.28209375061351]"
      ]
     },
     "execution_count": 58,
     "metadata": {},
     "output_type": "execute_result"
    }
   ],
   "source": [
    "list(z[cluster==kk+1])+[0,min(z)]"
   ]
  },
  {
   "cell_type": "code",
   "execution_count": 64,
   "metadata": {},
   "outputs": [
    {
     "name": "stderr",
     "output_type": "stream",
     "text": [
      "H:\\Programmes\\Anaconda3\\envs\\py307\\lib\\site-packages\\ipykernel_launcher.py:44: UserWarning: Tight layout not applied. The bottom and top margins cannot be made large enough to accommodate all axes decorations. \n"
     ]
    }
   ],
   "source": [
    "cluster = array([1,2,3,4,1,2,3,4,1,2,3,4,1,2,3,4,1,2,3,4,1,2,3,4,1,2,3,4])\n",
    "my_marker = ['v','s','p','H']\n",
    "\n",
    "x=np.array(sqrt(omegaz_2)/2/pi)*1e-3\n",
    "y=np.array(yfx)*1e-3\n",
    "z=np.array(mean(DeltaEc,axis=1))*1e3\n",
    "\n",
    "fname = '2D_GMol_var_ener_freqx_freqz'\n",
    "fig = plt.figure(fname,clear=True)\n",
    "ax = fig.add_subplot(111)\n",
    "# title(all_subdir[0][myslashpos[slashcond-1]:-15]+'__E0='+str(E0_GMol)+'eV',fontsize=25)\n",
    "\n",
    "for kk in range(4):\n",
    "    im = ax.scatter(list(x[cluster==kk+1])+[0,0],list(y[cluster==kk+1])+[0,0],\n",
    "        marker=my_marker[kk%4],s=600,edgecolor='black',zorder = 1000,\n",
    "        c = list(z[cluster==kk+1])+[0,min(z)], cmap='Purples_r') # discrete_cmap(len(num_runs), 'jet')\n",
    "ax.set_xlabel(r'$f_{z}$ [kHz]')\n",
    "ax.set_ylabel(r'$f_{x}$ [kHz]')\n",
    "ax.grid(visible='both')\n",
    "\n",
    "for ii,jj in enumerate(my_order):\n",
    "    ax.text(x[ii],y[ii]+13.5,str(ii),zorder = 10000,\n",
    "            color='xkcd:black',fontsize='12',weight=\"bold\",\n",
    "            ha='center',va='center')\n",
    "\n",
    "imbar = ax.scatter(x,y,\n",
    "        marker=my_marker[1],s=0,edgecolor='black',zorder = 1000,\n",
    "        c = z, cmap='Purples_r')\n",
    "cbar = plt.colorbar(imbar, ax=ax)\n",
    "# cbar.set_clim(min(z),0)\n",
    "# cbar.clim((min(z),0))\n",
    "# cbar.ax.set_ylabel(r'Detection rate (SNR > '+str(detect_threshold)+ ', Detuning -'+ str(Detuning) +   ')\\n ('+str(len(num_runs))+' runs for each point)', rotation=90)\n",
    "cbar.ax.set_ylabel(r'Mean $\\Delta E$ [meV]', rotation=90)\n",
    "\n",
    "ax.set_xlim(70,230)\n",
    "ax.set_ylim(380,565)\n",
    "ax.annotate(r'$ \\mathbf{q_x=0.6} $', (0.22,64.3),fontsize=15,weight=\"bold\")\n",
    "ax.annotate(r'$\\mathbf{q_x=0.5}$', (0.22,53.6),fontsize=15,weight=\"bold\")\n",
    "\n",
    "# ax.grid()\n",
    "# ax.xaxis.set_major_locator(matplotlib.ticker.MultipleLocator(base=1))\n",
    "fig.set_size_inches(14,6)\n",
    "\n",
    "fig.tight_layout()\n",
    "subplots_adjust(hspace=0.05, bottom=0.163, top = 0.94,left=0.10,right=1.02)\n",
    "# savefig('2D_GMol_var_ener_freqx_freqz_D1_0_50eV.png',dpi=300)\n",
    "# savefig(fname+'_D1.0'+'_'+str(E0_GMol)+'eV'+'.png',dpi=300)\n",
    "# savefig(fname+'_D1.0'+'_'+str(E0_GMol)+'eV'+'.eps',dpi=300,format='eps')"
   ]
  },
  {
   "cell_type": "markdown",
   "metadata": {},
   "source": [
    "# Histogram"
   ]
  },
  {
   "cell_type": "code",
   "execution_count": 33,
   "metadata": {},
   "outputs": [
    {
     "data": {
      "text/plain": [
       "(28, 100)"
      ]
     },
     "execution_count": 33,
     "metadata": {},
     "output_type": "execute_result"
    }
   ],
   "source": [
    "shape(SNR)"
   ]
  },
  {
   "cell_type": "code",
   "execution_count": 53,
   "metadata": {},
   "outputs": [],
   "source": [
    "# Plot DE_hist\n",
    "\n",
    "figname = 'DE_hist'\n",
    "fig, ax = plt.subplots(1, 1,num=figname,clear=True,sharex=True,sharey=True)\n",
    "fig.set_size_inches(14,6)\n",
    "\n",
    "my_condition = 22\n",
    "\n",
    "y_all = DeltaEc[my_condition]*1000\n",
    "y_detec    = y_all[SNR[my_condition]>=1]\n",
    "y_nondetec = y_all[SNR[my_condition]<1]\n",
    "my_bins = arange(-50,0,1)\n",
    "ax.hist(y_detec,bins=my_bins ,color='xkcd:green', alpha=0.6, hatch='O', edgecolor='black', linewidth=1.2)\n",
    "ax.hist(y_nondetec,bins=my_bins ,color='xkcd:rouge', alpha=0.6, hatch='.', edgecolor='black', linewidth=1.2)\n",
    "\n",
    "ax.annotate(my_condition, xy=(0.015, 0.96), xycoords='axes fraction', # pts_concerned[to_plot]\n",
    "size=15, ha='left', va='top',weight='bold',\n",
    "bbox=dict(boxstyle='round',color='w',ec='k'))\n",
    "\n",
    "ax.yaxis.set_major_locator(matplotlib.ticker.MultipleLocator(base=1))\n",
    "ax.xaxis.set_major_locator(matplotlib.ticker.MultipleLocator(base=5))\n",
    "\n",
    "\n",
    "ax.set_xlabel(r'$ \\Delta E_c$ [meV]')\n",
    "ax.set_ylabel(r'Histogram')\n",
    "# ax.set_ylim(365,545)\n",
    "ax.grid()\n",
    "\n",
    "tight_layout()\n",
    "\n",
    "savefig(figname+'_cond'+str(my_condition)+'.png',dpi=600)"
   ]
  },
  {
   "cell_type": "code",
   "execution_count": 29,
   "metadata": {},
   "outputs": [
    {
     "data": {
      "text/plain": [
       "array([-22.55356777, -23.06663856, -19.09993267, -23.01902536,\n",
       "       -16.41717955, -27.91413796, -24.44090508,  -9.07595517,\n",
       "       -30.28335729, -26.19080316, -11.52014783, -13.72661721,\n",
       "       -36.70497006, -19.20046538, -17.85505688, -15.74405256,\n",
       "       -24.60518283,  -8.37319142, -12.41937931, -32.85891349,\n",
       "       -29.91337287, -12.85233224, -18.35371161, -21.14506021,\n",
       "       -19.03754399, -11.08734724, -36.47494191, -14.32207278,\n",
       "       -11.41839006, -15.06560315, -20.551722  , -18.57154072,\n",
       "       -18.27026513, -18.71142799, -27.53770675, -17.51469107,\n",
       "       -17.06521836, -16.3298058 ,  -7.72380952, -21.11164664,\n",
       "       -35.47740434, -21.8579618 , -27.63333997, -23.16851187,\n",
       "       -19.40382131, -19.04988488,  -9.02098075, -21.95797639,\n",
       "       -27.85515171, -28.23215053, -24.92966867, -30.02354583,\n",
       "       -16.9136825 , -15.203937  , -18.79957084,  -9.92300481,\n",
       "       -24.61602929, -13.27141596, -25.85712334, -16.67924466,\n",
       "       -19.40765733, -15.82114006, -16.3503022 , -24.17045593,\n",
       "       -20.64658898, -23.24495884, -36.49827261, -18.8897094 ,\n",
       "       -18.14370107,  -9.67163415, -11.6025739 , -26.67378392,\n",
       "       -29.86086212, -24.0702156 , -22.92631489, -28.44863226,\n",
       "       -30.25603651, -16.64676037, -17.52978392, -27.02305426,\n",
       "       -15.86486341, -16.89930076,  -7.30093892, -25.28254263,\n",
       "       -19.51809444, -22.69055483, -17.85870821, -26.30651012,\n",
       "       -15.88968354, -12.0664351 , -18.54648237, -24.74158748,\n",
       "       -12.15044956, -14.21180096, -13.91087244, -16.29758333,\n",
       "        -7.79394484, -20.75616933, -20.9865254 , -17.03375744])"
      ]
     },
     "execution_count": 29,
     "metadata": {},
     "output_type": "execute_result"
    }
   ],
   "source": [
    "y"
   ]
  },
  {
   "cell_type": "markdown",
   "metadata": {},
   "source": [
    "# Gamma Plasma"
   ]
  },
  {
   "cell_type": "code",
   "execution_count": 136,
   "metadata": {},
   "outputs": [
    {
     "data": {
      "text/plain": [
       "3"
      ]
     },
     "execution_count": 136,
     "metadata": {},
     "output_type": "execute_result"
    }
   ],
   "source": [
    "n0 = list(n0)\n",
    "n0.index(min(n0))\n",
    "n0.index(max(n0))"
   ]
  },
  {
   "cell_type": "code",
   "execution_count": 80,
   "metadata": {},
   "outputs": [
    {
     "data": {
      "text/plain": [
       "array([380.63441837, 388.87737695, 395.94693127, 402.34305919,\n",
       "       273.30711815, 282.51192408, 289.41200279, 295.40532108,\n",
       "       219.83442633, 227.99040842, 236.3928712 , 243.606327  ,\n",
       "       188.17885618, 196.00437223, 202.69656474, 208.60346411,\n",
       "       164.96736041, 173.38108147, 180.44780753, 185.93778415,\n",
       "       132.61265899, 141.15457193, 148.65637591, 155.00307152,\n",
       "       146.97393442, 155.66334381, 162.8463366 , 169.01810552])"
      ]
     },
     "execution_count": 80,
     "metadata": {},
     "output_type": "execute_result"
    }
   ],
   "source": [
    "Len_moy*1e6"
   ]
  },
  {
   "cell_type": "code",
   "execution_count": 135,
   "metadata": {},
   "outputs": [
    {
     "data": {
      "text/plain": [
       "array([43.29845028, 38.2746571 , 34.75363717, 31.67696675, 52.06725592,\n",
       "       46.26726688, 41.61739963, 37.86094572, 58.20645639, 51.68637849,\n",
       "       46.52751801, 42.05260063, 63.53749071, 56.1400948 , 50.25857056,\n",
       "       45.55413439, 68.08928757, 60.0854524 , 53.73456415, 48.45862255,\n",
       "       76.13871346, 66.85036786, 59.62622519, 53.63422533, 72.18903036,\n",
       "       63.65237501, 56.70773825, 51.12163728])"
      ]
     },
     "execution_count": 135,
     "metadata": {},
     "output_type": "execute_result"
    }
   ],
   "source": [
    "Ray_moy*1e6"
   ]
  },
  {
   "cell_type": "code",
   "execution_count": 137,
   "metadata": {},
   "outputs": [
    {
     "data": {
      "text/plain": [
       "array([8.86579330e-06, 8.22454308e-06, 7.75852535e-06, 7.33265488e-06,\n",
       "       8.97759732e-06, 8.38999121e-06, 7.88113599e-06, 7.45018558e-06,\n",
       "       8.99316765e-06, 8.40987632e-06, 7.93569066e-06, 7.49304099e-06,\n",
       "       9.05267638e-06, 8.44962358e-06, 7.93698511e-06, 7.50514440e-06,\n",
       "       9.07302031e-06, 8.48685549e-06, 7.98337209e-06, 7.52667693e-06,\n",
       "       9.08863575e-06, 8.50878464e-06, 8.02144738e-06, 7.57951571e-06,\n",
       "       9.07738858e-06, 8.50821668e-06, 7.99688584e-06, 7.55580824e-06])"
      ]
     },
     "execution_count": 137,
     "metadata": {},
     "output_type": "execute_result"
    }
   ],
   "source": [
    "aws"
   ]
  },
  {
   "cell_type": "code",
   "execution_count": 143,
   "metadata": {},
   "outputs": [],
   "source": [
    "Len_moy = mean(Len,axis=1)*1e-3\n",
    "Ray_moy = mean(Ray,axis=1)*1e-3\n",
    "N_ions = 1024\n",
    "# gamma plasma\n",
    "V = 4/3*pi*Ray_moy**2*Len_moy\n",
    "n0 = N_ions/(V)\n",
    "aws = ( 3/(4*pi*n0) )**(1/3)\n",
    "temperature_ex = linspace(1e-4,1000,10000)\n",
    "\n",
    "# determine the extremum density\n",
    "indmin = list(n0).index(min(n0))\n",
    "indmax = list(n0).index(max(n0))\n",
    "\n",
    "gamma_plasma = []\n",
    "for i,j in enumerate(aws):\n",
    "    gamma_plasma.append(C_e**2/(4*pi*eps0*kb*temperature_ex*j))\n",
    "    \n",
    "# Plot Gamma plasma\n",
    "figname = 'Gamma_plasma'\n",
    "fig, ax = plt.subplots(1, 1,num=figname,clear=True,sharex=True,sharey=True)\n",
    "fig.set_size_inches(8,6)\n",
    "\n",
    "my_label = [n0[indmin],n0[indmax]]\n",
    "\n",
    "for j,k in enumerate([indmin,indmax]):\n",
    "    ax.plot(temperature_ex,gamma_plasma[k],label=f'{my_label[j]:.2e}')\n",
    "plt.yscale(\"log\")\n",
    "plt.xscale(\"log\")\n",
    "\n",
    "ax.hlines(2,1e-5,1e4,linestyle=':',lw=2)\n",
    "ax.hlines(278,1e-5,1e4,linestyle=':',lw=2)\n",
    "\n",
    "\n",
    "locmaj = matplotlib.ticker.LogLocator(base=10,numticks=12) \n",
    "ax.xaxis.set_major_locator(locmaj)\n",
    "ax.yaxis.set_major_locator(locmaj)\n",
    "locmin = matplotlib.ticker.LogLocator(base=10.0,subs=(0.2,0.4,0.6,0.8),numticks=12)\n",
    "ax.xaxis.set_minor_locator(locmin)\n",
    "ax.yaxis.set_minor_locator(locmin)\n",
    "\n",
    "ax.grid(b=True, which='major', linestyle='-')\n",
    "ax.grid(b=True, which='minor', linestyle='--')\n",
    "\n",
    "\n",
    "ax.annotate('Crystal', xy=(0.97, 0.885), xycoords='axes fraction', # pts_concerned[to_plot]\n",
    "size=15, ha='right', va='top',weight='bold',\n",
    "bbox=dict(boxstyle='round',color='w',ec='k'))\n",
    "\n",
    "ax.annotate('Liquid', xy=(0.97, 0.61), xycoords='axes fraction', # pts_concerned[to_plot]\n",
    "size=15, ha='right', va='top',weight='bold',\n",
    "bbox=dict(boxstyle='round',color='w',ec='k'))\n",
    "\n",
    "ax.annotate('Gas', xy=(0.97, 0.235), xycoords='axes fraction', # pts_concerned[to_plot]\n",
    "size=15, ha='right', va='top',weight='bold',\n",
    "bbox=dict(boxstyle='round',color='w',ec='k'))\n",
    "\n",
    "# ax.yaxis.set_major_locator(matplotlib.ticker.MultipleLocator(base=1))\n",
    "# ax.xaxis.set_major_locator(matplotlib.ticker.MultipleLocator(base=5))\n",
    "\n",
    "\n",
    "ax.set_xlabel(r'Temperature [K]')\n",
    "ax.set_ylabel(r'$\\Gamma_p$')\n",
    "ax.set_xlim(9e-5,1.2e3)\n",
    "ax.legend(title='Density [#ions/m$^3$]',loc=3,fontsize=18)\n",
    "# ax.grid()\n",
    "\n",
    "tight_layout()\n",
    "\n",
    "# savefig('gamma_p_vs_temperature',dpi=600)"
   ]
  },
  {
   "cell_type": "code",
   "execution_count": 144,
   "metadata": {},
   "outputs": [
    {
     "name": "stdout",
     "output_type": "stream",
     "text": [
      "[0, 1, 2, 3]\n",
      "[4, 5, 6, 7]\n",
      "[8, 9, 10, 11]\n",
      "[12, 13, 14, 15]\n",
      "[16, 17, 18, 19]\n",
      "[24, 25, 26, 27]\n",
      "[20, 21, 22, 23]\n"
     ]
    },
    {
     "name": "stderr",
     "output_type": "stream",
     "text": [
      "H:\\Programmes\\Anaconda3\\envs\\py307\\lib\\site-packages\\ipykernel_launcher.py:85: UserWarning: Tight layout not applied. The bottom and top margins cannot be made large enough to accommodate all axes decorations. \n"
     ]
    }
   ],
   "source": [
    "# with different marker for each RF in the same curve\n",
    "\n",
    "fname = 'detection_rate_vs_L_custommarkers'\n",
    "cm = pylab.get_cmap('cividis')\n",
    "fig = plt.figure(num=fname,clear=True)\n",
    "fig.set_size_inches(11.69,8.27)\n",
    "\n",
    "gs1 = gridspec.GridSpec(1,1)\n",
    "gs1.update(left=0.11, right=0.88, top=0.98, bottom=0.17, wspace=0, hspace = 0)\n",
    "ax1 = plt.subplot(gs1[0])\n",
    "\n",
    "gs2 = gridspec.GridSpec(1, 1)\n",
    "gs2.update(left=0.89, right=0.92, top=0.98 , bottom=0.17, wspace=0, hspace = 0)\n",
    "\n",
    "# gs3 = gridspec.GridSpec(1, 1)\n",
    "# gs3.update(left=0.89, right=0.92, top=0.98 , bottom=0.17, wspace=0, hspace = 0)\n",
    "\n",
    "\n",
    "axb = plt.subplot(gs2[0])\n",
    "cmap = mpl.colors.ListedColormap([cm(k/6) for k in range(7)])\n",
    "bounds = [0.5,1.5,2.5,3.5,4.5,5.5,6.5,7.5]\n",
    "norm = mpl.colors.BoundaryNorm(bounds, cmap.N)\n",
    "cb2 = mpl.colorbar.ColorbarBase(axb, cmap=cmap,\n",
    "                                norm=norm,\n",
    "                                ticks=np.arange(1,8), # np.arange(0.5,7.5)\n",
    "                                spacing='proportional',\n",
    "                                orientation='vertical')\n",
    "cb2.set_label('$U_{DC}$ [V]')\n",
    "\n",
    "fig = figure('detection_rate_vs_ion_density',clear=True)\n",
    "ax1 = fig.add_subplot(111)\n",
    "fig.set_size_inches(11.69, 6.1)\n",
    "\n",
    "cm=pylab.get_cmap('cividis') \n",
    "\n",
    "# omegaz_2\n",
    "\n",
    "for k in range(28//4):\n",
    "    to_plot = my_order[k*4:(1+k)*4]\n",
    "    print(to_plot)\n",
    "    ax1.errorbar(n0[min(to_plot):max(to_plot)+1],\n",
    "                 detect_rate[min(to_plot):max(to_plot)+1],\n",
    "             marker='D', ms=10, color=cm(k/6), markeredgecolor='k', linestyle=':',label=k+1)\n",
    "ax1.set_xlabel('mean cloud density [#ions/m^3]')\n",
    "ax1.set_ylabel('Detection rate [%]')\n",
    "ax1.legend(title=r'$U_{DC}$',fontsize=15,loc=4)\n",
    "\n",
    "for i, txt in enumerate(points_and_coord):\n",
    "    if i in [16,24,20,12,15,11,13,25,21,27]:\n",
    "        pass\n",
    "    else:\n",
    "        ax1.annotate(str(i), (n0[i]+1.5e12*(-1)**(i%5), detect_rate[i]*100+4.5*(-1)**(i%5)),\n",
    "        color='xkcd:black',fontsize=10, # cm(1-(i//4)/6)\n",
    "        ha='center',va='center',weight='bold',zorder = 1000)\n",
    "    \n",
    "ax1.annotate('16,24,\\n20&12', (3.2e14,6.5),\n",
    "color='xkcd:black',fontsize=10, # cm(1-(i//4)/6)\n",
    "ha='center',va='center',weight='bold',zorder = 1000)\n",
    "\n",
    "ax1.annotate('21&25', (3.9e14,-5),\n",
    "color='xkcd:black',fontsize=10, # cm(1-(i//4)/6)\n",
    "ha='center',va='center',weight='bold',zorder = 1000)\n",
    "\n",
    "ax1.annotate('13', (4.02e14,5),\n",
    "color='xkcd:black',fontsize=10, # cm(1-(i//4)/6)\n",
    "ha='center',va='center',weight='bold',zorder = 1000)\n",
    "\n",
    "ax1.annotate('15', (5.65e14,95),\n",
    "color='xkcd:black',fontsize=10, # cm(1-(i//4)/6)\n",
    "ha='center',va='center',weight='bold',zorder = 1000)\n",
    "\n",
    "ax1.annotate('11', (5.7e14,104),\n",
    "color='xkcd:black',fontsize=10, # cm(1-(i//4)/6)\n",
    "ha='center',va='center',weight='bold',zorder = 1000)\n",
    "\n",
    "ax1.annotate('27', (5.52e14,104.5),\n",
    "color='xkcd:black',fontsize=10, # cm(1-(i//4)/6)\n",
    "ha='center',va='center',weight='bold',zorder = 1000)\n",
    "\n",
    "matplotlib.pyplot.grid(True, which=\"both\")\n",
    "# ax1.xaxis.set_major_locator(plt.MaxNLocator(25))\n",
    "\n",
    "ax1.set_xlim(3.05e14,6.15e14)\n",
    "ax1.set_ylim(-8.5,108)\n",
    "plt.tight_layout()\n",
    "\n",
    "\n",
    "# savefig('detection_rate_vs_ion_density',dpi=300)\n",
    "\n",
    "# ax.scatter(x,y,\n",
    "#         marker='D',s=400,edgecolor='black',zorder = 1000,\n",
    "#         c = z, cmap=discrete_cmap(len(num_runs), 'rainbow'))"
   ]
  },
  {
   "cell_type": "code",
   "execution_count": 146,
   "metadata": {},
   "outputs": [
    {
     "name": "stdout",
     "output_type": "stream",
     "text": [
      "DC01_RF08 0 1 53.85\n",
      "DC01_RF09 1 1 59.23\n",
      "DC01_RF10 2 1 64.61\n",
      "DC01_RF11 3 1 70.0\n",
      "DC03_RF08 4 2 53.85\n",
      "DC03_RF09 5 2 59.23\n",
      "DC03_RF10 6 2 64.61\n",
      "DC03_RF11 7 2 70.0\n",
      "DC05_RF08 8 3 53.85\n",
      "DC05_RF09 9 3 59.23\n",
      "DC05_RF10 10 3 64.61\n",
      "DC05_RF11 11 3 70.0\n",
      "DC07_RF08 12 4 53.85\n",
      "DC07_RF09 13 4 59.23\n",
      "DC07_RF10 14 4 64.61\n",
      "DC07_RF11 15 4 70.0\n",
      "DC09_RF08 16 5 53.85\n",
      "DC09_RF09 17 5 59.23\n",
      "DC09_RF10 18 5 64.61\n",
      "DC09_RF11 19 5 70.0\n",
      "DC11_RF08 24 7 53.85\n",
      "DC11_RF09 25 7 59.23\n",
      "DC11_RF10 26 7 64.61\n",
      "DC11_RF11 27 7 70.0\n",
      "DC18_RF08 20 6 53.85\n",
      "DC18_RF09 21 6 59.23\n",
      "DC18_RF10 22 6 64.61\n",
      "DC18_RF11 23 6 70.0\n"
     ]
    }
   ],
   "source": [
    "N_ions = 1024\n",
    "my_order = [0,1,2,3,4,5,6,7,8,9,10,11,12,13,14,15,16,17,18,19,24,25,26,27,20,21,22,23]\n",
    "omegax_2 = []\n",
    "omegax_2bis = []\n",
    "cloud_density_formula = zeros(28)\n",
    "for k,l in enumerate(list(points_and_coord)):\n",
    "    my_udc = Udc[int(l[2:4])]\n",
    "    my_urf = Urf[int(l[7:])]\n",
    "    print(l,my_order[k],my_udc,my_urf)\n",
    "    q = 4 * C_e * my_urf / (m_Ca*r0**2*Omega**2)\n",
    "    omegaz = sqrt( 2 * C_e * my_udc / (m_Ca*d0**2) )\n",
    "    omegax_2.append(Omega**2 / 4 *  q**2/2)\n",
    "    beta2 = q**2/(2-q**2) - 7*q**4/(32*4) + 29*q**6/(64*4*9)\n",
    "    omegax_2bis.append(0.25*Omega**2 * a )\n",
    "    omegar_2 = Omega**2 / 4 * ( q**2/2 - 0.5*(omegaz/Omega)**2 )\n",
    "    cloud_density_formula[my_order[k]] = 2*m_Ca*eps0/C_e**2 * omegar_2"
   ]
  },
  {
   "cell_type": "code",
   "execution_count": 172,
   "metadata": {},
   "outputs": [
    {
     "data": {
      "text/plain": [
       "(array([2484067.11934794, 2775969.06119444, 3086217.18545825,\n",
       "        3421863.47236089]),\n",
       " array([2334091.9098945 , 2567284.37925815, 2800476.84862179,\n",
       "        3034102.76123704]))"
      ]
     },
     "execution_count": 172,
     "metadata": {},
     "output_type": "execute_result"
    }
   ],
   "source": [
    "omegax[0:4] , 4*C_e/(m_Ca*r0**2*Omega**2)*array(Urf[8:12]) * Omega/(2*sqrt(2))"
   ]
  },
  {
   "cell_type": "code",
   "execution_count": 189,
   "metadata": {},
   "outputs": [],
   "source": [
    "# with different marker for each RF in the same curve\n",
    "\n",
    "fname = 'detection_rate_vs_L_custommarkers_density'\n",
    "cm = pylab.get_cmap('cividis')\n",
    "fig = plt.figure(num=fname,clear=True)\n",
    "fig.set_size_inches(11.69,8.27)\n",
    "\n",
    "gs1 = gridspec.GridSpec(1,1)\n",
    "gs1.update(left=0.11, right=0.72, top=0.98, bottom=0.17, wspace=0, hspace = 0)\n",
    "ax1 = plt.subplot(gs1[0])\n",
    "\n",
    "gs2 = gridspec.GridSpec(1, 1)\n",
    "gs2.update(left=0.73, right=0.76, top=0.98 , bottom=0.17, wspace=0, hspace = 0)\n",
    "gs3 = gridspec.GridSpec(1, 1)\n",
    "gs3.update(left=0.84, right=0.841, top=0.98 , bottom=0.17, wspace=0, hspace = 0)\n",
    "\n",
    "my_marker=['v','s','p','H']\n",
    "my_label =[53.85, 59.23, 64.61, 70.00]\n",
    "my_size =[225,150,225,225]\n",
    "\n",
    "# for k in range(28//4):\n",
    "#     to_plot = my_order[k*4:(1+k)*4]\n",
    "#     print(to_plot)\n",
    "#     ax1.errorbar(mean(cloud_density,axis=1)[min(to_plot):max(to_plot)+1],\n",
    "#                  multiply(detect_rate,100)[min(to_plot):max(to_plot)+1],\n",
    "#                  xerr=std_cloud_density[min(to_plot):max(to_plot)+1],\n",
    "#              marker='D', ms=10, color=cm(k/6), markeredgecolor='k', linestyle=':',label=k+1)\n",
    "# ax1.set_xlabel('mean cloud density [#ions/m^3]')\n",
    "# ax1.set_ylabel('Detection rate [%]')\n",
    "# ax1.legend(title=r'$U_{DC}$',fontsize=15,loc=4)\n",
    "\n",
    "for k in range(28//4):\n",
    "    to_plot = my_order[k*4:(1+k)*4]\n",
    "    \n",
    "    x = n0[min(to_plot):max(to_plot)+1]\n",
    "    y = array(detect_rate[min(to_plot):max(to_plot)+1])\n",
    "    cluster = np.array([1,2,3,4])\n",
    "    \n",
    "    ax1.plot(x,y, marker='',color=cm(k/6),linestyle='--',lw=2)\n",
    "\n",
    "    for kk in range(4):\n",
    "        ax1.scatter(x[cluster==kk+1],y[cluster==kk+1],\n",
    "                    marker=my_marker[kk],\n",
    "                   s=my_size[kk], color=cm(k/6), edgecolor='k',zorder=1000)\n",
    "#     ax1.errorbar(x,y,\n",
    "#                  xerr=std_RoverL[min(to_plot):max(to_plot)+1],\n",
    "#                  marker='', color=cm(k/6), linestyle='--')\n",
    "\n",
    "debut = 0\n",
    "fin   = 4\n",
    "for kk in range(4):\n",
    "    ax1.vlines(omegax[kk]**2*2*m_Ca*eps0/C_e**2,0,110,ls=':')\n",
    "    \n",
    "# for kk in Urf[8:12]:\n",
    "#     print(kk)\n",
    "#     uuu = 4*C_e/(m_Ca*r0**2*Omega**2)*array(Urf[8:12]) * Omega/(2*sqrt(2))\n",
    "#     ax1.vlines(uuu**2*2*m_Ca*eps0/C_e**2,0,110,ls=':')\n",
    "#     ax1.vlines(eps0/(m_Ca*Omega**2*r0**4)*kk**2,0,110,ls=':')\n",
    "\n",
    "for kk in range(4):\n",
    "    ax1.scatter(mean(omegax[kk::4])**2*2*m_Ca*eps0/C_e**2,115,\n",
    "                    marker=my_marker[kk],\n",
    "                   s=my_size[kk], color='k',zorder=1000)\n",
    "\n",
    "omegax_2    \n",
    "\n",
    "# ax1.vlines(omegax[1::4]**2*2*m_Ca*eps0/C_e**2,0,100)\n",
    "\n",
    "for kk in range(4):\n",
    "        ax1.scatter(0,0, marker=my_marker[kk],\n",
    "                   s=225, color='k', edgecolor='k',label=my_label[kk],zorder=0)\n",
    "handles, labels = ax1.get_legend_handles_labels()\n",
    "\n",
    "# matplotlib.rcParams.update({'font.size': 20})\n",
    "\n",
    "ax1.legend(handles[::-1], labels[::-1],\n",
    "           title='$U_{RF}$', loc='lower right',fontsize=20)\n",
    "    \n",
    "ax1.xaxis.set_major_locator(matplotlib.ticker.MultipleLocator(base=0.5e14))\n",
    "    \n",
    "ax1.set_xlabel(r'Cloud density [#ions/m$^3$]')\n",
    "ax1.set_ylabel('Detection rate [%]')\n",
    "ax1.set_xlim(2.5e14,6.49e14)\n",
    "\n",
    "axb = plt.subplot(gs2[0])\n",
    "cmap = mpl.colors.ListedColormap([cm(k/6) for k in range(7)])\n",
    "bounds = [0.5,1.5,2.5,3.5,4.5,5.5,6.5,7.5]\n",
    "norm = mpl.colors.BoundaryNorm(bounds, cmap.N)\n",
    "cb2 = mpl.colorbar.ColorbarBase(axb, cmap=cmap,\n",
    "                                norm=norm,\n",
    "                                ticks=np.arange(1,8), # np.arange(0.5,7.5)\n",
    "                                spacing='proportional',\n",
    "                                orientation='vertical')\n",
    "cb2.set_label('$U_{DC}$ [V]')\n",
    "\n",
    "axc = plt.subplot(gs3[0])\n",
    "cmap = mpl.colors.ListedColormap([cm(k/6) for k in range(7)])\n",
    "cb3 = mpl.colorbar.ColorbarBase(axc, cmap=cmap,\n",
    "                                norm=norm,\n",
    "                                spacing='uniform',\n",
    "                                orientation='vertical')\n",
    "cb3.set_ticks([0,1,2,3,4,5,6,7])\n",
    "cb3.set_ticklabels([ 90.8, 128, 157, 181,\n",
    "       203, 240, 222])\n",
    "cb3.set_label('$f_{z}$ [kHz]')\n",
    "\n",
    "ax1.grid(True, which=\"both\")\n",
    "# ax1.xaxis.set_major_locator(plt.MaxNLocator(25))\n",
    "fig.set_size_inches(11.69, 6.1)\n",
    "matplotlib.rcParams.update({'font.size': 25})\n",
    "savefig('Detec_dens_URF_UDC_fz',dpi=300)\n",
    "\n",
    "# ax.scatter(x,y,\n",
    "#         marker='D',s=400,edgecolor='black',zorder = 1000,\n",
    "#         c = z, cmap=discrete_cmap(len(num_runs), 'rainbow'))"
   ]
  },
  {
   "cell_type": "code",
   "execution_count": 71,
   "metadata": {},
   "outputs": [
    {
     "name": "stderr",
     "output_type": "stream",
     "text": [
      "H:\\Programmes\\Anaconda3\\envs\\py307\\lib\\site-packages\\ipykernel_launcher.py:99: UserWarning: This figure includes Axes that are not compatible with tight_layout, so results might be incorrect.\n"
     ]
    }
   ],
   "source": [
    "# with different marker for each RF in the same curve\n",
    "\n",
    "fname = 'RF_vs_cloud_density'\n",
    "cm = pylab.get_cmap('cividis')\n",
    "fig = plt.figure(num=fname,clear=True)\n",
    "fig.set_size_inches(11.69,8.27)\n",
    "\n",
    "gs1 = gridspec.GridSpec(1,1)\n",
    "gs1.update(left=0.11, right=0.72, top=0.98, bottom=0.17, wspace=0, hspace = 0)\n",
    "ax1 = plt.subplot(gs1[0])\n",
    "\n",
    "gs2 = gridspec.GridSpec(1, 1)\n",
    "gs2.update(left=0.73, right=0.76, top=0.98 , bottom=0.17, wspace=0, hspace = 0)\n",
    "gs3 = gridspec.GridSpec(1, 1)\n",
    "gs3.update(left=0.84, right=0.87, top=0.98 , bottom=0.17, wspace=0, hspace = 0)\n",
    "\n",
    "my_marker=['v','s','p','H']\n",
    "my_label =[53.85, 59.23, 64.61, 70.00]\n",
    "my_size  =[225,150,225,225]\n",
    "my_urf   =[53.85,59.23,64.61,70]\n",
    "\n",
    "# for k in range(28//4):\n",
    "#     to_plot = my_order[k*4:(1+k)*4]\n",
    "#     print(to_plot)\n",
    "#     ax1.errorbar(mean(cloud_density,axis=1)[min(to_plot):max(to_plot)+1],\n",
    "#                  multiply(detect_rate,100)[min(to_plot):max(to_plot)+1],\n",
    "#                  xerr=std_cloud_density[min(to_plot):max(to_plot)+1],\n",
    "#              marker='D', ms=10, color=cm(k/6), markeredgecolor='k', linestyle=':',label=k+1)\n",
    "# ax1.set_xlabel('mean cloud density [#ions/m^3]')\n",
    "# ax1.set_ylabel('Detection rate [%]')\n",
    "# ax1.legend(title=r'$U_{DC}$',fontsize=15,loc=4)\n",
    "\n",
    "for k in range(28//4):\n",
    "    to_plot = my_order[k*4:(1+k)*4]\n",
    "    \n",
    "    x = array(my_urf)\n",
    "    y = n0[min(to_plot):max(to_plot)+1]\n",
    "    cluster = np.array([1,2,3,4])\n",
    "    \n",
    "    ax1.plot(x,y, marker='',color=cm(k/6),linestyle='--',lw=2)\n",
    "\n",
    "    for kk in range(4):\n",
    "        ax1.scatter(x[cluster==kk+1],y[cluster==kk+1],\n",
    "                    marker=my_marker[kk],\n",
    "                   s=my_size[kk], color=cm(k/6), edgecolor='k',zorder=1000)\n",
    "#     ax1.errorbar(x,y,\n",
    "#                  xerr=std_RoverL[min(to_plot):max(to_plot)+1],\n",
    "#                  marker='', color=cm(k/6), linestyle='--')\n",
    "\n",
    "for kk in range(4):\n",
    "        ax1.scatter(0,0, marker=my_marker[kk],\n",
    "                   s=225, color='k', edgecolor='k',label=my_label[kk],zorder=0)\n",
    "handles, labels = ax1.get_legend_handles_labels()\n",
    "\n",
    "# matplotlib.rcParams.update({'font.size': 20})\n",
    "\n",
    "ax1.legend(handles[::-1], labels[::-1],\n",
    "           title='$U_{RF}$', loc='lower right',fontsize=20)\n",
    "    \n",
    "# ax1.xaxis.set_major_locator(matplotlib.ticker.MultipleLocator(base=0.5e14))\n",
    "    \n",
    "ax1.set_xlabel(r'$U_{RF}$ [V]')\n",
    "ax1.set_ylabel('Cloud density [#ions/m$^3$]')\n",
    "ax1.set_xlim(50,75)\n",
    "ax1.set_ylim(3e14,6.2e14)\n",
    "\n",
    "axb = plt.subplot(gs2[0])\n",
    "cmap = mpl.colors.ListedColormap([cm(k/6) for k in range(7)])\n",
    "bounds = [0.5,1.5,2.5,3.5,4.5,5.5,6.5,7.5]\n",
    "norm = mpl.colors.BoundaryNorm(bounds, cmap.N)\n",
    "cb2 = mpl.colorbar.ColorbarBase(axb, cmap=cmap,\n",
    "                                norm=norm,\n",
    "                                ticks=np.arange(1,8), # np.arange(0.5,7.5)\n",
    "                                spacing='proportional',\n",
    "                                orientation='vertical')\n",
    "cb2.set_label('$U_{DC}$ [V]')\n",
    "\n",
    "axc = plt.subplot(gs3[0])\n",
    "cmap = mpl.colors.ListedColormap([cm(k/6) for k in range(7)])\n",
    "cb3 = mpl.colorbar.ColorbarBase(axc, cmap=cmap,\n",
    "                                norm=norm,\n",
    "                                spacing='uniform',\n",
    "                                orientation='vertical')\n",
    "cb3.set_ticks([0,1,2,3,4,5,6,7])\n",
    "cb3.set_ticklabels([ 90.8, 128, 157, 181,\n",
    "       203, 240, 222])\n",
    "cb3.set_label('$f_{z}$ [kHz]')\n",
    "\n",
    "ax1.grid(True, which=\"both\")\n",
    "# ax1.xaxis.set_major_locator(plt.MaxNLocator(25))\n",
    "fig.set_size_inches(11.69, 6.1)\n",
    "matplotlib.rcParams.update({'font.size': 25})\n",
    "# savefig('Detec_dens_URF_UDC_fz',dpi=300)\n",
    "\n",
    "# ax.scatter(x,y,\n",
    "#         marker='D',s=400,edgecolor='black',zorder = 1000,\n",
    "#         c = z, cmap=discrete_cmap(len(num_runs), 'rainbow'))\n",
    "\n",
    "tight_layout()"
   ]
  }
 ],
 "metadata": {
  "kernelspec": {
   "display_name": "Python 3",
   "language": "python",
   "name": "python3"
  },
  "language_info": {
   "codemirror_mode": {
    "name": "ipython",
    "version": 3
   },
   "file_extension": ".py",
   "mimetype": "text/x-python",
   "name": "python",
   "nbconvert_exporter": "python",
   "pygments_lexer": "ipython3",
   "version": "3.6.7"
  }
 },
 "nbformat": 4,
 "nbformat_minor": 4
}
