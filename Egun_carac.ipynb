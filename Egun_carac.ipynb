{
 "cells": [
  {
   "cell_type": "code",
   "execution_count": 4,
   "metadata": {},
   "outputs": [],
   "source": [
    "# %pylab\n",
    "\n",
    "import numpy\n",
    "import matplotlib\n",
    "from matplotlib import pylab, mlab, pyplot\n",
    "from mpl_toolkits.mplot3d import Axes3D\n",
    "np = numpy\n",
    "plt = pyplot\n",
    "\n",
    "from pylab import *\n",
    "from numpy import *\n",
    "\n",
    "%matplotlib qt"
   ]
  },
  {
   "cell_type": "code",
   "execution_count": 5,
   "metadata": {},
   "outputs": [],
   "source": [
    "%matplotlib qt\n",
    "matplotlib.rcParams['figure.figsize'] = [10.5,7]\n",
    "matplotlib.rcParams.update({'font.size': 25})"
   ]
  },
  {
   "cell_type": "code",
   "execution_count": 357,
   "metadata": {},
   "outputs": [],
   "source": [
    "from scipy.optimize import curve_fit\n",
    "def my_richard(I,a,b):\n",
    "    return a*I**4*exp(-b*I**(-2))\n",
    "def my_stefan(I,a,b):\n",
    "    return a*I*exp(-b/I**(1/2))\n",
    "def my_halas(I,h,W):\n",
    "    Ta = 300\n",
    "    \n",
    "    r = 0.125*1e-3/2\n",
    "    D = 2*pi*r\n",
    "    S = pi*r**2\n",
    "    \n",
    "    R = 0.904\n",
    "    A_G = 1.20173*1e6 / 2\n",
    "    SB = 5.670374*1e-8\n",
    "    epsi = 0.5\n",
    "    alpha = R/(S*D*SB*epsi)\n",
    "    Tm = alpha*I**2+Ta**4\n",
    "    \n",
    "    return h*D*A_G*(alpha*I**2+Ta**4)**0.5 * exp( -W/(kb*(alpha*I**2+Ta**4))**0.25 )\n",
    "\n",
    "def my_halas_simple(I,a,b):\n",
    "    Ta = 300    \n",
    "    D = 2*pi*r\n",
    "    S = pi*r**2    \n",
    "    R = 0.904\n",
    "    SB = 5.670374*1e-8\n",
    "    epsi = 0.5\n",
    "    alpha = R/(S*D*SB*epsi)\n",
    "    \n",
    "    return a*(alpha*I**2+Ta**4)**0.5 * exp( -b/(alpha*I**2+Ta**4)**0.25 )"
   ]
  },
  {
   "cell_type": "code",
   "execution_count": 451,
   "metadata": {},
   "outputs": [
    {
     "name": "stdout",
     "output_type": "stream",
     "text": [
      "43.82802251101832 mm 37.03703703703704 mm\n"
     ]
    }
   ],
   "source": [
    "r = 0.125*1e-3/2\n",
    "S = pi*r**2\n",
    "\n",
    "rho_W = 5.6*1e-8\n",
    "h_20 = 0.2*S/rho_W\n",
    "# print(h_20*1000,'mm')\n",
    "\n",
    "hh = 0.2/5.4\n",
    "\n",
    "print(h_20*1000,'mm',hh*1000,'mm')"
   ]
  },
  {
   "cell_type": "code",
   "execution_count": 312,
   "metadata": {},
   "outputs": [
    {
     "name": "stdout",
     "output_type": "stream",
     "text": [
      "4.53973168992478\n"
     ]
    }
   ],
   "source": [
    "h = 5*1e-3\n",
    "r = 0.125*1e-3/2\n",
    "D = 2*pi*r\n",
    "S = pi*r**2\n",
    "\n",
    "eps0 = 8.854187*1e-12\n",
    "F = 50\n",
    "delta_W = sqrt(C_e**3*F/(4*pi*eps0))\n",
    "A_G = 1.20173*1e6 / 2\n",
    "W_est = 4.54*C_e - delta_W\n",
    "print(W_est/C_e)\n",
    "\n",
    "R = 0.904\n",
    "SB = 5.670374*1e-8\n",
    "epsi = 0.5\n",
    "alpha = R/(S_est*SB*epsi)"
   ]
  },
  {
   "cell_type": "code",
   "execution_count": 404,
   "metadata": {},
   "outputs": [
    {
     "name": "stdout",
     "output_type": "stream",
     "text": [
      "7.890210864400935 10.621437700354047\n"
     ]
    },
    {
     "data": {
      "text/plain": [
       "<matplotlib.collections.PathCollection at 0x7f3991a2a2e8>"
      ]
     },
     "execution_count": 404,
     "metadata": {},
     "output_type": "execute_result"
    }
   ],
   "source": [
    "x = linspace(1.3,1.75,10000)\n",
    "# y = my_stefan(x,popt[0],popt[1])\n",
    "y = my_halas(x,1e-11, W_est)\n",
    "\n",
    "print(min(y),max(y))\n",
    "\n",
    "fig,ax = plt.subplots(1,1, num='test fit',clear=True)\n",
    "ax.plot(x,y,marker='',ls=':',color='k')\n",
    "ax.scatter(Ice,Id13*1e6,marker='+',s=8**2,lw=3)"
   ]
  },
  {
   "cell_type": "code",
   "execution_count": 537,
   "metadata": {},
   "outputs": [
    {
     "name": "stdout",
     "output_type": "stream",
     "text": [
      "0 1.3\n",
      "1 1.4\n",
      "2 1.5\n",
      "3 1.6\n",
      "4 1.7\n",
      "5 1.75\n"
     ]
    }
   ],
   "source": [
    "Vce = [-20,-40,-60,-100,-200,-250]\n",
    "Ice = [1.3,1.4,1.5,1.6,1.7,1.75]\n",
    "Id13 = multiply([0.0193,0.276,1.94,11.08,44.95,92.29],1e-6)\n",
    "\n",
    "\n",
    "fig,ax = plt.subplots(1,2, num='egun_carac_1',clear=True)\n",
    "fig.set_size_inches(11.69,4.5)\n",
    "\n",
    "ax[0].scatter(Ice,Id13*1e6,marker='+',s=8**2,lw=3)\n",
    "\n",
    "\n",
    "ax[0].xaxis.set_major_locator(matplotlib.ticker.MultipleLocator(base=0.1))\n",
    "ax[0].yaxis.set_major_locator(matplotlib.ticker.MultipleLocator(base=20))\n",
    "ax[0].grid()\n",
    "ax[0].set_xlabel('$I_{E}$ [A]')\n",
    "ax[0].set_ylabel('$I_{d13}$ [µA]')\n",
    "\n",
    "def tick_function(I):\n",
    "    R = 0.930\n",
    "    S = l*2*pi*(0.125*1e-3)\n",
    "    h = 10*1e-3\n",
    "    rho = R*S/h\n",
    "    D = 2*pi*r\n",
    "    SB = 5.670374*1e-8\n",
    "    epsi = 0.5\n",
    "    T_m = ( (I**2*rho)/(S*D*SB*epsi)+T_a**4 )**0.25\n",
    "    return T_m\n",
    "\n",
    "for k,l in enumerate(Ice):\n",
    "    print(k,l)\n",
    "    ax[0].text(l,Id13[k]*1e6+25,f'{tick_function(l):.0f} K',\n",
    "          fontsize=15,ha='left',rotation=40)\n",
    "\n",
    "ax[0].set_xlim(1.24,1.81)\n",
    "ax[0].set_ylim(-5,110)\n",
    "\n",
    "    \n",
    "Id13 = [10.00,10.43,10.68,11.03,11.65,11.85]\n",
    "ax[1].scatter(Vce,Id13,marker='+',s=8**2,lw=3)\n",
    "\n",
    "plt.xticks(rotation=25, ha='right')\n",
    "# ax[1].xaxis.set_major_locator(matplotlib.ticker.MultipleLocator(base=50))\n",
    "# ax[1].yaxis.set_major_locator(matplotlib.ticker.MultipleLocator(base=0.5))\n",
    "ax[1].grid()\n",
    "ax[1].set_xlabel('$V_{E}$ [V]')\n",
    "# ax[1].set_xlim(-275,0)\n",
    "# ax[1].set_ylabel('$I_{d13}$ [µA]')\n",
    "\n",
    "tight_layout()"
   ]
  },
  {
   "cell_type": "code",
   "execution_count": 506,
   "metadata": {},
   "outputs": [
    {
     "data": {
      "text/plain": [
       "[10.0, 10.43, 10.68, 11.03, 11.65, 11.85]"
      ]
     },
     "execution_count": 506,
     "metadata": {},
     "output_type": "execute_result"
    }
   ],
   "source": [
    "Id13"
   ]
  },
  {
   "cell_type": "code",
   "execution_count": 140,
   "metadata": {},
   "outputs": [
    {
     "name": "stdout",
     "output_type": "stream",
     "text": [
      "2.3147338667305876e-22 4.2983274050256456e-23\n",
      "[ 0.15191853 29.54921558]\n",
      "0.6276297876142305 0.0014449025385334506\n",
      "0.6276297876142305 0.0017132126137535282\n"
     ]
    }
   ],
   "source": [
    "# with T = cRI²\n",
    "# not good\n",
    "\n",
    "kb = 1.38064852*1e-23\n",
    "C_e = 1.602e-19\n",
    "A0 = 1.20173*1e6 / 2\n",
    "R = 0.904\n",
    "l = 1*1e-2 / 10\n",
    "S = l*2*pi*(0.125*1e-3)\n",
    "\n",
    "c = sqrt(popt[0]/S/A0/R**2)\n",
    "W = popt[1]*c*kb*R\n",
    "\n",
    "\n",
    "eps0 = 8.854187*1e-12\n",
    "F = 50\n",
    "delta_W = sqrt(C_e**3*F/(4*pi*eps0))\n",
    "print(W,delta_W)\n",
    "\n",
    "print(popt)\n",
    "print(c,W/C_e)\n",
    "print(c,(W+delta_W)/C_e)"
   ]
  },
  {
   "cell_type": "code",
   "execution_count": 260,
   "metadata": {},
   "outputs": [
    {
     "name": "stdout",
     "output_type": "stream",
     "text": [
      "1.579070791902977e-06\n"
     ]
    }
   ],
   "source": [
    "# with M=sigma T^4\n",
    "\n",
    "\n",
    "W = 55*kb*alpha**(-1/4)\n",
    "print(W/C_e)\n"
   ]
  },
  {
   "cell_type": "code",
   "execution_count": 438,
   "metadata": {},
   "outputs": [
    {
     "name": "stdout",
     "output_type": "stream",
     "text": [
      "1924.9411517610065\n"
     ]
    }
   ],
   "source": [
    "# working temp\n",
    "\n",
    "h = 10*1e-3\n",
    "D = 2*pi*r\n",
    "r = 0.125*1e-3/2\n",
    "S = pi*r**2\n",
    "\n",
    "R = 0.904\n",
    "SB = 5.670374*1e-8\n",
    "epsi = 0.5\n",
    "\n",
    "rho = R*S/h\n",
    "\n",
    "I = 1.3\n",
    "T_a = 300\n",
    "\n",
    "T_m = ( (I**2*rho)/(S*D*SB*epsi)+T_a**4 )**0.25\n",
    "print(T_m)"
   ]
  },
  {
   "cell_type": "code",
   "execution_count": 453,
   "metadata": {},
   "outputs": [
    {
     "name": "stdout",
     "output_type": "stream",
     "text": [
      "4.051599475230033\n"
     ]
    }
   ],
   "source": [
    "# max current\n",
    "\n",
    "h = 10*1e-3\n",
    "D = 2*pi*r\n",
    "R = 0.930\n",
    "SB = 5.670374*1e-8\n",
    "epsi = 0.5\n",
    "\n",
    "T_f = 3422\n",
    "T_a = 300\n",
    "\n",
    "I = sqrt(h*D*SB*epsi/R*(T_f**4-T_a**4))\n",
    "print(I)"
   ]
  }
 ],
 "metadata": {
  "kernelspec": {
   "display_name": "Python 3",
   "language": "python",
   "name": "python3"
  },
  "language_info": {
   "codemirror_mode": {
    "name": "ipython",
    "version": 3
   },
   "file_extension": ".py",
   "mimetype": "text/x-python",
   "name": "python",
   "nbconvert_exporter": "python",
   "pygments_lexer": "ipython3",
   "version": "3.7.6"
  }
 },
 "nbformat": 4,
 "nbformat_minor": 2
}
