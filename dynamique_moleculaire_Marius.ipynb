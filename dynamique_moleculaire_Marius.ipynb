{
 "cells": [
  {
   "cell_type": "code",
   "execution_count": 1,
   "id": "ad249cbd",
   "metadata": {},
   "outputs": [
    {
     "name": "stdout",
     "output_type": "stream",
     "text": [
      "Using matplotlib backend: TkAgg\n"
     ]
    }
   ],
   "source": [
    "# %pylab\n",
    "\n",
    "import numpy\n",
    "import matplotlib\n",
    "from matplotlib import pyplot\n",
    "np = numpy\n",
    "plt = pyplot\n",
    "from pylab import *\n",
    "from numpy import *\n",
    "%matplotlib"
   ]
  },
  {
   "cell_type": "code",
   "execution_count": 2,
   "id": "0add5c97",
   "metadata": {},
   "outputs": [
    {
     "data": {
      "text/html": [
       "<style>.container { width:95% !important; }</style>"
      ],
      "text/plain": [
       "<IPython.core.display.HTML object>"
      ]
     },
     "metadata": {},
     "output_type": "display_data"
    }
   ],
   "source": [
    "from IPython.display import display, HTML\n",
    "display(HTML(\"<style>.container { width:95% !important; }</style>\"))"
   ]
  },
  {
   "cell_type": "code",
   "execution_count": 4,
   "id": "92dd43c2",
   "metadata": {},
   "outputs": [],
   "source": [
    "matplotlib.rcParams['figure.figsize'] = [10.5,7]\n",
    "matplotlib.rcParams.update({'font.size': 25})"
   ]
  },
  {
   "cell_type": "code",
   "execution_count": 5,
   "id": "f155ec07",
   "metadata": {},
   "outputs": [],
   "source": [
    "%run my_functions"
   ]
  },
  {
   "cell_type": "markdown",
   "id": "9a2f5a00",
   "metadata": {},
   "source": [
    "# Load data file names\n",
    "I load the file names of data. You have to write the data directory in `file_path` then the program sorts the file names into several categories, according to the their SimuType, and their nature.\n",
    "\n",
    "### SimuType\n",
    "- `Langevin` is the first initialisation of the cloud with the Langevin program.\n",
    "- `SimuTypeQ` is the first part with velocity-Verlet. Introduces laser cooling and in a second time a ramp on the RF voltage.\n",
    "- `SimuType21` is the second part. Laser cooling and trapping parameters remains constant.\n",
    "\n",
    "### Nature of files\n",
    "- `xva` contain a snapshot of the cloud : positions, velocities and accelerations of each ion at a given time, at the end of each SimuType, under the format `.bin`. For `SimuType4`, files with `xva` and `.dat` extension contain information about the Giant Molecule.\n",
    "- `Temp` contain temperature of cloud as a function of time, under the form of a `.dat`.\n",
    "- `trj` contain trajectory as a function of time : `trj` alone is for one or many Ca+ ions, `trjGMol` is the trajectory of the GMol."
   ]
  },
  {
   "cell_type": "code",
   "execution_count": 51,
   "id": "374f3293",
   "metadata": {},
   "outputs": [
    {
     "name": "stdout",
     "output_type": "stream",
     "text": [
      "['Langevin_cooling.info'\n",
      " 'Temp_3D_Harmo_N00064_T500uK_F0.15D-19Kg_sRFG.bin'\n",
      " 'xva_3D_Harmo_N00064_T500uK_F0.15D-19Kg_sRFG.bin']\n",
      "['Temp_SimuTypeQ_N00064_Vrf0053_Udc0.1000D+01V_D1.0_S1.0RFG.dat'\n",
      " 'xva_SimuTypeQ_N00064_Vrf0053_Udc0.1000D+01V_D1.0_S1.0RFG.bin'\n",
      " 'xva_SimuTypeQ_N00064_Vrf0053_Udc0.1000D+01V_D1.0_S1.0RFG.info']\n",
      "['xva_SimuType21_01_N00064_Vrf0053_Udc0.1000D+01V_D1.0_S1.0RFG_Q01_00eV.bin'\n",
      " 'xva_SimuType21_01_N00064_Vrf0053_Udc0.1000D+01V_D1.0_S1.0RFG_Q01_00eV.info']\n",
      "['Temp_SimuTypeQ_N00064_Vrf0053_Udc0.1000D+01V_D1.0_S1.0RFG.dat']\n",
      "['Temp_SimuType21_01_N00064_Vrf0053_Udc0.1000D+01V_D1.0_S1.0RFG_Q01_00eV.dat']\n"
     ]
    }
   ],
   "source": [
    "# for i,j in enumerate(os.walk(file_path)):\n",
    "#     print(i,j)\n",
    "file_path = '/home/adrien/RemoteFS/Rivendel/Simulations/Dynamique_moleculaire/Laser_cool'+'/DC03_RF08'+'/Try00'\n",
    "# print(os.listdir(file_path))\n",
    "\n",
    "file_name_Lan = sort([x for x in os.listdir(file_path) if 'Langevin' in x or '3D' in x])\n",
    "print(file_name_Lan)\n",
    "file_name_SimuTypeQ = sort([x for x in os.listdir(file_path) if 'SimuTypeQ' in x])\n",
    "print(file_name_SimuTypeQ)\n",
    "file_name_SimuType21_xva = sort([x for x in os.listdir(file_path) if 'SimuType21' in x and 'xva' in x])\n",
    "print(file_name_SimuType21_xva)\n",
    "\n",
    "file_name_SimuTypeQ_Temp = sort([x for x in os.listdir(file_path) if 'SimuTypeQ' in x and 'Temp' in x])\n",
    "print(file_name_SimuTypeQ_Temp)\n",
    "file_name_SimuType21_Temp = sort([x for x in os.listdir(file_path) if 'SimuType21' in x and 'Temp' in x])\n",
    "print(file_name_SimuType21_Temp)"
   ]
  },
  {
   "cell_type": "markdown",
   "id": "5d2b86f5",
   "metadata": {},
   "source": [
    "# Reading snapshots"
   ]
  },
  {
   "cell_type": "code",
   "execution_count": 53,
   "id": "04699cfa",
   "metadata": {},
   "outputs": [],
   "source": [
    "QGMol = 'Q01'\n",
    "xva_Langevin  = load_xva_init_bin_Lan(file_path+'/'+sort(file_name_Lan)[2].strip('.bin'),1)[5]\n",
    "xva_SimuTypeQ = load_xyz_init_bin_DP(file_path+'/'+sort(file_name_SimuTypeQ)[1].strip('.bin'))[0]\n",
    "xva_SimuType21 = load_xyz_init_bin_DP(file_path+'/'+sort([x for x in file_name_SimuType21_xva if QGMol in x])[0].strip('.bin'))[0]"
   ]
  },
  {
   "cell_type": "code",
   "execution_count": 61,
   "id": "cda1d01d",
   "metadata": {},
   "outputs": [],
   "source": [
    "to_plot = xva_SimuTypeQ\n",
    "figure('xva'); clf()\n",
    "# title(fig_title)\n",
    "subplot(211,aspect=1.0)\n",
    "plot(to_plot [0,:]*1e3,to_plot [1,:]*1e3,'8',color='xkcd:purplish blue')\n",
    "xlabel('x[µm]')\n",
    "ylabel('y[µm]')\n",
    "grid()\n",
    "\n",
    "# subplot(212,aspect=1.0)\n",
    "subplot(212)\n",
    "plot(to_plot [2,:]*1e3,to_plot [0,:]*1e3,'8',color='xkcd:purplish blue')\n",
    "xlabel('z[µm]')\n",
    "ylabel('x[µm]')\n",
    "grid()\n",
    "\n",
    "tight_layout()"
   ]
  },
  {
   "cell_type": "markdown",
   "id": "299ff247",
   "metadata": {},
   "source": [
    "# Reading temperature"
   ]
  },
  {
   "cell_type": "code",
   "execution_count": 55,
   "id": "3695426c",
   "metadata": {},
   "outputs": [
    {
     "name": "stdout",
     "output_type": "stream",
     "text": [
      "[4] [4] [8] [8] [8] [55440]\n",
      "N_ions 64\n",
      "j_save 990\n",
      "dt_j_save_next 5e-07\n",
      "eta 1.5e-20\n",
      "Temp [0.0005]\n",
      "[5.05000000e-07 3.49779648e-03 2.90783074e-03 6.80490343e-07\n",
      " 2.16332396e+00 4.68707016e-01 6.81292751e+00]\n"
     ]
    }
   ],
   "source": [
    "QGMol = 'Q01'\n",
    "Temp_Langevin  = load_Temp_init_bin_Lan(file_path+'/'+sort(file_name_Lan)[1].strip('.bin'),1)[5]\n",
    "Temp_SimuTypeQ = load_T_and_PM_simu(file_path+'/'+sort(file_name_SimuTypeQ)[0].strip('.dat'))\n",
    "Temp_SimuType21 = load_T_and_PM_simu(file_path+'/'+sort([x for x in file_name_SimuType21_Temp if QGMol in x])[0].strip('.dat'))"
   ]
  },
  {
   "cell_type": "code",
   "execution_count": 56,
   "id": "5295f81f",
   "metadata": {},
   "outputs": [],
   "source": [
    "figure('Temperature_Lan',clear='True')\n",
    "# subplot(211)\n",
    "semilogy(Temp_Langevin[:,0]*1e3,mean(Temp_Langevin[:,4:7],axis=1))\n",
    "grid()\n",
    "xlabel('t [ms]')\n",
    "ylabel('T [K]')\n",
    "tight_layout()"
   ]
  },
  {
   "cell_type": "code",
   "execution_count": 57,
   "id": "0abfc116",
   "metadata": {},
   "outputs": [],
   "source": [
    "figure('Temperature',clear='True')\n",
    "# subplot(211)\n",
    "semilogy(Temp_Langevin[:,0]*1e3,mean(Temp_Langevin[:,4:7],axis=1))\n",
    "semilogy(Temp_SimuTypeQ[0]*1e3,mean(Temp_SimuTypeQ[2],axis=1))\n",
    "semilogy(Temp_SimuType21[0]*1e3,mean(Temp_SimuType21[2],axis=1))\n",
    "grid()\n",
    "xlabel('t [ms]')\n",
    "ylabel('T [K]')\n",
    "tight_layout()"
   ]
  }
 ],
 "metadata": {
  "kernelspec": {
   "display_name": "Python 3 (ipykernel)",
   "language": "python",
   "name": "python3"
  },
  "language_info": {
   "codemirror_mode": {
    "name": "ipython",
    "version": 3
   },
   "file_extension": ".py",
   "mimetype": "text/x-python",
   "name": "python",
   "nbconvert_exporter": "python",
   "pygments_lexer": "ipython3",
   "version": "3.10.6"
  }
 },
 "nbformat": 4,
 "nbformat_minor": 5
}
