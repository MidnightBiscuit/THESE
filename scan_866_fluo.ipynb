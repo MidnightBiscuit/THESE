{
 "cells": [
  {
   "cell_type": "code",
   "execution_count": 1,
   "metadata": {},
   "outputs": [],
   "source": [
    "# %pylab\n",
    "\n",
    "import numpy\n",
    "import matplotlib\n",
    "from matplotlib import pylab, mlab, pyplot\n",
    "from mpl_toolkits.mplot3d import Axes3D\n",
    "np = numpy\n",
    "plt = pyplot\n",
    "\n",
    "from pylab import *\n",
    "from numpy import *\n",
    "\n",
    "%matplotlib qt"
   ]
  },
  {
   "cell_type": "code",
   "execution_count": 2,
   "metadata": {},
   "outputs": [],
   "source": [
    "from scipy.optimize import curve_fit\n",
    "import tkinter as tk\n",
    "from tkinter import filedialog\n",
    "\n",
    "matplotlib.rcParams['figure.figsize'] = [10.5,7]\n",
    "matplotlib.rcParams.update({'font.size': 25})\n",
    "%matplotlib qt"
   ]
  },
  {
   "cell_type": "code",
   "execution_count": 3,
   "metadata": {},
   "outputs": [],
   "source": [
    "def gaussian(x, A, mu, sig):\n",
    "    return A*exp(-power(x - mu, 2.) / (2 * power(sig, 2.)))"
   ]
  },
  {
   "cell_type": "code",
   "execution_count": 4,
   "metadata": {},
   "outputs": [],
   "source": [
    "matplotlib.rcParams.update({'font.size': 25})"
   ]
  },
  {
   "cell_type": "code",
   "execution_count": 5,
   "metadata": {},
   "outputs": [
    {
     "name": "stdout",
     "output_type": "stream",
     "text": [
      "('/home/adrian/Documents/Mesures/866_scan/20190603/scan_866_1V_1.5V_000.dat', '/home/adrian/Documents/Mesures/866_scan/20190603/scan_866_1V_1.5V_001.dat', '/home/adrian/Documents/Mesures/866_scan/20190603/scan_866_1V_1.5V_002.dat', '/home/adrian/Documents/Mesures/866_scan/20190603/scan_866_1V_1.5V_003.dat', '/home/adrian/Documents/Mesures/866_scan/20190603/scan_866_1V_1.5V_004.dat', '/home/adrian/Documents/Mesures/866_scan/20190603/scan_866_1V_1.5V_005.dat', '/home/adrian/Documents/Mesures/866_scan/20190603/scan_866_1V_1.5V_006.dat', '/home/adrian/Documents/Mesures/866_scan/20190603/scan_866_1V_1.5V_007.dat', '/home/adrian/Documents/Mesures/866_scan/20190603/scan_866_1V_1.5V_008.dat')\n"
     ]
    }
   ],
   "source": [
    "# sélection des fichiers (Python 3)\n",
    "import tkinter as tk\n",
    "from tkinter import filedialog\n",
    "\n",
    "root = tk.Tk()\n",
    "root.withdraw()\n",
    "\n",
    "file_path = filedialog.askopenfilename(initialdir = '/home/adrian/Documents/Mesures',multiple=True)\n",
    "print(file_path)\n",
    "\n",
    "# ('/home/adrian/Documents/Mesures/GiantMol_Ions/20180606/fluo_temp_scan866__000_000.dat',\n",
    "# '/home/adrian/Documents/Mesures/GiantMol_Ions/20180606/fluo_temp_scan866__000_001.dat',\n",
    "# '/home/adrian/Documents/Mesures/GiantMol_Ions/20180606/fluo_temp_scan866__000_002.dat')"
   ]
  },
  {
   "cell_type": "code",
   "execution_count": null,
   "metadata": {},
   "outputs": [],
   "source": [
    "('/home/adrian/Documents/Mesures/866_scan/20190603/scan_866_1V_1.5V_000.dat', '/home/adrian/Documents/Mesures/866_scan/20190603/scan_866_1V_1.5V_001.dat', '/home/adrian/Documents/Mesures/866_scan/20190603/scan_866_1V_1.5V_002.dat', '/home/adrian/Documents/Mesures/866_scan/20190603/scan_866_1V_1.5V_003.dat', '/home/adrian/Documents/Mesures/866_scan/20190603/scan_866_1V_1.5V_004.dat', '/home/adrian/Documents/Mesures/866_scan/20190603/scan_866_1V_1.5V_005.dat', '/home/adrian/Documents/Mesures/866_scan/20190603/scan_866_1V_1.5V_006.dat', '/home/adrian/Documents/Mesures/866_scan/20190603/scan_866_1V_1.5V_007.dat', '/home/adrian/Documents/Mesures/866_scan/20190603/scan_866_1V_1.5V_008.dat')"
   ]
  },
  {
   "cell_type": "code",
   "execution_count": 6,
   "metadata": {},
   "outputs": [],
   "source": [
    "# Array rectangle\n",
    "# Allocation à l'avance\n",
    "\n",
    "filename=file_path\n",
    "m = loadtxt(file_path[1],usecols=(2),delimiter='\\t',skiprows=0,unpack=True).size\n",
    "n = len(file_path)\n",
    "shape = (m, n)\n",
    "\n",
    "TIME = zeros(shape)\n",
    "PM = zeros(shape)\n",
    "CH2 = zeros(shape)\n",
    "\n",
    "for k in range(0,len(filename)):\n",
    "    TIME[:,k], PM[:,k] = loadtxt(file_path[k],usecols=(0,1),delimiter='\\t',skiprows=0,unpack=True)"
   ]
  },
  {
   "cell_type": "code",
   "execution_count": 7,
   "metadata": {},
   "outputs": [],
   "source": [
    "fond = 720\n",
    "PM = PM - fond"
   ]
  },
  {
   "cell_type": "code",
   "execution_count": 8,
   "metadata": {},
   "outputs": [
    {
     "name": "stdout",
     "output_type": "stream",
     "text": [
      "866.2160807571738 866.212200318946\n"
     ]
    }
   ],
   "source": [
    "n = 1.0002746\n",
    "c = 299792458\n",
    "l866_1 = c/345.9993e12/n\n",
    "l866_2 = c/346.00085e12/n\n",
    "print(l866_1*1e9,l866_2*1e9)\n",
    "\n",
    "l_866 = around(linspace(l866_2*1e9,l866_1*1e9,len(TIME[:,0])),5) # nm\n",
    "f_866 = c/(n*l_866*1e-9) # Hz"
   ]
  },
  {
   "cell_type": "code",
   "execution_count": 9,
   "metadata": {},
   "outputs": [],
   "source": [
    "test_gauss = gaussian(TIME[:,0],1500,15,3)\n",
    "fit_PM = zeros((len(file_path),3))\n",
    "fit_PM = zeros((len(file_path),3))\n",
    "covar_PM = [zeros((3,3)) for k in range(0,len(file_path))]\n",
    "\n",
    "A = zeros(len(file_path))\n",
    "mu = zeros(len(file_path))\n",
    "sig = zeros(len(file_path))\n",
    "            \n",
    "fit_gauss = zeros((len(TIME[:,0]),(len(file_path))))\n",
    "\n",
    "start = 0"
   ]
  },
  {
   "cell_type": "code",
   "execution_count": 10,
   "metadata": {},
   "outputs": [],
   "source": [
    "import matplotlib.patches as patches"
   ]
  },
  {
   "cell_type": "code",
   "execution_count": 11,
   "metadata": {},
   "outputs": [
    {
     "data": {
      "text/plain": [
       "array([3.4600085e+14, 3.4600085e+14, 3.4600085e+14, ..., 3.4599930e+14,\n",
       "       3.4599930e+14, 3.4599930e+14])"
      ]
     },
     "execution_count": 11,
     "metadata": {},
     "output_type": "execute_result"
    }
   ],
   "source": [
    "f_866"
   ]
  },
  {
   "cell_type": "code",
   "execution_count": 29,
   "metadata": {},
   "outputs": [
    {
     "name": "stdout",
     "output_type": "stream",
     "text": [
      "/home/adrian/Documents/Mesures/866_scan/20190603/scan_866_1V_1.5V_001.dat\n",
      "6850.162356632052 -0.03996521165859502 0.23146460524776363\n"
     ]
    }
   ],
   "source": [
    "# plot with complicated scan plot only crystal part at the end\n",
    "\n",
    "to_plot = 1\n",
    "print(file_path[to_plot])\n",
    "f_346 = 346000.234867\n",
    "\n",
    "start = 0\n",
    "stop = -1\n",
    "\n",
    "start_exclude = 975\n",
    "stop_exclude = 1150\n",
    "x = f_866*1e-9-f_346\n",
    "\n",
    "tata = (x[::-1]) # Ghz\n",
    "x_fit = linspace(tata[0],tata[-1],5000)\n",
    "\n",
    "xx = concatenate(( tata[:start_exclude],tata[stop_exclude:] ))\n",
    "PMPM = concatenate(( PM[:start_exclude,to_plot],PM[stop_exclude:,to_plot] ))\n",
    "\n",
    "bckg = min(PMPM)\n",
    "fit_PM[to_plot,:], covar_PM[to_plot] = curve_fit(gaussian,xx,PMPM-bckg,\n",
    "                                                    p0=[2500,0,0.5],maxfev = 50000)\n",
    "\n",
    "A[to_plot] = fit_PM[to_plot,0]\n",
    "mu[to_plot] = fit_PM[to_plot,1]\n",
    "sig[to_plot] = fit_PM[to_plot,2]\n",
    "FWHM = 2*sqrt(2*log(2)) * sig[to_plot] * 1000 # MHz\n",
    "temperature = 40 * (FWHM*1e-3/f_346/(7.16*1e-7))**2\n",
    "\n",
    "print(A[to_plot],mu[to_plot],sig[to_plot])\n",
    "# fit_gauss[:,to_plot] = gaussian(x,A[to_plot],mu[to_plot],sig[to_plot])\n",
    "my_fit_gauss = gaussian(x_fit,A[to_plot],mu[to_plot],sig[to_plot])\n",
    "\n",
    "fig = figure('One res_noire',clear='True')\n",
    "ax = fig.add_subplot(1, 1, 1)\n",
    "\n",
    "# plot(l_866,PM[:,to_plot],'+',color='xkcd:prussian blue')\n",
    "ax.plot(tata*1e3,PM[start:,to_plot],'+',color='xkcd:prussian blue',label='cloud fluo.')\n",
    "# ax.plot(xx,PMPM,'4',color='k',label='cloud fluo.')\n",
    "ax.plot(x_fit*1e3,my_fit_gauss+bckg,color='xkcd:vermillion',label='Gaussian fit')\n",
    "# vlines(mu[to_plot]*1000,0,15000,linestyles=':',color='xkcd:vermillion')    \n",
    "\n",
    "rect = patches.Rectangle((tata[start_exclude]*1e3, 0), (tata[stop_exclude]*1e3-tata[start_exclude]*1e3), 16000,\n",
    "                         linewidth=1, edgecolor='black', facecolor='gray',alpha=.3,hatch='xxxx',label='fit exclusion')\n",
    "# Add the patch to the Axes\n",
    "ax.add_patch(rect)\n",
    "\n",
    "    \n",
    "text(-0.83*1e3, 8000, f'FWHM = ${2*sqrt(2*log(2)) * sig[to_plot] * 1000:.0f}$ MHz\\n        T = {temperature:.0f} K',\n",
    "rotation=0,\n",
    "horizontalalignment='left',\n",
    "verticalalignment='bottom',\n",
    "color='xkcd:vermillion',\n",
    "fontsize=17,\n",
    "     bbox=dict(facecolor='white'))\n",
    "\n",
    "# ax.set_xlim(-1614.37,-1613.55)\n",
    "# ax.set_ylim(2800,15200)\n",
    "xlabel(r'$\\Delta \\nu_{866}$ [MHz]')\n",
    "ylabel('fluo. [cts/5ms]')\n",
    "ax.legend(fontsize=18)\n",
    "\n",
    "grid()\n",
    "tight_layout()\n",
    "\n",
    "savefig('866scan.png',dpi=300)"
   ]
  },
  {
   "cell_type": "code",
   "execution_count": 8,
   "metadata": {},
   "outputs": [
    {
     "name": "stdout",
     "output_type": "stream",
     "text": [
      "1995.9849250532054\n"
     ]
    }
   ],
   "source": [
    "f_346 = 346000.234867\n",
    "FWHM = 1.75*1e3\n",
    "temperature = 40 * (FWHM*1e-3/f_346/(7.16*1e-7))**2\n",
    "print(temperature)"
   ]
  },
  {
   "cell_type": "code",
   "execution_count": null,
   "metadata": {},
   "outputs": [],
   "source": []
  },
  {
   "cell_type": "code",
   "execution_count": null,
   "metadata": {},
   "outputs": [],
   "source": []
  }
 ],
 "metadata": {
  "kernelspec": {
   "display_name": "Python 3",
   "language": "python",
   "name": "python3"
  },
  "language_info": {
   "codemirror_mode": {
    "name": "ipython",
    "version": 3
   },
   "file_extension": ".py",
   "mimetype": "text/x-python",
   "name": "python",
   "nbconvert_exporter": "python",
   "pygments_lexer": "ipython3",
   "version": "3.7.6"
  }
 },
 "nbformat": 4,
 "nbformat_minor": 2
}
