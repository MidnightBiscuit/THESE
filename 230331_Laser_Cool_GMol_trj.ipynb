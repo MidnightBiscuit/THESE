{
 "cells": [
  {
   "cell_type": "code",
   "execution_count": 1,
   "id": "ad249cbd",
   "metadata": {},
   "outputs": [
    {
     "name": "stdout",
     "output_type": "stream",
     "text": [
      "Using matplotlib backend: TkAgg\n"
     ]
    }
   ],
   "source": [
    "# %pylab\n",
    "\n",
    "import numpy\n",
    "import matplotlib\n",
    "from matplotlib import pyplot\n",
    "np = numpy\n",
    "plt = pyplot\n",
    "from pylab import *\n",
    "from numpy import *\n",
    "from scipy.optimize import curve_fit\n",
    "%matplotlib"
   ]
  },
  {
   "cell_type": "code",
   "execution_count": 32,
   "id": "02ebad60",
   "metadata": {},
   "outputs": [],
   "source": [
    "import matplotlib as mpl\n",
    "cmap = mpl.colormaps['viridis']\n",
    "cmap_turbo = mpl.colormaps['turbo']"
   ]
  },
  {
   "cell_type": "code",
   "execution_count": 3,
   "id": "a19ffd21",
   "metadata": {},
   "outputs": [
    {
     "data": {
      "text/html": [
       "<style>.container { width:95% !important; }</style>"
      ],
      "text/plain": [
       "<IPython.core.display.HTML object>"
      ]
     },
     "metadata": {},
     "output_type": "display_data"
    }
   ],
   "source": [
    "from IPython.display import display, HTML\n",
    "display(HTML(\"<style>.container { width:95% !important; }</style>\"))"
   ]
  },
  {
   "cell_type": "code",
   "execution_count": 4,
   "id": "92dd43c2",
   "metadata": {},
   "outputs": [],
   "source": [
    "matplotlib.rcParams['figure.figsize'] = [10.5,7]\n",
    "matplotlib.rcParams.update({'font.size': 25})"
   ]
  },
  {
   "cell_type": "code",
   "execution_count": 5,
   "id": "f155ec07",
   "metadata": {},
   "outputs": [],
   "source": [
    "%run my_functions"
   ]
  },
  {
   "cell_type": "markdown",
   "id": "9a2f5a00",
   "metadata": {},
   "source": [
    "# Load data file names\n",
    "I load the file names of data. You have to write the data directory in `file_path` then the program sorts the file names into several categories, according to the their SimuType, and their nature.\n",
    "\n",
    "### SimuType\n",
    "- `Langevin` is the first initialisation of the cloud with the Langevin program.\n",
    "- `SimuTypeQ` is the first part with velocity-Verlet. Introduces laser cooling and in a second time a ramp on the RF voltage.\n",
    "- `SimuType4` is the second part. Introduces the Giant Molecule with the proper kinetic energy. Laser cooling and trapping parameters remains constant. Giant Molecule evacuated at the end of `SimuType4`.\n",
    "- `SimuType2` is the third part. Laser cooling and trapping parameters remains constant.\n",
    "\n",
    "### Nature of files\n",
    "- `xva` contain a snapshot of the cloud : positions, velocities and accelerations of each ion at a given time, at the end of each SimuType, under the format `.bin`. For `SimuType4`, files with `xva` and `.dat` extension contain information about the Giant Molecule.\n",
    "- `Temp` contain temperature of cloud as a function of time, under the form of a `.dat`.\n",
    "- `trj` contain trajectory as a function of time : `trj` alone is for one or many Ca+ ions, `trjGMol` is the trajectory of the GMol."
   ]
  },
  {
   "cell_type": "code",
   "execution_count": 60,
   "id": "374f3293",
   "metadata": {},
   "outputs": [
    {
     "name": "stdout",
     "output_type": "stream",
     "text": [
      "['Langevin_cooling.info'\n",
      " 'Temp_3D_Harmo_N01024_T***uK_F0.15D-19Kg_sRFG.bin'\n",
      " 'xva_3D_Harmo_N01024_T***uK_F0.15D-19Kg_sRFG.bin']\n",
      "['Temp_SimuTypeQ_N01024_Vrf0051_Udc0.2631D+01V_D1.0_S1.0RFG.dat'\n",
      " 'xva_SimuTypeQ_N01024_Vrf0051_Udc0.2631D+01V_D1.0_S1.0RFG.bin'\n",
      " 'xva_SimuTypeQ_N01024_Vrf0051_Udc0.2631D+01V_D1.0_S1.0RFG.info']\n",
      "['xva_SimuType4_01_N01024_Vrf0051_Udc0.2631D+01V_D1.0_S1.0RFG_Q10_x0_0.000E+00_50eV.bin'\n",
      " 'xva_SimuType4_01_N01024_Vrf0051_Udc0.2631D+01V_D1.0_S1.0RFG_Q10_x0_0.000E+00_50eV.dat'\n",
      " 'xva_SimuType4_01_N01024_Vrf0051_Udc0.2631D+01V_D1.0_S1.0RFG_Q10_x0_0.000E+00_50eV.info'\n",
      " 'xva_SimuType4_01_N01024_Vrf0051_Udc0.2631D+01V_D1.0_S1.0RFG_Q10_x0_1.000E-04_50eV.bin'\n",
      " 'xva_SimuType4_01_N01024_Vrf0051_Udc0.2631D+01V_D1.0_S1.0RFG_Q10_x0_1.000E-04_50eV.dat'\n",
      " 'xva_SimuType4_01_N01024_Vrf0051_Udc0.2631D+01V_D1.0_S1.0RFG_Q10_x0_1.000E-04_50eV.info'\n",
      " 'xva_SimuType4_01_N01024_Vrf0051_Udc0.2631D+01V_D1.0_S1.0RFG_Q10_x0_1.000E-05_50eV.bin'\n",
      " 'xva_SimuType4_01_N01024_Vrf0051_Udc0.2631D+01V_D1.0_S1.0RFG_Q10_x0_1.000E-05_50eV.dat'\n",
      " 'xva_SimuType4_01_N01024_Vrf0051_Udc0.2631D+01V_D1.0_S1.0RFG_Q10_x0_1.000E-05_50eV.info'\n",
      " 'xva_SimuType4_01_N01024_Vrf0051_Udc0.2631D+01V_D1.0_S1.0RFG_Q10_x0_1.000E-06_50eV.bin'\n",
      " 'xva_SimuType4_01_N01024_Vrf0051_Udc0.2631D+01V_D1.0_S1.0RFG_Q10_x0_1.000E-06_50eV.dat'\n",
      " 'xva_SimuType4_01_N01024_Vrf0051_Udc0.2631D+01V_D1.0_S1.0RFG_Q10_x0_1.000E-06_50eV.info'\n",
      " 'xva_SimuType4_01_N01024_Vrf0051_Udc0.2631D+01V_D1.0_S1.0RFG_Q10_x0_5.000E-05_50eV.bin'\n",
      " 'xva_SimuType4_01_N01024_Vrf0051_Udc0.2631D+01V_D1.0_S1.0RFG_Q10_x0_5.000E-05_50eV.dat'\n",
      " 'xva_SimuType4_01_N01024_Vrf0051_Udc0.2631D+01V_D1.0_S1.0RFG_Q10_x0_5.000E-05_50eV.info'\n",
      " 'xva_SimuType4_01_N01024_Vrf0051_Udc0.2631D+01V_D1.0_S1.0RFG_Q10_x0_5.000E-06_50eV.bin'\n",
      " 'xva_SimuType4_01_N01024_Vrf0051_Udc0.2631D+01V_D1.0_S1.0RFG_Q10_x0_5.000E-06_50eV.dat'\n",
      " 'xva_SimuType4_01_N01024_Vrf0051_Udc0.2631D+01V_D1.0_S1.0RFG_Q10_x0_5.000E-06_50eV.info'\n",
      " 'xva_SimuType4_01_N01024_Vrf0051_Udc0.2631D+01V_D1.0_S1.0RFG_Q10_x0_7.500E-05_50eV.bin'\n",
      " 'xva_SimuType4_01_N01024_Vrf0051_Udc0.2631D+01V_D1.0_S1.0RFG_Q10_x0_7.500E-05_50eV.dat'\n",
      " 'xva_SimuType4_01_N01024_Vrf0051_Udc0.2631D+01V_D1.0_S1.0RFG_Q10_x0_7.500E-05_50eV.info']\n",
      "['trj_SimuType4_01_N01024_Vrf0051_Udc0.2631D+01V_D1.0_S1.0RFG_Q10_x0_0.000E+00_50eV_GMol.bin'\n",
      " 'trj_SimuType4_01_N01024_Vrf0051_Udc0.2631D+01V_D1.0_S1.0RFG_Q10_x0_1.000E-04_50eV_GMol.bin'\n",
      " 'trj_SimuType4_01_N01024_Vrf0051_Udc0.2631D+01V_D1.0_S1.0RFG_Q10_x0_1.000E-05_50eV_GMol.bin'\n",
      " 'trj_SimuType4_01_N01024_Vrf0051_Udc0.2631D+01V_D1.0_S1.0RFG_Q10_x0_1.000E-06_50eV_GMol.bin'\n",
      " 'trj_SimuType4_01_N01024_Vrf0051_Udc0.2631D+01V_D1.0_S1.0RFG_Q10_x0_5.000E-05_50eV_GMol.bin'\n",
      " 'trj_SimuType4_01_N01024_Vrf0051_Udc0.2631D+01V_D1.0_S1.0RFG_Q10_x0_5.000E-06_50eV_GMol.bin'\n",
      " 'trj_SimuType4_01_N01024_Vrf0051_Udc0.2631D+01V_D1.0_S1.0RFG_Q10_x0_7.500E-05_50eV_GMol.bin']\n",
      "['xva_SimuType2_01_N01024_Vrf0051_Udc0.2631D+01V_D1.0_S1.0RFG_Q10_x0_0.000E+00_50eV.bin'\n",
      " 'xva_SimuType2_01_N01024_Vrf0051_Udc0.2631D+01V_D1.0_S1.0RFG_Q10_x0_0.000E+00_50eV.info'\n",
      " 'xva_SimuType2_01_N01024_Vrf0051_Udc0.2631D+01V_D1.0_S1.0RFG_Q10_x0_1.000E-04_50eV.bin'\n",
      " 'xva_SimuType2_01_N01024_Vrf0051_Udc0.2631D+01V_D1.0_S1.0RFG_Q10_x0_1.000E-04_50eV.info'\n",
      " 'xva_SimuType2_01_N01024_Vrf0051_Udc0.2631D+01V_D1.0_S1.0RFG_Q10_x0_1.000E-05_50eV.bin'\n",
      " 'xva_SimuType2_01_N01024_Vrf0051_Udc0.2631D+01V_D1.0_S1.0RFG_Q10_x0_1.000E-05_50eV.info'\n",
      " 'xva_SimuType2_01_N01024_Vrf0051_Udc0.2631D+01V_D1.0_S1.0RFG_Q10_x0_1.000E-06_50eV.bin'\n",
      " 'xva_SimuType2_01_N01024_Vrf0051_Udc0.2631D+01V_D1.0_S1.0RFG_Q10_x0_1.000E-06_50eV.info'\n",
      " 'xva_SimuType2_01_N01024_Vrf0051_Udc0.2631D+01V_D1.0_S1.0RFG_Q10_x0_5.000E-05_50eV.bin'\n",
      " 'xva_SimuType2_01_N01024_Vrf0051_Udc0.2631D+01V_D1.0_S1.0RFG_Q10_x0_5.000E-05_50eV.info'\n",
      " 'xva_SimuType2_01_N01024_Vrf0051_Udc0.2631D+01V_D1.0_S1.0RFG_Q10_x0_5.000E-06_50eV.bin'\n",
      " 'xva_SimuType2_01_N01024_Vrf0051_Udc0.2631D+01V_D1.0_S1.0RFG_Q10_x0_5.000E-06_50eV.info'\n",
      " 'xva_SimuType2_01_N01024_Vrf0051_Udc0.2631D+01V_D1.0_S1.0RFG_Q10_x0_7.500E-05_50eV.bin'\n",
      " 'xva_SimuType2_01_N01024_Vrf0051_Udc0.2631D+01V_D1.0_S1.0RFG_Q10_x0_7.500E-05_50eV.info']\n",
      "['Temp_SimuType4_01_N01024_Vrf0051_Udc0.2631D+01V_D1.0_S1.0RFG_Q10_x0_0.000E+00_50eV.dat'\n",
      " 'Temp_SimuType4_01_N01024_Vrf0051_Udc0.2631D+01V_D1.0_S1.0RFG_Q10_x0_1.000E-04_50eV.dat'\n",
      " 'Temp_SimuType4_01_N01024_Vrf0051_Udc0.2631D+01V_D1.0_S1.0RFG_Q10_x0_1.000E-05_50eV.dat'\n",
      " 'Temp_SimuType4_01_N01024_Vrf0051_Udc0.2631D+01V_D1.0_S1.0RFG_Q10_x0_1.000E-06_50eV.dat'\n",
      " 'Temp_SimuType4_01_N01024_Vrf0051_Udc0.2631D+01V_D1.0_S1.0RFG_Q10_x0_5.000E-05_50eV.dat'\n",
      " 'Temp_SimuType4_01_N01024_Vrf0051_Udc0.2631D+01V_D1.0_S1.0RFG_Q10_x0_5.000E-06_50eV.dat'\n",
      " 'Temp_SimuType4_01_N01024_Vrf0051_Udc0.2631D+01V_D1.0_S1.0RFG_Q10_x0_7.500E-05_50eV.dat']\n",
      "['Temp_SimuType2_01_N01024_Vrf0051_Udc0.2631D+01V_D1.0_S1.0RFG_Q10_x0_0.000E+00_50eV.dat'\n",
      " 'Temp_SimuType2_01_N01024_Vrf0051_Udc0.2631D+01V_D1.0_S1.0RFG_Q10_x0_1.000E-04_50eV.dat'\n",
      " 'Temp_SimuType2_01_N01024_Vrf0051_Udc0.2631D+01V_D1.0_S1.0RFG_Q10_x0_1.000E-05_50eV.dat'\n",
      " 'Temp_SimuType2_01_N01024_Vrf0051_Udc0.2631D+01V_D1.0_S1.0RFG_Q10_x0_1.000E-06_50eV.dat'\n",
      " 'Temp_SimuType2_01_N01024_Vrf0051_Udc0.2631D+01V_D1.0_S1.0RFG_Q10_x0_5.000E-05_50eV.dat'\n",
      " 'Temp_SimuType2_01_N01024_Vrf0051_Udc0.2631D+01V_D1.0_S1.0RFG_Q10_x0_5.000E-06_50eV.dat'\n",
      " 'Temp_SimuType2_01_N01024_Vrf0051_Udc0.2631D+01V_D1.0_S1.0RFG_Q10_x0_7.500E-05_50eV.dat']\n"
     ]
    }
   ],
   "source": [
    "# for i,j in enumerate(os.walk(file_path)):\n",
    "#     print(i,j)\n",
    "file_path = '/home/adrien/RemoteFS/Rivendel/Simulations/20230331'+'/DC08_RF08_050eV'+'/Try00'\n",
    "# print(os.listdir(file_path))\n",
    "\n",
    "file_name_Lan = sort([x for x in os.listdir(file_path) if 'Langevin' in x or '3D' in x])\n",
    "print(file_name_Lan)\n",
    "file_name_SimuTypeQ = sort([x for x in os.listdir(file_path) if 'SimuTypeQ' in x])\n",
    "print(file_name_SimuTypeQ)\n",
    "file_name_SimuType4_xva = sort([x for x in os.listdir(file_path) if 'SimuType4' in x and 'xva' in x])\n",
    "print(file_name_SimuType4_xva)\n",
    "file_name_SimuType4_trjGMol = sort([x for x in os.listdir(file_path) if 'SimuType4' in x and 'trj' in x and 'GMol' in x])\n",
    "print(file_name_SimuType4_trjGMol)\n",
    "file_name_SimuType2_xva = sort([x for x in os.listdir(file_path) if 'SimuType2' in x and 'xva' in x])\n",
    "print(file_name_SimuType2_xva)\n",
    "\n",
    "file_name_SimuType4_Temp = sort([x for x in os.listdir(file_path) if 'SimuType4' in x and 'Temp' in x])\n",
    "print(file_name_SimuType4_Temp)\n",
    "file_name_SimuType2_Temp = sort([x for x in os.listdir(file_path) if 'SimuType2' in x and 'Temp' in x])\n",
    "print(file_name_SimuType2_Temp)"
   ]
  },
  {
   "cell_type": "markdown",
   "id": "5d2b86f5",
   "metadata": {},
   "source": [
    "# Reading snapshots"
   ]
  },
  {
   "cell_type": "code",
   "execution_count": 61,
   "id": "04699cfa",
   "metadata": {},
   "outputs": [
    {
     "name": "stdout",
     "output_type": "stream",
     "text": [
      "x0_1.000E-05\n"
     ]
    }
   ],
   "source": [
    "x0 = 10e-6 # [0, 1e-6, 5e-6, 10e-6, 50e-6, 100e-6]\n",
    "str_x0 = f'x0_{x0:.3E}'\n",
    "print(str_x0)\n",
    "xva_Langevin  = load_xva_init_bin_Lan(file_path+'/'+sort(file_name_Lan)[2].strip('.bin'),1)[5]\n",
    "xva_SimuTypeQ = load_xyz_init_bin_DP(file_path+'/'+sort(file_name_SimuTypeQ)[1].strip('.bin'))[0]\n",
    "xva_SimuType4 = load_xyz_init_bin_DP(file_path+'/'+sort([x for x in file_name_SimuType4_xva if str_x0 in x])[0].strip('.bin'))[0]\n",
    "xva_SimuType2 = load_xyz_init_bin_DP(file_path+'/'+sort([x for x in file_name_SimuType2_xva if str_x0 in x])[0].strip('.bin'))[0]"
   ]
  },
  {
   "cell_type": "code",
   "execution_count": 62,
   "id": "cda1d01d",
   "metadata": {},
   "outputs": [],
   "source": [
    "to_plot = xva_SimuType4\n",
    "figure('xva'); clf()\n",
    "# title(fig_title)\n",
    "subplot(211,aspect=1.0)\n",
    "plot(to_plot [0,:]*1e3,to_plot [1,:]*1e3,'8',color='xkcd:purplish blue')\n",
    "xlabel('x[µm]')\n",
    "ylabel('y[µm]')\n",
    "grid()\n",
    "# xlim(-1000,1000)\n",
    "# ylim(-1000,1000)\n",
    "\n",
    "# subplot(212,aspect=1.0)\n",
    "subplot(212)\n",
    "plot(to_plot [2,:]*1e3,to_plot [0,:]*1e3,'8',color='xkcd:purplish blue')\n",
    "xlabel('z[µm]')\n",
    "ylabel('x[µm]')\n",
    "grid()\n",
    "# xlim(-1000,1000)\n",
    "# ylim(-1000,1000)\n",
    "\n",
    "tight_layout()\n",
    "# savefig('xva_4.png',dpi=300)"
   ]
  },
  {
   "cell_type": "code",
   "execution_count": 10,
   "id": "879321d0",
   "metadata": {},
   "outputs": [
    {
     "data": {
      "text/plain": [
       "470.3225756780485"
      ]
     },
     "execution_count": 10,
     "metadata": {},
     "output_type": "execute_result"
    }
   ],
   "source": [
    "max(to_plot [2,:]*1e3) - min(to_plot [2,:]*1e3)"
   ]
  },
  {
   "cell_type": "markdown",
   "id": "299ff247",
   "metadata": {},
   "source": [
    "# Reading temperature"
   ]
  },
  {
   "cell_type": "code",
   "execution_count": 63,
   "id": "3695426c",
   "metadata": {},
   "outputs": [
    {
     "name": "stdout",
     "output_type": "stream",
     "text": [
      "[4] [4] [8] [8] [8] [55440]\n",
      "N_ions 1024\n",
      "j_save 990\n",
      "dt_j_save_next 5e-07\n",
      "eta 1.5e-20\n",
      "Temp [0.001]\n",
      "[5.05000000e-07 4.75582168e-07 2.90796629e-07 6.50697151e-07\n",
      " 1.14340956e+02 3.85980177e+01 1.86685223e+02]\n",
      "Temp_SimuTypeQ_N01024_Vrf0051_Udc0.2631D+01V_D1.0_S1.0RFG.dat\n"
     ]
    }
   ],
   "source": [
    "Temp_Langevin  = load_Temp_init_bin_Lan(file_path+'/'+sort(file_name_Lan)[1].strip('.bin'),1)[5]\n",
    "Temp_SimuTypeQ = load_T_and_PM_simu(file_path+'/'+sort(file_name_SimuTypeQ)[0].strip('.dat'))\n",
    "Temp_SimuType4 = load_T_and_PM_simu(file_path+'/'+sort([x for x in file_name_SimuType4_Temp if str_x0 in x])[0].strip('.dat'))\n",
    "Temp_SimuType2 = load_T_and_PM_simu(file_path+'/'+sort([x for x in file_name_SimuType2_Temp if str_x0 in x])[0].strip('.dat'))\n",
    "print(sort(file_name_SimuTypeQ)[0])"
   ]
  },
  {
   "cell_type": "code",
   "execution_count": 64,
   "id": "5295f81f",
   "metadata": {},
   "outputs": [],
   "source": [
    "figure('Temperature_Lan',clear='True')\n",
    "# subplot(211)\n",
    "semilogy(Temp_Langevin[:,0]*1e3,mean(Temp_Langevin[:,4:7],axis=1))\n",
    "grid()\n",
    "xlabel('t [ms]')\n",
    "ylabel('T [K]')\n",
    "tight_layout()"
   ]
  },
  {
   "cell_type": "code",
   "execution_count": 65,
   "id": "0abfc116",
   "metadata": {},
   "outputs": [],
   "source": [
    "figure('Temperature',clear='True')\n",
    "# subplot(211)\n",
    "semilogy(Temp_Langevin[:,0]*1e3,mean(Temp_Langevin[:,4:7],axis=1))\n",
    "semilogy(Temp_SimuTypeQ[0]*1e3,mean(Temp_SimuTypeQ[2],axis=1))\n",
    "semilogy(Temp_SimuType4[0]*1e3,mean(Temp_SimuType4[2],axis=1))\n",
    "semilogy(Temp_SimuType2[0]*1e3,mean(Temp_SimuType2[2],axis=1))\n",
    "grid()\n",
    "xlabel('t [ms]')\n",
    "ylabel('T [K]')\n",
    "tight_layout()"
   ]
  },
  {
   "cell_type": "code",
   "execution_count": 67,
   "id": "c852cc60",
   "metadata": {},
   "outputs": [
    {
     "name": "stdout",
     "output_type": "stream",
     "text": [
      "[4] [4] [8] [8] [8] [55440]\n",
      "N_ions 1024\n",
      "j_save 990\n",
      "dt_j_save_next 5e-07\n",
      "eta 1.5e-20\n",
      "Temp [0.001]\n",
      "[5.05000000e-07 4.75582168e-07 2.90796629e-07 6.50697151e-07\n",
      " 1.14340956e+02 3.85980177e+01 1.86685223e+02]\n",
      "0 0.000E+00\n",
      "1 1.000E-06\n",
      "2 5.000E-06\n",
      "3 1.000E-05\n",
      "4 5.000E-05\n",
      "5 7.500E-05\n",
      "6 1.000E-04\n"
     ]
    }
   ],
   "source": [
    "# En boucle\n",
    "\n",
    "x0_list = [0, 1e-6, 5e-6, 10e-6, 50e-6, 75e-6, 100e-6]\n",
    "my_dash = ['-','-','-','-','-','-','-']\n",
    "\n",
    "figure('Temperature_loop',clear='True')\n",
    "\n",
    "Temp_Langevin  = load_Temp_init_bin_Lan(file_path+'/'+sort(file_name_Lan)[1].strip('.bin'),1)[5]\n",
    "Temp_SimuTypeQ = load_T_and_PM_simu(file_path+'/'+sort(file_name_SimuTypeQ)[0].strip('.dat'))\n",
    "semilogy(Temp_Langevin[:,0]*1e3,mean(Temp_Langevin[:,4:7],axis=1))\n",
    "semilogy(Temp_SimuTypeQ[0]*1e3,mean(Temp_SimuTypeQ[2],axis=1))\n",
    "\n",
    "for i,j in enumerate(x0_list):\n",
    "    str_x0 = f'{j:.3E}'\n",
    "    print(i,str_x0)\n",
    "    Temp_SimuType4 = load_T_and_PM_simu(file_path+'/'+sort([x for x in file_name_SimuType4_Temp if str_x0 in x])[0].strip('.dat'))\n",
    "    Temp_SimuType2 = load_T_and_PM_simu(file_path+'/'+sort([x for x in file_name_SimuType2_Temp if str_x0 in x])[0].strip('.dat'))\n",
    "    # subplot(211)\n",
    "\n",
    "    semilogy(Temp_SimuType4[0]*1e3,mean(Temp_SimuType4[2],axis=1),color='C2',ls=my_dash[i])\n",
    "    semilogy(Temp_SimuType2[0]*1e3,mean(Temp_SimuType2[2],axis=1),color=cmap_turbo(((i)/6)),ls=my_dash[i],label=x0_list[i]*1e6)\n",
    "grid()\n",
    "legend(title='$x_0$ [µm]',fontsize=15,ncol=2)\n",
    "xlabel('t [ms]')\n",
    "ylabel('T [K]')\n",
    "xlim(8.35,9.2)\n",
    "# ylim(2e-4,2e2)\n",
    "tight_layout()\n",
    "savefig('x0var_zoom_50eV.png',dpi=300)"
   ]
  },
  {
   "cell_type": "markdown",
   "id": "91125d22",
   "metadata": {},
   "source": [
    "# Reading GMol trajectory"
   ]
  },
  {
   "cell_type": "code",
   "execution_count": 68,
   "id": "57cfc105",
   "metadata": {},
   "outputs": [],
   "source": [
    "def load_trj_GMol(str_load):\n",
    "    fid = open(str_load+'.bin', 'rb')\n",
    "    \n",
    "    junk = fromfile(fid, int32,1)        # Read record start tag\n",
    "    j_save_temp  = fromfile(fid, int32,1);\n",
    "    junk = fromfile(fid, int32,1)        # Read record stop tag\n",
    "\n",
    "    junk = fromfile(fid, int32,1)        # Read record start tag\n",
    "    steps  = fromfile(fid, int32,1);\n",
    "    junk = fromfile(fid, int32,1)        # Read record stop tag\n",
    "    \n",
    "    junk = fromfile(fid, int32,1)        # Read record start tag\n",
    "    print(junk)\n",
    "    jmax  = fromfile(fid, int32,1);\n",
    "    junk = fromfile(fid, int32,1)        # Read record stop tag\n",
    "    print(junk)\n",
    "    \n",
    "    junk = fromfile(fid, int32,1)        # Read record start \n",
    "    print(junk)\n",
    "    t_act_gmol  = fromfile(fid, float64, jmax[0]+2);\n",
    "    junk = fromfile(fid, int32,1)        # Read record stop tag\n",
    "    print(junk)\n",
    "    \n",
    "    junk = fromfile(fid, int32,1)        # Read record start tag\n",
    "    print(junk)\n",
    "    trj_gmol  = fromfile(fid, float64, (jmax[0]+2)*6);\n",
    "    junk = fromfile(fid, int32,1)        # Read record stop tag\n",
    "    print(junk)\n",
    "    \n",
    "    junk = fromfile(fid, int32,1)        # Read record start tag\n",
    "    print(junk)\n",
    "    Ep_gmol  = fromfile(fid, float64, jmax[0]+2);\n",
    "    junk = fromfile(fid, int32,1)        # Read record stop tag\n",
    "    print(junk)\n",
    "\n",
    "    fid.close\n",
    "\n",
    "    return j_save_temp, steps, jmax, t_act_gmol, trj_gmol, Ep_gmol"
   ]
  },
  {
   "cell_type": "code",
   "execution_count": 69,
   "id": "3dd18cda",
   "metadata": {},
   "outputs": [
    {
     "name": "stdout",
     "output_type": "stream",
     "text": [
      "trj_SimuType4_01_N01024_Vrf0051_Udc0.2631D+01V_D1.0_S1.0RFG_Q10_x0_0.000E+00_50eV_GMol\n",
      "trj_SimuType4_01_N01024_Vrf0051_Udc0.2631D+01V_D1.0_S1.0RFG_Q10_x0_1.000E-06_50eV_GMol\n",
      "trj_SimuType4_01_N01024_Vrf0051_Udc0.2631D+01V_D1.0_S1.0RFG_Q10_x0_5.000E-06_50eV_GMol\n",
      "trj_SimuType4_01_N01024_Vrf0051_Udc0.2631D+01V_D1.0_S1.0RFG_Q10_x0_1.000E-05_50eV_GMol\n",
      "trj_SimuType4_01_N01024_Vrf0051_Udc0.2631D+01V_D1.0_S1.0RFG_Q10_x0_5.000E-05_50eV_GMol\n",
      "trj_SimuType4_01_N01024_Vrf0051_Udc0.2631D+01V_D1.0_S1.0RFG_Q10_x0_7.500E-05_50eV_GMol\n",
      "trj_SimuType4_01_N01024_Vrf0051_Udc0.2631D+01V_D1.0_S1.0RFG_Q10_x0_1.000E-04_50eV_GMol\n"
     ]
    }
   ],
   "source": [
    "for i,j in enumerate(x0_list):\n",
    "#     file_name_SimuType4_trjGMol\n",
    "    str_x0 = f'{j:.3E}'\n",
    "    tmp = [x for x in file_name_SimuType4_trjGMol if str_x0 in x][0].strip('.bin')\n",
    "    print(tmp)"
   ]
  },
  {
   "cell_type": "code",
   "execution_count": 70,
   "id": "c1223770",
   "metadata": {},
   "outputs": [
    {
     "name": "stdout",
     "output_type": "stream",
     "text": [
      "/home/adrien/RemoteFS/Rivendel/Simulations/20230331/DC08_RF08_050eV/Try00/trj_SimuType4_01_N01024_Vrf0051_Udc0.2631D+01V_D1.0_S1.0RFG_Q10_x0_0.000E+00_50eV_GMol\n",
      "[4]\n",
      "[4]\n",
      "[800816]\n",
      "[800816]\n",
      "[4804896]\n",
      "[4804896]\n",
      "[800816]\n",
      "[800816]\n",
      "/home/adrien/RemoteFS/Rivendel/Simulations/20230331/DC08_RF08_050eV/Try00/trj_SimuType4_01_N01024_Vrf0051_Udc0.2631D+01V_D1.0_S1.0RFG_Q10_x0_1.000E-06_50eV_GMol\n",
      "[4]\n",
      "[4]\n",
      "[800816]\n",
      "[800816]\n",
      "[4804896]\n",
      "[4804896]\n",
      "[800816]\n",
      "[800816]\n",
      "/home/adrien/RemoteFS/Rivendel/Simulations/20230331/DC08_RF08_050eV/Try00/trj_SimuType4_01_N01024_Vrf0051_Udc0.2631D+01V_D1.0_S1.0RFG_Q10_x0_5.000E-06_50eV_GMol\n",
      "[4]\n",
      "[4]\n",
      "[800816]\n",
      "[800816]\n",
      "[4804896]\n",
      "[4804896]\n",
      "[800816]\n",
      "[800816]\n",
      "/home/adrien/RemoteFS/Rivendel/Simulations/20230331/DC08_RF08_050eV/Try00/trj_SimuType4_01_N01024_Vrf0051_Udc0.2631D+01V_D1.0_S1.0RFG_Q10_x0_1.000E-05_50eV_GMol\n",
      "[4]\n",
      "[4]\n",
      "[800816]\n",
      "[800816]\n",
      "[4804896]\n",
      "[4804896]\n",
      "[800816]\n",
      "[800816]\n",
      "/home/adrien/RemoteFS/Rivendel/Simulations/20230331/DC08_RF08_050eV/Try00/trj_SimuType4_01_N01024_Vrf0051_Udc0.2631D+01V_D1.0_S1.0RFG_Q10_x0_5.000E-05_50eV_GMol\n",
      "[4]\n",
      "[4]\n",
      "[800816]\n",
      "[800816]\n",
      "[4804896]\n",
      "[4804896]\n",
      "[800816]\n",
      "[800816]\n",
      "/home/adrien/RemoteFS/Rivendel/Simulations/20230331/DC08_RF08_050eV/Try00/trj_SimuType4_01_N01024_Vrf0051_Udc0.2631D+01V_D1.0_S1.0RFG_Q10_x0_7.500E-05_50eV_GMol\n",
      "[4]\n",
      "[4]\n",
      "[800816]\n",
      "[800816]\n",
      "[4804896]\n",
      "[4804896]\n",
      "[800816]\n",
      "[800816]\n",
      "/home/adrien/RemoteFS/Rivendel/Simulations/20230331/DC08_RF08_050eV/Try00/trj_SimuType4_01_N01024_Vrf0051_Udc0.2631D+01V_D1.0_S1.0RFG_Q10_x0_1.000E-04_50eV_GMol\n",
      "[4]\n",
      "[4]\n",
      "[800816]\n",
      "[800816]\n",
      "[4804896]\n",
      "[4804896]\n",
      "[800816]\n",
      "[800816]\n"
     ]
    }
   ],
   "source": [
    "time_gmol = []\n",
    "trj_gmol = []\n",
    "steps_gmol = []\n",
    "\n",
    "for i,j in enumerate(x0_list):\n",
    "#     file_name_SimuType4_trjGMol\n",
    "    str_x0 = f'{j:.3E}'\n",
    "    tmp = [x for x in file_name_SimuType4_trjGMol if str_x0 in x][0].strip('.bin')\n",
    "    str_load = f'{file_path}/{tmp}'\n",
    "\n",
    "    print(str_load)\n",
    "    # steps, t_act_gmol, Ep_gmol, trj_gmol = load_trj_GMol(str_load)\n",
    "    j_save_temp, steps, jmax, t_act_gmol, trj_gmol_tmp, Ep_gmol = load_trj_GMol(str_load)\n",
    "    trj_gmol.append( reshape(trj_gmol_tmp,(6,(jmax[0]+2)),order='F') )\n",
    "    time_gmol.append( t_act_gmol )\n",
    "    steps_gmol.append( steps[0] )"
   ]
  },
  {
   "cell_type": "code",
   "execution_count": 74,
   "id": "7ca45293",
   "metadata": {},
   "outputs": [],
   "source": [
    "figname = 'GMol_trajectory_xz'\n",
    "fig = plt.figure(figname,clear='True')\n",
    "# fig.set_size_inches(11.69,8.27)\n",
    "ax = fig.add_subplot(111)\n",
    "# subplot(211)\n",
    "# to_plot = xva_SimuTypeQ\n",
    "# ax.plot(to_plot[2,:]*1e3,to_plot[0,:]*1e6,'8',color='xkcd:purplish blue')\n",
    "\n",
    "for k in range(len(file_name_SimuType4_trjGMol)):\n",
    "    ax.plot(trj_gmol[k][2][:steps_gmol[k]]*1e6,trj_gmol[k][0][:steps_gmol[k]]*1e9-x0_list[k]*1e9, # -x0_list[k]*1e9\n",
    "         '+',label=x0_list[k]*1e6,color=cmap_turbo(((k)/6)))\n",
    "    \n",
    "ax.grid()\n",
    "ax.set_xlabel('z [µm]')\n",
    "ax.set_ylabel('x-$x_0$ [nm]')\n",
    "# xlim(-255,-181)\n",
    "# ylim(-1500,17500)\n",
    "ax.legend(title='$x_0$ [µm]',fontsize=15,ncol=2)\n",
    "tight_layout()\n",
    "plt.savefig(figname+'_50eV.png',dpi=300)"
   ]
  },
  {
   "cell_type": "code",
   "execution_count": 75,
   "id": "d76b3f97",
   "metadata": {},
   "outputs": [],
   "source": [
    "figname = 'GMol_trajectory_yz'\n",
    "fig = plt.figure(figname,clear='True')\n",
    "fig.set_size_inches(11.69,8.27)\n",
    "ax = fig.add_subplot(111)\n",
    "for k in range(len(file_name_SimuType4_trjGMol)):\n",
    "    ax.plot(trj_gmol[k][2][:steps_gmol[k]]*1e6,trj_gmol[k][1][:steps_gmol[k]]*1e9, # -x0_list[k]*1e9\n",
    "         '+',label=x0_list[k]*1e6,color=cmap_turbo((k/6)))\n",
    "ax.grid()\n",
    "ax.set_xlabel('z [µm]')\n",
    "ax.set_ylabel('y [nm]')\n",
    "# xlim(-255,-181)\n",
    "# ylim(-72,72)\n",
    "ax.legend(title='$x_0$ [µm]',fontsize=15,ncol=2)\n",
    "tight_layout()\n",
    "plt.savefig(figname+'_50eV.png',dpi=300)"
   ]
  },
  {
   "cell_type": "code",
   "execution_count": 43,
   "id": "2773851a",
   "metadata": {},
   "outputs": [],
   "source": [
    "figname = 'GMol_trajectory_xy'\n",
    "fig = plt.figure(figname,clear='True')\n",
    "fig.set_size_inches(11.69,8.27)\n",
    "ax = fig.add_subplot(111)\n",
    "for k in range(len(file_name_SimuType4_trjGMol)):\n",
    "    ax.plot(trj_gmol[k][0][:steps_gmol[k]]*1e9,trj_gmol[k][1][:steps_gmol[k]]*1e9, # -x0_list[k]*1e9\n",
    "         '+',label=x0_list[k]*1e6)\n",
    "ax.grid()\n",
    "ax.set_xlabel('x [nm]')\n",
    "ax.set_ylabel('y [nm]')\n",
    "# xlim(-255,-181)\n",
    "# ylim(-72,72)\n",
    "ax.legend(title='$x_0$ [µm]',fontsize=15,ncol=2)\n",
    "tight_layout()\n",
    "# plt.savefig(figname+'.png',dpi=300)"
   ]
  },
  {
   "cell_type": "code",
   "execution_count": 81,
   "id": "c2ef65de",
   "metadata": {},
   "outputs": [],
   "source": [
    "figname = 'GMol_velocity_z'\n",
    "fig = plt.figure(figname,clear='True')\n",
    "fig.set_size_inches(11.69,8.27)\n",
    "ax = fig.add_subplot(111)\n",
    "# subplot(211)\n",
    "for k in range(len(file_name_SimuType4_trjGMol)):\n",
    "    ax.plot(trj_gmol[k][2][:steps_gmol[k]]*1e6,trj_gmol[k][5][:steps_gmol[k]],\n",
    "         '',label=x0_list[k]*1e6,color=cmap_turbo((k/6))) # ,color=cmap(k/5)\n",
    "ax.grid()\n",
    "ax.set_xlabel('z [µm]')\n",
    "ax.set_ylabel('$v_z$ [m/s]')\n",
    "ax.legend(title='$x_0$ [µm]',fontsize=15,ncol=2)\n",
    "ax.set_xlim(-500,500)\n",
    "ax.set_ylim(97.75,98.17)\n",
    "tight_layout()\n",
    "plt.savefig(figname+'_zoom_50eV.png',dpi=300)"
   ]
  },
  {
   "cell_type": "code",
   "execution_count": 82,
   "id": "d5d70473",
   "metadata": {},
   "outputs": [
    {
     "name": "stdout",
     "output_type": "stream",
     "text": [
      "[-0.14797648352826043, -0.14070942180835963, -0.1331791481843398, -0.19278536121147755, -0.07924839002804082, -0.020438321572911294, -0.005080762342714484]\n"
     ]
    }
   ],
   "source": [
    "m_GM = 1e6*1.66054e-27 # la masse de la GMol\n",
    "C_e = 1.602e-19        # Coulomb\n",
    "\n",
    "DeltaE = []\n",
    "for k in range(len(file_name_SimuType4_trjGMol)):\n",
    "    v_i = sqrt( trj_gmol[k][3][0]**2+trj_gmol[k][4][0]**2+trj_gmol[k][5][0]**2 )\n",
    "    v_f = sqrt( trj_gmol[k][3][steps_gmol[k]-1]**2  +\n",
    "               trj_gmol[k][4][steps_gmol[k]-1]**2 +\n",
    "               trj_gmol[k][5][steps_gmol[k]-1]**2 )\n",
    "    DeltaE.append( 0.5*m_GM*(v_f**2-v_i**2) / C_e )\n",
    "print(DeltaE)"
   ]
  },
  {
   "cell_type": "code",
   "execution_count": 56,
   "id": "6dc92063",
   "metadata": {},
   "outputs": [],
   "source": [
    "def my_lin_fit(x,a,b):\n",
    "    return a*x+b    "
   ]
  },
  {
   "cell_type": "code",
   "execution_count": 84,
   "id": "39b26a07",
   "metadata": {},
   "outputs": [],
   "source": [
    "# popt,pcov = curve_fit(my_lin_fit,\n",
    "#                       x0_list,\n",
    "#                       DeltaE)\n",
    "\n",
    "figname = 'delta_E_vs_x0'\n",
    "figure(figname,clear=True)\n",
    "plot(multiply(x0_list,1e6),DeltaE,\n",
    "     marker='P',ls='',ms=12,color='xkcd:rouge')\n",
    "# plot(linspace(0,20*1e-6,50),my_lin_fit(linspace(0,20*1e-6,50),*popt),label='lin. fit')\n",
    "text(22,-0.042,'Q=10,E=50 eV')\n",
    "grid()\n",
    "xlabel('$x_0$ [µm]')\n",
    "ylabel('$\\Delta E$ [eV]')\n",
    "# legend()\n",
    "tight_layout()\n",
    "savefig(figname+'_50eV.png',dpi=300)"
   ]
  }
 ],
 "metadata": {
  "kernelspec": {
   "display_name": "Python 3 (ipykernel)",
   "language": "python",
   "name": "python3"
  },
  "language_info": {
   "codemirror_mode": {
    "name": "ipython",
    "version": 3
   },
   "file_extension": ".py",
   "mimetype": "text/x-python",
   "name": "python",
   "nbconvert_exporter": "python",
   "pygments_lexer": "ipython3",
   "version": "3.10.6"
  }
 },
 "nbformat": 4,
 "nbformat_minor": 5
}
